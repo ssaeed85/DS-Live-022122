{
 "cells": [
  {
   "cell_type": "markdown",
   "metadata": {},
   "source": [
    "# NN by Hand"
   ]
  },
  {
   "cell_type": "code",
   "execution_count": 1,
   "metadata": {
    "ExecuteTime": {
     "end_time": "2022-05-03T18:54:24.551174Z",
     "start_time": "2022-05-03T18:54:23.776997Z"
    }
   },
   "outputs": [],
   "source": [
    "import numpy as np\n",
    "from sklearn.datasets import make_regression\n",
    "from sklearn.linear_model import LinearRegression\n",
    "from sklearn.metrics import mean_squared_error as mse"
   ]
  },
  {
   "cell_type": "markdown",
   "metadata": {},
   "source": [
    "We're going to make a very simple neural network by hand.\n",
    "\n",
    "Let's imagine that we have just a five-neuron network: two input neurons, two hidden-layer neurons, and a single output neuron.\n",
    "\n",
    "We'll start by giving ourselves a regression problem."
   ]
  },
  {
   "cell_type": "code",
   "execution_count": 2,
   "metadata": {
    "ExecuteTime": {
     "end_time": "2022-05-03T18:54:24.598480Z",
     "start_time": "2022-05-03T18:54:24.584181Z"
    }
   },
   "outputs": [],
   "source": [
    "X, y = make_regression(n_features=2,\n",
    "                       n_informative=1,\n",
    "                       noise=100,\n",
    "                       random_state=42)"
   ]
  },
  {
   "cell_type": "markdown",
   "metadata": {},
   "source": [
    "Let's first check to see how a vanilla linear regression model does:"
   ]
  },
  {
   "cell_type": "code",
   "execution_count": 3,
   "metadata": {
    "ExecuteTime": {
     "end_time": "2022-05-03T18:54:25.676390Z",
     "start_time": "2022-05-03T18:54:25.659385Z"
    },
    "scrolled": true
   },
   "outputs": [
    {
     "data": {
      "text/plain": [
       "0.4144461358278726"
      ]
     },
     "execution_count": 3,
     "metadata": {},
     "output_type": "execute_result"
    }
   ],
   "source": [
    "simple_lr = LinearRegression().fit(X, y)\n",
    "\n",
    "simple_lr.score(X, y)"
   ]
  },
  {
   "cell_type": "code",
   "execution_count": 4,
   "metadata": {
    "ExecuteTime": {
     "end_time": "2022-05-03T18:54:25.894039Z",
     "start_time": "2022-05-03T18:54:25.875983Z"
    }
   },
   "outputs": [
    {
     "data": {
      "text/plain": [
       "101.32961290191164"
      ]
     },
     "execution_count": 4,
     "metadata": {},
     "output_type": "execute_result"
    }
   ],
   "source": [
    "mse(y, simple_lr.predict(X), squared=False)"
   ]
  },
  {
   "cell_type": "markdown",
   "metadata": {},
   "source": [
    "## Input Neurons"
   ]
  },
  {
   "cell_type": "markdown",
   "metadata": {},
   "source": [
    "We have just two features, so we'll have two input neurons."
   ]
  },
  {
   "cell_type": "code",
   "execution_count": 5,
   "metadata": {
    "ExecuteTime": {
     "end_time": "2022-05-03T18:55:07.015424Z",
     "start_time": "2022-05-03T18:55:06.998420Z"
    }
   },
   "outputs": [],
   "source": [
    "n_samples = X.shape[0]\n",
    "n_features = X.shape[1]\n",
    "\n",
    "# Initial inputs\n",
    "input1 = X[:, 0].reshape(-1, 1)\n",
    "input2 = X[:, 1].reshape(-1, 1)"
   ]
  },
  {
   "cell_type": "markdown",
   "metadata": {},
   "source": [
    "## Weights for the Connections Between the Input Neurons and the Hidden Neurons"
   ]
  },
  {
   "cell_type": "markdown",
   "metadata": {},
   "source": [
    "We'll just start by setting our weights randomly. The idea will be that we'll be able to use gradient descent to improve their values during network training."
   ]
  },
  {
   "cell_type": "code",
   "execution_count": 14,
   "metadata": {
    "ExecuteTime": {
     "end_time": "2022-05-03T18:57:27.613187Z",
     "start_time": "2022-05-03T18:57:27.609185Z"
    }
   },
   "outputs": [],
   "source": [
    "# Four weights to optimize for between input\n",
    "# and hidden layers\n",
    "\n",
    "# For simplicity let's assume biases of 0\n",
    "# throughout\n",
    "\n",
    "np.random.seed(42)\n",
    "\n",
    "in_hid_weights1 = np.random.rand(2)\n",
    "in_hid_weights2 = np.random.rand(2)"
   ]
  },
  {
   "cell_type": "code",
   "execution_count": 15,
   "metadata": {
    "ExecuteTime": {
     "end_time": "2022-05-03T18:57:28.020272Z",
     "start_time": "2022-05-03T18:57:28.006269Z"
    }
   },
   "outputs": [
    {
     "data": {
      "text/plain": [
       "array([0.37454012, 0.95071431])"
      ]
     },
     "execution_count": 15,
     "metadata": {},
     "output_type": "execute_result"
    }
   ],
   "source": [
    "in_hid_weights1"
   ]
  },
  {
   "cell_type": "markdown",
   "metadata": {},
   "source": [
    "## Hidden Neurons"
   ]
  },
  {
   "cell_type": "markdown",
   "metadata": {},
   "source": [
    "Each neuron in the hidden layer will take the two inputs and multiply them by a unique set of weights:"
   ]
  },
  {
   "cell_type": "code",
   "execution_count": 16,
   "metadata": {
    "ExecuteTime": {
     "end_time": "2022-05-03T18:57:29.014786Z",
     "start_time": "2022-05-03T18:57:28.998782Z"
    }
   },
   "outputs": [],
   "source": [
    "in1_to_hid = (np.sum(np.product(np.array([in_hid_weights1, X], dtype=object), axis=0), axis=1)).reshape(-1, 1)\n",
    "in2_to_hid = (np.sum(np.product(np.array([in_hid_weights2, X], dtype=object), axis=0), axis=1)).reshape(-1, 1)"
   ]
  },
  {
   "cell_type": "markdown",
   "metadata": {},
   "source": [
    "For simplicity let's assume a **linear activation function**, $f(x)=x$, in the hidden nodes."
   ]
  },
  {
   "cell_type": "markdown",
   "metadata": {},
   "source": [
    "## Weights for the Connections Between the Hidden Neurons and the Output Neuron"
   ]
  },
  {
   "cell_type": "markdown",
   "metadata": {},
   "source": [
    "Again we'll just set our weights randomly. Here there will be two weights: one governing the connection between each hidden neuron and the output neuron."
   ]
  },
  {
   "cell_type": "code",
   "execution_count": 17,
   "metadata": {
    "ExecuteTime": {
     "end_time": "2022-05-03T18:57:31.729205Z",
     "start_time": "2022-05-03T18:57:31.709275Z"
    }
   },
   "outputs": [],
   "source": [
    "np.random.seed(42)\n",
    "\n",
    "hid_out_weights = np.random.rand(2)"
   ]
  },
  {
   "cell_type": "code",
   "execution_count": 18,
   "metadata": {
    "ExecuteTime": {
     "end_time": "2022-05-03T18:57:31.854220Z",
     "start_time": "2022-05-03T18:57:31.844218Z"
    }
   },
   "outputs": [
    {
     "data": {
      "text/plain": [
       "array([0.37454012, 0.95071431])"
      ]
     },
     "execution_count": 18,
     "metadata": {},
     "output_type": "execute_result"
    }
   ],
   "source": [
    "hid_out_weights"
   ]
  },
  {
   "cell_type": "markdown",
   "metadata": {},
   "source": [
    "## Output Neuron"
   ]
  },
  {
   "cell_type": "markdown",
   "metadata": {},
   "source": [
    "Now we need to take the contribution from each hidden neuron and create a linear sum with the predetermined weights, just as above in the hidden neurons."
   ]
  },
  {
   "cell_type": "code",
   "execution_count": 19,
   "metadata": {
    "ExecuteTime": {
     "end_time": "2022-05-03T18:58:43.129325Z",
     "start_time": "2022-05-03T18:58:43.127325Z"
    }
   },
   "outputs": [],
   "source": [
    "joint_to_out = np.hstack((in1_to_hid, in2_to_hid))"
   ]
  },
  {
   "cell_type": "code",
   "execution_count": 20,
   "metadata": {
    "ExecuteTime": {
     "end_time": "2022-05-03T18:58:43.346662Z",
     "start_time": "2022-05-03T18:58:43.334659Z"
    }
   },
   "outputs": [],
   "source": [
    "output = (np.sum(np.product([hid_out_weights, joint_to_out], axis=0), axis=1)).reshape(-1, 1)"
   ]
  },
  {
   "cell_type": "code",
   "execution_count": 21,
   "metadata": {
    "ExecuteTime": {
     "end_time": "2022-05-03T18:58:43.505048Z",
     "start_time": "2022-05-03T18:58:43.497046Z"
    },
    "scrolled": true
   },
   "outputs": [
    {
     "data": {
      "text/plain": [
       "array([[-1.57272464e+00],\n",
       "       [ 7.11226455e-01],\n",
       "       [-1.49862494e+00],\n",
       "       [-5.96847633e-01],\n",
       "       [ 7.76059576e-01],\n",
       "       [ 2.29548719e+00],\n",
       "       [ 1.65133936e+00],\n",
       "       [ 1.72524154e+00],\n",
       "       [ 1.93427115e+00],\n",
       "       [ 4.73758412e-01],\n",
       "       [-2.03188529e+00],\n",
       "       [-2.10967462e+00],\n",
       "       [-7.72137446e-01],\n",
       "       [-2.12772094e-01],\n",
       "       [-4.12429881e-01],\n",
       "       [-1.17334383e+00],\n",
       "       [ 9.77399115e-01],\n",
       "       [-8.52929782e-02],\n",
       "       [-1.68197337e+00],\n",
       "       [ 8.68287914e-01],\n",
       "       [-8.18417602e-01],\n",
       "       [ 1.73874907e+00],\n",
       "       [ 2.03059025e+00],\n",
       "       [-3.82504497e-01],\n",
       "       [-4.58576319e-01],\n",
       "       [-3.88699290e-01],\n",
       "       [ 2.51741204e+00],\n",
       "       [-9.28483062e-01],\n",
       "       [-3.75296122e-01],\n",
       "       [ 2.87424280e-01],\n",
       "       [ 1.46723570e-01],\n",
       "       [-1.23322397e+00],\n",
       "       [-1.96261928e+00],\n",
       "       [ 1.99856207e+00],\n",
       "       [ 2.51173100e-01],\n",
       "       [-1.62900306e+00],\n",
       "       [ 1.95075423e+00],\n",
       "       [-9.68272326e-05],\n",
       "       [ 2.09491578e-01],\n",
       "       [-1.76223588e+00],\n",
       "       [-9.02575110e-01],\n",
       "       [-1.56790339e+00],\n",
       "       [-1.43017207e+00],\n",
       "       [ 9.96706060e-01],\n",
       "       [ 1.06962853e+00],\n",
       "       [-2.06599855e+00],\n",
       "       [-3.53745934e-01],\n",
       "       [-4.15875658e-01],\n",
       "       [-8.90219086e-01],\n",
       "       [-4.41755924e-01],\n",
       "       [ 1.01667584e+00],\n",
       "       [-1.14030285e+00],\n",
       "       [-9.87845274e-01],\n",
       "       [-4.50111877e-01],\n",
       "       [-2.94487516e-01],\n",
       "       [ 1.09421643e-01],\n",
       "       [-5.72462225e-01],\n",
       "       [-6.14849334e-01],\n",
       "       [-1.35224173e+00],\n",
       "       [ 1.18150063e-01],\n",
       "       [ 7.56290036e-01],\n",
       "       [ 6.65231587e-01],\n",
       "       [ 3.19082834e-02],\n",
       "       [-2.03863184e-01],\n",
       "       [ 2.32943929e+00],\n",
       "       [ 9.40682294e-01],\n",
       "       [-2.69889755e-01],\n",
       "       [ 2.38974829e-01],\n",
       "       [-2.25606612e+00],\n",
       "       [-1.34389168e+00],\n",
       "       [-8.67889851e-02],\n",
       "       [-9.52936589e-01],\n",
       "       [ 1.21064494e+00],\n",
       "       [-1.02887107e+00],\n",
       "       [ 1.72377101e+00],\n",
       "       [ 1.39961411e+00],\n",
       "       [-5.56174498e-01],\n",
       "       [ 5.30007079e-01],\n",
       "       [ 1.18749151e+00],\n",
       "       [-1.79937174e-01],\n",
       "       [ 3.28336303e-01],\n",
       "       [ 4.89152180e-01],\n",
       "       [-1.63850191e+00],\n",
       "       [-1.11032635e+00],\n",
       "       [-4.49077734e-01],\n",
       "       [ 2.44238162e+00],\n",
       "       [-9.73575032e-01],\n",
       "       [-9.89916283e-01],\n",
       "       [ 1.17960898e+00],\n",
       "       [ 1.35573106e+00],\n",
       "       [ 5.01322119e-01],\n",
       "       [-3.52582093e-01],\n",
       "       [ 1.46483090e-01],\n",
       "       [-1.26175832e+00],\n",
       "       [ 1.41770361e+00],\n",
       "       [-1.00884081e+00],\n",
       "       [-1.24027061e-01],\n",
       "       [-1.90236048e+00],\n",
       "       [ 5.92900303e-01],\n",
       "       [ 4.18994493e-01]])"
      ]
     },
     "execution_count": 21,
     "metadata": {},
     "output_type": "execute_result"
    }
   ],
   "source": [
    "output"
   ]
  },
  {
   "cell_type": "markdown",
   "metadata": {},
   "source": [
    "Again we'll assume a linear activation."
   ]
  },
  {
   "cell_type": "markdown",
   "metadata": {},
   "source": [
    "## Error Calculation"
   ]
  },
  {
   "cell_type": "markdown",
   "metadata": {},
   "source": [
    "Now we can compute a measure of error:"
   ]
  },
  {
   "cell_type": "code",
   "execution_count": 22,
   "metadata": {
    "ExecuteTime": {
     "end_time": "2022-05-03T18:59:02.601614Z",
     "start_time": "2022-05-03T18:59:02.590613Z"
    }
   },
   "outputs": [
    {
     "data": {
      "text/plain": [
       "131.92896944812944"
      ]
     },
     "execution_count": 22,
     "metadata": {},
     "output_type": "execute_result"
    }
   ],
   "source": [
    "output = output.flatten()\n",
    "\n",
    "np.sqrt(mse(y, output))"
   ]
  },
  {
   "cell_type": "markdown",
   "metadata": {},
   "source": [
    "### Backpropagation"
   ]
  },
  {
   "cell_type": "markdown",
   "metadata": {},
   "source": [
    "Now then: How do we make corrections to our weights to improve our model's performance? Our network looks like this:"
   ]
  },
  {
   "cell_type": "markdown",
   "metadata": {},
   "source": [
    "![nn](images/SimpleNN.png)"
   ]
  },
  {
   "cell_type": "markdown",
   "metadata": {},
   "source": [
    "Clearly our output is a function of these six weights. But what function, exactly?"
   ]
  },
  {
   "cell_type": "markdown",
   "metadata": {},
   "source": [
    "- In the top hidden node we construct: <br/> $H_1 = w_1X_1 + w_3X_2$ <br/> and in the bottom node we construct: <br/> $H_2 = w_2X_1 + w_4X_2$.\n",
    "<br/> <br/>\n",
    "- In the output node we construct: <br/> $\\hat{y} = w_5H_1 + w_6H_2$ <br/> i.e. <br/> $\\hat{y} = w_5(w_1X_1 + w_3X_2) + w_6(w_2X_1 + w_4X_2)$ <br/> or <br/> $\\hat{y} = X_1(w_1w_5 + w_2w_6) + X_2(w_3w_5 + w_4w_6)$."
   ]
  },
  {
   "cell_type": "markdown",
   "metadata": {},
   "source": [
    "#### Loss Function"
   ]
  },
  {
   "cell_type": "markdown",
   "metadata": {},
   "source": [
    "Our loss function (let's assume) is just $\\mathcal{L} = \\Sigma\\left(y - \\hat{y}\\right)^2$. What are the partial derivatives of this function?\n",
    "\n",
    "We have $\\mathcal{L} = \\Sigma\\left(y - [X_1(w_1w_5 + w_2w_6) + X_2(w_3w_5 + w_4w_6)]\\right)^2$.\n",
    "\n",
    "Therefore:\n",
    "\n",
    "- $\\frac{\\partial\\mathcal{L}}{\\partial w_1} = -2w_5X_1\\Sigma\\left(y - [X_1(w_1w_5 + w_2w_6) + X_2(w_3w_5 + w_4w_6)]\\right)$\n",
    "\n",
    "- $\\frac{\\partial\\mathcal{L}}{\\partial w_2} = -2w_6X_1\\Sigma\\left(y - [X_1(w_1w_5 + w_2w_6) + X_2(w_3w_5 + w_4w_6)]\\right)$\n",
    "\n",
    "- $\\frac{\\partial\\mathcal{L}}{\\partial w_3} = -2w_5X_2\\Sigma\\left(y - [X_1(w_1w_5 + w_2w_6) + X_2(w_3w_5 + w_4w_6)]\\right)$\n",
    "\n",
    "- $\\frac{\\partial\\mathcal{L}}{\\partial w_4} = -2w_6X_2\\Sigma\\left(y - [X_1(w_1w_5 + w_2w_6) + X_2(w_3w_5 + w_4w_6)]\\right)$\n",
    "\n",
    "- $\\frac{\\partial\\mathcal{L}}{\\partial w_5} = -2(w_1X_1 + w_3X_2)\\Sigma\\left(y - [X_1(w_1w_5 + w_2w_6) + X_2(w_3w_5 + w_4w_6)]\\right)$\n",
    "\n",
    "- $\\frac{\\partial\\mathcal{L}}{\\partial w_6} = -2(w_2X_1 + w_4X_2)\\Sigma\\left(y - [X_1(w_1w_5 + w_2w_6) + X_2(w_3w_5 + w_4w_6)]\\right)$"
   ]
  },
  {
   "cell_type": "markdown",
   "metadata": {},
   "source": [
    "So the goal now should just be to nudge each of our weights in (the opposites of) these directions."
   ]
  },
  {
   "cell_type": "markdown",
   "metadata": {},
   "source": [
    "Let's first isolate each of these six weights:"
   ]
  },
  {
   "cell_type": "code",
   "execution_count": 24,
   "metadata": {
    "ExecuteTime": {
     "end_time": "2022-05-03T19:01:29.038220Z",
     "start_time": "2022-05-03T19:01:29.022216Z"
    }
   },
   "outputs": [],
   "source": [
    "w1 = in_hid_weights1[0]\n",
    "w2 = in_hid_weights1[1]\n",
    "w3 = in_hid_weights2[0]\n",
    "w4 = in_hid_weights2[1]\n",
    "w5 = hid_out_weights[0]\n",
    "w6 = hid_out_weights[1]"
   ]
  },
  {
   "cell_type": "markdown",
   "metadata": {},
   "source": [
    "Let's build an SGD function that will adjust weights after each training sample runs through the network."
   ]
  },
  {
   "cell_type": "code",
   "execution_count": 25,
   "metadata": {
    "ExecuteTime": {
     "end_time": "2022-05-03T19:01:30.176976Z",
     "start_time": "2022-05-03T19:01:30.154969Z"
    }
   },
   "outputs": [],
   "source": [
    "def stoch_grad_desc(pred1=input1, pred2=input2, y=y,\n",
    "              w1=w1, w2=w2, w3=w3, w4=w4,\n",
    "              w5=w5, w6=w6, times_thru=1, lr=1e-4):\n",
    "\n",
    "    for k in range(times_thru):\n",
    "    \n",
    "        for j in range(pred1.shape[0]):\n",
    "            \n",
    "            in1_val = pred1[j]\n",
    "            in2_val = pred2[j]\n",
    "            \n",
    "            # This is stochastic gradient descent since we are updating\n",
    "            # our weights *after each data point* goes through the network.\n",
    "            \n",
    "            sum_ = y[j] - in1_val*(w1*w5 + w2*w6) - in2_val*(w3*w5 + w4*w6)\n",
    "\n",
    "            w5 += lr*(w1*in1_val + w3*in2_val)*sum_\n",
    "\n",
    "            w6 += lr*(w2*in1_val + w4*in2_val)*sum_\n",
    "\n",
    "            w1 += lr*w5*in1_val*sum_\n",
    "\n",
    "            w2 += lr*w6*in1_val*sum_\n",
    "\n",
    "            w3 += lr*w5*in2_val*sum_\n",
    "\n",
    "            w4 += lr*w6*in2_val*sum_\n",
    "            \n",
    "            output = pred1*(w1*w5 + w2*w6) + pred2*(w3*w5 + w4*w6)\n",
    "            \n",
    "            if j == 0 and k == 0:\n",
    "                print(f\"\"\"\n",
    "                After a single data point our RMSE is {np.sqrt(mse(y, output.flatten()))}\n",
    "                \"\"\")\n",
    "            \n",
    "        print(f\"\"\"\n",
    "                After {k+1} epochs our RMSE is {np.sqrt(mse(y, output.flatten()))}\n",
    "        \"\"\")\n",
    "        \n",
    "    return w1, w2, w3, w4, w5, w6"
   ]
  },
  {
   "cell_type": "code",
   "execution_count": 27,
   "metadata": {
    "ExecuteTime": {
     "end_time": "2022-05-03T19:01:41.147344Z",
     "start_time": "2022-05-03T19:01:41.103331Z"
    }
   },
   "outputs": [
    {
     "name": "stdout",
     "output_type": "stream",
     "text": [
      "\n",
      "                After a single data point our RMSE is 131.80677685986092\n",
      "                \n",
      "\n",
      "                After 1 epochs our RMSE is 129.8450062254458\n",
      "        \n",
      "\n",
      "                After 2 epochs our RMSE is 123.33196509825842\n",
      "        \n",
      "\n",
      "                After 3 epochs our RMSE is 111.44619152943271\n",
      "        \n",
      "\n",
      "                After 4 epochs our RMSE is 104.25314828273383\n",
      "        \n",
      "\n",
      "                After 5 epochs our RMSE is 102.76034914846261\n",
      "        \n",
      "\n",
      "                After 6 epochs our RMSE is 102.5274133085436\n",
      "        \n",
      "\n",
      "                After 7 epochs our RMSE is 102.4826312820945\n",
      "        \n",
      "\n",
      "                After 8 epochs our RMSE is 102.47266616813569\n",
      "        \n",
      "\n",
      "                After 9 epochs our RMSE is 102.47039865052817\n",
      "        \n",
      "\n",
      "                After 10 epochs our RMSE is 102.46999937196728\n",
      "        \n"
     ]
    },
    {
     "data": {
      "text/plain": [
       "(array([4.00270846]),\n",
       " array([9.22106828]),\n",
       " array([0.83864011]),\n",
       " array([0.78719338]),\n",
       " array([3.59423836]),\n",
       " array([8.27290835]))"
      ]
     },
     "execution_count": 27,
     "metadata": {},
     "output_type": "execute_result"
    }
   ],
   "source": [
    "stoch_grad_desc(times_thru=10)"
   ]
  },
  {
   "cell_type": "markdown",
   "metadata": {},
   "source": [
    "## Easy Regression Problem"
   ]
  },
  {
   "cell_type": "markdown",
   "metadata": {},
   "source": [
    "Our error has decreased with more epochs, but to illustrate the full power of our network let's see if it can find the right coefficients for an \"easy\" problem where there is a strong correlation between both of two input features and the target."
   ]
  },
  {
   "cell_type": "code",
   "execution_count": 29,
   "metadata": {
    "ExecuteTime": {
     "end_time": "2022-05-03T19:04:18.442061Z",
     "start_time": "2022-05-03T19:04:18.430029Z"
    }
   },
   "outputs": [],
   "source": [
    "# Setting up the problem\n",
    "\n",
    "X_easy, y_easy = make_regression(n_features=2, n_informative=2, random_state=42)"
   ]
  },
  {
   "cell_type": "code",
   "execution_count": 30,
   "metadata": {
    "ExecuteTime": {
     "end_time": "2022-05-03T19:04:18.924942Z",
     "start_time": "2022-05-03T19:04:18.918941Z"
    }
   },
   "outputs": [],
   "source": [
    "# Again defining weights randomly. We'll be using the same network, so we need\n",
    "# six weights.\n",
    "\n",
    "np.random.seed(42)\n",
    "\n",
    "w_easy = np.random.rand(6)"
   ]
  },
  {
   "cell_type": "code",
   "execution_count": 43,
   "metadata": {
    "ExecuteTime": {
     "end_time": "2022-05-03T19:11:21.221164Z",
     "start_time": "2022-05-03T19:11:21.205161Z"
    }
   },
   "outputs": [
    {
     "name": "stdout",
     "output_type": "stream",
     "text": [
      "\n",
      "                After a single data point our RMSE is 105.2827433708648\n",
      "                \n",
      "\n",
      "                After 1 epochs our RMSE is 0.0003058349135338318\n",
      "        \n",
      "\n",
      "                After 2 epochs our RMSE is 5.040642635748519e-09\n",
      "        \n",
      "\n",
      "                After 3 epochs our RMSE is 1.2706912599150398e-13\n",
      "        \n"
     ]
    },
    {
     "data": {
      "text/plain": [
       "(6.556340807199361,\n",
       " 10.75555705679945,\n",
       " 6.914105827696129,\n",
       " 7.997420739574159,\n",
       " 4.334717820507707,\n",
       " 5.515048597227902)"
      ]
     },
     "execution_count": 43,
     "metadata": {},
     "output_type": "execute_result"
    }
   ],
   "source": [
    "# Applying our stoch_grad_desc() function\n",
    "\n",
    "final_weights = stoch_grad_desc(pred1=X_easy[:, 0], pred2=X_easy[:, 1], y=y_easy,\n",
    "         w1=w_easy[0], w2=w_easy[1], w3=w_easy[2],\n",
    "         w4=w_easy[3], w5=w_easy[4], w6=w_easy[5],\n",
    "         lr=4e-3, times_thru=3)\n",
    "final_weights"
   ]
  },
  {
   "cell_type": "markdown",
   "metadata": {},
   "source": [
    "Wow! Look how small our error is after just three epochs!"
   ]
  },
  {
   "cell_type": "markdown",
   "metadata": {},
   "source": [
    "### Comparing with `LinearRegression()`"
   ]
  },
  {
   "cell_type": "markdown",
   "metadata": {},
   "source": [
    "We can translate these final weight values into $\\beta_1$ and $\\beta_2$ for a traditional linear regression $\\hat{y} = \\beta_1X_1 + \\beta_2X_2$.\n",
    "\n",
    "Above we calculated $\\hat{y} = X_1(w_1w_5 + w_2w_6) + X_2(w_3w_5 + w_4w_6)$.\n",
    "\n",
    "Thus we have:\n",
    "\n",
    "- $\\beta_1 = w_1w_5 + w_2w_6$, and\n",
    "- $\\beta_2 = w_3w_5 + w_4w_6$."
   ]
  },
  {
   "cell_type": "markdown",
   "metadata": {},
   "source": [
    "Plugging these in for our final calculated weights we have:"
   ]
  },
  {
   "cell_type": "code",
   "execution_count": 44,
   "metadata": {
    "ExecuteTime": {
     "end_time": "2022-05-03T19:11:22.053848Z",
     "start_time": "2022-05-03T19:11:22.039819Z"
    }
   },
   "outputs": [
    {
     "name": "stdout",
     "output_type": "stream",
     "text": [
      "Our mini-NN found coefficients of 87.73730719279541 and 74.07686177542038.\n"
     ]
    }
   ],
   "source": [
    "beta1 = final_weights[0]*final_weights[4] + final_weights[1]*final_weights[5]\n",
    "beta2 = final_weights[2]*final_weights[4] + final_weights[3]*final_weights[5]\n",
    "print(f\"Our mini-NN found coefficients of {beta1} and {beta2}.\")"
   ]
  },
  {
   "cell_type": "markdown",
   "metadata": {},
   "source": [
    "Let's compare these numbers with the results of `LinearRegression()`:"
   ]
  },
  {
   "cell_type": "code",
   "execution_count": 45,
   "metadata": {
    "ExecuteTime": {
     "end_time": "2022-05-03T19:11:23.003335Z",
     "start_time": "2022-05-03T19:11:22.989329Z"
    }
   },
   "outputs": [
    {
     "data": {
      "text/plain": [
       "array([87.73730719, 74.07686178])"
      ]
     },
     "execution_count": 45,
     "metadata": {},
     "output_type": "execute_result"
    }
   ],
   "source": [
    "LinearRegression(fit_intercept=False).fit(X_easy, y_easy).coef_"
   ]
  },
  {
   "cell_type": "markdown",
   "metadata": {},
   "source": [
    "Our little neural network, which has:\n",
    "- only five neurons;\n",
    "- randomly generated initial weights;\n",
    "- only linear activation functions; and\n",
    "- all biases set to 0\n",
    "\n",
    "can do the same job as a linear regression after just a couple of epochs!"
   ]
  },
  {
   "cell_type": "code",
   "execution_count": null,
   "metadata": {},
   "outputs": [],
   "source": []
  }
 ],
 "metadata": {
  "kernelspec": {
   "display_name": "Python (learn-env)",
   "language": "python",
   "name": "learn-env"
  },
  "language_info": {
   "codemirror_mode": {
    "name": "ipython",
    "version": 3
   },
   "file_extension": ".py",
   "mimetype": "text/x-python",
   "name": "python",
   "nbconvert_exporter": "python",
   "pygments_lexer": "ipython3",
   "version": "3.8.5"
  },
  "toc": {
   "base_numbering": 1,
   "nav_menu": {},
   "number_sections": true,
   "sideBar": true,
   "skip_h1_title": false,
   "title_cell": "Table of Contents",
   "title_sidebar": "Contents",
   "toc_cell": false,
   "toc_position": {},
   "toc_section_display": true,
   "toc_window_display": false
  },
  "varInspector": {
   "cols": {
    "lenName": 16,
    "lenType": 16,
    "lenVar": 40
   },
   "kernels_config": {
    "python": {
     "delete_cmd_postfix": "",
     "delete_cmd_prefix": "del ",
     "library": "var_list.py",
     "varRefreshCmd": "print(var_dic_list())"
    },
    "r": {
     "delete_cmd_postfix": ") ",
     "delete_cmd_prefix": "rm(",
     "library": "var_list.r",
     "varRefreshCmd": "cat(var_dic_list()) "
    }
   },
   "position": {
    "height": "144.83px",
    "left": "486.182px",
    "right": "20px",
    "top": "122px",
    "width": "350px"
   },
   "types_to_exclude": [
    "module",
    "function",
    "builtin_function_or_method",
    "instance",
    "_Feature"
   ],
   "window_display": false
  }
 },
 "nbformat": 4,
 "nbformat_minor": 4
}
