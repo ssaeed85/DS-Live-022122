{
 "cells": [
  {
   "cell_type": "markdown",
   "metadata": {},
   "source": [
    "# Recommender Systems"
   ]
  },
  {
   "cell_type": "code",
   "execution_count": 1,
   "metadata": {
    "ExecuteTime": {
     "end_time": "2022-04-25T18:24:10.545708Z",
     "start_time": "2022-04-25T18:24:09.557382Z"
    }
   },
   "outputs": [],
   "source": [
    "from random import gauss as gs, uniform as uni, seed\n",
    "import numpy as np\n",
    "import pandas as pd\n",
    "from sklearn.linear_model import LinearRegression"
   ]
  },
  {
   "cell_type": "markdown",
   "metadata": {},
   "source": [
    "![Netflix](https://miro.medium.com/max/1400/1*jlQxemlP9Yim_rWTqlCFDQ.png)"
   ]
  },
  {
   "cell_type": "markdown",
   "metadata": {},
   "source": [
    "![Amazon](images/amazon_recommender.png)"
   ]
  },
  {
   "cell_type": "markdown",
   "metadata": {},
   "source": [
    "## Agenda"
   ]
  },
  {
   "cell_type": "markdown",
   "metadata": {},
   "source": [
    "- describe the difference between content-based and collaborative-filtering algorithms\n",
    "- explain and use the cosine similarity metric\n",
    "- describe the algorithm of alternating least-squares"
   ]
  },
  {
   "cell_type": "markdown",
   "metadata": {},
   "source": [
    "## Intro"
   ]
  },
  {
   "cell_type": "markdown",
   "metadata": {},
   "source": [
    "Recommender systems can be classified along various lines. One fundamental distinction is **content-based** vs. **collaborative-filtering** systems.\n",
    "\n",
    "To illustrate this, consider two different strategies: (a) I recommend items to you that are *similar to other items* you've used/bought/read/watched; and (b) I recommend items to you that people *similar to you* have used/bought/read/watched. The first is the **content-based strategy**; the second is the **collaborative-filtering strategy**. \n",
    "\n",
    "Another distinction drawn is in whether (a) the system uses existing ratings to compute user-user or item-item similarity, or (b) the system uses machine learning techniques to make predictions. Recommenders of the first sort are called **memory-based**; recommenders of the second sort are called **model-based**."
   ]
  },
  {
   "cell_type": "markdown",
   "metadata": {},
   "source": [
    "## Content-Based Systems"
   ]
  },
  {
   "cell_type": "markdown",
   "metadata": {},
   "source": [
    "The basic idea here is to recommend items to a user that are *similar to* items that the user has already enjoyed. Suppose we represent TV shows as rows, where the columns represent various features of these TV shows. These features might be things like the presence of a certain actor or the show fitting into a particular genre etc. We'll just use binary features here, perhaps the result of some one-hot encoding:"
   ]
  },
  {
   "cell_type": "code",
   "execution_count": 2,
   "metadata": {
    "ExecuteTime": {
     "end_time": "2022-04-25T18:24:14.065809Z",
     "start_time": "2022-04-25T18:24:14.053807Z"
    }
   },
   "outputs": [
    {
     "data": {
      "text/plain": [
       "array([[0, 1, 1, 0, 1, 1, 1],\n",
       "       [0, 0, 0, 1, 1, 1, 0],\n",
       "       [1, 1, 1, 0, 0, 1, 1],\n",
       "       [0, 1, 1, 1, 0, 0, 1]])"
      ]
     },
     "execution_count": 2,
     "metadata": {},
     "output_type": "execute_result"
    }
   ],
   "source": [
    "tv_shows = np.array([[0, 1, 1, 0, 1, 1, 1],\n",
    "                   [0, 0, 0, 1, 1, 1, 0],\n",
    "                   [1, 1, 1, 0, 0, 1, 1],\n",
    "                   [0, 1, 1, 1, 0, 0, 1]])\n",
    "\n",
    "tv_shows"
   ]
  },
  {
   "cell_type": "markdown",
   "metadata": {},
   "source": [
    "Bob likes the TV Show represented by Row \\#1. Which show (row) should we recommend to Bob?\n",
    "\n",
    "One natural way of measuring the similarity between two vectors is by the **cosine of the angle between them**. Two points near one another in feature space will correspond to vectors that nearly overlap, i.e. vectors that describe a small angle $\\theta$. And as $\\theta$ decreases, $\\cos(\\theta)$ *increases*. So we'll be looking for large values of the cosine (which ranges between -1 and 1). We can also think of the cosine between two vectors as the *projection of one vector onto the other*:\n",
    "\n",
    "![image.png](https://www.oreilly.com/library/view/statistics-for-machine/9781788295758/assets/2b4a7a82-ad4c-4b2a-b808-e423a334de6f.png)\n",
    "\n",
    "We can use this metric easily if we treat our rows (the items we're comparing for similarity) as vectors: We can calculate the cosine of the angle $\\theta$ between two vectors $\\vec{a}$ and $\\vec{b}$ as follows: $\\cos(\\theta) = \\frac{\\vec{a}\\cdot\\vec{b}}{|\\vec{a}||\\vec{b}|}$"
   ]
  },
  {
   "cell_type": "code",
   "execution_count": 3,
   "metadata": {
    "ExecuteTime": {
     "end_time": "2022-04-25T18:25:02.051348Z",
     "start_time": "2022-04-25T18:25:02.037337Z"
    }
   },
   "outputs": [],
   "source": [
    "numerators = np.array([tv_shows[0].dot(tv_show) for tv_show in tv_shows[1:]])"
   ]
  },
  {
   "cell_type": "code",
   "execution_count": 4,
   "metadata": {
    "ExecuteTime": {
     "end_time": "2022-04-25T18:25:02.766639Z",
     "start_time": "2022-04-25T18:25:02.758636Z"
    }
   },
   "outputs": [
    {
     "data": {
      "text/plain": [
       "array([2, 4, 3])"
      ]
     },
     "execution_count": 4,
     "metadata": {},
     "output_type": "execute_result"
    }
   ],
   "source": [
    "numerators"
   ]
  },
  {
   "cell_type": "code",
   "execution_count": 5,
   "metadata": {
    "ExecuteTime": {
     "end_time": "2022-04-25T18:25:03.656626Z",
     "start_time": "2022-04-25T18:25:03.652625Z"
    }
   },
   "outputs": [],
   "source": [
    "denominators = np.array(\n",
    "    [(np.linalg.norm(tv_shows[0]) * np.linalg.norm(tv_show)) for tv_show in tv_shows[1:]]\n",
    ")"
   ]
  },
  {
   "cell_type": "code",
   "execution_count": 6,
   "metadata": {
    "ExecuteTime": {
     "end_time": "2022-04-25T18:25:05.307520Z",
     "start_time": "2022-04-25T18:25:05.300518Z"
    }
   },
   "outputs": [
    {
     "data": {
      "text/plain": [
       "array([3.87298335, 5.        , 4.47213595])"
      ]
     },
     "execution_count": 6,
     "metadata": {},
     "output_type": "execute_result"
    }
   ],
   "source": [
    "denominators"
   ]
  },
  {
   "cell_type": "code",
   "execution_count": 7,
   "metadata": {
    "ExecuteTime": {
     "end_time": "2022-04-25T18:25:05.491635Z",
     "start_time": "2022-04-25T18:25:05.477631Z"
    }
   },
   "outputs": [
    {
     "data": {
      "text/plain": [
       "array([0.51639778, 0.8       , 0.67082039])"
      ]
     },
     "execution_count": 7,
     "metadata": {},
     "output_type": "execute_result"
    }
   ],
   "source": [
    "numerators / denominators"
   ]
  },
  {
   "cell_type": "markdown",
   "metadata": {},
   "source": [
    "Since the cosine similarity to Row \\#1 is highest for Row \\#3, we would recommend this TV show."
   ]
  },
  {
   "cell_type": "markdown",
   "metadata": {},
   "source": [
    "***"
   ]
  },
  {
   "cell_type": "markdown",
   "metadata": {},
   "source": [
    "## Collaborative Filtering\n",
    "\n",
    "Now the idea is to recommend items to a user based on what *similar* users have enjoyed. Suppose we have the following recording of explicit ratings of five items by three users:"
   ]
  },
  {
   "cell_type": "code",
   "execution_count": 8,
   "metadata": {
    "ExecuteTime": {
     "end_time": "2022-04-25T18:32:19.158420Z",
     "start_time": "2022-04-25T18:32:19.141416Z"
    },
    "scrolled": true
   },
   "outputs": [
    {
     "data": {
      "text/plain": [
       "array([[5, 4, 3, 4, 5],\n",
       "       [3, 1, 1, 2, 5],\n",
       "       [4, 2, 3, 1, 4]])"
      ]
     },
     "execution_count": 8,
     "metadata": {},
     "output_type": "execute_result"
    }
   ],
   "source": [
    "users = np.array([[5, 4, 3, 4, 5], [3, 1, 1, 2, 5], [4, 2, 3, 1, 4]])\n",
    "\n",
    "new_user = np.array([5, 0, 0, 0, 0])\n",
    "users"
   ]
  },
  {
   "cell_type": "markdown",
   "metadata": {},
   "source": [
    "To which user is `new_user` most similar?\n",
    "\n",
    "One metric is cosine similarity:"
   ]
  },
  {
   "cell_type": "code",
   "execution_count": 18,
   "metadata": {
    "ExecuteTime": {
     "end_time": "2022-04-25T18:36:50.176518Z",
     "start_time": "2022-04-25T18:36:50.166448Z"
    }
   },
   "outputs": [],
   "source": [
    "numerators = np.array([new_user.dot(user) for user in users])"
   ]
  },
  {
   "cell_type": "code",
   "execution_count": 19,
   "metadata": {
    "ExecuteTime": {
     "end_time": "2022-04-25T18:36:50.438656Z",
     "start_time": "2022-04-25T18:36:50.420652Z"
    }
   },
   "outputs": [
    {
     "data": {
      "text/plain": [
       "array([25, 15, 20])"
      ]
     },
     "execution_count": 19,
     "metadata": {},
     "output_type": "execute_result"
    }
   ],
   "source": [
    "numerators"
   ]
  },
  {
   "cell_type": "code",
   "execution_count": 20,
   "metadata": {
    "ExecuteTime": {
     "end_time": "2022-04-25T18:36:50.609311Z",
     "start_time": "2022-04-25T18:36:50.604309Z"
    }
   },
   "outputs": [],
   "source": [
    "denominators = np.array(\n",
    "    [(np.linalg.norm(new_user) * np.linalg.norm(user)) for user in users]\n",
    ")"
   ]
  },
  {
   "cell_type": "code",
   "execution_count": 21,
   "metadata": {
    "ExecuteTime": {
     "end_time": "2022-04-25T18:36:50.749715Z",
     "start_time": "2022-04-25T18:36:50.739713Z"
    }
   },
   "outputs": [
    {
     "data": {
      "text/plain": [
       "array([47.69696007, 31.6227766 , 33.91164992])"
      ]
     },
     "execution_count": 21,
     "metadata": {},
     "output_type": "execute_result"
    }
   ],
   "source": [
    "denominators"
   ]
  },
  {
   "cell_type": "code",
   "execution_count": 22,
   "metadata": {
    "ExecuteTime": {
     "end_time": "2022-04-25T18:36:51.151042Z",
     "start_time": "2022-04-25T18:36:51.148040Z"
    }
   },
   "outputs": [
    {
     "data": {
      "text/plain": [
       "array([0.52414242, 0.47434165, 0.58976782])"
      ]
     },
     "execution_count": 22,
     "metadata": {},
     "output_type": "execute_result"
    }
   ],
   "source": [
    "numerators / denominators"
   ]
  },
  {
   "cell_type": "markdown",
   "metadata": {},
   "source": [
    "But we could also use another metric, such as Pearson Correlation:"
   ]
  },
  {
   "cell_type": "code",
   "execution_count": 23,
   "metadata": {
    "ExecuteTime": {
     "end_time": "2022-04-25T18:36:51.758658Z",
     "start_time": "2022-04-25T18:36:51.740655Z"
    }
   },
   "outputs": [
    {
     "data": {
      "text/plain": [
       "[0.5345224838248488, 0.2004459314343183, 0.5144957554275266]"
      ]
     },
     "execution_count": 23,
     "metadata": {},
     "output_type": "execute_result"
    }
   ],
   "source": [
    "[np.corrcoef(new_user, user)[0, 1] for user in users]"
   ]
  },
  {
   "cell_type": "markdown",
   "metadata": {},
   "source": [
    "For more on content-based vs. collaborative systems, see [this Wikipedia article](https://en.wikipedia.org/wiki/Collaborative_filtering) and [this blog post](https://towardsdatascience.com/recommendation-systems-models-and-evaluation-84944a84fb8e). [This post](https://dataconomy.com/2015/03/an-introduction-to-recommendation-engines/) on dataconomy is also useful."
   ]
  },
  {
   "cell_type": "markdown",
   "metadata": {},
   "source": [
    "***"
   ]
  },
  {
   "cell_type": "markdown",
   "metadata": {},
   "source": [
    "## Matrix Factorization\n",
    "\n",
    "Suppose we start with a matrix $R$ of users and products, where each cell records the ranking the relevant user gave to the relevant product. Very often we'll be able to record this data as a sparse matrix, because many users will not have ranked many items.\n",
    "\n",
    "Imagine factoring this matrix into a user matrix $P$ and an item matrix $Q^T$: $R = PQ^T$. What would the shapes of $P$ and $Q^T$ be? Clearly $P$ must have as many rows as $R$, which is just the number of users who have given ratings. Similarly, $Q^T$ must have as many columns as $R$, which is just the number of items that have received ratings. We also know that the number of columns of $P$ must match the number of rows of $Q^T$ for the factorization to be possible, but this number could really be anything. In practice this will be a small number, and for reasons that will emerge shortly let's refer to these dimensions as **latent features** of the items in $R$. If $p$ is a row of $P$, i.e. a user-vector, and $q$ is a column of $Q^T$, i.e. an item-vector, then $p$ will record the user's particular weights or *preferences* with respect to the latent features, while $q$ will record how the item ranks with respect to those same latent features. This in turn means that we could predict a user's ranking of a particular item simply by calculating the dot-product of $p$ and $q$! \n",
    "\n",
    "If we could effect such a factorization, $R = PQ^T$, then we could calculate *all* predictions, i.e. fill in the gaps in $R$, by solving for $P$ and $Q$.\n",
    "\n",
    "The isolation of these latent features can be achieved in various ways. But this is at heart a matter of **dimensionality reduction**, and so one way is with the [SVD](https://hackernoon.com/introduction-to-recommender-system-part-1-collaborative-filtering-singular-value-decomposition-44c9659c5e75).\n",
    "\n",
    "An alternative is to use the method of Alternating Least Squares."
   ]
  },
  {
   "cell_type": "markdown",
   "metadata": {},
   "source": [
    "### Alternating Least-Squares (ALS)\n",
    "\n",
    "ALS recommendation systems are often implemented in Spark architectures because of the appropriateness for distributed computing. ALS systems often involve very large datasets (consider how much data the recommendation engine for NETFLIX must have, for example!), and it is often useful to store them as sparse matrices, which Spark's ML library can handle. In fact, Spark's mllib even includes a \"Rating\" datatype! ALS is **collaborative** and **model-based**, and is especially useful for working with *implicit* ratings.\n",
    "\n",
    "We're looking for two matrices (a user matrix and an item matrix) into which we can factor our ratings matrix. We can't of course solve for two matrices at once. But here's what we can do:\n",
    "\n",
    "Make guesses of the values for $P$ and $Q$. Then hold the values of one *constant* so that we can optimize for the values of the other!\n",
    "\n",
    "Basically this converts our problem into a familiar *least-squares* problem. See [this page](https://textbooks.math.gatech.edu/ila/least-squares.html) and [this page](https://datasciencemadesimpler.wordpress.com/tag/alternating-least-squares/) for more details, but here's the basic idea:"
   ]
  },
  {
   "cell_type": "markdown",
   "metadata": {},
   "source": [
    "If we have an equation $Ax = b$ for *non-square* $A$, then we have:\n",
    "\n",
    "$A^TAx = A^Tb$ <br/>\n",
    "Thus: <br/>\n",
    "$x = (A^TA)^{-1}A^Tb$\n",
    "\n",
    "This $(A^TA)^{-1}A^T$ **is the pseudo-inverse of** $A$. We encountered this before in our whirlwind tour of linear algebra."
   ]
  },
  {
   "cell_type": "code",
   "execution_count": 24,
   "metadata": {
    "ExecuteTime": {
     "end_time": "2022-04-25T18:52:42.569898Z",
     "start_time": "2022-04-25T18:52:42.555896Z"
    }
   },
   "outputs": [],
   "source": [
    "np.random.seed(42)\n",
    "\n",
    "A = np.random.rand(5, 5)\n",
    "b = np.random.rand(5, 1)"
   ]
  },
  {
   "cell_type": "code",
   "execution_count": 25,
   "metadata": {
    "ExecuteTime": {
     "end_time": "2022-04-25T18:52:42.961159Z",
     "start_time": "2022-04-25T18:52:42.947155Z"
    }
   },
   "outputs": [
    {
     "data": {
      "text/plain": [
       "array([[-226.17808974],\n",
       "       [ 218.48756728],\n",
       "       [-362.56506519],\n",
       "       [ 147.90541489],\n",
       "       [ 350.1459068 ]])"
      ]
     },
     "execution_count": 25,
     "metadata": {},
     "output_type": "execute_result"
    }
   ],
   "source": [
    "np.linalg.inv(A.T.dot(A)).dot(A.T).dot(b)"
   ]
  },
  {
   "cell_type": "markdown",
   "metadata": {},
   "source": [
    "The `numpy` library has a shortcut for this: `numpy.linalg.pinv()`:"
   ]
  },
  {
   "cell_type": "code",
   "execution_count": 26,
   "metadata": {
    "ExecuteTime": {
     "end_time": "2022-04-25T18:52:43.802451Z",
     "start_time": "2022-04-25T18:52:43.774532Z"
    }
   },
   "outputs": [
    {
     "data": {
      "text/plain": [
       "array([[-226.17808981],\n",
       "       [ 218.48756735],\n",
       "       [-362.56506531],\n",
       "       [ 147.90541493],\n",
       "       [ 350.14590691]])"
      ]
     },
     "execution_count": 26,
     "metadata": {},
     "output_type": "execute_result"
    }
   ],
   "source": [
    "np.linalg.pinv(A).dot(b)"
   ]
  },
  {
   "cell_type": "markdown",
   "metadata": {},
   "source": [
    "\"When we talk about collaborative filtering for recommender systems we want to solve the problem of our original matrix having millions of different dimensions, but our 'tastes' not being nearly as complex. Even if i’ve \\[sic\\] viewed hundreds of items they might just express a couple of different tastes. Here we can actually use matrix factorization to mathematically reduce the dimensionality of our original 'all users by all items' matrix into something much smaller that represents 'all items by some taste dimensions' and 'all users by some taste dimensions'. These dimensions are called ***latent or hidden features*** and we learn them from our data\" ([Medium article: \"ALS Implicit Collaborative Filtering\"](https://medium.com/radon-dev/als-implicit-collaborative-filtering-5ed653ba39fe))."
   ]
  },
  {
   "cell_type": "markdown",
   "metadata": {},
   "source": [
    "#### Simple Example\n",
    "\n",
    "Suppose Max and Erin have rated five films:"
   ]
  },
  {
   "cell_type": "code",
   "execution_count": 27,
   "metadata": {
    "ExecuteTime": {
     "end_time": "2022-04-25T18:55:17.218921Z",
     "start_time": "2022-04-25T18:55:17.195916Z"
    }
   },
   "outputs": [
    {
     "data": {
      "text/html": [
       "<div>\n",
       "<style scoped>\n",
       "    .dataframe tbody tr th:only-of-type {\n",
       "        vertical-align: middle;\n",
       "    }\n",
       "\n",
       "    .dataframe tbody tr th {\n",
       "        vertical-align: top;\n",
       "    }\n",
       "\n",
       "    .dataframe thead th {\n",
       "        text-align: right;\n",
       "    }\n",
       "</style>\n",
       "<table border=\"1\" class=\"dataframe\">\n",
       "  <thead>\n",
       "    <tr style=\"text-align: right;\">\n",
       "      <th></th>\n",
       "      <th>film1</th>\n",
       "      <th>film2</th>\n",
       "      <th>film3</th>\n",
       "      <th>film4</th>\n",
       "      <th>film5</th>\n",
       "    </tr>\n",
       "  </thead>\n",
       "  <tbody>\n",
       "    <tr>\n",
       "      <th>max</th>\n",
       "      <td>0</td>\n",
       "      <td>1</td>\n",
       "      <td>0</td>\n",
       "      <td>0</td>\n",
       "      <td>4</td>\n",
       "    </tr>\n",
       "    <tr>\n",
       "      <th>erin</th>\n",
       "      <td>0</td>\n",
       "      <td>0</td>\n",
       "      <td>0</td>\n",
       "      <td>5</td>\n",
       "      <td>0</td>\n",
       "    </tr>\n",
       "  </tbody>\n",
       "</table>\n",
       "</div>"
      ],
      "text/plain": [
       "      film1  film2  film3  film4  film5\n",
       "max       0      1      0      0      4\n",
       "erin      0      0      0      5      0"
      ]
     },
     "execution_count": 27,
     "metadata": {},
     "output_type": "execute_result"
    }
   ],
   "source": [
    "ratings_arr = pd.DataFrame([[0, 1, 0, 0, 4], [0, 0, 0, 5, 0]],\\\n",
    "                           index=['max', 'erin'],\n",
    "             columns=['film' + str(i) for i in range(1, 6)])\n",
    "ratings_arr"
   ]
  },
  {
   "cell_type": "markdown",
   "metadata": {},
   "source": [
    "Suppose now that we isolate ten latent features of these films, and that we can capture our users, i.e. the tastes of Max and Erin, according to these features. (We'll just fill out a matrix randomly.)"
   ]
  },
  {
   "cell_type": "code",
   "execution_count": 28,
   "metadata": {
    "ExecuteTime": {
     "end_time": "2022-04-25T18:55:18.878213Z",
     "start_time": "2022-04-25T18:55:18.860209Z"
    }
   },
   "outputs": [],
   "source": [
    "seed(100)\n",
    "users = []\n",
    "\n",
    "for _ in range(2):\n",
    "    user = []\n",
    "    for _ in range(10):\n",
    "        user.append(gs(0, 1))\n",
    "    users.append(user)\n",
    "users_arr = np.array(users)"
   ]
  },
  {
   "cell_type": "code",
   "execution_count": 29,
   "metadata": {
    "ExecuteTime": {
     "end_time": "2022-04-25T18:55:21.123936Z",
     "start_time": "2022-04-25T18:55:21.118935Z"
    }
   },
   "outputs": [
    {
     "data": {
      "text/plain": [
       "array([[ 0.67155333,  0.87331967,  0.20361655, -1.55034921, -0.12059128,\n",
       "        -1.05927574,  0.38143697, -1.17342904,  0.96637182,  0.53248343],\n",
       "       [ 2.22041991,  0.68901284,  0.85436449, -0.29504752, -0.62335055,\n",
       "         1.5917369 ,  0.17920475,  0.60086339,  0.3474319 ,  0.85537186]])"
      ]
     },
     "execution_count": 29,
     "metadata": {},
     "output_type": "execute_result"
    }
   ],
   "source": [
    "users_arr"
   ]
  },
  {
   "cell_type": "markdown",
   "metadata": {},
   "source": [
    "Now we'll make another random matrix that expresses *our items* in terms of these latent features."
   ]
  },
  {
   "cell_type": "code",
   "execution_count": 30,
   "metadata": {
    "ExecuteTime": {
     "end_time": "2022-04-25T18:55:38.869024Z",
     "start_time": "2022-04-25T18:55:38.860022Z"
    }
   },
   "outputs": [],
   "source": [
    "seed(100)\n",
    "items = []\n",
    "\n",
    "for _ in range(5):\n",
    "    item = []\n",
    "    for _ in range(10):\n",
    "        item.append(gs(0, 1))\n",
    "    items.append(item)\n",
    "items_arr = np.array(items)"
   ]
  },
  {
   "cell_type": "code",
   "execution_count": 31,
   "metadata": {
    "ExecuteTime": {
     "end_time": "2022-04-25T18:55:58.674326Z",
     "start_time": "2022-04-25T18:55:58.664245Z"
    }
   },
   "outputs": [
    {
     "data": {
      "text/plain": [
       "array([[ 0.67155333,  0.87331967,  0.20361655, -1.55034921, -0.12059128,\n",
       "        -1.05927574,  0.38143697, -1.17342904,  0.96637182,  0.53248343],\n",
       "       [ 2.22041991,  0.68901284,  0.85436449, -0.29504752, -0.62335055,\n",
       "         1.5917369 ,  0.17920475,  0.60086339,  0.3474319 ,  0.85537186],\n",
       "       [-1.80291827, -1.83311295,  0.60911087,  2.4250145 , -2.02233576,\n",
       "        -0.73382756,  0.24510831, -0.53817586, -0.30637608, -0.41367264],\n",
       "       [ 1.0027436 ,  0.03558136,  0.19013362, -1.27827915,  0.67648704,\n",
       "         1.79506722,  0.63054322, -0.37947302, -1.35033057,  0.45576721],\n",
       "       [ 0.42542416, -0.29962041, -2.48035968, -0.87457154, -1.23050164,\n",
       "        -1.00629648,  0.1857537 , -1.174924  , -0.33108494,  1.29437514]])"
      ]
     },
     "execution_count": 31,
     "metadata": {},
     "output_type": "execute_result"
    }
   ],
   "source": [
    "items_arr"
   ]
  },
  {
   "cell_type": "code",
   "execution_count": 32,
   "metadata": {
    "ExecuteTime": {
     "end_time": "2022-04-25T18:56:08.941132Z",
     "start_time": "2022-04-25T18:56:08.918148Z"
    }
   },
   "outputs": [
    {
     "data": {
      "text/plain": [
       "(2, 10)"
      ]
     },
     "execution_count": 32,
     "metadata": {},
     "output_type": "execute_result"
    }
   ],
   "source": [
    "users_arr.shape"
   ]
  },
  {
   "cell_type": "code",
   "execution_count": 33,
   "metadata": {
    "ExecuteTime": {
     "end_time": "2022-04-25T18:56:09.346256Z",
     "start_time": "2022-04-25T18:56:09.329299Z"
    }
   },
   "outputs": [
    {
     "data": {
      "text/plain": [
       "(5, 10)"
      ]
     },
     "execution_count": 33,
     "metadata": {},
     "output_type": "execute_result"
    }
   ],
   "source": [
    "items_arr.shape"
   ]
  },
  {
   "cell_type": "markdown",
   "metadata": {},
   "source": [
    "To construct our large users-by-items matrix, we'll simply take the product of our two random matrices."
   ]
  },
  {
   "cell_type": "code",
   "execution_count": 34,
   "metadata": {
    "ExecuteTime": {
     "end_time": "2022-04-25T18:56:26.728223Z",
     "start_time": "2022-04-25T18:56:26.715220Z"
    }
   },
   "outputs": [
    {
     "data": {
      "text/plain": [
       "array([[ 7.53516384,  1.26783511, -5.21738432,  0.36547776,  3.90803828],\n",
       "       [ 1.26783511, 10.38970834, -6.10853643,  5.03189793, -1.63817674]])"
      ]
     },
     "execution_count": 34,
     "metadata": {},
     "output_type": "execute_result"
    }
   ],
   "source": [
    "users_arr.dot(items_arr.T)"
   ]
  },
  {
   "cell_type": "markdown",
   "metadata": {},
   "source": [
    "Now here's where the ALS really kicks in: We'll solve for Max's and Erin's preference vectors by multiplying the pseudo-inverse of the items array by their respective ratings vectors:"
   ]
  },
  {
   "cell_type": "code",
   "execution_count": 35,
   "metadata": {
    "ExecuteTime": {
     "end_time": "2022-04-25T19:00:01.608700Z",
     "start_time": "2022-04-25T19:00:01.581696Z"
    }
   },
   "outputs": [
    {
     "name": "stdout",
     "output_type": "stream",
     "text": [
      "[ 0.47099573 -0.11214938 -0.98527859  0.09266666 -0.64747458  0.00854642\n",
      " -0.11601818  0.09586291 -0.08579953  0.55693307]\n",
      "[-0.23238655 -0.55138144  0.5415508  -0.71191248  0.27767197  0.81157767\n",
      "  0.78557579 -1.03623954 -1.25490079  0.02606555]\n"
     ]
    }
   ],
   "source": [
    "max_pref = np.linalg.pinv(items_arr).dot(ratings_arr.loc['max', :])\n",
    "print(max_pref)\n",
    "erin_pref = np.linalg.pinv(items_arr).dot(ratings_arr.loc['erin', :])\n",
    "print(erin_pref)"
   ]
  },
  {
   "cell_type": "code",
   "execution_count": 36,
   "metadata": {
    "ExecuteTime": {
     "end_time": "2022-04-25T19:00:01.778739Z",
     "start_time": "2022-04-25T19:00:01.762780Z"
    }
   },
   "outputs": [
    {
     "data": {
      "text/plain": [
       "(10, 5)"
      ]
     },
     "execution_count": 36,
     "metadata": {},
     "output_type": "execute_result"
    }
   ],
   "source": [
    "items_arr.T.shape"
   ]
  },
  {
   "cell_type": "markdown",
   "metadata": {},
   "source": [
    "We'll predict (or, in this case, reproduce) Max's and Erin's ratings for films by simply multiplying their preference vectors by the transpose of the items array:"
   ]
  },
  {
   "cell_type": "code",
   "execution_count": 37,
   "metadata": {
    "ExecuteTime": {
     "end_time": "2022-04-25T19:00:05.451529Z",
     "start_time": "2022-04-25T19:00:05.444527Z"
    }
   },
   "outputs": [
    {
     "data": {
      "text/plain": [
       "array([-1.24900090e-15,  1.00000000e+00,  3.27515792e-15,  2.91433544e-16,\n",
       "        4.00000000e+00])"
      ]
     },
     "execution_count": 37,
     "metadata": {},
     "output_type": "execute_result"
    }
   ],
   "source": [
    "newmax = max_pref.dot(items_arr.T)\n",
    "newmax"
   ]
  },
  {
   "cell_type": "markdown",
   "metadata": {},
   "source": [
    "This lines up with the ratings with which we began."
   ]
  },
  {
   "cell_type": "code",
   "execution_count": 38,
   "metadata": {
    "ExecuteTime": {
     "end_time": "2022-04-25T19:00:06.135879Z",
     "start_time": "2022-04-25T19:00:06.123877Z"
    }
   },
   "outputs": [
    {
     "data": {
      "text/plain": [
       "array([-5.55111512e-16, -4.10782519e-15,  2.22044605e-16,  5.00000000e+00,\n",
       "        2.44249065e-15])"
      ]
     },
     "execution_count": 38,
     "metadata": {},
     "output_type": "execute_result"
    }
   ],
   "source": [
    "newerin = erin_pref.dot(items_arr.T)\n",
    "newerin"
   ]
  },
  {
   "cell_type": "code",
   "execution_count": 40,
   "metadata": {
    "ExecuteTime": {
     "end_time": "2022-04-25T19:00:26.267858Z",
     "start_time": "2022-04-25T19:00:26.252855Z"
    }
   },
   "outputs": [
    {
     "data": {
      "text/html": [
       "<div>\n",
       "<style scoped>\n",
       "    .dataframe tbody tr th:only-of-type {\n",
       "        vertical-align: middle;\n",
       "    }\n",
       "\n",
       "    .dataframe tbody tr th {\n",
       "        vertical-align: top;\n",
       "    }\n",
       "\n",
       "    .dataframe thead th {\n",
       "        text-align: right;\n",
       "    }\n",
       "</style>\n",
       "<table border=\"1\" class=\"dataframe\">\n",
       "  <thead>\n",
       "    <tr style=\"text-align: right;\">\n",
       "      <th></th>\n",
       "      <th>film1</th>\n",
       "      <th>film2</th>\n",
       "      <th>film3</th>\n",
       "      <th>film4</th>\n",
       "      <th>film5</th>\n",
       "    </tr>\n",
       "  </thead>\n",
       "  <tbody>\n",
       "    <tr>\n",
       "      <th>max</th>\n",
       "      <td>0</td>\n",
       "      <td>1</td>\n",
       "      <td>0</td>\n",
       "      <td>0</td>\n",
       "      <td>4</td>\n",
       "    </tr>\n",
       "    <tr>\n",
       "      <th>erin</th>\n",
       "      <td>0</td>\n",
       "      <td>0</td>\n",
       "      <td>0</td>\n",
       "      <td>5</td>\n",
       "      <td>0</td>\n",
       "    </tr>\n",
       "  </tbody>\n",
       "</table>\n",
       "</div>"
      ],
      "text/plain": [
       "      film1  film2  film3  film4  film5\n",
       "max       0      1      0      0      4\n",
       "erin      0      0      0      5      0"
      ]
     },
     "execution_count": 40,
     "metadata": {},
     "output_type": "execute_result"
    }
   ],
   "source": [
    "ratings_arr"
   ]
  },
  {
   "cell_type": "markdown",
   "metadata": {},
   "source": [
    "Ditto!"
   ]
  },
  {
   "cell_type": "markdown",
   "metadata": {},
   "source": [
    "We'll make a quick error calculation:"
   ]
  },
  {
   "cell_type": "code",
   "execution_count": 39,
   "metadata": {
    "ExecuteTime": {
     "end_time": "2022-04-25T19:00:14.526646Z",
     "start_time": "2022-04-25T19:00:14.516644Z"
    }
   },
   "outputs": [
    {
     "name": "stdout",
     "output_type": "stream",
     "text": [
      "1.34106353887572e-29\n"
     ]
    }
   ],
   "source": [
    "guess = np.vstack([newmax, newerin])\n",
    "\n",
    "err = 0\n",
    "for i in range(2):\n",
    "    for j in range(len(ratings_arr.values[i, :])):\n",
    "        if ratings_arr.values[i, j] != 0:\n",
    "            err += (ratings_arr.values[i, j] - guess[i, j])**2\n",
    "print(err)"
   ]
  },
  {
   "cell_type": "markdown",
   "metadata": {},
   "source": [
    "#### Second Example"
   ]
  },
  {
   "cell_type": "code",
   "execution_count": null,
   "metadata": {},
   "outputs": [],
   "source": [
    "# Users: m x n (m users)\n",
    "# Items: r x n (r items)\n",
    "# Ratings: m x r"
   ]
  },
  {
   "cell_type": "code",
   "execution_count": 42,
   "metadata": {
    "ExecuteTime": {
     "end_time": "2022-04-25T19:08:44.735428Z",
     "start_time": "2022-04-25T19:08:44.714918Z"
    }
   },
   "outputs": [],
   "source": [
    "# If P = users and Q = items, then we want to approximate R = PQ^T\n",
    "# Let's generate R.\n",
    "\n",
    "seed(42)\n",
    "ratings2 = []\n",
    "for _ in range(100):\n",
    "    user = []\n",
    "    for _ in range(100):\n",
    "        chance = gs(0, 0.4)\n",
    "        \n",
    "        # We'll fill our ratings matrix mostly with 0's to represent\n",
    "        # unrated films. This is NOT standard; we're doing this only\n",
    "        # to illustrate the general algorithm.\n",
    "        if chance > 0.5:\n",
    "            user.append(int(uni(1, 6)))\n",
    "        else:\n",
    "            user.append(0)\n",
    "        \n",
    "        # This 'if' will simply ensure that everyone has given at least\n",
    "        # one rating.\n",
    "        if user.count(0) == 10:\n",
    "            user[int(uni(0, 10))] = int(uni(1, 6))\n",
    "    ratings2.append(user)\n",
    "ratings_arr2 = np.array(ratings2)"
   ]
  },
  {
   "cell_type": "code",
   "execution_count": 43,
   "metadata": {
    "ExecuteTime": {
     "end_time": "2022-04-25T19:08:45.043411Z",
     "start_time": "2022-04-25T19:08:45.035409Z"
    }
   },
   "outputs": [
    {
     "data": {
      "text/plain": [
       "array([[0, 0, 0, ..., 0, 2, 0],\n",
       "       [3, 0, 2, ..., 0, 0, 0],\n",
       "       [5, 3, 0, ..., 0, 0, 0],\n",
       "       ...,\n",
       "       [0, 0, 0, ..., 5, 0, 2],\n",
       "       [0, 2, 5, ..., 0, 0, 0],\n",
       "       [2, 2, 0, ..., 5, 0, 5]])"
      ]
     },
     "execution_count": 43,
     "metadata": {},
     "output_type": "execute_result"
    }
   ],
   "source": [
    "ratings_arr2"
   ]
  },
  {
   "cell_type": "code",
   "execution_count": 44,
   "metadata": {
    "ExecuteTime": {
     "end_time": "2022-04-25T19:09:10.119288Z",
     "start_time": "2022-04-25T19:09:10.115288Z"
    }
   },
   "outputs": [],
   "source": [
    "users2 = []\n",
    "\n",
    "# Random generation of values for the user matrix\n",
    "for _ in range(100):\n",
    "    user = []\n",
    "    for _ in range(10):\n",
    "        user.append(gs(0, 1))\n",
    "    users2.append(user)\n",
    "users_arr2 = np.array(users2)"
   ]
  },
  {
   "cell_type": "code",
   "execution_count": 45,
   "metadata": {
    "ExecuteTime": {
     "end_time": "2022-04-25T19:09:14.580433Z",
     "start_time": "2022-04-25T19:09:14.570377Z"
    }
   },
   "outputs": [],
   "source": [
    "items2 = []\n",
    "\n",
    "# Random generation of values for the item matrix\n",
    "for _ in range(100):\n",
    "    item = []\n",
    "    for _ in range(10):\n",
    "        item.append(gs(0, 1))\n",
    "    items2.append(item)\n",
    "items_arr2 = np.array(items2)"
   ]
  },
  {
   "cell_type": "code",
   "execution_count": 46,
   "metadata": {
    "ExecuteTime": {
     "end_time": "2022-04-25T19:11:01.524729Z",
     "start_time": "2022-04-25T19:11:01.506725Z"
    }
   },
   "outputs": [
    {
     "data": {
      "text/plain": [
       "(100, 10)"
      ]
     },
     "execution_count": 46,
     "metadata": {},
     "output_type": "execute_result"
    }
   ],
   "source": [
    "users_arr2.shape"
   ]
  },
  {
   "cell_type": "code",
   "execution_count": 47,
   "metadata": {
    "ExecuteTime": {
     "end_time": "2022-04-25T19:11:09.272115Z",
     "start_time": "2022-04-25T19:11:09.267114Z"
    }
   },
   "outputs": [
    {
     "data": {
      "text/plain": [
       "(100, 10)"
      ]
     },
     "execution_count": 47,
     "metadata": {},
     "output_type": "execute_result"
    }
   ],
   "source": [
    "items_arr2.shape"
   ]
  },
  {
   "cell_type": "markdown",
   "metadata": {},
   "source": [
    "Our first guess at filling in the matrix will simply be the matrix product:"
   ]
  },
  {
   "cell_type": "code",
   "execution_count": 48,
   "metadata": {
    "ExecuteTime": {
     "end_time": "2022-04-25T19:11:36.340089Z",
     "start_time": "2022-04-25T19:11:36.331088Z"
    }
   },
   "outputs": [],
   "source": [
    "guess = users_arr2.dot(items_arr2.T)"
   ]
  },
  {
   "cell_type": "code",
   "execution_count": 49,
   "metadata": {
    "ExecuteTime": {
     "end_time": "2022-04-25T19:11:36.618996Z",
     "start_time": "2022-04-25T19:11:36.601992Z"
    }
   },
   "outputs": [
    {
     "data": {
      "text/plain": [
       "True"
      ]
     },
     "execution_count": 49,
     "metadata": {},
     "output_type": "execute_result"
    }
   ],
   "source": [
    "guess.shape == ratings_arr2.shape"
   ]
  },
  {
   "cell_type": "markdown",
   "metadata": {},
   "source": [
    "Let's get a measure of error:"
   ]
  },
  {
   "cell_type": "code",
   "execution_count": 50,
   "metadata": {
    "ExecuteTime": {
     "end_time": "2022-04-25T19:11:46.071194Z",
     "start_time": "2022-04-25T19:11:46.067193Z"
    }
   },
   "outputs": [
    {
     "data": {
      "text/plain": [
       "array([[ 1.20022042, -4.79370844,  0.16745819, ...,  0.71515764,\n",
       "         5.29265957,  2.34612024],\n",
       "       [12.81954999,  1.09244517,  2.76883236, ...,  3.84048632,\n",
       "         3.63986143,  1.251285  ],\n",
       "       [-0.11924386,  0.1143655 , -0.52294795, ...,  3.37782545,\n",
       "        -2.46092459,  0.03240239],\n",
       "       ...,\n",
       "       [ 1.78409526, -0.16181232,  1.29355933, ...,  6.03771907,\n",
       "         1.97382977,  4.89026489],\n",
       "       [-1.85314949,  4.16815931,  3.84911175, ..., -0.0342376 ,\n",
       "        -5.73579374, -1.53629352],\n",
       "       [ 2.51939362,  5.31266136, -1.7857387 , ...,  5.18275941,\n",
       "        -2.55671716,  4.90783561]])"
      ]
     },
     "execution_count": 50,
     "metadata": {},
     "output_type": "execute_result"
    }
   ],
   "source": [
    "ratings_arr2 - guess"
   ]
  },
  {
   "cell_type": "code",
   "execution_count": 51,
   "metadata": {
    "ExecuteTime": {
     "end_time": "2022-04-25T19:11:46.273577Z",
     "start_time": "2022-04-25T19:11:46.258066Z"
    }
   },
   "outputs": [
    {
     "data": {
      "text/plain": [
       "122333.98763617325"
      ]
     },
     "execution_count": 51,
     "metadata": {},
     "output_type": "execute_result"
    }
   ],
   "source": [
    "err = (ratings_arr2 - guess)**2\n",
    "\n",
    "np.sum(err)"
   ]
  },
  {
   "cell_type": "markdown",
   "metadata": {},
   "source": [
    "Pretty terrible! But we started with random numbers and have only done one iteration. Let's see if we can do better:"
   ]
  },
  {
   "cell_type": "code",
   "execution_count": 60,
   "metadata": {
    "ExecuteTime": {
     "end_time": "2022-04-25T19:19:11.745695Z",
     "start_time": "2022-04-25T19:19:11.738694Z"
    }
   },
   "outputs": [],
   "source": [
    "def als(ratings, users, items, reps=40):\n",
    "    \n",
    "    ratings_cols = ratings.T\n",
    "    for _ in range(reps):\n",
    "        new_users = []\n",
    "        for i in range(len(ratings)):\n",
    "            \n",
    "            user = LinearRegression(fit_intercept=False)\\\n",
    "            .fit(items, ratings[i]).coef_\n",
    "            new_users.append(user)\n",
    "        new_users = np.asarray(new_users)\n",
    "        \n",
    "        new_items = []\n",
    "        for i in range(len(ratings)):\n",
    "            \n",
    "            item = LinearRegression(fit_intercept=False)\\\n",
    "            .fit(new_users, ratings_cols[i]).coef_\n",
    "            new_items.append(item)\n",
    "        new_items = np.asarray(new_items)\n",
    "        \n",
    "        guess = new_users.dot(new_items.T)\n",
    "        err = 0\n",
    "        for i in range(len(ratings)):\n",
    "            for j in range(len(ratings[i])):\n",
    "                if ratings[i, j] != 0:\n",
    "                    err += (ratings[i, j] - guess[i, j])**2\n",
    "        print(err)\n",
    "        \n",
    "        items = new_items\n",
    "        \n",
    "    return new_users.dot(new_items.T)"
   ]
  },
  {
   "cell_type": "markdown",
   "metadata": {},
   "source": [
    "We should see our error decrease with more iterations:"
   ]
  },
  {
   "cell_type": "code",
   "execution_count": 61,
   "metadata": {
    "ExecuteTime": {
     "end_time": "2022-04-25T19:19:14.460695Z",
     "start_time": "2022-04-25T19:19:12.636565Z"
    }
   },
   "outputs": [
    {
     "name": "stdout",
     "output_type": "stream",
     "text": [
      "8679.95926804698\n",
      "6511.2706082918885\n",
      "6272.528821101911\n",
      "6190.9597189732285\n",
      "6153.148460896031\n",
      "6133.158269096346\n",
      "6121.902204676268\n",
      "6115.079057339579\n",
      "6110.538074584972\n",
      "6107.255266508422\n",
      "6104.73455327803\n",
      "6102.714083690588\n",
      "6101.043135121949\n",
      "6099.629733317884\n",
      "6098.4153980187575\n",
      "6097.361480021129\n",
      "6096.441351671079\n",
      "6095.63587735534\n",
      "6094.9307687407145\n",
      "6094.314999501613\n",
      "6093.779790934051\n",
      "6093.317895217614\n",
      "6092.923040928004\n",
      "6092.589488705116\n",
      "6092.311688714318\n",
      "6092.084047267307\n",
      "6091.900807755375\n",
      "6091.7560398297865\n",
      "6091.643717872172\n",
      "6091.557860285333\n",
      "6091.492697436177\n",
      "6091.4428382889155\n",
      "6091.4034123398515\n",
      "6091.370172185086\n",
      "6091.339550794579\n",
      "6091.30867482006\n",
      "6091.275340271617\n",
      "6091.23795957393\n",
      "6091.195489713936\n",
      "6091.147350485179\n"
     ]
    },
    {
     "data": {
      "text/plain": [
       "array([[ 6.16136356e-01,  9.58435193e-01, -4.12764521e-01,\n",
       "        -9.80514791e-01,  3.15344252e-01,  3.61043949e+00,\n",
       "         6.01596394e-01,  4.84734672e-01,  3.24957438e-01,\n",
       "         2.22497342e-01,  3.20665731e-01,  3.17928504e-01,\n",
       "         4.35818841e-01,  1.30637541e+00,  9.61281646e-01,\n",
       "         4.29169984e-01,  1.22914498e-01, -3.61736271e-01,\n",
       "         1.22559212e-01,  5.89215633e-02, -1.09461685e-02,\n",
       "        -7.80860188e-01,  1.03276687e+00,  7.02536171e-01,\n",
       "         2.72045025e-01, -5.80622465e-01,  5.39587827e-01,\n",
       "         5.24542552e-01,  2.51168012e-01,  5.48727662e-01,\n",
       "         1.02682751e+00, -1.71614371e-02,  1.97851324e-01,\n",
       "         1.08580216e-01,  7.53566223e-01,  2.68746852e-01,\n",
       "         2.35143360e-01,  7.43186518e-01,  5.22147855e-01,\n",
       "         3.46263804e-01, -2.91891969e-02, -3.14021368e-01,\n",
       "         2.46141298e-01,  3.54907999e-01, -2.33816278e-01,\n",
       "         8.46285188e-01, -6.75369380e-01,  8.54431516e-01,\n",
       "        -4.01644265e-01, -1.29287047e-01,  6.76271692e-01,\n",
       "         7.39711227e-01,  1.46478669e-01,  1.25026766e+00,\n",
       "         3.32340715e-01,  5.60944446e-01,  5.29776033e-01,\n",
       "         5.22128159e-01, -2.05477577e-01,  1.52705119e-02,\n",
       "         3.49692195e-01,  1.87854714e-01, -3.13753386e-01,\n",
       "         1.64394068e+00, -1.58674079e-02,  1.48345803e+00,\n",
       "        -1.81251043e-01, -6.73208743e-01, -6.49071752e-01,\n",
       "        -5.83253351e-01,  2.52258850e-01,  2.03767442e-01,\n",
       "         3.21769101e-01,  7.87304468e-01, -1.81444746e-01,\n",
       "         2.16475521e-01,  2.82344763e-01, -1.13086816e+00,\n",
       "        -2.32274656e-01,  7.56840165e-01,  3.16748539e-01,\n",
       "         1.99832186e-02, -7.10480870e-02,  3.96419178e-01,\n",
       "         1.07568238e-02,  1.00322393e+00,  4.83657211e-01,\n",
       "         9.18299808e-02, -3.09504142e-01,  4.79264965e-01,\n",
       "         4.74574083e-01,  7.18959961e-01,  2.76382393e-01,\n",
       "        -1.31600206e-01, -2.27691693e-01,  5.34261633e-02,\n",
       "         2.11752559e-02, -3.11844263e-01,  1.45434769e-03,\n",
       "        -1.39548914e-01],\n",
       "       [ 2.98691967e+00,  4.79746389e-02,  1.70995246e+00,\n",
       "         5.23224331e-02,  4.94656823e-01, -7.26130963e-01,\n",
       "         6.26159102e-01,  2.22832986e+00,  1.70124254e+00,\n",
       "         1.07126964e+00,  1.36963672e-02,  5.18001671e-01,\n",
       "         1.60159806e-01,  8.11694491e-01,  1.70582275e-01,\n",
       "         1.27651083e-01,  7.89515367e-01,  1.11744381e+00,\n",
       "         3.27557584e-01, -2.82516436e-01,  3.10496443e-02,\n",
       "         4.15123662e-01,  2.16145767e+00, -1.30237008e-01,\n",
       "        -1.53969087e-01,  3.13413035e-01,  7.24070393e-01,\n",
       "         1.34328385e+00, -6.50754964e-02,  5.09540426e-01,\n",
       "         1.05891829e+00,  9.83330146e-01,  5.87027428e-01,\n",
       "         3.91168878e-01, -2.10721610e-01,  2.76816570e-01,\n",
       "         2.53848306e-01,  3.63980750e-01,  2.59546113e-01,\n",
       "         2.60642389e-01,  3.75691767e-01,  2.65151722e-01,\n",
       "         2.14174255e-01,  6.23877641e-01,  3.47562322e-01,\n",
       "         6.77606487e-01,  7.15559774e-01,  1.68049518e-02,\n",
       "         2.77657240e-01,  6.82499613e-01, -1.96797260e-01,\n",
       "         3.99157085e-01,  4.66933741e-01,  5.93484504e-01,\n",
       "         4.73372408e-01,  3.05554081e-01,  3.00145192e-01,\n",
       "         5.70340771e-01,  7.34239180e-01,  8.11736623e-01,\n",
       "         5.15735870e-01,  1.32551379e+00, -1.10538196e-01,\n",
       "         1.27635348e+00,  1.91654390e-01,  3.38234922e-01,\n",
       "         3.04140443e+00,  1.19123844e+00,  1.61148694e+00,\n",
       "         3.65664003e-01,  8.00737966e-01,  1.20396934e-01,\n",
       "         2.51221834e-01,  1.07971933e-01,  3.20253107e-01,\n",
       "         4.02813524e-01,  1.15346120e-01, -1.19812970e-01,\n",
       "         1.00375718e-01,  3.33797138e-01, -9.76151834e-02,\n",
       "         1.80548625e-01,  7.57424297e-01, -2.13782091e-01,\n",
       "        -2.20206695e-01,  1.31740469e+00,  8.47967763e-01,\n",
       "         4.03778263e-01, -6.12784241e-02,  4.65049239e-01,\n",
       "         1.47738299e-02,  1.11462569e+00, -6.35340395e-02,\n",
       "        -3.55953507e-01,  1.26350421e+00, -2.31477380e-02,\n",
       "         4.39344137e-01,  9.07958667e-01,  2.03245713e-01,\n",
       "         8.82768781e-01],\n",
       "       [ 6.75672829e+00,  2.84064982e+00,  3.56316138e-01,\n",
       "         2.33360565e+00,  8.26400063e-01, -3.16999417e-01,\n",
       "        -1.76346425e-01,  9.22052566e-01, -1.70043709e+00,\n",
       "         4.92605254e+00,  7.49444121e-01,  2.10960496e-01,\n",
       "         1.90124139e-01,  6.20968049e-01, -6.85208738e-01,\n",
       "         2.86155755e-01,  1.99255210e+00,  4.03177208e-01,\n",
       "         8.92436843e-01, -1.50122409e-01, -1.53477271e-01,\n",
       "        -7.39619832e-02,  4.58425162e-01,  1.32118456e-01,\n",
       "        -2.15436934e-02,  7.28356431e-01, -6.22838549e-01,\n",
       "        -1.50649565e-01, -4.78787413e-02, -7.62906636e-02,\n",
       "        -1.16293302e-01,  6.74138182e-01, -2.70519144e-01,\n",
       "        -1.35859834e-01, -5.42425726e-01,  1.13957742e+00,\n",
       "         2.88174524e-01,  1.23245795e+00, -8.82111250e-02,\n",
       "         6.14465619e-01,  2.06429153e-01,  4.81724138e-01,\n",
       "         8.11312015e-01,  4.75542149e-01,  1.20431726e+00,\n",
       "         1.84457383e-01,  9.89809907e-01,  7.57081840e-01,\n",
       "         1.83821484e-01,  1.15695392e-01,  3.63610451e+00,\n",
       "        -4.74948007e-01,  2.50715205e-01,  1.02689908e+00,\n",
       "         3.98617224e-01,  6.99934212e-01, -2.03968403e-01,\n",
       "        -4.93251899e-01,  1.69623618e+00,  1.36463265e+00,\n",
       "         2.97903314e-01, -9.78084750e-01, -5.20493366e-01,\n",
       "         3.48065951e-01, -2.07290194e-01,  9.53209680e-01,\n",
       "         8.49547524e-01,  2.50804196e-01,  1.28855448e+00,\n",
       "         2.19971020e+00, -2.09429970e-01,  3.52259181e-01,\n",
       "        -7.91460097e-03, -3.40916876e-01,  2.73265707e+00,\n",
       "         7.03865092e-01, -2.82556598e-01,  1.02596001e-01,\n",
       "         2.09186597e-01, -1.09259598e+00,  9.32361128e-01,\n",
       "         1.63918525e+00,  1.24305551e-01,  3.88154777e-01,\n",
       "         1.77128638e-01,  1.63213954e+00,  1.00143079e+00,\n",
       "         1.62420288e-01,  2.79856361e-01,  3.53381202e+00,\n",
       "         1.34879954e-01,  2.67477419e-01,  1.00195370e+00,\n",
       "         4.53319161e-01,  2.50431940e-02,  5.82642064e-01,\n",
       "         6.59308608e-01,  6.85195559e-02,  7.71439366e-01,\n",
       "         6.94693566e-01],\n",
       "       [ 3.07625324e-01,  7.71107492e-01,  2.94291860e+00,\n",
       "         3.83549067e+00,  2.36008309e+00, -2.85530288e-01,\n",
       "         3.80171134e+00,  3.10478026e+00,  1.87077712e+00,\n",
       "         6.62508141e-01,  1.25471029e-01,  3.10427022e-01,\n",
       "         7.25077708e-01, -2.59510842e-01,  5.90146507e-01,\n",
       "         2.45615161e-01, -2.67230974e-01,  2.08834463e-01,\n",
       "        -3.07666312e-01, -3.30891852e-01,  7.39780417e-01,\n",
       "        -1.55086365e-01,  6.37499818e-01, -1.46711100e-01,\n",
       "         2.38647136e-02, -2.81250507e-01,  8.16120981e-01,\n",
       "         3.76423119e-01, -2.45462949e-01,  2.62131674e-01,\n",
       "         2.08892390e-01,  3.35491988e-01,  2.49849731e-02,\n",
       "        -1.30713457e-01,  3.90544665e-01,  6.55688693e-02,\n",
       "        -1.17028664e-01,  1.77385577e-01,  1.86242445e-01,\n",
       "         2.38055544e-01, -3.90122909e-01,  4.49494557e-01,\n",
       "         2.63220411e-01, -1.60296763e-01, -1.15563525e-01,\n",
       "         5.00412116e-01, -2.00919862e-01,  4.59470426e-02,\n",
       "         6.38044639e-02,  6.56060065e-01, -6.75118598e-01,\n",
       "        -1.40881666e-01,  2.74454990e-01,  1.01642736e+00,\n",
       "         4.26605591e-01,  6.71680866e-01,  2.55013130e-01,\n",
       "         9.00915417e-01,  7.61447866e-01, -3.93610229e-01,\n",
       "         3.19640396e-01,  4.43976836e-01,  1.02231529e+00,\n",
       "         5.23168748e-03,  9.84356712e-01, -9.59068720e-02,\n",
       "        -3.57498333e-01,  5.18851318e-01,  5.37498996e-01,\n",
       "         1.10745762e-01, -3.12326666e-01,  5.54148468e-01,\n",
       "         1.35490276e+00, -5.99733091e-01,  2.82608497e-01,\n",
       "        -2.02876099e-01,  9.70485907e-01,  2.76934406e-01,\n",
       "         2.71323001e-01,  9.26202632e-01, -6.38744981e-01,\n",
       "         4.02887782e-01,  2.21220650e-01,  2.84596341e-02,\n",
       "         5.85237579e-01,  8.58897519e-02, -1.49809076e-01,\n",
       "         2.76255275e-01, -1.95280235e-01, -1.34072870e+00,\n",
       "         4.39500186e-01,  8.33644218e-01,  6.30462056e-01,\n",
       "         5.98554379e-01, -1.31982459e-01,  1.63137286e-01,\n",
       "         4.68024478e-01,  3.51855655e-01,  5.76854490e-01,\n",
       "        -2.26908681e-01],\n",
       "       [ 1.23254507e-01,  5.19445275e-01,  5.02860243e+00,\n",
       "         1.42474074e+00,  3.54119165e+00,  1.31993622e+00,\n",
       "         4.17553197e-01,  1.31675433e+00, -4.31054602e-01,\n",
       "        -6.26262013e-01,  1.83999009e-01,  1.01453784e-01,\n",
       "         7.09791709e-01,  5.33495998e-01, -2.86269310e-01,\n",
       "         3.62062156e-01, -7.50966927e-02, -4.33527174e-01,\n",
       "        -1.37650286e-02,  6.22556730e-01,  2.74260576e-01,\n",
       "         8.42870556e-01,  5.64345625e-01,  5.74569673e-01,\n",
       "         1.86765052e-01,  2.52385932e-01,  1.90074529e-01,\n",
       "         4.59390826e-01,  1.42684913e-01, -1.59295627e-01,\n",
       "         6.69542041e-01, -6.50693318e-02,  1.86255452e-01,\n",
       "         2.92381411e-01,  7.81938808e-01,  3.18274538e-01,\n",
       "         2.45746108e-01,  6.19328469e-01,  2.18941385e-01,\n",
       "         4.31388551e-01,  8.81553016e-02,  3.79425599e-01,\n",
       "         3.31762087e-01,  3.26300690e-01, -1.11717347e-01,\n",
       "         4.83201118e-01,  4.82005943e-01,  5.76095531e-02,\n",
       "         2.77406257e-01,  1.29821325e-01,  7.27206829e-01,\n",
       "         4.66421111e-01, -4.52936667e-01,  7.68083234e-01,\n",
       "        -1.98153024e-01,  2.04989161e+00,  2.41312310e-01,\n",
       "         8.47075055e-01,  1.08457807e+00, -3.87512020e-01,\n",
       "         1.19955475e+00,  5.52868103e-01,  7.10856697e-01,\n",
       "        -2.07876976e-02,  4.91842231e-01,  7.21210251e-01,\n",
       "        -2.23426092e-01,  5.71524429e-01,  1.95550472e-01,\n",
       "         4.16525346e-01, -4.36465813e-02,  3.15088215e-03,\n",
       "         9.15395845e-01,  1.03330974e+00,  5.10156314e-02,\n",
       "         1.55150607e-01, -1.34630018e-01,  2.97784162e-01,\n",
       "         1.45474951e-01,  4.44934522e-01, -9.41918662e-03,\n",
       "         2.54610927e-01, -2.25620907e-01, -2.36711298e-01,\n",
       "         3.56716558e-01,  1.09938806e+00, -3.53224197e-01,\n",
       "         9.86027877e-02,  3.49862212e-01, -9.53529796e-01,\n",
       "         1.94461914e-01,  1.76393931e-02,  5.92268549e-01,\n",
       "         3.05649220e-01, -3.68741340e-02,  1.53182424e-02,\n",
       "        -5.93996310e-01,  1.13465871e-01,  5.68024303e-01,\n",
       "        -1.16055680e-01]])"
      ]
     },
     "execution_count": 61,
     "metadata": {},
     "output_type": "execute_result"
    }
   ],
   "source": [
    "als(ratings_arr2, users_arr2, items_arr2)[:5, :]"
   ]
  },
  {
   "cell_type": "markdown",
   "metadata": {},
   "source": [
    "#### ALS in `pyspark`\n",
    "\n",
    "We'll talk about Big Data and Spark soon, but I'll just note here that Spark has a recommendation submodule inside its ml (machine learning) module. Source code for `pyspark`'s version [here](https://spark.apache.org/docs/latest/api/python/_modules/pyspark/ml/recommendation.html)."
   ]
  },
  {
   "cell_type": "code",
   "execution_count": null,
   "metadata": {},
   "outputs": [],
   "source": []
  }
 ],
 "metadata": {
  "kernelspec": {
   "display_name": "Python 3",
   "language": "python",
   "name": "python3"
  },
  "language_info": {
   "codemirror_mode": {
    "name": "ipython",
    "version": 3
   },
   "file_extension": ".py",
   "mimetype": "text/x-python",
   "name": "python",
   "nbconvert_exporter": "python",
   "pygments_lexer": "ipython3",
   "version": "3.8.5"
  },
  "toc": {
   "base_numbering": 1,
   "nav_menu": {},
   "number_sections": true,
   "sideBar": true,
   "skip_h1_title": false,
   "title_cell": "Table of Contents",
   "title_sidebar": "Contents",
   "toc_cell": false,
   "toc_position": {},
   "toc_section_display": true,
   "toc_window_display": false
  },
  "varInspector": {
   "cols": {
    "lenName": 16,
    "lenType": 16,
    "lenVar": 40
   },
   "kernels_config": {
    "python": {
     "delete_cmd_postfix": "",
     "delete_cmd_prefix": "del ",
     "library": "var_list.py",
     "varRefreshCmd": "print(var_dic_list())"
    },
    "r": {
     "delete_cmd_postfix": ") ",
     "delete_cmd_prefix": "rm(",
     "library": "var_list.r",
     "varRefreshCmd": "cat(var_dic_list()) "
    }
   },
   "position": {
    "height": "471.844px",
    "left": "235px",
    "right": "20px",
    "top": "120px",
    "width": "605px"
   },
   "types_to_exclude": [
    "module",
    "function",
    "builtin_function_or_method",
    "instance",
    "_Feature"
   ],
   "window_display": false
  }
 },
 "nbformat": 4,
 "nbformat_minor": 2
}
