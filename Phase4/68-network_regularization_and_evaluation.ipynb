{
 "cells": [
  {
   "cell_type": "markdown",
   "metadata": {
    "slideshow": {
     "slide_type": "slide"
    }
   },
   "source": [
    "# Regularization and Evaluation of Neural Networks"
   ]
  },
  {
   "cell_type": "code",
   "execution_count": 17,
   "metadata": {
    "ExecuteTime": {
     "end_time": "2022-05-05T18:15:18.766358Z",
     "start_time": "2022-05-05T18:15:18.632330Z"
    }
   },
   "outputs": [
    {
     "name": "stdout",
     "output_type": "stream",
     "text": [
      "The autoreload extension is already loaded. To reload it, use:\n",
      "  %reload_ext autoreload\n"
     ]
    }
   ],
   "source": [
    "from sklearn.datasets import load_sample_images\n",
    "from sklearn.datasets import load_digits\n",
    "from sklearn.model_selection import train_test_split, cross_val_score\n",
    "from sklearn.preprocessing import OneHotEncoder\n",
    "from sklearn.metrics import accuracy_score, confusion_matrix\n",
    "import matplotlib.pyplot as plt\n",
    "import matplotlib.image as mpimg\n",
    "import numpy as np\n",
    "import seaborn as sns\n",
    "\n",
    "from tensorflow.keras.models import Sequential\n",
    "from tensorflow.keras.layers import Dense, Dropout\n",
    "from tensorflow.keras.regularizers import l2\n",
    "from tensorflow.keras.optimizers import SGD\n",
    "from tensorflow.keras.wrappers import scikit_learn\n",
    "from tensorflow.keras.callbacks import EarlyStopping\n",
    "\n",
    "import os\n",
    "import sys\n",
    "module_path = os.path.abspath(os.path.join(os.pardir, os.pardir))\n",
    "if module_path not in sys.path:\n",
    "    sys.path.append(module_path)\n",
    "    \n",
    "from src.confusion import plot_confusion_matrix\n",
    "    \n",
    "%load_ext autoreload\n",
    "%autoreload 2"
   ]
  },
  {
   "cell_type": "markdown",
   "metadata": {},
   "source": [
    "## Learning Objectives\n",
    "\n",
    "- use `keras` to code up a neural network model;\n",
    "- explain dropout and early stopping as distinctive forms of regularization in neural networks;\n",
    "- use wrappers inside `keras` to make models that can jibe with `sklearn`."
   ]
  },
  {
   "cell_type": "markdown",
   "metadata": {},
   "source": [
    "### From last time"
   ]
  },
  {
   "cell_type": "code",
   "execution_count": 18,
   "metadata": {
    "ExecuteTime": {
     "end_time": "2022-05-05T18:15:19.674575Z",
     "start_time": "2022-05-05T18:15:19.416513Z"
    }
   },
   "outputs": [],
   "source": [
    "digits = load_digits()\n",
    "X = digits.data\n",
    "y = digits.target\n",
    "\n",
    "y_binary = np.asarray(y_binary).astype('float32')"
   ]
  },
  {
   "cell_type": "code",
   "execution_count": 19,
   "metadata": {
    "ExecuteTime": {
     "end_time": "2022-05-05T18:15:27.577750Z",
     "start_time": "2022-05-05T18:15:20.787288Z"
    },
    "scrolled": false
   },
   "outputs": [
    {
     "name": "stdout",
     "output_type": "stream",
     "text": [
      "Epoch 1/50\n",
      "180/180 [==============================] - 0s 372us/step - loss: 0.6130 - accuracy: 0.7056\n",
      "Epoch 2/50\n",
      "180/180 [==============================] - 0s 973us/step - loss: 0.2937 - accuracy: 0.8815\n",
      "Epoch 3/50\n",
      "180/180 [==============================] - 0s 361us/step - loss: 0.2038 - accuracy: 0.9260\n",
      "Epoch 4/50\n",
      "180/180 [==============================] - 0s 383us/step - loss: 0.1566 - accuracy: 0.9377\n",
      "Epoch 5/50\n",
      "180/180 [==============================] - 0s 356us/step - loss: 0.1258 - accuracy: 0.9527\n",
      "Epoch 6/50\n",
      "180/180 [==============================] - 0s 367us/step - loss: 0.1009 - accuracy: 0.9627\n",
      "Epoch 7/50\n",
      "180/180 [==============================] - 0s 761us/step - loss: 0.0873 - accuracy: 0.96770s - loss: 0.0875 - accuracy: 0.96\n",
      "Epoch 8/50\n",
      "180/180 [==============================] - 0s 361us/step - loss: 0.0783 - accuracy: 0.9705\n",
      "Epoch 9/50\n",
      "180/180 [==============================] - 0s 378us/step - loss: 0.0692 - accuracy: 0.9722\n",
      "Epoch 10/50\n",
      "180/180 [==============================] - 0s 383us/step - loss: 0.0649 - accuracy: 0.9761\n",
      "Epoch 11/50\n",
      "180/180 [==============================] - 0s 383us/step - loss: 0.0561 - accuracy: 0.9783\n",
      "Epoch 12/50\n",
      "180/180 [==============================] - 0s 356us/step - loss: 0.0523 - accuracy: 0.9811\n",
      "Epoch 13/50\n",
      "180/180 [==============================] - 0s 378us/step - loss: 0.0476 - accuracy: 0.9822\n",
      "Epoch 14/50\n",
      "180/180 [==============================] - 0s 667us/step - loss: 0.0440 - accuracy: 0.9822\n",
      "Epoch 15/50\n",
      "180/180 [==============================] - 0s 378us/step - loss: 0.0413 - accuracy: 0.9833\n",
      "Epoch 16/50\n",
      "180/180 [==============================] - 0s 383us/step - loss: 0.0381 - accuracy: 0.9866\n",
      "Epoch 17/50\n",
      "180/180 [==============================] - 0s 372us/step - loss: 0.0368 - accuracy: 0.9861\n",
      "Epoch 18/50\n",
      "180/180 [==============================] - 0s 356us/step - loss: 0.0327 - accuracy: 0.9889\n",
      "Epoch 19/50\n",
      "180/180 [==============================] - 0s 361us/step - loss: 0.0304 - accuracy: 0.9872\n",
      "Epoch 20/50\n",
      "180/180 [==============================] - 0s 378us/step - loss: 0.0280 - accuracy: 0.9900\n",
      "Epoch 21/50\n",
      "180/180 [==============================] - 0s 372us/step - loss: 0.0252 - accuracy: 0.9911\n",
      "Epoch 22/50\n",
      "180/180 [==============================] - 0s 605us/step - loss: 0.0223 - accuracy: 0.9928\n",
      "Epoch 23/50\n",
      "180/180 [==============================] - 0s 450us/step - loss: 0.0202 - accuracy: 0.9917\n",
      "Epoch 24/50\n",
      "180/180 [==============================] - 0s 767us/step - loss: 0.0211 - accuracy: 0.9939\n",
      "Epoch 25/50\n",
      "180/180 [==============================] - 0s 1ms/step - loss: 0.0177 - accuracy: 0.9944\n",
      "Epoch 26/50\n",
      "180/180 [==============================] - 0s 783us/step - loss: 0.0159 - accuracy: 0.9939TA: 0s - loss: 0.0166 - accuracy: 0.9942\n",
      "Epoch 27/50\n",
      "180/180 [==============================] - 0s 745us/step - loss: 0.0174 - accuracy: 0.9933\n",
      "Epoch 28/50\n",
      "180/180 [==============================] - 0s 783us/step - loss: 0.0151 - accuracy: 0.9955\n",
      "Epoch 29/50\n",
      "180/180 [==============================] - 0s 784us/step - loss: 0.0143 - accuracy: 0.99390s - loss: 0.0137 - accuracy: 0.\n",
      "Epoch 30/50\n",
      "180/180 [==============================] - 0s 1ms/step - loss: 0.0124 - accuracy: 0.9944\n",
      "Epoch 31/50\n",
      "180/180 [==============================] - 0s 761us/step - loss: 0.0123 - accuracy: 0.99550s - loss: 0.0089 - accuracy: 0.\n",
      "Epoch 32/50\n",
      "180/180 [==============================] - 0s 733us/step - loss: 0.0103 - accuracy: 0.9967\n",
      "Epoch 33/50\n",
      "180/180 [==============================] - 0s 356us/step - loss: 0.0099 - accuracy: 0.9961\n",
      "Epoch 34/50\n",
      "180/180 [==============================] - 0s 756us/step - loss: 0.0059 - accuracy: 0.99890s - loss: 0.0057 - accuracy: 0.99\n",
      "Epoch 35/50\n",
      "180/180 [==============================] - 0s 378us/step - loss: 0.0065 - accuracy: 0.9983\n",
      "Epoch 36/50\n",
      "180/180 [==============================] - 0s 350us/step - loss: 0.0080 - accuracy: 0.9972\n",
      "Epoch 37/50\n",
      "180/180 [==============================] - 0s 378us/step - loss: 0.0041 - accuracy: 1.0000\n",
      "Epoch 38/50\n",
      "180/180 [==============================] - 0s 1ms/step - loss: 0.0063 - accuracy: 0.9978\n",
      "Epoch 39/50\n",
      "180/180 [==============================] - 0s 795us/step - loss: 0.0044 - accuracy: 0.9989\n",
      "Epoch 40/50\n",
      "180/180 [==============================] - 0s 1ms/step - loss: 0.0033 - accuracy: 0.9994\n",
      "Epoch 41/50\n",
      "180/180 [==============================] - 0s 1ms/step - loss: 0.0036 - accuracy: 0.9989 ETA: 0s - loss: 0.0015 - accuracy: 1.00\n",
      "Epoch 42/50\n",
      "180/180 [==============================] - 0s 1ms/step - loss: 0.0029 - accuracy: 0.9994\n",
      "Epoch 43/50\n",
      "180/180 [==============================] - 0s 750us/step - loss: 0.0030 - accuracy: 0.9989\n",
      "Epoch 44/50\n",
      "180/180 [==============================] - 0s 1ms/step - loss: 0.0024 - accuracy: 0.9994\n",
      "Epoch 45/50\n",
      "180/180 [==============================] - 0s 767us/step - loss: 0.0020 - accuracy: 1.0000\n",
      "Epoch 46/50\n",
      "180/180 [==============================] - 0s 1ms/step - loss: 0.0031 - accuracy: 0.9994 ETA: 0s - loss: 0.0018 - accuracy: 1.0000 - ETA: 0s - loss: 0.0018 - accuracy: 1.\n",
      "Epoch 47/50\n",
      "180/180 [==============================] - ETA: 0s - loss: 0.0011 - accuracy: 1.0000   - 0s 811us/step - loss: 0.0015 - accuracy: 1.0000\n",
      "Epoch 48/50\n",
      "180/180 [==============================] - 0s 856us/step - loss: 0.0018 - accuracy: 1.0000TA: 0s - loss: 0.0016 - accuracy: 1.00\n",
      "Epoch 49/50\n",
      "180/180 [==============================] - 0s 745us/step - loss: 0.0014 - accuracy: 1.0000\n",
      "Epoch 50/50\n",
      "180/180 [==============================] - 0s 1ms/step - loss: 0.0011 - accuracy: 1.0000\n"
     ]
    },
    {
     "data": {
      "text/plain": [
       "<tensorflow.python.keras.callbacks.History at 0x1d65d6a6bb0>"
      ]
     },
     "execution_count": 19,
     "metadata": {},
     "output_type": "execute_result"
    }
   ],
   "source": [
    "model = Sequential()\n",
    "model.add(Dense(12, activation='relu', input_dim=64))\n",
    "model.add(Dense(8, activation='relu'))\n",
    "model.add(Dense(1, activation='sigmoid'))\n",
    "\n",
    "model.compile(optimizer='rmsprop',\n",
    "              loss='binary_crossentropy',\n",
    "              metrics=['accuracy'])\n",
    "\n",
    "model.fit(X, y_binary, epochs=50, batch_size=10)"
   ]
  },
  {
   "cell_type": "markdown",
   "metadata": {},
   "source": [
    "### Things to know:\n",
    "\n",
    "- The data and labels in `fit()` need to be numpy arrays, not `pandas` dfs.\n",
    "- Scaling your data will have a large impact on your model.\n",
    "   > For our traditional input features, we would use a scaler object. For images, as long as the minimum value is 0, we can simply divide through by the maximum pixel intensity."
   ]
  },
  {
   "cell_type": "markdown",
   "metadata": {},
   "source": [
    "#### Getting data ready for modeling\n",
    "**Preprocessing**:\n",
    "\n",
    "- use train_test_split to create X_train, y_train, X_test, and y_test\n",
    "- Split training data into pure_train and validation sets.\n",
    "- Scale the pixel intensity to a value between 0 and 1."
   ]
  },
  {
   "cell_type": "markdown",
   "metadata": {},
   "source": [
    "Scaling our input variables will help speed up our neural network.\n",
    "\n",
    "Since our minimum intensity is 0, we can normalize the inputs by dividing each value by the max value (16)."
   ]
  },
  {
   "cell_type": "code",
   "execution_count": 20,
   "metadata": {
    "ExecuteTime": {
     "end_time": "2022-05-05T18:15:32.944787Z",
     "start_time": "2022-05-05T18:15:32.640743Z"
    }
   },
   "outputs": [],
   "source": [
    "X_train, X_test, y_train, y_test =\\\n",
    "    train_test_split(X, y_binary, random_state=42, test_size=0.2)\n",
    "\n",
    "X_pure_train, X_val, y_pure_train, y_val =\\\n",
    "    train_test_split(X_train, y_train, random_state=42, test_size=0.2)\n",
    "\n",
    "X_pure_train, X_val, X_test = X_pure_train/16, X_val/16, X_test/16"
   ]
  },
  {
   "cell_type": "markdown",
   "metadata": {},
   "source": [
    "For activation, let's start with the familiar sigmoid function, and see how it performs."
   ]
  },
  {
   "cell_type": "code",
   "execution_count": 21,
   "metadata": {
    "ExecuteTime": {
     "end_time": "2022-05-05T18:15:36.612670Z",
     "start_time": "2022-05-05T18:15:35.734115Z"
    },
    "scrolled": false
   },
   "outputs": [
    {
     "name": "stdout",
     "output_type": "stream",
     "text": [
      "Epoch 1/10\n",
      "12/12 [==============================] - 0s 417us/step - loss: 0.8156 - accuracy: 0.4961\n",
      "Epoch 2/10\n",
      "12/12 [==============================] - 0s 333us/step - loss: 0.7958 - accuracy: 0.4961\n",
      "Epoch 3/10\n",
      "12/12 [==============================] - 0s 333us/step - loss: 0.7792 - accuracy: 0.4961\n",
      "Epoch 4/10\n",
      "12/12 [==============================] - 0s 417us/step - loss: 0.7649 - accuracy: 0.4961\n",
      "Epoch 5/10\n",
      "12/12 [==============================] - 0s 417us/step - loss: 0.7528 - accuracy: 0.4961\n",
      "Epoch 6/10\n",
      "12/12 [==============================] - 0s 333us/step - loss: 0.7426 - accuracy: 0.4961\n",
      "Epoch 7/10\n",
      "12/12 [==============================] - 0s 333us/step - loss: 0.7344 - accuracy: 0.4961\n",
      "Epoch 8/10\n",
      "12/12 [==============================] - 0s 417us/step - loss: 0.7272 - accuracy: 0.4961\n",
      "Epoch 9/10\n",
      "12/12 [==============================] - 0s 6ms/step - loss: 0.7214 - accuracy: 0.4961\n",
      "Epoch 10/10\n",
      "12/12 [==============================] - 0s 417us/step - loss: 0.7164 - accuracy: 0.4961\n"
     ]
    }
   ],
   "source": [
    "model = Sequential()\n",
    "# We will start with our trusty sigmoid function.\n",
    "# What does input dimension correspond to?\n",
    "model.add(Dense(12, activation='sigmoid', input_dim=64))\n",
    "model.add(Dense(8, activation='sigmoid'))\n",
    "model.add(Dense(1, activation='sigmoid'))\n",
    "\n",
    "model.compile(optimizer='SGD' ,\n",
    "              # We use binary_crossentropy for a binary loss function\n",
    "              loss='binary_crossentropy',\n",
    "              metrics=['accuracy'])\n",
    "\n",
    "# Assign the variable history to store the results,\n",
    "# and set verbose=1 so we can see the output. To see\n",
    "# only the metrics at the end of each epoch, set verbose=2.\n",
    "results = model.fit(X_pure_train, y_pure_train, epochs=10, batch_size=100, verbose=1)"
   ]
  },
  {
   "cell_type": "markdown",
   "metadata": {},
   "source": [
    "We can access the history of our model via `results.history`.\n",
    "Use __dict__ to take a tour."
   ]
  },
  {
   "cell_type": "code",
   "execution_count": 22,
   "metadata": {
    "ExecuteTime": {
     "end_time": "2022-05-05T18:15:39.896712Z",
     "start_time": "2022-05-05T18:15:39.698656Z"
    }
   },
   "outputs": [
    {
     "data": {
      "text/plain": [
       "{'validation_data': None,\n",
       " 'model': <tensorflow.python.keras.engine.sequential.Sequential at 0x1d65d995520>,\n",
       " '_chief_worker_only': None,\n",
       " '_supports_tf_logs': False,\n",
       " 'history': {'loss': [0.8156428337097168,\n",
       "   0.7958268523216248,\n",
       "   0.7791900038719177,\n",
       "   0.7649080753326416,\n",
       "   0.7527751326560974,\n",
       "   0.7426044344902039,\n",
       "   0.7343736886978149,\n",
       "   0.7272395491600037,\n",
       "   0.7214056849479675,\n",
       "   0.7163919806480408],\n",
       "  'accuracy': [0.4960835576057434,\n",
       "   0.4960835576057434,\n",
       "   0.4960835576057434,\n",
       "   0.4960835576057434,\n",
       "   0.4960835576057434,\n",
       "   0.4960835576057434,\n",
       "   0.4960835576057434,\n",
       "   0.4960835576057434,\n",
       "   0.4960835576057434,\n",
       "   0.4960835576057434]},\n",
       " 'params': {'verbose': 1, 'epochs': 10, 'steps': 12},\n",
       " 'epoch': [0, 1, 2, 3, 4, 5, 6, 7, 8, 9]}"
      ]
     },
     "execution_count": 22,
     "metadata": {},
     "output_type": "execute_result"
    }
   ],
   "source": [
    "# dict\n",
    "results.__dict__"
   ]
  },
  {
   "cell_type": "code",
   "execution_count": 23,
   "metadata": {
    "ExecuteTime": {
     "end_time": "2022-05-05T18:15:43.566469Z",
     "start_time": "2022-05-05T18:15:42.826304Z"
    }
   },
   "outputs": [
    {
     "data": {
      "image/png": "[encoded data removed]",
      "text/plain": [
       "<Figure size 720x360 with 2 Axes>"
      ]
     },
     "metadata": {
      "needs_background": "light"
     },
     "output_type": "display_data"
    }
   ],
   "source": [
    "sigmoid_loss = results.history['loss']\n",
    "sigmoid_accuracy = results.history['accuracy']\n",
    "\n",
    "fig, (ax1, ax2) = plt.subplots(1, 2, figsize=(10, 5))\n",
    "sns.lineplot(x=results.epoch, y=sigmoid_loss, ax=ax1, label='loss')\n",
    "sns.lineplot(x=results.epoch, y=sigmoid_accuracy, ax=ax2, label='accuracy');"
   ]
  },
  {
   "cell_type": "markdown",
   "metadata": {},
   "source": [
    "We have two plots above both relating to the quality of our model.  The left-hand plot is our loss. It uses the probabilities associated with our predictions to judge how well our prediction fits reality. We want it to decrease as far as possible.\n",
    "\n",
    "The accuracy judges how well the predictions are after applying the threshold at the output layer.  We want accuracy to increase."
   ]
  },
  {
   "cell_type": "markdown",
   "metadata": {},
   "source": [
    "If we look at our loss, it is still decreasing. That is a signal that our model is **still learning**. If our model is still learning, we can allow it to get better by turning a few dials.\n",
    "\n",
    "Let's:\n",
    "- increase the number of epochs;\n",
    "- change sigmoid activation in the hidden layers to ReLU; and\n",
    "- decrease the batch size."
   ]
  },
  {
   "cell_type": "markdown",
   "metadata": {},
   "source": [
    "## Basic Model Tuning"
   ]
  },
  {
   "cell_type": "markdown",
   "metadata": {},
   "source": [
    "### Increase Epochs"
   ]
  },
  {
   "cell_type": "code",
   "execution_count": 26,
   "metadata": {
    "ExecuteTime": {
     "end_time": "2022-05-05T18:16:08.318196Z",
     "start_time": "2022-05-05T18:16:06.176717Z"
    },
    "scrolled": true
   },
   "outputs": [
    {
     "name": "stdout",
     "output_type": "stream",
     "text": [
      "Epoch 1/100\n",
      "36/36 [==============================] - 0s 361us/step - loss: 0.7118 - accuracy: 0.5039\n",
      "Epoch 2/100\n",
      "36/36 [==============================] - 0s 333us/step - loss: 0.7049 - accuracy: 0.5039\n",
      "Epoch 3/100\n",
      "36/36 [==============================] - 0s 361us/step - loss: 0.7007 - accuracy: 0.5039\n",
      "Epoch 4/100\n",
      "36/36 [==============================] - 0s 389us/step - loss: 0.6980 - accuracy: 0.5039\n",
      "Epoch 5/100\n",
      "36/36 [==============================] - 0s 333us/step - loss: 0.6963 - accuracy: 0.5039\n",
      "Epoch 6/100\n",
      "36/36 [==============================] - 0s 417us/step - loss: 0.6953 - accuracy: 0.5039\n",
      "Epoch 7/100\n",
      "36/36 [==============================] - 0s 333us/step - loss: 0.6945 - accuracy: 0.5039\n",
      "Epoch 8/100\n",
      "36/36 [==============================] - 0s 333us/step - loss: 0.6939 - accuracy: 0.5039\n",
      "Epoch 9/100\n",
      "36/36 [==============================] - 0s 361us/step - loss: 0.6936 - accuracy: 0.5039\n",
      "Epoch 10/100\n",
      "36/36 [==============================] - 0s 361us/step - loss: 0.6932 - accuracy: 0.5048\n",
      "Epoch 11/100\n",
      "36/36 [==============================] - 0s 361us/step - loss: 0.6930 - accuracy: 0.5048\n",
      "Epoch 12/100\n",
      "36/36 [==============================] - 0s 361us/step - loss: 0.6928 - accuracy: 0.5109\n",
      "Epoch 13/100\n",
      "36/36 [==============================] - 0s 389us/step - loss: 0.6926 - accuracy: 0.5091\n",
      "Epoch 14/100\n",
      "36/36 [==============================] - 0s 361us/step - loss: 0.6924 - accuracy: 0.5239\n",
      "Epoch 15/100\n",
      "36/36 [==============================] - 0s 417us/step - loss: 0.6922 - accuracy: 0.5274\n",
      "Epoch 16/100\n",
      "36/36 [==============================] - 0s 361us/step - loss: 0.6921 - accuracy: 0.5283\n",
      "Epoch 17/100\n",
      "36/36 [==============================] - 0s 361us/step - loss: 0.6919 - accuracy: 0.5300\n",
      "Epoch 18/100\n",
      "36/36 [==============================] - 0s 389us/step - loss: 0.6917 - accuracy: 0.5370\n",
      "Epoch 19/100\n",
      "36/36 [==============================] - 0s 361us/step - loss: 0.6915 - accuracy: 0.5387\n",
      "Epoch 20/100\n",
      "36/36 [==============================] - 0s 361us/step - loss: 0.6913 - accuracy: 0.5535\n",
      "Epoch 21/100\n",
      "36/36 [==============================] - 0s 361us/step - loss: 0.6912 - accuracy: 0.5631\n",
      "Epoch 22/100\n",
      "36/36 [==============================] - 0s 389us/step - loss: 0.6910 - accuracy: 0.5814\n",
      "Epoch 23/100\n",
      "36/36 [==============================] - 0s 361us/step - loss: 0.6908 - accuracy: 0.5701\n",
      "Epoch 24/100\n",
      "36/36 [==============================] - 0s 417us/step - loss: 0.6906 - accuracy: 0.6040\n",
      "Epoch 25/100\n",
      "36/36 [==============================] - 0s 333us/step - loss: 0.6904 - accuracy: 0.6092\n",
      "Epoch 26/100\n",
      "36/36 [==============================] - 0s 361us/step - loss: 0.6903 - accuracy: 0.6118\n",
      "Epoch 27/100\n",
      "36/36 [==============================] - 0s 333us/step - loss: 0.6900 - accuracy: 0.5770\n",
      "Epoch 28/100\n",
      "36/36 [==============================] - 0s 500us/step - loss: 0.6898 - accuracy: 0.6092\n",
      "Epoch 29/100\n",
      "36/36 [==============================] - 0s 361us/step - loss: 0.6897 - accuracy: 0.6118\n",
      "Epoch 30/100\n",
      "36/36 [==============================] - 0s 361us/step - loss: 0.6895 - accuracy: 0.6232\n",
      "Epoch 31/100\n",
      "36/36 [==============================] - 0s 361us/step - loss: 0.6893 - accuracy: 0.6188\n",
      "Epoch 32/100\n",
      "36/36 [==============================] - 0s 361us/step - loss: 0.6891 - accuracy: 0.5936\n",
      "Epoch 33/100\n",
      "36/36 [==============================] - 0s 417us/step - loss: 0.6889 - accuracy: 0.6458\n",
      "Epoch 34/100\n",
      "36/36 [==============================] - 0s 333us/step - loss: 0.6887 - accuracy: 0.6371\n",
      "Epoch 35/100\n",
      "36/36 [==============================] - 0s 333us/step - loss: 0.6884 - accuracy: 0.6197\n",
      "Epoch 36/100\n",
      "36/36 [==============================] - 0s 389us/step - loss: 0.6883 - accuracy: 0.6493\n",
      "Epoch 37/100\n",
      "36/36 [==============================] - 0s 445us/step - loss: 0.6881 - accuracy: 0.6466\n",
      "Epoch 38/100\n",
      "36/36 [==============================] - 0s 389us/step - loss: 0.6878 - accuracy: 0.6701\n",
      "Epoch 39/100\n",
      "36/36 [==============================] - 0s 445us/step - loss: 0.6877 - accuracy: 0.6693\n",
      "Epoch 40/100\n",
      "36/36 [==============================] - 0s 389us/step - loss: 0.6874 - accuracy: 0.6701\n",
      "Epoch 41/100\n",
      "36/36 [==============================] - 0s 389us/step - loss: 0.6872 - accuracy: 0.6736\n",
      "Epoch 42/100\n",
      "36/36 [==============================] - 0s 389us/step - loss: 0.6869 - accuracy: 0.6675\n",
      "Epoch 43/100\n",
      "36/36 [==============================] - 0s 417us/step - loss: 0.6867 - accuracy: 0.6693\n",
      "Epoch 44/100\n",
      "36/36 [==============================] - 0s 389us/step - loss: 0.6865 - accuracy: 0.6884\n",
      "Epoch 45/100\n",
      "36/36 [==============================] - 0s 361us/step - loss: 0.6863 - accuracy: 0.6815\n",
      "Epoch 46/100\n",
      "36/36 [==============================] - 0s 417us/step - loss: 0.6860 - accuracy: 0.6954\n",
      "Epoch 47/100\n",
      "36/36 [==============================] - 0s 361us/step - loss: 0.6858 - accuracy: 0.7050\n",
      "Epoch 48/100\n",
      "36/36 [==============================] - 0s 417us/step - loss: 0.6855 - accuracy: 0.6919\n",
      "Epoch 49/100\n",
      "36/36 [==============================] - 0s 361us/step - loss: 0.6853 - accuracy: 0.7180\n",
      "Epoch 50/100\n",
      "36/36 [==============================] - 0s 417us/step - loss: 0.6850 - accuracy: 0.7311\n",
      "Epoch 51/100\n",
      "36/36 [==============================] - 0s 389us/step - loss: 0.6848 - accuracy: 0.7015\n",
      "Epoch 52/100\n",
      "36/36 [==============================] - 0s 417us/step - loss: 0.6846 - accuracy: 0.7128\n",
      "Epoch 53/100\n",
      "36/36 [==============================] - 0s 389us/step - loss: 0.6843 - accuracy: 0.7372\n",
      "Epoch 54/100\n",
      "36/36 [==============================] - 0s 389us/step - loss: 0.6840 - accuracy: 0.7111\n",
      "Epoch 55/100\n",
      "36/36 [==============================] - 0s 361us/step - loss: 0.6837 - accuracy: 0.7441\n",
      "Epoch 56/100\n",
      "36/36 [==============================] - 0s 333us/step - loss: 0.6835 - accuracy: 0.6971\n",
      "Epoch 57/100\n",
      "36/36 [==============================] - 0s 333us/step - loss: 0.6832 - accuracy: 0.7302\n",
      "Epoch 58/100\n",
      "36/36 [==============================] - 0s 361us/step - loss: 0.6828 - accuracy: 0.7467\n",
      "Epoch 59/100\n",
      "36/36 [==============================] - 0s 389us/step - loss: 0.6826 - accuracy: 0.7528\n",
      "Epoch 60/100\n",
      "36/36 [==============================] - 0s 361us/step - loss: 0.6823 - accuracy: 0.7380\n",
      "Epoch 61/100\n",
      "36/36 [==============================] - 0s 472us/step - loss: 0.6820 - accuracy: 0.7441\n",
      "Epoch 62/100\n",
      "36/36 [==============================] - 0s 361us/step - loss: 0.6816 - accuracy: 0.7459\n",
      "Epoch 63/100\n",
      "36/36 [==============================] - 0s 445us/step - loss: 0.6813 - accuracy: 0.7346\n",
      "Epoch 64/100\n",
      "36/36 [==============================] - 0s 2ms/step - loss: 0.6810 - accuracy: 0.7650\n",
      "Epoch 65/100\n",
      "36/36 [==============================] - 0s 445us/step - loss: 0.6807 - accuracy: 0.7328\n",
      "Epoch 66/100\n",
      "36/36 [==============================] - 0s 389us/step - loss: 0.6803 - accuracy: 0.7755\n",
      "Epoch 67/100\n",
      "36/36 [==============================] - 0s 2ms/step - loss: 0.6800 - accuracy: 0.7755\n",
      "Epoch 68/100\n",
      "36/36 [==============================] - 0s 389us/step - loss: 0.6796 - accuracy: 0.7650\n",
      "Epoch 69/100\n",
      "36/36 [==============================] - 0s 417us/step - loss: 0.6792 - accuracy: 0.7589\n",
      "Epoch 70/100\n",
      "36/36 [==============================] - 0s 417us/step - loss: 0.6789 - accuracy: 0.7720\n",
      "Epoch 71/100\n",
      "36/36 [==============================] - 0s 389us/step - loss: 0.6785 - accuracy: 0.7798\n",
      "Epoch 72/100\n",
      "36/36 [==============================] - 0s 389us/step - loss: 0.6781 - accuracy: 0.7746\n",
      "Epoch 73/100\n",
      "36/36 [==============================] - 0s 361us/step - loss: 0.6777 - accuracy: 0.7903\n",
      "Epoch 74/100\n",
      "36/36 [==============================] - 0s 389us/step - loss: 0.6774 - accuracy: 0.7720\n",
      "Epoch 75/100\n",
      "36/36 [==============================] - 0s 361us/step - loss: 0.6769 - accuracy: 0.7990\n",
      "Epoch 76/100\n",
      "36/36 [==============================] - 0s 389us/step - loss: 0.6765 - accuracy: 0.7815\n",
      "Epoch 77/100\n",
      "36/36 [==============================] - 0s 361us/step - loss: 0.6761 - accuracy: 0.7929\n",
      "Epoch 78/100\n",
      "36/36 [==============================] - 0s 361us/step - loss: 0.6756 - accuracy: 0.7685\n",
      "Epoch 79/100\n",
      "36/36 [==============================] - 0s 389us/step - loss: 0.6752 - accuracy: 0.7920\n",
      "Epoch 80/100\n",
      "36/36 [==============================] - 0s 389us/step - loss: 0.6747 - accuracy: 0.7929\n",
      "Epoch 81/100\n",
      "36/36 [==============================] - 0s 361us/step - loss: 0.6743 - accuracy: 0.7963\n",
      "Epoch 82/100\n",
      "36/36 [==============================] - 0s 445us/step - loss: 0.6738 - accuracy: 0.7955\n",
      "Epoch 83/100\n",
      "36/36 [==============================] - 0s 361us/step - loss: 0.6733 - accuracy: 0.7946\n",
      "Epoch 84/100\n",
      "36/36 [==============================] - 0s 528us/step - loss: 0.6728 - accuracy: 0.7990\n",
      "Epoch 85/100\n",
      "36/36 [==============================] - 0s 389us/step - loss: 0.6723 - accuracy: 0.7972\n",
      "Epoch 86/100\n",
      "36/36 [==============================] - 0s 389us/step - loss: 0.6718 - accuracy: 0.7955\n",
      "Epoch 87/100\n",
      "36/36 [==============================] - 0s 361us/step - loss: 0.6712 - accuracy: 0.7963\n",
      "Epoch 88/100\n",
      "36/36 [==============================] - 0s 361us/step - loss: 0.6706 - accuracy: 0.7868\n",
      "Epoch 89/100\n",
      "36/36 [==============================] - 0s 333us/step - loss: 0.6701 - accuracy: 0.7981\n",
      "Epoch 90/100\n",
      "36/36 [==============================] - 0s 417us/step - loss: 0.6695 - accuracy: 0.8138\n",
      "Epoch 91/100\n",
      "36/36 [==============================] - 0s 333us/step - loss: 0.6689 - accuracy: 0.8007\n",
      "Epoch 92/100\n",
      "36/36 [==============================] - 0s 389us/step - loss: 0.6684 - accuracy: 0.8216\n",
      "Epoch 93/100\n",
      "36/36 [==============================] - 0s 361us/step - loss: 0.6677 - accuracy: 0.8111\n",
      "Epoch 94/100\n",
      "36/36 [==============================] - 0s 333us/step - loss: 0.6670 - accuracy: 0.8111\n",
      "Epoch 95/100\n",
      "36/36 [==============================] - 0s 361us/step - loss: 0.6664 - accuracy: 0.8138\n",
      "Epoch 96/100\n",
      "36/36 [==============================] - 0s 361us/step - loss: 0.6657 - accuracy: 0.8207\n",
      "Epoch 97/100\n",
      "36/36 [==============================] - 0s 417us/step - loss: 0.6651 - accuracy: 0.8242\n",
      "Epoch 98/100\n",
      "36/36 [==============================] - 0s 361us/step - loss: 0.6644 - accuracy: 0.8190\n",
      "Epoch 99/100\n",
      "36/36 [==============================] - 0s 445us/step - loss: 0.6636 - accuracy: 0.8259\n",
      "Epoch 100/100\n",
      "36/36 [==============================] - 0s 361us/step - loss: 0.6629 - accuracy: 0.8268\n"
     ]
    }
   ],
   "source": [
    "model = Sequential()\n",
    "model.add(Dense(12, activation='sigmoid', input_dim=64))\n",
    "model.add(Dense(8, activation='sigmoid'))\n",
    "model.add(Dense(1, activation='sigmoid'))\n",
    "\n",
    "model.compile(optimizer='SGD',\n",
    "              loss='binary_crossentropy',\n",
    "              metrics=['accuracy'])\n",
    "\n",
    "# Assign the variable history to store the results,\n",
    "# and set verbose=1 so we can see the output.\n",
    "# increase epochs\n",
    "\n",
    "results = model.fit(X_pure_train, y_pure_train, epochs=100, batch_size=None, verbose=1)"
   ]
  },
  {
   "cell_type": "code",
   "execution_count": 27,
   "metadata": {
    "ExecuteTime": {
     "end_time": "2022-05-05T18:16:09.307274Z",
     "start_time": "2022-05-05T18:16:08.968030Z"
    }
   },
   "outputs": [
    {
     "data": {
      "image/png": "[encoded data removed]",
      "text/plain": [
       "<Figure size 720x360 with 2 Axes>"
      ]
     },
     "metadata": {
      "needs_background": "light"
     },
     "output_type": "display_data"
    }
   ],
   "source": [
    "sigmoid_loss = results.history['loss']\n",
    "sigmoid_accuracy = results.history['accuracy']\n",
    "\n",
    "fig, (ax1, ax2) = plt.subplots(1, 2, figsize=(10, 5))\n",
    "sns.lineplot(x=results.epoch, y=sigmoid_loss, ax=ax1, label='loss')\n",
    "sns.lineplot(x=results.epoch, y=sigmoid_accuracy, ax=ax2, label='accuracy')\n",
    "ax1.legend();"
   ]
  },
  {
   "cell_type": "markdown",
   "metadata": {},
   "source": [
    "### Decrease Batch Size"
   ]
  },
  {
   "cell_type": "code",
   "execution_count": 28,
   "metadata": {
    "ExecuteTime": {
     "end_time": "2022-05-05T18:16:12.836700Z",
     "start_time": "2022-05-05T18:16:11.984865Z"
    }
   },
   "outputs": [
    {
     "name": "stdout",
     "output_type": "stream",
     "text": [
      "Epoch 1/10\n",
      "115/115 [==============================] - 0s 374us/step - loss: 0.7170 - accuracy: 0.4961\n",
      "Epoch 2/10\n",
      "115/115 [==============================] - 0s 339us/step - loss: 0.6972 - accuracy: 0.4970\n",
      "Epoch 3/10\n",
      "115/115 [==============================] - 0s 348us/step - loss: 0.6940 - accuracy: 0.5117\n",
      "Epoch 4/10\n",
      "115/115 [==============================] - 0s 357us/step - loss: 0.6932 - accuracy: 0.5161\n",
      "Epoch 5/10\n",
      "115/115 [==============================] - 0s 339us/step - loss: 0.6927 - accuracy: 0.5152\n",
      "Epoch 6/10\n",
      "115/115 [==============================] - 0s 365us/step - loss: 0.6922 - accuracy: 0.5535\n",
      "Epoch 7/10\n",
      "115/115 [==============================] - 0s 391us/step - loss: 0.6916 - accuracy: 0.5057\n",
      "Epoch 8/10\n",
      "115/115 [==============================] - 0s 331us/step - loss: 0.6913 - accuracy: 0.5413\n",
      "Epoch 9/10\n",
      "115/115 [==============================] - 0s 365us/step - loss: 0.6907 - accuracy: 0.5335\n",
      "Epoch 10/10\n",
      "115/115 [==============================] - 0s 348us/step - loss: 0.6903 - accuracy: 0.5527\n"
     ]
    }
   ],
   "source": [
    "model = Sequential()\n",
    "\n",
    "model.add(Dense(12, activation='sigmoid', input_dim=64))\n",
    "model.add(Dense(8, activation='sigmoid'))\n",
    "model.add(Dense(1, activation='sigmoid'))\n",
    "\n",
    "model.compile(optimizer='SGD',\n",
    "              loss='binary_crossentropy',\n",
    "              metrics=['accuracy'])\n",
    "\n",
    "# decrease batch size\n",
    "results = model.fit(X_pure_train, y_pure_train, epochs=10, batch_size=10, verbose=1)"
   ]
  },
  {
   "cell_type": "code",
   "execution_count": 29,
   "metadata": {
    "ExecuteTime": {
     "end_time": "2022-05-05T18:16:14.704659Z",
     "start_time": "2022-05-05T18:16:14.322606Z"
    }
   },
   "outputs": [
    {
     "data": {
      "image/png": "[encoded data removed]",
      "text/plain": [
       "<Figure size 720x360 with 2 Axes>"
      ]
     },
     "metadata": {
      "needs_background": "light"
     },
     "output_type": "display_data"
    }
   ],
   "source": [
    "relu_loss = results.history['loss']\n",
    "relu_accuracy = results.history['accuracy']\n",
    "\n",
    "fig, (ax1, ax2) = plt.subplots(1, 2, figsize=(10, 5))\n",
    "sns.lineplot(x=results.epoch, y=relu_loss, ax=ax1, label='loss')\n",
    "sns.lineplot(x=results.epoch, y=relu_accuracy, ax=ax2, label='accuracy')\n",
    "ax1.legend();"
   ]
  },
  {
   "cell_type": "markdown",
   "metadata": {},
   "source": [
    "### Both"
   ]
  },
  {
   "cell_type": "code",
   "execution_count": 30,
   "metadata": {
    "ExecuteTime": {
     "end_time": "2022-05-05T18:16:37.842203Z",
     "start_time": "2022-05-05T18:16:32.754058Z"
    }
   },
   "outputs": [
    {
     "name": "stdout",
     "output_type": "stream",
     "text": [
      "Epoch 1/100\n",
      "115/115 [==============================] - 0s 357us/step - loss: 0.7306 - accuracy: 0.4961\n",
      "Epoch 2/100\n",
      "115/115 [==============================] - 0s 348us/step - loss: 0.6962 - accuracy: 0.4961\n",
      "Epoch 3/100\n",
      "115/115 [==============================] - 0s 357us/step - loss: 0.6915 - accuracy: 0.5309\n",
      "Epoch 4/100\n",
      "115/115 [==============================] - 0s 348us/step - loss: 0.6899 - accuracy: 0.5640\n",
      "Epoch 5/100\n",
      "115/115 [==============================] - 0s 365us/step - loss: 0.6892 - accuracy: 0.5674\n",
      "Epoch 6/100\n",
      "115/115 [==============================] - 0s 383us/step - loss: 0.6886 - accuracy: 0.6023\n",
      "Epoch 7/100\n",
      "115/115 [==============================] - 0s 357us/step - loss: 0.6878 - accuracy: 0.6110\n",
      "Epoch 8/100\n",
      "115/115 [==============================] - 0s 339us/step - loss: 0.6871 - accuracy: 0.6171\n",
      "Epoch 9/100\n",
      "115/115 [==============================] - 0s 357us/step - loss: 0.6864 - accuracy: 0.5788\n",
      "Epoch 10/100\n",
      "115/115 [==============================] - 0s 374us/step - loss: 0.6854 - accuracy: 0.6623\n",
      "Epoch 11/100\n",
      "115/115 [==============================] - 0s 339us/step - loss: 0.6848 - accuracy: 0.6188\n",
      "Epoch 12/100\n",
      "115/115 [==============================] - 0s 365us/step - loss: 0.6839 - accuracy: 0.6614\n",
      "Epoch 13/100\n",
      "115/115 [==============================] - 0s 348us/step - loss: 0.6829 - accuracy: 0.6728\n",
      "Epoch 14/100\n",
      "115/115 [==============================] - 0s 365us/step - loss: 0.6822 - accuracy: 0.6910\n",
      "Epoch 15/100\n",
      "115/115 [==============================] - 0s 391us/step - loss: 0.6811 - accuracy: 0.6379\n",
      "Epoch 16/100\n",
      "115/115 [==============================] - 0s 339us/step - loss: 0.6800 - accuracy: 0.6754\n",
      "Epoch 17/100\n",
      "115/115 [==============================] - 0s 357us/step - loss: 0.6789 - accuracy: 0.7128\n",
      "Epoch 18/100\n",
      "115/115 [==============================] - 0s 357us/step - loss: 0.6778 - accuracy: 0.7145\n",
      "Epoch 19/100\n",
      "115/115 [==============================] - 0s 339us/step - loss: 0.6761 - accuracy: 0.7137\n",
      "Epoch 20/100\n",
      "115/115 [==============================] - 0s 374us/step - loss: 0.6750 - accuracy: 0.7189\n",
      "Epoch 21/100\n",
      "115/115 [==============================] - 0s 348us/step - loss: 0.6734 - accuracy: 0.7032\n",
      "Epoch 22/100\n",
      "115/115 [==============================] - 0s 365us/step - loss: 0.6720 - accuracy: 0.7354\n",
      "Epoch 23/100\n",
      "115/115 [==============================] - 0s 391us/step - loss: 0.6703 - accuracy: 0.7424\n",
      "Epoch 24/100\n",
      "115/115 [==============================] - 0s 339us/step - loss: 0.6684 - accuracy: 0.7267\n",
      "Epoch 25/100\n",
      "115/115 [==============================] - 0s 365us/step - loss: 0.6666 - accuracy: 0.7581\n",
      "Epoch 26/100\n",
      "115/115 [==============================] - 0s 375us/step - loss: 0.6647 - accuracy: 0.7406\n",
      "Epoch 27/100\n",
      "115/115 [==============================] - 0s 1ms/step - loss: 0.6623 - accuracy: 0.7633: 0s - loss: 0.6634 - accuracy: 0.\n",
      "Epoch 28/100\n",
      "115/115 [==============================] - 0s 1ms/step - loss: 0.6600 - accuracy: 0.7737: 0s - loss: 0.6612 - accuracy: 0.\n",
      "Epoch 29/100\n",
      "115/115 [==============================] - 0s 374us/step - loss: 0.6575 - accuracy: 0.7659\n",
      "Epoch 30/100\n",
      "115/115 [==============================] - 0s 348us/step - loss: 0.6547 - accuracy: 0.7685\n",
      "Epoch 31/100\n",
      "115/115 [==============================] - 0s 391us/step - loss: 0.6517 - accuracy: 0.7789\n",
      "Epoch 32/100\n",
      "115/115 [==============================] - 0s 357us/step - loss: 0.6484 - accuracy: 0.7798\n",
      "Epoch 33/100\n",
      "115/115 [==============================] - 0s 365us/step - loss: 0.6450 - accuracy: 0.7815\n",
      "Epoch 34/100\n",
      "115/115 [==============================] - 0s 374us/step - loss: 0.6414 - accuracy: 0.7955\n",
      "Epoch 35/100\n",
      "115/115 [==============================] - 0s 374us/step - loss: 0.6372 - accuracy: 0.7972\n",
      "Epoch 36/100\n",
      "115/115 [==============================] - 0s 357us/step - loss: 0.6330 - accuracy: 0.8033\n",
      "Epoch 37/100\n",
      "115/115 [==============================] - 0s 383us/step - loss: 0.6282 - accuracy: 0.8042\n",
      "Epoch 38/100\n",
      "115/115 [==============================] - 0s 365us/step - loss: 0.6235 - accuracy: 0.8068\n",
      "Epoch 39/100\n",
      "115/115 [==============================] - 0s 409us/step - loss: 0.6181 - accuracy: 0.8059\n",
      "Epoch 40/100\n",
      "115/115 [==============================] - 0s 400us/step - loss: 0.6124 - accuracy: 0.8103\n",
      "Epoch 41/100\n",
      "115/115 [==============================] - 0s 357us/step - loss: 0.6063 - accuracy: 0.8050\n",
      "Epoch 42/100\n",
      "115/115 [==============================] - 0s 365us/step - loss: 0.5997 - accuracy: 0.8198\n",
      "Epoch 43/100\n",
      "115/115 [==============================] - 0s 470us/step - loss: 0.5930 - accuracy: 0.8181\n",
      "Epoch 44/100\n",
      "115/115 [==============================] - 0s 365us/step - loss: 0.5857 - accuracy: 0.8190\n",
      "Epoch 45/100\n",
      "115/115 [==============================] - 0s 400us/step - loss: 0.5781 - accuracy: 0.8242\n",
      "Epoch 46/100\n",
      "115/115 [==============================] - 0s 357us/step - loss: 0.5701 - accuracy: 0.8233\n",
      "Epoch 47/100\n",
      "115/115 [==============================] - 0s 409us/step - loss: 0.5615 - accuracy: 0.8233\n",
      "Epoch 48/100\n",
      "115/115 [==============================] - 0s 409us/step - loss: 0.5529 - accuracy: 0.8225\n",
      "Epoch 49/100\n",
      "115/115 [==============================] - 0s 391us/step - loss: 0.5441 - accuracy: 0.8320\n",
      "Epoch 50/100\n",
      "115/115 [==============================] - 0s 365us/step - loss: 0.5348 - accuracy: 0.8294\n",
      "Epoch 51/100\n",
      "115/115 [==============================] - 0s 391us/step - loss: 0.5250 - accuracy: 0.8312\n",
      "Epoch 52/100\n",
      "115/115 [==============================] - 0s 383us/step - loss: 0.5157 - accuracy: 0.8242\n",
      "Epoch 53/100\n",
      "115/115 [==============================] - 0s 357us/step - loss: 0.5060 - accuracy: 0.8407\n",
      "Epoch 54/100\n",
      "115/115 [==============================] - 0s 383us/step - loss: 0.4963 - accuracy: 0.8407\n",
      "Epoch 55/100\n",
      "115/115 [==============================] - 0s 348us/step - loss: 0.4867 - accuracy: 0.8425\n",
      "Epoch 56/100\n",
      "115/115 [==============================] - 0s 365us/step - loss: 0.4769 - accuracy: 0.8451\n",
      "Epoch 57/100\n",
      "115/115 [==============================] - 0s 339us/step - loss: 0.4674 - accuracy: 0.8477\n",
      "Epoch 58/100\n",
      "115/115 [==============================] - 0s 365us/step - loss: 0.4581 - accuracy: 0.8468\n",
      "Epoch 59/100\n",
      "115/115 [==============================] - 0s 348us/step - loss: 0.4486 - accuracy: 0.8460\n",
      "Epoch 60/100\n",
      "115/115 [==============================] - 0s 357us/step - loss: 0.4397 - accuracy: 0.8547\n",
      "Epoch 61/100\n",
      "115/115 [==============================] - 0s 365us/step - loss: 0.4308 - accuracy: 0.8520\n",
      "Epoch 62/100\n",
      "115/115 [==============================] - 0s 357us/step - loss: 0.4230 - accuracy: 0.8590\n",
      "Epoch 63/100\n",
      "115/115 [==============================] - 0s 339us/step - loss: 0.4143 - accuracy: 0.8573\n",
      "Epoch 64/100\n",
      "115/115 [==============================] - 0s 417us/step - loss: 0.4070 - accuracy: 0.8634\n",
      "Epoch 65/100\n",
      "115/115 [==============================] - 0s 400us/step - loss: 0.3993 - accuracy: 0.8607\n",
      "Epoch 66/100\n",
      "115/115 [==============================] - 0s 357us/step - loss: 0.3921 - accuracy: 0.8616\n",
      "Epoch 67/100\n",
      "115/115 [==============================] - 0s 365us/step - loss: 0.3852 - accuracy: 0.8625\n",
      "Epoch 68/100\n",
      "115/115 [==============================] - 0s 357us/step - loss: 0.3787 - accuracy: 0.8695\n",
      "Epoch 69/100\n",
      "115/115 [==============================] - 0s 365us/step - loss: 0.3723 - accuracy: 0.8668\n",
      "Epoch 70/100\n",
      "115/115 [==============================] - 0s 374us/step - loss: 0.3663 - accuracy: 0.8660\n",
      "Epoch 71/100\n",
      "115/115 [==============================] - 0s 939us/step - loss: 0.3607 - accuracy: 0.8712\n",
      "Epoch 72/100\n",
      "115/115 [==============================] - 0s 374us/step - loss: 0.3553 - accuracy: 0.8703\n",
      "Epoch 73/100\n",
      "115/115 [==============================] - 0s 331us/step - loss: 0.3500 - accuracy: 0.8738\n",
      "Epoch 74/100\n",
      "115/115 [==============================] - 0s 357us/step - loss: 0.3449 - accuracy: 0.8790\n",
      "Epoch 75/100\n",
      "115/115 [==============================] - 0s 391us/step - loss: 0.3404 - accuracy: 0.8834\n",
      "Epoch 76/100\n",
      "115/115 [==============================] - 0s 331us/step - loss: 0.3356 - accuracy: 0.8782\n",
      "Epoch 77/100\n",
      "115/115 [==============================] - 0s 348us/step - loss: 0.3315 - accuracy: 0.8799\n",
      "Epoch 78/100\n",
      "115/115 [==============================] - 0s 348us/step - loss: 0.3274 - accuracy: 0.8799\n",
      "Epoch 79/100\n",
      "115/115 [==============================] - 0s 348us/step - loss: 0.3233 - accuracy: 0.8808\n",
      "Epoch 80/100\n",
      "115/115 [==============================] - 0s 339us/step - loss: 0.3195 - accuracy: 0.8877\n",
      "Epoch 81/100\n",
      "115/115 [==============================] - 0s 357us/step - loss: 0.3158 - accuracy: 0.8851\n",
      "Epoch 82/100\n",
      "115/115 [==============================] - 0s 365us/step - loss: 0.3122 - accuracy: 0.8842\n",
      "Epoch 83/100\n",
      "115/115 [==============================] - 0s 374us/step - loss: 0.3085 - accuracy: 0.8851\n",
      "Epoch 84/100\n",
      "115/115 [==============================] - 0s 331us/step - loss: 0.3061 - accuracy: 0.8869\n",
      "Epoch 85/100\n",
      "115/115 [==============================] - 0s 365us/step - loss: 0.3027 - accuracy: 0.8912\n",
      "Epoch 86/100\n",
      "115/115 [==============================] - 0s 357us/step - loss: 0.2999 - accuracy: 0.8912\n",
      "Epoch 87/100\n",
      "115/115 [==============================] - 0s 400us/step - loss: 0.2965 - accuracy: 0.8903\n",
      "Epoch 88/100\n",
      "115/115 [==============================] - 0s 339us/step - loss: 0.2944 - accuracy: 0.8912\n",
      "Epoch 89/100\n",
      "115/115 [==============================] - 0s 357us/step - loss: 0.2916 - accuracy: 0.8930\n",
      "Epoch 90/100\n",
      "115/115 [==============================] - 0s 339us/step - loss: 0.2889 - accuracy: 0.8938\n",
      "Epoch 91/100\n",
      "115/115 [==============================] - 0s 348us/step - loss: 0.2861 - accuracy: 0.8947\n",
      "Epoch 92/100\n",
      "115/115 [==============================] - 0s 365us/step - loss: 0.2845 - accuracy: 0.8947\n",
      "Epoch 93/100\n",
      "115/115 [==============================] - 0s 896us/step - loss: 0.2820 - accuracy: 0.8947\n",
      "Epoch 94/100\n",
      "115/115 [==============================] - 0s 339us/step - loss: 0.2797 - accuracy: 0.8964\n",
      "Epoch 95/100\n",
      "115/115 [==============================] - 0s 357us/step - loss: 0.2777 - accuracy: 0.8947\n",
      "Epoch 96/100\n",
      "115/115 [==============================] - 0s 348us/step - loss: 0.2755 - accuracy: 0.8973\n",
      "Epoch 97/100\n",
      "115/115 [==============================] - 0s 348us/step - loss: 0.2738 - accuracy: 0.8964\n",
      "Epoch 98/100\n",
      "115/115 [==============================] - 0s 357us/step - loss: 0.2718 - accuracy: 0.8956\n",
      "Epoch 99/100\n",
      "115/115 [==============================] - 0s 339us/step - loss: 0.2700 - accuracy: 0.8973\n",
      "Epoch 100/100\n",
      "115/115 [==============================] - 0s 391us/step - loss: 0.2682 - accuracy: 0.8947\n"
     ]
    }
   ],
   "source": [
    "model = Sequential()\n",
    "\n",
    "model.add(Dense(12, activation='sigmoid', input_dim=64))\n",
    "model.add(Dense(8, activation='sigmoid'))\n",
    "model.add(Dense(1, activation='sigmoid'))\n",
    "\n",
    "model.compile(optimizer='SGD',\n",
    "              loss='binary_crossentropy',\n",
    "              metrics=['accuracy'])\n",
    "\n",
    "# increase epochs decrease batch size\n",
    "results = model.fit(X_pure_train, y_pure_train, epochs=100, batch_size=10, verbose=1)"
   ]
  },
  {
   "cell_type": "code",
   "execution_count": 31,
   "metadata": {
    "ExecuteTime": {
     "end_time": "2022-05-05T18:16:38.770703Z",
     "start_time": "2022-05-05T18:16:38.409611Z"
    }
   },
   "outputs": [
    {
     "data": {
      "image/png": "[encoded data removed]",
      "text/plain": [
       "<Figure size 720x360 with 2 Axes>"
      ]
     },
     "metadata": {
      "needs_background": "light"
     },
     "output_type": "display_data"
    }
   ],
   "source": [
    "relu_loss = results.history['loss']\n",
    "relu_accuracy = results.history['accuracy']\n",
    "\n",
    "fig, (ax1, ax2) = plt.subplots(1, 2, figsize=(10, 5))\n",
    "sns.lineplot(x=results.epoch, y=relu_loss, ax=ax1, label='loss')\n",
    "sns.lineplot(x=results.epoch, y=relu_accuracy, ax=ax2, label='accuracy')\n",
    "ax1.legend();"
   ]
  },
  {
   "cell_type": "markdown",
   "metadata": {},
   "source": [
    "### Use Relu"
   ]
  },
  {
   "cell_type": "code",
   "execution_count": 35,
   "metadata": {
    "ExecuteTime": {
     "end_time": "2022-05-05T18:18:53.550892Z",
     "start_time": "2022-05-05T18:18:51.273365Z"
    }
   },
   "outputs": [
    {
     "name": "stdout",
     "output_type": "stream",
     "text": [
      "Epoch 1/100\n",
      "36/36 [==============================] - 0s 418us/step - loss: 0.6916 - accuracy: 0.5500\n",
      "Epoch 2/100\n",
      "36/36 [==============================] - 0s 389us/step - loss: 0.6719 - accuracy: 0.5953\n",
      "Epoch 3/100\n",
      "36/36 [==============================] - 0s 361us/step - loss: 0.6599 - accuracy: 0.6519\n",
      "Epoch 4/100\n",
      "36/36 [==============================] - 0s 333us/step - loss: 0.6479 - accuracy: 0.6658\n",
      "Epoch 5/100\n",
      "36/36 [==============================] - 0s 361us/step - loss: 0.6345 - accuracy: 0.7093\n",
      "Epoch 6/100\n",
      "36/36 [==============================] - 0s 333us/step - loss: 0.6194 - accuracy: 0.7363\n",
      "Epoch 7/100\n",
      "36/36 [==============================] - 0s 361us/step - loss: 0.6039 - accuracy: 0.7528\n",
      "Epoch 8/100\n",
      "36/36 [==============================] - 0s 445us/step - loss: 0.5875 - accuracy: 0.7815\n",
      "Epoch 9/100\n",
      "36/36 [==============================] - 0s 389us/step - loss: 0.5700 - accuracy: 0.7955\n",
      "Epoch 10/100\n",
      "36/36 [==============================] - 0s 389us/step - loss: 0.5503 - accuracy: 0.8198\n",
      "Epoch 11/100\n",
      "36/36 [==============================] - 0s 361us/step - loss: 0.5287 - accuracy: 0.8259\n",
      "Epoch 12/100\n",
      "36/36 [==============================] - 0s 445us/step - loss: 0.5060 - accuracy: 0.8407\n",
      "Epoch 13/100\n",
      "36/36 [==============================] - 0s 389us/step - loss: 0.4819 - accuracy: 0.8590\n",
      "Epoch 14/100\n",
      "36/36 [==============================] - 0s 445us/step - loss: 0.4589 - accuracy: 0.8634\n",
      "Epoch 15/100\n",
      "36/36 [==============================] - 0s 500us/step - loss: 0.4348 - accuracy: 0.8738\n",
      "Epoch 16/100\n",
      "36/36 [==============================] - 0s 445us/step - loss: 0.4127 - accuracy: 0.8712\n",
      "Epoch 17/100\n",
      "36/36 [==============================] - 0s 445us/step - loss: 0.3921 - accuracy: 0.8738\n",
      "Epoch 18/100\n",
      "36/36 [==============================] - 0s 445us/step - loss: 0.3726 - accuracy: 0.8773\n",
      "Epoch 19/100\n",
      "36/36 [==============================] - 0s 500us/step - loss: 0.3557 - accuracy: 0.8842\n",
      "Epoch 20/100\n",
      "36/36 [==============================] - 0s 333us/step - loss: 0.3395 - accuracy: 0.8851\n",
      "Epoch 21/100\n",
      "36/36 [==============================] - 0s 361us/step - loss: 0.3255 - accuracy: 0.8869\n",
      "Epoch 22/100\n",
      "36/36 [==============================] - 0s 389us/step - loss: 0.3129 - accuracy: 0.8877\n",
      "Epoch 23/100\n",
      "36/36 [==============================] - 0s 361us/step - loss: 0.3021 - accuracy: 0.8877\n",
      "Epoch 24/100\n",
      "36/36 [==============================] - 0s 389us/step - loss: 0.2923 - accuracy: 0.8895\n",
      "Epoch 25/100\n",
      "36/36 [==============================] - 0s 361us/step - loss: 0.2833 - accuracy: 0.8964\n",
      "Epoch 26/100\n",
      "36/36 [==============================] - 0s 361us/step - loss: 0.2754 - accuracy: 0.8956\n",
      "Epoch 27/100\n",
      "36/36 [==============================] - 0s 389us/step - loss: 0.2683 - accuracy: 0.8964\n",
      "Epoch 28/100\n",
      "36/36 [==============================] - 0s 417us/step - loss: 0.2613 - accuracy: 0.8990\n",
      "Epoch 29/100\n",
      "36/36 [==============================] - 0s 389us/step - loss: 0.2562 - accuracy: 0.9008\n",
      "Epoch 30/100\n",
      "36/36 [==============================] - 0s 361us/step - loss: 0.2500 - accuracy: 0.9060\n",
      "Epoch 31/100\n",
      "36/36 [==============================] - 0s 389us/step - loss: 0.2454 - accuracy: 0.9034\n",
      "Epoch 32/100\n",
      "36/36 [==============================] - 0s 361us/step - loss: 0.2403 - accuracy: 0.9086\n",
      "Epoch 33/100\n",
      "36/36 [==============================] - 0s 417us/step - loss: 0.2356 - accuracy: 0.9077\n",
      "Epoch 34/100\n",
      "36/36 [==============================] - 0s 472us/step - loss: 0.2311 - accuracy: 0.9077\n",
      "Epoch 35/100\n",
      "36/36 [==============================] - 0s 361us/step - loss: 0.2272 - accuracy: 0.9069\n",
      "Epoch 36/100\n",
      "36/36 [==============================] - 0s 333us/step - loss: 0.2233 - accuracy: 0.9086\n",
      "Epoch 37/100\n",
      "36/36 [==============================] - 0s 389us/step - loss: 0.2202 - accuracy: 0.9069\n",
      "Epoch 38/100\n",
      "36/36 [==============================] - 0s 361us/step - loss: 0.2173 - accuracy: 0.9095\n",
      "Epoch 39/100\n",
      "36/36 [==============================] - 0s 389us/step - loss: 0.2135 - accuracy: 0.9095\n",
      "Epoch 40/100\n",
      "36/36 [==============================] - 0s 389us/step - loss: 0.2094 - accuracy: 0.9121\n",
      "Epoch 41/100\n",
      "36/36 [==============================] - 0s 333us/step - loss: 0.2080 - accuracy: 0.9156\n",
      "Epoch 42/100\n",
      "36/36 [==============================] - 0s 361us/step - loss: 0.2050 - accuracy: 0.9138\n",
      "Epoch 43/100\n",
      "36/36 [==============================] - 0s 361us/step - loss: 0.2028 - accuracy: 0.9138\n",
      "Epoch 44/100\n",
      "36/36 [==============================] - 0s 389us/step - loss: 0.2006 - accuracy: 0.9147\n",
      "Epoch 45/100\n",
      "36/36 [==============================] - 0s 361us/step - loss: 0.1981 - accuracy: 0.9147\n",
      "Epoch 46/100\n",
      "36/36 [==============================] - 0s 445us/step - loss: 0.1960 - accuracy: 0.9121\n",
      "Epoch 47/100\n",
      "36/36 [==============================] - 0s 361us/step - loss: 0.1935 - accuracy: 0.9173\n",
      "Epoch 48/100\n",
      "36/36 [==============================] - 0s 445us/step - loss: 0.1914 - accuracy: 0.9156\n",
      "Epoch 49/100\n",
      "36/36 [==============================] - 0s 333us/step - loss: 0.1881 - accuracy: 0.9199\n",
      "Epoch 50/100\n",
      "36/36 [==============================] - 0s 445us/step - loss: 0.1867 - accuracy: 0.9191\n",
      "Epoch 51/100\n",
      "36/36 [==============================] - 0s 389us/step - loss: 0.1845 - accuracy: 0.9182\n",
      "Epoch 52/100\n",
      "36/36 [==============================] - 0s 417us/step - loss: 0.1824 - accuracy: 0.9199\n",
      "Epoch 53/100\n",
      "36/36 [==============================] - 0s 361us/step - loss: 0.1804 - accuracy: 0.9208\n",
      "Epoch 54/100\n",
      "36/36 [==============================] - 0s 389us/step - loss: 0.1771 - accuracy: 0.9217\n",
      "Epoch 55/100\n",
      "36/36 [==============================] - 0s 333us/step - loss: 0.1756 - accuracy: 0.9243\n",
      "Epoch 56/100\n",
      "36/36 [==============================] - 0s 417us/step - loss: 0.1729 - accuracy: 0.9243\n",
      "Epoch 57/100\n",
      "36/36 [==============================] - 0s 361us/step - loss: 0.1740 - accuracy: 0.9191\n",
      "Epoch 58/100\n",
      "36/36 [==============================] - 0s 361us/step - loss: 0.1722 - accuracy: 0.9225\n",
      "Epoch 59/100\n",
      "36/36 [==============================] - 0s 417us/step - loss: 0.1701 - accuracy: 0.9252\n",
      "Epoch 60/100\n",
      "36/36 [==============================] - 0s 389us/step - loss: 0.1677 - accuracy: 0.9304\n",
      "Epoch 61/100\n",
      "36/36 [==============================] - 0s 389us/step - loss: 0.1677 - accuracy: 0.9243\n",
      "Epoch 62/100\n",
      "36/36 [==============================] - 0s 361us/step - loss: 0.1655 - accuracy: 0.9269\n",
      "Epoch 63/100\n",
      "36/36 [==============================] - 0s 445us/step - loss: 0.1629 - accuracy: 0.9295\n",
      "Epoch 64/100\n",
      "36/36 [==============================] - 0s 389us/step - loss: 0.1615 - accuracy: 0.9330\n",
      "Epoch 65/100\n",
      "36/36 [==============================] - 0s 417us/step - loss: 0.1596 - accuracy: 0.9347\n",
      "Epoch 66/100\n",
      "36/36 [==============================] - 0s 333us/step - loss: 0.1598 - accuracy: 0.9304\n",
      "Epoch 67/100\n",
      "36/36 [==============================] - 0s 500us/step - loss: 0.1565 - accuracy: 0.9312\n",
      "Epoch 68/100\n",
      "36/36 [==============================] - 0s 361us/step - loss: 0.1563 - accuracy: 0.9312\n",
      "Epoch 69/100\n",
      "36/36 [==============================] - 0s 417us/step - loss: 0.1542 - accuracy: 0.9312\n",
      "Epoch 70/100\n",
      "36/36 [==============================] - 0s 361us/step - loss: 0.1532 - accuracy: 0.9304\n",
      "Epoch 71/100\n",
      "36/36 [==============================] - 0s 361us/step - loss: 0.1520 - accuracy: 0.9321\n",
      "Epoch 72/100\n",
      "36/36 [==============================] - 0s 361us/step - loss: 0.1499 - accuracy: 0.9399\n",
      "Epoch 73/100\n",
      "36/36 [==============================] - 0s 333us/step - loss: 0.1489 - accuracy: 0.9373\n",
      "Epoch 74/100\n",
      "36/36 [==============================] - 0s 417us/step - loss: 0.1470 - accuracy: 0.9356\n",
      "Epoch 75/100\n",
      "36/36 [==============================] - 0s 361us/step - loss: 0.1456 - accuracy: 0.9373\n",
      "Epoch 76/100\n",
      "36/36 [==============================] - 0s 417us/step - loss: 0.1443 - accuracy: 0.9391\n",
      "Epoch 77/100\n",
      "36/36 [==============================] - 0s 361us/step - loss: 0.1423 - accuracy: 0.9373\n",
      "Epoch 78/100\n",
      "36/36 [==============================] - 0s 417us/step - loss: 0.1414 - accuracy: 0.9426\n",
      "Epoch 79/100\n",
      "36/36 [==============================] - 0s 361us/step - loss: 0.1404 - accuracy: 0.9469\n",
      "Epoch 80/100\n",
      "36/36 [==============================] - 0s 361us/step - loss: 0.1388 - accuracy: 0.9460\n",
      "Epoch 81/100\n",
      "36/36 [==============================] - 0s 361us/step - loss: 0.1381 - accuracy: 0.9417\n",
      "Epoch 82/100\n",
      "36/36 [==============================] - 0s 361us/step - loss: 0.1367 - accuracy: 0.9426\n",
      "Epoch 83/100\n",
      "36/36 [==============================] - 0s 333us/step - loss: 0.1373 - accuracy: 0.9382\n",
      "Epoch 84/100\n",
      "36/36 [==============================] - 0s 389us/step - loss: 0.1350 - accuracy: 0.9426\n",
      "Epoch 85/100\n",
      "36/36 [==============================] - 0s 417us/step - loss: 0.1347 - accuracy: 0.9434\n",
      "Epoch 86/100\n",
      "36/36 [==============================] - 0s 361us/step - loss: 0.1329 - accuracy: 0.9434\n",
      "Epoch 87/100\n",
      "36/36 [==============================] - 0s 389us/step - loss: 0.1296 - accuracy: 0.9443\n",
      "Epoch 88/100\n",
      "36/36 [==============================] - 0s 361us/step - loss: 0.1310 - accuracy: 0.9460\n",
      "Epoch 89/100\n",
      "36/36 [==============================] - 0s 417us/step - loss: 0.1296 - accuracy: 0.9478\n",
      "Epoch 90/100\n",
      "36/36 [==============================] - 0s 361us/step - loss: 0.1279 - accuracy: 0.9478\n",
      "Epoch 91/100\n",
      "36/36 [==============================] - 0s 417us/step - loss: 0.1274 - accuracy: 0.9495\n",
      "Epoch 92/100\n",
      "36/36 [==============================] - 0s 361us/step - loss: 0.1242 - accuracy: 0.9478\n",
      "Epoch 93/100\n",
      "36/36 [==============================] - 0s 417us/step - loss: 0.1246 - accuracy: 0.9521\n",
      "Epoch 94/100\n",
      "36/36 [==============================] - 0s 361us/step - loss: 0.1237 - accuracy: 0.9495\n",
      "Epoch 95/100\n",
      "36/36 [==============================] - 0s 361us/step - loss: 0.1227 - accuracy: 0.9530\n",
      "Epoch 96/100\n",
      "36/36 [==============================] - 0s 333us/step - loss: 0.1212 - accuracy: 0.9504\n",
      "Epoch 97/100\n",
      "36/36 [==============================] - 0s 389us/step - loss: 0.1195 - accuracy: 0.9539\n",
      "Epoch 98/100\n",
      "36/36 [==============================] - 0s 556us/step - loss: 0.1187 - accuracy: 0.9574\n",
      "Epoch 99/100\n",
      "36/36 [==============================] - 0s 417us/step - loss: 0.1178 - accuracy: 0.9582\n",
      "Epoch 100/100\n",
      "36/36 [==============================] - 0s 359us/step - loss: 0.1162 - accuracy: 0.9591\n"
     ]
    }
   ],
   "source": [
    "model = Sequential()\n",
    "model.add(Dense(12, activation='relu', input_dim=64))\n",
    "model.add(Dense(8, activation='relu'))\n",
    "model.add(Dense(1, activation='sigmoid'))\n",
    "\n",
    "model.compile(optimizer='SGD',\n",
    "              loss='binary_crossentropy',\n",
    "              metrics=['accuracy'])\n",
    "\n",
    "# Assign the variable history to store the results,\n",
    "# and set verbose=1 so we can see the output.\n",
    "# increase epochs, decrease batchsize\n",
    "\n",
    "\n",
    "results = model.fit(X_pure_train, y_pure_train, epochs=100, batch_size=None, verbose=1)"
   ]
  },
  {
   "cell_type": "code",
   "execution_count": 36,
   "metadata": {
    "ExecuteTime": {
     "end_time": "2022-05-05T18:18:54.524523Z",
     "start_time": "2022-05-05T18:18:54.163438Z"
    }
   },
   "outputs": [
    {
     "data": {
      "image/png": "[encoded data removed]",
      "text/plain": [
       "<Figure size 720x360 with 2 Axes>"
      ]
     },
     "metadata": {
      "needs_background": "light"
     },
     "output_type": "display_data"
    }
   ],
   "source": [
    "relu_loss = results.history['loss']\n",
    "relu_accuracy = results.history['accuracy']\n",
    "\n",
    "fig, (ax1, ax2) = plt.subplots(1, 2, figsize=(10, 5))\n",
    "sns.lineplot(x=results.epoch, y=relu_loss, ax=ax1, label='loss')\n",
    "sns.lineplot(x=results.epoch, y=relu_accuracy, ax=ax2, label='accuracy')\n",
    "ax1.legend();"
   ]
  },
  {
   "cell_type": "markdown",
   "metadata": {},
   "source": [
    "### All of it (epochs, batch, relu)"
   ]
  },
  {
   "cell_type": "code",
   "execution_count": 37,
   "metadata": {
    "ExecuteTime": {
     "end_time": "2022-05-05T18:19:01.259793Z",
     "start_time": "2022-05-05T18:18:56.369318Z"
    }
   },
   "outputs": [
    {
     "name": "stdout",
     "output_type": "stream",
     "text": [
      "Epoch 1/100\n",
      "115/115 [==============================] - 0s 339us/step - loss: 0.6743 - accuracy: 0.6214\n",
      "Epoch 2/100\n",
      "115/115 [==============================] - 0s 365us/step - loss: 0.6079 - accuracy: 0.7755\n",
      "Epoch 3/100\n",
      "115/115 [==============================] - 0s 348us/step - loss: 0.5420 - accuracy: 0.8155\n",
      "Epoch 4/100\n",
      "115/115 [==============================] - 0s 357us/step - loss: 0.4686 - accuracy: 0.8407\n",
      "Epoch 5/100\n",
      "115/115 [==============================] - 0s 357us/step - loss: 0.3976 - accuracy: 0.8547\n",
      "Epoch 6/100\n",
      "115/115 [==============================] - 0s 374us/step - loss: 0.3423 - accuracy: 0.8764\n",
      "Epoch 7/100\n",
      "115/115 [==============================] - 0s 357us/step - loss: 0.3008 - accuracy: 0.8947\n",
      "Epoch 8/100\n",
      "115/115 [==============================] - 0s 348us/step - loss: 0.2714 - accuracy: 0.9043\n",
      "Epoch 9/100\n",
      "115/115 [==============================] - 0s 357us/step - loss: 0.2507 - accuracy: 0.9077\n",
      "Epoch 10/100\n",
      "115/115 [==============================] - 0s 357us/step - loss: 0.2355 - accuracy: 0.9182\n",
      "Epoch 11/100\n",
      "115/115 [==============================] - 0s 348us/step - loss: 0.2244 - accuracy: 0.9182\n",
      "Epoch 12/100\n",
      "115/115 [==============================] - 0s 365us/step - loss: 0.2127 - accuracy: 0.9199\n",
      "Epoch 13/100\n",
      "115/115 [==============================] - 0s 365us/step - loss: 0.2027 - accuracy: 0.9234\n",
      "Epoch 14/100\n",
      "115/115 [==============================] - 0s 374us/step - loss: 0.1947 - accuracy: 0.9173\n",
      "Epoch 15/100\n",
      "115/115 [==============================] - 0s 391us/step - loss: 0.1887 - accuracy: 0.9260\n",
      "Epoch 16/100\n",
      "115/115 [==============================] - 0s 357us/step - loss: 0.1821 - accuracy: 0.9304\n",
      "Epoch 17/100\n",
      "115/115 [==============================] - 0s 365us/step - loss: 0.1794 - accuracy: 0.9295\n",
      "Epoch 18/100\n",
      "115/115 [==============================] - 0s 374us/step - loss: 0.1707 - accuracy: 0.9321\n",
      "Epoch 19/100\n",
      "115/115 [==============================] - 0s 409us/step - loss: 0.1656 - accuracy: 0.9356\n",
      "Epoch 20/100\n",
      "115/115 [==============================] - 0s 383us/step - loss: 0.1617 - accuracy: 0.9373\n",
      "Epoch 21/100\n",
      "115/115 [==============================] - 0s 357us/step - loss: 0.1559 - accuracy: 0.9382\n",
      "Epoch 22/100\n",
      "115/115 [==============================] - 0s 348us/step - loss: 0.1527 - accuracy: 0.9426\n",
      "Epoch 23/100\n",
      "115/115 [==============================] - 0s 357us/step - loss: 0.1489 - accuracy: 0.9417\n",
      "Epoch 24/100\n",
      "115/115 [==============================] - 0s 365us/step - loss: 0.1444 - accuracy: 0.9469\n",
      "Epoch 25/100\n",
      "115/115 [==============================] - 0s 348us/step - loss: 0.1388 - accuracy: 0.9487\n",
      "Epoch 26/100\n",
      "115/115 [==============================] - 0s 348us/step - loss: 0.1371 - accuracy: 0.9478\n",
      "Epoch 27/100\n",
      "115/115 [==============================] - 0s 365us/step - loss: 0.1320 - accuracy: 0.9487\n",
      "Epoch 28/100\n",
      "115/115 [==============================] - 0s 339us/step - loss: 0.1268 - accuracy: 0.9521\n",
      "Epoch 29/100\n",
      "115/115 [==============================] - 0s 339us/step - loss: 0.1253 - accuracy: 0.9521\n",
      "Epoch 30/100\n",
      "115/115 [==============================] - 0s 400us/step - loss: 0.1226 - accuracy: 0.9574\n",
      "Epoch 31/100\n",
      "115/115 [==============================] - 0s 383us/step - loss: 0.1164 - accuracy: 0.9591\n",
      "Epoch 32/100\n",
      "115/115 [==============================] - 0s 365us/step - loss: 0.1139 - accuracy: 0.9591\n",
      "Epoch 33/100\n",
      "115/115 [==============================] - 0s 357us/step - loss: 0.1113 - accuracy: 0.9617\n",
      "Epoch 34/100\n",
      "115/115 [==============================] - 0s 348us/step - loss: 0.1066 - accuracy: 0.9591\n",
      "Epoch 35/100\n",
      "115/115 [==============================] - 0s 383us/step - loss: 0.1034 - accuracy: 0.9678\n",
      "Epoch 36/100\n",
      "115/115 [==============================] - 0s 331us/step - loss: 0.0990 - accuracy: 0.9608\n",
      "Epoch 37/100\n",
      "115/115 [==============================] - 0s 365us/step - loss: 0.0984 - accuracy: 0.9678\n",
      "Epoch 38/100\n",
      "115/115 [==============================] - 0s 365us/step - loss: 0.0937 - accuracy: 0.9704\n",
      "Epoch 39/100\n",
      "115/115 [==============================] - 0s 365us/step - loss: 0.0926 - accuracy: 0.9687\n",
      "Epoch 40/100\n",
      "115/115 [==============================] - 0s 339us/step - loss: 0.0884 - accuracy: 0.9748\n",
      "Epoch 41/100\n",
      "115/115 [==============================] - 0s 348us/step - loss: 0.0847 - accuracy: 0.9774\n",
      "Epoch 42/100\n",
      "115/115 [==============================] - 0s 391us/step - loss: 0.0831 - accuracy: 0.9791\n",
      "Epoch 43/100\n",
      "115/115 [==============================] - 0s 504us/step - loss: 0.0811 - accuracy: 0.9721\n",
      "Epoch 44/100\n",
      "115/115 [==============================] - 0s 357us/step - loss: 0.0807 - accuracy: 0.9678\n",
      "Epoch 45/100\n",
      "115/115 [==============================] - 0s 365us/step - loss: 0.0767 - accuracy: 0.9782\n",
      "Epoch 46/100\n",
      "115/115 [==============================] - 0s 348us/step - loss: 0.0750 - accuracy: 0.9739\n",
      "Epoch 47/100\n",
      "115/115 [==============================] - 0s 365us/step - loss: 0.0723 - accuracy: 0.9782\n",
      "Epoch 48/100\n",
      "115/115 [==============================] - 0s 365us/step - loss: 0.0702 - accuracy: 0.9800\n",
      "Epoch 49/100\n",
      "115/115 [==============================] - 0s 348us/step - loss: 0.0675 - accuracy: 0.9817\n",
      "Epoch 50/100\n",
      "115/115 [==============================] - 0s 374us/step - loss: 0.0670 - accuracy: 0.9782\n",
      "Epoch 51/100\n",
      "115/115 [==============================] - 0s 383us/step - loss: 0.0650 - accuracy: 0.9782\n",
      "Epoch 52/100\n",
      "115/115 [==============================] - 0s 357us/step - loss: 0.0620 - accuracy: 0.9843\n",
      "Epoch 53/100\n",
      "115/115 [==============================] - 0s 400us/step - loss: 0.0608 - accuracy: 0.9835\n",
      "Epoch 54/100\n",
      "115/115 [==============================] - 0s 348us/step - loss: 0.0600 - accuracy: 0.9826\n",
      "Epoch 55/100\n",
      "115/115 [==============================] - 0s 357us/step - loss: 0.0593 - accuracy: 0.9817\n",
      "Epoch 56/100\n",
      "115/115 [==============================] - 0s 348us/step - loss: 0.0569 - accuracy: 0.9861\n",
      "Epoch 57/100\n",
      "115/115 [==============================] - 0s 383us/step - loss: 0.0548 - accuracy: 0.9817\n",
      "Epoch 58/100\n",
      "115/115 [==============================] - 0s 339us/step - loss: 0.0529 - accuracy: 0.9852\n",
      "Epoch 59/100\n",
      "115/115 [==============================] - 0s 357us/step - loss: 0.0530 - accuracy: 0.9835\n",
      "Epoch 60/100\n",
      "115/115 [==============================] - 0s 374us/step - loss: 0.0530 - accuracy: 0.9852\n",
      "Epoch 61/100\n",
      "115/115 [==============================] - 0s 377us/step - loss: 0.0498 - accuracy: 0.9852\n",
      "Epoch 62/100\n",
      "115/115 [==============================] - 0s 357us/step - loss: 0.0479 - accuracy: 0.9843\n",
      "Epoch 63/100\n",
      "115/115 [==============================] - 0s 348us/step - loss: 0.0490 - accuracy: 0.9843\n",
      "Epoch 64/100\n",
      "115/115 [==============================] - 0s 374us/step - loss: 0.0478 - accuracy: 0.9852\n",
      "Epoch 65/100\n",
      "115/115 [==============================] - 0s 357us/step - loss: 0.0466 - accuracy: 0.9887\n",
      "Epoch 66/100\n",
      "115/115 [==============================] - 0s 357us/step - loss: 0.0450 - accuracy: 0.9878\n",
      "Epoch 67/100\n",
      "115/115 [==============================] - 0s 374us/step - loss: 0.0439 - accuracy: 0.9904\n",
      "Epoch 68/100\n",
      "115/115 [==============================] - 0s 348us/step - loss: 0.0437 - accuracy: 0.9896\n",
      "Epoch 69/100\n",
      "115/115 [==============================] - 0s 365us/step - loss: 0.0413 - accuracy: 0.9887\n",
      "Epoch 70/100\n",
      "115/115 [==============================] - 0s 357us/step - loss: 0.0405 - accuracy: 0.9913\n",
      "Epoch 71/100\n",
      "115/115 [==============================] - 0s 374us/step - loss: 0.0401 - accuracy: 0.9887\n",
      "Epoch 72/100\n",
      "115/115 [==============================] - 0s 357us/step - loss: 0.0360 - accuracy: 0.9904\n",
      "Epoch 73/100\n",
      "115/115 [==============================] - 0s 339us/step - loss: 0.0384 - accuracy: 0.9904\n",
      "Epoch 74/100\n",
      "115/115 [==============================] - 0s 374us/step - loss: 0.0376 - accuracy: 0.9922\n",
      "Epoch 75/100\n",
      "115/115 [==============================] - 0s 348us/step - loss: 0.0357 - accuracy: 0.9930\n",
      "Epoch 76/100\n",
      "115/115 [==============================] - 0s 391us/step - loss: 0.0340 - accuracy: 0.9922\n",
      "Epoch 77/100\n",
      "115/115 [==============================] - 0s 340us/step - loss: 0.0352 - accuracy: 0.9913\n",
      "Epoch 78/100\n",
      "115/115 [==============================] - 0s 383us/step - loss: 0.0328 - accuracy: 0.9922\n",
      "Epoch 79/100\n",
      "115/115 [==============================] - 0s 374us/step - loss: 0.0328 - accuracy: 0.9939\n",
      "Epoch 80/100\n",
      "115/115 [==============================] - 0s 346us/step - loss: 0.0329 - accuracy: 0.9930\n",
      "Epoch 81/100\n",
      "115/115 [==============================] - 0s 365us/step - loss: 0.0314 - accuracy: 0.9922\n",
      "Epoch 82/100\n",
      "115/115 [==============================] - 0s 382us/step - loss: 0.0307 - accuracy: 0.9922\n",
      "Epoch 83/100\n",
      "115/115 [==============================] - 0s 348us/step - loss: 0.0304 - accuracy: 0.9939\n",
      "Epoch 84/100\n",
      "115/115 [==============================] - 0s 357us/step - loss: 0.0289 - accuracy: 0.9956\n",
      "Epoch 85/100\n",
      "115/115 [==============================] - 0s 374us/step - loss: 0.0287 - accuracy: 0.9948\n",
      "Epoch 86/100\n",
      "115/115 [==============================] - 0s 331us/step - loss: 0.0288 - accuracy: 0.9939\n",
      "Epoch 87/100\n",
      "115/115 [==============================] - 0s 357us/step - loss: 0.0278 - accuracy: 0.9956\n",
      "Epoch 88/100\n",
      "115/115 [==============================] - 0s 374us/step - loss: 0.0280 - accuracy: 0.9948\n",
      "Epoch 89/100\n",
      "115/115 [==============================] - 0s 383us/step - loss: 0.0276 - accuracy: 0.9956\n",
      "Epoch 90/100\n",
      "115/115 [==============================] - 0s 365us/step - loss: 0.0267 - accuracy: 0.9956\n",
      "Epoch 91/100\n",
      "115/115 [==============================] - 0s 931us/step - loss: 0.0263 - accuracy: 0.9956\n",
      "Epoch 92/100\n",
      "115/115 [==============================] - 0s 357us/step - loss: 0.0255 - accuracy: 0.9956\n",
      "Epoch 93/100\n",
      "115/115 [==============================] - 0s 357us/step - loss: 0.0245 - accuracy: 0.9956\n",
      "Epoch 94/100\n",
      "115/115 [==============================] - 0s 348us/step - loss: 0.0232 - accuracy: 0.9965\n",
      "Epoch 95/100\n",
      "115/115 [==============================] - 0s 357us/step - loss: 0.0240 - accuracy: 0.9948\n",
      "Epoch 96/100\n",
      "115/115 [==============================] - 0s 331us/step - loss: 0.0230 - accuracy: 0.9965\n",
      "Epoch 97/100\n",
      "115/115 [==============================] - 0s 366us/step - loss: 0.0235 - accuracy: 0.9956\n",
      "Epoch 98/100\n",
      "115/115 [==============================] - 0s 348us/step - loss: 0.0215 - accuracy: 0.9965\n",
      "Epoch 99/100\n",
      "115/115 [==============================] - 0s 349us/step - loss: 0.0222 - accuracy: 0.9956\n",
      "Epoch 100/100\n",
      "115/115 [==============================] - 0s 339us/step - loss: 0.0217 - accuracy: 0.9965\n"
     ]
    }
   ],
   "source": [
    "model = Sequential()\n",
    "model.add(Dense(12, activation='relu', input_dim=64))\n",
    "model.add(Dense(8, activation='relu'))\n",
    "model.add(Dense(1, activation='sigmoid'))\n",
    "\n",
    "model.compile(optimizer='SGD',\n",
    "              loss='binary_crossentropy',\n",
    "              metrics=['accuracy'])\n",
    "\n",
    "# Assign the variable history to store the results,\n",
    "# and set verbose=1 so we can see the output.\n",
    "# increase epochs\n",
    "\n",
    "results = model.fit(X_pure_train, y_pure_train, epochs=100, batch_size=10, verbose=1)\n"
   ]
  },
  {
   "cell_type": "code",
   "execution_count": 38,
   "metadata": {
    "ExecuteTime": {
     "end_time": "2022-05-05T18:19:02.181061Z",
     "start_time": "2022-05-05T18:19:01.822981Z"
    }
   },
   "outputs": [
    {
     "data": {
      "image/png": "[encoded data removed]",
      "text/plain": [
       "<Figure size 720x360 with 2 Axes>"
      ]
     },
     "metadata": {
      "needs_background": "light"
     },
     "output_type": "display_data"
    }
   ],
   "source": [
    "relu_loss = results.history['loss']\n",
    "relu_accuracy = results.history['accuracy']\n",
    "\n",
    "fig, (ax1, ax2) = plt.subplots(1, 2, figsize=(10, 5))\n",
    "sns.lineplot(x=results.epoch, y=relu_loss, ax=ax1, label='loss')\n",
    "sns.lineplot(x=results.epoch, y=relu_accuracy, ax=ax2, label='accuracy')\n",
    "ax1.legend();"
   ]
  },
  {
   "cell_type": "markdown",
   "metadata": {},
   "source": [
    "### Side note: learning rate\n",
    "\n",
    "If we increase the learning rate to a very high number, we see that our model overshoots the minimum, and starts bouncing all around."
   ]
  },
  {
   "cell_type": "code",
   "execution_count": 39,
   "metadata": {
    "ExecuteTime": {
     "end_time": "2022-05-05T18:20:04.697239Z",
     "start_time": "2022-05-05T18:19:55.947310Z"
    }
   },
   "outputs": [
    {
     "name": "stdout",
     "output_type": "stream",
     "text": [
      "Epoch 1/30\n",
      "  1/115 [..............................] - ETA: 0s - loss: 0.7469 - accuracy: 0.5000WARNING:tensorflow:Callbacks method `on_train_batch_end` is slow compared to the batch time (batch time: 0.0000s vs `on_train_batch_end` time: 0.0010s). Check your callbacks.\n",
      "115/115 [==============================] - 0s 2ms/step - loss: 1.4433 - accuracy: 0.5083\n",
      "Epoch 2/30\n",
      "115/115 [==============================] - 0s 4ms/step - loss: 0.9810 - accuracy: 0.4978: 0s - loss: 1.0991 - accuracy: 0. - ETA: 0s - loss: 0.9817 - accuracy: 0.50 - ETA: 0s - loss: 0.9460 - accuracy: 0.\n",
      "Epoch 3/30\n",
      "115/115 [==============================] - 0s 3ms/step - loss: 0.9808 - accuracy: 0.5065\n",
      "Epoch 4/30\n",
      "115/115 [==============================] - 0s 400us/step - loss: 0.9833 - accuracy: 0.5170\n",
      "Epoch 5/30\n",
      "115/115 [==============================] - 0s 3ms/step - loss: 0.9997 - accuracy: 0.5030\n",
      "Epoch 6/30\n",
      "115/115 [==============================] - 0s 2ms/step - loss: 0.9585 - accuracy: 0.5152: 0s - loss: 0.9610 - accuracy: \n",
      "Epoch 7/30\n",
      "115/115 [==============================] - 0s 374us/step - loss: 1.0250 - accuracy: 0.5074\n",
      "Epoch 8/30\n",
      "115/115 [==============================] - 0s 339us/step - loss: 1.0351 - accuracy: 0.5048\n",
      "Epoch 9/30\n",
      "115/115 [==============================] - 0s 1ms/step - loss: 0.9784 - accuracy: 0.5039\n",
      "Epoch 10/30\n",
      "115/115 [==============================] - 0s 3ms/step - loss: 1.0122 - accuracy: 0.4987: 0s - loss: 1.0625 - accu\n",
      "Epoch 11/30\n",
      "115/115 [==============================] - 0s 3ms/step - loss: 1.0374 - accuracy: 0.4865\n",
      "Epoch 12/30\n",
      "115/115 [==============================] - 0s 3ms/step - loss: 0.9630 - accuracy: 0.5178\n",
      "Epoch 13/30\n",
      "115/115 [==============================] - 0s 2ms/step - loss: 0.9463 - accuracy: 0.5213\n",
      "Epoch 14/30\n",
      "115/115 [==============================] - 0s 2ms/step - loss: 1.0503 - accuracy: 0.4926\n",
      "Epoch 15/30\n",
      "115/115 [==============================] - 0s 357us/step - loss: 1.0116 - accuracy: 0.4822\n",
      "Epoch 16/30\n",
      "115/115 [==============================] - 0s 2ms/step - loss: 0.9722 - accuracy: 0.5239\n",
      "Epoch 17/30\n",
      "115/115 [==============================] - 0s 3ms/step - loss: 0.9830 - accuracy: 0.5091\n",
      "Epoch 18/30\n",
      "115/115 [==============================] - 0s 4ms/step - loss: 1.0410 - accuracy: 0.4935: 0s - loss: 0.9832 - accuracy\n",
      "Epoch 19/30\n",
      "115/115 [==============================] - 0s 2ms/step - loss: 1.0962 - accuracy: 0.4900: 0s - loss: 1.0994 - accuracy: 0.\n",
      "Epoch 20/30\n",
      "115/115 [==============================] - 0s 4ms/step - loss: 1.0120 - accuracy: 0.4917: 0s - loss: 1.0644 - accu\n",
      "Epoch 21/30\n",
      "115/115 [==============================] - 0s 574us/step - loss: 0.9440 - accuracy: 0.5100\n",
      "Epoch 22/30\n",
      "115/115 [==============================] - 0s 3ms/step - loss: 0.9175 - accuracy: 0.5187: 0s - loss: 0.9156 - accuracy: 0.\n",
      "Epoch 23/30\n",
      "115/115 [==============================] - 0s 3ms/step - loss: 1.0301 - accuracy: 0.4856\n",
      "Epoch 24/30\n",
      "115/115 [==============================] - 0s 357us/step - loss: 0.8903 - accuracy: 0.5187\n",
      "Epoch 25/30\n",
      "115/115 [==============================] - 0s 383us/step - loss: 0.9565 - accuracy: 0.5283\n",
      "Epoch 26/30\n",
      "115/115 [==============================] - 0s 348us/step - loss: 0.9941 - accuracy: 0.5057\n",
      "Epoch 27/30\n",
      "115/115 [==============================] - 0s 357us/step - loss: 1.0130 - accuracy: 0.4926\n",
      "Epoch 28/30\n",
      "115/115 [==============================] - 0s 339us/step - loss: 1.0781 - accuracy: 0.4787\n",
      "Epoch 29/30\n",
      "115/115 [==============================] - 0s 348us/step - loss: 0.9606 - accuracy: 0.5109\n",
      "Epoch 30/30\n",
      "115/115 [==============================] - 0s 2ms/step - loss: 0.9572 - accuracy: 0.4952\n"
     ]
    },
    {
     "data": {
      "image/png": "[encoded data removed]",
      "text/plain": [
       "<Figure size 720x360 with 2 Axes>"
      ]
     },
     "metadata": {
      "needs_background": "light"
     },
     "output_type": "display_data"
    }
   ],
   "source": [
    "model = Sequential()\n",
    "\n",
    "sgd = SGD(lr=9)\n",
    "\n",
    "\n",
    "model.add(Dense(12, activation='relu', input_dim=64))\n",
    "model.add(Dense(8, activation='relu'))\n",
    "model.add(Dense(1, activation='sigmoid'))\n",
    "\n",
    "model.compile(optimizer=sgd,\n",
    "              loss='binary_crossentropy',\n",
    "              metrics=['accuracy'])\n",
    "\n",
    "results = model.fit(X_pure_train, y_pure_train,\n",
    "                    epochs=30, batch_size=10, verbose=1)\n",
    "\n",
    "relu_loss = results.history['loss']\n",
    "relu_accuracy = results.history['accuracy']\n",
    "\n",
    "fig, (ax1, ax2) = plt.subplots(1, 2, figsize=(10, 5))\n",
    "sns.lineplot(x=results.epoch, y=relu_loss, ax=ax1, label='loss')\n",
    "sns.lineplot(x=results.epoch, y=relu_accuracy, ax=ax2, label='accuracy')\n",
    "ax1.legend();"
   ]
  },
  {
   "cell_type": "markdown",
   "metadata": {},
   "source": [
    "### Exercise\n",
    "\n",
    "We have been looking only at our training set. Let's add in our validation set to the picture. Check the docstring for the `.fit()` method and add in our validation data."
   ]
  },
  {
   "cell_type": "code",
   "execution_count": 40,
   "metadata": {
    "ExecuteTime": {
     "end_time": "2022-05-05T18:23:41.083073Z",
     "start_time": "2022-05-05T18:23:25.576181Z"
    }
   },
   "outputs": [
    {
     "name": "stdout",
     "output_type": "stream",
     "text": [
      "Epoch 1/100\n",
      "115/115 [==============================] - 0s 2ms/step - loss: 0.6573 - accuracy: 0.5840 - val_loss: 0.6064 - val_accuracy: 0.7708\n",
      "Epoch 2/100\n",
      "115/115 [==============================] - 0s 565us/step - loss: 0.5510 - accuracy: 0.7702 - val_loss: 0.4830 - val_accuracy: 0.8368\n",
      "Epoch 3/100\n",
      "115/115 [==============================] - 0s 565us/step - loss: 0.4620 - accuracy: 0.8529 - val_loss: 0.4151 - val_accuracy: 0.8750\n",
      "Epoch 4/100\n",
      "115/115 [==============================] - 0s 1ms/step - loss: 0.4124 - accuracy: 0.8930 - val_loss: 0.3867 - val_accuracy: 0.9167\n",
      "Epoch 5/100\n",
      "115/115 [==============================] - 0s 2ms/step - loss: 0.3765 - accuracy: 0.9130 - val_loss: 0.3499 - val_accuracy: 0.9028\n",
      "Epoch 6/100\n",
      "115/115 [==============================] - 0s 1ms/step - loss: 0.3527 - accuracy: 0.9138 - val_loss: 0.3264 - val_accuracy: 0.9201\n",
      "Epoch 7/100\n",
      "115/115 [==============================] - 0s 791us/step - loss: 0.3314 - accuracy: 0.9199 - val_loss: 0.3079 - val_accuracy: 0.9236\n",
      "Epoch 8/100\n",
      "115/115 [==============================] - 0s 2ms/step - loss: 0.3094 - accuracy: 0.9225 - val_loss: 0.2849 - val_accuracy: 0.9340\n",
      "Epoch 9/100\n",
      "115/115 [==============================] - 0s 644us/step - loss: 0.2917 - accuracy: 0.9295 - val_loss: 0.2729 - val_accuracy: 0.9236\n",
      "Epoch 10/100\n",
      "115/115 [==============================] - 0s 600us/step - loss: 0.2713 - accuracy: 0.9408 - val_loss: 0.2615 - val_accuracy: 0.9306\n",
      "Epoch 11/100\n",
      "115/115 [==============================] - 0s 600us/step - loss: 0.2561 - accuracy: 0.9434 - val_loss: 0.2461 - val_accuracy: 0.9410\n",
      "Epoch 12/100\n",
      "115/115 [==============================] - 0s 609us/step - loss: 0.2430 - accuracy: 0.9487 - val_loss: 0.2356 - val_accuracy: 0.9444\n",
      "Epoch 13/100\n",
      "115/115 [==============================] - 0s 1ms/step - loss: 0.2246 - accuracy: 0.9478 - val_loss: 0.2212 - val_accuracy: 0.9444\n",
      "Epoch 14/100\n",
      "115/115 [==============================] - 0s 565us/step - loss: 0.2095 - accuracy: 0.9600 - val_loss: 0.2185 - val_accuracy: 0.9549\n",
      "Epoch 15/100\n",
      "115/115 [==============================] - 0s 2ms/step - loss: 0.1953 - accuracy: 0.9626 - val_loss: 0.1989 - val_accuracy: 0.9479\n",
      "Epoch 16/100\n",
      "115/115 [==============================] - 0s 574us/step - loss: 0.1796 - accuracy: 0.9661 - val_loss: 0.1833 - val_accuracy: 0.9514\n",
      "Epoch 17/100\n",
      "115/115 [==============================] - 0s 2ms/step - loss: 0.1687 - accuracy: 0.9695 - val_loss: 0.1820 - val_accuracy: 0.9514\n",
      "Epoch 18/100\n",
      "115/115 [==============================] - 0s 3ms/step - loss: 0.1545 - accuracy: 0.9721 - val_loss: 0.1604 - val_accuracy: 0.9653\n",
      "Epoch 19/100\n",
      "115/115 [==============================] - 0s 644us/step - loss: 0.1399 - accuracy: 0.9835 - val_loss: 0.1557 - val_accuracy: 0.9618\n",
      "Epoch 20/100\n",
      "115/115 [==============================] - 0s 548us/step - loss: 0.1316 - accuracy: 0.9817 - val_loss: 0.1477 - val_accuracy: 0.9653\n",
      "Epoch 21/100\n",
      "115/115 [==============================] - 0s 574us/step - loss: 0.1218 - accuracy: 0.9809 - val_loss: 0.1443 - val_accuracy: 0.9618\n",
      "Epoch 22/100\n",
      "115/115 [==============================] - 0s 574us/step - loss: 0.1125 - accuracy: 0.9878 - val_loss: 0.1386 - val_accuracy: 0.9618\n",
      "Epoch 23/100\n",
      "115/115 [==============================] - 0s 548us/step - loss: 0.1041 - accuracy: 0.9922 - val_loss: 0.1353 - val_accuracy: 0.9618\n",
      "Epoch 24/100\n",
      "115/115 [==============================] - 0s 652us/step - loss: 0.0981 - accuracy: 0.9922 - val_loss: 0.1292 - val_accuracy: 0.9722\n",
      "Epoch 25/100\n",
      "115/115 [==============================] - 0s 1ms/step - loss: 0.0891 - accuracy: 0.9948 - val_loss: 0.1232 - val_accuracy: 0.9688\n",
      "Epoch 26/100\n",
      "115/115 [==============================] - 1s 5ms/step - loss: 0.0911 - accuracy: 0.9878 - val_loss: 0.1154 - val_accuracy: 0.9688\n",
      "Epoch 27/100\n",
      "115/115 [==============================] - 0s 609us/step - loss: 0.0784 - accuracy: 0.9930 - val_loss: 0.1122 - val_accuracy: 0.9757\n",
      "Epoch 28/100\n",
      "115/115 [==============================] - 0s 591us/step - loss: 0.0741 - accuracy: 0.9948 - val_loss: 0.1240 - val_accuracy: 0.9688\n",
      "Epoch 29/100\n",
      "115/115 [==============================] - 0s 557us/step - loss: 0.0718 - accuracy: 0.9939 - val_loss: 0.1059 - val_accuracy: 0.9688\n",
      "Epoch 30/100\n",
      "115/115 [==============================] - 0s 574us/step - loss: 0.0641 - accuracy: 0.9965 - val_loss: 0.1126 - val_accuracy: 0.9722\n",
      "Epoch 31/100\n",
      "115/115 [==============================] - 0s 626us/step - loss: 0.0612 - accuracy: 0.9956 - val_loss: 0.1019 - val_accuracy: 0.9722\n",
      "Epoch 32/100\n",
      "115/115 [==============================] - 0s 609us/step - loss: 0.0584 - accuracy: 0.9965 - val_loss: 0.0993 - val_accuracy: 0.9722\n",
      "Epoch 33/100\n",
      "115/115 [==============================] - 0s 565us/step - loss: 0.0538 - accuracy: 0.9974 - val_loss: 0.0935 - val_accuracy: 0.9792\n",
      "Epoch 34/100\n",
      "115/115 [==============================] - 0s 4ms/step - loss: 0.0513 - accuracy: 0.9983 - val_loss: 0.0954 - val_accuracy: 0.9757\n",
      "Epoch 35/100\n",
      "115/115 [==============================] - 0s 3ms/step - loss: 0.0474 - accuracy: 0.9991 - val_loss: 0.0886 - val_accuracy: 0.9792\n",
      "Epoch 36/100\n",
      "115/115 [==============================] - 0s 2ms/step - loss: 0.0452 - accuracy: 0.9991 - val_loss: 0.0792 - val_accuracy: 0.9722\n",
      "Epoch 37/100\n",
      "115/115 [==============================] - 0s 4ms/step - loss: 0.0421 - accuracy: 1.0000 - val_loss: 0.0840 - val_accuracy: 0.9792\n",
      "Epoch 38/100\n",
      "115/115 [==============================] - 0s 4ms/step - loss: 0.0376 - accuracy: 1.0000 - val_loss: 0.0771 - val_accuracy: 0.9757\n",
      "Epoch 39/100\n",
      "115/115 [==============================] - 0s 600us/step - loss: 0.0352 - accuracy: 1.0000 - val_loss: 0.0801 - val_accuracy: 0.9792\n",
      "Epoch 40/100\n",
      "115/115 [==============================] - 0s 548us/step - loss: 0.0343 - accuracy: 1.0000 - val_loss: 0.0756 - val_accuracy: 0.9826\n",
      "Epoch 41/100\n",
      "115/115 [==============================] - 0s 1ms/step - loss: 0.0311 - accuracy: 1.0000 - val_loss: 0.0774 - val_accuracy: 0.9826\n",
      "Epoch 42/100\n",
      "115/115 [==============================] - ETA: 0s - loss: 0.0291 - accuracy: 1.0000 ETA: 0s - loss: 0.0291 - accuracy - 0s 3ms/step - loss: 0.0296 - accuracy: 0.9991 - val_loss: 0.0808 - val_accuracy: 0.9861\n",
      "Epoch 43/100\n",
      "115/115 [==============================] - 0s 3ms/step - loss: 0.0293 - accuracy: 1.0000 - val_loss: 0.0742 - val_accuracy: 0.9792\n",
      "Epoch 44/100\n",
      "115/115 [==============================] - 0s 2ms/step - loss: 0.0266 - accuracy: 1.0000 - val_loss: 0.0754 - val_accuracy: 0.9792\n",
      "Epoch 45/100\n",
      "115/115 [==============================] - 0s 601us/step - loss: 0.0246 - accuracy: 1.0000 - val_loss: 0.0769 - val_accuracy: 0.9826\n",
      "Epoch 46/100\n",
      "115/115 [==============================] - 0s 591us/step - loss: 0.0235 - accuracy: 1.0000 - val_loss: 0.0731 - val_accuracy: 0.9826\n",
      "Epoch 47/100\n",
      "115/115 [==============================] - 0s 2ms/step - loss: 0.0220 - accuracy: 1.0000 - val_loss: 0.0800 - val_accuracy: 0.9826\n",
      "Epoch 48/100\n",
      "115/115 [==============================] - 0s 635us/step - loss: 0.0215 - accuracy: 1.0000 - val_loss: 0.0783 - val_accuracy: 0.9826\n",
      "Epoch 49/100\n",
      "115/115 [==============================] - 0s 609us/step - loss: 0.0201 - accuracy: 1.0000 - val_loss: 0.0744 - val_accuracy: 0.9792\n",
      "Epoch 50/100\n",
      "115/115 [==============================] - 0s 600us/step - loss: 0.0190 - accuracy: 1.0000 - val_loss: 0.0755 - val_accuracy: 0.9792\n",
      "Epoch 51/100\n",
      "115/115 [==============================] - 0s 2ms/step - loss: 0.0177 - accuracy: 1.0000 - val_loss: 0.0753 - val_accuracy: 0.9792\n",
      "Epoch 52/100\n",
      "115/115 [==============================] - 0s 574us/step - loss: 0.0169 - accuracy: 1.0000 - val_loss: 0.0760 - val_accuracy: 0.9792\n",
      "Epoch 53/100\n",
      "115/115 [==============================] - 0s 548us/step - loss: 0.0160 - accuracy: 1.0000 - val_loss: 0.0727 - val_accuracy: 0.9792\n",
      "Epoch 54/100\n",
      "115/115 [==============================] - 0s 661us/step - loss: 0.0152 - accuracy: 1.0000 - val_loss: 0.0707 - val_accuracy: 0.9792\n",
      "Epoch 55/100\n",
      "115/115 [==============================] - 0s 1ms/step - loss: 0.0145 - accuracy: 1.0000 - val_loss: 0.0737 - val_accuracy: 0.9896\n",
      "Epoch 56/100\n",
      "115/115 [==============================] - 0s 557us/step - loss: 0.0140 - accuracy: 1.0000 - val_loss: 0.0742 - val_accuracy: 0.9757\n"
     ]
    },
    {
     "name": "stdout",
     "output_type": "stream",
     "text": [
      "Epoch 57/100\n",
      "115/115 [==============================] - 0s 574us/step - loss: 0.0131 - accuracy: 1.0000 - val_loss: 0.0784 - val_accuracy: 0.9826\n",
      "Epoch 58/100\n",
      "115/115 [==============================] - 0s 557us/step - loss: 0.0125 - accuracy: 1.0000 - val_loss: 0.0692 - val_accuracy: 0.9826\n",
      "Epoch 59/100\n",
      "115/115 [==============================] - 0s 557us/step - loss: 0.0117 - accuracy: 1.0000 - val_loss: 0.0742 - val_accuracy: 0.9792\n",
      "Epoch 60/100\n",
      "115/115 [==============================] - 0s 548us/step - loss: 0.0112 - accuracy: 1.0000 - val_loss: 0.0837 - val_accuracy: 0.9826\n",
      "Epoch 61/100\n",
      "115/115 [==============================] - 0s 557us/step - loss: 0.0106 - accuracy: 1.0000 - val_loss: 0.0737 - val_accuracy: 0.9792\n",
      "Epoch 62/100\n",
      "115/115 [==============================] - 0s 557us/step - loss: 0.0101 - accuracy: 1.0000 - val_loss: 0.0714 - val_accuracy: 0.9792\n",
      "Epoch 63/100\n",
      "115/115 [==============================] - 0s 644us/step - loss: 0.0096 - accuracy: 1.0000 - val_loss: 0.0729 - val_accuracy: 0.9792\n",
      "Epoch 64/100\n",
      "115/115 [==============================] - 0s 618us/step - loss: 0.0091 - accuracy: 1.0000 - val_loss: 0.0821 - val_accuracy: 0.9792\n",
      "Epoch 65/100\n",
      "115/115 [==============================] - 0s 1ms/step - loss: 0.0087 - accuracy: 1.0000 - val_loss: 0.0773 - val_accuracy: 0.9792\n",
      "Epoch 66/100\n",
      "115/115 [==============================] - 0s 626us/step - loss: 0.0082 - accuracy: 1.0000 - val_loss: 0.0740 - val_accuracy: 0.9792\n",
      "Epoch 67/100\n",
      "115/115 [==============================] - 0s 609us/step - loss: 0.0079 - accuracy: 1.0000 - val_loss: 0.0782 - val_accuracy: 0.9792\n",
      "Epoch 68/100\n",
      "115/115 [==============================] - 0s 557us/step - loss: 0.0076 - accuracy: 1.0000 - val_loss: 0.0726 - val_accuracy: 0.9792\n",
      "Epoch 69/100\n",
      "115/115 [==============================] - 0s 583us/step - loss: 0.0071 - accuracy: 1.0000 - val_loss: 0.0780 - val_accuracy: 0.9826\n",
      "Epoch 70/100\n",
      "115/115 [==============================] - 0s 565us/step - loss: 0.0067 - accuracy: 1.0000 - val_loss: 0.0761 - val_accuracy: 0.9792\n",
      "Epoch 71/100\n",
      "115/115 [==============================] - 0s 3ms/step - loss: 0.0064 - accuracy: 1.0000 - val_loss: 0.0750 - val_accuracy: 0.9826\n",
      "Epoch 72/100\n",
      "115/115 [==============================] - 0s 2ms/step - loss: 0.0062 - accuracy: 1.0000 - val_loss: 0.0800 - val_accuracy: 0.9861\n",
      "Epoch 73/100\n",
      "115/115 [==============================] - 0s 3ms/step - loss: 0.0059 - accuracy: 1.0000 - val_loss: 0.0830 - val_accuracy: 0.9792 loss: 0.0059 - accuracy: 1.\n",
      "Epoch 74/100\n",
      "115/115 [==============================] - 0s 687us/step - loss: 0.0056 - accuracy: 1.0000 - val_loss: 0.0755 - val_accuracy: 0.9792\n",
      "Epoch 75/100\n",
      "115/115 [==============================] - 0s 583us/step - loss: 0.0053 - accuracy: 1.0000 - val_loss: 0.0789 - val_accuracy: 0.9826\n",
      "Epoch 76/100\n",
      "115/115 [==============================] - 0s 583us/step - loss: 0.0050 - accuracy: 1.0000 - val_loss: 0.0859 - val_accuracy: 0.9792\n",
      "Epoch 77/100\n",
      "115/115 [==============================] - 0s 1ms/step - loss: 0.0048 - accuracy: 1.0000 - val_loss: 0.0831 - val_accuracy: 0.9792\n",
      "Epoch 78/100\n",
      "115/115 [==============================] - 0s 4ms/step - loss: 0.0046 - accuracy: 1.0000 - val_loss: 0.0851 - val_accuracy: 0.9826\n",
      "Epoch 79/100\n",
      "115/115 [==============================] - 0s 1ms/step - loss: 0.0044 - accuracy: 1.0000 - val_loss: 0.0841 - val_accuracy: 0.9826\n",
      "Epoch 80/100\n",
      "115/115 [==============================] - 0s 652us/step - loss: 0.0041 - accuracy: 1.0000 - val_loss: 0.0888 - val_accuracy: 0.9792\n",
      "Epoch 81/100\n",
      "115/115 [==============================] - 0s 1ms/step - loss: 0.0040 - accuracy: 1.0000 - val_loss: 0.0842 - val_accuracy: 0.9861\n",
      "Epoch 82/100\n",
      "115/115 [==============================] - 0s 600us/step - loss: 0.0038 - accuracy: 1.0000 - val_loss: 0.0926 - val_accuracy: 0.9792\n",
      "Epoch 83/100\n",
      "115/115 [==============================] - 0s 591us/step - loss: 0.0036 - accuracy: 1.0000 - val_loss: 0.0861 - val_accuracy: 0.9826\n",
      "Epoch 84/100\n",
      "115/115 [==============================] - 0s 609us/step - loss: 0.0034 - accuracy: 1.0000 - val_loss: 0.0895 - val_accuracy: 0.9826\n",
      "Epoch 85/100\n",
      "115/115 [==============================] - 0s 609us/step - loss: 0.0033 - accuracy: 1.0000 - val_loss: 0.0934 - val_accuracy: 0.9826\n",
      "Epoch 86/100\n",
      "115/115 [==============================] - 0s 557us/step - loss: 0.0031 - accuracy: 1.0000 - val_loss: 0.0852 - val_accuracy: 0.9826\n",
      "Epoch 87/100\n",
      "115/115 [==============================] - 0s 565us/step - loss: 0.0030 - accuracy: 1.0000 - val_loss: 0.0888 - val_accuracy: 0.9792\n",
      "Epoch 88/100\n",
      "115/115 [==============================] - 0s 565us/step - loss: 0.0272 - accuracy: 0.9922 - val_loss: 0.1460 - val_accuracy: 0.9618\n",
      "Epoch 89/100\n",
      "115/115 [==============================] - 0s 600us/step - loss: 0.0132 - accuracy: 0.9956 - val_loss: 0.0842 - val_accuracy: 0.9861\n",
      "Epoch 90/100\n",
      "115/115 [==============================] - 0s 574us/step - loss: 0.0032 - accuracy: 1.0000 - val_loss: 0.0900 - val_accuracy: 0.9722\n",
      "Epoch 91/100\n",
      "115/115 [==============================] - 0s 3ms/step - loss: 0.0028 - accuracy: 1.0000 - val_loss: 0.0848 - val_accuracy: 0.9722: 0s - loss: 0.0028 - accuracy: 1.00\n",
      "Epoch 92/100\n",
      "115/115 [==============================] - 0s 4ms/step - loss: 0.0027 - accuracy: 1.0000 - val_loss: 0.0830 - val_accuracy: 0.9757\n",
      "Epoch 93/100\n",
      "115/115 [==============================] - 0s 600us/step - loss: 0.0026 - accuracy: 1.0000 - val_loss: 0.0833 - val_accuracy: 0.9757\n",
      "Epoch 94/100\n",
      "115/115 [==============================] - ETA: 0s - loss: 0.0025 - accuracy: 1.00 - 0s 1ms/step - loss: 0.0025 - accuracy: 1.0000 - val_loss: 0.0837 - val_accuracy: 0.9757\n",
      "Epoch 95/100\n",
      "115/115 [==============================] - 0s 3ms/step - loss: 0.0024 - accuracy: 1.0000 - val_loss: 0.0833 - val_accuracy: 0.9792\n",
      "Epoch 96/100\n",
      "115/115 [==============================] - 0s 661us/step - loss: 0.0023 - accuracy: 1.0000 - val_loss: 0.0830 - val_accuracy: 0.9757\n",
      "Epoch 97/100\n",
      "115/115 [==============================] - 0s 557us/step - loss: 0.0023 - accuracy: 1.0000 - val_loss: 0.0828 - val_accuracy: 0.9792\n",
      "Epoch 98/100\n",
      "115/115 [==============================] - 0s 1ms/step - loss: 0.0022 - accuracy: 1.0000 - val_loss: 0.0830 - val_accuracy: 0.9792\n",
      "Epoch 99/100\n",
      "115/115 [==============================] - 0s 1ms/step - loss: 0.0021 - accuracy: 1.0000 - val_loss: 0.0827 - val_accuracy: 0.9792\n",
      "Epoch 100/100\n",
      "115/115 [==============================] - 0s 3ms/step - loss: 0.0021 - accuracy: 1.0000 - val_loss: 0.0820 - val_accuracy: 0.9792\n"
     ]
    },
    {
     "data": {
      "image/png": "[encoded data removed]",
      "text/plain": [
       "<Figure size 720x360 with 2 Axes>"
      ]
     },
     "metadata": {
      "needs_background": "light"
     },
     "output_type": "display_data"
    }
   ],
   "source": [
    "model = Sequential()\n",
    "model.add(Dense(12, activation='relu', input_dim=64))\n",
    "model.add(Dense(8, activation='relu'))\n",
    "model.add(Dense(4, activation='relu'))\n",
    "model.add(Dense(1, activation='sigmoid'))\n",
    "\n",
    "model.compile(optimizer='adam',\n",
    "              loss='binary_crossentropy',\n",
    "              metrics=['accuracy'])\n",
    "\n",
    "\n",
    "## YOUR CODE HERE\n",
    "results = model.fit(X_pure_train, \n",
    "                    y_pure_train,\n",
    "                    epochs=100, \n",
    "                    batch_size=10, \n",
    "                    verbose=1,\n",
    "                   validation_data=(X_val, y_val))\n",
    "\n",
    "train_loss = results.history['loss']\n",
    "train_acc = results.history['accuracy']\n",
    "val_loss = results.history['val_loss']\n",
    "val_acc = results.history['val_accuracy']\n",
    "\n",
    "fig, (ax1, ax2) = plt.subplots(1, 2, figsize=(10, 5))\n",
    "sns.lineplot(x=results.epoch, y=train_loss, ax=ax1, label='train_loss')\n",
    "sns.lineplot(x=results.epoch, y=train_acc, ax=ax2, label='train_accuracy')\n",
    "\n",
    "sns.lineplot(x=results.epoch, y=val_loss, ax=ax1, label='val_loss')\n",
    "sns.lineplot(x=results.epoch, y=val_acc, ax=ax2, label='val_accuracy')\n",
    "ax1.set_title('Loss')\n",
    "ax2.set_title('Accuracy')\n",
    "ax1.legend();"
   ]
  },
  {
   "cell_type": "code",
   "execution_count": 41,
   "metadata": {
    "ExecuteTime": {
     "end_time": "2022-05-05T18:23:42.481363Z",
     "start_time": "2022-05-05T18:23:42.254314Z"
    }
   },
   "outputs": [
    {
     "data": {
      "text/plain": [
       "0.9791666865348816"
      ]
     },
     "execution_count": 41,
     "metadata": {},
     "output_type": "execute_result"
    }
   ],
   "source": [
    "results.history['val_accuracy'][-1]"
   ]
  },
  {
   "cell_type": "markdown",
   "metadata": {},
   "source": [
    "## Connecting with `sklearn`\n",
    "\n",
    "The `keras.wrappers` submodule means that we can turn `keras` models into estimators that `sklearn` tools will recognize."
   ]
  },
  {
   "cell_type": "code",
   "execution_count": 42,
   "metadata": {
    "ExecuteTime": {
     "end_time": "2022-05-05T18:27:08.898508Z",
     "start_time": "2022-05-05T18:27:08.294321Z"
    }
   },
   "outputs": [
    {
     "ename": "TypeError",
     "evalue": "If no scoring is specified, the estimator passed should have a 'score' method. The estimator <tensorflow.python.keras.engine.sequential.Sequential object at 0x000001D65D450400> does not.",
     "output_type": "error",
     "traceback": [
      "\u001b[1;31m---------------------------------------------------------------------------\u001b[0m",
      "\u001b[1;31mTypeError\u001b[0m                                 Traceback (most recent call last)",
      "\u001b[1;32m<ipython-input-42-440685741601>\u001b[0m in \u001b[0;36m<module>\u001b[1;34m\u001b[0m\n\u001b[0;32m      1\u001b[0m \u001b[1;31m# This will throw an error.\u001b[0m\u001b[1;33m\u001b[0m\u001b[1;33m\u001b[0m\u001b[1;33m\u001b[0m\u001b[0m\n\u001b[0;32m      2\u001b[0m \u001b[1;33m\u001b[0m\u001b[0m\n\u001b[1;32m----> 3\u001b[1;33m \u001b[0mcross_val_score\u001b[0m\u001b[1;33m(\u001b[0m\u001b[0mmodel\u001b[0m\u001b[1;33m,\u001b[0m \u001b[0mX_pure_train\u001b[0m\u001b[1;33m,\u001b[0m \u001b[0my_pure_train\u001b[0m\u001b[1;33m)\u001b[0m\u001b[1;33m\u001b[0m\u001b[1;33m\u001b[0m\u001b[0m\n\u001b[0m",
      "\u001b[1;32m~\\anaconda3\\envs\\learn-env\\lib\\site-packages\\sklearn\\model_selection\\_validation.py\u001b[0m in \u001b[0;36mcross_val_score\u001b[1;34m(estimator, X, y, groups, scoring, cv, n_jobs, verbose, fit_params, pre_dispatch, error_score)\u001b[0m\n\u001b[0;32m    505\u001b[0m     \"\"\"\n\u001b[0;32m    506\u001b[0m     \u001b[1;31m# To ensure multimetric format is not supported\u001b[0m\u001b[1;33m\u001b[0m\u001b[1;33m\u001b[0m\u001b[1;33m\u001b[0m\u001b[0m\n\u001b[1;32m--> 507\u001b[1;33m     \u001b[0mscorer\u001b[0m \u001b[1;33m=\u001b[0m \u001b[0mcheck_scoring\u001b[0m\u001b[1;33m(\u001b[0m\u001b[0mestimator\u001b[0m\u001b[1;33m,\u001b[0m \u001b[0mscoring\u001b[0m\u001b[1;33m=\u001b[0m\u001b[0mscoring\u001b[0m\u001b[1;33m)\u001b[0m\u001b[1;33m\u001b[0m\u001b[1;33m\u001b[0m\u001b[0m\n\u001b[0m\u001b[0;32m    508\u001b[0m \u001b[1;33m\u001b[0m\u001b[0m\n\u001b[0;32m    509\u001b[0m     cv_results = cross_validate(\n",
      "\u001b[1;32m~\\anaconda3\\envs\\learn-env\\lib\\site-packages\\sklearn\\metrics\\_scorer.py\u001b[0m in \u001b[0;36mcheck_scoring\u001b[1;34m(estimator, scoring, allow_none)\u001b[0m\n\u001b[0;32m    475\u001b[0m             \u001b[1;32mreturn\u001b[0m \u001b[1;32mNone\u001b[0m\u001b[1;33m\u001b[0m\u001b[1;33m\u001b[0m\u001b[0m\n\u001b[0;32m    476\u001b[0m         \u001b[1;32melse\u001b[0m\u001b[1;33m:\u001b[0m\u001b[1;33m\u001b[0m\u001b[1;33m\u001b[0m\u001b[0m\n\u001b[1;32m--> 477\u001b[1;33m             raise TypeError(\n\u001b[0m\u001b[0;32m    478\u001b[0m                 \u001b[1;34m\"If no scoring is specified, the estimator passed should \"\u001b[0m\u001b[1;33m\u001b[0m\u001b[1;33m\u001b[0m\u001b[0m\n\u001b[0;32m    479\u001b[0m                 \u001b[1;34m\"have a 'score' method. The estimator %r does not.\"\u001b[0m \u001b[1;33m%\u001b[0m \u001b[0mestimator\u001b[0m\u001b[1;33m\u001b[0m\u001b[1;33m\u001b[0m\u001b[0m\n",
      "\u001b[1;31mTypeError\u001b[0m: If no scoring is specified, the estimator passed should have a 'score' method. The estimator <tensorflow.python.keras.engine.sequential.Sequential object at 0x000001D65D450400> does not."
     ]
    }
   ],
   "source": [
    "# This will throw an error.\n",
    "\n",
    "cross_val_score(model, X_pure_train, y_pure_train)"
   ]
  },
  {
   "cell_type": "code",
   "execution_count": 43,
   "metadata": {
    "ExecuteTime": {
     "end_time": "2022-05-05T18:27:41.391066Z",
     "start_time": "2022-05-05T18:27:41.260039Z"
    }
   },
   "outputs": [],
   "source": [
    "def build_model():\n",
    "    model = Sequential()\n",
    "    model.add(Dense(12, activation='relu', input_dim=64))\n",
    "    model.add(Dense(8, activation='relu'))\n",
    "    model.add(Dense(4, activation='relu'))\n",
    "    model.add(Dense(1, activation = 'sigmoid'))\n",
    "\n",
    "    model.compile(optimizer='adam',\n",
    "                  loss='binary_crossentropy',\n",
    "                  metrics=['accuracy'])\n",
    "    return model"
   ]
  },
  {
   "cell_type": "code",
   "execution_count": 44,
   "metadata": {
    "ExecuteTime": {
     "end_time": "2022-05-05T18:27:42.201217Z",
     "start_time": "2022-05-05T18:27:42.079188Z"
    }
   },
   "outputs": [],
   "source": [
    "keras_model = scikit_learn.KerasClassifier(build_model,\n",
    "                                          epochs=10,\n",
    "                                          batch_size=32,\n",
    "                                          verbose=2)"
   ]
  },
  {
   "cell_type": "code",
   "execution_count": 45,
   "metadata": {
    "ExecuteTime": {
     "end_time": "2022-05-05T18:29:27.476537Z",
     "start_time": "2022-05-05T18:29:27.344509Z"
    }
   },
   "outputs": [
    {
     "data": {
      "text/plain": [
       "tensorflow.python.keras.wrappers.scikit_learn.KerasClassifier"
      ]
     },
     "execution_count": 45,
     "metadata": {},
     "output_type": "execute_result"
    }
   ],
   "source": [
    "type(keras_model)"
   ]
  },
  {
   "cell_type": "code",
   "execution_count": 46,
   "metadata": {
    "ExecuteTime": {
     "end_time": "2022-05-05T18:29:42.214395Z",
     "start_time": "2022-05-05T18:29:38.935320Z"
    },
    "scrolled": true
   },
   "outputs": [
    {
     "name": "stdout",
     "output_type": "stream",
     "text": [
      "Epoch 1/10\n",
      "29/29 - 0s - loss: 0.6725 - accuracy: 0.6246\n",
      "Epoch 2/10\n",
      "29/29 - 0s - loss: 0.6036 - accuracy: 0.7856\n",
      "Epoch 3/10\n",
      "29/29 - 0s - loss: 0.5314 - accuracy: 0.8379\n",
      "Epoch 4/10\n",
      "29/29 - 0s - loss: 0.4474 - accuracy: 0.8640\n",
      "Epoch 5/10\n",
      "29/29 - 0s - loss: 0.3696 - accuracy: 0.8781\n",
      "Epoch 6/10\n",
      "29/29 - 0s - loss: 0.3141 - accuracy: 0.8836\n",
      "Epoch 7/10\n",
      "29/29 - 0s - loss: 0.2788 - accuracy: 0.8945\n",
      "Epoch 8/10\n",
      "29/29 - 0s - loss: 0.2536 - accuracy: 0.9032\n",
      "Epoch 9/10\n",
      "29/29 - 0s - loss: 0.2378 - accuracy: 0.9108\n",
      "Epoch 10/10\n",
      "29/29 - 0s - loss: 0.2232 - accuracy: 0.9173\n",
      "8/8 - 0s - loss: 0.2708 - accuracy: 0.8826\n",
      "Epoch 1/10\n",
      "29/29 - 0s - loss: 0.6674 - accuracy: 0.5822\n",
      "Epoch 2/10\n",
      "29/29 - 0s - loss: 0.5925 - accuracy: 0.7454\n",
      "Epoch 3/10\n",
      "29/29 - 0s - loss: 0.5033 - accuracy: 0.8183\n",
      "Epoch 4/10\n",
      "29/29 - 0s - loss: 0.4167 - accuracy: 0.8379\n",
      "Epoch 5/10\n",
      "29/29 - 0s - loss: 0.3440 - accuracy: 0.8607\n",
      "Epoch 6/10\n",
      "29/29 - 0s - loss: 0.2948 - accuracy: 0.8716\n",
      "Epoch 7/10\n",
      "29/29 - 0s - loss: 0.2556 - accuracy: 0.8912\n",
      "Epoch 8/10\n",
      "29/29 - 0s - loss: 0.2320 - accuracy: 0.8988\n",
      "Epoch 9/10\n",
      "29/29 - 0s - loss: 0.2110 - accuracy: 0.9119\n",
      "Epoch 10/10\n",
      "29/29 - 0s - loss: 0.1964 - accuracy: 0.9195\n",
      "8/8 - 0s - loss: 0.2260 - accuracy: 0.9130\n",
      "Epoch 1/10\n",
      "WARNING:tensorflow:Callbacks method `on_train_batch_end` is slow compared to the batch time (batch time: 0.0000s vs `on_train_batch_end` time: 0.0010s). Check your callbacks.\n",
      "29/29 - 0s - loss: 0.6968 - accuracy: 0.4244\n",
      "Epoch 2/10\n",
      "29/29 - 0s - loss: 0.6736 - accuracy: 0.6224\n",
      "Epoch 3/10\n",
      "29/29 - 0s - loss: 0.6438 - accuracy: 0.6899\n",
      "Epoch 4/10\n",
      "29/29 - 0s - loss: 0.5712 - accuracy: 0.8194\n",
      "Epoch 5/10\n",
      "29/29 - 0s - loss: 0.4562 - accuracy: 0.8487\n",
      "Epoch 6/10\n",
      "29/29 - 0s - loss: 0.3605 - accuracy: 0.8662\n",
      "Epoch 7/10\n",
      "29/29 - 0s - loss: 0.3118 - accuracy: 0.8749\n",
      "Epoch 8/10\n",
      "29/29 - 0s - loss: 0.2814 - accuracy: 0.8847\n",
      "Epoch 9/10\n",
      "29/29 - 0s - loss: 0.2642 - accuracy: 0.8868\n",
      "Epoch 10/10\n",
      "29/29 - 0s - loss: 0.2487 - accuracy: 0.8955\n",
      "8/8 - 0s - loss: 0.2211 - accuracy: 0.9087\n",
      "Epoch 1/10\n",
      "WARNING:tensorflow:Callbacks method `on_train_batch_begin` is slow compared to the batch time (batch time: 0.0000s vs `on_train_batch_begin` time: 0.0010s). Check your callbacks.\n",
      "29/29 - 0s - loss: 0.6734 - accuracy: 0.6061\n",
      "Epoch 2/10\n",
      "29/29 - 0s - loss: 0.6303 - accuracy: 0.6801\n",
      "Epoch 3/10\n",
      "29/29 - 0s - loss: 0.5745 - accuracy: 0.7421\n",
      "Epoch 4/10\n",
      "29/29 - 0s - loss: 0.4945 - accuracy: 0.7900\n",
      "Epoch 5/10\n",
      "29/29 - 0s - loss: 0.4133 - accuracy: 0.8400\n",
      "Epoch 6/10\n",
      "29/29 - 0s - loss: 0.3581 - accuracy: 0.8607\n",
      "Epoch 7/10\n",
      "29/29 - 0s - loss: 0.3094 - accuracy: 0.8868\n",
      "Epoch 8/10\n",
      "29/29 - 0s - loss: 0.2850 - accuracy: 0.8901\n",
      "Epoch 9/10\n",
      "29/29 - 0s - loss: 0.2515 - accuracy: 0.9097\n",
      "Epoch 10/10\n",
      "29/29 - 0s - loss: 0.2260 - accuracy: 0.9217\n",
      "8/8 - 0s - loss: 0.2130 - accuracy: 0.9261\n",
      "Epoch 1/10\n",
      "29/29 - 0s - loss: 0.7126 - accuracy: 0.4359\n",
      "Epoch 2/10\n",
      "29/29 - 0s - loss: 0.6899 - accuracy: 0.5402\n",
      "Epoch 3/10\n",
      "29/29 - 0s - loss: 0.6800 - accuracy: 0.6076\n",
      "Epoch 4/10\n",
      "29/29 - 0s - loss: 0.6504 - accuracy: 0.6446\n",
      "Epoch 5/10\n",
      "29/29 - 0s - loss: 0.5723 - accuracy: 0.7304\n",
      "Epoch 6/10\n",
      "29/29 - 0s - loss: 0.4628 - accuracy: 0.8000\n",
      "Epoch 7/10\n",
      "29/29 - 0s - loss: 0.3801 - accuracy: 0.8337\n",
      "Epoch 8/10\n",
      "29/29 - 0s - loss: 0.3088 - accuracy: 0.8783\n",
      "Epoch 9/10\n",
      "29/29 - 0s - loss: 0.2648 - accuracy: 0.8913\n",
      "Epoch 10/10\n",
      "29/29 - 0s - loss: 0.2342 - accuracy: 0.9098\n",
      "8/8 - 0s - loss: 0.3145 - accuracy: 0.8646\n"
     ]
    },
    {
     "data": {
      "text/plain": [
       "array([0.88260871, 0.9130435 , 0.90869564, 0.92608696, 0.86462879])"
      ]
     },
     "execution_count": 46,
     "metadata": {},
     "output_type": "execute_result"
    }
   ],
   "source": [
    "cross_val_score(keras_model, X_pure_train, y_pure_train)"
   ]
  },
  {
   "cell_type": "markdown",
   "metadata": {},
   "source": [
    "## [Regularization](https://www.tensorflow.org/api_docs/python/tf/keras/regularizers/Regularizer)"
   ]
  },
  {
   "cell_type": "markdown",
   "metadata": {},
   "source": [
    "Does regularization make sense in the context of neural networks? <br/>\n",
    "\n",
    "Yes! We still have all of the salient ingredients: a loss function, overfitting vs. underfitting, and coefficients (weights) that could get too large.\n",
    "\n",
    "But there are now a few different flavors besides L1 and L2 regularization. (Note that L1 regularization is not common in the context of  neural networks.)\n",
    "\n",
    "We'll add a few more layers to give regularization a better chance of making a difference!"
   ]
  },
  {
   "cell_type": "code",
   "execution_count": 47,
   "metadata": {
    "ExecuteTime": {
     "end_time": "2022-05-05T18:37:25.704789Z",
     "start_time": "2022-05-05T18:37:24.074266Z"
    }
   },
   "outputs": [
    {
     "data": {
      "image/png": "[encoded data removed]",
      "text/plain": [
       "<Figure size 720x360 with 2 Axes>"
      ]
     },
     "metadata": {
      "needs_background": "light"
     },
     "output_type": "display_data"
    }
   ],
   "source": [
    "model = Sequential()\n",
    "model.add(Dense(30, activation='relu', input_dim=64))\n",
    "\n",
    "# We can add L2 (or L1) regularization right into\n",
    "# the layer with the kernel_regularizer parameter.\n",
    "\n",
    "model.add(Dense(20, activation='relu',kernel_regularizer=l2(l=0.05)))\n",
    "\n",
    "# Note that there is also a bias_regularizer,\n",
    "# but this tends to have less effect.\n",
    "\n",
    "model.add(Dense(12, activation='relu'))\n",
    "model.add(Dense(12, activation='relu'))\n",
    "model.add(Dense(12, activation='relu'))\n",
    "model.add(Dense(8, activation='relu'))\n",
    "model.add(Dense(4, activation='relu'))\n",
    "model.add(Dense(1, activation ='sigmoid'))\n",
    "\n",
    "model.compile(optimizer='adam',\n",
    "              loss='binary_crossentropy',\n",
    "              metrics=['accuracy'])\n",
    "\n",
    "results = model.fit(X_pure_train, y_pure_train, epochs=20, batch_size=32,\n",
    "                    verbose=0, validation_data=(X_val, y_val))\n",
    "\n",
    "train_loss = results.history['loss']\n",
    "train_acc = results.history['accuracy']\n",
    "val_loss = results.history['val_loss']\n",
    "val_acc = results.history['val_accuracy']\n",
    "\n",
    "\n",
    "fig, (ax1, ax2) = plt.subplots(1, 2, figsize=(10, 5))\n",
    "sns.lineplot(x=results.epoch, y=train_loss, ax=ax1, label='train_loss')\n",
    "sns.lineplot(x=results.epoch, y=train_acc, ax=ax2, label='train_accuracy')\n",
    "\n",
    "sns.lineplot(x=results.epoch, y=val_loss, ax=ax1, label='val_loss')\n",
    "sns.lineplot(x=results.epoch, y=val_acc, ax=ax2, label='val_accuracy')\n",
    "ax1.set_title('Loss')\n",
    "ax2.set_title('Accuracy')\n",
    "ax1.legend();"
   ]
  },
  {
   "cell_type": "markdown",
   "metadata": {},
   "source": [
    "Adding L2 to multiple layers:"
   ]
  },
  {
   "cell_type": "code",
   "execution_count": 48,
   "metadata": {
    "ExecuteTime": {
     "end_time": "2022-05-05T18:37:30.027896Z",
     "start_time": "2022-05-05T18:37:28.224830Z"
    }
   },
   "outputs": [
    {
     "data": {
      "image/png": "[encoded data removed]",
      "text/plain": [
       "<Figure size 720x360 with 2 Axes>"
      ]
     },
     "metadata": {
      "needs_background": "light"
     },
     "output_type": "display_data"
    }
   ],
   "source": [
    "model = Sequential()\n",
    "model.add(Dense(30, activation='relu',\n",
    "                input_dim=64))\n",
    "model.add(Dense(20, activation='relu',\n",
    "                kernel_regularizer=l2(l=0.01)))\n",
    "\n",
    "model.add(Dense(12, activation='relu',\n",
    "                kernel_regularizer=l2(l=0.01)))\n",
    "model.add(Dense(12, activation='relu',\n",
    "                kernel_regularizer=l2(l=0.01)))\n",
    "model.add(Dense(12, activation='relu',\n",
    "                kernel_regularizer=l2(l=0.01)))\n",
    "model.add(Dense(8, activation='relu',\n",
    "                kernel_regularizer=l2(l=0.01)))\n",
    "model.add(Dense(4, activation='relu',\n",
    "                kernel_regularizer=l2(l=0.01)))\n",
    "model.add(Dense(1, activation='sigmoid'))\n",
    "\n",
    "model.compile(optimizer='adam',\n",
    "              loss='binary_crossentropy',\n",
    "              metrics=['accuracy'])\n",
    "\n",
    "results = model.fit(X_pure_train, y_pure_train, epochs=20, batch_size=32,\n",
    "                    verbose=0, validation_data=(X_val, y_val))\n",
    "\n",
    "train_loss = results.history['loss']\n",
    "train_acc = results.history['accuracy']\n",
    "val_loss = results.history['val_loss']\n",
    "val_acc = results.history['val_accuracy']\n",
    "\n",
    "\n",
    "fig, (ax1, ax2) = plt.subplots(1, 2, figsize=(10, 5))\n",
    "sns.lineplot(x=results.epoch, y=train_loss, ax=ax1, label='train_loss')\n",
    "sns.lineplot(x=results.epoch, y=train_acc, ax=ax2, label='train_accuracy')\n",
    "\n",
    "sns.lineplot(x=results.epoch, y=val_loss, ax=ax1, label='val_loss')\n",
    "sns.lineplot(x=results.epoch, y=val_acc, ax=ax2, label='val_accuracy')\n",
    "ax1.set_title('Loss')\n",
    "ax2.set_title('Accuracy')\n",
    "ax1.legend();"
   ]
  },
  {
   "cell_type": "markdown",
   "metadata": {},
   "source": [
    "### Dropout\n",
    "\n",
    "We can also specify a dropout layer in keras, which randomly shuts off different nodes during training. This can help to prevent overfitting."
   ]
  },
  {
   "cell_type": "markdown",
   "metadata": {},
   "source": [
    "![drop_out](images/drop_out.png)"
   ]
  },
  {
   "cell_type": "markdown",
   "metadata": {},
   "source": [
    "### Exercise\n",
    "\n",
    "To add dropout to a `keras` network, simply add it as though it were a layer. It will apply to the immediately preceding layer.\n",
    "\n",
    "Add Dropout to one or more layers below."
   ]
  },
  {
   "cell_type": "code",
   "execution_count": 51,
   "metadata": {
    "ExecuteTime": {
     "end_time": "2022-05-05T18:41:30.478020Z",
     "start_time": "2022-05-05T18:41:27.798816Z"
    }
   },
   "outputs": [
    {
     "data": {
      "image/png": "[encoded data removed]",
      "text/plain": [
       "<Figure size 720x360 with 2 Axes>"
      ]
     },
     "metadata": {
      "needs_background": "light"
     },
     "output_type": "display_data"
    }
   ],
   "source": [
    "model = Sequential()\n",
    "model.add(Dense(30, activation='relu', input_dim=64))\n",
    "model.add(Dense(20, activation='relu'))\n",
    "model.add(Dropout(0.5))\n",
    "model.add(Dense(12, activation='relu'))\n",
    "model.add(Dense(12, activation='relu'))\n",
    "model.add(Dropout(0.2))\n",
    "model.add(Dense(12, activation='relu'))\n",
    "model.add(Dense(8, activation='relu'))\n",
    "model.add(Dense(4, activation='relu'))\n",
    "model.add(Dense(1, activation ='sigmoid'))\n",
    "\n",
    "model.compile(optimizer='adam',\n",
    "              loss='binary_crossentropy',\n",
    "              metrics=['accuracy'])\n",
    "\n",
    "results = model.fit(X_pure_train, y_pure_train, epochs=50,\n",
    "                    batch_size= 32, verbose=0,\n",
    "                    validation_data=(X_val, y_val))\n",
    "\n",
    "train_loss = results.history['loss']\n",
    "train_acc = results.history['accuracy']\n",
    "val_loss = results.history['val_loss']\n",
    "val_acc = results.history['val_accuracy']\n",
    "\n",
    "\n",
    "fig, (ax1, ax2) = plt.subplots(1, 2, figsize=(10, 5))\n",
    "sns.lineplot(x=results.epoch, y=train_loss, ax=ax1, label='train_loss')\n",
    "sns.lineplot(x=results.epoch, y=train_acc, ax=ax2, label='train_accuracy')\n",
    "\n",
    "sns.lineplot(x=results.epoch, y=val_loss, ax=ax1, label='val_loss')\n",
    "sns.lineplot(x=results.epoch, y=val_acc, ax=ax2, label='val_accuracy')\n",
    "ax1.set_title('Loss')\n",
    "ax2.set_title('Accuracy')\n",
    "ax1.legend();"
   ]
  },
  {
   "cell_type": "code",
   "execution_count": 50,
   "metadata": {
    "ExecuteTime": {
     "end_time": "2022-05-05T18:39:53.617766Z",
     "start_time": "2022-05-05T18:39:53.415691Z"
    }
   },
   "outputs": [
    {
     "data": {
      "text/plain": [
       "0.9826388955116272"
      ]
     },
     "execution_count": 50,
     "metadata": {},
     "output_type": "execute_result"
    }
   ],
   "source": [
    "results.history['val_accuracy'][-1]"
   ]
  },
  {
   "cell_type": "markdown",
   "metadata": {},
   "source": [
    "### Early Stopping"
   ]
  },
  {
   "cell_type": "markdown",
   "metadata": {},
   "source": [
    "We can also tell our neural network to stop once it stops realizing any gain.\n",
    "\n",
    "Here we tell it to stop once the a very small positive change in the validation loss occurs:"
   ]
  },
  {
   "cell_type": "code",
   "execution_count": 52,
   "metadata": {
    "ExecuteTime": {
     "end_time": "2022-05-05T18:50:49.443028Z",
     "start_time": "2022-05-05T18:50:48.086313Z"
    }
   },
   "outputs": [
    {
     "name": "stdout",
     "output_type": "stream",
     "text": [
      "Epoch 00015: early stopping\n"
     ]
    },
    {
     "data": {
      "image/png": "[encoded data removed]",
      "text/plain": [
       "<Figure size 720x360 with 2 Axes>"
      ]
     },
     "metadata": {
      "needs_background": "light"
     },
     "output_type": "display_data"
    }
   ],
   "source": [
    "model = Sequential()\n",
    "model.add(Dense(30, activation='relu', input_dim=64))\n",
    "model.add(Dense(20, activation='relu'))\n",
    "model.add(Dropout(0.5))\n",
    "model.add(Dense(12, activation='relu'))\n",
    "model.add(Dense(12, activation='relu'))\n",
    "model.add(Dense(12, activation='relu'))\n",
    "model.add(Dense(8, activation='relu'))\n",
    "model.add(Dense(4, activation='relu'))\n",
    "model.add(Dense(1, activation ='sigmoid'))\n",
    "\n",
    "model.compile(optimizer='adam',\n",
    "              loss='binary_crossentropy',\n",
    "              metrics=['accuracy'])\n",
    "\n",
    "# Define the EarlyStopping object\n",
    "early_stop = EarlyStopping(monitor='val_loss', min_delta=1e-8,\n",
    "                           verbose=1,\n",
    "                           mode='min')\n",
    "\n",
    "# Place this in a list as the value of the `callbacks` parameter\n",
    "# in the `.fit()` method.\n",
    "results = model.fit(X_pure_train, y_pure_train,\n",
    "                    epochs=20, batch_size=32,\n",
    "                    verbose=0, validation_data=(X_val, y_val),\n",
    "                    callbacks=[early_stop])\n",
    "\n",
    "train_loss = results.history['loss']\n",
    "train_acc = results.history['accuracy']\n",
    "val_loss = results.history['val_loss']\n",
    "val_acc = results.history['val_accuracy']\n",
    "\n",
    "\n",
    "fig, (ax1, ax2) = plt.subplots(1, 2, figsize=(10, 5))\n",
    "sns.lineplot(x=results.epoch, y=train_loss, ax=ax1, label='train_loss')\n",
    "sns.lineplot(x=results.epoch, y=train_acc, ax=ax2, label='train_accuracy')\n",
    "\n",
    "sns.lineplot(x=results.epoch, y=val_loss, ax=ax1, label='val_loss')\n",
    "sns.lineplot(x=results.epoch, y=val_acc, ax=ax2, label='val_accuracy')\n",
    "ax1.set_title('Loss')\n",
    "ax2.set_title('Accuracy')\n",
    "ax1.legend();"
   ]
  },
  {
   "cell_type": "markdown",
   "metadata": {},
   "source": [
    "### Exercise\n",
    "\n",
    "That probably stopped too early. We can specify the number of epochs in which it doesn't see decrease in the loss with the `patience` parameter. Modify the code below to include an Early Stop with a patience of 5 epochs."
   ]
  },
  {
   "cell_type": "code",
   "execution_count": 55,
   "metadata": {
    "ExecuteTime": {
     "end_time": "2022-05-05T18:53:51.482202Z",
     "start_time": "2022-05-05T18:53:48.423021Z"
    },
    "scrolled": true
   },
   "outputs": [
    {
     "name": "stdout",
     "output_type": "stream",
     "text": [
      "Epoch 1/50\n",
      "36/36 [==============================] - 0s 5ms/step - loss: 0.6943 - accuracy: 0.5144 - val_loss: 0.6904 - val_accuracy: 0.5694\n",
      "Epoch 2/50\n",
      "36/36 [==============================] - 0s 778us/step - loss: 0.6649 - accuracy: 0.6049 - val_loss: 0.6173 - val_accuracy: 0.7188\n",
      "Epoch 3/50\n",
      "36/36 [==============================] - 0s 834us/step - loss: 0.5347 - accuracy: 0.7476 - val_loss: 0.4244 - val_accuracy: 0.8160\n",
      "Epoch 4/50\n",
      "36/36 [==============================] - 0s 806us/step - loss: 0.3941 - accuracy: 0.8242 - val_loss: 0.3080 - val_accuracy: 0.8715\n",
      "Epoch 5/50\n",
      "36/36 [==============================] - 0s 889us/step - loss: 0.3314 - accuracy: 0.8529 - val_loss: 0.2391 - val_accuracy: 0.9167\n",
      "Epoch 6/50\n",
      "36/36 [==============================] - 0s 861us/step - loss: 0.2933 - accuracy: 0.8764 - val_loss: 0.1968 - val_accuracy: 0.9236\n",
      "Epoch 7/50\n",
      "36/36 [==============================] - 0s 861us/step - loss: 0.2498 - accuracy: 0.8956 - val_loss: 0.1761 - val_accuracy: 0.9201\n",
      "Epoch 8/50\n",
      "36/36 [==============================] - 0s 889us/step - loss: 0.2094 - accuracy: 0.9147 - val_loss: 0.1500 - val_accuracy: 0.9410\n",
      "Epoch 9/50\n",
      "36/36 [==============================] - 0s 834us/step - loss: 0.2021 - accuracy: 0.9086 - val_loss: 0.1363 - val_accuracy: 0.9514\n",
      "Epoch 10/50\n",
      "36/36 [==============================] - 0s 861us/step - loss: 0.1669 - accuracy: 0.9339 - val_loss: 0.1070 - val_accuracy: 0.9688\n",
      "Epoch 11/50\n",
      "36/36 [==============================] - 0s 806us/step - loss: 0.1424 - accuracy: 0.9539 - val_loss: 0.0959 - val_accuracy: 0.9722\n",
      "Epoch 12/50\n",
      "36/36 [==============================] - 0s 806us/step - loss: 0.1299 - accuracy: 0.9513 - val_loss: 0.0953 - val_accuracy: 0.9722\n",
      "Epoch 13/50\n",
      "36/36 [==============================] - 0s 806us/step - loss: 0.1251 - accuracy: 0.9495 - val_loss: 0.0706 - val_accuracy: 0.9826\n",
      "Epoch 14/50\n",
      "36/36 [==============================] - 0s 750us/step - loss: 0.1191 - accuracy: 0.9547 - val_loss: 0.0665 - val_accuracy: 0.9826\n",
      "Epoch 15/50\n",
      "36/36 [==============================] - 0s 834us/step - loss: 0.1024 - accuracy: 0.9626 - val_loss: 0.0746 - val_accuracy: 0.9757\n",
      "Epoch 16/50\n",
      "36/36 [==============================] - 0s 778us/step - loss: 0.0893 - accuracy: 0.9687 - val_loss: 0.0613 - val_accuracy: 0.9826\n",
      "Epoch 17/50\n",
      "36/36 [==============================] - 0s 777us/step - loss: 0.0918 - accuracy: 0.9591 - val_loss: 0.0676 - val_accuracy: 0.9757\n",
      "Epoch 18/50\n",
      "36/36 [==============================] - 0s 806us/step - loss: 0.0848 - accuracy: 0.9704 - val_loss: 0.0575 - val_accuracy: 0.9896\n",
      "Epoch 19/50\n",
      "36/36 [==============================] - 0s 806us/step - loss: 0.0686 - accuracy: 0.9765 - val_loss: 0.0536 - val_accuracy: 0.9896\n",
      "Epoch 20/50\n",
      "36/36 [==============================] - 0s 889us/step - loss: 0.0737 - accuracy: 0.9687 - val_loss: 0.0673 - val_accuracy: 0.9722\n",
      "Epoch 21/50\n",
      "36/36 [==============================] - 0s 889us/step - loss: 0.0630 - accuracy: 0.9791 - val_loss: 0.0667 - val_accuracy: 0.9826\n",
      "Epoch 22/50\n",
      "36/36 [==============================] - 0s 834us/step - loss: 0.0538 - accuracy: 0.9791 - val_loss: 0.0498 - val_accuracy: 0.9861\n",
      "Epoch 23/50\n",
      "36/36 [==============================] - 0s 945us/step - loss: 0.0493 - accuracy: 0.9791 - val_loss: 0.0518 - val_accuracy: 0.9896\n",
      "Epoch 24/50\n",
      "36/36 [==============================] - 0s 834us/step - loss: 0.0729 - accuracy: 0.9704 - val_loss: 0.0554 - val_accuracy: 0.9896\n",
      "Epoch 25/50\n",
      "36/36 [==============================] - 0s 833us/step - loss: 0.0492 - accuracy: 0.9817 - val_loss: 0.0585 - val_accuracy: 0.9931\n",
      "Epoch 26/50\n",
      "36/36 [==============================] - 0s 834us/step - loss: 0.0570 - accuracy: 0.9809 - val_loss: 0.0571 - val_accuracy: 0.9896\n",
      "Epoch 27/50\n",
      "36/36 [==============================] - 0s 972us/step - loss: 0.0537 - accuracy: 0.9782 - val_loss: 0.0514 - val_accuracy: 0.9861\n",
      "Epoch 00027: early stopping\n"
     ]
    },
    {
     "data": {
      "image/png": "[encoded data removed]",
      "text/plain": [
       "<Figure size 720x360 with 2 Axes>"
      ]
     },
     "metadata": {
      "needs_background": "light"
     },
     "output_type": "display_data"
    }
   ],
   "source": [
    "model = Sequential()\n",
    "model.add(Dense(30, activation='relu', input_dim=64))\n",
    "model.add(Dense(20, activation='relu'))\n",
    "model.add(Dropout(0.5))\n",
    "model.add(Dense(12, activation='relu'))\n",
    "model.add(Dense(12, activation='relu'))\n",
    "model.add(Dense(12, activation='relu'))\n",
    "model.add(Dense(8, activation='relu'))\n",
    "model.add(Dense(4, activation='relu'))\n",
    "model.add(Dense(1, activation ='sigmoid'))\n",
    "\n",
    "model.compile(optimizer='adam',\n",
    "              loss='binary_crossentropy',\n",
    "              metrics=['accuracy'])\n",
    "\n",
    "# Define the EarlyStopping object\n",
    "early_stop = EarlyStopping(monitor='val_loss',  #Note: validation data needs to be provided in model!!!!\n",
    "                           min_delta=1e-8,\n",
    "                           verbose=2, \n",
    "                           patience=5,  #How many epochs of min delta before break?\n",
    "                           mode='min')\n",
    "\n",
    "# Place this in a list as the value of the `callbacks` parameter\n",
    "# in the `.fit()` method.\n",
    "results = model.fit(X_pure_train, y_pure_train,\n",
    "                    epochs=50, batch_size= 32,\n",
    "                    verbose=1, \n",
    "                    validation_data=(X_val, y_val),\n",
    "                    callbacks=[early_stop])\n",
    "\n",
    "train_loss = results.history['loss']\n",
    "train_acc = results.history['accuracy']\n",
    "val_loss = results.history['val_loss']\n",
    "val_acc = results.history['val_accuracy']\n",
    "\n",
    "\n",
    "fig, (ax1, ax2) = plt.subplots(1, 2, figsize=(10, 5))\n",
    "sns.lineplot(x=results.epoch, y=train_loss, ax=ax1, label='train_loss')\n",
    "sns.lineplot(x=results.epoch, y=train_acc, ax=ax2, label='train_accuracy')\n",
    "\n",
    "sns.lineplot(x=results.epoch, y=val_loss, ax=ax1, label='val_loss')\n",
    "sns.lineplot(x=results.epoch, y=val_acc, ax=ax2, label='val_accuracy')\n",
    "ax1.set_title('Loss')\n",
    "ax2.set_title('Accuracy')\n",
    "ax1.legend();"
   ]
  },
  {
   "cell_type": "code",
   "execution_count": 56,
   "metadata": {
    "ExecuteTime": {
     "end_time": "2022-05-05T18:54:05.591348Z",
     "start_time": "2022-05-05T18:54:05.457318Z"
    }
   },
   "outputs": [
    {
     "data": {
      "text/plain": [
       "0.9861111044883728"
      ]
     },
     "execution_count": 56,
     "metadata": {},
     "output_type": "execute_result"
    }
   ],
   "source": [
    "results.history['val_accuracy'][-1]"
   ]
  },
  {
   "cell_type": "markdown",
   "metadata": {},
   "source": [
    "## Multiclass Classification and Softmax"
   ]
  },
  {
   "cell_type": "markdown",
   "metadata": {},
   "source": [
    "Now let's return to the problem of predicting digits 0 through 9."
   ]
  },
  {
   "cell_type": "code",
   "execution_count": 57,
   "metadata": {
    "ExecuteTime": {
     "end_time": "2022-05-05T18:55:37.413595Z",
     "start_time": "2022-05-05T18:55:36.715414Z"
    }
   },
   "outputs": [],
   "source": [
    "digits = load_digits()\n",
    "X = digits.data\n",
    "y = digits.target"
   ]
  },
  {
   "cell_type": "code",
   "execution_count": 58,
   "metadata": {
    "ExecuteTime": {
     "end_time": "2022-05-05T18:55:38.634520Z",
     "start_time": "2022-05-05T18:55:38.434785Z"
    }
   },
   "outputs": [],
   "source": [
    "X_train, X_test, y_train, y_test = train_test_split(X, y,\n",
    "                                                    random_state=42,\n",
    "                                                    test_size=0.2)\n",
    "X_pure_train, X_val, y_pure_train, y_val =\\\n",
    "    train_test_split(X_train, y_train,\n",
    "                     random_state=42, test_size=0.2)\n",
    "X_pure_train, X_val, X_test = X_pure_train/16, X_val/16, X_test/16"
   ]
  },
  {
   "cell_type": "markdown",
   "metadata": {},
   "source": [
    "For a multiclass output, our neural net expects our target to be in a certain form."
   ]
  },
  {
   "cell_type": "code",
   "execution_count": 59,
   "metadata": {
    "ExecuteTime": {
     "end_time": "2022-05-05T18:55:42.501965Z",
     "start_time": "2022-05-05T18:55:42.286424Z"
    }
   },
   "outputs": [],
   "source": [
    "ohe = OneHotEncoder(sparse=False)\n",
    "y_pure_train = ohe.fit_transform(y_pure_train.reshape(-1,1))\n",
    "y_val = ohe.transform(y_val.reshape(-1,1))\n",
    "y_test = ohe.transform(y_test.reshape(-1,1))"
   ]
  },
  {
   "cell_type": "code",
   "execution_count": 60,
   "metadata": {
    "ExecuteTime": {
     "end_time": "2022-05-05T18:55:43.638711Z",
     "start_time": "2022-05-05T18:55:43.434663Z"
    },
    "scrolled": true
   },
   "outputs": [
    {
     "data": {
      "text/plain": [
       "array([[0., 0., 0., ..., 0., 0., 0.],\n",
       "       [0., 0., 0., ..., 0., 0., 1.],\n",
       "       [0., 0., 0., ..., 0., 0., 0.],\n",
       "       ...,\n",
       "       [0., 0., 0., ..., 0., 1., 0.],\n",
       "       [0., 0., 0., ..., 0., 0., 0.],\n",
       "       [0., 0., 0., ..., 0., 0., 0.]])"
      ]
     },
     "execution_count": 60,
     "metadata": {},
     "output_type": "execute_result"
    }
   ],
   "source": [
    "y_test"
   ]
  },
  {
   "cell_type": "code",
   "execution_count": 61,
   "metadata": {
    "ExecuteTime": {
     "end_time": "2022-05-05T18:56:23.118179Z",
     "start_time": "2022-05-05T18:56:22.997149Z"
    }
   },
   "outputs": [
    {
     "data": {
      "text/plain": [
       "(360, 10)"
      ]
     },
     "execution_count": 61,
     "metadata": {},
     "output_type": "execute_result"
    }
   ],
   "source": [
    "y_test.shape"
   ]
  },
  {
   "cell_type": "code",
   "execution_count": 62,
   "metadata": {
    "ExecuteTime": {
     "end_time": "2022-05-05T18:56:57.760391Z",
     "start_time": "2022-05-05T18:56:53.885078Z"
    },
    "collapsed": true
   },
   "outputs": [
    {
     "name": "stdout",
     "output_type": "stream",
     "text": [
      "Epoch 1/50\n",
      "  1/115 [..............................] - ETA: 0s - loss: 2.5388 - accuracy: 0.0000e+00WARNING:tensorflow:Callbacks method `on_train_batch_begin` is slow compared to the batch time (batch time: 0.0000s vs `on_train_batch_begin` time: 0.0010s). Check your callbacks.\n",
      "115/115 [==============================] - 0s 1ms/step - loss: 2.2534 - accuracy: 0.1462 - val_loss: 2.1637 - val_accuracy: 0.1771\n",
      "Epoch 2/50\n",
      "115/115 [==============================] - 0s 539us/step - loss: 2.0430 - accuracy: 0.2811 - val_loss: 1.8947 - val_accuracy: 0.3507\n",
      "Epoch 3/50\n",
      "115/115 [==============================] - 0s 1ms/step - loss: 1.7082 - accuracy: 0.4456 - val_loss: 1.5330 - val_accuracy: 0.5208\n",
      "Epoch 4/50\n",
      "115/115 [==============================] - 0s 522us/step - loss: 1.3597 - accuracy: 0.6066 - val_loss: 1.2426 - val_accuracy: 0.6736\n",
      "Epoch 5/50\n",
      "115/115 [==============================] - 0s 504us/step - loss: 1.1112 - accuracy: 0.7032 - val_loss: 1.0388 - val_accuracy: 0.6910\n",
      "Epoch 6/50\n",
      "115/115 [==============================] - 0s 513us/step - loss: 0.9415 - accuracy: 0.7493 - val_loss: 0.9131 - val_accuracy: 0.7500\n",
      "Epoch 7/50\n",
      "115/115 [==============================] - 0s 504us/step - loss: 0.8213 - accuracy: 0.7815 - val_loss: 0.8129 - val_accuracy: 0.7847\n",
      "Epoch 8/50\n",
      "115/115 [==============================] - 0s 531us/step - loss: 0.7273 - accuracy: 0.8042 - val_loss: 0.7296 - val_accuracy: 0.7778\n",
      "Epoch 9/50\n",
      "115/115 [==============================] - 0s 522us/step - loss: 0.6587 - accuracy: 0.8111 - val_loss: 0.6585 - val_accuracy: 0.8090\n",
      "Epoch 10/50\n",
      "115/115 [==============================] - 0s 504us/step - loss: 0.5935 - accuracy: 0.8303 - val_loss: 0.6035 - val_accuracy: 0.8507\n",
      "Epoch 11/50\n",
      "115/115 [==============================] - 0s 522us/step - loss: 0.5449 - accuracy: 0.8494 - val_loss: 0.5625 - val_accuracy: 0.8368\n",
      "Epoch 12/50\n",
      "115/115 [==============================] - 0s 513us/step - loss: 0.5040 - accuracy: 0.8677 - val_loss: 0.5215 - val_accuracy: 0.8576\n",
      "Epoch 13/50\n",
      "115/115 [==============================] - 0s 513us/step - loss: 0.4675 - accuracy: 0.8712 - val_loss: 0.4678 - val_accuracy: 0.8681\n",
      "Epoch 14/50\n",
      "115/115 [==============================] - 0s 513us/step - loss: 0.4308 - accuracy: 0.8860 - val_loss: 0.4357 - val_accuracy: 0.8681\n",
      "Epoch 15/50\n",
      "115/115 [==============================] - 0s 583us/step - loss: 0.3996 - accuracy: 0.8930 - val_loss: 0.4073 - val_accuracy: 0.8785\n",
      "Epoch 16/50\n",
      "115/115 [==============================] - 0s 618us/step - loss: 0.3711 - accuracy: 0.9025 - val_loss: 0.3823 - val_accuracy: 0.8958\n",
      "Epoch 17/50\n",
      "115/115 [==============================] - 0s 539us/step - loss: 0.3534 - accuracy: 0.9121 - val_loss: 0.3599 - val_accuracy: 0.8889\n",
      "Epoch 18/50\n",
      "115/115 [==============================] - 0s 548us/step - loss: 0.3284 - accuracy: 0.9164 - val_loss: 0.3399 - val_accuracy: 0.8889\n",
      "Epoch 19/50\n",
      "115/115 [==============================] - 0s 574us/step - loss: 0.3142 - accuracy: 0.9217 - val_loss: 0.3271 - val_accuracy: 0.8924\n",
      "Epoch 20/50\n",
      "115/115 [==============================] - 0s 548us/step - loss: 0.2959 - accuracy: 0.9225 - val_loss: 0.3095 - val_accuracy: 0.8958\n",
      "Epoch 21/50\n",
      "115/115 [==============================] - 0s 513us/step - loss: 0.2800 - accuracy: 0.9286 - val_loss: 0.2858 - val_accuracy: 0.9167\n",
      "Epoch 22/50\n",
      "115/115 [==============================] - 0s 531us/step - loss: 0.2655 - accuracy: 0.9321 - val_loss: 0.2761 - val_accuracy: 0.9028\n",
      "Epoch 23/50\n",
      "115/115 [==============================] - 0s 531us/step - loss: 0.2537 - accuracy: 0.9312 - val_loss: 0.2755 - val_accuracy: 0.9201\n",
      "Epoch 24/50\n",
      "115/115 [==============================] - 0s 530us/step - loss: 0.2425 - accuracy: 0.9339 - val_loss: 0.2427 - val_accuracy: 0.9201\n",
      "Epoch 25/50\n",
      "115/115 [==============================] - 0s 548us/step - loss: 0.2266 - accuracy: 0.9417 - val_loss: 0.2516 - val_accuracy: 0.9167\n",
      "Epoch 26/50\n",
      "115/115 [==============================] - 0s 531us/step - loss: 0.2213 - accuracy: 0.9391 - val_loss: 0.2571 - val_accuracy: 0.9236\n",
      "Epoch 27/50\n",
      "115/115 [==============================] - 0s 522us/step - loss: 0.2090 - accuracy: 0.9408 - val_loss: 0.2139 - val_accuracy: 0.9201\n",
      "Epoch 28/50\n",
      "115/115 [==============================] - 0s 531us/step - loss: 0.2017 - accuracy: 0.9434 - val_loss: 0.2177 - val_accuracy: 0.9479\n",
      "Epoch 29/50\n",
      "115/115 [==============================] - 0s 522us/step - loss: 0.1907 - accuracy: 0.9452 - val_loss: 0.2096 - val_accuracy: 0.9271\n",
      "Epoch 30/50\n",
      "115/115 [==============================] - 0s 496us/step - loss: 0.1835 - accuracy: 0.9452 - val_loss: 0.2071 - val_accuracy: 0.9306\n",
      "Epoch 31/50\n",
      "115/115 [==============================] - 0s 522us/step - loss: 0.1748 - accuracy: 0.9487 - val_loss: 0.1885 - val_accuracy: 0.9375\n",
      "Epoch 32/50\n",
      "115/115 [==============================] - 0s 557us/step - loss: 0.1711 - accuracy: 0.9504 - val_loss: 0.1839 - val_accuracy: 0.9410\n",
      "Epoch 33/50\n",
      "115/115 [==============================] - 0s 609us/step - loss: 0.1608 - accuracy: 0.9556 - val_loss: 0.1809 - val_accuracy: 0.9444\n",
      "Epoch 34/50\n",
      "115/115 [==============================] - 0s 548us/step - loss: 0.1605 - accuracy: 0.9539 - val_loss: 0.1826 - val_accuracy: 0.9375\n",
      "Epoch 35/50\n",
      "115/115 [==============================] - 0s 1ms/step - loss: 0.1513 - accuracy: 0.9574 - val_loss: 0.1665 - val_accuracy: 0.9444\n",
      "Epoch 36/50\n",
      "115/115 [==============================] - 0s 531us/step - loss: 0.1439 - accuracy: 0.9608 - val_loss: 0.1763 - val_accuracy: 0.9479\n",
      "Epoch 37/50\n",
      "115/115 [==============================] - 0s 531us/step - loss: 0.1363 - accuracy: 0.9634 - val_loss: 0.1765 - val_accuracy: 0.9410\n",
      "Epoch 38/50\n",
      "115/115 [==============================] - 0s 504us/step - loss: 0.1337 - accuracy: 0.9608 - val_loss: 0.1683 - val_accuracy: 0.9375\n",
      "Epoch 39/50\n",
      "115/115 [==============================] - 0s 522us/step - loss: 0.1287 - accuracy: 0.9669 - val_loss: 0.1626 - val_accuracy: 0.9479\n",
      "Epoch 40/50\n",
      "115/115 [==============================] - 0s 644us/step - loss: 0.1227 - accuracy: 0.9652 - val_loss: 0.1649 - val_accuracy: 0.9375\n",
      "Epoch 41/50\n",
      "115/115 [==============================] - 0s 539us/step - loss: 0.1226 - accuracy: 0.9652 - val_loss: 0.1525 - val_accuracy: 0.9410\n",
      "Epoch 42/50\n",
      "115/115 [==============================] - 0s 533us/step - loss: 0.1168 - accuracy: 0.9713 - val_loss: 0.1495 - val_accuracy: 0.9444\n",
      "Epoch 43/50\n",
      "115/115 [==============================] - 0s 1ms/step - loss: 0.1132 - accuracy: 0.9678 - val_loss: 0.1486 - val_accuracy: 0.9479\n",
      "Epoch 44/50\n",
      "115/115 [==============================] - 0s 522us/step - loss: 0.1073 - accuracy: 0.9730 - val_loss: 0.1485 - val_accuracy: 0.9479\n",
      "Epoch 45/50\n",
      "115/115 [==============================] - 0s 513us/step - loss: 0.1054 - accuracy: 0.9695 - val_loss: 0.1564 - val_accuracy: 0.9375\n",
      "Epoch 46/50\n",
      "115/115 [==============================] - 0s 557us/step - loss: 0.1025 - accuracy: 0.9748 - val_loss: 0.1587 - val_accuracy: 0.9375\n",
      "Epoch 47/50\n",
      "115/115 [==============================] - 0s 565us/step - loss: 0.0972 - accuracy: 0.9774 - val_loss: 0.1390 - val_accuracy: 0.9549\n",
      "Epoch 48/50\n",
      "115/115 [==============================] - 0s 522us/step - loss: 0.0930 - accuracy: 0.9739 - val_loss: 0.1457 - val_accuracy: 0.9583\n",
      "Epoch 49/50\n",
      "115/115 [==============================] - 0s 504us/step - loss: 0.0944 - accuracy: 0.9721 - val_loss: 0.1349 - val_accuracy: 0.9583\n",
      "Epoch 50/50\n",
      "115/115 [==============================] - 0s 522us/step - loss: 0.0886 - accuracy: 0.9791 - val_loss: 0.1348 - val_accuracy: 0.9549\n"
     ]
    }
   ],
   "source": [
    "# Model from above, but now with ten output neurons:\n",
    "\n",
    "model = Sequential()\n",
    "model.add(Dense(12, activation='relu', input_dim=64))\n",
    "model.add(Dense(8, activation='relu'))\n",
    "model.add(Dense(10, activation='softmax'))\n",
    "\n",
    "model.compile(optimizer='adam',\n",
    "              loss='categorical_crossentropy',\n",
    "              metrics=['accuracy'])\n",
    "\n",
    "results = model.fit(X_pure_train, y_pure_train,\n",
    "                   epochs=50, batch_size=10,\n",
    "                   validation_data=(X_val, y_val))"
   ]
  },
  {
   "cell_type": "markdown",
   "metadata": {},
   "source": [
    "$$\\large \\text{Softmax}(x_{i}) = \\frac{\\exp(x_i)}{\\sum_j \\exp(x_j)}$$\n",
    "\n",
    "The sofmax function outputs a number between 0 and 1 for each of our classes.  All of the probabilities of the classes sum up to 1.\n",
    "\n",
    "The number of nodes in our output layer equals the number of categories in our dataset.\n",
    "\n",
    "We also need a new loss function: **categorical crossentropy**, which calculates a separate loss for each label and then sums the results."
   ]
  },
  {
   "cell_type": "code",
   "execution_count": 63,
   "metadata": {
    "ExecuteTime": {
     "end_time": "2022-05-05T18:58:36.874751Z",
     "start_time": "2022-05-05T18:58:36.212612Z"
    }
   },
   "outputs": [],
   "source": [
    "history = results.history\n",
    "training_loss = history['loss']\n",
    "val_loss = history['val_loss']\n",
    "training_accuracy = history['accuracy']\n",
    "val_accuracy = history['val_accuracy']"
   ]
  },
  {
   "cell_type": "code",
   "execution_count": 64,
   "metadata": {
    "ExecuteTime": {
     "end_time": "2022-05-05T18:58:41.809689Z",
     "start_time": "2022-05-05T18:58:40.022682Z"
    },
    "scrolled": true
   },
   "outputs": [
    {
     "data": {
      "image/png": "[encoded data removed]",
      "text/plain": [
       "<Figure size 1080x360 with 2 Axes>"
      ]
     },
     "metadata": {
      "needs_background": "light"
     },
     "output_type": "display_data"
    }
   ],
   "source": [
    "fig, (ax1,ax2) = plt.subplots(1,2,figsize=(15,5))\n",
    "\n",
    "\n",
    "sns.lineplot(x=list(range(len(training_loss))),\n",
    "             y=training_loss, color='r', label='training', ax=ax1)\n",
    "sns.lineplot(x=list(range(len(val_loss))),\n",
    "             y=val_loss, color='b', label='validation', ax=ax1)\n",
    "sns.lineplot(x=list(range(len(training_loss))),\n",
    "             y=training_accuracy, color='r', label='training',ax=ax2)\n",
    "sns.lineplot(x=list(range(len(val_loss))),\n",
    "             y=val_accuracy, color='b', label='validation',ax=ax2)\n",
    "\n",
    "ax1.set_title('Loss')\n",
    "ax2.set_title('Accuracy')\n",
    "ax1.legend();"
   ]
  },
  {
   "cell_type": "code",
   "execution_count": 65,
   "metadata": {
    "ExecuteTime": {
     "end_time": "2022-05-05T19:00:56.488063Z",
     "start_time": "2022-05-05T19:00:56.125937Z"
    }
   },
   "outputs": [],
   "source": [
    "preds = model.predict(X_test)"
   ]
  },
  {
   "cell_type": "code",
   "execution_count": 70,
   "metadata": {
    "ExecuteTime": {
     "end_time": "2022-05-05T19:02:18.733344Z",
     "start_time": "2022-05-05T19:02:18.596809Z"
    }
   },
   "outputs": [
    {
     "data": {
      "text/plain": [
       "(0.99957794, 6)"
      ]
     },
     "execution_count": 70,
     "metadata": {},
     "output_type": "execute_result"
    }
   ],
   "source": [
    "preds[0].max(), preds[0].argmax()"
   ]
  },
  {
   "cell_type": "code",
   "execution_count": 71,
   "metadata": {
    "ExecuteTime": {
     "end_time": "2022-05-05T19:02:33.500568Z",
     "start_time": "2022-05-05T19:02:33.303542Z"
    }
   },
   "outputs": [
    {
     "data": {
      "text/plain": [
       "(360, 64)"
      ]
     },
     "execution_count": 71,
     "metadata": {},
     "output_type": "execute_result"
    }
   ],
   "source": [
    "X_test.shape"
   ]
  },
  {
   "cell_type": "code",
   "execution_count": 75,
   "metadata": {
    "ExecuteTime": {
     "end_time": "2022-05-05T19:03:17.420084Z",
     "start_time": "2022-05-05T19:03:16.996987Z"
    }
   },
   "outputs": [
    {
     "data": {
      "text/plain": [
       "<matplotlib.image.AxesImage at 0x1d667d58940>"
      ]
     },
     "execution_count": 75,
     "metadata": {},
     "output_type": "execute_result"
    },
    {
     "data": {
      "image/png": "[encoded data removed]",
      "text/plain": [
       "<Figure size 432x288 with 1 Axes>"
      ]
     },
     "metadata": {
      "needs_background": "light"
     },
     "output_type": "display_data"
    }
   ],
   "source": [
    "plt.imshow(X_test[0].reshape(8,8),cmap='Reds')"
   ]
  },
  {
   "cell_type": "markdown",
   "metadata": {},
   "source": [
    "Wow, look at that performance!  \n",
    "\n",
    "That is great, but remember, we were dealing with simple black and white images.  With color, our basic neural net will have less success.\n",
    "\n",
    "We will explore more advanced tools in the coming days.\n"
   ]
  },
  {
   "cell_type": "code",
   "execution_count": 81,
   "metadata": {
    "ExecuteTime": {
     "end_time": "2022-05-05T19:05:13.988311Z",
     "start_time": "2022-05-05T19:05:13.857262Z"
    },
    "collapsed": true
   },
   "outputs": [
    {
     "data": {
      "text/plain": [
       "array([[6],\n",
       "       [9],\n",
       "       [3],\n",
       "       [7],\n",
       "       [2],\n",
       "       [1],\n",
       "       [5],\n",
       "       [2],\n",
       "       [5],\n",
       "       [2],\n",
       "       [1],\n",
       "       [9],\n",
       "       [4],\n",
       "       [0],\n",
       "       [4],\n",
       "       [2],\n",
       "       [3],\n",
       "       [7],\n",
       "       [8],\n",
       "       [8],\n",
       "       [4],\n",
       "       [3],\n",
       "       [9],\n",
       "       [7],\n",
       "       [5],\n",
       "       [6],\n",
       "       [3],\n",
       "       [5],\n",
       "       [6],\n",
       "       [3],\n",
       "       [4],\n",
       "       [9],\n",
       "       [1],\n",
       "       [4],\n",
       "       [4],\n",
       "       [6],\n",
       "       [9],\n",
       "       [4],\n",
       "       [7],\n",
       "       [6],\n",
       "       [6],\n",
       "       [9],\n",
       "       [1],\n",
       "       [3],\n",
       "       [6],\n",
       "       [1],\n",
       "       [3],\n",
       "       [0],\n",
       "       [6],\n",
       "       [5],\n",
       "       [5],\n",
       "       [1],\n",
       "       [9],\n",
       "       [5],\n",
       "       [6],\n",
       "       [0],\n",
       "       [9],\n",
       "       [0],\n",
       "       [0],\n",
       "       [1],\n",
       "       [0],\n",
       "       [4],\n",
       "       [5],\n",
       "       [2],\n",
       "       [4],\n",
       "       [5],\n",
       "       [7],\n",
       "       [0],\n",
       "       [7],\n",
       "       [5],\n",
       "       [9],\n",
       "       [5],\n",
       "       [5],\n",
       "       [4],\n",
       "       [7],\n",
       "       [0],\n",
       "       [4],\n",
       "       [5],\n",
       "       [5],\n",
       "       [9],\n",
       "       [9],\n",
       "       [0],\n",
       "       [2],\n",
       "       [3],\n",
       "       [8],\n",
       "       [0],\n",
       "       [6],\n",
       "       [4],\n",
       "       [4],\n",
       "       [9],\n",
       "       [1],\n",
       "       [2],\n",
       "       [8],\n",
       "       [3],\n",
       "       [5],\n",
       "       [2],\n",
       "       [9],\n",
       "       [0],\n",
       "       [4],\n",
       "       [4],\n",
       "       [4],\n",
       "       [3],\n",
       "       [5],\n",
       "       [3],\n",
       "       [1],\n",
       "       [3],\n",
       "       [5],\n",
       "       [9],\n",
       "       [4],\n",
       "       [2],\n",
       "       [7],\n",
       "       [7],\n",
       "       [4],\n",
       "       [4],\n",
       "       [1],\n",
       "       [9],\n",
       "       [2],\n",
       "       [7],\n",
       "       [8],\n",
       "       [7],\n",
       "       [2],\n",
       "       [6],\n",
       "       [9],\n",
       "       [4],\n",
       "       [0],\n",
       "       [7],\n",
       "       [2],\n",
       "       [7],\n",
       "       [5],\n",
       "       [8],\n",
       "       [7],\n",
       "       [5],\n",
       "       [7],\n",
       "       [7],\n",
       "       [0],\n",
       "       [6],\n",
       "       [6],\n",
       "       [4],\n",
       "       [2],\n",
       "       [8],\n",
       "       [0],\n",
       "       [9],\n",
       "       [4],\n",
       "       [6],\n",
       "       [9],\n",
       "       [9],\n",
       "       [6],\n",
       "       [9],\n",
       "       [0],\n",
       "       [3],\n",
       "       [5],\n",
       "       [6],\n",
       "       [6],\n",
       "       [0],\n",
       "       [6],\n",
       "       [4],\n",
       "       [3],\n",
       "       [9],\n",
       "       [3],\n",
       "       [9],\n",
       "       [7],\n",
       "       [2],\n",
       "       [9],\n",
       "       [0],\n",
       "       [4],\n",
       "       [5],\n",
       "       [3],\n",
       "       [6],\n",
       "       [5],\n",
       "       [9],\n",
       "       [9],\n",
       "       [8],\n",
       "       [4],\n",
       "       [2],\n",
       "       [1],\n",
       "       [3],\n",
       "       [7],\n",
       "       [7],\n",
       "       [2],\n",
       "       [2],\n",
       "       [3],\n",
       "       [9],\n",
       "       [8],\n",
       "       [0],\n",
       "       [3],\n",
       "       [2],\n",
       "       [2],\n",
       "       [5],\n",
       "       [6],\n",
       "       [9],\n",
       "       [9],\n",
       "       [4],\n",
       "       [1],\n",
       "       [5],\n",
       "       [4],\n",
       "       [2],\n",
       "       [3],\n",
       "       [6],\n",
       "       [4],\n",
       "       [8],\n",
       "       [5],\n",
       "       [9],\n",
       "       [5],\n",
       "       [7],\n",
       "       [8],\n",
       "       [9],\n",
       "       [4],\n",
       "       [8],\n",
       "       [1],\n",
       "       [5],\n",
       "       [4],\n",
       "       [4],\n",
       "       [9],\n",
       "       [6],\n",
       "       [1],\n",
       "       [8],\n",
       "       [6],\n",
       "       [0],\n",
       "       [4],\n",
       "       [5],\n",
       "       [2],\n",
       "       [7],\n",
       "       [4],\n",
       "       [6],\n",
       "       [4],\n",
       "       [5],\n",
       "       [6],\n",
       "       [0],\n",
       "       [3],\n",
       "       [2],\n",
       "       [3],\n",
       "       [6],\n",
       "       [7],\n",
       "       [1],\n",
       "       [5],\n",
       "       [1],\n",
       "       [4],\n",
       "       [7],\n",
       "       [6],\n",
       "       [8],\n",
       "       [8],\n",
       "       [5],\n",
       "       [5],\n",
       "       [1],\n",
       "       [6],\n",
       "       [2],\n",
       "       [8],\n",
       "       [8],\n",
       "       [9],\n",
       "       [9],\n",
       "       [7],\n",
       "       [6],\n",
       "       [2],\n",
       "       [2],\n",
       "       [2],\n",
       "       [3],\n",
       "       [4],\n",
       "       [8],\n",
       "       [8],\n",
       "       [3],\n",
       "       [6],\n",
       "       [0],\n",
       "       [9],\n",
       "       [7],\n",
       "       [7],\n",
       "       [0],\n",
       "       [1],\n",
       "       [0],\n",
       "       [4],\n",
       "       [5],\n",
       "       [1],\n",
       "       [5],\n",
       "       [3],\n",
       "       [6],\n",
       "       [0],\n",
       "       [4],\n",
       "       [1],\n",
       "       [0],\n",
       "       [0],\n",
       "       [3],\n",
       "       [6],\n",
       "       [5],\n",
       "       [9],\n",
       "       [7],\n",
       "       [3],\n",
       "       [5],\n",
       "       [5],\n",
       "       [9],\n",
       "       [9],\n",
       "       [8],\n",
       "       [5],\n",
       "       [3],\n",
       "       [3],\n",
       "       [2],\n",
       "       [0],\n",
       "       [5],\n",
       "       [8],\n",
       "       [3],\n",
       "       [4],\n",
       "       [0],\n",
       "       [2],\n",
       "       [4],\n",
       "       [6],\n",
       "       [4],\n",
       "       [3],\n",
       "       [4],\n",
       "       [5],\n",
       "       [0],\n",
       "       [5],\n",
       "       [2],\n",
       "       [1],\n",
       "       [3],\n",
       "       [1],\n",
       "       [4],\n",
       "       [1],\n",
       "       [1],\n",
       "       [7],\n",
       "       [0],\n",
       "       [1],\n",
       "       [5],\n",
       "       [2],\n",
       "       [1],\n",
       "       [2],\n",
       "       [8],\n",
       "       [7],\n",
       "       [0],\n",
       "       [6],\n",
       "       [4],\n",
       "       [8],\n",
       "       [8],\n",
       "       [5],\n",
       "       [1],\n",
       "       [8],\n",
       "       [4],\n",
       "       [5],\n",
       "       [8],\n",
       "       [7],\n",
       "       [9],\n",
       "       [8],\n",
       "       [5],\n",
       "       [0],\n",
       "       [6],\n",
       "       [2],\n",
       "       [0],\n",
       "       [7],\n",
       "       [9],\n",
       "       [8],\n",
       "       [9],\n",
       "       [5],\n",
       "       [2],\n",
       "       [7],\n",
       "       [7],\n",
       "       [1],\n",
       "       [8],\n",
       "       [7],\n",
       "       [4],\n",
       "       [3],\n",
       "       [8],\n",
       "       [3],\n",
       "       [5]])"
      ]
     },
     "execution_count": 81,
     "metadata": {},
     "output_type": "execute_result"
    }
   ],
   "source": [
    "y_test_restored = ohe.inverse_transform(y_test)\n",
    "y_test_restored"
   ]
  },
  {
   "cell_type": "code",
   "execution_count": 79,
   "metadata": {
    "ExecuteTime": {
     "end_time": "2022-05-05T19:04:37.392315Z",
     "start_time": "2022-05-05T19:04:37.252283Z"
    }
   },
   "outputs": [
    {
     "data": {
      "text/plain": [
       "array([6, 9, 3, 7, 3, 1, 5, 2, 5, 2, 1, 8, 4, 0, 4, 2, 3, 7, 8, 8, 4, 3,\n",
       "       9, 7, 5, 6, 3, 5, 6, 3, 4, 9, 1, 4, 4, 6, 9, 4, 7, 6, 6, 9, 1, 3,\n",
       "       6, 1, 3, 0, 6, 5, 5, 1, 9, 5, 6, 0, 9, 0, 0, 1, 0, 4, 5, 2, 4, 5,\n",
       "       7, 0, 7, 5, 9, 5, 5, 4, 7, 0, 7, 5, 5, 9, 9, 0, 2, 3, 8, 0, 6, 4,\n",
       "       4, 9, 1, 2, 8, 3, 5, 2, 9, 0, 4, 4, 4, 3, 5, 3, 1, 3, 5, 9, 4, 2,\n",
       "       7, 7, 4, 4, 1, 9, 2, 7, 8, 7, 2, 6, 9, 4, 0, 7, 3, 7, 5, 8, 7, 5,\n",
       "       7, 9, 0, 6, 6, 4, 2, 8, 0, 9, 4, 6, 9, 9, 6, 9, 0, 5, 5, 6, 6, 0,\n",
       "       6, 4, 1, 9, 3, 7, 7, 2, 9, 0, 4, 5, 3, 6, 5, 8, 9, 8, 4, 2, 1, 3,\n",
       "       7, 7, 2, 2, 3, 9, 8, 0, 3, 2, 2, 5, 6, 9, 9, 4, 1, 5, 4, 2, 3, 6,\n",
       "       4, 8, 5, 9, 5, 7, 8, 9, 4, 8, 1, 5, 4, 4, 9, 6, 1, 8, 6, 0, 4, 5,\n",
       "       2, 7, 4, 6, 4, 5, 6, 0, 3, 2, 3, 6, 7, 1, 9, 1, 4, 7, 6, 5, 8, 5,\n",
       "       5, 1, 0, 1, 8, 8, 9, 8, 7, 6, 2, 2, 2, 3, 4, 8, 8, 3, 6, 0, 1, 7,\n",
       "       7, 0, 1, 0, 4, 5, 8, 5, 3, 6, 0, 4, 1, 0, 0, 3, 6, 5, 9, 7, 3, 5,\n",
       "       5, 9, 9, 8, 5, 3, 3, 2, 0, 5, 8, 3, 4, 0, 2, 4, 6, 4, 3, 4, 5, 0,\n",
       "       5, 2, 1, 3, 1, 4, 1, 1, 7, 0, 1, 5, 2, 1, 2, 8, 7, 0, 6, 4, 8, 8,\n",
       "       5, 1, 8, 4, 5, 8, 7, 9, 8, 6, 0, 6, 2, 0, 7, 9, 1, 9, 5, 2, 7, 7,\n",
       "       9, 8, 7, 4, 3, 7, 3, 5], dtype=int64)"
      ]
     },
     "execution_count": 79,
     "metadata": {},
     "output_type": "execute_result"
    }
   ],
   "source": [
    "y_hat = np.argmax(preds,axis=1)\n",
    "y_hat"
   ]
  },
  {
   "cell_type": "code",
   "execution_count": 86,
   "metadata": {
    "ExecuteTime": {
     "end_time": "2022-05-05T19:05:58.398384Z",
     "start_time": "2022-05-05T19:05:58.260061Z"
    }
   },
   "outputs": [],
   "source": [
    "cm = confusion_matrix(y_test_restored,y_hat)"
   ]
  },
  {
   "cell_type": "code",
   "execution_count": 88,
   "metadata": {
    "ExecuteTime": {
     "end_time": "2022-05-05T19:06:18.151481Z",
     "start_time": "2022-05-05T19:06:16.797309Z"
    },
    "scrolled": false
   },
   "outputs": [
    {
     "name": "stdout",
     "output_type": "stream",
     "text": [
      "Confusion Matrix, without normalization\n",
      "[[33  0  0  0  0  0  0  0  0  0]\n",
      " [ 0 26  0  0  0  0  0  0  1  1]\n",
      " [ 0  1 30  2  0  0  0  0  0  0]\n",
      " [ 0  1  0 32  0  1  0  0  0  0]\n",
      " [ 0  0  0  0 45  0  0  1  0  0]\n",
      " [ 0  0  0  0  0 45  1  0  0  1]\n",
      " [ 1  0  0  0  0  0 34  0  0  0]\n",
      " [ 0  0  0  0  0  0  0 33  0  1]\n",
      " [ 0  1  0  0  0  1  0  1 27  0]\n",
      " [ 0  1  0  0  0  0  0  1  3 35]]\n"
     ]
    },
    {
     "data": {
      "image/png": "[encoded data removed]",
      "text/plain": [
       "<Figure size 432x288 with 2 Axes>"
      ]
     },
     "metadata": {
      "needs_background": "light"
     },
     "output_type": "display_data"
    }
   ],
   "source": [
    "plot_confusion_matrix(cm,classes=np.arange(0,11),cmap='Reds')"
   ]
  },
  {
   "cell_type": "code",
   "execution_count": 90,
   "metadata": {
    "ExecuteTime": {
     "end_time": "2022-05-05T19:18:56.081747Z",
     "start_time": "2022-05-05T19:18:55.955446Z"
    }
   },
   "outputs": [
    {
     "data": {
      "image/png": "[encoded data removed]",
      "text/plain": [
       "<PIL.PngImagePlugin.PngImageFile image mode=RGB size=8x8 at 0x1D65D648640>"
      ]
     },
     "execution_count": 90,
     "metadata": {},
     "output_type": "execute_result"
    }
   ],
   "source": [
    "from PIL import Image\n",
    "new6 = Image.open('./images/Saads_six.png')\n",
    "new6"
   ]
  },
  {
   "cell_type": "code",
   "execution_count": 93,
   "metadata": {
    "ExecuteTime": {
     "end_time": "2022-05-05T19:21:29.610566Z",
     "start_time": "2022-05-05T19:21:29.484537Z"
    }
   },
   "outputs": [
    {
     "data": {
      "text/plain": [
       "(360, 64)"
      ]
     },
     "execution_count": 93,
     "metadata": {},
     "output_type": "execute_result"
    }
   ],
   "source": [
    "X_test.shape"
   ]
  },
  {
   "cell_type": "code",
   "execution_count": 111,
   "metadata": {
    "ExecuteTime": {
     "end_time": "2022-05-05T19:26:05.822631Z",
     "start_time": "2022-05-05T19:26:05.690694Z"
    }
   },
   "outputs": [],
   "source": [
    "img_array = np.array(new6)"
   ]
  },
  {
   "cell_type": "code",
   "execution_count": null,
   "metadata": {},
   "outputs": [],
   "source": [
    "img_array[:,:,0].reshape(1,64).shape"
   ]
  },
  {
   "cell_type": "code",
   "execution_count": 123,
   "metadata": {
    "ExecuteTime": {
     "end_time": "2022-05-05T19:29:18.533344Z",
     "start_time": "2022-05-05T19:29:18.395445Z"
    }
   },
   "outputs": [
    {
     "data": {
      "text/plain": [
       "array([[0.        , 0.        , 0.        , 0.97254902, 0.89411765,\n",
       "        0.        , 0.        , 0.        ],\n",
       "       [0.        , 0.        , 0.        , 0.61568627, 0.        ,\n",
       "        0.        , 0.        , 0.        ],\n",
       "       [0.        , 0.        , 0.70196078, 0.97254902, 0.        ,\n",
       "        0.        , 0.        , 0.        ],\n",
       "       [0.        , 0.96078431, 0.56862745, 0.95294118, 0.        ,\n",
       "        0.        , 0.        , 0.        ],\n",
       "       [0.        , 0.63137255, 0.        , 0.92156863, 0.8       ,\n",
       "        0.75294118, 1.        , 0.        ],\n",
       "       [0.        , 0.66666667, 0.        , 0.        , 0.        ,\n",
       "        0.        , 0.70196078, 0.        ],\n",
       "       [0.        , 0.67058824, 0.90588235, 0.        , 0.        ,\n",
       "        0.81960784, 0.81568627, 0.        ],\n",
       "       [0.        , 0.        , 0.79215686, 0.74509804, 0.72156863,\n",
       "        0.89411765, 0.        , 0.        ]])"
      ]
     },
     "execution_count": 123,
     "metadata": {},
     "output_type": "execute_result"
    }
   ],
   "source": [
    "test_array = np.array(img_array[:,:,0]-255)/255\n",
    "test_array"
   ]
  },
  {
   "cell_type": "code",
   "execution_count": 124,
   "metadata": {
    "ExecuteTime": {
     "end_time": "2022-05-05T19:29:27.160598Z",
     "start_time": "2022-05-05T19:29:26.946550Z"
    },
    "scrolled": true
   },
   "outputs": [
    {
     "data": {
      "text/plain": [
       "<matplotlib.image.AxesImage at 0x1d662eb0190>"
      ]
     },
     "execution_count": 124,
     "metadata": {},
     "output_type": "execute_result"
    },
    {
     "data": {
      "image/png": "[encoded data removed]",
      "text/plain": [
       "<Figure size 432x288 with 1 Axes>"
      ]
     },
     "metadata": {
      "needs_background": "light"
     },
     "output_type": "display_data"
    }
   ],
   "source": [
    "plt.imshow(test_array,cmap='Greys')"
   ]
  },
  {
   "cell_type": "code",
   "execution_count": 126,
   "metadata": {
    "ExecuteTime": {
     "end_time": "2022-05-05T19:30:26.622336Z",
     "start_time": "2022-05-05T19:30:26.491249Z"
    }
   },
   "outputs": [
    {
     "data": {
      "text/plain": [
       "(8, 8)"
      ]
     },
     "execution_count": 126,
     "metadata": {},
     "output_type": "execute_result"
    }
   ],
   "source": [
    "test_array.shape"
   ]
  },
  {
   "cell_type": "code",
   "execution_count": 115,
   "metadata": {
    "ExecuteTime": {
     "end_time": "2022-05-05T19:26:48.840428Z",
     "start_time": "2022-05-05T19:26:48.706098Z"
    }
   },
   "outputs": [
    {
     "data": {
      "text/plain": [
       "array([0.    , 0.    , 0.    , 0.4375, 0.75  , 0.    , 0.    , 0.    ,\n",
       "       0.    , 0.    , 0.25  , 1.    , 0.5   , 0.    , 0.    , 0.    ,\n",
       "       0.    , 0.    , 0.75  , 0.6875, 0.    , 0.    , 0.    , 0.    ,\n",
       "       0.    , 0.    , 0.9375, 0.625 , 0.5   , 0.375 , 0.0625, 0.    ,\n",
       "       0.    , 0.    , 0.9375, 1.    , 0.5   , 0.625 , 0.5   , 0.    ,\n",
       "       0.    , 0.    , 0.875 , 0.4375, 0.    , 0.    , 0.75  , 0.    ,\n",
       "       0.    , 0.    , 0.5   , 0.6875, 0.    , 0.3125, 1.    , 0.125 ,\n",
       "       0.    , 0.    , 0.    , 0.5625, 0.875 , 0.875 , 0.3125, 0.    ])"
      ]
     },
     "execution_count": 115,
     "metadata": {},
     "output_type": "execute_result"
    }
   ],
   "source": [
    "X_test[0]"
   ]
  },
  {
   "cell_type": "code",
   "execution_count": 127,
   "metadata": {
    "ExecuteTime": {
     "end_time": "2022-05-05T19:30:34.955254Z",
     "start_time": "2022-05-05T19:30:34.802220Z"
    }
   },
   "outputs": [
    {
     "data": {
      "text/plain": [
       "array([[7.5238466e-04, 2.2834675e-07, 1.3709410e-13, 1.9880879e-08,\n",
       "        1.5517108e-03, 2.4774115e-05, 9.7968221e-01, 9.0324175e-09,\n",
       "        5.1065443e-05, 1.7937740e-02]], dtype=float32)"
      ]
     },
     "execution_count": 127,
     "metadata": {},
     "output_type": "execute_result"
    }
   ],
   "source": [
    "model.predict(test_array.reshape(1,64))"
   ]
  },
  {
   "cell_type": "code",
   "execution_count": 128,
   "metadata": {
    "ExecuteTime": {
     "end_time": "2022-05-05T19:31:24.032975Z",
     "start_time": "2022-05-05T19:31:23.881905Z"
    }
   },
   "outputs": [
    {
     "data": {
      "text/plain": [
       "6"
      ]
     },
     "execution_count": 128,
     "metadata": {},
     "output_type": "execute_result"
    }
   ],
   "source": [
    "np.argmax(model.predict(test_array.reshape(1,64)))"
   ]
  },
  {
   "cell_type": "code",
   "execution_count": 130,
   "metadata": {
    "ExecuteTime": {
     "end_time": "2022-05-05T20:19:27.109670Z",
     "start_time": "2022-05-05T20:19:26.957645Z"
    }
   },
   "outputs": [
    {
     "data": {
      "text/plain": [
       "0.9796822"
      ]
     },
     "execution_count": 130,
     "metadata": {},
     "output_type": "execute_result"
    }
   ],
   "source": [
    "model.predict(test_array.reshape(1,64)).max()"
   ]
  },
  {
   "cell_type": "code",
   "execution_count": null,
   "metadata": {},
   "outputs": [],
   "source": []
  }
 ],
 "metadata": {
  "celltoolbar": "Raw Cell Format",
  "colab": {
   "collapsed_sections": [],
   "name": "intro-to-keras.ipynb",
   "provenance": []
  },
  "kernelspec": {
   "display_name": "Python (learn-env)",
   "language": "python",
   "name": "learn-env"
  },
  "language_info": {
   "codemirror_mode": {
    "name": "ipython",
    "version": 3
   },
   "file_extension": ".py",
   "mimetype": "text/x-python",
   "name": "python",
   "nbconvert_exporter": "python",
   "pygments_lexer": "ipython3",
   "version": "3.8.5"
  },
  "toc": {
   "base_numbering": 1,
   "nav_menu": {},
   "number_sections": true,
   "sideBar": true,
   "skip_h1_title": false,
   "title_cell": "Table of Contents",
   "title_sidebar": "Contents",
   "toc_cell": false,
   "toc_position": {},
   "toc_section_display": true,
   "toc_window_display": false
  },
  "varInspector": {
   "cols": {
    "lenName": 16,
    "lenType": 16,
    "lenVar": 40
   },
   "kernels_config": {
    "python": {
     "delete_cmd_postfix": "",
     "delete_cmd_prefix": "del ",
     "library": "var_list.py",
     "varRefreshCmd": "print(var_dic_list())"
    },
    "r": {
     "delete_cmd_postfix": ") ",
     "delete_cmd_prefix": "rm(",
     "library": "var_list.r",
     "varRefreshCmd": "cat(var_dic_list()) "
    }
   },
   "types_to_exclude": [
    "module",
    "function",
    "builtin_function_or_method",
    "instance",
    "_Feature"
   ],
   "window_display": false
  }
 },
 "nbformat": 4,
 "nbformat_minor": 4
}
