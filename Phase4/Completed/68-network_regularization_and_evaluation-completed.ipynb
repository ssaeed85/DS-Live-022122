{
 "cells": [
  {
   "cell_type": "markdown",
   "metadata": {
    "slideshow": {
     "slide_type": "slide"
    }
   },
   "source": [
    "# Regularization and Evaluation of Neural Networks"
   ]
  },
  {
   "cell_type": "code",
   "execution_count": 2,
   "metadata": {
    "ExecuteTime": {
     "end_time": "2022-05-05T18:05:11.698739Z",
     "start_time": "2022-05-05T18:05:06.495400Z"
    }
   },
   "outputs": [],
   "source": [
    "from sklearn.datasets import load_sample_images\n",
    "from sklearn.datasets import load_digits\n",
    "from sklearn.model_selection import train_test_split, cross_val_score\n",
    "from sklearn.preprocessing import OneHotEncoder\n",
    "from sklearn.metrics import accuracy_score, confusion_matrix\n",
    "import matplotlib.pyplot as plt\n",
    "import matplotlib.image as mpimg\n",
    "import numpy as np\n",
    "import seaborn as sns\n",
    "\n",
    "from tensorflow.keras.models import Sequential\n",
    "from tensorflow.keras.layers import Dense, Dropout\n",
    "from tensorflow.keras.regularizers import l2\n",
    "from tensorflow.keras.optimizers import SGD\n",
    "from tensorflow.keras.wrappers import scikit_learn\n",
    "from tensorflow.keras.callbacks import EarlyStopping\n",
    "\n",
    "import os\n",
    "import sys\n",
    "module_path = os.path.abspath(os.path.join(os.pardir, os.pardir))\n",
    "if module_path not in sys.path:\n",
    "    sys.path.append(module_path)\n",
    "    \n",
    "from src.confusion import plot_confusion_matrix\n",
    "    \n",
    "%load_ext autoreload\n",
    "%autoreload 2"
   ]
  },
  {
   "cell_type": "markdown",
   "metadata": {},
   "source": [
    "## Learning Objectives\n",
    "\n",
    "- use `keras` to code up a neural network model;\n",
    "- explain dropout and early stopping as distinctive forms of regularization in neural networks;\n",
    "- use wrappers inside `keras` to make models that can jibe with `sklearn`."
   ]
  },
  {
   "cell_type": "markdown",
   "metadata": {},
   "source": [
    "### From last time"
   ]
  },
  {
   "cell_type": "code",
   "execution_count": 3,
   "metadata": {
    "ExecuteTime": {
     "end_time": "2022-05-05T18:05:14.817667Z",
     "start_time": "2022-05-05T18:05:14.631781Z"
    }
   },
   "outputs": [],
   "source": [
    "digits = load_digits()\n",
    "X = digits.data\n",
    "y = digits.target\n",
    "\n",
    "y_binary = y % 2"
   ]
  },
  {
   "cell_type": "code",
   "execution_count": null,
   "metadata": {},
   "outputs": [],
   "source": []
  },
  {
   "cell_type": "code",
   "execution_count": 4,
   "metadata": {
    "ExecuteTime": {
     "end_time": "2022-05-05T18:05:21.937781Z",
     "start_time": "2022-05-05T18:05:21.842257Z"
    }
   },
   "outputs": [
    {
     "data": {
      "text/plain": [
       "(1797, 64)"
      ]
     },
     "execution_count": 4,
     "metadata": {},
     "output_type": "execute_result"
    }
   ],
   "source": [
    "X.shape"
   ]
  },
  {
   "cell_type": "code",
   "execution_count": 5,
   "metadata": {
    "ExecuteTime": {
     "end_time": "2022-05-05T18:06:18.400639Z",
     "start_time": "2022-05-05T18:05:48.987400Z"
    },
    "scrolled": false
   },
   "outputs": [
    {
     "name": "stderr",
     "output_type": "stream",
     "text": [
      "2022-05-05 11:05:49.088751: I tensorflow/core/platform/cpu_feature_guard.cc:145] This TensorFlow binary is optimized with Intel(R) MKL-DNN to use the following CPU instructions in performance critical operations:  SSE4.1 SSE4.2 AVX AVX2 FMA\n",
      "To enable them in non-MKL-DNN operations, rebuild TensorFlow with the appropriate compiler flags.\n",
      "2022-05-05 11:05:49.089254: I tensorflow/core/common_runtime/process_util.cc:115] Creating new thread pool with default inter op setting: 12. Tune using inter_op_parallelism_threads for best performance.\n"
     ]
    },
    {
     "name": "stdout",
     "output_type": "stream",
     "text": [
      "Train on 1797 samples\n",
      "Epoch 1/50\n",
      "1797/1797 [==============================] - 2s 1ms/sample - loss: 0.6794 - accuracy: 0.7602\n",
      "Epoch 2/50\n",
      "1797/1797 [==============================] - 1s 311us/sample - loss: 0.2503 - accuracy: 0.8948\n",
      "Epoch 3/50\n",
      "1797/1797 [==============================] - 1s 312us/sample - loss: 0.1952 - accuracy: 0.9199\n",
      "Epoch 4/50\n",
      "1797/1797 [==============================] - 1s 317us/sample - loss: 0.1613 - accuracy: 0.9349\n",
      "Epoch 5/50\n",
      "1797/1797 [==============================] - 1s 286us/sample - loss: 0.1388 - accuracy: 0.9399\n",
      "Epoch 6/50\n",
      "1797/1797 [==============================] - 1s 296us/sample - loss: 0.1162 - accuracy: 0.9516\n",
      "Epoch 7/50\n",
      "1797/1797 [==============================] - 1s 293us/sample - loss: 0.1049 - accuracy: 0.9583\n",
      "Epoch 8/50\n",
      "1797/1797 [==============================] - 1s 386us/sample - loss: 0.0953 - accuracy: 0.9560\n",
      "Epoch 9/50\n",
      "1797/1797 [==============================] - 1s 320us/sample - loss: 0.0790 - accuracy: 0.9705\n",
      "Epoch 10/50\n",
      "1797/1797 [==============================] - 1s 331us/sample - loss: 0.0720 - accuracy: 0.9722\n",
      "Epoch 11/50\n",
      "1797/1797 [==============================] - 1s 335us/sample - loss: 0.0619 - accuracy: 0.9777\n",
      "Epoch 12/50\n",
      "1797/1797 [==============================] - 1s 311us/sample - loss: 0.0599 - accuracy: 0.9777\n",
      "Epoch 13/50\n",
      "1797/1797 [==============================] - 1s 314us/sample - loss: 0.0500 - accuracy: 0.9794\n",
      "Epoch 14/50\n",
      "1797/1797 [==============================] - 1s 294us/sample - loss: 0.0511 - accuracy: 0.9827\n",
      "Epoch 15/50\n",
      "1797/1797 [==============================] - 1s 285us/sample - loss: 0.0466 - accuracy: 0.9833\n",
      "Epoch 16/50\n",
      "1797/1797 [==============================] - 1s 301us/sample - loss: 0.0421 - accuracy: 0.9839\n",
      "Epoch 17/50\n",
      "1797/1797 [==============================] - 1s 288us/sample - loss: 0.0369 - accuracy: 0.9866\n",
      "Epoch 18/50\n",
      "1797/1797 [==============================] - 1s 287us/sample - loss: 0.0340 - accuracy: 0.9889\n",
      "Epoch 19/50\n",
      "1797/1797 [==============================] - 1s 313us/sample - loss: 0.0312 - accuracy: 0.9917\n",
      "Epoch 20/50\n",
      "1797/1797 [==============================] - 1s 326us/sample - loss: 0.0301 - accuracy: 0.9911\n",
      "Epoch 21/50\n",
      "1797/1797 [==============================] - 1s 300us/sample - loss: 0.0304 - accuracy: 0.9922\n",
      "Epoch 22/50\n",
      "1797/1797 [==============================] - 1s 332us/sample - loss: 0.0269 - accuracy: 0.9905\n",
      "Epoch 23/50\n",
      "1797/1797 [==============================] - 1s 315us/sample - loss: 0.0254 - accuracy: 0.9900\n",
      "Epoch 24/50\n",
      "1797/1797 [==============================] - 1s 291us/sample - loss: 0.0217 - accuracy: 0.9928\n",
      "Epoch 25/50\n",
      "1797/1797 [==============================] - 1s 280us/sample - loss: 0.0227 - accuracy: 0.9939\n",
      "Epoch 26/50\n",
      "1797/1797 [==============================] - 1s 287us/sample - loss: 0.0191 - accuracy: 0.9955\n",
      "Epoch 27/50\n",
      "1797/1797 [==============================] - 1s 307us/sample - loss: 0.0161 - accuracy: 0.9955\n",
      "Epoch 28/50\n",
      "1797/1797 [==============================] - 1s 302us/sample - loss: 0.0183 - accuracy: 0.9955\n",
      "Epoch 29/50\n",
      "1797/1797 [==============================] - 1s 307us/sample - loss: 0.0149 - accuracy: 0.9961\n",
      "Epoch 30/50\n",
      "1797/1797 [==============================] - 1s 320us/sample - loss: 0.0163 - accuracy: 0.9955\n",
      "Epoch 31/50\n",
      "1797/1797 [==============================] - 1s 327us/sample - loss: 0.0142 - accuracy: 0.9961\n",
      "Epoch 32/50\n",
      "1797/1797 [==============================] - 1s 309us/sample - loss: 0.0122 - accuracy: 0.9972\n",
      "Epoch 33/50\n",
      "1797/1797 [==============================] - 1s 294us/sample - loss: 0.0101 - accuracy: 0.9972\n",
      "Epoch 34/50\n",
      "1797/1797 [==============================] - 1s 304us/sample - loss: 0.0088 - accuracy: 0.9983\n",
      "Epoch 35/50\n",
      "1797/1797 [==============================] - 1s 297us/sample - loss: 0.0088 - accuracy: 0.9978\n",
      "Epoch 36/50\n",
      "1797/1797 [==============================] - 1s 292us/sample - loss: 0.0096 - accuracy: 0.9967\n",
      "Epoch 37/50\n",
      "1797/1797 [==============================] - 1s 300us/sample - loss: 0.0067 - accuracy: 0.9978\n",
      "Epoch 38/50\n",
      "1797/1797 [==============================] - 0s 269us/sample - loss: 0.0080 - accuracy: 0.9983\n",
      "Epoch 39/50\n",
      "1797/1797 [==============================] - 1s 306us/sample - loss: 0.0073 - accuracy: 0.9967\n",
      "Epoch 40/50\n",
      "1797/1797 [==============================] - 1s 297us/sample - loss: 0.0066 - accuracy: 0.9972\n",
      "Epoch 41/50\n",
      "1797/1797 [==============================] - 1s 302us/sample - loss: 0.0064 - accuracy: 0.9983\n",
      "Epoch 42/50\n",
      "1797/1797 [==============================] - 0s 272us/sample - loss: 0.0033 - accuracy: 1.0000\n",
      "Epoch 43/50\n",
      "1797/1797 [==============================] - 1s 295us/sample - loss: 0.0054 - accuracy: 0.9989\n",
      "Epoch 44/50\n",
      "1797/1797 [==============================] - 1s 282us/sample - loss: 0.0046 - accuracy: 0.9983\n",
      "Epoch 45/50\n",
      "1797/1797 [==============================] - 1s 296us/sample - loss: 0.0046 - accuracy: 0.9983\n",
      "Epoch 46/50\n",
      "1797/1797 [==============================] - 1s 299us/sample - loss: 0.0032 - accuracy: 0.9994\n",
      "Epoch 47/50\n",
      "1797/1797 [==============================] - 1s 283us/sample - loss: 0.0039 - accuracy: 0.9983\n",
      "Epoch 48/50\n",
      "1797/1797 [==============================] - 1s 306us/sample - loss: 0.0021 - accuracy: 1.0000\n",
      "Epoch 49/50\n",
      "1797/1797 [==============================] - 1s 336us/sample - loss: 0.0028 - accuracy: 0.9994\n",
      "Epoch 50/50\n",
      "1797/1797 [==============================] - 1s 302us/sample - loss: 0.0018 - accuracy: 1.0000\n"
     ]
    },
    {
     "data": {
      "text/plain": [
       "<tensorflow.python.keras.callbacks.History at 0x7fc45db04b90>"
      ]
     },
     "execution_count": 5,
     "metadata": {},
     "output_type": "execute_result"
    }
   ],
   "source": [
    "model = Sequential()\n",
    "model.add(Dense(12, activation='relu', input_dim=64))\n",
    "model.add(Dense(8, activation='relu'))\n",
    "model.add(Dense(1, activation='sigmoid'))\n",
    "\n",
    "model.compile(optimizer='rmsprop',\n",
    "              loss='binary_crossentropy',\n",
    "              metrics=['accuracy'])\n",
    "\n",
    "model.fit(X, y_binary, epochs=50, batch_size=10)"
   ]
  },
  {
   "cell_type": "markdown",
   "metadata": {},
   "source": [
    "### Things to know:\n",
    "\n",
    "- The data and labels in `fit()` need to be numpy arrays, not `pandas` dfs.\n",
    "- Scaling your data will have a large impact on your model.\n",
    "   > For our traditional input features, we would use a scaler object. For images, as long as the minimum value is 0, we can simply divide through by the maximum pixel intensity."
   ]
  },
  {
   "cell_type": "markdown",
   "metadata": {},
   "source": [
    "#### Getting data ready for modeling\n",
    "**Preprocessing**:\n",
    "\n",
    "- use train_test_split to create X_train, y_train, X_test, and y_test\n",
    "- Split training data into pure_train and validation sets.\n",
    "- Scale the pixel intensity to a value between 0 and 1."
   ]
  },
  {
   "cell_type": "markdown",
   "metadata": {},
   "source": [
    "Scaling our input variables will help speed up our neural network.\n",
    "\n",
    "Since our minimum intensity is 0, we can normalize the inputs by dividing each value by the max value (16)."
   ]
  },
  {
   "cell_type": "code",
   "execution_count": 6,
   "metadata": {
    "ExecuteTime": {
     "end_time": "2022-05-05T18:11:08.969388Z",
     "start_time": "2022-05-05T18:11:08.870462Z"
    }
   },
   "outputs": [],
   "source": [
    "X_train, X_test, y_train, y_test =\\\n",
    "    train_test_split(X, y_binary, random_state=42, test_size=0.2)\n",
    "\n",
    "X_pure_train, X_val, y_pure_train, y_val =\\\n",
    "    train_test_split(X_train, y_train, random_state=42, test_size=0.2)\n",
    "\n",
    "X_pure_train, X_val, X_test = X_pure_train/16, X_val/16, X_test/16"
   ]
  },
  {
   "cell_type": "markdown",
   "metadata": {},
   "source": [
    "For activation, let's start with the familiar sigmoid function, and see how it performs."
   ]
  },
  {
   "cell_type": "code",
   "execution_count": 7,
   "metadata": {
    "ExecuteTime": {
     "end_time": "2022-05-05T18:11:19.760269Z",
     "start_time": "2022-05-05T18:11:18.367111Z"
    }
   },
   "outputs": [
    {
     "name": "stdout",
     "output_type": "stream",
     "text": [
      "Train on 1149 samples\n",
      "Epoch 1/10\n",
      "1149/1149 [==============================] - 1s 668us/sample - loss: 0.7636 - accuracy: 0.4961\n",
      "Epoch 2/10\n",
      "1149/1149 [==============================] - 0s 34us/sample - loss: 0.7470 - accuracy: 0.4961\n",
      "Epoch 3/10\n",
      "1149/1149 [==============================] - 0s 35us/sample - loss: 0.7341 - accuracy: 0.4961\n",
      "Epoch 4/10\n",
      "1149/1149 [==============================] - 0s 35us/sample - loss: 0.7238 - accuracy: 0.4961\n",
      "Epoch 5/10\n",
      "1149/1149 [==============================] - 0s 34us/sample - loss: 0.7158 - accuracy: 0.4961\n",
      "Epoch 6/10\n",
      "1149/1149 [==============================] - 0s 35us/sample - loss: 0.7095 - accuracy: 0.4961\n",
      "Epoch 7/10\n",
      "1149/1149 [==============================] - 0s 37us/sample - loss: 0.7047 - accuracy: 0.4961\n",
      "Epoch 8/10\n",
      "1149/1149 [==============================] - 0s 40us/sample - loss: 0.7011 - accuracy: 0.4961\n",
      "Epoch 9/10\n",
      "1149/1149 [==============================] - 0s 35us/sample - loss: 0.6982 - accuracy: 0.4961\n",
      "Epoch 10/10\n",
      "1149/1149 [==============================] - 0s 34us/sample - loss: 0.6959 - accuracy: 0.4961\n"
     ]
    }
   ],
   "source": [
    "model = Sequential()\n",
    "# We will start with our trusty sigmoid function.\n",
    "# What does input dimension correspond to?\n",
    "model.add(Dense(12, activation='sigmoid', input_dim=64))\n",
    "model.add(Dense(8, activation='sigmoid'))\n",
    "model.add(Dense(1, activation='sigmoid'))\n",
    "\n",
    "model.compile(optimizer='SGD' ,\n",
    "              # We use binary_crossentropy for a binary loss function\n",
    "              loss='binary_crossentropy',\n",
    "              metrics=['accuracy'])\n",
    "\n",
    "# Assign the variable history to store the results,\n",
    "# and set verbose=1 so we can see the output. To see\n",
    "# only the metrics at the end of each epoch, set verbose=2.\n",
    "results = model.fit(X_pure_train, y_pure_train, epochs=10, batch_size=100, verbose=1)"
   ]
  },
  {
   "cell_type": "markdown",
   "metadata": {},
   "source": [
    "We can access the history of our model via `results.history`.\n",
    "Use __dict__ to take a tour."
   ]
  },
  {
   "cell_type": "code",
   "execution_count": 8,
   "metadata": {
    "ExecuteTime": {
     "end_time": "2022-05-05T18:11:54.482889Z",
     "start_time": "2022-05-05T18:11:54.346091Z"
    }
   },
   "outputs": [
    {
     "data": {
      "text/plain": [
       "{'validation_data': None,\n",
       " 'model': <tensorflow.python.keras.engine.sequential.Sequential at 0x7fc45e51ce90>,\n",
       " '_chief_worker_only': None,\n",
       " 'params': {'batch_size': 100,\n",
       "  'epochs': 10,\n",
       "  'steps': 12,\n",
       "  'samples': 1149,\n",
       "  'verbose': 1,\n",
       "  'do_validation': False,\n",
       "  'metrics': ['loss', 'accuracy']},\n",
       " 'epoch': [0, 1, 2, 3, 4, 5, 6, 7, 8, 9],\n",
       " 'history': {'loss': [0.7636465154802208,\n",
       "   0.7470065389538558,\n",
       "   0.7341134176760574,\n",
       "   0.72383324974407,\n",
       "   0.7158498373417568,\n",
       "   0.7095061156726901,\n",
       "   0.7046901446202197,\n",
       "   0.7010525192666615,\n",
       "   0.69820718037968,\n",
       "   0.6958810101912476],\n",
       "  'accuracy': [0.49608356,\n",
       "   0.49608356,\n",
       "   0.49608356,\n",
       "   0.49608356,\n",
       "   0.49608356,\n",
       "   0.49608356,\n",
       "   0.49608356,\n",
       "   0.49608356,\n",
       "   0.49608356,\n",
       "   0.49608356]}}"
      ]
     },
     "execution_count": 8,
     "metadata": {},
     "output_type": "execute_result"
    }
   ],
   "source": [
    "# dict\n",
    "\n",
    "results.__dict__"
   ]
  },
  {
   "cell_type": "code",
   "execution_count": 9,
   "metadata": {
    "ExecuteTime": {
     "end_time": "2022-05-05T18:12:33.990381Z",
     "start_time": "2022-05-05T18:12:33.362114Z"
    }
   },
   "outputs": [
    {
     "data": {
      "image/png": "[encoded data removed]",
      "text/plain": [
       "<Figure size 720x360 with 2 Axes>"
      ]
     },
     "metadata": {
      "needs_background": "light"
     },
     "output_type": "display_data"
    }
   ],
   "source": [
    "sigmoid_loss = results.history['loss']\n",
    "sigmoid_accuracy = results.history['accuracy']\n",
    "\n",
    "fig, (ax1, ax2) = plt.subplots(1, 2, figsize=(10, 5))\n",
    "sns.lineplot(x=results.epoch, y=sigmoid_loss, ax=ax1, label='loss')\n",
    "sns.lineplot(x=results.epoch, y=sigmoid_accuracy, ax=ax2, label='accuracy');"
   ]
  },
  {
   "cell_type": "markdown",
   "metadata": {},
   "source": [
    "We have two plots above both relating to the quality of our model.  The left-hand plot is our loss. It uses the probabilities associated with our predictions to judge how well our prediction fits reality. We want it to decrease as far as possible.\n",
    "\n",
    "The accuracy judges how well the predictions are after applying the threshold at the output layer.  We want accuracy to increase."
   ]
  },
  {
   "cell_type": "markdown",
   "metadata": {},
   "source": [
    "If we look at our loss, it is still decreasing. That is a signal that our model is **still learning**. If our model is still learning, we can allow it to get better by turning a few dials.\n",
    "\n",
    "Let's:\n",
    "- increase the number of epochs;\n",
    "- change sigmoid activation in the hidden layers to ReLU; and\n",
    "- decrease the batch size."
   ]
  },
  {
   "cell_type": "markdown",
   "metadata": {},
   "source": [
    "## Basic Model Tuning"
   ]
  },
  {
   "cell_type": "markdown",
   "metadata": {},
   "source": [
    "### Increase Epochs"
   ]
  },
  {
   "cell_type": "code",
   "execution_count": 10,
   "metadata": {
    "ExecuteTime": {
     "end_time": "2022-05-05T18:14:26.911250Z",
     "start_time": "2022-05-05T18:14:14.954151Z"
    }
   },
   "outputs": [
    {
     "name": "stdout",
     "output_type": "stream",
     "text": [
      "Train on 1149 samples\n",
      "Epoch 1/100\n",
      "1149/1149 [==============================] - 1s 951us/sample - loss: 0.7372 - accuracy: 0.4961\n",
      "Epoch 2/100\n",
      "1149/1149 [==============================] - 0s 104us/sample - loss: 0.7167 - accuracy: 0.4961\n",
      "Epoch 3/100\n",
      "1149/1149 [==============================] - 0s 102us/sample - loss: 0.7058 - accuracy: 0.4961\n",
      "Epoch 4/100\n",
      "1149/1149 [==============================] - 0s 94us/sample - loss: 0.7000 - accuracy: 0.4961\n",
      "Epoch 5/100\n",
      "1149/1149 [==============================] - 0s 104us/sample - loss: 0.6967 - accuracy: 0.4961\n",
      "Epoch 6/100\n",
      "1149/1149 [==============================] - 0s 80us/sample - loss: 0.6951 - accuracy: 0.4961\n",
      "Epoch 7/100\n",
      "1149/1149 [==============================] - 0s 117us/sample - loss: 0.6941 - accuracy: 0.4961\n",
      "Epoch 8/100\n",
      "1149/1149 [==============================] - 0s 122us/sample - loss: 0.6935 - accuracy: 0.4909\n",
      "Epoch 9/100\n",
      "1149/1149 [==============================] - 0s 99us/sample - loss: 0.6932 - accuracy: 0.4665\n",
      "Epoch 10/100\n",
      "1149/1149 [==============================] - 0s 113us/sample - loss: 0.6930 - accuracy: 0.4961\n",
      "Epoch 11/100\n",
      "1149/1149 [==============================] - 0s 98us/sample - loss: 0.6928 - accuracy: 0.5257\n",
      "Epoch 12/100\n",
      "1149/1149 [==============================] - 0s 108us/sample - loss: 0.6926 - accuracy: 0.5257\n",
      "Epoch 13/100\n",
      "1149/1149 [==============================] - 0s 90us/sample - loss: 0.6925 - accuracy: 0.5405\n",
      "Epoch 14/100\n",
      "1149/1149 [==============================] - 0s 103us/sample - loss: 0.6924 - accuracy: 0.5344\n",
      "Epoch 15/100\n",
      "1149/1149 [==============================] - 0s 110us/sample - loss: 0.6924 - accuracy: 0.5326\n",
      "Epoch 16/100\n",
      "1149/1149 [==============================] - 0s 106us/sample - loss: 0.6922 - accuracy: 0.5544\n",
      "Epoch 17/100\n",
      "1149/1149 [==============================] - 0s 116us/sample - loss: 0.6920 - accuracy: 0.5518\n",
      "Epoch 18/100\n",
      "1149/1149 [==============================] - 0s 87us/sample - loss: 0.6919 - accuracy: 0.5744\n",
      "Epoch 19/100\n",
      "1149/1149 [==============================] - 0s 100us/sample - loss: 0.6918 - accuracy: 0.5814\n",
      "Epoch 20/100\n",
      "1149/1149 [==============================] - 0s 90us/sample - loss: 0.6917 - accuracy: 0.5744\n",
      "Epoch 21/100\n",
      "1149/1149 [==============================] - 0s 101us/sample - loss: 0.6916 - accuracy: 0.5814\n",
      "Epoch 22/100\n",
      "1149/1149 [==============================] - 0s 98us/sample - loss: 0.6915 - accuracy: 0.5805\n",
      "Epoch 23/100\n",
      "1149/1149 [==============================] - 0s 92us/sample - loss: 0.6914 - accuracy: 0.5840\n",
      "Epoch 24/100\n",
      "1149/1149 [==============================] - 0s 91us/sample - loss: 0.6912 - accuracy: 0.5883\n",
      "Epoch 25/100\n",
      "1149/1149 [==============================] - 0s 106us/sample - loss: 0.6911 - accuracy: 0.5953\n",
      "Epoch 26/100\n",
      "1149/1149 [==============================] - 0s 101us/sample - loss: 0.6910 - accuracy: 0.6040\n",
      "Epoch 27/100\n",
      "1149/1149 [==============================] - 0s 99us/sample - loss: 0.6909 - accuracy: 0.6023\n",
      "Epoch 28/100\n",
      "1149/1149 [==============================] - 0s 105us/sample - loss: 0.6908 - accuracy: 0.6101\n",
      "Epoch 29/100\n",
      "1149/1149 [==============================] - 0s 104us/sample - loss: 0.6906 - accuracy: 0.6240\n",
      "Epoch 30/100\n",
      "1149/1149 [==============================] - 0s 96us/sample - loss: 0.6904 - accuracy: 0.6284\n",
      "Epoch 31/100\n",
      "1149/1149 [==============================] - 0s 100us/sample - loss: 0.6903 - accuracy: 0.6144\n",
      "Epoch 32/100\n",
      "1149/1149 [==============================] - 0s 95us/sample - loss: 0.6902 - accuracy: 0.6188\n",
      "Epoch 33/100\n",
      "1149/1149 [==============================] - 0s 89us/sample - loss: 0.6900 - accuracy: 0.6249\n",
      "Epoch 34/100\n",
      "1149/1149 [==============================] - 0s 96us/sample - loss: 0.6899 - accuracy: 0.6371\n",
      "Epoch 35/100\n",
      "1149/1149 [==============================] - 0s 96us/sample - loss: 0.6898 - accuracy: 0.6223\n",
      "Epoch 36/100\n",
      "1149/1149 [==============================] - 0s 87us/sample - loss: 0.6896 - accuracy: 0.6388\n",
      "Epoch 37/100\n",
      "1149/1149 [==============================] - 0s 84us/sample - loss: 0.6894 - accuracy: 0.6449\n",
      "Epoch 38/100\n",
      "1149/1149 [==============================] - 0s 89us/sample - loss: 0.6893 - accuracy: 0.6493\n",
      "Epoch 39/100\n",
      "1149/1149 [==============================] - 0s 90us/sample - loss: 0.6892 - accuracy: 0.6571\n",
      "Epoch 40/100\n",
      "1149/1149 [==============================] - 0s 97us/sample - loss: 0.6891 - accuracy: 0.6493\n",
      "Epoch 41/100\n",
      "1149/1149 [==============================] - 0s 97us/sample - loss: 0.6889 - accuracy: 0.6536\n",
      "Epoch 42/100\n",
      "1149/1149 [==============================] - 0s 97us/sample - loss: 0.6887 - accuracy: 0.6719\n",
      "Epoch 43/100\n",
      "1149/1149 [==============================] - 0s 92us/sample - loss: 0.6886 - accuracy: 0.6658\n",
      "Epoch 44/100\n",
      "1149/1149 [==============================] - 0s 95us/sample - loss: 0.6884 - accuracy: 0.6649\n",
      "Epoch 45/100\n",
      "1149/1149 [==============================] - 0s 91us/sample - loss: 0.6883 - accuracy: 0.6754\n",
      "Epoch 46/100\n",
      "1149/1149 [==============================] - 0s 80us/sample - loss: 0.6881 - accuracy: 0.6632\n",
      "Epoch 47/100\n",
      "1149/1149 [==============================] - 0s 102us/sample - loss: 0.6879 - accuracy: 0.6797\n",
      "Epoch 48/100\n",
      "1149/1149 [==============================] - 0s 96us/sample - loss: 0.6877 - accuracy: 0.6841\n",
      "Epoch 49/100\n",
      "1149/1149 [==============================] - 0s 87us/sample - loss: 0.6878 - accuracy: 0.6571\n",
      "Epoch 50/100\n",
      "1149/1149 [==============================] - 0s 83us/sample - loss: 0.6874 - accuracy: 0.6815\n",
      "Epoch 51/100\n",
      "1149/1149 [==============================] - 0s 91us/sample - loss: 0.6872 - accuracy: 0.6989\n",
      "Epoch 52/100\n",
      "1149/1149 [==============================] - 0s 85us/sample - loss: 0.6871 - accuracy: 0.6858\n",
      "Epoch 53/100\n",
      "1149/1149 [==============================] - 0s 85us/sample - loss: 0.6869 - accuracy: 0.7032\n",
      "Epoch 54/100\n",
      "1149/1149 [==============================] - 0s 91us/sample - loss: 0.6867 - accuracy: 0.7067\n",
      "Epoch 55/100\n",
      "1149/1149 [==============================] - 0s 96us/sample - loss: 0.6866 - accuracy: 0.7076\n",
      "Epoch 56/100\n",
      "1149/1149 [==============================] - 0s 93us/sample - loss: 0.6863 - accuracy: 0.7137\n",
      "Epoch 57/100\n",
      "1149/1149 [==============================] - 0s 91us/sample - loss: 0.6861 - accuracy: 0.7137\n",
      "Epoch 58/100\n",
      "1149/1149 [==============================] - 0s 98us/sample - loss: 0.6859 - accuracy: 0.7189\n",
      "Epoch 59/100\n",
      "1149/1149 [==============================] - 0s 152us/sample - loss: 0.6858 - accuracy: 0.7258\n",
      "Epoch 60/100\n",
      "1149/1149 [==============================] - 0s 80us/sample - loss: 0.6855 - accuracy: 0.7241\n",
      "Epoch 61/100\n",
      "1149/1149 [==============================] - 0s 79us/sample - loss: 0.6853 - accuracy: 0.7198\n",
      "Epoch 62/100\n",
      "1149/1149 [==============================] - 0s 94us/sample - loss: 0.6851 - accuracy: 0.7224\n",
      "Epoch 63/100\n",
      "1149/1149 [==============================] - 0s 111us/sample - loss: 0.6849 - accuracy: 0.7232\n",
      "Epoch 64/100\n",
      "1149/1149 [==============================] - 0s 91us/sample - loss: 0.6847 - accuracy: 0.7293\n",
      "Epoch 65/100\n",
      "1149/1149 [==============================] - 0s 91us/sample - loss: 0.6844 - accuracy: 0.7363\n",
      "Epoch 66/100\n",
      "1149/1149 [==============================] - 0s 91us/sample - loss: 0.6843 - accuracy: 0.7319\n",
      "Epoch 67/100\n",
      "1149/1149 [==============================] - 0s 74us/sample - loss: 0.6841 - accuracy: 0.7476\n",
      "Epoch 68/100\n",
      "1149/1149 [==============================] - 0s 83us/sample - loss: 0.6838 - accuracy: 0.7459\n",
      "Epoch 69/100\n",
      "1149/1149 [==============================] - 0s 86us/sample - loss: 0.6835 - accuracy: 0.7398\n",
      "Epoch 70/100\n",
      "1149/1149 [==============================] - 0s 91us/sample - loss: 0.6833 - accuracy: 0.7511\n",
      "Epoch 71/100\n",
      "1149/1149 [==============================] - 0s 91us/sample - loss: 0.6830 - accuracy: 0.7415\n",
      "Epoch 72/100\n",
      "1149/1149 [==============================] - 0s 89us/sample - loss: 0.6828 - accuracy: 0.7285\n",
      "Epoch 73/100\n",
      "1149/1149 [==============================] - 0s 91us/sample - loss: 0.6825 - accuracy: 0.7415\n",
      "Epoch 74/100\n",
      "1149/1149 [==============================] - 0s 89us/sample - loss: 0.6822 - accuracy: 0.7589\n",
      "Epoch 75/100\n",
      "1149/1149 [==============================] - 0s 84us/sample - loss: 0.6819 - accuracy: 0.7276\n",
      "Epoch 76/100\n",
      "1149/1149 [==============================] - 0s 84us/sample - loss: 0.6817 - accuracy: 0.7581\n",
      "Epoch 77/100\n"
     ]
    },
    {
     "name": "stdout",
     "output_type": "stream",
     "text": [
      "1149/1149 [==============================] - 0s 74us/sample - loss: 0.6814 - accuracy: 0.7633\n",
      "Epoch 78/100\n",
      "1149/1149 [==============================] - 0s 81us/sample - loss: 0.6811 - accuracy: 0.7598\n",
      "Epoch 79/100\n",
      "1149/1149 [==============================] - 0s 76us/sample - loss: 0.6808 - accuracy: 0.7668\n",
      "Epoch 80/100\n",
      "1149/1149 [==============================] - 0s 77us/sample - loss: 0.6805 - accuracy: 0.7711\n",
      "Epoch 81/100\n",
      "1149/1149 [==============================] - 0s 72us/sample - loss: 0.6802 - accuracy: 0.7607\n",
      "Epoch 82/100\n",
      "1149/1149 [==============================] - 0s 79us/sample - loss: 0.6798 - accuracy: 0.7537\n",
      "Epoch 83/100\n",
      "1149/1149 [==============================] - 0s 78us/sample - loss: 0.6796 - accuracy: 0.7589\n",
      "Epoch 84/100\n",
      "1149/1149 [==============================] - 0s 74us/sample - loss: 0.6792 - accuracy: 0.7607\n",
      "Epoch 85/100\n",
      "1149/1149 [==============================] - 0s 79us/sample - loss: 0.6789 - accuracy: 0.7676\n",
      "Epoch 86/100\n",
      "1149/1149 [==============================] - 0s 88us/sample - loss: 0.6786 - accuracy: 0.7676\n",
      "Epoch 87/100\n",
      "1149/1149 [==============================] - 0s 93us/sample - loss: 0.6782 - accuracy: 0.7659\n",
      "Epoch 88/100\n",
      "1149/1149 [==============================] - 0s 81us/sample - loss: 0.6778 - accuracy: 0.7633\n",
      "Epoch 89/100\n",
      "1149/1149 [==============================] - 0s 99us/sample - loss: 0.6774 - accuracy: 0.7763\n",
      "Epoch 90/100\n",
      "1149/1149 [==============================] - 0s 91us/sample - loss: 0.6771 - accuracy: 0.7720\n",
      "Epoch 91/100\n",
      "1149/1149 [==============================] - 0s 83us/sample - loss: 0.6767 - accuracy: 0.7815\n",
      "Epoch 92/100\n",
      "1149/1149 [==============================] - 0s 78us/sample - loss: 0.6763 - accuracy: 0.7685\n",
      "Epoch 93/100\n",
      "1149/1149 [==============================] - 0s 73us/sample - loss: 0.6759 - accuracy: 0.7755\n",
      "Epoch 94/100\n",
      "1149/1149 [==============================] - 0s 80us/sample - loss: 0.6755 - accuracy: 0.7868\n",
      "Epoch 95/100\n",
      "1149/1149 [==============================] - 0s 77us/sample - loss: 0.6751 - accuracy: 0.7659\n",
      "Epoch 96/100\n",
      "1149/1149 [==============================] - 0s 72us/sample - loss: 0.6746 - accuracy: 0.8007\n",
      "Epoch 97/100\n",
      "1149/1149 [==============================] - 0s 75us/sample - loss: 0.6742 - accuracy: 0.7911\n",
      "Epoch 98/100\n",
      "1149/1149 [==============================] - 0s 78us/sample - loss: 0.6737 - accuracy: 0.7807\n",
      "Epoch 99/100\n",
      "1149/1149 [==============================] - 0s 73us/sample - loss: 0.6732 - accuracy: 0.7903\n",
      "Epoch 100/100\n",
      "1149/1149 [==============================] - 0s 75us/sample - loss: 0.6728 - accuracy: 0.7920\n"
     ]
    }
   ],
   "source": [
    "model = Sequential()\n",
    "model.add(Dense(12, activation='sigmoid', input_dim=64))\n",
    "model.add(Dense(8, activation='sigmoid'))\n",
    "model.add(Dense(1, activation='sigmoid'))\n",
    "\n",
    "model.compile(optimizer='SGD',\n",
    "              loss='binary_crossentropy',\n",
    "              metrics=['accuracy'])\n",
    "\n",
    "# Assign the variable history to store the results,\n",
    "# and set verbose=1 so we can see the output.\n",
    "# increase epochs\n",
    "\n",
    "results = model.fit(X_pure_train, y_pure_train, epochs=100, batch_size=None, verbose=1)\n"
   ]
  },
  {
   "cell_type": "code",
   "execution_count": 11,
   "metadata": {
    "ExecuteTime": {
     "end_time": "2022-05-05T18:14:27.565183Z",
     "start_time": "2022-05-05T18:14:27.051672Z"
    }
   },
   "outputs": [
    {
     "data": {
      "image/png": "[encoded data removed]",
      "text/plain": [
       "<Figure size 720x360 with 2 Axes>"
      ]
     },
     "metadata": {
      "needs_background": "light"
     },
     "output_type": "display_data"
    }
   ],
   "source": [
    "sigmoid_loss = results.history['loss']\n",
    "sigmoid_accuracy = results.history['accuracy']\n",
    "\n",
    "fig, (ax1, ax2) = plt.subplots(1, 2, figsize=(10, 5))\n",
    "sns.lineplot(x=results.epoch, y=sigmoid_loss, ax=ax1, label='loss')\n",
    "sns.lineplot(x=results.epoch, y=sigmoid_accuracy, ax=ax2, label='accuracy')\n",
    "ax1.legend();"
   ]
  },
  {
   "cell_type": "markdown",
   "metadata": {},
   "source": [
    "### Decrease Batch Size"
   ]
  },
  {
   "cell_type": "code",
   "execution_count": 12,
   "metadata": {
    "ExecuteTime": {
     "end_time": "2022-05-05T18:15:02.537434Z",
     "start_time": "2022-05-05T18:14:58.099542Z"
    }
   },
   "outputs": [
    {
     "name": "stdout",
     "output_type": "stream",
     "text": [
      "Train on 1149 samples\n",
      "Epoch 1/10\n",
      "1149/1149 [==============================] - 1s 1ms/sample - loss: 0.7109 - accuracy: 0.4961\n",
      "Epoch 2/10\n",
      "1149/1149 [==============================] - 0s 259us/sample - loss: 0.6951 - accuracy: 0.4822\n",
      "Epoch 3/10\n",
      "1149/1149 [==============================] - 0s 361us/sample - loss: 0.6926 - accuracy: 0.4943\n",
      "Epoch 4/10\n",
      "1149/1149 [==============================] - 0s 285us/sample - loss: 0.6915 - accuracy: 0.5553\n",
      "Epoch 5/10\n",
      "1149/1149 [==============================] - 0s 304us/sample - loss: 0.6907 - accuracy: 0.5849\n",
      "Epoch 6/10\n",
      "1149/1149 [==============================] - 0s 267us/sample - loss: 0.6898 - accuracy: 0.5718\n",
      "Epoch 7/10\n",
      "1149/1149 [==============================] - 0s 257us/sample - loss: 0.6888 - accuracy: 0.5753\n",
      "Epoch 8/10\n",
      "1149/1149 [==============================] - 0s 274us/sample - loss: 0.6882 - accuracy: 0.5979\n",
      "Epoch 9/10\n",
      "1149/1149 [==============================] - 0s 303us/sample - loss: 0.6872 - accuracy: 0.5988\n",
      "Epoch 10/10\n",
      "1149/1149 [==============================] - 0s 293us/sample - loss: 0.6864 - accuracy: 0.6319\n"
     ]
    }
   ],
   "source": [
    "model = Sequential()\n",
    "\n",
    "model.add(Dense(12, activation='sigmoid', input_dim=64))\n",
    "model.add(Dense(8, activation='sigmoid'))\n",
    "model.add(Dense(1, activation='sigmoid'))\n",
    "\n",
    "model.compile(optimizer='SGD',\n",
    "              loss='binary_crossentropy',\n",
    "              metrics=['accuracy'])\n",
    "\n",
    "# decrease batch size\n",
    "\n",
    "results = model.fit(X_pure_train, y_pure_train, epochs=10, batch_size=10, verbose=1)"
   ]
  },
  {
   "cell_type": "code",
   "execution_count": 13,
   "metadata": {
    "ExecuteTime": {
     "end_time": "2022-05-05T18:15:03.136795Z",
     "start_time": "2022-05-05T18:15:02.672285Z"
    }
   },
   "outputs": [
    {
     "data": {
      "image/png": "[encoded data removed]",
      "text/plain": [
       "<Figure size 720x360 with 2 Axes>"
      ]
     },
     "metadata": {
      "needs_background": "light"
     },
     "output_type": "display_data"
    }
   ],
   "source": [
    "relu_loss = results.history['loss']\n",
    "relu_accuracy = results.history['accuracy']\n",
    "\n",
    "fig, (ax1, ax2) = plt.subplots(1, 2, figsize=(10, 5))\n",
    "sns.lineplot(x=results.epoch, y=relu_loss, ax=ax1, label='loss')\n",
    "sns.lineplot(x=results.epoch, y=relu_accuracy, ax=ax2, label='accuracy')\n",
    "ax1.legend();"
   ]
  },
  {
   "cell_type": "markdown",
   "metadata": {},
   "source": [
    "### Both"
   ]
  },
  {
   "cell_type": "code",
   "execution_count": 14,
   "metadata": {
    "ExecuteTime": {
     "end_time": "2022-05-05T18:15:56.672553Z",
     "start_time": "2022-05-05T18:15:23.008599Z"
    }
   },
   "outputs": [
    {
     "name": "stdout",
     "output_type": "stream",
     "text": [
      "Train on 1149 samples\n",
      "Epoch 1/100\n",
      "1149/1149 [==============================] - 1s 1ms/sample - loss: 0.6899 - accuracy: 0.5596\n",
      "Epoch 2/100\n",
      "1149/1149 [==============================] - 0s 256us/sample - loss: 0.6878 - accuracy: 0.5997\n",
      "Epoch 3/100\n",
      "1149/1149 [==============================] - 0s 270us/sample - loss: 0.6867 - accuracy: 0.5918\n",
      "Epoch 4/100\n",
      "1149/1149 [==============================] - 0s 305us/sample - loss: 0.6857 - accuracy: 0.6641\n",
      "Epoch 5/100\n",
      "1149/1149 [==============================] - 0s 342us/sample - loss: 0.6844 - accuracy: 0.6353\n",
      "Epoch 6/100\n",
      "1149/1149 [==============================] - 0s 291us/sample - loss: 0.6833 - accuracy: 0.6797\n",
      "Epoch 7/100\n",
      "1149/1149 [==============================] - 0s 275us/sample - loss: 0.6819 - accuracy: 0.6867\n",
      "Epoch 8/100\n",
      "1149/1149 [==============================] - 0s 300us/sample - loss: 0.6807 - accuracy: 0.6762\n",
      "Epoch 9/100\n",
      "1149/1149 [==============================] - 0s 353us/sample - loss: 0.6792 - accuracy: 0.6606\n",
      "Epoch 10/100\n",
      "1149/1149 [==============================] - 0s 310us/sample - loss: 0.6777 - accuracy: 0.7293\n",
      "Epoch 11/100\n",
      "1149/1149 [==============================] - 0s 342us/sample - loss: 0.6761 - accuracy: 0.6919\n",
      "Epoch 12/100\n",
      "1149/1149 [==============================] - 0s 287us/sample - loss: 0.6744 - accuracy: 0.7737\n",
      "Epoch 13/100\n",
      "1149/1149 [==============================] - 0s 364us/sample - loss: 0.6725 - accuracy: 0.7737\n",
      "Epoch 14/100\n",
      "1149/1149 [==============================] - 0s 347us/sample - loss: 0.6708 - accuracy: 0.7485\n",
      "Epoch 15/100\n",
      "1149/1149 [==============================] - 0s 305us/sample - loss: 0.6687 - accuracy: 0.7450\n",
      "Epoch 16/100\n",
      "1149/1149 [==============================] - 0s 267us/sample - loss: 0.6665 - accuracy: 0.7781\n",
      "Epoch 17/100\n",
      "1149/1149 [==============================] - 0s 290us/sample - loss: 0.6643 - accuracy: 0.7781\n",
      "Epoch 18/100\n",
      "1149/1149 [==============================] - 0s 306us/sample - loss: 0.6617 - accuracy: 0.7659\n",
      "Epoch 19/100\n",
      "1149/1149 [==============================] - 0s 306us/sample - loss: 0.6590 - accuracy: 0.8024\n",
      "Epoch 20/100\n",
      "1149/1149 [==============================] - 0s 301us/sample - loss: 0.6561 - accuracy: 0.7850\n",
      "Epoch 21/100\n",
      "1149/1149 [==============================] - 0s 259us/sample - loss: 0.6531 - accuracy: 0.8007\n",
      "Epoch 22/100\n",
      "1149/1149 [==============================] - 0s 273us/sample - loss: 0.6497 - accuracy: 0.7963\n",
      "Epoch 23/100\n",
      "1149/1149 [==============================] - 0s 283us/sample - loss: 0.6459 - accuracy: 0.8068\n",
      "Epoch 24/100\n",
      "1149/1149 [==============================] - 0s 334us/sample - loss: 0.6421 - accuracy: 0.8068\n",
      "Epoch 25/100\n",
      "1149/1149 [==============================] - 0s 300us/sample - loss: 0.6381 - accuracy: 0.8059\n",
      "Epoch 26/100\n",
      "1149/1149 [==============================] - 0s 365us/sample - loss: 0.6335 - accuracy: 0.8138\n",
      "Epoch 27/100\n",
      "1149/1149 [==============================] - 0s 271us/sample - loss: 0.6287 - accuracy: 0.8103\n",
      "Epoch 28/100\n",
      "1149/1149 [==============================] - 0s 288us/sample - loss: 0.6233 - accuracy: 0.8129\n",
      "Epoch 29/100\n",
      "1149/1149 [==============================] - 0s 334us/sample - loss: 0.6179 - accuracy: 0.8155\n",
      "Epoch 30/100\n",
      "1149/1149 [==============================] - 0s 276us/sample - loss: 0.6120 - accuracy: 0.8225\n",
      "Epoch 31/100\n",
      "1149/1149 [==============================] - 0s 261us/sample - loss: 0.6057 - accuracy: 0.8216\n",
      "Epoch 32/100\n",
      "1149/1149 [==============================] - 0s 273us/sample - loss: 0.5990 - accuracy: 0.8259\n",
      "Epoch 33/100\n",
      "1149/1149 [==============================] - 0s 297us/sample - loss: 0.5918 - accuracy: 0.8268\n",
      "Epoch 34/100\n",
      "1149/1149 [==============================] - 0s 297us/sample - loss: 0.5842 - accuracy: 0.8242\n",
      "Epoch 35/100\n",
      "1149/1149 [==============================] - 0s 286us/sample - loss: 0.5763 - accuracy: 0.8268\n",
      "Epoch 36/100\n",
      "1149/1149 [==============================] - 0s 260us/sample - loss: 0.5681 - accuracy: 0.8259\n",
      "Epoch 37/100\n",
      "1149/1149 [==============================] - 0s 264us/sample - loss: 0.5589 - accuracy: 0.8294\n",
      "Epoch 38/100\n",
      "1149/1149 [==============================] - 0s 314us/sample - loss: 0.5505 - accuracy: 0.8268\n",
      "Epoch 39/100\n",
      "1149/1149 [==============================] - 0s 303us/sample - loss: 0.5412 - accuracy: 0.8338\n",
      "Epoch 40/100\n",
      "1149/1149 [==============================] - 0s 295us/sample - loss: 0.5315 - accuracy: 0.8320\n",
      "Epoch 41/100\n",
      "1149/1149 [==============================] - 0s 270us/sample - loss: 0.5221 - accuracy: 0.8346\n",
      "Epoch 42/100\n",
      "1149/1149 [==============================] - 0s 279us/sample - loss: 0.5122 - accuracy: 0.8329\n",
      "Epoch 43/100\n",
      "1149/1149 [==============================] - 0s 271us/sample - loss: 0.5022 - accuracy: 0.8320\n",
      "Epoch 44/100\n",
      "1149/1149 [==============================] - 0s 300us/sample - loss: 0.4918 - accuracy: 0.8320\n",
      "Epoch 45/100\n",
      "1149/1149 [==============================] - 0s 278us/sample - loss: 0.4823 - accuracy: 0.8346\n",
      "Epoch 46/100\n",
      "1149/1149 [==============================] - 0s 283us/sample - loss: 0.4722 - accuracy: 0.8399\n",
      "Epoch 47/100\n",
      "1149/1149 [==============================] - 0s 256us/sample - loss: 0.4623 - accuracy: 0.8364\n",
      "Epoch 48/100\n",
      "1149/1149 [==============================] - 0s 268us/sample - loss: 0.4528 - accuracy: 0.8399\n",
      "Epoch 49/100\n",
      "1149/1149 [==============================] - 0s 299us/sample - loss: 0.4427 - accuracy: 0.8451\n",
      "Epoch 50/100\n",
      "1149/1149 [==============================] - 0s 292us/sample - loss: 0.4344 - accuracy: 0.8442\n",
      "Epoch 51/100\n",
      "1149/1149 [==============================] - 0s 277us/sample - loss: 0.4252 - accuracy: 0.8425\n",
      "Epoch 52/100\n",
      "1149/1149 [==============================] - 0s 256us/sample - loss: 0.4163 - accuracy: 0.8477\n",
      "Epoch 53/100\n",
      "1149/1149 [==============================] - 0s 270us/sample - loss: 0.4081 - accuracy: 0.8468\n",
      "Epoch 54/100\n",
      "1149/1149 [==============================] - 0s 290us/sample - loss: 0.3999 - accuracy: 0.8555\n",
      "Epoch 55/100\n",
      "1149/1149 [==============================] - 0s 286us/sample - loss: 0.3922 - accuracy: 0.8520\n",
      "Epoch 56/100\n",
      "1149/1149 [==============================] - 0s 255us/sample - loss: 0.3849 - accuracy: 0.8573\n",
      "Epoch 57/100\n",
      "1149/1149 [==============================] - 0s 258us/sample - loss: 0.3777 - accuracy: 0.8581\n",
      "Epoch 58/100\n",
      "1149/1149 [==============================] - 0s 246us/sample - loss: 0.3710 - accuracy: 0.8607\n",
      "Epoch 59/100\n",
      "1149/1149 [==============================] - 0s 280us/sample - loss: 0.3644 - accuracy: 0.8634\n",
      "Epoch 60/100\n",
      "1149/1149 [==============================] - 0s 345us/sample - loss: 0.3581 - accuracy: 0.8625\n",
      "Epoch 61/100\n",
      "1149/1149 [==============================] - 0s 264us/sample - loss: 0.3524 - accuracy: 0.8668\n",
      "Epoch 62/100\n",
      "1149/1149 [==============================] - 0s 259us/sample - loss: 0.3467 - accuracy: 0.8686\n",
      "Epoch 63/100\n",
      "1149/1149 [==============================] - 0s 257us/sample - loss: 0.3414 - accuracy: 0.8729\n",
      "Epoch 64/100\n",
      "1149/1149 [==============================] - 0s 249us/sample - loss: 0.3363 - accuracy: 0.8721\n",
      "Epoch 65/100\n",
      "1149/1149 [==============================] - 0s 292us/sample - loss: 0.3310 - accuracy: 0.8755\n",
      "Epoch 66/100\n",
      "1149/1149 [==============================] - 0s 300us/sample - loss: 0.3269 - accuracy: 0.8782\n",
      "Epoch 67/100\n",
      "1149/1149 [==============================] - 0s 257us/sample - loss: 0.3224 - accuracy: 0.8764\n",
      "Epoch 68/100\n",
      "1149/1149 [==============================] - 0s 288us/sample - loss: 0.3184 - accuracy: 0.8790\n",
      "Epoch 69/100\n",
      "1149/1149 [==============================] - 0s 302us/sample - loss: 0.3142 - accuracy: 0.8842\n",
      "Epoch 70/100\n",
      "1149/1149 [==============================] - 0s 288us/sample - loss: 0.3105 - accuracy: 0.8842\n",
      "Epoch 71/100\n",
      "1149/1149 [==============================] - 0s 289us/sample - loss: 0.3070 - accuracy: 0.8799\n",
      "Epoch 72/100\n",
      "1149/1149 [==============================] - 0s 258us/sample - loss: 0.3032 - accuracy: 0.8816\n",
      "Epoch 73/100\n",
      "1149/1149 [==============================] - 0s 269us/sample - loss: 0.3000 - accuracy: 0.8834\n",
      "Epoch 74/100\n",
      "1149/1149 [==============================] - 0s 259us/sample - loss: 0.2970 - accuracy: 0.8860\n",
      "Epoch 75/100\n",
      "1149/1149 [==============================] - 0s 290us/sample - loss: 0.2941 - accuracy: 0.8851\n",
      "Epoch 76/100\n"
     ]
    },
    {
     "name": "stdout",
     "output_type": "stream",
     "text": [
      "1149/1149 [==============================] - 0s 278us/sample - loss: 0.2912 - accuracy: 0.8877\n",
      "Epoch 77/100\n",
      "1149/1149 [==============================] - 0s 261us/sample - loss: 0.2884 - accuracy: 0.8903\n",
      "Epoch 78/100\n",
      "1149/1149 [==============================] - 0s 227us/sample - loss: 0.2855 - accuracy: 0.8912\n",
      "Epoch 79/100\n",
      "1149/1149 [==============================] - 0s 239us/sample - loss: 0.2836 - accuracy: 0.8903\n",
      "Epoch 80/100\n",
      "1149/1149 [==============================] - 0s 234us/sample - loss: 0.2808 - accuracy: 0.8877\n",
      "Epoch 81/100\n",
      "1149/1149 [==============================] - 0s 275us/sample - loss: 0.2787 - accuracy: 0.8912\n",
      "Epoch 82/100\n",
      "1149/1149 [==============================] - 0s 273us/sample - loss: 0.2767 - accuracy: 0.8930\n",
      "Epoch 83/100\n",
      "1149/1149 [==============================] - 0s 243us/sample - loss: 0.2745 - accuracy: 0.8930\n",
      "Epoch 84/100\n",
      "1149/1149 [==============================] - 0s 236us/sample - loss: 0.2725 - accuracy: 0.8938\n",
      "Epoch 85/100\n",
      "1149/1149 [==============================] - 0s 238us/sample - loss: 0.2703 - accuracy: 0.8921\n",
      "Epoch 86/100\n",
      "1149/1149 [==============================] - 0s 260us/sample - loss: 0.2683 - accuracy: 0.8938\n",
      "Epoch 87/100\n",
      "1149/1149 [==============================] - 0s 266us/sample - loss: 0.2669 - accuracy: 0.8964\n",
      "Epoch 88/100\n",
      "1149/1149 [==============================] - 0s 286us/sample - loss: 0.2650 - accuracy: 0.8947\n",
      "Epoch 89/100\n",
      "1149/1149 [==============================] - 0s 242us/sample - loss: 0.2635 - accuracy: 0.8930\n",
      "Epoch 90/100\n",
      "1149/1149 [==============================] - 0s 299us/sample - loss: 0.2610 - accuracy: 0.8964\n",
      "Epoch 91/100\n",
      "1149/1149 [==============================] - 0s 273us/sample - loss: 0.2604 - accuracy: 0.8947\n",
      "Epoch 92/100\n",
      "1149/1149 [==============================] - 0s 274us/sample - loss: 0.2588 - accuracy: 0.8973\n",
      "Epoch 93/100\n",
      "1149/1149 [==============================] - 0s 235us/sample - loss: 0.2574 - accuracy: 0.8964\n",
      "Epoch 94/100\n",
      "1149/1149 [==============================] - 0s 292us/sample - loss: 0.2555 - accuracy: 0.8973\n",
      "Epoch 95/100\n",
      "1149/1149 [==============================] - 0s 290us/sample - loss: 0.2547 - accuracy: 0.8964\n",
      "Epoch 96/100\n",
      "1149/1149 [==============================] - 0s 280us/sample - loss: 0.2538 - accuracy: 0.8990\n",
      "Epoch 97/100\n",
      "1149/1149 [==============================] - 0s 265us/sample - loss: 0.2521 - accuracy: 0.8990\n",
      "Epoch 98/100\n",
      "1149/1149 [==============================] - 0s 272us/sample - loss: 0.2510 - accuracy: 0.8990\n",
      "Epoch 99/100\n",
      "1149/1149 [==============================] - 0s 262us/sample - loss: 0.2493 - accuracy: 0.8982\n",
      "Epoch 100/100\n",
      "1149/1149 [==============================] - 0s 240us/sample - loss: 0.2486 - accuracy: 0.8999\n"
     ]
    }
   ],
   "source": [
    "model = Sequential()\n",
    "\n",
    "model.add(Dense(12, activation='sigmoid', input_dim=64))\n",
    "model.add(Dense(8, activation='sigmoid'))\n",
    "model.add(Dense(1, activation='sigmoid'))\n",
    "\n",
    "model.compile(optimizer='SGD',\n",
    "              loss='binary_crossentropy',\n",
    "              metrics=['accuracy'])\n",
    "\n",
    "# increase epochs decrease batch size\n",
    "results = model.fit(X_pure_train, y_pure_train, epochs=100, batch_size=10, verbose=1)"
   ]
  },
  {
   "cell_type": "code",
   "execution_count": 15,
   "metadata": {
    "ExecuteTime": {
     "end_time": "2022-05-05T18:15:57.333417Z",
     "start_time": "2022-05-05T18:15:56.787158Z"
    }
   },
   "outputs": [
    {
     "data": {
      "image/png": "[encoded data removed]",
      "text/plain": [
       "<Figure size 720x360 with 2 Axes>"
      ]
     },
     "metadata": {
      "needs_background": "light"
     },
     "output_type": "display_data"
    }
   ],
   "source": [
    "relu_loss = results.history['loss']\n",
    "relu_accuracy = results.history['accuracy']\n",
    "\n",
    "fig, (ax1, ax2) = plt.subplots(1, 2, figsize=(10, 5))\n",
    "sns.lineplot(x=results.epoch, y=relu_loss, ax=ax1, label='loss')\n",
    "sns.lineplot(x=results.epoch, y=relu_accuracy, ax=ax2, label='accuracy')\n",
    "ax1.legend();"
   ]
  },
  {
   "cell_type": "markdown",
   "metadata": {},
   "source": [
    "### Use Relu"
   ]
  },
  {
   "cell_type": "code",
   "execution_count": 16,
   "metadata": {
    "ExecuteTime": {
     "end_time": "2022-05-05T18:17:51.366964Z",
     "start_time": "2022-05-05T18:17:13.084845Z"
    }
   },
   "outputs": [
    {
     "name": "stdout",
     "output_type": "stream",
     "text": [
      "Train on 1149 samples\n",
      "Epoch 1/100\n",
      "1149/1149 [==============================] - 1s 968us/sample - loss: 0.6372 - accuracy: 0.6527\n",
      "Epoch 2/100\n",
      "1149/1149 [==============================] - 0s 302us/sample - loss: 0.5798 - accuracy: 0.7354\n",
      "Epoch 3/100\n",
      "1149/1149 [==============================] - 0s 294us/sample - loss: 0.5106 - accuracy: 0.7824\n",
      "Epoch 4/100\n",
      "1149/1149 [==============================] - 0s 267us/sample - loss: 0.4390 - accuracy: 0.8207\n",
      "Epoch 5/100\n",
      "1149/1149 [==============================] - 0s 281us/sample - loss: 0.3765 - accuracy: 0.8590\n",
      "Epoch 6/100\n",
      "1149/1149 [==============================] - 0s 293us/sample - loss: 0.3321 - accuracy: 0.8773\n",
      "Epoch 7/100\n",
      "1149/1149 [==============================] - 0s 312us/sample - loss: 0.3009 - accuracy: 0.8834\n",
      "Epoch 8/100\n",
      "1149/1149 [==============================] - 0s 345us/sample - loss: 0.2792 - accuracy: 0.8930\n",
      "Epoch 9/100\n",
      "1149/1149 [==============================] - 0s 349us/sample - loss: 0.2626 - accuracy: 0.8947\n",
      "Epoch 10/100\n",
      "1149/1149 [==============================] - 1s 528us/sample - loss: 0.2512 - accuracy: 0.9060 - loss: 0.2482 - accura\n",
      "Epoch 11/100\n",
      "1149/1149 [==============================] - 0s 381us/sample - loss: 0.2424 - accuracy: 0.9025\n",
      "Epoch 12/100\n",
      "1149/1149 [==============================] - 0s 321us/sample - loss: 0.2364 - accuracy: 0.9060\n",
      "Epoch 13/100\n",
      "1149/1149 [==============================] - 0s 281us/sample - loss: 0.2292 - accuracy: 0.9086\n",
      "Epoch 14/100\n",
      "1149/1149 [==============================] - 1s 505us/sample - loss: 0.2221 - accuracy: 0.9130 - loss: 0.2396 - accuracy: 0. - ETA: 0s - loss: 0.2308 - ac\n",
      "Epoch 15/100\n",
      "1149/1149 [==============================] - 0s 338us/sample - loss: 0.2168 - accuracy: 0.9112\n",
      "Epoch 16/100\n",
      "1149/1149 [==============================] - 1s 489us/sample - loss: 0.2153 - accuracy: 0.9112\n",
      "Epoch 17/100\n",
      "1149/1149 [==============================] - 0s 294us/sample - loss: 0.2099 - accuracy: 0.9173\n",
      "Epoch 18/100\n",
      "1149/1149 [==============================] - 0s 290us/sample - loss: 0.2054 - accuracy: 0.9199\n",
      "Epoch 19/100\n",
      "1149/1149 [==============================] - 0s 349us/sample - loss: 0.2029 - accuracy: 0.9138\n",
      "Epoch 20/100\n",
      "1149/1149 [==============================] - 0s 378us/sample - loss: 0.1983 - accuracy: 0.9138\n",
      "Epoch 21/100\n",
      "1149/1149 [==============================] - 0s 346us/sample - loss: 0.1945 - accuracy: 0.9147\n",
      "Epoch 22/100\n",
      "1149/1149 [==============================] - 0s 333us/sample - loss: 0.1897 - accuracy: 0.9182\n",
      "Epoch 23/100\n",
      "1149/1149 [==============================] - 0s 363us/sample - loss: 0.1837 - accuracy: 0.9225\n",
      "Epoch 24/100\n",
      "1149/1149 [==============================] - 0s 392us/sample - loss: 0.1826 - accuracy: 0.9182\n",
      "Epoch 25/100\n",
      "1149/1149 [==============================] - 0s 353us/sample - loss: 0.1818 - accuracy: 0.9234\n",
      "Epoch 26/100\n",
      "1149/1149 [==============================] - 0s 298us/sample - loss: 0.1798 - accuracy: 0.9199\n",
      "Epoch 27/100\n",
      "1149/1149 [==============================] - 0s 335us/sample - loss: 0.1703 - accuracy: 0.9278\n",
      "Epoch 28/100\n",
      "1149/1149 [==============================] - 0s 349us/sample - loss: 0.1690 - accuracy: 0.9295\n",
      "Epoch 29/100\n",
      "1149/1149 [==============================] - 0s 366us/sample - loss: 0.1645 - accuracy: 0.9278\n",
      "Epoch 30/100\n",
      "1149/1149 [==============================] - 0s 403us/sample - loss: 0.1630 - accuracy: 0.9321\n",
      "Epoch 31/100\n",
      "1149/1149 [==============================] - 0s 345us/sample - loss: 0.1590 - accuracy: 0.9330\n",
      "Epoch 32/100\n",
      "1149/1149 [==============================] - 0s 370us/sample - loss: 0.1531 - accuracy: 0.9347\n",
      "Epoch 33/100\n",
      "1149/1149 [==============================] - 0s 380us/sample - loss: 0.1510 - accuracy: 0.9365\n",
      "Epoch 34/100\n",
      "1149/1149 [==============================] - 0s 355us/sample - loss: 0.1479 - accuracy: 0.9399\n",
      "Epoch 35/100\n",
      "1149/1149 [==============================] - 0s 320us/sample - loss: 0.1443 - accuracy: 0.9408\n",
      "Epoch 36/100\n",
      "1149/1149 [==============================] - 0s 393us/sample - loss: 0.1395 - accuracy: 0.9426\n",
      "Epoch 37/100\n",
      "1149/1149 [==============================] - 0s 423us/sample - loss: 0.1359 - accuracy: 0.9426\n",
      "Epoch 38/100\n",
      "1149/1149 [==============================] - 0s 371us/sample - loss: 0.1345 - accuracy: 0.9443\n",
      "Epoch 39/100\n",
      "1149/1149 [==============================] - 1s 461us/sample - loss: 0.1299 - accuracy: 0.9460\n",
      "Epoch 40/100\n",
      "1149/1149 [==============================] - 0s 368us/sample - loss: 0.1275 - accuracy: 0.9521\n",
      "Epoch 41/100\n",
      "1149/1149 [==============================] - 0s 354us/sample - loss: 0.1236 - accuracy: 0.9478\n",
      "Epoch 42/100\n",
      "1149/1149 [==============================] - 0s 306us/sample - loss: 0.1208 - accuracy: 0.9556\n",
      "Epoch 43/100\n",
      "1149/1149 [==============================] - 0s 322us/sample - loss: 0.1162 - accuracy: 0.9521\n",
      "Epoch 44/100\n",
      "1149/1149 [==============================] - 0s 346us/sample - loss: 0.1143 - accuracy: 0.9539\n",
      "Epoch 45/100\n",
      "1149/1149 [==============================] - 0s 370us/sample - loss: 0.1121 - accuracy: 0.9582\n",
      "Epoch 46/100\n",
      "1149/1149 [==============================] - 0s 323us/sample - loss: 0.1099 - accuracy: 0.9556\n",
      "Epoch 47/100\n",
      "1149/1149 [==============================] - 0s 271us/sample - loss: 0.1071 - accuracy: 0.9582\n",
      "Epoch 48/100\n",
      "1149/1149 [==============================] - 0s 281us/sample - loss: 0.1029 - accuracy: 0.9582\n",
      "Epoch 49/100\n",
      "1149/1149 [==============================] - 0s 336us/sample - loss: 0.0982 - accuracy: 0.9626\n",
      "Epoch 50/100\n",
      "1149/1149 [==============================] - 0s 319us/sample - loss: 0.0972 - accuracy: 0.9687\n",
      "Epoch 51/100\n",
      "1149/1149 [==============================] - 0s 312us/sample - loss: 0.0938 - accuracy: 0.9634\n",
      "Epoch 52/100\n",
      "1149/1149 [==============================] - 0s 311us/sample - loss: 0.0895 - accuracy: 0.9652\n",
      "Epoch 53/100\n",
      "1149/1149 [==============================] - 0s 301us/sample - loss: 0.0888 - accuracy: 0.9687\n",
      "Epoch 54/100\n",
      "1149/1149 [==============================] - 0s 283us/sample - loss: 0.0860 - accuracy: 0.9695\n",
      "Epoch 55/100\n",
      "1149/1149 [==============================] - 0s 325us/sample - loss: 0.0839 - accuracy: 0.9748\n",
      "Epoch 56/100\n",
      "1149/1149 [==============================] - 1s 439us/sample - loss: 0.0817 - accuracy: 0.9695\n",
      "Epoch 57/100\n",
      "1149/1149 [==============================] - 0s 284us/sample - loss: 0.0805 - accuracy: 0.9739\n",
      "Epoch 58/100\n",
      "1149/1149 [==============================] - 0s 313us/sample - loss: 0.0748 - accuracy: 0.9756\n",
      "Epoch 59/100\n",
      "1149/1149 [==============================] - 0s 272us/sample - loss: 0.0761 - accuracy: 0.9748\n",
      "Epoch 60/100\n",
      "1149/1149 [==============================] - 0s 306us/sample - loss: 0.0744 - accuracy: 0.9748\n",
      "Epoch 61/100\n",
      "1149/1149 [==============================] - 0s 313us/sample - loss: 0.0706 - accuracy: 0.9782\n",
      "Epoch 62/100\n",
      "1149/1149 [==============================] - 0s 280us/sample - loss: 0.0695 - accuracy: 0.9791\n",
      "Epoch 63/100\n",
      "1149/1149 [==============================] - 0s 262us/sample - loss: 0.0655 - accuracy: 0.9756\n",
      "Epoch 64/100\n",
      "1149/1149 [==============================] - 0s 284us/sample - loss: 0.0653 - accuracy: 0.9756\n",
      "Epoch 65/100\n",
      "1149/1149 [==============================] - 0s 292us/sample - loss: 0.0635 - accuracy: 0.9809\n",
      "Epoch 66/100\n",
      "1149/1149 [==============================] - 0s 311us/sample - loss: 0.0623 - accuracy: 0.9791\n",
      "Epoch 67/100\n",
      "1149/1149 [==============================] - 0s 278us/sample - loss: 0.0616 - accuracy: 0.9809\n",
      "Epoch 68/100\n",
      "1149/1149 [==============================] - 0s 273us/sample - loss: 0.0570 - accuracy: 0.9809\n",
      "Epoch 69/100\n",
      "1149/1149 [==============================] - 0s 265us/sample - loss: 0.0565 - accuracy: 0.9826\n",
      "Epoch 70/100\n",
      "1149/1149 [==============================] - 0s 275us/sample - loss: 0.0561 - accuracy: 0.9809\n",
      "Epoch 71/100\n",
      "1149/1149 [==============================] - 0s 300us/sample - loss: 0.0539 - accuracy: 0.9817\n",
      "Epoch 72/100\n",
      "1149/1149 [==============================] - 0s 298us/sample - loss: 0.0529 - accuracy: 0.9817\n",
      "Epoch 73/100\n",
      "1149/1149 [==============================] - 0s 258us/sample - loss: 0.0521 - accuracy: 0.9843\n",
      "Epoch 74/100\n",
      "1149/1149 [==============================] - 0s 252us/sample - loss: 0.0487 - accuracy: 0.9835\n",
      "Epoch 75/100\n",
      "1149/1149 [==============================] - 0s 251us/sample - loss: 0.0495 - accuracy: 0.9878\n"
     ]
    },
    {
     "name": "stdout",
     "output_type": "stream",
     "text": [
      "Epoch 76/100\n",
      "1149/1149 [==============================] - 0s 267us/sample - loss: 0.0471 - accuracy: 0.9887\n",
      "Epoch 77/100\n",
      "1149/1149 [==============================] - 0s 297us/sample - loss: 0.0456 - accuracy: 0.9904\n",
      "Epoch 78/100\n",
      "1149/1149 [==============================] - 0s 268us/sample - loss: 0.0454 - accuracy: 0.9887\n",
      "Epoch 79/100\n",
      "1149/1149 [==============================] - 0s 259us/sample - loss: 0.0454 - accuracy: 0.9826\n",
      "Epoch 80/100\n",
      "1149/1149 [==============================] - 0s 261us/sample - loss: 0.0444 - accuracy: 0.9869\n",
      "Epoch 81/100\n",
      "1149/1149 [==============================] - 0s 248us/sample - loss: 0.0411 - accuracy: 0.9896\n",
      "Epoch 82/100\n",
      "1149/1149 [==============================] - 0s 286us/sample - loss: 0.0377 - accuracy: 0.9939\n",
      "Epoch 83/100\n",
      "1149/1149 [==============================] - 0s 309us/sample - loss: 0.0389 - accuracy: 0.9896\n",
      "Epoch 84/100\n",
      "1149/1149 [==============================] - 0s 265us/sample - loss: 0.0390 - accuracy: 0.9922\n",
      "Epoch 85/100\n",
      "1149/1149 [==============================] - 0s 260us/sample - loss: 0.0368 - accuracy: 0.9922\n",
      "Epoch 86/100\n",
      "1149/1149 [==============================] - 0s 406us/sample - loss: 0.0362 - accuracy: 0.9922\n",
      "Epoch 87/100\n",
      "1149/1149 [==============================] - 0s 325us/sample - loss: 0.0358 - accuracy: 0.9913\n",
      "Epoch 88/100\n",
      "1149/1149 [==============================] - 0s 305us/sample - loss: 0.0355 - accuracy: 0.9887\n",
      "Epoch 89/100\n",
      "1149/1149 [==============================] - 0s 324us/sample - loss: 0.0340 - accuracy: 0.9948\n",
      "Epoch 90/100\n",
      "1149/1149 [==============================] - 0s 262us/sample - loss: 0.0322 - accuracy: 0.9913\n",
      "Epoch 91/100\n",
      "1149/1149 [==============================] - 0s 258us/sample - loss: 0.0316 - accuracy: 0.9930\n",
      "Epoch 92/100\n",
      "1149/1149 [==============================] - 0s 292us/sample - loss: 0.0313 - accuracy: 0.9939\n",
      "Epoch 93/100\n",
      "1149/1149 [==============================] - 0s 306us/sample - loss: 0.0300 - accuracy: 0.9956\n",
      "Epoch 94/100\n",
      "1149/1149 [==============================] - 0s 299us/sample - loss: 0.0312 - accuracy: 0.9930\n",
      "Epoch 95/100\n",
      "1149/1149 [==============================] - 0s 273us/sample - loss: 0.0289 - accuracy: 0.9965\n",
      "Epoch 96/100\n",
      "1149/1149 [==============================] - 0s 412us/sample - loss: 0.0287 - accuracy: 0.9948\n",
      "Epoch 97/100\n",
      "1149/1149 [==============================] - 0s 310us/sample - loss: 0.0281 - accuracy: 0.9965\n",
      "Epoch 98/100\n",
      "1149/1149 [==============================] - 0s 340us/sample - loss: 0.0267 - accuracy: 0.9983\n",
      "Epoch 99/100\n",
      "1149/1149 [==============================] - 0s 384us/sample - loss: 0.0262 - accuracy: 0.9939\n",
      "Epoch 100/100\n",
      "1149/1149 [==============================] - 0s 302us/sample - loss: 0.0256 - accuracy: 0.9965\n"
     ]
    }
   ],
   "source": [
    "model = Sequential()\n",
    "model.add(Dense(12, activation='relu', input_dim=64))\n",
    "model.add(Dense(8, activation='relu'))\n",
    "model.add(Dense(1, activation='sigmoid'))\n",
    "\n",
    "model.compile(optimizer='SGD',\n",
    "              loss='binary_crossentropy',\n",
    "              metrics=['accuracy'])\n",
    "\n",
    "# Assign the variable history to store the results,\n",
    "# and set verbose=1 so we can see the output.\n",
    "# increase epochs, decrease batchsize\n",
    "\n",
    "\n",
    "results = model.fit(X_pure_train, y_pure_train, epochs=100, batch_size=10, verbose=1)"
   ]
  },
  {
   "cell_type": "code",
   "execution_count": 17,
   "metadata": {
    "ExecuteTime": {
     "end_time": "2022-05-05T18:17:51.946259Z",
     "start_time": "2022-05-05T18:17:51.486538Z"
    }
   },
   "outputs": [
    {
     "data": {
      "image/png": "[encoded data removed]",
      "text/plain": [
       "<Figure size 720x360 with 2 Axes>"
      ]
     },
     "metadata": {
      "needs_background": "light"
     },
     "output_type": "display_data"
    }
   ],
   "source": [
    "relu_loss = results.history['loss']\n",
    "relu_accuracy = results.history['accuracy']\n",
    "\n",
    "fig, (ax1, ax2) = plt.subplots(1, 2, figsize=(10, 5))\n",
    "sns.lineplot(x=results.epoch, y=relu_loss, ax=ax1, label='loss')\n",
    "sns.lineplot(x=results.epoch, y=relu_accuracy, ax=ax2, label='accuracy')\n",
    "ax1.legend();"
   ]
  },
  {
   "cell_type": "markdown",
   "metadata": {
    "heading_collapsed": true
   },
   "source": [
    "### All of it (epochs, batch, relu)"
   ]
  },
  {
   "cell_type": "code",
   "execution_count": null,
   "metadata": {
    "hidden": true
   },
   "outputs": [],
   "source": [
    "model = Sequential()\n",
    "model.add(Dense(12, activation='relu', input_dim=64))\n",
    "model.add(Dense(8, activation='relu'))\n",
    "model.add(Dense(1, activation='sigmoid'))\n",
    "\n",
    "model.compile(optimizer='SGD',\n",
    "              loss='binary_crossentropy',\n",
    "              metrics=['accuracy'])\n",
    "\n",
    "# Assign the variable history to store the results,\n",
    "# and set verbose=1 so we can see the output.\n",
    "# increase epochs\n",
    "\n",
    "\n"
   ]
  },
  {
   "cell_type": "code",
   "execution_count": null,
   "metadata": {
    "hidden": true
   },
   "outputs": [],
   "source": [
    "relu_loss = results.history['loss']\n",
    "relu_accuracy = results.history['accuracy']\n",
    "\n",
    "fig, (ax1, ax2) = plt.subplots(1, 2, figsize=(10, 5))\n",
    "sns.lineplot(x=results.epoch, y=relu_loss, ax=ax1, label='loss')\n",
    "sns.lineplot(x=results.epoch, y=relu_accuracy, ax=ax2, label='accuracy')\n",
    "ax1.legend();"
   ]
  },
  {
   "cell_type": "markdown",
   "metadata": {},
   "source": [
    "### Side note: learning rate\n",
    "\n",
    "If we increase the learning rate to a very high number, we see that our model overshoots the minimum, and starts bouncing all around."
   ]
  },
  {
   "cell_type": "code",
   "execution_count": 18,
   "metadata": {
    "ExecuteTime": {
     "end_time": "2022-05-05T18:20:04.390300Z",
     "start_time": "2022-05-05T18:19:51.433639Z"
    }
   },
   "outputs": [
    {
     "name": "stdout",
     "output_type": "stream",
     "text": [
      "Train on 1149 samples\n",
      "Epoch 1/30\n",
      "1149/1149 [==============================] - 1s 1ms/sample - loss: 1.0582 - accuracy: 0.5196\n",
      "Epoch 2/30\n",
      "1149/1149 [==============================] - 0s 298us/sample - loss: 1.0027 - accuracy: 0.4909\n",
      "Epoch 3/30\n",
      "1149/1149 [==============================] - 0s 318us/sample - loss: 1.0484 - accuracy: 0.4856\n",
      "Epoch 4/30\n",
      "1149/1149 [==============================] - 0s 318us/sample - loss: 1.0197 - accuracy: 0.4883\n",
      "Epoch 5/30\n",
      "1149/1149 [==============================] - 0s 341us/sample - loss: 1.0239 - accuracy: 0.4848\n",
      "Epoch 6/30\n",
      "1149/1149 [==============================] - 0s 323us/sample - loss: 1.0085 - accuracy: 0.4813\n",
      "Epoch 7/30\n",
      "1149/1149 [==============================] - 0s 292us/sample - loss: 1.0385 - accuracy: 0.4717\n",
      "Epoch 8/30\n",
      "1149/1149 [==============================] - 0s 288us/sample - loss: 1.0905 - accuracy: 0.4987\n",
      "Epoch 9/30\n",
      "1149/1149 [==============================] - 0s 308us/sample - loss: 0.9516 - accuracy: 0.5074\n",
      "Epoch 10/30\n",
      "1149/1149 [==============================] - 0s 335us/sample - loss: 0.9820 - accuracy: 0.5013\n",
      "Epoch 11/30\n",
      "1149/1149 [==============================] - 0s 327us/sample - loss: 0.9891 - accuracy: 0.4909\n",
      "Epoch 12/30\n",
      "1149/1149 [==============================] - 0s 296us/sample - loss: 1.0210 - accuracy: 0.4909\n",
      "Epoch 13/30\n",
      "1149/1149 [==============================] - 0s 347us/sample - loss: 0.9337 - accuracy: 0.4996\n",
      "Epoch 14/30\n",
      "1149/1149 [==============================] - 0s 298us/sample - loss: 0.9565 - accuracy: 0.5057\n",
      "Epoch 15/30\n",
      "1149/1149 [==============================] - 0s 330us/sample - loss: 1.0230 - accuracy: 0.5013\n",
      "Epoch 16/30\n",
      "1149/1149 [==============================] - 0s 342us/sample - loss: 0.9474 - accuracy: 0.5126\n",
      "Epoch 17/30\n",
      "1149/1149 [==============================] - 0s 329us/sample - loss: 0.9909 - accuracy: 0.4978\n",
      "Epoch 18/30\n",
      "1149/1149 [==============================] - 0s 333us/sample - loss: 0.9582 - accuracy: 0.5178\n",
      "Epoch 19/30\n",
      "1149/1149 [==============================] - 0s 391us/sample - loss: 0.9943 - accuracy: 0.4874\n",
      "Epoch 20/30\n",
      "1149/1149 [==============================] - 0s 355us/sample - loss: 0.9383 - accuracy: 0.5074\n",
      "Epoch 21/30\n",
      "1149/1149 [==============================] - 0s 339us/sample - loss: 0.9987 - accuracy: 0.4943\n",
      "Epoch 22/30\n",
      "1149/1149 [==============================] - 0s 319us/sample - loss: 1.0071 - accuracy: 0.4970\n",
      "Epoch 23/30\n",
      "1149/1149 [==============================] - 0s 357us/sample - loss: 0.9690 - accuracy: 0.5213\n",
      "Epoch 24/30\n",
      "1149/1149 [==============================] - 0s 362us/sample - loss: 0.9620 - accuracy: 0.5178\n",
      "Epoch 25/30\n",
      "1149/1149 [==============================] - 0s 344us/sample - loss: 1.0359 - accuracy: 0.4900\n",
      "Epoch 26/30\n",
      "1149/1149 [==============================] - 0s 364us/sample - loss: 1.1088 - accuracy: 0.4883\n",
      "Epoch 27/30\n",
      "1149/1149 [==============================] - 0s 344us/sample - loss: 1.0775 - accuracy: 0.4743\n",
      "Epoch 28/30\n",
      "1149/1149 [==============================] - 0s 359us/sample - loss: 0.9656 - accuracy: 0.4909\n",
      "Epoch 29/30\n",
      "1149/1149 [==============================] - 0s 379us/sample - loss: 1.0310 - accuracy: 0.4961\n",
      "Epoch 30/30\n",
      "1149/1149 [==============================] - 0s 311us/sample - loss: 0.9224 - accuracy: 0.5222\n"
     ]
    },
    {
     "data": {
      "image/png": "[encoded data removed]",
      "text/plain": [
       "<Figure size 720x360 with 2 Axes>"
      ]
     },
     "metadata": {
      "needs_background": "light"
     },
     "output_type": "display_data"
    }
   ],
   "source": [
    "model = Sequential()\n",
    "\n",
    "sgd = SGD(lr=9)\n",
    "\n",
    "\n",
    "model.add(Dense(12, activation='relu', input_dim=64))\n",
    "model.add(Dense(8, activation='relu'))\n",
    "model.add(Dense(1, activation='sigmoid'))\n",
    "\n",
    "model.compile(optimizer=sgd,\n",
    "              loss='binary_crossentropy',\n",
    "              metrics=['accuracy'])\n",
    "\n",
    "results = model.fit(X_pure_train, y_pure_train,\n",
    "                    epochs=30, batch_size=10, verbose=1)\n",
    "\n",
    "relu_loss = results.history['loss']\n",
    "relu_accuracy = results.history['accuracy']\n",
    "\n",
    "fig, (ax1, ax2) = plt.subplots(1, 2, figsize=(10, 5))\n",
    "sns.lineplot(x=results.epoch, y=relu_loss, ax=ax1, label='loss')\n",
    "sns.lineplot(x=results.epoch, y=relu_accuracy, ax=ax2, label='accuracy')\n",
    "ax1.legend();"
   ]
  },
  {
   "cell_type": "markdown",
   "metadata": {},
   "source": [
    "### Exercise\n",
    "\n",
    "We have been looking only at our training set. Let's add in our validation set to the picture. Check the docstring for the `.fit()` method and add in our validation data."
   ]
  },
  {
   "cell_type": "code",
   "execution_count": 23,
   "metadata": {
    "ExecuteTime": {
     "end_time": "2022-05-05T18:26:11.059528Z",
     "start_time": "2022-05-05T18:25:12.326904Z"
    },
    "scrolled": false
   },
   "outputs": [
    {
     "name": "stdout",
     "output_type": "stream",
     "text": [
      "Train on 1149 samples, validate on 288 samples\n",
      "Epoch 1/100\n",
      "1149/1149 - 2s - loss: 0.6738 - accuracy: 0.5744 - val_loss: 0.6390 - val_accuracy: 0.6528\n",
      "Epoch 2/100\n",
      "1149/1149 - 0s - loss: 0.5964 - accuracy: 0.7258 - val_loss: 0.5406 - val_accuracy: 0.8333\n",
      "Epoch 3/100\n",
      "1149/1149 - 0s - loss: 0.5062 - accuracy: 0.8268 - val_loss: 0.4678 - val_accuracy: 0.8750\n",
      "Epoch 4/100\n",
      "1149/1149 - 0s - loss: 0.4492 - accuracy: 0.8634 - val_loss: 0.4259 - val_accuracy: 0.8854\n",
      "Epoch 5/100\n",
      "1149/1149 - 0s - loss: 0.4058 - accuracy: 0.8938 - val_loss: 0.3807 - val_accuracy: 0.8958\n",
      "Epoch 6/100\n",
      "1149/1149 - 0s - loss: 0.3747 - accuracy: 0.9060 - val_loss: 0.3612 - val_accuracy: 0.9132\n",
      "Epoch 7/100\n",
      "1149/1149 - 0s - loss: 0.3488 - accuracy: 0.9147 - val_loss: 0.3343 - val_accuracy: 0.9132\n",
      "Epoch 8/100\n",
      "1149/1149 - 0s - loss: 0.3266 - accuracy: 0.9225 - val_loss: 0.3196 - val_accuracy: 0.9236\n",
      "Epoch 9/100\n",
      "1149/1149 - 0s - loss: 0.3074 - accuracy: 0.9321 - val_loss: 0.2984 - val_accuracy: 0.9271\n",
      "Epoch 10/100\n",
      "1149/1149 - 0s - loss: 0.2939 - accuracy: 0.9286 - val_loss: 0.2898 - val_accuracy: 0.9271\n",
      "Epoch 11/100\n",
      "1149/1149 - 0s - loss: 0.2785 - accuracy: 0.9373 - val_loss: 0.2756 - val_accuracy: 0.9306\n",
      "Epoch 12/100\n",
      "1149/1149 - 0s - loss: 0.2626 - accuracy: 0.9408 - val_loss: 0.2659 - val_accuracy: 0.9306\n",
      "Epoch 13/100\n",
      "1149/1149 - 0s - loss: 0.2489 - accuracy: 0.9382 - val_loss: 0.2563 - val_accuracy: 0.9271\n",
      "Epoch 14/100\n",
      "1149/1149 - 0s - loss: 0.2389 - accuracy: 0.9443 - val_loss: 0.2429 - val_accuracy: 0.9306\n",
      "Epoch 15/100\n",
      "1149/1149 - 0s - loss: 0.2264 - accuracy: 0.9469 - val_loss: 0.2358 - val_accuracy: 0.9375\n",
      "Epoch 16/100\n",
      "1149/1149 - 0s - loss: 0.2173 - accuracy: 0.9487 - val_loss: 0.2375 - val_accuracy: 0.9271\n",
      "Epoch 17/100\n",
      "1149/1149 - 0s - loss: 0.2128 - accuracy: 0.9434 - val_loss: 0.2201 - val_accuracy: 0.9375\n",
      "Epoch 18/100\n",
      "1149/1149 - 0s - loss: 0.2055 - accuracy: 0.9521 - val_loss: 0.2154 - val_accuracy: 0.9410\n",
      "Epoch 19/100\n",
      "1149/1149 - 0s - loss: 0.1942 - accuracy: 0.9556 - val_loss: 0.2016 - val_accuracy: 0.9444\n",
      "Epoch 20/100\n",
      "1149/1149 - 0s - loss: 0.1820 - accuracy: 0.9600 - val_loss: 0.2040 - val_accuracy: 0.9375\n",
      "Epoch 21/100\n",
      "1149/1149 - 0s - loss: 0.1737 - accuracy: 0.9608 - val_loss: 0.1896 - val_accuracy: 0.9479\n",
      "Epoch 22/100\n",
      "1149/1149 - 0s - loss: 0.1688 - accuracy: 0.9617 - val_loss: 0.1839 - val_accuracy: 0.9479\n",
      "Epoch 23/100\n",
      "1149/1149 - 1s - loss: 0.1620 - accuracy: 0.9661 - val_loss: 0.1749 - val_accuracy: 0.9549\n",
      "Epoch 24/100\n",
      "1149/1149 - 0s - loss: 0.1584 - accuracy: 0.9634 - val_loss: 0.1775 - val_accuracy: 0.9479\n",
      "Epoch 25/100\n",
      "1149/1149 - 1s - loss: 0.1503 - accuracy: 0.9687 - val_loss: 0.1686 - val_accuracy: 0.9549\n",
      "Epoch 26/100\n",
      "1149/1149 - 1s - loss: 0.1448 - accuracy: 0.9661 - val_loss: 0.1633 - val_accuracy: 0.9549\n",
      "Epoch 27/100\n",
      "1149/1149 - 1s - loss: 0.1387 - accuracy: 0.9695 - val_loss: 0.1564 - val_accuracy: 0.9549\n",
      "Epoch 28/100\n",
      "1149/1149 - 1s - loss: 0.1289 - accuracy: 0.9695 - val_loss: 0.1517 - val_accuracy: 0.9583\n",
      "Epoch 29/100\n",
      "1149/1149 - 1s - loss: 0.1215 - accuracy: 0.9756 - val_loss: 0.1396 - val_accuracy: 0.9618\n",
      "Epoch 30/100\n",
      "1149/1149 - 1s - loss: 0.1100 - accuracy: 0.9817 - val_loss: 0.1357 - val_accuracy: 0.9618\n",
      "Epoch 31/100\n",
      "1149/1149 - 1s - loss: 0.1043 - accuracy: 0.9800 - val_loss: 0.1383 - val_accuracy: 0.9583\n",
      "Epoch 32/100\n",
      "1149/1149 - 1s - loss: 0.0993 - accuracy: 0.9817 - val_loss: 0.1297 - val_accuracy: 0.9618\n",
      "Epoch 33/100\n",
      "1149/1149 - 1s - loss: 0.0901 - accuracy: 0.9843 - val_loss: 0.1150 - val_accuracy: 0.9688\n",
      "Epoch 34/100\n",
      "1149/1149 - 1s - loss: 0.0855 - accuracy: 0.9861 - val_loss: 0.1155 - val_accuracy: 0.9688\n",
      "Epoch 35/100\n",
      "1149/1149 - 1s - loss: 0.0775 - accuracy: 0.9887 - val_loss: 0.1120 - val_accuracy: 0.9653\n",
      "Epoch 36/100\n",
      "1149/1149 - 1s - loss: 0.0723 - accuracy: 0.9913 - val_loss: 0.1153 - val_accuracy: 0.9722\n",
      "Epoch 37/100\n",
      "1149/1149 - 1s - loss: 0.0668 - accuracy: 0.9922 - val_loss: 0.1006 - val_accuracy: 0.9688\n",
      "Epoch 38/100\n",
      "1149/1149 - 1s - loss: 0.0659 - accuracy: 0.9913 - val_loss: 0.0973 - val_accuracy: 0.9722\n",
      "Epoch 39/100\n",
      "1149/1149 - 1s - loss: 0.0577 - accuracy: 0.9922 - val_loss: 0.0952 - val_accuracy: 0.9688\n",
      "Epoch 40/100\n",
      "1149/1149 - 1s - loss: 0.0552 - accuracy: 0.9956 - val_loss: 0.0949 - val_accuracy: 0.9688\n",
      "Epoch 41/100\n",
      "1149/1149 - 1s - loss: 0.0559 - accuracy: 0.9930 - val_loss: 0.0958 - val_accuracy: 0.9688\n",
      "Epoch 42/100\n",
      "1149/1149 - 1s - loss: 0.0513 - accuracy: 0.9939 - val_loss: 0.1017 - val_accuracy: 0.9722\n",
      "Epoch 43/100\n",
      "1149/1149 - 1s - loss: 0.0478 - accuracy: 0.9948 - val_loss: 0.0956 - val_accuracy: 0.9688\n",
      "Epoch 44/100\n",
      "1149/1149 - 1s - loss: 0.0438 - accuracy: 0.9974 - val_loss: 0.1048 - val_accuracy: 0.9688\n",
      "Epoch 45/100\n",
      "1149/1149 - 1s - loss: 0.0436 - accuracy: 0.9956 - val_loss: 0.0924 - val_accuracy: 0.9688\n",
      "Epoch 46/100\n",
      "1149/1149 - 1s - loss: 0.0433 - accuracy: 0.9956 - val_loss: 0.0957 - val_accuracy: 0.9792\n",
      "Epoch 47/100\n",
      "1149/1149 - 1s - loss: 0.0422 - accuracy: 0.9948 - val_loss: 0.0930 - val_accuracy: 0.9722\n",
      "Epoch 48/100\n",
      "1149/1149 - 1s - loss: 0.0354 - accuracy: 0.9974 - val_loss: 0.0857 - val_accuracy: 0.9722\n",
      "Epoch 49/100\n",
      "1149/1149 - 1s - loss: 0.0337 - accuracy: 0.9974 - val_loss: 0.0865 - val_accuracy: 0.9653\n",
      "Epoch 50/100\n",
      "1149/1149 - 1s - loss: 0.0321 - accuracy: 0.9974 - val_loss: 0.1215 - val_accuracy: 0.9722\n",
      "Epoch 51/100\n",
      "1149/1149 - 1s - loss: 0.0313 - accuracy: 0.9974 - val_loss: 0.0825 - val_accuracy: 0.9688\n",
      "Epoch 52/100\n",
      "1149/1149 - 1s - loss: 0.0282 - accuracy: 0.9983 - val_loss: 0.1025 - val_accuracy: 0.9722\n",
      "Epoch 53/100\n",
      "1149/1149 - 1s - loss: 0.0270 - accuracy: 1.0000 - val_loss: 0.0864 - val_accuracy: 0.9722\n",
      "Epoch 54/100\n",
      "1149/1149 - 1s - loss: 0.0248 - accuracy: 0.9983 - val_loss: 0.0845 - val_accuracy: 0.9792\n",
      "Epoch 55/100\n",
      "1149/1149 - 1s - loss: 0.0231 - accuracy: 0.9991 - val_loss: 0.0922 - val_accuracy: 0.9757\n",
      "Epoch 56/100\n",
      "1149/1149 - 1s - loss: 0.0224 - accuracy: 1.0000 - val_loss: 0.0832 - val_accuracy: 0.9722\n",
      "Epoch 57/100\n",
      "1149/1149 - 1s - loss: 0.0218 - accuracy: 0.9991 - val_loss: 0.0787 - val_accuracy: 0.9722\n",
      "Epoch 58/100\n",
      "1149/1149 - 1s - loss: 0.0210 - accuracy: 0.9991 - val_loss: 0.0978 - val_accuracy: 0.9757\n",
      "Epoch 59/100\n",
      "1149/1149 - 1s - loss: 0.0186 - accuracy: 1.0000 - val_loss: 0.0922 - val_accuracy: 0.9688\n",
      "Epoch 60/100\n",
      "1149/1149 - 1s - loss: 0.0174 - accuracy: 1.0000 - val_loss: 0.0823 - val_accuracy: 0.9722\n",
      "Epoch 61/100\n",
      "1149/1149 - 1s - loss: 0.0168 - accuracy: 0.9991 - val_loss: 0.0899 - val_accuracy: 0.9792\n",
      "Epoch 62/100\n",
      "1149/1149 - 1s - loss: 0.0157 - accuracy: 1.0000 - val_loss: 0.0840 - val_accuracy: 0.9688\n",
      "Epoch 63/100\n",
      "1149/1149 - 1s - loss: 0.0153 - accuracy: 1.0000 - val_loss: 0.0825 - val_accuracy: 0.9688\n",
      "Epoch 64/100\n",
      "1149/1149 - 1s - loss: 0.0143 - accuracy: 1.0000 - val_loss: 0.0942 - val_accuracy: 0.9757\n",
      "Epoch 65/100\n",
      "1149/1149 - 1s - loss: 0.0146 - accuracy: 1.0000 - val_loss: 0.1027 - val_accuracy: 0.9722\n",
      "Epoch 66/100\n",
      "1149/1149 - 1s - loss: 0.0127 - accuracy: 1.0000 - val_loss: 0.1067 - val_accuracy: 0.9757\n",
      "Epoch 67/100\n",
      "1149/1149 - 1s - loss: 0.0124 - accuracy: 1.0000 - val_loss: 0.0905 - val_accuracy: 0.9757\n",
      "Epoch 68/100\n",
      "1149/1149 - 1s - loss: 0.0126 - accuracy: 0.9991 - val_loss: 0.1006 - val_accuracy: 0.9757\n",
      "Epoch 69/100\n",
      "1149/1149 - 1s - loss: 0.0114 - accuracy: 1.0000 - val_loss: 0.0872 - val_accuracy: 0.9722\n",
      "Epoch 70/100\n",
      "1149/1149 - 1s - loss: 0.0127 - accuracy: 0.9991 - val_loss: 0.1095 - val_accuracy: 0.9792\n",
      "Epoch 71/100\n",
      "1149/1149 - 1s - loss: 0.0153 - accuracy: 0.9983 - val_loss: 0.0882 - val_accuracy: 0.9826\n",
      "Epoch 72/100\n",
      "1149/1149 - 1s - loss: 0.0138 - accuracy: 0.9991 - val_loss: 0.0965 - val_accuracy: 0.9757\n",
      "Epoch 73/100\n",
      "1149/1149 - 1s - loss: 0.0107 - accuracy: 0.9991 - val_loss: 0.1106 - val_accuracy: 0.9722\n",
      "Epoch 74/100\n",
      "1149/1149 - 1s - loss: 0.0084 - accuracy: 1.0000 - val_loss: 0.1043 - val_accuracy: 0.9757\n",
      "Epoch 75/100\n",
      "1149/1149 - 1s - loss: 0.0078 - accuracy: 1.0000 - val_loss: 0.0958 - val_accuracy: 0.9757\n",
      "Epoch 76/100\n",
      "1149/1149 - 1s - loss: 0.0074 - accuracy: 1.0000 - val_loss: 0.0989 - val_accuracy: 0.9757\n",
      "Epoch 77/100\n",
      "1149/1149 - 1s - loss: 0.0071 - accuracy: 1.0000 - val_loss: 0.1067 - val_accuracy: 0.9757\n",
      "Epoch 78/100\n",
      "1149/1149 - 1s - loss: 0.0067 - accuracy: 1.0000 - val_loss: 0.1124 - val_accuracy: 0.9792\n",
      "Epoch 79/100\n",
      "1149/1149 - 1s - loss: 0.0066 - accuracy: 1.0000 - val_loss: 0.1114 - val_accuracy: 0.9757\n"
     ]
    },
    {
     "name": "stdout",
     "output_type": "stream",
     "text": [
      "Epoch 80/100\n",
      "1149/1149 - 1s - loss: 0.0061 - accuracy: 1.0000 - val_loss: 0.1117 - val_accuracy: 0.9757\n",
      "Epoch 81/100\n",
      "1149/1149 - 1s - loss: 0.0060 - accuracy: 1.0000 - val_loss: 0.1075 - val_accuracy: 0.9792\n",
      "Epoch 82/100\n",
      "1149/1149 - 1s - loss: 0.0055 - accuracy: 1.0000 - val_loss: 0.0971 - val_accuracy: 0.9757\n",
      "Epoch 83/100\n",
      "1149/1149 - 1s - loss: 0.0054 - accuracy: 1.0000 - val_loss: 0.1123 - val_accuracy: 0.9757\n",
      "Epoch 84/100\n",
      "1149/1149 - 1s - loss: 0.0050 - accuracy: 1.0000 - val_loss: 0.1098 - val_accuracy: 0.9757\n",
      "Epoch 85/100\n",
      "1149/1149 - 1s - loss: 0.0049 - accuracy: 1.0000 - val_loss: 0.1147 - val_accuracy: 0.9757\n",
      "Epoch 86/100\n",
      "1149/1149 - 1s - loss: 0.0047 - accuracy: 1.0000 - val_loss: 0.1229 - val_accuracy: 0.9792\n",
      "Epoch 87/100\n",
      "1149/1149 - 1s - loss: 0.0044 - accuracy: 1.0000 - val_loss: 0.1155 - val_accuracy: 0.9792\n",
      "Epoch 88/100\n",
      "1149/1149 - 1s - loss: 0.0044 - accuracy: 1.0000 - val_loss: 0.1043 - val_accuracy: 0.9792\n",
      "Epoch 89/100\n",
      "1149/1149 - 1s - loss: 0.0041 - accuracy: 1.0000 - val_loss: 0.1184 - val_accuracy: 0.9792\n",
      "Epoch 90/100\n",
      "1149/1149 - 1s - loss: 0.0038 - accuracy: 1.0000 - val_loss: 0.1148 - val_accuracy: 0.9792\n",
      "Epoch 91/100\n",
      "1149/1149 - 1s - loss: 0.0036 - accuracy: 1.0000 - val_loss: 0.1165 - val_accuracy: 0.9792\n",
      "Epoch 92/100\n",
      "1149/1149 - 1s - loss: 0.0034 - accuracy: 1.0000 - val_loss: 0.1074 - val_accuracy: 0.9792\n",
      "Epoch 93/100\n",
      "1149/1149 - 1s - loss: 0.0033 - accuracy: 1.0000 - val_loss: 0.1167 - val_accuracy: 0.9792\n",
      "Epoch 94/100\n",
      "1149/1149 - 1s - loss: 0.0032 - accuracy: 1.0000 - val_loss: 0.1136 - val_accuracy: 0.9792\n",
      "Epoch 95/100\n",
      "1149/1149 - 1s - loss: 0.0030 - accuracy: 1.0000 - val_loss: 0.1214 - val_accuracy: 0.9757\n",
      "Epoch 96/100\n",
      "1149/1149 - 1s - loss: 0.0028 - accuracy: 1.0000 - val_loss: 0.1053 - val_accuracy: 0.9792\n",
      "Epoch 97/100\n",
      "1149/1149 - 1s - loss: 0.0028 - accuracy: 1.0000 - val_loss: 0.1089 - val_accuracy: 0.9792\n",
      "Epoch 98/100\n",
      "1149/1149 - 1s - loss: 0.0028 - accuracy: 1.0000 - val_loss: 0.1287 - val_accuracy: 0.9757\n",
      "Epoch 99/100\n",
      "1149/1149 - 1s - loss: 0.0025 - accuracy: 1.0000 - val_loss: 0.1198 - val_accuracy: 0.9757\n",
      "Epoch 100/100\n",
      "1149/1149 - 1s - loss: 0.0024 - accuracy: 1.0000 - val_loss: 0.1205 - val_accuracy: 0.9757\n"
     ]
    },
    {
     "data": {
      "image/png": "[encoded data removed]",
      "text/plain": [
       "<Figure size 720x360 with 2 Axes>"
      ]
     },
     "metadata": {
      "needs_background": "light"
     },
     "output_type": "display_data"
    }
   ],
   "source": [
    "model = Sequential()\n",
    "model.add(Dense(12, activation='relu', input_dim=64))\n",
    "model.add(Dense(8, activation='relu'))\n",
    "model.add(Dense(4, activation='relu'))\n",
    "model.add(Dense(1, activation='sigmoid'))\n",
    "\n",
    "model.compile(optimizer='adam',\n",
    "              loss='binary_crossentropy',\n",
    "              metrics=['accuracy'])\n",
    "\n",
    "\n",
    "## YOUR CODE HERE\n",
    "\n",
    "results = model.fit(X_pure_train, y_pure_train, \n",
    "                    epochs=100, \n",
    "                    batch_size=10, \n",
    "                    verbose=2, \n",
    "                    validation_data=(X_val, y_val) )\n",
    "\n",
    "\n",
    "\n",
    "train_loss = results.history['loss']\n",
    "train_acc = results.history['accuracy']\n",
    "val_loss = results.history['val_loss']\n",
    "val_acc = results.history['val_accuracy']\n",
    "\n",
    "fig, (ax1, ax2) = plt.subplots(1, 2, figsize=(10, 5))\n",
    "sns.lineplot(x=results.epoch, y=train_loss, ax=ax1, label='train_loss')\n",
    "sns.lineplot(x=results.epoch, y=train_acc, ax=ax2, label='train_accuracy')\n",
    "\n",
    "sns.lineplot(x=results.epoch, y=val_loss, ax=ax1, label='val_loss')\n",
    "sns.lineplot(x=results.epoch, y=val_acc, ax=ax2, label='val_accuracy')\n",
    "ax1.set_title('Loss')\n",
    "ax2.set_title('Accuracy')\n",
    "ax1.legend();"
   ]
  },
  {
   "cell_type": "code",
   "execution_count": 24,
   "metadata": {
    "ExecuteTime": {
     "end_time": "2022-05-05T18:26:49.762089Z",
     "start_time": "2022-05-05T18:26:49.644627Z"
    }
   },
   "outputs": [
    {
     "data": {
      "text/plain": [
       "{'loss': [0.6737505975134794,\n",
       "  0.5964112908452153,\n",
       "  0.5062087099639305,\n",
       "  0.44924185559270274,\n",
       "  0.4057811519651438,\n",
       "  0.37469002703047505,\n",
       "  0.34884181963660804,\n",
       "  0.3266209407123511,\n",
       "  0.3074333569062493,\n",
       "  0.29386710371008323,\n",
       "  0.2784899655531758,\n",
       "  0.2626481665747388,\n",
       "  0.2488628746739048,\n",
       "  0.23892743205951544,\n",
       "  0.22640418660080464,\n",
       "  0.21728889760865244,\n",
       "  0.21279249779938406,\n",
       "  0.20552868956296313,\n",
       "  0.1942171216841051,\n",
       "  0.18200854665305533,\n",
       "  0.17372580230223084,\n",
       "  0.1687670115793239,\n",
       "  0.16201907841795107,\n",
       "  0.15842195932272726,\n",
       "  0.15026381238970785,\n",
       "  0.14484971050688555,\n",
       "  0.13874631242144098,\n",
       "  0.1288990893176683,\n",
       "  0.12154431151529309,\n",
       "  0.11001154102443404,\n",
       "  0.10428656676575036,\n",
       "  0.09928797918158681,\n",
       "  0.0901484277692694,\n",
       "  0.08550964327961907,\n",
       "  0.07751165270429264,\n",
       "  0.07231467287562743,\n",
       "  0.06682740428117796,\n",
       "  0.06588857042545646,\n",
       "  0.05768718602244391,\n",
       "  0.05515299513903621,\n",
       "  0.05591089248631289,\n",
       "  0.05129970995639593,\n",
       "  0.047762604978250044,\n",
       "  0.04378207045744252,\n",
       "  0.04356495067769024,\n",
       "  0.0433039006179732,\n",
       "  0.04218065992218189,\n",
       "  0.0354041390759697,\n",
       "  0.03368851746245246,\n",
       "  0.0321217005013823,\n",
       "  0.0313400522310504,\n",
       "  0.028247064786814834,\n",
       "  0.026959239343931823,\n",
       "  0.02480535938836524,\n",
       "  0.023096164262118392,\n",
       "  0.022357683863451914,\n",
       "  0.021832162245226175,\n",
       "  0.020987838936290398,\n",
       "  0.018577387801219942,\n",
       "  0.017433791360562525,\n",
       "  0.016789559662760314,\n",
       "  0.01565498010773338,\n",
       "  0.015340677935879732,\n",
       "  0.014302847975843932,\n",
       "  0.014550407393612583,\n",
       "  0.012660941193763773,\n",
       "  0.01242950295476653,\n",
       "  0.01264999309729775,\n",
       "  0.011378599772938211,\n",
       "  0.012681251590353338,\n",
       "  0.015268723439875896,\n",
       "  0.013793318599277704,\n",
       "  0.01068856169083022,\n",
       "  0.008441569950282444,\n",
       "  0.0077910529635198175,\n",
       "  0.0073829822698599935,\n",
       "  0.00709595860673473,\n",
       "  0.006737915668725721,\n",
       "  0.006619418814247012,\n",
       "  0.006106738196450851,\n",
       "  0.005959466649292343,\n",
       "  0.005510385002328117,\n",
       "  0.005436985901604732,\n",
       "  0.005007476101283331,\n",
       "  0.0048694246960439115,\n",
       "  0.004672763760147326,\n",
       "  0.00444930311887354,\n",
       "  0.004434067974583586,\n",
       "  0.0041472266841148095,\n",
       "  0.003802042016986469,\n",
       "  0.003633452884753999,\n",
       "  0.0034419240411152144,\n",
       "  0.0032936432610612015,\n",
       "  0.00317658171139972,\n",
       "  0.002987057705563019,\n",
       "  0.0028222500264735405,\n",
       "  0.0027620177033127937,\n",
       "  0.0027683073769463754,\n",
       "  0.0024853237070045146,\n",
       "  0.0023520194606314873],\n",
       " 'accuracy': [0.5744125,\n",
       "  0.72584856,\n",
       "  0.8268059,\n",
       "  0.86335945,\n",
       "  0.8938207,\n",
       "  0.9060052,\n",
       "  0.91470844,\n",
       "  0.9225413,\n",
       "  0.9321149,\n",
       "  0.9286336,\n",
       "  0.9373368,\n",
       "  0.94081813,\n",
       "  0.93820715,\n",
       "  0.9442994,\n",
       "  0.9469104,\n",
       "  0.948651,\n",
       "  0.94342905,\n",
       "  0.9521323,\n",
       "  0.95561355,\n",
       "  0.95996517,\n",
       "  0.9608355,\n",
       "  0.9617058,\n",
       "  0.9660574,\n",
       "  0.9634465,\n",
       "  0.9686684,\n",
       "  0.9660574,\n",
       "  0.96953875,\n",
       "  0.96953875,\n",
       "  0.975631,\n",
       "  0.98172325,\n",
       "  0.9799826,\n",
       "  0.98172325,\n",
       "  0.98433423,\n",
       "  0.98607486,\n",
       "  0.9886858,\n",
       "  0.99129677,\n",
       "  0.9921671,\n",
       "  0.99129677,\n",
       "  0.9921671,\n",
       "  0.9956484,\n",
       "  0.9930374,\n",
       "  0.99390775,\n",
       "  0.9947781,\n",
       "  0.997389,\n",
       "  0.9956484,\n",
       "  0.9956484,\n",
       "  0.9947781,\n",
       "  0.997389,\n",
       "  0.997389,\n",
       "  0.997389,\n",
       "  0.997389,\n",
       "  0.99825937,\n",
       "  1.0,\n",
       "  0.99825937,\n",
       "  0.99912965,\n",
       "  1.0,\n",
       "  0.99912965,\n",
       "  0.99912965,\n",
       "  1.0,\n",
       "  1.0,\n",
       "  0.99912965,\n",
       "  1.0,\n",
       "  1.0,\n",
       "  1.0,\n",
       "  1.0,\n",
       "  1.0,\n",
       "  1.0,\n",
       "  0.99912965,\n",
       "  1.0,\n",
       "  0.99912965,\n",
       "  0.99825937,\n",
       "  0.99912965,\n",
       "  0.99912965,\n",
       "  1.0,\n",
       "  1.0,\n",
       "  1.0,\n",
       "  1.0,\n",
       "  1.0,\n",
       "  1.0,\n",
       "  1.0,\n",
       "  1.0,\n",
       "  1.0,\n",
       "  1.0,\n",
       "  1.0,\n",
       "  1.0,\n",
       "  1.0,\n",
       "  1.0,\n",
       "  1.0,\n",
       "  1.0,\n",
       "  1.0,\n",
       "  1.0,\n",
       "  1.0,\n",
       "  1.0,\n",
       "  1.0,\n",
       "  1.0,\n",
       "  1.0,\n",
       "  1.0,\n",
       "  1.0,\n",
       "  1.0,\n",
       "  1.0],\n",
       " 'val_loss': [0.638982843193743,\n",
       "  0.540588882441322,\n",
       "  0.46781316171917653,\n",
       "  0.4259135170529286,\n",
       "  0.3807267291057441,\n",
       "  0.3611742983468705,\n",
       "  0.33425026159319615,\n",
       "  0.31960496006326544,\n",
       "  0.29838249780651593,\n",
       "  0.289760359769894,\n",
       "  0.27562505813936394,\n",
       "  0.26592759963952833,\n",
       "  0.256279150231017,\n",
       "  0.2429386655179163,\n",
       "  0.23576988693740633,\n",
       "  0.23747699614614248,\n",
       "  0.2201429395419028,\n",
       "  0.2154168347414169,\n",
       "  0.20159566945706806,\n",
       "  0.20395219000056386,\n",
       "  0.18956834548670384,\n",
       "  0.18393722750867406,\n",
       "  0.17487910193287665,\n",
       "  0.1775477648091813,\n",
       "  0.16863693250343204,\n",
       "  0.1632615088278221,\n",
       "  0.15636576533628008,\n",
       "  0.15174870340464017,\n",
       "  0.13959957353977692,\n",
       "  0.13565444529780912,\n",
       "  0.1383486367089467,\n",
       "  0.12974932331902286,\n",
       "  0.1149531687842682,\n",
       "  0.11553224487902804,\n",
       "  0.11202893214714196,\n",
       "  0.11525254781978826,\n",
       "  0.1005852563927571,\n",
       "  0.09728909141591026,\n",
       "  0.09519336025954948,\n",
       "  0.09494541744546343,\n",
       "  0.09581690022928847,\n",
       "  0.10168361841028349,\n",
       "  0.0956270141242486,\n",
       "  0.10482534759729686,\n",
       "  0.09237253501649118,\n",
       "  0.09569670237316233,\n",
       "  0.09299902797728363,\n",
       "  0.0857137337896145,\n",
       "  0.08650892992995472,\n",
       "  0.12146409500726602,\n",
       "  0.08249484423625593,\n",
       "  0.10248835252908368,\n",
       "  0.0864355780197204,\n",
       "  0.0845045688458615,\n",
       "  0.09217407289866565,\n",
       "  0.08321974308152373,\n",
       "  0.0787049792577616,\n",
       "  0.09777738602133468,\n",
       "  0.09215020126430318,\n",
       "  0.08225499051493695,\n",
       "  0.08987922214631301,\n",
       "  0.08401657377059261,\n",
       "  0.08245262841875148,\n",
       "  0.09415812351896118,\n",
       "  0.1026976366831352,\n",
       "  0.10671152719684567,\n",
       "  0.0904505853411845,\n",
       "  0.10060514297219925,\n",
       "  0.08716008125338703,\n",
       "  0.10954233232769184,\n",
       "  0.08815550364670344,\n",
       "  0.09653340789049657,\n",
       "  0.11063273424062775,\n",
       "  0.10430541558566296,\n",
       "  0.09580591385343319,\n",
       "  0.09889549978025672,\n",
       "  0.10670956144167576,\n",
       "  0.11241482945560063,\n",
       "  0.11140498994629727,\n",
       "  0.11166518312367973,\n",
       "  0.10748577811561215,\n",
       "  0.09709319914852838,\n",
       "  0.11229090008742383,\n",
       "  0.10978459661580725,\n",
       "  0.11468540592047954,\n",
       "  0.12287265168399447,\n",
       "  0.11552732533729998,\n",
       "  0.10425788707410295,\n",
       "  0.11837770213929212,\n",
       "  0.11477298670312545,\n",
       "  0.11645289076760593,\n",
       "  0.10744713365662999,\n",
       "  0.1166518781934024,\n",
       "  0.11357135905564064,\n",
       "  0.12138562532668908,\n",
       "  0.10528251387909728,\n",
       "  0.10885319762180895,\n",
       "  0.1286980250766242,\n",
       "  0.11984070141140062,\n",
       "  0.12054773655028031],\n",
       " 'val_accuracy': [0.6527778,\n",
       "  0.8333333,\n",
       "  0.875,\n",
       "  0.8854167,\n",
       "  0.8958333,\n",
       "  0.9131944,\n",
       "  0.9131944,\n",
       "  0.9236111,\n",
       "  0.9270833,\n",
       "  0.9270833,\n",
       "  0.9305556,\n",
       "  0.9305556,\n",
       "  0.9270833,\n",
       "  0.9305556,\n",
       "  0.9375,\n",
       "  0.9270833,\n",
       "  0.9375,\n",
       "  0.9409722,\n",
       "  0.9444444,\n",
       "  0.9375,\n",
       "  0.9479167,\n",
       "  0.9479167,\n",
       "  0.9548611,\n",
       "  0.9479167,\n",
       "  0.9548611,\n",
       "  0.9548611,\n",
       "  0.9548611,\n",
       "  0.9583333,\n",
       "  0.9618056,\n",
       "  0.9618056,\n",
       "  0.9583333,\n",
       "  0.9618056,\n",
       "  0.96875,\n",
       "  0.96875,\n",
       "  0.9652778,\n",
       "  0.9722222,\n",
       "  0.96875,\n",
       "  0.9722222,\n",
       "  0.96875,\n",
       "  0.96875,\n",
       "  0.96875,\n",
       "  0.9722222,\n",
       "  0.96875,\n",
       "  0.96875,\n",
       "  0.96875,\n",
       "  0.9791667,\n",
       "  0.9722222,\n",
       "  0.9722222,\n",
       "  0.9652778,\n",
       "  0.9722222,\n",
       "  0.96875,\n",
       "  0.9722222,\n",
       "  0.9722222,\n",
       "  0.9791667,\n",
       "  0.9756944,\n",
       "  0.9722222,\n",
       "  0.9722222,\n",
       "  0.9756944,\n",
       "  0.96875,\n",
       "  0.9722222,\n",
       "  0.9791667,\n",
       "  0.96875,\n",
       "  0.96875,\n",
       "  0.9756944,\n",
       "  0.9722222,\n",
       "  0.9756944,\n",
       "  0.9756944,\n",
       "  0.9756944,\n",
       "  0.9722222,\n",
       "  0.9791667,\n",
       "  0.9826389,\n",
       "  0.9756944,\n",
       "  0.9722222,\n",
       "  0.9756944,\n",
       "  0.9756944,\n",
       "  0.9756944,\n",
       "  0.9756944,\n",
       "  0.9791667,\n",
       "  0.9756944,\n",
       "  0.9756944,\n",
       "  0.9791667,\n",
       "  0.9756944,\n",
       "  0.9756944,\n",
       "  0.9756944,\n",
       "  0.9756944,\n",
       "  0.9791667,\n",
       "  0.9791667,\n",
       "  0.9791667,\n",
       "  0.9791667,\n",
       "  0.9791667,\n",
       "  0.9791667,\n",
       "  0.9791667,\n",
       "  0.9791667,\n",
       "  0.9791667,\n",
       "  0.9756944,\n",
       "  0.9791667,\n",
       "  0.9791667,\n",
       "  0.9756944,\n",
       "  0.9756944,\n",
       "  0.9756944]}"
      ]
     },
     "execution_count": 24,
     "metadata": {},
     "output_type": "execute_result"
    }
   ],
   "source": [
    "results.history"
   ]
  },
  {
   "cell_type": "code",
   "execution_count": 25,
   "metadata": {
    "ExecuteTime": {
     "end_time": "2022-05-05T18:26:50.039164Z",
     "start_time": "2022-05-05T18:26:49.924300Z"
    }
   },
   "outputs": [
    {
     "data": {
      "text/plain": [
       "0.9756944"
      ]
     },
     "execution_count": 25,
     "metadata": {},
     "output_type": "execute_result"
    }
   ],
   "source": [
    "results.history['val_accuracy'][-1]"
   ]
  },
  {
   "cell_type": "markdown",
   "metadata": {},
   "source": [
    "## Connecting with `sklearn`\n",
    "\n",
    "The `keras.wrappers` submodule means that we can turn `keras` models into estimators that `sklearn` tools will recognize."
   ]
  },
  {
   "cell_type": "code",
   "execution_count": 26,
   "metadata": {
    "ExecuteTime": {
     "end_time": "2022-05-05T18:27:18.773548Z",
     "start_time": "2022-05-05T18:27:18.650421Z"
    }
   },
   "outputs": [
    {
     "ename": "TypeError",
     "evalue": "If no scoring is specified, the estimator passed should have a 'score' method. The estimator <tensorflow.python.keras.engine.sequential.Sequential object at 0x7fc465110110> does not.",
     "output_type": "error",
     "traceback": [
      "\u001b[0;31m---------------------------------------------------------------------------\u001b[0m",
      "\u001b[0;31mTypeError\u001b[0m                                 Traceback (most recent call last)",
      "\u001b[0;32m/var/folders/pk/jpqcb40j6m72nt_yqm9dbwk80000gp/T/ipykernel_54842/1197616762.py\u001b[0m in \u001b[0;36m<module>\u001b[0;34m\u001b[0m\n\u001b[1;32m      1\u001b[0m \u001b[0;31m# This will throw an error.\u001b[0m\u001b[0;34m\u001b[0m\u001b[0;34m\u001b[0m\u001b[0;34m\u001b[0m\u001b[0m\n\u001b[1;32m      2\u001b[0m \u001b[0;34m\u001b[0m\u001b[0m\n\u001b[0;32m----> 3\u001b[0;31m \u001b[0mcross_val_score\u001b[0m\u001b[0;34m(\u001b[0m\u001b[0mmodel\u001b[0m\u001b[0;34m,\u001b[0m \u001b[0mX_pure_train\u001b[0m\u001b[0;34m,\u001b[0m \u001b[0my_pure_train\u001b[0m\u001b[0;34m)\u001b[0m\u001b[0;34m\u001b[0m\u001b[0;34m\u001b[0m\u001b[0m\n\u001b[0m",
      "\u001b[0;32m/opt/anaconda3/envs/tf/lib/python3.7/site-packages/sklearn/model_selection/_validation.py\u001b[0m in \u001b[0;36mcross_val_score\u001b[0;34m(estimator, X, y, groups, scoring, cv, n_jobs, verbose, fit_params, pre_dispatch, error_score)\u001b[0m\n\u001b[1;32m    505\u001b[0m     \"\"\"\n\u001b[1;32m    506\u001b[0m     \u001b[0;31m# To ensure multimetric format is not supported\u001b[0m\u001b[0;34m\u001b[0m\u001b[0;34m\u001b[0m\u001b[0;34m\u001b[0m\u001b[0m\n\u001b[0;32m--> 507\u001b[0;31m     \u001b[0mscorer\u001b[0m \u001b[0;34m=\u001b[0m \u001b[0mcheck_scoring\u001b[0m\u001b[0;34m(\u001b[0m\u001b[0mestimator\u001b[0m\u001b[0;34m,\u001b[0m \u001b[0mscoring\u001b[0m\u001b[0;34m=\u001b[0m\u001b[0mscoring\u001b[0m\u001b[0;34m)\u001b[0m\u001b[0;34m\u001b[0m\u001b[0;34m\u001b[0m\u001b[0m\n\u001b[0m\u001b[1;32m    508\u001b[0m \u001b[0;34m\u001b[0m\u001b[0m\n\u001b[1;32m    509\u001b[0m     cv_results = cross_validate(\n",
      "\u001b[0;32m/opt/anaconda3/envs/tf/lib/python3.7/site-packages/sklearn/metrics/_scorer.py\u001b[0m in \u001b[0;36mcheck_scoring\u001b[0;34m(estimator, scoring, allow_none)\u001b[0m\n\u001b[1;32m    477\u001b[0m             raise TypeError(\n\u001b[1;32m    478\u001b[0m                 \u001b[0;34m\"If no scoring is specified, the estimator passed should \"\u001b[0m\u001b[0;34m\u001b[0m\u001b[0;34m\u001b[0m\u001b[0m\n\u001b[0;32m--> 479\u001b[0;31m                 \u001b[0;34m\"have a 'score' method. The estimator %r does not.\"\u001b[0m \u001b[0;34m%\u001b[0m \u001b[0mestimator\u001b[0m\u001b[0;34m\u001b[0m\u001b[0;34m\u001b[0m\u001b[0m\n\u001b[0m\u001b[1;32m    480\u001b[0m             )\n\u001b[1;32m    481\u001b[0m     \u001b[0;32melif\u001b[0m \u001b[0misinstance\u001b[0m\u001b[0;34m(\u001b[0m\u001b[0mscoring\u001b[0m\u001b[0;34m,\u001b[0m \u001b[0mIterable\u001b[0m\u001b[0;34m)\u001b[0m\u001b[0;34m:\u001b[0m\u001b[0;34m\u001b[0m\u001b[0;34m\u001b[0m\u001b[0m\n",
      "\u001b[0;31mTypeError\u001b[0m: If no scoring is specified, the estimator passed should have a 'score' method. The estimator <tensorflow.python.keras.engine.sequential.Sequential object at 0x7fc465110110> does not."
     ]
    }
   ],
   "source": [
    "# This will throw an error.\n",
    "\n",
    "\n",
    "model = Sequential()\n",
    "model.add(Dense(12, activation='relu', input_dim=64))\n",
    "model.add(Dense(8, activation='relu'))\n",
    "model.add(Dense(4, activation='relu'))\n",
    "model.add(Dense(1, activation='sigmoid'))\n",
    "\n",
    "model.compile(optimizer='adam',\n",
    "              loss='binary_crossentropy',\n",
    "              metrics=['accuracy'])\n",
    "\n",
    "\n",
    "cross_val_score(model, X_pure_train, y_pure_train)"
   ]
  },
  {
   "cell_type": "code",
   "execution_count": 27,
   "metadata": {
    "ExecuteTime": {
     "end_time": "2022-05-05T18:28:40.276826Z",
     "start_time": "2022-05-05T18:28:40.168797Z"
    }
   },
   "outputs": [],
   "source": [
    "def build_model():\n",
    "    model = Sequential()\n",
    "    model.add(Dense(12, activation='relu', input_dim=64))\n",
    "    model.add(Dense(8, activation='relu'))\n",
    "    model.add(Dense(4, activation='relu'))\n",
    "    model.add(Dense(1, activation = 'sigmoid'))\n",
    "\n",
    "    model.compile(optimizer='adam',\n",
    "                  loss='binary_crossentropy',\n",
    "                  metrics=['accuracy'])\n",
    "    return model"
   ]
  },
  {
   "cell_type": "code",
   "execution_count": null,
   "metadata": {},
   "outputs": [],
   "source": [
    "results = model.fit(X_pure_train, y_pure_train, epochs=10, batch_size=100, verbose=1)"
   ]
  },
  {
   "cell_type": "code",
   "execution_count": 31,
   "metadata": {
    "ExecuteTime": {
     "end_time": "2022-05-05T18:33:26.139816Z",
     "start_time": "2022-05-05T18:33:26.030568Z"
    }
   },
   "outputs": [],
   "source": [
    "keras_model = scikit_learn.KerasClassifier(build_model,\n",
    "                                          epochs=10,\n",
    "                                          batch_size=32,\n",
    "                                          verbose=2)"
   ]
  },
  {
   "cell_type": "code",
   "execution_count": 32,
   "metadata": {
    "ExecuteTime": {
     "end_time": "2022-05-05T18:33:28.251803Z",
     "start_time": "2022-05-05T18:33:28.145057Z"
    }
   },
   "outputs": [
    {
     "data": {
      "text/plain": [
       "tensorflow.python.keras.wrappers.scikit_learn.KerasClassifier"
      ]
     },
     "execution_count": 32,
     "metadata": {},
     "output_type": "execute_result"
    }
   ],
   "source": [
    "type(keras_model)"
   ]
  },
  {
   "cell_type": "code",
   "execution_count": 30,
   "metadata": {
    "ExecuteTime": {
     "end_time": "2022-05-05T18:29:56.513734Z",
     "start_time": "2022-05-05T18:29:41.001199Z"
    },
    "scrolled": true
   },
   "outputs": [
    {
     "name": "stdout",
     "output_type": "stream",
     "text": [
      "Train on 919 samples\n",
      "Epoch 1/10\n",
      "919/919 - 1s - loss: 0.6821 - accuracy: 0.5985\n",
      "Epoch 2/10\n",
      "919/919 - 0s - loss: 0.6145 - accuracy: 0.7704\n",
      "Epoch 3/10\n",
      "919/919 - 0s - loss: 0.5083 - accuracy: 0.8553\n",
      "Epoch 4/10\n",
      "919/919 - 0s - loss: 0.4033 - accuracy: 0.8705\n",
      "Epoch 5/10\n",
      "919/919 - 0s - loss: 0.3278 - accuracy: 0.8803\n",
      "Epoch 6/10\n",
      "919/919 - 0s - loss: 0.2807 - accuracy: 0.8955\n",
      "Epoch 7/10\n",
      "919/919 - 0s - loss: 0.2520 - accuracy: 0.8999\n",
      "Epoch 8/10\n",
      "919/919 - 0s - loss: 0.2299 - accuracy: 0.9129\n",
      "Epoch 9/10\n",
      "919/919 - 0s - loss: 0.2138 - accuracy: 0.9206\n",
      "Epoch 10/10\n",
      "919/919 - 0s - loss: 0.2012 - accuracy: 0.9217\n",
      "230/1 - 0s - loss: 0.1938 - accuracy: 0.8652\n",
      "Train on 919 samples\n",
      "Epoch 1/10\n",
      "919/919 - 2s - loss: 0.6830 - accuracy: 0.5647\n",
      "Epoch 2/10\n",
      "919/919 - 0s - loss: 0.6590 - accuracy: 0.5256\n",
      "Epoch 3/10\n",
      "919/919 - 0s - loss: 0.6180 - accuracy: 0.6823\n",
      "Epoch 4/10\n",
      "919/919 - 0s - loss: 0.5681 - accuracy: 0.7116\n",
      "Epoch 5/10\n",
      "919/919 - 0s - loss: 0.5260 - accuracy: 0.7987\n",
      "Epoch 6/10\n",
      "919/919 - 0s - loss: 0.4956 - accuracy: 0.8303\n",
      "Epoch 7/10\n",
      "919/919 - 0s - loss: 0.4716 - accuracy: 0.8487\n",
      "Epoch 8/10\n",
      "919/919 - 0s - loss: 0.4517 - accuracy: 0.8553\n",
      "Epoch 9/10\n",
      "919/919 - 0s - loss: 0.4345 - accuracy: 0.8727\n",
      "Epoch 10/10\n",
      "919/919 - 0s - loss: 0.4187 - accuracy: 0.8770\n",
      "230/1 - 0s - loss: 0.4242 - accuracy: 0.8391\n",
      "Train on 919 samples\n",
      "Epoch 1/10\n",
      "919/919 - 1s - loss: 0.6866 - accuracy: 0.6115\n",
      "Epoch 2/10\n",
      "919/919 - 0s - loss: 0.6631 - accuracy: 0.7258\n",
      "Epoch 3/10\n",
      "919/919 - 0s - loss: 0.6054 - accuracy: 0.7965\n",
      "Epoch 4/10\n",
      "919/919 - 0s - loss: 0.5156 - accuracy: 0.8172\n",
      "Epoch 5/10\n",
      "919/919 - 0s - loss: 0.4182 - accuracy: 0.8455\n",
      "Epoch 6/10\n",
      "919/919 - 0s - loss: 0.3417 - accuracy: 0.8662\n",
      "Epoch 7/10\n",
      "919/919 - 0s - loss: 0.2946 - accuracy: 0.8760\n",
      "Epoch 8/10\n",
      "919/919 - 0s - loss: 0.2648 - accuracy: 0.8879\n",
      "Epoch 9/10\n",
      "919/919 - 0s - loss: 0.2484 - accuracy: 0.9032\n",
      "Epoch 10/10\n",
      "919/919 - 0s - loss: 0.2308 - accuracy: 0.9064\n",
      "230/1 - 0s - loss: 0.1654 - accuracy: 0.9217\n",
      "Train on 919 samples\n",
      "Epoch 1/10\n",
      "919/919 - 1s - loss: 0.6895 - accuracy: 0.5310\n",
      "Epoch 2/10\n",
      "919/919 - 0s - loss: 0.6612 - accuracy: 0.6736\n",
      "Epoch 3/10\n",
      "919/919 - 0s - loss: 0.6101 - accuracy: 0.7084\n",
      "Epoch 4/10\n",
      "919/919 - 0s - loss: 0.5452 - accuracy: 0.7704\n",
      "Epoch 5/10\n",
      "919/919 - 0s - loss: 0.4733 - accuracy: 0.8172\n",
      "Epoch 6/10\n",
      "919/919 - 0s - loss: 0.4147 - accuracy: 0.8259\n",
      "Epoch 7/10\n",
      "919/919 - 0s - loss: 0.3677 - accuracy: 0.8466\n",
      "Epoch 8/10\n",
      "919/919 - 0s - loss: 0.3235 - accuracy: 0.8585\n",
      "Epoch 9/10\n",
      "919/919 - 0s - loss: 0.2909 - accuracy: 0.8738\n",
      "Epoch 10/10\n",
      "919/919 - 0s - loss: 0.2640 - accuracy: 0.8890\n",
      "230/1 - 0s - loss: 0.2926 - accuracy: 0.9130\n",
      "Train on 920 samples\n",
      "Epoch 1/10\n",
      "920/920 - 1s - loss: 0.6675 - accuracy: 0.6076\n",
      "Epoch 2/10\n",
      "920/920 - 0s - loss: 0.6058 - accuracy: 0.7891\n",
      "Epoch 3/10\n",
      "920/920 - 0s - loss: 0.5262 - accuracy: 0.8283\n",
      "Epoch 4/10\n",
      "920/920 - 0s - loss: 0.4448 - accuracy: 0.8620\n",
      "Epoch 5/10\n",
      "920/920 - 0s - loss: 0.3702 - accuracy: 0.8739\n",
      "Epoch 6/10\n",
      "920/920 - 0s - loss: 0.3122 - accuracy: 0.8913\n",
      "Epoch 7/10\n",
      "920/920 - 0s - loss: 0.2736 - accuracy: 0.9033\n",
      "Epoch 8/10\n",
      "920/920 - 0s - loss: 0.2528 - accuracy: 0.9043\n",
      "Epoch 9/10\n",
      "920/920 - 0s - loss: 0.2342 - accuracy: 0.9120\n",
      "Epoch 10/10\n",
      "920/920 - 0s - loss: 0.2284 - accuracy: 0.9130\n",
      "229/1 - 0s - loss: 0.3514 - accuracy: 0.8690\n"
     ]
    },
    {
     "data": {
      "text/plain": [
       "array([0.86521739, 0.83913046, 0.9217391 , 0.9130435 , 0.86899561])"
      ]
     },
     "execution_count": 30,
     "metadata": {},
     "output_type": "execute_result"
    }
   ],
   "source": [
    "cross_val_score(keras_model, X_pure_train, y_pure_train)"
   ]
  },
  {
   "cell_type": "markdown",
   "metadata": {},
   "source": [
    "## [Regularization](https://www.tensorflow.org/api_docs/python/tf/keras/regularizers/Regularizer)"
   ]
  },
  {
   "cell_type": "markdown",
   "metadata": {},
   "source": [
    "Does regularization make sense in the context of neural networks? <br/>\n",
    "\n",
    "Yes! We still have all of the salient ingredients: a loss function, overfitting vs. underfitting, and coefficients (weights) that could get too large.\n",
    "\n",
    "But there are now a few different flavors besides L1 and L2 regularization. (Note that L1 regularization is not common in the context of  neural networks.)\n",
    "\n",
    "We'll add a few more layers to give regularization a better chance of making a difference!"
   ]
  },
  {
   "cell_type": "code",
   "execution_count": 33,
   "metadata": {
    "ExecuteTime": {
     "end_time": "2022-05-05T18:37:05.699909Z",
     "start_time": "2022-05-05T18:36:57.604635Z"
    }
   },
   "outputs": [
    {
     "data": {
      "image/png": "[encoded data removed]",
      "text/plain": [
       "<Figure size 720x360 with 2 Axes>"
      ]
     },
     "metadata": {
      "needs_background": "light"
     },
     "output_type": "display_data"
    }
   ],
   "source": [
    "model = Sequential()\n",
    "model.add(Dense(30, activation='relu', input_dim=64))\n",
    "\n",
    "# We can add L2 (or L1) regularization right into\n",
    "# the layer with the kernel_regularizer parameter.\n",
    "\n",
    "model.add(Dense(20, activation='relu',kernel_regularizer=l2(l=0.05)))\n",
    "\n",
    "# Note that there is also a bias_regularizer,\n",
    "# but this tends to have less effect.\n",
    "\n",
    "model.add(Dense(12, activation='relu'))\n",
    "model.add(Dense(12, activation='relu'))\n",
    "model.add(Dense(12, activation='relu'))\n",
    "model.add(Dense(8, activation='relu'))\n",
    "model.add(Dense(4, activation='relu'))\n",
    "model.add(Dense(1, activation ='sigmoid'))\n",
    "\n",
    "model.compile(optimizer='adam',\n",
    "              loss='binary_crossentropy',\n",
    "              metrics=['accuracy'])\n",
    "\n",
    "results = model.fit(X_pure_train, y_pure_train, epochs=20, batch_size=32,\n",
    "                    verbose=0, validation_data=(X_val, y_val))\n",
    "\n",
    "train_loss = results.history['loss']\n",
    "train_acc = results.history['accuracy']\n",
    "val_loss = results.history['val_loss']\n",
    "val_acc = results.history['val_accuracy']\n",
    "\n",
    "\n",
    "fig, (ax1, ax2) = plt.subplots(1, 2, figsize=(10, 5))\n",
    "sns.lineplot(x=results.epoch, y=train_loss, ax=ax1, label='train_loss')\n",
    "sns.lineplot(x=results.epoch, y=train_acc, ax=ax2, label='train_accuracy')\n",
    "\n",
    "sns.lineplot(x=results.epoch, y=val_loss, ax=ax1, label='val_loss')\n",
    "sns.lineplot(x=results.epoch, y=val_acc, ax=ax2, label='val_accuracy')\n",
    "ax1.set_title('Loss')\n",
    "ax2.set_title('Accuracy')\n",
    "ax1.legend();"
   ]
  },
  {
   "cell_type": "markdown",
   "metadata": {},
   "source": [
    "Adding L2 to multiple layers:"
   ]
  },
  {
   "cell_type": "code",
   "execution_count": 34,
   "metadata": {
    "ExecuteTime": {
     "end_time": "2022-05-05T18:37:38.545350Z",
     "start_time": "2022-05-05T18:37:30.143259Z"
    }
   },
   "outputs": [
    {
     "data": {
      "image/png": "[encoded data removed]",
      "text/plain": [
       "<Figure size 720x360 with 2 Axes>"
      ]
     },
     "metadata": {
      "needs_background": "light"
     },
     "output_type": "display_data"
    }
   ],
   "source": [
    "model = Sequential()\n",
    "model.add(Dense(30, activation='relu',\n",
    "                input_dim=64))\n",
    "model.add(Dense(20, activation='relu',\n",
    "                kernel_regularizer=l2(l=0.01)))\n",
    "\n",
    "model.add(Dense(12, activation='relu',\n",
    "                kernel_regularizer=l2(l=0.01)))\n",
    "model.add(Dense(12, activation='relu',\n",
    "                kernel_regularizer=l2(l=0.01)))\n",
    "model.add(Dense(12, activation='relu',\n",
    "                kernel_regularizer=l2(l=0.01)))\n",
    "model.add(Dense(8, activation='relu',\n",
    "                kernel_regularizer=l2(l=0.01)))\n",
    "model.add(Dense(4, activation='relu',\n",
    "                kernel_regularizer=l2(l=0.01)))\n",
    "model.add(Dense(1, activation='sigmoid'))\n",
    "\n",
    "model.compile(optimizer='adam',\n",
    "              loss='binary_crossentropy',\n",
    "              metrics=['accuracy'])\n",
    "\n",
    "results = model.fit(X_pure_train, y_pure_train, epochs=20, batch_size=32,\n",
    "                    verbose=0, validation_data=(X_val, y_val))\n",
    "\n",
    "train_loss = results.history['loss']\n",
    "train_acc = results.history['accuracy']\n",
    "val_loss = results.history['val_loss']\n",
    "val_acc = results.history['val_accuracy']\n",
    "\n",
    "\n",
    "fig, (ax1, ax2) = plt.subplots(1, 2, figsize=(10, 5))\n",
    "sns.lineplot(x=results.epoch, y=train_loss, ax=ax1, label='train_loss')\n",
    "sns.lineplot(x=results.epoch, y=train_acc, ax=ax2, label='train_accuracy')\n",
    "\n",
    "sns.lineplot(x=results.epoch, y=val_loss, ax=ax1, label='val_loss')\n",
    "sns.lineplot(x=results.epoch, y=val_acc, ax=ax2, label='val_accuracy')\n",
    "ax1.set_title('Loss')\n",
    "ax2.set_title('Accuracy')\n",
    "ax1.legend();"
   ]
  },
  {
   "cell_type": "markdown",
   "metadata": {},
   "source": [
    "### Dropout\n",
    "\n",
    "We can also specify a dropout layer in keras, which randomly shuts off different nodes during training. This can help to prevent overfitting."
   ]
  },
  {
   "cell_type": "markdown",
   "metadata": {},
   "source": [
    "![drop_out](images/drop_out.png)"
   ]
  },
  {
   "cell_type": "markdown",
   "metadata": {},
   "source": [
    "### Exercise\n",
    "\n",
    "To add dropout to a `keras` network, simply add it as though it were a layer. It will apply to the immediately preceding layer.\n",
    "\n",
    "Add Dropout to one or more layers below."
   ]
  },
  {
   "cell_type": "code",
   "execution_count": 35,
   "metadata": {
    "ExecuteTime": {
     "end_time": "2022-05-05T18:41:36.667862Z",
     "start_time": "2022-05-05T18:41:21.849812Z"
    }
   },
   "outputs": [
    {
     "data": {
      "image/png": "[encoded data removed]",
      "text/plain": [
       "<Figure size 720x360 with 2 Axes>"
      ]
     },
     "metadata": {
      "needs_background": "light"
     },
     "output_type": "display_data"
    }
   ],
   "source": [
    "model = Sequential()\n",
    "model.add(Dense(30, activation='relu', input_dim=64))\n",
    "model.add(Dense(20, activation='relu'))\n",
    "model.add(Dropout(.5))\n",
    "model.add(Dense(12, activation='relu'))\n",
    "model.add(Dense(12, activation='relu'))\n",
    "model.add(Dropout(.2))\n",
    "model.add(Dense(12, activation='relu'))\n",
    "model.add(Dense(8, activation='relu'))\n",
    "model.add(Dense(4, activation='relu'))\n",
    "model.add(Dense(1, activation ='sigmoid'))\n",
    "\n",
    "model.compile(optimizer='adam',\n",
    "              loss='binary_crossentropy',\n",
    "              metrics=['accuracy'])\n",
    "\n",
    "results = model.fit(X_pure_train, y_pure_train, epochs=50,\n",
    "                    batch_size= 32, verbose=0,\n",
    "                    validation_data=(X_val, y_val))\n",
    "\n",
    "train_loss = results.history['loss']\n",
    "train_acc = results.history['accuracy']\n",
    "val_loss = results.history['val_loss']\n",
    "val_acc = results.history['val_accuracy']\n",
    "\n",
    "\n",
    "fig, (ax1, ax2) = plt.subplots(1, 2, figsize=(10, 5))\n",
    "sns.lineplot(x=results.epoch, y=train_loss, ax=ax1, label='train_loss')\n",
    "sns.lineplot(x=results.epoch, y=train_acc, ax=ax2, label='train_accuracy')\n",
    "\n",
    "sns.lineplot(x=results.epoch, y=val_loss, ax=ax1, label='val_loss')\n",
    "sns.lineplot(x=results.epoch, y=val_acc, ax=ax2, label='val_accuracy')\n",
    "ax1.set_title('Loss')\n",
    "ax2.set_title('Accuracy')\n",
    "ax1.legend();"
   ]
  },
  {
   "cell_type": "code",
   "execution_count": 36,
   "metadata": {
    "ExecuteTime": {
     "end_time": "2022-05-05T18:48:17.501605Z",
     "start_time": "2022-05-05T18:48:17.266224Z"
    }
   },
   "outputs": [
    {
     "data": {
      "text/plain": [
       "0.9722222"
      ]
     },
     "execution_count": 36,
     "metadata": {},
     "output_type": "execute_result"
    }
   ],
   "source": [
    "results.history['val_accuracy'][-1]"
   ]
  },
  {
   "cell_type": "markdown",
   "metadata": {},
   "source": [
    "### Early Stopping"
   ]
  },
  {
   "cell_type": "markdown",
   "metadata": {},
   "source": [
    "We can also tell our neural network to stop once it stops realizing any gain.\n",
    "\n",
    "Here we tell it to stop once the a very small positive change in the validation loss occurs:"
   ]
  },
  {
   "cell_type": "code",
   "execution_count": 37,
   "metadata": {
    "ExecuteTime": {
     "end_time": "2022-05-05T18:50:02.134391Z",
     "start_time": "2022-05-05T18:49:56.421872Z"
    }
   },
   "outputs": [
    {
     "name": "stdout",
     "output_type": "stream",
     "text": [
      "Epoch 00011: early stopping\n"
     ]
    },
    {
     "data": {
      "image/png": "[encoded data removed]",
      "text/plain": [
       "<Figure size 720x360 with 2 Axes>"
      ]
     },
     "metadata": {
      "needs_background": "light"
     },
     "output_type": "display_data"
    }
   ],
   "source": [
    "model = Sequential()\n",
    "model.add(Dense(30, activation='relu', input_dim=64))\n",
    "model.add(Dense(20, activation='relu'))\n",
    "model.add(Dropout(0.5))\n",
    "model.add(Dense(12, activation='relu'))\n",
    "model.add(Dense(12, activation='relu'))\n",
    "model.add(Dense(12, activation='relu'))\n",
    "model.add(Dense(8, activation='relu'))\n",
    "model.add(Dense(4, activation='relu'))\n",
    "model.add(Dense(1, activation ='sigmoid'))\n",
    "\n",
    "model.compile(optimizer='adam',\n",
    "              loss='binary_crossentropy',\n",
    "              metrics=['accuracy'])\n",
    "\n",
    "# Define the EarlyStopping object\n",
    "early_stop = EarlyStopping(monitor='val_loss', min_delta=1e-8,\n",
    "                           verbose=1,\n",
    "                           mode='min')\n",
    "\n",
    "# Place this in a list as the value of the `callbacks` parameter\n",
    "# in the `.fit()` method.\n",
    "results = model.fit(X_pure_train, y_pure_train,\n",
    "                    epochs=20, batch_size=32,\n",
    "                    verbose=0, validation_data=(X_val, y_val),\n",
    "                    callbacks=[early_stop])\n",
    "\n",
    "train_loss = results.history['loss']\n",
    "train_acc = results.history['accuracy']\n",
    "val_loss = results.history['val_loss']\n",
    "val_acc = results.history['val_accuracy']\n",
    "\n",
    "\n",
    "fig, (ax1, ax2) = plt.subplots(1, 2, figsize=(10, 5))\n",
    "sns.lineplot(x=results.epoch, y=train_loss, ax=ax1, label='train_loss')\n",
    "sns.lineplot(x=results.epoch, y=train_acc, ax=ax2, label='train_accuracy')\n",
    "\n",
    "sns.lineplot(x=results.epoch, y=val_loss, ax=ax1, label='val_loss')\n",
    "sns.lineplot(x=results.epoch, y=val_acc, ax=ax2, label='val_accuracy')\n",
    "ax1.set_title('Loss')\n",
    "ax2.set_title('Accuracy')\n",
    "ax1.legend();"
   ]
  },
  {
   "cell_type": "markdown",
   "metadata": {},
   "source": [
    "### Exercise\n",
    "\n",
    "That probably stopped too early. We can specify the number of epochs in which it doesn't see decrease in the loss with the `patience` parameter. Modify the code below to include an Early Stop with a patience of 5 epochs."
   ]
  },
  {
   "cell_type": "code",
   "execution_count": 39,
   "metadata": {
    "ExecuteTime": {
     "end_time": "2022-05-05T18:53:36.760742Z",
     "start_time": "2022-05-05T18:53:22.719198Z"
    }
   },
   "outputs": [
    {
     "name": "stdout",
     "output_type": "stream",
     "text": [
      "Epoch 00048: early stopping\n"
     ]
    },
    {
     "data": {
      "image/png": "[encoded data removed]",
      "text/plain": [
       "<Figure size 720x360 with 2 Axes>"
      ]
     },
     "metadata": {
      "needs_background": "light"
     },
     "output_type": "display_data"
    }
   ],
   "source": [
    "model = Sequential()\n",
    "model.add(Dense(30, activation='relu', input_dim=64))\n",
    "model.add(Dense(20, activation='relu'))\n",
    "model.add(Dropout(0.5))\n",
    "model.add(Dense(12, activation='relu'))\n",
    "model.add(Dense(12, activation='relu'))\n",
    "model.add(Dense(12, activation='relu'))\n",
    "model.add(Dense(8, activation='relu'))\n",
    "model.add(Dense(4, activation='relu'))\n",
    "model.add(Dense(1, activation ='sigmoid'))\n",
    "\n",
    "model.compile(optimizer='adam',\n",
    "              loss='binary_crossentropy',\n",
    "              metrics=['accuracy'])\n",
    "\n",
    "# Define the EarlyStopping object\n",
    "\n",
    "early_stop = EarlyStopping(monitor='val_loss', \n",
    "                           min_delta=1e-8,\n",
    "                           verbose=2, \n",
    "                           patience=5,\n",
    "                           mode='min')\n",
    "\n",
    "\n",
    "# Place this in a list as the value of the `callbacks` parameter\n",
    "# in the `.fit()` method.\n",
    "results = model.fit(X_pure_train, y_pure_train,\n",
    "                    epochs=50, batch_size= 32,\n",
    "                    verbose=0, \n",
    "                    validation_data=(X_val, y_val),\n",
    "                    callbacks=[early_stop])\n",
    "\n",
    "train_loss = results.history['loss']\n",
    "train_acc = results.history['accuracy']\n",
    "val_loss = results.history['val_loss']\n",
    "val_acc = results.history['val_accuracy']\n",
    "\n",
    "\n",
    "fig, (ax1, ax2) = plt.subplots(1, 2, figsize=(10, 5))\n",
    "sns.lineplot(x=results.epoch, y=train_loss, ax=ax1, label='train_loss')\n",
    "sns.lineplot(x=results.epoch, y=train_acc, ax=ax2, label='train_accuracy')\n",
    "\n",
    "sns.lineplot(x=results.epoch, y=val_loss, ax=ax1, label='val_loss')\n",
    "sns.lineplot(x=results.epoch, y=val_acc, ax=ax2, label='val_accuracy')\n",
    "ax1.set_title('Loss')\n",
    "ax2.set_title('Accuracy')\n",
    "ax1.legend();"
   ]
  },
  {
   "cell_type": "code",
   "execution_count": 40,
   "metadata": {
    "ExecuteTime": {
     "end_time": "2022-05-05T18:53:49.064034Z",
     "start_time": "2022-05-05T18:53:48.941049Z"
    }
   },
   "outputs": [
    {
     "data": {
      "text/plain": [
       "0.9583333"
      ]
     },
     "execution_count": 40,
     "metadata": {},
     "output_type": "execute_result"
    }
   ],
   "source": [
    "results.history['val_accuracy'][-1]"
   ]
  },
  {
   "cell_type": "markdown",
   "metadata": {},
   "source": [
    "## Multiclass Classification and Softmax"
   ]
  },
  {
   "cell_type": "markdown",
   "metadata": {},
   "source": [
    "Now let's return to the problem of predicting digits 0 through 9."
   ]
  },
  {
   "cell_type": "code",
   "execution_count": 41,
   "metadata": {
    "ExecuteTime": {
     "end_time": "2022-05-05T18:54:58.960171Z",
     "start_time": "2022-05-05T18:54:58.603251Z"
    }
   },
   "outputs": [],
   "source": [
    "digits = load_digits()\n",
    "X = digits.data\n",
    "y = digits.target"
   ]
  },
  {
   "cell_type": "code",
   "execution_count": 42,
   "metadata": {
    "ExecuteTime": {
     "end_time": "2022-05-05T18:55:04.540488Z",
     "start_time": "2022-05-05T18:55:04.428778Z"
    }
   },
   "outputs": [
    {
     "data": {
      "text/plain": [
       "array([0, 1, 2, ..., 8, 9, 8])"
      ]
     },
     "execution_count": 42,
     "metadata": {},
     "output_type": "execute_result"
    }
   ],
   "source": [
    "y"
   ]
  },
  {
   "cell_type": "code",
   "execution_count": 43,
   "metadata": {
    "ExecuteTime": {
     "end_time": "2022-05-05T18:55:19.438688Z",
     "start_time": "2022-05-05T18:55:19.298749Z"
    }
   },
   "outputs": [],
   "source": [
    "X_train, X_test, y_train, y_test = train_test_split(X, y,\n",
    "                                                    random_state=42,\n",
    "                                                    test_size=0.2)\n",
    "X_pure_train, X_val, y_pure_train, y_val =\\\n",
    "    train_test_split(X_train, y_train,\n",
    "                     random_state=42, test_size=0.2)\n",
    "X_pure_train, X_val, X_test = X_pure_train/16, X_val/16, X_test/16"
   ]
  },
  {
   "cell_type": "markdown",
   "metadata": {},
   "source": [
    "For a multiclass output, our neural net expects our target to be in a certain form."
   ]
  },
  {
   "cell_type": "code",
   "execution_count": 44,
   "metadata": {
    "ExecuteTime": {
     "end_time": "2022-05-05T18:55:36.955055Z",
     "start_time": "2022-05-05T18:55:36.831467Z"
    }
   },
   "outputs": [],
   "source": [
    "ohe = OneHotEncoder(sparse=False)\n",
    "y_pure_train = ohe.fit_transform(y_pure_train.reshape(-1,1))\n",
    "y_val = ohe.transform(y_val.reshape(-1,1))\n",
    "y_test = ohe.transform(y_test.reshape(-1,1))"
   ]
  },
  {
   "cell_type": "code",
   "execution_count": 45,
   "metadata": {
    "ExecuteTime": {
     "end_time": "2022-05-05T18:55:39.782880Z",
     "start_time": "2022-05-05T18:55:39.672397Z"
    }
   },
   "outputs": [
    {
     "data": {
      "text/plain": [
       "array([[0., 0., 0., ..., 0., 0., 0.],\n",
       "       [0., 0., 0., ..., 0., 0., 1.],\n",
       "       [0., 0., 0., ..., 0., 0., 0.],\n",
       "       ...,\n",
       "       [0., 0., 0., ..., 0., 1., 0.],\n",
       "       [0., 0., 0., ..., 0., 0., 0.],\n",
       "       [0., 0., 0., ..., 0., 0., 0.]])"
      ]
     },
     "execution_count": 45,
     "metadata": {},
     "output_type": "execute_result"
    }
   ],
   "source": [
    "y_test"
   ]
  },
  {
   "cell_type": "code",
   "execution_count": 46,
   "metadata": {
    "ExecuteTime": {
     "end_time": "2022-05-05T18:55:47.677839Z",
     "start_time": "2022-05-05T18:55:47.572411Z"
    }
   },
   "outputs": [
    {
     "data": {
      "text/plain": [
       "array([0., 0., 0., 0., 0., 0., 1., 0., 0., 0.])"
      ]
     },
     "execution_count": 46,
     "metadata": {},
     "output_type": "execute_result"
    }
   ],
   "source": [
    "y_test[0]"
   ]
  },
  {
   "cell_type": "code",
   "execution_count": 47,
   "metadata": {
    "ExecuteTime": {
     "end_time": "2022-05-05T18:59:00.664583Z",
     "start_time": "2022-05-05T18:58:32.485793Z"
    }
   },
   "outputs": [
    {
     "name": "stdout",
     "output_type": "stream",
     "text": [
      "Train on 1149 samples, validate on 288 samples\n",
      "Epoch 1/50\n",
      "1149/1149 [==============================] - 3s 2ms/sample - loss: 2.2075 - accuracy: 0.2376 - val_loss: 2.0900 - val_accuracy: 0.2674\n",
      "Epoch 2/50\n",
      "1149/1149 [==============================] - 0s 408us/sample - loss: 1.8807 - accuracy: 0.3699 - val_loss: 1.7205 - val_accuracy: 0.4340\n",
      "Epoch 3/50\n",
      "1149/1149 [==============================] - 0s 434us/sample - loss: 1.4583 - accuracy: 0.5483 - val_loss: 1.2876 - val_accuracy: 0.6076\n",
      "Epoch 4/50\n",
      "1149/1149 [==============================] - 0s 407us/sample - loss: 1.0663 - accuracy: 0.7276 - val_loss: 0.9325 - val_accuracy: 0.7431\n",
      "Epoch 5/50\n",
      "1149/1149 [==============================] - 0s 413us/sample - loss: 0.7754 - accuracy: 0.8355 - val_loss: 0.7060 - val_accuracy: 0.8056\n",
      "Epoch 6/50\n",
      "1149/1149 [==============================] - 0s 410us/sample - loss: 0.6089 - accuracy: 0.8607 - val_loss: 0.5947 - val_accuracy: 0.8403\n",
      "Epoch 7/50\n",
      "1149/1149 [==============================] - 0s 421us/sample - loss: 0.5096 - accuracy: 0.8782 - val_loss: 0.5091 - val_accuracy: 0.8542\n",
      "Epoch 8/50\n",
      "1149/1149 [==============================] - 1s 468us/sample - loss: 0.4388 - accuracy: 0.8903 - val_loss: 0.4857 - val_accuracy: 0.8611\n",
      "Epoch 9/50\n",
      "1149/1149 [==============================] - 1s 456us/sample - loss: 0.3931 - accuracy: 0.8990 - val_loss: 0.4159 - val_accuracy: 0.8681\n",
      "Epoch 10/50\n",
      "1149/1149 [==============================] - 0s 415us/sample - loss: 0.3582 - accuracy: 0.8964 - val_loss: 0.3905 - val_accuracy: 0.8819\n",
      "Epoch 11/50\n",
      "1149/1149 [==============================] - 0s 411us/sample - loss: 0.3253 - accuracy: 0.9095 - val_loss: 0.3640 - val_accuracy: 0.8819\n",
      "Epoch 12/50\n",
      "1149/1149 [==============================] - 1s 471us/sample - loss: 0.3027 - accuracy: 0.9130 - val_loss: 0.3469 - val_accuracy: 0.8924\n",
      "Epoch 13/50\n",
      "1149/1149 [==============================] - 1s 468us/sample - loss: 0.2795 - accuracy: 0.9286 - val_loss: 0.3234 - val_accuracy: 0.8993\n",
      "Epoch 14/50\n",
      "1149/1149 [==============================] - 1s 475us/sample - loss: 0.2625 - accuracy: 0.9321 - val_loss: 0.3072 - val_accuracy: 0.9062\n",
      "Epoch 15/50\n",
      "1149/1149 [==============================] - 1s 504us/sample - loss: 0.2448 - accuracy: 0.9408 - val_loss: 0.2890 - val_accuracy: 0.9097\n",
      "Epoch 16/50\n",
      "1149/1149 [==============================] - 1s 522us/sample - loss: 0.2320 - accuracy: 0.9382 - val_loss: 0.2978 - val_accuracy: 0.9097\n",
      "Epoch 17/50\n",
      "1149/1149 [==============================] - 1s 452us/sample - loss: 0.2211 - accuracy: 0.9408 - val_loss: 0.2599 - val_accuracy: 0.9097\n",
      "Epoch 18/50\n",
      "1149/1149 [==============================] - 1s 536us/sample - loss: 0.2059 - accuracy: 0.9539 - val_loss: 0.2522 - val_accuracy: 0.9201\n",
      "Epoch 19/50\n",
      "1149/1149 [==============================] - 1s 467us/sample - loss: 0.1958 - accuracy: 0.9539 - val_loss: 0.2434 - val_accuracy: 0.9201\n",
      "Epoch 20/50\n",
      "1149/1149 [==============================] - 1s 440us/sample - loss: 0.1873 - accuracy: 0.9582 - val_loss: 0.2361 - val_accuracy: 0.9306\n",
      "Epoch 21/50\n",
      "1149/1149 [==============================] - 0s 415us/sample - loss: 0.1794 - accuracy: 0.9556 - val_loss: 0.2229 - val_accuracy: 0.9271\n",
      "Epoch 22/50\n",
      "1149/1149 [==============================] - 1s 444us/sample - loss: 0.1708 - accuracy: 0.9591 - val_loss: 0.2214 - val_accuracy: 0.9271\n",
      "Epoch 23/50\n",
      "1149/1149 [==============================] - 1s 471us/sample - loss: 0.1617 - accuracy: 0.9652 - val_loss: 0.2092 - val_accuracy: 0.9306\n",
      "Epoch 24/50\n",
      "1149/1149 [==============================] - 0s 413us/sample - loss: 0.1559 - accuracy: 0.9600 - val_loss: 0.2118 - val_accuracy: 0.9236\n",
      "Epoch 25/50\n",
      "1149/1149 [==============================] - 1s 451us/sample - loss: 0.1531 - accuracy: 0.9626 - val_loss: 0.2271 - val_accuracy: 0.9097\n",
      "Epoch 26/50\n",
      "1149/1149 [==============================] - 1s 447us/sample - loss: 0.1439 - accuracy: 0.9643 - val_loss: 0.2007 - val_accuracy: 0.9271\n",
      "Epoch 27/50\n",
      "1149/1149 [==============================] - 0s 429us/sample - loss: 0.1378 - accuracy: 0.9652 - val_loss: 0.1922 - val_accuracy: 0.9236\n",
      "Epoch 28/50\n",
      "1149/1149 [==============================] - 0s 431us/sample - loss: 0.1356 - accuracy: 0.9652 - val_loss: 0.1827 - val_accuracy: 0.9410\n",
      "Epoch 29/50\n",
      "1149/1149 [==============================] - 1s 439us/sample - loss: 0.1253 - accuracy: 0.9730 - val_loss: 0.1918 - val_accuracy: 0.9097\n",
      "Epoch 30/50\n",
      "1149/1149 [==============================] - 1s 438us/sample - loss: 0.1247 - accuracy: 0.9643 - val_loss: 0.1952 - val_accuracy: 0.9236\n",
      "Epoch 31/50\n",
      "1149/1149 [==============================] - 1s 444us/sample - loss: 0.1189 - accuracy: 0.9730 - val_loss: 0.1798 - val_accuracy: 0.9375\n",
      "Epoch 32/50\n",
      "1149/1149 [==============================] - 1s 459us/sample - loss: 0.1136 - accuracy: 0.9695 - val_loss: 0.1636 - val_accuracy: 0.9410\n",
      "Epoch 33/50\n",
      "1149/1149 [==============================] - 1s 465us/sample - loss: 0.1126 - accuracy: 0.9748 - val_loss: 0.1728 - val_accuracy: 0.9375\n",
      "Epoch 34/50\n",
      "1149/1149 [==============================] - 1s 439us/sample - loss: 0.1061 - accuracy: 0.9756 - val_loss: 0.1889 - val_accuracy: 0.9236\n",
      "Epoch 35/50\n",
      "1149/1149 [==============================] - 0s 417us/sample - loss: 0.1036 - accuracy: 0.9756 - val_loss: 0.1572 - val_accuracy: 0.9410\n",
      "Epoch 36/50\n",
      "1149/1149 [==============================] - 1s 503us/sample - loss: 0.1007 - accuracy: 0.9730 - val_loss: 0.1626 - val_accuracy: 0.9375\n",
      "Epoch 37/50\n",
      "1149/1149 [==============================] - 0s 412us/sample - loss: 0.0928 - accuracy: 0.9774 - val_loss: 0.1727 - val_accuracy: 0.9340\n",
      "Epoch 38/50\n",
      "1149/1149 [==============================] - 0s 405us/sample - loss: 0.0955 - accuracy: 0.9748 - val_loss: 0.1585 - val_accuracy: 0.9375\n",
      "Epoch 39/50\n",
      "1149/1149 [==============================] - 0s 404us/sample - loss: 0.0913 - accuracy: 0.9774 - val_loss: 0.1603 - val_accuracy: 0.9514\n",
      "Epoch 40/50\n",
      "1149/1149 [==============================] - 1s 437us/sample - loss: 0.0883 - accuracy: 0.9800 - val_loss: 0.1621 - val_accuracy: 0.9375\n",
      "Epoch 41/50\n",
      "1149/1149 [==============================] - 0s 423us/sample - loss: 0.0857 - accuracy: 0.9826 - val_loss: 0.1462 - val_accuracy: 0.9410\n",
      "Epoch 42/50\n",
      "1149/1149 [==============================] - 1s 447us/sample - loss: 0.0821 - accuracy: 0.9817 - val_loss: 0.1548 - val_accuracy: 0.9340\n",
      "Epoch 43/50\n",
      "1149/1149 [==============================] - 1s 475us/sample - loss: 0.0804 - accuracy: 0.9826 - val_loss: 0.1385 - val_accuracy: 0.9375\n",
      "Epoch 44/50\n",
      "1149/1149 [==============================] - 1s 474us/sample - loss: 0.0755 - accuracy: 0.9817 - val_loss: 0.1513 - val_accuracy: 0.9375\n",
      "Epoch 45/50\n",
      "1149/1149 [==============================] - 1s 437us/sample - loss: 0.0745 - accuracy: 0.9809 - val_loss: 0.1390 - val_accuracy: 0.9479\n",
      "Epoch 46/50\n",
      "1149/1149 [==============================] - 0s 402us/sample - loss: 0.0735 - accuracy: 0.9826 - val_loss: 0.1471 - val_accuracy: 0.9410\n",
      "Epoch 47/50\n",
      "1149/1149 [==============================] - 0s 408us/sample - loss: 0.0698 - accuracy: 0.9852 - val_loss: 0.1443 - val_accuracy: 0.9340\n",
      "Epoch 48/50\n",
      "1149/1149 [==============================] - 0s 415us/sample - loss: 0.0658 - accuracy: 0.9852 - val_loss: 0.1584 - val_accuracy: 0.9375\n",
      "Epoch 49/50\n",
      "1149/1149 [==============================] - 1s 449us/sample - loss: 0.0653 - accuracy: 0.9852 - val_loss: 0.1416 - val_accuracy: 0.9410\n",
      "Epoch 50/50\n",
      "1149/1149 [==============================] - 1s 459us/sample - loss: 0.0655 - accuracy: 0.9852 - val_loss: 0.1397 - val_accuracy: 0.9410\n"
     ]
    }
   ],
   "source": [
    "# Model from above, but now with ten output neurons:\n",
    "\n",
    "model = Sequential()\n",
    "model.add(Dense(12, activation='relu', input_dim=64))\n",
    "model.add(Dense(8, activation='relu'))\n",
    "model.add(Dense(10, activation='softmax'))\n",
    "\n",
    "model.compile(optimizer='adam',\n",
    "              loss='categorical_crossentropy',\n",
    "              metrics=['accuracy'])\n",
    "\n",
    "results = model.fit(X_pure_train, y_pure_train,\n",
    "                   epochs=50, batch_size=10,\n",
    "                   validation_data=(X_val, y_val))"
   ]
  },
  {
   "cell_type": "markdown",
   "metadata": {},
   "source": [
    "$$\\large \\text{Softmax}(x_{i}) = \\frac{\\exp(x_i)}{\\sum_j \\exp(x_j)}$$\n",
    "\n",
    "The sofmax function outputs a number between 0 and 1 for each of our classes.  All of the probabilities of the classes sum up to 1.\n",
    "\n",
    "The number of nodes in our output layer equals the number of categories in our dataset.\n",
    "\n",
    "We also need a new loss function: **categorical crossentropy**, which calculates a separate loss for each label and then sums the results."
   ]
  },
  {
   "cell_type": "code",
   "execution_count": 48,
   "metadata": {
    "ExecuteTime": {
     "end_time": "2022-05-05T18:59:00.926473Z",
     "start_time": "2022-05-05T18:59:00.806400Z"
    }
   },
   "outputs": [],
   "source": [
    "history = results.history\n",
    "training_loss = history['loss']\n",
    "val_loss = history['val_loss']\n",
    "training_accuracy = history['accuracy']\n",
    "val_accuracy = history['val_accuracy']"
   ]
  },
  {
   "cell_type": "code",
   "execution_count": 49,
   "metadata": {
    "ExecuteTime": {
     "end_time": "2022-05-05T18:59:01.726544Z",
     "start_time": "2022-05-05T18:59:01.075184Z"
    }
   },
   "outputs": [
    {
     "data": {
      "image/png": "[encoded data removed]",
      "text/plain": [
       "<Figure size 1080x360 with 2 Axes>"
      ]
     },
     "metadata": {
      "needs_background": "light"
     },
     "output_type": "display_data"
    }
   ],
   "source": [
    "fig, (ax1,ax2) = plt.subplots(1,2,figsize=(15,5))\n",
    "\n",
    "\n",
    "sns.lineplot(x=list(range(len(training_loss))),\n",
    "             y=training_loss, color='r', label='training', ax=ax1)\n",
    "sns.lineplot(x=list(range(len(val_loss))),\n",
    "             y=val_loss, color='b', label='validation', ax=ax1)\n",
    "sns.lineplot(x=list(range(len(training_loss))),\n",
    "             y=training_accuracy, color='r', label='training',ax=ax2)\n",
    "sns.lineplot(x=list(range(len(val_loss))),\n",
    "             y=val_accuracy, color='b', label='validation',ax=ax2)\n",
    "\n",
    "ax1.set_title('Loss')\n",
    "ax2.set_title('Accuracy')\n",
    "ax1.legend();"
   ]
  },
  {
   "cell_type": "code",
   "execution_count": 50,
   "metadata": {
    "ExecuteTime": {
     "end_time": "2022-05-05T19:00:53.349976Z",
     "start_time": "2022-05-05T19:00:52.922490Z"
    }
   },
   "outputs": [],
   "source": [
    "preds =model.predict(X_test)"
   ]
  },
  {
   "cell_type": "code",
   "execution_count": 51,
   "metadata": {
    "ExecuteTime": {
     "end_time": "2022-05-05T19:01:00.434259Z",
     "start_time": "2022-05-05T19:01:00.292588Z"
    }
   },
   "outputs": [
    {
     "data": {
      "text/plain": [
       "array([1.8342581e-02, 4.4714328e-04, 2.4206106e-09, 5.2912724e-10,\n",
       "       1.2023047e-05, 2.7309684e-04, 9.7963631e-01, 2.4563471e-10,\n",
       "       1.2879629e-03, 8.4382043e-07], dtype=float32)"
      ]
     },
     "execution_count": 51,
     "metadata": {},
     "output_type": "execute_result"
    }
   ],
   "source": [
    "preds[0]"
   ]
  },
  {
   "cell_type": "code",
   "execution_count": 52,
   "metadata": {
    "ExecuteTime": {
     "end_time": "2022-05-05T19:01:34.200466Z",
     "start_time": "2022-05-05T19:01:34.020277Z"
    }
   },
   "outputs": [
    {
     "data": {
      "text/plain": [
       "(0.9796363, 6)"
      ]
     },
     "execution_count": 52,
     "metadata": {},
     "output_type": "execute_result"
    }
   ],
   "source": [
    "preds[0].max(), preds[0].argmax()"
   ]
  },
  {
   "cell_type": "code",
   "execution_count": 53,
   "metadata": {
    "ExecuteTime": {
     "end_time": "2022-05-05T19:01:58.833188Z",
     "start_time": "2022-05-05T19:01:58.689003Z"
    }
   },
   "outputs": [
    {
     "data": {
      "text/plain": [
       "(360, 64)"
      ]
     },
     "execution_count": 53,
     "metadata": {},
     "output_type": "execute_result"
    }
   ],
   "source": [
    "X_test.shape"
   ]
  },
  {
   "cell_type": "code",
   "execution_count": 54,
   "metadata": {
    "ExecuteTime": {
     "end_time": "2022-05-05T19:02:21.676450Z",
     "start_time": "2022-05-05T19:02:21.354732Z"
    }
   },
   "outputs": [
    {
     "data": {
      "text/plain": [
       "<matplotlib.image.AxesImage at 0x7fc4514d4910>"
      ]
     },
     "execution_count": 54,
     "metadata": {},
     "output_type": "execute_result"
    },
    {
     "data": {
      "image/png": "[encoded data removed]",
      "text/plain": [
       "<Figure size 432x288 with 1 Axes>"
      ]
     },
     "metadata": {
      "needs_background": "light"
     },
     "output_type": "display_data"
    }
   ],
   "source": [
    "plt.imshow(X_test[0].reshape(8,8), cmap='Greys')"
   ]
  },
  {
   "cell_type": "code",
   "execution_count": 55,
   "metadata": {
    "ExecuteTime": {
     "end_time": "2022-05-05T19:02:45.951580Z",
     "start_time": "2022-05-05T19:02:45.831815Z"
    }
   },
   "outputs": [
    {
     "data": {
      "text/plain": [
       "6"
      ]
     },
     "execution_count": 55,
     "metadata": {},
     "output_type": "execute_result"
    }
   ],
   "source": [
    "y_train[0]"
   ]
  },
  {
   "cell_type": "code",
   "execution_count": 56,
   "metadata": {
    "ExecuteTime": {
     "end_time": "2022-05-05T19:03:43.879684Z",
     "start_time": "2022-05-05T19:03:43.755125Z"
    }
   },
   "outputs": [
    {
     "data": {
      "text/plain": [
       "array([[6],\n",
       "       [9],\n",
       "       [3],\n",
       "       [7],\n",
       "       [2],\n",
       "       [1],\n",
       "       [5],\n",
       "       [2],\n",
       "       [5],\n",
       "       [2],\n",
       "       [1],\n",
       "       [9],\n",
       "       [4],\n",
       "       [0],\n",
       "       [4],\n",
       "       [2],\n",
       "       [3],\n",
       "       [7],\n",
       "       [8],\n",
       "       [8],\n",
       "       [4],\n",
       "       [3],\n",
       "       [9],\n",
       "       [7],\n",
       "       [5],\n",
       "       [6],\n",
       "       [3],\n",
       "       [5],\n",
       "       [6],\n",
       "       [3],\n",
       "       [4],\n",
       "       [9],\n",
       "       [1],\n",
       "       [4],\n",
       "       [4],\n",
       "       [6],\n",
       "       [9],\n",
       "       [4],\n",
       "       [7],\n",
       "       [6],\n",
       "       [6],\n",
       "       [9],\n",
       "       [1],\n",
       "       [3],\n",
       "       [6],\n",
       "       [1],\n",
       "       [3],\n",
       "       [0],\n",
       "       [6],\n",
       "       [5],\n",
       "       [5],\n",
       "       [1],\n",
       "       [9],\n",
       "       [5],\n",
       "       [6],\n",
       "       [0],\n",
       "       [9],\n",
       "       [0],\n",
       "       [0],\n",
       "       [1],\n",
       "       [0],\n",
       "       [4],\n",
       "       [5],\n",
       "       [2],\n",
       "       [4],\n",
       "       [5],\n",
       "       [7],\n",
       "       [0],\n",
       "       [7],\n",
       "       [5],\n",
       "       [9],\n",
       "       [5],\n",
       "       [5],\n",
       "       [4],\n",
       "       [7],\n",
       "       [0],\n",
       "       [4],\n",
       "       [5],\n",
       "       [5],\n",
       "       [9],\n",
       "       [9],\n",
       "       [0],\n",
       "       [2],\n",
       "       [3],\n",
       "       [8],\n",
       "       [0],\n",
       "       [6],\n",
       "       [4],\n",
       "       [4],\n",
       "       [9],\n",
       "       [1],\n",
       "       [2],\n",
       "       [8],\n",
       "       [3],\n",
       "       [5],\n",
       "       [2],\n",
       "       [9],\n",
       "       [0],\n",
       "       [4],\n",
       "       [4],\n",
       "       [4],\n",
       "       [3],\n",
       "       [5],\n",
       "       [3],\n",
       "       [1],\n",
       "       [3],\n",
       "       [5],\n",
       "       [9],\n",
       "       [4],\n",
       "       [2],\n",
       "       [7],\n",
       "       [7],\n",
       "       [4],\n",
       "       [4],\n",
       "       [1],\n",
       "       [9],\n",
       "       [2],\n",
       "       [7],\n",
       "       [8],\n",
       "       [7],\n",
       "       [2],\n",
       "       [6],\n",
       "       [9],\n",
       "       [4],\n",
       "       [0],\n",
       "       [7],\n",
       "       [2],\n",
       "       [7],\n",
       "       [5],\n",
       "       [8],\n",
       "       [7],\n",
       "       [5],\n",
       "       [7],\n",
       "       [7],\n",
       "       [0],\n",
       "       [6],\n",
       "       [6],\n",
       "       [4],\n",
       "       [2],\n",
       "       [8],\n",
       "       [0],\n",
       "       [9],\n",
       "       [4],\n",
       "       [6],\n",
       "       [9],\n",
       "       [9],\n",
       "       [6],\n",
       "       [9],\n",
       "       [0],\n",
       "       [3],\n",
       "       [5],\n",
       "       [6],\n",
       "       [6],\n",
       "       [0],\n",
       "       [6],\n",
       "       [4],\n",
       "       [3],\n",
       "       [9],\n",
       "       [3],\n",
       "       [9],\n",
       "       [7],\n",
       "       [2],\n",
       "       [9],\n",
       "       [0],\n",
       "       [4],\n",
       "       [5],\n",
       "       [3],\n",
       "       [6],\n",
       "       [5],\n",
       "       [9],\n",
       "       [9],\n",
       "       [8],\n",
       "       [4],\n",
       "       [2],\n",
       "       [1],\n",
       "       [3],\n",
       "       [7],\n",
       "       [7],\n",
       "       [2],\n",
       "       [2],\n",
       "       [3],\n",
       "       [9],\n",
       "       [8],\n",
       "       [0],\n",
       "       [3],\n",
       "       [2],\n",
       "       [2],\n",
       "       [5],\n",
       "       [6],\n",
       "       [9],\n",
       "       [9],\n",
       "       [4],\n",
       "       [1],\n",
       "       [5],\n",
       "       [4],\n",
       "       [2],\n",
       "       [3],\n",
       "       [6],\n",
       "       [4],\n",
       "       [8],\n",
       "       [5],\n",
       "       [9],\n",
       "       [5],\n",
       "       [7],\n",
       "       [8],\n",
       "       [9],\n",
       "       [4],\n",
       "       [8],\n",
       "       [1],\n",
       "       [5],\n",
       "       [4],\n",
       "       [4],\n",
       "       [9],\n",
       "       [6],\n",
       "       [1],\n",
       "       [8],\n",
       "       [6],\n",
       "       [0],\n",
       "       [4],\n",
       "       [5],\n",
       "       [2],\n",
       "       [7],\n",
       "       [4],\n",
       "       [6],\n",
       "       [4],\n",
       "       [5],\n",
       "       [6],\n",
       "       [0],\n",
       "       [3],\n",
       "       [2],\n",
       "       [3],\n",
       "       [6],\n",
       "       [7],\n",
       "       [1],\n",
       "       [5],\n",
       "       [1],\n",
       "       [4],\n",
       "       [7],\n",
       "       [6],\n",
       "       [8],\n",
       "       [8],\n",
       "       [5],\n",
       "       [5],\n",
       "       [1],\n",
       "       [6],\n",
       "       [2],\n",
       "       [8],\n",
       "       [8],\n",
       "       [9],\n",
       "       [9],\n",
       "       [7],\n",
       "       [6],\n",
       "       [2],\n",
       "       [2],\n",
       "       [2],\n",
       "       [3],\n",
       "       [4],\n",
       "       [8],\n",
       "       [8],\n",
       "       [3],\n",
       "       [6],\n",
       "       [0],\n",
       "       [9],\n",
       "       [7],\n",
       "       [7],\n",
       "       [0],\n",
       "       [1],\n",
       "       [0],\n",
       "       [4],\n",
       "       [5],\n",
       "       [1],\n",
       "       [5],\n",
       "       [3],\n",
       "       [6],\n",
       "       [0],\n",
       "       [4],\n",
       "       [1],\n",
       "       [0],\n",
       "       [0],\n",
       "       [3],\n",
       "       [6],\n",
       "       [5],\n",
       "       [9],\n",
       "       [7],\n",
       "       [3],\n",
       "       [5],\n",
       "       [5],\n",
       "       [9],\n",
       "       [9],\n",
       "       [8],\n",
       "       [5],\n",
       "       [3],\n",
       "       [3],\n",
       "       [2],\n",
       "       [0],\n",
       "       [5],\n",
       "       [8],\n",
       "       [3],\n",
       "       [4],\n",
       "       [0],\n",
       "       [2],\n",
       "       [4],\n",
       "       [6],\n",
       "       [4],\n",
       "       [3],\n",
       "       [4],\n",
       "       [5],\n",
       "       [0],\n",
       "       [5],\n",
       "       [2],\n",
       "       [1],\n",
       "       [3],\n",
       "       [1],\n",
       "       [4],\n",
       "       [1],\n",
       "       [1],\n",
       "       [7],\n",
       "       [0],\n",
       "       [1],\n",
       "       [5],\n",
       "       [2],\n",
       "       [1],\n",
       "       [2],\n",
       "       [8],\n",
       "       [7],\n",
       "       [0],\n",
       "       [6],\n",
       "       [4],\n",
       "       [8],\n",
       "       [8],\n",
       "       [5],\n",
       "       [1],\n",
       "       [8],\n",
       "       [4],\n",
       "       [5],\n",
       "       [8],\n",
       "       [7],\n",
       "       [9],\n",
       "       [8],\n",
       "       [5],\n",
       "       [0],\n",
       "       [6],\n",
       "       [2],\n",
       "       [0],\n",
       "       [7],\n",
       "       [9],\n",
       "       [8],\n",
       "       [9],\n",
       "       [5],\n",
       "       [2],\n",
       "       [7],\n",
       "       [7],\n",
       "       [1],\n",
       "       [8],\n",
       "       [7],\n",
       "       [4],\n",
       "       [3],\n",
       "       [8],\n",
       "       [3],\n",
       "       [5]])"
      ]
     },
     "execution_count": 56,
     "metadata": {},
     "output_type": "execute_result"
    }
   ],
   "source": [
    "y_test_restored = ohe.inverse_transform(y_test)\n",
    "y_test_restored"
   ]
  },
  {
   "cell_type": "code",
   "execution_count": 58,
   "metadata": {
    "ExecuteTime": {
     "end_time": "2022-05-05T19:04:36.134993Z",
     "start_time": "2022-05-05T19:04:36.016278Z"
    }
   },
   "outputs": [
    {
     "data": {
      "text/plain": [
       "array([6, 9, 3, 7, 2, 1, 5, 2, 5, 3, 1, 8, 4, 0, 4, 2, 3, 7, 8, 8, 4, 3,\n",
       "       9, 7, 5, 6, 3, 5, 6, 3, 4, 9, 1, 4, 4, 6, 9, 4, 7, 6, 6, 9, 1, 3,\n",
       "       6, 1, 3, 0, 6, 5, 5, 1, 9, 5, 6, 0, 9, 0, 0, 1, 5, 4, 5, 2, 4, 5,\n",
       "       7, 0, 7, 5, 9, 5, 5, 4, 7, 0, 4, 5, 5, 9, 9, 0, 2, 3, 8, 0, 6, 4,\n",
       "       4, 9, 1, 2, 8, 3, 5, 2, 9, 4, 4, 4, 4, 3, 5, 3, 1, 3, 5, 9, 4, 2,\n",
       "       7, 7, 4, 4, 1, 9, 2, 7, 8, 7, 2, 6, 9, 4, 0, 7, 2, 7, 5, 8, 7, 5,\n",
       "       7, 9, 0, 6, 6, 4, 2, 8, 0, 9, 4, 6, 9, 9, 6, 9, 0, 5, 5, 6, 6, 0,\n",
       "       6, 4, 2, 9, 3, 8, 7, 2, 3, 0, 4, 5, 3, 6, 5, 9, 9, 8, 4, 2, 1, 3,\n",
       "       7, 7, 2, 2, 3, 9, 8, 0, 3, 2, 2, 5, 6, 9, 9, 4, 1, 5, 4, 2, 3, 6,\n",
       "       4, 8, 5, 9, 5, 7, 1, 9, 4, 8, 1, 5, 4, 4, 9, 6, 1, 8, 6, 0, 4, 5,\n",
       "       2, 7, 4, 6, 4, 5, 6, 0, 3, 2, 3, 6, 7, 1, 5, 1, 4, 7, 6, 5, 2, 5,\n",
       "       5, 1, 0, 2, 8, 8, 9, 9, 7, 6, 2, 2, 2, 3, 4, 8, 8, 3, 6, 0, 3, 7,\n",
       "       7, 0, 1, 0, 4, 5, 1, 5, 3, 6, 0, 4, 2, 0, 0, 3, 6, 5, 9, 7, 3, 5,\n",
       "       5, 9, 9, 8, 5, 3, 3, 2, 0, 5, 8, 3, 4, 0, 2, 4, 6, 4, 3, 4, 5, 0,\n",
       "       5, 2, 1, 3, 1, 4, 1, 1, 7, 0, 1, 5, 8, 1, 2, 8, 7, 0, 6, 4, 8, 8,\n",
       "       5, 1, 8, 4, 5, 8, 7, 9, 8, 8, 0, 6, 2, 0, 7, 9, 8, 9, 5, 2, 7, 7,\n",
       "       1, 8, 7, 4, 3, 1, 3, 5])"
      ]
     },
     "execution_count": 58,
     "metadata": {},
     "output_type": "execute_result"
    }
   ],
   "source": [
    "y_hat = np.argmax(preds, axis=-1)\n",
    "y_hat"
   ]
  },
  {
   "cell_type": "code",
   "execution_count": 59,
   "metadata": {
    "ExecuteTime": {
     "end_time": "2022-05-05T19:04:58.984035Z",
     "start_time": "2022-05-05T19:04:58.859871Z"
    }
   },
   "outputs": [
    {
     "data": {
      "text/plain": [
       "array([[31,  0,  0,  0,  1,  1,  0,  0,  0,  0],\n",
       "       [ 0, 27,  1,  0,  0,  0,  0,  0,  0,  0],\n",
       "       [ 0,  0, 31,  1,  0,  0,  0,  0,  1,  0],\n",
       "       [ 0,  0,  1, 32,  0,  1,  0,  0,  0,  0],\n",
       "       [ 0,  0,  0,  0, 46,  0,  0,  0,  0,  0],\n",
       "       [ 0,  0,  0,  0,  0, 46,  0,  0,  1,  0],\n",
       "       [ 1,  0,  0,  0,  0,  0, 34,  0,  0,  0],\n",
       "       [ 0,  0,  0,  0,  0,  0,  0, 33,  0,  1],\n",
       "       [ 0,  2,  1,  0,  0,  1,  0,  0, 26,  0],\n",
       "       [ 0,  0,  0,  2,  0,  0,  0,  0,  2, 36]])"
      ]
     },
     "execution_count": 59,
     "metadata": {},
     "output_type": "execute_result"
    }
   ],
   "source": [
    "confusion_matrix(y_test_restored, y_hat)"
   ]
  },
  {
   "cell_type": "code",
   "execution_count": 60,
   "metadata": {
    "ExecuteTime": {
     "end_time": "2022-05-05T19:05:43.592544Z",
     "start_time": "2022-05-05T19:05:42.750843Z"
    }
   },
   "outputs": [
    {
     "name": "stdout",
     "output_type": "stream",
     "text": [
      "Confusion Matrix, without normalization\n",
      "[[31  0  0  0  1  1  0  0  0  0]\n",
      " [ 0 27  1  0  0  0  0  0  0  0]\n",
      " [ 0  0 31  1  0  0  0  0  1  0]\n",
      " [ 0  0  1 32  0  1  0  0  0  0]\n",
      " [ 0  0  0  0 46  0  0  0  0  0]\n",
      " [ 0  0  0  0  0 46  0  0  1  0]\n",
      " [ 1  0  0  0  0  0 34  0  0  0]\n",
      " [ 0  0  0  0  0  0  0 33  0  1]\n",
      " [ 0  2  1  0  0  1  0  0 26  0]\n",
      " [ 0  0  0  2  0  0  0  0  2 36]]\n"
     ]
    },
    {
     "data": {
      "image/png": "[encoded data removed]",
      "text/plain": [
       "<Figure size 432x288 with 2 Axes>"
      ]
     },
     "metadata": {
      "needs_background": "light"
     },
     "output_type": "display_data"
    }
   ],
   "source": [
    "plot_confusion_matrix(confusion_matrix(y_test_restored, y_hat), classes=list(range(11)))"
   ]
  },
  {
   "cell_type": "markdown",
   "metadata": {},
   "source": [
    "Wow, look at that performance!  \n",
    "\n",
    "That is great, but remember, we were dealing with simple black and white images.  With color, our basic neural net will have less success.\n",
    "\n",
    "We will explore more advanced tools in the coming days.\n"
   ]
  }
 ],
 "metadata": {
  "celltoolbar": "Raw Cell Format",
  "colab": {
   "collapsed_sections": [],
   "name": "intro-to-keras.ipynb",
   "provenance": []
  },
  "kernelspec": {
   "display_name": "tf",
   "language": "python",
   "name": "tf"
  },
  "language_info": {
   "codemirror_mode": {
    "name": "ipython",
    "version": 3
   },
   "file_extension": ".py",
   "mimetype": "text/x-python",
   "name": "python",
   "nbconvert_exporter": "python",
   "pygments_lexer": "ipython3",
   "version": "3.7.11"
  },
  "toc": {
   "base_numbering": 1,
   "nav_menu": {},
   "number_sections": true,
   "sideBar": true,
   "skip_h1_title": false,
   "title_cell": "Table of Contents",
   "title_sidebar": "Contents",
   "toc_cell": false,
   "toc_position": {},
   "toc_section_display": true,
   "toc_window_display": false
  },
  "varInspector": {
   "cols": {
    "lenName": 16,
    "lenType": 16,
    "lenVar": 40
   },
   "kernels_config": {
    "python": {
     "delete_cmd_postfix": "",
     "delete_cmd_prefix": "del ",
     "library": "var_list.py",
     "varRefreshCmd": "print(var_dic_list())"
    },
    "r": {
     "delete_cmd_postfix": ") ",
     "delete_cmd_prefix": "rm(",
     "library": "var_list.r",
     "varRefreshCmd": "cat(var_dic_list()) "
    }
   },
   "types_to_exclude": [
    "module",
    "function",
    "builtin_function_or_method",
    "instance",
    "_Feature"
   ],
   "window_display": true
  }
 },
 "nbformat": 4,
 "nbformat_minor": 4
}
