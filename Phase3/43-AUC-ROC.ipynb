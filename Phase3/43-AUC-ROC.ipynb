{
 "cells": [
  {
   "cell_type": "markdown",
   "metadata": {
    "toc": true
   },
   "source": [
    "<h1>Table of Contents<span class=\"tocSkip\"></span></h1>\n",
    "<div class=\"toc\"><ul class=\"toc-item\"><li><span><a href=\"#Objectives\" data-toc-modified-id=\"Objectives-1\"><span class=\"toc-item-num\">1&nbsp;&nbsp;</span>Objectives</a></span></li><li><span><a href=\"#Motivation\" data-toc-modified-id=\"Motivation-2\"><span class=\"toc-item-num\">2&nbsp;&nbsp;</span>Motivation</a></span></li><li><span><a href=\"#Scenario:-Identifying-Heart-Disease\" data-toc-modified-id=\"Scenario:-Identifying-Heart-Disease-3\"><span class=\"toc-item-num\">3&nbsp;&nbsp;</span>Scenario: Identifying Heart Disease</a></span><ul class=\"toc-item\"><li><span><a href=\"#Predicting-Labels\" data-toc-modified-id=\"Predicting-Labels-3.1\"><span class=\"toc-item-num\">3.1&nbsp;&nbsp;</span>Predicting Labels</a></span></li><li><span><a href=\"#Probability-Estimates\" data-toc-modified-id=\"Probability-Estimates-3.2\"><span class=\"toc-item-num\">3.2&nbsp;&nbsp;</span>Probability Estimates</a></span></li><li><span><a href=\"#Thresholds\" data-toc-modified-id=\"Thresholds-3.3\"><span class=\"toc-item-num\">3.3&nbsp;&nbsp;</span>Thresholds</a></span><ul class=\"toc-item\"><li><span><a href=\"#But-Are-We-Stuck-w/0.5-Threshold?\" data-toc-modified-id=\"But-Are-We-Stuck-w/0.5-Threshold?-3.3.1\"><span class=\"toc-item-num\">3.3.1&nbsp;&nbsp;</span>But Are We Stuck w/0.5 Threshold?</a></span></li></ul></li><li><span><a href=\"#True-&amp;-False-Positive-Rates\" data-toc-modified-id=\"True-&amp;-False-Positive-Rates-3.4\"><span class=\"toc-item-num\">3.4&nbsp;&nbsp;</span>True &amp; False Positive Rates</a></span><ul class=\"toc-item\"><li><span><a href=\"#True-Positive-Rate\" data-toc-modified-id=\"True-Positive-Rate-3.4.1\"><span class=\"toc-item-num\">3.4.1&nbsp;&nbsp;</span>True Positive Rate</a></span></li><li><span><a href=\"#False-Positive-Rate\" data-toc-modified-id=\"False-Positive-Rate-3.4.2\"><span class=\"toc-item-num\">3.4.2&nbsp;&nbsp;</span>False Positive Rate</a></span></li></ul></li><li><span><a href=\"#Adjusting-the-threshold\" data-toc-modified-id=\"Adjusting-the-threshold-3.5\"><span class=\"toc-item-num\">3.5&nbsp;&nbsp;</span>Adjusting the threshold</a></span></li></ul></li><li><span><a href=\"#The-Receiver-Operating-Characteristic-(ROC)-Curve\" data-toc-modified-id=\"The-Receiver-Operating-Characteristic-(ROC)-Curve-4\"><span class=\"toc-item-num\">4&nbsp;&nbsp;</span>The Receiver Operating Characteristic (ROC) Curve</a></span><ul class=\"toc-item\"><li><span><a href=\"#Plotting-the-Curve\" data-toc-modified-id=\"Plotting-the-Curve-4.1\"><span class=\"toc-item-num\">4.1&nbsp;&nbsp;</span>Plotting the Curve</a></span><ul class=\"toc-item\"><li><span><a href=\"#plot_roc_curve()\" data-toc-modified-id=\"plot_roc_curve()-4.1.1\"><span class=\"toc-item-num\">4.1.1&nbsp;&nbsp;</span><code>plot_roc_curve()</code></a></span></li></ul></li><li><span><a href=\"#Area-Under-the-Curve-(AUC)\" data-toc-modified-id=\"Area-Under-the-Curve-(AUC)-4.2\"><span class=\"toc-item-num\">4.2&nbsp;&nbsp;</span>Area Under the Curve (AUC)</a></span><ul class=\"toc-item\"><li><span><a href=\"#AUC-Calculation-with-sklearn\" data-toc-modified-id=\"AUC-Calculation-with-sklearn-4.2.1\"><span class=\"toc-item-num\">4.2.1&nbsp;&nbsp;</span>AUC Calculation with <code>sklearn</code></a></span></li></ul></li><li><span><a href=\"#Sidebar:-Visualizing-Threshold-Changes\" data-toc-modified-id=\"Sidebar:-Visualizing-Threshold-Changes-4.3\"><span class=\"toc-item-num\">4.3&nbsp;&nbsp;</span>Sidebar: Visualizing Threshold Changes</a></span></li></ul></li><li><span><a href=\"#Scenario:-Breast-Cancer-Prediction\" data-toc-modified-id=\"Scenario:-Breast-Cancer-Prediction-5\"><span class=\"toc-item-num\">5&nbsp;&nbsp;</span>Scenario: Breast Cancer Prediction</a></span><ul class=\"toc-item\"><li><span><a href=\"#Task\" data-toc-modified-id=\"Task-5.1\"><span class=\"toc-item-num\">5.1&nbsp;&nbsp;</span>Task</a></span></li></ul></li><li><span><a href=\"#Oversampling\" data-toc-modified-id=\"Oversampling-6\"><span class=\"toc-item-num\">6&nbsp;&nbsp;</span>Oversampling</a></span></li><li><span><a href=\"#Loss-Functions\" data-toc-modified-id=\"Loss-Functions-7\"><span class=\"toc-item-num\">7&nbsp;&nbsp;</span>Loss Functions</a></span></li><li><span><a href=\"#Level-Up:-Log-Loss-by-Hand\" data-toc-modified-id=\"Level-Up:-Log-Loss-by-Hand-8\"><span class=\"toc-item-num\">8&nbsp;&nbsp;</span>Level Up: Log Loss by Hand</a></span></li></ul></div>"
   ]
  },
  {
   "cell_type": "code",
   "execution_count": 26,
   "metadata": {
    "ExecuteTime": {
     "end_time": "2022-04-08T18:57:01.810704Z",
     "start_time": "2022-04-08T18:57:01.801702Z"
    }
   },
   "outputs": [],
   "source": [
    "import numpy as np\n",
    "import pandas as pd\n",
    "\n",
    "from matplotlib import pyplot as plt\n",
    "\n",
    "from sklearn.utils import resample\n",
    "from sklearn.datasets import load_breast_cancer, load_iris, make_classification\n",
    "from sklearn.model_selection import train_test_split\n",
    "from sklearn.preprocessing import StandardScaler\n",
    "from sklearn.linear_model import LogisticRegression\n",
    "\n",
    "from sklearn.metrics import confusion_matrix, plot_confusion_matrix,\\\n",
    "    precision_score, recall_score, accuracy_score, f1_score, log_loss,\\\n",
    "    roc_curve, roc_auc_score, classification_report, plot_roc_curve"
   ]
  },
  {
   "cell_type": "markdown",
   "metadata": {},
   "source": [
    "# Objectives"
   ]
  },
  {
   "cell_type": "markdown",
   "metadata": {},
   "source": [
    "- Calculate and interpret probability estimates\n",
    "- Adjust the threshold of a logistic regression model\n",
    "- Visualize, calculate and interpret the AUC-ROC metric"
   ]
  },
  {
   "cell_type": "markdown",
   "metadata": {},
   "source": [
    "# Motivation"
   ]
  },
  {
   "cell_type": "markdown",
   "metadata": {},
   "source": [
    "Now that we've learned how to evaluate a classification model's predictions, let's dig deeper to see how else we might evaluate our models and how we can use that information to improve them."
   ]
  },
  {
   "cell_type": "markdown",
   "metadata": {},
   "source": [
    "# Scenario: Identifying Heart Disease"
   ]
  },
  {
   "cell_type": "markdown",
   "metadata": {},
   "source": [
    "Let's use [this UCI dataset](https://archive.ics.uci.edu/ml/datasets/Heart+Disease) about predicting heart disease."
   ]
  },
  {
   "cell_type": "code",
   "execution_count": 27,
   "metadata": {
    "ExecuteTime": {
     "end_time": "2022-04-08T18:57:01.826708Z",
     "start_time": "2022-04-08T18:57:01.811705Z"
    },
    "scrolled": false
   },
   "outputs": [
    {
     "name": "stdout",
     "output_type": "stream",
     "text": [
      "<class 'pandas.core.frame.DataFrame'>\n",
      "RangeIndex: 303 entries, 0 to 302\n",
      "Data columns (total 14 columns):\n",
      " #   Column    Non-Null Count  Dtype  \n",
      "---  ------    --------------  -----  \n",
      " 0   age       303 non-null    int64  \n",
      " 1   sex       303 non-null    int64  \n",
      " 2   cp        303 non-null    int64  \n",
      " 3   trestbps  303 non-null    int64  \n",
      " 4   chol      303 non-null    int64  \n",
      " 5   fbs       303 non-null    int64  \n",
      " 6   restecg   303 non-null    int64  \n",
      " 7   thalach   303 non-null    int64  \n",
      " 8   exang     303 non-null    int64  \n",
      " 9   oldpeak   303 non-null    float64\n",
      " 10  slope     303 non-null    int64  \n",
      " 11  ca        303 non-null    int64  \n",
      " 12  thal      303 non-null    int64  \n",
      " 13  target    303 non-null    int64  \n",
      "dtypes: float64(1), int64(13)\n",
      "memory usage: 33.3 KB\n"
     ]
    }
   ],
   "source": [
    "hd_data = pd.read_csv('data/heart.csv')\n",
    "hd_data.info()"
   ]
  },
  {
   "cell_type": "code",
   "execution_count": 28,
   "metadata": {
    "ExecuteTime": {
     "end_time": "2022-04-08T18:57:01.841711Z",
     "start_time": "2022-04-08T18:57:01.827708Z"
    }
   },
   "outputs": [
    {
     "data": {
      "text/html": [
       "<div>\n",
       "<style scoped>\n",
       "    .dataframe tbody tr th:only-of-type {\n",
       "        vertical-align: middle;\n",
       "    }\n",
       "\n",
       "    .dataframe tbody tr th {\n",
       "        vertical-align: top;\n",
       "    }\n",
       "\n",
       "    .dataframe thead th {\n",
       "        text-align: right;\n",
       "    }\n",
       "</style>\n",
       "<table border=\"1\" class=\"dataframe\">\n",
       "  <thead>\n",
       "    <tr style=\"text-align: right;\">\n",
       "      <th></th>\n",
       "      <th>age</th>\n",
       "      <th>sex</th>\n",
       "      <th>cp</th>\n",
       "      <th>trestbps</th>\n",
       "      <th>chol</th>\n",
       "      <th>fbs</th>\n",
       "      <th>restecg</th>\n",
       "      <th>thalach</th>\n",
       "      <th>exang</th>\n",
       "      <th>oldpeak</th>\n",
       "      <th>slope</th>\n",
       "      <th>ca</th>\n",
       "      <th>thal</th>\n",
       "      <th>target</th>\n",
       "    </tr>\n",
       "  </thead>\n",
       "  <tbody>\n",
       "    <tr>\n",
       "      <th>0</th>\n",
       "      <td>63</td>\n",
       "      <td>1</td>\n",
       "      <td>3</td>\n",
       "      <td>145</td>\n",
       "      <td>233</td>\n",
       "      <td>1</td>\n",
       "      <td>0</td>\n",
       "      <td>150</td>\n",
       "      <td>0</td>\n",
       "      <td>2.3</td>\n",
       "      <td>0</td>\n",
       "      <td>0</td>\n",
       "      <td>1</td>\n",
       "      <td>1</td>\n",
       "    </tr>\n",
       "    <tr>\n",
       "      <th>1</th>\n",
       "      <td>37</td>\n",
       "      <td>1</td>\n",
       "      <td>2</td>\n",
       "      <td>130</td>\n",
       "      <td>250</td>\n",
       "      <td>0</td>\n",
       "      <td>1</td>\n",
       "      <td>187</td>\n",
       "      <td>0</td>\n",
       "      <td>3.5</td>\n",
       "      <td>0</td>\n",
       "      <td>0</td>\n",
       "      <td>2</td>\n",
       "      <td>1</td>\n",
       "    </tr>\n",
       "    <tr>\n",
       "      <th>2</th>\n",
       "      <td>41</td>\n",
       "      <td>0</td>\n",
       "      <td>1</td>\n",
       "      <td>130</td>\n",
       "      <td>204</td>\n",
       "      <td>0</td>\n",
       "      <td>0</td>\n",
       "      <td>172</td>\n",
       "      <td>0</td>\n",
       "      <td>1.4</td>\n",
       "      <td>2</td>\n",
       "      <td>0</td>\n",
       "      <td>2</td>\n",
       "      <td>1</td>\n",
       "    </tr>\n",
       "    <tr>\n",
       "      <th>3</th>\n",
       "      <td>56</td>\n",
       "      <td>1</td>\n",
       "      <td>1</td>\n",
       "      <td>120</td>\n",
       "      <td>236</td>\n",
       "      <td>0</td>\n",
       "      <td>1</td>\n",
       "      <td>178</td>\n",
       "      <td>0</td>\n",
       "      <td>0.8</td>\n",
       "      <td>2</td>\n",
       "      <td>0</td>\n",
       "      <td>2</td>\n",
       "      <td>1</td>\n",
       "    </tr>\n",
       "    <tr>\n",
       "      <th>4</th>\n",
       "      <td>57</td>\n",
       "      <td>0</td>\n",
       "      <td>0</td>\n",
       "      <td>120</td>\n",
       "      <td>354</td>\n",
       "      <td>0</td>\n",
       "      <td>1</td>\n",
       "      <td>163</td>\n",
       "      <td>1</td>\n",
       "      <td>0.6</td>\n",
       "      <td>2</td>\n",
       "      <td>0</td>\n",
       "      <td>2</td>\n",
       "      <td>1</td>\n",
       "    </tr>\n",
       "  </tbody>\n",
       "</table>\n",
       "</div>"
      ],
      "text/plain": [
       "   age  sex  cp  trestbps  chol  fbs  restecg  thalach  exang  oldpeak  slope  \\\n",
       "0   63    1   3       145   233    1        0      150      0      2.3      0   \n",
       "1   37    1   2       130   250    0        1      187      0      3.5      0   \n",
       "2   41    0   1       130   204    0        0      172      0      1.4      2   \n",
       "3   56    1   1       120   236    0        1      178      0      0.8      2   \n",
       "4   57    0   0       120   354    0        1      163      1      0.6      2   \n",
       "\n",
       "   ca  thal  target  \n",
       "0   0     1       1  \n",
       "1   0     2       1  \n",
       "2   0     2       1  \n",
       "3   0     2       1  \n",
       "4   0     2       1  "
      ]
     },
     "execution_count": 28,
     "metadata": {},
     "output_type": "execute_result"
    }
   ],
   "source": [
    "hd_data.head()"
   ]
  },
  {
   "cell_type": "code",
   "execution_count": 29,
   "metadata": {
    "ExecuteTime": {
     "end_time": "2022-04-08T18:57:01.873776Z",
     "start_time": "2022-04-08T18:57:01.842712Z"
    }
   },
   "outputs": [
    {
     "data": {
      "text/plain": [
       "LogisticRegression(random_state=42)"
      ]
     },
     "execution_count": 29,
     "metadata": {},
     "output_type": "execute_result"
    }
   ],
   "source": [
    "# Separate data into feature and target DataFrames\n",
    "hd_X = hd_data.drop('target', axis=1)\n",
    "hd_y = hd_data['target']\n",
    "\n",
    "# Split data into train and test sets\n",
    "X_train, X_test, y_train, y_test = train_test_split(hd_X, hd_y, test_size=.25,\n",
    "                                                   random_state=1)\n",
    "# Scale the data for modeling\n",
    "hd_scaler = StandardScaler()\n",
    "hd_scaler.fit(X_train)\n",
    "X_train_sc = hd_scaler.transform(X_train)\n",
    "X_test_sc = hd_scaler.transform(X_test)\n",
    "\n",
    "# Train a logistic regresssion model with the train data\n",
    "hd_model = LogisticRegression(random_state=42)\n",
    "hd_model.fit(X_train_sc, y_train)"
   ]
  },
  {
   "cell_type": "markdown",
   "metadata": {},
   "source": [
    "## Predicting Labels\n",
    "\n",
    "Let's look at some predictions from our example."
   ]
  },
  {
   "cell_type": "code",
   "execution_count": 30,
   "metadata": {
    "ExecuteTime": {
     "end_time": "2022-04-08T18:57:01.888721Z",
     "start_time": "2022-04-08T18:57:01.876724Z"
    }
   },
   "outputs": [
    {
     "data": {
      "text/plain": [
       "array([0, 1, 0, 0, 0, 0, 0, 1, 0, 1], dtype=int64)"
      ]
     },
     "execution_count": 30,
     "metadata": {},
     "output_type": "execute_result"
    }
   ],
   "source": [
    "y_pred = hd_model.predict(X_test_sc)\n",
    "y_pred[:10]"
   ]
  },
  {
   "cell_type": "markdown",
   "metadata": {},
   "source": [
    "When we run the `.predict()` method, `sklearn` gives us the predicted values for each transaction in our test set: 0 if predicting \"no heart disease\", 1 if predicting \"heart disease\""
   ]
  },
  {
   "cell_type": "markdown",
   "metadata": {
    "scrolled": true
   },
   "source": [
    "## Probability Estimates"
   ]
  },
  {
   "cell_type": "markdown",
   "metadata": {
    "scrolled": true
   },
   "source": [
    "If you remember how the logistic regression model works, though, it doesn't actually generate predicted values of 0 or 1. It creates an S-shaped curve to approximate the data, estimating the _probability_ that they belong to the target class. This probability takes a value _between_ 0 and 1."
   ]
  },
  {
   "cell_type": "markdown",
   "metadata": {
    "scrolled": true
   },
   "source": [
    "![](https://www.graphpad.com/guides/prism/latest/curve-fitting/images/hmfile_hash_38a8acae.png)\n",
    "\n",
    "Source: [GraphPad](https://www.graphpad.com/guides/prism/latest/curve-fitting/reg_simple_logistic_and_linear_difference.htm)"
   ]
  },
  {
   "cell_type": "markdown",
   "metadata": {},
   "source": [
    "We can get these estimated probabilities using the `.predict_proba()` method. Each element gives two probabilities: the estimate probability of being in the 0 class (not heart disease) and the 1 class (heart disease)"
   ]
  },
  {
   "cell_type": "code",
   "execution_count": 31,
   "metadata": {
    "ExecuteTime": {
     "end_time": "2022-04-08T18:57:01.903725Z",
     "start_time": "2022-04-08T18:57:01.890723Z"
    }
   },
   "outputs": [
    {
     "data": {
      "text/plain": [
       "array([[0.99583439, 0.00416561],\n",
       "       [0.2234686 , 0.7765314 ],\n",
       "       [0.91939062, 0.08060938],\n",
       "       [0.99402865, 0.00597135],\n",
       "       [0.97047813, 0.02952187]])"
      ]
     },
     "execution_count": 31,
     "metadata": {},
     "output_type": "execute_result"
    }
   ],
   "source": [
    "y_prob = hd_model.predict_proba(X_test_sc)\n",
    "y_prob[:5]"
   ]
  },
  {
   "cell_type": "code",
   "execution_count": 32,
   "metadata": {
    "ExecuteTime": {
     "end_time": "2022-04-08T18:57:01.919729Z",
     "start_time": "2022-04-08T18:57:01.909726Z"
    }
   },
   "outputs": [
    {
     "data": {
      "text/plain": [
       "array([0, 1, 0, 0, 0], dtype=int64)"
      ]
     },
     "execution_count": 32,
     "metadata": {},
     "output_type": "execute_result"
    }
   ],
   "source": [
    "y_pred[:5]"
   ]
  },
  {
   "cell_type": "markdown",
   "metadata": {},
   "source": [
    "## Thresholds"
   ]
  },
  {
   "cell_type": "markdown",
   "metadata": {},
   "source": [
    "How did we get those 0 and 1 label predictions, when the model only calculates probabilities between 0 and 1? "
   ]
  },
  {
   "cell_type": "markdown",
   "metadata": {},
   "source": [
    "The default behavior is simply to take the larger of these values as the \"real\" prediction. Since $0.996 > 0.004$, we'd understand the model to be predicting this point to belong to class \"0\" (or the negative class). An equivalent way of understanding the default behavior is that we either:\n",
    "\n",
    "- Round the predicted numbers up to 1 if they are at least as large as 0.5\n",
    "- Round them down to 0 if they are less than 0.5"
   ]
  },
  {
   "cell_type": "markdown",
   "metadata": {},
   "source": [
    "Since the probabilities must sum to 1, there will never be any problem with this algorithm. We refer to this value of 0.5 as the **threshold**."
   ]
  },
  {
   "cell_type": "markdown",
   "metadata": {},
   "source": [
    "### But Are We Stuck w/0.5 Threshold?"
   ]
  },
  {
   "cell_type": "markdown",
   "metadata": {},
   "source": [
    "But we don't have to do things this way. Suppose we're building a model that predicts the presence of cancer from X-ray scans. And suppose we get a pair of probabilities for some particular scan that look like this:\n",
    "\n",
    "- pred_neg: 0.52, pred_pos: 0.48\n",
    "\n",
    "Because false negatives (cancers not flagged) are *much* more costly than false positives (non-cancers flagged as cancers), we may well want to **adjust our threshold**. We might want to have our model predict \"positive\" if the corresponding probability is, say, as low as 0.4, or maybe even as low as 0.1. (Speaking for myself, if there was even a 10% chance that I had cancer, I think I'd probably want to know about it.) "
   ]
  },
  {
   "cell_type": "markdown",
   "metadata": {},
   "source": [
    "## True & False Positive Rates"
   ]
  },
  {
   "cell_type": "markdown",
   "metadata": {},
   "source": [
    "Adjusting the threshold can increase or decrease performance on different evaluation metrics. When doing this, data scientist often look at changes in two metrics: **True Positive Rate (TPR)** and **False Positive Rate (FPR)**. Let's define and calculate these. \n",
    "\n",
    "To do this, we'll first need to get the values from the confusion matrix."
   ]
  },
  {
   "cell_type": "code",
   "execution_count": 33,
   "metadata": {
    "ExecuteTime": {
     "end_time": "2022-04-08T18:57:01.934734Z",
     "start_time": "2022-04-08T18:57:01.922729Z"
    }
   },
   "outputs": [],
   "source": [
    "cm = confusion_matrix(y_test, hd_model.predict(X_test_sc))"
   ]
  },
  {
   "cell_type": "code",
   "execution_count": 34,
   "metadata": {
    "ExecuteTime": {
     "end_time": "2022-04-08T18:57:01.949739Z",
     "start_time": "2022-04-08T18:57:01.936736Z"
    }
   },
   "outputs": [
    {
     "data": {
      "text/plain": [
       "array([[24, 11],\n",
       "       [ 8, 33]], dtype=int64)"
      ]
     },
     "execution_count": 34,
     "metadata": {},
     "output_type": "execute_result"
    }
   ],
   "source": [
    "cm"
   ]
  },
  {
   "cell_type": "code",
   "execution_count": 35,
   "metadata": {
    "ExecuteTime": {
     "end_time": "2022-04-08T18:57:01.965742Z",
     "start_time": "2022-04-08T18:57:01.950739Z"
    }
   },
   "outputs": [],
   "source": [
    "tp, tn, fp, fn = cm[1][1], cm[0][0], cm[0][1], cm[1][0]"
   ]
  },
  {
   "cell_type": "markdown",
   "metadata": {},
   "source": [
    "### True Positive Rate"
   ]
  },
  {
   "cell_type": "markdown",
   "metadata": {},
   "source": [
    "True Positive Rate (TPR) is the same as recall, measuring how many of the positive cases we correctly classified as positive.\n",
    "\n",
    "**True Positive Rate (TPR)** = **Recall** = $\\frac{TP}{TP + FN}$"
   ]
  },
  {
   "cell_type": "markdown",
   "metadata": {},
   "source": [
    "How many of the patients with heart disease did my model identify?"
   ]
  },
  {
   "cell_type": "code",
   "execution_count": 36,
   "metadata": {
    "ExecuteTime": {
     "end_time": "2022-04-08T18:57:01.981746Z",
     "start_time": "2022-04-08T18:57:01.966743Z"
    }
   },
   "outputs": [
    {
     "name": "stdout",
     "output_type": "stream",
     "text": [
      "0.8048780487804879\n"
     ]
    }
   ],
   "source": [
    "tpr = tp / (tp + fn)\n",
    "print(tpr)"
   ]
  },
  {
   "cell_type": "markdown",
   "metadata": {},
   "source": [
    "### False Positive Rate"
   ]
  },
  {
   "cell_type": "markdown",
   "metadata": {},
   "source": [
    "False Positive Rate (FPR) measures how many of the negative casses we incorrectly classified as positive.\n",
    "\n",
    "**False Positive Rate (TPR)** = $\\frac{FP}{FP + TN}$"
   ]
  },
  {
   "cell_type": "markdown",
   "metadata": {},
   "source": [
    "How many of the patients without heart disease did my model flag as having heart disease?"
   ]
  },
  {
   "cell_type": "code",
   "execution_count": 37,
   "metadata": {
    "ExecuteTime": {
     "end_time": "2022-04-08T18:57:01.996749Z",
     "start_time": "2022-04-08T18:57:01.982746Z"
    }
   },
   "outputs": [
    {
     "name": "stdout",
     "output_type": "stream",
     "text": [
      "0.3142857142857143\n"
     ]
    }
   ],
   "source": [
    "fpr = fp / (fp + tn)\n",
    "print(fpr)"
   ]
  },
  {
   "cell_type": "markdown",
   "metadata": {},
   "source": [
    "## Adjusting the threshold"
   ]
  },
  {
   "cell_type": "markdown",
   "metadata": {},
   "source": [
    "The true- and false-positive rates will change if we make adjustments to the threshold. In fact, in the present case that was the whole point of making the adjustment: We want to minimize our false negatives."
   ]
  },
  {
   "cell_type": "markdown",
   "metadata": {},
   "source": [
    "This is how the plot of these rates takes shape."
   ]
  },
  {
   "cell_type": "markdown",
   "metadata": {},
   "source": [
    "Let's build a function that will take in our data, together with a threshold setting, and return the corresponding true- and false-positive rates."
   ]
  },
  {
   "cell_type": "markdown",
   "metadata": {},
   "source": [
    "# The Receiver Operating Characteristic (ROC) Curve"
   ]
  },
  {
   "cell_type": "markdown",
   "metadata": {},
   "source": [
    "The Receiver Operating Characteristic (ROC) curve plots the true-positive rate vs. the false-positive rate. Let's define these now:"
   ]
  },
  {
   "cell_type": "code",
   "execution_count": 38,
   "metadata": {
    "ExecuteTime": {
     "end_time": "2022-04-08T18:57:02.012753Z",
     "start_time": "2022-04-08T18:57:01.997750Z"
    }
   },
   "outputs": [],
   "source": [
    "def classify_rates(y_test, y_probs, model, thresh):\n",
    "    y_hat = []\n",
    "    for val in y_probs:                 # Each element in y_hat_probs is an array.\n",
    "        if val[0] < thresh:             # We'll set our own threshold for classifying\n",
    "            y_hat.append(1)             # a test point as positive! The lower my threshold,\n",
    "        else:                           # the fewer predicted positives I'll have. For the\n",
    "            y_hat.append(0)             # cancer example, I'd want to set a *high* threshold.\n",
    "    cm = confusion_matrix(y_test, y_hat)\n",
    "    tp, tn, fp, fn = cm[1][1], cm[0][0], cm[0][1], cm[1][0]\n",
    "    tpr = tp / (tp + fn)\n",
    "    fpr = fp / (fp + tn)\n",
    "    return tpr, fpr, f'tpr:{round(tpr, 3)}, fpr:{round(fpr, 3)}'"
   ]
  },
  {
   "cell_type": "markdown",
   "metadata": {},
   "source": [
    "True- and false-positive rates for various thresholds:"
   ]
  },
  {
   "cell_type": "code",
   "execution_count": 39,
   "metadata": {
    "ExecuteTime": {
     "end_time": "2022-04-08T18:57:04.056774Z",
     "start_time": "2022-04-08T18:57:04.045772Z"
    },
    "code_folding": []
   },
   "outputs": [
    {
     "name": "stdout",
     "output_type": "stream",
     "text": [
      "Rates at threshold = 0.0: tpr:0.0, fpr:0.0\n",
      "Rates at threshold = 0.1: tpr:0.463, fpr:0.029\n",
      "Rates at threshold = 0.2: tpr:0.537, fpr:0.114\n",
      "Rates at threshold = 0.3: tpr:0.732, fpr:0.286\n",
      "Rates at threshold = 0.4: tpr:0.805, fpr:0.286\n",
      "Rates at threshold = 0.5: tpr:0.805, fpr:0.314\n",
      "Rates at threshold = 0.6: tpr:0.878, fpr:0.314\n",
      "Rates at threshold = 0.7: tpr:0.878, fpr:0.314\n",
      "Rates at threshold = 0.8: tpr:0.902, fpr:0.4\n",
      "Rates at threshold = 0.9: tpr:0.951, fpr:0.429\n",
      "Rates at threshold = 1.0: tpr:1.0, fpr:1.0\n"
     ]
    }
   ],
   "source": [
    "for x in np.linspace(0, 1, 11):\n",
    "    print(f'Rates at threshold = {round(x, 2)}: '\\\n",
    "          + classify_rates(y_test, y_prob, hd_model, x)[2])"
   ]
  },
  {
   "cell_type": "markdown",
   "metadata": {},
   "source": [
    "As my threshold goes up, I'll have more positive predictions, which means I'll have both more true positives and more false positives."
   ]
  },
  {
   "cell_type": "markdown",
   "metadata": {},
   "source": [
    "> **NOTE**\n",
    ">\n",
    "> - I can artificially increase my true-positive rate to 1 by setting my threshold to 1, but at that point my false-positive rate is also 1! I'll have no true negatives and no false negatives. This will arise naturally if my training data has **very few (actual) negatives**. \n",
    "> - I can artificially reduce my false-positive rate to 0 by setting my threshold to 0, but at  that point my true-positive rate is also 0! I'll have no true positives and no false positives. This will arise naturally if my training data has **very few (actual)  positives**. "
   ]
  },
  {
   "cell_type": "markdown",
   "metadata": {},
   "source": [
    "## Plotting the Curve"
   ]
  },
  {
   "cell_type": "markdown",
   "metadata": {},
   "source": [
    "Let's plot our own ROC curve. We'll create an array of different thresholds and use our `classify_rates()` function to get the true- and false-positive rates for each threshold.\n",
    "\n",
    "One way of choosing a threshold **independently of business concerns** is to select the point on the curve that is furthest from (1, 0), the \"worse-case\" point where our true-positive rate is 0 and our false-positive rate is 1. So let's find that point as well:"
   ]
  },
  {
   "cell_type": "code",
   "execution_count": 17,
   "metadata": {
    "ExecuteTime": {
     "end_time": "2022-04-08T18:18:29.188946Z",
     "start_time": "2022-04-08T18:18:29.003902Z"
    },
    "scrolled": false
   },
   "outputs": [
    {
     "name": "stdout",
     "output_type": "stream",
     "text": [
      "With a threshold of 0.91: \n",
      "\tYou'll have a True Positive Rate of 0.976 \n",
      "\tand a False Positive Rate of 0.457\n"
     ]
    },
    {
     "data": {
      "image/png": "[encoded data removed]",
      "text/plain": [
       "<Figure size 576x432 with 1 Axes>"
      ]
     },
     "metadata": {
      "needs_background": "light"
     },
     "output_type": "display_data"
    }
   ],
   "source": [
    "tprs = []\n",
    "fprs = []\n",
    "diffs = []\n",
    "for x in np.linspace(0, 1, 101):\n",
    "    fprs.append(classify_rates(y_test, y_prob, hd_model, x)[1])\n",
    "    tprs.append(classify_rates(y_test, y_prob, hd_model, x)[0])\n",
    "    diffs.append(np.sqrt(tprs[-1]**2 + (1-fprs[-1])**2))\n",
    "    \n",
    "max_dist = diffs.index(np.max(diffs))\n",
    "print(f\"\"\"With a threshold of {(max_dist - 1) / 100}: \\n\"\"\"\n",
    "      f\"\"\"\\tYou\\'ll have a True Positive Rate of {round(tprs[max_dist], 3)} \\n\"\"\"\n",
    "      f\"\"\"\\tand a False Positive Rate of {round(fprs[max_dist], 3)}\"\"\")\n",
    "\n",
    "fig, ax = plt.subplots(figsize=(8, 6))\n",
    "ax.plot(fprs[:max_dist], tprs[:max_dist], 'r.')\n",
    "ax.plot(fprs[max_dist], tprs[max_dist], 'ko', ms=10)\n",
    "ax.plot(fprs[max_dist + 1:], tprs[max_dist + 1:], 'r.')\n",
    "ax.plot(fprs, fprs, '.');"
   ]
  },
  {
   "cell_type": "markdown",
   "metadata": {},
   "source": [
    "Let's compare our curve with scikit-learn's:"
   ]
  },
  {
   "cell_type": "code",
   "execution_count": 18,
   "metadata": {
    "ExecuteTime": {
     "end_time": "2022-04-08T18:20:27.520327Z",
     "start_time": "2022-04-08T18:20:27.420304Z"
    },
    "scrolled": false
   },
   "outputs": [
    {
     "data": {
      "image/png": "[encoded data removed]",
      "text/plain": [
       "<Figure size 432x288 with 1 Axes>"
      ]
     },
     "metadata": {
      "needs_background": "light"
     },
     "output_type": "display_data"
    }
   ],
   "source": [
    "# Extract the probability predictions for the \"1\" class (heart disease)\n",
    "y_hat_hd = y_prob[:, 1]\n",
    "\n",
    "# Get the FPR and TPR data\n",
    "fpr, tpr, thresholds = roc_curve(y_test, y_hat_hd)\n",
    "\n",
    "# Plot the FPR and TPR data\n",
    "fig, ax = plt.subplots()\n",
    "ax.plot(fpr, tpr)\n",
    "ax.plot((0,1), (0,1), 'k--');"
   ]
  },
  {
   "cell_type": "markdown",
   "metadata": {},
   "source": [
    "### `plot_roc_curve()`"
   ]
  },
  {
   "cell_type": "markdown",
   "metadata": {},
   "source": [
    "You can also use the `plot_roc_curve()` function with just your fitted model and test data."
   ]
  },
  {
   "cell_type": "code",
   "execution_count": 19,
   "metadata": {
    "ExecuteTime": {
     "end_time": "2022-04-08T18:20:31.650945Z",
     "start_time": "2022-04-08T18:20:31.532301Z"
    }
   },
   "outputs": [
    {
     "name": "stderr",
     "output_type": "stream",
     "text": [
      "C:\\Users\\saads\\anaconda3\\envs\\learn-env\\lib\\site-packages\\sklearn\\utils\\deprecation.py:87: FutureWarning: Function plot_roc_curve is deprecated; Function :func:`plot_roc_curve` is deprecated in 1.0 and will be removed in 1.2. Use one of the class methods: :meth:`sklearn.metric.RocCurveDisplay.from_predictions` or :meth:`sklearn.metric.RocCurveDisplay.from_estimator`.\n",
      "  warnings.warn(msg, category=FutureWarning)\n"
     ]
    },
    {
     "data": {
      "image/png": "[encoded data removed]",
      "text/plain": [
       "<Figure size 432x288 with 1 Axes>"
      ]
     },
     "metadata": {
      "needs_background": "light"
     },
     "output_type": "display_data"
    }
   ],
   "source": [
    "plot_roc_curve(hd_model, X_test_sc, y_test);"
   ]
  },
  {
   "cell_type": "markdown",
   "metadata": {},
   "source": [
    "## Area Under the Curve (AUC)"
   ]
  },
  {
   "cell_type": "markdown",
   "metadata": {},
   "source": [
    "The ROC curve will be a plot of tpr (on the y-axis) vs. fpr (on the x-axis). There will always be a point at (0, 0) and another at (1, 1). The question is what happens in the middle. Since we want our y-values to be as high as possible for any particular x-value, a natural metric is to calculate the **area under the curve**. The larger the area, the better the classifier. The maximum possible area is the area of the whole box between 0 and 1 on both axes, so that's a **maximum area of 1**."
   ]
  },
  {
   "cell_type": "markdown",
   "metadata": {},
   "source": [
    "What's the minimum? Well that depends on the ratios of (actual) positive and negatives in my data, in much the way that a baseline accuracy score does."
   ]
  },
  {
   "cell_type": "markdown",
   "metadata": {},
   "source": [
    "> Remember: If my test data comprises 90% positives and only 10% negatives, then a simple classifier that always predicts \"positive\" will be 90% accurate! And so that would be the baseline level for a classifier on that data."
   ]
  },
  {
   "cell_type": "markdown",
   "metadata": {},
   "source": [
    "If we have equal numbers of positives and negatives, then we can set an **absolute minimum area of 0.5**. That's the \"curve\" we'd get by plotting a straight diagonal line from (0, 0) to (1, 1).\n",
    "\n",
    "Why? The area under the curve really represents the test's ability to **discriminate** positives from negatives. Suppose I randomly took several pairs of points, one positive and one negative, and checked my test's predictions. The area under the curve represents a threshold-independent measure of how often my test would get the two predictions correct."
   ]
  },
  {
   "cell_type": "markdown",
   "metadata": {},
   "source": [
    "### AUC Calculation with `sklearn`"
   ]
  },
  {
   "cell_type": "markdown",
   "metadata": {},
   "source": [
    "Scikit-Learn's `roc_auc_score()` function will compute the area under the curve for us:"
   ]
  },
  {
   "cell_type": "code",
   "execution_count": 20,
   "metadata": {
    "ExecuteTime": {
     "end_time": "2022-04-08T18:21:00.397095Z",
     "start_time": "2022-04-08T18:21:00.389094Z"
    },
    "scrolled": true
   },
   "outputs": [
    {
     "data": {
      "text/plain": [
       "0.8606271777003485"
      ]
     },
     "execution_count": 20,
     "metadata": {},
     "output_type": "execute_result"
    }
   ],
   "source": [
    "# Extract the probabilitiy predictions for the \"1\" class (heart disease)\n",
    "y_hat_hd = y_prob[:, 1]\n",
    "\n",
    "roc_auc_score(y_test, y_hat_hd)"
   ]
  },
  {
   "cell_type": "markdown",
   "metadata": {},
   "source": [
    "## Sidebar: Visualizing Threshold Changes"
   ]
  },
  {
   "cell_type": "markdown",
   "metadata": {},
   "source": [
    "This [ROC Applet](https://web.archive.org/web/20210210014824/http://www.navan.name/roc/) helps  visualize how a change in the threshold corresponds to moving along the ROC curve"
   ]
  },
  {
   "cell_type": "markdown",
   "metadata": {},
   "source": [
    "# Scenario: Breast Cancer Prediction"
   ]
  },
  {
   "cell_type": "markdown",
   "metadata": {},
   "source": [
    "Let's evaluate a model using Scikit-Learn's breast cancer dataset:"
   ]
  },
  {
   "cell_type": "code",
   "execution_count": 23,
   "metadata": {
    "ExecuteTime": {
     "end_time": "2022-04-08T18:56:30.074716Z",
     "start_time": "2022-04-08T18:56:30.038708Z"
    }
   },
   "outputs": [
    {
     "data": {
      "text/plain": [
       "LogisticRegression(max_iter=10000, random_state=42)"
      ]
     },
     "execution_count": 23,
     "metadata": {},
     "output_type": "execute_result"
    }
   ],
   "source": [
    "# Load the data\n",
    "preds, target = load_breast_cancer(return_X_y=True)\n",
    "\n",
    "# Split into train and test\n",
    "X_train, X_test, y_train, y_test = train_test_split(preds, target,\n",
    "                                                   random_state=42)\n",
    "\n",
    "# Scale the data\n",
    "bc_scaler = StandardScaler()\n",
    "bc_scaler.fit(X_train)\n",
    "X_train_sc = bc_scaler.transform(X_train)\n",
    "X_test_sc = bc_scaler.transform(X_test)\n",
    "\n",
    "# Run the model\n",
    "bc_model = LogisticRegression(solver='lbfgs', max_iter=10000,\n",
    "                           random_state=42)\n",
    "bc_model.fit(X_train_sc, y_train)"
   ]
  },
  {
   "cell_type": "markdown",
   "metadata": {},
   "source": [
    "## Task"
   ]
  },
  {
   "cell_type": "markdown",
   "metadata": {},
   "source": [
    "For this example, draw the ROC curve and calculate the AUC-ROC metric. Based on the results, do you think your model would be useful for identifying patients with breast cancer?"
   ]
  },
  {
   "cell_type": "code",
   "execution_count": 22,
   "metadata": {
    "ExecuteTime": {
     "end_time": "2022-04-08T18:21:04.319635Z",
     "start_time": "2022-04-08T18:21:04.315634Z"
    },
    "scrolled": false
   },
   "outputs": [],
   "source": [
    "# Your work here\n",
    "\n"
   ]
  },
  {
   "cell_type": "markdown",
   "metadata": {},
   "source": [
    "# Oversampling"
   ]
  },
  {
   "cell_type": "markdown",
   "metadata": {},
   "source": [
    "What do you do if your model doesn't perform well due to class imbalance? One of the most effective strategies is to **oversample the minority class**. That is, I give myself more data points than I really have. I could achieve this either by [bootstrapping](https://scikit-learn.org/stable/modules/generated/sklearn.utils.resample.html) or by generating some data that is fake but close to actual data. The latter is the idea behind [SMOTE](https://imbalanced-learn.org/stable/over_sampling.html)."
   ]
  },
  {
   "cell_type": "markdown",
   "metadata": {},
   "source": [
    "# Loss Functions"
   ]
  },
  {
   "cell_type": "markdown",
   "metadata": {},
   "source": [
    "Another more \"natural\" way of measuring the quality of a classifier is just to look at the loss function, which will often be the **log loss**. In multiclass problems, we use **cross-entropy loss**. "
   ]
  },
  {
   "cell_type": "code",
   "execution_count": null,
   "metadata": {},
   "outputs": [],
   "source": [
    "X_train, X_test, y_train, y_test = train_test_split(hd_X, hd_y, test_size=.25,\n",
    "                                                   random_state=1)\n",
    "\n",
    "log_loss(y_test, y_hat_hd)"
   ]
  },
  {
   "cell_type": "markdown",
   "metadata": {},
   "source": [
    "While such loss values are difficult to interpret on their own, they are useful for comparing models. Models with lower loss values generate probability estimates that are closer to the true values, and thus are likely to perform better on many metrics."
   ]
  },
  {
   "cell_type": "markdown",
   "metadata": {},
   "source": [
    "# Level Up: Log Loss by Hand"
   ]
  },
  {
   "cell_type": "markdown",
   "metadata": {},
   "source": [
    "Log loss is generally calculated as an average per data point, and is computed as follows:\n",
    "\n",
    "$L(y, \\hat{y}) = -\\frac{1}{N}\\sum^N_{i=1}[y_i\\ln(\\hat{y_i}) + (1-y_i)\\ln(1-\\hat{y_i})]$,\n",
    "\n",
    "where $y$ is the vector of true values and $\\hat{y}$ is the vector of probabilities that the point in question has a correct label of 1.\n",
    "\n",
    "- Suppose, for a given data point, that the correct prediction of the label is **0**. In that case, the contribution from that point to the sum in the loss function defined above will be $-\\ln(1-\\hat{y_i})$. So, the closer the prediction for that point is to 0, the closer the contribution to the sum will be to $-\\ln(1)=0$. But as the prediction gets closer to 1, the closer the contribution will be to $-\\ln(0)=\\infty$.\n",
    "\n",
    "- Suppose, on the other hand, that the correct prediction is **1**. In that case, the contribution from that point to the sum in the loss function defined above will be $-\\ln(\\hat{y_i})$. So, the closer the prediction for that point is to 1, the closer the contribution to the sum will be to $-\\ln(1)=0$. But as the prediction gets closer to 0, the closer the contribution will be to $-\\ln(0)=\\infty$."
   ]
  },
  {
   "cell_type": "code",
   "execution_count": null,
   "metadata": {},
   "outputs": [],
   "source": [
    "compare = list(zip(y_test, y_prob))"
   ]
  },
  {
   "cell_type": "code",
   "execution_count": null,
   "metadata": {},
   "outputs": [],
   "source": [
    "compare[:5]"
   ]
  },
  {
   "cell_type": "code",
   "execution_count": null,
   "metadata": {},
   "outputs": [],
   "source": [
    "calc = [-(yi * np.log(yi_hat[1]) + (1 - yi) * np.log(yi_hat[0])) for (yi, yi_hat) in compare]\n",
    "calc[:5]"
   ]
  },
  {
   "cell_type": "code",
   "execution_count": null,
   "metadata": {
    "scrolled": true
   },
   "outputs": [],
   "source": [
    "np.mean(calc)"
   ]
  }
 ],
 "metadata": {
  "kernelspec": {
   "display_name": "Python (learn-env)",
   "language": "python",
   "name": "learn-env"
  },
  "language_info": {
   "codemirror_mode": {
    "name": "ipython",
    "version": 3
   },
   "file_extension": ".py",
   "mimetype": "text/x-python",
   "name": "python",
   "nbconvert_exporter": "python",
   "pygments_lexer": "ipython3",
   "version": "3.8.5"
  },
  "toc": {
   "base_numbering": 1,
   "nav_menu": {},
   "number_sections": true,
   "sideBar": true,
   "skip_h1_title": false,
   "title_cell": "Table of Contents",
   "title_sidebar": "TOC",
   "toc_cell": true,
   "toc_position": {
    "height": "calc(100% - 180px)",
    "left": "10px",
    "top": "150px",
    "width": "384px"
   },
   "toc_section_display": true,
   "toc_window_display": false
  },
  "varInspector": {
   "cols": {
    "lenName": 16,
    "lenType": 16,
    "lenVar": 40
   },
   "kernels_config": {
    "python": {
     "delete_cmd_postfix": "",
     "delete_cmd_prefix": "del ",
     "library": "var_list.py",
     "varRefreshCmd": "print(var_dic_list())"
    },
    "r": {
     "delete_cmd_postfix": ") ",
     "delete_cmd_prefix": "rm(",
     "library": "var_list.r",
     "varRefreshCmd": "cat(var_dic_list()) "
    }
   },
   "types_to_exclude": [
    "module",
    "function",
    "builtin_function_or_method",
    "instance",
    "_Feature"
   ],
   "window_display": false
  }
 },
 "nbformat": 4,
 "nbformat_minor": 2
}
