{
 "cells": [
  {
   "cell_type": "markdown",
   "metadata": {
    "toc": true
   },
   "source": [
    "<h1>Table of Contents<span class=\"tocSkip\"></span></h1>\n",
    "<div class=\"toc\"><ul class=\"toc-item\"><li><span><a href=\"#Objectives\" data-toc-modified-id=\"Objectives-1\"><span class=\"toc-item-num\">1&nbsp;&nbsp;</span>Objectives</a></span></li><li><span><a href=\"#Why-Object-Oriented-Programming?\" data-toc-modified-id=\"Why-Object-Oriented-Programming?-2\"><span class=\"toc-item-num\">2&nbsp;&nbsp;</span>Why Object-Oriented Programming?</a></span><ul class=\"toc-item\"><li><span><a href=\"#Everyone-Is-Doing-It!\" data-toc-modified-id=\"Everyone-Is-Doing-It!-2.1\"><span class=\"toc-item-num\">2.1&nbsp;&nbsp;</span>Everyone Is Doing It!</a></span></li><li><span><a href=\"#Method-to-Organize-Code\" data-toc-modified-id=\"Method-to-Organize-Code-2.2\"><span class=\"toc-item-num\">2.2&nbsp;&nbsp;</span>Method to Organize Code</a></span></li><li><span><a href=\"#Flexible-Usage\" data-toc-modified-id=\"Flexible-Usage-2.3\"><span class=\"toc-item-num\">2.3&nbsp;&nbsp;</span>Flexible Usage</a></span></li></ul></li><li><span><a href=\"#What-Are-Classes-and-Objects?\" data-toc-modified-id=\"What-Are-Classes-and-Objects?-3\"><span class=\"toc-item-num\">3&nbsp;&nbsp;</span>What Are Classes and Objects?</a></span><ul class=\"toc-item\"><li><span><a href=\"#Everything-in-Python-Is-an-Object\" data-toc-modified-id=\"Everything-in-Python-Is-an-Object-3.1\"><span class=\"toc-item-num\">3.1&nbsp;&nbsp;</span>Everything in Python Is an Object</a></span></li><li><span><a href=\"#Classes-and-Objects-in-Python\" data-toc-modified-id=\"Classes-and-Objects-in-Python-3.2\"><span class=\"toc-item-num\">3.2&nbsp;&nbsp;</span>Classes and Objects in Python</a></span></li></ul></li><li><span><a href=\"#Object-Properties\" data-toc-modified-id=\"Object-Properties-4\"><span class=\"toc-item-num\">4&nbsp;&nbsp;</span>Object Properties</a></span><ul class=\"toc-item\"><li><span><a href=\"#Examples-of-Properties-We've-Seen\" data-toc-modified-id=\"Examples-of-Properties-We've-Seen-4.1\"><span class=\"toc-item-num\">4.1&nbsp;&nbsp;</span>Examples of Properties We've Seen</a></span></li><li><span><a href=\"#Building-Up-Our-Class-with-Properties\" data-toc-modified-id=\"Building-Up-Our-Class-with-Properties-4.2\"><span class=\"toc-item-num\">4.2&nbsp;&nbsp;</span>Building Up Our Class with Properties</a></span><ul class=\"toc-item\"><li><span><a href=\"#🧠-Knowledge-Check\" data-toc-modified-id=\"🧠-Knowledge-Check-4.2.1\"><span class=\"toc-item-num\">4.2.1&nbsp;&nbsp;</span>🧠 Knowledge Check</a></span></li><li><span><a href=\"#Robot-Override!!!\" data-toc-modified-id=\"Robot-Override!!!-4.2.2\"><span class=\"toc-item-num\">4.2.2&nbsp;&nbsp;</span>Robot Override!!!</a></span></li></ul></li></ul></li><li><span><a href=\"#Object-Methods\" data-toc-modified-id=\"Object-Methods-5\"><span class=\"toc-item-num\">5&nbsp;&nbsp;</span>Object Methods</a></span><ul class=\"toc-item\"><li><span><a href=\"#Examples-of-Methods-We've-Seen\" data-toc-modified-id=\"Examples-of-Methods-We've-Seen-5.1\"><span class=\"toc-item-num\">5.1&nbsp;&nbsp;</span>Examples of Methods We've Seen</a></span></li><li><span><a href=\"#Building-Up-Our-Class-with-Methods\" data-toc-modified-id=\"Building-Up-Our-Class-with-Methods-5.2\"><span class=\"toc-item-num\">5.2&nbsp;&nbsp;</span>Building Up Our Class with Methods</a></span></li></ul></li><li><span><a href=\"#Magic-Methods\" data-toc-modified-id=\"Magic-Methods-6\"><span class=\"toc-item-num\">6&nbsp;&nbsp;</span>Magic Methods</a></span><ul class=\"toc-item\"><li><span><a href=\"#__init__()\" data-toc-modified-id=\"__init__()-6.1\"><span class=\"toc-item-num\">6.1&nbsp;&nbsp;</span><code>__init__()</code></a></span></li><li><span><a href=\"#__str__()\" data-toc-modified-id=\"__str__()-6.2\"><span class=\"toc-item-num\">6.2&nbsp;&nbsp;</span><code>__str__()</code></a></span></li><li><span><a href=\"#__repr__()\" data-toc-modified-id=\"__repr__()-6.3\"><span class=\"toc-item-num\">6.3&nbsp;&nbsp;</span><code>__repr__()</code></a></span></li><li><span><a href=\"#Objectives-Recap\" data-toc-modified-id=\"Objectives-Recap-6.4\"><span class=\"toc-item-num\">6.4&nbsp;&nbsp;</span>Objectives Recap</a></span></li></ul></li><li><span><a href=\"#Level-Up:-Variables\" data-toc-modified-id=\"Level-Up:-Variables-7\"><span class=\"toc-item-num\">7&nbsp;&nbsp;</span>Level Up: Variables</a></span></li><li><span><a href=\"#Level-Up:-*args-and-**kwargs\" data-toc-modified-id=\"Level-Up:-*args-and-**kwargs-8\"><span class=\"toc-item-num\">8&nbsp;&nbsp;</span>Level Up: <code>*args</code> and <code>**kwargs</code></a></span><ul class=\"toc-item\"><li><span><a href=\"#*-Operator:-*args\" data-toc-modified-id=\"*-Operator:-*args-8.1\"><span class=\"toc-item-num\">8.1&nbsp;&nbsp;</span><code>*</code> Operator: <code>*args</code></a></span></li><li><span><a href=\"#**-Operator:-*kwargs\" data-toc-modified-id=\"**-Operator:-*kwargs-8.2\"><span class=\"toc-item-num\">8.2&nbsp;&nbsp;</span><code>**</code> Operator: <code>*kwargs</code></a></span></li></ul></li></ul></div>"
   ]
  },
  {
   "cell_type": "markdown",
   "metadata": {},
   "source": [
    "![fvo](https://cdn.educba.com/academy/wp-content/uploads/2018/07/Functional-Programming-vs-OOP-1.png)"
   ]
  },
  {
   "cell_type": "code",
   "execution_count": 1,
   "metadata": {
    "ExecuteTime": {
     "end_time": "2022-04-04T15:50:02.443052Z",
     "start_time": "2022-04-04T15:50:01.996939Z"
    }
   },
   "outputs": [],
   "source": [
    "import pandas as pd\n",
    "import inspect"
   ]
  },
  {
   "cell_type": "markdown",
   "metadata": {},
   "source": [
    "# Objectives"
   ]
  },
  {
   "cell_type": "markdown",
   "metadata": {},
   "source": [
    "- Understand the concept of **classes** and **objects**\n",
    "- Explain the idea that _\"everything in Python is an object\"_\n",
    "- Use the concept of an object's **property**\n",
    "- Use the concept of an object's **method**"
   ]
  },
  {
   "cell_type": "markdown",
   "metadata": {},
   "source": [
    "# Why Object-Oriented Programming?"
   ]
  },
  {
   "cell_type": "markdown",
   "metadata": {},
   "source": [
    "> **Object-oriented programming** or **OOP** is a common style of programming that can help with abstraction and organizing code."
   ]
  },
  {
   "cell_type": "markdown",
   "metadata": {},
   "source": [
    "## Everyone Is Doing It!"
   ]
  },
  {
   "cell_type": "markdown",
   "metadata": {},
   "source": [
    "> A lot of code is written with OOP principles in mind"
   ]
  },
  {
   "cell_type": "markdown",
   "metadata": {},
   "source": [
    "<img src='https://stackify.com/wp-content/uploads/2017/12/Copy-of-top-programming-languages-1.png' width=70%/>"
   ]
  },
  {
   "cell_type": "markdown",
   "metadata": {},
   "source": [
    "> Knowing OOP will help you become comfortable reading other people's code"
   ]
  },
  {
   "cell_type": "markdown",
   "metadata": {},
   "source": [
    "## Method to Organize Code"
   ]
  },
  {
   "cell_type": "markdown",
   "metadata": {},
   "source": [
    "> We all know what ***things*** are"
   ]
  },
  {
   "cell_type": "markdown",
   "metadata": {},
   "source": [
    "![](images/thing1_thing2.jpg)"
   ]
  },
  {
   "cell_type": "markdown",
   "metadata": {},
   "source": [
    "> Easier to break down into physical items, activities, concepts [**nouns**]"
   ]
  },
  {
   "cell_type": "markdown",
   "metadata": {},
   "source": [
    "## Flexible Usage"
   ]
  },
  {
   "cell_type": "markdown",
   "metadata": {},
   "source": [
    "> We can take a **class** (think *blueprint*) and modify it to our needs, mad scientist style!"
   ]
  },
  {
   "cell_type": "markdown",
   "metadata": {},
   "source": [
    "<img src='http://www.expertphp.in/images/articles/ArtImgC67UTd_classes_and_objects.jpg' width=75%/>"
   ]
  },
  {
   "cell_type": "markdown",
   "metadata": {},
   "source": [
    "> We don't have to reinvent the wheel!\n",
    "\n",
    "Life [imitiates](https://en.wikipedia.org/wiki/Volkswagen_Group_MLB_platform) code!"
   ]
  },
  {
   "cell_type": "markdown",
   "metadata": {},
   "source": [
    "# What Are Classes and Objects?"
   ]
  },
  {
   "cell_type": "markdown",
   "metadata": {},
   "source": [
    "> A **class** is like a _blueprint_ or _mold_ \\\n",
    "> An **object** is made from the class (called *instantiation*), similar to making an item from the blueprint"
   ]
  },
  {
   "cell_type": "markdown",
   "metadata": {},
   "source": [
    "![blueprint](images/blueprint.jpeg)"
   ]
  },
  {
   "cell_type": "markdown",
   "metadata": {},
   "source": [
    "The class tells us how to make objects. We can make many objects based on the class.\n",
    "\n",
    "But our object (or **instance**) is still an individual and can be modified after being created (or **instantiated**)."
   ]
  },
  {
   "cell_type": "markdown",
   "metadata": {},
   "source": [
    "## Everything in Python Is an Object"
   ]
  },
  {
   "cell_type": "markdown",
   "metadata": {},
   "source": [
    "> Turns out we've been using objects all along! \\\n",
    "> Python is an object-oriented programming language and is centered around having _everything_ as an object"
   ]
  },
  {
   "cell_type": "code",
   "execution_count": 2,
   "metadata": {
    "ExecuteTime": {
     "end_time": "2022-04-04T15:55:28.645744Z",
     "start_time": "2022-04-04T15:55:28.643352Z"
    }
   },
   "outputs": [],
   "source": [
    "# Two different Python \"objects\"\n",
    "my_integer = 3\n",
    "my_string = \"Hi\""
   ]
  },
  {
   "cell_type": "markdown",
   "metadata": {},
   "source": [
    "We can use the same operator to see the type of each object"
   ]
  },
  {
   "cell_type": "code",
   "execution_count": 3,
   "metadata": {
    "ExecuteTime": {
     "end_time": "2022-04-04T15:55:45.752967Z",
     "start_time": "2022-04-04T15:55:45.742632Z"
    }
   },
   "outputs": [
    {
     "data": {
      "text/plain": [
       "int"
      ]
     },
     "execution_count": 3,
     "metadata": {},
     "output_type": "execute_result"
    }
   ],
   "source": [
    "type(my_integer)"
   ]
  },
  {
   "cell_type": "code",
   "execution_count": 4,
   "metadata": {
    "ExecuteTime": {
     "end_time": "2022-04-04T15:55:52.571749Z",
     "start_time": "2022-04-04T15:55:52.568076Z"
    }
   },
   "outputs": [
    {
     "data": {
      "text/plain": [
       "str"
      ]
     },
     "execution_count": 4,
     "metadata": {},
     "output_type": "execute_result"
    }
   ],
   "source": [
    "type(my_string)"
   ]
  },
  {
   "cell_type": "markdown",
   "metadata": {},
   "source": [
    "We can even define our own functions that work the same for each object type:"
   ]
  },
  {
   "cell_type": "code",
   "execution_count": 5,
   "metadata": {
    "ExecuteTime": {
     "end_time": "2022-04-04T15:56:09.096162Z",
     "start_time": "2022-04-04T15:56:09.093493Z"
    }
   },
   "outputs": [],
   "source": [
    "def double_me(x):\n",
    "    return x + x"
   ]
  },
  {
   "cell_type": "code",
   "execution_count": 6,
   "metadata": {
    "ExecuteTime": {
     "end_time": "2022-04-04T15:56:20.735973Z",
     "start_time": "2022-04-04T15:56:20.732616Z"
    }
   },
   "outputs": [
    {
     "data": {
      "text/plain": [
       "6"
      ]
     },
     "execution_count": 6,
     "metadata": {},
     "output_type": "execute_result"
    }
   ],
   "source": [
    "double_me(my_integer)"
   ]
  },
  {
   "cell_type": "code",
   "execution_count": 7,
   "metadata": {
    "ExecuteTime": {
     "end_time": "2022-04-04T15:56:24.367474Z",
     "start_time": "2022-04-04T15:56:24.360935Z"
    }
   },
   "outputs": [
    {
     "data": {
      "text/plain": [
       "'HiHi'"
      ]
     },
     "execution_count": 7,
     "metadata": {},
     "output_type": "execute_result"
    }
   ],
   "source": [
    "double_me(my_string)"
   ]
  },
  {
   "cell_type": "markdown",
   "metadata": {},
   "source": [
    "This is because there's some internal magic happening here. Whenever we do something like `x + x`, there's actually a special function tied to the object that is doing the work:"
   ]
  },
  {
   "cell_type": "code",
   "execution_count": 8,
   "metadata": {
    "ExecuteTime": {
     "end_time": "2022-04-04T15:57:52.616225Z",
     "start_time": "2022-04-04T15:57:52.612771Z"
    }
   },
   "outputs": [
    {
     "data": {
      "text/plain": [
       "13"
      ]
     },
     "execution_count": 8,
     "metadata": {},
     "output_type": "execute_result"
    }
   ],
   "source": [
    "my_integer.__add__(10)"
   ]
  },
  {
   "cell_type": "code",
   "execution_count": 9,
   "metadata": {
    "ExecuteTime": {
     "end_time": "2022-04-04T15:57:59.720637Z",
     "start_time": "2022-04-04T15:57:59.716996Z"
    }
   },
   "outputs": [
    {
     "data": {
      "text/plain": [
       "'Hi?'"
      ]
     },
     "execution_count": 9,
     "metadata": {},
     "output_type": "execute_result"
    }
   ],
   "source": [
    "my_string.__add__('?')"
   ]
  },
  {
   "cell_type": "markdown",
   "metadata": {},
   "source": [
    "In fact, there are a whole mess of these special functions tied to each object:"
   ]
  },
  {
   "cell_type": "code",
   "execution_count": 10,
   "metadata": {
    "ExecuteTime": {
     "end_time": "2022-04-04T15:58:30.649685Z",
     "start_time": "2022-04-04T15:58:30.623041Z"
    },
    "collapsed": true
   },
   "outputs": [
    {
     "data": {
      "text/plain": [
       "[('__add__', <method-wrapper '__add__' of str object at 0x7f88bfd2a030>),\n",
       " ('__class__', str),\n",
       " ('__contains__',\n",
       "  <method-wrapper '__contains__' of str object at 0x7f88bfd2a030>),\n",
       " ('__delattr__',\n",
       "  <method-wrapper '__delattr__' of str object at 0x7f88bfd2a030>),\n",
       " ('__dir__', <function str.__dir__()>),\n",
       " ('__doc__',\n",
       "  \"str(object='') -> str\\nstr(bytes_or_buffer[, encoding[, errors]]) -> str\\n\\nCreate a new string object from the given object. If encoding or\\nerrors is specified, then the object must expose a data buffer\\nthat will be decoded using the given encoding and error handler.\\nOtherwise, returns the result of object.__str__() (if defined)\\nor repr(object).\\nencoding defaults to sys.getdefaultencoding().\\nerrors defaults to 'strict'.\"),\n",
       " ('__eq__', <method-wrapper '__eq__' of str object at 0x7f88bfd2a030>),\n",
       " ('__format__', <function str.__format__(format_spec, /)>),\n",
       " ('__ge__', <method-wrapper '__ge__' of str object at 0x7f88bfd2a030>),\n",
       " ('__getattribute__',\n",
       "  <method-wrapper '__getattribute__' of str object at 0x7f88bfd2a030>),\n",
       " ('__getitem__',\n",
       "  <method-wrapper '__getitem__' of str object at 0x7f88bfd2a030>),\n",
       " ('__getnewargs__', <function str.__getnewargs__>),\n",
       " ('__gt__', <method-wrapper '__gt__' of str object at 0x7f88bfd2a030>),\n",
       " ('__hash__', <method-wrapper '__hash__' of str object at 0x7f88bfd2a030>),\n",
       " ('__init__', <method-wrapper '__init__' of str object at 0x7f88bfd2a030>),\n",
       " ('__init_subclass__', <function str.__init_subclass__>),\n",
       " ('__iter__', <method-wrapper '__iter__' of str object at 0x7f88bfd2a030>),\n",
       " ('__le__', <method-wrapper '__le__' of str object at 0x7f88bfd2a030>),\n",
       " ('__len__', <method-wrapper '__len__' of str object at 0x7f88bfd2a030>),\n",
       " ('__lt__', <method-wrapper '__lt__' of str object at 0x7f88bfd2a030>),\n",
       " ('__mod__', <method-wrapper '__mod__' of str object at 0x7f88bfd2a030>),\n",
       " ('__mul__', <method-wrapper '__mul__' of str object at 0x7f88bfd2a030>),\n",
       " ('__ne__', <method-wrapper '__ne__' of str object at 0x7f88bfd2a030>),\n",
       " ('__new__', <function str.__new__(*args, **kwargs)>),\n",
       " ('__reduce__', <function str.__reduce__()>),\n",
       " ('__reduce_ex__', <function str.__reduce_ex__(protocol, /)>),\n",
       " ('__repr__', <method-wrapper '__repr__' of str object at 0x7f88bfd2a030>),\n",
       " ('__rmod__', <method-wrapper '__rmod__' of str object at 0x7f88bfd2a030>),\n",
       " ('__rmul__', <method-wrapper '__rmul__' of str object at 0x7f88bfd2a030>),\n",
       " ('__setattr__',\n",
       "  <method-wrapper '__setattr__' of str object at 0x7f88bfd2a030>),\n",
       " ('__sizeof__', <function str.__sizeof__()>),\n",
       " ('__str__', <method-wrapper '__str__' of str object at 0x7f88bfd2a030>),\n",
       " ('__subclasshook__', <function str.__subclasshook__>),\n",
       " ('capitalize', <function str.capitalize()>),\n",
       " ('casefold', <function str.casefold()>),\n",
       " ('center', <function str.center(width, fillchar=' ', /)>),\n",
       " ('count', <function str.count>),\n",
       " ('encode', <function str.encode(encoding='utf-8', errors='strict')>),\n",
       " ('endswith', <function str.endswith>),\n",
       " ('expandtabs', <function str.expandtabs(tabsize=8)>),\n",
       " ('find', <function str.find>),\n",
       " ('format', <function str.format>),\n",
       " ('format_map', <function str.format_map>),\n",
       " ('index', <function str.index>),\n",
       " ('isalnum', <function str.isalnum()>),\n",
       " ('isalpha', <function str.isalpha()>),\n",
       " ('isascii', <function str.isascii()>),\n",
       " ('isdecimal', <function str.isdecimal()>),\n",
       " ('isdigit', <function str.isdigit()>),\n",
       " ('isidentifier', <function str.isidentifier()>),\n",
       " ('islower', <function str.islower()>),\n",
       " ('isnumeric', <function str.isnumeric()>),\n",
       " ('isprintable', <function str.isprintable()>),\n",
       " ('isspace', <function str.isspace()>),\n",
       " ('istitle', <function str.istitle()>),\n",
       " ('isupper', <function str.isupper()>),\n",
       " ('join', <function str.join(iterable, /)>),\n",
       " ('ljust', <function str.ljust(width, fillchar=' ', /)>),\n",
       " ('lower', <function str.lower()>),\n",
       " ('lstrip', <function str.lstrip(chars=None, /)>),\n",
       " ('maketrans', <function str.maketrans>),\n",
       " ('partition', <function str.partition(sep, /)>),\n",
       " ('replace', <function str.replace(old, new, count=-1, /)>),\n",
       " ('rfind', <function str.rfind>),\n",
       " ('rindex', <function str.rindex>),\n",
       " ('rjust', <function str.rjust(width, fillchar=' ', /)>),\n",
       " ('rpartition', <function str.rpartition(sep, /)>),\n",
       " ('rsplit', <function str.rsplit(sep=None, maxsplit=-1)>),\n",
       " ('rstrip', <function str.rstrip(chars=None, /)>),\n",
       " ('split', <function str.split(sep=None, maxsplit=-1)>),\n",
       " ('splitlines', <function str.splitlines(keepends=False)>),\n",
       " ('startswith', <function str.startswith>),\n",
       " ('strip', <function str.strip(chars=None, /)>),\n",
       " ('swapcase', <function str.swapcase()>),\n",
       " ('title', <function str.title()>),\n",
       " ('translate', <function str.translate(table, /)>),\n",
       " ('upper', <function str.upper()>),\n",
       " ('zfill', <function str.zfill(width, /)>)]"
      ]
     },
     "execution_count": 10,
     "metadata": {},
     "output_type": "execute_result"
    }
   ],
   "source": [
    "inspect.getmembers(my_string)"
   ]
  },
  {
   "cell_type": "markdown",
   "metadata": {},
   "source": [
    "These special functions tied to the object are called **methods**. We'll explore more of that soon."
   ]
  },
  {
   "cell_type": "markdown",
   "metadata": {},
   "source": [
    "## Classes and Objects in Python"
   ]
  },
  {
   "cell_type": "markdown",
   "metadata": {},
   "source": [
    "> It turns out we can create own classes and instantiate their related objects in Python."
   ]
  },
  {
   "cell_type": "markdown",
   "metadata": {},
   "source": [
    "We can define **new** classes of objects altogether by using the keyword `class`:"
   ]
  },
  {
   "cell_type": "code",
   "execution_count": 13,
   "metadata": {
    "ExecuteTime": {
     "end_time": "2022-04-04T16:00:34.643560Z",
     "start_time": "2022-04-04T16:00:34.640488Z"
    }
   },
   "outputs": [],
   "source": [
    "from sklearn.linear_model import LinearRegression"
   ]
  },
  {
   "cell_type": "code",
   "execution_count": 14,
   "metadata": {
    "ExecuteTime": {
     "end_time": "2022-04-04T16:01:34.075483Z",
     "start_time": "2022-04-04T16:01:34.072738Z"
    }
   },
   "outputs": [],
   "source": [
    "lr = LinearRegression()"
   ]
  },
  {
   "cell_type": "code",
   "execution_count": 15,
   "metadata": {
    "ExecuteTime": {
     "end_time": "2022-04-04T16:01:37.433721Z",
     "start_time": "2022-04-04T16:01:37.430123Z"
    }
   },
   "outputs": [
    {
     "data": {
      "text/plain": [
       "sklearn.linear_model._base.LinearRegression"
      ]
     },
     "execution_count": 15,
     "metadata": {},
     "output_type": "execute_result"
    }
   ],
   "source": [
    "type(lr)"
   ]
  },
  {
   "cell_type": "code",
   "execution_count": 11,
   "metadata": {
    "ExecuteTime": {
     "end_time": "2022-04-04T15:59:59.940493Z",
     "start_time": "2022-04-04T15:59:59.937943Z"
    }
   },
   "outputs": [],
   "source": [
    "class Robot:\n",
    "  # Essentially a blank template since we never defined any attributes\n",
    "  pass"
   ]
  },
  {
   "cell_type": "code",
   "execution_count": 12,
   "metadata": {
    "ExecuteTime": {
     "end_time": "2022-04-04T16:00:07.200445Z",
     "start_time": "2022-04-04T16:00:07.196470Z"
    }
   },
   "outputs": [
    {
     "data": {
      "text/plain": [
       "__main__.Robot"
      ]
     },
     "execution_count": 12,
     "metadata": {},
     "output_type": "execute_result"
    }
   ],
   "source": [
    "# Instantiate the object\n",
    "my_robot = Robot()\n",
    "type(my_robot)"
   ]
  },
  {
   "cell_type": "code",
   "execution_count": 16,
   "metadata": {
    "ExecuteTime": {
     "end_time": "2022-04-04T16:02:59.500441Z",
     "start_time": "2022-04-04T16:02:59.496430Z"
    }
   },
   "outputs": [
    {
     "data": {
      "text/plain": [
       "<__main__.Robot at 0x7f88bfd4a460>"
      ]
     },
     "execution_count": 16,
     "metadata": {},
     "output_type": "execute_result"
    }
   ],
   "source": [
    "my_robot"
   ]
  },
  {
   "cell_type": "code",
   "execution_count": 23,
   "metadata": {
    "ExecuteTime": {
     "end_time": "2022-04-04T16:03:43.046737Z",
     "start_time": "2022-04-04T16:03:43.042338Z"
    },
    "scrolled": true
   },
   "outputs": [
    {
     "data": {
      "text/plain": [
       "[<__main__.Robot at 0x7f88c219fd30>,\n",
       " <__main__.Robot at 0x7f88c219fc40>,\n",
       " <__main__.Robot at 0x7f88c219f460>,\n",
       " <__main__.Robot at 0x7f88c219f370>,\n",
       " <__main__.Robot at 0x7f88c219f2e0>]"
      ]
     },
     "execution_count": 23,
     "metadata": {},
     "output_type": "execute_result"
    }
   ],
   "source": [
    "# My little army of many robots\n",
    "robot_army = [Robot() for _ in range(5)]\n",
    "robot_army"
   ]
  },
  {
   "cell_type": "code",
   "execution_count": 29,
   "metadata": {
    "ExecuteTime": {
     "end_time": "2022-04-04T16:07:22.927879Z",
     "start_time": "2022-04-04T16:07:22.922469Z"
    }
   },
   "outputs": [
    {
     "data": {
      "text/plain": [
       "False"
      ]
     },
     "execution_count": 29,
     "metadata": {},
     "output_type": "execute_result"
    }
   ],
   "source": [
    "# Remember each robot is an individual, a special snowflake ❄️\n",
    "robot_army[0] is robot_army[1]"
   ]
  },
  {
   "cell_type": "markdown",
   "metadata": {},
   "source": [
    "In the next sections, we'll go over building up and customizing our class with something called **properties** and **methods**."
   ]
  },
  {
   "cell_type": "markdown",
   "metadata": {},
   "source": [
    "# Object Properties"
   ]
  },
  {
   "cell_type": "markdown",
   "metadata": {},
   "source": [
    "> Objects can have **properties** that contain information about the object. Also called **attributes** (typically used interchangeably with properties)"
   ]
  },
  {
   "cell_type": "markdown",
   "metadata": {},
   "source": [
    "This encapsulates something that belongs to an object after it's instantiated from a class."
   ]
  },
  {
   "cell_type": "markdown",
   "metadata": {},
   "source": [
    "## Examples of Properties We've Seen"
   ]
  },
  {
   "cell_type": "markdown",
   "metadata": {},
   "source": [
    "Take our familiar friend, the [`Pandas` DataFrame](https://pandas.pydata.org/pandas-docs/stable/reference/api/pandas.DataFrame.html) for example."
   ]
  },
  {
   "cell_type": "code",
   "execution_count": 30,
   "metadata": {
    "ExecuteTime": {
     "end_time": "2022-04-04T16:08:40.880722Z",
     "start_time": "2022-04-04T16:08:40.877203Z"
    }
   },
   "outputs": [],
   "source": [
    "# Dataframes are another type of object.\n",
    "\n",
    "df = pd.DataFrame({'price': [50, 40, 30],'sqft': [1000, 950, 500]})"
   ]
  },
  {
   "cell_type": "code",
   "execution_count": 31,
   "metadata": {
    "ExecuteTime": {
     "end_time": "2022-04-04T16:08:42.198741Z",
     "start_time": "2022-04-04T16:08:42.189365Z"
    }
   },
   "outputs": [
    {
     "data": {
      "text/html": [
       "<div>\n",
       "<style scoped>\n",
       "    .dataframe tbody tr th:only-of-type {\n",
       "        vertical-align: middle;\n",
       "    }\n",
       "\n",
       "    .dataframe tbody tr th {\n",
       "        vertical-align: top;\n",
       "    }\n",
       "\n",
       "    .dataframe thead th {\n",
       "        text-align: right;\n",
       "    }\n",
       "</style>\n",
       "<table border=\"1\" class=\"dataframe\">\n",
       "  <thead>\n",
       "    <tr style=\"text-align: right;\">\n",
       "      <th></th>\n",
       "      <th>price</th>\n",
       "      <th>sqft</th>\n",
       "    </tr>\n",
       "  </thead>\n",
       "  <tbody>\n",
       "    <tr>\n",
       "      <th>0</th>\n",
       "      <td>50</td>\n",
       "      <td>1000</td>\n",
       "    </tr>\n",
       "    <tr>\n",
       "      <th>1</th>\n",
       "      <td>40</td>\n",
       "      <td>950</td>\n",
       "    </tr>\n",
       "    <tr>\n",
       "      <th>2</th>\n",
       "      <td>30</td>\n",
       "      <td>500</td>\n",
       "    </tr>\n",
       "  </tbody>\n",
       "</table>\n",
       "</div>"
      ],
      "text/plain": [
       "   price  sqft\n",
       "0     50  1000\n",
       "1     40   950\n",
       "2     30   500"
      ]
     },
     "execution_count": 31,
     "metadata": {},
     "output_type": "execute_result"
    }
   ],
   "source": [
    "df"
   ]
  },
  {
   "cell_type": "code",
   "execution_count": 32,
   "metadata": {
    "ExecuteTime": {
     "end_time": "2022-04-04T16:08:42.774667Z",
     "start_time": "2022-04-04T16:08:42.771425Z"
    }
   },
   "outputs": [
    {
     "data": {
      "text/plain": [
       "pandas.core.frame.DataFrame"
      ]
     },
     "execution_count": 32,
     "metadata": {},
     "output_type": "execute_result"
    }
   ],
   "source": [
    "type(df)"
   ]
  },
  {
   "cell_type": "markdown",
   "metadata": {},
   "source": [
    "Instance attributes are associated with each unique object.\n",
    "They describe characteristics of the object, and are accessed with dot notation like so:"
   ]
  },
  {
   "cell_type": "code",
   "execution_count": 33,
   "metadata": {
    "ExecuteTime": {
     "end_time": "2022-04-04T16:09:13.107088Z",
     "start_time": "2022-04-04T16:09:12.168875Z"
    },
    "collapsed": true
   },
   "outputs": [
    {
     "name": "stderr",
     "output_type": "stream",
     "text": [
      "/opt/anaconda3/envs/learn-env/lib/python3.8/inspect.py:350: FutureWarning: _AXIS_NAMES has been deprecated.\n",
      "  value = getattr(object, key)\n",
      "/opt/anaconda3/envs/learn-env/lib/python3.8/inspect.py:350: FutureWarning: _AXIS_NUMBERS has been deprecated.\n",
      "  value = getattr(object, key)\n"
     ]
    },
    {
     "data": {
      "text/plain": [
       "[('T',\n",
       "            0    1    2\n",
       "  price    50   40   30\n",
       "  sqft   1000  950  500),\n",
       " ('_AXIS_LEN', 2),\n",
       " ('_AXIS_NAMES', {0: 'index', 1: 'columns'}),\n",
       " ('_AXIS_NUMBERS', {'index': 0, 'columns': 1}),\n",
       " ('_AXIS_ORDERS', ['index', 'columns']),\n",
       " ('_AXIS_REVERSED', True),\n",
       " ('_AXIS_TO_AXIS_NUMBER', {0: 0, 'index': 0, 'rows': 0, 1: 1, 'columns': 1}),\n",
       " ('__abs__',\n",
       "  <bound method NDFrame.__abs__ of    price  sqft\n",
       "  0     50  1000\n",
       "  1     40   950\n",
       "  2     30   500>),\n",
       " ('__add__',\n",
       "  <bound method _arith_method_FRAME.<locals>.f of    price  sqft\n",
       "  0     50  1000\n",
       "  1     40   950\n",
       "  2     30   500>),\n",
       " ('__and__',\n",
       "  <bound method _arith_method_FRAME.<locals>.f of    price  sqft\n",
       "  0     50  1000\n",
       "  1     40   950\n",
       "  2     30   500>),\n",
       " ('__annotations__',\n",
       "  {'_constructor_sliced': typing.Type[pandas.core.series.Series],\n",
       "   '_deprecations': typing.FrozenSet[str],\n",
       "   '_accessors': typing.Set[str],\n",
       "   '_AXIS_TO_AXIS_NUMBER': typing.Dict[typing.Union[str, int], int],\n",
       "   'index': 'Index',\n",
       "   'columns': 'Index'}),\n",
       " ('__array__',\n",
       "  <bound method NDFrame.__array__ of    price  sqft\n",
       "  0     50  1000\n",
       "  1     40   950\n",
       "  2     30   500>),\n",
       " ('__array_priority__', 1000),\n",
       " ('__array_wrap__',\n",
       "  <bound method NDFrame.__array_wrap__ of    price  sqft\n",
       "  0     50  1000\n",
       "  1     40   950\n",
       "  2     30   500>),\n",
       " ('__bool__',\n",
       "  <bound method NDFrame.__nonzero__ of    price  sqft\n",
       "  0     50  1000\n",
       "  1     40   950\n",
       "  2     30   500>),\n",
       " ('__class__', pandas.core.frame.DataFrame),\n",
       " ('__contains__',\n",
       "  <bound method NDFrame.__contains__ of    price  sqft\n",
       "  0     50  1000\n",
       "  1     40   950\n",
       "  2     30   500>),\n",
       " ('__copy__',\n",
       "  <bound method NDFrame.__copy__ of    price  sqft\n",
       "  0     50  1000\n",
       "  1     40   950\n",
       "  2     30   500>),\n",
       " ('__deepcopy__',\n",
       "  <bound method NDFrame.__deepcopy__ of    price  sqft\n",
       "  0     50  1000\n",
       "  1     40   950\n",
       "  2     30   500>),\n",
       " ('__delattr__',\n",
       "  <method-wrapper '__delattr__' of DataFrame object at 0x7f88c21a2550>),\n",
       " ('__delitem__',\n",
       "  <bound method NDFrame.__delitem__ of    price  sqft\n",
       "  0     50  1000\n",
       "  1     40   950\n",
       "  2     30   500>),\n",
       " ('__dict__',\n",
       "  {'_is_copy': None, '_mgr': BlockManager\n",
       "   Items: Index(['price', 'sqft'], dtype='object')\n",
       "   Axis 1: RangeIndex(start=0, stop=3, step=1)\n",
       "   IntBlock: slice(0, 2, 1), 2 x 3, dtype: int64, '_item_cache': {'price': 0    50\n",
       "    1    40\n",
       "    2    30\n",
       "    Name: price, dtype: int64,\n",
       "    'sqft': 0    1000\n",
       "    1     950\n",
       "    2     500\n",
       "    Name: sqft, dtype: int64}, '_attrs': {}, 'plot': <pandas.plotting._core.PlotAccessor object at 0x7f88c246aeb0>}),\n",
       " ('__dir__',\n",
       "  <bound method DirNamesMixin.__dir__ of    price  sqft\n",
       "  0     50  1000\n",
       "  1     40   950\n",
       "  2     30   500>),\n",
       " ('__div__',\n",
       "  <bound method _arith_method_FRAME.<locals>.f of    price  sqft\n",
       "  0     50  1000\n",
       "  1     40   950\n",
       "  2     30   500>),\n",
       " ('__doc__',\n",
       "  \"\\n    Two-dimensional, size-mutable, potentially heterogeneous tabular data.\\n\\n    Data structure also contains labeled axes (rows and columns).\\n    Arithmetic operations align on both row and column labels. Can be\\n    thought of as a dict-like container for Series objects. The primary\\n    pandas data structure.\\n\\n    Parameters\\n    ----------\\n    data : ndarray (structured or homogeneous), Iterable, dict, or DataFrame\\n        Dict can contain Series, arrays, constants, or list-like objects.\\n\\n        .. versionchanged:: 0.23.0\\n           If data is a dict, column order follows insertion-order for\\n           Python 3.6 and later.\\n\\n        .. versionchanged:: 0.25.0\\n           If data is a list of dicts, column order follows insertion-order\\n           for Python 3.6 and later.\\n\\n    index : Index or array-like\\n        Index to use for resulting frame. Will default to RangeIndex if\\n        no indexing information part of input data and no index provided.\\n    columns : Index or array-like\\n        Column labels to use for resulting frame. Will default to\\n        RangeIndex (0, 1, 2, ..., n) if no column labels are provided.\\n    dtype : dtype, default None\\n        Data type to force. Only a single dtype is allowed. If None, infer.\\n    copy : bool, default False\\n        Copy data from inputs. Only affects DataFrame / 2d ndarray input.\\n\\n    See Also\\n    --------\\n    DataFrame.from_records : Constructor from tuples, also record arrays.\\n    DataFrame.from_dict : From dicts of Series, arrays, or dicts.\\n    read_csv : Read a comma-separated values (csv) file into DataFrame.\\n    read_table : Read general delimited file into DataFrame.\\n    read_clipboard : Read text from clipboard into DataFrame.\\n\\n    Examples\\n    --------\\n    Constructing DataFrame from a dictionary.\\n\\n    >>> d = {'col1': [1, 2], 'col2': [3, 4]}\\n    >>> df = pd.DataFrame(data=d)\\n    >>> df\\n       col1  col2\\n    0     1     3\\n    1     2     4\\n\\n    Notice that the inferred dtype is int64.\\n\\n    >>> df.dtypes\\n    col1    int64\\n    col2    int64\\n    dtype: object\\n\\n    To enforce a single dtype:\\n\\n    >>> df = pd.DataFrame(data=d, dtype=np.int8)\\n    >>> df.dtypes\\n    col1    int8\\n    col2    int8\\n    dtype: object\\n\\n    Constructing DataFrame from numpy ndarray:\\n\\n    >>> df2 = pd.DataFrame(np.array([[1, 2, 3], [4, 5, 6], [7, 8, 9]]),\\n    ...                    columns=['a', 'b', 'c'])\\n    >>> df2\\n       a  b  c\\n    0  1  2  3\\n    1  4  5  6\\n    2  7  8  9\\n    \"),\n",
       " ('__eq__',\n",
       "  <bound method _comp_method_FRAME.<locals>.f of    price  sqft\n",
       "  0     50  1000\n",
       "  1     40   950\n",
       "  2     30   500>),\n",
       " ('__finalize__',\n",
       "  <bound method NDFrame.__finalize__ of    price  sqft\n",
       "  0     50  1000\n",
       "  1     40   950\n",
       "  2     30   500>),\n",
       " ('__floordiv__',\n",
       "  <bound method _arith_method_FRAME.<locals>.f of    price  sqft\n",
       "  0     50  1000\n",
       "  1     40   950\n",
       "  2     30   500>),\n",
       " ('__format__', <function DataFrame.__format__(format_spec, /)>),\n",
       " ('__ge__',\n",
       "  <bound method _comp_method_FRAME.<locals>.f of    price  sqft\n",
       "  0     50  1000\n",
       "  1     40   950\n",
       "  2     30   500>),\n",
       " ('__getattr__',\n",
       "  <bound method NDFrame.__getattr__ of    price  sqft\n",
       "  0     50  1000\n",
       "  1     40   950\n",
       "  2     30   500>),\n",
       " ('__getattribute__',\n",
       "  <method-wrapper '__getattribute__' of DataFrame object at 0x7f88c21a2550>),\n",
       " ('__getitem__',\n",
       "  <bound method DataFrame.__getitem__ of    price  sqft\n",
       "  0     50  1000\n",
       "  1     40   950\n",
       "  2     30   500>),\n",
       " ('__getstate__',\n",
       "  <bound method NDFrame.__getstate__ of    price  sqft\n",
       "  0     50  1000\n",
       "  1     40   950\n",
       "  2     30   500>),\n",
       " ('__gt__',\n",
       "  <bound method _comp_method_FRAME.<locals>.f of    price  sqft\n",
       "  0     50  1000\n",
       "  1     40   950\n",
       "  2     30   500>),\n",
       " ('__hash__',\n",
       "  <bound method NDFrame.__hash__ of    price  sqft\n",
       "  0     50  1000\n",
       "  1     40   950\n",
       "  2     30   500>),\n",
       " ('__iadd__',\n",
       "  <bound method add_special_arithmetic_methods.<locals>._wrap_inplace_method.<locals>.f of    price  sqft\n",
       "  0     50  1000\n",
       "  1     40   950\n",
       "  2     30   500>),\n",
       " ('__iand__',\n",
       "  <bound method add_special_arithmetic_methods.<locals>._wrap_inplace_method.<locals>.f of    price  sqft\n",
       "  0     50  1000\n",
       "  1     40   950\n",
       "  2     30   500>),\n",
       " ('__ifloordiv__',\n",
       "  <bound method add_special_arithmetic_methods.<locals>._wrap_inplace_method.<locals>.f of    price  sqft\n",
       "  0     50  1000\n",
       "  1     40   950\n",
       "  2     30   500>),\n",
       " ('__imod__',\n",
       "  <bound method add_special_arithmetic_methods.<locals>._wrap_inplace_method.<locals>.f of    price  sqft\n",
       "  0     50  1000\n",
       "  1     40   950\n",
       "  2     30   500>),\n",
       " ('__imul__',\n",
       "  <bound method add_special_arithmetic_methods.<locals>._wrap_inplace_method.<locals>.f of    price  sqft\n",
       "  0     50  1000\n",
       "  1     40   950\n",
       "  2     30   500>),\n",
       " ('__init__',\n",
       "  <bound method DataFrame.__init__ of    price  sqft\n",
       "  0     50  1000\n",
       "  1     40   950\n",
       "  2     30   500>),\n",
       " ('__init_subclass__', <function DataFrame.__init_subclass__>),\n",
       " ('__invert__',\n",
       "  <bound method NDFrame.__invert__ of    price  sqft\n",
       "  0     50  1000\n",
       "  1     40   950\n",
       "  2     30   500>),\n",
       " ('__ior__',\n",
       "  <bound method add_special_arithmetic_methods.<locals>._wrap_inplace_method.<locals>.f of    price  sqft\n",
       "  0     50  1000\n",
       "  1     40   950\n",
       "  2     30   500>),\n",
       " ('__ipow__',\n",
       "  <bound method add_special_arithmetic_methods.<locals>._wrap_inplace_method.<locals>.f of    price  sqft\n",
       "  0     50  1000\n",
       "  1     40   950\n",
       "  2     30   500>),\n",
       " ('__isub__',\n",
       "  <bound method add_special_arithmetic_methods.<locals>._wrap_inplace_method.<locals>.f of    price  sqft\n",
       "  0     50  1000\n",
       "  1     40   950\n",
       "  2     30   500>),\n",
       " ('__iter__',\n",
       "  <bound method NDFrame.__iter__ of    price  sqft\n",
       "  0     50  1000\n",
       "  1     40   950\n",
       "  2     30   500>),\n",
       " ('__itruediv__',\n",
       "  <bound method add_special_arithmetic_methods.<locals>._wrap_inplace_method.<locals>.f of    price  sqft\n",
       "  0     50  1000\n",
       "  1     40   950\n",
       "  2     30   500>),\n",
       " ('__ixor__',\n",
       "  <bound method add_special_arithmetic_methods.<locals>._wrap_inplace_method.<locals>.f of    price  sqft\n",
       "  0     50  1000\n",
       "  1     40   950\n",
       "  2     30   500>),\n",
       " ('__le__',\n",
       "  <bound method _comp_method_FRAME.<locals>.f of    price  sqft\n",
       "  0     50  1000\n",
       "  1     40   950\n",
       "  2     30   500>),\n",
       " ('__len__',\n",
       "  <bound method DataFrame.__len__ of    price  sqft\n",
       "  0     50  1000\n",
       "  1     40   950\n",
       "  2     30   500>),\n",
       " ('__lt__',\n",
       "  <bound method _comp_method_FRAME.<locals>.f of    price  sqft\n",
       "  0     50  1000\n",
       "  1     40   950\n",
       "  2     30   500>),\n",
       " ('__matmul__',\n",
       "  <bound method DataFrame.__matmul__ of    price  sqft\n",
       "  0     50  1000\n",
       "  1     40   950\n",
       "  2     30   500>),\n",
       " ('__mod__',\n",
       "  <bound method _arith_method_FRAME.<locals>.f of    price  sqft\n",
       "  0     50  1000\n",
       "  1     40   950\n",
       "  2     30   500>),\n",
       " ('__module__', 'pandas.core.frame'),\n",
       " ('__mul__',\n",
       "  <bound method _arith_method_FRAME.<locals>.f of    price  sqft\n",
       "  0     50  1000\n",
       "  1     40   950\n",
       "  2     30   500>),\n",
       " ('__ne__',\n",
       "  <bound method _comp_method_FRAME.<locals>.f of    price  sqft\n",
       "  0     50  1000\n",
       "  1     40   950\n",
       "  2     30   500>),\n",
       " ('__neg__',\n",
       "  <bound method NDFrame.__neg__ of    price  sqft\n",
       "  0     50  1000\n",
       "  1     40   950\n",
       "  2     30   500>),\n",
       " ('__new__', <function object.__new__(*args, **kwargs)>),\n",
       " ('__nonzero__',\n",
       "  <bound method NDFrame.__nonzero__ of    price  sqft\n",
       "  0     50  1000\n",
       "  1     40   950\n",
       "  2     30   500>),\n",
       " ('__or__',\n",
       "  <bound method _arith_method_FRAME.<locals>.f of    price  sqft\n",
       "  0     50  1000\n",
       "  1     40   950\n",
       "  2     30   500>),\n",
       " ('__pos__',\n",
       "  <bound method NDFrame.__pos__ of    price  sqft\n",
       "  0     50  1000\n",
       "  1     40   950\n",
       "  2     30   500>),\n",
       " ('__pow__',\n",
       "  <bound method _arith_method_FRAME.<locals>.f of    price  sqft\n",
       "  0     50  1000\n",
       "  1     40   950\n",
       "  2     30   500>),\n",
       " ('__radd__',\n",
       "  <bound method _arith_method_FRAME.<locals>.f of    price  sqft\n",
       "  0     50  1000\n",
       "  1     40   950\n",
       "  2     30   500>),\n",
       " ('__rand__',\n",
       "  <bound method _arith_method_FRAME.<locals>.f of    price  sqft\n",
       "  0     50  1000\n",
       "  1     40   950\n",
       "  2     30   500>),\n",
       " ('__rdiv__',\n",
       "  <bound method _arith_method_FRAME.<locals>.f of    price  sqft\n",
       "  0     50  1000\n",
       "  1     40   950\n",
       "  2     30   500>),\n",
       " ('__reduce__', <function DataFrame.__reduce__()>),\n",
       " ('__reduce_ex__', <function DataFrame.__reduce_ex__(protocol, /)>),\n",
       " ('__repr__',\n",
       "  <bound method DataFrame.__repr__ of    price  sqft\n",
       "  0     50  1000\n",
       "  1     40   950\n",
       "  2     30   500>),\n",
       " ('__rfloordiv__',\n",
       "  <bound method _arith_method_FRAME.<locals>.f of    price  sqft\n",
       "  0     50  1000\n",
       "  1     40   950\n",
       "  2     30   500>),\n",
       " ('__rmatmul__',\n",
       "  <bound method DataFrame.__rmatmul__ of    price  sqft\n",
       "  0     50  1000\n",
       "  1     40   950\n",
       "  2     30   500>),\n",
       " ('__rmod__',\n",
       "  <bound method _arith_method_FRAME.<locals>.f of    price  sqft\n",
       "  0     50  1000\n",
       "  1     40   950\n",
       "  2     30   500>),\n",
       " ('__rmul__',\n",
       "  <bound method _arith_method_FRAME.<locals>.f of    price  sqft\n",
       "  0     50  1000\n",
       "  1     40   950\n",
       "  2     30   500>),\n",
       " ('__ror__',\n",
       "  <bound method _arith_method_FRAME.<locals>.f of    price  sqft\n",
       "  0     50  1000\n",
       "  1     40   950\n",
       "  2     30   500>),\n",
       " ('__round__',\n",
       "  <bound method NDFrame.__round__ of    price  sqft\n",
       "  0     50  1000\n",
       "  1     40   950\n",
       "  2     30   500>),\n",
       " ('__rpow__',\n",
       "  <bound method _arith_method_FRAME.<locals>.f of    price  sqft\n",
       "  0     50  1000\n",
       "  1     40   950\n",
       "  2     30   500>),\n",
       " ('__rsub__',\n",
       "  <bound method _arith_method_FRAME.<locals>.f of    price  sqft\n",
       "  0     50  1000\n",
       "  1     40   950\n",
       "  2     30   500>),\n",
       " ('__rtruediv__',\n",
       "  <bound method _arith_method_FRAME.<locals>.f of    price  sqft\n",
       "  0     50  1000\n",
       "  1     40   950\n",
       "  2     30   500>),\n",
       " ('__rxor__',\n",
       "  <bound method _arith_method_FRAME.<locals>.f of    price  sqft\n",
       "  0     50  1000\n",
       "  1     40   950\n",
       "  2     30   500>),\n",
       " ('__setattr__',\n",
       "  <bound method NDFrame.__setattr__ of    price  sqft\n",
       "  0     50  1000\n",
       "  1     40   950\n",
       "  2     30   500>),\n",
       " ('__setitem__',\n",
       "  <bound method DataFrame.__setitem__ of    price  sqft\n",
       "  0     50  1000\n",
       "  1     40   950\n",
       "  2     30   500>),\n",
       " ('__setstate__',\n",
       "  <bound method NDFrame.__setstate__ of    price  sqft\n",
       "  0     50  1000\n",
       "  1     40   950\n",
       "  2     30   500>),\n",
       " ('__sizeof__',\n",
       "  <bound method PandasObject.__sizeof__ of    price  sqft\n",
       "  0     50  1000\n",
       "  1     40   950\n",
       "  2     30   500>),\n",
       " ('__str__', <method-wrapper '__str__' of DataFrame object at 0x7f88c21a2550>),\n",
       " ('__sub__',\n",
       "  <bound method _arith_method_FRAME.<locals>.f of    price  sqft\n",
       "  0     50  1000\n",
       "  1     40   950\n",
       "  2     30   500>),\n",
       " ('__subclasshook__', <function DataFrame.__subclasshook__>),\n",
       " ('__truediv__',\n",
       "  <bound method _arith_method_FRAME.<locals>.f of    price  sqft\n",
       "  0     50  1000\n",
       "  1     40   950\n",
       "  2     30   500>),\n",
       " ('__weakref__',\n",
       "  <weakref at 0x7f88c241d090; to 'DataFrame' at 0x7f88c21a2550>),\n",
       " ('__xor__',\n",
       "  <bound method _arith_method_FRAME.<locals>.f of    price  sqft\n",
       "  0     50  1000\n",
       "  1     40   950\n",
       "  2     30   500>),\n",
       " ('_accessors', {'sparse'}),\n",
       " ('_add_numeric_operations',\n",
       "  <bound method NDFrame._add_numeric_operations of <class 'pandas.core.frame.DataFrame'>>),\n",
       " ('_add_series_or_dataframe_operations',\n",
       "  <bound method NDFrame._add_series_or_dataframe_operations of <class 'pandas.core.frame.DataFrame'>>),\n",
       " ('_agg_by_level',\n",
       "  <bound method NDFrame._agg_by_level of    price  sqft\n",
       "  0     50  1000\n",
       "  1     40   950\n",
       "  2     30   500>),\n",
       " ('_agg_examples_doc',\n",
       "  '\\nExamples\\n--------\\n>>> df = pd.DataFrame([[1, 2, 3],\\n...                    [4, 5, 6],\\n...                    [7, 8, 9],\\n...                    [np.nan, np.nan, np.nan]],\\n...                   columns=[\\'A\\', \\'B\\', \\'C\\'])\\n\\nAggregate these functions over the rows.\\n\\n>>> df.agg([\\'sum\\', \\'min\\'])\\n        A     B     C\\nsum  12.0  15.0  18.0\\nmin   1.0   2.0   3.0\\n\\nDifferent aggregations per column.\\n\\n>>> df.agg({\\'A\\' : [\\'sum\\', \\'min\\'], \\'B\\' : [\\'min\\', \\'max\\']})\\n        A    B\\nmax   NaN  8.0\\nmin   1.0  2.0\\nsum  12.0  NaN\\n\\nAggregate over the columns.\\n\\n>>> df.agg(\"mean\", axis=\"columns\")\\n0    2.0\\n1    5.0\\n2    8.0\\n3    NaN\\ndtype: float64\\n'),\n",
       " ('_agg_summary_and_see_also_doc',\n",
       "  '\\nThe aggregation operations are always performed over an axis, either the\\nindex (default) or the column axis. This behavior is different from\\n`numpy` aggregation functions (`mean`, `median`, `prod`, `sum`, `std`,\\n`var`), where the default is to compute the aggregation of the flattened\\narray, e.g., ``numpy.mean(arr_2d)`` as opposed to\\n``numpy.mean(arr_2d, axis=0)``.\\n\\n`agg` is an alias for `aggregate`. Use the alias.\\n\\nSee Also\\n--------\\nDataFrame.apply : Perform any type of operations.\\nDataFrame.transform : Perform transformation type operations.\\ncore.groupby.GroupBy : Perform operations over groups.\\ncore.resample.Resampler : Perform operations over resampled bins.\\ncore.window.Rolling : Perform operations over rolling window.\\ncore.window.Expanding : Perform operations over expanding window.\\ncore.window.ExponentialMovingWindow : Perform operation over exponential weighted\\n    window.\\n'),\n",
       " ('_aggregate',\n",
       "  <bound method DataFrame._aggregate of    price  sqft\n",
       "  0     50  1000\n",
       "  1     40   950\n",
       "  2     30   500>),\n",
       " ('_aggregate_multiple_funcs',\n",
       "  <bound method SelectionMixin._aggregate_multiple_funcs of    price  sqft\n",
       "  0     50  1000\n",
       "  1     40   950\n",
       "  2     30   500>),\n",
       " ('_align_frame',\n",
       "  <bound method NDFrame._align_frame of    price  sqft\n",
       "  0     50  1000\n",
       "  1     40   950\n",
       "  2     30   500>),\n",
       " ('_align_series',\n",
       "  <bound method NDFrame._align_series of    price  sqft\n",
       "  0     50  1000\n",
       "  1     40   950\n",
       "  2     30   500>),\n",
       " ('_box_col_values',\n",
       "  <bound method DataFrame._box_col_values of    price  sqft\n",
       "  0     50  1000\n",
       "  1     40   950\n",
       "  2     30   500>),\n",
       " ('_builtin_table',\n",
       "  {<function sum(iterable, /, start=0)>: <function numpy.sum(a, axis=None, dtype=None, out=None, keepdims=<no value>, initial=<no value>, where=<no value>)>,\n",
       "   <function max>: <function numpy.amax(a, axis=None, out=None, keepdims=<no value>, initial=<no value>, where=<no value>)>,\n",
       "   <function min>: <function numpy.amin(a, axis=None, out=None, keepdims=<no value>, initial=<no value>, where=<no value>)>}),\n",
       " ('_can_fast_transpose', True),\n",
       " ('_check_inplace_setting',\n",
       "  <bound method NDFrame._check_inplace_setting of    price  sqft\n",
       "  0     50  1000\n",
       "  1     40   950\n",
       "  2     30   500>),\n",
       " ('_check_is_chained_assignment_possible',\n",
       "  <bound method NDFrame._check_is_chained_assignment_possible of    price  sqft\n",
       "  0     50  1000\n",
       "  1     40   950\n",
       "  2     30   500>),\n",
       " ('_check_label_or_level_ambiguity',\n",
       "  <bound method NDFrame._check_label_or_level_ambiguity of    price  sqft\n",
       "  0     50  1000\n",
       "  1     40   950\n",
       "  2     30   500>),\n",
       " ('_check_setitem_copy',\n",
       "  <bound method NDFrame._check_setitem_copy of    price  sqft\n",
       "  0     50  1000\n",
       "  1     40   950\n",
       "  2     30   500>),\n",
       " ('_clear_item_cache',\n",
       "  <bound method NDFrame._clear_item_cache of    price  sqft\n",
       "  0     50  1000\n",
       "  1     40   950\n",
       "  2     30   500>),\n",
       " ('_clip_with_one_bound',\n",
       "  <bound method NDFrame._clip_with_one_bound of    price  sqft\n",
       "  0     50  1000\n",
       "  1     40   950\n",
       "  2     30   500>),\n",
       " ('_clip_with_scalar',\n",
       "  <bound method NDFrame._clip_with_scalar of    price  sqft\n",
       "  0     50  1000\n",
       "  1     40   950\n",
       "  2     30   500>),\n",
       " ('_combine_frame',\n",
       "  <bound method DataFrame._combine_frame of    price  sqft\n",
       "  0     50  1000\n",
       "  1     40   950\n",
       "  2     30   500>),\n",
       " ('_consolidate',\n",
       "  <bound method NDFrame._consolidate of    price  sqft\n",
       "  0     50  1000\n",
       "  1     40   950\n",
       "  2     30   500>),\n",
       " ('_consolidate_inplace',\n",
       "  <bound method NDFrame._consolidate_inplace of    price  sqft\n",
       "  0     50  1000\n",
       "  1     40   950\n",
       "  2     30   500>),\n",
       " ('_construct_axes_dict',\n",
       "  <bound method NDFrame._construct_axes_dict of    price  sqft\n",
       "  0     50  1000\n",
       "  1     40   950\n",
       "  2     30   500>),\n",
       " ('_construct_axes_from_arguments',\n",
       "  <bound method NDFrame._construct_axes_from_arguments of <class 'pandas.core.frame.DataFrame'>>),\n",
       " ('_construct_result',\n",
       "  <bound method DataFrame._construct_result of    price  sqft\n",
       "  0     50  1000\n",
       "  1     40   950\n",
       "  2     30   500>),\n",
       " ('_constructor', pandas.core.frame.DataFrame),\n",
       " ('_constructor_expanddim',\n",
       "  <function pandas.core.frame.DataFrame._constructor_expanddim.<locals>.constructor(*args, **kwargs)>),\n",
       " ('_constructor_sliced', pandas.core.series.Series),\n",
       " ('_convert',\n",
       "  <bound method NDFrame._convert of    price  sqft\n",
       "  0     50  1000\n",
       "  1     40   950\n",
       "  2     30   500>),\n",
       " ('_count_level',\n",
       "  <bound method DataFrame._count_level of    price  sqft\n",
       "  0     50  1000\n",
       "  1     40   950\n",
       "  2     30   500>),\n",
       " ('_cython_table',\n",
       "  {<function sum(iterable, /, start=0)>: 'sum',\n",
       "   <function max>: 'max',\n",
       "   <function min>: 'min',\n",
       "   <function numpy.all(a, axis=None, out=None, keepdims=<no value>)>: 'all',\n",
       "   <function numpy.any(a, axis=None, out=None, keepdims=<no value>)>: 'any',\n",
       "   <function numpy.sum(a, axis=None, dtype=None, out=None, keepdims=<no value>, initial=<no value>, where=<no value>)>: 'sum',\n",
       "   <function numpy.nansum(a, axis=None, dtype=None, out=None, keepdims=<no value>)>: 'sum',\n",
       "   <function numpy.mean(a, axis=None, dtype=None, out=None, keepdims=<no value>)>: 'mean',\n",
       "   <function numpy.nanmean(a, axis=None, dtype=None, out=None, keepdims=<no value>)>: 'mean',\n",
       "   <function numpy.prod(a, axis=None, dtype=None, out=None, keepdims=<no value>, initial=<no value>, where=<no value>)>: 'prod',\n",
       "   <function numpy.nanprod(a, axis=None, dtype=None, out=None, keepdims=<no value>)>: 'prod',\n",
       "   <function numpy.std(a, axis=None, dtype=None, out=None, ddof=0, keepdims=<no value>)>: 'std',\n",
       "   <function numpy.nanstd(a, axis=None, dtype=None, out=None, ddof=0, keepdims=<no value>)>: 'std',\n",
       "   <function numpy.var(a, axis=None, dtype=None, out=None, ddof=0, keepdims=<no value>)>: 'var',\n",
       "   <function numpy.nanvar(a, axis=None, dtype=None, out=None, ddof=0, keepdims=<no value>)>: 'var',\n",
       "   <function numpy.median(a, axis=None, out=None, overwrite_input=False, keepdims=False)>: 'median',\n",
       "   <function numpy.nanmedian(a, axis=None, out=None, overwrite_input=False, keepdims=<no value>)>: 'median',\n",
       "   <function numpy.amax(a, axis=None, out=None, keepdims=<no value>, initial=<no value>, where=<no value>)>: 'max',\n",
       "   <function numpy.nanmax(a, axis=None, out=None, keepdims=<no value>)>: 'max',\n",
       "   <function numpy.amin(a, axis=None, out=None, keepdims=<no value>, initial=<no value>, where=<no value>)>: 'min',\n",
       "   <function numpy.nanmin(a, axis=None, out=None, keepdims=<no value>)>: 'min',\n",
       "   <function numpy.cumprod(a, axis=None, dtype=None, out=None)>: 'cumprod',\n",
       "   <function numpy.nancumprod(a, axis=None, dtype=None, out=None)>: 'cumprod',\n",
       "   <function numpy.cumsum(a, axis=None, dtype=None, out=None)>: 'cumsum',\n",
       "   <function numpy.nancumsum(a, axis=None, dtype=None, out=None)>: 'cumsum'}),\n",
       " ('_data',\n",
       "  BlockManager\n",
       "  Items: Index(['price', 'sqft'], dtype='object')\n",
       "  Axis 1: RangeIndex(start=0, stop=3, step=1)\n",
       "  IntBlock: slice(0, 2, 1), 2 x 3, dtype: int64),\n",
       " ('_deprecations', frozenset({'get_values', 'tshift'})),\n",
       " ('_dir_additions',\n",
       "  <bound method NDFrame._dir_additions of    price  sqft\n",
       "  0     50  1000\n",
       "  1     40   950\n",
       "  2     30   500>),\n",
       " ('_dir_deletions',\n",
       "  <bound method DirNamesMixin._dir_deletions of    price  sqft\n",
       "  0     50  1000\n",
       "  1     40   950\n",
       "  2     30   500>),\n",
       " ('_drop_axis',\n",
       "  <bound method NDFrame._drop_axis of    price  sqft\n",
       "  0     50  1000\n",
       "  1     40   950\n",
       "  2     30   500>),\n",
       " ('_drop_labels_or_levels',\n",
       "  <bound method NDFrame._drop_labels_or_levels of    price  sqft\n",
       "  0     50  1000\n",
       "  1     40   950\n",
       "  2     30   500>),\n",
       " ('_ensure_valid_index',\n",
       "  <bound method DataFrame._ensure_valid_index of    price  sqft\n",
       "  0     50  1000\n",
       "  1     40   950\n",
       "  2     30   500>),\n",
       " ('_find_valid_index',\n",
       "  <bound method NDFrame._find_valid_index of    price  sqft\n",
       "  0     50  1000\n",
       "  1     40   950\n",
       "  2     30   500>),\n",
       " ('_from_arrays',\n",
       "  <bound method DataFrame._from_arrays of <class 'pandas.core.frame.DataFrame'>>),\n",
       " ('_get_agg_axis',\n",
       "  <bound method DataFrame._get_agg_axis of    price  sqft\n",
       "  0     50  1000\n",
       "  1     40   950\n",
       "  2     30   500>),\n",
       " ('_get_axis',\n",
       "  <bound method NDFrame._get_axis of    price  sqft\n",
       "  0     50  1000\n",
       "  1     40   950\n",
       "  2     30   500>),\n",
       " ('_get_axis_name',\n",
       "  <bound method NDFrame._get_axis_name of <class 'pandas.core.frame.DataFrame'>>),\n",
       " ('_get_axis_number',\n",
       "  <bound method NDFrame._get_axis_number of <class 'pandas.core.frame.DataFrame'>>),\n",
       " ('_get_axis_resolvers',\n",
       "  <bound method NDFrame._get_axis_resolvers of    price  sqft\n",
       "  0     50  1000\n",
       "  1     40   950\n",
       "  2     30   500>),\n",
       " ('_get_block_manager_axis',\n",
       "  <bound method NDFrame._get_block_manager_axis of <class 'pandas.core.frame.DataFrame'>>),\n",
       " ('_get_bool_data',\n",
       "  <bound method NDFrame._get_bool_data of    price  sqft\n",
       "  0     50  1000\n",
       "  1     40   950\n",
       "  2     30   500>),\n",
       " ('_get_cacher',\n",
       "  <bound method NDFrame._get_cacher of    price  sqft\n",
       "  0     50  1000\n",
       "  1     40   950\n",
       "  2     30   500>),\n",
       " ('_get_cleaned_column_resolvers',\n",
       "  <bound method NDFrame._get_cleaned_column_resolvers of    price  sqft\n",
       "  0     50  1000\n",
       "  1     40   950\n",
       "  2     30   500>),\n",
       " ('_get_column_array',\n",
       "  <bound method DataFrame._get_column_array of    price  sqft\n",
       "  0     50  1000\n",
       "  1     40   950\n",
       "  2     30   500>),\n",
       " ('_get_cython_func',\n",
       "  <bound method SelectionMixin._get_cython_func of    price  sqft\n",
       "  0     50  1000\n",
       "  1     40   950\n",
       "  2     30   500>),\n",
       " ('_get_index_resolvers',\n",
       "  <bound method NDFrame._get_index_resolvers of    price  sqft\n",
       "  0     50  1000\n",
       "  1     40   950\n",
       "  2     30   500>),\n",
       " ('_get_item_cache',\n",
       "  <bound method NDFrame._get_item_cache of    price  sqft\n",
       "  0     50  1000\n",
       "  1     40   950\n",
       "  2     30   500>),\n",
       " ('_get_label_or_level_values',\n",
       "  <bound method NDFrame._get_label_or_level_values of    price  sqft\n",
       "  0     50  1000\n",
       "  1     40   950\n",
       "  2     30   500>),\n",
       " ('_get_numeric_data',\n",
       "  <bound method NDFrame._get_numeric_data of    price  sqft\n",
       "  0     50  1000\n",
       "  1     40   950\n",
       "  2     30   500>),\n",
       " ('_get_value',\n",
       "  <bound method DataFrame._get_value of    price  sqft\n",
       "  0     50  1000\n",
       "  1     40   950\n",
       "  2     30   500>),\n",
       " ('_getitem_bool_array',\n",
       "  <bound method DataFrame._getitem_bool_array of    price  sqft\n",
       "  0     50  1000\n",
       "  1     40   950\n",
       "  2     30   500>),\n",
       " ('_getitem_multilevel',\n",
       "  <bound method DataFrame._getitem_multilevel of    price  sqft\n",
       "  0     50  1000\n",
       "  1     40   950\n",
       "  2     30   500>),\n",
       " ('_gotitem',\n",
       "  <bound method DataFrame._gotitem of    price  sqft\n",
       "  0     50  1000\n",
       "  1     40   950\n",
       "  2     30   500>),\n",
       " ('_indexed_same',\n",
       "  <bound method NDFrame._indexed_same of    price  sqft\n",
       "  0     50  1000\n",
       "  1     40   950\n",
       "  2     30   500>),\n",
       " ('_info_axis', Index(['price', 'sqft'], dtype='object')),\n",
       " ('_info_axis_name', 'columns'),\n",
       " ('_info_axis_number', 1),\n",
       " ('_info_repr',\n",
       "  <bound method DataFrame._info_repr of    price  sqft\n",
       "  0     50  1000\n",
       "  1     40   950\n",
       "  2     30   500>),\n",
       " ('_init_mgr',\n",
       "  <bound method NDFrame._init_mgr of <class 'pandas.core.frame.DataFrame'>>),\n",
       " ('_internal_names',\n",
       "  ['_mgr',\n",
       "   '_cacher',\n",
       "   '_item_cache',\n",
       "   '_cache',\n",
       "   '_is_copy',\n",
       "   '_subtyp',\n",
       "   '_name',\n",
       "   '_index',\n",
       "   '_default_kind',\n",
       "   '_default_fill_value',\n",
       "   '_metadata',\n",
       "   '__array_struct__',\n",
       "   '__array_interface__']),\n",
       " ('_internal_names_set',\n",
       "  {'__array_interface__',\n",
       "   '__array_struct__',\n",
       "   '_cache',\n",
       "   '_cacher',\n",
       "   '_default_fill_value',\n",
       "   '_default_kind',\n",
       "   '_index',\n",
       "   '_is_copy',\n",
       "   '_item_cache',\n",
       "   '_metadata',\n",
       "   '_mgr',\n",
       "   '_name',\n",
       "   '_subtyp',\n",
       "   'columns',\n",
       "   'index'}),\n",
       " ('_is_builtin_func',\n",
       "  <bound method SelectionMixin._is_builtin_func of    price  sqft\n",
       "  0     50  1000\n",
       "  1     40   950\n",
       "  2     30   500>),\n",
       " ('_is_cached', False),\n",
       " ('_is_copy', None),\n",
       " ('_is_homogeneous_type', True),\n",
       " ('_is_label_or_level_reference',\n",
       "  <bound method NDFrame._is_label_or_level_reference of    price  sqft\n",
       "  0     50  1000\n",
       "  1     40   950\n",
       "  2     30   500>),\n",
       " ('_is_label_reference',\n",
       "  <bound method NDFrame._is_label_reference of    price  sqft\n",
       "  0     50  1000\n",
       "  1     40   950\n",
       "  2     30   500>),\n",
       " ('_is_level_reference',\n",
       "  <bound method NDFrame._is_level_reference of    price  sqft\n",
       "  0     50  1000\n",
       "  1     40   950\n",
       "  2     30   500>),\n",
       " ('_is_mixed_type', False),\n",
       " ('_is_view', False),\n",
       " ('_iset_item',\n",
       "  <bound method DataFrame._iset_item of    price  sqft\n",
       "  0     50  1000\n",
       "  1     40   950\n",
       "  2     30   500>),\n",
       " ('_iter_column_arrays',\n",
       "  <bound method DataFrame._iter_column_arrays of    price  sqft\n",
       "  0     50  1000\n",
       "  1     40   950\n",
       "  2     30   500>),\n",
       " ('_ix', None),\n",
       " ('_ixs',\n",
       "  <bound method DataFrame._ixs of    price  sqft\n",
       "  0     50  1000\n",
       "  1     40   950\n",
       "  2     30   500>),\n",
       " ('_join_compat',\n",
       "  <bound method DataFrame._join_compat of    price  sqft\n",
       "  0     50  1000\n",
       "  1     40   950\n",
       "  2     30   500>),\n",
       " ('_maybe_cache_changed',\n",
       "  <bound method NDFrame._maybe_cache_changed of    price  sqft\n",
       "  0     50  1000\n",
       "  1     40   950\n",
       "  2     30   500>),\n",
       " ('_maybe_update_cacher',\n",
       "  <bound method NDFrame._maybe_update_cacher of    price  sqft\n",
       "  0     50  1000\n",
       "  1     40   950\n",
       "  2     30   500>),\n",
       " ('_metadata', []),\n",
       " ('_needs_reindex_multi',\n",
       "  <bound method NDFrame._needs_reindex_multi of    price  sqft\n",
       "  0     50  1000\n",
       "  1     40   950\n",
       "  2     30   500>),\n",
       " ('_obj_with_exclusions',\n",
       "     price  sqft\n",
       "  0     50  1000\n",
       "  1     40   950\n",
       "  2     30   500),\n",
       " ('_protect_consolidate',\n",
       "  <bound method NDFrame._protect_consolidate of    price  sqft\n",
       "  0     50  1000\n",
       "  1     40   950\n",
       "  2     30   500>),\n",
       " ('_reduce',\n",
       "  <bound method DataFrame._reduce of    price  sqft\n",
       "  0     50  1000\n",
       "  1     40   950\n",
       "  2     30   500>),\n",
       " ('_reindex_axes',\n",
       "  <bound method DataFrame._reindex_axes of    price  sqft\n",
       "  0     50  1000\n",
       "  1     40   950\n",
       "  2     30   500>),\n",
       " ('_reindex_columns',\n",
       "  <bound method DataFrame._reindex_columns of    price  sqft\n",
       "  0     50  1000\n",
       "  1     40   950\n",
       "  2     30   500>),\n",
       " ('_reindex_index',\n",
       "  <bound method DataFrame._reindex_index of    price  sqft\n",
       "  0     50  1000\n",
       "  1     40   950\n",
       "  2     30   500>),\n",
       " ('_reindex_multi',\n",
       "  <bound method DataFrame._reindex_multi of    price  sqft\n",
       "  0     50  1000\n",
       "  1     40   950\n",
       "  2     30   500>),\n",
       " ('_reindex_with_indexers',\n",
       "  <bound method NDFrame._reindex_with_indexers of    price  sqft\n",
       "  0     50  1000\n",
       "  1     40   950\n",
       "  2     30   500>),\n",
       " ('_replace_columnwise',\n",
       "  <bound method DataFrame._replace_columnwise of    price  sqft\n",
       "  0     50  1000\n",
       "  1     40   950\n",
       "  2     30   500>),\n",
       " ('_repr_data_resource_',\n",
       "  <bound method NDFrame._repr_data_resource_ of    price  sqft\n",
       "  0     50  1000\n",
       "  1     40   950\n",
       "  2     30   500>),\n",
       " ('_repr_fits_horizontal_',\n",
       "  <bound method DataFrame._repr_fits_horizontal_ of    price  sqft\n",
       "  0     50  1000\n",
       "  1     40   950\n",
       "  2     30   500>),\n",
       " ('_repr_fits_vertical_',\n",
       "  <bound method DataFrame._repr_fits_vertical_ of    price  sqft\n",
       "  0     50  1000\n",
       "  1     40   950\n",
       "  2     30   500>),\n",
       " ('_repr_html_',\n",
       "  <bound method DataFrame._repr_html_ of    price  sqft\n",
       "  0     50  1000\n",
       "  1     40   950\n",
       "  2     30   500>),\n",
       " ('_repr_latex_',\n",
       "  <bound method NDFrame._repr_latex_ of    price  sqft\n",
       "  0     50  1000\n",
       "  1     40   950\n",
       "  2     30   500>),\n",
       " ('_reset_cache',\n",
       "  <bound method PandasObject._reset_cache of    price  sqft\n",
       "  0     50  1000\n",
       "  1     40   950\n",
       "  2     30   500>),\n",
       " ('_reset_cacher',\n",
       "  <bound method NDFrame._reset_cacher of    price  sqft\n",
       "  0     50  1000\n",
       "  1     40   950\n",
       "  2     30   500>),\n",
       " ('_sanitize_column',\n",
       "  <bound method DataFrame._sanitize_column of    price  sqft\n",
       "  0     50  1000\n",
       "  1     40   950\n",
       "  2     30   500>),\n",
       " ('_selected_obj',\n",
       "     price  sqft\n",
       "  0     50  1000\n",
       "  1     40   950\n",
       "  2     30   500),\n",
       " ('_selection', None),\n",
       " ('_selection_list', [None]),\n",
       " ('_selection_name', None),\n",
       " ('_series',\n",
       "  {'price': 0    50\n",
       "   1    40\n",
       "   2    30\n",
       "   Name: price, dtype: int64,\n",
       "   'sqft': 0    1000\n",
       "   1     950\n",
       "   2     500\n",
       "   Name: sqft, dtype: int64}),\n",
       " ('_set_as_cached',\n",
       "  <bound method NDFrame._set_as_cached of    price  sqft\n",
       "  0     50  1000\n",
       "  1     40   950\n",
       "  2     30   500>),\n",
       " ('_set_axis',\n",
       "  <bound method NDFrame._set_axis of    price  sqft\n",
       "  0     50  1000\n",
       "  1     40   950\n",
       "  2     30   500>),\n",
       " ('_set_axis_name',\n",
       "  <bound method NDFrame._set_axis_name of    price  sqft\n",
       "  0     50  1000\n",
       "  1     40   950\n",
       "  2     30   500>),\n",
       " ('_set_is_copy',\n",
       "  <bound method NDFrame._set_is_copy of    price  sqft\n",
       "  0     50  1000\n",
       "  1     40   950\n",
       "  2     30   500>),\n",
       " ('_set_item',\n",
       "  <bound method DataFrame._set_item of    price  sqft\n",
       "  0     50  1000\n",
       "  1     40   950\n",
       "  2     30   500>),\n",
       " ('_set_value',\n",
       "  <bound method DataFrame._set_value of    price  sqft\n",
       "  0     50  1000\n",
       "  1     40   950\n",
       "  2     30   500>),\n",
       " ('_setitem_array',\n",
       "  <bound method DataFrame._setitem_array of    price  sqft\n",
       "  0     50  1000\n",
       "  1     40   950\n",
       "  2     30   500>),\n",
       " ('_setitem_frame',\n",
       "  <bound method DataFrame._setitem_frame of    price  sqft\n",
       "  0     50  1000\n",
       "  1     40   950\n",
       "  2     30   500>),\n",
       " ('_setitem_slice',\n",
       "  <bound method DataFrame._setitem_slice of    price  sqft\n",
       "  0     50  1000\n",
       "  1     40   950\n",
       "  2     30   500>),\n",
       " ('_slice',\n",
       "  <bound method NDFrame._slice of    price  sqft\n",
       "  0     50  1000\n",
       "  1     40   950\n",
       "  2     30   500>),\n",
       " ('_stat_axis', RangeIndex(start=0, stop=3, step=1)),\n",
       " ('_stat_axis_name', 'index'),\n",
       " ('_stat_axis_number', 0),\n",
       " ('_take_with_is_copy',\n",
       "  <bound method NDFrame._take_with_is_copy of    price  sqft\n",
       "  0     50  1000\n",
       "  1     40   950\n",
       "  2     30   500>),\n",
       " ('_to_dict_of_blocks',\n",
       "  <bound method NDFrame._to_dict_of_blocks of    price  sqft\n",
       "  0     50  1000\n",
       "  1     40   950\n",
       "  2     30   500>),\n",
       " ('_try_aggregate_string_function',\n",
       "  <bound method SelectionMixin._try_aggregate_string_function of    price  sqft\n",
       "  0     50  1000\n",
       "  1     40   950\n",
       "  2     30   500>),\n",
       " ('_typ', 'dataframe'),\n",
       " ('_update_inplace',\n",
       "  <bound method NDFrame._update_inplace of    price  sqft\n",
       "  0     50  1000\n",
       "  1     40   950\n",
       "  2     30   500>),\n",
       " ('_validate_dtype',\n",
       "  <bound method NDFrame._validate_dtype of <class 'pandas.core.frame.DataFrame'>>),\n",
       " ('_values',\n",
       "  array([[  50, 1000],\n",
       "         [  40,  950],\n",
       "         [  30,  500]])),\n",
       " ('_where',\n",
       "  <bound method NDFrame._where of    price  sqft\n",
       "  0     50  1000\n",
       "  1     40   950\n",
       "  2     30   500>),\n",
       " ('abs',\n",
       "  <bound method NDFrame.abs of    price  sqft\n",
       "  0     50  1000\n",
       "  1     40   950\n",
       "  2     30   500>),\n",
       " ('add',\n",
       "  <bound method _arith_method_FRAME.<locals>.f of    price  sqft\n",
       "  0     50  1000\n",
       "  1     40   950\n",
       "  2     30   500>),\n",
       " ('add_prefix',\n",
       "  <bound method NDFrame.add_prefix of    price  sqft\n",
       "  0     50  1000\n",
       "  1     40   950\n",
       "  2     30   500>),\n",
       " ('add_suffix',\n",
       "  <bound method NDFrame.add_suffix of    price  sqft\n",
       "  0     50  1000\n",
       "  1     40   950\n",
       "  2     30   500>),\n",
       " ('agg',\n",
       "  <bound method DataFrame.aggregate of    price  sqft\n",
       "  0     50  1000\n",
       "  1     40   950\n",
       "  2     30   500>),\n",
       " ('aggregate',\n",
       "  <bound method DataFrame.aggregate of    price  sqft\n",
       "  0     50  1000\n",
       "  1     40   950\n",
       "  2     30   500>),\n",
       " ('align',\n",
       "  <bound method DataFrame.align of    price  sqft\n",
       "  0     50  1000\n",
       "  1     40   950\n",
       "  2     30   500>),\n",
       " ('all',\n",
       "  <bound method DataFrame.all of    price  sqft\n",
       "  0     50  1000\n",
       "  1     40   950\n",
       "  2     30   500>),\n",
       " ('any',\n",
       "  <bound method DataFrame.any of    price  sqft\n",
       "  0     50  1000\n",
       "  1     40   950\n",
       "  2     30   500>),\n",
       " ('append',\n",
       "  <bound method DataFrame.append of    price  sqft\n",
       "  0     50  1000\n",
       "  1     40   950\n",
       "  2     30   500>),\n",
       " ('apply',\n",
       "  <bound method DataFrame.apply of    price  sqft\n",
       "  0     50  1000\n",
       "  1     40   950\n",
       "  2     30   500>),\n",
       " ('applymap',\n",
       "  <bound method DataFrame.applymap of    price  sqft\n",
       "  0     50  1000\n",
       "  1     40   950\n",
       "  2     30   500>),\n",
       " ('asfreq',\n",
       "  <bound method NDFrame.asfreq of    price  sqft\n",
       "  0     50  1000\n",
       "  1     40   950\n",
       "  2     30   500>),\n",
       " ('asof',\n",
       "  <bound method NDFrame.asof of    price  sqft\n",
       "  0     50  1000\n",
       "  1     40   950\n",
       "  2     30   500>),\n",
       " ('assign',\n",
       "  <bound method DataFrame.assign of    price  sqft\n",
       "  0     50  1000\n",
       "  1     40   950\n",
       "  2     30   500>),\n",
       " ('astype',\n",
       "  <bound method NDFrame.astype of    price  sqft\n",
       "  0     50  1000\n",
       "  1     40   950\n",
       "  2     30   500>),\n",
       " ('at', <pandas.core.indexing._AtIndexer at 0x7f88c2cc1540>),\n",
       " ('at_time',\n",
       "  <bound method NDFrame.at_time of    price  sqft\n",
       "  0     50  1000\n",
       "  1     40   950\n",
       "  2     30   500>),\n",
       " ('attrs', {}),\n",
       " ('axes',\n",
       "  [RangeIndex(start=0, stop=3, step=1),\n",
       "   Index(['price', 'sqft'], dtype='object')]),\n",
       " ('backfill',\n",
       "  <bound method NDFrame.bfill of    price  sqft\n",
       "  0     50  1000\n",
       "  1     40   950\n",
       "  2     30   500>),\n",
       " ('between_time',\n",
       "  <bound method NDFrame.between_time of    price  sqft\n",
       "  0     50  1000\n",
       "  1     40   950\n",
       "  2     30   500>),\n",
       " ('bfill',\n",
       "  <bound method NDFrame.bfill of    price  sqft\n",
       "  0     50  1000\n",
       "  1     40   950\n",
       "  2     30   500>),\n",
       " ('bool',\n",
       "  <bound method NDFrame.bool of    price  sqft\n",
       "  0     50  1000\n",
       "  1     40   950\n",
       "  2     30   500>),\n",
       " ('boxplot',\n",
       "  <bound method boxplot_frame of    price  sqft\n",
       "  0     50  1000\n",
       "  1     40   950\n",
       "  2     30   500>),\n",
       " ('clip',\n",
       "  <bound method NDFrame.clip of    price  sqft\n",
       "  0     50  1000\n",
       "  1     40   950\n",
       "  2     30   500>),\n",
       " ('columns', Index(['price', 'sqft'], dtype='object')),\n",
       " ('combine',\n",
       "  <bound method DataFrame.combine of    price  sqft\n",
       "  0     50  1000\n",
       "  1     40   950\n",
       "  2     30   500>),\n",
       " ('combine_first',\n",
       "  <bound method DataFrame.combine_first of    price  sqft\n",
       "  0     50  1000\n",
       "  1     40   950\n",
       "  2     30   500>),\n",
       " ('compare',\n",
       "  <bound method DataFrame.compare of    price  sqft\n",
       "  0     50  1000\n",
       "  1     40   950\n",
       "  2     30   500>),\n",
       " ('convert_dtypes',\n",
       "  <bound method NDFrame.convert_dtypes of    price  sqft\n",
       "  0     50  1000\n",
       "  1     40   950\n",
       "  2     30   500>),\n",
       " ('copy',\n",
       "  <bound method NDFrame.copy of    price  sqft\n",
       "  0     50  1000\n",
       "  1     40   950\n",
       "  2     30   500>),\n",
       " ('corr',\n",
       "  <bound method DataFrame.corr of    price  sqft\n",
       "  0     50  1000\n",
       "  1     40   950\n",
       "  2     30   500>),\n",
       " ('corrwith',\n",
       "  <bound method DataFrame.corrwith of    price  sqft\n",
       "  0     50  1000\n",
       "  1     40   950\n",
       "  2     30   500>),\n",
       " ('count',\n",
       "  <bound method DataFrame.count of    price  sqft\n",
       "  0     50  1000\n",
       "  1     40   950\n",
       "  2     30   500>),\n",
       " ('cov',\n",
       "  <bound method DataFrame.cov of    price  sqft\n",
       "  0     50  1000\n",
       "  1     40   950\n",
       "  2     30   500>),\n",
       " ('cummax',\n",
       "  <bound method DataFrame.cummax of    price  sqft\n",
       "  0     50  1000\n",
       "  1     40   950\n",
       "  2     30   500>),\n",
       " ('cummin',\n",
       "  <bound method DataFrame.cummin of    price  sqft\n",
       "  0     50  1000\n",
       "  1     40   950\n",
       "  2     30   500>),\n",
       " ('cumprod',\n",
       "  <bound method DataFrame.cumprod of    price  sqft\n",
       "  0     50  1000\n",
       "  1     40   950\n",
       "  2     30   500>),\n",
       " ('cumsum',\n",
       "  <bound method DataFrame.cumsum of    price  sqft\n",
       "  0     50  1000\n",
       "  1     40   950\n",
       "  2     30   500>),\n",
       " ('describe',\n",
       "  <bound method NDFrame.describe of    price  sqft\n",
       "  0     50  1000\n",
       "  1     40   950\n",
       "  2     30   500>),\n",
       " ('diff',\n",
       "  <bound method DataFrame.diff of    price  sqft\n",
       "  0     50  1000\n",
       "  1     40   950\n",
       "  2     30   500>),\n",
       " ('div',\n",
       "  <bound method _arith_method_FRAME.<locals>.f of    price  sqft\n",
       "  0     50  1000\n",
       "  1     40   950\n",
       "  2     30   500>),\n",
       " ('divide',\n",
       "  <bound method _arith_method_FRAME.<locals>.f of    price  sqft\n",
       "  0     50  1000\n",
       "  1     40   950\n",
       "  2     30   500>),\n",
       " ('dot',\n",
       "  <bound method DataFrame.dot of    price  sqft\n",
       "  0     50  1000\n",
       "  1     40   950\n",
       "  2     30   500>),\n",
       " ('drop',\n",
       "  <bound method DataFrame.drop of    price  sqft\n",
       "  0     50  1000\n",
       "  1     40   950\n",
       "  2     30   500>),\n",
       " ('drop_duplicates',\n",
       "  <bound method DataFrame.drop_duplicates of    price  sqft\n",
       "  0     50  1000\n",
       "  1     40   950\n",
       "  2     30   500>),\n",
       " ('droplevel',\n",
       "  <bound method NDFrame.droplevel of    price  sqft\n",
       "  0     50  1000\n",
       "  1     40   950\n",
       "  2     30   500>),\n",
       " ('dropna',\n",
       "  <bound method DataFrame.dropna of    price  sqft\n",
       "  0     50  1000\n",
       "  1     40   950\n",
       "  2     30   500>),\n",
       " ('dtypes',\n",
       "  price    int64\n",
       "  sqft     int64\n",
       "  dtype: object),\n",
       " ('duplicated',\n",
       "  <bound method DataFrame.duplicated of    price  sqft\n",
       "  0     50  1000\n",
       "  1     40   950\n",
       "  2     30   500>),\n",
       " ('empty', False),\n",
       " ('eq',\n",
       "  <bound method _flex_comp_method_FRAME.<locals>.f of    price  sqft\n",
       "  0     50  1000\n",
       "  1     40   950\n",
       "  2     30   500>),\n",
       " ('equals',\n",
       "  <bound method NDFrame.equals of    price  sqft\n",
       "  0     50  1000\n",
       "  1     40   950\n",
       "  2     30   500>),\n",
       " ('eval',\n",
       "  <bound method DataFrame.eval of    price  sqft\n",
       "  0     50  1000\n",
       "  1     40   950\n",
       "  2     30   500>),\n",
       " ('ewm',\n",
       "  <bound method NDFrame._add_series_or_dataframe_operations.<locals>.ewm of    price  sqft\n",
       "  0     50  1000\n",
       "  1     40   950\n",
       "  2     30   500>),\n",
       " ('expanding',\n",
       "  <bound method NDFrame._add_series_or_dataframe_operations.<locals>.expanding of    price  sqft\n",
       "  0     50  1000\n",
       "  1     40   950\n",
       "  2     30   500>),\n",
       " ('explode',\n",
       "  <bound method DataFrame.explode of    price  sqft\n",
       "  0     50  1000\n",
       "  1     40   950\n",
       "  2     30   500>),\n",
       " ('ffill',\n",
       "  <bound method NDFrame.ffill of    price  sqft\n",
       "  0     50  1000\n",
       "  1     40   950\n",
       "  2     30   500>),\n",
       " ('fillna',\n",
       "  <bound method DataFrame.fillna of    price  sqft\n",
       "  0     50  1000\n",
       "  1     40   950\n",
       "  2     30   500>),\n",
       " ('filter',\n",
       "  <bound method NDFrame.filter of    price  sqft\n",
       "  0     50  1000\n",
       "  1     40   950\n",
       "  2     30   500>),\n",
       " ('first',\n",
       "  <bound method NDFrame.first of    price  sqft\n",
       "  0     50  1000\n",
       "  1     40   950\n",
       "  2     30   500>),\n",
       " ('first_valid_index',\n",
       "  <bound method NDFrame.first_valid_index of    price  sqft\n",
       "  0     50  1000\n",
       "  1     40   950\n",
       "  2     30   500>),\n",
       " ('floordiv',\n",
       "  <bound method _arith_method_FRAME.<locals>.f of    price  sqft\n",
       "  0     50  1000\n",
       "  1     40   950\n",
       "  2     30   500>),\n",
       " ('from_dict',\n",
       "  <bound method DataFrame.from_dict of <class 'pandas.core.frame.DataFrame'>>),\n",
       " ('from_records',\n",
       "  <bound method DataFrame.from_records of <class 'pandas.core.frame.DataFrame'>>),\n",
       " ('ge',\n",
       "  <bound method _flex_comp_method_FRAME.<locals>.f of    price  sqft\n",
       "  0     50  1000\n",
       "  1     40   950\n",
       "  2     30   500>),\n",
       " ('get',\n",
       "  <bound method NDFrame.get of    price  sqft\n",
       "  0     50  1000\n",
       "  1     40   950\n",
       "  2     30   500>),\n",
       " ('groupby',\n",
       "  <bound method DataFrame.groupby of    price  sqft\n",
       "  0     50  1000\n",
       "  1     40   950\n",
       "  2     30   500>),\n",
       " ('gt',\n",
       "  <bound method _flex_comp_method_FRAME.<locals>.f of    price  sqft\n",
       "  0     50  1000\n",
       "  1     40   950\n",
       "  2     30   500>),\n",
       " ('head',\n",
       "  <bound method NDFrame.head of    price  sqft\n",
       "  0     50  1000\n",
       "  1     40   950\n",
       "  2     30   500>),\n",
       " ('hist',\n",
       "  <bound method hist_frame of    price  sqft\n",
       "  0     50  1000\n",
       "  1     40   950\n",
       "  2     30   500>),\n",
       " ('iat', <pandas.core.indexing._iAtIndexer at 0x7f88c2cc16d0>),\n",
       " ('idxmax',\n",
       "  <bound method DataFrame.idxmax of    price  sqft\n",
       "  0     50  1000\n",
       "  1     40   950\n",
       "  2     30   500>),\n",
       " ('idxmin',\n",
       "  <bound method DataFrame.idxmin of    price  sqft\n",
       "  0     50  1000\n",
       "  1     40   950\n",
       "  2     30   500>),\n",
       " ('iloc', <pandas.core.indexing._iLocIndexer at 0x7f88c2cc1720>),\n",
       " ('index', RangeIndex(start=0, stop=3, step=1)),\n",
       " ('infer_objects',\n",
       "  <bound method NDFrame.infer_objects of    price  sqft\n",
       "  0     50  1000\n",
       "  1     40   950\n",
       "  2     30   500>),\n",
       " ('info',\n",
       "  <bound method DataFrame.info of    price  sqft\n",
       "  0     50  1000\n",
       "  1     40   950\n",
       "  2     30   500>),\n",
       " ('insert',\n",
       "  <bound method DataFrame.insert of    price  sqft\n",
       "  0     50  1000\n",
       "  1     40   950\n",
       "  2     30   500>),\n",
       " ('interpolate',\n",
       "  <bound method NDFrame.interpolate of    price  sqft\n",
       "  0     50  1000\n",
       "  1     40   950\n",
       "  2     30   500>),\n",
       " ('isin',\n",
       "  <bound method DataFrame.isin of    price  sqft\n",
       "  0     50  1000\n",
       "  1     40   950\n",
       "  2     30   500>),\n",
       " ('isna',\n",
       "  <bound method DataFrame.isna of    price  sqft\n",
       "  0     50  1000\n",
       "  1     40   950\n",
       "  2     30   500>),\n",
       " ('isnull',\n",
       "  <bound method DataFrame.isnull of    price  sqft\n",
       "  0     50  1000\n",
       "  1     40   950\n",
       "  2     30   500>),\n",
       " ('items',\n",
       "  <bound method DataFrame.items of    price  sqft\n",
       "  0     50  1000\n",
       "  1     40   950\n",
       "  2     30   500>),\n",
       " ('iteritems',\n",
       "  <bound method DataFrame.iteritems of    price  sqft\n",
       "  0     50  1000\n",
       "  1     40   950\n",
       "  2     30   500>),\n",
       " ('iterrows',\n",
       "  <bound method DataFrame.iterrows of    price  sqft\n",
       "  0     50  1000\n",
       "  1     40   950\n",
       "  2     30   500>),\n",
       " ('itertuples',\n",
       "  <bound method DataFrame.itertuples of    price  sqft\n",
       "  0     50  1000\n",
       "  1     40   950\n",
       "  2     30   500>),\n",
       " ('join',\n",
       "  <bound method DataFrame.join of    price  sqft\n",
       "  0     50  1000\n",
       "  1     40   950\n",
       "  2     30   500>),\n",
       " ('keys',\n",
       "  <bound method NDFrame.keys of    price  sqft\n",
       "  0     50  1000\n",
       "  1     40   950\n",
       "  2     30   500>),\n",
       " ('kurt',\n",
       "  <bound method DataFrame.kurt of    price  sqft\n",
       "  0     50  1000\n",
       "  1     40   950\n",
       "  2     30   500>),\n",
       " ('kurtosis',\n",
       "  <bound method DataFrame.kurt of    price  sqft\n",
       "  0     50  1000\n",
       "  1     40   950\n",
       "  2     30   500>),\n",
       " ('last',\n",
       "  <bound method NDFrame.last of    price  sqft\n",
       "  0     50  1000\n",
       "  1     40   950\n",
       "  2     30   500>),\n",
       " ('last_valid_index',\n",
       "  <bound method NDFrame.last_valid_index of    price  sqft\n",
       "  0     50  1000\n",
       "  1     40   950\n",
       "  2     30   500>),\n",
       " ('le',\n",
       "  <bound method _flex_comp_method_FRAME.<locals>.f of    price  sqft\n",
       "  0     50  1000\n",
       "  1     40   950\n",
       "  2     30   500>),\n",
       " ('loc', <pandas.core.indexing._LocIndexer at 0x7f88c2cc1770>),\n",
       " ('lookup',\n",
       "  <bound method DataFrame.lookup of    price  sqft\n",
       "  0     50  1000\n",
       "  1     40   950\n",
       "  2     30   500>),\n",
       " ('lt',\n",
       "  <bound method _flex_comp_method_FRAME.<locals>.f of    price  sqft\n",
       "  0     50  1000\n",
       "  1     40   950\n",
       "  2     30   500>),\n",
       " ('mad',\n",
       "  <bound method NDFrame._add_numeric_operations.<locals>.mad of    price  sqft\n",
       "  0     50  1000\n",
       "  1     40   950\n",
       "  2     30   500>),\n",
       " ('mask',\n",
       "  <bound method NDFrame.mask of    price  sqft\n",
       "  0     50  1000\n",
       "  1     40   950\n",
       "  2     30   500>),\n",
       " ('max',\n",
       "  <bound method DataFrame.max of    price  sqft\n",
       "  0     50  1000\n",
       "  1     40   950\n",
       "  2     30   500>),\n",
       " ('mean',\n",
       "  <bound method DataFrame.mean of    price  sqft\n",
       "  0     50  1000\n",
       "  1     40   950\n",
       "  2     30   500>),\n",
       " ('median',\n",
       "  <bound method DataFrame.median of    price  sqft\n",
       "  0     50  1000\n",
       "  1     40   950\n",
       "  2     30   500>),\n",
       " ('melt',\n",
       "  <bound method DataFrame.melt of    price  sqft\n",
       "  0     50  1000\n",
       "  1     40   950\n",
       "  2     30   500>),\n",
       " ('memory_usage',\n",
       "  <bound method DataFrame.memory_usage of    price  sqft\n",
       "  0     50  1000\n",
       "  1     40   950\n",
       "  2     30   500>),\n",
       " ('merge',\n",
       "  <bound method DataFrame.merge of    price  sqft\n",
       "  0     50  1000\n",
       "  1     40   950\n",
       "  2     30   500>),\n",
       " ('min',\n",
       "  <bound method DataFrame.min of    price  sqft\n",
       "  0     50  1000\n",
       "  1     40   950\n",
       "  2     30   500>),\n",
       " ('mod',\n",
       "  <bound method _arith_method_FRAME.<locals>.f of    price  sqft\n",
       "  0     50  1000\n",
       "  1     40   950\n",
       "  2     30   500>),\n",
       " ('mode',\n",
       "  <bound method DataFrame.mode of    price  sqft\n",
       "  0     50  1000\n",
       "  1     40   950\n",
       "  2     30   500>),\n",
       " ('mul',\n",
       "  <bound method _arith_method_FRAME.<locals>.f of    price  sqft\n",
       "  0     50  1000\n",
       "  1     40   950\n",
       "  2     30   500>),\n",
       " ('multiply',\n",
       "  <bound method _arith_method_FRAME.<locals>.f of    price  sqft\n",
       "  0     50  1000\n",
       "  1     40   950\n",
       "  2     30   500>),\n",
       " ('ndim', 2),\n",
       " ('ne',\n",
       "  <bound method _flex_comp_method_FRAME.<locals>.f of    price  sqft\n",
       "  0     50  1000\n",
       "  1     40   950\n",
       "  2     30   500>),\n",
       " ('nlargest',\n",
       "  <bound method DataFrame.nlargest of    price  sqft\n",
       "  0     50  1000\n",
       "  1     40   950\n",
       "  2     30   500>),\n",
       " ('notna',\n",
       "  <bound method DataFrame.notna of    price  sqft\n",
       "  0     50  1000\n",
       "  1     40   950\n",
       "  2     30   500>),\n",
       " ('notnull',\n",
       "  <bound method DataFrame.notnull of    price  sqft\n",
       "  0     50  1000\n",
       "  1     40   950\n",
       "  2     30   500>),\n",
       " ('nsmallest',\n",
       "  <bound method DataFrame.nsmallest of    price  sqft\n",
       "  0     50  1000\n",
       "  1     40   950\n",
       "  2     30   500>),\n",
       " ('nunique',\n",
       "  <bound method DataFrame.nunique of    price  sqft\n",
       "  0     50  1000\n",
       "  1     40   950\n",
       "  2     30   500>),\n",
       " ('pad',\n",
       "  <bound method NDFrame.ffill of    price  sqft\n",
       "  0     50  1000\n",
       "  1     40   950\n",
       "  2     30   500>),\n",
       " ('pct_change',\n",
       "  <bound method NDFrame.pct_change of    price  sqft\n",
       "  0     50  1000\n",
       "  1     40   950\n",
       "  2     30   500>),\n",
       " ('pipe',\n",
       "  <bound method NDFrame.pipe of    price  sqft\n",
       "  0     50  1000\n",
       "  1     40   950\n",
       "  2     30   500>),\n",
       " ('pivot',\n",
       "  <bound method DataFrame.pivot of    price  sqft\n",
       "  0     50  1000\n",
       "  1     40   950\n",
       "  2     30   500>),\n",
       " ('pivot_table',\n",
       "  <bound method DataFrame.pivot_table of    price  sqft\n",
       "  0     50  1000\n",
       "  1     40   950\n",
       "  2     30   500>),\n",
       " ('plot', <pandas.plotting._core.PlotAccessor object at 0x7f88c246aeb0>),\n",
       " ('pop',\n",
       "  <bound method DataFrame.pop of    price  sqft\n",
       "  0     50  1000\n",
       "  1     40   950\n",
       "  2     30   500>),\n",
       " ('pow',\n",
       "  <bound method _arith_method_FRAME.<locals>.f of    price  sqft\n",
       "  0     50  1000\n",
       "  1     40   950\n",
       "  2     30   500>),\n",
       " ('price',\n",
       "  0    50\n",
       "  1    40\n",
       "  2    30\n",
       "  Name: price, dtype: int64),\n",
       " ('prod',\n",
       "  <bound method DataFrame.prod of    price  sqft\n",
       "  0     50  1000\n",
       "  1     40   950\n",
       "  2     30   500>),\n",
       " ('product',\n",
       "  <bound method DataFrame.prod of    price  sqft\n",
       "  0     50  1000\n",
       "  1     40   950\n",
       "  2     30   500>),\n",
       " ('quantile',\n",
       "  <bound method DataFrame.quantile of    price  sqft\n",
       "  0     50  1000\n",
       "  1     40   950\n",
       "  2     30   500>),\n",
       " ('query',\n",
       "  <bound method DataFrame.query of    price  sqft\n",
       "  0     50  1000\n",
       "  1     40   950\n",
       "  2     30   500>),\n",
       " ('radd',\n",
       "  <bound method _arith_method_FRAME.<locals>.f of    price  sqft\n",
       "  0     50  1000\n",
       "  1     40   950\n",
       "  2     30   500>),\n",
       " ('rank',\n",
       "  <bound method NDFrame.rank of    price  sqft\n",
       "  0     50  1000\n",
       "  1     40   950\n",
       "  2     30   500>),\n",
       " ('rdiv',\n",
       "  <bound method _arith_method_FRAME.<locals>.f of    price  sqft\n",
       "  0     50  1000\n",
       "  1     40   950\n",
       "  2     30   500>),\n",
       " ('reindex',\n",
       "  <bound method DataFrame.reindex of    price  sqft\n",
       "  0     50  1000\n",
       "  1     40   950\n",
       "  2     30   500>),\n",
       " ('reindex_like',\n",
       "  <bound method NDFrame.reindex_like of    price  sqft\n",
       "  0     50  1000\n",
       "  1     40   950\n",
       "  2     30   500>),\n",
       " ('rename',\n",
       "  <bound method DataFrame.rename of    price  sqft\n",
       "  0     50  1000\n",
       "  1     40   950\n",
       "  2     30   500>),\n",
       " ('rename_axis',\n",
       "  <bound method NDFrame.rename_axis of    price  sqft\n",
       "  0     50  1000\n",
       "  1     40   950\n",
       "  2     30   500>),\n",
       " ('reorder_levels',\n",
       "  <bound method DataFrame.reorder_levels of    price  sqft\n",
       "  0     50  1000\n",
       "  1     40   950\n",
       "  2     30   500>),\n",
       " ('replace',\n",
       "  <bound method DataFrame.replace of    price  sqft\n",
       "  0     50  1000\n",
       "  1     40   950\n",
       "  2     30   500>),\n",
       " ('resample',\n",
       "  <bound method NDFrame.resample of    price  sqft\n",
       "  0     50  1000\n",
       "  1     40   950\n",
       "  2     30   500>),\n",
       " ('reset_index',\n",
       "  <bound method DataFrame.reset_index of    price  sqft\n",
       "  0     50  1000\n",
       "  1     40   950\n",
       "  2     30   500>),\n",
       " ('rfloordiv',\n",
       "  <bound method _arith_method_FRAME.<locals>.f of    price  sqft\n",
       "  0     50  1000\n",
       "  1     40   950\n",
       "  2     30   500>),\n",
       " ('rmod',\n",
       "  <bound method _arith_method_FRAME.<locals>.f of    price  sqft\n",
       "  0     50  1000\n",
       "  1     40   950\n",
       "  2     30   500>),\n",
       " ('rmul',\n",
       "  <bound method _arith_method_FRAME.<locals>.f of    price  sqft\n",
       "  0     50  1000\n",
       "  1     40   950\n",
       "  2     30   500>),\n",
       " ('rolling',\n",
       "  <bound method NDFrame._add_series_or_dataframe_operations.<locals>.rolling of    price  sqft\n",
       "  0     50  1000\n",
       "  1     40   950\n",
       "  2     30   500>),\n",
       " ('round',\n",
       "  <bound method DataFrame.round of    price  sqft\n",
       "  0     50  1000\n",
       "  1     40   950\n",
       "  2     30   500>),\n",
       " ('rpow',\n",
       "  <bound method _arith_method_FRAME.<locals>.f of    price  sqft\n",
       "  0     50  1000\n",
       "  1     40   950\n",
       "  2     30   500>),\n",
       " ('rsub',\n",
       "  <bound method _arith_method_FRAME.<locals>.f of    price  sqft\n",
       "  0     50  1000\n",
       "  1     40   950\n",
       "  2     30   500>),\n",
       " ('rtruediv',\n",
       "  <bound method _arith_method_FRAME.<locals>.f of    price  sqft\n",
       "  0     50  1000\n",
       "  1     40   950\n",
       "  2     30   500>),\n",
       " ('sample',\n",
       "  <bound method NDFrame.sample of    price  sqft\n",
       "  0     50  1000\n",
       "  1     40   950\n",
       "  2     30   500>),\n",
       " ('select_dtypes',\n",
       "  <bound method DataFrame.select_dtypes of    price  sqft\n",
       "  0     50  1000\n",
       "  1     40   950\n",
       "  2     30   500>),\n",
       " ('sem',\n",
       "  <bound method DataFrame.sem of    price  sqft\n",
       "  0     50  1000\n",
       "  1     40   950\n",
       "  2     30   500>),\n",
       " ('set_axis',\n",
       "  <bound method DataFrame.set_axis of    price  sqft\n",
       "  0     50  1000\n",
       "  1     40   950\n",
       "  2     30   500>),\n",
       " ('set_index',\n",
       "  <bound method DataFrame.set_index of    price  sqft\n",
       "  0     50  1000\n",
       "  1     40   950\n",
       "  2     30   500>),\n",
       " ('shape', (3, 2)),\n",
       " ('shift',\n",
       "  <bound method DataFrame.shift of    price  sqft\n",
       "  0     50  1000\n",
       "  1     40   950\n",
       "  2     30   500>),\n",
       " ('size', 6),\n",
       " ('skew',\n",
       "  <bound method DataFrame.skew of    price  sqft\n",
       "  0     50  1000\n",
       "  1     40   950\n",
       "  2     30   500>),\n",
       " ('slice_shift',\n",
       "  <bound method NDFrame.slice_shift of    price  sqft\n",
       "  0     50  1000\n",
       "  1     40   950\n",
       "  2     30   500>),\n",
       " ('sort_index',\n",
       "  <bound method DataFrame.sort_index of    price  sqft\n",
       "  0     50  1000\n",
       "  1     40   950\n",
       "  2     30   500>),\n",
       " ('sort_values',\n",
       "  <bound method DataFrame.sort_values of    price  sqft\n",
       "  0     50  1000\n",
       "  1     40   950\n",
       "  2     30   500>),\n",
       " ('sqft',\n",
       "  0    1000\n",
       "  1     950\n",
       "  2     500\n",
       "  Name: sqft, dtype: int64),\n",
       " ('squeeze',\n",
       "  <bound method NDFrame.squeeze of    price  sqft\n",
       "  0     50  1000\n",
       "  1     40   950\n",
       "  2     30   500>),\n",
       " ('stack',\n",
       "  <bound method DataFrame.stack of    price  sqft\n",
       "  0     50  1000\n",
       "  1     40   950\n",
       "  2     30   500>),\n",
       " ('std',\n",
       "  <bound method DataFrame.std of    price  sqft\n",
       "  0     50  1000\n",
       "  1     40   950\n",
       "  2     30   500>),\n",
       " ('style', <pandas.io.formats.style.Styler at 0x7f88c2471e20>),\n",
       " ('sub',\n",
       "  <bound method _arith_method_FRAME.<locals>.f of    price  sqft\n",
       "  0     50  1000\n",
       "  1     40   950\n",
       "  2     30   500>),\n",
       " ('subtract',\n",
       "  <bound method _arith_method_FRAME.<locals>.f of    price  sqft\n",
       "  0     50  1000\n",
       "  1     40   950\n",
       "  2     30   500>),\n",
       " ('sum',\n",
       "  <bound method DataFrame.sum of    price  sqft\n",
       "  0     50  1000\n",
       "  1     40   950\n",
       "  2     30   500>),\n",
       " ('swapaxes',\n",
       "  <bound method NDFrame.swapaxes of    price  sqft\n",
       "  0     50  1000\n",
       "  1     40   950\n",
       "  2     30   500>),\n",
       " ('swaplevel',\n",
       "  <bound method DataFrame.swaplevel of    price  sqft\n",
       "  0     50  1000\n",
       "  1     40   950\n",
       "  2     30   500>),\n",
       " ('tail',\n",
       "  <bound method NDFrame.tail of    price  sqft\n",
       "  0     50  1000\n",
       "  1     40   950\n",
       "  2     30   500>),\n",
       " ('take',\n",
       "  <bound method NDFrame.take of    price  sqft\n",
       "  0     50  1000\n",
       "  1     40   950\n",
       "  2     30   500>),\n",
       " ('to_clipboard',\n",
       "  <bound method NDFrame.to_clipboard of    price  sqft\n",
       "  0     50  1000\n",
       "  1     40   950\n",
       "  2     30   500>),\n",
       " ('to_csv',\n",
       "  <bound method NDFrame.to_csv of    price  sqft\n",
       "  0     50  1000\n",
       "  1     40   950\n",
       "  2     30   500>),\n",
       " ('to_dict',\n",
       "  <bound method DataFrame.to_dict of    price  sqft\n",
       "  0     50  1000\n",
       "  1     40   950\n",
       "  2     30   500>),\n",
       " ('to_excel',\n",
       "  <bound method NDFrame.to_excel of    price  sqft\n",
       "  0     50  1000\n",
       "  1     40   950\n",
       "  2     30   500>),\n",
       " ('to_feather',\n",
       "  <bound method DataFrame.to_feather of    price  sqft\n",
       "  0     50  1000\n",
       "  1     40   950\n",
       "  2     30   500>),\n",
       " ('to_gbq',\n",
       "  <bound method DataFrame.to_gbq of    price  sqft\n",
       "  0     50  1000\n",
       "  1     40   950\n",
       "  2     30   500>),\n",
       " ('to_hdf',\n",
       "  <bound method NDFrame.to_hdf of    price  sqft\n",
       "  0     50  1000\n",
       "  1     40   950\n",
       "  2     30   500>),\n",
       " ('to_html',\n",
       "  <bound method DataFrame.to_html of    price  sqft\n",
       "  0     50  1000\n",
       "  1     40   950\n",
       "  2     30   500>),\n",
       " ('to_json',\n",
       "  <bound method NDFrame.to_json of    price  sqft\n",
       "  0     50  1000\n",
       "  1     40   950\n",
       "  2     30   500>),\n",
       " ('to_latex',\n",
       "  <bound method NDFrame.to_latex of    price  sqft\n",
       "  0     50  1000\n",
       "  1     40   950\n",
       "  2     30   500>),\n",
       " ('to_markdown',\n",
       "  <bound method DataFrame.to_markdown of    price  sqft\n",
       "  0     50  1000\n",
       "  1     40   950\n",
       "  2     30   500>),\n",
       " ('to_numpy',\n",
       "  <bound method DataFrame.to_numpy of    price  sqft\n",
       "  0     50  1000\n",
       "  1     40   950\n",
       "  2     30   500>),\n",
       " ('to_parquet',\n",
       "  <bound method DataFrame.to_parquet of    price  sqft\n",
       "  0     50  1000\n",
       "  1     40   950\n",
       "  2     30   500>),\n",
       " ('to_period',\n",
       "  <bound method DataFrame.to_period of    price  sqft\n",
       "  0     50  1000\n",
       "  1     40   950\n",
       "  2     30   500>),\n",
       " ('to_pickle',\n",
       "  <bound method NDFrame.to_pickle of    price  sqft\n",
       "  0     50  1000\n",
       "  1     40   950\n",
       "  2     30   500>),\n",
       " ('to_records',\n",
       "  <bound method DataFrame.to_records of    price  sqft\n",
       "  0     50  1000\n",
       "  1     40   950\n",
       "  2     30   500>),\n",
       " ('to_sql',\n",
       "  <bound method NDFrame.to_sql of    price  sqft\n",
       "  0     50  1000\n",
       "  1     40   950\n",
       "  2     30   500>),\n",
       " ('to_stata',\n",
       "  <bound method DataFrame.to_stata of    price  sqft\n",
       "  0     50  1000\n",
       "  1     40   950\n",
       "  2     30   500>),\n",
       " ('to_string',\n",
       "  <bound method DataFrame.to_string of    price  sqft\n",
       "  0     50  1000\n",
       "  1     40   950\n",
       "  2     30   500>),\n",
       " ('to_timestamp',\n",
       "  <bound method DataFrame.to_timestamp of    price  sqft\n",
       "  0     50  1000\n",
       "  1     40   950\n",
       "  2     30   500>),\n",
       " ('to_xarray',\n",
       "  <bound method NDFrame.to_xarray of    price  sqft\n",
       "  0     50  1000\n",
       "  1     40   950\n",
       "  2     30   500>),\n",
       " ('transform',\n",
       "  <bound method DataFrame.transform of    price  sqft\n",
       "  0     50  1000\n",
       "  1     40   950\n",
       "  2     30   500>),\n",
       " ('transpose',\n",
       "  <bound method DataFrame.transpose of    price  sqft\n",
       "  0     50  1000\n",
       "  1     40   950\n",
       "  2     30   500>),\n",
       " ('truediv',\n",
       "  <bound method _arith_method_FRAME.<locals>.f of    price  sqft\n",
       "  0     50  1000\n",
       "  1     40   950\n",
       "  2     30   500>),\n",
       " ('truncate',\n",
       "  <bound method NDFrame.truncate of    price  sqft\n",
       "  0     50  1000\n",
       "  1     40   950\n",
       "  2     30   500>),\n",
       " ('tz_convert',\n",
       "  <bound method NDFrame.tz_convert of    price  sqft\n",
       "  0     50  1000\n",
       "  1     40   950\n",
       "  2     30   500>),\n",
       " ('tz_localize',\n",
       "  <bound method NDFrame.tz_localize of    price  sqft\n",
       "  0     50  1000\n",
       "  1     40   950\n",
       "  2     30   500>),\n",
       " ('unstack',\n",
       "  <bound method DataFrame.unstack of    price  sqft\n",
       "  0     50  1000\n",
       "  1     40   950\n",
       "  2     30   500>),\n",
       " ('update',\n",
       "  <bound method DataFrame.update of    price  sqft\n",
       "  0     50  1000\n",
       "  1     40   950\n",
       "  2     30   500>),\n",
       " ('value_counts',\n",
       "  <bound method DataFrame.value_counts of    price  sqft\n",
       "  0     50  1000\n",
       "  1     40   950\n",
       "  2     30   500>),\n",
       " ('values',\n",
       "  array([[  50, 1000],\n",
       "         [  40,  950],\n",
       "         [  30,  500]])),\n",
       " ('var',\n",
       "  <bound method DataFrame.var of    price  sqft\n",
       "  0     50  1000\n",
       "  1     40   950\n",
       "  2     30   500>),\n",
       " ('where',\n",
       "  <bound method NDFrame.where of    price  sqft\n",
       "  0     50  1000\n",
       "  1     40   950\n",
       "  2     30   500>),\n",
       " ('xs',\n",
       "  <bound method NDFrame.xs of    price  sqft\n",
       "  0     50  1000\n",
       "  1     40   950\n",
       "  2     30   500>)]"
      ]
     },
     "execution_count": 33,
     "metadata": {},
     "output_type": "execute_result"
    }
   ],
   "source": [
    "inspect.getmembers(df)"
   ]
  },
  {
   "cell_type": "code",
   "execution_count": 34,
   "metadata": {
    "ExecuteTime": {
     "end_time": "2022-04-04T16:10:20.435872Z",
     "start_time": "2022-04-04T16:10:20.431730Z"
    }
   },
   "outputs": [
    {
     "data": {
      "text/plain": [
       "(3, 2)"
      ]
     },
     "execution_count": 34,
     "metadata": {},
     "output_type": "execute_result"
    }
   ],
   "source": [
    "df.shape"
   ]
  },
  {
   "cell_type": "markdown",
   "metadata": {},
   "source": [
    "What are some other DataFrame attributes we know?:"
   ]
  },
  {
   "cell_type": "code",
   "execution_count": 35,
   "metadata": {
    "ExecuteTime": {
     "end_time": "2022-04-04T16:10:40.188642Z",
     "start_time": "2022-04-04T16:10:40.182671Z"
    }
   },
   "outputs": [
    {
     "data": {
      "text/plain": [
       "price    int64\n",
       "sqft     int64\n",
       "dtype: object"
      ]
     },
     "execution_count": 35,
     "metadata": {},
     "output_type": "execute_result"
    }
   ],
   "source": [
    "# Other df attributes\n",
    "\n",
    "df.dtypes"
   ]
  },
  {
   "cell_type": "code",
   "execution_count": 36,
   "metadata": {
    "ExecuteTime": {
     "end_time": "2022-04-04T16:10:48.287934Z",
     "start_time": "2022-04-04T16:10:48.283578Z"
    }
   },
   "outputs": [
    {
     "data": {
      "text/plain": [
       "RangeIndex(start=0, stop=3, step=1)"
      ]
     },
     "execution_count": 36,
     "metadata": {},
     "output_type": "execute_result"
    }
   ],
   "source": [
    "df.index"
   ]
  },
  {
   "cell_type": "markdown",
   "metadata": {},
   "source": [
    "## Building Up Our Class with Properties"
   ]
  },
  {
   "cell_type": "markdown",
   "metadata": {},
   "source": [
    "We can define properties after instantiating our object. Think of it as customization."
   ]
  },
  {
   "cell_type": "code",
   "execution_count": 37,
   "metadata": {
    "ExecuteTime": {
     "end_time": "2022-04-04T16:13:07.723862Z",
     "start_time": "2022-04-04T16:13:07.721351Z"
    }
   },
   "outputs": [],
   "source": [
    "my_robot = Robot()\n",
    "\n",
    "my_robot.name = 'Wall-E'\n",
    "my_robot.height = 100  # cm"
   ]
  },
  {
   "cell_type": "code",
   "execution_count": 38,
   "metadata": {
    "ExecuteTime": {
     "end_time": "2022-04-04T16:13:31.462101Z",
     "start_time": "2022-04-04T16:13:31.457834Z"
    }
   },
   "outputs": [
    {
     "name": "stdout",
     "output_type": "stream",
     "text": [
      "Wall-E 100\n"
     ]
    }
   ],
   "source": [
    "# It lives!!!!!\n",
    "print(my_robot.name, my_robot.height)"
   ]
  },
  {
   "cell_type": "markdown",
   "metadata": {},
   "source": [
    "But we can't call up properties it doesn't have:"
   ]
  },
  {
   "cell_type": "code",
   "execution_count": 39,
   "metadata": {
    "ExecuteTime": {
     "end_time": "2022-04-04T16:14:14.567690Z",
     "start_time": "2022-04-04T16:14:14.564223Z"
    }
   },
   "outputs": [
    {
     "name": "stdout",
     "output_type": "stream",
     "text": [
      "'Robot' object has no attribute 'purpose'\n"
     ]
    }
   ],
   "source": [
    "# Uh oh, we didn't give it this property\n",
    "try:\n",
    "    print(my_robot.purpose)\n",
    "except Exception as err:\n",
    "    print(err)"
   ]
  },
  {
   "cell_type": "markdown",
   "metadata": {},
   "source": [
    "Wouldn't it be nice to have some built-in properties when we instantiated? We can!"
   ]
  },
  {
   "cell_type": "code",
   "execution_count": 40,
   "metadata": {
    "ExecuteTime": {
     "end_time": "2022-04-04T16:15:08.572448Z",
     "start_time": "2022-04-04T16:15:08.568715Z"
    }
   },
   "outputs": [],
   "source": [
    "class Robot:\n",
    "    '''Robot class''' # docstring is similar to functions; documents our class\n",
    "    purpose = 'To love humans'\n",
    "    name = None"
   ]
  },
  {
   "cell_type": "code",
   "execution_count": 41,
   "metadata": {
    "ExecuteTime": {
     "end_time": "2022-04-04T16:15:23.828953Z",
     "start_time": "2022-04-04T16:15:23.825246Z"
    }
   },
   "outputs": [],
   "source": [
    "# Give them life!\n",
    "my_robot = Robot()\n",
    "my_robot.name = 'Wall-E 2.0'\n",
    "my_robot.height = 100  # cm\n",
    "\n",
    "your_robot = Robot()\n",
    "your_robot.height = 200 # cm"
   ]
  },
  {
   "cell_type": "code",
   "execution_count": 57,
   "metadata": {
    "ExecuteTime": {
     "end_time": "2022-04-04T16:25:47.258994Z",
     "start_time": "2022-04-04T16:25:47.255041Z"
    }
   },
   "outputs": [
    {
     "data": {
      "text/plain": [
       "100"
      ]
     },
     "execution_count": 57,
     "metadata": {},
     "output_type": "execute_result"
    }
   ],
   "source": [
    "my_robot.height"
   ]
  },
  {
   "cell_type": "code",
   "execution_count": 58,
   "metadata": {
    "ExecuteTime": {
     "end_time": "2022-04-04T16:25:55.057847Z",
     "start_time": "2022-04-04T16:25:55.054929Z"
    }
   },
   "outputs": [],
   "source": [
    "david_robot = Robot()"
   ]
  },
  {
   "cell_type": "code",
   "execution_count": 60,
   "metadata": {
    "ExecuteTime": {
     "end_time": "2022-04-04T16:26:04.529187Z",
     "start_time": "2022-04-04T16:26:04.518151Z"
    }
   },
   "outputs": [
    {
     "ename": "AttributeError",
     "evalue": "'Robot' object has no attribute 'height'",
     "output_type": "error",
     "traceback": [
      "\u001b[0;31m---------------------------------------------------------------------------\u001b[0m",
      "\u001b[0;31mAttributeError\u001b[0m                            Traceback (most recent call last)",
      "\u001b[0;32m<ipython-input-60-845e912137a0>\u001b[0m in \u001b[0;36m<module>\u001b[0;34m\u001b[0m\n\u001b[0;32m----> 1\u001b[0;31m \u001b[0mdavid_robot\u001b[0m\u001b[0;34m.\u001b[0m\u001b[0mheight\u001b[0m\u001b[0;34m\u001b[0m\u001b[0;34m\u001b[0m\u001b[0m\n\u001b[0m",
      "\u001b[0;31mAttributeError\u001b[0m: 'Robot' object has no attribute 'height'"
     ]
    }
   ],
   "source": [
    "david_robot.height"
   ]
  },
  {
   "cell_type": "code",
   "execution_count": 42,
   "metadata": {
    "ExecuteTime": {
     "end_time": "2022-04-04T16:15:34.922458Z",
     "start_time": "2022-04-04T16:15:34.917214Z"
    }
   },
   "outputs": [
    {
     "name": "stdout",
     "output_type": "stream",
     "text": [
      "What is your name?\n",
      "Wall-E 2.0\n",
      "\n",
      "What is your purpose?\n",
      "To love humans\n",
      "\n",
      "What is my height\n",
      "100\n"
     ]
    }
   ],
   "source": [
    "print('What is your name?')\n",
    "print(my_robot.name)\n",
    "print()\n",
    "print('What is your purpose?')\n",
    "print(my_robot.purpose)\n",
    "print()\n",
    "print('What is my height')\n",
    "print(my_robot.height)"
   ]
  },
  {
   "cell_type": "markdown",
   "metadata": {},
   "source": [
    "### 🧠 Knowledge Check"
   ]
  },
  {
   "cell_type": "markdown",
   "metadata": {},
   "source": [
    "What should the code below print?"
   ]
  },
  {
   "cell_type": "code",
   "execution_count": 43,
   "metadata": {
    "ExecuteTime": {
     "end_time": "2022-04-04T16:19:28.841458Z",
     "start_time": "2022-04-04T16:19:28.837665Z"
    }
   },
   "outputs": [
    {
     "name": "stdout",
     "output_type": "stream",
     "text": [
      "None\n"
     ]
    }
   ],
   "source": [
    "print(your_robot.name)"
   ]
  },
  {
   "cell_type": "code",
   "execution_count": 44,
   "metadata": {
    "ExecuteTime": {
     "end_time": "2022-04-04T16:19:38.021938Z",
     "start_time": "2022-04-04T16:19:38.018986Z"
    }
   },
   "outputs": [
    {
     "name": "stdout",
     "output_type": "stream",
     "text": [
      "To love humans\n"
     ]
    }
   ],
   "source": [
    "print(your_robot.purpose)"
   ]
  },
  {
   "cell_type": "code",
   "execution_count": 45,
   "metadata": {
    "ExecuteTime": {
     "end_time": "2022-04-04T16:19:46.953821Z",
     "start_time": "2022-04-04T16:19:46.950845Z"
    }
   },
   "outputs": [
    {
     "name": "stdout",
     "output_type": "stream",
     "text": [
      "200\n"
     ]
    }
   ],
   "source": [
    "print(your_robot.height)"
   ]
  },
  {
   "cell_type": "markdown",
   "metadata": {},
   "source": [
    "### Robot Override!!!"
   ]
  },
  {
   "cell_type": "code",
   "execution_count": 49,
   "metadata": {
    "ExecuteTime": {
     "end_time": "2022-04-04T16:21:20.856423Z",
     "start_time": "2022-04-04T16:21:20.852872Z"
    }
   },
   "outputs": [],
   "source": [
    "lr1 = LinearRegression()"
   ]
  },
  {
   "cell_type": "code",
   "execution_count": 50,
   "metadata": {
    "ExecuteTime": {
     "end_time": "2022-04-04T16:21:25.757288Z",
     "start_time": "2022-04-04T16:21:25.754376Z"
    }
   },
   "outputs": [],
   "source": [
    "lr2 = LinearRegression()"
   ]
  },
  {
   "cell_type": "code",
   "execution_count": 51,
   "metadata": {
    "ExecuteTime": {
     "end_time": "2022-04-04T16:21:43.294051Z",
     "start_time": "2022-04-04T16:21:43.290952Z"
    }
   },
   "outputs": [],
   "source": [
    "lr3 = LinearRegression()"
   ]
  },
  {
   "cell_type": "code",
   "execution_count": 52,
   "metadata": {
    "ExecuteTime": {
     "end_time": "2022-04-04T16:21:58.122030Z",
     "start_time": "2022-04-04T16:21:58.117614Z"
    }
   },
   "outputs": [
    {
     "data": {
      "text/plain": [
       "sklearn.linear_model._base.LinearRegression"
      ]
     },
     "execution_count": 52,
     "metadata": {},
     "output_type": "execute_result"
    }
   ],
   "source": [
    "type(lr)"
   ]
  },
  {
   "cell_type": "code",
   "execution_count": 53,
   "metadata": {
    "ExecuteTime": {
     "end_time": "2022-04-04T16:22:04.918858Z",
     "start_time": "2022-04-04T16:22:04.915296Z"
    }
   },
   "outputs": [
    {
     "data": {
      "text/plain": [
       "sklearn.linear_model._base.LinearRegression"
      ]
     },
     "execution_count": 53,
     "metadata": {},
     "output_type": "execute_result"
    }
   ],
   "source": [
    "type(lr2)"
   ]
  },
  {
   "cell_type": "code",
   "execution_count": 55,
   "metadata": {
    "ExecuteTime": {
     "end_time": "2022-04-04T16:24:27.796757Z",
     "start_time": "2022-04-04T16:24:27.792235Z"
    }
   },
   "outputs": [
    {
     "data": {
      "text/plain": [
       "(3, 2)"
      ]
     },
     "execution_count": 55,
     "metadata": {},
     "output_type": "execute_result"
    }
   ],
   "source": [
    "df.shape"
   ]
  },
  {
   "cell_type": "code",
   "execution_count": 56,
   "metadata": {
    "ExecuteTime": {
     "end_time": "2022-04-04T16:24:30.074595Z",
     "start_time": "2022-04-04T16:24:30.038100Z"
    }
   },
   "outputs": [
    {
     "ename": "NameError",
     "evalue": "name 'shape' is not defined",
     "output_type": "error",
     "traceback": [
      "\u001b[0;31m---------------------------------------------------------------------------\u001b[0m",
      "\u001b[0;31mNameError\u001b[0m                                 Traceback (most recent call last)",
      "\u001b[0;32m<ipython-input-56-8ae9a22b4037>\u001b[0m in \u001b[0;36m<module>\u001b[0;34m\u001b[0m\n\u001b[0;32m----> 1\u001b[0;31m \u001b[0mshape\u001b[0m\u001b[0;34m\u001b[0m\u001b[0;34m\u001b[0m\u001b[0m\n\u001b[0m",
      "\u001b[0;31mNameError\u001b[0m: name 'shape' is not defined"
     ]
    }
   ],
   "source": [
    "shape"
   ]
  },
  {
   "cell_type": "code",
   "execution_count": 46,
   "metadata": {
    "ExecuteTime": {
     "end_time": "2022-04-04T16:20:08.986005Z",
     "start_time": "2022-04-04T16:20:08.983236Z"
    }
   },
   "outputs": [],
   "source": [
    "# Rogue robot!!!\n",
    "evil_robot = Robot()\n",
    "evil_robot.name = 'Bender'\n",
    "evil_robot.purpose = 'TO KILL ALL HUMANS!!!'"
   ]
  },
  {
   "cell_type": "code",
   "execution_count": 47,
   "metadata": {
    "ExecuteTime": {
     "end_time": "2022-04-04T16:20:10.445580Z",
     "start_time": "2022-04-04T16:20:10.441581Z"
    }
   },
   "outputs": [
    {
     "name": "stdout",
     "output_type": "stream",
     "text": [
      "What is your name and your purpose?\n",
      "\n",
      "My name is Bender and my purpose is TO KILL ALL HUMANS!!!\n"
     ]
    }
   ],
   "source": [
    "print('What is your name and your purpose?\\n')\n",
    "print(f'My name is {evil_robot.name} and my purpose is {evil_robot.purpose}')"
   ]
  },
  {
   "cell_type": "code",
   "execution_count": 62,
   "metadata": {
    "ExecuteTime": {
     "end_time": "2022-04-04T16:27:55.361118Z",
     "start_time": "2022-04-04T16:27:55.351060Z"
    }
   },
   "outputs": [
    {
     "ename": "AttributeError",
     "evalue": "'Robot' object has no attribute 'height'",
     "output_type": "error",
     "traceback": [
      "\u001b[0;31m---------------------------------------------------------------------------\u001b[0m",
      "\u001b[0;31mAttributeError\u001b[0m                            Traceback (most recent call last)",
      "\u001b[0;32m<ipython-input-62-5c6b5a61f5f6>\u001b[0m in \u001b[0;36m<module>\u001b[0;34m\u001b[0m\n\u001b[0;32m----> 1\u001b[0;31m \u001b[0mevil_robot\u001b[0m\u001b[0;34m.\u001b[0m\u001b[0mheight\u001b[0m\u001b[0;34m\u001b[0m\u001b[0;34m\u001b[0m\u001b[0m\n\u001b[0m",
      "\u001b[0;31mAttributeError\u001b[0m: 'Robot' object has no attribute 'height'"
     ]
    }
   ],
   "source": [
    "evil_robot.height"
   ]
  },
  {
   "cell_type": "code",
   "execution_count": 61,
   "metadata": {
    "ExecuteTime": {
     "end_time": "2022-04-04T16:27:18.698003Z",
     "start_time": "2022-04-04T16:27:18.694668Z"
    }
   },
   "outputs": [
    {
     "data": {
      "text/plain": [
       "100"
      ]
     },
     "execution_count": 61,
     "metadata": {},
     "output_type": "execute_result"
    }
   ],
   "source": [
    "my_robot.height"
   ]
  },
  {
   "cell_type": "code",
   "execution_count": 54,
   "metadata": {
    "ExecuteTime": {
     "end_time": "2022-04-04T16:23:48.564270Z",
     "start_time": "2022-04-04T16:23:48.561767Z"
    }
   },
   "outputs": [
    {
     "name": "stdout",
     "output_type": "stream",
     "text": [
      "What is your name and your purpose?\n",
      "\n",
      "My name is Wall-E 2.0 and my purpose is To love humans\n"
     ]
    }
   ],
   "source": [
    "print('What is your name and your purpose?\\n')\n",
    "print(f'My name is {my_robot.name} and my purpose is {my_robot.purpose}')\n"
   ]
  },
  {
   "cell_type": "code",
   "execution_count": null,
   "metadata": {},
   "outputs": [],
   "source": [
    "my_robot."
   ]
  },
  {
   "cell_type": "markdown",
   "metadata": {},
   "source": [
    "# Object Methods"
   ]
  },
  {
   "cell_type": "markdown",
   "metadata": {},
   "source": [
    "> We can also write functions that are associated with each class. \\\n",
    "> As said above, a function associated with a class is called a method."
   ]
  },
  {
   "cell_type": "markdown",
   "metadata": {},
   "source": [
    "A **method** is a function attached to an object:"
   ]
  },
  {
   "cell_type": "markdown",
   "metadata": {},
   "source": [
    "## Examples of Methods We've Seen"
   ]
  },
  {
   "cell_type": "code",
   "execution_count": 63,
   "metadata": {
    "ExecuteTime": {
     "end_time": "2022-04-04T16:32:37.997331Z",
     "start_time": "2022-04-04T16:32:37.989300Z"
    }
   },
   "outputs": [
    {
     "name": "stdout",
     "output_type": "stream",
     "text": [
      "<class 'pandas.core.frame.DataFrame'>\n",
      "RangeIndex: 3 entries, 0 to 2\n",
      "Data columns (total 2 columns):\n",
      " #   Column  Non-Null Count  Dtype\n",
      "---  ------  --------------  -----\n",
      " 0   price   3 non-null      int64\n",
      " 1   sqft    3 non-null      int64\n",
      "dtypes: int64(2)\n",
      "memory usage: 176.0 bytes\n"
     ]
    }
   ],
   "source": [
    "df.info()"
   ]
  },
  {
   "cell_type": "code",
   "execution_count": 64,
   "metadata": {
    "ExecuteTime": {
     "end_time": "2022-04-04T16:32:42.325217Z",
     "start_time": "2022-04-04T16:32:42.316142Z"
    }
   },
   "outputs": [
    {
     "name": "stdout",
     "output_type": "stream",
     "text": [
      "<class 'pandas.core.frame.DataFrame'>\n",
      "RangeIndex: 3 entries, 0 to 2\n",
      "Data columns (total 2 columns):\n",
      " #   Column  Non-Null Count  Dtype\n",
      "---  ------  --------------  -----\n",
      " 0   price   3 non-null      int64\n",
      " 1   sqft    3 non-null      int64\n",
      "dtypes: int64(2)\n",
      "memory usage: 176.0 bytes\n"
     ]
    },
    {
     "data": {
      "text/plain": [
       "NoneType"
      ]
     },
     "execution_count": 64,
     "metadata": {},
     "output_type": "execute_result"
    }
   ],
   "source": [
    "type(df.info())"
   ]
  },
  {
   "cell_type": "code",
   "execution_count": 65,
   "metadata": {
    "ExecuteTime": {
     "end_time": "2022-04-04T16:33:29.644041Z",
     "start_time": "2022-04-04T16:33:29.633361Z"
    }
   },
   "outputs": [
    {
     "data": {
      "text/html": [
       "<div>\n",
       "<style scoped>\n",
       "    .dataframe tbody tr th:only-of-type {\n",
       "        vertical-align: middle;\n",
       "    }\n",
       "\n",
       "    .dataframe tbody tr th {\n",
       "        vertical-align: top;\n",
       "    }\n",
       "\n",
       "    .dataframe thead th {\n",
       "        text-align: right;\n",
       "    }\n",
       "</style>\n",
       "<table border=\"1\" class=\"dataframe\">\n",
       "  <thead>\n",
       "    <tr style=\"text-align: right;\">\n",
       "      <th></th>\n",
       "      <th>price</th>\n",
       "      <th>sqft</th>\n",
       "    </tr>\n",
       "  </thead>\n",
       "  <tbody>\n",
       "    <tr>\n",
       "      <th>0</th>\n",
       "      <td>False</td>\n",
       "      <td>False</td>\n",
       "    </tr>\n",
       "    <tr>\n",
       "      <th>1</th>\n",
       "      <td>False</td>\n",
       "      <td>False</td>\n",
       "    </tr>\n",
       "    <tr>\n",
       "      <th>2</th>\n",
       "      <td>False</td>\n",
       "      <td>False</td>\n",
       "    </tr>\n",
       "  </tbody>\n",
       "</table>\n",
       "</div>"
      ],
      "text/plain": [
       "   price   sqft\n",
       "0  False  False\n",
       "1  False  False\n",
       "2  False  False"
      ]
     },
     "execution_count": 65,
     "metadata": {},
     "output_type": "execute_result"
    }
   ],
   "source": [
    "# isna() is a method that comes along with the DataFrame object\n",
    "\n",
    "df.isna()"
   ]
  },
  {
   "cell_type": "markdown",
   "metadata": {},
   "source": [
    "What other DataFrame methods do we know?"
   ]
  },
  {
   "cell_type": "code",
   "execution_count": null,
   "metadata": {},
   "outputs": [],
   "source": [
    "# Other df methods\n",
    "\n"
   ]
  },
  {
   "cell_type": "markdown",
   "metadata": {},
   "source": [
    "## Building Up Our Class with Methods"
   ]
  },
  {
   "cell_type": "markdown",
   "metadata": {},
   "source": [
    "We can also define our own methods for our class. "
   ]
  },
  {
   "cell_type": "markdown",
   "metadata": {},
   "source": [
    "This requires us to use `self` in our method.\n",
    "\n",
    "Every method should include `self` as its first parameter, **which refers to the individual object, i.e. to the instance of the class**."
   ]
  },
  {
   "cell_type": "code",
   "execution_count": 79,
   "metadata": {
    "ExecuteTime": {
     "end_time": "2022-04-04T16:47:56.933802Z",
     "start_time": "2022-04-04T16:47:56.931363Z"
    }
   },
   "outputs": [],
   "source": [
    "name = 'David'"
   ]
  },
  {
   "cell_type": "code",
   "execution_count": null,
   "metadata": {},
   "outputs": [],
   "source": []
  },
  {
   "cell_type": "code",
   "execution_count": 92,
   "metadata": {
    "ExecuteTime": {
     "end_time": "2022-04-04T16:52:47.558365Z",
     "start_time": "2022-04-04T16:52:47.553999Z"
    }
   },
   "outputs": [],
   "source": [
    "class Robot:\n",
    "    '''Robot class'''\n",
    "    ## These variables will belong to the Object\n",
    "    purpose = 'To love humans'\n",
    "    name = None\n",
    "    boogity =\"what?\"\n",
    "\n",
    "    ## These methods belong to the Object (its \"self\")\n",
    "    \n",
    "    # Method that takes some inputs and returns like a normal function\\\n",
    "    \n",
    "    def add_numbers(self, num0, num1):\n",
    "        total = num0 + num1\n",
    "        return total\n",
    "\n",
    "    # No parameters; uses attributes of the Object\n",
    "    def speak(self):\n",
    "        print(f'I am {self.name}!')\n",
    "        \n",
    "    # Modifies the Object\n",
    "    def change_name(self, new_name):\n",
    "        self.name =  new_name\n",
    "        \n",
    "    def print_global(self):\n",
    "        print(self.boogity)\n",
    "    "
   ]
  },
  {
   "cell_type": "code",
   "execution_count": 93,
   "metadata": {
    "ExecuteTime": {
     "end_time": "2022-04-04T16:52:48.036188Z",
     "start_time": "2022-04-04T16:52:48.033436Z"
    }
   },
   "outputs": [],
   "source": [
    "walle = Robot()"
   ]
  },
  {
   "cell_type": "code",
   "execution_count": 94,
   "metadata": {
    "ExecuteTime": {
     "end_time": "2022-04-04T16:52:48.495757Z",
     "start_time": "2022-04-04T16:52:48.492272Z"
    }
   },
   "outputs": [
    {
     "name": "stdout",
     "output_type": "stream",
     "text": [
      "what?\n"
     ]
    }
   ],
   "source": [
    "walle.print_global()"
   ]
  },
  {
   "cell_type": "code",
   "execution_count": 82,
   "metadata": {
    "ExecuteTime": {
     "end_time": "2022-04-04T16:47:59.921651Z",
     "start_time": "2022-04-04T16:47:59.917820Z"
    }
   },
   "outputs": [
    {
     "name": "stdout",
     "output_type": "stream",
     "text": [
      "\n",
      "Name: None\n",
      "Purpose: To love humans\n",
      "\n"
     ]
    }
   ],
   "source": [
    "print(f'''\n",
    "Name: {walle.name}\n",
    "Purpose: {walle.purpose}\n",
    "''')"
   ]
  },
  {
   "cell_type": "code",
   "execution_count": 78,
   "metadata": {
    "ExecuteTime": {
     "end_time": "2022-04-04T16:44:48.456811Z",
     "start_time": "2022-04-04T16:44:48.452092Z"
    }
   },
   "outputs": [
    {
     "name": "stdout",
     "output_type": "stream",
     "text": [
      "I am None!\n"
     ]
    }
   ],
   "source": [
    "walle.speak()"
   ]
  },
  {
   "cell_type": "markdown",
   "metadata": {},
   "source": [
    "Let's look at those fancy methods the object has"
   ]
  },
  {
   "cell_type": "code",
   "execution_count": 95,
   "metadata": {
    "ExecuteTime": {
     "end_time": "2022-04-04T16:53:24.014580Z",
     "start_time": "2022-04-04T16:53:24.009760Z"
    }
   },
   "outputs": [
    {
     "data": {
      "text/plain": [
       "101"
      ]
     },
     "execution_count": 95,
     "metadata": {},
     "output_type": "execute_result"
    }
   ],
   "source": [
    "walle.add_numbers(100, 1)"
   ]
  },
  {
   "cell_type": "code",
   "execution_count": 96,
   "metadata": {
    "ExecuteTime": {
     "end_time": "2022-04-04T16:53:25.156777Z",
     "start_time": "2022-04-04T16:53:25.153691Z"
    }
   },
   "outputs": [
    {
     "name": "stdout",
     "output_type": "stream",
     "text": [
      "I am None!\n"
     ]
    }
   ],
   "source": [
    "walle.speak()"
   ]
  },
  {
   "cell_type": "code",
   "execution_count": 97,
   "metadata": {
    "ExecuteTime": {
     "end_time": "2022-04-04T16:53:30.456341Z",
     "start_time": "2022-04-04T16:53:30.453702Z"
    }
   },
   "outputs": [],
   "source": [
    "# Let's give this robot an identity\n",
    "walle.change_name(\"Wall-e\")"
   ]
  },
  {
   "cell_type": "code",
   "execution_count": 98,
   "metadata": {
    "ExecuteTime": {
     "end_time": "2022-04-04T16:53:31.787788Z",
     "start_time": "2022-04-04T16:53:31.784142Z"
    }
   },
   "outputs": [
    {
     "name": "stdout",
     "output_type": "stream",
     "text": [
      "I am Wall-e!\n"
     ]
    }
   ],
   "source": [
    "# Now what does it say?\n",
    "walle.speak()"
   ]
  },
  {
   "cell_type": "markdown",
   "metadata": {},
   "source": [
    "# Magic Methods"
   ]
  },
  {
   "cell_type": "markdown",
   "metadata": {},
   "source": [
    "It is common for a class to have magic methods. These are identifiable by the \"dunder\" (i.e. **d**ouble **under**score) prefixes and suffixes, such as `__init__()`. These methods will get called **automatically** as a result of a different call, as we'll see below."
   ]
  },
  {
   "cell_type": "markdown",
   "metadata": {},
   "source": [
    "> For more on these \"magic methods\", see the documentation [here](https://docs.python.org/3/reference/datamodel.html#special-method-names) and this useful tutorial [here](https://www.geeksforgeeks.org/dunder-magic-methods-python/)."
   ]
  },
  {
   "cell_type": "markdown",
   "metadata": {},
   "source": [
    "## `__init__()`"
   ]
  },
  {
   "cell_type": "markdown",
   "metadata": {},
   "source": [
    "When we create an instance of a class, Python invokes the __init__ to initialize the object.  Let's add __init__ to our class."
   ]
  },
  {
   "cell_type": "markdown",
   "metadata": {},
   "source": [
    "## `__str__()`"
   ]
  },
  {
   "cell_type": "markdown",
   "metadata": {},
   "source": [
    " The `__str__()` magic method allows us to customize the string representation of the object. For example, when we use `print()` on the object, this magic method is called."
   ]
  },
  {
   "cell_type": "markdown",
   "metadata": {},
   "source": [
    "## `__repr__()`"
   ]
  },
  {
   "cell_type": "markdown",
   "metadata": {},
   "source": [
    "No, seriously, what's the difference.\n",
    "\n",
    "Well, that's a big ole [rabbit hole](https://stackoverflow.com/questions/1436703/what-is-the-difference-between-str-and-repr).\n",
    "\n",
    "[Here](https://www.geeksforgeeks.org/str-vs-repr-in-python/) is a bit more easy to read explanation.\n",
    "\n",
    "Basically, `__str__()` is meant to be readable (user). `__repr__()` is meant to be unambiguous (debugging)."
   ]
  },
  {
   "cell_type": "code",
   "execution_count": 168,
   "metadata": {
    "ExecuteTime": {
     "end_time": "2022-04-04T17:17:24.538551Z",
     "start_time": "2022-04-04T17:17:24.532140Z"
    }
   },
   "outputs": [],
   "source": [
    "class Robot:\n",
    "    '''New and improved robot!'''\n",
    "    \n",
    "    def __init__(self, first_name='Robot', last_name=''):\n",
    "        first_name = first_name.strip()\n",
    "        last_name = last_name.strip()\n",
    "        \n",
    "        self._first_name = first_name\n",
    "        self._last_name = last_name\n",
    " \n",
    "        self.name = ' '.join([first_name, last_name])\n",
    "    \n",
    "        self.purpose = 'Eat Humans'\n",
    "\n",
    "    ## These methods belong to the Object (its \"self\")\n",
    "                \n",
    "    # Method that takes some inputs and returns like a normal function\n",
    "    def add_numbers(self, num0, num1):\n",
    "        total = num0 + num1\n",
    "        return total\n",
    "\n",
    "    # No parameters; uses attributes of the Object\n",
    "    def speak(self):\n",
    "        print(f'I am {self.name}!')\n",
    "        \n",
    "    def print_first(self):\n",
    "        print(f'My first name is {self._first_name}')\n",
    "        \n",
    "    # Modifies the Object\n",
    "    def change_name(self, new_name):\n",
    "        self.name = new_name\n",
    "        \n",
    "        \n",
    "            # We can define how it's string representation!\n",
    "    def __str__(self):\n",
    "        obj_str_rep = f'Robot: \"{self.name}\"'\n",
    "        return obj_str_rep\n",
    "    \n",
    "    \n",
    "    def __repr__(self):\n",
    "        return str(self)"
   ]
  },
  {
   "cell_type": "code",
   "execution_count": null,
   "metadata": {},
   "outputs": [],
   "source": []
  },
  {
   "cell_type": "code",
   "execution_count": 169,
   "metadata": {
    "ExecuteTime": {
     "end_time": "2022-04-04T17:17:25.052170Z",
     "start_time": "2022-04-04T17:17:25.049273Z"
    }
   },
   "outputs": [],
   "source": [
    "walle = Robot('Wall-E')\n",
    "bender = Robot('bender', 'rodriguez')"
   ]
  },
  {
   "cell_type": "code",
   "execution_count": 170,
   "metadata": {
    "ExecuteTime": {
     "end_time": "2022-04-04T17:17:25.261339Z",
     "start_time": "2022-04-04T17:17:25.256427Z"
    }
   },
   "outputs": [
    {
     "data": {
      "text/plain": [
       "'Eat Humans'"
      ]
     },
     "execution_count": 170,
     "metadata": {},
     "output_type": "execute_result"
    }
   ],
   "source": [
    "walle.purpose"
   ]
  },
  {
   "cell_type": "code",
   "execution_count": 171,
   "metadata": {
    "ExecuteTime": {
     "end_time": "2022-04-04T17:17:25.485993Z",
     "start_time": "2022-04-04T17:17:25.481269Z"
    },
    "scrolled": true
   },
   "outputs": [
    {
     "name": "stdout",
     "output_type": "stream",
     "text": [
      "I am Wall-E !\n",
      "Wall-E \n"
     ]
    }
   ],
   "source": [
    "walle.speak()\n",
    "print(walle.name)"
   ]
  },
  {
   "cell_type": "code",
   "execution_count": 172,
   "metadata": {
    "ExecuteTime": {
     "end_time": "2022-04-04T17:17:25.699170Z",
     "start_time": "2022-04-04T17:17:25.695055Z"
    }
   },
   "outputs": [
    {
     "name": "stdout",
     "output_type": "stream",
     "text": [
      "I am bender rodriguez!\n",
      "bender rodriguez\n"
     ]
    }
   ],
   "source": [
    "bender.speak()\n",
    "print(bender.name)"
   ]
  },
  {
   "cell_type": "code",
   "execution_count": 173,
   "metadata": {
    "ExecuteTime": {
     "end_time": "2022-04-04T17:17:26.041914Z",
     "start_time": "2022-04-04T17:17:26.037825Z"
    }
   },
   "outputs": [
    {
     "name": "stdout",
     "output_type": "stream",
     "text": [
      "My first name is bender\n"
     ]
    }
   ],
   "source": [
    "bender.print_first()"
   ]
  },
  {
   "cell_type": "code",
   "execution_count": 174,
   "metadata": {
    "ExecuteTime": {
     "end_time": "2022-04-04T17:17:26.669413Z",
     "start_time": "2022-04-04T17:17:26.665083Z"
    }
   },
   "outputs": [
    {
     "data": {
      "text/plain": [
       "'Robot: \"bender rodriguez\"'"
      ]
     },
     "execution_count": 174,
     "metadata": {},
     "output_type": "execute_result"
    }
   ],
   "source": [
    "str(bender)"
   ]
  },
  {
   "cell_type": "code",
   "execution_count": 177,
   "metadata": {
    "ExecuteTime": {
     "end_time": "2022-04-04T17:17:59.706515Z",
     "start_time": "2022-04-04T17:17:59.702295Z"
    }
   },
   "outputs": [
    {
     "data": {
      "text/plain": [
       "'LinearRegression(fit_intercept=False)'"
      ]
     },
     "execution_count": 177,
     "metadata": {},
     "output_type": "execute_result"
    }
   ],
   "source": [
    "str(lr)"
   ]
  },
  {
   "cell_type": "markdown",
   "metadata": {},
   "source": [
    "> **ASIDE**\n",
    ">\n",
    "> You might notice that if you change the `_first_name` or `_last_name` property of the object, the `name` property won't update as might be desired.\n",
    "> We can adjust this functionality using _setters_ and _getters_ in Python. This is getting a bit deeper into OOP so we won't go into this now."
   ]
  },
  {
   "cell_type": "markdown",
   "metadata": {
    "heading_collapsed": true
   },
   "source": [
    "## Objectives Recap"
   ]
  },
  {
   "cell_type": "markdown",
   "metadata": {
    "hidden": true
   },
   "source": [
    "- Understand the concept of **classes** and **objects**\n",
    "- Explain the idea that _\"everything in Python is an object\"_\n",
    "- Use the concept of an object's **property**\n",
    "- Use the concept of an object's **method**"
   ]
  },
  {
   "cell_type": "markdown",
   "metadata": {},
   "source": [
    "# Level Up: Variables"
   ]
  },
  {
   "cell_type": "markdown",
   "metadata": {},
   "source": [
    "Python is dynamically typed, meaning you don't have to instruct it as to what type of object your variable is.  \n",
    "A variable is a pointer to where an object is stored in memory."
   ]
  },
  {
   "cell_type": "code",
   "execution_count": null,
   "metadata": {},
   "outputs": [],
   "source": [
    "x = 3\n",
    "id(x)"
   ]
  },
  {
   "cell_type": "code",
   "execution_count": null,
   "metadata": {},
   "outputs": [],
   "source": [
    "hex(id(x))"
   ]
  },
  {
   "cell_type": "code",
   "execution_count": null,
   "metadata": {},
   "outputs": [],
   "source": [
    "y = 3"
   ]
  },
  {
   "cell_type": "code",
   "execution_count": null,
   "metadata": {},
   "outputs": [],
   "source": [
    "hex(id(y))"
   ]
  },
  {
   "cell_type": "code",
   "execution_count": null,
   "metadata": {},
   "outputs": [],
   "source": [
    "x is y"
   ]
  },
  {
   "cell_type": "code",
   "execution_count": null,
   "metadata": {},
   "outputs": [],
   "source": [
    "# this can have implications \n",
    "\n",
    "x_list = [1,2,3,4]\n",
    "y_list = x_list"
   ]
  },
  {
   "cell_type": "code",
   "execution_count": null,
   "metadata": {},
   "outputs": [],
   "source": [
    "x_list.pop()\n",
    "print(x_list)\n",
    "print(y_list)"
   ]
  },
  {
   "cell_type": "code",
   "execution_count": null,
   "metadata": {},
   "outputs": [],
   "source": [
    "# when you use copy(), you create a shallow copy of the object\n",
    "\n",
    "z_list = y_list.copy()"
   ]
  },
  {
   "cell_type": "code",
   "execution_count": null,
   "metadata": {},
   "outputs": [],
   "source": [
    "id(z_list)"
   ]
  },
  {
   "cell_type": "code",
   "execution_count": null,
   "metadata": {},
   "outputs": [],
   "source": [
    "id(y_list)"
   ]
  },
  {
   "cell_type": "code",
   "execution_count": null,
   "metadata": {},
   "outputs": [],
   "source": [
    "y_list.pop()\n",
    "print(y_list)\n",
    "print(z_list)"
   ]
  },
  {
   "cell_type": "code",
   "execution_count": null,
   "metadata": {},
   "outputs": [],
   "source": [
    "a_list = [[1,2,3], [4,5,6]]\n",
    "b_list = a_list.copy()"
   ]
  },
  {
   "cell_type": "code",
   "execution_count": null,
   "metadata": {},
   "outputs": [],
   "source": [
    "a_list[0][0] ='z'\n",
    "a_list"
   ]
  },
  {
   "cell_type": "code",
   "execution_count": null,
   "metadata": {},
   "outputs": [],
   "source": [
    "b_list"
   ]
  },
  {
   "cell_type": "code",
   "execution_count": null,
   "metadata": {},
   "outputs": [],
   "source": [
    "import copy\n",
    "\n",
    "# deepcopy is needed for mutable objects\n",
    "\n",
    "a_list = [[1,2,3], [4,5,6]]\n",
    "b_list = copy.deepcopy(a_list)\n",
    "a_list[0][0] ='z'\n",
    "a_list\n",
    "print(hex(id(a_list)))"
   ]
  },
  {
   "cell_type": "code",
   "execution_count": null,
   "metadata": {},
   "outputs": [],
   "source": [
    "b_list\n",
    "print(hex(id(b_list)))"
   ]
  },
  {
   "cell_type": "markdown",
   "metadata": {},
   "source": [
    "For more details on this general feature of Python, see [here](https://jakevdp.github.io/WhirlwindTourOfPython/03-semantics-variables.html).\n",
    "For more on shallow and deep copying, go [here](https://docs.python.org/3/library/copy.html#copy.deepcopy)."
   ]
  },
  {
   "cell_type": "markdown",
   "metadata": {},
   "source": [
    "# Level Up: `*args` and `**kwargs`"
   ]
  },
  {
   "cell_type": "markdown",
   "metadata": {},
   "source": [
    "There are times when we want to have more flexibility in how we pass parameters to our functions/methods."
   ]
  },
  {
   "cell_type": "markdown",
   "metadata": {},
   "source": [
    "There's a whole lot we can discuss on this (checkout the [argument](https://docs.python.org/3/glossary.html#term-argument) & [parameter](https://docs.python.org/3/glossary.html#term-parameter) documentation for more details), but specifically we'll briefly discuss using `*args` and `**kwargs` in our functions/methods"
   ]
  },
  {
   "cell_type": "markdown",
   "metadata": {},
   "source": [
    "> **NOTE**\n",
    ">\n",
    "> `*args` and `**kwargs` can be used in methods (functions associated with classes & objects) or in plain functions"
   ]
  },
  {
   "cell_type": "markdown",
   "metadata": {},
   "source": [
    "## `*` Operator: `*args`"
   ]
  },
  {
   "cell_type": "markdown",
   "metadata": {},
   "source": [
    "The single-asterisk operator `*` can be used to unpack iterables."
   ]
  },
  {
   "cell_type": "markdown",
   "metadata": {},
   "source": [
    "Suppose I am building a function that will return the product of inputted numbers. I might start with this:"
   ]
  },
  {
   "cell_type": "code",
   "execution_count": null,
   "metadata": {},
   "outputs": [],
   "source": [
    "def product(factor1, factor2):\n",
    "    out = factor1 * factor2\n",
    "    return out"
   ]
  },
  {
   "cell_type": "markdown",
   "metadata": {},
   "source": [
    "But if I want the product of *three* numbers this function won't do:\n",
    "\n",
    "```python\n",
    "product(3, 5, 6)\n",
    "```"
   ]
  },
  {
   "cell_type": "markdown",
   "metadata": {},
   "source": [
    "A nice way around this problem is to use the `*` operator."
   ]
  },
  {
   "cell_type": "code",
   "execution_count": null,
   "metadata": {},
   "outputs": [],
   "source": [
    "def product_better(*factors):\n",
    "    out = 1\n",
    "    for f in factors:\n",
    "        out *= f\n",
    "    return out"
   ]
  },
  {
   "cell_type": "code",
   "execution_count": null,
   "metadata": {},
   "outputs": [],
   "source": [
    "product_better(2)"
   ]
  },
  {
   "cell_type": "code",
   "execution_count": null,
   "metadata": {},
   "outputs": [],
   "source": [
    "product_better(2, 4)"
   ]
  },
  {
   "cell_type": "code",
   "execution_count": null,
   "metadata": {},
   "outputs": [],
   "source": [
    "product_better(2, 4, 8, 16, 32)"
   ]
  },
  {
   "cell_type": "markdown",
   "metadata": {},
   "source": [
    "We can also use this notation to unpack an iterable to a function and will use each value as a _positional parameter_."
   ]
  },
  {
   "cell_type": "code",
   "execution_count": null,
   "metadata": {},
   "outputs": [],
   "source": [
    "my_list_of_numbers = [1,2,3,4,5]\n",
    "\n",
    "print(*my_list_of_numbers)\n",
    "product_better(*my_list_of_numbers)"
   ]
  },
  {
   "cell_type": "code",
   "execution_count": null,
   "metadata": {
    "scrolled": true
   },
   "outputs": [],
   "source": [
    "# Works for other iterables too!\n",
    "\n",
    "my_range = range(2,10,2)\n",
    "\n",
    "print(*my_range)\n",
    "product_better(*my_range)"
   ]
  },
  {
   "cell_type": "markdown",
   "metadata": {},
   "source": [
    "## `**` Operator: `*kwargs`"
   ]
  },
  {
   "cell_type": "markdown",
   "metadata": {},
   "source": [
    "The double-asterisk operator  `∗∗`  is used for _keyword arguments_, i.e. _named arguments_."
   ]
  },
  {
   "cell_type": "code",
   "execution_count": 178,
   "metadata": {
    "ExecuteTime": {
     "end_time": "2022-04-04T17:18:58.689236Z",
     "start_time": "2022-04-04T17:18:58.685429Z"
    }
   },
   "outputs": [],
   "source": [
    "def hello_to_the_office(**kwargs):\n",
    "    \n",
    "    hello_strs = []\n",
    "    \n",
    "    # Iterate through each item of kwargs (a dictionary!)\n",
    "    \n",
    "    for position_title, name in kwargs.items():\n",
    "    \n",
    "    # Note that the keys are going to be treated as a string\n",
    "    \n",
    "        hello_strs.append(f'Hi {name}, the {position_title.title()}!')\n",
    "    \n",
    "    print('\\n'.join(hello_strs))"
   ]
  },
  {
   "cell_type": "code",
   "execution_count": 179,
   "metadata": {
    "ExecuteTime": {
     "end_time": "2022-04-04T17:19:26.077398Z",
     "start_time": "2022-04-04T17:19:26.071156Z"
    }
   },
   "outputs": [
    {
     "name": "stdout",
     "output_type": "stream",
     "text": [
      "Hi Michael, the Regional_Manager!\n",
      "Hi Pam, the Office_Administrato!\n",
      "Hi Jim, the Regional_Co_Manager!\n",
      "Hi Dwight, the Asssistant_To_The_Regional_Manager!\n"
     ]
    }
   ],
   "source": [
    "hello_to_the_office(\n",
    "    regional_manager='Michael',\n",
    "    office_administrato='Pam',\n",
    "    regional_co_manager='Jim',\n",
    "    asssistant_to_the_regional_manager='Dwight'\n",
    ")"
   ]
  },
  {
   "cell_type": "markdown",
   "metadata": {},
   "source": [
    "Here's a more complicated function that also uses `**kwargs`"
   ]
  },
  {
   "cell_type": "code",
   "execution_count": 180,
   "metadata": {
    "ExecuteTime": {
     "end_time": "2022-04-04T17:20:34.168711Z",
     "start_time": "2022-04-04T17:20:34.164271Z"
    }
   },
   "outputs": [],
   "source": [
    "def report(to_print=True, **kwargs):\n",
    "    \n",
    "    # Effectively, kwargs is a dictionary\n",
    "    the_keys = ';'.join(kwargs.keys())\n",
    "    the_values = kwargs.values()\n",
    "    \n",
    "    # Note the safe way of getting the values\n",
    "    if kwargs.get('is_bot'):\n",
    "        print('ROBOT ALERT!!')\n",
    "    \n",
    "    if to_print:\n",
    "        print(f'''\n",
    "            The Keys:\n",
    "                {the_keys}\n",
    "            The Values:\n",
    "                {the_values}\n",
    "        ''')\n",
    "    else:\n",
    "        return the_keys, the_values"
   ]
  },
  {
   "cell_type": "code",
   "execution_count": 181,
   "metadata": {
    "ExecuteTime": {
     "end_time": "2022-04-04T17:20:34.726281Z",
     "start_time": "2022-04-04T17:20:34.720698Z"
    }
   },
   "outputs": [
    {
     "name": "stdout",
     "output_type": "stream",
     "text": [
      "\n",
      "            The Keys:\n",
      "                name;birth_year\n",
      "            The Values:\n",
      "                dict_values(['Fry', 1985])\n",
      "        \n"
     ]
    }
   ],
   "source": [
    "# Note that these arguments were never defined in the report() function\n",
    "report(name='Fry', birth_year=1985)"
   ]
  },
  {
   "cell_type": "code",
   "execution_count": 182,
   "metadata": {
    "ExecuteTime": {
     "end_time": "2022-04-04T17:21:04.119460Z",
     "start_time": "2022-04-04T17:21:04.116586Z"
    }
   },
   "outputs": [
    {
     "name": "stdout",
     "output_type": "stream",
     "text": [
      "ROBOT ALERT!!\n",
      "\n",
      "            The Keys:\n",
      "                name;titanium_level;birth_year;is_bot\n",
      "            The Values:\n",
      "                dict_values(['Bender', 0.4, 2996, True])\n",
      "        \n"
     ]
    }
   ],
   "source": [
    "report(name='Bender', titanium_level=0.4, birth_year=2996, is_bot=True)"
   ]
  },
  {
   "cell_type": "markdown",
   "metadata": {},
   "source": [
    "We can also use the `**` operator to unpack a dictionary to a function as _named parameters_."
   ]
  },
  {
   "cell_type": "code",
   "execution_count": 183,
   "metadata": {
    "ExecuteTime": {
     "end_time": "2022-04-04T17:21:15.824411Z",
     "start_time": "2022-04-04T17:21:15.821854Z"
    }
   },
   "outputs": [],
   "source": [
    "def named_parameter_function(param0, param1, default=10):\n",
    "    return (param0, param1, default)"
   ]
  },
  {
   "cell_type": "code",
   "execution_count": 184,
   "metadata": {
    "ExecuteTime": {
     "end_time": "2022-04-04T17:21:16.250003Z",
     "start_time": "2022-04-04T17:21:16.243941Z"
    }
   },
   "outputs": [
    {
     "data": {
      "text/plain": [
       "('Zero', 10000, False)"
      ]
     },
     "execution_count": 184,
     "metadata": {},
     "output_type": "execute_result"
    }
   ],
   "source": [
    "my_params = {'param0':'Zero', 'param1':10000, 'default':False}\n",
    "\n",
    "named_parameter_function(**my_params)"
   ]
  },
  {
   "cell_type": "code",
   "execution_count": null,
   "metadata": {},
   "outputs": [],
   "source": []
  }
 ],
 "metadata": {
  "kernelspec": {
   "display_name": "Python 3",
   "language": "python",
   "name": "python3"
  },
  "language_info": {
   "codemirror_mode": {
    "name": "ipython",
    "version": 3
   },
   "file_extension": ".py",
   "mimetype": "text/x-python",
   "name": "python",
   "nbconvert_exporter": "python",
   "pygments_lexer": "ipython3",
   "version": "3.8.5"
  },
  "toc": {
   "base_numbering": 1,
   "nav_menu": {},
   "number_sections": true,
   "sideBar": true,
   "skip_h1_title": false,
   "title_cell": "Table of Contents",
   "title_sidebar": "TOC",
   "toc_cell": true,
   "toc_position": {
    "height": "439px",
    "left": "10px",
    "top": "150px",
    "width": "363px"
   },
   "toc_section_display": true,
   "toc_window_display": false
  },
  "varInspector": {
   "cols": {
    "lenName": 16,
    "lenType": 16,
    "lenVar": 40
   },
   "kernels_config": {
    "python": {
     "delete_cmd_postfix": "",
     "delete_cmd_prefix": "del ",
     "library": "var_list.py",
     "varRefreshCmd": "print(var_dic_list())"
    },
    "r": {
     "delete_cmd_postfix": ") ",
     "delete_cmd_prefix": "rm(",
     "library": "var_list.r",
     "varRefreshCmd": "cat(var_dic_list()) "
    }
   },
   "types_to_exclude": [
    "module",
    "function",
    "builtin_function_or_method",
    "instance",
    "_Feature"
   ],
   "window_display": true
  }
 },
 "nbformat": 4,
 "nbformat_minor": 4
}
