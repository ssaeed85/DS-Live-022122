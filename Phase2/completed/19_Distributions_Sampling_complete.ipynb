{
 "cells": [
  {
   "cell_type": "markdown",
   "metadata": {
    "heading_collapsed": true
   },
   "source": [
    "# Objectives"
   ]
  },
  {
   "cell_type": "markdown",
   "metadata": {
    "hidden": true
   },
   "source": [
    "* Explain how sampling is related to its related population\n",
    "* Describe the difference between discrete and continuous random variables\n",
    "* Describe the difference between PMFs, PDFs, and CDFs"
   ]
  },
  {
   "cell_type": "code",
   "execution_count": 1,
   "metadata": {
    "ExecuteTime": {
     "end_time": "2021-10-08T20:59:55.423713Z",
     "start_time": "2021-10-08T20:59:53.995917Z"
    }
   },
   "outputs": [],
   "source": [
    "# Initial imports \n",
    "import pandas as pd\n",
    "import numpy as np\n",
    "from scipy import stats\n",
    "from matplotlib import pyplot as plt\n",
    "import seaborn as sns\n",
    "%matplotlib inline"
   ]
  },
  {
   "cell_type": "markdown",
   "metadata": {
    "heading_collapsed": true
   },
   "source": [
    "# First Steps: Sampling"
   ]
  },
  {
   "cell_type": "markdown",
   "metadata": {
    "hidden": true
   },
   "source": [
    "Before we get into our main topic of probability distributions, it'll help to first understand the concept of **sampling**."
   ]
  },
  {
   "cell_type": "markdown",
   "metadata": {
    "heading_collapsed": true,
    "hidden": true
   },
   "source": [
    "## Our View of The World Isn't Perfect"
   ]
  },
  {
   "cell_type": "markdown",
   "metadata": {
    "hidden": true
   },
   "source": [
    "We don't have _perfect_ information; life doesn't have an answer key.\n",
    "\n",
    "Ideally, we want to have all the details of a whole group. But as you can guess, that's not always feasible."
   ]
  },
  {
   "cell_type": "markdown",
   "metadata": {
    "hidden": true
   },
   "source": [
    "**🧠  What are some reasons we sometimes _can't_ observe the whole group?**\n",
    "<details>\n",
    "<ul>\n",
    "    <li>Expensive</li>\n",
    "    <li>Unrealistic</li>\n",
    "    <li>We don't need it to gain insights!</li>\n",
    "</ul>\n",
    "</details>"
   ]
  },
  {
   "cell_type": "markdown",
   "metadata": {
    "heading_collapsed": true,
    "hidden": true
   },
   "source": [
    "## Solutions?"
   ]
  },
  {
   "cell_type": "markdown",
   "metadata": {
    "hidden": true
   },
   "source": [
    "Let's use an example scenario to think about how we can approach this. Let's say we would like to know the ages of students at Flatiron School. \n",
    "\n",
    "Picture what this might look like. How would you describe the population of students' ages?"
   ]
  },
  {
   "cell_type": "markdown",
   "metadata": {
    "hidden": true
   },
   "source": [
    "> **Key Terms**\n",
    ">\n",
    "> We define the **population** as the whole group we're interested in. We abstract this to the population being the whole set of _possible outcomes_.\n",
    "> \n",
    "> And when we \"pick\" a student (or students), we say we have (randomly) _sampled_ over the population. We call this subset of \"picked\" individuals/outcomes from the population a **sample**."
   ]
  },
  {
   "cell_type": "markdown",
   "metadata": {
    "hidden": true
   },
   "source": [
    "Well, if we knew what the **population** (all the Flatiron students) looked like, we could probably get an idea of what the likely age is of a _randomly_ picked one from the population."
   ]
  },
  {
   "cell_type": "markdown",
   "metadata": {
    "hidden": true
   },
   "source": [
    "We can describe the \"look\" of the population a **probability distribution**. "
   ]
  },
  {
   "cell_type": "markdown",
   "metadata": {
    "hidden": true
   },
   "source": [
    "> **Key Terms**\n",
    "> \n",
    "> A **probability distribution** is a representation of the frequencies of potential outcomes or the percentage of time each outcome occurs."
   ]
  },
  {
   "cell_type": "markdown",
   "metadata": {
    "hidden": true
   },
   "source": [
    "There are a few ways to get the probability distribution, even if it's only approximate."
   ]
  },
  {
   "cell_type": "markdown",
   "metadata": {
    "heading_collapsed": true,
    "hidden": true
   },
   "source": [
    "### Observe the Whole Population"
   ]
  },
  {
   "cell_type": "markdown",
   "metadata": {
    "hidden": true
   },
   "source": [
    "This might seem like \"cheating\" but sometimes this is really the best way even if it's \"expensive\" (monetarily, time, or otherwise). Sometimes this has already been done for us and we can use those results. It's important to note that sometimes the information is outdated but we can use it as approximately right. (Think how the US Census is done only every 10 years.)"
   ]
  },
  {
   "cell_type": "markdown",
   "metadata": {
    "hidden": true
   },
   "source": [
    "So in our example, we could have a _distribution_ of ages of our population. Let's say of all students were asked their age when enrolling:\n",
    "\n",
    "- $15\\%$ are under the age of $25$\n",
    "- $30\\%$ are between $25$ & $30$\n",
    "- $25\\%$ are between $30$ & $35$\n",
    "- $20\\%$ are between $35$ & $40$\n",
    "- $10\\%$ are over the age of $40$"
   ]
  },
  {
   "cell_type": "markdown",
   "metadata": {
    "heading_collapsed": true,
    "hidden": true
   },
   "source": [
    "### We Sample and Infer the Population's Distribution "
   ]
  },
  {
   "cell_type": "markdown",
   "metadata": {
    "hidden": true
   },
   "source": [
    "Another method is to sample the population (usually randomly) and observe what the sample's distribution looks like. We can then infer what the population might look like."
   ]
  },
  {
   "cell_type": "markdown",
   "metadata": {
    "hidden": true
   },
   "source": [
    "Suppose we ask 100 random students their ages and observe the following:\n",
    "\n",
    "- $10$ are under the age of $25$\n",
    "- $30$ are between $25$ & $30$\n",
    "- $30$ are between $30$ & $35$\n",
    "- $15$ are between $35$ & $40$\n",
    "- $15$ are over the age of $40$\n",
    "\n",
    "Then we can guess that our population is similar to this distribution."
   ]
  },
  {
   "cell_type": "markdown",
   "metadata": {
    "hidden": true
   },
   "source": [
    "How similar? Well, that can be a tough question and is part of _inferential statistics_ where we make predictions based on our observations/data.  We'll  be going into more detail about this in the near future."
   ]
  },
  {
   "cell_type": "markdown",
   "metadata": {},
   "source": [
    "## Sampling & Point Estimates "
   ]
  },
  {
   "cell_type": "markdown",
   "metadata": {},
   "source": [
    "> The sample statistic is calculated from the sample data and the population parameter is inferred (or estimated) from this sample statistic. Let me say that again: Statistics are calculated, parameters are estimated. - James Jones"
   ]
  },
  {
   "cell_type": "markdown",
   "metadata": {},
   "source": [
    "**Know the differences - Population v Sample Terminology**\n",
    "\n",
    "Characteristics of populations are called *parameters*<br/>\n",
    "Characteristics of a sample are called *statistics*\n",
    "\n",
    "<img src=\"https://media.cheggcdn.com/media/7ac/7ac1a812-3b41-4873-8413-b6a7b8fab530/CL-26481V_image_006.png\" width=700>\n",
    "\n",
    "Let's work through an example to understand this topic better. We grabbed wage and classification information for 11,739 City of Seattle Employees (as of March 2022).\n",
    "\n",
    "Details: https://data.seattle.gov/City-Business/City-of-Seattle-Wage-Data/2khk-5ukd"
   ]
  },
  {
   "cell_type": "code",
   "execution_count": 2,
   "metadata": {},
   "outputs": [
    {
     "data": {
      "text/html": [
       "<div>\n",
       "<style scoped>\n",
       "    .dataframe tbody tr th:only-of-type {\n",
       "        vertical-align: middle;\n",
       "    }\n",
       "\n",
       "    .dataframe tbody tr th {\n",
       "        vertical-align: top;\n",
       "    }\n",
       "\n",
       "    .dataframe thead th {\n",
       "        text-align: right;\n",
       "    }\n",
       "</style>\n",
       "<table border=\"1\" class=\"dataframe\">\n",
       "  <thead>\n",
       "    <tr style=\"text-align: right;\">\n",
       "      <th></th>\n",
       "      <th>Department</th>\n",
       "      <th>Last Name</th>\n",
       "      <th>First Name</th>\n",
       "      <th>Job Title</th>\n",
       "      <th>Hourly Rate</th>\n",
       "    </tr>\n",
       "  </thead>\n",
       "  <tbody>\n",
       "    <tr>\n",
       "      <th>0</th>\n",
       "      <td>Seattle Public Utilities</td>\n",
       "      <td>Batchelor</td>\n",
       "      <td>Craig</td>\n",
       "      <td>Civil Engrng Spec,Sr</td>\n",
       "      <td>53.740</td>\n",
       "    </tr>\n",
       "    <tr>\n",
       "      <th>1</th>\n",
       "      <td>Finance &amp; Admin Services</td>\n",
       "      <td>Altice</td>\n",
       "      <td>Jeffrey</td>\n",
       "      <td>Auto Mechanic</td>\n",
       "      <td>39.780</td>\n",
       "    </tr>\n",
       "    <tr>\n",
       "      <th>2</th>\n",
       "      <td>Finance &amp; Admin Services</td>\n",
       "      <td>Montes</td>\n",
       "      <td>Valeria</td>\n",
       "      <td>Cust Svc Rep</td>\n",
       "      <td>29.450</td>\n",
       "    </tr>\n",
       "    <tr>\n",
       "      <th>3</th>\n",
       "      <td>Fire Department</td>\n",
       "      <td>Kuklok</td>\n",
       "      <td>Rebecca</td>\n",
       "      <td>Cust Svc Rep *</td>\n",
       "      <td>29.450</td>\n",
       "    </tr>\n",
       "    <tr>\n",
       "      <th>4</th>\n",
       "      <td>Planning &amp; Comm Development</td>\n",
       "      <td>Quirindongo</td>\n",
       "      <td>Rico</td>\n",
       "      <td>Executive3</td>\n",
       "      <td>97.164</td>\n",
       "    </tr>\n",
       "  </tbody>\n",
       "</table>\n",
       "</div>"
      ],
      "text/plain": [
       "                    Department    Last Name First Name             Job Title  \\\n",
       "0     Seattle Public Utilities    Batchelor      Craig  Civil Engrng Spec,Sr   \n",
       "1     Finance & Admin Services       Altice    Jeffrey         Auto Mechanic   \n",
       "2     Finance & Admin Services       Montes    Valeria          Cust Svc Rep   \n",
       "3              Fire Department       Kuklok    Rebecca        Cust Svc Rep *   \n",
       "4  Planning & Comm Development  Quirindongo       Rico            Executive3   \n",
       "\n",
       "   Hourly Rate   \n",
       "0        53.740  \n",
       "1        39.780  \n",
       "2        29.450  \n",
       "3        29.450  \n",
       "4        97.164  "
      ]
     },
     "execution_count": 2,
     "metadata": {},
     "output_type": "execute_result"
    }
   ],
   "source": [
    "# Grab our data\n",
    "df = pd.read_csv(\"data/City_of_Seattle_Wage_Data_031422.csv\")\n",
    "df.head()"
   ]
  },
  {
   "cell_type": "code",
   "execution_count": 3,
   "metadata": {},
   "outputs": [
    {
     "data": {
      "text/plain": [
       "Index(['Department', 'Last Name', 'First Name', 'Job Title', 'Hourly Rate '], dtype='object')"
      ]
     },
     "execution_count": 3,
     "metadata": {},
     "output_type": "execute_result"
    }
   ],
   "source": [
    "# Thing to note - the column name 'Hourly Rate ' has a space at the end\n",
    "df.columns"
   ]
  },
  {
   "cell_type": "code",
   "execution_count": 4,
   "metadata": {},
   "outputs": [
    {
     "data": {
      "text/plain": [
       "['Department', 'LastName', 'FirstName', 'JobTitle', 'HourlyRate']"
      ]
     },
     "execution_count": 4,
     "metadata": {},
     "output_type": "execute_result"
    }
   ],
   "source": [
    "[c.replace(\" \", \"\") for c in df.columns]"
   ]
  },
  {
   "cell_type": "code",
   "execution_count": 5,
   "metadata": {},
   "outputs": [
    {
     "data": {
      "text/plain": [
       "{'Department': 'Department',\n",
       " 'Last Name': 'LastName',\n",
       " 'First Name': 'FirstName',\n",
       " 'Job Title': 'JobTitle',\n",
       " 'Hourly Rate ': 'HourlyRate'}"
      ]
     },
     "execution_count": 5,
     "metadata": {},
     "output_type": "execute_result"
    }
   ],
   "source": [
    "{c: c.replace(\" \", \"\") for c in df.columns}"
   ]
  },
  {
   "cell_type": "code",
   "execution_count": 6,
   "metadata": {},
   "outputs": [],
   "source": [
    "# So let's rename the columns\n",
    "df = df.rename(columns = lambda x: x.replace(\" \", \"\"))"
   ]
  },
  {
   "cell_type": "code",
   "execution_count": 7,
   "metadata": {},
   "outputs": [
    {
     "data": {
      "text/plain": [
       "Index(['Department', 'LastName', 'FirstName', 'JobTitle', 'HourlyRate'], dtype='object')"
      ]
     },
     "execution_count": 7,
     "metadata": {},
     "output_type": "execute_result"
    }
   ],
   "source": [
    "# Check our work\n",
    "df.columns"
   ]
  },
  {
   "cell_type": "markdown",
   "metadata": {},
   "source": [
    "What we'll do is grab a random sample, of 500 employees, and see how the sample statistics match up with our population parameters."
   ]
  },
  {
   "cell_type": "code",
   "execution_count": 8,
   "metadata": {},
   "outputs": [],
   "source": [
    "# gonna use the random library to add randomness\n",
    "import random\n",
    "\n",
    "# seed for reproducibility (not too random)\n",
    "random.seed(2021) "
   ]
  },
  {
   "cell_type": "code",
   "execution_count": 9,
   "metadata": {},
   "outputs": [],
   "source": [
    "# set our parameters\n",
    "sample_size = 500\n",
    "total_employees = len(df)"
   ]
  },
  {
   "cell_type": "code",
   "execution_count": 10,
   "metadata": {
    "ExecuteTime": {
     "end_time": "2020-07-28T23:02:36.009622Z",
     "start_time": "2020-07-28T23:00:43.249404Z"
    }
   },
   "outputs": [],
   "source": [
    "# Sample 500 random employees\n",
    "sample = df.sample(n=sample_size)"
   ]
  },
  {
   "cell_type": "code",
   "execution_count": 11,
   "metadata": {},
   "outputs": [
    {
     "data": {
      "text/html": [
       "<div>\n",
       "<style scoped>\n",
       "    .dataframe tbody tr th:only-of-type {\n",
       "        vertical-align: middle;\n",
       "    }\n",
       "\n",
       "    .dataframe tbody tr th {\n",
       "        vertical-align: top;\n",
       "    }\n",
       "\n",
       "    .dataframe thead th {\n",
       "        text-align: right;\n",
       "    }\n",
       "</style>\n",
       "<table border=\"1\" class=\"dataframe\">\n",
       "  <thead>\n",
       "    <tr style=\"text-align: right;\">\n",
       "      <th></th>\n",
       "      <th>Department</th>\n",
       "      <th>LastName</th>\n",
       "      <th>FirstName</th>\n",
       "      <th>JobTitle</th>\n",
       "      <th>HourlyRate</th>\n",
       "    </tr>\n",
       "  </thead>\n",
       "  <tbody>\n",
       "    <tr>\n",
       "      <th>7412</th>\n",
       "      <td>Office of Labor Standards</td>\n",
       "      <td>Marchese</td>\n",
       "      <td>Steven</td>\n",
       "      <td>Executive3</td>\n",
       "      <td>87.200</td>\n",
       "    </tr>\n",
       "    <tr>\n",
       "      <th>1599</th>\n",
       "      <td>Information Technology</td>\n",
       "      <td>Chou</td>\n",
       "      <td>Julie</td>\n",
       "      <td>Info Technol Systs Anlyst</td>\n",
       "      <td>49.490</td>\n",
       "    </tr>\n",
       "    <tr>\n",
       "      <th>7653</th>\n",
       "      <td>Fire Department</td>\n",
       "      <td>Holtman</td>\n",
       "      <td>Richard</td>\n",
       "      <td>Fire Capt-90.46 Hrs</td>\n",
       "      <td>63.060</td>\n",
       "    </tr>\n",
       "    <tr>\n",
       "      <th>8132</th>\n",
       "      <td>Parks &amp; Recreation</td>\n",
       "      <td>Huang</td>\n",
       "      <td>Qing</td>\n",
       "      <td>Manager2,Fin,Bud,&amp;Actg</td>\n",
       "      <td>65.829</td>\n",
       "    </tr>\n",
       "    <tr>\n",
       "      <th>5902</th>\n",
       "      <td>Parks &amp; Recreation</td>\n",
       "      <td>Duroseau</td>\n",
       "      <td>Romel</td>\n",
       "      <td>Lifeguard *</td>\n",
       "      <td>19.510</td>\n",
       "    </tr>\n",
       "    <tr>\n",
       "      <th>...</th>\n",
       "      <td>...</td>\n",
       "      <td>...</td>\n",
       "      <td>...</td>\n",
       "      <td>...</td>\n",
       "      <td>...</td>\n",
       "    </tr>\n",
       "    <tr>\n",
       "      <th>2008</th>\n",
       "      <td>Seattle Public Utilities</td>\n",
       "      <td>Kongaika</td>\n",
       "      <td>Osaiasi</td>\n",
       "      <td>Drainage&amp;Wstwtr Coll Wkr CI</td>\n",
       "      <td>39.590</td>\n",
       "    </tr>\n",
       "    <tr>\n",
       "      <th>2836</th>\n",
       "      <td>Parks &amp; Recreation</td>\n",
       "      <td>Gingerich</td>\n",
       "      <td>Emmet</td>\n",
       "      <td>Lifeguard *</td>\n",
       "      <td>19.510</td>\n",
       "    </tr>\n",
       "    <tr>\n",
       "      <th>11000</th>\n",
       "      <td>Finance &amp; Admin Services</td>\n",
       "      <td>Guel</td>\n",
       "      <td>Osvaldo</td>\n",
       "      <td>StratAdvsr1,PC&amp;RM</td>\n",
       "      <td>48.753</td>\n",
       "    </tr>\n",
       "    <tr>\n",
       "      <th>2694</th>\n",
       "      <td>Fire Department</td>\n",
       "      <td>Quach</td>\n",
       "      <td>Daniel</td>\n",
       "      <td>Fireftr-Ap Drvr C-90.46</td>\n",
       "      <td>46.900</td>\n",
       "    </tr>\n",
       "    <tr>\n",
       "      <th>3814</th>\n",
       "      <td>Human Services Department</td>\n",
       "      <td>Woods</td>\n",
       "      <td>Micah</td>\n",
       "      <td>Admin Spec I-BU</td>\n",
       "      <td>29.030</td>\n",
       "    </tr>\n",
       "  </tbody>\n",
       "</table>\n",
       "<p>500 rows × 5 columns</p>\n",
       "</div>"
      ],
      "text/plain": [
       "                      Department   LastName FirstName  \\\n",
       "7412   Office of Labor Standards   Marchese    Steven   \n",
       "1599      Information Technology       Chou     Julie   \n",
       "7653             Fire Department    Holtman   Richard   \n",
       "8132          Parks & Recreation      Huang      Qing   \n",
       "5902          Parks & Recreation   Duroseau     Romel   \n",
       "...                          ...        ...       ...   \n",
       "2008    Seattle Public Utilities   Kongaika   Osaiasi   \n",
       "2836          Parks & Recreation  Gingerich     Emmet   \n",
       "11000   Finance & Admin Services       Guel   Osvaldo   \n",
       "2694             Fire Department      Quach    Daniel   \n",
       "3814   Human Services Department      Woods     Micah   \n",
       "\n",
       "                          JobTitle  HourlyRate  \n",
       "7412                    Executive3      87.200  \n",
       "1599     Info Technol Systs Anlyst      49.490  \n",
       "7653           Fire Capt-90.46 Hrs      63.060  \n",
       "8132        Manager2,Fin,Bud,&Actg      65.829  \n",
       "5902                   Lifeguard *      19.510  \n",
       "...                            ...         ...  \n",
       "2008   Drainage&Wstwtr Coll Wkr CI      39.590  \n",
       "2836                   Lifeguard *      19.510  \n",
       "11000            StratAdvsr1,PC&RM      48.753  \n",
       "2694       Fireftr-Ap Drvr C-90.46      46.900  \n",
       "3814               Admin Spec I-BU      29.030  \n",
       "\n",
       "[500 rows x 5 columns]"
      ]
     },
     "execution_count": 11,
     "metadata": {},
     "output_type": "execute_result"
    }
   ],
   "source": [
    "sample"
   ]
  },
  {
   "cell_type": "code",
   "execution_count": 12,
   "metadata": {
    "ExecuteTime": {
     "end_time": "2020-07-28T23:06:38.133047Z",
     "start_time": "2020-07-28T23:06:37.967834Z"
    },
    "scrolled": false
   },
   "outputs": [
    {
     "data": {
      "image/png": "[encoded data removed]",
      "text/plain": [
       "<Figure size 576x432 with 1 Axes>"
      ]
     },
     "metadata": {
      "needs_background": "light"
     },
     "output_type": "display_data"
    }
   ],
   "source": [
    "#Make a visualization that shows the distribution of hourly rate\n",
    "\n",
    "plt.figure(figsize=(8,6))\n",
    "\n",
    "sns.histplot(df['HourlyRate'], label='Full Dataset', stat='density', kde=True)\n",
    "sns.histplot(sample['HourlyRate'], label='Sample', stat='density', kde=True, color='orange', alpha=.5)\n",
    "\n",
    "plt.xlabel(\"Hourly Rate\")\n",
    "plt.ylabel(\"Frequency\")\n",
    "plt.title(\"Distribution of Hourly Rates Amongst Seattle City Employees\")\n",
    "plt.legend()\n",
    "plt.show()"
   ]
  },
  {
   "cell_type": "markdown",
   "metadata": {},
   "source": [
    "Another comparison: "
   ]
  },
  {
   "cell_type": "code",
   "execution_count": 13,
   "metadata": {},
   "outputs": [
    {
     "name": "stdout",
     "output_type": "stream",
     "text": [
      "Full Dataset:\n",
      "         HourlyRate\n",
      "count  11739.000000\n",
      "mean      47.817331\n",
      "std       16.722128\n",
      "min        5.530000\n",
      "25%       35.400000\n",
      "50%       47.340000\n",
      "75%       59.550000\n",
      "max      187.767000\n",
      "********************\n",
      "Sample:\n",
      "       HourlyRate\n",
      "count  500.000000\n",
      "mean    48.756860\n",
      "std     16.685786\n",
      "min     17.270000\n",
      "25%     36.050000\n",
      "50%     48.355000\n",
      "75%     60.880000\n",
      "max    102.834700\n"
     ]
    }
   ],
   "source": [
    "print(\"Full Dataset:\")\n",
    "print(df.describe())\n",
    "print(\"*\" * 20)\n",
    "print(\"Sample:\")\n",
    "print(sample.describe())"
   ]
  },
  {
   "cell_type": "markdown",
   "metadata": {},
   "source": [
    "So, how'd our sample do?\n",
    "\n",
    "- \n"
   ]
  },
  {
   "cell_type": "markdown",
   "metadata": {
    "heading_collapsed": true,
    "hidden": true
   },
   "source": [
    "## Going Forward"
   ]
  },
  {
   "cell_type": "markdown",
   "metadata": {
    "hidden": true
   },
   "source": [
    "For the rest of the lecture, we're going to focus on how we can describe probability distributions. This will give us a tool set whether we're talking about a sample or an established population."
   ]
  },
  {
   "cell_type": "markdown",
   "metadata": {
    "hidden": true
   },
   "source": [
    "> **Aside - Use a Mathematical Model as a Proxy to the Population's Distribution**\n",
    "> \n",
    "> If we know what a population distribution _should_ look, we can mathematically  define a model that would fill-in for our population.\n",
    "> \n",
    "> This is analogous to something like using a perfect circle to approximate a car's tire. Is it exactly the same? No, there are some deviations from the circle but it's close enough for many applications.\n",
    "> \n",
    "> There are many other _parametric probability distributions_ which can be described mathematically and can be very convenient for us. We won't focus on this now, but know that is another use case of probability distributions."
   ]
  },
  {
   "cell_type": "markdown",
   "metadata": {
    "heading_collapsed": true
   },
   "source": [
    "# Probability Distributions"
   ]
  },
  {
   "cell_type": "markdown",
   "metadata": {
    "hidden": true
   },
   "source": [
    "We will learn about a variety of different probability distributions, but before we do so, we need to establish the difference between **discrete** and **continuous** distributions."
   ]
  },
  {
   "cell_type": "markdown",
   "metadata": {},
   "source": [
    "A fundamental distinction among kinds of distributions is the distinction between discrete and continuous distributions. \n",
    "\n",
    "A **discrete distribution** (or variable) takes on countable values, like integers, where every outcome has a positive probability.\n",
    "\n",
    "A **continuous distribution** takes on a continuum of values, like real numbers. It assigns probabilities to ranges of values (not any one single value)\n",
    "\n",
    "![](https://miro.medium.com/max/1022/1*7DwXV_h_t7_-TkLAImKBaQ.png)\n",
    "\n",
    "[More Explanation](https://mathbitsnotebook.com/Algebra1/FunctionGraphs/FNGContinuousDiscrete.html)"
   ]
  },
  {
   "cell_type": "markdown",
   "metadata": {
    "heading_collapsed": true,
    "hidden": true
   },
   "source": [
    "## Discrete Distributions"
   ]
  },
  {
   "cell_type": "markdown",
   "metadata": {
    "hidden": true
   },
   "source": [
    "With discrete distributions, you can only get certain specific values, not all values in a range.  Take, for example, a roll of a single six-sided die - there are 6 possible outcomes of the roll, and non-integer numbers between 1 and 6 are not possible results."
   ]
  },
  {
   "cell_type": "markdown",
   "metadata": {
    "heading_collapsed": true,
    "hidden": true
   },
   "source": [
    "### Examples of Discrete Distributions"
   ]
  },
  {
   "cell_type": "markdown",
   "metadata": {
    "hidden": true
   },
   "source": [
    "- **Uniform Distribution**\n",
    "    - Occurs when all possible outcomes are equally likely.\n",
    "    - e.g. rolling a six-sided die\n",
    "    \n",
    "- **Bernoulli Distribution**\n",
    "    - Represents the probability of success for a certain experiment (binary outcome).\n",
    "    - e.g. flipping a fair coin\n",
    "    \n",
    "- **Binomial Distribution**\n",
    "    - Represents the probability of observing a specific number of successes (Bernoulli trials) in a specific number of trials.\n",
    "    - e.g. number of defects found from a 100-random sample from the production line"
   ]
  },
  {
   "cell_type": "markdown",
   "metadata": {
    "heading_collapsed": true,
    "hidden": true
   },
   "source": [
    "## Continuous Distributions"
   ]
  },
  {
   "cell_type": "markdown",
   "metadata": {
    "hidden": true
   },
   "source": [
    "With a continuous distribution, you can expect to get any value within a range. Think about measuring the length of something. The reported measurement can always be more or less precise."
   ]
  },
  {
   "cell_type": "markdown",
   "metadata": {
    "heading_collapsed": true,
    "hidden": true
   },
   "source": [
    "### Examples of Continuous Distributions"
   ]
  },
  {
   "cell_type": "markdown",
   "metadata": {
    "hidden": true
   },
   "source": [
    "- **Continuous Uniform**\n",
    "    - A continuous distribution that takes values within a specified range *a* to *b*, when each value within the range is equally likely.\n",
    "    - e.g. time take an elevator arrive at your floor.\n",
    "\n",
    "- **Normal (Gaussian)**\n",
    "    - A probability distribution that is symmetric about the mean, showing that the mean are more frequent in occurrence than data far from the mean.\n",
    "    - e.g. individual height in a population\n",
    "    \n",
    "- **Exponential**\n",
    "    - Uses to model the time elapsed between events.\n",
    "    - e.g. amount of time a postal clerk spends with a customer"
   ]
  },
  {
   "cell_type": "markdown",
   "metadata": {},
   "source": [
    "## Probability Distribution Functions\n",
    "\n",
    "### Probability Mass Functions (PMF) / Probability Density Functions (PDF) & Cumulative Density Functions (CDF)\n",
    "\n",
    "(I know, \"Probability Distribution Functions\" and \"Probability Density Functions\" have the same acronym. PDF normally stands for the latter - the former is a more catch-all term for all three of these)"
   ]
  },
  {
   "cell_type": "markdown",
   "metadata": {},
   "source": [
    "![example graphs of a continuous cdf with corresponding pdf and discrete cdf with corresponding pmf](images/cdf.png)\n"
   ]
  },
  {
   "cell_type": "markdown",
   "metadata": {},
   "source": [
    "### Probability Mass Function\n",
    "\n",
    "The **probability mass function (PMF)** for a *discrete random variable* gives, at any value $k$, the probability that the random variable takes the value $k$. \n",
    "\n",
    "### Probability Density Function\n",
    "\n",
    "**Probability density functions (PDF)** are similar to PMFs, in that they describe the probability of a result within a range of values. But where PMFs are appropriate for discrete variables and so can be descibed with barplots, PDFs are smooth curves that describe *continuous random variables*.  \n",
    "\n",
    "We can think of a PDF as a bunch of bars of probabilities getting smaller and smaller until each neighbor is indistinguishable from its neighbor.\n",
    "\n",
    "It is then intuitive that you cannot calculate expected value and variance in the same way as we did with PMFs.  Instead, we have to integrate over the entirety of the curve to calculate the expected value."
   ]
  },
  {
   "cell_type": "markdown",
   "metadata": {},
   "source": [
    "![](images/pdf_inter.png)"
   ]
  },
  {
   "cell_type": "markdown",
   "metadata": {},
   "source": [
    "## Distributions with Scipy Stats"
   ]
  },
  {
   "cell_type": "markdown",
   "metadata": {},
   "source": [
    "Documentation: https://docs.scipy.org/doc/scipy/reference/stats.html"
   ]
  },
  {
   "cell_type": "markdown",
   "metadata": {},
   "source": [
    "## First Up: Get to know the `stats` module with Discrete Distributions!"
   ]
  },
  {
   "cell_type": "markdown",
   "metadata": {},
   "source": [
    "### Bernoulli Distribution \n",
    "\n",
    "The **Bernoulli** distribution shows the outcome of a single trial where there are only 2 possible options.\n",
    "\n",
    "The easiest example is a single coin flip of a fair coin."
   ]
  },
  {
   "cell_type": "code",
   "execution_count": 14,
   "metadata": {},
   "outputs": [],
   "source": [
    "# Define our likelihood of 'success'\n",
    "p_success = .5\n",
    "\n",
    "# Now - lets use the stats library to get the probabilities \n",
    "# Probability of 'failure' (0)\n",
    "p_tails = stats.bernoulli.pmf(k=0, p=p_success)\n",
    "# Probability of 'success' (1)\n",
    "p_heads = stats.bernoulli.pmf(k=1, p=p_success)"
   ]
  },
  {
   "cell_type": "code",
   "execution_count": 15,
   "metadata": {},
   "outputs": [],
   "source": [
    "# Create a dict for visualization:\n",
    "coin_flip = {\n",
    "    'Tails' : p_tails,\n",
    "    'Heads' : p_heads\n",
    "}"
   ]
  },
  {
   "cell_type": "code",
   "execution_count": 16,
   "metadata": {},
   "outputs": [
    {
     "data": {
      "text/plain": [
       "{'Tails': 0.5, 'Heads': 0.5}"
      ]
     },
     "execution_count": 16,
     "metadata": {},
     "output_type": "execute_result"
    }
   ],
   "source": [
    "coin_flip"
   ]
  },
  {
   "cell_type": "code",
   "execution_count": 17,
   "metadata": {},
   "outputs": [
    {
     "data": {
      "image/png": "[encoded data removed]",
      "text/plain": [
       "<Figure size 576x432 with 1 Axes>"
      ]
     },
     "metadata": {
      "needs_background": "light"
     },
     "output_type": "display_data"
    }
   ],
   "source": [
    "# visualize it\n",
    "plt.figure(figsize=(8,6))\n",
    "\n",
    "plt.bar(coin_flip.keys(), height=coin_flip.values())\n",
    "\n",
    "plt.ylabel('Probability')\n",
    "plt.xlabel('Result of Coin Flip')\n",
    "plt.ylim(0, 1)\n",
    "plt.show()"
   ]
  },
  {
   "cell_type": "code",
   "execution_count": 18,
   "metadata": {},
   "outputs": [
    {
     "name": "stdout",
     "output_type": "stream",
     "text": [
      "0.5\n",
      "1.0\n"
     ]
    }
   ],
   "source": [
    "# Now let's check out the cumulative probability\n",
    "# 'failure'\n",
    "print(stats.bernoulli.cdf(k=0, p=p_success))\n",
    "# 'success'\n",
    "print(stats.bernoulli.cdf(k=1, p=p_success))\n"
   ]
  },
  {
   "cell_type": "code",
   "execution_count": 19,
   "metadata": {
    "scrolled": false
   },
   "outputs": [
    {
     "data": {
      "image/png": "[encoded data removed]",
      "text/plain": [
       "<Figure size 576x432 with 1 Axes>"
      ]
     },
     "metadata": {
      "needs_background": "light"
     },
     "output_type": "display_data"
    }
   ],
   "source": [
    "# visualize it\n",
    "plt.figure(figsize=(8,6))\n",
    "\n",
    "plt.bar(coin_flip.keys(),\n",
    "        height=[stats.bernoulli.cdf(k=0, p=p_success), \n",
    "                stats.bernoulli.cdf(k=1, p=p_success)],\n",
    "        label='Cumulative Probability')\n",
    "\n",
    "plt.bar(coin_flip.keys(), \n",
    "        height=coin_flip.values(),\n",
    "        label='Bernoulli Discrete Probability')\n",
    "\n",
    "plt.ylabel('Probability')\n",
    "plt.xlabel('Result of Coin Flip')\n",
    "plt.ylim(0, 1)\n",
    "plt.legend()\n",
    "plt.show()"
   ]
  },
  {
   "cell_type": "markdown",
   "metadata": {},
   "source": [
    "A note - Bernoulli distributions do not need to showcase a fair and balanced trial, as was the case above. Let's look really quickly at a game where the chance of winning is only 10%:"
   ]
  },
  {
   "cell_type": "code",
   "execution_count": 20,
   "metadata": {
    "scrolled": true
   },
   "outputs": [],
   "source": [
    "p_success = .1\n",
    "\n",
    "# Let's 'freeze' this distribution\n",
    "rv = stats.bernoulli(p=p_success)\n",
    "\n",
    "# Create a dict for visualization:\n",
    "unfair_game = {\n",
    "    'Lose' : rv.pmf(k=0),\n",
    "    'Win' : rv.pmf(k=1)\n",
    "}"
   ]
  },
  {
   "cell_type": "code",
   "execution_count": 21,
   "metadata": {},
   "outputs": [
    {
     "data": {
      "text/plain": [
       "{'Lose': 0.9, 'Win': 0.10000000000000002}"
      ]
     },
     "execution_count": 21,
     "metadata": {},
     "output_type": "execute_result"
    }
   ],
   "source": [
    "unfair_game"
   ]
  },
  {
   "cell_type": "code",
   "execution_count": 22,
   "metadata": {},
   "outputs": [
    {
     "data": {
      "image/png": "[encoded data removed]",
      "text/plain": [
       "<Figure size 576x432 with 1 Axes>"
      ]
     },
     "metadata": {
      "needs_background": "light"
     },
     "output_type": "display_data"
    }
   ],
   "source": [
    "# visualize it\n",
    "plt.figure(figsize=(8,6))\n",
    "\n",
    "plt.bar(unfair_game.keys(), height=unfair_game.values())\n",
    "\n",
    "plt.ylabel('Probability')\n",
    "plt.xlabel('Result of Game')\n",
    "plt.show()"
   ]
  },
  {
   "cell_type": "code",
   "execution_count": 23,
   "metadata": {
    "scrolled": false
   },
   "outputs": [
    {
     "data": {
      "image/png": "[encoded data removed]",
      "text/plain": [
       "<Figure size 576x432 with 1 Axes>"
      ]
     },
     "metadata": {
      "needs_background": "light"
     },
     "output_type": "display_data"
    }
   ],
   "source": [
    "# visualize it\n",
    "plt.figure(figsize=(8,6))\n",
    "\n",
    "plt.bar(unfair_game.keys(), \n",
    "        height=[rv.cdf(0), rv.cdf(1)], \n",
    "        label='Cumulative Probability')\n",
    "\n",
    "plt.bar(unfair_game.keys(), \n",
    "        height=unfair_game.values(),\n",
    "        label='Unbalanced Bernoulli Discrete Probability')\n",
    "\n",
    "plt.ylabel('Probability')\n",
    "plt.xlabel('Result of Unfair Game')\n",
    "plt.legend(bbox_to_anchor=(1, 1))\n",
    "plt.show()"
   ]
  },
  {
   "cell_type": "markdown",
   "metadata": {},
   "source": [
    "Another note - a **Bernoulli** distribution is not the same as a **Binomial** distribution.\n",
    "\n",
    "- Bernoulli shows the probable results of a single trial with only 2 outcomes\n",
    "- Binomial shows the probable summed results of MANY trials with only 2 outcomes"
   ]
  },
  {
   "cell_type": "markdown",
   "metadata": {},
   "source": [
    "### Uniform\n",
    "\n",
    "The **Uniform** distribution applies when all possible values of the variable are _equally probable_. \n",
    "\n",
    "If I'm rolling a fair die, then the six possible outcomes are all equally probable. That is, the chance that I roll a 1 is 1 in 6, as is the chance that I roll a 2 etc."
   ]
  },
  {
   "cell_type": "code",
   "execution_count": 24,
   "metadata": {},
   "outputs": [
    {
     "data": {
      "text/plain": [
       "0.16666666666666666"
      ]
     },
     "execution_count": 24,
     "metadata": {},
     "output_type": "execute_result"
    }
   ],
   "source": [
    "stats.randint.pmf(k=1, low=1, high=6+1)"
   ]
  },
  {
   "cell_type": "code",
   "execution_count": 25,
   "metadata": {
    "scrolled": true
   },
   "outputs": [
    {
     "data": {
      "text/plain": [
       "{1: 0.16666666666666666,\n",
       " 2: 0.16666666666666666,\n",
       " 3: 0.16666666666666666,\n",
       " 4: 0.16666666666666666,\n",
       " 5: 0.16666666666666666,\n",
       " 6: 0.16666666666666666}"
      ]
     },
     "execution_count": 25,
     "metadata": {},
     "output_type": "execute_result"
    }
   ],
   "source": [
    "low = 1\n",
    "high = 6\n",
    "\n",
    "# Scipy stats' randint is a discrete uniform distribution\n",
    "possible_rolls = {}\n",
    "\n",
    "for roll in range(low, high+1):\n",
    "    possible_rolls[roll] = stats.randint.pmf(k=roll, low=low, high=high+1)\n",
    "\n",
    "possible_rolls"
   ]
  },
  {
   "cell_type": "code",
   "execution_count": 26,
   "metadata": {},
   "outputs": [
    {
     "data": {
      "image/png": "[encoded data removed]",
      "text/plain": [
       "<Figure size 432x288 with 1 Axes>"
      ]
     },
     "metadata": {
      "needs_background": "light"
     },
     "output_type": "display_data"
    }
   ],
   "source": [
    "# visualize it\n",
    "plt.bar(possible_rolls.keys(), height=possible_rolls.values())\n",
    "\n",
    "plt.ylabel('Probability')\n",
    "plt.xlabel('Result of Die Roll')\n",
    "plt.ylim(0, 1)\n",
    "plt.show()"
   ]
  },
  {
   "cell_type": "code",
   "execution_count": 27,
   "metadata": {},
   "outputs": [
    {
     "data": {
      "text/plain": [
       "<scipy.stats._distn_infrastructure.rv_frozen at 0x7f7ab3155e20>"
      ]
     },
     "execution_count": 27,
     "metadata": {},
     "output_type": "execute_result"
    }
   ],
   "source": [
    "stats.randint(low, high+1)\n"
   ]
  },
  {
   "cell_type": "code",
   "execution_count": 28,
   "metadata": {},
   "outputs": [],
   "source": [
    "# 'freeze' the distribution\n",
    "rv = stats.randint(low, high+1)\n",
    "\n",
    "# using dictionary comprehension (!!) to get the CDF\n",
    "cdf_roll = {roll: rv.cdf(roll) for roll in range(low, high+1)}"
   ]
  },
  {
   "cell_type": "code",
   "execution_count": 29,
   "metadata": {},
   "outputs": [
    {
     "data": {
      "text/plain": [
       "{1: 0.16666666666666666,\n",
       " 2: 0.3333333333333333,\n",
       " 3: 0.5,\n",
       " 4: 0.6666666666666666,\n",
       " 5: 0.8333333333333334,\n",
       " 6: 1.0}"
      ]
     },
     "execution_count": 29,
     "metadata": {},
     "output_type": "execute_result"
    }
   ],
   "source": [
    "cdf_roll"
   ]
  },
  {
   "cell_type": "code",
   "execution_count": 30,
   "metadata": {},
   "outputs": [
    {
     "data": {
      "image/png": "[encoded data removed]",
      "text/plain": [
       "<Figure size 576x432 with 1 Axes>"
      ]
     },
     "metadata": {
      "needs_background": "light"
     },
     "output_type": "display_data"
    }
   ],
   "source": [
    "# visualize it\n",
    "plt.figure(figsize=(8,6))\n",
    "plt.bar(cdf_roll.keys(), height=cdf_roll.values(), \n",
    "        label='Cumulative Probability')\n",
    "\n",
    "plt.bar(possible_rolls.keys(), height=possible_rolls.values(), \n",
    "        label='Uniform Discrete Probability')\n",
    "\n",
    "plt.ylabel('Probability')\n",
    "plt.xlabel('Result of Die Roll')\n",
    "plt.legend()\n",
    "plt.show()"
   ]
  },
  {
   "cell_type": "markdown",
   "metadata": {},
   "source": [
    "## Next Up: Continuous Distributions!"
   ]
  },
  {
   "cell_type": "markdown",
   "metadata": {},
   "source": [
    "### Normal Distribution\n",
    "\n",
    "Suppose I want to simulate the behavior of a certain frog that has an average weight of 15 oz. with a standard deviation of 2.5 oz.:"
   ]
  },
  {
   "cell_type": "code",
   "execution_count": 31,
   "metadata": {
    "ExecuteTime": {
     "end_time": "2021-10-08T21:00:03.214886Z",
     "start_time": "2021-10-08T21:00:03.211033Z"
    }
   },
   "outputs": [
    {
     "name": "stdout",
     "output_type": "stream",
     "text": [
      "Continuous Random Variable: \n",
      " [12.43388237 16.71985985 14.65655565 17.29439889 14.12110045 11.57988925\n",
      " 14.99768905 15.3908905  11.45295402 14.31261509 11.02432802  8.83405462\n",
      "  8.97892366 17.33867161 16.58539924 13.08669276 15.61409036 19.84051757\n",
      " 16.4460771  17.11389727 12.1854055  11.32698194 16.06143328 14.25438938\n",
      " 17.05962981 17.93256653 19.24565642 12.4198536  15.47649764 14.79952025\n",
      " 12.26851265 15.29967999 11.36485964 15.12058875 20.3399666  18.88040408\n",
      " 17.17768718 10.34900168 13.77203555 13.1033534  14.74366825 14.75319835\n",
      " 15.18881633 17.20609083 17.45748797 14.14675064 14.76871715 13.37626012\n",
      " 14.27051012 15.97426499 17.00229748 14.8587414  12.36300293 15.89265999\n",
      " 14.75963544 15.41683444 15.41119591 16.98419771 11.89618981 18.9909621\n",
      " 16.56685683 15.0711271  13.51959297 15.10965944 13.86148479 13.1051351\n",
      " 15.36962907 12.8241726  15.59765827 14.69136342 13.25908467 15.0083524\n",
      " 14.01369467 15.41676372 16.23599013 17.02056859  9.18726608 17.97177549\n",
      " 13.24872535 16.6300013  14.98570232 14.91514661 16.31942106 15.49233987\n",
      " 16.91912779 19.53036113 16.18666919 15.99967184 16.37704509 17.82855089\n",
      " 10.76912594 11.9244717  12.86422373 16.80212476 12.46597935 12.99433164\n",
      " 18.15266844 15.08413767 19.25004086 10.92409248 16.93995841 17.02205301\n",
      " 15.73297111 11.71819776 15.64187668 17.49016617 17.77181257 12.8246251\n",
      " 16.7357446  17.40748267 18.67377893 14.7597111  16.82375255 14.28799597\n",
      " 14.04811605 18.74194542 18.46382388 11.68395673 17.48128905 10.3518681\n",
      " 15.17982541 20.18519936 13.65417962 12.52957016 16.85630048 17.42287256\n",
      " 20.83258804 16.39163178 16.8761663  13.50888353 15.86599267 17.65670602\n",
      " 11.63299313 19.74806815 16.2175274  17.52676045 14.72049675  7.42799702\n",
      " 11.35430519 10.0479223  16.60947342 17.38925371 17.53892508 10.62017034\n",
      " 15.09243441 16.23602418 13.59804852 15.60758861 17.82487848 12.76585377\n",
      " 14.24555413 10.50531391 15.3489654  13.89989844 14.36159048 13.29599402\n",
      " 13.88845043 14.48682178 16.8044087  13.2602692  20.3103404  17.74754299\n",
      " 14.55629943 13.83263093 13.69476323 15.37366667 17.10230149 14.57818194\n",
      " 17.11911098 19.16650915 16.78570258 10.11920427 18.5786827  16.35745578\n",
      " 18.50121572 17.74247191 15.12553421 13.20814578 13.66649101 15.13103016\n",
      " 16.20753462 19.29372095 12.67176742 15.4249877  11.66893987 20.24130356\n",
      " 15.33958699 15.12133146 15.7848067  19.88295668 17.92664176 15.62809406\n",
      " 15.51154694 13.43419055 11.80787912 14.83020366 14.72799642 12.7052891\n",
      " 14.37814194 10.21278709 13.24678954 15.99791462 16.8553851  17.70073388\n",
      " 16.55505833 12.80816134 14.80768487 11.90018384 14.02595458 18.01805549\n",
      " 14.22858802 16.54450796 13.06988094 13.15864819 14.80471914 16.2399063\n",
      " 13.01352606 12.29252135 11.28825718 14.54321696 16.81582173 16.66863945\n",
      " 18.88854183 14.38173456 17.45937332 13.5710003  12.02020893 15.16562517\n",
      " 15.33105095 15.27270375 20.49635009 18.03101697 12.17908363 11.10943367\n",
      " 17.38596979 11.24099512 11.56889778 16.66658623 19.08944255 10.14475166\n",
      "  9.05678465 12.93687111 15.39101856 18.62894861 14.15823744 16.75511056\n",
      " 16.92669528 14.7469928  15.31533885 11.50070229 17.48057828 17.10497731\n",
      " 13.79138731 15.09820296 17.18470002 12.10898527  9.16095824 18.09172626\n",
      " 17.28938412 11.19807588 12.51428074 11.59819209 16.31847607 16.84383639\n",
      " 18.50961071 14.64892744 13.3174404  15.34687021 13.99643972 12.49529642\n",
      " 16.887342   20.73552226 16.97759743 15.51707455 15.51818009 11.33100262\n",
      " 17.83700541 13.80489762 17.09961691 18.62540632 12.2788181  12.67876695\n",
      " 17.66273191 16.58383627 15.79854572 13.31865126 16.04890516 16.47519801\n",
      " 14.77615569 16.86951399 12.7741819  16.31438133 20.61029912 16.47927082\n",
      " 17.82072362 14.32081545 14.28760812 17.92853958 14.76709392 13.95303736\n",
      " 17.51675687 16.48397733 12.86908358 14.44030995 19.60147446 16.38560672\n",
      " 11.9060889  16.94782681 18.60732224 15.75227393 19.80551718 18.58435673\n",
      " 17.31331339 16.46406254 15.15058685 16.4673316  16.25464205 18.29619776\n",
      " 13.88904583 13.68791487 12.62856761 17.52280517 10.65094127 12.55800757\n",
      " 17.31898905 13.00712658 18.63525307 13.53655806 10.97961055 16.92959603\n",
      " 14.07458818 15.57655416 15.98276438 14.82429052 17.66617897 14.40503683\n",
      " 13.64084879 17.25828878 16.01971925 14.81399955 14.91808359 13.32021397\n",
      " 15.28948691 13.04275118 11.09812496 14.69371472 16.85216338 15.80700343\n",
      " 14.6723812  15.0693229  12.72735454 14.57313756 12.34892909 14.68518973\n",
      " 14.25580042 10.32207567 15.73717545 12.84039019 12.25994481 15.37580689\n",
      " 15.07663478 14.9251623  15.74948143 10.70805697 13.71197181 16.7123845\n",
      " 15.34357533 13.11673348 16.2373929  14.54193981 16.6059262  11.34499095\n",
      " 18.17484964 21.76773638 10.86300186 15.15672399 14.05314859 16.53789351\n",
      " 14.76190598 16.79767644 11.72168811 14.17362474 16.04014353 15.47910156\n",
      " 17.92948228 11.14295338 15.17783147 14.1780929  14.55812859 13.10978486\n",
      " 14.86609967 13.92465132 12.10830337 14.15065536 15.32195148 13.75343817\n",
      " 15.94942503 20.84666066 14.63836822 16.41715773 16.04767762 11.49072647\n",
      " 10.50947424 15.9995066  17.81260202 16.47681934 11.12554041  9.02621836\n",
      " 18.75867335 14.80627952 10.47357268 14.62988198 18.65294744 14.01688896\n",
      " 12.61496307 10.65946882 16.87824082 17.29180458 13.73074756 11.79572666\n",
      " 16.21416564 12.39277697 19.23525453 15.59044673 13.3450322  14.00046264\n",
      " 14.88946197 17.8136476  16.52596347 17.79619164 16.67747289 16.50278024\n",
      " 17.72869936 19.01369462 19.56490643 17.80543547 14.00858158 15.18844398\n",
      " 18.42265897 19.19003199 16.80166288 15.18301612 17.41288321 17.21410395\n",
      " 13.04511286 14.00189918 13.24683068 12.12542324 12.21840888 13.3678674\n",
      " 13.82171106 12.85587483 16.22766907  9.26976759  8.06241295 10.74088427\n",
      " 11.34763741 12.29421016 13.67700597 12.34338601 15.44924142 10.80695447\n",
      " 12.774041   17.77982207 11.81100056 16.14695523 17.43771302 13.23973237\n",
      " 15.76674906 14.81412457 11.54744696 12.24190518 18.62825382 17.78603762\n",
      " 17.26812179 10.75903611 16.46557251 17.95164874 12.40409553 14.00577102\n",
      " 12.74492658 14.41373139 14.27326957 18.95513392 11.42125464 16.15042369\n",
      " 14.55263867 15.90928818 13.57377128 12.30103239  8.75102023 13.75351723\n",
      " 17.22662408 19.59193688 13.5994057  15.35632967 14.31201497 15.98826915\n",
      " 13.85949651 15.95893661 14.18088691 14.74635016 11.89543556 16.46610727\n",
      " 16.43041324 20.83793961 17.38908813 15.81493097 13.4682643  10.93760106\n",
      " 16.28451061 17.6936807  16.65850716 16.20902559 13.59160538 17.28687515\n",
      " 13.74039974 15.0971688  15.97036474 14.51116989 16.62706024 15.24871574\n",
      " 13.30326002 16.45035046 16.01474684 19.6259578  17.28625363 14.49976944\n",
      " 13.77270475 14.36498455 12.69610465 15.95383156 16.16610789 17.38379549\n",
      " 16.64218992 11.00094348 13.33465163 14.67926573 17.1195837  15.02956465\n",
      " 11.53888752 15.8531536  14.44409255 14.08825297 15.44279801 11.70361974\n",
      " 11.97332592 14.04912388 21.76276271 12.3242115  15.196863   19.07805334\n",
      " 15.50754788 15.79774812 15.29599756 16.83485175 15.44709641 15.49133911\n",
      " 15.86092547 12.30077402 13.02264661 15.77892159 12.90388132 17.66991792\n",
      " 16.7802318  17.21760927 15.63710925 13.82020266 13.23867663 13.50231399\n",
      " 20.90657234 14.88950218 12.8674906  16.12507434  7.26499388 14.87364623\n",
      " 13.22597068 17.47839994 14.25626002 12.54379297 13.68359771 12.02964325\n",
      " 19.22700407 15.4278558  17.2350204  12.92388379 18.08005231 15.2054315\n",
      " 14.50492841 19.01010529 16.64497758 13.41864713 16.96539615 14.80437322\n",
      " 15.15683136 14.01503058 15.94491708 14.52304954 13.49215919 13.92026467\n",
      " 11.41855252 15.44631947 20.13862109 13.2248723  14.11569518 14.06356798\n",
      " 19.22015681 14.97281975 15.13206785 16.49977917 14.35362151 16.63623046\n",
      " 18.30012708 13.99833796 17.33115513 13.70788517 16.1332154  16.9927061\n",
      " 15.43328092 14.22233746 13.45210959 13.7100659  13.77051636 18.07589125\n",
      " 17.66248101 11.73970807 14.20435333 13.32458602 16.06201544 15.49572098\n",
      " 16.11044927 17.19447408 17.3552187  15.78681443 14.00389704 16.59698417\n",
      " 21.2200881  13.26553661 17.59783487 18.06673154 18.01564557 16.31249873\n",
      " 18.91025533 22.53162056 14.48705601 11.93886798 15.10554508 14.16500503\n",
      " 11.70233117 13.51996894 13.21929077 17.34058125 11.0019862  15.25051264\n",
      " 13.85062507 15.89868078 17.43750661 13.93349002 12.90069049 13.5688254\n",
      " 19.12493736 17.26140902 18.40336708 12.43926317 13.42440228 19.71193172\n",
      " 12.86020229 16.63583736 11.51952144 15.00302446 12.57997152 17.0572575\n",
      " 15.42545832 15.65784974 16.60559934 16.40624656 18.06531399 14.76403764\n",
      " 13.32257332 11.51599862 14.35462615 12.75593799 13.18451275 17.63674783\n",
      " 15.69314291 14.74388886 14.63973701 15.52479666 16.44130377 14.60043951\n",
      "  9.98369449 17.74290701 12.37142593 13.98130068 16.05401086 12.51446368\n",
      " 14.42488443 15.78663268 12.03810394 17.8159931  13.79059906 15.86374059\n",
      " 12.27862996 15.07070279 21.83871137 10.74386048 13.48385147 19.7101606\n",
      " 15.56758885 10.85198764 14.44167014 10.27904344 12.99024142 16.25138926\n",
      " 14.26382032 16.35449155 13.79398086 15.2468107  15.21576672 12.99527947\n",
      " 13.47186034 15.95956847 15.34923337 13.16842537 14.76451072 16.63836305\n",
      " 13.08993757 15.58467692 13.73192427 15.29401468 15.6435104  11.26903303\n",
      " 12.62971349 17.18910406 17.70862866 15.44208412 14.23315366 15.39256718\n",
      " 21.61793464 14.84580032 17.97243261 10.06480703 15.70843564 17.04590602\n",
      " 13.56213368 13.41239568 16.45458188 12.22718548 15.35107593 14.98629449\n",
      " 19.46591666 18.98450495 15.65884017 17.51495561 13.59525517 11.41186253\n",
      " 15.29283893 12.99553696 17.27973867 14.79796987 10.83085638 11.5723134\n",
      " 16.16711139 11.64329761 14.4866997  16.14248277 15.71133412 15.41406076\n",
      " 17.75271242 16.55063394 12.97086097 11.35189626 16.66994555 15.37193191\n",
      " 14.88375418 14.67407444 10.38997837 18.29954646 11.96675546 17.14753032\n",
      " 13.40824905 13.60107282 17.07924253 14.6773981  10.51998812 15.83986956\n",
      " 16.05098417 15.2234361  17.06479746 12.71074242 16.17462161 12.06226733\n",
      " 12.99708294 16.03648256 12.91763671 15.9724147  13.6531321  16.4378164\n",
      " 17.13042183 14.45423262 12.87479159  9.88026445 13.02578115 17.52821301\n",
      " 15.7157216  13.79404372 12.0288035  20.04989209 12.080443   12.40369648\n",
      " 13.74262029 11.16557193 16.65416703 14.91694764 13.64419075 14.1798478\n",
      " 16.23488442 18.95668839 17.04594264 13.91828335 17.09199336 13.02234856\n",
      " 16.71414006 20.37756684 12.55230828 15.99753049 13.33335246 12.4676858\n",
      " 14.17250126 13.86780764 17.36442053 17.64063198 11.23820383 14.64114803\n",
      " 15.93510233 16.23489783 13.32197349 14.449221   10.2408826  14.96868345\n",
      " 16.83879359 13.07397503 12.62087023 13.61997992 16.85087801 15.50050428\n",
      " 16.13521528 15.47324759 18.39638271 17.55575572 12.09639219 18.48258101\n",
      " 14.61205392 14.26672029 11.89223389 13.60926864 13.5313326  14.9404799\n",
      " 17.26375618 15.42633065 21.10873857 13.18039239 13.20743501 14.40435563\n",
      " 15.19936145 11.7046231  16.11019862 19.25552323 11.14494993 13.86429613\n",
      " 16.67266117 14.55271433 14.55708923 15.34858192 16.80238326 18.07862807\n",
      " 15.25162439 13.45321886 16.6770414  14.97587959 15.91550725 17.68268229\n",
      " 12.14699121 19.70977278 16.64179617 13.48133149 17.8893858  11.84559988\n",
      " 12.33129915 14.25713231 18.70908872 13.35600808 12.55602218 13.78952922\n",
      " 15.45862643 17.64088347 13.66089149 15.82868337 15.18754472 12.04869867\n",
      " 13.14146704 19.37210501 13.71111054 16.95833445 13.09969906 17.94911673\n",
      " 13.96794987 12.45271328 16.85567116 15.16199483 10.36976284 15.94424014\n",
      " 13.35203523  9.43555471 19.12054516 13.94017165 12.71715428 20.13906382\n",
      " 12.30857908 10.33130214 16.66675989 18.03683064 17.93164442 15.7785662\n",
      " 13.83967671 18.15630637 22.33755644 14.94020689 15.55816463 16.17258792\n",
      " 11.35048264 12.34109361 18.81356548 19.40096326 13.1470486  13.67616646\n",
      " 12.74277304 12.19019888 13.68701143 14.81082002 17.1215785  14.5625539\n",
      " 13.50395307 16.76132711 12.23623762 12.52649832  7.84022625 12.79584201\n",
      " 17.10465953 14.31788646 12.65839713 17.54995543 20.83655915 14.05557259\n",
      " 14.82266751 14.80370412 12.02674312 18.75597423 14.08527149 14.56565291\n",
      " 16.21911981 20.51628575 15.95684794 15.05448365 17.03063546 17.31705974\n",
      " 18.30934411 15.34180948 16.89327515 17.07568645 19.55330894 17.15593617\n",
      " 15.08333454 15.91969848 15.3579873  15.43997495 14.17717435 12.33768086\n",
      " 14.40760797 16.22719253 13.56328799 16.1439383  13.60556205 14.88546107\n",
      " 15.98681792 16.24143657 20.29411874 13.74907437 16.70906706 16.61873869\n",
      " 14.68281737 14.6415203  10.58791606 14.97700364 14.25973044 18.8977802\n",
      " 10.98967727 13.56405846 15.95675249 12.8393212 ] \n",
      "\n"
     ]
    }
   ],
   "source": [
    "# Create required parameters for the distribution \n",
    "# mean of the data\n",
    "mu = 15\n",
    "# standard deviation of the data\n",
    "sigma = 2.5\n",
    "# number of observations to be created\n",
    "size = 1000\n",
    "\n",
    "# Create a discrete distribution with the given parameter values\n",
    "# Use rvs to create random values within this distribution\n",
    "normal = stats.norm.rvs(loc=mu, scale=sigma, size=size)\n",
    "\n",
    "print(f'Continuous Random Variable: \\n {normal} \\n')"
   ]
  },
  {
   "cell_type": "code",
   "execution_count": 32,
   "metadata": {
    "scrolled": true
   },
   "outputs": [
    {
     "data": {
      "text/plain": [
       "array([16.67888642, 16.04437756, 14.20009514, 18.42594781, 16.10893721,\n",
       "       13.97524445, 15.44411057, 13.97213524, 17.31702858, 17.97309578,\n",
       "       11.02096808,  8.21668674, 13.83632767, 12.36801232, 16.0104155 ,\n",
       "       14.10481989, 13.55041302, 16.62086843, 15.90279983, 13.8099567 ,\n",
       "       15.70814713, 14.04161967, 15.17434944, 15.51176112, 14.26138299,\n",
       "       13.22577051, 13.47751405, 15.17243169, 18.4023643 , 18.15553778,\n",
       "       10.74735111, 18.34816353, 15.9171096 , 13.52487577, 16.15480482,\n",
       "       18.28719859, 15.14477253, 17.68159138, 15.19248346, 19.99615044,\n",
       "       18.36130472, 14.63043137, 17.25399658, 14.68946839,  9.8353101 ,\n",
       "       16.60571987, 18.56003589, 17.44983719, 15.29155906, 14.24428905,\n",
       "       11.2011948 , 14.49740752, 12.68073284, 15.635397  , 15.78070409,\n",
       "       16.37761407, 14.40578487, 12.99222609, 16.6186598 , 12.16040614,\n",
       "       15.23847425, 11.95112959, 14.32607754, 15.55459691,  9.09656792,\n",
       "       15.18321495, 14.50361173, 15.31969464, 13.80198949, 15.12348104,\n",
       "       13.52297748, 16.02443664, 12.57320401, 17.03233523, 15.63147474,\n",
       "       18.31467262, 14.40166789, 17.37883917, 16.07506162, 13.73070753,\n",
       "       15.82005091, 12.49938581, 10.45329125, 13.6884423 , 18.21165719,\n",
       "       12.51834635, 17.83697545,  9.80192264, 12.82839107, 16.68963714,\n",
       "       17.59340423, 10.0186204 , 10.07482786, 13.0259673 , 16.38962398,\n",
       "       15.62158853, 15.97039739, 15.57989234, 18.11187452, 17.03852176,\n",
       "       16.26885104, 14.66595147, 17.88756765, 17.4329585 , 16.67617788,\n",
       "       17.83018737, 16.27848071, 11.51344172, 13.84285264, 12.81839372,\n",
       "       15.50161994, 14.56624864, 12.83500399, 17.72477839, 14.38097784,\n",
       "       15.46368722, 15.74572319, 12.88466603, 13.20405166, 17.74771944,\n",
       "       12.94077506, 12.09848254, 11.95463165, 13.51995047, 15.27817277,\n",
       "       13.996767  , 22.31876972, 15.19790777, 11.64720801, 14.6912098 ,\n",
       "       17.05392805, 15.49971917, 15.27747662, 14.10886905,  9.30963802,\n",
       "       11.8387405 , 14.418279  , 12.31671458, 13.83595823, 14.30187734,\n",
       "       15.15861967, 20.11258908, 17.01811062, 14.03214261, 12.72648176,\n",
       "       14.31859363, 13.3706042 , 12.99069128, 13.4197705 , 14.29032856,\n",
       "       17.90016769, 11.25964656, 16.58353416, 13.24276878, 14.36514113,\n",
       "       17.61286209, 17.9869006 ,  9.10625416, 10.52616569, 20.09540131,\n",
       "       20.45374465, 18.04861626, 13.77501863, 10.60572574, 10.92966296,\n",
       "       13.80206009, 17.41282442, 15.86142545, 15.18194928, 19.27770328,\n",
       "       15.14845611, 16.37397633, 18.24750693, 16.2002604 , 16.70124912,\n",
       "       18.17567693, 12.53205435, 19.52417333, 16.61092177, 11.70289544,\n",
       "       13.52418998, 11.21755825, 14.59884185, 17.10887572, 16.76907745,\n",
       "       15.136539  , 11.66589378, 16.28787089, 12.00248243, 12.8345177 ,\n",
       "       15.9067304 , 19.17850527, 19.16115161, 17.52702748, 15.8944133 ,\n",
       "       14.02312359, 20.54220796, 17.01911663, 14.83509775, 15.65562607,\n",
       "       13.44357441, 13.51849526, 17.53177015, 14.66916463, 16.67898605,\n",
       "       14.37000172, 17.72602831, 17.71723546, 12.93339596, 15.72204029,\n",
       "       13.75000602,  8.74082148, 11.23846442, 15.8077793 , 17.23293912,\n",
       "       17.37590934, 11.60739765, 16.21850483,  9.98988569, 11.53997524,\n",
       "       16.175845  , 12.26995044, 17.06568417, 16.45101807, 18.05801226,\n",
       "       19.42500483, 14.17558616, 15.95154199, 11.58968897, 14.51658927,\n",
       "       15.9363575 , 12.47333405, 14.12728188, 15.56664445, 15.0180311 ,\n",
       "       14.63820734, 15.16517359, 14.9673367 , 14.55586784, 11.66054819,\n",
       "       18.00100822, 16.40121372, 18.04123047, 14.25449232, 11.32047411,\n",
       "       17.56816426, 15.85870046, 13.28562075, 16.28968461, 16.19500638,\n",
       "       12.62770504, 13.0152089 , 15.95900516, 17.49693051, 11.03500025,\n",
       "       18.14720846, 15.04569634, 11.75660614, 15.06210599, 17.63001864,\n",
       "       14.68789958, 11.60147007, 14.84685518, 19.5218738 , 15.90148522,\n",
       "       15.794769  , 12.48993482, 19.24592996, 16.32009521, 18.33655373,\n",
       "       14.12571003, 14.91857749, 10.95506885, 17.12624713, 18.70320096,\n",
       "       14.82688317, 16.11495013, 13.28289692, 17.28139323,  9.86170285,\n",
       "       13.43158812, 15.54588844, 13.14125528, 12.82874131, 20.58381288,\n",
       "       14.83744201, 17.94159118, 14.68756473, 11.75030196, 16.51447414,\n",
       "       20.22829627, 17.58993127, 23.45557286, 16.18536662, 14.56491543,\n",
       "       15.31331083, 15.97330561, 15.31314489, 12.68469134, 16.07678496,\n",
       "       14.97967572, 14.48063446, 12.95327737, 14.09240324, 14.31440251,\n",
       "       17.59339967, 15.16454945, 15.38312813, 12.40321968, 11.52222601,\n",
       "       16.68958949, 12.60950719, 13.5362638 , 11.50658044, 15.40744225,\n",
       "       12.22813179, 21.17841779, 13.87637379, 13.50342249, 14.34191728,\n",
       "       17.87709414, 11.36646377, 14.44378888, 14.98562534, 12.50859097,\n",
       "       15.1042093 , 19.21427798, 13.89712716, 14.47772855, 17.46159761,\n",
       "       12.75066419, 10.70730257, 12.71004875, 15.03752126, 14.06297882,\n",
       "       18.0750811 , 15.66468085, 14.9856247 , 12.45418459, 16.4633255 ,\n",
       "       16.32565496, 12.3812505 , 13.39979926, 15.86443342, 14.39194928,\n",
       "       15.03703974, 14.96540184, 12.86510146, 12.28114141, 19.74982129,\n",
       "       19.01190782, 18.58401714, 12.21417846, 19.03357185, 15.71992277,\n",
       "       17.76485087, 17.06792814, 15.10638168, 19.83377786, 17.83176999,\n",
       "       12.53984536, 17.72396537, 15.54742465, 15.23288827, 17.954368  ,\n",
       "       10.66855363, 13.80693508, 12.81548553, 12.26865408, 16.2028561 ,\n",
       "       13.49943943, 13.07489085, 16.65269763, 14.98383241, 17.52497975,\n",
       "       16.26187728, 12.62377364, 18.5361701 , 16.20849712, 14.31402379,\n",
       "       17.12606478, 14.29572764, 15.31418022, 16.67815142, 19.7525598 ,\n",
       "       16.44080191, 13.20582866, 19.35153144, 14.34557531, 13.25607422,\n",
       "       13.67988383, 13.91110757, 19.17254411, 18.9077711 , 17.08729904,\n",
       "       15.8310003 , 14.60547304, 13.88135847, 17.08036521, 11.88625946,\n",
       "       14.60544266, 13.84921342, 13.73063828, 20.46473181, 18.34866899,\n",
       "       12.30352715, 14.57617427, 14.34580446, 15.30780717, 15.42526346,\n",
       "       16.75702938, 16.0785055 , 18.7973871 , 15.79169356, 14.27363201,\n",
       "       17.79955696, 17.34226639,  9.55477951, 14.80161527, 10.88890571,\n",
       "       18.80707294, 16.02996969, 12.68550174, 15.27209644, 13.53362447,\n",
       "       11.61005629, 18.75040858, 17.29253889, 12.16778968, 18.32146424,\n",
       "       21.1483139 , 17.80453951, 15.54467999,  8.72574057, 18.47643   ,\n",
       "       13.39350714, 15.31451565, 17.39647092, 13.88770594, 13.09057249,\n",
       "       13.58090195, 16.82107253, 12.29038849, 16.33581451, 12.88074985,\n",
       "       21.45808261, 14.88607029, 16.86286113, 13.59251502, 14.7044065 ,\n",
       "       17.93882915, 16.25544906, 14.0919396 , 15.67244188, 15.95891161,\n",
       "       18.00707303, 18.19276303, 13.16012765, 14.928399  , 13.47983651,\n",
       "       22.26394082, 11.11342549, 11.38154402, 12.81991121, 12.75825464,\n",
       "       12.80781236, 17.88403198, 16.42589574, 17.48164034, 14.3768418 ,\n",
       "       16.51735864, 14.58010941, 15.20268482, 13.28924274, 11.99768483,\n",
       "       11.41404109, 16.66737729, 15.2367389 , 14.60776762, 16.69567551,\n",
       "       10.82981179, 12.39233007, 14.34345768, 15.31637804, 19.14348588,\n",
       "       16.71171011, 12.80431071, 16.93940268, 15.07777187, 14.02661519,\n",
       "       17.32650869, 10.37731775, 14.76700522, 18.58401006, 15.36179496,\n",
       "       17.23705973, 16.57973194, 20.30216795, 17.30760916, 15.26375313,\n",
       "       16.03648522, 15.86932758, 12.9450014 , 11.52999262, 17.22486939,\n",
       "       13.3578435 , 12.68528694, 12.64263103, 17.69235935, 12.38596264,\n",
       "       14.02091515, 16.51222347, 17.33196017, 15.71863841, 15.49456455,\n",
       "       14.36146796, 13.10825455, 16.76593787, 14.98988147, 13.41041763,\n",
       "       13.22101882, 14.97280154, 16.54677958, 11.42043257, 16.433226  ,\n",
       "       14.52960949, 11.90873784, 12.03211693, 17.2094087 , 16.32660774,\n",
       "       17.92611099, 17.79795576, 12.7370683 , 16.92154615, 18.00953672,\n",
       "       16.48977038, 17.16118406, 15.1565835 , 13.29019006, 11.39107297,\n",
       "       13.49080922, 18.67971518, 17.41461618,  9.87881967, 20.75369279,\n",
       "       14.0518515 , 15.98908321, 13.66316931, 14.46862591, 15.85692022,\n",
       "       15.08718891, 17.7637059 , 10.57193263, 15.2917157 , 14.76275305,\n",
       "       15.47138326, 11.49421801, 20.30141821, 15.12901116, 19.54391935,\n",
       "       17.28740613, 12.52622977, 15.30786581, 13.86352563, 18.94563549,\n",
       "       14.05169531, 16.56936023, 12.02072695, 11.44793194, 10.24539414,\n",
       "       12.20568517, 14.40057942, 13.44743535, 11.33019724, 13.00559803,\n",
       "       15.4091098 , 14.75067708, 15.44496214, 19.16107625, 16.60165698,\n",
       "       16.86097696, 15.74194157, 17.46026388, 13.61776798, 18.30453947,\n",
       "       17.71508381, 21.95674015, 13.05689076, 14.08943735, 17.13527349,\n",
       "        8.83969091, 18.74477854, 17.25311352, 16.39645103, 14.65033502,\n",
       "       11.81664822, 16.06483833, 14.1056236 , 16.24278837, 14.14511991,\n",
       "       14.59619065, 13.63601661, 21.37868345, 14.76071329, 15.57303875,\n",
       "       14.5643012 , 14.6125555 , 12.93805726, 13.95078831, 16.54723863,\n",
       "       19.12665899, 14.83954844, 18.49270692, 15.28056185, 12.90229665,\n",
       "       17.09511234, 15.77281098, 14.89364055, 13.46204962, 15.62458903,\n",
       "       12.10391646, 13.72707384, 19.75695156, 14.67706906, 13.62067521,\n",
       "       15.84812466, 18.14079132, 19.17929357, 16.63655588, 12.09290746,\n",
       "       13.5330358 , 16.63965739, 12.31096659, 16.84307283, 16.31535424,\n",
       "       13.95199768, 17.37979605, 13.84819633, 13.97492964, 14.2700132 ,\n",
       "       19.33023948, 16.65893206, 16.3193935 , 14.15069064, 16.20164514,\n",
       "       14.78324344, 11.2508829 , 18.72546877, 12.88602639, 17.44894095,\n",
       "       16.10101267, 15.60648492, 23.08235628, 17.00744088, 17.59360467,\n",
       "       18.61327777, 20.05866773, 10.56850679, 14.40320199, 18.42257596,\n",
       "       16.6078885 , 15.31576123,  8.92443429, 11.92780866, 14.24813927,\n",
       "       11.16755971, 15.7611186 , 14.05335721, 11.64340795, 12.41771065,\n",
       "       12.58843785, 14.6475587 , 17.87129903, 16.10197834, 14.04608613,\n",
       "       12.58040131, 17.60468179, 14.79839118, 11.34503996, 19.90061842,\n",
       "       13.26247464, 14.80339927, 13.42410889, 14.59982458, 14.13975269,\n",
       "       16.61667093, 15.24690569, 16.78836663, 11.28648715, 17.18959108,\n",
       "       14.36522486, 21.0398538 , 13.62411808, 16.6875108 , 15.52332158,\n",
       "       13.87705037, 15.86944577, 16.47287982, 15.26630005, 14.90927191,\n",
       "       12.92109688, 13.36339023, 16.61267669, 15.61361461, 16.08490334,\n",
       "       16.97609652, 10.58447501, 13.89159158, 16.41396335, 20.65280635,\n",
       "       12.96662734, 14.63689953, 15.27440097, 16.60580242, 13.3452286 ,\n",
       "       14.81438571, 13.02407485, 12.54345435, 15.01750753, 13.66457805,\n",
       "       18.06667715, 13.04166779, 13.93775186, 13.92692441, 10.35679953,\n",
       "       12.71198969, 16.44899653, 16.04659488, 12.58210076, 17.77173951,\n",
       "       15.44984572, 17.25022832, 12.56925809, 10.2639926 , 14.39185224,\n",
       "       11.28622461, 13.93863902, 12.98414633, 14.19537541, 17.58847922,\n",
       "       10.49553333, 14.74624079, 14.80558491, 11.14891649, 15.73293692,\n",
       "       14.09400474, 16.27347205, 13.3358098 , 15.19647707, 16.09360286,\n",
       "       14.03355255, 11.17032264, 15.40089488, 21.02331646, 12.89787701,\n",
       "       12.78422233, 15.29003739, 16.69109357, 17.82635172, 11.3722161 ,\n",
       "       10.40903234, 14.03769231, 15.42978912, 11.34124451, 14.35385114,\n",
       "       11.51604487, 18.11930511, 13.98367212, 20.20850553, 11.02722662,\n",
       "       16.70543056, 14.86963697, 18.25846062, 15.96607054, 16.73888718,\n",
       "       17.84683633, 18.42713068, 18.12494606,  7.83312653, 11.53131336,\n",
       "       18.36776238, 16.16872971, 16.9236693 , 16.2916827 , 16.48931279,\n",
       "       13.74824659, 13.38283554, 15.12050753, 15.74589422, 13.5680984 ,\n",
       "       15.66181399, 16.50803237, 14.67838428, 17.95685439, 16.32371908,\n",
       "       18.9899613 , 16.4843459 , 12.15558968, 10.35154587, 12.9210248 ,\n",
       "       14.36562593, 17.92789672, 16.01181763, 15.57134546, 11.96470624,\n",
       "       14.52144248, 17.62328742,  9.55928099, 14.76991084, 17.67267217,\n",
       "       20.53781485, 14.95447167, 19.31514876, 16.28900511, 15.21317513,\n",
       "       12.37031817, 11.58047504, 17.18200197, 10.31365383, 16.46463755,\n",
       "       12.86898758, 13.48059657, 16.21359069, 14.49328999, 19.55172047,\n",
       "       11.73617976, 12.20272803, 18.16714262, 13.1116185 , 13.58224521,\n",
       "       13.62252051, 15.84718046,  8.66229333, 15.03282147, 12.56121924,\n",
       "       14.6287853 , 21.400672  , 21.20787656, 13.34286367, 15.6739678 ,\n",
       "       14.71460403, 16.38358614, 12.54076924, 15.88967152, 15.66144814,\n",
       "       15.2464932 , 16.2453806 , 14.64719166, 12.74446599, 16.0146302 ,\n",
       "       16.32435256, 14.77272662, 20.15180362, 17.17743388, 16.86750834,\n",
       "       12.26664516, 16.58064707, 14.14308374, 14.09100479, 16.2795589 ,\n",
       "       13.20404551, 15.47923666, 16.38984678, 15.89018346, 17.19791463,\n",
       "       14.28210252, 12.50643352, 18.36395255, 15.328716  , 16.48459641,\n",
       "       13.06232776, 14.48326292, 21.99418304, 15.5308764 , 11.29153017,\n",
       "       13.54561403, 12.85039502, 11.14771903, 16.26123943, 12.63651186,\n",
       "       17.42407155,  9.51022777, 15.93962835, 10.84880971, 15.45620865,\n",
       "       12.07201351, 12.30148463, 16.35761391, 18.80781739, 13.4510058 ,\n",
       "       15.14466636, 11.7639492 , 16.73025811, 12.64486023, 14.7524432 ,\n",
       "       17.17685404, 11.56719337, 15.46092111, 12.9304237 ,  9.50175332,\n",
       "       15.39326785, 20.36519315, 19.86777064, 12.89503749, 16.41996482,\n",
       "       16.06131551, 12.12609882, 16.35834719, 11.22036281, 20.37411021,\n",
       "       18.41453831, 13.70193215, 13.249298  , 16.44079365, 13.26896899,\n",
       "       15.85829983, 15.49216953, 13.44581954, 15.60858523, 14.45831999,\n",
       "       15.40842273, 16.32585351, 10.55384886, 15.39497008, 23.53006376,\n",
       "       13.84553152, 15.13174369, 19.16301284, 16.9416347 , 18.50961492,\n",
       "       17.86362196, 17.06086805, 17.79691876, 12.73671809, 16.10084351,\n",
       "       15.60391461, 13.17477524, 14.25901949, 17.0105029 , 15.06651815,\n",
       "       14.39724403, 14.76677805, 16.99122557, 16.3936807 , 13.20479055,\n",
       "       15.00760297, 15.47310419, 13.79532683, 17.10668219, 13.26777019,\n",
       "        8.98790431, 13.47073601, 11.09470599, 12.67314821, 18.51932499,\n",
       "       13.87260877, 13.84396805, 18.3117389 , 16.425329  ,  7.77932378,\n",
       "       13.41241611, 16.07335367, 16.34488925, 14.2569465 , 15.08209155,\n",
       "       14.44671619, 15.73207291, 14.88592666, 16.65080747,  7.90302865,\n",
       "       12.62003803, 14.9717448 , 18.15837062, 12.35588954, 16.45579152,\n",
       "       15.04607784, 13.079622  , 18.48123736, 15.58823688, 12.21523444,\n",
       "       16.86335061, 14.9826957 , 16.26049184, 15.39343389, 18.2772758 ,\n",
       "       15.36219452, 17.57424565, 18.16103204, 11.44419535, 15.55225471,\n",
       "       15.45001925, 15.08973772, 15.22263879, 16.18483912, 17.10744666,\n",
       "       19.49043809, 15.1861448 , 15.5753169 , 15.70383616, 12.10179601])"
      ]
     },
     "execution_count": 32,
     "metadata": {},
     "output_type": "execute_result"
    }
   ],
   "source": [
    "rv = stats.norm(loc=mu, scale=sigma)\n",
    "rv.rvs(size=size)"
   ]
  },
  {
   "cell_type": "markdown",
   "metadata": {
    "hidden": true
   },
   "source": [
    "The **mean** of our probability density function (PDF) affects where it is centered on the x-axis. This is the `loc` parameter in the `stats` module.\n",
    "\n",
    "The two plots below have the same shape, but different centers."
   ]
  },
  {
   "cell_type": "code",
   "execution_count": 33,
   "metadata": {
    "ExecuteTime": {
     "end_time": "2021-10-08T21:00:06.344040Z",
     "start_time": "2021-10-08T21:00:06.204565Z"
    },
    "hidden": true
   },
   "outputs": [
    {
     "data": {
      "text/plain": [
       "Text(0.5, 1.0, 'Two distributions differing in mean')"
      ]
     },
     "execution_count": 33,
     "metadata": {},
     "output_type": "execute_result"
    },
    {
     "data": {
      "image/png": "[encoded data removed]",
      "text/plain": [
       "<Figure size 432x288 with 1 Axes>"
      ]
     },
     "metadata": {
      "needs_background": "light"
     },
     "output_type": "display_data"
    }
   ],
   "source": [
    "# Plotting the probability density function for continuous data\n",
    "fig, ax = plt.subplots()\n",
    "\n",
    "# Distribution with zero mean\n",
    "mean = 0\n",
    "\n",
    "# Calculate the percentile for x axis using stats.norm.ppf()\n",
    "z_curve = np.linspace(stats.norm(mean, 1).ppf(0.01),\n",
    "                      stats.norm(mean, 1).ppf(0.99), \n",
    "                      100)\n",
    "\n",
    "# Calculate the density values using stats.norm.pdf() for every percentile position\n",
    "# Plot the distribution in red\n",
    "ax.plot(z_curve, \n",
    "        stats.norm(mean, 1).pdf(z_curve),\n",
    "        'r-', lw=5, alpha=0.6, label='z_curve')\n",
    "\n",
    "# Distribution with mean value = 1\n",
    "mean = 1\n",
    "\n",
    "# Calculate the percentile for x axis using stats.norm.ppf()\n",
    "z_curve = np.linspace(stats.norm(mean, 1).ppf(0.01),\n",
    "                      stats.norm(mean, 1).ppf(0.99), \n",
    "                      100)\n",
    "\n",
    "# Calculate the density values using stats.norm.pdf() for every percentile position\n",
    "# Plot the distribution in blue\n",
    "ax.plot(z_curve, \n",
    "        stats.norm(mean, 1).pdf(z_curve),\n",
    "        'b-', lw=5, alpha=0.6, label='norm pdf')\n",
    "\n",
    "ax.set_title(\"Two distributions differing in mean\")"
   ]
  },
  {
   "cell_type": "markdown",
   "metadata": {
    "hidden": true
   },
   "source": [
    "The **variance** of our plots describes how closely the points are gathered around the mean. Low variance means tight and skinny, high variance short and wide. This is the `scale` parameter in the `stats` module.\n",
    "\n",
    "The two plots below have the same mean, but different variance:"
   ]
  },
  {
   "cell_type": "code",
   "execution_count": 34,
   "metadata": {
    "ExecuteTime": {
     "end_time": "2021-10-08T21:00:06.588631Z",
     "start_time": "2021-10-08T21:00:06.469311Z"
    },
    "hidden": true
   },
   "outputs": [
    {
     "data": {
      "text/plain": [
       "Text(0.5, 1.0, 'Two distributions differing in variance')"
      ]
     },
     "execution_count": 34,
     "metadata": {},
     "output_type": "execute_result"
    },
    {
     "data": {
      "image/png": "[encoded data removed]",
      "text/plain": [
       "<Figure size 432x288 with 1 Axes>"
      ]
     },
     "metadata": {
      "needs_background": "light"
     },
     "output_type": "display_data"
    }
   ],
   "source": [
    "# Create 2 normal distributions with same mean, but different sigma/scale\n",
    "fig, ax = plt.subplots()\n",
    "\n",
    "mean = 1\n",
    "std = 1\n",
    "z_curve = np.linspace(stats.norm(mean, std).ppf(0.01),\n",
    "                      stats.norm(mean, std).ppf(0.99), \n",
    "                      100)\n",
    "\n",
    "ax.plot(z_curve, stats.norm(mean, std).pdf(z_curve),\n",
    "        'r-', lw=5, alpha=0.6, label='z_curve')\n",
    "\n",
    "mean = 1\n",
    "std = 3\n",
    "z_curve = np.linspace(stats.norm(mean, std).ppf(0.01),\n",
    "                      stats.norm(mean, std).ppf(0.99), \n",
    "                      100)\n",
    "\n",
    "ax.plot(z_curve, stats.norm(mean, std).pdf(z_curve),\n",
    "        'b-', lw=5, alpha=0.6, label='norm pdf')\n",
    "\n",
    "ax.set_title(\"Two distributions differing in variance\")"
   ]
  },
  {
   "cell_type": "markdown",
   "metadata": {
    "heading_collapsed": true,
    "hidden": true
   },
   "source": [
    "## Some Things to Be Aware Of"
   ]
  },
  {
   "cell_type": "markdown",
   "metadata": {
    "hidden": true
   },
   "source": [
    "- For continuous random variables, obtaining probabilities for observing a specific outcome is not possible \n",
    "- Be careful with interpretation of PDF\n",
    "\n",
    "We can use the CDF to learn the probability that a variable will be less than or equal to a given value.\n",
    "\n",
    "Typically, you'll see something like this equation associated with the CDF:\n",
    "\n",
    "$$F(x) = P(X\\leq x)$$"
   ]
  },
  {
   "cell_type": "markdown",
   "metadata": {},
   "source": [
    "###  Code with Python:\n",
    "\n",
    "Let's use the ```scipy.stats``` module to calculate the cumulative density for both discrete and continuous distributions.\n",
    "\n",
    "For discrete distributions, let's try to calculate the probability of the **binomial** distribution for the number of successes equal or less than 8 successes out of 20 trials.\n",
    "\n",
    "$$P(x \\leq 8)$$"
   ]
  },
  {
   "cell_type": "code",
   "execution_count": 35,
   "metadata": {},
   "outputs": [],
   "source": [
    "# Fair trial - chances of success and failure are equal\n",
    "p = .5"
   ]
  },
  {
   "cell_type": "code",
   "execution_count": 36,
   "metadata": {
    "ExecuteTime": {
     "end_time": "2021-10-08T21:00:07.840276Z",
     "start_time": "2021-10-08T21:00:07.836086Z"
    }
   },
   "outputs": [
    {
     "data": {
      "text/plain": [
       "0.25172233581542974"
      ]
     },
     "execution_count": 36,
     "metadata": {},
     "output_type": "execute_result"
    }
   ],
   "source": [
    "# Create the random discrete value for the number of successes\n",
    "k = 8\n",
    "n_trials = 20\n",
    "# Calculate the probability for x equal or less than 8\n",
    "stats.binom(n=n_trials, p=p).cdf(k)"
   ]
  },
  {
   "cell_type": "code",
   "execution_count": 37,
   "metadata": {},
   "outputs": [
    {
     "data": {
      "text/plain": [
       "0.25172233581542974"
      ]
     },
     "execution_count": 37,
     "metadata": {},
     "output_type": "execute_result"
    }
   ],
   "source": [
    "stats.binom.cdf(k=k, n=n_trials, p=p)"
   ]
  },
  {
   "cell_type": "code",
   "execution_count": 38,
   "metadata": {},
   "outputs": [
    {
     "data": {
      "image/png": "[encoded data removed]",
      "text/plain": [
       "<Figure size 576x432 with 1 Axes>"
      ]
     },
     "metadata": {
      "needs_background": "light"
     },
     "output_type": "display_data"
    }
   ],
   "source": [
    "# Visualizing this!\n",
    "rv = stats.binom(n=n_trials, p=p)\n",
    "\n",
    "nums = range(0, 21)\n",
    "\n",
    "probs = []\n",
    "for num in nums:\n",
    "    probs.append(rv.pmf(k=num))\n",
    "\n",
    "cumulative_probs = []\n",
    "for num in nums:\n",
    "    cumulative_probs.append(rv.cdf(num))\n",
    "\n",
    "plt.figure(figsize=(8, 6))\n",
    "plt.bar(nums, probs,\n",
    "        color=['green' if n <= 8 else 'blue' for n in nums])\n",
    "\n",
    "plt.plot(nums, cumulative_probs, color='orange',\n",
    "         label='Binomial Cumulative Distribution')\n",
    "\n",
    "plt.vlines(x=k, ymin=0, ymax=cumulative_probs[8], color='red',\n",
    "           label='K=8')\n",
    "plt.hlines(y=rv.cdf(k), xmin=0, xmax=k, color='red')\n",
    "\n",
    "plt.xlabel('Number of Successes')\n",
    "plt.xticks(ticks=nums)\n",
    "plt.legend()\n",
    "plt.show()"
   ]
  },
  {
   "cell_type": "markdown",
   "metadata": {},
   "source": [
    "For continuous distributions, we can calculate the probability of the **normal** distribution for a random value of x equal or less than 18.\n",
    "\n",
    "$$P(x \\leq 18)$$"
   ]
  },
  {
   "cell_type": "code",
   "execution_count": 39,
   "metadata": {},
   "outputs": [],
   "source": [
    "# Use the above defined parameters!\n",
    "# mean of the data\n",
    "mu = 15\n",
    "# standard deviation of the data\n",
    "sigma = 2.5"
   ]
  },
  {
   "cell_type": "code",
   "execution_count": 40,
   "metadata": {
    "ExecuteTime": {
     "end_time": "2021-10-08T21:00:08.157104Z",
     "start_time": "2021-10-08T21:00:08.152825Z"
    }
   },
   "outputs": [
    {
     "data": {
      "text/plain": [
       "0.8849303297782918"
      ]
     },
     "execution_count": 40,
     "metadata": {},
     "output_type": "execute_result"
    }
   ],
   "source": [
    "# Create the random x value for calculation\n",
    "x=18\n",
    "# Calculate the probability for x equal or less than 18\n",
    "stats.norm(loc=mu, scale=sigma).cdf(x)"
   ]
  },
  {
   "cell_type": "code",
   "execution_count": 41,
   "metadata": {},
   "outputs": [
    {
     "data": {
      "text/plain": [
       "0.8849303297782918"
      ]
     },
     "execution_count": 41,
     "metadata": {},
     "output_type": "execute_result"
    }
   ],
   "source": [
    "stats.norm.cdf(x, loc=mu, scale=sigma)"
   ]
  },
  {
   "cell_type": "code",
   "execution_count": 42,
   "metadata": {},
   "outputs": [
    {
     "data": {
      "image/png": "[encoded data removed]",
      "text/plain": [
       "<Figure size 576x432 with 1 Axes>"
      ]
     },
     "metadata": {
      "needs_background": "light"
     },
     "output_type": "display_data"
    }
   ],
   "source": [
    "# Visualizing this!\n",
    "rv = stats.norm(loc=mu, scale=sigma)\n",
    "# Don't worry about this numpy bit, it's to help visualize\n",
    "z_curve = np.linspace(rv.ppf(0.01), rv.ppf(0.99), 100)\n",
    "    \n",
    "plt.figure(figsize=(8,6))\n",
    "\n",
    "plt.plot(z_curve, rv.pdf(z_curve))\n",
    "plt.plot(z_curve, rv.cdf(z_curve), label='Normal Cumulative Distribution')\n",
    "\n",
    "plt.fill_between(z_curve, rv.pdf(z_curve), where=z_curve < 18, color='green')\n",
    "\n",
    "\n",
    "plt.vlines(x=x, ymin=0, ymax=rv.cdf(x), color='red', \n",
    "           label='x=18')\n",
    "plt.hlines(y=rv.cdf(x), xmin=z_curve[0], xmax=x, color='red')\n",
    "\n",
    "plt.legend();"
   ]
  },
  {
   "cell_type": "markdown",
   "metadata": {},
   "source": [
    "Note: the ```cdf``` function by default return the probability of the left hand tail of the distribution. If you are interested to calculate the right hand tail probability, you can simply subtract the probability of the left tail from 1.\n",
    "\n",
    "$$P(x>18) = 1 - P(x \\leq 18)$$\n"
   ]
  },
  {
   "cell_type": "markdown",
   "metadata": {
    "heading_collapsed": true,
    "hidden": true
   },
   "source": [
    "## Example: Using CDF & comparison to PDF"
   ]
  },
  {
   "cell_type": "markdown",
   "metadata": {
    "hidden": true
   },
   "source": [
    "Consider the following normal distributions of heights.\n",
    "\n",
    "The PDF and the CDF look like:\n"
   ]
  },
  {
   "cell_type": "code",
   "execution_count": 43,
   "metadata": {
    "ExecuteTime": {
     "end_time": "2021-10-08T21:00:09.746527Z",
     "start_time": "2021-10-08T21:00:08.932952Z"
    },
    "hidden": true
   },
   "outputs": [
    {
     "data": {
      "text/plain": [
       "Text(0.5, 1.0, 'CDF of Height in the US')"
      ]
     },
     "execution_count": 43,
     "metadata": {},
     "output_type": "execute_result"
    },
    {
     "data": {
      "image/png": "[encoded data removed]",
      "text/plain": [
       "<Figure size 720x360 with 2 Axes>"
      ]
     },
     "metadata": {
      "needs_background": "light"
     },
     "output_type": "display_data"
    }
   ],
   "source": [
    "# Create a fake dataset with mean = 67, sigma = 4, and N = 1000\n",
    "r = sorted(stats.norm.rvs(loc=67, scale=4, size=1000))\n",
    "\n",
    "# Calculate the CDF using stats.norm.cdf()\n",
    "r_cdf = stats.norm.cdf(r, loc=67, scale=4)\n",
    "\n",
    "# Plot the PDF and CDF side-by-side\n",
    "fig, (ax1, ax2) = plt.subplots(1, 2, figsize=(10, 5))\n",
    "sns.kdeplot(r, ax=ax1, shade=True)\n",
    "ax1.set_title('PDF of Height in US')\n",
    "\n",
    "ax2.plot(r, r_cdf, color='g')\n",
    "ax2.set_title('CDF of Height in the US')"
   ]
  },
  {
   "cell_type": "markdown",
   "metadata": {
    "hidden": true
   },
   "source": [
    "If we provide `numpy` with the underlying parameters of our distribution, we can calculate:"
   ]
  },
  {
   "cell_type": "code",
   "execution_count": 44,
   "metadata": {
    "ExecuteTime": {
     "end_time": "2021-10-08T21:00:09.751397Z",
     "start_time": "2021-10-08T21:00:09.748388Z"
    },
    "hidden": true
   },
   "outputs": [
    {
     "name": "stdout",
     "output_type": "stream",
     "text": [
      "The probability density at 73 is 0.9331927987311419\n"
     ]
    }
   ],
   "source": [
    "# the probability that a value falls below a specified value\n",
    "r = stats.norm(67, 4)\n",
    "print(f'The probability density at 73 is {r.cdf(73)}')"
   ]
  },
  {
   "cell_type": "code",
   "execution_count": 45,
   "metadata": {
    "ExecuteTime": {
     "end_time": "2021-10-08T21:00:09.756558Z",
     "start_time": "2021-10-08T21:00:09.753422Z"
    },
    "hidden": true
   },
   "outputs": [
    {
     "name": "stdout",
     "output_type": "stream",
     "text": [
      "Probability between the range 67 to 75 is 0.4772498680518208\n"
     ]
    }
   ],
   "source": [
    "# the probability that a value falls between two specified values\n",
    "r = stats.norm(67, 4)\n",
    "print(f'Probability between the range 67 to 75 is {r.cdf(75) - r.cdf(67)}')"
   ]
  },
  {
   "cell_type": "markdown",
   "metadata": {
    "hidden": true
   },
   "source": [
    "We can also calculate the value associated with a specfic percentile:"
   ]
  },
  {
   "cell_type": "code",
   "execution_count": 46,
   "metadata": {
    "ExecuteTime": {
     "end_time": "2021-10-08T21:00:09.760204Z",
     "start_time": "2021-10-08T21:00:09.758011Z"
    },
    "hidden": true
   },
   "outputs": [
    {
     "name": "stdout",
     "output_type": "stream",
     "text": [
      "The 95th percentile: 73.5794145078059\n"
     ]
    }
   ],
   "source": [
    "# the 95th percentile\n",
    "print(f'The 95th percentile: {r.ppf(0.95)}')"
   ]
  },
  {
   "cell_type": "markdown",
   "metadata": {
    "heading_collapsed": true
   },
   "source": [
    "# Exercises"
   ]
  },
  {
   "cell_type": "markdown",
   "metadata": {
    "heading_collapsed": true,
    "hidden": true
   },
   "source": [
    "## Order Totals CDF & PDF"
   ]
  },
  {
   "cell_type": "markdown",
   "metadata": {
    "hidden": true
   },
   "source": [
    "Imagine that an online clothing business gets orders with totals that are normally distributed with an average of \\\\$95 and a standard deviation of \\\\$18. **Graph the PDF and CDF** for the orders for this business. "
   ]
  },
  {
   "cell_type": "code",
   "execution_count": 47,
   "metadata": {
    "ExecuteTime": {
     "end_time": "2021-10-08T21:00:10.282262Z",
     "start_time": "2021-10-08T21:00:10.280216Z"
    },
    "hidden": true
   },
   "outputs": [],
   "source": [
    "# Your code here\n"
   ]
  },
  {
   "cell_type": "markdown",
   "metadata": {},
   "source": [
    "<details>\n",
    "    <summary>Answer</summary>\n",
    "        <code>\n",
    "        r = sorted(stats.norm.rvs(loc=95, scale=18, size=1000))\n",
    "        r_cdf = stats.norm.cdf(r, loc=95, scale=18)\n",
    "        fig, (ax1, ax2) = plt.subplots(1, 2, figsize=(10, 5))\n",
    "        sns.kdeplot(r, ax=ax1, shade=True)\n",
    "        ax1.set_title('PDF of Revenue') \n",
    "        ax2.plot(r, r_cdf, color='g')\n",
    "        ax2.set_title('CDF of Revenue')\n",
    "        </code>\n",
    "</details>"
   ]
  },
  {
   "cell_type": "markdown",
   "metadata": {
    "heading_collapsed": true,
    "hidden": true
   },
   "source": [
    "## Order Totals Observations"
   ]
  },
  {
   "cell_type": "markdown",
   "metadata": {
    "hidden": true
   },
   "source": [
    "After graphing, **write 1-3 observations** about the distributions of order totals based on these graphs."
   ]
  },
  {
   "cell_type": "markdown",
   "metadata": {
    "hidden": true
   },
   "source": [
    "**Your Observations**\n",
    "\n",
    "Observation 1: \n",
    "\n",
    "Observation 2: \n",
    "\n",
    "Observation 3:\n"
   ]
  },
  {
   "cell_type": "markdown",
   "metadata": {},
   "source": [
    "## How to Describe Distributions: Center, Spread and Shape\n",
    "\n",
    "The **center** refers loosely to the middle-values of a distribution, and is measured more precisely by notions like the mean, the median, and the mode.\n",
    "\n",
    "The **spread** refers loosely to how far away the more extreme values are from the center, and is measured by some value showing variation - more precisely by the standard deviation, which is effectively a measure of the average distance away from the mean.\n",
    "\n",
    "![different spread representations](images/examplesOfSpread.jpg)\n",
    "\n",
    "The **shape** refers loosely how the data shows up when visualized, more specifically capturing details like symmetry or skew, as well as the number of peaks in the distribution.\n",
    "\n",
    "![different distribution shapes](images/shapesOfDistributions.jpg)\n",
    "\n",
    "Note that sometimes the center of your distribution is harder to capture precisely, if the shape is skewed:\n",
    "\n",
    "![examples of skewed distributions](images/order_of_mean_median_mode.png)\n",
    "\n",
    "[Image Source for the images in this cell](http://mathcenter.oxford.emory.edu/site/math117/shapeCenterAndSpread/)"
   ]
  },
  {
   "cell_type": "markdown",
   "metadata": {
    "heading_collapsed": true
   },
   "source": [
    "# Level Up: Details on Expected Value and Variance"
   ]
  },
  {
   "cell_type": "markdown",
   "metadata": {
    "heading_collapsed": true,
    "hidden": true
   },
   "source": [
    "## For PMF - Discrete Values"
   ]
  },
  {
   "cell_type": "markdown",
   "metadata": {
    "heading_collapsed": true,
    "hidden": true
   },
   "source": [
    "### Expected Value/Mean"
   ]
  },
  {
   "cell_type": "markdown",
   "metadata": {
    "hidden": true
   },
   "source": [
    "The expected value, or the mean, describes the 'center' of the distribution (you may hear this called the first moment).  The 'center' refers loosely to the middle-values of a distribution, and is measured more precisely by notions like the mean, the median, and the mode.\n",
    "\n",
    "For a discrete distribution, working from the vantage point of a collected sample of n data points:\n",
    "\n",
    "mean = $\\Large\\mu = \\frac{\\Sigma^n_{i = 1}x_i}{n}$\n",
    "\n",
    "If we are working from the vantage point of known probabilities, the mean is referred to as the expected value. The expected value of a discrete distribution is the weighted sum of all values of x, where the weight is their probability.\n",
    " \n",
    "The expected value of the Lotto example is:\n",
    "${\\displaystyle \\operatorname {E} [X]= \\Sigma^n_{i=1}p(x_i)x_i}$"
   ]
  },
  {
   "cell_type": "markdown",
   "metadata": {
    "heading_collapsed": true,
    "hidden": true
   },
   "source": [
    "### Variance/Standard Deviation"
   ]
  },
  {
   "cell_type": "markdown",
   "metadata": {
    "hidden": true
   },
   "source": [
    "Variance describes the spread of the data (it is also referred to as the second moment).  The 'spread' refers loosely to how far away the more extreme values are from the center.\n",
    "\n",
    "Standard deviation is the square root of variance, and effectively measures the *average distance away from the mean*.\n",
    "\n",
    "From the standpoint of a sample, the variance of a discrete distribution of n data points is:\n",
    "\n",
    "std = $\\Large\\sigma = \\sqrt{\\frac{\\Sigma^n_{i = 1}(x_i - \\mu)^2}{n}}$\n",
    "\n",
    "\n",
    "Variance is the expectation of the squared deviation of a random variable from its mean.\n"
   ]
  },
  {
   "cell_type": "markdown",
   "metadata": {
    "heading_collapsed": true
   },
   "source": [
    "# Level Up: CDF Use Cases"
   ]
  },
  {
   "cell_type": "markdown",
   "metadata": {
    "hidden": true
   },
   "source": [
    "You might look at the CDF and wonder if it's a shadow of my beloved histogram. But there are some good use cases for this way of visualizing the CDF"
   ]
  },
  {
   "cell_type": "code",
   "execution_count": 48,
   "metadata": {
    "ExecuteTime": {
     "end_time": "2021-10-08T21:00:13.628294Z",
     "start_time": "2021-10-08T21:00:13.624664Z"
    },
    "hidden": true
   },
   "outputs": [
    {
     "data": {
      "text/plain": [
       "(100,)"
      ]
     },
     "execution_count": 48,
     "metadata": {},
     "output_type": "execute_result"
    }
   ],
   "source": [
    "# First let's define some data\n",
    "domain_x = np.linspace(-1,1,100)\n",
    "norm_dist = stats.norm.rvs(0,0.3,domain_x.shape)\n",
    "norm_dist.shape"
   ]
  },
  {
   "cell_type": "markdown",
   "metadata": {
    "heading_collapsed": true,
    "hidden": true
   },
   "source": [
    "## Quickly identify key values"
   ]
  },
  {
   "cell_type": "markdown",
   "metadata": {
    "hidden": true
   },
   "source": [
    "Finding features like the median, minimum, maximum, and quartiles are easy to read"
   ]
  },
  {
   "cell_type": "code",
   "execution_count": 49,
   "metadata": {
    "ExecuteTime": {
     "end_time": "2021-10-08T21:00:14.331413Z",
     "start_time": "2021-10-08T21:00:14.111518Z"
    },
    "hidden": true
   },
   "outputs": [
    {
     "data": {
      "text/plain": [
       "<matplotlib.collections.LineCollection at 0x7f7aaf876250>"
      ]
     },
     "execution_count": 49,
     "metadata": {},
     "output_type": "execute_result"
    },
    {
     "data": {
      "image/png": "[encoded data removed]",
      "text/plain": [
       "<Figure size 864x288 with 2 Axes>"
      ]
     },
     "metadata": {
      "needs_background": "light"
     },
     "output_type": "display_data"
    }
   ],
   "source": [
    "f,(ax_pdf,ax_cdf) = plt.subplots(nrows=1,ncols=2,figsize=(12,4))\n",
    "\n",
    "###### Histogram (PDF)\n",
    "ax_pdf = sns.histplot(x=norm_dist, ax=ax_pdf, alpha=0.4)\n",
    "# You can also see the PDF if you want\n",
    "# ax_pdf = sns.kdeplot(x=out, cumulative=False, ax=ax_pdf)\n",
    "\n",
    "# Median line\n",
    "ax_pdf.vlines(\n",
    "    x=np.median(norm_dist),\n",
    "    ymin=0,\n",
    "    ymax=20,\n",
    "    linestyles='--',\n",
    "    color='red'      \n",
    ")\n",
    "# 25th-percentile line\n",
    "ax_pdf.vlines(\n",
    "    x=np.quantile(norm_dist, 0.25),\n",
    "    ymin=0,\n",
    "    ymax=20,\n",
    "    linestyles='--',\n",
    "    color='purple'      \n",
    ")\n",
    "# 75th-percentile line\n",
    "ax_pdf.vlines(\n",
    "    x=np.quantile(norm_dist, 0.75),\n",
    "    ymin=0,\n",
    "    ymax=20,\n",
    "    linestyles='--',\n",
    "    color='purple'      \n",
    ")\n",
    "\n",
    "###### CDF \n",
    "ax_cdf = sns.kdeplot(x=norm_dist, cumulative=True, ax=ax_cdf)\n",
    "\n",
    "# Median line\n",
    "ax_cdf.hlines(\n",
    "    y=0.5,\n",
    "    xmin=-1,\n",
    "    xmax=1,\n",
    "    linestyles='--',\n",
    "    color='red'\n",
    ")\n",
    "# 25th-percentile line\n",
    "ax_cdf.hlines(\n",
    "    y=0.25,\n",
    "    xmin=-1,\n",
    "    xmax=1,\n",
    "    linestyles='--',\n",
    "    color='purple'\n",
    ")\n",
    "# 75th-percentile line\n",
    "ax_cdf.hlines(\n",
    "    y=0.75,\n",
    "    xmin=-1,\n",
    "    xmax=1,\n",
    "    linestyles='--',\n",
    "    color='purple'\n",
    ")"
   ]
  },
  {
   "cell_type": "markdown",
   "metadata": {
    "heading_collapsed": true,
    "hidden": true
   },
   "source": [
    "## Outliers can be more obvious"
   ]
  },
  {
   "cell_type": "markdown",
   "metadata": {
    "hidden": true
   },
   "source": [
    "Visualizations with outliers can be a little tricky. Take a look at your histogram. With outliers, it might be identified but can distort our focus."
   ]
  },
  {
   "cell_type": "code",
   "execution_count": 50,
   "metadata": {
    "ExecuteTime": {
     "end_time": "2021-10-08T21:00:14.672833Z",
     "start_time": "2021-10-08T21:00:14.668761Z"
    },
    "hidden": true
   },
   "outputs": [
    {
     "name": "stdout",
     "output_type": "stream",
     "text": [
      "The range of norm_dist: \n",
      "(-0.9959373491263327, 1.050208638047146)\n",
      "\n",
      "The range of norm_with_outliers: \n",
      "(-0.9959373491263327, 6.505574195346401)\n",
      "\n"
     ]
    }
   ],
   "source": [
    "# Add an outlier\n",
    "norm_with_outliers = np.append(norm_dist, 5*np.abs(np.random.randn(5)))\n",
    "print(f'The range of norm_dist: \\n{norm_dist.min(), norm_dist.max()}\\n')\n",
    "print(f'The range of norm_with_outliers: \\n{norm_with_outliers.min(), norm_with_outliers.max()}\\n')"
   ]
  },
  {
   "cell_type": "code",
   "execution_count": 51,
   "metadata": {
    "ExecuteTime": {
     "end_time": "2021-10-08T21:00:14.989799Z",
     "start_time": "2021-10-08T21:00:14.696050Z"
    },
    "hidden": true
   },
   "outputs": [
    {
     "data": {
      "text/plain": [
       "(-1.3710129263499695, 1.0)"
      ]
     },
     "execution_count": 51,
     "metadata": {},
     "output_type": "execute_result"
    },
    {
     "data": {
      "image/png": "[encoded data removed]",
      "text/plain": [
       "<Figure size 864x288 with 2 Axes>"
      ]
     },
     "metadata": {
      "needs_background": "light"
     },
     "output_type": "display_data"
    }
   ],
   "source": [
    "f,(ax0,ax1) = plt.subplots(1,2, figsize=(12,4))\n",
    "\n",
    "# Showing the outliers\n",
    "sns.histplot(x=norm_with_outliers, alpha=0.4, ax=ax0)\n",
    "\n",
    "# Ignoring outliers\n",
    "ax1=sns.histplot(x=norm_with_outliers, alpha=0.4, ax=ax1)\n",
    "ax1.set_xlim(right=1.)"
   ]
  },
  {
   "cell_type": "markdown",
   "metadata": {
    "hidden": true
   },
   "source": [
    "In a worst-case, you might not notice the outliers because it gets swallowed up due by a bin because of the number of bins or bin width parameter"
   ]
  },
  {
   "cell_type": "markdown",
   "metadata": {
    "hidden": true
   },
   "source": [
    "Now using a CDF, it can be a lot easier to identify when there is an extreme value even if we scale the $x$-axis."
   ]
  },
  {
   "cell_type": "code",
   "execution_count": 52,
   "metadata": {
    "ExecuteTime": {
     "end_time": "2021-10-08T21:00:15.423689Z",
     "start_time": "2021-10-08T21:00:15.203172Z"
    },
    "hidden": true
   },
   "outputs": [
    {
     "data": {
      "text/plain": [
       "(-2.616727646745457, 1.0)"
      ]
     },
     "execution_count": 52,
     "metadata": {},
     "output_type": "execute_result"
    },
    {
     "data": {
      "image/png": "[encoded data removed]",
      "text/plain": [
       "<Figure size 864x288 with 2 Axes>"
      ]
     },
     "metadata": {
      "needs_background": "light"
     },
     "output_type": "display_data"
    }
   ],
   "source": [
    "f,(ax0,ax1) = plt.subplots(1,2, figsize=(12,4))\n",
    "\n",
    "# Showing the outliers\n",
    "ax0 = sns.kdeplot(x=norm_with_outliers, cumulative=True, ax=ax0)\n",
    "ax0.hlines(1,xmin=-1,xmax=3,color='red',linestyles='--')\n",
    "\n",
    "# Ignoring outliers\n",
    "ax1 = sns.kdeplot(x=norm_with_outliers, cumulative=True, ax=ax1)\n",
    "ax1.hlines(1,xmin=-1,xmax=1,color='red',linestyles='--')\n",
    "ax1.set_xlim(right=1.)"
   ]
  },
  {
   "cell_type": "markdown",
   "metadata": {
    "heading_collapsed": true,
    "hidden": true
   },
   "source": [
    "## Identifying clusters"
   ]
  },
  {
   "cell_type": "markdown",
   "metadata": {
    "hidden": true
   },
   "source": [
    "Typically not hard with a histogram. But you can also see it in CDFs!"
   ]
  },
  {
   "cell_type": "code",
   "execution_count": 53,
   "metadata": {
    "ExecuteTime": {
     "end_time": "2021-10-08T21:00:15.718993Z",
     "start_time": "2021-10-08T21:00:15.716159Z"
    },
    "hidden": true
   },
   "outputs": [],
   "source": [
    "# Create two sets of simulated data follow normal distribution\n",
    "domain_x = np.linspace(-1, 1, 100)\n",
    "norm_dist0 = stats.norm.rvs(0,0.3, domain_x.shape)\n",
    "norm_dist1 = stats.norm.rvs(2,0.2, domain_x.shape)\n",
    "\n",
    "# Combine the two datasets into one\n",
    "two_dist = np.append(norm_dist0, norm_dist1)"
   ]
  },
  {
   "cell_type": "code",
   "execution_count": 54,
   "metadata": {
    "ExecuteTime": {
     "end_time": "2021-10-08T21:00:16.443920Z",
     "start_time": "2021-10-08T21:00:15.747406Z"
    },
    "hidden": true
   },
   "outputs": [
    {
     "data": {
      "text/plain": [
       "(-1.0, 3.5)"
      ]
     },
     "execution_count": 54,
     "metadata": {},
     "output_type": "execute_result"
    },
    {
     "data": {
      "image/png": "[encoded data removed]",
      "text/plain": [
       "<Figure size 864x864 with 6 Axes>"
      ]
     },
     "metadata": {
      "needs_background": "light"
     },
     "output_type": "display_data"
    }
   ],
   "source": [
    "f,(ax0,ax1,ax2) = plt.subplots(3,2, figsize=(12,12))\n",
    "\n",
    "# Histogram\n",
    "ax=sns.histplot(x=norm_dist0, alpha=0.4, ax=ax0[0])\n",
    "ax.set_xlim(-1,3.5)\n",
    "ax=sns.histplot(x=norm_dist1, alpha=0.4, ax=ax1[0])\n",
    "ax.set_xlim(-1,3.5)\n",
    "ax=sns.histplot(x=two_dist, alpha=0.4, ax=ax2[0])\n",
    "ax.set_xlim(-1,3.5)\n",
    "\n",
    "# CDF\n",
    "ax=sns.kdeplot(x=norm_dist0, alpha=0.4, ax=ax0[1], cumulative=True)\n",
    "ax.set_xlim(-1,3.5)\n",
    "ax=sns.kdeplot(x=norm_dist1, alpha=0.4, ax=ax1[1], cumulative=True)\n",
    "ax.set_xlim(-1,3.5)\n",
    "ax=sns.kdeplot(x=two_dist, alpha=0.4, ax=ax2[1], cumulative=True)\n",
    "ax.set_xlim(-1,3.5)"
   ]
  },
  {
   "cell_type": "markdown",
   "metadata": {
    "heading_collapsed": true,
    "hidden": true
   },
   "source": [
    "## Relatively easy to view multiple distributions"
   ]
  },
  {
   "cell_type": "code",
   "execution_count": 55,
   "metadata": {
    "ExecuteTime": {
     "end_time": "2021-10-08T21:00:16.448471Z",
     "start_time": "2021-10-08T21:00:16.445562Z"
    },
    "hidden": true
   },
   "outputs": [],
   "source": [
    "# Craete three datasets that follow normal distribution\n",
    "norm_dist0 = stats.norm.rvs(0,0.3,domain_x.shape)\n",
    "norm_dist1 = stats.norm.rvs(0,0.2,domain_x.shape)\n",
    "norm_dist2 = stats.norm.rvs(0.3,0.2,domain_x.shape)"
   ]
  },
  {
   "cell_type": "code",
   "execution_count": 56,
   "metadata": {
    "ExecuteTime": {
     "end_time": "2021-10-08T21:00:16.806819Z",
     "start_time": "2021-10-08T21:00:16.450355Z"
    },
    "hidden": true
   },
   "outputs": [
    {
     "data": {
      "image/png": "[encoded data removed]",
      "text/plain": [
       "<Figure size 864x864 with 2 Axes>"
      ]
     },
     "metadata": {
      "needs_background": "light"
     },
     "output_type": "display_data"
    }
   ],
   "source": [
    "f,(ax0,ax1) = plt.subplots(2,1, figsize=(12,12))\n",
    "\n",
    "# Histogram\n",
    "ax=sns.histplot(x=norm_dist0, alpha=0.4, ax=ax0, color='red')\n",
    "ax=sns.histplot(x=norm_dist1, alpha=0.4, ax=ax0, color='yellow')\n",
    "ax=sns.histplot(x=norm_dist2, alpha=0.4, ax=ax0, color='blue')\n",
    "\n",
    "# CDF\n",
    "ax=sns.kdeplot(x=norm_dist0, alpha=0.4, ax=ax1, cumulative=True, color='red')\n",
    "ax=sns.kdeplot(x=norm_dist1, alpha=0.4, ax=ax1, cumulative=True, color='yellow')\n",
    "ax=sns.kdeplot(x=norm_dist2, alpha=0.4, ax=ax1, cumulative=True, color='blue')"
   ]
  },
  {
   "cell_type": "markdown",
   "metadata": {
    "heading_collapsed": true
   },
   "source": [
    "# Level Up: Skewness"
   ]
  },
  {
   "cell_type": "markdown",
   "metadata": {
    "hidden": true
   },
   "source": [
    "Probability distributions can have skew, meaning they have more mass further from the mean on one side of the distribution than another. A skew of zero is perfectly symmetrical about the mean.   \n",
    "\n",
    "![skew](images/skew.png)"
   ]
  },
  {
   "cell_type": "code",
   "execution_count": 57,
   "metadata": {
    "ExecuteTime": {
     "end_time": "2021-10-08T21:00:16.812366Z",
     "start_time": "2021-10-08T21:00:16.808630Z"
    },
    "hidden": true
   },
   "outputs": [
    {
     "name": "stdout",
     "output_type": "stream",
     "text": [
      "The skewness measure of z_curve: -0.03018474578293567\n"
     ]
    }
   ],
   "source": [
    "# We can check skewness with scipy\n",
    "z_curve = np.random.normal(0, 1, 1000)\n",
    "print(f'The skewness measure of z_curve: {stats.skew(z_curve)}')"
   ]
  },
  {
   "cell_type": "code",
   "execution_count": 58,
   "metadata": {},
   "outputs": [
    {
     "data": {
      "image/png": "[encoded data removed]",
      "text/plain": [
       "<Figure size 432x288 with 1 Axes>"
      ]
     },
     "metadata": {
      "needs_background": "light"
     },
     "output_type": "display_data"
    }
   ],
   "source": [
    "# Plotting the distribution\n",
    "fig, ax = plt.subplots(1, 1)\n",
    "ax.hist(z_curve, density=True, histtype='stepfilled', alpha=0.2)\n",
    "plt.show()"
   ]
  },
  {
   "cell_type": "code",
   "execution_count": 59,
   "metadata": {
    "ExecuteTime": {
     "end_time": "2021-10-08T21:00:16.818025Z",
     "start_time": "2021-10-08T21:00:16.814693Z"
    },
    "scrolled": true
   },
   "outputs": [
    {
     "name": "stdout",
     "output_type": "stream",
     "text": [
      "The skewness measure of chi^2 distribution: \n",
      "0.8486077591095806\n",
      "\n"
     ]
    }
   ],
   "source": [
    "# Check the skewness of a Chi Square Distribution\n",
    "chisquare = stats.chi2.rvs(df=10, size=500)\n",
    "print(f'The skewness measure of chi^2 distribution: \\n{stats.skew(chisquare)}\\n')"
   ]
  },
  {
   "cell_type": "code",
   "execution_count": 60,
   "metadata": {
    "ExecuteTime": {
     "end_time": "2021-10-08T21:00:16.976720Z",
     "start_time": "2021-10-08T21:00:16.820148Z"
    }
   },
   "outputs": [
    {
     "data": {
      "image/png": "[encoded data removed]",
      "text/plain": [
       "<Figure size 432x288 with 1 Axes>"
      ]
     },
     "metadata": {
      "needs_background": "light"
     },
     "output_type": "display_data"
    }
   ],
   "source": [
    "# Plotting the Chi Square distribution\n",
    "fig, ax = plt.subplots(1, 1)\n",
    "ax.hist(chisquare, density=True, histtype='stepfilled', alpha=0.2)\n",
    "plt.show()"
   ]
  },
  {
   "cell_type": "markdown",
   "metadata": {
    "heading_collapsed": true
   },
   "source": [
    "# Level Up: Kurtosis"
   ]
  },
  {
   "cell_type": "markdown",
   "metadata": {
    "hidden": true
   },
   "source": [
    "![kurtosis](images/kurtosis.png)"
   ]
  },
  {
   "cell_type": "code",
   "execution_count": 61,
   "metadata": {
    "ExecuteTime": {
     "end_time": "2021-10-08T21:00:17.382143Z",
     "start_time": "2021-10-08T21:00:17.379232Z"
    }
   },
   "outputs": [
    {
     "name": "stdout",
     "output_type": "stream",
     "text": [
      "The kurtosis measure of z_curve: -0.03221252251627682\n"
     ]
    }
   ],
   "source": [
    "# Check kurtosis with scipy\n",
    "print(f'The kurtosis measure of z_curve: {stats.kurtosis(z_curve)}')"
   ]
  },
  {
   "cell_type": "code",
   "execution_count": 62,
   "metadata": {
    "ExecuteTime": {
     "end_time": "2021-10-08T21:00:17.406828Z",
     "start_time": "2021-10-08T21:00:17.404056Z"
    }
   },
   "outputs": [
    {
     "name": "stdout",
     "output_type": "stream",
     "text": [
      "The kurtosis meausre of Chi^2 distribution: 0.9673006616490949\n"
     ]
    }
   ],
   "source": [
    "# Check kurtosis for Chi Square distribution\n",
    "print(f'The kurtosis meausre of Chi^2 distribution: {stats.kurtosis(chisquare)}')"
   ]
  }
 ],
 "metadata": {
  "hide_input": false,
  "kernelspec": {
   "display_name": "Python 3",
   "language": "python",
   "name": "python3"
  },
  "language_info": {
   "codemirror_mode": {
    "name": "ipython",
    "version": 3
   },
   "file_extension": ".py",
   "mimetype": "text/x-python",
   "name": "python",
   "nbconvert_exporter": "python",
   "pygments_lexer": "ipython3",
   "version": "3.8.5"
  },
  "latex_envs": {
   "LaTeX_envs_menu_present": true,
   "autoclose": false,
   "autocomplete": true,
   "bibliofile": "biblio.bib",
   "cite_by": "apalike",
   "current_citInitial": 1,
   "eqLabelWithNumbers": true,
   "eqNumInitial": 1,
   "hotkeys": {
    "equation": "Ctrl-E",
    "itemize": "Ctrl-I"
   },
   "labels_anchors": false,
   "latex_user_defs": false,
   "report_style_numbering": false,
   "user_envs_cfg": false
  },
  "nbTranslate": {
   "displayLangs": [
    "*"
   ],
   "hotkey": "alt-t",
   "langInMainMenu": true,
   "sourceLang": "en",
   "targetLang": "fr",
   "useGoogleTranslate": true
  },
  "toc": {
   "base_numbering": 1,
   "nav_menu": {},
   "number_sections": true,
   "sideBar": true,
   "skip_h1_title": false,
   "title_cell": "Table of Contents",
   "title_sidebar": "TOC",
   "toc_cell": true,
   "toc_position": {
    "height": "calc(100% - 180px)",
    "left": "10px",
    "top": "150px",
    "width": "219px"
   },
   "toc_section_display": true,
   "toc_window_display": false
  }
 },
 "nbformat": 4,
 "nbformat_minor": 4
}
