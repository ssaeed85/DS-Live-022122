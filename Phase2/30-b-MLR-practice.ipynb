{
 "cells": [
  {
   "cell_type": "markdown",
   "metadata": {},
   "source": [
    "# MLR Practice"
   ]
  },
  {
   "cell_type": "code",
   "execution_count": 1,
   "metadata": {
    "ExecuteTime": {
     "end_time": "2022-03-22T20:14:10.809627Z",
     "start_time": "2022-03-22T20:14:08.878901Z"
    }
   },
   "outputs": [],
   "source": [
    "import numpy as np\n",
    "import pandas as pd\n",
    "import seaborn as sns\n",
    "import statsmodels.api as sm\n",
    "import sklearn.metrics as metrics\n",
    "\n",
    "from matplotlib import pyplot as plt\n",
    "\n",
    "from sklearn.preprocessing import OneHotEncoder, StandardScaler\n",
    "from sklearn.linear_model import LinearRegression\n",
    "\n",
    "from scipy import stats as stats\n",
    "\n",
    "%matplotlib inline"
   ]
  },
  {
   "cell_type": "markdown",
   "metadata": {},
   "source": [
    "### Data\n",
    "\n",
    "Bike share data set.\n",
    "\n",
    "[More Info](https://archive.ics.uci.edu/ml/datasets/Bike+Sharing+Dataset)"
   ]
  },
  {
   "cell_type": "code",
   "execution_count": 3,
   "metadata": {
    "ExecuteTime": {
     "end_time": "2022-03-22T20:14:33.279981Z",
     "start_time": "2022-03-22T20:14:33.261977Z"
    }
   },
   "outputs": [],
   "source": [
    "df = pd.read_csv('./data/day.csv')"
   ]
  },
  {
   "cell_type": "code",
   "execution_count": 4,
   "metadata": {
    "ExecuteTime": {
     "end_time": "2022-03-22T20:14:34.271921Z",
     "start_time": "2022-03-22T20:14:34.262918Z"
    }
   },
   "outputs": [],
   "source": [
    "df.columns = [name.strip().lower() for name in df.columns]"
   ]
  },
  {
   "cell_type": "code",
   "execution_count": 5,
   "metadata": {
    "ExecuteTime": {
     "end_time": "2022-03-22T20:14:35.579192Z",
     "start_time": "2022-03-22T20:14:35.566189Z"
    }
   },
   "outputs": [
    {
     "data": {
      "text/html": [
       "<div>\n",
       "<style scoped>\n",
       "    .dataframe tbody tr th:only-of-type {\n",
       "        vertical-align: middle;\n",
       "    }\n",
       "\n",
       "    .dataframe tbody tr th {\n",
       "        vertical-align: top;\n",
       "    }\n",
       "\n",
       "    .dataframe thead th {\n",
       "        text-align: right;\n",
       "    }\n",
       "</style>\n",
       "<table border=\"1\" class=\"dataframe\">\n",
       "  <thead>\n",
       "    <tr style=\"text-align: right;\">\n",
       "      <th></th>\n",
       "      <th>instant</th>\n",
       "      <th>dteday</th>\n",
       "      <th>season</th>\n",
       "      <th>yr</th>\n",
       "      <th>mnth</th>\n",
       "      <th>holiday</th>\n",
       "      <th>weekday</th>\n",
       "      <th>workingday</th>\n",
       "      <th>weathersit</th>\n",
       "      <th>temp</th>\n",
       "      <th>atemp</th>\n",
       "      <th>hum</th>\n",
       "      <th>windspeed</th>\n",
       "      <th>casual</th>\n",
       "      <th>registered</th>\n",
       "      <th>cnt</th>\n",
       "    </tr>\n",
       "  </thead>\n",
       "  <tbody>\n",
       "    <tr>\n",
       "      <th>0</th>\n",
       "      <td>1</td>\n",
       "      <td>2011-01-01</td>\n",
       "      <td>1</td>\n",
       "      <td>0</td>\n",
       "      <td>1</td>\n",
       "      <td>0</td>\n",
       "      <td>6</td>\n",
       "      <td>0</td>\n",
       "      <td>2</td>\n",
       "      <td>0.344167</td>\n",
       "      <td>0.363625</td>\n",
       "      <td>0.805833</td>\n",
       "      <td>0.160446</td>\n",
       "      <td>331</td>\n",
       "      <td>654</td>\n",
       "      <td>985</td>\n",
       "    </tr>\n",
       "    <tr>\n",
       "      <th>1</th>\n",
       "      <td>2</td>\n",
       "      <td>2011-01-02</td>\n",
       "      <td>1</td>\n",
       "      <td>0</td>\n",
       "      <td>1</td>\n",
       "      <td>0</td>\n",
       "      <td>0</td>\n",
       "      <td>0</td>\n",
       "      <td>2</td>\n",
       "      <td>0.363478</td>\n",
       "      <td>0.353739</td>\n",
       "      <td>0.696087</td>\n",
       "      <td>0.248539</td>\n",
       "      <td>131</td>\n",
       "      <td>670</td>\n",
       "      <td>801</td>\n",
       "    </tr>\n",
       "    <tr>\n",
       "      <th>2</th>\n",
       "      <td>3</td>\n",
       "      <td>2011-01-03</td>\n",
       "      <td>1</td>\n",
       "      <td>0</td>\n",
       "      <td>1</td>\n",
       "      <td>0</td>\n",
       "      <td>1</td>\n",
       "      <td>1</td>\n",
       "      <td>1</td>\n",
       "      <td>0.196364</td>\n",
       "      <td>0.189405</td>\n",
       "      <td>0.437273</td>\n",
       "      <td>0.248309</td>\n",
       "      <td>120</td>\n",
       "      <td>1229</td>\n",
       "      <td>1349</td>\n",
       "    </tr>\n",
       "    <tr>\n",
       "      <th>3</th>\n",
       "      <td>4</td>\n",
       "      <td>2011-01-04</td>\n",
       "      <td>1</td>\n",
       "      <td>0</td>\n",
       "      <td>1</td>\n",
       "      <td>0</td>\n",
       "      <td>2</td>\n",
       "      <td>1</td>\n",
       "      <td>1</td>\n",
       "      <td>0.200000</td>\n",
       "      <td>0.212122</td>\n",
       "      <td>0.590435</td>\n",
       "      <td>0.160296</td>\n",
       "      <td>108</td>\n",
       "      <td>1454</td>\n",
       "      <td>1562</td>\n",
       "    </tr>\n",
       "    <tr>\n",
       "      <th>4</th>\n",
       "      <td>5</td>\n",
       "      <td>2011-01-05</td>\n",
       "      <td>1</td>\n",
       "      <td>0</td>\n",
       "      <td>1</td>\n",
       "      <td>0</td>\n",
       "      <td>3</td>\n",
       "      <td>1</td>\n",
       "      <td>1</td>\n",
       "      <td>0.226957</td>\n",
       "      <td>0.229270</td>\n",
       "      <td>0.436957</td>\n",
       "      <td>0.186900</td>\n",
       "      <td>82</td>\n",
       "      <td>1518</td>\n",
       "      <td>1600</td>\n",
       "    </tr>\n",
       "  </tbody>\n",
       "</table>\n",
       "</div>"
      ],
      "text/plain": [
       "   instant      dteday  season  yr  mnth  holiday  weekday  workingday  \\\n",
       "0        1  2011-01-01       1   0     1        0        6           0   \n",
       "1        2  2011-01-02       1   0     1        0        0           0   \n",
       "2        3  2011-01-03       1   0     1        0        1           1   \n",
       "3        4  2011-01-04       1   0     1        0        2           1   \n",
       "4        5  2011-01-05       1   0     1        0        3           1   \n",
       "\n",
       "   weathersit      temp     atemp       hum  windspeed  casual  registered  \\\n",
       "0           2  0.344167  0.363625  0.805833   0.160446     331         654   \n",
       "1           2  0.363478  0.353739  0.696087   0.248539     131         670   \n",
       "2           1  0.196364  0.189405  0.437273   0.248309     120        1229   \n",
       "3           1  0.200000  0.212122  0.590435   0.160296     108        1454   \n",
       "4           1  0.226957  0.229270  0.436957   0.186900      82        1518   \n",
       "\n",
       "    cnt  \n",
       "0   985  \n",
       "1   801  \n",
       "2  1349  \n",
       "3  1562  \n",
       "4  1600  "
      ]
     },
     "execution_count": 5,
     "metadata": {},
     "output_type": "execute_result"
    }
   ],
   "source": [
    "df.head()"
   ]
  },
  {
   "cell_type": "code",
   "execution_count": 23,
   "metadata": {
    "ExecuteTime": {
     "end_time": "2022-03-22T20:18:26.005031Z",
     "start_time": "2022-03-22T20:18:25.991028Z"
    }
   },
   "outputs": [
    {
     "name": "stdout",
     "output_type": "stream",
     "text": [
      "<class 'pandas.core.frame.DataFrame'>\n",
      "RangeIndex: 731 entries, 0 to 730\n",
      "Data columns (total 16 columns):\n",
      " #   Column      Non-Null Count  Dtype  \n",
      "---  ------      --------------  -----  \n",
      " 0   instant     731 non-null    int64  \n",
      " 1   dteday      731 non-null    object \n",
      " 2   season      731 non-null    int64  \n",
      " 3   yr          731 non-null    int64  \n",
      " 4   mnth        731 non-null    int64  \n",
      " 5   holiday     731 non-null    int64  \n",
      " 6   weekday     731 non-null    int64  \n",
      " 7   workingday  731 non-null    int64  \n",
      " 8   weathersit  731 non-null    int64  \n",
      " 9   temp        731 non-null    float64\n",
      " 10  atemp       731 non-null    float64\n",
      " 11  hum         731 non-null    float64\n",
      " 12  windspeed   731 non-null    float64\n",
      " 13  casual      731 non-null    int64  \n",
      " 14  registered  731 non-null    int64  \n",
      " 15  cnt         731 non-null    int64  \n",
      "dtypes: float64(4), int64(11), object(1)\n",
      "memory usage: 91.5+ KB\n"
     ]
    }
   ],
   "source": [
    "# Forces a show of non-null counts WITHOUT deprecating/truncating the table\n",
    "df.info(null_counts=True)"
   ]
  },
  {
   "cell_type": "code",
   "execution_count": 24,
   "metadata": {
    "ExecuteTime": {
     "end_time": "2022-03-22T20:18:27.432179Z",
     "start_time": "2022-03-22T20:18:27.392170Z"
    }
   },
   "outputs": [
    {
     "data": {
      "text/html": [
       "<div>\n",
       "<style scoped>\n",
       "    .dataframe tbody tr th:only-of-type {\n",
       "        vertical-align: middle;\n",
       "    }\n",
       "\n",
       "    .dataframe tbody tr th {\n",
       "        vertical-align: top;\n",
       "    }\n",
       "\n",
       "    .dataframe thead th {\n",
       "        text-align: right;\n",
       "    }\n",
       "</style>\n",
       "<table border=\"1\" class=\"dataframe\">\n",
       "  <thead>\n",
       "    <tr style=\"text-align: right;\">\n",
       "      <th></th>\n",
       "      <th>instant</th>\n",
       "      <th>season</th>\n",
       "      <th>yr</th>\n",
       "      <th>mnth</th>\n",
       "      <th>holiday</th>\n",
       "      <th>weekday</th>\n",
       "      <th>workingday</th>\n",
       "      <th>weathersit</th>\n",
       "      <th>temp</th>\n",
       "      <th>atemp</th>\n",
       "      <th>hum</th>\n",
       "      <th>windspeed</th>\n",
       "      <th>casual</th>\n",
       "      <th>registered</th>\n",
       "      <th>cnt</th>\n",
       "    </tr>\n",
       "  </thead>\n",
       "  <tbody>\n",
       "    <tr>\n",
       "      <th>count</th>\n",
       "      <td>731.000000</td>\n",
       "      <td>731.000000</td>\n",
       "      <td>731.000000</td>\n",
       "      <td>731.000000</td>\n",
       "      <td>731.000000</td>\n",
       "      <td>731.000000</td>\n",
       "      <td>731.000000</td>\n",
       "      <td>731.000000</td>\n",
       "      <td>731.000000</td>\n",
       "      <td>731.000000</td>\n",
       "      <td>731.000000</td>\n",
       "      <td>731.000000</td>\n",
       "      <td>731.000000</td>\n",
       "      <td>731.000000</td>\n",
       "      <td>731.000000</td>\n",
       "    </tr>\n",
       "    <tr>\n",
       "      <th>mean</th>\n",
       "      <td>366.000000</td>\n",
       "      <td>2.496580</td>\n",
       "      <td>0.500684</td>\n",
       "      <td>6.519836</td>\n",
       "      <td>0.028728</td>\n",
       "      <td>2.997264</td>\n",
       "      <td>0.683995</td>\n",
       "      <td>1.395349</td>\n",
       "      <td>0.495385</td>\n",
       "      <td>0.474354</td>\n",
       "      <td>0.627894</td>\n",
       "      <td>0.190486</td>\n",
       "      <td>848.176471</td>\n",
       "      <td>3656.172367</td>\n",
       "      <td>4504.348837</td>\n",
       "    </tr>\n",
       "    <tr>\n",
       "      <th>std</th>\n",
       "      <td>211.165812</td>\n",
       "      <td>1.110807</td>\n",
       "      <td>0.500342</td>\n",
       "      <td>3.451913</td>\n",
       "      <td>0.167155</td>\n",
       "      <td>2.004787</td>\n",
       "      <td>0.465233</td>\n",
       "      <td>0.544894</td>\n",
       "      <td>0.183051</td>\n",
       "      <td>0.162961</td>\n",
       "      <td>0.142429</td>\n",
       "      <td>0.077498</td>\n",
       "      <td>686.622488</td>\n",
       "      <td>1560.256377</td>\n",
       "      <td>1937.211452</td>\n",
       "    </tr>\n",
       "    <tr>\n",
       "      <th>min</th>\n",
       "      <td>1.000000</td>\n",
       "      <td>1.000000</td>\n",
       "      <td>0.000000</td>\n",
       "      <td>1.000000</td>\n",
       "      <td>0.000000</td>\n",
       "      <td>0.000000</td>\n",
       "      <td>0.000000</td>\n",
       "      <td>1.000000</td>\n",
       "      <td>0.059130</td>\n",
       "      <td>0.079070</td>\n",
       "      <td>0.000000</td>\n",
       "      <td>0.022392</td>\n",
       "      <td>2.000000</td>\n",
       "      <td>20.000000</td>\n",
       "      <td>22.000000</td>\n",
       "    </tr>\n",
       "    <tr>\n",
       "      <th>25%</th>\n",
       "      <td>183.500000</td>\n",
       "      <td>2.000000</td>\n",
       "      <td>0.000000</td>\n",
       "      <td>4.000000</td>\n",
       "      <td>0.000000</td>\n",
       "      <td>1.000000</td>\n",
       "      <td>0.000000</td>\n",
       "      <td>1.000000</td>\n",
       "      <td>0.337083</td>\n",
       "      <td>0.337842</td>\n",
       "      <td>0.520000</td>\n",
       "      <td>0.134950</td>\n",
       "      <td>315.500000</td>\n",
       "      <td>2497.000000</td>\n",
       "      <td>3152.000000</td>\n",
       "    </tr>\n",
       "    <tr>\n",
       "      <th>50%</th>\n",
       "      <td>366.000000</td>\n",
       "      <td>3.000000</td>\n",
       "      <td>1.000000</td>\n",
       "      <td>7.000000</td>\n",
       "      <td>0.000000</td>\n",
       "      <td>3.000000</td>\n",
       "      <td>1.000000</td>\n",
       "      <td>1.000000</td>\n",
       "      <td>0.498333</td>\n",
       "      <td>0.486733</td>\n",
       "      <td>0.626667</td>\n",
       "      <td>0.180975</td>\n",
       "      <td>713.000000</td>\n",
       "      <td>3662.000000</td>\n",
       "      <td>4548.000000</td>\n",
       "    </tr>\n",
       "    <tr>\n",
       "      <th>75%</th>\n",
       "      <td>548.500000</td>\n",
       "      <td>3.000000</td>\n",
       "      <td>1.000000</td>\n",
       "      <td>10.000000</td>\n",
       "      <td>0.000000</td>\n",
       "      <td>5.000000</td>\n",
       "      <td>1.000000</td>\n",
       "      <td>2.000000</td>\n",
       "      <td>0.655417</td>\n",
       "      <td>0.608602</td>\n",
       "      <td>0.730209</td>\n",
       "      <td>0.233214</td>\n",
       "      <td>1096.000000</td>\n",
       "      <td>4776.500000</td>\n",
       "      <td>5956.000000</td>\n",
       "    </tr>\n",
       "    <tr>\n",
       "      <th>max</th>\n",
       "      <td>731.000000</td>\n",
       "      <td>4.000000</td>\n",
       "      <td>1.000000</td>\n",
       "      <td>12.000000</td>\n",
       "      <td>1.000000</td>\n",
       "      <td>6.000000</td>\n",
       "      <td>1.000000</td>\n",
       "      <td>3.000000</td>\n",
       "      <td>0.861667</td>\n",
       "      <td>0.840896</td>\n",
       "      <td>0.972500</td>\n",
       "      <td>0.507463</td>\n",
       "      <td>3410.000000</td>\n",
       "      <td>6946.000000</td>\n",
       "      <td>8714.000000</td>\n",
       "    </tr>\n",
       "  </tbody>\n",
       "</table>\n",
       "</div>"
      ],
      "text/plain": [
       "          instant      season          yr        mnth     holiday     weekday  \\\n",
       "count  731.000000  731.000000  731.000000  731.000000  731.000000  731.000000   \n",
       "mean   366.000000    2.496580    0.500684    6.519836    0.028728    2.997264   \n",
       "std    211.165812    1.110807    0.500342    3.451913    0.167155    2.004787   \n",
       "min      1.000000    1.000000    0.000000    1.000000    0.000000    0.000000   \n",
       "25%    183.500000    2.000000    0.000000    4.000000    0.000000    1.000000   \n",
       "50%    366.000000    3.000000    1.000000    7.000000    0.000000    3.000000   \n",
       "75%    548.500000    3.000000    1.000000   10.000000    0.000000    5.000000   \n",
       "max    731.000000    4.000000    1.000000   12.000000    1.000000    6.000000   \n",
       "\n",
       "       workingday  weathersit        temp       atemp         hum   windspeed  \\\n",
       "count  731.000000  731.000000  731.000000  731.000000  731.000000  731.000000   \n",
       "mean     0.683995    1.395349    0.495385    0.474354    0.627894    0.190486   \n",
       "std      0.465233    0.544894    0.183051    0.162961    0.142429    0.077498   \n",
       "min      0.000000    1.000000    0.059130    0.079070    0.000000    0.022392   \n",
       "25%      0.000000    1.000000    0.337083    0.337842    0.520000    0.134950   \n",
       "50%      1.000000    1.000000    0.498333    0.486733    0.626667    0.180975   \n",
       "75%      1.000000    2.000000    0.655417    0.608602    0.730209    0.233214   \n",
       "max      1.000000    3.000000    0.861667    0.840896    0.972500    0.507463   \n",
       "\n",
       "            casual   registered          cnt  \n",
       "count   731.000000   731.000000   731.000000  \n",
       "mean    848.176471  3656.172367  4504.348837  \n",
       "std     686.622488  1560.256377  1937.211452  \n",
       "min       2.000000    20.000000    22.000000  \n",
       "25%     315.500000  2497.000000  3152.000000  \n",
       "50%     713.000000  3662.000000  4548.000000  \n",
       "75%    1096.000000  4776.500000  5956.000000  \n",
       "max    3410.000000  6946.000000  8714.000000  "
      ]
     },
     "execution_count": 24,
     "metadata": {},
     "output_type": "execute_result"
    }
   ],
   "source": [
    "df.describe()"
   ]
  },
  {
   "cell_type": "code",
   "execution_count": 25,
   "metadata": {
    "ExecuteTime": {
     "end_time": "2022-03-22T20:18:31.086031Z",
     "start_time": "2022-03-22T20:18:31.078030Z"
    }
   },
   "outputs": [
    {
     "data": {
      "text/plain": [
       "0    710\n",
       "1     21\n",
       "Name: holiday, dtype: int64"
      ]
     },
     "execution_count": 25,
     "metadata": {},
     "output_type": "execute_result"
    }
   ],
   "source": [
    "df.holiday.value_counts()"
   ]
  },
  {
   "cell_type": "code",
   "execution_count": 26,
   "metadata": {
    "ExecuteTime": {
     "end_time": "2022-03-22T20:18:33.555022Z",
     "start_time": "2022-03-22T20:18:33.534017Z"
    }
   },
   "outputs": [
    {
     "data": {
      "text/plain": [
       "6    105\n",
       "1    105\n",
       "0    105\n",
       "5    104\n",
       "4    104\n",
       "3    104\n",
       "2    104\n",
       "Name: weekday, dtype: int64"
      ]
     },
     "execution_count": 26,
     "metadata": {},
     "output_type": "execute_result"
    }
   ],
   "source": [
    "df.weekday.value_counts()"
   ]
  },
  {
   "cell_type": "code",
   "execution_count": 27,
   "metadata": {
    "ExecuteTime": {
     "end_time": "2022-03-22T20:18:52.524497Z",
     "start_time": "2022-03-22T20:18:52.518508Z"
    }
   },
   "outputs": [
    {
     "data": {
      "text/plain": [
       "3    188\n",
       "2    184\n",
       "1    181\n",
       "4    178\n",
       "Name: season, dtype: int64"
      ]
     },
     "execution_count": 27,
     "metadata": {},
     "output_type": "execute_result"
    }
   ],
   "source": [
    "df.season.value_counts()"
   ]
  },
  {
   "cell_type": "markdown",
   "metadata": {},
   "source": [
    "## Dummy!"
   ]
  },
  {
   "cell_type": "markdown",
   "metadata": {},
   "source": [
    "### `OneHotEncoder()`"
   ]
  },
  {
   "cell_type": "code",
   "execution_count": 28,
   "metadata": {
    "ExecuteTime": {
     "end_time": "2022-03-22T20:19:20.074100Z",
     "start_time": "2022-03-22T20:19:20.070100Z"
    }
   },
   "outputs": [],
   "source": [
    "# instantiate OHE\n",
    "ohe = OneHotEncoder(drop='first')"
   ]
  },
  {
   "cell_type": "code",
   "execution_count": 29,
   "metadata": {
    "ExecuteTime": {
     "end_time": "2022-03-22T20:19:23.499057Z",
     "start_time": "2022-03-22T20:19:23.486053Z"
    }
   },
   "outputs": [],
   "source": [
    "# fit and transform\n",
    "season_dummy = ohe.fit_transform(df[['season']])"
   ]
  },
  {
   "cell_type": "code",
   "execution_count": 30,
   "metadata": {
    "ExecuteTime": {
     "end_time": "2022-03-22T20:19:35.376365Z",
     "start_time": "2022-03-22T20:19:35.362362Z"
    }
   },
   "outputs": [
    {
     "data": {
      "text/plain": [
       "matrix([[0., 0., 0.],\n",
       "        [0., 0., 0.],\n",
       "        [0., 0., 0.],\n",
       "        ...,\n",
       "        [0., 0., 0.],\n",
       "        [0., 0., 0.],\n",
       "        [0., 0., 0.]])"
      ]
     },
     "execution_count": 30,
     "metadata": {},
     "output_type": "execute_result"
    }
   ],
   "source": [
    "# examine\n",
    "season_dummy.todense()"
   ]
  },
  {
   "cell_type": "code",
   "execution_count": 31,
   "metadata": {
    "ExecuteTime": {
     "end_time": "2022-03-22T20:19:53.136599Z",
     "start_time": "2022-03-22T20:19:53.121596Z"
    }
   },
   "outputs": [],
   "source": [
    "season_df = pd.DataFrame(season_dummy.todense(), columns=['season2','season3','season4'])"
   ]
  },
  {
   "cell_type": "code",
   "execution_count": 32,
   "metadata": {
    "ExecuteTime": {
     "end_time": "2022-03-22T20:19:56.388184Z",
     "start_time": "2022-03-22T20:19:56.371180Z"
    }
   },
   "outputs": [
    {
     "data": {
      "text/html": [
       "<div>\n",
       "<style scoped>\n",
       "    .dataframe tbody tr th:only-of-type {\n",
       "        vertical-align: middle;\n",
       "    }\n",
       "\n",
       "    .dataframe tbody tr th {\n",
       "        vertical-align: top;\n",
       "    }\n",
       "\n",
       "    .dataframe thead th {\n",
       "        text-align: right;\n",
       "    }\n",
       "</style>\n",
       "<table border=\"1\" class=\"dataframe\">\n",
       "  <thead>\n",
       "    <tr style=\"text-align: right;\">\n",
       "      <th></th>\n",
       "      <th>season2</th>\n",
       "      <th>season3</th>\n",
       "      <th>season4</th>\n",
       "    </tr>\n",
       "  </thead>\n",
       "  <tbody>\n",
       "    <tr>\n",
       "      <th>0</th>\n",
       "      <td>0.0</td>\n",
       "      <td>0.0</td>\n",
       "      <td>0.0</td>\n",
       "    </tr>\n",
       "    <tr>\n",
       "      <th>1</th>\n",
       "      <td>0.0</td>\n",
       "      <td>0.0</td>\n",
       "      <td>0.0</td>\n",
       "    </tr>\n",
       "    <tr>\n",
       "      <th>2</th>\n",
       "      <td>0.0</td>\n",
       "      <td>0.0</td>\n",
       "      <td>0.0</td>\n",
       "    </tr>\n",
       "    <tr>\n",
       "      <th>3</th>\n",
       "      <td>0.0</td>\n",
       "      <td>0.0</td>\n",
       "      <td>0.0</td>\n",
       "    </tr>\n",
       "    <tr>\n",
       "      <th>4</th>\n",
       "      <td>0.0</td>\n",
       "      <td>0.0</td>\n",
       "      <td>0.0</td>\n",
       "    </tr>\n",
       "  </tbody>\n",
       "</table>\n",
       "</div>"
      ],
      "text/plain": [
       "   season2  season3  season4\n",
       "0      0.0      0.0      0.0\n",
       "1      0.0      0.0      0.0\n",
       "2      0.0      0.0      0.0\n",
       "3      0.0      0.0      0.0\n",
       "4      0.0      0.0      0.0"
      ]
     },
     "execution_count": 32,
     "metadata": {},
     "output_type": "execute_result"
    }
   ],
   "source": [
    "season_df.head()"
   ]
  },
  {
   "cell_type": "code",
   "execution_count": 33,
   "metadata": {
    "ExecuteTime": {
     "end_time": "2022-03-22T20:19:59.982797Z",
     "start_time": "2022-03-22T20:19:59.959804Z"
    }
   },
   "outputs": [],
   "source": [
    "dum_df = df.merge(season_df, left_index=True, right_index=True).drop(columns=['season'])"
   ]
  },
  {
   "cell_type": "code",
   "execution_count": 34,
   "metadata": {
    "ExecuteTime": {
     "end_time": "2022-03-22T20:20:00.862131Z",
     "start_time": "2022-03-22T20:20:00.838126Z"
    }
   },
   "outputs": [
    {
     "data": {
      "text/html": [
       "<div>\n",
       "<style scoped>\n",
       "    .dataframe tbody tr th:only-of-type {\n",
       "        vertical-align: middle;\n",
       "    }\n",
       "\n",
       "    .dataframe tbody tr th {\n",
       "        vertical-align: top;\n",
       "    }\n",
       "\n",
       "    .dataframe thead th {\n",
       "        text-align: right;\n",
       "    }\n",
       "</style>\n",
       "<table border=\"1\" class=\"dataframe\">\n",
       "  <thead>\n",
       "    <tr style=\"text-align: right;\">\n",
       "      <th></th>\n",
       "      <th>instant</th>\n",
       "      <th>dteday</th>\n",
       "      <th>yr</th>\n",
       "      <th>mnth</th>\n",
       "      <th>holiday</th>\n",
       "      <th>weekday</th>\n",
       "      <th>workingday</th>\n",
       "      <th>weathersit</th>\n",
       "      <th>temp</th>\n",
       "      <th>atemp</th>\n",
       "      <th>hum</th>\n",
       "      <th>windspeed</th>\n",
       "      <th>casual</th>\n",
       "      <th>registered</th>\n",
       "      <th>cnt</th>\n",
       "      <th>season2</th>\n",
       "      <th>season3</th>\n",
       "      <th>season4</th>\n",
       "    </tr>\n",
       "  </thead>\n",
       "  <tbody>\n",
       "    <tr>\n",
       "      <th>0</th>\n",
       "      <td>1</td>\n",
       "      <td>2011-01-01</td>\n",
       "      <td>0</td>\n",
       "      <td>1</td>\n",
       "      <td>0</td>\n",
       "      <td>6</td>\n",
       "      <td>0</td>\n",
       "      <td>2</td>\n",
       "      <td>0.344167</td>\n",
       "      <td>0.363625</td>\n",
       "      <td>0.805833</td>\n",
       "      <td>0.160446</td>\n",
       "      <td>331</td>\n",
       "      <td>654</td>\n",
       "      <td>985</td>\n",
       "      <td>0.0</td>\n",
       "      <td>0.0</td>\n",
       "      <td>0.0</td>\n",
       "    </tr>\n",
       "    <tr>\n",
       "      <th>1</th>\n",
       "      <td>2</td>\n",
       "      <td>2011-01-02</td>\n",
       "      <td>0</td>\n",
       "      <td>1</td>\n",
       "      <td>0</td>\n",
       "      <td>0</td>\n",
       "      <td>0</td>\n",
       "      <td>2</td>\n",
       "      <td>0.363478</td>\n",
       "      <td>0.353739</td>\n",
       "      <td>0.696087</td>\n",
       "      <td>0.248539</td>\n",
       "      <td>131</td>\n",
       "      <td>670</td>\n",
       "      <td>801</td>\n",
       "      <td>0.0</td>\n",
       "      <td>0.0</td>\n",
       "      <td>0.0</td>\n",
       "    </tr>\n",
       "    <tr>\n",
       "      <th>2</th>\n",
       "      <td>3</td>\n",
       "      <td>2011-01-03</td>\n",
       "      <td>0</td>\n",
       "      <td>1</td>\n",
       "      <td>0</td>\n",
       "      <td>1</td>\n",
       "      <td>1</td>\n",
       "      <td>1</td>\n",
       "      <td>0.196364</td>\n",
       "      <td>0.189405</td>\n",
       "      <td>0.437273</td>\n",
       "      <td>0.248309</td>\n",
       "      <td>120</td>\n",
       "      <td>1229</td>\n",
       "      <td>1349</td>\n",
       "      <td>0.0</td>\n",
       "      <td>0.0</td>\n",
       "      <td>0.0</td>\n",
       "    </tr>\n",
       "    <tr>\n",
       "      <th>3</th>\n",
       "      <td>4</td>\n",
       "      <td>2011-01-04</td>\n",
       "      <td>0</td>\n",
       "      <td>1</td>\n",
       "      <td>0</td>\n",
       "      <td>2</td>\n",
       "      <td>1</td>\n",
       "      <td>1</td>\n",
       "      <td>0.200000</td>\n",
       "      <td>0.212122</td>\n",
       "      <td>0.590435</td>\n",
       "      <td>0.160296</td>\n",
       "      <td>108</td>\n",
       "      <td>1454</td>\n",
       "      <td>1562</td>\n",
       "      <td>0.0</td>\n",
       "      <td>0.0</td>\n",
       "      <td>0.0</td>\n",
       "    </tr>\n",
       "    <tr>\n",
       "      <th>4</th>\n",
       "      <td>5</td>\n",
       "      <td>2011-01-05</td>\n",
       "      <td>0</td>\n",
       "      <td>1</td>\n",
       "      <td>0</td>\n",
       "      <td>3</td>\n",
       "      <td>1</td>\n",
       "      <td>1</td>\n",
       "      <td>0.226957</td>\n",
       "      <td>0.229270</td>\n",
       "      <td>0.436957</td>\n",
       "      <td>0.186900</td>\n",
       "      <td>82</td>\n",
       "      <td>1518</td>\n",
       "      <td>1600</td>\n",
       "      <td>0.0</td>\n",
       "      <td>0.0</td>\n",
       "      <td>0.0</td>\n",
       "    </tr>\n",
       "  </tbody>\n",
       "</table>\n",
       "</div>"
      ],
      "text/plain": [
       "   instant      dteday  yr  mnth  holiday  weekday  workingday  weathersit  \\\n",
       "0        1  2011-01-01   0     1        0        6           0           2   \n",
       "1        2  2011-01-02   0     1        0        0           0           2   \n",
       "2        3  2011-01-03   0     1        0        1           1           1   \n",
       "3        4  2011-01-04   0     1        0        2           1           1   \n",
       "4        5  2011-01-05   0     1        0        3           1           1   \n",
       "\n",
       "       temp     atemp       hum  windspeed  casual  registered   cnt  season2  \\\n",
       "0  0.344167  0.363625  0.805833   0.160446     331         654   985      0.0   \n",
       "1  0.363478  0.353739  0.696087   0.248539     131         670   801      0.0   \n",
       "2  0.196364  0.189405  0.437273   0.248309     120        1229  1349      0.0   \n",
       "3  0.200000  0.212122  0.590435   0.160296     108        1454  1562      0.0   \n",
       "4  0.226957  0.229270  0.436957   0.186900      82        1518  1600      0.0   \n",
       "\n",
       "   season3  season4  \n",
       "0      0.0      0.0  \n",
       "1      0.0      0.0  \n",
       "2      0.0      0.0  \n",
       "3      0.0      0.0  \n",
       "4      0.0      0.0  "
      ]
     },
     "execution_count": 34,
     "metadata": {},
     "output_type": "execute_result"
    }
   ],
   "source": [
    "dum_df.head()"
   ]
  },
  {
   "cell_type": "markdown",
   "metadata": {},
   "source": [
    "### `pd.get_dummies`"
   ]
  },
  {
   "cell_type": "code",
   "execution_count": 35,
   "metadata": {
    "ExecuteTime": {
     "end_time": "2022-03-22T20:20:07.781638Z",
     "start_time": "2022-03-22T20:20:07.766931Z"
    }
   },
   "outputs": [],
   "source": [
    "dum2_df = pd.get_dummies(df, columns=['season'], drop_first=True)"
   ]
  },
  {
   "cell_type": "code",
   "execution_count": 61,
   "metadata": {
    "ExecuteTime": {
     "end_time": "2022-03-22T20:41:54.230688Z",
     "start_time": "2022-03-22T20:41:54.183677Z"
    }
   },
   "outputs": [
    {
     "data": {
      "text/plain": [
       "count     731.000000\n",
       "mean     4504.348837\n",
       "std      1937.211452\n",
       "min        22.000000\n",
       "25%      3152.000000\n",
       "50%      4548.000000\n",
       "75%      5956.000000\n",
       "max      8714.000000\n",
       "Name: cnt, dtype: float64"
      ]
     },
     "execution_count": 61,
     "metadata": {},
     "output_type": "execute_result"
    }
   ],
   "source": [
    "dum2_df.describe()['cnt']"
   ]
  },
  {
   "cell_type": "markdown",
   "metadata": {},
   "source": [
    "## Scaling!"
   ]
  },
  {
   "cell_type": "code",
   "execution_count": 39,
   "metadata": {
    "ExecuteTime": {
     "end_time": "2022-03-22T20:21:53.096119Z",
     "start_time": "2022-03-22T20:21:53.090117Z"
    }
   },
   "outputs": [],
   "source": [
    "ss = StandardScaler()"
   ]
  },
  {
   "cell_type": "code",
   "execution_count": 43,
   "metadata": {
    "ExecuteTime": {
     "end_time": "2022-03-22T20:33:29.412780Z",
     "start_time": "2022-03-22T20:33:29.406846Z"
    }
   },
   "outputs": [],
   "source": [
    "target = dum2_df['cnt']\n",
    "preds_continuous = dum2_df[['temp','atemp','hum','windspeed','casual','registered']]\n",
    "preds_categorical = dum2_df[['season_2','season_3','season_4']]"
   ]
  },
  {
   "cell_type": "code",
   "execution_count": 49,
   "metadata": {
    "ExecuteTime": {
     "end_time": "2022-03-22T20:35:03.340453Z",
     "start_time": "2022-03-22T20:35:03.324452Z"
    }
   },
   "outputs": [],
   "source": [
    "preds_continuous_scaled = ss.fit_transform(preds_continuous)\n",
    "preds_categorical_scaled = ss.fit_transform(preds_categorical)"
   ]
  },
  {
   "cell_type": "code",
   "execution_count": 51,
   "metadata": {
    "ExecuteTime": {
     "end_time": "2022-03-22T20:37:00.024495Z",
     "start_time": "2022-03-22T20:37:00.006491Z"
    }
   },
   "outputs": [
    {
     "data": {
      "text/plain": [
       "array([[-0.82666213, -0.67994602,  1.25017133, -0.38789169, -0.7537338 ,\n",
       "        -1.9254707 ],\n",
       "       [-0.72109471, -0.74065231,  0.47911298,  0.74960172, -1.04521412,\n",
       "        -1.91520896],\n",
       "       [-1.63465665, -1.749767  , -1.33927398,  0.74663186, -1.06124554,\n",
       "        -1.5566892 ],\n",
       "       ...,\n",
       "       [-1.32322427, -1.42434419,  0.87839173, -0.85355213, -1.00440687,\n",
       "        -1.58683308],\n",
       "       [-1.30955752, -1.49004895, -1.01566357,  2.06944426, -0.70563955,\n",
       "        -1.42649329],\n",
       "       [-1.52822548, -1.54048197, -0.35406086, -0.46020122, -0.59633443,\n",
       "        -0.87620714]])"
      ]
     },
     "execution_count": 51,
     "metadata": {},
     "output_type": "execute_result"
    }
   ],
   "source": [
    "preds_continuous_scaled"
   ]
  },
  {
   "cell_type": "code",
   "execution_count": 52,
   "metadata": {
    "ExecuteTime": {
     "end_time": "2022-03-22T20:37:10.985383Z",
     "start_time": "2022-03-22T20:37:10.972382Z"
    }
   },
   "outputs": [
    {
     "data": {
      "text/plain": [
       "array([[-0.57998298, -0.5884086 , -0.56734527],\n",
       "       [-0.57998298, -0.5884086 , -0.56734527],\n",
       "       [-0.57998298, -0.5884086 , -0.56734527],\n",
       "       ...,\n",
       "       [-0.57998298, -0.5884086 , -0.56734527],\n",
       "       [-0.57998298, -0.5884086 , -0.56734527],\n",
       "       [-0.57998298, -0.5884086 , -0.56734527]])"
      ]
     },
     "execution_count": 52,
     "metadata": {},
     "output_type": "execute_result"
    }
   ],
   "source": [
    "preds_categorical_scaled"
   ]
  },
  {
   "cell_type": "code",
   "execution_count": 53,
   "metadata": {
    "ExecuteTime": {
     "end_time": "2022-03-22T20:38:37.927968Z",
     "start_time": "2022-03-22T20:38:37.910964Z"
    }
   },
   "outputs": [
    {
     "data": {
      "text/plain": [
       "LinearRegression()"
      ]
     },
     "execution_count": 53,
     "metadata": {},
     "output_type": "execute_result"
    }
   ],
   "source": [
    "lr = LinearRegression()\n",
    "lr.fit(preds_categorical_scaled,target)"
   ]
  },
  {
   "cell_type": "code",
   "execution_count": 54,
   "metadata": {
    "ExecuteTime": {
     "end_time": "2022-03-22T20:38:46.266514Z",
     "start_time": "2022-03-22T20:38:46.254510Z"
    }
   },
   "outputs": [
    {
     "data": {
      "text/plain": [
       "array([1036.46751803, 1328.79937928,  911.62432017])"
      ]
     },
     "execution_count": 54,
     "metadata": {},
     "output_type": "execute_result"
    }
   ],
   "source": [
    "lr.coef_"
   ]
  },
  {
   "cell_type": "code",
   "execution_count": 57,
   "metadata": {
    "ExecuteTime": {
     "end_time": "2022-03-22T20:39:12.700148Z",
     "start_time": "2022-03-22T20:39:12.692146Z"
    }
   },
   "outputs": [
    {
     "data": {
      "text/plain": [
       "0.34699163632566543"
      ]
     },
     "execution_count": 57,
     "metadata": {},
     "output_type": "execute_result"
    }
   ],
   "source": [
    "lr.score(preds_categorical_scaled, target)"
   ]
  },
  {
   "cell_type": "code",
   "execution_count": 94,
   "metadata": {
    "ExecuteTime": {
     "end_time": "2022-03-22T21:22:51.040739Z",
     "start_time": "2022-03-22T21:22:51.023736Z"
    },
    "scrolled": true
   },
   "outputs": [
    {
     "data": {
      "text/plain": [
       "array([4504.34883721, 4504.34883721, 4504.34883721, 4504.34883721,\n",
       "       4504.34883721, 4504.34883721, 4504.34883721, 4504.34883721,\n",
       "       4504.34883721, 4504.34883721, 4504.34883721, 4504.34883721,\n",
       "       4504.34883721, 4504.34883721, 4504.34883721, 4504.34883721,\n",
       "       4504.34883721, 4504.34883721, 4504.34883721, 4504.34883721,\n",
       "       4504.34883721, 4504.34883721, 4504.34883721, 4504.34883721,\n",
       "       4504.34883721, 4504.34883721, 4504.34883721, 4504.34883721,\n",
       "       4504.34883721, 4504.34883721, 4504.34883721, 4504.34883721,\n",
       "       4504.34883721, 4504.34883721, 4504.34883721, 4504.34883721,\n",
       "       4504.34883721, 4504.34883721, 4504.34883721, 4504.34883721,\n",
       "       4504.34883721, 4504.34883721, 4504.34883721, 4504.34883721,\n",
       "       4504.34883721, 4504.34883721, 4504.34883721, 4504.34883721,\n",
       "       4504.34883721, 4504.34883721, 4504.34883721, 4504.34883721,\n",
       "       4504.34883721, 4504.34883721, 4504.34883721, 4504.34883721,\n",
       "       4504.34883721, 4504.34883721, 4504.34883721, 4504.34883721,\n",
       "       4504.34883721, 4504.34883721, 4504.34883721, 4504.34883721,\n",
       "       4504.34883721, 4504.34883721, 4504.34883721, 4504.34883721,\n",
       "       4504.34883721, 4504.34883721, 4504.34883721, 4504.34883721,\n",
       "       4504.34883721, 4504.34883721, 4504.34883721, 4504.34883721,\n",
       "       4504.34883721, 4504.34883721, 4504.34883721, 5540.81635524,\n",
       "       5540.81635524, 5540.81635524, 5540.81635524, 5540.81635524,\n",
       "       5540.81635524, 5540.81635524, 5540.81635524, 5540.81635524,\n",
       "       5540.81635524, 5540.81635524, 5540.81635524, 5540.81635524,\n",
       "       5540.81635524, 5540.81635524, 5540.81635524, 5540.81635524,\n",
       "       5540.81635524, 5540.81635524, 5540.81635524, 5540.81635524,\n",
       "       5540.81635524, 5540.81635524, 5540.81635524, 5540.81635524,\n",
       "       5540.81635524, 5540.81635524, 5540.81635524, 5540.81635524,\n",
       "       5540.81635524, 5540.81635524, 5540.81635524, 5540.81635524,\n",
       "       5540.81635524, 5540.81635524, 5540.81635524, 5540.81635524,\n",
       "       5540.81635524, 5540.81635524, 5540.81635524, 5540.81635524,\n",
       "       5540.81635524, 5540.81635524, 5540.81635524, 5540.81635524,\n",
       "       5540.81635524, 5540.81635524, 5540.81635524, 5540.81635524,\n",
       "       5540.81635524, 5540.81635524, 5540.81635524, 5540.81635524,\n",
       "       5540.81635524, 5540.81635524, 5540.81635524, 5540.81635524,\n",
       "       5540.81635524, 5540.81635524, 5540.81635524, 5540.81635524,\n",
       "       5540.81635524, 5540.81635524, 5540.81635524, 5540.81635524,\n",
       "       5540.81635524, 5540.81635524, 5540.81635524, 5540.81635524,\n",
       "       5540.81635524, 5540.81635524, 5540.81635524, 5540.81635524,\n",
       "       5540.81635524, 5540.81635524, 5540.81635524, 5540.81635524,\n",
       "       5540.81635524, 5540.81635524, 5540.81635524, 5540.81635524,\n",
       "       5540.81635524, 5540.81635524, 5540.81635524, 5540.81635524,\n",
       "       5540.81635524, 5540.81635524, 5540.81635524, 5540.81635524,\n",
       "       5540.81635524, 5540.81635524, 5540.81635524, 5833.14821649,\n",
       "       5833.14821649, 5833.14821649, 5833.14821649, 5833.14821649,\n",
       "       5833.14821649, 5833.14821649, 5833.14821649, 5833.14821649,\n",
       "       5833.14821649, 5833.14821649, 5833.14821649, 5833.14821649,\n",
       "       5833.14821649, 5833.14821649, 5833.14821649, 5833.14821649,\n",
       "       5833.14821649, 5833.14821649, 5833.14821649, 5833.14821649,\n",
       "       5833.14821649, 5833.14821649, 5833.14821649, 5833.14821649,\n",
       "       5833.14821649, 5833.14821649, 5833.14821649, 5833.14821649,\n",
       "       5833.14821649, 5833.14821649, 5833.14821649, 5833.14821649,\n",
       "       5833.14821649, 5833.14821649, 5833.14821649, 5833.14821649,\n",
       "       5833.14821649, 5833.14821649, 5833.14821649, 5833.14821649,\n",
       "       5833.14821649, 5833.14821649, 5833.14821649, 5833.14821649,\n",
       "       5833.14821649, 5833.14821649, 5833.14821649, 5833.14821649,\n",
       "       5833.14821649, 5833.14821649, 5833.14821649, 5833.14821649,\n",
       "       5833.14821649, 5833.14821649, 5833.14821649, 5833.14821649,\n",
       "       5833.14821649, 5833.14821649, 5833.14821649, 5833.14821649,\n",
       "       5833.14821649, 5833.14821649, 5833.14821649, 5833.14821649,\n",
       "       5833.14821649, 5833.14821649, 5833.14821649, 5833.14821649,\n",
       "       5833.14821649, 5833.14821649, 5833.14821649, 5833.14821649,\n",
       "       5833.14821649, 5833.14821649, 5833.14821649, 5833.14821649,\n",
       "       5833.14821649, 5833.14821649, 5833.14821649, 5833.14821649,\n",
       "       5833.14821649, 5833.14821649, 5833.14821649, 5833.14821649,\n",
       "       5833.14821649, 5833.14821649, 5833.14821649, 5833.14821649,\n",
       "       5833.14821649, 5833.14821649, 5833.14821649, 5833.14821649,\n",
       "       5833.14821649, 5415.97315738, 5415.97315738, 5415.97315738,\n",
       "       5415.97315738, 5415.97315738, 5415.97315738, 5415.97315738,\n",
       "       5415.97315738, 5415.97315738, 5415.97315738, 5415.97315738,\n",
       "       5415.97315738, 5415.97315738, 5415.97315738, 5415.97315738,\n",
       "       5415.97315738, 5415.97315738, 5415.97315738, 5415.97315738,\n",
       "       5415.97315738, 5415.97315738, 5415.97315738, 5415.97315738,\n",
       "       5415.97315738, 5415.97315738, 5415.97315738, 5415.97315738,\n",
       "       5415.97315738, 5415.97315738, 5415.97315738, 5415.97315738,\n",
       "       5415.97315738, 5415.97315738, 5415.97315738, 5415.97315738,\n",
       "       5415.97315738, 5415.97315738, 5415.97315738, 5415.97315738,\n",
       "       5415.97315738, 5415.97315738, 5415.97315738, 5415.97315738,\n",
       "       5415.97315738, 5415.97315738, 5415.97315738, 5415.97315738,\n",
       "       5415.97315738, 5415.97315738, 5415.97315738, 5415.97315738,\n",
       "       5415.97315738, 5415.97315738, 5415.97315738, 5415.97315738,\n",
       "       5415.97315738, 5415.97315738, 5415.97315738, 5415.97315738,\n",
       "       5415.97315738, 5415.97315738, 5415.97315738, 5415.97315738,\n",
       "       5415.97315738, 5415.97315738, 5415.97315738, 5415.97315738,\n",
       "       5415.97315738, 5415.97315738, 5415.97315738, 5415.97315738,\n",
       "       5415.97315738, 5415.97315738, 5415.97315738, 5415.97315738,\n",
       "       5415.97315738, 5415.97315738, 5415.97315738, 5415.97315738,\n",
       "       5415.97315738, 5415.97315738, 5415.97315738, 5415.97315738,\n",
       "       5415.97315738, 5415.97315738, 5415.97315738, 5415.97315738,\n",
       "       5415.97315738, 5415.97315738, 4504.34883721, 4504.34883721,\n",
       "       4504.34883721, 4504.34883721, 4504.34883721, 4504.34883721,\n",
       "       4504.34883721, 4504.34883721, 4504.34883721, 4504.34883721,\n",
       "       4504.34883721, 4504.34883721, 4504.34883721, 4504.34883721,\n",
       "       4504.34883721, 4504.34883721, 4504.34883721, 4504.34883721,\n",
       "       4504.34883721, 4504.34883721, 4504.34883721, 4504.34883721,\n",
       "       4504.34883721, 4504.34883721, 4504.34883721, 4504.34883721,\n",
       "       4504.34883721, 4504.34883721, 4504.34883721, 4504.34883721,\n",
       "       4504.34883721, 4504.34883721, 4504.34883721, 4504.34883721,\n",
       "       4504.34883721, 4504.34883721, 4504.34883721, 4504.34883721,\n",
       "       4504.34883721, 4504.34883721, 4504.34883721, 4504.34883721,\n",
       "       4504.34883721, 4504.34883721, 4504.34883721, 4504.34883721,\n",
       "       4504.34883721, 4504.34883721, 4504.34883721, 4504.34883721,\n",
       "       4504.34883721, 4504.34883721, 4504.34883721, 4504.34883721,\n",
       "       4504.34883721, 4504.34883721, 4504.34883721, 4504.34883721,\n",
       "       4504.34883721, 4504.34883721, 4504.34883721, 4504.34883721,\n",
       "       4504.34883721, 4504.34883721, 4504.34883721, 4504.34883721,\n",
       "       4504.34883721, 4504.34883721, 4504.34883721, 4504.34883721,\n",
       "       4504.34883721, 4504.34883721, 4504.34883721, 4504.34883721,\n",
       "       4504.34883721, 4504.34883721, 4504.34883721, 4504.34883721,\n",
       "       4504.34883721, 4504.34883721, 4504.34883721, 4504.34883721,\n",
       "       4504.34883721, 4504.34883721, 4504.34883721, 4504.34883721,\n",
       "       4504.34883721, 4504.34883721, 4504.34883721, 4504.34883721,\n",
       "       4504.34883721, 5540.81635524, 5540.81635524, 5540.81635524,\n",
       "       5540.81635524, 5540.81635524, 5540.81635524, 5540.81635524,\n",
       "       5540.81635524, 5540.81635524, 5540.81635524, 5540.81635524,\n",
       "       5540.81635524, 5540.81635524, 5540.81635524, 5540.81635524,\n",
       "       5540.81635524, 5540.81635524, 5540.81635524, 5540.81635524,\n",
       "       5540.81635524, 5540.81635524, 5540.81635524, 5540.81635524,\n",
       "       5540.81635524, 5540.81635524, 5540.81635524, 5540.81635524,\n",
       "       5540.81635524, 5540.81635524, 5540.81635524, 5540.81635524,\n",
       "       5540.81635524, 5540.81635524, 5540.81635524, 5540.81635524,\n",
       "       5540.81635524, 5540.81635524, 5540.81635524, 5540.81635524,\n",
       "       5540.81635524, 5540.81635524, 5540.81635524, 5540.81635524,\n",
       "       5540.81635524, 5540.81635524, 5540.81635524, 5540.81635524,\n",
       "       5540.81635524, 5540.81635524, 5540.81635524, 5540.81635524,\n",
       "       5540.81635524, 5540.81635524, 5540.81635524, 5540.81635524,\n",
       "       5540.81635524, 5540.81635524, 5540.81635524, 5540.81635524,\n",
       "       5540.81635524, 5540.81635524, 5540.81635524, 5540.81635524,\n",
       "       5540.81635524, 5540.81635524, 5540.81635524, 5540.81635524,\n",
       "       5540.81635524, 5540.81635524, 5540.81635524, 5540.81635524,\n",
       "       5540.81635524, 5540.81635524, 5540.81635524, 5540.81635524,\n",
       "       5540.81635524, 5540.81635524, 5540.81635524, 5540.81635524,\n",
       "       5540.81635524, 5540.81635524, 5540.81635524, 5540.81635524,\n",
       "       5540.81635524, 5540.81635524, 5540.81635524, 5540.81635524,\n",
       "       5540.81635524, 5540.81635524, 5540.81635524, 5540.81635524,\n",
       "       5540.81635524, 5833.14821649, 5833.14821649, 5833.14821649,\n",
       "       5833.14821649, 5833.14821649, 5833.14821649, 5833.14821649,\n",
       "       5833.14821649, 5833.14821649, 5833.14821649, 5833.14821649,\n",
       "       5833.14821649, 5833.14821649, 5833.14821649, 5833.14821649,\n",
       "       5833.14821649, 5833.14821649, 5833.14821649, 5833.14821649,\n",
       "       5833.14821649, 5833.14821649, 5833.14821649, 5833.14821649,\n",
       "       5833.14821649, 5833.14821649, 5833.14821649, 5833.14821649,\n",
       "       5833.14821649, 5833.14821649, 5833.14821649, 5833.14821649,\n",
       "       5833.14821649, 5833.14821649, 5833.14821649, 5833.14821649,\n",
       "       5833.14821649, 5833.14821649, 5833.14821649, 5833.14821649,\n",
       "       5833.14821649, 5833.14821649, 5833.14821649, 5833.14821649,\n",
       "       5833.14821649, 5833.14821649, 5833.14821649, 5833.14821649,\n",
       "       5833.14821649, 5833.14821649, 5833.14821649, 5833.14821649,\n",
       "       5833.14821649, 5833.14821649, 5833.14821649, 5833.14821649,\n",
       "       5833.14821649, 5833.14821649, 5833.14821649, 5833.14821649,\n",
       "       5833.14821649, 5833.14821649, 5833.14821649, 5833.14821649,\n",
       "       5833.14821649, 5833.14821649, 5833.14821649, 5833.14821649,\n",
       "       5833.14821649, 5833.14821649, 5833.14821649, 5833.14821649,\n",
       "       5833.14821649, 5833.14821649, 5833.14821649, 5833.14821649,\n",
       "       5833.14821649, 5833.14821649, 5833.14821649, 5833.14821649,\n",
       "       5833.14821649, 5833.14821649, 5833.14821649, 5833.14821649,\n",
       "       5833.14821649, 5833.14821649, 5833.14821649, 5833.14821649,\n",
       "       5833.14821649, 5833.14821649, 5833.14821649, 5833.14821649,\n",
       "       5833.14821649, 5833.14821649, 5833.14821649, 5415.97315738,\n",
       "       5415.97315738, 5415.97315738, 5415.97315738, 5415.97315738,\n",
       "       5415.97315738, 5415.97315738, 5415.97315738, 5415.97315738,\n",
       "       5415.97315738, 5415.97315738, 5415.97315738, 5415.97315738,\n",
       "       5415.97315738, 5415.97315738, 5415.97315738, 5415.97315738,\n",
       "       5415.97315738, 5415.97315738, 5415.97315738, 5415.97315738,\n",
       "       5415.97315738, 5415.97315738, 5415.97315738, 5415.97315738,\n",
       "       5415.97315738, 5415.97315738, 5415.97315738, 5415.97315738,\n",
       "       5415.97315738, 5415.97315738, 5415.97315738, 5415.97315738,\n",
       "       5415.97315738, 5415.97315738, 5415.97315738, 5415.97315738,\n",
       "       5415.97315738, 5415.97315738, 5415.97315738, 5415.97315738,\n",
       "       5415.97315738, 5415.97315738, 5415.97315738, 5415.97315738,\n",
       "       5415.97315738, 5415.97315738, 5415.97315738, 5415.97315738,\n",
       "       5415.97315738, 5415.97315738, 5415.97315738, 5415.97315738,\n",
       "       5415.97315738, 5415.97315738, 5415.97315738, 5415.97315738,\n",
       "       5415.97315738, 5415.97315738, 5415.97315738, 5415.97315738,\n",
       "       5415.97315738, 5415.97315738, 5415.97315738, 5415.97315738,\n",
       "       5415.97315738, 5415.97315738, 5415.97315738, 5415.97315738,\n",
       "       5415.97315738, 5415.97315738, 5415.97315738, 5415.97315738,\n",
       "       5415.97315738, 5415.97315738, 5415.97315738, 5415.97315738,\n",
       "       5415.97315738, 5415.97315738, 5415.97315738, 5415.97315738,\n",
       "       5415.97315738, 5415.97315738, 5415.97315738, 5415.97315738,\n",
       "       5415.97315738, 5415.97315738, 5415.97315738, 5415.97315738,\n",
       "       4504.34883721, 4504.34883721, 4504.34883721, 4504.34883721,\n",
       "       4504.34883721, 4504.34883721, 4504.34883721, 4504.34883721,\n",
       "       4504.34883721, 4504.34883721, 4504.34883721])"
      ]
     },
     "execution_count": 94,
     "metadata": {},
     "output_type": "execute_result"
    }
   ],
   "source": [
    "y_hat = lr.predict(preds_categorical)\n",
    "y_hat"
   ]
  },
  {
   "cell_type": "code",
   "execution_count": 95,
   "metadata": {
    "ExecuteTime": {
     "end_time": "2022-03-22T21:22:56.365050Z",
     "start_time": "2022-03-22T21:22:56.240546Z"
    }
   },
   "outputs": [
    {
     "data": {
      "image/png": "[encoded data removed]",
      "text/plain": [
       "<Figure size 432x288 with 1 Axes>"
      ]
     },
     "metadata": {
      "needs_background": "light"
     },
     "output_type": "display_data"
    }
   ],
   "source": [
    "resid = (target - y_hat)\n",
    "\n",
    "fig, ax = plt.subplots()\n",
    "ax.scatter(x=range(y_hat.shape[0]),y=resid, alpha=0.1);"
   ]
  },
  {
   "cell_type": "code",
   "execution_count": 63,
   "metadata": {
    "ExecuteTime": {
     "end_time": "2022-03-22T20:47:08.508630Z",
     "start_time": "2022-03-22T20:47:08.503630Z"
    },
    "scrolled": true
   },
   "outputs": [
    {
     "data": {
      "text/plain": [
       "2447249.6902711615"
      ]
     },
     "execution_count": 63,
     "metadata": {},
     "output_type": "execute_result"
    }
   ],
   "source": [
    "metrics.mean_squared_error(target, lr.predict(preds_categorical_scaled))"
   ]
  },
  {
   "cell_type": "code",
   "execution_count": 88,
   "metadata": {
    "ExecuteTime": {
     "end_time": "2022-03-22T21:17:26.305206Z",
     "start_time": "2022-03-22T21:17:14.969395Z"
    },
    "scrolled": true
   },
   "outputs": [
    {
     "data": {
      "image/png": "[encoded data removed]",
      "text/plain": [
       "<Figure size 432x288 with 1 Axes>"
      ]
     },
     "metadata": {
      "needs_background": "light"
     },
     "output_type": "display_data"
    }
   ],
   "source": [
    "sns.histplot(y_hat,kde=True,fill=False,stat='density',color='red')\n",
    "sns.histplot(target,discrete=True,stat='density');"
   ]
  },
  {
   "cell_type": "code",
   "execution_count": 72,
   "metadata": {
    "ExecuteTime": {
     "end_time": "2022-03-22T21:00:52.952524Z",
     "start_time": "2022-03-22T21:00:52.935520Z"
    }
   },
   "outputs": [
    {
     "data": {
      "text/plain": [
       "array([[-0.57998298, -0.5884086 , -0.56734527],\n",
       "       [-0.57998298, -0.5884086 , -0.56734527],\n",
       "       [-0.57998298, -0.5884086 , -0.56734527],\n",
       "       ...,\n",
       "       [-0.57998298, -0.5884086 , -0.56734527],\n",
       "       [-0.57998298, -0.5884086 , -0.56734527],\n",
       "       [-0.57998298, -0.5884086 , -0.56734527]])"
      ]
     },
     "execution_count": 72,
     "metadata": {},
     "output_type": "execute_result"
    }
   ],
   "source": [
    "preds_categorical_scaled"
   ]
  },
  {
   "cell_type": "code",
   "execution_count": 89,
   "metadata": {
    "ExecuteTime": {
     "end_time": "2022-03-22T21:21:25.756922Z",
     "start_time": "2022-03-22T21:21:25.744920Z"
    }
   },
   "outputs": [],
   "source": [
    "model = sm.OLS(target,preds_categorical_scaled).fit()"
   ]
  },
  {
   "cell_type": "code",
   "execution_count": 90,
   "metadata": {
    "ExecuteTime": {
     "end_time": "2022-03-22T21:21:29.459245Z",
     "start_time": "2022-03-22T21:21:29.445241Z"
    }
   },
   "outputs": [
    {
     "data": {
      "text/html": [
       "<table class=\"simpletable\">\n",
       "<caption>OLS Regression Results</caption>\n",
       "<tr>\n",
       "  <th>Dep. Variable:</th>           <td>cnt</td>       <th>  R-squared (uncentered):</th>      <td>   0.054</td> \n",
       "</tr>\n",
       "<tr>\n",
       "  <th>Model:</th>                   <td>OLS</td>       <th>  Adj. R-squared (uncentered):</th> <td>   0.050</td> \n",
       "</tr>\n",
       "<tr>\n",
       "  <th>Method:</th>             <td>Least Squares</td>  <th>  F-statistic:       </th>          <td>   13.88</td> \n",
       "</tr>\n",
       "<tr>\n",
       "  <th>Date:</th>             <td>Tue, 22 Mar 2022</td> <th>  Prob (F-statistic):</th>          <td>8.27e-09</td> \n",
       "</tr>\n",
       "<tr>\n",
       "  <th>Time:</th>                 <td>16:21:29</td>     <th>  Log-Likelihood:    </th>          <td> -7228.6</td> \n",
       "</tr>\n",
       "<tr>\n",
       "  <th>No. Observations:</th>      <td>   731</td>      <th>  AIC:               </th>          <td>1.446e+04</td>\n",
       "</tr>\n",
       "<tr>\n",
       "  <th>Df Residuals:</th>          <td>   728</td>      <th>  BIC:               </th>          <td>1.448e+04</td>\n",
       "</tr>\n",
       "<tr>\n",
       "  <th>Df Model:</th>              <td>     3</td>      <th>                     </th>              <td> </td>    \n",
       "</tr>\n",
       "<tr>\n",
       "  <th>Covariance Type:</th>      <td>nonrobust</td>    <th>                     </th>              <td> </td>    \n",
       "</tr>\n",
       "</table>\n",
       "<table class=\"simpletable\">\n",
       "<tr>\n",
       "   <td></td>     <th>coef</th>     <th>std err</th>      <th>t</th>      <th>P>|t|</th>  <th>[0.025</th>    <th>0.975]</th>  \n",
       "</tr>\n",
       "<tr>\n",
       "  <th>x1</th> <td> 1036.4675</td> <td>  217.089</td> <td>    4.774</td> <td> 0.000</td> <td>  610.273</td> <td> 1462.662</td>\n",
       "</tr>\n",
       "<tr>\n",
       "  <th>x2</th> <td> 1328.7994</td> <td>  217.476</td> <td>    6.110</td> <td> 0.000</td> <td>  901.845</td> <td> 1755.753</td>\n",
       "</tr>\n",
       "<tr>\n",
       "  <th>x3</th> <td>  911.6243</td> <td>  216.475</td> <td>    4.211</td> <td> 0.000</td> <td>  486.635</td> <td> 1336.613</td>\n",
       "</tr>\n",
       "</table>\n",
       "<table class=\"simpletable\">\n",
       "<tr>\n",
       "  <th>Omnibus:</th>       <td> 3.050</td> <th>  Durbin-Watson:     </th> <td>   0.050</td>\n",
       "</tr>\n",
       "<tr>\n",
       "  <th>Prob(Omnibus):</th> <td> 0.218</td> <th>  Jarque-Bera (JB):  </th> <td>   2.765</td>\n",
       "</tr>\n",
       "<tr>\n",
       "  <th>Skew:</th>          <td> 0.080</td> <th>  Prob(JB):          </th> <td>   0.251</td>\n",
       "</tr>\n",
       "<tr>\n",
       "  <th>Kurtosis:</th>      <td> 2.745</td> <th>  Cond. No.          </th> <td>    2.01</td>\n",
       "</tr>\n",
       "</table><br/><br/>Notes:<br/>[1] R² is computed without centering (uncentered) since the model does not contain a constant.<br/>[2] Standard Errors assume that the covariance matrix of the errors is correctly specified."
      ],
      "text/plain": [
       "<class 'statsmodels.iolib.summary.Summary'>\n",
       "\"\"\"\n",
       "                                 OLS Regression Results                                \n",
       "=======================================================================================\n",
       "Dep. Variable:                    cnt   R-squared (uncentered):                   0.054\n",
       "Model:                            OLS   Adj. R-squared (uncentered):              0.050\n",
       "Method:                 Least Squares   F-statistic:                              13.88\n",
       "Date:                Tue, 22 Mar 2022   Prob (F-statistic):                    8.27e-09\n",
       "Time:                        16:21:29   Log-Likelihood:                         -7228.6\n",
       "No. Observations:                 731   AIC:                                  1.446e+04\n",
       "Df Residuals:                     728   BIC:                                  1.448e+04\n",
       "Df Model:                           3                                                  \n",
       "Covariance Type:            nonrobust                                                  \n",
       "==============================================================================\n",
       "                 coef    std err          t      P>|t|      [0.025      0.975]\n",
       "------------------------------------------------------------------------------\n",
       "x1          1036.4675    217.089      4.774      0.000     610.273    1462.662\n",
       "x2          1328.7994    217.476      6.110      0.000     901.845    1755.753\n",
       "x3           911.6243    216.475      4.211      0.000     486.635    1336.613\n",
       "==============================================================================\n",
       "Omnibus:                        3.050   Durbin-Watson:                   0.050\n",
       "Prob(Omnibus):                  0.218   Jarque-Bera (JB):                2.765\n",
       "Skew:                           0.080   Prob(JB):                        0.251\n",
       "Kurtosis:                       2.745   Cond. No.                         2.01\n",
       "==============================================================================\n",
       "\n",
       "Notes:\n",
       "[1] R² is computed without centering (uncentered) since the model does not contain a constant.\n",
       "[2] Standard Errors assume that the covariance matrix of the errors is correctly specified.\n",
       "\"\"\""
      ]
     },
     "execution_count": 90,
     "metadata": {},
     "output_type": "execute_result"
    }
   ],
   "source": [
    "model.summary()"
   ]
  },
  {
   "cell_type": "code",
   "execution_count": 87,
   "metadata": {
    "ExecuteTime": {
     "end_time": "2022-03-22T21:06:57.889104Z",
     "start_time": "2022-03-22T21:06:53.867136Z"
    }
   },
   "outputs": [
    {
     "data": {
      "text/plain": [
       "<AxesSubplot:xlabel='cnt', ylabel='Count'>"
      ]
     },
     "execution_count": 87,
     "metadata": {},
     "output_type": "execute_result"
    },
    {
     "data": {
      "image/png": "[encoded data removed]",
      "text/plain": [
       "<Figure size 432x288 with 1 Axes>"
      ]
     },
     "metadata": {
      "needs_background": "light"
     },
     "output_type": "display_data"
    }
   ],
   "source": [
    "bins = int( len(target)**.5)\n",
    "sns.histplot(data=target, bins=bins, kde=True)\n",
    "sns.histplot(data=y_hat, bins=bins, kde=True,color = 'r')"
   ]
  },
  {
   "cell_type": "code",
   "execution_count": 84,
   "metadata": {
    "ExecuteTime": {
     "end_time": "2022-03-22T21:06:09.097106Z",
     "start_time": "2022-03-22T21:06:09.072093Z"
    }
   },
   "outputs": [
    {
     "data": {
      "text/plain": [
       "array([2604.13259669, 2604.13259669, 2604.13259669, 2604.13259669,\n",
       "       2604.13259669, 2604.13259669, 2604.13259669, 2604.13259669,\n",
       "       2604.13259669, 2604.13259669, 2604.13259669, 2604.13259669,\n",
       "       2604.13259669, 2604.13259669, 2604.13259669, 2604.13259669,\n",
       "       2604.13259669, 2604.13259669, 2604.13259669, 2604.13259669,\n",
       "       2604.13259669, 2604.13259669, 2604.13259669, 2604.13259669,\n",
       "       2604.13259669, 2604.13259669, 2604.13259669, 2604.13259669,\n",
       "       2604.13259669, 2604.13259669, 2604.13259669, 2604.13259669,\n",
       "       2604.13259669, 2604.13259669, 2604.13259669, 2604.13259669,\n",
       "       2604.13259669, 2604.13259669, 2604.13259669, 2604.13259669,\n",
       "       2604.13259669, 2604.13259669, 2604.13259669, 2604.13259669,\n",
       "       2604.13259669, 2604.13259669, 2604.13259669, 2604.13259669,\n",
       "       2604.13259669, 2604.13259669, 2604.13259669, 2604.13259669,\n",
       "       2604.13259669, 2604.13259669, 2604.13259669, 2604.13259669,\n",
       "       2604.13259669, 2604.13259669, 2604.13259669, 2604.13259669,\n",
       "       2604.13259669, 2604.13259669, 2604.13259669, 2604.13259669,\n",
       "       2604.13259669, 2604.13259669, 2604.13259669, 2604.13259669,\n",
       "       2604.13259669, 2604.13259669, 2604.13259669, 2604.13259669,\n",
       "       2604.13259669, 2604.13259669, 2604.13259669, 2604.13259669,\n",
       "       2604.13259669, 2604.13259669, 2604.13259669, 4992.33152174,\n",
       "       4992.33152174, 4992.33152174, 4992.33152174, 4992.33152174,\n",
       "       4992.33152174, 4992.33152174, 4992.33152174, 4992.33152174,\n",
       "       4992.33152174, 4992.33152174, 4992.33152174, 4992.33152174,\n",
       "       4992.33152174, 4992.33152174, 4992.33152174, 4992.33152174,\n",
       "       4992.33152174, 4992.33152174, 4992.33152174, 4992.33152174,\n",
       "       4992.33152174, 4992.33152174, 4992.33152174, 4992.33152174,\n",
       "       4992.33152174, 4992.33152174, 4992.33152174, 4992.33152174,\n",
       "       4992.33152174, 4992.33152174, 4992.33152174, 4992.33152174,\n",
       "       4992.33152174, 4992.33152174, 4992.33152174, 4992.33152174,\n",
       "       4992.33152174, 4992.33152174, 4992.33152174, 4992.33152174,\n",
       "       4992.33152174, 4992.33152174, 4992.33152174, 4992.33152174,\n",
       "       4992.33152174, 4992.33152174, 4992.33152174, 4992.33152174,\n",
       "       4992.33152174, 4992.33152174, 4992.33152174, 4992.33152174,\n",
       "       4992.33152174, 4992.33152174, 4992.33152174, 4992.33152174,\n",
       "       4992.33152174, 4992.33152174, 4992.33152174, 4992.33152174,\n",
       "       4992.33152174, 4992.33152174, 4992.33152174, 4992.33152174,\n",
       "       4992.33152174, 4992.33152174, 4992.33152174, 4992.33152174,\n",
       "       4992.33152174, 4992.33152174, 4992.33152174, 4992.33152174,\n",
       "       4992.33152174, 4992.33152174, 4992.33152174, 4992.33152174,\n",
       "       4992.33152174, 4992.33152174, 4992.33152174, 4992.33152174,\n",
       "       4992.33152174, 4992.33152174, 4992.33152174, 4992.33152174,\n",
       "       4992.33152174, 4992.33152174, 4992.33152174, 4992.33152174,\n",
       "       4992.33152174, 4992.33152174, 4992.33152174, 5644.30319149,\n",
       "       5644.30319149, 5644.30319149, 5644.30319149, 5644.30319149,\n",
       "       5644.30319149, 5644.30319149, 5644.30319149, 5644.30319149,\n",
       "       5644.30319149, 5644.30319149, 5644.30319149, 5644.30319149,\n",
       "       5644.30319149, 5644.30319149, 5644.30319149, 5644.30319149,\n",
       "       5644.30319149, 5644.30319149, 5644.30319149, 5644.30319149,\n",
       "       5644.30319149, 5644.30319149, 5644.30319149, 5644.30319149,\n",
       "       5644.30319149, 5644.30319149, 5644.30319149, 5644.30319149,\n",
       "       5644.30319149, 5644.30319149, 5644.30319149, 5644.30319149,\n",
       "       5644.30319149, 5644.30319149, 5644.30319149, 5644.30319149,\n",
       "       5644.30319149, 5644.30319149, 5644.30319149, 5644.30319149,\n",
       "       5644.30319149, 5644.30319149, 5644.30319149, 5644.30319149,\n",
       "       5644.30319149, 5644.30319149, 5644.30319149, 5644.30319149,\n",
       "       5644.30319149, 5644.30319149, 5644.30319149, 5644.30319149,\n",
       "       5644.30319149, 5644.30319149, 5644.30319149, 5644.30319149,\n",
       "       5644.30319149, 5644.30319149, 5644.30319149, 5644.30319149,\n",
       "       5644.30319149, 5644.30319149, 5644.30319149, 5644.30319149,\n",
       "       5644.30319149, 5644.30319149, 5644.30319149, 5644.30319149,\n",
       "       5644.30319149, 5644.30319149, 5644.30319149, 5644.30319149,\n",
       "       5644.30319149, 5644.30319149, 5644.30319149, 5644.30319149,\n",
       "       5644.30319149, 5644.30319149, 5644.30319149, 5644.30319149,\n",
       "       5644.30319149, 5644.30319149, 5644.30319149, 5644.30319149,\n",
       "       5644.30319149, 5644.30319149, 5644.30319149, 5644.30319149,\n",
       "       5644.30319149, 5644.30319149, 5644.30319149, 5644.30319149,\n",
       "       5644.30319149, 4728.16292135, 4728.16292135, 4728.16292135,\n",
       "       4728.16292135, 4728.16292135, 4728.16292135, 4728.16292135,\n",
       "       4728.16292135, 4728.16292135, 4728.16292135, 4728.16292135,\n",
       "       4728.16292135, 4728.16292135, 4728.16292135, 4728.16292135,\n",
       "       4728.16292135, 4728.16292135, 4728.16292135, 4728.16292135,\n",
       "       4728.16292135, 4728.16292135, 4728.16292135, 4728.16292135,\n",
       "       4728.16292135, 4728.16292135, 4728.16292135, 4728.16292135,\n",
       "       4728.16292135, 4728.16292135, 4728.16292135, 4728.16292135,\n",
       "       4728.16292135, 4728.16292135, 4728.16292135, 4728.16292135,\n",
       "       4728.16292135, 4728.16292135, 4728.16292135, 4728.16292135,\n",
       "       4728.16292135, 4728.16292135, 4728.16292135, 4728.16292135,\n",
       "       4728.16292135, 4728.16292135, 4728.16292135, 4728.16292135,\n",
       "       4728.16292135, 4728.16292135, 4728.16292135, 4728.16292135,\n",
       "       4728.16292135, 4728.16292135, 4728.16292135, 4728.16292135,\n",
       "       4728.16292135, 4728.16292135, 4728.16292135, 4728.16292135,\n",
       "       4728.16292135, 4728.16292135, 4728.16292135, 4728.16292135,\n",
       "       4728.16292135, 4728.16292135, 4728.16292135, 4728.16292135,\n",
       "       4728.16292135, 4728.16292135, 4728.16292135, 4728.16292135,\n",
       "       4728.16292135, 4728.16292135, 4728.16292135, 4728.16292135,\n",
       "       4728.16292135, 4728.16292135, 4728.16292135, 4728.16292135,\n",
       "       4728.16292135, 4728.16292135, 4728.16292135, 4728.16292135,\n",
       "       4728.16292135, 4728.16292135, 4728.16292135, 4728.16292135,\n",
       "       4728.16292135, 4728.16292135, 2604.13259669, 2604.13259669,\n",
       "       2604.13259669, 2604.13259669, 2604.13259669, 2604.13259669,\n",
       "       2604.13259669, 2604.13259669, 2604.13259669, 2604.13259669,\n",
       "       2604.13259669, 2604.13259669, 2604.13259669, 2604.13259669,\n",
       "       2604.13259669, 2604.13259669, 2604.13259669, 2604.13259669,\n",
       "       2604.13259669, 2604.13259669, 2604.13259669, 2604.13259669,\n",
       "       2604.13259669, 2604.13259669, 2604.13259669, 2604.13259669,\n",
       "       2604.13259669, 2604.13259669, 2604.13259669, 2604.13259669,\n",
       "       2604.13259669, 2604.13259669, 2604.13259669, 2604.13259669,\n",
       "       2604.13259669, 2604.13259669, 2604.13259669, 2604.13259669,\n",
       "       2604.13259669, 2604.13259669, 2604.13259669, 2604.13259669,\n",
       "       2604.13259669, 2604.13259669, 2604.13259669, 2604.13259669,\n",
       "       2604.13259669, 2604.13259669, 2604.13259669, 2604.13259669,\n",
       "       2604.13259669, 2604.13259669, 2604.13259669, 2604.13259669,\n",
       "       2604.13259669, 2604.13259669, 2604.13259669, 2604.13259669,\n",
       "       2604.13259669, 2604.13259669, 2604.13259669, 2604.13259669,\n",
       "       2604.13259669, 2604.13259669, 2604.13259669, 2604.13259669,\n",
       "       2604.13259669, 2604.13259669, 2604.13259669, 2604.13259669,\n",
       "       2604.13259669, 2604.13259669, 2604.13259669, 2604.13259669,\n",
       "       2604.13259669, 2604.13259669, 2604.13259669, 2604.13259669,\n",
       "       2604.13259669, 2604.13259669, 2604.13259669, 2604.13259669,\n",
       "       2604.13259669, 2604.13259669, 2604.13259669, 2604.13259669,\n",
       "       2604.13259669, 2604.13259669, 2604.13259669, 2604.13259669,\n",
       "       2604.13259669, 4992.33152174, 4992.33152174, 4992.33152174,\n",
       "       4992.33152174, 4992.33152174, 4992.33152174, 4992.33152174,\n",
       "       4992.33152174, 4992.33152174, 4992.33152174, 4992.33152174,\n",
       "       4992.33152174, 4992.33152174, 4992.33152174, 4992.33152174,\n",
       "       4992.33152174, 4992.33152174, 4992.33152174, 4992.33152174,\n",
       "       4992.33152174, 4992.33152174, 4992.33152174, 4992.33152174,\n",
       "       4992.33152174, 4992.33152174, 4992.33152174, 4992.33152174,\n",
       "       4992.33152174, 4992.33152174, 4992.33152174, 4992.33152174,\n",
       "       4992.33152174, 4992.33152174, 4992.33152174, 4992.33152174,\n",
       "       4992.33152174, 4992.33152174, 4992.33152174, 4992.33152174,\n",
       "       4992.33152174, 4992.33152174, 4992.33152174, 4992.33152174,\n",
       "       4992.33152174, 4992.33152174, 4992.33152174, 4992.33152174,\n",
       "       4992.33152174, 4992.33152174, 4992.33152174, 4992.33152174,\n",
       "       4992.33152174, 4992.33152174, 4992.33152174, 4992.33152174,\n",
       "       4992.33152174, 4992.33152174, 4992.33152174, 4992.33152174,\n",
       "       4992.33152174, 4992.33152174, 4992.33152174, 4992.33152174,\n",
       "       4992.33152174, 4992.33152174, 4992.33152174, 4992.33152174,\n",
       "       4992.33152174, 4992.33152174, 4992.33152174, 4992.33152174,\n",
       "       4992.33152174, 4992.33152174, 4992.33152174, 4992.33152174,\n",
       "       4992.33152174, 4992.33152174, 4992.33152174, 4992.33152174,\n",
       "       4992.33152174, 4992.33152174, 4992.33152174, 4992.33152174,\n",
       "       4992.33152174, 4992.33152174, 4992.33152174, 4992.33152174,\n",
       "       4992.33152174, 4992.33152174, 4992.33152174, 4992.33152174,\n",
       "       4992.33152174, 5644.30319149, 5644.30319149, 5644.30319149,\n",
       "       5644.30319149, 5644.30319149, 5644.30319149, 5644.30319149,\n",
       "       5644.30319149, 5644.30319149, 5644.30319149, 5644.30319149,\n",
       "       5644.30319149, 5644.30319149, 5644.30319149, 5644.30319149,\n",
       "       5644.30319149, 5644.30319149, 5644.30319149, 5644.30319149,\n",
       "       5644.30319149, 5644.30319149, 5644.30319149, 5644.30319149,\n",
       "       5644.30319149, 5644.30319149, 5644.30319149, 5644.30319149,\n",
       "       5644.30319149, 5644.30319149, 5644.30319149, 5644.30319149,\n",
       "       5644.30319149, 5644.30319149, 5644.30319149, 5644.30319149,\n",
       "       5644.30319149, 5644.30319149, 5644.30319149, 5644.30319149,\n",
       "       5644.30319149, 5644.30319149, 5644.30319149, 5644.30319149,\n",
       "       5644.30319149, 5644.30319149, 5644.30319149, 5644.30319149,\n",
       "       5644.30319149, 5644.30319149, 5644.30319149, 5644.30319149,\n",
       "       5644.30319149, 5644.30319149, 5644.30319149, 5644.30319149,\n",
       "       5644.30319149, 5644.30319149, 5644.30319149, 5644.30319149,\n",
       "       5644.30319149, 5644.30319149, 5644.30319149, 5644.30319149,\n",
       "       5644.30319149, 5644.30319149, 5644.30319149, 5644.30319149,\n",
       "       5644.30319149, 5644.30319149, 5644.30319149, 5644.30319149,\n",
       "       5644.30319149, 5644.30319149, 5644.30319149, 5644.30319149,\n",
       "       5644.30319149, 5644.30319149, 5644.30319149, 5644.30319149,\n",
       "       5644.30319149, 5644.30319149, 5644.30319149, 5644.30319149,\n",
       "       5644.30319149, 5644.30319149, 5644.30319149, 5644.30319149,\n",
       "       5644.30319149, 5644.30319149, 5644.30319149, 5644.30319149,\n",
       "       5644.30319149, 5644.30319149, 5644.30319149, 4728.16292135,\n",
       "       4728.16292135, 4728.16292135, 4728.16292135, 4728.16292135,\n",
       "       4728.16292135, 4728.16292135, 4728.16292135, 4728.16292135,\n",
       "       4728.16292135, 4728.16292135, 4728.16292135, 4728.16292135,\n",
       "       4728.16292135, 4728.16292135, 4728.16292135, 4728.16292135,\n",
       "       4728.16292135, 4728.16292135, 4728.16292135, 4728.16292135,\n",
       "       4728.16292135, 4728.16292135, 4728.16292135, 4728.16292135,\n",
       "       4728.16292135, 4728.16292135, 4728.16292135, 4728.16292135,\n",
       "       4728.16292135, 4728.16292135, 4728.16292135, 4728.16292135,\n",
       "       4728.16292135, 4728.16292135, 4728.16292135, 4728.16292135,\n",
       "       4728.16292135, 4728.16292135, 4728.16292135, 4728.16292135,\n",
       "       4728.16292135, 4728.16292135, 4728.16292135, 4728.16292135,\n",
       "       4728.16292135, 4728.16292135, 4728.16292135, 4728.16292135,\n",
       "       4728.16292135, 4728.16292135, 4728.16292135, 4728.16292135,\n",
       "       4728.16292135, 4728.16292135, 4728.16292135, 4728.16292135,\n",
       "       4728.16292135, 4728.16292135, 4728.16292135, 4728.16292135,\n",
       "       4728.16292135, 4728.16292135, 4728.16292135, 4728.16292135,\n",
       "       4728.16292135, 4728.16292135, 4728.16292135, 4728.16292135,\n",
       "       4728.16292135, 4728.16292135, 4728.16292135, 4728.16292135,\n",
       "       4728.16292135, 4728.16292135, 4728.16292135, 4728.16292135,\n",
       "       4728.16292135, 4728.16292135, 4728.16292135, 4728.16292135,\n",
       "       4728.16292135, 4728.16292135, 4728.16292135, 4728.16292135,\n",
       "       4728.16292135, 4728.16292135, 4728.16292135, 4728.16292135,\n",
       "       2604.13259669, 2604.13259669, 2604.13259669, 2604.13259669,\n",
       "       2604.13259669, 2604.13259669, 2604.13259669, 2604.13259669,\n",
       "       2604.13259669, 2604.13259669, 2604.13259669])"
      ]
     },
     "execution_count": 84,
     "metadata": {},
     "output_type": "execute_result"
    }
   ],
   "source": [
    "y_hat"
   ]
  },
  {
   "cell_type": "code",
   "execution_count": 91,
   "metadata": {
    "ExecuteTime": {
     "end_time": "2022-03-22T21:22:06.028537Z",
     "start_time": "2022-03-22T21:22:06.013534Z"
    }
   },
   "outputs": [
    {
     "data": {
      "text/plain": [
       "0     -1619.132597\n",
       "1     -1803.132597\n",
       "2     -1255.132597\n",
       "3     -1042.132597\n",
       "4     -1004.132597\n",
       "          ...     \n",
       "726    -490.132597\n",
       "727     490.867403\n",
       "728   -1263.132597\n",
       "729    -808.132597\n",
       "730     124.867403\n",
       "Name: cnt, Length: 731, dtype: float64"
      ]
     },
     "execution_count": 91,
     "metadata": {},
     "output_type": "execute_result"
    }
   ],
   "source": [
    "resid"
   ]
  },
  {
   "cell_type": "code",
   "execution_count": null,
   "metadata": {},
   "outputs": [],
   "source": []
  }
 ],
 "metadata": {
  "kernelspec": {
   "display_name": "Python (learn-env)",
   "language": "python",
   "name": "learn-env"
  },
  "language_info": {
   "codemirror_mode": {
    "name": "ipython",
    "version": 3
   },
   "file_extension": ".py",
   "mimetype": "text/x-python",
   "name": "python",
   "nbconvert_exporter": "python",
   "pygments_lexer": "ipython3",
   "version": "3.8.5"
  },
  "toc": {
   "base_numbering": 1,
   "nav_menu": {},
   "number_sections": true,
   "sideBar": true,
   "skip_h1_title": false,
   "title_cell": "Table of Contents",
   "title_sidebar": "Contents",
   "toc_cell": false,
   "toc_position": {},
   "toc_section_display": true,
   "toc_window_display": false
  },
  "varInspector": {
   "cols": {
    "lenName": 16,
    "lenType": 16,
    "lenVar": 40
   },
   "kernels_config": {
    "python": {
     "delete_cmd_postfix": "",
     "delete_cmd_prefix": "del ",
     "library": "var_list.py",
     "varRefreshCmd": "print(var_dic_list())"
    },
    "r": {
     "delete_cmd_postfix": ") ",
     "delete_cmd_prefix": "rm(",
     "library": "var_list.r",
     "varRefreshCmd": "cat(var_dic_list()) "
    }
   },
   "types_to_exclude": [
    "module",
    "function",
    "builtin_function_or_method",
    "instance",
    "_Feature"
   ],
   "window_display": false
  }
 },
 "nbformat": 4,
 "nbformat_minor": 4
}
