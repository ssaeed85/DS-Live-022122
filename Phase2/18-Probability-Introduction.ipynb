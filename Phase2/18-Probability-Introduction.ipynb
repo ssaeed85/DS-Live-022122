{
 "cells": [
  {
   "cell_type": "markdown",
   "metadata": {},
   "source": [
    "# Probability: Introduction to Foundational Concepts\n",
    "\n",
    "\n",
    "## Objectives\n",
    "\n",
    "- Recognize combinatoritcs\n",
    "- Describe the fundamentals of probability theory\n",
    "- Describe set theory and its terminology\n",
    "- Define conditional probability\n"
   ]
  },
  {
   "cell_type": "markdown",
   "metadata": {},
   "source": [
    "![xkcd](images/increased_risk_2x.png)\n",
    "[[Image Source]](https://xkcd.com/1252/)"
   ]
  },
  {
   "cell_type": "markdown",
   "metadata": {
    "heading_collapsed": true,
    "slideshow": {
     "slide_type": "slide"
    }
   },
   "source": [
    "# Set Theory Basics"
   ]
  },
  {
   "cell_type": "markdown",
   "metadata": {
    "hidden": true,
    "slideshow": {
     "slide_type": "slide"
    }
   },
   "source": [
    "In probability theory, a **set** is a well-defined collection of objects (called **elements**). An element is either in a given set or not, and order is not considered.\n",
    "\n",
    "> If an **element** $x$ belongs to a set $S$, then you'd write $x \\in S$. \n",
    "> \n",
    "> On the other hand, if $x$ does not belong to $S$, then you'd write $x\\notin S$.\n",
    "\n",
    "Although sets can be abstract mathematical object, we'll typically think of sets as a collection of things sharing some relevant attribute(s)."
   ]
  },
  {
   "cell_type": "markdown",
   "metadata": {},
   "source": [
    "## Set Notation"
   ]
  },
  {
   "cell_type": "markdown",
   "metadata": {},
   "source": [
    "<img src=\"images/new_venn_diagram.png\" alt=\"venn diagram with set notation\" width=500>"
   ]
  },
  {
   "cell_type": "markdown",
   "metadata": {},
   "source": [
    "The **union** of 2 sets $A$ and $B$ is the set $T$ of elements in either $A$ or $B$, or in both. We denote this with the symbol $\\cup$.\n",
    "\n",
    "\n",
    "$$\\large T = A\\cup B = B\\cup A$$"
   ]
  },
  {
   "cell_type": "markdown",
   "metadata": {},
   "source": [
    "The **intersection** of two sets $A$ and $B$ is the set $V$ that contains all elements of $A$ that also belong to $B$. We denote this with the symbol $\\cap$.\n",
    "\n",
    "$$\\large V = A\\cap B = B\\cap A$$"
   ]
  },
  {
   "cell_type": "markdown",
   "metadata": {},
   "source": [
    "<img src=\"images/setnotation.jpg\" alt=\"set notation, found from https://slideplayer.com/slide/10502152/\" width=800>\n",
    "\n",
    "[Image Source](https://slideplayer.com/slide/10502152/)\n",
    "\n",
    "More on Sets: https://www.mathsisfun.com/sets/sets-introduction.html"
   ]
  },
  {
   "cell_type": "markdown",
   "metadata": {},
   "source": [
    "### But Now, in Python:"
   ]
  },
  {
   "cell_type": "markdown",
   "metadata": {
    "colab_type": "text",
    "id": "c9rKTCYMebwR"
   },
   "source": [
    " These are set methods - work only on Python sets!\n",
    "\n",
    "| Method                      | Result |\n",
    "| ------                      | ------ |\n",
    "| `s.issubset(t)`             | test whether every element in s is in t |\n",
    "| `s.issuperset(t)`           | test whether every element in t is in s |\n",
    "| `s.union(t)`                | new set with elements from both s and t |\n",
    "| `s.intersection(t)`         | new set with elements common to s and t |\n",
    "| `s.difference(t)`           | new set with elements in s but not in t |\n",
    "| `s.symmetric_difference(t)` | new set with elements in either s or t but not both |"
   ]
  },
  {
   "cell_type": "markdown",
   "metadata": {},
   "source": [
    "# Combinatorics\n",
    "\n",
    "Before we dive in much further, let's briefly talk about how you can take elements from different collections and group them."
   ]
  },
  {
   "cell_type": "markdown",
   "metadata": {},
   "source": [
    "### Combinatorics Definition\n",
    "\n",
    "> Combinatorics is the branch of mathematics that deals with the relations characterizing sets, subsets, lists, and multisets.\n",
    ">\n",
    "> Sometimes combinatorics is said to be the branch of math that deals with counting; and that’s true, but not in the sense in which you learned to count in kindergarten. Though combinatorics deals with numbering and finding out how many members are in sets, it’s designed to find ways of doing that **without actual, potentially tedious, counting** involved.\n",
    "\n",
    "-- [Statistics How To](https://www.statisticshowto.com/probability-and-statistics/combinatorics/)"
   ]
  },
  {
   "cell_type": "markdown",
   "metadata": {
    "slideshow": {
     "slide_type": "slide"
    }
   },
   "source": [
    "### What's the difference between a permutation and a combination?\n",
    "\n",
    "In a **permutation**, order matters. If you have a race, it matters who arrives in first, or second, or third place - there's a difference in the ordering of the group!\n",
    "\n",
    "> The number of **permutations** of **n** objects taken **r** at a time is given by the formula:\n",
    ">\n",
    "> $$\\large P(n,r) = \\frac{n!}{(n - r)!}$$\n",
    "\n",
    "In a **combination**, you only care about which items are members of the set. For example, if you're creating groups of students to work on a project, the order in which you add their names to the group doesn't really matter - it's the group members itself, not any order, that you care about.\n",
    "\n",
    "> The number of **combinations** of **n** objects taken **r** at a time is given by the formula:\n",
    ">\n",
    "> $$\\large C(n,r) = \\frac{n!}{r!(n - r)!}$$\n",
    "\n",
    "Main things to ask when dealing with combinations or permutations:\n",
    "- Does order matter? \n",
    "- With or without replacement? (aka does the first choice then restrict the second choice?)"
   ]
  },
  {
   "cell_type": "markdown",
   "metadata": {},
   "source": [
    "### Q: How many possible orders are there for first/second/third place in a race with 30 contestants?"
   ]
  },
  {
   "cell_type": "code",
   "execution_count": 1,
   "metadata": {
    "ExecuteTime": {
     "end_time": "2022-03-14T20:28:01.114955Z",
     "start_time": "2022-03-14T20:28:01.092950Z"
    }
   },
   "outputs": [
    {
     "data": {
      "text/plain": [
       "24360.0"
      ]
     },
     "execution_count": 1,
     "metadata": {},
     "output_type": "execute_result"
    }
   ],
   "source": [
    "# Can use math:\n",
    "import math\n",
    "n = 30\n",
    "r = 3\n",
    "math.factorial(n)/math.factorial(n-r)\n"
   ]
  },
  {
   "cell_type": "code",
   "execution_count": 2,
   "metadata": {
    "ExecuteTime": {
     "end_time": "2022-03-14T20:28:01.130970Z",
     "start_time": "2022-03-14T20:28:01.115956Z"
    }
   },
   "outputs": [
    {
     "data": {
      "text/plain": [
       "<itertools.permutations at 0x1c8d8d063b0>"
      ]
     },
     "execution_count": 2,
     "metadata": {},
     "output_type": "execute_result"
    }
   ],
   "source": [
    "# Also the python library itertools has combination and permutations!\n",
    "import itertools\n",
    "\n",
    "itertools.permutations(range(0,30),3)"
   ]
  },
  {
   "cell_type": "code",
   "execution_count": 3,
   "metadata": {
    "ExecuteTime": {
     "end_time": "2022-03-14T20:28:01.191973Z",
     "start_time": "2022-03-14T20:28:01.137963Z"
    },
    "scrolled": true
   },
   "outputs": [
    {
     "data": {
      "text/plain": [
       "[(0, 1, 2),\n",
       " (0, 1, 3),\n",
       " (0, 1, 4),\n",
       " (0, 1, 5),\n",
       " (0, 1, 6),\n",
       " (0, 1, 7),\n",
       " (0, 1, 8),\n",
       " (0, 1, 9),\n",
       " (0, 1, 10),\n",
       " (0, 1, 11),\n",
       " (0, 1, 12),\n",
       " (0, 1, 13),\n",
       " (0, 1, 14),\n",
       " (0, 1, 15),\n",
       " (0, 1, 16),\n",
       " (0, 1, 17),\n",
       " (0, 1, 18),\n",
       " (0, 1, 19),\n",
       " (0, 1, 20),\n",
       " (0, 1, 21),\n",
       " (0, 1, 22),\n",
       " (0, 1, 23),\n",
       " (0, 1, 24),\n",
       " (0, 1, 25),\n",
       " (0, 1, 26),\n",
       " (0, 1, 27),\n",
       " (0, 1, 28),\n",
       " (0, 1, 29),\n",
       " (0, 2, 1),\n",
       " (0, 2, 3),\n",
       " (0, 2, 4),\n",
       " (0, 2, 5),\n",
       " (0, 2, 6),\n",
       " (0, 2, 7),\n",
       " (0, 2, 8),\n",
       " (0, 2, 9),\n",
       " (0, 2, 10),\n",
       " (0, 2, 11),\n",
       " (0, 2, 12),\n",
       " (0, 2, 13),\n",
       " (0, 2, 14),\n",
       " (0, 2, 15),\n",
       " (0, 2, 16),\n",
       " (0, 2, 17),\n",
       " (0, 2, 18),\n",
       " (0, 2, 19),\n",
       " (0, 2, 20),\n",
       " (0, 2, 21),\n",
       " (0, 2, 22),\n",
       " (0, 2, 23),\n",
       " (0, 2, 24),\n",
       " (0, 2, 25),\n",
       " (0, 2, 26),\n",
       " (0, 2, 27),\n",
       " (0, 2, 28),\n",
       " (0, 2, 29),\n",
       " (0, 3, 1),\n",
       " (0, 3, 2),\n",
       " (0, 3, 4),\n",
       " (0, 3, 5),\n",
       " (0, 3, 6),\n",
       " (0, 3, 7),\n",
       " (0, 3, 8),\n",
       " (0, 3, 9),\n",
       " (0, 3, 10),\n",
       " (0, 3, 11),\n",
       " (0, 3, 12),\n",
       " (0, 3, 13),\n",
       " (0, 3, 14),\n",
       " (0, 3, 15),\n",
       " (0, 3, 16),\n",
       " (0, 3, 17),\n",
       " (0, 3, 18),\n",
       " (0, 3, 19),\n",
       " (0, 3, 20),\n",
       " (0, 3, 21),\n",
       " (0, 3, 22),\n",
       " (0, 3, 23),\n",
       " (0, 3, 24),\n",
       " (0, 3, 25),\n",
       " (0, 3, 26),\n",
       " (0, 3, 27),\n",
       " (0, 3, 28),\n",
       " (0, 3, 29),\n",
       " (0, 4, 1),\n",
       " (0, 4, 2),\n",
       " (0, 4, 3),\n",
       " (0, 4, 5),\n",
       " (0, 4, 6),\n",
       " (0, 4, 7),\n",
       " (0, 4, 8),\n",
       " (0, 4, 9),\n",
       " (0, 4, 10),\n",
       " (0, 4, 11),\n",
       " (0, 4, 12),\n",
       " (0, 4, 13),\n",
       " (0, 4, 14),\n",
       " (0, 4, 15),\n",
       " (0, 4, 16),\n",
       " (0, 4, 17),\n",
       " (0, 4, 18),\n",
       " (0, 4, 19),\n",
       " (0, 4, 20),\n",
       " (0, 4, 21),\n",
       " (0, 4, 22),\n",
       " (0, 4, 23),\n",
       " (0, 4, 24),\n",
       " (0, 4, 25),\n",
       " (0, 4, 26),\n",
       " (0, 4, 27),\n",
       " (0, 4, 28),\n",
       " (0, 4, 29),\n",
       " (0, 5, 1),\n",
       " (0, 5, 2),\n",
       " (0, 5, 3),\n",
       " (0, 5, 4),\n",
       " (0, 5, 6),\n",
       " (0, 5, 7),\n",
       " (0, 5, 8),\n",
       " (0, 5, 9),\n",
       " (0, 5, 10),\n",
       " (0, 5, 11),\n",
       " (0, 5, 12),\n",
       " (0, 5, 13),\n",
       " (0, 5, 14),\n",
       " (0, 5, 15),\n",
       " (0, 5, 16),\n",
       " (0, 5, 17),\n",
       " (0, 5, 18),\n",
       " (0, 5, 19),\n",
       " (0, 5, 20),\n",
       " (0, 5, 21),\n",
       " (0, 5, 22),\n",
       " (0, 5, 23),\n",
       " (0, 5, 24),\n",
       " (0, 5, 25),\n",
       " (0, 5, 26),\n",
       " (0, 5, 27),\n",
       " (0, 5, 28),\n",
       " (0, 5, 29),\n",
       " (0, 6, 1),\n",
       " (0, 6, 2),\n",
       " (0, 6, 3),\n",
       " (0, 6, 4),\n",
       " (0, 6, 5),\n",
       " (0, 6, 7),\n",
       " (0, 6, 8),\n",
       " (0, 6, 9),\n",
       " (0, 6, 10),\n",
       " (0, 6, 11),\n",
       " (0, 6, 12),\n",
       " (0, 6, 13),\n",
       " (0, 6, 14),\n",
       " (0, 6, 15),\n",
       " (0, 6, 16),\n",
       " (0, 6, 17),\n",
       " (0, 6, 18),\n",
       " (0, 6, 19),\n",
       " (0, 6, 20),\n",
       " (0, 6, 21),\n",
       " (0, 6, 22),\n",
       " (0, 6, 23),\n",
       " (0, 6, 24),\n",
       " (0, 6, 25),\n",
       " (0, 6, 26),\n",
       " (0, 6, 27),\n",
       " (0, 6, 28),\n",
       " (0, 6, 29),\n",
       " (0, 7, 1),\n",
       " (0, 7, 2),\n",
       " (0, 7, 3),\n",
       " (0, 7, 4),\n",
       " (0, 7, 5),\n",
       " (0, 7, 6),\n",
       " (0, 7, 8),\n",
       " (0, 7, 9),\n",
       " (0, 7, 10),\n",
       " (0, 7, 11),\n",
       " (0, 7, 12),\n",
       " (0, 7, 13),\n",
       " (0, 7, 14),\n",
       " (0, 7, 15),\n",
       " (0, 7, 16),\n",
       " (0, 7, 17),\n",
       " (0, 7, 18),\n",
       " (0, 7, 19),\n",
       " (0, 7, 20),\n",
       " (0, 7, 21),\n",
       " (0, 7, 22),\n",
       " (0, 7, 23),\n",
       " (0, 7, 24),\n",
       " (0, 7, 25),\n",
       " (0, 7, 26),\n",
       " (0, 7, 27),\n",
       " (0, 7, 28),\n",
       " (0, 7, 29),\n",
       " (0, 8, 1),\n",
       " (0, 8, 2),\n",
       " (0, 8, 3),\n",
       " (0, 8, 4),\n",
       " (0, 8, 5),\n",
       " (0, 8, 6),\n",
       " (0, 8, 7),\n",
       " (0, 8, 9),\n",
       " (0, 8, 10),\n",
       " (0, 8, 11),\n",
       " (0, 8, 12),\n",
       " (0, 8, 13),\n",
       " (0, 8, 14),\n",
       " (0, 8, 15),\n",
       " (0, 8, 16),\n",
       " (0, 8, 17),\n",
       " (0, 8, 18),\n",
       " (0, 8, 19),\n",
       " (0, 8, 20),\n",
       " (0, 8, 21),\n",
       " (0, 8, 22),\n",
       " (0, 8, 23),\n",
       " (0, 8, 24),\n",
       " (0, 8, 25),\n",
       " (0, 8, 26),\n",
       " (0, 8, 27),\n",
       " (0, 8, 28),\n",
       " (0, 8, 29),\n",
       " (0, 9, 1),\n",
       " (0, 9, 2),\n",
       " (0, 9, 3),\n",
       " (0, 9, 4),\n",
       " (0, 9, 5),\n",
       " (0, 9, 6),\n",
       " (0, 9, 7),\n",
       " (0, 9, 8),\n",
       " (0, 9, 10),\n",
       " (0, 9, 11),\n",
       " (0, 9, 12),\n",
       " (0, 9, 13),\n",
       " (0, 9, 14),\n",
       " (0, 9, 15),\n",
       " (0, 9, 16),\n",
       " (0, 9, 17),\n",
       " (0, 9, 18),\n",
       " (0, 9, 19),\n",
       " (0, 9, 20),\n",
       " (0, 9, 21),\n",
       " (0, 9, 22),\n",
       " (0, 9, 23),\n",
       " (0, 9, 24),\n",
       " (0, 9, 25),\n",
       " (0, 9, 26),\n",
       " (0, 9, 27),\n",
       " (0, 9, 28),\n",
       " (0, 9, 29),\n",
       " (0, 10, 1),\n",
       " (0, 10, 2),\n",
       " (0, 10, 3),\n",
       " (0, 10, 4),\n",
       " (0, 10, 5),\n",
       " (0, 10, 6),\n",
       " (0, 10, 7),\n",
       " (0, 10, 8),\n",
       " (0, 10, 9),\n",
       " (0, 10, 11),\n",
       " (0, 10, 12),\n",
       " (0, 10, 13),\n",
       " (0, 10, 14),\n",
       " (0, 10, 15),\n",
       " (0, 10, 16),\n",
       " (0, 10, 17),\n",
       " (0, 10, 18),\n",
       " (0, 10, 19),\n",
       " (0, 10, 20),\n",
       " (0, 10, 21),\n",
       " (0, 10, 22),\n",
       " (0, 10, 23),\n",
       " (0, 10, 24),\n",
       " (0, 10, 25),\n",
       " (0, 10, 26),\n",
       " (0, 10, 27),\n",
       " (0, 10, 28),\n",
       " (0, 10, 29),\n",
       " (0, 11, 1),\n",
       " (0, 11, 2),\n",
       " (0, 11, 3),\n",
       " (0, 11, 4),\n",
       " (0, 11, 5),\n",
       " (0, 11, 6),\n",
       " (0, 11, 7),\n",
       " (0, 11, 8),\n",
       " (0, 11, 9),\n",
       " (0, 11, 10),\n",
       " (0, 11, 12),\n",
       " (0, 11, 13),\n",
       " (0, 11, 14),\n",
       " (0, 11, 15),\n",
       " (0, 11, 16),\n",
       " (0, 11, 17),\n",
       " (0, 11, 18),\n",
       " (0, 11, 19),\n",
       " (0, 11, 20),\n",
       " (0, 11, 21),\n",
       " (0, 11, 22),\n",
       " (0, 11, 23),\n",
       " (0, 11, 24),\n",
       " (0, 11, 25),\n",
       " (0, 11, 26),\n",
       " (0, 11, 27),\n",
       " (0, 11, 28),\n",
       " (0, 11, 29),\n",
       " (0, 12, 1),\n",
       " (0, 12, 2),\n",
       " (0, 12, 3),\n",
       " (0, 12, 4),\n",
       " (0, 12, 5),\n",
       " (0, 12, 6),\n",
       " (0, 12, 7),\n",
       " (0, 12, 8),\n",
       " (0, 12, 9),\n",
       " (0, 12, 10),\n",
       " (0, 12, 11),\n",
       " (0, 12, 13),\n",
       " (0, 12, 14),\n",
       " (0, 12, 15),\n",
       " (0, 12, 16),\n",
       " (0, 12, 17),\n",
       " (0, 12, 18),\n",
       " (0, 12, 19),\n",
       " (0, 12, 20),\n",
       " (0, 12, 21),\n",
       " (0, 12, 22),\n",
       " (0, 12, 23),\n",
       " (0, 12, 24),\n",
       " (0, 12, 25),\n",
       " (0, 12, 26),\n",
       " (0, 12, 27),\n",
       " (0, 12, 28),\n",
       " (0, 12, 29),\n",
       " (0, 13, 1),\n",
       " (0, 13, 2),\n",
       " (0, 13, 3),\n",
       " (0, 13, 4),\n",
       " (0, 13, 5),\n",
       " (0, 13, 6),\n",
       " (0, 13, 7),\n",
       " (0, 13, 8),\n",
       " (0, 13, 9),\n",
       " (0, 13, 10),\n",
       " (0, 13, 11),\n",
       " (0, 13, 12),\n",
       " (0, 13, 14),\n",
       " (0, 13, 15),\n",
       " (0, 13, 16),\n",
       " (0, 13, 17),\n",
       " (0, 13, 18),\n",
       " (0, 13, 19),\n",
       " (0, 13, 20),\n",
       " (0, 13, 21),\n",
       " (0, 13, 22),\n",
       " (0, 13, 23),\n",
       " (0, 13, 24),\n",
       " (0, 13, 25),\n",
       " (0, 13, 26),\n",
       " (0, 13, 27),\n",
       " (0, 13, 28),\n",
       " (0, 13, 29),\n",
       " (0, 14, 1),\n",
       " (0, 14, 2),\n",
       " (0, 14, 3),\n",
       " (0, 14, 4),\n",
       " (0, 14, 5),\n",
       " (0, 14, 6),\n",
       " (0, 14, 7),\n",
       " (0, 14, 8),\n",
       " (0, 14, 9),\n",
       " (0, 14, 10),\n",
       " (0, 14, 11),\n",
       " (0, 14, 12),\n",
       " (0, 14, 13),\n",
       " (0, 14, 15),\n",
       " (0, 14, 16),\n",
       " (0, 14, 17),\n",
       " (0, 14, 18),\n",
       " (0, 14, 19),\n",
       " (0, 14, 20),\n",
       " (0, 14, 21),\n",
       " (0, 14, 22),\n",
       " (0, 14, 23),\n",
       " (0, 14, 24),\n",
       " (0, 14, 25),\n",
       " (0, 14, 26),\n",
       " (0, 14, 27),\n",
       " (0, 14, 28),\n",
       " (0, 14, 29),\n",
       " (0, 15, 1),\n",
       " (0, 15, 2),\n",
       " (0, 15, 3),\n",
       " (0, 15, 4),\n",
       " (0, 15, 5),\n",
       " (0, 15, 6),\n",
       " (0, 15, 7),\n",
       " (0, 15, 8),\n",
       " (0, 15, 9),\n",
       " (0, 15, 10),\n",
       " (0, 15, 11),\n",
       " (0, 15, 12),\n",
       " (0, 15, 13),\n",
       " (0, 15, 14),\n",
       " (0, 15, 16),\n",
       " (0, 15, 17),\n",
       " (0, 15, 18),\n",
       " (0, 15, 19),\n",
       " (0, 15, 20),\n",
       " (0, 15, 21),\n",
       " (0, 15, 22),\n",
       " (0, 15, 23),\n",
       " (0, 15, 24),\n",
       " (0, 15, 25),\n",
       " (0, 15, 26),\n",
       " (0, 15, 27),\n",
       " (0, 15, 28),\n",
       " (0, 15, 29),\n",
       " (0, 16, 1),\n",
       " (0, 16, 2),\n",
       " (0, 16, 3),\n",
       " (0, 16, 4),\n",
       " (0, 16, 5),\n",
       " (0, 16, 6),\n",
       " (0, 16, 7),\n",
       " (0, 16, 8),\n",
       " (0, 16, 9),\n",
       " (0, 16, 10),\n",
       " (0, 16, 11),\n",
       " (0, 16, 12),\n",
       " (0, 16, 13),\n",
       " (0, 16, 14),\n",
       " (0, 16, 15),\n",
       " (0, 16, 17),\n",
       " (0, 16, 18),\n",
       " (0, 16, 19),\n",
       " (0, 16, 20),\n",
       " (0, 16, 21),\n",
       " (0, 16, 22),\n",
       " (0, 16, 23),\n",
       " (0, 16, 24),\n",
       " (0, 16, 25),\n",
       " (0, 16, 26),\n",
       " (0, 16, 27),\n",
       " (0, 16, 28),\n",
       " (0, 16, 29),\n",
       " (0, 17, 1),\n",
       " (0, 17, 2),\n",
       " (0, 17, 3),\n",
       " (0, 17, 4),\n",
       " (0, 17, 5),\n",
       " (0, 17, 6),\n",
       " (0, 17, 7),\n",
       " (0, 17, 8),\n",
       " (0, 17, 9),\n",
       " (0, 17, 10),\n",
       " (0, 17, 11),\n",
       " (0, 17, 12),\n",
       " (0, 17, 13),\n",
       " (0, 17, 14),\n",
       " (0, 17, 15),\n",
       " (0, 17, 16),\n",
       " (0, 17, 18),\n",
       " (0, 17, 19),\n",
       " (0, 17, 20),\n",
       " (0, 17, 21),\n",
       " (0, 17, 22),\n",
       " (0, 17, 23),\n",
       " (0, 17, 24),\n",
       " (0, 17, 25),\n",
       " (0, 17, 26),\n",
       " (0, 17, 27),\n",
       " (0, 17, 28),\n",
       " (0, 17, 29),\n",
       " (0, 18, 1),\n",
       " (0, 18, 2),\n",
       " (0, 18, 3),\n",
       " (0, 18, 4),\n",
       " (0, 18, 5),\n",
       " (0, 18, 6),\n",
       " (0, 18, 7),\n",
       " (0, 18, 8),\n",
       " (0, 18, 9),\n",
       " (0, 18, 10),\n",
       " (0, 18, 11),\n",
       " (0, 18, 12),\n",
       " (0, 18, 13),\n",
       " (0, 18, 14),\n",
       " (0, 18, 15),\n",
       " (0, 18, 16),\n",
       " (0, 18, 17),\n",
       " (0, 18, 19),\n",
       " (0, 18, 20),\n",
       " (0, 18, 21),\n",
       " (0, 18, 22),\n",
       " (0, 18, 23),\n",
       " (0, 18, 24),\n",
       " (0, 18, 25),\n",
       " (0, 18, 26),\n",
       " (0, 18, 27),\n",
       " (0, 18, 28),\n",
       " (0, 18, 29),\n",
       " (0, 19, 1),\n",
       " (0, 19, 2),\n",
       " (0, 19, 3),\n",
       " (0, 19, 4),\n",
       " (0, 19, 5),\n",
       " (0, 19, 6),\n",
       " (0, 19, 7),\n",
       " (0, 19, 8),\n",
       " (0, 19, 9),\n",
       " (0, 19, 10),\n",
       " (0, 19, 11),\n",
       " (0, 19, 12),\n",
       " (0, 19, 13),\n",
       " (0, 19, 14),\n",
       " (0, 19, 15),\n",
       " (0, 19, 16),\n",
       " (0, 19, 17),\n",
       " (0, 19, 18),\n",
       " (0, 19, 20),\n",
       " (0, 19, 21),\n",
       " (0, 19, 22),\n",
       " (0, 19, 23),\n",
       " (0, 19, 24),\n",
       " (0, 19, 25),\n",
       " (0, 19, 26),\n",
       " (0, 19, 27),\n",
       " (0, 19, 28),\n",
       " (0, 19, 29),\n",
       " (0, 20, 1),\n",
       " (0, 20, 2),\n",
       " (0, 20, 3),\n",
       " (0, 20, 4),\n",
       " (0, 20, 5),\n",
       " (0, 20, 6),\n",
       " (0, 20, 7),\n",
       " (0, 20, 8),\n",
       " (0, 20, 9),\n",
       " (0, 20, 10),\n",
       " (0, 20, 11),\n",
       " (0, 20, 12),\n",
       " (0, 20, 13),\n",
       " (0, 20, 14),\n",
       " (0, 20, 15),\n",
       " (0, 20, 16),\n",
       " (0, 20, 17),\n",
       " (0, 20, 18),\n",
       " (0, 20, 19),\n",
       " (0, 20, 21),\n",
       " (0, 20, 22),\n",
       " (0, 20, 23),\n",
       " (0, 20, 24),\n",
       " (0, 20, 25),\n",
       " (0, 20, 26),\n",
       " (0, 20, 27),\n",
       " (0, 20, 28),\n",
       " (0, 20, 29),\n",
       " (0, 21, 1),\n",
       " (0, 21, 2),\n",
       " (0, 21, 3),\n",
       " (0, 21, 4),\n",
       " (0, 21, 5),\n",
       " (0, 21, 6),\n",
       " (0, 21, 7),\n",
       " (0, 21, 8),\n",
       " (0, 21, 9),\n",
       " (0, 21, 10),\n",
       " (0, 21, 11),\n",
       " (0, 21, 12),\n",
       " (0, 21, 13),\n",
       " (0, 21, 14),\n",
       " (0, 21, 15),\n",
       " (0, 21, 16),\n",
       " (0, 21, 17),\n",
       " (0, 21, 18),\n",
       " (0, 21, 19),\n",
       " (0, 21, 20),\n",
       " (0, 21, 22),\n",
       " (0, 21, 23),\n",
       " (0, 21, 24),\n",
       " (0, 21, 25),\n",
       " (0, 21, 26),\n",
       " (0, 21, 27),\n",
       " (0, 21, 28),\n",
       " (0, 21, 29),\n",
       " (0, 22, 1),\n",
       " (0, 22, 2),\n",
       " (0, 22, 3),\n",
       " (0, 22, 4),\n",
       " (0, 22, 5),\n",
       " (0, 22, 6),\n",
       " (0, 22, 7),\n",
       " (0, 22, 8),\n",
       " (0, 22, 9),\n",
       " (0, 22, 10),\n",
       " (0, 22, 11),\n",
       " (0, 22, 12),\n",
       " (0, 22, 13),\n",
       " (0, 22, 14),\n",
       " (0, 22, 15),\n",
       " (0, 22, 16),\n",
       " (0, 22, 17),\n",
       " (0, 22, 18),\n",
       " (0, 22, 19),\n",
       " (0, 22, 20),\n",
       " (0, 22, 21),\n",
       " (0, 22, 23),\n",
       " (0, 22, 24),\n",
       " (0, 22, 25),\n",
       " (0, 22, 26),\n",
       " (0, 22, 27),\n",
       " (0, 22, 28),\n",
       " (0, 22, 29),\n",
       " (0, 23, 1),\n",
       " (0, 23, 2),\n",
       " (0, 23, 3),\n",
       " (0, 23, 4),\n",
       " (0, 23, 5),\n",
       " (0, 23, 6),\n",
       " (0, 23, 7),\n",
       " (0, 23, 8),\n",
       " (0, 23, 9),\n",
       " (0, 23, 10),\n",
       " (0, 23, 11),\n",
       " (0, 23, 12),\n",
       " (0, 23, 13),\n",
       " (0, 23, 14),\n",
       " (0, 23, 15),\n",
       " (0, 23, 16),\n",
       " (0, 23, 17),\n",
       " (0, 23, 18),\n",
       " (0, 23, 19),\n",
       " (0, 23, 20),\n",
       " (0, 23, 21),\n",
       " (0, 23, 22),\n",
       " (0, 23, 24),\n",
       " (0, 23, 25),\n",
       " (0, 23, 26),\n",
       " (0, 23, 27),\n",
       " (0, 23, 28),\n",
       " (0, 23, 29),\n",
       " (0, 24, 1),\n",
       " (0, 24, 2),\n",
       " (0, 24, 3),\n",
       " (0, 24, 4),\n",
       " (0, 24, 5),\n",
       " (0, 24, 6),\n",
       " (0, 24, 7),\n",
       " (0, 24, 8),\n",
       " (0, 24, 9),\n",
       " (0, 24, 10),\n",
       " (0, 24, 11),\n",
       " (0, 24, 12),\n",
       " (0, 24, 13),\n",
       " (0, 24, 14),\n",
       " (0, 24, 15),\n",
       " (0, 24, 16),\n",
       " (0, 24, 17),\n",
       " (0, 24, 18),\n",
       " (0, 24, 19),\n",
       " (0, 24, 20),\n",
       " (0, 24, 21),\n",
       " (0, 24, 22),\n",
       " (0, 24, 23),\n",
       " (0, 24, 25),\n",
       " (0, 24, 26),\n",
       " (0, 24, 27),\n",
       " (0, 24, 28),\n",
       " (0, 24, 29),\n",
       " (0, 25, 1),\n",
       " (0, 25, 2),\n",
       " (0, 25, 3),\n",
       " (0, 25, 4),\n",
       " (0, 25, 5),\n",
       " (0, 25, 6),\n",
       " (0, 25, 7),\n",
       " (0, 25, 8),\n",
       " (0, 25, 9),\n",
       " (0, 25, 10),\n",
       " (0, 25, 11),\n",
       " (0, 25, 12),\n",
       " (0, 25, 13),\n",
       " (0, 25, 14),\n",
       " (0, 25, 15),\n",
       " (0, 25, 16),\n",
       " (0, 25, 17),\n",
       " (0, 25, 18),\n",
       " (0, 25, 19),\n",
       " (0, 25, 20),\n",
       " (0, 25, 21),\n",
       " (0, 25, 22),\n",
       " (0, 25, 23),\n",
       " (0, 25, 24),\n",
       " (0, 25, 26),\n",
       " (0, 25, 27),\n",
       " (0, 25, 28),\n",
       " (0, 25, 29),\n",
       " (0, 26, 1),\n",
       " (0, 26, 2),\n",
       " (0, 26, 3),\n",
       " (0, 26, 4),\n",
       " (0, 26, 5),\n",
       " (0, 26, 6),\n",
       " (0, 26, 7),\n",
       " (0, 26, 8),\n",
       " (0, 26, 9),\n",
       " (0, 26, 10),\n",
       " (0, 26, 11),\n",
       " (0, 26, 12),\n",
       " (0, 26, 13),\n",
       " (0, 26, 14),\n",
       " (0, 26, 15),\n",
       " (0, 26, 16),\n",
       " (0, 26, 17),\n",
       " (0, 26, 18),\n",
       " (0, 26, 19),\n",
       " (0, 26, 20),\n",
       " (0, 26, 21),\n",
       " (0, 26, 22),\n",
       " (0, 26, 23),\n",
       " (0, 26, 24),\n",
       " (0, 26, 25),\n",
       " (0, 26, 27),\n",
       " (0, 26, 28),\n",
       " (0, 26, 29),\n",
       " (0, 27, 1),\n",
       " (0, 27, 2),\n",
       " (0, 27, 3),\n",
       " (0, 27, 4),\n",
       " (0, 27, 5),\n",
       " (0, 27, 6),\n",
       " (0, 27, 7),\n",
       " (0, 27, 8),\n",
       " (0, 27, 9),\n",
       " (0, 27, 10),\n",
       " (0, 27, 11),\n",
       " (0, 27, 12),\n",
       " (0, 27, 13),\n",
       " (0, 27, 14),\n",
       " (0, 27, 15),\n",
       " (0, 27, 16),\n",
       " (0, 27, 17),\n",
       " (0, 27, 18),\n",
       " (0, 27, 19),\n",
       " (0, 27, 20),\n",
       " (0, 27, 21),\n",
       " (0, 27, 22),\n",
       " (0, 27, 23),\n",
       " (0, 27, 24),\n",
       " (0, 27, 25),\n",
       " (0, 27, 26),\n",
       " (0, 27, 28),\n",
       " (0, 27, 29),\n",
       " (0, 28, 1),\n",
       " (0, 28, 2),\n",
       " (0, 28, 3),\n",
       " (0, 28, 4),\n",
       " (0, 28, 5),\n",
       " (0, 28, 6),\n",
       " (0, 28, 7),\n",
       " (0, 28, 8),\n",
       " (0, 28, 9),\n",
       " (0, 28, 10),\n",
       " (0, 28, 11),\n",
       " (0, 28, 12),\n",
       " (0, 28, 13),\n",
       " (0, 28, 14),\n",
       " (0, 28, 15),\n",
       " (0, 28, 16),\n",
       " (0, 28, 17),\n",
       " (0, 28, 18),\n",
       " (0, 28, 19),\n",
       " (0, 28, 20),\n",
       " (0, 28, 21),\n",
       " (0, 28, 22),\n",
       " (0, 28, 23),\n",
       " (0, 28, 24),\n",
       " (0, 28, 25),\n",
       " (0, 28, 26),\n",
       " (0, 28, 27),\n",
       " (0, 28, 29),\n",
       " (0, 29, 1),\n",
       " (0, 29, 2),\n",
       " (0, 29, 3),\n",
       " (0, 29, 4),\n",
       " (0, 29, 5),\n",
       " (0, 29, 6),\n",
       " (0, 29, 7),\n",
       " (0, 29, 8),\n",
       " (0, 29, 9),\n",
       " (0, 29, 10),\n",
       " (0, 29, 11),\n",
       " (0, 29, 12),\n",
       " (0, 29, 13),\n",
       " (0, 29, 14),\n",
       " (0, 29, 15),\n",
       " (0, 29, 16),\n",
       " (0, 29, 17),\n",
       " (0, 29, 18),\n",
       " (0, 29, 19),\n",
       " (0, 29, 20),\n",
       " (0, 29, 21),\n",
       " (0, 29, 22),\n",
       " (0, 29, 23),\n",
       " (0, 29, 24),\n",
       " (0, 29, 25),\n",
       " (0, 29, 26),\n",
       " (0, 29, 27),\n",
       " (0, 29, 28),\n",
       " (1, 0, 2),\n",
       " (1, 0, 3),\n",
       " (1, 0, 4),\n",
       " (1, 0, 5),\n",
       " (1, 0, 6),\n",
       " (1, 0, 7),\n",
       " (1, 0, 8),\n",
       " (1, 0, 9),\n",
       " (1, 0, 10),\n",
       " (1, 0, 11),\n",
       " (1, 0, 12),\n",
       " (1, 0, 13),\n",
       " (1, 0, 14),\n",
       " (1, 0, 15),\n",
       " (1, 0, 16),\n",
       " (1, 0, 17),\n",
       " (1, 0, 18),\n",
       " (1, 0, 19),\n",
       " (1, 0, 20),\n",
       " (1, 0, 21),\n",
       " (1, 0, 22),\n",
       " (1, 0, 23),\n",
       " (1, 0, 24),\n",
       " (1, 0, 25),\n",
       " (1, 0, 26),\n",
       " (1, 0, 27),\n",
       " (1, 0, 28),\n",
       " (1, 0, 29),\n",
       " (1, 2, 0),\n",
       " (1, 2, 3),\n",
       " (1, 2, 4),\n",
       " (1, 2, 5),\n",
       " (1, 2, 6),\n",
       " (1, 2, 7),\n",
       " (1, 2, 8),\n",
       " (1, 2, 9),\n",
       " (1, 2, 10),\n",
       " (1, 2, 11),\n",
       " (1, 2, 12),\n",
       " (1, 2, 13),\n",
       " (1, 2, 14),\n",
       " (1, 2, 15),\n",
       " (1, 2, 16),\n",
       " (1, 2, 17),\n",
       " (1, 2, 18),\n",
       " (1, 2, 19),\n",
       " (1, 2, 20),\n",
       " (1, 2, 21),\n",
       " (1, 2, 22),\n",
       " (1, 2, 23),\n",
       " (1, 2, 24),\n",
       " (1, 2, 25),\n",
       " (1, 2, 26),\n",
       " (1, 2, 27),\n",
       " (1, 2, 28),\n",
       " (1, 2, 29),\n",
       " (1, 3, 0),\n",
       " (1, 3, 2),\n",
       " (1, 3, 4),\n",
       " (1, 3, 5),\n",
       " (1, 3, 6),\n",
       " (1, 3, 7),\n",
       " (1, 3, 8),\n",
       " (1, 3, 9),\n",
       " (1, 3, 10),\n",
       " (1, 3, 11),\n",
       " (1, 3, 12),\n",
       " (1, 3, 13),\n",
       " (1, 3, 14),\n",
       " (1, 3, 15),\n",
       " (1, 3, 16),\n",
       " (1, 3, 17),\n",
       " (1, 3, 18),\n",
       " (1, 3, 19),\n",
       " (1, 3, 20),\n",
       " (1, 3, 21),\n",
       " (1, 3, 22),\n",
       " (1, 3, 23),\n",
       " (1, 3, 24),\n",
       " (1, 3, 25),\n",
       " (1, 3, 26),\n",
       " (1, 3, 27),\n",
       " (1, 3, 28),\n",
       " (1, 3, 29),\n",
       " (1, 4, 0),\n",
       " (1, 4, 2),\n",
       " (1, 4, 3),\n",
       " (1, 4, 5),\n",
       " (1, 4, 6),\n",
       " (1, 4, 7),\n",
       " (1, 4, 8),\n",
       " (1, 4, 9),\n",
       " (1, 4, 10),\n",
       " (1, 4, 11),\n",
       " (1, 4, 12),\n",
       " (1, 4, 13),\n",
       " (1, 4, 14),\n",
       " (1, 4, 15),\n",
       " (1, 4, 16),\n",
       " (1, 4, 17),\n",
       " (1, 4, 18),\n",
       " (1, 4, 19),\n",
       " (1, 4, 20),\n",
       " (1, 4, 21),\n",
       " (1, 4, 22),\n",
       " (1, 4, 23),\n",
       " (1, 4, 24),\n",
       " (1, 4, 25),\n",
       " (1, 4, 26),\n",
       " (1, 4, 27),\n",
       " (1, 4, 28),\n",
       " (1, 4, 29),\n",
       " (1, 5, 0),\n",
       " (1, 5, 2),\n",
       " (1, 5, 3),\n",
       " (1, 5, 4),\n",
       " (1, 5, 6),\n",
       " (1, 5, 7),\n",
       " (1, 5, 8),\n",
       " (1, 5, 9),\n",
       " (1, 5, 10),\n",
       " (1, 5, 11),\n",
       " (1, 5, 12),\n",
       " (1, 5, 13),\n",
       " (1, 5, 14),\n",
       " (1, 5, 15),\n",
       " (1, 5, 16),\n",
       " (1, 5, 17),\n",
       " (1, 5, 18),\n",
       " (1, 5, 19),\n",
       " (1, 5, 20),\n",
       " (1, 5, 21),\n",
       " (1, 5, 22),\n",
       " (1, 5, 23),\n",
       " (1, 5, 24),\n",
       " (1, 5, 25),\n",
       " (1, 5, 26),\n",
       " (1, 5, 27),\n",
       " (1, 5, 28),\n",
       " (1, 5, 29),\n",
       " (1, 6, 0),\n",
       " (1, 6, 2),\n",
       " (1, 6, 3),\n",
       " (1, 6, 4),\n",
       " (1, 6, 5),\n",
       " (1, 6, 7),\n",
       " (1, 6, 8),\n",
       " (1, 6, 9),\n",
       " (1, 6, 10),\n",
       " (1, 6, 11),\n",
       " (1, 6, 12),\n",
       " (1, 6, 13),\n",
       " (1, 6, 14),\n",
       " (1, 6, 15),\n",
       " (1, 6, 16),\n",
       " (1, 6, 17),\n",
       " (1, 6, 18),\n",
       " (1, 6, 19),\n",
       " (1, 6, 20),\n",
       " (1, 6, 21),\n",
       " (1, 6, 22),\n",
       " (1, 6, 23),\n",
       " (1, 6, 24),\n",
       " (1, 6, 25),\n",
       " (1, 6, 26),\n",
       " (1, 6, 27),\n",
       " (1, 6, 28),\n",
       " (1, 6, 29),\n",
       " (1, 7, 0),\n",
       " (1, 7, 2),\n",
       " (1, 7, 3),\n",
       " (1, 7, 4),\n",
       " (1, 7, 5),\n",
       " (1, 7, 6),\n",
       " (1, 7, 8),\n",
       " (1, 7, 9),\n",
       " (1, 7, 10),\n",
       " (1, 7, 11),\n",
       " (1, 7, 12),\n",
       " (1, 7, 13),\n",
       " (1, 7, 14),\n",
       " (1, 7, 15),\n",
       " (1, 7, 16),\n",
       " (1, 7, 17),\n",
       " (1, 7, 18),\n",
       " (1, 7, 19),\n",
       " (1, 7, 20),\n",
       " (1, 7, 21),\n",
       " ...]"
      ]
     },
     "execution_count": 3,
     "metadata": {},
     "output_type": "execute_result"
    }
   ],
   "source": [
    "list(itertools.permutations(range(0,30),3))"
   ]
  },
  {
   "cell_type": "code",
   "execution_count": 4,
   "metadata": {
    "ExecuteTime": {
     "end_time": "2022-03-14T20:28:01.207977Z",
     "start_time": "2022-03-14T20:28:01.193974Z"
    }
   },
   "outputs": [
    {
     "data": {
      "text/plain": [
       "24360"
      ]
     },
     "execution_count": 4,
     "metadata": {},
     "output_type": "execute_result"
    }
   ],
   "source": [
    "len(list(itertools.permutations(range(0,30),3)))"
   ]
  },
  {
   "cell_type": "markdown",
   "metadata": {
    "slideshow": {
     "slide_type": "slide"
    }
   },
   "source": [
    "### Q: How many possible codes are there for a standard padlock?\n",
    "\n",
    "> Hint: (there are 40 numbers on a padlock and use 3 numbers - **with replacement**)"
   ]
  },
  {
   "cell_type": "code",
   "execution_count": 5,
   "metadata": {
    "ExecuteTime": {
     "end_time": "2022-03-14T20:28:01.222979Z",
     "start_time": "2022-03-14T20:28:01.210978Z"
    },
    "slideshow": {
     "slide_type": "notes"
    }
   },
   "outputs": [
    {
     "data": {
      "text/plain": [
       "64000"
      ]
     },
     "execution_count": 5,
     "metadata": {},
     "output_type": "execute_result"
    }
   ],
   "source": [
    "# Calculate it:\n",
    "40**3\n",
    "\n",
    "# Why can't we use itertools?\n",
    "# Because their permutation function doesn't allow for replacement (alas)"
   ]
  },
  {
   "cell_type": "code",
   "execution_count": 6,
   "metadata": {
    "ExecuteTime": {
     "end_time": "2022-03-14T20:28:01.239028Z",
     "start_time": "2022-03-14T20:28:01.224980Z"
    }
   },
   "outputs": [
    {
     "data": {
      "text/plain": [
       "11480"
      ]
     },
     "execution_count": 6,
     "metadata": {},
     "output_type": "execute_result"
    }
   ],
   "source": [
    "#not correct\n",
    "\n",
    "len(list(itertools.combinations_with_replacement(range(0,40),3)))"
   ]
  },
  {
   "cell_type": "markdown",
   "metadata": {
    "slideshow": {
     "slide_type": "slide"
    }
   },
   "source": [
    "### Q: How many unique 3 topping pizzas can you make from the following 8 ingredients:\n",
    "\n",
    "- Mushrooms\n",
    "- Pepperoni\n",
    "- Onion\n",
    "- Peppers\n",
    "- Ham\n",
    "- Pineapple\n",
    "- Sausage\n",
    "- Olives\n",
    "    \n",
    "> Side note: which is the worst?"
   ]
  },
  {
   "cell_type": "markdown",
   "metadata": {
    "ExecuteTime": {
     "end_time": "2022-03-14T15:54:16.559279Z",
     "start_time": "2022-03-14T15:54:16.541274Z"
    }
   },
   "source": [
    "> $$\\large C(n,r) = \\frac{n!}{r!(n - r)!}$$"
   ]
  },
  {
   "cell_type": "code",
   "execution_count": 7,
   "metadata": {
    "ExecuteTime": {
     "end_time": "2022-03-14T20:28:01.253986Z",
     "start_time": "2022-03-14T20:28:01.241985Z"
    }
   },
   "outputs": [
    {
     "data": {
      "text/plain": [
       "56.0"
      ]
     },
     "execution_count": 7,
     "metadata": {},
     "output_type": "execute_result"
    }
   ],
   "source": [
    "# Using math\n",
    "n = 8\n",
    "r = 3\n",
    "\n",
    "math.factorial(n) / (math.factorial(r) * math.factorial(n-r))"
   ]
  },
  {
   "cell_type": "code",
   "execution_count": 8,
   "metadata": {
    "ExecuteTime": {
     "end_time": "2022-03-14T20:28:01.269990Z",
     "start_time": "2022-03-14T20:28:01.256990Z"
    },
    "slideshow": {
     "slide_type": "notes"
    }
   },
   "outputs": [
    {
     "data": {
      "text/plain": [
       "<itertools.combinations at 0x1c8d8d98220>"
      ]
     },
     "execution_count": 8,
     "metadata": {},
     "output_type": "execute_result"
    }
   ],
   "source": [
    "# Our list of toppings\n",
    "toppings = [\"Mushrooms\", \"Pepperoni\", \"Onion\", \"Peppers\", \n",
    "            \"Ham\", \"Pineapple\", \"Sausage\", \"Olives\"]\n",
    "\n",
    "# Using itertools\n",
    "itertools.combinations(toppings,3)"
   ]
  },
  {
   "cell_type": "code",
   "execution_count": 9,
   "metadata": {
    "ExecuteTime": {
     "end_time": "2022-03-14T20:28:01.284994Z",
     "start_time": "2022-03-14T20:28:01.271991Z"
    },
    "collapsed": true
   },
   "outputs": [
    {
     "data": {
      "text/plain": [
       "[('Mushrooms', 'Pepperoni', 'Onion'),\n",
       " ('Mushrooms', 'Pepperoni', 'Peppers'),\n",
       " ('Mushrooms', 'Pepperoni', 'Ham'),\n",
       " ('Mushrooms', 'Pepperoni', 'Pineapple'),\n",
       " ('Mushrooms', 'Pepperoni', 'Sausage'),\n",
       " ('Mushrooms', 'Pepperoni', 'Olives'),\n",
       " ('Mushrooms', 'Onion', 'Peppers'),\n",
       " ('Mushrooms', 'Onion', 'Ham'),\n",
       " ('Mushrooms', 'Onion', 'Pineapple'),\n",
       " ('Mushrooms', 'Onion', 'Sausage'),\n",
       " ('Mushrooms', 'Onion', 'Olives'),\n",
       " ('Mushrooms', 'Peppers', 'Ham'),\n",
       " ('Mushrooms', 'Peppers', 'Pineapple'),\n",
       " ('Mushrooms', 'Peppers', 'Sausage'),\n",
       " ('Mushrooms', 'Peppers', 'Olives'),\n",
       " ('Mushrooms', 'Ham', 'Pineapple'),\n",
       " ('Mushrooms', 'Ham', 'Sausage'),\n",
       " ('Mushrooms', 'Ham', 'Olives'),\n",
       " ('Mushrooms', 'Pineapple', 'Sausage'),\n",
       " ('Mushrooms', 'Pineapple', 'Olives'),\n",
       " ('Mushrooms', 'Sausage', 'Olives'),\n",
       " ('Pepperoni', 'Onion', 'Peppers'),\n",
       " ('Pepperoni', 'Onion', 'Ham'),\n",
       " ('Pepperoni', 'Onion', 'Pineapple'),\n",
       " ('Pepperoni', 'Onion', 'Sausage'),\n",
       " ('Pepperoni', 'Onion', 'Olives'),\n",
       " ('Pepperoni', 'Peppers', 'Ham'),\n",
       " ('Pepperoni', 'Peppers', 'Pineapple'),\n",
       " ('Pepperoni', 'Peppers', 'Sausage'),\n",
       " ('Pepperoni', 'Peppers', 'Olives'),\n",
       " ('Pepperoni', 'Ham', 'Pineapple'),\n",
       " ('Pepperoni', 'Ham', 'Sausage'),\n",
       " ('Pepperoni', 'Ham', 'Olives'),\n",
       " ('Pepperoni', 'Pineapple', 'Sausage'),\n",
       " ('Pepperoni', 'Pineapple', 'Olives'),\n",
       " ('Pepperoni', 'Sausage', 'Olives'),\n",
       " ('Onion', 'Peppers', 'Ham'),\n",
       " ('Onion', 'Peppers', 'Pineapple'),\n",
       " ('Onion', 'Peppers', 'Sausage'),\n",
       " ('Onion', 'Peppers', 'Olives'),\n",
       " ('Onion', 'Ham', 'Pineapple'),\n",
       " ('Onion', 'Ham', 'Sausage'),\n",
       " ('Onion', 'Ham', 'Olives'),\n",
       " ('Onion', 'Pineapple', 'Sausage'),\n",
       " ('Onion', 'Pineapple', 'Olives'),\n",
       " ('Onion', 'Sausage', 'Olives'),\n",
       " ('Peppers', 'Ham', 'Pineapple'),\n",
       " ('Peppers', 'Ham', 'Sausage'),\n",
       " ('Peppers', 'Ham', 'Olives'),\n",
       " ('Peppers', 'Pineapple', 'Sausage'),\n",
       " ('Peppers', 'Pineapple', 'Olives'),\n",
       " ('Peppers', 'Sausage', 'Olives'),\n",
       " ('Ham', 'Pineapple', 'Sausage'),\n",
       " ('Ham', 'Pineapple', 'Olives'),\n",
       " ('Ham', 'Sausage', 'Olives'),\n",
       " ('Pineapple', 'Sausage', 'Olives')]"
      ]
     },
     "execution_count": 9,
     "metadata": {},
     "output_type": "execute_result"
    }
   ],
   "source": [
    "list(itertools.combinations(toppings,3))"
   ]
  },
  {
   "cell_type": "code",
   "execution_count": 16,
   "metadata": {
    "ExecuteTime": {
     "end_time": "2022-03-14T20:30:41.538112Z",
     "start_time": "2022-03-14T20:30:41.534111Z"
    },
    "collapsed": true
   },
   "outputs": [
    {
     "data": {
      "text/plain": [
       "56"
      ]
     },
     "execution_count": 16,
     "metadata": {},
     "output_type": "execute_result"
    }
   ],
   "source": [
    "len(list(itertools.combinations(toppings,3)))"
   ]
  },
  {
   "cell_type": "markdown",
   "metadata": {},
   "source": [
    "# Probability Theory\n",
    "\n",
    "Probability theory is the study of the frequency of a given event occurring with respect to all possible events."
   ]
  },
  {
   "cell_type": "markdown",
   "metadata": {
    "colab_type": "text",
    "id": "hHKVcR-FYNqf"
   },
   "source": [
    "> **Probability is the likelihood of a specific outcome occuring out of all possible outcomes, expressed as a fraction between 0 and 1.**\n",
    "\n",
    "But perhaps more importantly:\n",
    "\n",
    "> **\"Probabilities do not tell us what will happen for sure; they tell us what is _likely to happen_ and what is _less likely to happen_.\"**\n",
    ">\n",
    "> -- _Naked Statistics_, by Charles Wheelan, p. 72"
   ]
  },
  {
   "cell_type": "markdown",
   "metadata": {},
   "source": [
    "In general, you can think of dividing the outcome you're exploring by all possible outcomes:\n",
    "\n",
    "$$\\large P(Event) = \\frac{|Event|}{|Sample\\ Space|} $$"
   ]
  },
  {
   "cell_type": "markdown",
   "metadata": {
    "heading_collapsed": true,
    "hidden": true,
    "slideshow": {
     "slide_type": "slide"
    }
   },
   "source": [
    "## Why Should I Care About Probabilities?"
   ]
  },
  {
   "cell_type": "markdown",
   "metadata": {
    "hidden": true,
    "slideshow": {
     "slide_type": "slide"
    }
   },
   "source": [
    "Studying probabilities allows us to make better and more informed decisions, based on data previously collected. For example, understanding the fact that it is nearly impossible for us to ever win the lottery from a probabilistic standpoint deters us from using it as a source of income.\n",
    "\n",
    "Probability theory also lies at the heart of making inferences using our data, which is what statistics is all about!"
   ]
  },
  {
   "cell_type": "markdown",
   "metadata": {
    "heading_collapsed": true,
    "hidden": true,
    "slideshow": {
     "slide_type": "slide"
    }
   },
   "source": [
    "## Probability Terminology"
   ]
  },
  {
   "cell_type": "markdown",
   "metadata": {},
   "source": [
    "From [_Introduction to Probability, Statistics, and Random Processes_](https://www.probabilitycourse.com/chapter1/1_3_1_random_experiments.php):\n",
    "\n",
    "> **Outcome:** A result of a random experiment.\n",
    ">\n",
    "> **Sample Space:** The set of all possible outcomes.\n",
    ">\n",
    "> **Event:** A subset of the sample space.\n",
    "\n",
    "To be more specific, an **event** is a specific outcome of a random experiment, often what we are hoping to predict (so it's sometimes called a successful outcome)"
   ]
  },
  {
   "cell_type": "markdown",
   "metadata": {},
   "source": [
    "A random variable can either be continuous or discrete\n",
    "- **Continuous**: the variable can have any values within a range (e.g. a person's height)\n",
    "- **Discrete**: the variable can only have a finite subset of values within a range (e.g. number of cars owned)\n",
    "\n",
    "This is important because, for continuous variables, the probability of some specific event x _will functionally be zero_! BUT \"in reality we are always interested in the probability of some intervals rather than a specific point x\" [[Source]](https://www.probabilitycourse.com/chapter1/1_3_5_continuous_models.php)"
   ]
  },
  {
   "cell_type": "markdown",
   "metadata": {
    "hidden": true
   },
   "source": [
    "#### Independent Events\n",
    "A special condition is when the outcome of $A$ has no bearing on the outcome of $B$. We say these two events are **independent** (e.g. rolling a die and tossing a coin).\n",
    "\n",
    "Formally, $A$ and $B$ are *independent* if and only if the probability that *both* $A$ *and* $B$ happen is:\n",
    "\n",
    "$$\\large P(A \\cap B) = P(A) \\cdot P(B)$$"
   ]
  },
  {
   "cell_type": "markdown",
   "metadata": {
    "heading_collapsed": true,
    "hidden": true
   },
   "source": [
    "## Probability Using Sets"
   ]
  },
  {
   "cell_type": "markdown",
   "metadata": {
    "hidden": true
   },
   "source": [
    "In its most basic form, the **probability** of an event occurring is the size of the specific outcome set divided by the size of the sample space. In some ways, probability is just about counting outcomes."
   ]
  },
  {
   "cell_type": "markdown",
   "metadata": {
    "hidden": true
   },
   "source": [
    "**Example**: What is the probability of rolling an even number on a six-sided die?\n",
    "\n",
    "* Event: {2, 4, 6} has size 3\n",
    "* Sample space: {1, 2, 3, 4, 5, 6} has size 6\n",
    "* Thus the probability = 3/6 = 1/2 = 50%"
   ]
  },
  {
   "cell_type": "markdown",
   "metadata": {
    "hidden": true
   },
   "source": [
    "We sometimes write probability statements using notation like $P(E) = 0.5$, where $E$ is an event, such as rolling an even number on a six sided die."
   ]
  },
  {
   "cell_type": "markdown",
   "metadata": {
    "heading_collapsed": true,
    "hidden": true
   },
   "source": [
    "### 🧠 Knowledge Check"
   ]
  },
  {
   "cell_type": "markdown",
   "metadata": {
    "hidden": true
   },
   "source": [
    "### 1) AND Question:\n",
    "\n",
    "What is the probability of rolling a 5 on a fair die _and_ getting a tails on a fair coin toss?"
   ]
  },
  {
   "cell_type": "markdown",
   "metadata": {},
   "source": [
    "**Your answer here**:\n",
    "\n",
    "- P(5) = 1/6 \n",
    "- P(tails) = 1/2 \n",
    "\n",
    "1/12\n"
   ]
  },
  {
   "cell_type": "code",
   "execution_count": 12,
   "metadata": {
    "ExecuteTime": {
     "end_time": "2022-03-14T16:20:58.393986Z",
     "start_time": "2022-03-14T16:20:58.376950Z"
    }
   },
   "outputs": [
    {
     "data": {
      "text/plain": [
       "0.08333333333333333"
      ]
     },
     "execution_count": 12,
     "metadata": {},
     "output_type": "execute_result"
    }
   ],
   "source": [
    "p_five = 1/6\n",
    "p_tails = 1/2\n",
    "\n",
    "p_five * p_tails"
   ]
  },
  {
   "cell_type": "markdown",
   "metadata": {
    "hidden": true
   },
   "source": [
    "### 2) OR Question: \n",
    "\n",
    "What is the probability of rolling a 5 on a die _or_ getting a tails on a coin toss?"
   ]
  },
  {
   "cell_type": "markdown",
   "metadata": {},
   "source": [
    "**Your answer here**:\n",
    "- P(5) = 1/6 \n",
    "- P(tails) = 1/2 \n",
    "\n",
    "1/6 + 1/2 - (1/12).(1/6) = 7/12\n"
   ]
  },
  {
   "cell_type": "code",
   "execution_count": 13,
   "metadata": {
    "ExecuteTime": {
     "end_time": "2022-03-14T16:20:58.422960Z",
     "start_time": "2022-03-14T16:20:58.413973Z"
    }
   },
   "outputs": [
    {
     "data": {
      "text/plain": [
       "0.5833333333333333"
      ]
     },
     "execution_count": 13,
     "metadata": {},
     "output_type": "execute_result"
    }
   ],
   "source": [
    "p_five = 1/6\n",
    "p_tails = 1/2\n",
    "\n",
    "p_five + p_tails - p_five*p_tails"
   ]
  },
  {
   "cell_type": "markdown",
   "metadata": {},
   "source": [
    "## Enough Talk - Let's Explore in Python!"
   ]
  },
  {
   "cell_type": "markdown",
   "metadata": {
    "slideshow": {
     "slide_type": "slide"
    }
   },
   "source": [
    "### Mushroom dataset\n",
    "\n",
    "Let's look at a modified version of the Mushroom dataset from UCI [here](https://archive.ics.uci.edu/ml/datasets/Mushroom). Each row in this dataset corresponds to one observation (one mushroom). "
   ]
  },
  {
   "cell_type": "code",
   "execution_count": 14,
   "metadata": {
    "ExecuteTime": {
     "end_time": "2022-03-14T16:21:01.806331Z",
     "start_time": "2022-03-14T16:20:58.427982Z"
    }
   },
   "outputs": [],
   "source": [
    "# Import pandas\n",
    "import pandas as pd"
   ]
  },
  {
   "cell_type": "code",
   "execution_count": 15,
   "metadata": {
    "ExecuteTime": {
     "end_time": "2022-03-14T16:21:01.949402Z",
     "start_time": "2022-03-14T16:21:01.808337Z"
    },
    "scrolled": true,
    "slideshow": {
     "slide_type": "slide"
    }
   },
   "outputs": [
    {
     "data": {
      "text/html": [
       "<div>\n",
       "<style scoped>\n",
       "    .dataframe tbody tr th:only-of-type {\n",
       "        vertical-align: middle;\n",
       "    }\n",
       "\n",
       "    .dataframe tbody tr th {\n",
       "        vertical-align: top;\n",
       "    }\n",
       "\n",
       "    .dataframe thead th {\n",
       "        text-align: right;\n",
       "    }\n",
       "</style>\n",
       "<table border=\"1\" class=\"dataframe\">\n",
       "  <thead>\n",
       "    <tr style=\"text-align: right;\">\n",
       "      <th></th>\n",
       "      <th>edible-poisonous</th>\n",
       "      <th>gill-spacing</th>\n",
       "      <th>stalk-shape</th>\n",
       "      <th>stalk-color-above-ring</th>\n",
       "      <th>stalk-color-below-ring</th>\n",
       "      <th>gill-color</th>\n",
       "      <th>bruised</th>\n",
       "    </tr>\n",
       "  </thead>\n",
       "  <tbody>\n",
       "    <tr>\n",
       "      <th>0</th>\n",
       "      <td>poisonous</td>\n",
       "      <td>close</td>\n",
       "      <td>enlarging</td>\n",
       "      <td>white</td>\n",
       "      <td>white</td>\n",
       "      <td>black</td>\n",
       "      <td>True</td>\n",
       "    </tr>\n",
       "    <tr>\n",
       "      <th>1</th>\n",
       "      <td>edible</td>\n",
       "      <td>close</td>\n",
       "      <td>enlarging</td>\n",
       "      <td>white</td>\n",
       "      <td>white</td>\n",
       "      <td>black</td>\n",
       "      <td>True</td>\n",
       "    </tr>\n",
       "    <tr>\n",
       "      <th>2</th>\n",
       "      <td>edible</td>\n",
       "      <td>close</td>\n",
       "      <td>enlarging</td>\n",
       "      <td>white</td>\n",
       "      <td>white</td>\n",
       "      <td>brown</td>\n",
       "      <td>True</td>\n",
       "    </tr>\n",
       "    <tr>\n",
       "      <th>3</th>\n",
       "      <td>poisonous</td>\n",
       "      <td>close</td>\n",
       "      <td>enlarging</td>\n",
       "      <td>white</td>\n",
       "      <td>white</td>\n",
       "      <td>brown</td>\n",
       "      <td>True</td>\n",
       "    </tr>\n",
       "    <tr>\n",
       "      <th>4</th>\n",
       "      <td>edible</td>\n",
       "      <td>crowded</td>\n",
       "      <td>tapering</td>\n",
       "      <td>white</td>\n",
       "      <td>white</td>\n",
       "      <td>black</td>\n",
       "      <td>False</td>\n",
       "    </tr>\n",
       "  </tbody>\n",
       "</table>\n",
       "</div>"
      ],
      "text/plain": [
       "  edible-poisonous gill-spacing stalk-shape stalk-color-above-ring  \\\n",
       "0        poisonous        close   enlarging                  white   \n",
       "1           edible        close   enlarging                  white   \n",
       "2           edible        close   enlarging                  white   \n",
       "3        poisonous        close   enlarging                  white   \n",
       "4           edible      crowded    tapering                  white   \n",
       "\n",
       "  stalk-color-below-ring gill-color  bruised  \n",
       "0                  white      black     True  \n",
       "1                  white      black     True  \n",
       "2                  white      brown     True  \n",
       "3                  white      brown     True  \n",
       "4                  white      black    False  "
      ]
     },
     "execution_count": 15,
     "metadata": {},
     "output_type": "execute_result"
    }
   ],
   "source": [
    "# Read in the data, check the first few rows\n",
    "df = pd.read_csv('data/Mushrooms_cleaned.csv')\n",
    "df.head()"
   ]
  },
  {
   "cell_type": "code",
   "execution_count": 16,
   "metadata": {
    "ExecuteTime": {
     "end_time": "2022-03-14T16:21:02.040384Z",
     "start_time": "2022-03-14T16:21:01.976369Z"
    }
   },
   "outputs": [
    {
     "name": "stdout",
     "output_type": "stream",
     "text": [
      "<class 'pandas.core.frame.DataFrame'>\n",
      "RangeIndex: 8124 entries, 0 to 8123\n",
      "Data columns (total 7 columns):\n",
      " #   Column                  Non-Null Count  Dtype \n",
      "---  ------                  --------------  ----- \n",
      " 0   edible-poisonous        8124 non-null   object\n",
      " 1   gill-spacing            8124 non-null   object\n",
      " 2   stalk-shape             8124 non-null   object\n",
      " 3   stalk-color-above-ring  8124 non-null   object\n",
      " 4   stalk-color-below-ring  8124 non-null   object\n",
      " 5   gill-color              8124 non-null   object\n",
      " 6   bruised                 8124 non-null   bool  \n",
      "dtypes: bool(1), object(6)\n",
      "memory usage: 388.9+ KB\n"
     ]
    }
   ],
   "source": [
    "df.info()"
   ]
  },
  {
   "cell_type": "code",
   "execution_count": 17,
   "metadata": {
    "ExecuteTime": {
     "end_time": "2022-03-14T16:21:02.247121Z",
     "start_time": "2022-03-14T16:21:02.066393Z"
    }
   },
   "outputs": [
    {
     "data": {
      "text/html": [
       "<div>\n",
       "<style scoped>\n",
       "    .dataframe tbody tr th:only-of-type {\n",
       "        vertical-align: middle;\n",
       "    }\n",
       "\n",
       "    .dataframe tbody tr th {\n",
       "        vertical-align: top;\n",
       "    }\n",
       "\n",
       "    .dataframe thead th {\n",
       "        text-align: right;\n",
       "    }\n",
       "</style>\n",
       "<table border=\"1\" class=\"dataframe\">\n",
       "  <thead>\n",
       "    <tr style=\"text-align: right;\">\n",
       "      <th></th>\n",
       "      <th>edible-poisonous</th>\n",
       "      <th>gill-spacing</th>\n",
       "      <th>stalk-shape</th>\n",
       "      <th>stalk-color-above-ring</th>\n",
       "      <th>stalk-color-below-ring</th>\n",
       "      <th>gill-color</th>\n",
       "      <th>bruised</th>\n",
       "    </tr>\n",
       "  </thead>\n",
       "  <tbody>\n",
       "    <tr>\n",
       "      <th>count</th>\n",
       "      <td>8124</td>\n",
       "      <td>8124</td>\n",
       "      <td>8124</td>\n",
       "      <td>8124</td>\n",
       "      <td>8124</td>\n",
       "      <td>8124</td>\n",
       "      <td>8124</td>\n",
       "    </tr>\n",
       "    <tr>\n",
       "      <th>unique</th>\n",
       "      <td>2</td>\n",
       "      <td>2</td>\n",
       "      <td>2</td>\n",
       "      <td>9</td>\n",
       "      <td>9</td>\n",
       "      <td>12</td>\n",
       "      <td>2</td>\n",
       "    </tr>\n",
       "    <tr>\n",
       "      <th>top</th>\n",
       "      <td>edible</td>\n",
       "      <td>close</td>\n",
       "      <td>tapering</td>\n",
       "      <td>white</td>\n",
       "      <td>white</td>\n",
       "      <td>buff</td>\n",
       "      <td>False</td>\n",
       "    </tr>\n",
       "    <tr>\n",
       "      <th>freq</th>\n",
       "      <td>4208</td>\n",
       "      <td>6812</td>\n",
       "      <td>4608</td>\n",
       "      <td>4464</td>\n",
       "      <td>4384</td>\n",
       "      <td>1728</td>\n",
       "      <td>4748</td>\n",
       "    </tr>\n",
       "  </tbody>\n",
       "</table>\n",
       "</div>"
      ],
      "text/plain": [
       "       edible-poisonous gill-spacing stalk-shape stalk-color-above-ring  \\\n",
       "count              8124         8124        8124                   8124   \n",
       "unique                2            2           2                      9   \n",
       "top              edible        close    tapering                  white   \n",
       "freq               4208         6812        4608                   4464   \n",
       "\n",
       "       stalk-color-below-ring gill-color bruised  \n",
       "count                    8124       8124    8124  \n",
       "unique                      9         12       2  \n",
       "top                     white       buff   False  \n",
       "freq                     4384       1728    4748  "
      ]
     },
     "execution_count": 17,
     "metadata": {},
     "output_type": "execute_result"
    }
   ],
   "source": [
    "# Describe the dataset\n",
    "df.describe()"
   ]
  },
  {
   "cell_type": "markdown",
   "metadata": {
    "slideshow": {
     "slide_type": "slide"
    }
   },
   "source": [
    "#### 1) If you picked a row from this dataset at random, what is the probability it corresponds to a bruised mushroom? \n",
    "\n",
    "In other words, find $P(bruised)$"
   ]
  },
  {
   "cell_type": "code",
   "execution_count": 18,
   "metadata": {
    "ExecuteTime": {
     "end_time": "2022-03-14T16:21:02.292130Z",
     "start_time": "2022-03-14T16:21:02.274093Z"
    },
    "scrolled": true
   },
   "outputs": [
    {
     "data": {
      "text/plain": [
       "False    4748\n",
       "True     3376\n",
       "Name: bruised, dtype: int64"
      ]
     },
     "execution_count": 18,
     "metadata": {},
     "output_type": "execute_result"
    }
   ],
   "source": [
    "# Let's find our bruised mushrooms\n",
    "df['bruised'].value_counts()"
   ]
  },
  {
   "cell_type": "code",
   "execution_count": 21,
   "metadata": {
    "ExecuteTime": {
     "end_time": "2022-03-14T16:21:46.461379Z",
     "start_time": "2022-03-14T16:21:46.441349Z"
    }
   },
   "outputs": [
    {
     "data": {
      "text/plain": [
       "0.4155588380108321"
      ]
     },
     "execution_count": 21,
     "metadata": {},
     "output_type": "execute_result"
    }
   ],
   "source": [
    "df['bruised'].value_counts()[1] / len(df)"
   ]
  },
  {
   "cell_type": "code",
   "execution_count": 22,
   "metadata": {
    "ExecuteTime": {
     "end_time": "2022-03-14T16:22:23.504745Z",
     "start_time": "2022-03-14T16:22:23.464681Z"
    }
   },
   "outputs": [
    {
     "data": {
      "text/plain": [
       "False    0.584441\n",
       "True     0.415559\n",
       "Name: bruised, dtype: float64"
      ]
     },
     "execution_count": 22,
     "metadata": {},
     "output_type": "execute_result"
    }
   ],
   "source": [
    "# And now the probability\n",
    "df['bruised'].value_counts(normalize = True)"
   ]
  },
  {
   "cell_type": "code",
   "execution_count": 24,
   "metadata": {
    "ExecuteTime": {
     "end_time": "2022-03-14T16:23:19.549397Z",
     "start_time": "2022-03-14T16:23:19.533352Z"
    }
   },
   "outputs": [
    {
     "data": {
      "text/plain": [
       "3376"
      ]
     },
     "execution_count": 24,
     "metadata": {},
     "output_type": "execute_result"
    }
   ],
   "source": [
    "len(df.loc[df['bruised'] == True])"
   ]
  },
  {
   "cell_type": "code",
   "execution_count": 26,
   "metadata": {
    "ExecuteTime": {
     "end_time": "2022-03-14T16:23:40.355079Z",
     "start_time": "2022-03-14T16:23:40.329085Z"
    }
   },
   "outputs": [
    {
     "data": {
      "text/plain": [
       "(3376, 7)"
      ]
     },
     "execution_count": 26,
     "metadata": {},
     "output_type": "execute_result"
    }
   ],
   "source": [
    "df.loc[df['bruised'] == True].shape"
   ]
  },
  {
   "cell_type": "code",
   "execution_count": 27,
   "metadata": {
    "ExecuteTime": {
     "end_time": "2022-03-14T16:23:46.002328Z",
     "start_time": "2022-03-14T16:23:45.956297Z"
    },
    "scrolled": true
   },
   "outputs": [
    {
     "data": {
      "text/html": [
       "<div>\n",
       "<style scoped>\n",
       "    .dataframe tbody tr th:only-of-type {\n",
       "        vertical-align: middle;\n",
       "    }\n",
       "\n",
       "    .dataframe tbody tr th {\n",
       "        vertical-align: top;\n",
       "    }\n",
       "\n",
       "    .dataframe thead th {\n",
       "        text-align: right;\n",
       "    }\n",
       "</style>\n",
       "<table border=\"1\" class=\"dataframe\">\n",
       "  <thead>\n",
       "    <tr style=\"text-align: right;\">\n",
       "      <th></th>\n",
       "      <th>edible-poisonous</th>\n",
       "      <th>gill-spacing</th>\n",
       "      <th>stalk-shape</th>\n",
       "      <th>stalk-color-above-ring</th>\n",
       "      <th>stalk-color-below-ring</th>\n",
       "      <th>gill-color</th>\n",
       "      <th>bruised</th>\n",
       "    </tr>\n",
       "  </thead>\n",
       "  <tbody>\n",
       "    <tr>\n",
       "      <th>4208</th>\n",
       "      <td>poisonous</td>\n",
       "      <td>close</td>\n",
       "      <td>enlarging</td>\n",
       "      <td>buff</td>\n",
       "      <td>buff</td>\n",
       "      <td>chocolate</td>\n",
       "      <td>False</td>\n",
       "    </tr>\n",
       "  </tbody>\n",
       "</table>\n",
       "</div>"
      ],
      "text/plain": [
       "     edible-poisonous gill-spacing stalk-shape stalk-color-above-ring  \\\n",
       "4208        poisonous        close   enlarging                   buff   \n",
       "\n",
       "     stalk-color-below-ring gill-color  bruised  \n",
       "4208                   buff  chocolate    False  "
      ]
     },
     "execution_count": 27,
     "metadata": {},
     "output_type": "execute_result"
    }
   ],
   "source": [
    "# Let's see what we get with a quick sample row...\n",
    "df.sample(1)"
   ]
  },
  {
   "cell_type": "markdown",
   "metadata": {
    "slideshow": {
     "slide_type": "slide"
    }
   },
   "source": [
    "#### 2) What is the probability you pick a row corresponding to a mushroom that is bruised _AND_ edible?"
   ]
  },
  {
   "cell_type": "markdown",
   "metadata": {},
   "source": [
    "$P(edible \\cap bruised)$\n",
    "\n",
    "BUT! Are they independent events ...?\n"
   ]
  },
  {
   "cell_type": "code",
   "execution_count": 30,
   "metadata": {
    "ExecuteTime": {
     "end_time": "2022-03-14T16:26:01.079013Z",
     "start_time": "2022-03-14T16:26:01.032006Z"
    },
    "slideshow": {
     "slide_type": "notes"
    }
   },
   "outputs": [],
   "source": [
    "# Use loc to find where they're bruised and edible\n",
    "df_bruised_edible = df.loc[(df['bruised'] == True) & (df['edible-poisonous'] == 'edible')]"
   ]
  },
  {
   "cell_type": "code",
   "execution_count": 39,
   "metadata": {
    "ExecuteTime": {
     "end_time": "2022-03-14T16:30:00.333383Z",
     "start_time": "2022-03-14T16:30:00.321363Z"
    },
    "scrolled": true,
    "slideshow": {
     "slide_type": "notes"
    }
   },
   "outputs": [],
   "source": [
    "# Calculate the probability\n",
    "p_bruised_edible = len(df_bruised_edible) / len(df)"
   ]
  },
  {
   "cell_type": "markdown",
   "metadata": {},
   "source": [
    "Are being bruised and being edible independent of each other?\n",
    "\n",
    "> Formally, $A$ and $B$ are *independent* if and only if the probability that *both* $A$ *and* $B$ happen is:\n",
    "> \n",
    "> $$\\large P(A \\cap B) = P(A) \\cdot P(B)$$"
   ]
  },
  {
   "cell_type": "code",
   "execution_count": 45,
   "metadata": {
    "ExecuteTime": {
     "end_time": "2022-03-14T16:32:51.591252Z",
     "start_time": "2022-03-14T16:32:51.580239Z"
    },
    "scrolled": true
   },
   "outputs": [
    {
     "data": {
      "text/plain": [
       "0.4155588380108321"
      ]
     },
     "execution_count": 45,
     "metadata": {},
     "output_type": "execute_result"
    }
   ],
   "source": [
    "# Let's find P(bruised)\n",
    "p_bruised = df['bruised'].value_counts()[1] / len(df)\n",
    "p_bruised"
   ]
  },
  {
   "cell_type": "code",
   "execution_count": 44,
   "metadata": {
    "ExecuteTime": {
     "end_time": "2022-03-14T16:32:46.397127Z",
     "start_time": "2022-03-14T16:32:46.353116Z"
    }
   },
   "outputs": [
    {
     "data": {
      "text/plain": [
       "0.517971442639094"
      ]
     },
     "execution_count": 44,
     "metadata": {},
     "output_type": "execute_result"
    }
   ],
   "source": [
    "# And now P(edible)\n",
    "p_edible = len(df.loc[df['edible-poisonous'] == 'edible']) / len(df)\n",
    "p_edible"
   ]
  },
  {
   "cell_type": "code",
   "execution_count": 40,
   "metadata": {
    "ExecuteTime": {
     "end_time": "2022-03-14T16:30:04.007278Z",
     "start_time": "2022-03-14T16:30:03.980267Z"
    },
    "scrolled": true
   },
   "outputs": [
    {
     "data": {
      "text/plain": [
       "False"
      ]
     },
     "execution_count": 40,
     "metadata": {},
     "output_type": "execute_result"
    }
   ],
   "source": [
    "# And check - does P(bruised and edible) == P(bruised) * P(edible)?\n",
    "p_bruised_edible == p_bruised * p_edible"
   ]
  },
  {
   "cell_type": "markdown",
   "metadata": {
    "slideshow": {
     "slide_type": "slide"
    }
   },
   "source": [
    "## Enter: Conditional Probability\n",
    "\n",
    "### When do we compute conditional probabilities? \n",
    "\n",
    "We need to compute conditional probabilities when the outcome of an event depends on the outcome of previous events (**dependent** events). A conditional probability of an event is the probability of the event *given* another event has occurred.\n"
   ]
  },
  {
   "cell_type": "markdown",
   "metadata": {
    "hidden": true
   },
   "source": [
    "When events _are_ independent, the rule for probabilistic AND ('$\\cap$') is simple:\n",
    "\n",
    "$$\\large P(a\\cap b) = P(a) P(b)$$"
   ]
  },
  {
   "cell_type": "markdown",
   "metadata": {
    "hidden": true
   },
   "source": [
    "But the more general rule, which includes non-independent events, is:\n",
    "\n",
    "$$\\large P(a\\cap b) = P(a | b) P(b)$$"
   ]
  },
  {
   "cell_type": "markdown",
   "metadata": {
    "hidden": true
   },
   "source": [
    "In fact, this is the definition of conditional probability. Rearranging:\n",
    "\n",
    "$$\\large P(a | b) = \\frac{P(a\\cap b)}{P(b)}$$"
   ]
  },
  {
   "cell_type": "markdown",
   "metadata": {},
   "source": [
    "The `|` here should be read as \"given\". We are **given** some information, `b`, and thus it reduces our sample space!"
   ]
  },
  {
   "cell_type": "markdown",
   "metadata": {
    "slideshow": {
     "slide_type": "slide"
    }
   },
   "source": [
    "#### 3) What is the probability of picking an edible mushroom GIVEN it is bruised? \n",
    "\n",
    "$P(edible | bruised)$"
   ]
  },
  {
   "cell_type": "code",
   "execution_count": 43,
   "metadata": {
    "ExecuteTime": {
     "end_time": "2022-03-14T16:32:36.703016Z",
     "start_time": "2022-03-14T16:32:36.698014Z"
    },
    "scrolled": true,
    "slideshow": {
     "slide_type": "notes"
    }
   },
   "outputs": [
    {
     "data": {
      "text/plain": [
       "0.8151658767772512"
      ]
     },
     "execution_count": 43,
     "metadata": {},
     "output_type": "execute_result"
    }
   ],
   "source": [
    "# Can calculate this with our earlier probabilities\n",
    "p_edible_give_bruised = p_bruised_edible/p_bruised\n",
    "p_edible_give_bruised"
   ]
  },
  {
   "cell_type": "code",
   "execution_count": 46,
   "metadata": {
    "ExecuteTime": {
     "end_time": "2022-03-14T16:33:21.039862Z",
     "start_time": "2022-03-14T16:33:21.017826Z"
    },
    "slideshow": {
     "slide_type": "notes"
    }
   },
   "outputs": [],
   "source": [
    "# Can also use loc!\n",
    "bruised_df = df[df['bruised']==True]"
   ]
  },
  {
   "cell_type": "code",
   "execution_count": 48,
   "metadata": {
    "ExecuteTime": {
     "end_time": "2022-03-14T16:33:44.756809Z",
     "start_time": "2022-03-14T16:33:44.707797Z"
    },
    "scrolled": true
   },
   "outputs": [
    {
     "data": {
      "text/plain": [
       "edible       0.815166\n",
       "poisonous    0.184834\n",
       "Name: edible-poisonous, dtype: float64"
      ]
     },
     "execution_count": 48,
     "metadata": {},
     "output_type": "execute_result"
    }
   ],
   "source": [
    "bruised_df['edible-poisonous'].value_counts(normalize = True)"
   ]
  },
  {
   "cell_type": "code",
   "execution_count": 49,
   "metadata": {
    "ExecuteTime": {
     "end_time": "2022-03-14T16:34:45.516613Z",
     "start_time": "2022-03-14T16:34:45.489626Z"
    }
   },
   "outputs": [
    {
     "data": {
      "text/plain": [
       "0.8151658767772512"
      ]
     },
     "execution_count": 49,
     "metadata": {},
     "output_type": "execute_result"
    }
   ],
   "source": [
    "len(bruised_df.loc[bruised_df['edible-poisonous'] == 'edible'])/len(bruised_df)"
   ]
  },
  {
   "cell_type": "markdown",
   "metadata": {
    "slideshow": {
     "slide_type": "slide"
    }
   },
   "source": [
    "#### 4) What is the probability of picking a bruised mushroom GIVEN it is edible? \n",
    "\n",
    "$P(bruised | edible)$"
   ]
  },
  {
   "cell_type": "markdown",
   "metadata": {
    "slideshow": {
     "slide_type": "notes"
    }
   },
   "source": [
    "* For this, want you to recognize that even though computing the probability that a mushroom is edible and bruised is the same as the probability that a mushroom is bruised and edible, the conditional probability is **not the same** because the condition that needs to be met to compute the probability is different (i.e. the sample space is different)"
   ]
  },
  {
   "cell_type": "code",
   "execution_count": 51,
   "metadata": {
    "ExecuteTime": {
     "end_time": "2022-03-14T16:36:11.737711Z",
     "start_time": "2022-03-14T16:36:11.680669Z"
    },
    "slideshow": {
     "slide_type": "notes"
    }
   },
   "outputs": [
    {
     "data": {
      "text/html": [
       "<div>\n",
       "<style scoped>\n",
       "    .dataframe tbody tr th:only-of-type {\n",
       "        vertical-align: middle;\n",
       "    }\n",
       "\n",
       "    .dataframe tbody tr th {\n",
       "        vertical-align: top;\n",
       "    }\n",
       "\n",
       "    .dataframe thead th {\n",
       "        text-align: right;\n",
       "    }\n",
       "</style>\n",
       "<table border=\"1\" class=\"dataframe\">\n",
       "  <thead>\n",
       "    <tr style=\"text-align: right;\">\n",
       "      <th></th>\n",
       "      <th>edible-poisonous</th>\n",
       "      <th>gill-spacing</th>\n",
       "      <th>stalk-shape</th>\n",
       "      <th>stalk-color-above-ring</th>\n",
       "      <th>stalk-color-below-ring</th>\n",
       "      <th>gill-color</th>\n",
       "      <th>bruised</th>\n",
       "    </tr>\n",
       "  </thead>\n",
       "  <tbody>\n",
       "    <tr>\n",
       "      <th>1</th>\n",
       "      <td>edible</td>\n",
       "      <td>close</td>\n",
       "      <td>enlarging</td>\n",
       "      <td>white</td>\n",
       "      <td>white</td>\n",
       "      <td>black</td>\n",
       "      <td>True</td>\n",
       "    </tr>\n",
       "    <tr>\n",
       "      <th>2</th>\n",
       "      <td>edible</td>\n",
       "      <td>close</td>\n",
       "      <td>enlarging</td>\n",
       "      <td>white</td>\n",
       "      <td>white</td>\n",
       "      <td>brown</td>\n",
       "      <td>True</td>\n",
       "    </tr>\n",
       "    <tr>\n",
       "      <th>4</th>\n",
       "      <td>edible</td>\n",
       "      <td>crowded</td>\n",
       "      <td>tapering</td>\n",
       "      <td>white</td>\n",
       "      <td>white</td>\n",
       "      <td>black</td>\n",
       "      <td>False</td>\n",
       "    </tr>\n",
       "    <tr>\n",
       "      <th>5</th>\n",
       "      <td>edible</td>\n",
       "      <td>close</td>\n",
       "      <td>enlarging</td>\n",
       "      <td>white</td>\n",
       "      <td>white</td>\n",
       "      <td>brown</td>\n",
       "      <td>True</td>\n",
       "    </tr>\n",
       "    <tr>\n",
       "      <th>6</th>\n",
       "      <td>edible</td>\n",
       "      <td>close</td>\n",
       "      <td>enlarging</td>\n",
       "      <td>white</td>\n",
       "      <td>white</td>\n",
       "      <td>gray</td>\n",
       "      <td>True</td>\n",
       "    </tr>\n",
       "  </tbody>\n",
       "</table>\n",
       "</div>"
      ],
      "text/plain": [
       "  edible-poisonous gill-spacing stalk-shape stalk-color-above-ring  \\\n",
       "1           edible        close   enlarging                  white   \n",
       "2           edible        close   enlarging                  white   \n",
       "4           edible      crowded    tapering                  white   \n",
       "5           edible        close   enlarging                  white   \n",
       "6           edible        close   enlarging                  white   \n",
       "\n",
       "  stalk-color-below-ring gill-color  bruised  \n",
       "1                  white      black     True  \n",
       "2                  white      brown     True  \n",
       "4                  white      black    False  \n",
       "5                  white      brown     True  \n",
       "6                  white       gray     True  "
      ]
     },
     "execution_count": 51,
     "metadata": {},
     "output_type": "execute_result"
    }
   ],
   "source": [
    "# Let's calculate\n",
    "edible_df = df[df['edible-poisonous']=='edible']\n",
    "edible_df.head()"
   ]
  },
  {
   "cell_type": "code",
   "execution_count": 52,
   "metadata": {
    "ExecuteTime": {
     "end_time": "2022-03-14T16:37:12.498535Z",
     "start_time": "2022-03-14T16:37:12.487507Z"
    },
    "slideshow": {
     "slide_type": "notes"
    }
   },
   "outputs": [
    {
     "data": {
      "text/plain": [
       "0.6539923954372624"
      ]
     },
     "execution_count": 52,
     "metadata": {},
     "output_type": "execute_result"
    }
   ],
   "source": [
    "# Let's use loc\n",
    "len(edible_df[edible_df['bruised'] == True]) / len(edible_df)"
   ]
  },
  {
   "cell_type": "markdown",
   "metadata": {
    "slideshow": {
     "slide_type": "slide"
    }
   },
   "source": [
    "### Intuition behind conditional probability: \n",
    "\n",
    "How do you compute the probability that mushrooms are edible given they are bruised? \n",
    "\n",
    "When you ask the question \"what is the probability that the mushrooms are edible and bruised?\", the sample space originally contains all 8124 rows of mushrooms. \n",
    "\n",
    "<img src=\"images/Image_72_Cond4.png\" width=\"300\">\n",
    "\n",
    "However, to compute the probability that the mushrooms are edible given they are bruised, you need to consider the reduced size of the sample space. \n",
    "\n",
    "In the image above, S is the universe of all mushrooms in the dataset, A is the set of mushrooms that are edible, and B is the set of mushrooms that are bruised.\n",
    "\n",
    "* When you ask the question \"what is the probability that the mushrooms are edible given the mushrooms are bruised?\", you have effectively reduced the size of the sample space to include only those mushrooms that are bruised. \n",
    "\n",
    "* Given that mushrooms are bruised, the only way for the mushrooms to be edible is for these mushrooms to fall in the intersection of the set of mushrooms that are edible _and_ the set of mushrooms that are bruised , $P(edible \\cap bruised)$.  \n",
    "\n",
    "* To account for the smaller sample space, you divide the probability mushrooms are edible and bruised by the probability the mushrooms are bruised: $$\\large P(edible|bruised) = \\frac{P(edible \\cap bruised)}{P(bruised)}$$\n",
    "\n",
    "\n"
   ]
  },
  {
   "cell_type": "markdown",
   "metadata": {
    "slideshow": {
     "slide_type": "slide"
    }
   },
   "source": [
    "## Partitioning Complex Events\n",
    "\n",
    "You're not really a mushroom expert, but you can see that the mushroom in your hand is has some orange on the stalk. Given the data at your disposal, what's the probability that the mushroom is edible?\n",
    "\n"
   ]
  },
  {
   "cell_type": "markdown",
   "metadata": {
    "slideshow": {
     "slide_type": "notes"
    }
   },
   "source": [
    "$$\\large P(\\text{edible|orange stalk}) = \\frac{P(\\text{edible} \\cap \\text{orange stalk})}{P(\\text{orange stalk})}$$\n",
    "\n",
    "Furthermore, we can decompose $P(\\text{orange stalk})$ into the two possibilities:\n",
    "\n",
    "$P(\\text{orange stalk}) = P(\\text{orange_stalk_below_ring}\\cup\\text{orange_stalk_above_ring})$\n",
    "\n",
    "But be careful here! \n",
    "\n",
    "$P(\\text{orange_stalk_below_ring}\\cup \\text{orange_stalk_above_ring})$ **DOES NOT EQUAL** $P(\\text{orange_stalk_below_ring}) + P(\\text{orange_stalk_above_ring})$\n",
    "\n",
    "While this may seem correct, adding these individual probabilities **double counts** mushrooms which have entirely orange stalks. However - when we do these things in Pandas (using a loc and an or condition), it won't duplicate the row - so you don't need to worry about it here!"
   ]
  },
  {
   "cell_type": "code",
   "execution_count": 53,
   "metadata": {
    "ExecuteTime": {
     "end_time": "2022-03-14T16:42:29.492032Z",
     "start_time": "2022-03-14T16:42:29.472871Z"
    }
   },
   "outputs": [],
   "source": [
    "# Can prove that P(orange above) + P(orange below) != p(orange stalk)\n",
    "p_orange_above = df[df['stalk-color-above-ring'] == 'orange'].shape[0]/df.shape[0]\n",
    "p_orange_below = df[df['stalk-color-below-ring'] == 'orange'].shape[0]/df.shape[0]"
   ]
  },
  {
   "cell_type": "code",
   "execution_count": 54,
   "metadata": {
    "ExecuteTime": {
     "end_time": "2022-03-14T16:42:51.229028Z",
     "start_time": "2022-03-14T16:42:51.211005Z"
    }
   },
   "outputs": [],
   "source": [
    "p_orange_stalk = df[(df['stalk-color-above-ring'] == 'orange')\n",
    "                    | (df['stalk-color-below-ring'] == 'orange')\n",
    "                    ].shape[0]/df.shape[0]"
   ]
  },
  {
   "cell_type": "code",
   "execution_count": 57,
   "metadata": {
    "ExecuteTime": {
     "end_time": "2022-03-14T16:44:12.082141Z",
     "start_time": "2022-03-14T16:44:12.032109Z"
    }
   },
   "outputs": [],
   "source": [
    "p_both_orange = df[(df['stalk-color-above-ring'] == 'orange')\n",
    "                    & (df['stalk-color-below-ring'] == 'orange')\n",
    "                    ].shape[0]/df.shape[0]"
   ]
  },
  {
   "cell_type": "code",
   "execution_count": 55,
   "metadata": {
    "ExecuteTime": {
     "end_time": "2022-03-14T16:42:53.375659Z",
     "start_time": "2022-03-14T16:42:53.325636Z"
    }
   },
   "outputs": [
    {
     "data": {
      "text/plain": [
       "False"
      ]
     },
     "execution_count": 55,
     "metadata": {},
     "output_type": "execute_result"
    }
   ],
   "source": [
    "p_orange_stalk == (p_orange_above + p_orange_below)"
   ]
  },
  {
   "cell_type": "code",
   "execution_count": 58,
   "metadata": {
    "ExecuteTime": {
     "end_time": "2022-03-14T16:44:27.709826Z",
     "start_time": "2022-03-14T16:44:27.692889Z"
    }
   },
   "outputs": [
    {
     "data": {
      "text/plain": [
       "True"
      ]
     },
     "execution_count": 58,
     "metadata": {},
     "output_type": "execute_result"
    }
   ],
   "source": [
    "p_orange_stalk == (p_orange_above + p_orange_below) - p_both_orange"
   ]
  },
  {
   "cell_type": "markdown",
   "metadata": {},
   "source": [
    "Now you try!"
   ]
  },
  {
   "cell_type": "code",
   "execution_count": 63,
   "metadata": {
    "ExecuteTime": {
     "end_time": "2022-03-14T16:49:11.241133Z",
     "start_time": "2022-03-14T16:49:11.213074Z"
    },
    "scrolled": true,
    "slideshow": {
     "slide_type": "notes"
    }
   },
   "outputs": [
    {
     "data": {
      "text/plain": [
       "0.023633677991137372"
      ]
     },
     "execution_count": 63,
     "metadata": {},
     "output_type": "execute_result"
    }
   ],
   "source": [
    "# Find P(edible | orange stalk)\n",
    "p_edible_and_orange = df[((df['stalk-color-above-ring'] == 'orange')\n",
    "                    | (df['stalk-color-below-ring'] == 'orange'))\n",
    "                    & (df['edible-poisonous'] == 'edible')\n",
    "                    ].shape[0] / df.shape[0]\n",
    "p_edible_and_orange\n"
   ]
  },
  {
   "cell_type": "code",
   "execution_count": 64,
   "metadata": {
    "ExecuteTime": {
     "end_time": "2022-03-14T16:49:48.757947Z",
     "start_time": "2022-03-14T16:49:48.744899Z"
    }
   },
   "outputs": [
    {
     "data": {
      "text/plain": [
       "1.0"
      ]
     },
     "execution_count": 64,
     "metadata": {},
     "output_type": "execute_result"
    }
   ],
   "source": [
    "p_edible_and_orange / p_orange_stalk"
   ]
  },
  {
   "cell_type": "markdown",
   "metadata": {},
   "source": [
    "*Disclaimer: none of this should be taken as definitive foraging advice!*"
   ]
  },
  {
   "cell_type": "markdown",
   "metadata": {
    "slideshow": {
     "slide_type": "slide"
    }
   },
   "source": [
    "## Extra Credit: Additional Conditional Probability Practice\n",
    "\n",
    "What's the probability that a mushroom is poisonous if it has close gill spacing AND a tapering stalk?\n",
    "\n",
    "$$\\large P(poisonous|close \\cap tapering) = \\frac{P(poisonous \\cap close \\cap tapering)}{P(close \\cap tapering)}$$"
   ]
  },
  {
   "cell_type": "code",
   "execution_count": 65,
   "metadata": {
    "ExecuteTime": {
     "end_time": "2022-03-14T16:52:29.016277Z",
     "start_time": "2022-03-14T16:52:29.003274Z"
    }
   },
   "outputs": [
    {
     "data": {
      "text/html": [
       "<div>\n",
       "<style scoped>\n",
       "    .dataframe tbody tr th:only-of-type {\n",
       "        vertical-align: middle;\n",
       "    }\n",
       "\n",
       "    .dataframe tbody tr th {\n",
       "        vertical-align: top;\n",
       "    }\n",
       "\n",
       "    .dataframe thead th {\n",
       "        text-align: right;\n",
       "    }\n",
       "</style>\n",
       "<table border=\"1\" class=\"dataframe\">\n",
       "  <thead>\n",
       "    <tr style=\"text-align: right;\">\n",
       "      <th></th>\n",
       "      <th>edible-poisonous</th>\n",
       "      <th>gill-spacing</th>\n",
       "      <th>stalk-shape</th>\n",
       "      <th>stalk-color-above-ring</th>\n",
       "      <th>stalk-color-below-ring</th>\n",
       "      <th>gill-color</th>\n",
       "      <th>bruised</th>\n",
       "    </tr>\n",
       "  </thead>\n",
       "  <tbody>\n",
       "    <tr>\n",
       "      <th>0</th>\n",
       "      <td>poisonous</td>\n",
       "      <td>close</td>\n",
       "      <td>enlarging</td>\n",
       "      <td>white</td>\n",
       "      <td>white</td>\n",
       "      <td>black</td>\n",
       "      <td>True</td>\n",
       "    </tr>\n",
       "    <tr>\n",
       "      <th>1</th>\n",
       "      <td>edible</td>\n",
       "      <td>close</td>\n",
       "      <td>enlarging</td>\n",
       "      <td>white</td>\n",
       "      <td>white</td>\n",
       "      <td>black</td>\n",
       "      <td>True</td>\n",
       "    </tr>\n",
       "    <tr>\n",
       "      <th>2</th>\n",
       "      <td>edible</td>\n",
       "      <td>close</td>\n",
       "      <td>enlarging</td>\n",
       "      <td>white</td>\n",
       "      <td>white</td>\n",
       "      <td>brown</td>\n",
       "      <td>True</td>\n",
       "    </tr>\n",
       "    <tr>\n",
       "      <th>3</th>\n",
       "      <td>poisonous</td>\n",
       "      <td>close</td>\n",
       "      <td>enlarging</td>\n",
       "      <td>white</td>\n",
       "      <td>white</td>\n",
       "      <td>brown</td>\n",
       "      <td>True</td>\n",
       "    </tr>\n",
       "    <tr>\n",
       "      <th>4</th>\n",
       "      <td>edible</td>\n",
       "      <td>crowded</td>\n",
       "      <td>tapering</td>\n",
       "      <td>white</td>\n",
       "      <td>white</td>\n",
       "      <td>black</td>\n",
       "      <td>False</td>\n",
       "    </tr>\n",
       "  </tbody>\n",
       "</table>\n",
       "</div>"
      ],
      "text/plain": [
       "  edible-poisonous gill-spacing stalk-shape stalk-color-above-ring  \\\n",
       "0        poisonous        close   enlarging                  white   \n",
       "1           edible        close   enlarging                  white   \n",
       "2           edible        close   enlarging                  white   \n",
       "3        poisonous        close   enlarging                  white   \n",
       "4           edible      crowded    tapering                  white   \n",
       "\n",
       "  stalk-color-below-ring gill-color  bruised  \n",
       "0                  white      black     True  \n",
       "1                  white      black     True  \n",
       "2                  white      brown     True  \n",
       "3                  white      brown     True  \n",
       "4                  white      black    False  "
      ]
     },
     "execution_count": 65,
     "metadata": {},
     "output_type": "execute_result"
    }
   ],
   "source": [
    "df.head()"
   ]
  },
  {
   "cell_type": "code",
   "execution_count": 67,
   "metadata": {
    "ExecuteTime": {
     "end_time": "2022-03-14T16:53:47.659375Z",
     "start_time": "2022-03-14T16:53:47.639417Z"
    },
    "slideshow": {
     "slide_type": "notes"
    }
   },
   "outputs": [],
   "source": [
    "# P that mushroom is poisonous given close gill spacing and tapering stalk\n",
    "p_close_tapering = df[(df['gill-spacing'] == 'close')\n",
    "                    & (df['stalk-shape'] == 'tapering')\n",
    "                     ].shape[0] / df.shape[0]"
   ]
  },
  {
   "cell_type": "code",
   "execution_count": 69,
   "metadata": {
    "ExecuteTime": {
     "end_time": "2022-03-14T18:05:41.553420Z",
     "start_time": "2022-03-14T18:05:41.534394Z"
    }
   },
   "outputs": [],
   "source": [
    "p_poisonous_close_tapering = df[(df['gill-spacing'] == 'close')\n",
    "                                & (df['stalk-shape'] == 'tapering')\n",
    "                                & (df['edible-poisonous'] == 'edible')\n",
    "                                     ].shape[0] / df.shape[0]"
   ]
  },
  {
   "cell_type": "code",
   "execution_count": 70,
   "metadata": {
    "ExecuteTime": {
     "end_time": "2022-03-14T18:05:59.899501Z",
     "start_time": "2022-03-14T18:05:59.880467Z"
    }
   },
   "outputs": [
    {
     "data": {
      "text/plain": [
       "0.46153846153846156"
      ]
     },
     "execution_count": 70,
     "metadata": {},
     "output_type": "execute_result"
    }
   ],
   "source": [
    "p_poisonous_close_tapering / p_close_tapering"
   ]
  },
  {
   "cell_type": "code",
   "execution_count": null,
   "metadata": {},
   "outputs": [],
   "source": []
  }
 ],
 "metadata": {
  "kernelspec": {
   "display_name": "Python (learn-env)",
   "language": "python",
   "name": "learn-env"
  },
  "language_info": {
   "codemirror_mode": {
    "name": "ipython",
    "version": 3
   },
   "file_extension": ".py",
   "mimetype": "text/x-python",
   "name": "python",
   "nbconvert_exporter": "python",
   "pygments_lexer": "ipython3",
   "version": "3.8.5"
  }
 },
 "nbformat": 4,
 "nbformat_minor": 4
}
