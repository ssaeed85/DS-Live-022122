{
 "cells": [
  {
   "cell_type": "markdown",
   "id": "ce6ee8f3",
   "metadata": {
    "slideshow": {
     "slide_type": "slide"
    }
   },
   "source": [
    "# Hypothesis Testing \n",
    "\n",
    "### Objectives:\n",
    "* Review Hypothesis testing terminology \n",
    "* Perform z- tests and Student's t-test and interpret the results"
   ]
  },
  {
   "cell_type": "markdown",
   "id": "ea1dcf2c",
   "metadata": {
    "slideshow": {
     "slide_type": "slide"
    }
   },
   "source": [
    "## Hypothesis testing\n",
    "<b>an act in statistics whereby an analyst tests an <span style=\"color: red\">assumption</span> regarding a population parameter</b>\n",
    "<ul>\n",
    "    <li>The assumption is known as the <b>Null Hypothesis ($H_o$)</b></li>\n",
    "    <li>The opposite of the assumption is the <b>Alternative Hypothesis ($H_a$)</b></li>\n",
    "    <li>These are <b>mutually exclusive</b> i.e. only <b>ONE</b> can be true</li>\n",
    "    <li>One <b>has to be true</b></li>\n",
    "    <li>We only test the <b>Null Hypothesis ($H_o$)</b>\n",
    "</ul>\n"
   ]
  },
  {
   "cell_type": "markdown",
   "id": "47f6504d",
   "metadata": {
    "slideshow": {
     "slide_type": "subslide"
    }
   },
   "source": [
    "### Hypothesis Examples\n",
    "<b>Chemistry</b> - does our new fertilizer produce higher yields than the old fertilizer?<br/>\n",
    "<ul>\n",
    "    <li><b>Null Hypothesis ($H_o$)</b> - <b>New</b> fertilizer does NOT produces <b>significantly</b> better yields than <b>Old</b> fertilizer  $F_n$ = $F_o$</li>\n",
    "    <li><b>Alternate Hypothesis ($H_a$)</b> - <b>New</b> fertilizer produces <b>significantly </b> more yield then  <b>Old</b> fertilizer  $F_n$ > $F_o$</li>\n",
    "</ul>\n",
    "\n",
    "\n",
    "\n",
    "\n",
    "\n"
   ]
  },
  {
   "cell_type": "markdown",
   "id": "80321a50",
   "metadata": {
    "slideshow": {
     "slide_type": "subslide"
    }
   },
   "source": [
    "<b>Business</b> - Is there a difference in income between Males and Females for the same job<br/>\n",
    "<ul>\n",
    "    <li><b>$H_o$</b> - <b>Females</b> do not make <b>significantly</b> less money than <b>Males</b> for the same position    $S_m$ = $S_f$</li>\n",
    "    <li><b>$H_a$</b> - Males make  <b>significantly</b> more in salary than  <b>Females</b> in the same jobs $S_m$ > $S_f$</li>\n",
    "</ul>\n"
   ]
  },
  {
   "cell_type": "markdown",
   "id": "1aae9a8e",
   "metadata": {
    "slideshow": {
     "slide_type": "subslide"
    }
   },
   "source": [
    "Astrophysics - do star systems with near-orbiting gas giants have hotter stars?<br/>\n",
    "Economics - demography, surveys, etc.<br/>\n",
    "Medicine - BMI vs. Hypertension, etc.<br/>\n",
    "Business - which ad is more effective given engagement?"
   ]
  },
  {
   "cell_type": "markdown",
   "id": "4671f5d5",
   "metadata": {
    "slideshow": {
     "slide_type": "subslide"
    }
   },
   "source": [
    "<ul>\n",
    "    <li>Test ($H_o$)</li>\n",
    "    <ul><li>True</li>\n",
    "        <ul><li>($H_a$) is False</li></ul>\n",
    "    </ul>\n",
    "    <ul><li>False</li>\n",
    "        <ul><li>($H_a$) is TRUE</li></ul>\n",
    "    </ul>\n",
    "</ul>\n",
    "<br>\n",
    "<b>One</b>Test -> <b>TWO</b> Results"
   ]
  },
  {
   "cell_type": "markdown",
   "id": "b7f023de",
   "metadata": {
    "slideshow": {
     "slide_type": "slide"
    }
   },
   "source": [
    "<ul>\n",
    "    <li><b>$H_o$</b> - <b>New</b> fertilizer produces <span style=\"color: red\"><b>significantly</b></span> better yields than <b>Old</b> fertilizer</li>\n",
    "    <li><b>$H_o$</b> - <b>Males</b> make<span style=\"color: red\"> <b>significantly</b></span> more money than <b>Females</b> for the same position</li>\n",
    "</ul>"
   ]
  },
  {
   "cell_type": "markdown",
   "id": "69c4d0c7",
   "metadata": {
    "slideshow": {
     "slide_type": "subslide"
    }
   },
   "source": [
    "<ul>\n",
    "    <li><b>$H_o$</b> - <b>New</b> fertilizer produces <span style=\"color: red\"><b>significantly</b></span> better yields than <b>Old</b> fertilizer</li>\n",
    "    <li><b>$H_o$</b> - <b>Males</b> make<span style=\"color: red\"> <b>significantly</b></span> more money than <b>Females</b> for the same position</li>\n",
    "</ul>\n",
    "<br>\n",
    "<br>\n",
    "<center><b><span style=\"font-size: 64px\">What is Significant?</span></b></center>"
   ]
  },
  {
   "cell_type": "code",
   "execution_count": 1,
   "id": "79f8bb3d",
   "metadata": {
    "ExecuteTime": {
     "end_time": "2022-03-16T15:12:30.552728Z",
     "start_time": "2022-03-16T15:12:30.524928Z"
    },
    "slideshow": {
     "slide_type": "slide"
    }
   },
   "outputs": [],
   "source": [
    "%%capture norm\n",
    "from IPython.display import Image \n",
    "pil_img = Image(filename='images/1ZXSJBVx7puogaQIW2edXbg.png')\n",
    "display(pil_img)\n"
   ]
  },
  {
   "cell_type": "code",
   "execution_count": 3,
   "id": "c62371a8",
   "metadata": {
    "ExecuteTime": {
     "end_time": "2022-03-16T02:54:36.820658Z",
     "start_time": "2022-03-16T02:54:36.815388Z"
    },
    "scrolled": false,
    "slideshow": {
     "slide_type": "subslide"
    }
   },
   "outputs": [
    {
     "data": {
      "image/png": "[encoded data removed]",
      "text/plain": [
       "<IPython.core.display.Image object>"
      ]
     },
     "metadata": {},
     "output_type": "display_data"
    }
   ],
   "source": [
    "norm()"
   ]
  },
  {
   "cell_type": "markdown",
   "id": "10270e43",
   "metadata": {
    "slideshow": {
     "slide_type": "slide"
    }
   },
   "source": [
    "<img src=\"images/Null_Hypothesis.png\" width=\"800\">"
   ]
  },
  {
   "cell_type": "markdown",
   "id": "9f633508",
   "metadata": {
    "ExecuteTime": {
     "end_time": "2022-03-16T13:05:03.352252Z",
     "start_time": "2022-03-16T13:05:03.335355Z"
    },
    "slideshow": {
     "slide_type": "slide"
    }
   },
   "source": [
    "\n",
    "\n",
    "<img src= 'images/onetwotailed.jpeg' width='600px'>\n"
   ]
  },
  {
   "cell_type": "markdown",
   "id": "08db895b",
   "metadata": {
    "ExecuteTime": {
     "end_time": "2022-03-16T13:11:39.152195Z",
     "start_time": "2022-03-16T13:11:39.146068Z"
    },
    "slideshow": {
     "slide_type": "slide"
    }
   },
   "source": [
    "<img src='images/tailsleft.png' width=600px>"
   ]
  },
  {
   "cell_type": "markdown",
   "id": "9d75ce72",
   "metadata": {
    "ExecuteTime": {
     "end_time": "2022-03-15T13:43:26.672264Z",
     "start_time": "2022-03-15T13:43:26.664729Z"
    },
    "slideshow": {
     "slide_type": "slide"
    }
   },
   "source": [
    "\n",
    "<img src='images/tailsright.png' width='600px'>\n",
    "\n"
   ]
  },
  {
   "cell_type": "markdown",
   "id": "78743606",
   "metadata": {
    "ExecuteTime": {
     "end_time": "2022-03-16T13:13:47.839406Z",
     "start_time": "2022-03-16T13:13:47.835353Z"
    },
    "slideshow": {
     "slide_type": "slide"
    }
   },
   "source": [
    "\n",
    "<img src='images/twotailed.png' width='600px'>\n"
   ]
  },
  {
   "cell_type": "markdown",
   "id": "8b81e597",
   "metadata": {
    "slideshow": {
     "slide_type": "slide"
    }
   },
   "source": [
    "### How to Determine if $H_o$ is True"
   ]
  },
  {
   "cell_type": "markdown",
   "id": "3fd2d5da",
   "metadata": {
    "ExecuteTime": {
     "end_time": "2022-03-16T02:55:57.358346Z",
     "start_time": "2022-03-16T02:55:57.351964Z"
    },
    "slideshow": {
     "slide_type": "slide"
    }
   },
   "source": [
    "\n",
    "\n",
    "<img src='images/z-test.jpg' width='600px'>\n"
   ]
  },
  {
   "cell_type": "markdown",
   "id": "0cec6657",
   "metadata": {
    "slideshow": {
     "slide_type": "slide"
    }
   },
   "source": [
    "## $z$-Tests "
   ]
  },
  {
   "cell_type": "markdown",
   "id": "b8dfdb61",
   "metadata": {
    "slideshow": {
     "slide_type": "fragment"
    }
   },
   "source": [
    "A $z$-test is used when you know the population mean and standard deviation."
   ]
  },
  {
   "cell_type": "markdown",
   "id": "4b269d73",
   "metadata": {
    "slideshow": {
     "slide_type": "fragment"
    }
   },
   "source": [
    "Our test statistic is the $z$-statistic."
   ]
  },
  {
   "cell_type": "code",
   "execution_count": 11,
   "id": "b131c8b5",
   "metadata": {
    "ExecuteTime": {
     "end_time": "2022-03-16T02:59:37.587335Z",
     "start_time": "2022-03-16T02:59:37.200930Z"
    },
    "slideshow": {
     "slide_type": "slide"
    }
   },
   "outputs": [
    {
     "data": {
      "text/plain": [
       "2.3499999999999943"
      ]
     },
     "execution_count": 11,
     "metadata": {},
     "output_type": "execute_result"
    }
   ],
   "source": [
    "import numpy as np\n",
    "from scipy import stats\n",
    "\n",
    "sample_female_heights = [68, 65, 69, 70, 70, \n",
    "                         61, 59, 65, 64, 66,\n",
    "                         72, 71, 68, 66, 64,\n",
    "                         65, 65, 70, 71, 63, \n",
    "                         72, 66, 65, 65, 72]\n",
    "\n",
    "x_bar = np.mean(sample_female_heights)\n",
    "mu = 65\n",
    "n = len(sample_female_heights)\n",
    "std = 4\n",
    "\n",
    "z = (x_bar - mu)/(4/np.sqrt(n))\n",
    "z"
   ]
  },
  {
   "cell_type": "code",
   "execution_count": 12,
   "id": "1eb31990",
   "metadata": {
    "ExecuteTime": {
     "end_time": "2022-03-16T02:59:40.034154Z",
     "start_time": "2022-03-16T02:59:40.025354Z"
    },
    "slideshow": {
     "slide_type": "slide"
    }
   },
   "outputs": [
    {
     "name": "stdout",
     "output_type": "stream",
     "text": [
      "0.9906132944651613\n",
      "0.009386705534838714\n"
     ]
    }
   ],
   "source": [
    "# we can use stats to calculate the percentile\n",
    "print(stats.norm.cdf(z))\n",
    "\n",
    "# We can also use the survival function to calculate the probability\n",
    "print(stats.norm.sf(z))"
   ]
  },
  {
   "cell_type": "markdown",
   "id": "57f61acc",
   "metadata": {
    "slideshow": {
     "slide_type": "slide"
    }
   },
   "source": [
    "# Steps of a Hypothesis Test"
   ]
  },
  {
   "cell_type": "markdown",
   "id": "b9ab761b",
   "metadata": {
    "slideshow": {
     "slide_type": "slide"
    }
   },
   "source": [
    "Let's go through the steps of the hypothesis test one-by-one and define what we need as we go.\n",
    "\n",
    "Below are the general steps of the hypothesis test (we'll focus on the one-sample $z$-test)"
   ]
  },
  {
   "cell_type": "markdown",
   "id": "3a1f2c22",
   "metadata": {
    "slideshow": {
     "slide_type": "fragment"
    }
   },
   "source": [
    "1. State the null hypothesis and the alternative hypothesis\n",
    "2. Specify significance level ($\\alpha$)\n",
    "3. Calculate test statistic (z-statistic)\n",
    "4. Calculate p-value\n",
    "5. Interpret p-value (reject or fail to reject the null hypothesis) \n"
   ]
  },
  {
   "cell_type": "markdown",
   "id": "2e86b6ac",
   "metadata": {
    "slideshow": {
     "slide_type": "slide"
    }
   },
   "source": [
    "## STEP 1: State the Null and Alternative Hypotheses"
   ]
  },
  {
   "cell_type": "markdown",
   "id": "4a50b8c4",
   "metadata": {
    "slideshow": {
     "slide_type": "fragment"
    }
   },
   "source": [
    "It's important to state both the **null hypothesis** $H_0$ and **alternative hypothesis** $H_a$ (or $H_1$) so we can be clear in what we can learn from our hypothesis test."
   ]
  },
  {
   "cell_type": "markdown",
   "id": "b165bebe",
   "metadata": {
    "slideshow": {
     "slide_type": "slide"
    }
   },
   "source": [
    "### The Null Hypothesis"
   ]
  },
  {
   "cell_type": "markdown",
   "id": "940db338",
   "metadata": {
    "slideshow": {
     "slide_type": "fragment"
    }
   },
   "source": [
    "> There is NOTHING, **no** difference.\n",
    "![gmonk](https://vignette.wikia.nocookie.net/villains/images/2/2f/Ogmork.jpg/revision/latest?cb=20120217040244)"
   ]
  },
  {
   "cell_type": "markdown",
   "id": "435bc09a",
   "metadata": {
    "slideshow": {
     "slide_type": "slide"
    }
   },
   "source": [
    "> The **null hypothesis** $H_0$ is what we would expect if there is no difference from our sample to our comparison group (population in many cases)."
   ]
  },
  {
   "cell_type": "markdown",
   "id": "8b4c0782",
   "metadata": {
    "slideshow": {
     "slide_type": "fragment"
    }
   },
   "source": [
    "If we're testing the function of a new drug, then the null hypothesis will say something like: \n",
    "\n",
    "> The drug has _no effect_ on patients (does not speed up recovery)"
   ]
  },
  {
   "cell_type": "markdown",
   "id": "dc3dc12f",
   "metadata": {
    "slideshow": {
     "slide_type": "fragment"
    }
   },
   "source": [
    "If we're testing whether Peeps cause dementia, then the null hypothesis will say:\n",
    "> There is _no correlation_ between Peeps consumption and the rate of dementia development"
   ]
  },
  {
   "cell_type": "markdown",
   "id": "f804b571",
   "metadata": {
    "slideshow": {
     "slide_type": "slide"
    }
   },
   "source": [
    "### The Alternative Hypothesis "
   ]
  },
  {
   "cell_type": "markdown",
   "id": "8ad6942e",
   "metadata": {
    "slideshow": {
     "slide_type": "fragment"
    }
   },
   "source": [
    "> The **alternative hypothesis** $H_a$ or $H_1$ says the sample is _different_ from the comparison group. It is essentially the opposite of the null hypothesis (there is an _effect_)."
   ]
  },
  {
   "cell_type": "markdown",
   "id": "81dbc378",
   "metadata": {
    "slideshow": {
     "slide_type": "fragment"
    }
   },
   "source": [
    "Going back to our drug example, our alternative hypothesis could be:\n",
    "> The drug _decreases_ the time of recovery (versus not using the drug)"
   ]
  },
  {
   "cell_type": "markdown",
   "id": "08586b66",
   "metadata": {
    "slideshow": {
     "slide_type": "slide"
    }
   },
   "source": [
    "### 🧠 Knowledge Check"
   ]
  },
  {
   "cell_type": "markdown",
   "id": "d3ecf020",
   "metadata": {
    "slideshow": {
     "slide_type": "slide"
    }
   },
   "source": [
    "1. A drug manufacturer claims that a drug increases memory. It designs an experiment where both control and experimental groups are shown a series of images, and records the number of correct recollections until an error is made for each group. "
   ]
  },
  {
   "cell_type": "markdown",
   "id": "1de4722e",
   "metadata": {
    "slideshow": {
     "slide_type": "fragment"
    }
   },
   "source": [
    "Answer:\n",
    "\n",
    "    "
   ]
  },
  {
   "cell_type": "markdown",
   "id": "45b324a5",
   "metadata": {
    "slideshow": {
     "slide_type": "slide"
    }
   },
   "source": [
    "2. An online toystore claims that putting a 5 minute timer on the checkout page of its website decreases conversion rate. It sets up two versions of its site, one with a timer and one with no timer. "
   ]
  },
  {
   "cell_type": "markdown",
   "id": "95429381",
   "metadata": {
    "slideshow": {
     "slide_type": "fragment"
    }
   },
   "source": [
    "\n",
    "Answer:"
   ]
  },
  {
   "cell_type": "code",
   "execution_count": null,
   "id": "72ebc1f0",
   "metadata": {},
   "outputs": [],
   "source": []
  },
  {
   "cell_type": "markdown",
   "id": "0b8facbd",
   "metadata": {
    "slideshow": {
     "slide_type": "slide"
    }
   },
   "source": [
    "3. The Kansas City public school system wants to test whether the scores of students who take standardized tests under the supervision of teachers differ from the scores of students who take them in rooms with school administrators."
   ]
  },
  {
   "cell_type": "markdown",
   "id": "8570e705",
   "metadata": {
    "slideshow": {
     "slide_type": "fragment"
    }
   },
   "source": [
    "    \n",
    "  Anwer:"
   ]
  },
  {
   "cell_type": "markdown",
   "id": "c834955c",
   "metadata": {
    "slideshow": {
     "slide_type": "slide"
    }
   },
   "source": [
    "4. A pest control company believes that the length of cockroach legs in colonies which have persisted after two or more insecticide treatements are longer than those in colonies which have not been treated with insecticide."
   ]
  },
  {
   "cell_type": "markdown",
   "id": "1d44508e",
   "metadata": {
    "slideshow": {
     "slide_type": "fragment"
    }
   },
   "source": [
    "\n",
    "    Answer"
   ]
  },
  {
   "cell_type": "markdown",
   "id": "e8880957",
   "metadata": {
    "slideshow": {
     "slide_type": "slide"
    }
   },
   "source": [
    "5. A healthcare company believes patients between the ages of 18 and 25 participate in annual checkups less than all other age groups."
   ]
  },
  {
   "cell_type": "markdown",
   "id": "f907e0ba",
   "metadata": {
    "slideshow": {
     "slide_type": "fragment"
    }
   },
   "source": [
    "\n",
    "   Answer:"
   ]
  },
  {
   "cell_type": "markdown",
   "id": "4430e021",
   "metadata": {
    "slideshow": {
     "slide_type": "slide"
    }
   },
   "source": [
    "## STEP 2: Specify Significance Level"
   ]
  },
  {
   "cell_type": "markdown",
   "id": "13864090",
   "metadata": {
    "slideshow": {
     "slide_type": "fragment"
    }
   },
   "source": [
    "Now that we have our hypotheses defined, we have to determine when do we say an observation is **statistically significant**. Basically, how \"weird\" do things have to be until we reject $H_0$."
   ]
  },
  {
   "cell_type": "markdown",
   "id": "c4624b5f",
   "metadata": {
    "slideshow": {
     "slide_type": "fragment"
    }
   },
   "source": [
    "We choose a threshold called the **significance level** $\\alpha$. The smaller the value, the more \"weirdness\" we're willing to accept before reject the null hypothesis.\n",
    "\n",
    "If the probability of observing a weird value (our sample) is smaller than $\\alpha$, then we will reject the null-hypothesis."
   ]
  },
  {
   "cell_type": "markdown",
   "id": "eb8e1643",
   "metadata": {
    "slideshow": {
     "slide_type": "fragment"
    }
   },
   "source": [
    "Typically we choose $\\alpha$ to be $0.05$ which means that we have to observe a sample that would occur less than $5\\%$ of the time if the null hypothesis is true."
   ]
  },
  {
   "cell_type": "markdown",
   "id": "e7f1b071",
   "metadata": {
    "slideshow": {
     "slide_type": "slide"
    }
   },
   "source": [
    "## STEP 3: Calculate the Test Statistic"
   ]
  },
  {
   "cell_type": "markdown",
   "id": "62419f37",
   "metadata": {
    "slideshow": {
     "slide_type": "fragment"
    }
   },
   "source": [
    "With the setup from the prior steps, we can now look at our sample. We'll want to find a **test statistic** that can be compared to our distribution (usually something like the normal distribution)."
   ]
  },
  {
   "cell_type": "markdown",
   "id": "5c9a65ef",
   "metadata": {},
   "source": [
    "Today we will focus on performing a **$z$-test** which is a hypothesis test that uses the normal curve. So we will find the $z$-score of our sample's mean also known as our **$z$-statistic** in the context of hypothesis testing.\n",
    "\n",
    "> **NOTE**\n",
    ">\n",
    "> Just know that we'll see there are other hypothesis tests that follow the same steps but differ in how we calculate their test statistics. We'll see more types of tests later on."
   ]
  },
  {
   "cell_type": "markdown",
   "id": "733b15a4",
   "metadata": {},
   "source": [
    "<img src='images/z-test.jpg' width='600px'>"
   ]
  },
  {
   "cell_type": "markdown",
   "id": "ed6258c8",
   "metadata": {
    "slideshow": {
     "slide_type": "slide"
    }
   },
   "source": [
    "## STEP 4: Calculate p-value"
   ]
  },
  {
   "cell_type": "markdown",
   "id": "8bf5cd01",
   "metadata": {
    "slideshow": {
     "slide_type": "fragment"
    }
   },
   "source": [
    "The basic idea of a $p$-value is to quantify the probability that the results seen are in fact the result of mere random chance.\n",
    "\n",
    "This is connected with the null hypothesis: If the null hypothesis is true and there is _**no** significant_ correlation between the population variables and our samples observed variable and would have to be the result of mere random chance."
   ]
  },
  {
   "cell_type": "markdown",
   "id": "46bd9bac",
   "metadata": {
    "slideshow": {
     "slide_type": "fragment"
    }
   },
   "source": [
    "The p-value is _probability_ that we would observe the sample measurement ($\\bar{x}$) assuming the null hypothesis (the standard normal curve). This tells us how _likely or unlikely_ our sample measurement is"
   ]
  },
  {
   "cell_type": "markdown",
   "id": "7cdb12f3",
   "metadata": {
    "slideshow": {
     "slide_type": "slide"
    }
   },
   "source": [
    "For the $z$-test, we can use the CDF of the normal distribution to find this probability (`p = 1 - scipy.stats.norm.cdf(z_score)`). Shortcut: `p = scipy.stats.norm.sf(z_score)`."
   ]
  },
  {
   "cell_type": "markdown",
   "id": "e565294b",
   "metadata": {},
   "source": [
    "## STEP 5: Interpret p-value"
   ]
  },
  {
   "cell_type": "code",
   "execution_count": null,
   "id": "190a7152",
   "metadata": {},
   "outputs": [],
   "source": []
  },
  {
   "cell_type": "markdown",
   "id": "a2129240",
   "metadata": {
    "slideshow": {
     "slide_type": "slide"
    }
   },
   "source": [
    "### Example"
   ]
  },
  {
   "cell_type": "markdown",
   "id": "5f23fc19",
   "metadata": {
    "slideshow": {
     "slide_type": "fragment"
    }
   },
   "source": [
    "Let's work with the normal distribution, since it's so useful. Suppose we are told that African elephants have weights distributed normally around a mean of 9000 lbs., with a standard deviation of 900 lbs. Pachyderm Adventures has recently measured the weights of 40 African elephants in Gabon and has calculated their average weight at 8637 lbs. They claim that these statistics on the Gabonese elephants are significant. Let's find out!"
   ]
  },
  {
   "cell_type": "markdown",
   "id": "007f53f6",
   "metadata": {
    "slideshow": {
     "slide_type": "fragment"
    }
   },
   "source": [
    "What is our null hypothesis?"
   ]
  },
  {
   "cell_type": "markdown",
   "id": "c85e654e",
   "metadata": {
    "slideshow": {
     "slide_type": "notes"
    }
   },
   "source": [
    "Answer:"
   ]
  },
  {
   "cell_type": "markdown",
   "id": "a40ae33b",
   "metadata": {
    "slideshow": {
     "slide_type": "slide"
    }
   },
   "source": [
    "What is our alternative hypothesis?"
   ]
  },
  {
   "cell_type": "markdown",
   "id": "2cba4872",
   "metadata": {
    "slideshow": {
     "slide_type": "fragment"
    }
   },
   "source": [
    "Answer:"
   ]
  },
  {
   "cell_type": "markdown",
   "id": "257beff4",
   "metadata": {
    "slideshow": {
     "slide_type": "fragment"
    }
   },
   "source": [
    "What is our alpha?"
   ]
  },
  {
   "cell_type": "markdown",
   "id": "9f5cab00",
   "metadata": {
    "slideshow": {
     "slide_type": "notes"
    }
   },
   "source": [
    "Answer: "
   ]
  },
  {
   "cell_type": "markdown",
   "id": "cfb2f897",
   "metadata": {
    "slideshow": {
     "slide_type": "slide"
    }
   },
   "source": [
    "Now let's calculate the z-score analytically.\n",
    "Remember the formula for z-score:\n",
    "$z = \\dfrac{{\\bar{x}} - \\mu_{0}}{\\dfrac{\\sigma}{\\sqrt{n}}}$"
   ]
  },
  {
   "cell_type": "code",
   "execution_count": null,
   "id": "23901c48",
   "metadata": {
    "ExecuteTime": {
     "end_time": "2022-03-16T14:19:23.222699Z",
     "start_time": "2022-03-16T14:19:23.205667Z"
    },
    "slideshow": {
     "slide_type": "slide"
    }
   },
   "outputs": [],
   "source": []
  },
  {
   "cell_type": "code",
   "execution_count": null,
   "id": "29736f59",
   "metadata": {
    "ExecuteTime": {
     "end_time": "2022-03-16T14:20:00.986097Z",
     "start_time": "2022-03-16T14:19:59.172082Z"
    },
    "slideshow": {
     "slide_type": "slide"
    }
   },
   "outputs": [],
   "source": []
  },
  {
   "cell_type": "code",
   "execution_count": null,
   "id": "2405ee47",
   "metadata": {},
   "outputs": [],
   "source": []
  },
  {
   "cell_type": "code",
   "execution_count": null,
   "id": "862e3ba0",
   "metadata": {},
   "outputs": [],
   "source": []
  }
 ],
 "metadata": {
  "celltoolbar": "Slideshow",
  "kernelspec": {
   "display_name": "Python 3 (ipykernel)",
   "language": "python",
   "name": "python3"
  },
  "language_info": {
   "codemirror_mode": {
    "name": "ipython",
    "version": 3
   },
   "file_extension": ".py",
   "mimetype": "text/x-python",
   "name": "python",
   "nbconvert_exporter": "python",
   "pygments_lexer": "ipython3",
   "version": "3.9.7"
  },
  "toc": {
   "base_numbering": 1,
   "nav_menu": {},
   "number_sections": true,
   "sideBar": true,
   "skip_h1_title": false,
   "title_cell": "Table of Contents",
   "title_sidebar": "Contents",
   "toc_cell": false,
   "toc_position": {},
   "toc_section_display": true,
   "toc_window_display": false
  }
 },
 "nbformat": 4,
 "nbformat_minor": 5
}
