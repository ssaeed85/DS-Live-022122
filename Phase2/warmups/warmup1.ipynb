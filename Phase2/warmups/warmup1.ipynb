{
 "cells": [
  {
   "cell_type": "markdown",
   "metadata": {},
   "source": [
    "## Task\n",
    "\n",
    "Given an array of integers , Find the minimum sum which is obtained from summing each Two integers product .\n",
    "\n"
   ]
  },
  {
   "cell_type": "markdown",
   "metadata": {},
   "source": [
    "#### Note:\n",
    "\n",
    "1. Array/list will contain positives only.\n",
    "\n",
    "2. Array/list will always has even size"
   ]
  },
  {
   "cell_type": "markdown",
   "metadata": {},
   "source": [
    "### Examples"
   ]
  },
  {
   "cell_type": "markdown",
   "metadata": {},
   "source": [
    "#### 1\n",
    "\n",
    "`minSum([5,4,2,3]) ==> return (22) `\n",
    "\n",
    "The minimum sum obtained from summing each two integers product , `5*2 + 3*4 = 22`"
   ]
  },
  {
   "cell_type": "markdown",
   "metadata": {},
   "source": [
    "#### 2\n",
    "\n",
    "`minSum([12,6,10,26,3,24]) ==> return (342)`\n",
    "\n",
    "The minimum sum obtained from summing each two integers product , `26*3 + 24*6 + 12*10 = 342`"
   ]
  },
  {
   "cell_type": "markdown",
   "metadata": {},
   "source": [
    "#### 3\n",
    "\n",
    "`minSum([9,2,8,7,5,4,0,6]) ==> return (74)`\n",
    "\n",
    "The minimum sum obtained from summing each two integers product , `9*0 + 8*2 +7*4 +6*5 = 74`"
   ]
  },
  {
   "cell_type": "code",
   "execution_count": 43,
   "metadata": {
    "ExecuteTime": {
     "end_time": "2022-03-15T15:21:22.769070Z",
     "start_time": "2022-03-15T15:21:22.758067Z"
    }
   },
   "outputs": [],
   "source": [
    "def minSum(numberlist):\n",
    "    \"\"\"\n",
    "    Given an array of integers , Find the minimum sum which is obtained from summing each Two integers product\n",
    "    \"\"\"\n",
    "    smallestnum = 0\n",
    "    while numberlist:\n",
    "        smallestnum += min(numberlist) * max(numberlist)\n",
    "        numberlist.remove(min(numberlist))\n",
    "        numberlist.remove(max(numberlist))\n",
    "    return smallestnum"
   ]
  },
  {
   "cell_type": "code",
   "execution_count": 44,
   "metadata": {
    "ExecuteTime": {
     "end_time": "2022-03-15T15:21:22.940891Z",
     "start_time": "2022-03-15T15:21:22.934888Z"
    }
   },
   "outputs": [
    {
     "name": "stdout",
     "output_type": "stream",
     "text": [
      "342\n"
     ]
    }
   ],
   "source": [
    "print(minSum([12,6,10,26,3,24]))"
   ]
  },
  {
   "cell_type": "code",
   "execution_count": null,
   "metadata": {},
   "outputs": [],
   "source": []
  }
 ],
 "metadata": {
  "kernelspec": {
   "display_name": "Python (learn-env)",
   "language": "python",
   "name": "learn-env"
  },
  "language_info": {
   "codemirror_mode": {
    "name": "ipython",
    "version": 3
   },
   "file_extension": ".py",
   "mimetype": "text/x-python",
   "name": "python",
   "nbconvert_exporter": "python",
   "pygments_lexer": "ipython3",
   "version": "3.8.5"
  },
  "toc": {
   "base_numbering": 1,
   "nav_menu": {},
   "number_sections": true,
   "sideBar": true,
   "skip_h1_title": false,
   "title_cell": "Table of Contents",
   "title_sidebar": "Contents",
   "toc_cell": false,
   "toc_position": {},
   "toc_section_display": true,
   "toc_window_display": false
  },
  "varInspector": {
   "cols": {
    "lenName": 16,
    "lenType": 16,
    "lenVar": 40
   },
   "kernels_config": {
    "python": {
     "delete_cmd_postfix": "",
     "delete_cmd_prefix": "del ",
     "library": "var_list.py",
     "varRefreshCmd": "print(var_dic_list())"
    },
    "r": {
     "delete_cmd_postfix": ") ",
     "delete_cmd_prefix": "rm(",
     "library": "var_list.r",
     "varRefreshCmd": "cat(var_dic_list()) "
    }
   },
   "types_to_exclude": [
    "module",
    "function",
    "builtin_function_or_method",
    "instance",
    "_Feature"
   ],
   "window_display": false
  }
 },
 "nbformat": 4,
 "nbformat_minor": 4
}
