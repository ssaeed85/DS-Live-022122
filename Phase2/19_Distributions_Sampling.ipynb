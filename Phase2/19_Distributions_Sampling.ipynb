{
 "cells": [
  {
   "cell_type": "markdown",
   "metadata": {
    "heading_collapsed": true
   },
   "source": [
    "# Objectives"
   ]
  },
  {
   "cell_type": "markdown",
   "metadata": {
    "hidden": true
   },
   "source": [
    "* Explain how sampling is related to its related population\n",
    "* Describe the difference between discrete and continuous random variables\n",
    "* Describe the difference between PMFs, PDFs, and CDFs"
   ]
  },
  {
   "cell_type": "code",
   "execution_count": 2,
   "metadata": {
    "ExecuteTime": {
     "end_time": "2022-03-14T18:09:32.354730Z",
     "start_time": "2022-03-14T18:09:32.336672Z"
    }
   },
   "outputs": [],
   "source": [
    "# Initial imports \n",
    "import pandas as pd\n",
    "import numpy as np\n",
    "from scipy import stats\n",
    "from matplotlib import pyplot as plt\n",
    "import seaborn as sns\n",
    "%matplotlib inline"
   ]
  },
  {
   "cell_type": "markdown",
   "metadata": {
    "heading_collapsed": true
   },
   "source": [
    "# First Steps: Sampling"
   ]
  },
  {
   "cell_type": "markdown",
   "metadata": {
    "hidden": true
   },
   "source": [
    "Before we get into our main topic of probability distributions, it'll help to first understand the concept of **sampling**."
   ]
  },
  {
   "cell_type": "markdown",
   "metadata": {
    "heading_collapsed": true,
    "hidden": true
   },
   "source": [
    "## Our View of The World Isn't Perfect"
   ]
  },
  {
   "cell_type": "markdown",
   "metadata": {
    "hidden": true
   },
   "source": [
    "We don't have _perfect_ information; life doesn't have an answer key.\n",
    "\n",
    "Ideally, we want to have all the details of a whole group. But as you can guess, that's not always feasible."
   ]
  },
  {
   "cell_type": "markdown",
   "metadata": {
    "hidden": true
   },
   "source": [
    "**🧠  What are some reasons we sometimes _can't_ observe the whole group?**\n",
    "<details>\n",
    "<ul>\n",
    "    <li>Expensive</li>\n",
    "    <li>Unrealistic</li>\n",
    "    <li>We don't need it to gain insights!</li>\n",
    "</ul>\n",
    "</details>"
   ]
  },
  {
   "cell_type": "markdown",
   "metadata": {
    "heading_collapsed": true,
    "hidden": true
   },
   "source": [
    "## Solutions?"
   ]
  },
  {
   "cell_type": "markdown",
   "metadata": {
    "hidden": true
   },
   "source": [
    "Let's use an example scenario to think about how we can approach this. Let's say we would like to know the ages of students at Flatiron School. \n",
    "\n",
    "Picture what this might look like. How would you describe the population of students' ages?"
   ]
  },
  {
   "cell_type": "markdown",
   "metadata": {
    "hidden": true
   },
   "source": [
    "> **Key Terms**\n",
    ">\n",
    "> We define the **population** as the whole group we're interested in. We abstract this to the population being the whole set of _possible outcomes_.\n",
    "> \n",
    "> And when we \"pick\" a student (or students), we say we have (randomly) _sampled_ over the population. We call this subset of \"picked\" individuals/outcomes from the population a **sample**."
   ]
  },
  {
   "cell_type": "markdown",
   "metadata": {
    "hidden": true
   },
   "source": [
    "Well, if we knew what the **population** (all the Flatiron students) looked like, we could probably get an idea of what the likely age is of a _randomly_ picked one from the population."
   ]
  },
  {
   "cell_type": "markdown",
   "metadata": {
    "hidden": true
   },
   "source": [
    "We can describe the \"look\" of the population a **probability distribution**. "
   ]
  },
  {
   "cell_type": "markdown",
   "metadata": {
    "hidden": true
   },
   "source": [
    "> **Key Terms**\n",
    "> \n",
    "> A **probability distribution** is a representation of the frequencies of potential outcomes or the percentage of time each outcome occurs."
   ]
  },
  {
   "cell_type": "markdown",
   "metadata": {
    "hidden": true
   },
   "source": [
    "There are a few ways to get the probability distribution, even if it's only approximate."
   ]
  },
  {
   "cell_type": "markdown",
   "metadata": {
    "heading_collapsed": true,
    "hidden": true
   },
   "source": [
    "### Observe the Whole Population"
   ]
  },
  {
   "cell_type": "markdown",
   "metadata": {
    "hidden": true
   },
   "source": [
    "This might seem like \"cheating\" but sometimes this is really the best way even if it's \"expensive\" (monetarily, time, or otherwise). Sometimes this has already been done for us and we can use those results. It's important to note that sometimes the information is outdated but we can use it as approximately right. (Think how the US Census is done only every 10 years.)"
   ]
  },
  {
   "cell_type": "markdown",
   "metadata": {
    "hidden": true
   },
   "source": [
    "So in our example, we could have a _distribution_ of ages of our population. Let's say of all students were asked their age when enrolling:\n",
    "\n",
    "- $15\\%$ are under the age of $25$\n",
    "- $30\\%$ are between $25$ & $30$\n",
    "- $25\\%$ are between $30$ & $35$\n",
    "- $20\\%$ are between $35$ & $40$\n",
    "- $10\\%$ are over the age of $40$"
   ]
  },
  {
   "cell_type": "markdown",
   "metadata": {
    "heading_collapsed": true,
    "hidden": true
   },
   "source": [
    "### We Sample and Infer the Population's Distribution "
   ]
  },
  {
   "cell_type": "markdown",
   "metadata": {
    "hidden": true
   },
   "source": [
    "Another method is to sample the population (usually randomly) and observe what the sample's distribution looks like. We can then infer what the population might look like."
   ]
  },
  {
   "cell_type": "markdown",
   "metadata": {
    "hidden": true
   },
   "source": [
    "Suppose we ask 100 random students their ages and observe the following:\n",
    "\n",
    "- $10$ are under the age of $25$\n",
    "- $30$ are between $25$ & $30$\n",
    "- $30$ are between $30$ & $35$\n",
    "- $15$ are between $35$ & $40$\n",
    "- $15$ are over the age of $40$\n",
    "\n",
    "Then we can guess that our population is similar to this distribution."
   ]
  },
  {
   "cell_type": "markdown",
   "metadata": {
    "hidden": true
   },
   "source": [
    "How similar? Well, that can be a tough question and is part of _inferential statistics_ where we make predictions based on our observations/data.  We'll  be going into more detail about this in the near future."
   ]
  },
  {
   "cell_type": "markdown",
   "metadata": {},
   "source": [
    "## Sampling & Point Estimates "
   ]
  },
  {
   "cell_type": "markdown",
   "metadata": {},
   "source": [
    "> The sample statistic is calculated from the sample data and the population parameter is inferred (or estimated) from this sample statistic. Let me say that again: Statistics are calculated, parameters are estimated. - James Jones"
   ]
  },
  {
   "cell_type": "markdown",
   "metadata": {},
   "source": [
    "**Know the differences - Population v Sample Terminology**\n",
    "\n",
    "Characteristics of populations are called *parameters*<br/>\n",
    "Characteristics of a sample are called *statistics*\n",
    "\n",
    "<img src=\"https://media.cheggcdn.com/media/7ac/7ac1a812-3b41-4873-8413-b6a7b8fab530/CL-26481V_image_006.png\" width=700>\n",
    "\n",
    "Let's work through an example to understand this topic better. We grabbed wage and classification information for 11,739 City of Seattle Employees (as of March 2022).\n",
    "\n",
    "Details: https://data.seattle.gov/City-Business/City-of-Seattle-Wage-Data/2khk-5ukd"
   ]
  },
  {
   "cell_type": "code",
   "execution_count": 4,
   "metadata": {
    "ExecuteTime": {
     "end_time": "2022-03-14T18:16:57.533763Z",
     "start_time": "2022-03-14T18:16:57.403733Z"
    }
   },
   "outputs": [
    {
     "data": {
      "text/html": [
       "<div>\n",
       "<style scoped>\n",
       "    .dataframe tbody tr th:only-of-type {\n",
       "        vertical-align: middle;\n",
       "    }\n",
       "\n",
       "    .dataframe tbody tr th {\n",
       "        vertical-align: top;\n",
       "    }\n",
       "\n",
       "    .dataframe thead th {\n",
       "        text-align: right;\n",
       "    }\n",
       "</style>\n",
       "<table border=\"1\" class=\"dataframe\">\n",
       "  <thead>\n",
       "    <tr style=\"text-align: right;\">\n",
       "      <th></th>\n",
       "      <th>Department</th>\n",
       "      <th>Last Name</th>\n",
       "      <th>First Name</th>\n",
       "      <th>Job Title</th>\n",
       "      <th>Hourly Rate</th>\n",
       "    </tr>\n",
       "  </thead>\n",
       "  <tbody>\n",
       "    <tr>\n",
       "      <th>0</th>\n",
       "      <td>Seattle Public Utilities</td>\n",
       "      <td>Batchelor</td>\n",
       "      <td>Craig</td>\n",
       "      <td>Civil Engrng Spec,Sr</td>\n",
       "      <td>53.740</td>\n",
       "    </tr>\n",
       "    <tr>\n",
       "      <th>1</th>\n",
       "      <td>Finance &amp; Admin Services</td>\n",
       "      <td>Altice</td>\n",
       "      <td>Jeffrey</td>\n",
       "      <td>Auto Mechanic</td>\n",
       "      <td>39.780</td>\n",
       "    </tr>\n",
       "    <tr>\n",
       "      <th>2</th>\n",
       "      <td>Finance &amp; Admin Services</td>\n",
       "      <td>Montes</td>\n",
       "      <td>Valeria</td>\n",
       "      <td>Cust Svc Rep</td>\n",
       "      <td>29.450</td>\n",
       "    </tr>\n",
       "    <tr>\n",
       "      <th>3</th>\n",
       "      <td>Fire Department</td>\n",
       "      <td>Kuklok</td>\n",
       "      <td>Rebecca</td>\n",
       "      <td>Cust Svc Rep *</td>\n",
       "      <td>29.450</td>\n",
       "    </tr>\n",
       "    <tr>\n",
       "      <th>4</th>\n",
       "      <td>Planning &amp; Comm Development</td>\n",
       "      <td>Quirindongo</td>\n",
       "      <td>Rico</td>\n",
       "      <td>Executive3</td>\n",
       "      <td>97.164</td>\n",
       "    </tr>\n",
       "  </tbody>\n",
       "</table>\n",
       "</div>"
      ],
      "text/plain": [
       "                    Department    Last Name First Name             Job Title  \\\n",
       "0     Seattle Public Utilities    Batchelor      Craig  Civil Engrng Spec,Sr   \n",
       "1     Finance & Admin Services       Altice    Jeffrey         Auto Mechanic   \n",
       "2     Finance & Admin Services       Montes    Valeria          Cust Svc Rep   \n",
       "3              Fire Department       Kuklok    Rebecca        Cust Svc Rep *   \n",
       "4  Planning & Comm Development  Quirindongo       Rico            Executive3   \n",
       "\n",
       "   Hourly Rate   \n",
       "0        53.740  \n",
       "1        39.780  \n",
       "2        29.450  \n",
       "3        29.450  \n",
       "4        97.164  "
      ]
     },
     "execution_count": 4,
     "metadata": {},
     "output_type": "execute_result"
    }
   ],
   "source": [
    "# Grab our data\n",
    "df = pd.read_csv('data/City_of_Seattle_Wage_Data_031422.csv')\n",
    "df.head()"
   ]
  },
  {
   "cell_type": "code",
   "execution_count": 5,
   "metadata": {
    "ExecuteTime": {
     "end_time": "2022-03-14T18:17:57.121140Z",
     "start_time": "2022-03-14T18:17:57.102072Z"
    }
   },
   "outputs": [
    {
     "data": {
      "text/plain": [
       "Index(['Department', 'Last Name', 'First Name', 'Job Title', 'Hourly Rate '], dtype='object')"
      ]
     },
     "execution_count": 5,
     "metadata": {},
     "output_type": "execute_result"
    }
   ],
   "source": [
    "# Thing to note - the column name 'Hourly Rate ' has a space at the end\n",
    "df.columns"
   ]
  },
  {
   "cell_type": "code",
   "execution_count": 15,
   "metadata": {
    "ExecuteTime": {
     "end_time": "2022-03-14T18:22:25.155298Z",
     "start_time": "2022-03-14T18:22:25.120328Z"
    }
   },
   "outputs": [],
   "source": [
    "# So let's rename the columns\n",
    "df = df.rename(columns = lambda x: x.replace(\" \",\"\"))"
   ]
  },
  {
   "cell_type": "code",
   "execution_count": 16,
   "metadata": {
    "ExecuteTime": {
     "end_time": "2022-03-14T18:22:27.436940Z",
     "start_time": "2022-03-14T18:22:27.363326Z"
    }
   },
   "outputs": [
    {
     "data": {
      "text/html": [
       "<div>\n",
       "<style scoped>\n",
       "    .dataframe tbody tr th:only-of-type {\n",
       "        vertical-align: middle;\n",
       "    }\n",
       "\n",
       "    .dataframe tbody tr th {\n",
       "        vertical-align: top;\n",
       "    }\n",
       "\n",
       "    .dataframe thead th {\n",
       "        text-align: right;\n",
       "    }\n",
       "</style>\n",
       "<table border=\"1\" class=\"dataframe\">\n",
       "  <thead>\n",
       "    <tr style=\"text-align: right;\">\n",
       "      <th></th>\n",
       "      <th>Department</th>\n",
       "      <th>LastName</th>\n",
       "      <th>FirstName</th>\n",
       "      <th>JobTitle</th>\n",
       "      <th>HourlyRate</th>\n",
       "    </tr>\n",
       "  </thead>\n",
       "  <tbody>\n",
       "    <tr>\n",
       "      <th>0</th>\n",
       "      <td>Seattle Public Utilities</td>\n",
       "      <td>Batchelor</td>\n",
       "      <td>Craig</td>\n",
       "      <td>Civil Engrng Spec,Sr</td>\n",
       "      <td>53.740</td>\n",
       "    </tr>\n",
       "    <tr>\n",
       "      <th>1</th>\n",
       "      <td>Finance &amp; Admin Services</td>\n",
       "      <td>Altice</td>\n",
       "      <td>Jeffrey</td>\n",
       "      <td>Auto Mechanic</td>\n",
       "      <td>39.780</td>\n",
       "    </tr>\n",
       "    <tr>\n",
       "      <th>2</th>\n",
       "      <td>Finance &amp; Admin Services</td>\n",
       "      <td>Montes</td>\n",
       "      <td>Valeria</td>\n",
       "      <td>Cust Svc Rep</td>\n",
       "      <td>29.450</td>\n",
       "    </tr>\n",
       "    <tr>\n",
       "      <th>3</th>\n",
       "      <td>Fire Department</td>\n",
       "      <td>Kuklok</td>\n",
       "      <td>Rebecca</td>\n",
       "      <td>Cust Svc Rep *</td>\n",
       "      <td>29.450</td>\n",
       "    </tr>\n",
       "    <tr>\n",
       "      <th>4</th>\n",
       "      <td>Planning &amp; Comm Development</td>\n",
       "      <td>Quirindongo</td>\n",
       "      <td>Rico</td>\n",
       "      <td>Executive3</td>\n",
       "      <td>97.164</td>\n",
       "    </tr>\n",
       "    <tr>\n",
       "      <th>...</th>\n",
       "      <td>...</td>\n",
       "      <td>...</td>\n",
       "      <td>...</td>\n",
       "      <td>...</td>\n",
       "      <td>...</td>\n",
       "    </tr>\n",
       "    <tr>\n",
       "      <th>11734</th>\n",
       "      <td>Seattle City Light</td>\n",
       "      <td>Lapchis</td>\n",
       "      <td>Alexandra</td>\n",
       "      <td>Elctn-Con Aprn</td>\n",
       "      <td>41.450</td>\n",
       "    </tr>\n",
       "    <tr>\n",
       "      <th>11735</th>\n",
       "      <td>Police Department</td>\n",
       "      <td>Whitehouse</td>\n",
       "      <td>Nathan</td>\n",
       "      <td>Pol Recruit</td>\n",
       "      <td>33.440</td>\n",
       "    </tr>\n",
       "    <tr>\n",
       "      <th>11736</th>\n",
       "      <td>Police Department</td>\n",
       "      <td>Trailor</td>\n",
       "      <td>Brieanna</td>\n",
       "      <td>Pol Recruit</td>\n",
       "      <td>33.440</td>\n",
       "    </tr>\n",
       "    <tr>\n",
       "      <th>11737</th>\n",
       "      <td>Finance &amp; Admin Services</td>\n",
       "      <td>Mercado</td>\n",
       "      <td>Victor</td>\n",
       "      <td>Actg Tech III</td>\n",
       "      <td>30.720</td>\n",
       "    </tr>\n",
       "    <tr>\n",
       "      <th>11738</th>\n",
       "      <td>Fire Department</td>\n",
       "      <td>Borbon</td>\n",
       "      <td>Matthew</td>\n",
       "      <td>Cust Svc Rep *</td>\n",
       "      <td>29.450</td>\n",
       "    </tr>\n",
       "  </tbody>\n",
       "</table>\n",
       "<p>11739 rows × 5 columns</p>\n",
       "</div>"
      ],
      "text/plain": [
       "                        Department     LastName  FirstName  \\\n",
       "0         Seattle Public Utilities    Batchelor      Craig   \n",
       "1         Finance & Admin Services       Altice    Jeffrey   \n",
       "2         Finance & Admin Services       Montes    Valeria   \n",
       "3                  Fire Department       Kuklok    Rebecca   \n",
       "4      Planning & Comm Development  Quirindongo       Rico   \n",
       "...                            ...          ...        ...   \n",
       "11734           Seattle City Light      Lapchis  Alexandra   \n",
       "11735            Police Department   Whitehouse     Nathan   \n",
       "11736            Police Department      Trailor   Brieanna   \n",
       "11737     Finance & Admin Services      Mercado     Victor   \n",
       "11738              Fire Department       Borbon    Matthew   \n",
       "\n",
       "                   JobTitle  HourlyRate  \n",
       "0      Civil Engrng Spec,Sr      53.740  \n",
       "1             Auto Mechanic      39.780  \n",
       "2              Cust Svc Rep      29.450  \n",
       "3            Cust Svc Rep *      29.450  \n",
       "4                Executive3      97.164  \n",
       "...                     ...         ...  \n",
       "11734        Elctn-Con Aprn      41.450  \n",
       "11735           Pol Recruit      33.440  \n",
       "11736           Pol Recruit      33.440  \n",
       "11737         Actg Tech III      30.720  \n",
       "11738        Cust Svc Rep *      29.450  \n",
       "\n",
       "[11739 rows x 5 columns]"
      ]
     },
     "execution_count": 16,
     "metadata": {},
     "output_type": "execute_result"
    }
   ],
   "source": [
    "# Check our work\n",
    "df"
   ]
  },
  {
   "cell_type": "markdown",
   "metadata": {},
   "source": [
    "What we'll do is grab a random sample, of 500 employees, and see how the sample statistics match up with our population parameters."
   ]
  },
  {
   "cell_type": "code",
   "execution_count": 17,
   "metadata": {
    "ExecuteTime": {
     "end_time": "2022-03-14T18:22:32.550383Z",
     "start_time": "2022-03-14T18:22:32.524352Z"
    }
   },
   "outputs": [],
   "source": [
    "# gonna use the random library to add randomness\n",
    "import random\n",
    "\n",
    "# seed for reproducibility (not too random)\n",
    "random.seed(2021) "
   ]
  },
  {
   "cell_type": "code",
   "execution_count": 32,
   "metadata": {
    "ExecuteTime": {
     "end_time": "2022-03-14T18:28:34.972504Z",
     "start_time": "2022-03-14T18:28:34.952492Z"
    }
   },
   "outputs": [],
   "source": [
    "# set our parameters\n",
    "sample_size = 500\n",
    "total_employees = len(df)"
   ]
  },
  {
   "cell_type": "code",
   "execution_count": 33,
   "metadata": {
    "ExecuteTime": {
     "end_time": "2022-03-14T18:28:35.319602Z",
     "start_time": "2022-03-14T18:28:35.301570Z"
    }
   },
   "outputs": [],
   "source": [
    "# Sample 500 random employees\n",
    "sample = df.sample(n = sample_size)"
   ]
  },
  {
   "cell_type": "code",
   "execution_count": 34,
   "metadata": {
    "ExecuteTime": {
     "end_time": "2022-03-14T18:28:37.567497Z",
     "start_time": "2022-03-14T18:28:35.470606Z"
    }
   },
   "outputs": [
    {
     "data": {
      "image/png": "[encoded data removed]",
      "text/plain": [
       "<Figure size 576x432 with 1 Axes>"
      ]
     },
     "metadata": {
      "needs_background": "light"
     },
     "output_type": "display_data"
    }
   ],
   "source": [
    "#Make a visualization that shows the distribution of hourly rate\n",
    "\n",
    "plt.figure(figsize=(8,6))\n",
    "\n",
    "sns.histplot(df['HourlyRate'], label='Full Dataset', stat='density', kde=True)\n",
    "sns.histplot(sample['HourlyRate'], label='Sample', stat='density', kde=True, color='orange', alpha=.5)\n",
    "\n",
    "plt.xlabel(\"Hourly Rate\")\n",
    "plt.ylabel(\"Frequency\")\n",
    "plt.title(\"Distribution of Hourly Rates Amongst Seattle City Employees\")\n",
    "plt.legend()\n",
    "plt.show()"
   ]
  },
  {
   "cell_type": "markdown",
   "metadata": {},
   "source": [
    "Another comparison: "
   ]
  },
  {
   "cell_type": "code",
   "execution_count": 35,
   "metadata": {
    "ExecuteTime": {
     "end_time": "2022-03-14T18:28:37.677479Z",
     "start_time": "2022-03-14T18:28:37.588459Z"
    }
   },
   "outputs": [
    {
     "name": "stdout",
     "output_type": "stream",
     "text": [
      "Full Dataset:\n",
      "         HourlyRate\n",
      "count  11739.000000\n",
      "mean      47.817331\n",
      "std       16.722128\n",
      "min        5.530000\n",
      "25%       35.400000\n",
      "50%       47.340000\n",
      "75%       59.550000\n",
      "max      187.767000\n",
      "********************\n",
      "Sample:\n",
      "       HourlyRate\n",
      "count  500.000000\n",
      "mean    47.213185\n",
      "std     16.817162\n",
      "min      5.530000\n",
      "25%     35.110000\n",
      "50%     46.680000\n",
      "75%     57.898750\n",
      "max    135.210000\n"
     ]
    }
   ],
   "source": [
    "print(\"Full Dataset:\")\n",
    "print(df.describe())\n",
    "print(\"*\" * 20)\n",
    "print(\"Sample:\")\n",
    "print(sample.describe())"
   ]
  },
  {
   "cell_type": "markdown",
   "metadata": {},
   "source": [
    "So, how'd our sample do?\n",
    "\n",
    "- Our mean, std, and quartiles are fairly similar (Measure of central tendancy, measures of variance)\n",
    "- The min and max are potential outliers\n"
   ]
  },
  {
   "cell_type": "markdown",
   "metadata": {
    "heading_collapsed": true,
    "hidden": true
   },
   "source": [
    "## Going Forward"
   ]
  },
  {
   "cell_type": "markdown",
   "metadata": {
    "hidden": true
   },
   "source": [
    "For the rest of the lecture, we're going to focus on how we can describe probability distributions. This will give us a tool set whether we're talking about a sample or an established population."
   ]
  },
  {
   "cell_type": "markdown",
   "metadata": {
    "hidden": true
   },
   "source": [
    "> **Aside - Use a Mathematical Model as a Proxy to the Population's Distribution**\n",
    "> \n",
    "> If we know what a population distribution _should_ look, we can mathematically  define a model that would fill-in for our population.\n",
    "> \n",
    "> This is analogous to something like using a perfect circle to approximate a car's tire. Is it exactly the same? No, there are some deviations from the circle but it's close enough for many applications.\n",
    "> \n",
    "> There are many other _parametric probability distributions_ which can be described mathematically and can be very convenient for us. We won't focus on this now, but know that is another use case of probability distributions."
   ]
  },
  {
   "cell_type": "markdown",
   "metadata": {
    "heading_collapsed": true
   },
   "source": [
    "# Probability Distributions"
   ]
  },
  {
   "cell_type": "markdown",
   "metadata": {
    "hidden": true
   },
   "source": [
    "We will learn about a variety of different probability distributions, but before we do so, we need to establish the difference between **discrete** and **continuous** distributions."
   ]
  },
  {
   "cell_type": "markdown",
   "metadata": {},
   "source": [
    "A fundamental distinction among kinds of distributions is the distinction between discrete and continuous distributions. \n",
    "\n",
    "A **discrete distribution** (or variable) takes on countable values, like integers, where every outcome has a positive probability.\n",
    "\n",
    "A **continuous distribution** takes on a continuum of values, like real numbers. It assigns probabilities to ranges of values (not any one single value)\n",
    "\n",
    "![](https://miro.medium.com/max/1022/1*7DwXV_h_t7_-TkLAImKBaQ.png)\n",
    "\n",
    "[More Explanation](https://mathbitsnotebook.com/Algebra1/FunctionGraphs/FNGContinuousDiscrete.html)"
   ]
  },
  {
   "cell_type": "markdown",
   "metadata": {
    "heading_collapsed": true,
    "hidden": true
   },
   "source": [
    "## Discrete Distributions"
   ]
  },
  {
   "cell_type": "markdown",
   "metadata": {
    "hidden": true
   },
   "source": [
    "With discrete distributions, you can only get certain specific values, not all values in a range.  Take, for example, a roll of a single six-sided die - there are 6 possible outcomes of the roll, and non-integer numbers between 1 and 6 are not possible results."
   ]
  },
  {
   "cell_type": "markdown",
   "metadata": {
    "heading_collapsed": true,
    "hidden": true
   },
   "source": [
    "### Examples of Discrete Distributions"
   ]
  },
  {
   "cell_type": "markdown",
   "metadata": {
    "hidden": true
   },
   "source": [
    "- **Uniform Distribution**\n",
    "    - Occurs when all possible outcomes are equally likely.\n",
    "    - e.g. rolling a six-sided die\n",
    "    \n",
    "- **Bernoulli Distribution**\n",
    "    - Represents the probability of success for a certain experiment (binary outcome).\n",
    "    - e.g. flipping a fair coin\n",
    "    \n",
    "- **Binomial Distribution**\n",
    "    - Represents the probability of observing a specific number of successes (Bernoulli trials) in a specific number of trials.\n",
    "    - e.g. number of defects found from a 100-random sample from the production line"
   ]
  },
  {
   "cell_type": "markdown",
   "metadata": {
    "heading_collapsed": true,
    "hidden": true
   },
   "source": [
    "## Continuous Distributions"
   ]
  },
  {
   "cell_type": "markdown",
   "metadata": {
    "hidden": true
   },
   "source": [
    "With a continuous distribution, you can expect to get any value within a range. Think about measuring the length of something. The reported measurement can always be more or less precise."
   ]
  },
  {
   "cell_type": "markdown",
   "metadata": {
    "heading_collapsed": true,
    "hidden": true
   },
   "source": [
    "### Examples of Continuous Distributions"
   ]
  },
  {
   "cell_type": "markdown",
   "metadata": {
    "hidden": true
   },
   "source": [
    "- **Continuous Uniform**\n",
    "    - A continuous distribution that takes values within a specified range *a* to *b*, when each value within the range is equally likely.\n",
    "    - e.g. time take an elevator arrive at your floor.\n",
    "\n",
    "- **Normal (Gaussian)**\n",
    "    - A probability distribution that is symmetric about the mean, showing that the mean are more frequent in occurrence than data far from the mean.\n",
    "    - e.g. individual height in a population\n",
    "    \n",
    "- **Exponential**\n",
    "    - Uses to model the time elapsed between events.\n",
    "    - e.g. amount of time a postal clerk spends with a customer"
   ]
  },
  {
   "cell_type": "markdown",
   "metadata": {},
   "source": [
    "## Probability Distribution Functions\n",
    "\n",
    "### Probability Mass Functions (PMF) / Probability Density Functions (PDF) & Cumulative Density Functions (CDF)\n",
    "\n",
    "(I know, \"Probability Distribution Functions\" and \"Probability Density Functions\" have the same acronym. PDF normally stands for the latter - the former is a more catch-all term for all three of these)"
   ]
  },
  {
   "cell_type": "markdown",
   "metadata": {},
   "source": [
    "![example graphs of a continuous cdf with corresponding pdf and discrete cdf with corresponding pmf](images/cdf.png)\n"
   ]
  },
  {
   "cell_type": "markdown",
   "metadata": {},
   "source": [
    "### Probability Mass Function\n",
    "\n",
    "The **probability mass function (PMF)** for a *discrete random variable* gives, at any value $k$, the probability that the random variable takes the value $k$. \n",
    "\n",
    "### Probability Density Function\n",
    "\n",
    "**Probability density functions (PDF)** are similar to PMFs, in that they describe the probability of a result within a range of values. But where PMFs are appropriate for discrete variables and so can be descibed with barplots, PDFs are smooth curves that describe *continuous random variables*.  \n",
    "\n",
    "We can think of a PDF as a bunch of bars of probabilities getting smaller and smaller until each neighbor is indistinguishable from its neighbor.\n",
    "\n",
    "It is then intuitive that you cannot calculate expected value and variance in the same way as we did with PMFs.  Instead, we have to integrate over the entirety of the curve to calculate the expected value."
   ]
  },
  {
   "cell_type": "markdown",
   "metadata": {},
   "source": [
    "![](images/pdf_inter.png)"
   ]
  },
  {
   "cell_type": "markdown",
   "metadata": {},
   "source": [
    "## Distributions with Scipy Stats"
   ]
  },
  {
   "cell_type": "markdown",
   "metadata": {},
   "source": [
    "Documentation: https://docs.scipy.org/doc/scipy/reference/stats.html"
   ]
  },
  {
   "cell_type": "markdown",
   "metadata": {},
   "source": [
    "## First Up: Get to know the `stats` module with Discrete Distributions!"
   ]
  },
  {
   "cell_type": "markdown",
   "metadata": {},
   "source": [
    "### Bernoulli Distribution \n",
    "\n",
    "The **Bernoulli** distribution shows the outcome of a single trial where there are only 2 possible options.\n",
    "\n",
    "The easiest example is a single coin flip of a fair coin."
   ]
  },
  {
   "cell_type": "code",
   "execution_count": 47,
   "metadata": {
    "ExecuteTime": {
     "end_time": "2022-03-14T18:50:07.378353Z",
     "start_time": "2022-03-14T18:50:07.324325Z"
    }
   },
   "outputs": [],
   "source": [
    "# Define our likelihood of 'success'\n",
    "p_success = 0.5\n",
    "\n",
    "# Now - lets use the stats library to get the probabilities \n",
    "# Probability of 'failure' (0)\n",
    "p_tails = stats.bernoulli.pmf(k=0, p=p_success)\n",
    "# Probability of 'success' (1)\n",
    "p_heads = stats.bernoulli.pmf(k=1, p=p_success)\n"
   ]
  },
  {
   "cell_type": "code",
   "execution_count": 48,
   "metadata": {
    "ExecuteTime": {
     "end_time": "2022-03-14T18:50:07.767445Z",
     "start_time": "2022-03-14T18:50:07.748425Z"
    }
   },
   "outputs": [],
   "source": [
    "# Create a dict for visualization:\n",
    "coin_flip = {'Tails':p_tails,'Heads': p_heads}"
   ]
  },
  {
   "cell_type": "code",
   "execution_count": 49,
   "metadata": {
    "ExecuteTime": {
     "end_time": "2022-03-14T18:50:08.831319Z",
     "start_time": "2022-03-14T18:50:08.270194Z"
    }
   },
   "outputs": [
    {
     "data": {
      "image/png": "[encoded data removed]",
      "text/plain": [
       "<Figure size 576x432 with 1 Axes>"
      ]
     },
     "metadata": {
      "needs_background": "light"
     },
     "output_type": "display_data"
    }
   ],
   "source": [
    "# visualize it\n",
    "plt.figure(figsize=(8,6))\n",
    "\n",
    "plt.bar(coin_flip.keys(), height=coin_flip.values())\n",
    "\n",
    "plt.ylabel('Probability')\n",
    "plt.xlabel('Result of Coin Flip')\n",
    "plt.ylim(0, 1)\n",
    "plt.show()"
   ]
  },
  {
   "cell_type": "code",
   "execution_count": 50,
   "metadata": {
    "ExecuteTime": {
     "end_time": "2022-03-14T18:50:09.052286Z",
     "start_time": "2022-03-14T18:50:09.024270Z"
    },
    "scrolled": true
   },
   "outputs": [
    {
     "name": "stdout",
     "output_type": "stream",
     "text": [
      "0.5\n",
      "1.0\n"
     ]
    }
   ],
   "source": [
    "# Now let's check out the cumulative probability\n",
    "# 'failure'\n",
    "print(stats.bernoulli.cdf(k=0,p=p_success))\n",
    "# 'success'\n",
    "print(stats.bernoulli.cdf(k=1,p=p_success))"
   ]
  },
  {
   "cell_type": "code",
   "execution_count": 53,
   "metadata": {
    "ExecuteTime": {
     "end_time": "2022-03-14T18:51:20.394150Z",
     "start_time": "2022-03-14T18:51:19.649668Z"
    },
    "scrolled": false
   },
   "outputs": [
    {
     "data": {
      "image/png": "[encoded data removed]",
      "text/plain": [
       "<Figure size 576x432 with 1 Axes>"
      ]
     },
     "metadata": {
      "needs_background": "light"
     },
     "output_type": "display_data"
    }
   ],
   "source": [
    "# visualize it\n",
    "plt.figure(figsize=(8,6))\n",
    "\n",
    "plt.bar(coin_flip.keys(), \n",
    "        height=[stats.bernoulli.cdf(k=0,p=p_success),\n",
    "                stats.bernoulli.cdf(k=1,p=p_success)],\n",
    "       label = 'Cumulative Probability')\n",
    "\n",
    "plt.bar(coin_flip.keys(), \n",
    "        height=coin_flip.values(),\n",
    "       label = 'Bernoulli Discrete Probability')\n",
    "\n",
    "\n",
    "plt.ylabel('Probability')\n",
    "plt.xlabel('Result of Coin Flip')\n",
    "plt.ylim(0, 1)\n",
    "plt.legend()\n",
    "plt.show()"
   ]
  },
  {
   "cell_type": "markdown",
   "metadata": {},
   "source": [
    "A note - Bernoulli distributions do not need to showcase a fair and balanced trial, as was the case above. Let's look really quickly at a game where the chance of winning is only 10%:"
   ]
  },
  {
   "cell_type": "code",
   "execution_count": 56,
   "metadata": {
    "ExecuteTime": {
     "end_time": "2022-03-14T18:55:42.438165Z",
     "start_time": "2022-03-14T18:55:42.419126Z"
    },
    "scrolled": true
   },
   "outputs": [],
   "source": [
    "p_success = .1\n",
    "\n",
    "# Let's 'freeze' this distribution\n",
    "rv = stats.bernoulli(p=p_success)\n",
    "\n",
    "# Create a dict for visualization:\n",
    "unfair_game = {'Lose':rv.pmf(k=0),\n",
    "               'Win':rv.pmf(k=1)}"
   ]
  },
  {
   "cell_type": "code",
   "execution_count": 59,
   "metadata": {
    "ExecuteTime": {
     "end_time": "2022-03-14T18:56:10.620405Z",
     "start_time": "2022-03-14T18:56:10.616404Z"
    }
   },
   "outputs": [
    {
     "data": {
      "text/plain": [
       "{'Lose': 0.9, 'Win': 0.10000000000000002}"
      ]
     },
     "execution_count": 59,
     "metadata": {},
     "output_type": "execute_result"
    }
   ],
   "source": [
    "unfair_game #Note the rounding error"
   ]
  },
  {
   "cell_type": "code",
   "execution_count": 57,
   "metadata": {
    "ExecuteTime": {
     "end_time": "2022-03-14T18:55:45.550202Z",
     "start_time": "2022-03-14T18:55:45.025085Z"
    }
   },
   "outputs": [
    {
     "data": {
      "image/png": "[encoded data removed]",
      "text/plain": [
       "<Figure size 576x432 with 1 Axes>"
      ]
     },
     "metadata": {
      "needs_background": "light"
     },
     "output_type": "display_data"
    }
   ],
   "source": [
    "# visualize it\n",
    "plt.figure(figsize=(8,6))\n",
    "\n",
    "plt.bar(unfair_game.keys(), height=unfair_game.values())\n",
    "\n",
    "plt.ylabel('Probability')\n",
    "plt.xlabel('Result of Game')\n",
    "plt.show()"
   ]
  },
  {
   "cell_type": "code",
   "execution_count": 60,
   "metadata": {
    "ExecuteTime": {
     "end_time": "2022-03-14T18:56:27.652301Z",
     "start_time": "2022-03-14T18:56:26.847111Z"
    },
    "scrolled": false
   },
   "outputs": [
    {
     "data": {
      "image/png": "[encoded data removed]",
      "text/plain": [
       "<Figure size 576x432 with 1 Axes>"
      ]
     },
     "metadata": {
      "needs_background": "light"
     },
     "output_type": "display_data"
    }
   ],
   "source": [
    "# visualize it\n",
    "plt.figure(figsize=(8,6))\n",
    "\n",
    "plt.bar(unfair_game.keys(), \n",
    "        height=[rv.cdf(0), rv.cdf(1)], \n",
    "        label='Cumulative Probability')\n",
    "\n",
    "plt.bar(unfair_game.keys(), \n",
    "        height=unfair_game.values(),\n",
    "        label='Unbalanced Bernoulli Discrete Probability')\n",
    "\n",
    "plt.ylabel('Probability')\n",
    "plt.xlabel('Result of Unfair Game')\n",
    "plt.legend(bbox_to_anchor=(1, 1))\n",
    "plt.show()"
   ]
  },
  {
   "cell_type": "markdown",
   "metadata": {},
   "source": [
    "Another note - a **Bernoulli** distribution is not the same as a **Binomial** distribution.\n",
    "\n",
    "- Bernoulli shows the probable results of a single trial with only 2 outcomes\n",
    "- Binomial shows the probable summed results of MANY trials with only 2 outcomes"
   ]
  },
  {
   "cell_type": "markdown",
   "metadata": {},
   "source": [
    "### Uniform\n",
    "\n",
    "The **Uniform** distribution applies when all possible values of the variable are _equally probable_. \n",
    "\n",
    "If I'm rolling a fair die, then the six possible outcomes are all equally probable. That is, the chance that I roll a 1 is 1 in 6, as is the chance that I roll a 2 etc."
   ]
  },
  {
   "cell_type": "code",
   "execution_count": 63,
   "metadata": {
    "ExecuteTime": {
     "end_time": "2022-03-14T19:00:43.658142Z",
     "start_time": "2022-03-14T19:00:43.644209Z"
    }
   },
   "outputs": [
    {
     "data": {
      "text/plain": [
       "0.16666666666666666"
      ]
     },
     "execution_count": 63,
     "metadata": {},
     "output_type": "execute_result"
    }
   ],
   "source": [
    "stats.randint.pmf(k=1,low=1,high=6+1)"
   ]
  },
  {
   "cell_type": "code",
   "execution_count": 67,
   "metadata": {
    "ExecuteTime": {
     "end_time": "2022-03-14T19:02:46.940777Z",
     "start_time": "2022-03-14T19:02:46.915772Z"
    }
   },
   "outputs": [
    {
     "data": {
      "text/plain": [
       "{1: 0.16666666666666666,\n",
       " 2: 0.16666666666666666,\n",
       " 3: 0.16666666666666666,\n",
       " 4: 0.16666666666666666,\n",
       " 5: 0.16666666666666666,\n",
       " 6: 0.16666666666666666}"
      ]
     },
     "execution_count": 67,
     "metadata": {},
     "output_type": "execute_result"
    }
   ],
   "source": [
    "low = 1\n",
    "high = 6\n",
    "\n",
    "# Scipy stats' randint is a discrete uniform distribution\n",
    "# THEREFORE NOT THE SAME AS scipy.stats.uniform!!!\n",
    "possible_rolls = {}\n",
    "\n",
    "for roll in range(low,high+1):\n",
    "    possible_rolls[roll]=stats.randint.pmf( k=roll , low = low, high = high +1)\n",
    "    \n",
    "    \n",
    "possible_rolls"
   ]
  },
  {
   "cell_type": "code",
   "execution_count": 68,
   "metadata": {
    "ExecuteTime": {
     "end_time": "2022-03-14T19:02:56.979782Z",
     "start_time": "2022-03-14T19:02:56.302535Z"
    }
   },
   "outputs": [
    {
     "data": {
      "image/png": "[encoded data removed]",
      "text/plain": [
       "<Figure size 432x288 with 1 Axes>"
      ]
     },
     "metadata": {
      "needs_background": "light"
     },
     "output_type": "display_data"
    }
   ],
   "source": [
    "# visualize it\n",
    "plt.bar(possible_rolls.keys(), height=possible_rolls.values())\n",
    "\n",
    "plt.ylabel('Probability')\n",
    "plt.xlabel('Result of Die Roll')\n",
    "plt.ylim(0, 1)\n",
    "plt.show()"
   ]
  },
  {
   "cell_type": "code",
   "execution_count": 75,
   "metadata": {
    "ExecuteTime": {
     "end_time": "2022-03-14T19:07:12.375819Z",
     "start_time": "2022-03-14T19:07:12.316779Z"
    }
   },
   "outputs": [
    {
     "data": {
      "text/plain": [
       "{1: 0.16666666666666666,\n",
       " 2: 0.3333333333333333,\n",
       " 3: 0.5,\n",
       " 4: 0.6666666666666666,\n",
       " 5: 0.8333333333333334,\n",
       " 6: 1.0}"
      ]
     },
     "execution_count": 75,
     "metadata": {},
     "output_type": "execute_result"
    }
   ],
   "source": [
    "# 'freeze' the distribution\n",
    "rv = stats.randint(low,high+1)\n",
    "\n",
    "# using dictionary comprehension (!!) to get the CDF\n",
    "cdf_roll = {roll: rv.cdf(roll) for roll in range(low,high+1)}\n",
    "cdf_roll"
   ]
  },
  {
   "cell_type": "code",
   "execution_count": 70,
   "metadata": {
    "ExecuteTime": {
     "end_time": "2022-03-14T19:04:14.405613Z",
     "start_time": "2022-03-14T19:04:13.792521Z"
    }
   },
   "outputs": [
    {
     "data": {
      "image/png": "[encoded data removed]",
      "text/plain": [
       "<Figure size 576x432 with 1 Axes>"
      ]
     },
     "metadata": {
      "needs_background": "light"
     },
     "output_type": "display_data"
    }
   ],
   "source": [
    "# visualize it\n",
    "plt.figure(figsize=(8,6))\n",
    "plt.bar(cdf_roll.keys(), height=cdf_roll.values(), \n",
    "        label='Cumulative Probability')\n",
    "\n",
    "plt.bar(possible_rolls.keys(), height=possible_rolls.values(), \n",
    "        label='Uniform Discrete Probability')\n",
    "\n",
    "plt.ylabel('Probability')\n",
    "plt.xlabel('Result of Die Roll')\n",
    "plt.legend()\n",
    "plt.show()"
   ]
  },
  {
   "cell_type": "markdown",
   "metadata": {},
   "source": [
    "## Next Up: Continuous Distributions!"
   ]
  },
  {
   "cell_type": "markdown",
   "metadata": {},
   "source": [
    "### Normal Distribution\n",
    "\n",
    "Suppose I want to simulate the behavior of a certain frog that has an average weight of 15 oz. with a standard deviation of 2.5 oz.:"
   ]
  },
  {
   "cell_type": "code",
   "execution_count": 76,
   "metadata": {
    "ExecuteTime": {
     "end_time": "2022-03-14T19:10:19.519278Z",
     "start_time": "2022-03-14T19:10:19.430275Z"
    },
    "collapsed": true
   },
   "outputs": [
    {
     "name": "stdout",
     "output_type": "stream",
     "text": [
      "Continuous Random Variable: \n",
      " [12.80683942  9.0218378  12.80511693 17.0883787  11.2729814  18.73157619\n",
      " 13.5417459  17.55773814 16.81740278 14.70002038 18.90034631 13.67902295\n",
      " 16.4879761  12.0449088  13.31091691 16.95771826 18.31558088 18.00253129\n",
      " 15.2782019  16.73315902 14.5547879  10.29718448 12.49748988 14.93237185\n",
      " 13.63474643 12.17828785 15.55376902  8.99630295 16.15219376 17.02954796\n",
      " 13.03487227 11.53523628 12.12328284 11.42758356 18.58511038 13.80964939\n",
      " 16.88148867 14.91455558 15.60829441 19.825494   19.38130871 13.62166356\n",
      " 11.14648657 14.3352334  17.65974778 12.48204595 18.00122189 17.31506765\n",
      " 11.63066706 18.78000172 13.30353176 15.18864637 17.93052939 21.37951391\n",
      "  8.34733048 16.26987715 15.0312956  12.78607695 15.98037021 16.53170382\n",
      " 17.88656235 14.1600739  12.45407053 15.95532388 15.45076514 15.97344742\n",
      " 15.5496721  12.03840437 20.66259124 15.32768665 11.86461963 12.52857259\n",
      " 14.42341041  9.84211542 13.57488175 18.86492466 15.02996119 16.33687872\n",
      " 17.66229592 15.30480509 19.49658711 14.83196765 16.04075617 16.79684452\n",
      "  8.66563128 16.12324935 17.85601971 13.14547564 14.76301481 20.30606982\n",
      " 17.13278576 14.73663916 15.62034194 16.26606039 18.0327844  16.43669836\n",
      " 16.8920666  10.90533452 16.99819658 15.15122655 17.44168067 16.7227103\n",
      " 15.12443943 11.18023288 15.71284068 13.77448878 14.00367039 14.72101124\n",
      " 16.69294929 13.43025996 16.31641812 17.22080852 14.50618095 14.51803133\n",
      " 10.74483739 16.97627748 17.91846855 22.59165811 12.21282585 16.85475397\n",
      " 19.38628843 10.95225449 14.79553945 13.04622532 18.14148134 12.59268571\n",
      " 12.19707939 15.62010755 15.78409498 16.51808424 14.33097313 13.79730803\n",
      " 13.76176408 12.99596774 15.91352074 15.78813269 17.05382515 17.27080467\n",
      " 15.78655271 15.00651886 11.71945458 14.15225801 15.6759004  14.92202028\n",
      " 15.00939474 15.34175134 16.55359625 14.68065851 13.59777337 11.46726793\n",
      " 18.56431933 10.69075197 16.86399484 14.65212893 15.43636703 18.56692443\n",
      " 14.44984034 18.32481527 12.39264256 12.98710907 18.10874983 18.32989007\n",
      " 11.44842361 13.06168207 14.58383813 13.90629855 16.01437561 15.80178878\n",
      " 15.62074711 16.0210436   9.86956913 13.76672464 19.83878118 13.24085802\n",
      " 14.15297989 15.52147187 18.35208341 15.85710187 13.60919789 20.05189715\n",
      " 16.40864826 16.62307158 12.76419904 19.44609334 20.69495848  8.43482996\n",
      " 15.18526869 15.81889799 13.96333508 16.11777082 15.14272416 12.12635579\n",
      " 15.00734299 13.09286457 15.05859262 16.43740131 10.09690571 17.53783987\n",
      " 16.89948751 17.85659023 16.34444919 16.24507825 13.08133549 16.94003513\n",
      " 11.72150126 12.02954537 13.88101815 14.70819058 16.47308056 12.1735879\n",
      " 18.79189056 14.97247247 14.49475893 13.45912433 16.00586377 12.5144962\n",
      " 13.80041012 16.83223412 16.51468713 16.5431966   7.82315555 15.76491989\n",
      " 13.34775525 13.3776883  16.35636163 20.14814327 12.69313657 16.9316098\n",
      " 19.18051164 12.24669481 14.07658309 17.72807899 16.08451436 12.62723796\n",
      " 18.14513976 14.74007703 16.19852326 11.67317779 17.49726613 13.7088556\n",
      " 18.91643008 14.17973812 14.29102767 16.85789733 14.31722951 15.80818953\n",
      " 15.93182691 13.88394975 18.71188799 16.77857982 12.90760448 13.55118821\n",
      " 15.74297991 12.95385772 15.62082699 10.64451291 12.80445335 18.00577982\n",
      " 15.10522912 15.20725501 14.68923154  7.94013469 12.5028542  14.30582937\n",
      " 14.42363259 14.77992934 14.72327939  9.58501662 20.08992905 13.41052527\n",
      " 10.41880481 16.16524158 15.70159434 15.88577777 13.65734977 14.97510892\n",
      " 10.65350837 11.99966435 15.42078564 13.7745891  13.00834048 18.37671126\n",
      " 15.88636603 15.25289397  8.27308275 20.32475066 11.57155983 14.62993421\n",
      " 17.08636123 18.09416528 15.36008598  9.55527167 18.26225902 17.29179235\n",
      " 13.25462678 20.0360667  14.73812077 18.85573143 15.04639725 13.24120338\n",
      " 14.82531059 13.79210096 14.98021414 10.6058272  15.97388591 15.78841825\n",
      " 12.32544758 12.66459437 13.12311897 14.31861602 13.53009208 12.39184909\n",
      " 15.56490198 18.15238052 10.77470479 16.65548545 12.83234303 14.37198044\n",
      " 12.3986033  12.93838733 12.40234127 14.23947276 15.55857463 15.99399721\n",
      " 17.67557221 14.81246504 17.51759225 13.06365871 14.2260536  11.3132325\n",
      " 15.75922958 11.86650068 15.40277762 22.37026526 20.72248554 15.28807529\n",
      "  9.67956259 15.75161073 13.96183854 13.32711392 16.98400671 12.97057086\n",
      " 19.1024226  21.43902373 16.1768554  15.74153002 18.43934798 14.96665223\n",
      " 15.88404231  8.4484817  15.91847832 12.74539543 14.13770619 14.28044369\n",
      " 16.35504318 16.51335896 14.68926284 17.40932028 17.68877245 13.16156291\n",
      " 16.79981483 13.91240899 15.1825059  13.98877984 12.39896674 14.15344637\n",
      " 16.60706005 14.49311937 13.96788009 20.12033673 14.5787305  10.94571292\n",
      " 14.99754698 14.36415858 16.09510189 15.07536114 16.8281948  14.10058419\n",
      " 12.31734399 16.94063652 18.42077138 11.9496882  18.0082752  13.20794568\n",
      " 14.15850486 19.4971687  11.874853   17.46539999 11.65857162 14.94528789\n",
      " 13.15821916 16.84222888 18.13877295 11.39414027  6.79029286 16.90365941\n",
      " 14.35605575 12.67468506 12.53562607  9.69195138 14.44857218 17.81287246\n",
      " 15.48770761 15.80792281 16.77977519 17.69278513 13.39094043 10.4318837\n",
      " 10.81423035 15.68023948 13.289066   11.48753027 16.51419333 13.08865773\n",
      " 15.1218591  17.5693463   9.25237248 16.26526418 12.90424781  7.27133399\n",
      " 15.09502078 17.76527372 15.27016678 16.31677216 20.71560614 11.19988666\n",
      " 16.19906726 12.99603475 16.0392898  14.52826762 14.31283171  8.72927872\n",
      " 16.32434738 17.8138655  15.10448318 14.31602106 13.90008254 19.28293368\n",
      " 14.19389607 11.70706411 17.12936798 14.41182225 15.18622689 13.59110636\n",
      " 14.93564494 14.66889005 10.97084949 17.85074884 17.05765469 12.03112443\n",
      " 14.83382813 16.22304648 13.05686532 15.2735757  12.2928963  16.52946611\n",
      " 21.60762412 15.98776592 18.46449094 18.68801501 15.66948017 15.77794119\n",
      " 19.53560456 20.52665849 19.23219783 17.32858242 11.19515402 10.68577331\n",
      " 13.19767651 14.71195364 18.59169746 15.65114329 13.54254389 11.92746607\n",
      " 15.12514347 17.886847   19.27288595 15.01940884 18.07475824 20.21302543\n",
      " 17.46163209 14.08092022 15.83608539 16.32666779 13.43024581 13.95140989\n",
      " 13.38932246 14.01162858 17.44882883 19.16914482 14.33951099 13.79832966\n",
      " 13.66944788 15.37243626 18.84550602  9.72502168 15.35825331 14.40040376\n",
      " 15.62354135 12.46217171 17.17027764 13.45325915 18.50497357 12.58767878\n",
      " 16.89318659 15.60454675 11.60047275 15.72345686 15.16543427 11.08194743\n",
      "  9.97098656 12.52571667 15.77383209 12.20617022 15.9604326  12.39261141\n",
      " 15.91355958 17.9855546  13.06760194 15.888491   13.54344657 13.7745613\n",
      " 17.56177266 16.14982736 13.64026722 11.6427675  15.22088552 16.10154639\n",
      " 13.88183235 13.25339209 17.24984159 17.07821213 13.44500784 17.42046308\n",
      "  8.45416015 15.40757958 14.83910536 13.51544149 18.78827146 15.81260621\n",
      " 16.10064236 19.22301572  9.99037873 18.89526645 14.00064404 12.73048358\n",
      " 13.57246052 14.84579011  5.90503051 13.49029048 19.03945873 14.18972263\n",
      " 13.52840547 15.68506855 14.45818749 15.07934834 18.40585466 16.25696418\n",
      " 12.7958704  19.80955089 16.26186959 17.27477098 10.63249339 13.0573026\n",
      " 10.96000287 15.49794132 11.46581555 15.18894646 13.56084037 17.69266384\n",
      " 17.54572402 18.51326797 15.84526599 17.54747483  9.28566822 12.41574555\n",
      " 18.29590578 15.82876927 16.2923711  11.42312134 15.03277808 12.69481224\n",
      " 14.9517476  12.41469159 12.40267035 15.69250279 17.45604972 16.2690145\n",
      " 14.92311381 14.38682627 17.83687272 17.49307865 16.23735641 14.038968\n",
      " 15.11634773 13.20812104 10.19697816 15.43363663 15.32522517 15.14264271\n",
      " 17.79725083 15.00759304 14.43788788 15.81612769 14.93093614 13.85956313\n",
      " 11.7177145  14.14388182 18.97390269 17.8756531  15.68400402 17.25270958\n",
      " 14.49821219 11.92037014 17.64391819 14.63659962 12.78467187 13.88738134\n",
      " 12.30101237 15.57314408 11.99692461 17.31462185 17.52042982 17.96382122\n",
      " 14.6931173  16.74757318  9.90581647 14.74104983 17.04321912 13.47086853\n",
      " 14.53634718 15.88056833 15.25683509 13.52338517 20.89721036 16.06880469\n",
      " 16.05083773 16.36227235 13.55728895 15.68467539 12.62146916 19.67582131\n",
      " 13.88648396 16.85420328 19.8069865  17.0740511  13.50533674 13.57530957\n",
      " 15.94822975 20.06527126 18.92242763 15.49751178 13.33785048 11.55517787\n",
      " 16.0587346  17.41241802 11.09872721 15.07163137 14.56372829 17.90050412\n",
      " 15.29460782 20.24946917 11.59856562 18.83818051 16.93490278 15.95718994\n",
      " 15.1173123  15.03564405 18.85577892 11.59297364 21.12660874 16.541386\n",
      " 10.09158221 15.77608345 11.99568977 15.9788705   9.15240612 16.04100492\n",
      " 13.73362522 13.95421265 13.49469536 10.80276206 16.21559067 13.28731301\n",
      " 16.71239926 11.31233377 13.40399799 12.40788005 16.32159822  8.46202017\n",
      " 16.76926115 13.03378635 12.11666758 11.81469748 17.42713312 12.88803547\n",
      " 13.24432871 17.85232138 12.50432836 13.19766938 15.00355486 14.3717392\n",
      " 12.02509563 12.22555944 18.2600285  14.88237253 11.33685166 13.77236338\n",
      " 11.92732701 17.52037288 18.80553556 11.87518671 14.54676199 11.47309903\n",
      " 11.16972646 16.6165757  14.18741438 18.77423319 13.44173998 14.30672682\n",
      " 16.85569933 13.70251188 15.62059306 13.52099361 17.12827408 16.44638929\n",
      " 16.8644076  18.41534052 16.16001418 20.10944681 13.08161514 13.28327929\n",
      " 15.49026562 13.35980857 13.48094285 16.46681539 20.43196016 13.22214575\n",
      " 12.50540464 11.27840381  4.34574221 18.58945838 14.86884452 12.77909247\n",
      " 22.03984078  9.31944918 14.57044616 12.22036502 15.88542327 18.41207261\n",
      " 14.29462565 18.78858179 14.70923054 16.08032218 15.57236722 15.86857505\n",
      " 10.03264025 14.99825881 11.13877731 15.484698   17.0467684  12.44117712\n",
      " 15.89229177 12.03578856 16.38564647  8.2446115  12.51399489 12.64991913\n",
      " 16.54838616 12.09221175 14.36956876 18.34084573  9.84125497 13.9862776\n",
      " 12.45535141  8.12020449 11.46887541 12.26333008 11.28619847 16.91953692\n",
      " 13.99656139 10.93776807 13.48727474 12.24881287 13.31554574 16.00594028\n",
      " 16.285028   14.88617631 13.69703305 15.56054598 12.94645998 17.07475437\n",
      " 17.86922963 14.4824617  17.12398248 16.30955201 11.661942   13.36782486\n",
      " 12.56091661 11.55501045 18.45383772 15.21210615 14.09208607 12.55289038\n",
      " 12.40444381 16.45226176 15.16354189 16.69749801 17.03826233 14.70685356\n",
      " 16.47164367 13.81048962 18.06906581 15.97034942 16.45768368 12.92988922\n",
      " 14.54869292 13.01909676 14.74258514 15.07617277 17.77214616 16.41459643\n",
      " 17.25367744 18.2242685  14.01632996 15.43167697 16.88806975 15.86097959\n",
      " 13.28582128 16.41212081 18.01034026 13.36174697 17.64757821 10.86091436\n",
      " 11.67160426 15.54475935  9.68107969 19.235344   17.73873373 14.7224646\n",
      " 13.95090724 12.73437353 12.36476697 14.91055093 17.08788462 12.48452601\n",
      " 15.37301972 18.74293773 15.43996173 14.83259169 14.13529382 17.57813764\n",
      " 16.13283469 11.51475288 15.9634227  12.16662908 15.86215688 14.17905498\n",
      " 18.00557127 14.75419771 11.8575194  16.20556307 13.93520109 17.82421206\n",
      " 18.91692418 14.71727252 11.73994884 18.15123356 12.80773458 14.41047839\n",
      " 12.45716564 17.07378047 15.07074025 17.46499996 16.61592622 15.78385609\n",
      " 17.797613   16.2662855  14.13240235 13.52404047 14.284997   14.14498158\n",
      " 12.40276553 14.4027618  19.37138506 11.30358738 12.27321885 16.72584089\n",
      " 15.12656071 15.87719019 13.89102064 12.74881178 13.85830766 18.03184436\n",
      " 12.07011302 13.93359165 15.54912416 17.66351573 13.4868935  14.42075141\n",
      " 16.90969564 11.56118635 13.9837672  19.10273864 14.18964172 14.75020476\n",
      " 17.77664167  9.80152724 19.58996796 16.4490977  16.88550266 18.57362497\n",
      " 15.59552568 13.55781198 15.45887442 14.84574456 15.90963164 12.44663535\n",
      " 16.36981045 13.10335399 12.52834221 15.08994822 10.16949067 15.87982656\n",
      " 14.46778114 14.93343868 13.83901084 14.15803239 18.02830267 19.34384426\n",
      " 14.68671449 14.66795668 16.26680152 14.49978831 16.63914722 10.94811019\n",
      " 15.21532458 15.10318931 14.18612712 14.39880018 12.02085031 16.47486227\n",
      " 12.73755237  9.88623721 14.6642061  16.88054735 16.57439167 10.84649212\n",
      " 17.68564051 15.64182664 13.72035495 11.36796705 17.76206323 12.30811739\n",
      " 17.77294487 18.69556965 11.5123229  16.78413887 12.84200726 19.37382162\n",
      " 15.09008675 10.53067961 16.60693354 12.13529405 15.17516038 15.6187932\n",
      " 17.47110733 17.35631528 16.01981191 10.35449558 14.65504618 16.07631144\n",
      " 12.47502059 16.24657239 16.86132512 16.84472018 11.34799669 19.24287683\n",
      " 11.99448627 18.6029837  10.79807358 11.91545638  9.95350474 11.4119068\n",
      " 16.96307779 16.55858702 14.12188618 17.19217286 16.60530795 13.66386108\n",
      " 14.85194139 19.34175685 14.87306666 15.83712645 12.97947173 13.76140622\n",
      " 12.91456039 17.87811206 16.12755237 21.50023026] \n",
      "\n"
     ]
    }
   ],
   "source": [
    "# Create required parameters for the distribution \n",
    "# mean of the data\n",
    "mu = 15\n",
    "# standard deviation of the data\n",
    "sigma = 2.5\n",
    "# number of observations to be created\n",
    "size = 1000\n",
    "\n",
    "# Create a discrete distribution with the given parameter values\n",
    "# Use rvs to create random values within this distribution\n",
    "normal = stats.norm.rvs(loc=mu,scale = sigma, size = size)\n",
    "\n",
    "print(f'Continuous Random Variable: \\n {normal} \\n')"
   ]
  },
  {
   "cell_type": "code",
   "execution_count": 78,
   "metadata": {
    "ExecuteTime": {
     "end_time": "2022-03-14T19:13:21.747625Z",
     "start_time": "2022-03-14T19:13:21.697667Z"
    },
    "collapsed": true
   },
   "outputs": [
    {
     "data": {
      "text/plain": [
       "array([13.05835381, 13.71577091, 18.3436894 , 15.83973465, 15.99052713,\n",
       "        8.25772918, 12.18135372, 16.10631834, 11.8720012 , 16.59649041,\n",
       "       13.17492762, 16.03849854, 12.00391656, 14.88809815, 12.39050556,\n",
       "       15.99100126, 14.26306338, 14.61140364, 16.21272383, 15.97015137,\n",
       "       15.45185381, 13.58171622, 15.14190579, 17.11626675, 14.51135998,\n",
       "       17.66050892, 12.21975992, 16.25384149, 14.2194515 , 14.74524679,\n",
       "       16.37939528, 13.4156194 , 15.78224637, 11.91083727, 15.87351917,\n",
       "       11.39418851, 14.48417538, 17.0373343 , 10.5800279 , 15.27932122,\n",
       "       16.96625553, 12.84691733, 17.36402138, 13.17606294, 12.66033883,\n",
       "       17.54074629, 14.7160074 , 15.96919077, 12.4696247 , 18.46552715,\n",
       "       17.75980219, 19.61360337, 12.86740654, 11.42535648, 10.5751527 ,\n",
       "       14.4848766 , 19.51722209, 11.9565352 , 15.2860577 , 14.24128506,\n",
       "       11.88879955, 15.09811064, 19.60387912, 13.02374014, 19.50603066,\n",
       "       16.92580783, 11.53882336, 11.78683668, 14.00101958, 16.33492121,\n",
       "       15.09506612, 17.28547648, 14.40308255, 14.04124287, 14.97430396,\n",
       "       12.50346416, 21.54242871, 16.90823727, 13.20827254, 12.64655373,\n",
       "       15.75786281, 11.97292494, 19.1123933 , 15.72700336, 11.44750799,\n",
       "       15.931613  , 16.88297085, 14.67345226, 12.77904382, 13.55038968,\n",
       "       16.37937085, 15.92948591, 16.20002726, 16.56299597, 15.1978098 ,\n",
       "       18.17175509, 17.60013174, 13.96095695, 16.60236249, 16.78932626,\n",
       "       14.73680861, 13.33329212, 17.31520729, 17.10279202, 17.99746354,\n",
       "       16.74844461, 14.59056703, 13.61166997, 18.13255873, 12.44717002,\n",
       "       15.4657974 , 16.85058299, 14.80569488, 13.86538149, 19.01039606,\n",
       "       10.90192387, 18.23136133, 11.96764803, 15.97240878, 15.5950602 ,\n",
       "       14.34080014, 16.07384964, 11.0226967 , 17.89600319, 17.00237468,\n",
       "       11.40868492, 12.71314229, 14.90374923, 16.17904849, 17.50811093,\n",
       "       14.58865038, 16.53189256, 12.85348163, 15.68990669, 13.56725262,\n",
       "       16.55237763, 15.42940708, 15.28869197, 13.99764038, 12.87711785,\n",
       "       17.04565475, 12.61453857, 14.69710932, 16.12318507, 13.87102342,\n",
       "       14.8273067 ,  9.97868168, 16.43561437, 21.69534584, 15.6056968 ,\n",
       "       12.00933771, 15.61362657, 12.17554459, 16.96804385, 11.06703745,\n",
       "       21.61877441, 18.43773053, 12.35850476, 10.11377758, 16.96466538,\n",
       "       17.01368892, 15.32736131, 15.51183404, 17.7879005 , 15.94218647,\n",
       "       17.34671605, 13.37220166, 17.91871844, 14.61751722, 20.25339882,\n",
       "       11.2885471 , 14.45959338, 15.01701867, 18.29376755, 12.15707166,\n",
       "       16.15171121, 12.84887409, 12.61727437, 13.58759362, 11.05652182,\n",
       "       12.01466451, 15.52259053, 19.14306925, 13.47593307, 15.22941933,\n",
       "       11.74672434, 11.970582  , 18.3009136 , 17.29756867, 16.71645502,\n",
       "       19.86593621, 16.67620403, 18.23146625, 15.84678558, 19.66646071,\n",
       "       13.78152879, 15.62221155, 14.12998091, 16.01634102, 15.66238933,\n",
       "       13.26602731, 16.92387782, 17.62057894, 19.69520197, 14.89560601,\n",
       "       13.32253159, 16.05034973, 11.37159282, 12.76647162, 16.17194445,\n",
       "        8.83074994, 15.53493686, 12.39871735, 16.7817344 , 14.11559255,\n",
       "       17.12678997, 12.79880481, 15.03679373, 14.81256572, 15.07725468,\n",
       "       13.16650776, 15.71663023, 15.01780279, 20.02735091,  9.4581978 ,\n",
       "       14.30902549, 15.25928157, 13.64749898, 12.67327372, 11.91601346,\n",
       "       16.31677303, 15.29002328, 13.81418644, 12.66034993, 12.07223151,\n",
       "       17.97869817, 14.23345244, 14.80392627, 16.53799558, 14.58718065,\n",
       "       13.227855  , 14.33763057, 15.57435857, 11.03868702, 14.413948  ,\n",
       "       15.29727446, 15.7322176 , 14.77119394, 17.91457731, 13.41336089,\n",
       "       15.71733441, 15.78998318, 17.00179752, 16.53225178, 15.8462991 ,\n",
       "       19.15858933, 12.94780487, 14.15090684, 15.28215535, 14.43465441,\n",
       "       16.97193491, 17.28716937, 19.3184894 , 17.12784786, 13.23308846,\n",
       "       13.94589925, 15.78945079, 17.87363403, 14.50944791, 17.21099865,\n",
       "       11.35165135, 10.43814647, 12.59345435, 13.5991812 , 14.60166879,\n",
       "       18.31406585, 17.81013137, 17.53174192, 15.73793899, 12.230049  ,\n",
       "       11.74351702, 15.62370773, 16.40094616, 16.14632694, 15.13786716,\n",
       "       20.27995936, 13.83916876, 16.47409246, 17.83832104, 17.34381439,\n",
       "       15.78071244, 16.85208419, 20.76513237, 15.61814791, 13.61371582,\n",
       "       16.02642899, 19.6693835 , 13.79079392, 18.96729457, 16.68128407,\n",
       "       16.65344128, 10.54542223, 17.02127175, 16.08869764, 16.03239987,\n",
       "       17.44832512, 15.55192946, 15.2977175 , 16.05507309, 17.74587977,\n",
       "       12.8487574 , 13.91940389, 14.94569041, 13.87197581, 13.50509785,\n",
       "       13.47049647, 17.27127632, 14.65079244, 11.97274366, 11.15484535,\n",
       "       14.00730554, 12.75669277, 15.95770065, 14.71814776,  9.86175032,\n",
       "        6.32563746, 12.30468376, 15.7540038 , 13.70631664, 12.1634356 ,\n",
       "       11.19169642, 15.95144734, 14.6496423 , 13.98661258, 15.93906002,\n",
       "       12.40271161, 13.03627391, 19.53617199, 15.96907814, 15.8070793 ,\n",
       "       12.75622545, 11.52623489, 18.49523869, 17.02302225, 14.74249993,\n",
       "       15.3677206 , 17.06262339, 12.38776904, 16.15975105, 17.06832264,\n",
       "       10.2970288 , 16.73442754, 12.43113223, 18.19197816, 14.3029689 ,\n",
       "       13.4206987 , 13.70477318, 11.00344608, 11.3306909 , 16.77809915,\n",
       "       18.47690665, 14.21145215, 11.95660552, 14.10223064, 11.6607046 ,\n",
       "       18.31145217, 12.09351694, 15.85189114, 15.71618147, 17.93234148,\n",
       "       15.48045038, 13.74684819, 12.04822804, 13.87777926, 15.35617743,\n",
       "       12.72074592, 17.29933898, 14.67073932, 13.57050455,  9.54402781,\n",
       "       14.63957812, 17.28139152,  9.86065304, 18.08737816, 17.7307556 ,\n",
       "       15.67925539, 17.19621582, 15.04662369, 13.47923947, 13.89641923,\n",
       "       14.9959102 , 14.77913155, 10.56535771, 16.11939118, 12.5882141 ,\n",
       "       13.14923128, 16.99991271, 14.95538889, 14.61351651, 14.42754103,\n",
       "       16.74022802, 15.75255214, 16.32293123, 16.24224052, 16.5145132 ,\n",
       "       15.55865494, 10.81625513, 15.5062863 , 14.72422726, 13.57237052,\n",
       "       17.05154056, 14.81100499, 13.47154242,  8.57949537, 18.66306936,\n",
       "       15.36182746, 13.32206669, 17.22971841, 18.11034745, 15.95365752,\n",
       "       13.49500567, 16.34295355, 11.14401169, 13.96065808, 14.03926583,\n",
       "       11.79581848, 18.63612224, 13.4933265 , 16.02084766, 15.2975785 ,\n",
       "       15.82547737, 13.36442378, 15.74642701, 13.31001044,  9.7511694 ,\n",
       "       13.9248381 , 10.27535953, 15.718736  , 15.15600139, 11.4801964 ,\n",
       "       12.76765832, 14.13097996, 20.46801878, 17.5011529 , 14.17181256,\n",
       "       18.31496473, 15.45010953,  9.14815796, 15.72797716, 16.11401967,\n",
       "       20.61281934, 15.17129906, 11.82641231, 17.24855681, 15.77810856,\n",
       "       15.14212836, 14.72801017, 15.77620482, 13.48261609, 17.55312507,\n",
       "       14.05152672, 16.72541439,  9.63803774, 13.45157456, 11.62759107,\n",
       "       13.22675247, 11.29971994, 13.77706313, 19.44175562, 11.25016705,\n",
       "       12.03241515, 17.13842031,  7.67118591, 12.50308898, 15.17448715,\n",
       "       14.66537429, 14.06634758, 14.14092085, 13.99265577, 16.34001626,\n",
       "       12.96915268, 11.78134364, 14.50158573, 14.25737924, 15.68146871,\n",
       "       11.25974962, 16.38940011, 18.31620307, 16.67322471, 14.30613677,\n",
       "       13.03108995, 16.10629798, 12.69455584, 18.28343016, 13.22997611,\n",
       "       13.10884603, 14.32670144, 11.73394531, 16.39264879, 15.50164109,\n",
       "       14.15949636, 16.57525742, 16.27080502, 16.42050357, 13.032768  ,\n",
       "       17.31167649, 10.79116457, 13.88044634, 17.88828718, 11.48461677,\n",
       "       18.43901854, 13.91274809, 16.53314516, 16.31843513, 11.09755071,\n",
       "       11.8040323 , 14.31610146, 18.60943997, 15.88998189, 15.51344147,\n",
       "       13.8767641 , 13.55809837, 16.68876988, 16.80064058, 17.12700186,\n",
       "       12.58196259, 15.25090979,  9.97386827, 18.18959383, 16.83865827,\n",
       "       19.88036167, 16.32929763, 17.13632455,  9.55044304, 16.2801294 ,\n",
       "       15.53294498, 15.43557568, 14.13360987, 14.3171123 , 14.54872784,\n",
       "       14.18825758, 11.74282783, 15.23153403, 10.77459834, 14.6416067 ,\n",
       "       12.72560975, 17.48836941, 18.84525998, 14.23302599, 13.1315145 ,\n",
       "        8.49226415, 11.76067166, 15.25419367, 19.01173643, 11.56725387,\n",
       "       17.71684884, 12.19295178, 15.24749213, 12.7457954 , 12.71059293,\n",
       "       15.58046527, 10.966389  , 13.10513893, 19.15249519, 13.18746691,\n",
       "       13.5017955 , 10.72075527, 11.14518296, 10.86505249, 14.99526963,\n",
       "       17.566463  , 16.77783411, 15.72740203, 15.21065788, 18.97568799,\n",
       "       15.65678853, 15.96197189, 13.9450155 , 17.12879565, 14.28399419,\n",
       "       13.91847663, 18.21448992, 12.37881839, 14.903184  , 13.98027094,\n",
       "       14.32674439, 17.70282653, 14.21782357, 22.54460292, 10.1029783 ,\n",
       "       15.30082877, 16.88932357, 13.66927274, 16.32035394, 18.43102316,\n",
       "       13.40199576, 11.84404208, 20.52721588, 17.15904934, 14.121974  ,\n",
       "       19.21549282, 13.15552825, 10.4317177 , 15.08994726, 17.81465478,\n",
       "       15.45536481, 15.62914921, 20.07772561, 12.3550448 , 12.80697927,\n",
       "       14.70400602, 12.89537352, 11.88065009, 14.6156403 , 15.62274596,\n",
       "       16.28889242, 18.15558634, 15.45594762, 18.2350958 , 16.85894433,\n",
       "       18.49946064, 14.51784114, 18.64181973, 17.42483496, 12.64848196,\n",
       "       16.37239533, 11.20550162, 16.94359206, 15.89668244, 16.58322665,\n",
       "       15.78316693, 16.5871295 , 15.91947925, 14.28014817, 16.1103973 ,\n",
       "       14.89956808, 17.52197164, 15.48839269, 11.81748563, 17.477778  ,\n",
       "       16.96225021, 12.34789257, 12.13373721, 14.87380739, 12.66937511,\n",
       "       15.91281682, 15.81829435, 18.25505889, 14.01408039, 11.88671066,\n",
       "       16.92010377, 12.94067564, 17.06729878, 14.86303264, 14.6521369 ,\n",
       "       14.95691469, 18.20528776, 18.02427259, 14.52844955, 12.52306992,\n",
       "       19.19905385, 12.26092385, 13.65910628, 17.02706991, 12.39560224,\n",
       "       17.9991667 , 18.4602579 , 17.52984313, 11.50845534, 14.43700888,\n",
       "       14.00601699, 12.75411567, 15.0607218 , 14.4635527 ,  9.18004413,\n",
       "       16.75447468, 13.38492322, 18.37329817, 13.82061363, 16.8508943 ,\n",
       "       16.30177997, 15.42079385, 16.21433938, 16.65109103, 14.59343786,\n",
       "       18.88821891, 13.79725743, 14.42888691, 14.4168441 , 16.04346218,\n",
       "       12.51870315, 12.73564864, 18.97284499, 18.49476688, 17.70439377,\n",
       "       16.96844302, 16.66515591, 13.58097665, 16.66056944, 15.08595996,\n",
       "       17.42739341, 18.89948634, 16.66703685, 18.71308117, 14.16962791,\n",
       "       20.37663987, 15.91170384, 12.94840218, 14.91067964, 15.54863063,\n",
       "       14.565242  , 14.08580803, 15.71720896, 12.7000281 , 11.69968809,\n",
       "       13.12237058, 13.57690632, 14.35071483, 13.53834694, 18.00112163,\n",
       "       17.62343245, 14.78552992, 14.64247337, 13.90288795, 13.52854307,\n",
       "       11.93924302, 19.35791818, 15.91819091, 13.62896002, 16.02321997,\n",
       "       12.88672576, 14.57185679, 13.09925315, 16.26547872, 13.94627655,\n",
       "       16.45199487, 15.16793433, 20.49577092, 13.1025225 , 13.32862878,\n",
       "       15.22437171, 15.98939013, 17.47510769, 15.002438  , 17.90824524,\n",
       "       16.10796744, 16.76463819, 16.12503836, 13.34346325, 16.11594747,\n",
       "       13.90559892, 13.76943088, 16.37716931, 12.26202886, 15.88927982,\n",
       "       15.85191298, 12.69932244, 14.65842928, 16.25528725, 11.11584393,\n",
       "       16.7969514 , 11.90807497, 12.35172944, 18.34515261, 17.26366542,\n",
       "       18.75795582, 14.63298145, 19.10788457, 13.59127798, 14.81740293,\n",
       "       13.15422915,  8.81036388, 14.6452006 , 12.74892085, 11.58508972,\n",
       "       12.10121368, 16.74032311, 11.62281947, 12.76417061, 16.72356197,\n",
       "       14.55467348, 15.16764615, 16.73849312, 18.83112888, 15.11699482,\n",
       "       15.85358769, 13.99696198, 14.44931669, 14.81020938, 18.19106344,\n",
       "       12.79751714, 12.26215014, 15.25407246, 17.39889892, 15.89035301,\n",
       "       15.90375682, 13.83431539, 11.19307874, 17.03180525, 18.45594064,\n",
       "       15.13142815, 19.15691849, 14.43266688, 21.08906436, 13.62560062,\n",
       "       16.3843753 , 14.8956423 , 15.67990347, 16.4547687 , 14.4316224 ,\n",
       "       15.65816778, 15.37263096, 16.79770059, 13.0964692 , 14.00892538,\n",
       "       13.66195325, 16.43872115, 10.67089899, 14.43537133,  7.3283475 ,\n",
       "       18.53824746,  9.93801398, 17.06968792, 12.05272229, 16.91172826,\n",
       "       13.35172864, 21.61927405, 13.11782211, 13.03716393, 16.29376143,\n",
       "       16.91280518, 10.562167  , 15.00287248, 12.78385506, 12.8639004 ,\n",
       "       11.14689389, 15.6306706 , 14.32491558, 11.71043114, 17.90120023,\n",
       "       16.58845102, 18.01068583, 17.15297316, 15.28551588, 15.25926294,\n",
       "       12.9178329 , 13.48733909,  9.54579908, 17.67239896, 14.15638615,\n",
       "       15.0374641 ,  8.51376598, 16.99427197, 15.79910735, 17.50287076,\n",
       "       18.0403597 , 16.81048153, 12.59121131, 13.74788627, 15.56103371,\n",
       "       11.44258294, 10.4705043 , 11.16630259, 10.69354456, 15.89828093,\n",
       "       14.36559258, 15.0844018 , 12.26062362, 12.43790088, 18.57224579,\n",
       "       17.59184986, 20.77574368, 20.63101084, 16.71747734, 16.18320075,\n",
       "       15.2109293 , 15.24498936, 13.41900634, 15.41605066,  9.80615285,\n",
       "       11.58348074, 14.04932719, 13.61969861, 14.93352198, 16.40874273,\n",
       "       15.4645974 , 15.75017178, 19.62146207, 10.79054816, 13.48909421,\n",
       "       10.12489608, 16.55391758, 10.04641687, 16.16707939, 13.27324635,\n",
       "       15.49003883, 18.62839899, 13.85945019, 13.4377052 , 18.54146977,\n",
       "       17.62881684, 14.16484513, 16.65398806, 17.90682981, 17.69225488,\n",
       "       12.8204606 , 18.86647409, 13.28485729, 13.10654482, 13.07600181,\n",
       "       12.33089672, 12.98973937, 10.4143596 , 15.3497318 , 18.2478196 ,\n",
       "       15.45959869, 15.93478287, 17.01228424, 14.4545451 , 17.22843891,\n",
       "       15.53458021, 17.05157911, 11.02688021, 11.79623114, 19.32889461,\n",
       "       15.85113279, 16.19728867, 16.25291207, 13.43900643, 15.18529443,\n",
       "       17.96494446, 12.43855408, 18.94210725, 12.86188168, 14.42142997,\n",
       "       19.4083396 , 13.49487006, 12.27676006, 16.04023245, 15.5613636 ,\n",
       "       14.41817148, 13.00614423, 12.63833887, 18.73236471, 15.9411885 ,\n",
       "        9.84411916, 15.23338568, 10.34670527, 14.64758351, 14.8467146 ,\n",
       "       17.5547265 , 13.20703072, 15.74548962, 15.59816533, 12.19522635,\n",
       "       18.48986718, 14.68568289, 13.91398647, 17.76990056, 17.77227396,\n",
       "       18.43046868, 19.09483297, 10.70155278, 15.45423438, 15.26506612,\n",
       "       14.09147836, 12.54863947, 12.98855539, 10.93616734, 18.03442051,\n",
       "       15.35287191, 13.05717651, 12.34950592, 12.69426009, 12.79187525,\n",
       "       16.12937665, 14.48381489, 16.90885395, 10.69407409, 21.0559846 ,\n",
       "       12.82076916, 14.79378394, 13.53152268, 13.94773471, 16.47960408,\n",
       "       14.6038512 , 14.21247273, 15.06550622, 18.19601365, 15.21536428,\n",
       "       14.43679874, 19.46586218, 14.00585993, 12.52443293, 11.22048013,\n",
       "       15.45900318, 18.92411907, 13.61913948, 16.59309883, 13.27301114])"
      ]
     },
     "execution_count": 78,
     "metadata": {},
     "output_type": "execute_result"
    }
   ],
   "source": [
    "#Another way. maybe useful to try against different sizes\n",
    "rv = stats.norm(loc=mu,scale = sigma)\n",
    "rv.rvs(size = size)"
   ]
  },
  {
   "cell_type": "markdown",
   "metadata": {
    "hidden": true
   },
   "source": [
    "The **mean** of our probability density function (PDF) affects where it is centered on the x-axis. This is the `loc` parameter in the `stats` module.\n",
    "\n",
    "The two plots below have the same shape, but different centers."
   ]
  },
  {
   "cell_type": "code",
   "execution_count": 79,
   "metadata": {
    "ExecuteTime": {
     "end_time": "2022-03-14T19:13:46.057937Z",
     "start_time": "2022-03-14T19:13:45.172724Z"
    },
    "hidden": true
   },
   "outputs": [
    {
     "data": {
      "text/plain": [
       "Text(0.5, 1.0, 'Two distributions differing in mean')"
      ]
     },
     "execution_count": 79,
     "metadata": {},
     "output_type": "execute_result"
    },
    {
     "data": {
      "image/png": "[encoded data removed]",
      "text/plain": [
       "<Figure size 432x288 with 1 Axes>"
      ]
     },
     "metadata": {
      "needs_background": "light"
     },
     "output_type": "display_data"
    }
   ],
   "source": [
    "# Plotting the probability density function for continuous data\n",
    "fig, ax = plt.subplots()\n",
    "\n",
    "# Distribution with zero mean\n",
    "mean = 0\n",
    "\n",
    "# Calculate the percentile for x axis using stats.norm.ppf()\n",
    "z_curve = np.linspace(stats.norm(mean, 1).ppf(0.01),\n",
    "                      stats.norm(mean, 1).ppf(0.99), \n",
    "                      100)\n",
    "\n",
    "# Calculate the density values using stats.norm.pdf() for every percentile position\n",
    "# Plot the distribution in red\n",
    "ax.plot(z_curve, \n",
    "        stats.norm(mean, 1).pdf(z_curve),\n",
    "        'r-', lw=5, alpha=0.6, label='z_curve')\n",
    "\n",
    "# Distribution with mean value = 1\n",
    "mean = 1\n",
    "\n",
    "# Calculate the percentile for x axis using stats.norm.ppf()\n",
    "z_curve = np.linspace(stats.norm(mean, 1).ppf(0.01),\n",
    "                      stats.norm(mean, 1).ppf(0.99), \n",
    "                      100)\n",
    "\n",
    "# Calculate the density values using stats.norm.pdf() for every percentile position\n",
    "# Plot the distribution in blue\n",
    "ax.plot(z_curve, \n",
    "        stats.norm(mean, 1).pdf(z_curve),\n",
    "        'b-', lw=5, alpha=0.6, label='norm pdf')\n",
    "\n",
    "ax.set_title(\"Two distributions differing in mean\")"
   ]
  },
  {
   "cell_type": "markdown",
   "metadata": {
    "hidden": true
   },
   "source": [
    "The **variance** of our plots describes how closely the points are gathered around the mean. Low variance means tight and skinny, high variance short and wide. This is the `scale` parameter in the `stats` module.\n",
    "\n",
    "The two plots below have the same mean, but different variance:"
   ]
  },
  {
   "cell_type": "code",
   "execution_count": 83,
   "metadata": {
    "ExecuteTime": {
     "end_time": "2022-03-14T19:16:12.503371Z",
     "start_time": "2022-03-14T19:16:11.536457Z"
    },
    "hidden": true
   },
   "outputs": [
    {
     "data": {
      "text/plain": [
       "Text(0.5, 1.0, 'Two distributions differing in variance')"
      ]
     },
     "execution_count": 83,
     "metadata": {},
     "output_type": "execute_result"
    },
    {
     "data": {
      "image/png": "[encoded data removed]",
      "text/plain": [
       "<Figure size 432x288 with 1 Axes>"
      ]
     },
     "metadata": {
      "needs_background": "light"
     },
     "output_type": "display_data"
    }
   ],
   "source": [
    "# Create 2 normal distributions with same mean, but different sigma/scale\n",
    "fig, ax = plt.subplots()\n",
    "\n",
    "mean = 1\n",
    "std = 1\n",
    "z_curve = np.linspace(stats.norm(mean, std).ppf(0.01),\n",
    "                      stats.norm(mean, std).ppf(0.99), \n",
    "                      100)\n",
    "\n",
    "ax.plot(z_curve, stats.norm(mean, std).pdf(z_curve),\n",
    "        'r-', lw=5, alpha=0.6, label='z_curve')\n",
    "\n",
    "mean = 1\n",
    "std = 3\n",
    "z_curve = np.linspace(stats.norm(mean, std).ppf(0.01),\n",
    "                      stats.norm(mean, std).ppf(0.99), \n",
    "                      100)\n",
    "\n",
    "ax.plot(z_curve, stats.norm(mean, std).pdf(z_curve),\n",
    "        'b-', lw=5, alpha=0.6, label='norm pdf')\n",
    "\n",
    "ax.set_title(\"Two distributions differing in variance\")"
   ]
  },
  {
   "cell_type": "markdown",
   "metadata": {
    "heading_collapsed": true,
    "hidden": true
   },
   "source": [
    "## Some Things to Be Aware Of"
   ]
  },
  {
   "cell_type": "markdown",
   "metadata": {
    "hidden": true
   },
   "source": [
    "- For continuous random variables, obtaining probabilities for observing a specific outcome is not possible \n",
    "- Be careful with interpretation of PDF\n",
    "\n",
    "We can use the CDF to learn the probability that a variable will be less than or equal to a given value.\n",
    "\n",
    "Typically, you'll see something like this equation associated with the CDF:\n",
    "\n",
    "$$F(x) = P(X\\leq x)$$"
   ]
  },
  {
   "cell_type": "markdown",
   "metadata": {},
   "source": [
    "###  Code with Python:\n",
    "\n",
    "Let's use the ```scipy.stats``` module to calculate the cumulative density for both discrete and continuous distributions.\n",
    "\n",
    "For discrete distributions, let's try to calculate the probability of the **binomial** distribution for the number of successes equal or less than 8 successes out of 20 trials.\n",
    "\n",
    "$$P(x \\leq 8)$$"
   ]
  },
  {
   "cell_type": "code",
   "execution_count": 85,
   "metadata": {
    "ExecuteTime": {
     "end_time": "2022-03-14T19:27:02.167414Z",
     "start_time": "2022-03-14T19:27:02.157374Z"
    }
   },
   "outputs": [],
   "source": [
    "p=0.5"
   ]
  },
  {
   "cell_type": "code",
   "execution_count": 87,
   "metadata": {
    "ExecuteTime": {
     "end_time": "2022-03-14T19:27:49.684613Z",
     "start_time": "2022-03-14T19:27:49.649594Z"
    }
   },
   "outputs": [
    {
     "data": {
      "text/plain": [
       "0.25172233581542974"
      ]
     },
     "execution_count": 87,
     "metadata": {},
     "output_type": "execute_result"
    }
   ],
   "source": [
    "# Create the random discrete value for the number of success\n",
    "k = 8\n",
    "n = 20\n",
    "\n",
    "# Calculate the probability for x equal or less than 8\n",
    "stats.binom.cdf(k=k,n=n,p=p)\n"
   ]
  },
  {
   "cell_type": "markdown",
   "metadata": {},
   "source": [
    "For continuous distributions, we can calculate the probability of the **normal** distribution for a random value of x equal or less than 18.\n",
    "\n",
    "$$P(x \\leq 18)$$"
   ]
  },
  {
   "cell_type": "code",
   "execution_count": 92,
   "metadata": {
    "ExecuteTime": {
     "end_time": "2022-03-14T19:29:35.070660Z",
     "start_time": "2022-03-14T19:29:35.014591Z"
    }
   },
   "outputs": [
    {
     "data": {
      "text/plain": [
       "0.8849303297782918"
      ]
     },
     "execution_count": 92,
     "metadata": {},
     "output_type": "execute_result"
    }
   ],
   "source": [
    "# mean of the data\n",
    "mu = 15\n",
    "# standard deviation of the data\n",
    "sigma = 2.5\n",
    "\n",
    "# Create the random x value for calculation\n",
    "x=18\n",
    "# Calculate the probability for x equal or less than 18\n",
    "stats.norm(loc = mu, scale =sigma).cdf(x)"
   ]
  },
  {
   "cell_type": "code",
   "execution_count": 95,
   "metadata": {
    "ExecuteTime": {
     "end_time": "2022-03-14T19:30:22.421167Z",
     "start_time": "2022-03-14T19:30:22.364298Z"
    }
   },
   "outputs": [
    {
     "data": {
      "text/plain": [
       "0.8849303297782918"
      ]
     },
     "execution_count": 95,
     "metadata": {},
     "output_type": "execute_result"
    }
   ],
   "source": [
    "stats.norm.cdf(x,loc = mu, scale =sigma) #Alternate way"
   ]
  },
  {
   "cell_type": "markdown",
   "metadata": {},
   "source": [
    "Note: the ```cdf``` function by default return the probability of the left hand tail of the distribution. If you are interested to calculate the right hand tail probability, you can simply subtract the probability of the left tail from 1.\n",
    "\n",
    "$$P(x>18) = 1 - P(x \\leq 18)$$\n"
   ]
  },
  {
   "cell_type": "markdown",
   "metadata": {
    "heading_collapsed": true,
    "hidden": true
   },
   "source": [
    "## Example: Using CDF & comparison to PDF"
   ]
  },
  {
   "cell_type": "markdown",
   "metadata": {
    "hidden": true
   },
   "source": [
    "Consider the following normal distributions of heights.\n",
    "\n",
    "The PDF and the CDF look like:\n"
   ]
  },
  {
   "cell_type": "code",
   "execution_count": 96,
   "metadata": {
    "ExecuteTime": {
     "end_time": "2022-03-14T19:33:28.483685Z",
     "start_time": "2022-03-14T19:33:27.131565Z"
    },
    "hidden": true
   },
   "outputs": [
    {
     "data": {
      "text/plain": [
       "Text(0.5, 1.0, 'CDF of Height in the US')"
      ]
     },
     "execution_count": 96,
     "metadata": {},
     "output_type": "execute_result"
    },
    {
     "data": {
      "image/png": "[encoded data removed]",
      "text/plain": [
       "<Figure size 720x360 with 2 Axes>"
      ]
     },
     "metadata": {
      "needs_background": "light"
     },
     "output_type": "display_data"
    }
   ],
   "source": [
    "# Create a fake dataset with mean = 67, sigma = 4, and N = 1000\n",
    "r = sorted(stats.norm.rvs(loc=67, scale=4, size=1000))\n",
    "\n",
    "# Calculate the CDF using stats.norm.cdf()\n",
    "r_cdf = stats.norm.cdf(r, loc=67, scale=4)\n",
    "\n",
    "# Plot the PDF and CDF side-by-side\n",
    "fig, (ax1, ax2) = plt.subplots(1, 2, figsize=(10, 5))\n",
    "sns.kdeplot(r, ax=ax1, shade=True)\n",
    "ax1.set_title('PDF of Height in US')\n",
    "\n",
    "ax2.plot(r, r_cdf, color='g')\n",
    "ax2.set_title('CDF of Height in the US')"
   ]
  },
  {
   "cell_type": "markdown",
   "metadata": {
    "hidden": true
   },
   "source": [
    "If we provide `numpy` with the underlying parameters of our distribution, we can calculate:"
   ]
  },
  {
   "cell_type": "code",
   "execution_count": 97,
   "metadata": {
    "ExecuteTime": {
     "end_time": "2022-03-14T19:34:10.198229Z",
     "start_time": "2022-03-14T19:34:10.180204Z"
    },
    "hidden": true
   },
   "outputs": [
    {
     "name": "stdout",
     "output_type": "stream",
     "text": [
      "The probability density at 73 is 0.9331927987311419\n"
     ]
    }
   ],
   "source": [
    "# the probability that a value falls below a specified value\n",
    "r = stats.norm(67, 4)\n",
    "print(f'The probability density at 73 is {r.cdf(73)}')"
   ]
  },
  {
   "cell_type": "code",
   "execution_count": 99,
   "metadata": {
    "ExecuteTime": {
     "end_time": "2022-03-14T19:35:00.441026Z",
     "start_time": "2022-03-14T19:35:00.398016Z"
    },
    "hidden": true
   },
   "outputs": [
    {
     "name": "stdout",
     "output_type": "stream",
     "text": [
      "Probability between the range 67 to 75 is 0.4772498680518208\n"
     ]
    }
   ],
   "source": [
    "# the probability that a value falls between two specified values\n",
    "r = stats.norm(67, 4)\n",
    "print(f'Probability between the range 67 to 75 is {r.cdf(75) - r.cdf(67)}')"
   ]
  },
  {
   "cell_type": "markdown",
   "metadata": {
    "hidden": true
   },
   "source": [
    "We can also calculate the value associated with a specfic percentile:"
   ]
  },
  {
   "cell_type": "code",
   "execution_count": 100,
   "metadata": {
    "ExecuteTime": {
     "end_time": "2022-03-14T19:35:06.397483Z",
     "start_time": "2022-03-14T19:35:06.390457Z"
    },
    "hidden": true
   },
   "outputs": [
    {
     "name": "stdout",
     "output_type": "stream",
     "text": [
      "The 95th percentile: 73.5794145078059\n"
     ]
    }
   ],
   "source": [
    "# the 95th percentile\n",
    "print(f'The 95th percentile: {r.ppf(0.95)}')"
   ]
  },
  {
   "cell_type": "markdown",
   "metadata": {
    "heading_collapsed": true
   },
   "source": [
    "# Exercises"
   ]
  },
  {
   "cell_type": "markdown",
   "metadata": {
    "heading_collapsed": true,
    "hidden": true
   },
   "source": [
    "## Order Totals CDF & PDF"
   ]
  },
  {
   "cell_type": "markdown",
   "metadata": {
    "hidden": true
   },
   "source": [
    "Imagine that an online clothing business gets orders with totals that are normally distributed with an average of \\\\$95 and a standard deviation of \\\\$18. **Graph the PDF and CDF** for the orders for this business. "
   ]
  },
  {
   "cell_type": "code",
   "execution_count": null,
   "metadata": {
    "ExecuteTime": {
     "end_time": "2021-10-08T21:00:10.282262Z",
     "start_time": "2021-10-08T21:00:10.280216Z"
    },
    "hidden": true
   },
   "outputs": [],
   "source": [
    "# Your code here\n"
   ]
  },
  {
   "cell_type": "markdown",
   "metadata": {},
   "source": [
    "<details>\n",
    "    <summary>Answer</summary>\n",
    "        <code>\n",
    "        r = sorted(stats.norm.rvs(loc=95, scale=18, size=1000))\n",
    "        r_cdf = stats.norm.cdf(r, loc=95, scale=18)\n",
    "        fig, (ax1, ax2) = plt.subplots(1, 2, figsize=(10, 5))\n",
    "        sns.kdeplot(r, ax=ax1, shade=True)\n",
    "        ax1.set_title('PDF of Revenue') \n",
    "        ax2.plot(r, r_cdf, color='g')\n",
    "        ax2.set_title('CDF of Revenue')\n",
    "        </code>\n",
    "</details>"
   ]
  },
  {
   "cell_type": "markdown",
   "metadata": {
    "heading_collapsed": true,
    "hidden": true
   },
   "source": [
    "## Order Totals Observations"
   ]
  },
  {
   "cell_type": "markdown",
   "metadata": {
    "hidden": true
   },
   "source": [
    "After graphing, **write 1-3 observations** about the distributions of order totals based on these graphs."
   ]
  },
  {
   "cell_type": "markdown",
   "metadata": {
    "hidden": true
   },
   "source": [
    "**Your Observations**\n",
    "\n",
    "Observation 1: \n",
    "\n",
    "Observation 2: \n",
    "\n",
    "Observation 3:\n"
   ]
  },
  {
   "cell_type": "markdown",
   "metadata": {},
   "source": [
    "## How to Describe Distributions: Center, Spread and Shape\n",
    "\n",
    "The **center** refers loosely to the middle-values of a distribution, and is measured more precisely by notions like the mean, the median, and the mode.\n",
    "\n",
    "The **spread** refers loosely to how far away the more extreme values are from the center, and is measured by some value showing variation - more precisely by the standard deviation, which is effectively a measure of the average distance away from the mean.\n",
    "\n",
    "![different spread representations](images/examplesOfSpread.jpg)\n",
    "\n",
    "The **shape** refers loosely how the data shows up when visualized, more specifically capturing details like symmetry or skew, as well as the number of peaks in the distribution.\n",
    "\n",
    "![different distribution shapes](images/shapesOfDistributions.jpg)\n",
    "\n",
    "Note that sometimes the center of your distribution is harder to capture precisely, if the shape is skewed:\n",
    "\n",
    "![examples of skewed distributions](images/order_of_mean_median_mode.png)\n",
    "\n",
    "[Image Source for the images in this cell](http://mathcenter.oxford.emory.edu/site/math117/shapeCenterAndSpread/)"
   ]
  },
  {
   "cell_type": "markdown",
   "metadata": {
    "heading_collapsed": true
   },
   "source": [
    "# Level Up: Details on Expected Value and Variance"
   ]
  },
  {
   "cell_type": "markdown",
   "metadata": {
    "heading_collapsed": true,
    "hidden": true
   },
   "source": [
    "## For PMF - Discrete Values"
   ]
  },
  {
   "cell_type": "markdown",
   "metadata": {
    "heading_collapsed": true,
    "hidden": true
   },
   "source": [
    "### Expected Value/Mean"
   ]
  },
  {
   "cell_type": "markdown",
   "metadata": {
    "hidden": true
   },
   "source": [
    "The expected value, or the mean, describes the 'center' of the distribution (you may hear this called the first moment).  The 'center' refers loosely to the middle-values of a distribution, and is measured more precisely by notions like the mean, the median, and the mode.\n",
    "\n",
    "For a discrete distribution, working from the vantage point of a collected sample of n data points:\n",
    "\n",
    "mean = $\\Large\\mu = \\frac{\\Sigma^n_{i = 1}x_i}{n}$\n",
    "\n",
    "If we are working from the vantage point of known probabilities, the mean is referred to as the expected value. The expected value of a discrete distribution is the weighted sum of all values of x, where the weight is their probability.\n",
    " \n",
    "The expected value of the Lotto example is:\n",
    "${\\displaystyle \\operatorname {E} [X]= \\Sigma^n_{i=1}p(x_i)x_i}$"
   ]
  },
  {
   "cell_type": "markdown",
   "metadata": {
    "heading_collapsed": true,
    "hidden": true
   },
   "source": [
    "### Variance/Standard Deviation"
   ]
  },
  {
   "cell_type": "markdown",
   "metadata": {
    "hidden": true
   },
   "source": [
    "Variance describes the spread of the data (it is also referred to as the second moment).  The 'spread' refers loosely to how far away the more extreme values are from the center.\n",
    "\n",
    "Standard deviation is the square root of variance, and effectively measures the *average distance away from the mean*.\n",
    "\n",
    "From the standpoint of a sample, the variance of a discrete distribution of n data points is:\n",
    "\n",
    "std = $\\Large\\sigma = \\sqrt{\\frac{\\Sigma^n_{i = 1}(x_i - \\mu)^2}{n}}$\n",
    "\n",
    "\n",
    "Variance is the expectation of the squared deviation of a random variable from its mean.\n"
   ]
  },
  {
   "cell_type": "markdown",
   "metadata": {
    "heading_collapsed": true
   },
   "source": [
    "# Level Up: CDF Use Cases"
   ]
  },
  {
   "cell_type": "markdown",
   "metadata": {
    "hidden": true
   },
   "source": [
    "You might look at the CDF and wonder if it's a shadow of my beloved histogram. But there are some good use cases for this way of visualizing the CDF"
   ]
  },
  {
   "cell_type": "code",
   "execution_count": null,
   "metadata": {
    "ExecuteTime": {
     "end_time": "2021-10-08T21:00:13.628294Z",
     "start_time": "2021-10-08T21:00:13.624664Z"
    },
    "hidden": true
   },
   "outputs": [],
   "source": [
    "# First let's define some data\n",
    "domain_x = np.linspace(-1,1,100)\n",
    "norm_dist = stats.norm.rvs(0,0.3,domain_x.shape)\n",
    "norm_dist.shape"
   ]
  },
  {
   "cell_type": "markdown",
   "metadata": {
    "heading_collapsed": true,
    "hidden": true
   },
   "source": [
    "## Quickly identify key values"
   ]
  },
  {
   "cell_type": "markdown",
   "metadata": {
    "hidden": true
   },
   "source": [
    "Finding features like the median, minimum, maximum, and quartiles are easy to read"
   ]
  },
  {
   "cell_type": "code",
   "execution_count": null,
   "metadata": {
    "ExecuteTime": {
     "end_time": "2021-10-08T21:00:14.331413Z",
     "start_time": "2021-10-08T21:00:14.111518Z"
    },
    "hidden": true
   },
   "outputs": [],
   "source": [
    "f,(ax_pdf,ax_cdf) = plt.subplots(nrows=1,ncols=2,figsize=(12,4))\n",
    "\n",
    "###### Histogram (PDF)\n",
    "ax_pdf = sns.histplot(x=norm_dist, ax=ax_pdf, alpha=0.4)\n",
    "# You can also see the PDF if you want\n",
    "# ax_pdf = sns.kdeplot(x=out, cumulative=False, ax=ax_pdf)\n",
    "\n",
    "# Median line\n",
    "ax_pdf.vlines(\n",
    "    x=np.median(norm_dist),\n",
    "    ymin=0,\n",
    "    ymax=20,\n",
    "    linestyles='--',\n",
    "    color='red'      \n",
    ")\n",
    "# 25th-percentile line\n",
    "ax_pdf.vlines(\n",
    "    x=np.quantile(norm_dist, 0.25),\n",
    "    ymin=0,\n",
    "    ymax=20,\n",
    "    linestyles='--',\n",
    "    color='purple'      \n",
    ")\n",
    "# 75th-percentile line\n",
    "ax_pdf.vlines(\n",
    "    x=np.quantile(norm_dist, 0.75),\n",
    "    ymin=0,\n",
    "    ymax=20,\n",
    "    linestyles='--',\n",
    "    color='purple'      \n",
    ")\n",
    "\n",
    "###### CDF \n",
    "ax_cdf = sns.kdeplot(x=norm_dist, cumulative=True, ax=ax_cdf)\n",
    "\n",
    "# Median line\n",
    "ax_cdf.hlines(\n",
    "    y=0.5,\n",
    "    xmin=-1,\n",
    "    xmax=1,\n",
    "    linestyles='--',\n",
    "    color='red'\n",
    ")\n",
    "# 25th-percentile line\n",
    "ax_cdf.hlines(\n",
    "    y=0.25,\n",
    "    xmin=-1,\n",
    "    xmax=1,\n",
    "    linestyles='--',\n",
    "    color='purple'\n",
    ")\n",
    "# 75th-percentile line\n",
    "ax_cdf.hlines(\n",
    "    y=0.75,\n",
    "    xmin=-1,\n",
    "    xmax=1,\n",
    "    linestyles='--',\n",
    "    color='purple'\n",
    ")"
   ]
  },
  {
   "cell_type": "markdown",
   "metadata": {
    "heading_collapsed": true,
    "hidden": true
   },
   "source": [
    "## Outliers can be more obvious"
   ]
  },
  {
   "cell_type": "markdown",
   "metadata": {
    "hidden": true
   },
   "source": [
    "Visualizations with outliers can be a little tricky. Take a look at your histogram. With outliers, it might be identified but can distort our focus."
   ]
  },
  {
   "cell_type": "code",
   "execution_count": null,
   "metadata": {
    "ExecuteTime": {
     "end_time": "2021-10-08T21:00:14.672833Z",
     "start_time": "2021-10-08T21:00:14.668761Z"
    },
    "hidden": true
   },
   "outputs": [],
   "source": [
    "# Add an outlier\n",
    "norm_with_outliers = np.append(norm_dist, 5*np.abs(np.random.randn(5)))\n",
    "print(f'The range of norm_dist: \\n{norm_dist.min(), norm_dist.max()}\\n')\n",
    "print(f'The range of norm_with_outliers: \\n{norm_with_outliers.min(), norm_with_outliers.max()}\\n')"
   ]
  },
  {
   "cell_type": "code",
   "execution_count": null,
   "metadata": {
    "ExecuteTime": {
     "end_time": "2021-10-08T21:00:14.989799Z",
     "start_time": "2021-10-08T21:00:14.696050Z"
    },
    "hidden": true
   },
   "outputs": [],
   "source": [
    "f,(ax0,ax1) = plt.subplots(1,2, figsize=(12,4))\n",
    "\n",
    "# Showing the outliers\n",
    "sns.histplot(x=norm_with_outliers, alpha=0.4, ax=ax0)\n",
    "\n",
    "# Ignoring outliers\n",
    "ax1=sns.histplot(x=norm_with_outliers, alpha=0.4, ax=ax1)\n",
    "ax1.set_xlim(right=1.)"
   ]
  },
  {
   "cell_type": "markdown",
   "metadata": {
    "hidden": true
   },
   "source": [
    "In a worst-case, you might not notice the outliers because it gets swallowed up due by a bin because of the number of bins or bin width parameter"
   ]
  },
  {
   "cell_type": "markdown",
   "metadata": {
    "hidden": true
   },
   "source": [
    "Now using a CDF, it can be a lot easier to identify when there is an extreme value even if we scale the $x$-axis."
   ]
  },
  {
   "cell_type": "code",
   "execution_count": null,
   "metadata": {
    "ExecuteTime": {
     "end_time": "2021-10-08T21:00:15.423689Z",
     "start_time": "2021-10-08T21:00:15.203172Z"
    },
    "hidden": true
   },
   "outputs": [],
   "source": [
    "f,(ax0,ax1) = plt.subplots(1,2, figsize=(12,4))\n",
    "\n",
    "# Showing the outliers\n",
    "ax0 = sns.kdeplot(x=norm_with_outliers, cumulative=True, ax=ax0)\n",
    "ax0.hlines(1,xmin=-1,xmax=3,color='red',linestyles='--')\n",
    "\n",
    "# Ignoring outliers\n",
    "ax1 = sns.kdeplot(x=norm_with_outliers, cumulative=True, ax=ax1)\n",
    "ax1.hlines(1,xmin=-1,xmax=1,color='red',linestyles='--')\n",
    "ax1.set_xlim(right=1.)"
   ]
  },
  {
   "cell_type": "markdown",
   "metadata": {
    "heading_collapsed": true,
    "hidden": true
   },
   "source": [
    "## Identifying clusters"
   ]
  },
  {
   "cell_type": "markdown",
   "metadata": {
    "hidden": true
   },
   "source": [
    "Typically not hard with a histogram. But you can also see it in CDFs!"
   ]
  },
  {
   "cell_type": "code",
   "execution_count": null,
   "metadata": {
    "ExecuteTime": {
     "end_time": "2021-10-08T21:00:15.718993Z",
     "start_time": "2021-10-08T21:00:15.716159Z"
    },
    "hidden": true
   },
   "outputs": [],
   "source": [
    "# Create two sets of simulated data follow normal distribution\n",
    "domain_x = np.linspace(-1, 1, 100)\n",
    "norm_dist0 = stats.norm.rvs(0,0.3, domain_x.shape)\n",
    "norm_dist1 = stats.norm.rvs(2,0.2, domain_x.shape)\n",
    "\n",
    "# Combine the two datasets into one\n",
    "two_dist = np.append(norm_dist0, norm_dist1)"
   ]
  },
  {
   "cell_type": "code",
   "execution_count": null,
   "metadata": {
    "ExecuteTime": {
     "end_time": "2021-10-08T21:00:16.443920Z",
     "start_time": "2021-10-08T21:00:15.747406Z"
    },
    "hidden": true
   },
   "outputs": [],
   "source": [
    "f,(ax0,ax1,ax2) = plt.subplots(3,2, figsize=(12,12))\n",
    "\n",
    "# Histogram\n",
    "ax=sns.histplot(x=norm_dist0, alpha=0.4, ax=ax0[0])\n",
    "ax.set_xlim(-1,3.5)\n",
    "ax=sns.histplot(x=norm_dist1, alpha=0.4, ax=ax1[0])\n",
    "ax.set_xlim(-1,3.5)\n",
    "ax=sns.histplot(x=two_dist, alpha=0.4, ax=ax2[0])\n",
    "ax.set_xlim(-1,3.5)\n",
    "\n",
    "# CDF\n",
    "ax=sns.kdeplot(x=norm_dist0, alpha=0.4, ax=ax0[1], cumulative=True)\n",
    "ax.set_xlim(-1,3.5)\n",
    "ax=sns.kdeplot(x=norm_dist1, alpha=0.4, ax=ax1[1], cumulative=True)\n",
    "ax.set_xlim(-1,3.5)\n",
    "ax=sns.kdeplot(x=two_dist, alpha=0.4, ax=ax2[1], cumulative=True)\n",
    "ax.set_xlim(-1,3.5)"
   ]
  },
  {
   "cell_type": "markdown",
   "metadata": {
    "heading_collapsed": true,
    "hidden": true
   },
   "source": [
    "## Relatively easy to view multiple distributions"
   ]
  },
  {
   "cell_type": "code",
   "execution_count": null,
   "metadata": {
    "ExecuteTime": {
     "end_time": "2021-10-08T21:00:16.448471Z",
     "start_time": "2021-10-08T21:00:16.445562Z"
    },
    "hidden": true
   },
   "outputs": [],
   "source": [
    "# Craete three datasets that follow normal distribution\n",
    "norm_dist0 = stats.norm.rvs(0,0.3,domain_x.shape)\n",
    "norm_dist1 = stats.norm.rvs(0,0.2,domain_x.shape)\n",
    "norm_dist2 = stats.norm.rvs(0.3,0.2,domain_x.shape)"
   ]
  },
  {
   "cell_type": "code",
   "execution_count": null,
   "metadata": {
    "ExecuteTime": {
     "end_time": "2021-10-08T21:00:16.806819Z",
     "start_time": "2021-10-08T21:00:16.450355Z"
    },
    "hidden": true
   },
   "outputs": [],
   "source": [
    "f,(ax0,ax1) = plt.subplots(2,1, figsize=(12,12))\n",
    "\n",
    "# Histogram\n",
    "ax=sns.histplot(x=norm_dist0, alpha=0.4, ax=ax0, color='red')\n",
    "ax=sns.histplot(x=norm_dist1, alpha=0.4, ax=ax0, color='yellow')\n",
    "ax=sns.histplot(x=norm_dist2, alpha=0.4, ax=ax0, color='blue')\n",
    "\n",
    "# CDF\n",
    "ax=sns.kdeplot(x=norm_dist0, alpha=0.4, ax=ax1, cumulative=True, color='red')\n",
    "ax=sns.kdeplot(x=norm_dist1, alpha=0.4, ax=ax1, cumulative=True, color='yellow')\n",
    "ax=sns.kdeplot(x=norm_dist2, alpha=0.4, ax=ax1, cumulative=True, color='blue')"
   ]
  },
  {
   "cell_type": "markdown",
   "metadata": {
    "heading_collapsed": true
   },
   "source": [
    "# Level Up: Skewness"
   ]
  },
  {
   "cell_type": "markdown",
   "metadata": {
    "hidden": true
   },
   "source": [
    "Probability distributions can have skew, meaning they have more mass further from the mean on one side of the distribution than another. A skew of zero is perfectly symmetrical about the mean.   \n",
    "\n",
    "![skew](images/skew.png)"
   ]
  },
  {
   "cell_type": "code",
   "execution_count": null,
   "metadata": {
    "ExecuteTime": {
     "end_time": "2021-10-08T21:00:16.812366Z",
     "start_time": "2021-10-08T21:00:16.808630Z"
    },
    "hidden": true
   },
   "outputs": [],
   "source": [
    "# We can check skewness with scipy\n",
    "z_curve = np.random.normal(0, 1, 1000)\n",
    "print(f'The skewness measure of z_curve: {stats.skew(z_curve)}')"
   ]
  },
  {
   "cell_type": "code",
   "execution_count": null,
   "metadata": {},
   "outputs": [],
   "source": [
    "# Plotting the distribution\n",
    "fig, ax = plt.subplots(1, 1)\n",
    "ax.hist(z_curve, density=True, histtype='stepfilled', alpha=0.2)\n",
    "plt.show()"
   ]
  },
  {
   "cell_type": "code",
   "execution_count": null,
   "metadata": {
    "ExecuteTime": {
     "end_time": "2021-10-08T21:00:16.818025Z",
     "start_time": "2021-10-08T21:00:16.814693Z"
    },
    "scrolled": true
   },
   "outputs": [],
   "source": [
    "# Check the skewness of a Chi Square Distribution\n",
    "chisquare = stats.chi2.rvs(df=10, size=500)\n",
    "print(f'The skewness measure of chi^2 distribution: \\n{stats.skew(chisquare)}\\n')"
   ]
  },
  {
   "cell_type": "code",
   "execution_count": null,
   "metadata": {
    "ExecuteTime": {
     "end_time": "2021-10-08T21:00:16.976720Z",
     "start_time": "2021-10-08T21:00:16.820148Z"
    }
   },
   "outputs": [],
   "source": [
    "# Plotting the Chi Square distribution\n",
    "fig, ax = plt.subplots(1, 1)\n",
    "ax.hist(chisquare, density=True, histtype='stepfilled', alpha=0.2)\n",
    "plt.show()"
   ]
  },
  {
   "cell_type": "markdown",
   "metadata": {
    "heading_collapsed": true
   },
   "source": [
    "# Level Up: Kurtosis"
   ]
  },
  {
   "cell_type": "markdown",
   "metadata": {
    "hidden": true
   },
   "source": [
    "![kurtosis](images/kurtosis.png)"
   ]
  },
  {
   "cell_type": "code",
   "execution_count": null,
   "metadata": {
    "ExecuteTime": {
     "end_time": "2021-10-08T21:00:17.382143Z",
     "start_time": "2021-10-08T21:00:17.379232Z"
    }
   },
   "outputs": [],
   "source": [
    "# Check kurtosis with scipy\n",
    "print(f'The kurtosis measure of z_curve: {stats.kurtosis(z_curve)}')"
   ]
  },
  {
   "cell_type": "code",
   "execution_count": null,
   "metadata": {
    "ExecuteTime": {
     "end_time": "2021-10-08T21:00:17.406828Z",
     "start_time": "2021-10-08T21:00:17.404056Z"
    }
   },
   "outputs": [],
   "source": [
    "# Check kurtosis for Chi Square distribution\n",
    "print(f'The kurtosis meausre of Chi^2 distribution: {stats.kurtosis(chisquare)}')"
   ]
  },
  {
   "cell_type": "code",
   "execution_count": null,
   "metadata": {},
   "outputs": [],
   "source": []
  }
 ],
 "metadata": {
  "hide_input": false,
  "kernelspec": {
   "display_name": "Python 3",
   "language": "python",
   "name": "python3"
  },
  "language_info": {
   "codemirror_mode": {
    "name": "ipython",
    "version": 3
   },
   "file_extension": ".py",
   "mimetype": "text/x-python",
   "name": "python",
   "nbconvert_exporter": "python",
   "pygments_lexer": "ipython3",
   "version": "3.8.5"
  },
  "latex_envs": {
   "LaTeX_envs_menu_present": true,
   "autoclose": false,
   "autocomplete": true,
   "bibliofile": "biblio.bib",
   "cite_by": "apalike",
   "current_citInitial": 1,
   "eqLabelWithNumbers": true,
   "eqNumInitial": 1,
   "hotkeys": {
    "equation": "Ctrl-E",
    "itemize": "Ctrl-I"
   },
   "labels_anchors": false,
   "latex_user_defs": false,
   "report_style_numbering": false,
   "user_envs_cfg": false
  },
  "nbTranslate": {
   "displayLangs": [
    "*"
   ],
   "hotkey": "alt-t",
   "langInMainMenu": true,
   "sourceLang": "en",
   "targetLang": "fr",
   "useGoogleTranslate": true
  },
  "toc": {
   "base_numbering": 1,
   "nav_menu": {},
   "number_sections": true,
   "sideBar": true,
   "skip_h1_title": false,
   "title_cell": "Table of Contents",
   "title_sidebar": "TOC",
   "toc_cell": true,
   "toc_position": {
    "height": "calc(100% - 180px)",
    "left": "10px",
    "top": "150px",
    "width": "219px"
   },
   "toc_section_display": true,
   "toc_window_display": false
  }
 },
 "nbformat": 4,
 "nbformat_minor": 4
}
