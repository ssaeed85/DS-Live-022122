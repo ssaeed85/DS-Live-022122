{
 "cells": [
  {
   "cell_type": "markdown",
   "metadata": {
    "heading_collapsed": true
   },
   "source": [
    "# Aggregating and Combining `pandas` DataFrames"
   ]
  },
  {
   "cell_type": "markdown",
   "metadata": {
    "heading_collapsed": true,
    "hidden": true
   },
   "source": [
    "## Objectives"
   ]
  },
  {
   "cell_type": "markdown",
   "metadata": {
    "hidden": true
   },
   "source": [
    "- Use GroupBy objects to organize and aggregate data\n",
    "- Create pivot tables from DataFrames\n",
    "- Combine DataFrames by merging and appending "
   ]
  },
  {
   "cell_type": "markdown",
   "metadata": {},
   "source": [
    "## Set Up"
   ]
  },
  {
   "cell_type": "markdown",
   "metadata": {
    "hidden": true
   },
   "source": [
    "Surprise, surprise... we're still working with the Austin Animal Center Data! Let's start with Outcomes"
   ]
  },
  {
   "cell_type": "code",
   "execution_count": 1,
   "metadata": {
    "ExecuteTime": {
     "end_time": "2022-03-02T00:16:11.959414Z",
     "start_time": "2022-03-02T00:16:11.308061Z"
    }
   },
   "outputs": [],
   "source": [
    "# Imports\n",
    "import pandas as pd\n",
    "import numpy as np\n",
    "import matplotlib.pyplot as plt"
   ]
  },
  {
   "cell_type": "code",
   "execution_count": 2,
   "metadata": {
    "ExecuteTime": {
     "end_time": "2022-03-02T00:16:24.716356Z",
     "start_time": "2022-03-02T00:16:11.960415Z"
    }
   },
   "outputs": [],
   "source": [
    "# Read in the Outcomes data\n",
    "# Let's be sure to parse dates for the DateTime and Date of Birth columns\n",
    "outcomes_df = pd.read_csv('data/Austin_Animal_Center_Outcomes_022822.csv',\n",
    "                         parse_dates = ['DateTime','Date of Birth'])"
   ]
  },
  {
   "cell_type": "code",
   "execution_count": 3,
   "metadata": {
    "ExecuteTime": {
     "end_time": "2022-03-02T00:16:24.732360Z",
     "start_time": "2022-03-02T00:16:24.717358Z"
    }
   },
   "outputs": [
    {
     "data": {
      "text/html": [
       "<div>\n",
       "<style scoped>\n",
       "    .dataframe tbody tr th:only-of-type {\n",
       "        vertical-align: middle;\n",
       "    }\n",
       "\n",
       "    .dataframe tbody tr th {\n",
       "        vertical-align: top;\n",
       "    }\n",
       "\n",
       "    .dataframe thead th {\n",
       "        text-align: right;\n",
       "    }\n",
       "</style>\n",
       "<table border=\"1\" class=\"dataframe\">\n",
       "  <thead>\n",
       "    <tr style=\"text-align: right;\">\n",
       "      <th></th>\n",
       "      <th>Animal ID</th>\n",
       "      <th>Name</th>\n",
       "      <th>DateTime</th>\n",
       "      <th>MonthYear</th>\n",
       "      <th>Date of Birth</th>\n",
       "      <th>Outcome Type</th>\n",
       "      <th>Outcome Subtype</th>\n",
       "      <th>Animal Type</th>\n",
       "      <th>Sex upon Outcome</th>\n",
       "      <th>Age upon Outcome</th>\n",
       "      <th>Breed</th>\n",
       "      <th>Color</th>\n",
       "    </tr>\n",
       "  </thead>\n",
       "  <tbody>\n",
       "    <tr>\n",
       "      <th>0</th>\n",
       "      <td>A794011</td>\n",
       "      <td>Chunk</td>\n",
       "      <td>2019-05-08 18:20:00</td>\n",
       "      <td>May 2019</td>\n",
       "      <td>2017-05-02</td>\n",
       "      <td>Rto-Adopt</td>\n",
       "      <td>NaN</td>\n",
       "      <td>Cat</td>\n",
       "      <td>Neutered Male</td>\n",
       "      <td>2 years</td>\n",
       "      <td>Domestic Shorthair Mix</td>\n",
       "      <td>Brown Tabby/White</td>\n",
       "    </tr>\n",
       "    <tr>\n",
       "      <th>1</th>\n",
       "      <td>A776359</td>\n",
       "      <td>Gizmo</td>\n",
       "      <td>2018-07-18 16:02:00</td>\n",
       "      <td>Jul 2018</td>\n",
       "      <td>2017-07-12</td>\n",
       "      <td>Adoption</td>\n",
       "      <td>NaN</td>\n",
       "      <td>Dog</td>\n",
       "      <td>Neutered Male</td>\n",
       "      <td>1 year</td>\n",
       "      <td>Chihuahua Shorthair Mix</td>\n",
       "      <td>White/Brown</td>\n",
       "    </tr>\n",
       "    <tr>\n",
       "      <th>2</th>\n",
       "      <td>A821648</td>\n",
       "      <td>NaN</td>\n",
       "      <td>2020-08-16 11:38:00</td>\n",
       "      <td>Aug 2020</td>\n",
       "      <td>2019-08-16</td>\n",
       "      <td>Euthanasia</td>\n",
       "      <td>NaN</td>\n",
       "      <td>Other</td>\n",
       "      <td>Unknown</td>\n",
       "      <td>1 year</td>\n",
       "      <td>Raccoon</td>\n",
       "      <td>Gray</td>\n",
       "    </tr>\n",
       "    <tr>\n",
       "      <th>3</th>\n",
       "      <td>A720371</td>\n",
       "      <td>Moose</td>\n",
       "      <td>2016-02-13 17:59:00</td>\n",
       "      <td>Feb 2016</td>\n",
       "      <td>2015-10-08</td>\n",
       "      <td>Adoption</td>\n",
       "      <td>NaN</td>\n",
       "      <td>Dog</td>\n",
       "      <td>Neutered Male</td>\n",
       "      <td>4 months</td>\n",
       "      <td>Anatol Shepherd/Labrador Retriever</td>\n",
       "      <td>Buff</td>\n",
       "    </tr>\n",
       "    <tr>\n",
       "      <th>4</th>\n",
       "      <td>A674754</td>\n",
       "      <td>NaN</td>\n",
       "      <td>2014-03-18 11:47:00</td>\n",
       "      <td>Mar 2014</td>\n",
       "      <td>2014-03-12</td>\n",
       "      <td>Transfer</td>\n",
       "      <td>Partner</td>\n",
       "      <td>Cat</td>\n",
       "      <td>Intact Male</td>\n",
       "      <td>6 days</td>\n",
       "      <td>Domestic Shorthair Mix</td>\n",
       "      <td>Orange Tabby</td>\n",
       "    </tr>\n",
       "  </tbody>\n",
       "</table>\n",
       "</div>"
      ],
      "text/plain": [
       "  Animal ID   Name            DateTime MonthYear Date of Birth Outcome Type  \\\n",
       "0   A794011  Chunk 2019-05-08 18:20:00  May 2019    2017-05-02    Rto-Adopt   \n",
       "1   A776359  Gizmo 2018-07-18 16:02:00  Jul 2018    2017-07-12     Adoption   \n",
       "2   A821648    NaN 2020-08-16 11:38:00  Aug 2020    2019-08-16   Euthanasia   \n",
       "3   A720371  Moose 2016-02-13 17:59:00  Feb 2016    2015-10-08     Adoption   \n",
       "4   A674754    NaN 2014-03-18 11:47:00  Mar 2014    2014-03-12     Transfer   \n",
       "\n",
       "  Outcome Subtype Animal Type Sex upon Outcome Age upon Outcome  \\\n",
       "0             NaN         Cat    Neutered Male          2 years   \n",
       "1             NaN         Dog    Neutered Male           1 year   \n",
       "2             NaN       Other          Unknown           1 year   \n",
       "3             NaN         Dog    Neutered Male         4 months   \n",
       "4         Partner         Cat      Intact Male           6 days   \n",
       "\n",
       "                                Breed              Color  \n",
       "0              Domestic Shorthair Mix  Brown Tabby/White  \n",
       "1             Chihuahua Shorthair Mix        White/Brown  \n",
       "2                             Raccoon               Gray  \n",
       "3  Anatol Shepherd/Labrador Retriever               Buff  \n",
       "4              Domestic Shorthair Mix       Orange Tabby  "
      ]
     },
     "execution_count": 3,
     "metadata": {},
     "output_type": "execute_result"
    }
   ],
   "source": [
    "# Check it\n",
    "outcomes_df.head()"
   ]
  },
  {
   "cell_type": "code",
   "execution_count": 4,
   "metadata": {
    "ExecuteTime": {
     "end_time": "2022-03-02T00:16:24.748364Z",
     "start_time": "2022-03-02T00:16:24.733361Z"
    }
   },
   "outputs": [],
   "source": [
    "# Let's create our Age in Days column\n",
    "outcomes_df['Age in Days'] = (outcomes_df['DateTime'].dt.normalize()- outcomes_df['Date of Birth']).dt.days"
   ]
  },
  {
   "cell_type": "code",
   "execution_count": 5,
   "metadata": {
    "ExecuteTime": {
     "end_time": "2022-03-02T00:16:24.973463Z",
     "start_time": "2022-03-02T00:16:24.749364Z"
    }
   },
   "outputs": [
    {
     "ename": "AttributeError",
     "evalue": "'Series' object has no attribute 'days'",
     "output_type": "error",
     "traceback": [
      "\u001b[1;31m---------------------------------------------------------------------------\u001b[0m",
      "\u001b[1;31mAttributeError\u001b[0m                            Traceback (most recent call last)",
      "\u001b[1;32m<ipython-input-5-7ffc4b3206a2>\u001b[0m in \u001b[0;36m<module>\u001b[1;34m\u001b[0m\n\u001b[1;32m----> 1\u001b[1;33m \u001b[0moutcomes_df\u001b[0m\u001b[1;33m[\u001b[0m\u001b[1;34m'DateTime'\u001b[0m\u001b[1;33m]\u001b[0m\u001b[1;33m.\u001b[0m\u001b[0mdt\u001b[0m\u001b[1;33m.\u001b[0m\u001b[0mnormalize\u001b[0m\u001b[1;33m(\u001b[0m\u001b[1;33m)\u001b[0m\u001b[1;33m.\u001b[0m\u001b[0mdays\u001b[0m\u001b[1;33m\u001b[0m\u001b[1;33m\u001b[0m\u001b[0m\n\u001b[0m",
      "\u001b[1;32m~\\anaconda3\\envs\\learn-env\\lib\\site-packages\\pandas\\core\\generic.py\u001b[0m in \u001b[0;36m__getattr__\u001b[1;34m(self, name)\u001b[0m\n\u001b[0;32m   5137\u001b[0m             \u001b[1;32mif\u001b[0m \u001b[0mself\u001b[0m\u001b[1;33m.\u001b[0m\u001b[0m_info_axis\u001b[0m\u001b[1;33m.\u001b[0m\u001b[0m_can_hold_identifiers_and_holds_name\u001b[0m\u001b[1;33m(\u001b[0m\u001b[0mname\u001b[0m\u001b[1;33m)\u001b[0m\u001b[1;33m:\u001b[0m\u001b[1;33m\u001b[0m\u001b[1;33m\u001b[0m\u001b[0m\n\u001b[0;32m   5138\u001b[0m                 \u001b[1;32mreturn\u001b[0m \u001b[0mself\u001b[0m\u001b[1;33m[\u001b[0m\u001b[0mname\u001b[0m\u001b[1;33m]\u001b[0m\u001b[1;33m\u001b[0m\u001b[1;33m\u001b[0m\u001b[0m\n\u001b[1;32m-> 5139\u001b[1;33m             \u001b[1;32mreturn\u001b[0m \u001b[0mobject\u001b[0m\u001b[1;33m.\u001b[0m\u001b[0m__getattribute__\u001b[0m\u001b[1;33m(\u001b[0m\u001b[0mself\u001b[0m\u001b[1;33m,\u001b[0m \u001b[0mname\u001b[0m\u001b[1;33m)\u001b[0m\u001b[1;33m\u001b[0m\u001b[1;33m\u001b[0m\u001b[0m\n\u001b[0m\u001b[0;32m   5140\u001b[0m \u001b[1;33m\u001b[0m\u001b[0m\n\u001b[0;32m   5141\u001b[0m     \u001b[1;32mdef\u001b[0m \u001b[0m__setattr__\u001b[0m\u001b[1;33m(\u001b[0m\u001b[0mself\u001b[0m\u001b[1;33m,\u001b[0m \u001b[0mname\u001b[0m\u001b[1;33m:\u001b[0m \u001b[0mstr\u001b[0m\u001b[1;33m,\u001b[0m \u001b[0mvalue\u001b[0m\u001b[1;33m)\u001b[0m \u001b[1;33m->\u001b[0m \u001b[1;32mNone\u001b[0m\u001b[1;33m:\u001b[0m\u001b[1;33m\u001b[0m\u001b[1;33m\u001b[0m\u001b[0m\n",
      "\u001b[1;31mAttributeError\u001b[0m: 'Series' object has no attribute 'days'"
     ]
    }
   ],
   "source": [
    "outcomes_df['DateTime'].dt.normalize().days"
   ]
  },
  {
   "cell_type": "code",
   "execution_count": null,
   "metadata": {
    "ExecuteTime": {
     "end_time": "2022-03-02T00:16:24.990419Z",
     "start_time": "2022-03-02T00:16:11.975Z"
    }
   },
   "outputs": [],
   "source": [
    "# Grab just the integer here...\n"
   ]
  },
  {
   "cell_type": "code",
   "execution_count": null,
   "metadata": {
    "ExecuteTime": {
     "end_time": "2022-03-02T00:16:24.991420Z",
     "start_time": "2022-03-02T00:16:12.639Z"
    }
   },
   "outputs": [],
   "source": [
    "# Sanity check\n",
    "outcomes_df.info()"
   ]
  },
  {
   "cell_type": "markdown",
   "metadata": {
    "heading_collapsed": true
   },
   "source": [
    "## Aggregating over DataFrames: `.groupby()`"
   ]
  },
  {
   "cell_type": "markdown",
   "metadata": {
    "hidden": true
   },
   "source": [
    "Those of you familiar with SQL have probably used the GROUP BY command. (And if you haven't, you'll see it very soon!) Pandas has this, too.\n",
    "\n",
    "The `.groupby()` method is especially useful for aggregate functions applied to the data grouped in particular ways."
   ]
  },
  {
   "cell_type": "code",
   "execution_count": null,
   "metadata": {
    "ExecuteTime": {
     "end_time": "2022-03-02T00:16:24.992437Z",
     "start_time": "2022-03-02T00:16:13.149Z"
    },
    "hidden": true
   },
   "outputs": [],
   "source": [
    "# Just using groupby outputs some weird GroupBy object... not helpful\n",
    "outcomes_df.groupby(by='Animal Type')"
   ]
  },
  {
   "cell_type": "code",
   "execution_count": 21,
   "metadata": {
    "ExecuteTime": {
     "end_time": "2022-03-01T19:51:43.195141Z",
     "start_time": "2022-03-01T19:51:42.892582Z"
    },
    "hidden": true
   },
   "outputs": [
    {
     "data": {
      "text/html": [
       "<div>\n",
       "<style scoped>\n",
       "    .dataframe tbody tr th:only-of-type {\n",
       "        vertical-align: middle;\n",
       "    }\n",
       "\n",
       "    .dataframe tbody tr th {\n",
       "        vertical-align: top;\n",
       "    }\n",
       "\n",
       "    .dataframe thead th {\n",
       "        text-align: right;\n",
       "    }\n",
       "</style>\n",
       "<table border=\"1\" class=\"dataframe\">\n",
       "  <thead>\n",
       "    <tr style=\"text-align: right;\">\n",
       "      <th></th>\n",
       "      <th>Animal ID</th>\n",
       "      <th>Name</th>\n",
       "      <th>DateTime</th>\n",
       "      <th>MonthYear</th>\n",
       "      <th>Date of Birth</th>\n",
       "      <th>Outcome Type</th>\n",
       "      <th>Outcome Subtype</th>\n",
       "      <th>Sex upon Outcome</th>\n",
       "      <th>Age upon Outcome</th>\n",
       "      <th>Breed</th>\n",
       "      <th>Color</th>\n",
       "      <th>Age in Days</th>\n",
       "    </tr>\n",
       "    <tr>\n",
       "      <th>Animal Type</th>\n",
       "      <th></th>\n",
       "      <th></th>\n",
       "      <th></th>\n",
       "      <th></th>\n",
       "      <th></th>\n",
       "      <th></th>\n",
       "      <th></th>\n",
       "      <th></th>\n",
       "      <th></th>\n",
       "      <th></th>\n",
       "      <th></th>\n",
       "      <th></th>\n",
       "    </tr>\n",
       "  </thead>\n",
       "  <tbody>\n",
       "    <tr>\n",
       "      <th>Bird</th>\n",
       "      <td>636</td>\n",
       "      <td>145</td>\n",
       "      <td>636</td>\n",
       "      <td>636</td>\n",
       "      <td>636</td>\n",
       "      <td>636</td>\n",
       "      <td>380</td>\n",
       "      <td>636</td>\n",
       "      <td>636</td>\n",
       "      <td>636</td>\n",
       "      <td>636</td>\n",
       "      <td>636</td>\n",
       "    </tr>\n",
       "    <tr>\n",
       "      <th>Cat</th>\n",
       "      <td>52092</td>\n",
       "      <td>30380</td>\n",
       "      <td>52092</td>\n",
       "      <td>52092</td>\n",
       "      <td>52092</td>\n",
       "      <td>52088</td>\n",
       "      <td>31815</td>\n",
       "      <td>52092</td>\n",
       "      <td>52091</td>\n",
       "      <td>52092</td>\n",
       "      <td>52092</td>\n",
       "      <td>52092</td>\n",
       "    </tr>\n",
       "    <tr>\n",
       "      <th>Dog</th>\n",
       "      <td>77091</td>\n",
       "      <td>64516</td>\n",
       "      <td>77091</td>\n",
       "      <td>77091</td>\n",
       "      <td>77091</td>\n",
       "      <td>77076</td>\n",
       "      <td>24590</td>\n",
       "      <td>77089</td>\n",
       "      <td>77089</td>\n",
       "      <td>77091</td>\n",
       "      <td>77091</td>\n",
       "      <td>77091</td>\n",
       "    </tr>\n",
       "    <tr>\n",
       "      <th>Livestock</th>\n",
       "      <td>25</td>\n",
       "      <td>3</td>\n",
       "      <td>25</td>\n",
       "      <td>25</td>\n",
       "      <td>25</td>\n",
       "      <td>25</td>\n",
       "      <td>19</td>\n",
       "      <td>25</td>\n",
       "      <td>25</td>\n",
       "      <td>25</td>\n",
       "      <td>25</td>\n",
       "      <td>25</td>\n",
       "    </tr>\n",
       "    <tr>\n",
       "      <th>Other</th>\n",
       "      <td>7253</td>\n",
       "      <td>1051</td>\n",
       "      <td>7253</td>\n",
       "      <td>7253</td>\n",
       "      <td>7253</td>\n",
       "      <td>7248</td>\n",
       "      <td>5849</td>\n",
       "      <td>7253</td>\n",
       "      <td>7251</td>\n",
       "      <td>7253</td>\n",
       "      <td>7253</td>\n",
       "      <td>7253</td>\n",
       "    </tr>\n",
       "  </tbody>\n",
       "</table>\n",
       "</div>"
      ],
      "text/plain": [
       "             Animal ID   Name  DateTime  MonthYear  Date of Birth  \\\n",
       "Animal Type                                                         \n",
       "Bird               636    145       636        636            636   \n",
       "Cat              52092  30380     52092      52092          52092   \n",
       "Dog              77091  64516     77091      77091          77091   \n",
       "Livestock           25      3        25         25             25   \n",
       "Other             7253   1051      7253       7253           7253   \n",
       "\n",
       "             Outcome Type  Outcome Subtype  Sex upon Outcome  \\\n",
       "Animal Type                                                    \n",
       "Bird                  636              380               636   \n",
       "Cat                 52088            31815             52092   \n",
       "Dog                 77076            24590             77089   \n",
       "Livestock              25               19                25   \n",
       "Other                7248             5849              7253   \n",
       "\n",
       "             Age upon Outcome  Breed  Color  Age in Days  \n",
       "Animal Type                                               \n",
       "Bird                      636    636    636          636  \n",
       "Cat                     52091  52092  52092        52092  \n",
       "Dog                     77089  77091  77091        77091  \n",
       "Livestock                  25     25     25           25  \n",
       "Other                    7251   7253   7253         7253  "
      ]
     },
     "execution_count": 21,
     "metadata": {},
     "output_type": "execute_result"
    }
   ],
   "source": [
    "# But if we add an aggregation function to tell it what to do with the other cols...\n",
    "outcomes_df.groupby(by='Animal Type').count()"
   ]
  },
  {
   "cell_type": "code",
   "execution_count": 22,
   "metadata": {
    "ExecuteTime": {
     "end_time": "2022-03-01T19:52:44.662586Z",
     "start_time": "2022-03-01T19:52:44.510534Z"
    }
   },
   "outputs": [
    {
     "data": {
      "text/html": [
       "<div>\n",
       "<style scoped>\n",
       "    .dataframe tbody tr th:only-of-type {\n",
       "        vertical-align: middle;\n",
       "    }\n",
       "\n",
       "    .dataframe tbody tr th {\n",
       "        vertical-align: top;\n",
       "    }\n",
       "\n",
       "    .dataframe thead th {\n",
       "        text-align: right;\n",
       "    }\n",
       "</style>\n",
       "<table border=\"1\" class=\"dataframe\">\n",
       "  <thead>\n",
       "    <tr style=\"text-align: right;\">\n",
       "      <th></th>\n",
       "      <th>Age in Days</th>\n",
       "    </tr>\n",
       "    <tr>\n",
       "      <th>Animal Type</th>\n",
       "      <th></th>\n",
       "    </tr>\n",
       "  </thead>\n",
       "  <tbody>\n",
       "    <tr>\n",
       "      <th>Bird</th>\n",
       "      <td>533.716981</td>\n",
       "    </tr>\n",
       "    <tr>\n",
       "      <th>Cat</th>\n",
       "      <td>532.816939</td>\n",
       "    </tr>\n",
       "    <tr>\n",
       "      <th>Dog</th>\n",
       "      <td>1004.114514</td>\n",
       "    </tr>\n",
       "    <tr>\n",
       "      <th>Livestock</th>\n",
       "      <td>503.800000</td>\n",
       "    </tr>\n",
       "    <tr>\n",
       "      <th>Other</th>\n",
       "      <td>479.143665</td>\n",
       "    </tr>\n",
       "  </tbody>\n",
       "</table>\n",
       "</div>"
      ],
      "text/plain": [
       "             Age in Days\n",
       "Animal Type             \n",
       "Bird          533.716981\n",
       "Cat           532.816939\n",
       "Dog          1004.114514\n",
       "Livestock     503.800000\n",
       "Other         479.143665"
      ]
     },
     "execution_count": 22,
     "metadata": {},
     "output_type": "execute_result"
    }
   ],
   "source": [
    "outcomes_df.groupby(by='Animal Type').mean()"
   ]
  },
  {
   "cell_type": "markdown",
   "metadata": {
    "heading_collapsed": true,
    "hidden": true
   },
   "source": [
    "## `.groups` and `.get_group()`"
   ]
  },
  {
   "cell_type": "markdown",
   "metadata": {
    "hidden": true
   },
   "source": [
    "Once we know we are working with a type of object, it opens up a suite of attributes and methods. One attribute we can look at is groups."
   ]
  },
  {
   "cell_type": "code",
   "execution_count": 6,
   "metadata": {
    "ExecuteTime": {
     "end_time": "2022-03-02T00:35:53.718444Z",
     "start_time": "2022-03-02T00:35:53.688438Z"
    },
    "hidden": true
   },
   "outputs": [
    {
     "data": {
      "text/html": [
       "<div>\n",
       "<style scoped>\n",
       "    .dataframe tbody tr th:only-of-type {\n",
       "        vertical-align: middle;\n",
       "    }\n",
       "\n",
       "    .dataframe tbody tr th {\n",
       "        vertical-align: top;\n",
       "    }\n",
       "\n",
       "    .dataframe thead th {\n",
       "        text-align: right;\n",
       "    }\n",
       "</style>\n",
       "<table border=\"1\" class=\"dataframe\">\n",
       "  <thead>\n",
       "    <tr style=\"text-align: right;\">\n",
       "      <th></th>\n",
       "      <th>Age in Days</th>\n",
       "    </tr>\n",
       "    <tr>\n",
       "      <th>Animal Type</th>\n",
       "      <th></th>\n",
       "    </tr>\n",
       "  </thead>\n",
       "  <tbody>\n",
       "    <tr>\n",
       "      <th>Bird</th>\n",
       "      <td>533.716981</td>\n",
       "    </tr>\n",
       "    <tr>\n",
       "      <th>Cat</th>\n",
       "      <td>532.816939</td>\n",
       "    </tr>\n",
       "    <tr>\n",
       "      <th>Dog</th>\n",
       "      <td>1004.114514</td>\n",
       "    </tr>\n",
       "    <tr>\n",
       "      <th>Livestock</th>\n",
       "      <td>503.800000</td>\n",
       "    </tr>\n",
       "    <tr>\n",
       "      <th>Other</th>\n",
       "      <td>479.143665</td>\n",
       "    </tr>\n",
       "  </tbody>\n",
       "</table>\n",
       "</div>"
      ],
      "text/plain": [
       "             Age in Days\n",
       "Animal Type             \n",
       "Bird          533.716981\n",
       "Cat           532.816939\n",
       "Dog          1004.114514\n",
       "Livestock     503.800000\n",
       "Other         479.143665"
      ]
     },
     "execution_count": 6,
     "metadata": {},
     "output_type": "execute_result"
    }
   ],
   "source": [
    "# This returns each group indexed by the group name, e.g. 'Bird',\n",
    "# along with the row indices of each value\n",
    "outcomes_df.groupby(by='Animal Type').mean()"
   ]
  },
  {
   "cell_type": "code",
   "execution_count": 25,
   "metadata": {
    "ExecuteTime": {
     "end_time": "2022-03-01T19:54:09.464813Z",
     "start_time": "2022-03-01T19:54:09.345389Z"
    },
    "collapsed": true,
    "hidden": true
   },
   "outputs": [
    {
     "data": {
      "text/html": [
       "<div>\n",
       "<style scoped>\n",
       "    .dataframe tbody tr th:only-of-type {\n",
       "        vertical-align: middle;\n",
       "    }\n",
       "\n",
       "    .dataframe tbody tr th {\n",
       "        vertical-align: top;\n",
       "    }\n",
       "\n",
       "    .dataframe thead th {\n",
       "        text-align: right;\n",
       "    }\n",
       "</style>\n",
       "<table border=\"1\" class=\"dataframe\">\n",
       "  <thead>\n",
       "    <tr style=\"text-align: right;\">\n",
       "      <th></th>\n",
       "      <th>Animal ID</th>\n",
       "      <th>Name</th>\n",
       "      <th>DateTime</th>\n",
       "      <th>MonthYear</th>\n",
       "      <th>Date of Birth</th>\n",
       "      <th>Outcome Type</th>\n",
       "      <th>Outcome Subtype</th>\n",
       "      <th>Animal Type</th>\n",
       "      <th>Sex upon Outcome</th>\n",
       "      <th>Age upon Outcome</th>\n",
       "      <th>Breed</th>\n",
       "      <th>Color</th>\n",
       "      <th>Age in Days</th>\n",
       "    </tr>\n",
       "  </thead>\n",
       "  <tbody>\n",
       "    <tr>\n",
       "      <th>206</th>\n",
       "      <td>A720727</td>\n",
       "      <td>Rooster 11</td>\n",
       "      <td>2016-03-08 13:47:00</td>\n",
       "      <td>Mar 2016</td>\n",
       "      <td>2015-02-14</td>\n",
       "      <td>Adoption</td>\n",
       "      <td>NaN</td>\n",
       "      <td>Bird</td>\n",
       "      <td>Intact Male</td>\n",
       "      <td>1 year</td>\n",
       "      <td>Chicken Mix</td>\n",
       "      <td>Black/Red</td>\n",
       "      <td>388</td>\n",
       "    </tr>\n",
       "    <tr>\n",
       "      <th>534</th>\n",
       "      <td>A720734</td>\n",
       "      <td>Rooster 18</td>\n",
       "      <td>2016-03-08 15:07:00</td>\n",
       "      <td>Mar 2016</td>\n",
       "      <td>2015-02-14</td>\n",
       "      <td>Adoption</td>\n",
       "      <td>NaN</td>\n",
       "      <td>Bird</td>\n",
       "      <td>Intact Male</td>\n",
       "      <td>1 year</td>\n",
       "      <td>Chicken Mix</td>\n",
       "      <td>Black/Chocolate</td>\n",
       "      <td>388</td>\n",
       "    </tr>\n",
       "    <tr>\n",
       "      <th>985</th>\n",
       "      <td>A779213</td>\n",
       "      <td>NaN</td>\n",
       "      <td>2018-09-07 11:17:00</td>\n",
       "      <td>Sep 2018</td>\n",
       "      <td>2017-08-27</td>\n",
       "      <td>Adoption</td>\n",
       "      <td>Foster</td>\n",
       "      <td>Bird</td>\n",
       "      <td>Unknown</td>\n",
       "      <td>1 year</td>\n",
       "      <td>Quaker Mix</td>\n",
       "      <td>Green/Silver</td>\n",
       "      <td>376</td>\n",
       "    </tr>\n",
       "    <tr>\n",
       "      <th>1027</th>\n",
       "      <td>A760051</td>\n",
       "      <td>NaN</td>\n",
       "      <td>2017-10-20 12:40:00</td>\n",
       "      <td>Oct 2017</td>\n",
       "      <td>2016-10-11</td>\n",
       "      <td>Adoption</td>\n",
       "      <td>NaN</td>\n",
       "      <td>Bird</td>\n",
       "      <td>Unknown</td>\n",
       "      <td>1 year</td>\n",
       "      <td>Quaker</td>\n",
       "      <td>Green/Gray</td>\n",
       "      <td>374</td>\n",
       "    </tr>\n",
       "    <tr>\n",
       "      <th>1284</th>\n",
       "      <td>A790172</td>\n",
       "      <td>NaN</td>\n",
       "      <td>2019-03-07 00:00:00</td>\n",
       "      <td>Mar 2019</td>\n",
       "      <td>2018-03-05</td>\n",
       "      <td>Euthanasia</td>\n",
       "      <td>Suffering</td>\n",
       "      <td>Bird</td>\n",
       "      <td>Unknown</td>\n",
       "      <td>1 year</td>\n",
       "      <td>Chicken Mix</td>\n",
       "      <td>White/Red</td>\n",
       "      <td>367</td>\n",
       "    </tr>\n",
       "    <tr>\n",
       "      <th>...</th>\n",
       "      <td>...</td>\n",
       "      <td>...</td>\n",
       "      <td>...</td>\n",
       "      <td>...</td>\n",
       "      <td>...</td>\n",
       "      <td>...</td>\n",
       "      <td>...</td>\n",
       "      <td>...</td>\n",
       "      <td>...</td>\n",
       "      <td>...</td>\n",
       "      <td>...</td>\n",
       "      <td>...</td>\n",
       "      <td>...</td>\n",
       "    </tr>\n",
       "    <tr>\n",
       "      <th>136331</th>\n",
       "      <td>A851000</td>\n",
       "      <td>A851000</td>\n",
       "      <td>2022-02-03 16:39:00</td>\n",
       "      <td>Feb 2022</td>\n",
       "      <td>2020-02-03</td>\n",
       "      <td>Euthanasia</td>\n",
       "      <td>Suffering</td>\n",
       "      <td>Bird</td>\n",
       "      <td>Unknown</td>\n",
       "      <td>2 years</td>\n",
       "      <td>Pigeon</td>\n",
       "      <td>Gray/White</td>\n",
       "      <td>731</td>\n",
       "    </tr>\n",
       "    <tr>\n",
       "      <th>136332</th>\n",
       "      <td>A850997</td>\n",
       "      <td>A850997</td>\n",
       "      <td>2022-02-03 16:38:00</td>\n",
       "      <td>Feb 2022</td>\n",
       "      <td>2020-02-03</td>\n",
       "      <td>Euthanasia</td>\n",
       "      <td>Suffering</td>\n",
       "      <td>Bird</td>\n",
       "      <td>Unknown</td>\n",
       "      <td>2 years</td>\n",
       "      <td>Pigeon</td>\n",
       "      <td>Gray/White</td>\n",
       "      <td>731</td>\n",
       "    </tr>\n",
       "    <tr>\n",
       "      <th>136376</th>\n",
       "      <td>A850996</td>\n",
       "      <td>Yukon Jack</td>\n",
       "      <td>2022-02-04 09:52:00</td>\n",
       "      <td>Feb 2022</td>\n",
       "      <td>2019-02-03</td>\n",
       "      <td>Transfer</td>\n",
       "      <td>Partner</td>\n",
       "      <td>Bird</td>\n",
       "      <td>Intact Male</td>\n",
       "      <td>3 years</td>\n",
       "      <td>Falcon</td>\n",
       "      <td>Brown/White</td>\n",
       "      <td>1097</td>\n",
       "    </tr>\n",
       "    <tr>\n",
       "      <th>136463</th>\n",
       "      <td>A851114</td>\n",
       "      <td>NaN</td>\n",
       "      <td>2022-02-09 15:32:00</td>\n",
       "      <td>Feb 2022</td>\n",
       "      <td>2021-02-06</td>\n",
       "      <td>Transfer</td>\n",
       "      <td>Partner</td>\n",
       "      <td>Bird</td>\n",
       "      <td>Intact Male</td>\n",
       "      <td>1 year</td>\n",
       "      <td>Chicken</td>\n",
       "      <td>Tricolor/White</td>\n",
       "      <td>368</td>\n",
       "    </tr>\n",
       "    <tr>\n",
       "      <th>136501</th>\n",
       "      <td>A851113</td>\n",
       "      <td>NaN</td>\n",
       "      <td>2022-02-10 08:07:00</td>\n",
       "      <td>Feb 2022</td>\n",
       "      <td>2022-01-06</td>\n",
       "      <td>Transfer</td>\n",
       "      <td>Partner</td>\n",
       "      <td>Bird</td>\n",
       "      <td>Unknown</td>\n",
       "      <td>5 weeks</td>\n",
       "      <td>Chicken</td>\n",
       "      <td>Yellow/White</td>\n",
       "      <td>35</td>\n",
       "    </tr>\n",
       "  </tbody>\n",
       "</table>\n",
       "<p>636 rows × 13 columns</p>\n",
       "</div>"
      ],
      "text/plain": [
       "       Animal ID        Name            DateTime MonthYear Date of Birth  \\\n",
       "206      A720727  Rooster 11 2016-03-08 13:47:00  Mar 2016    2015-02-14   \n",
       "534      A720734  Rooster 18 2016-03-08 15:07:00  Mar 2016    2015-02-14   \n",
       "985      A779213         NaN 2018-09-07 11:17:00  Sep 2018    2017-08-27   \n",
       "1027     A760051         NaN 2017-10-20 12:40:00  Oct 2017    2016-10-11   \n",
       "1284     A790172         NaN 2019-03-07 00:00:00  Mar 2019    2018-03-05   \n",
       "...          ...         ...                 ...       ...           ...   \n",
       "136331   A851000     A851000 2022-02-03 16:39:00  Feb 2022    2020-02-03   \n",
       "136332   A850997     A850997 2022-02-03 16:38:00  Feb 2022    2020-02-03   \n",
       "136376   A850996  Yukon Jack 2022-02-04 09:52:00  Feb 2022    2019-02-03   \n",
       "136463   A851114         NaN 2022-02-09 15:32:00  Feb 2022    2021-02-06   \n",
       "136501   A851113         NaN 2022-02-10 08:07:00  Feb 2022    2022-01-06   \n",
       "\n",
       "       Outcome Type Outcome Subtype Animal Type Sex upon Outcome  \\\n",
       "206        Adoption             NaN        Bird      Intact Male   \n",
       "534        Adoption             NaN        Bird      Intact Male   \n",
       "985        Adoption          Foster        Bird          Unknown   \n",
       "1027       Adoption             NaN        Bird          Unknown   \n",
       "1284     Euthanasia       Suffering        Bird          Unknown   \n",
       "...             ...             ...         ...              ...   \n",
       "136331   Euthanasia       Suffering        Bird          Unknown   \n",
       "136332   Euthanasia       Suffering        Bird          Unknown   \n",
       "136376     Transfer         Partner        Bird      Intact Male   \n",
       "136463     Transfer         Partner        Bird      Intact Male   \n",
       "136501     Transfer         Partner        Bird          Unknown   \n",
       "\n",
       "       Age upon Outcome        Breed            Color  Age in Days  \n",
       "206              1 year  Chicken Mix        Black/Red          388  \n",
       "534              1 year  Chicken Mix  Black/Chocolate          388  \n",
       "985              1 year   Quaker Mix     Green/Silver          376  \n",
       "1027             1 year       Quaker       Green/Gray          374  \n",
       "1284             1 year  Chicken Mix        White/Red          367  \n",
       "...                 ...          ...              ...          ...  \n",
       "136331          2 years       Pigeon       Gray/White          731  \n",
       "136332          2 years       Pigeon       Gray/White          731  \n",
       "136376          3 years       Falcon      Brown/White         1097  \n",
       "136463           1 year      Chicken   Tricolor/White          368  \n",
       "136501          5 weeks      Chicken     Yellow/White           35  \n",
       "\n",
       "[636 rows x 13 columns]"
      ]
     },
     "execution_count": 25,
     "metadata": {},
     "output_type": "execute_result"
    }
   ],
   "source": [
    "# Once we know the group indices, we can return the groups using those indices\n",
    "outcomes_df.groupby(by='Animal Type').get_group('Bird')"
   ]
  },
  {
   "cell_type": "code",
   "execution_count": 26,
   "metadata": {
    "ExecuteTime": {
     "end_time": "2022-03-01T19:55:31.575696Z",
     "start_time": "2022-03-01T19:55:31.446783Z"
    },
    "collapsed": true
   },
   "outputs": [
    {
     "data": {
      "text/html": [
       "<div>\n",
       "<style scoped>\n",
       "    .dataframe tbody tr th:only-of-type {\n",
       "        vertical-align: middle;\n",
       "    }\n",
       "\n",
       "    .dataframe tbody tr th {\n",
       "        vertical-align: top;\n",
       "    }\n",
       "\n",
       "    .dataframe thead th {\n",
       "        text-align: right;\n",
       "    }\n",
       "</style>\n",
       "<table border=\"1\" class=\"dataframe\">\n",
       "  <thead>\n",
       "    <tr style=\"text-align: right;\">\n",
       "      <th></th>\n",
       "      <th>Animal ID</th>\n",
       "      <th>Name</th>\n",
       "      <th>DateTime</th>\n",
       "      <th>MonthYear</th>\n",
       "      <th>Date of Birth</th>\n",
       "      <th>Outcome Type</th>\n",
       "      <th>Outcome Subtype</th>\n",
       "      <th>Animal Type</th>\n",
       "      <th>Sex upon Outcome</th>\n",
       "      <th>Age upon Outcome</th>\n",
       "      <th>Breed</th>\n",
       "      <th>Color</th>\n",
       "      <th>Age in Days</th>\n",
       "    </tr>\n",
       "  </thead>\n",
       "  <tbody>\n",
       "    <tr>\n",
       "      <th>206</th>\n",
       "      <td>A720727</td>\n",
       "      <td>Rooster 11</td>\n",
       "      <td>2016-03-08 13:47:00</td>\n",
       "      <td>Mar 2016</td>\n",
       "      <td>2015-02-14</td>\n",
       "      <td>Adoption</td>\n",
       "      <td>NaN</td>\n",
       "      <td>Bird</td>\n",
       "      <td>Intact Male</td>\n",
       "      <td>1 year</td>\n",
       "      <td>Chicken Mix</td>\n",
       "      <td>Black/Red</td>\n",
       "      <td>388</td>\n",
       "    </tr>\n",
       "    <tr>\n",
       "      <th>534</th>\n",
       "      <td>A720734</td>\n",
       "      <td>Rooster 18</td>\n",
       "      <td>2016-03-08 15:07:00</td>\n",
       "      <td>Mar 2016</td>\n",
       "      <td>2015-02-14</td>\n",
       "      <td>Adoption</td>\n",
       "      <td>NaN</td>\n",
       "      <td>Bird</td>\n",
       "      <td>Intact Male</td>\n",
       "      <td>1 year</td>\n",
       "      <td>Chicken Mix</td>\n",
       "      <td>Black/Chocolate</td>\n",
       "      <td>388</td>\n",
       "    </tr>\n",
       "    <tr>\n",
       "      <th>985</th>\n",
       "      <td>A779213</td>\n",
       "      <td>NaN</td>\n",
       "      <td>2018-09-07 11:17:00</td>\n",
       "      <td>Sep 2018</td>\n",
       "      <td>2017-08-27</td>\n",
       "      <td>Adoption</td>\n",
       "      <td>Foster</td>\n",
       "      <td>Bird</td>\n",
       "      <td>Unknown</td>\n",
       "      <td>1 year</td>\n",
       "      <td>Quaker Mix</td>\n",
       "      <td>Green/Silver</td>\n",
       "      <td>376</td>\n",
       "    </tr>\n",
       "    <tr>\n",
       "      <th>1027</th>\n",
       "      <td>A760051</td>\n",
       "      <td>NaN</td>\n",
       "      <td>2017-10-20 12:40:00</td>\n",
       "      <td>Oct 2017</td>\n",
       "      <td>2016-10-11</td>\n",
       "      <td>Adoption</td>\n",
       "      <td>NaN</td>\n",
       "      <td>Bird</td>\n",
       "      <td>Unknown</td>\n",
       "      <td>1 year</td>\n",
       "      <td>Quaker</td>\n",
       "      <td>Green/Gray</td>\n",
       "      <td>374</td>\n",
       "    </tr>\n",
       "    <tr>\n",
       "      <th>1284</th>\n",
       "      <td>A790172</td>\n",
       "      <td>NaN</td>\n",
       "      <td>2019-03-07 00:00:00</td>\n",
       "      <td>Mar 2019</td>\n",
       "      <td>2018-03-05</td>\n",
       "      <td>Euthanasia</td>\n",
       "      <td>Suffering</td>\n",
       "      <td>Bird</td>\n",
       "      <td>Unknown</td>\n",
       "      <td>1 year</td>\n",
       "      <td>Chicken Mix</td>\n",
       "      <td>White/Red</td>\n",
       "      <td>367</td>\n",
       "    </tr>\n",
       "    <tr>\n",
       "      <th>...</th>\n",
       "      <td>...</td>\n",
       "      <td>...</td>\n",
       "      <td>...</td>\n",
       "      <td>...</td>\n",
       "      <td>...</td>\n",
       "      <td>...</td>\n",
       "      <td>...</td>\n",
       "      <td>...</td>\n",
       "      <td>...</td>\n",
       "      <td>...</td>\n",
       "      <td>...</td>\n",
       "      <td>...</td>\n",
       "      <td>...</td>\n",
       "    </tr>\n",
       "    <tr>\n",
       "      <th>136331</th>\n",
       "      <td>A851000</td>\n",
       "      <td>A851000</td>\n",
       "      <td>2022-02-03 16:39:00</td>\n",
       "      <td>Feb 2022</td>\n",
       "      <td>2020-02-03</td>\n",
       "      <td>Euthanasia</td>\n",
       "      <td>Suffering</td>\n",
       "      <td>Bird</td>\n",
       "      <td>Unknown</td>\n",
       "      <td>2 years</td>\n",
       "      <td>Pigeon</td>\n",
       "      <td>Gray/White</td>\n",
       "      <td>731</td>\n",
       "    </tr>\n",
       "    <tr>\n",
       "      <th>136332</th>\n",
       "      <td>A850997</td>\n",
       "      <td>A850997</td>\n",
       "      <td>2022-02-03 16:38:00</td>\n",
       "      <td>Feb 2022</td>\n",
       "      <td>2020-02-03</td>\n",
       "      <td>Euthanasia</td>\n",
       "      <td>Suffering</td>\n",
       "      <td>Bird</td>\n",
       "      <td>Unknown</td>\n",
       "      <td>2 years</td>\n",
       "      <td>Pigeon</td>\n",
       "      <td>Gray/White</td>\n",
       "      <td>731</td>\n",
       "    </tr>\n",
       "    <tr>\n",
       "      <th>136376</th>\n",
       "      <td>A850996</td>\n",
       "      <td>Yukon Jack</td>\n",
       "      <td>2022-02-04 09:52:00</td>\n",
       "      <td>Feb 2022</td>\n",
       "      <td>2019-02-03</td>\n",
       "      <td>Transfer</td>\n",
       "      <td>Partner</td>\n",
       "      <td>Bird</td>\n",
       "      <td>Intact Male</td>\n",
       "      <td>3 years</td>\n",
       "      <td>Falcon</td>\n",
       "      <td>Brown/White</td>\n",
       "      <td>1097</td>\n",
       "    </tr>\n",
       "    <tr>\n",
       "      <th>136463</th>\n",
       "      <td>A851114</td>\n",
       "      <td>NaN</td>\n",
       "      <td>2022-02-09 15:32:00</td>\n",
       "      <td>Feb 2022</td>\n",
       "      <td>2021-02-06</td>\n",
       "      <td>Transfer</td>\n",
       "      <td>Partner</td>\n",
       "      <td>Bird</td>\n",
       "      <td>Intact Male</td>\n",
       "      <td>1 year</td>\n",
       "      <td>Chicken</td>\n",
       "      <td>Tricolor/White</td>\n",
       "      <td>368</td>\n",
       "    </tr>\n",
       "    <tr>\n",
       "      <th>136501</th>\n",
       "      <td>A851113</td>\n",
       "      <td>NaN</td>\n",
       "      <td>2022-02-10 08:07:00</td>\n",
       "      <td>Feb 2022</td>\n",
       "      <td>2022-01-06</td>\n",
       "      <td>Transfer</td>\n",
       "      <td>Partner</td>\n",
       "      <td>Bird</td>\n",
       "      <td>Unknown</td>\n",
       "      <td>5 weeks</td>\n",
       "      <td>Chicken</td>\n",
       "      <td>Yellow/White</td>\n",
       "      <td>35</td>\n",
       "    </tr>\n",
       "  </tbody>\n",
       "</table>\n",
       "<p>636 rows × 13 columns</p>\n",
       "</div>"
      ],
      "text/plain": [
       "       Animal ID        Name            DateTime MonthYear Date of Birth  \\\n",
       "206      A720727  Rooster 11 2016-03-08 13:47:00  Mar 2016    2015-02-14   \n",
       "534      A720734  Rooster 18 2016-03-08 15:07:00  Mar 2016    2015-02-14   \n",
       "985      A779213         NaN 2018-09-07 11:17:00  Sep 2018    2017-08-27   \n",
       "1027     A760051         NaN 2017-10-20 12:40:00  Oct 2017    2016-10-11   \n",
       "1284     A790172         NaN 2019-03-07 00:00:00  Mar 2019    2018-03-05   \n",
       "...          ...         ...                 ...       ...           ...   \n",
       "136331   A851000     A851000 2022-02-03 16:39:00  Feb 2022    2020-02-03   \n",
       "136332   A850997     A850997 2022-02-03 16:38:00  Feb 2022    2020-02-03   \n",
       "136376   A850996  Yukon Jack 2022-02-04 09:52:00  Feb 2022    2019-02-03   \n",
       "136463   A851114         NaN 2022-02-09 15:32:00  Feb 2022    2021-02-06   \n",
       "136501   A851113         NaN 2022-02-10 08:07:00  Feb 2022    2022-01-06   \n",
       "\n",
       "       Outcome Type Outcome Subtype Animal Type Sex upon Outcome  \\\n",
       "206        Adoption             NaN        Bird      Intact Male   \n",
       "534        Adoption             NaN        Bird      Intact Male   \n",
       "985        Adoption          Foster        Bird          Unknown   \n",
       "1027       Adoption             NaN        Bird          Unknown   \n",
       "1284     Euthanasia       Suffering        Bird          Unknown   \n",
       "...             ...             ...         ...              ...   \n",
       "136331   Euthanasia       Suffering        Bird          Unknown   \n",
       "136332   Euthanasia       Suffering        Bird          Unknown   \n",
       "136376     Transfer         Partner        Bird      Intact Male   \n",
       "136463     Transfer         Partner        Bird      Intact Male   \n",
       "136501     Transfer         Partner        Bird          Unknown   \n",
       "\n",
       "       Age upon Outcome        Breed            Color  Age in Days  \n",
       "206              1 year  Chicken Mix        Black/Red          388  \n",
       "534              1 year  Chicken Mix  Black/Chocolate          388  \n",
       "985              1 year   Quaker Mix     Green/Silver          376  \n",
       "1027             1 year       Quaker       Green/Gray          374  \n",
       "1284             1 year  Chicken Mix        White/Red          367  \n",
       "...                 ...          ...              ...          ...  \n",
       "136331          2 years       Pigeon       Gray/White          731  \n",
       "136332          2 years       Pigeon       Gray/White          731  \n",
       "136376          3 years       Falcon      Brown/White         1097  \n",
       "136463           1 year      Chicken   Tricolor/White          368  \n",
       "136501          5 weeks      Chicken     Yellow/White           35  \n",
       "\n",
       "[636 rows x 13 columns]"
      ]
     },
     "execution_count": 26,
     "metadata": {},
     "output_type": "execute_result"
    }
   ],
   "source": [
    "# Why yes, this is the same as\n",
    "outcomes_df[outcomes_df['Animal Type'] == 'Bird']"
   ]
  },
  {
   "cell_type": "markdown",
   "metadata": {
    "heading_collapsed": true,
    "hidden": true
   },
   "source": [
    "### Multi-Indexing"
   ]
  },
  {
   "cell_type": "code",
   "execution_count": 27,
   "metadata": {
    "ExecuteTime": {
     "end_time": "2022-03-01T19:56:50.553095Z",
     "start_time": "2022-03-01T19:56:50.513072Z"
    },
    "hidden": true,
    "scrolled": false
   },
   "outputs": [
    {
     "data": {
      "text/plain": [
       "<pandas.core.groupby.generic.DataFrameGroupBy object at 0x000001CCEACE7490>"
      ]
     },
     "execution_count": 27,
     "metadata": {},
     "output_type": "execute_result"
    }
   ],
   "source": [
    "# Same goes for multi-index groupbys\n",
    "outcomes_df.groupby(['Animal Type', 'Outcome Type'])"
   ]
  },
  {
   "cell_type": "code",
   "execution_count": 28,
   "metadata": {
    "ExecuteTime": {
     "end_time": "2022-03-01T19:57:05.361967Z",
     "start_time": "2022-03-01T19:57:01.920240Z"
    }
   },
   "outputs": [
    {
     "data": {
      "text/plain": [
       "{('Cat', 'Rto-Adopt'): [0, 302, 1372, 1675, 1792, 1874, 2325, 2633, 3305, 3854, 4522, 4813, 5095, 5723, 6402, 7476, 7594, 8266, 8481, 9260, 10224, 11986, 12151, 12928, 13817, 16229, 16464, 16682, 16887, 17100, 17275, 18810, 19013, 19017, 20244, 23467, 26596, 26795, 26838, 27954, 29305, 29597, 29755, 30087, 32129, 33733, 33770, 34089, 35555, 37026, 38018, 38166, 39349, 39382, 39524, 39589, 39750, 41369, 42095, 42453, 42723, 44088, 45047, 45094, 45264, 45405, 47103, 48098, 48499, 50079, 50424, 52015, 53810, 56460, 57128, 60371, 61038, 61170, 61357, 61540, 62234, 62256, 62275, 62578, 64067, 64733, 65282, 65338, 66857, 66957, 67447, 67780, 68104, 70264, 70436, 71147, 71735, 71937, 76949, 78131, ...], ('Dog', 'Adoption'): [1, 3, 5, 6, 9, 21, 28, 30, 31, 32, 35, 39, 41, 43, 45, 46, 48, 52, 55, 57, 58, 61, 62, 64, 69, 74, 76, 81, 82, 85, 88, 91, 96, 99, 100, 104, 107, 110, 111, 114, 119, 121, 125, 127, 128, 132, 134, 135, 137, 140, 144, 149, 155, 159, 161, 162, 163, 165, 169, 173, 174, 188, 190, 193, 195, 197, 198, 201, 210, 213, 214, 218, 220, 221, 222, 228, 232, 233, 236, 241, 244, 249, 250, 252, 253, 256, 258, 262, 269, 270, 272, 276, 283, 289, 292, 293, 300, 301, 305, 309, ...], ('Other', 'Euthanasia'): [2, 19, 27, 33, 40, 53, 71, 72, 77, 103, 150, 172, 298, 344, 406, 422, 479, 506, 544, 580, 581, 605, 608, 633, 638, 711, 717, 725, 736, 811, 838, 841, 861, 867, 886, 896, 926, 1067, 1068, 1165, 1188, 1203, 1210, 1238, 1245, 1308, 1363, 1409, 1421, 1453, 1464, 1473, 1509, 1560, 1595, 1629, 1663, 1676, 1691, 1695, 1748, 1763, 1807, 1814, 1837, 1848, 1858, 1887, 1912, 1928, 1938, 2039, 2042, 2070, 2071, 2082, 2107, 2189, 2204, 2214, 2217, 2275, 2316, 2407, 2425, 2483, 2514, 2549, 2579, 2616, 2630, 2723, 2732, 2791, 2792, 2821, 2905, 2908, 2945, 2946, ...], ('Cat', 'Transfer'): [4, 10, 14, 15, 16, 18, 24, 37, 66, 68, 78, 90, 95, 113, 115, 116, 122, 126, 141, 145, 157, 168, 171, 176, 212, 215, 219, 238, 240, 245, 254, 255, 261, 275, 278, 304, 318, 324, 350, 359, 361, 363, 366, 367, 371, 372, 379, 383, 384, 387, 390, 398, 409, 416, 423, 437, 447, 450, 458, 462, 463, 478, 487, 491, 498, 502, 503, 508, 510, 515, 516, 522, 546, 552, 557, 560, 561, 566, 576, 585, 587, 593, 606, 607, 610, 616, 619, 620, 622, 626, 632, 635, 639, 640, 644, 649, 652, 661, 662, 673, ...], ('Cat', 'Adoption'): [7, 8, 20, 26, 54, 56, 67, 70, 80, 83, 84, 89, 92, 97, 98, 102, 120, 139, 142, 147, 151, 152, 156, 158, 164, 167, 178, 184, 191, 192, 194, 200, 202, 203, 207, 209, 223, 227, 230, 246, 251, 257, 266, 267, 268, 273, 274, 279, 282, 285, 288, 290, 294, 297, 299, 307, 317, 320, 323, 325, 327, 328, 331, 333, 335, 362, 364, 373, 375, 378, 381, 397, 400, 403, 413, 418, 420, 425, 428, 438, 455, 457, 460, 466, 468, 469, 475, 484, 489, 497, 509, 521, 530, 533, 538, 545, 556, 565, 577, 586, ...], ('Cat', 'Return to Owner'): [11, 75, 94, 148, 337, 528, 570, 590, 752, 800, 807, 816, 862, 871, 933, 942, 1085, 1131, 1158, 1164, 1180, 1338, 1346, 1371, 1559, 1589, 1661, 1690, 1779, 1836, 1965, 2029, 2054, 2105, 2134, 2154, 2195, 2206, 2265, 2314, 2334, 2341, 2408, 2435, 2481, 2673, 2760, 2800, 2861, 2910, 3012, 3014, 3029, 3156, 3195, 3242, 3258, 3444, 3453, 3454, 3480, 3500, 3522, 3589, 3716, 3740, 3814, 3819, 3978, 4010, 4013, 4026, 4048, 4167, 4180, 4206, 4250, 4303, 4374, 4557, 4653, 4660, 4669, 4736, 4811, 4833, 4852, 4882, 4926, 4932, 4945, 4964, 5142, 5152, 5159, 5198, 5367, 5499, 5508, 5620, ...], ('Dog', 'Return to Owner'): [12, 23, 25, 29, 36, 38, 51, 59, 60, 65, 79, 86, 87, 93, 101, 109, 112, 124, 129, 130, 131, 133, 166, 181, 183, 186, 196, 199, 204, 205, 211, 225, 237, 239, 242, 247, 259, 260, 264, 265, 277, 286, 303, 308, 310, 314, 319, 334, 342, 347, 351, 352, 369, 370, 380, 394, 401, 405, 408, 419, 430, 435, 436, 445, 465, 467, 472, 477, 490, 492, 496, 507, 519, 532, 535, 548, 551, 555, 583, 588, 589, 591, 594, 611, 612, 628, 629, 630, 634, 658, 668, 670, 675, 677, 678, 703, 719, 721, 727, 733, ...], ('Dog', 'Transfer'): [13, 22, 42, 50, 63, 73, 105, 106, 123, 136, 143, 146, 153, 160, 175, 179, 180, 182, 187, 189, 208, 217, 224, 229, 231, 248, 271, 284, 287, 295, 296, 311, 313, 322, 338, 349, 355, 358, 365, 374, 377, 382, 391, 402, 404, 410, 415, 424, 433, 446, 456, 473, 474, 485, 486, 494, 500, 501, 517, 525, 529, 537, 539, 543, 553, 562, 567, 595, 600, 601, 603, 636, 651, 656, 659, 671, 679, 680, 685, 692, 697, 699, 706, 707, 708, 724, 726, 730, 746, 757, 760, 786, 791, 802, 804, 809, 810, 825, 826, 846, ...], ('Cat', 'Euthanasia'): [17, 34, 117, 118, 170, 226, 281, 306, 340, 376, 385, 449, 527, 575, 579, 801, 850, 937, 953, 975, 992, 1008, 1058, 1133, 1251, 1381, 1396, 1567, 1625, 1746, 1785, 1799, 1803, 1891, 1919, 1950, 1967, 2007, 2171, 2437, 2535, 2566, 2668, 2671, 2787, 2874, 2932, 2942, 2971, 3036, 3039, 3048, 3060, 3104, 3143, 3150, 3170, 3197, 3235, 3304, 3393, 3462, 3614, 3675, 3768, 3804, 3952, 3971, 4047, 4058, 4109, 4160, 4245, 4273, 4354, 4486, 4528, 4558, 4656, 4683, 4694, 4772, 4785, 4940, 4966, 4975, 5066, 5104, 5296, 5333, 5347, 5437, 5591, 5828, 5837, 5933, 5948, 5950, 5992, 6038, ...], ('Other', 'Adoption'): [44, 1090, 1092, 1968, 2279, 2291, 2726, 2960, 3330, 3540, 4094, 4181, 4194, 4810, 4864, 5216, 5325, 5604, 5669, 5904, 6212, 6521, 6605, 6606, 6781, 6929, 7114, 7787, 7848, 7900, 8077, 8282, 8369, 8408, 9100, 9279, 9489, 10356, 10384, 10542, 10680, 10769, 10783, 11074, 11324, 11376, 11530, 11914, 11931, 12256, 12426, 12916, 13230, 14313, 14574, 14744, 14854, 15319, 15736, 15987, 16216, 16409, 17003, 17083, 17104, 17403, 17613, 17632, 17693, 17788, 18078, 18160, 18294, 18376, 18439, 18569, 18638, 18749, 18859, 19140, 19288, 19734, 19805, 20131, 20241, 20366, 20391, 20500, 20634, 20671, 21039, 21074, 21270, 21345, 21432, 21840, 21944, 22006, 22232, 22461, ...], ('Dog', 'Rto-Adopt'): [47, 108, 216, 234, 837, 947, 1404, 1425, 1466, 1548, 1564, 1833, 1981, 1995, 2043, 2975, 3013, 3518, 3771, 4872, 4880, 4944, 4953, 5195, 5767, 5864, 6149, 6379, 6392, 6580, 6643, 7303, 7322, 7529, 7602, 7785, 7921, 7975, 8096, 8353, 8480, 8923, 9266, 9370, 9933, 9976, 10064, 10309, 10372, 10447, 10575, 10595, 10597, 10768, 10932, 11036, 11111, 11124, 11636, 12091, 12321, 12388, 12590, 12656, 12711, 12769, 12779, 13227, 13301, 13599, 14532, 14573, 14981, 15123, 15320, 15558, 15568, 15720, 15803, 16142, 16287, 16568, 16624, 16649, 16662, 16727, 16774, 16946, 16962, 17195, 17276, 17480, 17634, 17815, 17929, 18244, 18255, 18355, 18617, 18966, ...], ('Cat', 'Died'): [49, 291, 444, 476, 674, 695, 1048, 1084, 1099, 1143, 1311, 1442, 2131, 2328, 2625, 2957, 3065, 3188, 3211, 3328, 3408, 4085, 4238, 4498, 4586, 4738, 4808, 4838, 4909, 4941, 5153, 5312, 5524, 6023, 6279, 6532, 6540, 6556, 6670, 6976, 7085, 7129, 7170, 7291, 7350, 7426, 7747, 7772, 8514, 8675, 8893, 9104, 9209, 9357, 9567, 9941, 10194, 10462, 10649, 10656, 10771, 10916, 10989, 11015, 11203, 11444, 11514, 11720, 11933, 12407, 12541, 12882, 12925, 14621, 14906, 15577, 15924, 16181, 16391, 16501, 16587, 16639, 16853, 17420, 17806, 18085, 18088, 18233, 18582, 18788, 18916, 18949, 19064, 19113, 19150, 19184, 19306, 19420, 19489, 19875, ...], ('Dog', 'Euthanasia'): [138, 154, 434, 439, 559, 563, 866, 1040, 1093, 1244, 1289, 1297, 1320, 1336, 1343, 1345, 1465, 1482, 1565, 1656, 1669, 1713, 1718, 1722, 1726, 1733, 1798, 1801, 1861, 1901, 1909, 1980, 1993, 2106, 2215, 2246, 2409, 2518, 2552, 2607, 2618, 2721, 2804, 2825, 2854, 2894, 2926, 3016, 3103, 3175, 3210, 3265, 3286, 3318, 3370, 3498, 3499, 3532, 3725, 3910, 3924, 4177, 4247, 4255, 4309, 4369, 4373, 4551, 4583, 4619, 4759, 4777, 4847, 4992, 5016, 5052, 5218, 5259, 5432, 5486, 5699, 5701, 5752, 5782, 5789, 5819, 5998, 6207, 6232, 6259, 6369, 6464, 6548, 6591, 6688, 6719, 6732, 6828, 6848, 6878, ...], ('Other', 'Transfer'): [177, 185, 411, 412, 572, 743, 765, 949, 1195, 1391, 1471, 1476, 1954, 1956, 2405, 2461, 2781, 3283, 3372, 3528, 3886, 3982, 4098, 4503, 4566, 4876, 4914, 4915, 5201, 5229, 5554, 5822, 5887, 6012, 6060, 6327, 6412, 6504, 6599, 6884, 6943, 7285, 7396, 7561, 7565, 7824, 7945, 7993, 8174, 8196, 8219, 8440, 8844, 8920, 8984, 9023, 9029, 9108, 9221, 9268, 9346, 9419, 9441, 9677, 9858, 9947, 10010, 10096, 10295, 10385, 10439, 10545, 10629, 10646, 11012, 11521, 11551, 11558, 11667, 12039, 12138, 12148, 12309, 12465, 12781, 13055, 13130, 13218, 13496, 13691, 13850, 13923, 14158, 14265, 14873, 14936, 15031, 15046, 15152, 15406, ...], ('Bird', 'Adoption'): [206, 534, 985, 1027, 1310, 2274, 2521, 2712, 4702, 5063, 6236, 6682, 8315, 8414, 8538, 8922, 9203, 10407, 11837, 12205, 13057, 13272, 13317, 13435, 13934, 14108, 14146, 15193, 15553, 16197, 16499, 16866, 18548, 18852, 18899, 18906, 19716, 20537, 20695, 21014, 21483, 22754, 22908, 22996, 23354, 23983, 24026, 24479, 25223, 25421, 25489, 25623, 25761, 25995, 26420, 26512, 28028, 29211, 31045, 33067, 33595, 33792, 35020, 35100, 35593, 36036, 36370, 38252, 38568, 40225, 41416, 42407, 43159, 44447, 46843, 47024, 47377, 47461, 47480, 47584, 47706, 48618, 48661, 48780, 48984, 49117, 49569, 51461, 51556, 51905, 52644, 52784, 54307, 54562, 55870, 56270, 56434, 56597, 56624, 58192, ...], ('Other', 'Disposal'): [235, 280, 1074, 1282, 1348, 1778, 2569, 2890, 3129, 3207, 3412, 3476, 3877, 3993, 4364, 4422, 4580, 4689, 4787, 5482, 5844, 6133, 6651, 6713, 6764, 6813, 7087, 7305, 7669, 7913, 7972, 8309, 9071, 9102, 9751, 9822, 10387, 10979, 11010, 11268, 11284, 11315, 11475, 11885, 11974, 12152, 12340, 12901, 13335, 13731, 14709, 14724, 14915, 15263, 15627, 16565, 16967, 17341, 17424, 17452, 17728, 18056, 18922, 19300, 19845, 20020, 20032, 20193, 20276, 20420, 20527, 20585, 21410, 21448, 21951, 22170, 22518, 23089, 23252, 23578, 24296, 24415, 24476, 24493, 24562, 24679, 24883, 25340, 25485, 25672, 26347, 26535, 26734, 26890, 27069, 27792, 28263, 28540, 28873, 29071, ...], ('Other', 'Died'): [243, 263, 1742, 1852, 2662, 2904, 3794, 3906, 4184, 4263, 5547, 6167, 6222, 7952, 8114, 8597, 8639, 9234, 10807, 10976, 11045, 11355, 12725, 12730, 13154, 13628, 13834, 14635, 14664, 15026, 15446, 15467, 15705, 15925, 16642, 17070, 17937, 18137, 18317, 18482, 18833, 20148, 20824, 21711, 21868, 21902, 22488, 23238, 23346, 23643, 24588, 25150, 26337, 26893, 27358, 28816, 28940, 31944, 32904, 33010, 33903, 34758, 34901, 35797, 36074, 36294, 36975, 38121, 39454, 40098, 40931, 41815, 42072, 42870, 43020, 43981, 44880, 46085, 48255, 48333, 48350, 48749, 48912, 50346, 50387, 50684, 50967, 51039, 51255, 52293, 53948, 55912, 56015, 56088, 56274, 56869, 59320, 61323, 61859, 62822, ...], ('Dog', 'Died'): [417, 432, 1101, 1558, 1885, 2159, 3994, 4415, 5001, 5194, 5278, 5359, 5433, 5663, 5725, 5736, 5994, 7073, 7552, 9513, 10519, 10626, 10724, 11552, 11611, 11803, 12224, 13193, 14747, 14971, 15111, 15358, 15889, 15892, 15999, 16057, 16210, 16712, 16818, 17449, 17592, 17655, 19137, 19227, 20118, 20162, 20830, 20860, 21354, 21372, 22110, 22879, 22922, 23999, 24011, 24442, 24777, 24889, 25533, 25919, 26227, 26306, 26588, 29015, 29683, 29883, 30263, 30582, 30956, 31080, 31650, 33848, 34204, 34298, 35412, 36188, 36591, 37006, 37229, 37245, 38449, 38529, 39250, 39553, 39784, 40167, 40186, 41326, 41393, 41602, 41671, 41831, 42152, 42209, 42261, 42457, 42664, 42847, 43103, 43161, ...], ('Cat', 'Disposal'): [524, 2954, 3548, 3898, 6891, 7127, 9358, 9487, 9624, 11029, 12373, 15649, 15879, 18036, 18542, 18913, 20552, 21221, 21602, 21603, 25787, 28337, 31745, 33098, 35848, 37405, 37978, 39043, 41723, 42909, 43318, 44259, 44756, 46976, 50679, 50821, 51568, 52849, 53072, 54100, 54132, 56508, 56536, 56858, 57108, 57171, 59619, 60329, 63346, 65472, 67006, 71577, 75807, 76085, 76137, 80614, 80738, 82497, 82806, 83404, 83774, 84846, 87739, 88590, 89659, 90577, 92576, 93344, 93789, 99615, 100397, 102756, 103241, 104140, 107912, 109525, 110674, 111329, 116168, 118364, 122251, 123399, 123821, 124822, 128280, 130737, 132958, 134773, 134774, 135804], ('Other', 'Return to Owner'): [526, 3174, 5033, 5391, 6756, 7089, 10741, 21511, 21590, 27883, 32213, 34466, 40418, 41757, 45733, 49394, 52745, 54112, 56059, 57809, 59030, 59120, 59333, 59724, 59923, 59942, 64278, 64701, 65509, 67573, 67631, 69622, 70173, 73669, 76307, 79119, 80387, 84330, 85197, 85411, 91087, 92317, 93045, 93261, 96191, 96797, 99395, 100921, 104790, 111613, 113970, 116123, 116385, 121144, 136385], ('Bird', 'Euthanasia'): [1284, 2220, 2417, 3379, 3648, 4003, 4288, 5436, 7985, 8048, 8331, 9825, 10165, 10657, 11386, 11765, 11771, 12451, 12978, 13063, 13323, 13474, 13981, 14193, 16022, 17338, 19795, 20390, 20532, 21340, 21974, 22434, 22524, 22627, 23061, 24158, 27078, 32528, 33748, 34684, 37730, 40201, 41822, 45199, 45226, 45394, 46226, 46281, 46557, 47050, 49383, 50084, 50660, 51459, 53265, 53964, 55555, 55760, 56846, 58001, 58304, 58712, 58999, 59494, 59718, 61093, 61149, 61456, 62247, 65348, 67230, 68366, 69859, 72565, 72664, 74051, 75392, 77427, 77972, 78869, 81104, 81195, 81970, 83323, 85055, 85955, 91252, 92450, 92521, 94609, 94785, 95649, 96364, 98320, 98632, 98862, 98976, 99736, 103720, 105444, ...], ('Bird', 'Transfer'): [2258, 2598, 2778, 3178, 3743, 4024, 4766, 4998, 5205, 5656, 6340, 6592, 7352, 9448, 9758, 10103, 10736, 11674, 12423, 12713, 13677, 13950, 13963, 14131, 15813, 17390, 17426, 18359, 18557, 19622, 19642, 20535, 20935, 21745, 25586, 25621, 27058, 27474, 28072, 28654, 28764, 30079, 30439, 31323, 31990, 32051, 32207, 33622, 34188, 34762, 35487, 36382, 36805, 37184, 37317, 39237, 40080, 40333, 40508, 40696, 43256, 44325, 45421, 46266, 47990, 49242, 51863, 51933, 52201, 52894, 53158, 53319, 53391, 53917, 54473, 55178, 55414, 55858, 56099, 56435, 56625, 57591, 57737, 57748, 59233, 59259, 60365, 60452, 61538, 62056, 63202, 65003, 65016, 65499, 66167, 66234, 66264, 67465, 69061, 69946, ...], ('Livestock', 'Return to Owner'): [2395, 10286, 13275, 103897, 104154], ('Dog', 'Missing'): [2497, 11890, 17952, 22927, 27860, 33709, 34834, 38843, 42344, 51569, 59795, 62710, 68525, 70064, 79179, 82901, 89999, 90292, 91028, 98486, 102733, 108679, 109243, 110558, 113612, 116671, 119576, 119596, 126526, 127204, 128844, 133244], ('Other', 'Relocate'): [3144, 3765, 15668, 35607, 48221, 63938, 72547, 90606, 96399, 128060, 130272], ('Dog', nan): [3416, 9040, 14612, 20026, 24113, 29472, 67385, 72361, 72380, 85802, 91061, 93842, 107263, 109208, 136952], ('Livestock', 'Adoption'): [5763, 8413, 14428, 20614, 32095, 51860, 78037, 83520, 108520, 117427, 127774, 129632], ('Bird', 'Return to Owner'): [5848, 6087, 11616, 11732, 12418, 12902, 18319, 23298, 41747, 44829, 49473, 51374, 53571, 60755, 61891, 62294, 63739, 67940, 68755, 73957, 78905, 83694, 86254, 87345, 87362, 87547, 96577, 100161, 103167, 105244, 105706, 106421, 118453, 121212, 124003, 124489], ('Dog', 'Disposal'): [5889, 7678, 15764, 23470, 25952, 38885, 40217, 45357, 45557, 48963, 49258, 49367, 55514, 57530, 57879, 58068, 64796, 65702, 68524, 69793, 76519, 76848, 85481, 87189, 89751, 90222, 90528, 91227, 93137, 93917, 94448, 98292, 99941, 100732, 101717, 104756, 106236, 110055, 114053, 114928, 115253, 121093, 123072, 127859, 132378, 132596, 132975, 135043, 135255], ('Cat', 'Missing'): [6229, 7685, 7977, 13954, 16111, 18869, 25315, 30676, 31329, 33703, 37689, 39386, 45401, 51315, 56193, 64938, 66653, 71334, 74787, 75594, 75859, 86930, 87045, 92619, 93060, 94723, 97680, 102036, 107314, 113826, 120493, 123486, 123903, 129128, 130045], ('Bird', 'Disposal'): [7033, 19780, 21433, 27697, 30363, 39484, 40238, 44218, 46194, 52657, 56084, 57958, 59026, 60157, 61154, 64437, 75975, 76168, 80812, 83033, 83424, 88665, 92355, 94851, 94879, 97447, 111416, 115578, 117960], ('Bird', 'Died'): [7428, 15543, 17173, 24180, 37187, 51946, 53086, 57043, 60174, 70865, 73966, 76101, 78202, 79302, 87381, 105830, 107675, 108368, 113876, 114207, 118306, 122878, 124137], ('Other', 'Missing'): [8936, 24765, 34181, 58644], ('Other', 'Rto-Adopt'): [10785, 14214], ('Bird', 'Relocate'): [12474, 15114, 19189, 42670, 45677, 72907, 77447, 91109, 105059, 106028], ('Bird', 'Missing'): [13095], ('Other', nan): [25727, 44828, 66688, 94551, 111198], ('Livestock', 'Transfer'): [26426, 38456, 77293, 98309, 107242, 131330], ('Cat', 'Relocate'): [28813, 53195, 128183, 128859], ('Cat', nan): [34914, 47107, 84308, 95858], ('Livestock', 'Died'): [50988], ('Livestock', 'Euthanasia'): [113321]}"
      ]
     },
     "execution_count": 28,
     "metadata": {},
     "output_type": "execute_result"
    }
   ],
   "source": [
    "outcomes_df.groupby(['Animal Type', 'Outcome Type']).groups"
   ]
  },
  {
   "cell_type": "code",
   "execution_count": 29,
   "metadata": {
    "ExecuteTime": {
     "end_time": "2022-03-01T19:57:15.651014Z",
     "start_time": "2022-03-01T19:57:12.179767Z"
    },
    "hidden": true
   },
   "outputs": [
    {
     "data": {
      "text/plain": [
       "dict_keys([('Cat', 'Rto-Adopt'), ('Dog', 'Adoption'), ('Other', 'Euthanasia'), ('Cat', 'Transfer'), ('Cat', 'Adoption'), ('Cat', 'Return to Owner'), ('Dog', 'Return to Owner'), ('Dog', 'Transfer'), ('Cat', 'Euthanasia'), ('Other', 'Adoption'), ('Dog', 'Rto-Adopt'), ('Cat', 'Died'), ('Dog', 'Euthanasia'), ('Other', 'Transfer'), ('Bird', 'Adoption'), ('Other', 'Disposal'), ('Other', 'Died'), ('Dog', 'Died'), ('Cat', 'Disposal'), ('Other', 'Return to Owner'), ('Bird', 'Euthanasia'), ('Bird', 'Transfer'), ('Livestock', 'Return to Owner'), ('Dog', 'Missing'), ('Other', 'Relocate'), ('Dog', nan), ('Livestock', 'Adoption'), ('Bird', 'Return to Owner'), ('Dog', 'Disposal'), ('Cat', 'Missing'), ('Bird', 'Disposal'), ('Bird', 'Died'), ('Other', 'Missing'), ('Other', 'Rto-Adopt'), ('Bird', 'Relocate'), ('Bird', 'Missing'), ('Other', nan), ('Livestock', 'Transfer'), ('Cat', 'Relocate'), ('Cat', nan), ('Livestock', 'Died'), ('Livestock', 'Euthanasia')])"
      ]
     },
     "execution_count": 29,
     "metadata": {},
     "output_type": "execute_result"
    }
   ],
   "source": [
    "# .groups outputs a dictionary, so we can access the group names using keys()\n",
    "outcomes_df.groupby(['Animal Type', 'Outcome Type']).groups.keys()"
   ]
  },
  {
   "cell_type": "code",
   "execution_count": 32,
   "metadata": {
    "ExecuteTime": {
     "end_time": "2022-03-01T19:58:13.565145Z",
     "start_time": "2022-03-01T19:58:13.323076Z"
    },
    "hidden": true
   },
   "outputs": [
    {
     "data": {
      "text/html": [
       "<div>\n",
       "<style scoped>\n",
       "    .dataframe tbody tr th:only-of-type {\n",
       "        vertical-align: middle;\n",
       "    }\n",
       "\n",
       "    .dataframe tbody tr th {\n",
       "        vertical-align: top;\n",
       "    }\n",
       "\n",
       "    .dataframe thead th {\n",
       "        text-align: right;\n",
       "    }\n",
       "</style>\n",
       "<table border=\"1\" class=\"dataframe\">\n",
       "  <thead>\n",
       "    <tr style=\"text-align: right;\">\n",
       "      <th></th>\n",
       "      <th>Animal ID</th>\n",
       "      <th>Name</th>\n",
       "      <th>DateTime</th>\n",
       "      <th>MonthYear</th>\n",
       "      <th>Date of Birth</th>\n",
       "      <th>Outcome Type</th>\n",
       "      <th>Outcome Subtype</th>\n",
       "      <th>Animal Type</th>\n",
       "      <th>Sex upon Outcome</th>\n",
       "      <th>Age upon Outcome</th>\n",
       "      <th>Breed</th>\n",
       "      <th>Color</th>\n",
       "      <th>Age in Days</th>\n",
       "    </tr>\n",
       "  </thead>\n",
       "  <tbody>\n",
       "    <tr>\n",
       "      <th>7</th>\n",
       "      <td>A689724</td>\n",
       "      <td>*Donatello</td>\n",
       "      <td>2014-10-18 18:52:00</td>\n",
       "      <td>Oct 2014</td>\n",
       "      <td>2014-08-01</td>\n",
       "      <td>Adoption</td>\n",
       "      <td>NaN</td>\n",
       "      <td>Cat</td>\n",
       "      <td>Neutered Male</td>\n",
       "      <td>2 months</td>\n",
       "      <td>Domestic Shorthair Mix</td>\n",
       "      <td>Black</td>\n",
       "      <td>78</td>\n",
       "    </tr>\n",
       "    <tr>\n",
       "      <th>8</th>\n",
       "      <td>A680969</td>\n",
       "      <td>*Zeus</td>\n",
       "      <td>2014-08-05 16:59:00</td>\n",
       "      <td>Aug 2014</td>\n",
       "      <td>2014-06-03</td>\n",
       "      <td>Adoption</td>\n",
       "      <td>NaN</td>\n",
       "      <td>Cat</td>\n",
       "      <td>Neutered Male</td>\n",
       "      <td>2 months</td>\n",
       "      <td>Domestic Shorthair Mix</td>\n",
       "      <td>White/Orange Tabby</td>\n",
       "      <td>63</td>\n",
       "    </tr>\n",
       "    <tr>\n",
       "      <th>20</th>\n",
       "      <td>A730621</td>\n",
       "      <td>*Liza</td>\n",
       "      <td>2016-09-10 18:59:00</td>\n",
       "      <td>Sep 2016</td>\n",
       "      <td>2016-05-18</td>\n",
       "      <td>Adoption</td>\n",
       "      <td>NaN</td>\n",
       "      <td>Cat</td>\n",
       "      <td>Spayed Female</td>\n",
       "      <td>3 months</td>\n",
       "      <td>Domestic Shorthair Mix</td>\n",
       "      <td>Calico</td>\n",
       "      <td>115</td>\n",
       "    </tr>\n",
       "    <tr>\n",
       "      <th>26</th>\n",
       "      <td>A801106</td>\n",
       "      <td>NaN</td>\n",
       "      <td>2019-08-16 14:05:00</td>\n",
       "      <td>Aug 2019</td>\n",
       "      <td>2019-05-06</td>\n",
       "      <td>Adoption</td>\n",
       "      <td>NaN</td>\n",
       "      <td>Cat</td>\n",
       "      <td>Neutered Male</td>\n",
       "      <td>3 months</td>\n",
       "      <td>Domestic Shorthair</td>\n",
       "      <td>Orange Tabby</td>\n",
       "      <td>102</td>\n",
       "    </tr>\n",
       "    <tr>\n",
       "      <th>54</th>\n",
       "      <td>A792258</td>\n",
       "      <td>Vesper</td>\n",
       "      <td>2019-04-10 20:53:00</td>\n",
       "      <td>Apr 2019</td>\n",
       "      <td>2016-09-08</td>\n",
       "      <td>Adoption</td>\n",
       "      <td>NaN</td>\n",
       "      <td>Cat</td>\n",
       "      <td>Spayed Female</td>\n",
       "      <td>2 years</td>\n",
       "      <td>Domestic Shorthair Mix</td>\n",
       "      <td>Tortie</td>\n",
       "      <td>944</td>\n",
       "    </tr>\n",
       "  </tbody>\n",
       "</table>\n",
       "</div>"
      ],
      "text/plain": [
       "   Animal ID        Name            DateTime MonthYear Date of Birth  \\\n",
       "7    A689724  *Donatello 2014-10-18 18:52:00  Oct 2014    2014-08-01   \n",
       "8    A680969       *Zeus 2014-08-05 16:59:00  Aug 2014    2014-06-03   \n",
       "20   A730621       *Liza 2016-09-10 18:59:00  Sep 2016    2016-05-18   \n",
       "26   A801106         NaN 2019-08-16 14:05:00  Aug 2019    2019-05-06   \n",
       "54   A792258      Vesper 2019-04-10 20:53:00  Apr 2019    2016-09-08   \n",
       "\n",
       "   Outcome Type Outcome Subtype Animal Type Sex upon Outcome Age upon Outcome  \\\n",
       "7      Adoption             NaN         Cat    Neutered Male         2 months   \n",
       "8      Adoption             NaN         Cat    Neutered Male         2 months   \n",
       "20     Adoption             NaN         Cat    Spayed Female         3 months   \n",
       "26     Adoption             NaN         Cat    Neutered Male         3 months   \n",
       "54     Adoption             NaN         Cat    Spayed Female          2 years   \n",
       "\n",
       "                     Breed               Color  Age in Days  \n",
       "7   Domestic Shorthair Mix               Black           78  \n",
       "8   Domestic Shorthair Mix  White/Orange Tabby           63  \n",
       "20  Domestic Shorthair Mix              Calico          115  \n",
       "26      Domestic Shorthair        Orange Tabby          102  \n",
       "54  Domestic Shorthair Mix              Tortie          944  "
      ]
     },
     "execution_count": 32,
     "metadata": {},
     "output_type": "execute_result"
    }
   ],
   "source": [
    "# We can then get a specific group, such as cats that were adopted\n",
    "# Allows for multilayer filtering\n",
    "outcomes_df.groupby(['Animal Type', 'Outcome Type']).get_group(('Cat','Adoption')).head()"
   ]
  },
  {
   "cell_type": "markdown",
   "metadata": {
    "heading_collapsed": true,
    "hidden": true
   },
   "source": [
    "## Aggregating"
   ]
  },
  {
   "cell_type": "markdown",
   "metadata": {
    "hidden": true
   },
   "source": [
    "Once again, as we will see in SQL, groupby objects are intended to be used with aggregation. In SQL, we will see that our queries that include GROUP BY require aggregation performed on columns.\n",
    "\n",
    "We can use `.sum()`, `.mean()`, `.count()`, `.max()`, `.min()`, etc. Find a list of common aggregations [here](https://pandas.pydata.org/pandas-docs/stable/user_guide/groupby.html)."
   ]
  },
  {
   "cell_type": "code",
   "execution_count": 34,
   "metadata": {
    "ExecuteTime": {
     "end_time": "2022-03-01T19:59:07.907605Z",
     "start_time": "2022-03-01T19:59:07.679552Z"
    },
    "collapsed": true,
    "hidden": true
   },
   "outputs": [
    {
     "data": {
      "text/html": [
       "<div>\n",
       "<style scoped>\n",
       "    .dataframe tbody tr th:only-of-type {\n",
       "        vertical-align: middle;\n",
       "    }\n",
       "\n",
       "    .dataframe tbody tr th {\n",
       "        vertical-align: top;\n",
       "    }\n",
       "\n",
       "    .dataframe thead th {\n",
       "        text-align: right;\n",
       "    }\n",
       "</style>\n",
       "<table border=\"1\" class=\"dataframe\">\n",
       "  <thead>\n",
       "    <tr style=\"text-align: right;\">\n",
       "      <th></th>\n",
       "      <th>Animal ID</th>\n",
       "      <th>Name</th>\n",
       "      <th>DateTime</th>\n",
       "      <th>MonthYear</th>\n",
       "      <th>Date of Birth</th>\n",
       "      <th>Outcome Type</th>\n",
       "      <th>Outcome Subtype</th>\n",
       "      <th>Sex upon Outcome</th>\n",
       "      <th>Age upon Outcome</th>\n",
       "      <th>Breed</th>\n",
       "      <th>Color</th>\n",
       "      <th>Age in Days</th>\n",
       "    </tr>\n",
       "    <tr>\n",
       "      <th>Animal Type</th>\n",
       "      <th></th>\n",
       "      <th></th>\n",
       "      <th></th>\n",
       "      <th></th>\n",
       "      <th></th>\n",
       "      <th></th>\n",
       "      <th></th>\n",
       "      <th></th>\n",
       "      <th></th>\n",
       "      <th></th>\n",
       "      <th></th>\n",
       "      <th></th>\n",
       "    </tr>\n",
       "  </thead>\n",
       "  <tbody>\n",
       "    <tr>\n",
       "      <th>Bird</th>\n",
       "      <td>636</td>\n",
       "      <td>145</td>\n",
       "      <td>636</td>\n",
       "      <td>636</td>\n",
       "      <td>636</td>\n",
       "      <td>636</td>\n",
       "      <td>380</td>\n",
       "      <td>636</td>\n",
       "      <td>636</td>\n",
       "      <td>636</td>\n",
       "      <td>636</td>\n",
       "      <td>636</td>\n",
       "    </tr>\n",
       "    <tr>\n",
       "      <th>Cat</th>\n",
       "      <td>52092</td>\n",
       "      <td>30380</td>\n",
       "      <td>52092</td>\n",
       "      <td>52092</td>\n",
       "      <td>52092</td>\n",
       "      <td>52088</td>\n",
       "      <td>31815</td>\n",
       "      <td>52092</td>\n",
       "      <td>52091</td>\n",
       "      <td>52092</td>\n",
       "      <td>52092</td>\n",
       "      <td>52092</td>\n",
       "    </tr>\n",
       "    <tr>\n",
       "      <th>Dog</th>\n",
       "      <td>77091</td>\n",
       "      <td>64516</td>\n",
       "      <td>77091</td>\n",
       "      <td>77091</td>\n",
       "      <td>77091</td>\n",
       "      <td>77076</td>\n",
       "      <td>24590</td>\n",
       "      <td>77089</td>\n",
       "      <td>77089</td>\n",
       "      <td>77091</td>\n",
       "      <td>77091</td>\n",
       "      <td>77091</td>\n",
       "    </tr>\n",
       "    <tr>\n",
       "      <th>Livestock</th>\n",
       "      <td>25</td>\n",
       "      <td>3</td>\n",
       "      <td>25</td>\n",
       "      <td>25</td>\n",
       "      <td>25</td>\n",
       "      <td>25</td>\n",
       "      <td>19</td>\n",
       "      <td>25</td>\n",
       "      <td>25</td>\n",
       "      <td>25</td>\n",
       "      <td>25</td>\n",
       "      <td>25</td>\n",
       "    </tr>\n",
       "    <tr>\n",
       "      <th>Other</th>\n",
       "      <td>7253</td>\n",
       "      <td>1051</td>\n",
       "      <td>7253</td>\n",
       "      <td>7253</td>\n",
       "      <td>7253</td>\n",
       "      <td>7248</td>\n",
       "      <td>5849</td>\n",
       "      <td>7253</td>\n",
       "      <td>7251</td>\n",
       "      <td>7253</td>\n",
       "      <td>7253</td>\n",
       "      <td>7253</td>\n",
       "    </tr>\n",
       "  </tbody>\n",
       "</table>\n",
       "</div>"
      ],
      "text/plain": [
       "             Animal ID   Name  DateTime  MonthYear  Date of Birth  \\\n",
       "Animal Type                                                         \n",
       "Bird               636    145       636        636            636   \n",
       "Cat              52092  30380     52092      52092          52092   \n",
       "Dog              77091  64516     77091      77091          77091   \n",
       "Livestock           25      3        25         25             25   \n",
       "Other             7253   1051      7253       7253           7253   \n",
       "\n",
       "             Outcome Type  Outcome Subtype  Sex upon Outcome  \\\n",
       "Animal Type                                                    \n",
       "Bird                  636              380               636   \n",
       "Cat                 52088            31815             52092   \n",
       "Dog                 77076            24590             77089   \n",
       "Livestock              25               19                25   \n",
       "Other                7248             5849              7253   \n",
       "\n",
       "             Age upon Outcome  Breed  Color  Age in Days  \n",
       "Animal Type                                               \n",
       "Bird                      636    636    636          636  \n",
       "Cat                     52091  52092  52092        52092  \n",
       "Dog                     77089  77091  77091        77091  \n",
       "Livestock                  25     25     25           25  \n",
       "Other                    7251   7253   7253         7253  "
      ]
     },
     "execution_count": 34,
     "metadata": {},
     "output_type": "execute_result"
    }
   ],
   "source": [
    "# Let's try it out\n",
    "outcomes_df.groupby('Animal Type').count()"
   ]
  },
  {
   "cell_type": "code",
   "execution_count": 35,
   "metadata": {
    "ExecuteTime": {
     "end_time": "2022-03-01T19:59:41.126498Z",
     "start_time": "2022-03-01T19:59:40.952315Z"
    },
    "collapsed": true
   },
   "outputs": [
    {
     "data": {
      "text/html": [
       "<div>\n",
       "<style scoped>\n",
       "    .dataframe tbody tr th:only-of-type {\n",
       "        vertical-align: middle;\n",
       "    }\n",
       "\n",
       "    .dataframe tbody tr th {\n",
       "        vertical-align: top;\n",
       "    }\n",
       "\n",
       "    .dataframe thead th {\n",
       "        text-align: right;\n",
       "    }\n",
       "</style>\n",
       "<table border=\"1\" class=\"dataframe\">\n",
       "  <thead>\n",
       "    <tr style=\"text-align: right;\">\n",
       "      <th></th>\n",
       "      <th>Age in Days</th>\n",
       "    </tr>\n",
       "    <tr>\n",
       "      <th>Animal Type</th>\n",
       "      <th></th>\n",
       "    </tr>\n",
       "  </thead>\n",
       "  <tbody>\n",
       "    <tr>\n",
       "      <th>Bird</th>\n",
       "      <td>339444</td>\n",
       "    </tr>\n",
       "    <tr>\n",
       "      <th>Cat</th>\n",
       "      <td>27755500</td>\n",
       "    </tr>\n",
       "    <tr>\n",
       "      <th>Dog</th>\n",
       "      <td>77408192</td>\n",
       "    </tr>\n",
       "    <tr>\n",
       "      <th>Livestock</th>\n",
       "      <td>12595</td>\n",
       "    </tr>\n",
       "    <tr>\n",
       "      <th>Other</th>\n",
       "      <td>3475229</td>\n",
       "    </tr>\n",
       "  </tbody>\n",
       "</table>\n",
       "</div>"
      ],
      "text/plain": [
       "             Age in Days\n",
       "Animal Type             \n",
       "Bird              339444\n",
       "Cat             27755500\n",
       "Dog             77408192\n",
       "Livestock          12595\n",
       "Other            3475229"
      ]
     },
     "execution_count": 35,
     "metadata": {},
     "output_type": "execute_result"
    }
   ],
   "source": [
    "outcomes_df.groupby('Animal Type').sum()"
   ]
  },
  {
   "cell_type": "code",
   "execution_count": 36,
   "metadata": {
    "ExecuteTime": {
     "end_time": "2022-03-01T19:59:45.234556Z",
     "start_time": "2022-03-01T19:59:45.049475Z"
    },
    "collapsed": true
   },
   "outputs": [
    {
     "data": {
      "text/html": [
       "<div>\n",
       "<style scoped>\n",
       "    .dataframe tbody tr th:only-of-type {\n",
       "        vertical-align: middle;\n",
       "    }\n",
       "\n",
       "    .dataframe tbody tr th {\n",
       "        vertical-align: top;\n",
       "    }\n",
       "\n",
       "    .dataframe thead th {\n",
       "        text-align: right;\n",
       "    }\n",
       "</style>\n",
       "<table border=\"1\" class=\"dataframe\">\n",
       "  <thead>\n",
       "    <tr style=\"text-align: right;\">\n",
       "      <th></th>\n",
       "      <th>Age in Days</th>\n",
       "    </tr>\n",
       "    <tr>\n",
       "      <th>Animal Type</th>\n",
       "      <th></th>\n",
       "    </tr>\n",
       "  </thead>\n",
       "  <tbody>\n",
       "    <tr>\n",
       "      <th>Bird</th>\n",
       "      <td>533.716981</td>\n",
       "    </tr>\n",
       "    <tr>\n",
       "      <th>Cat</th>\n",
       "      <td>532.816939</td>\n",
       "    </tr>\n",
       "    <tr>\n",
       "      <th>Dog</th>\n",
       "      <td>1004.114514</td>\n",
       "    </tr>\n",
       "    <tr>\n",
       "      <th>Livestock</th>\n",
       "      <td>503.800000</td>\n",
       "    </tr>\n",
       "    <tr>\n",
       "      <th>Other</th>\n",
       "      <td>479.143665</td>\n",
       "    </tr>\n",
       "  </tbody>\n",
       "</table>\n",
       "</div>"
      ],
      "text/plain": [
       "             Age in Days\n",
       "Animal Type             \n",
       "Bird          533.716981\n",
       "Cat           532.816939\n",
       "Dog          1004.114514\n",
       "Livestock     503.800000\n",
       "Other         479.143665"
      ]
     },
     "execution_count": 36,
     "metadata": {},
     "output_type": "execute_result"
    }
   ],
   "source": [
    "outcomes_df.groupby('Animal Type').mean()"
   ]
  },
  {
   "cell_type": "code",
   "execution_count": 37,
   "metadata": {
    "ExecuteTime": {
     "end_time": "2022-03-01T19:59:50.206708Z",
     "start_time": "2022-03-01T19:59:48.963960Z"
    }
   },
   "outputs": [
    {
     "ename": "AssertionError",
     "evalue": "",
     "output_type": "error",
     "traceback": [
      "\u001b[1;31m---------------------------------------------------------------------------\u001b[0m",
      "\u001b[1;31mAssertionError\u001b[0m                            Traceback (most recent call last)",
      "\u001b[1;32m<ipython-input-37-ecb83aaf6fb0>\u001b[0m in \u001b[0;36m<module>\u001b[1;34m\u001b[0m\n\u001b[1;32m----> 1\u001b[1;33m \u001b[0moutcomes_df\u001b[0m\u001b[1;33m.\u001b[0m\u001b[0mgroupby\u001b[0m\u001b[1;33m(\u001b[0m\u001b[1;34m'Animal Type'\u001b[0m\u001b[1;33m)\u001b[0m\u001b[1;33m.\u001b[0m\u001b[0mmax\u001b[0m\u001b[1;33m(\u001b[0m\u001b[1;33m)\u001b[0m\u001b[1;33m\u001b[0m\u001b[1;33m\u001b[0m\u001b[0m\n\u001b[0m",
      "\u001b[1;32m~\\anaconda3\\envs\\learn-env\\lib\\site-packages\\pandas\\core\\groupby\\groupby.py\u001b[0m in \u001b[0;36mmax\u001b[1;34m(self, numeric_only, min_count)\u001b[0m\n\u001b[0;32m   1555\u001b[0m     \u001b[1;33m@\u001b[0m\u001b[0mdoc\u001b[0m\u001b[1;33m(\u001b[0m\u001b[0m_groupby_agg_method_template\u001b[0m\u001b[1;33m,\u001b[0m \u001b[0mfname\u001b[0m\u001b[1;33m=\u001b[0m\u001b[1;34m\"max\"\u001b[0m\u001b[1;33m,\u001b[0m \u001b[0mno\u001b[0m\u001b[1;33m=\u001b[0m\u001b[1;32mFalse\u001b[0m\u001b[1;33m,\u001b[0m \u001b[0mmc\u001b[0m\u001b[1;33m=\u001b[0m\u001b[1;33m-\u001b[0m\u001b[1;36m1\u001b[0m\u001b[1;33m)\u001b[0m\u001b[1;33m\u001b[0m\u001b[1;33m\u001b[0m\u001b[0m\n\u001b[0;32m   1556\u001b[0m     \u001b[1;32mdef\u001b[0m \u001b[0mmax\u001b[0m\u001b[1;33m(\u001b[0m\u001b[0mself\u001b[0m\u001b[1;33m,\u001b[0m \u001b[0mnumeric_only\u001b[0m\u001b[1;33m:\u001b[0m \u001b[0mbool\u001b[0m \u001b[1;33m=\u001b[0m \u001b[1;32mFalse\u001b[0m\u001b[1;33m,\u001b[0m \u001b[0mmin_count\u001b[0m\u001b[1;33m:\u001b[0m \u001b[0mint\u001b[0m \u001b[1;33m=\u001b[0m \u001b[1;33m-\u001b[0m\u001b[1;36m1\u001b[0m\u001b[1;33m)\u001b[0m\u001b[1;33m:\u001b[0m\u001b[1;33m\u001b[0m\u001b[1;33m\u001b[0m\u001b[0m\n\u001b[1;32m-> 1557\u001b[1;33m         return self._agg_general(\n\u001b[0m\u001b[0;32m   1558\u001b[0m             \u001b[0mnumeric_only\u001b[0m\u001b[1;33m=\u001b[0m\u001b[0mnumeric_only\u001b[0m\u001b[1;33m,\u001b[0m \u001b[0mmin_count\u001b[0m\u001b[1;33m=\u001b[0m\u001b[0mmin_count\u001b[0m\u001b[1;33m,\u001b[0m \u001b[0malias\u001b[0m\u001b[1;33m=\u001b[0m\u001b[1;34m\"max\"\u001b[0m\u001b[1;33m,\u001b[0m \u001b[0mnpfunc\u001b[0m\u001b[1;33m=\u001b[0m\u001b[0mnp\u001b[0m\u001b[1;33m.\u001b[0m\u001b[0mmax\u001b[0m\u001b[1;33m\u001b[0m\u001b[1;33m\u001b[0m\u001b[0m\n\u001b[0;32m   1559\u001b[0m         )\n",
      "\u001b[1;32m~\\anaconda3\\envs\\learn-env\\lib\\site-packages\\pandas\\core\\groupby\\groupby.py\u001b[0m in \u001b[0;36m_agg_general\u001b[1;34m(self, numeric_only, min_count, alias, npfunc)\u001b[0m\n\u001b[0;32m    997\u001b[0m         \u001b[1;31m# try a cython aggregation if we can\u001b[0m\u001b[1;33m\u001b[0m\u001b[1;33m\u001b[0m\u001b[1;33m\u001b[0m\u001b[0m\n\u001b[0;32m    998\u001b[0m         \u001b[1;32mtry\u001b[0m\u001b[1;33m:\u001b[0m\u001b[1;33m\u001b[0m\u001b[1;33m\u001b[0m\u001b[0m\n\u001b[1;32m--> 999\u001b[1;33m             return self._cython_agg_general(\n\u001b[0m\u001b[0;32m   1000\u001b[0m                 \u001b[0mhow\u001b[0m\u001b[1;33m=\u001b[0m\u001b[0malias\u001b[0m\u001b[1;33m,\u001b[0m \u001b[0malt\u001b[0m\u001b[1;33m=\u001b[0m\u001b[0mnpfunc\u001b[0m\u001b[1;33m,\u001b[0m \u001b[0mnumeric_only\u001b[0m\u001b[1;33m=\u001b[0m\u001b[0mnumeric_only\u001b[0m\u001b[1;33m,\u001b[0m \u001b[0mmin_count\u001b[0m\u001b[1;33m=\u001b[0m\u001b[0mmin_count\u001b[0m\u001b[1;33m,\u001b[0m\u001b[1;33m\u001b[0m\u001b[1;33m\u001b[0m\u001b[0m\n\u001b[0;32m   1001\u001b[0m             )\n",
      "\u001b[1;32m~\\anaconda3\\envs\\learn-env\\lib\\site-packages\\pandas\\core\\groupby\\generic.py\u001b[0m in \u001b[0;36m_cython_agg_general\u001b[1;34m(self, how, alt, numeric_only, min_count)\u001b[0m\n\u001b[0;32m   1019\u001b[0m         \u001b[0mself\u001b[0m\u001b[1;33m,\u001b[0m \u001b[0mhow\u001b[0m\u001b[1;33m:\u001b[0m \u001b[0mstr\u001b[0m\u001b[1;33m,\u001b[0m \u001b[0malt\u001b[0m\u001b[1;33m=\u001b[0m\u001b[1;32mNone\u001b[0m\u001b[1;33m,\u001b[0m \u001b[0mnumeric_only\u001b[0m\u001b[1;33m:\u001b[0m \u001b[0mbool\u001b[0m \u001b[1;33m=\u001b[0m \u001b[1;32mTrue\u001b[0m\u001b[1;33m,\u001b[0m \u001b[0mmin_count\u001b[0m\u001b[1;33m:\u001b[0m \u001b[0mint\u001b[0m \u001b[1;33m=\u001b[0m \u001b[1;33m-\u001b[0m\u001b[1;36m1\u001b[0m\u001b[1;33m\u001b[0m\u001b[1;33m\u001b[0m\u001b[0m\n\u001b[0;32m   1020\u001b[0m     ) -> DataFrame:\n\u001b[1;32m-> 1021\u001b[1;33m         agg_blocks, agg_items = self._cython_agg_blocks(\n\u001b[0m\u001b[0;32m   1022\u001b[0m             \u001b[0mhow\u001b[0m\u001b[1;33m,\u001b[0m \u001b[0malt\u001b[0m\u001b[1;33m=\u001b[0m\u001b[0malt\u001b[0m\u001b[1;33m,\u001b[0m \u001b[0mnumeric_only\u001b[0m\u001b[1;33m=\u001b[0m\u001b[0mnumeric_only\u001b[0m\u001b[1;33m,\u001b[0m \u001b[0mmin_count\u001b[0m\u001b[1;33m=\u001b[0m\u001b[0mmin_count\u001b[0m\u001b[1;33m\u001b[0m\u001b[1;33m\u001b[0m\u001b[0m\n\u001b[0;32m   1023\u001b[0m         )\n",
      "\u001b[1;32m~\\anaconda3\\envs\\learn-env\\lib\\site-packages\\pandas\\core\\groupby\\generic.py\u001b[0m in \u001b[0;36m_cython_agg_blocks\u001b[1;34m(self, how, alt, numeric_only, min_count)\u001b[0m\n\u001b[0;32m   1133\u001b[0m             \u001b[1;31m# Clean up the mess left over from split blocks.\u001b[0m\u001b[1;33m\u001b[0m\u001b[1;33m\u001b[0m\u001b[1;33m\u001b[0m\u001b[0m\n\u001b[0;32m   1134\u001b[0m             \u001b[1;32mfor\u001b[0m \u001b[0mlocs\u001b[0m\u001b[1;33m,\u001b[0m \u001b[0mresult\u001b[0m \u001b[1;32min\u001b[0m \u001b[0mzip\u001b[0m\u001b[1;33m(\u001b[0m\u001b[0msplit_items\u001b[0m\u001b[1;33m,\u001b[0m \u001b[0msplit_frames\u001b[0m\u001b[1;33m)\u001b[0m\u001b[1;33m:\u001b[0m\u001b[1;33m\u001b[0m\u001b[1;33m\u001b[0m\u001b[0m\n\u001b[1;32m-> 1135\u001b[1;33m                 \u001b[1;32massert\u001b[0m \u001b[0mlen\u001b[0m\u001b[1;33m(\u001b[0m\u001b[0mlocs\u001b[0m\u001b[1;33m)\u001b[0m \u001b[1;33m==\u001b[0m \u001b[0mresult\u001b[0m\u001b[1;33m.\u001b[0m\u001b[0mshape\u001b[0m\u001b[1;33m[\u001b[0m\u001b[1;36m1\u001b[0m\u001b[1;33m]\u001b[0m\u001b[1;33m\u001b[0m\u001b[1;33m\u001b[0m\u001b[0m\n\u001b[0m\u001b[0;32m   1136\u001b[0m                 \u001b[1;32mfor\u001b[0m \u001b[0mi\u001b[0m\u001b[1;33m,\u001b[0m \u001b[0mloc\u001b[0m \u001b[1;32min\u001b[0m \u001b[0menumerate\u001b[0m\u001b[1;33m(\u001b[0m\u001b[0mlocs\u001b[0m\u001b[1;33m)\u001b[0m\u001b[1;33m:\u001b[0m\u001b[1;33m\u001b[0m\u001b[1;33m\u001b[0m\u001b[0m\n\u001b[0;32m   1137\u001b[0m                     \u001b[0mnew_items\u001b[0m\u001b[1;33m.\u001b[0m\u001b[0mappend\u001b[0m\u001b[1;33m(\u001b[0m\u001b[0mnp\u001b[0m\u001b[1;33m.\u001b[0m\u001b[0marray\u001b[0m\u001b[1;33m(\u001b[0m\u001b[1;33m[\u001b[0m\u001b[0mloc\u001b[0m\u001b[1;33m]\u001b[0m\u001b[1;33m,\u001b[0m \u001b[0mdtype\u001b[0m\u001b[1;33m=\u001b[0m\u001b[0mlocs\u001b[0m\u001b[1;33m.\u001b[0m\u001b[0mdtype\u001b[0m\u001b[1;33m)\u001b[0m\u001b[1;33m)\u001b[0m\u001b[1;33m\u001b[0m\u001b[1;33m\u001b[0m\u001b[0m\n",
      "\u001b[1;31mAssertionError\u001b[0m: "
     ]
    }
   ],
   "source": [
    "outcomes_df.groupby('Animal Type').max()"
   ]
  },
  {
   "cell_type": "code",
   "execution_count": null,
   "metadata": {
    "ExecuteTime": {
     "end_time": "2022-03-01T20:08:49.880082Z",
     "start_time": "2022-03-01T20:08:49.874081Z"
    }
   },
   "outputs": [],
   "source": []
  },
  {
   "cell_type": "code",
   "execution_count": null,
   "metadata": {},
   "outputs": [],
   "source": []
  },
  {
   "cell_type": "markdown",
   "metadata": {
    "heading_collapsed": true,
    "hidden": true
   },
   "source": [
    "## Exercise"
   ]
  },
  {
   "cell_type": "markdown",
   "metadata": {
    "hidden": true
   },
   "source": [
    "Use `.groupby()` to find the most recently born of each (main) animal type."
   ]
  },
  {
   "cell_type": "code",
   "execution_count": 42,
   "metadata": {
    "ExecuteTime": {
     "end_time": "2022-03-01T20:01:37.745455Z",
     "start_time": "2022-03-01T20:01:37.723451Z"
    },
    "scrolled": true
   },
   "outputs": [
    {
     "data": {
      "text/plain": [
       "132768   1991-09-22\n",
       "69946    1991-12-11\n",
       "8567     1992-06-25\n",
       "126685   1993-10-03\n",
       "26029    1994-01-25\n",
       "            ...    \n",
       "136967   2022-02-14\n",
       "136852   2022-02-18\n",
       "136857   2022-02-18\n",
       "136856   2022-02-18\n",
       "136859   2022-02-18\n",
       "Name: Date of Birth, Length: 137097, dtype: datetime64[ns]"
      ]
     },
     "execution_count": 42,
     "metadata": {},
     "output_type": "execute_result"
    }
   ],
   "source": [
    "outcomes_df['Date of Birth'].sort_values()"
   ]
  },
  {
   "cell_type": "code",
   "execution_count": 62,
   "metadata": {
    "ExecuteTime": {
     "end_time": "2022-03-01T20:10:50.617614Z",
     "start_time": "2022-03-01T20:10:50.580609Z"
    },
    "hidden": true
   },
   "outputs": [
    {
     "data": {
      "text/plain": [
       "Animal Type\n",
       "Bird        2022-01-06\n",
       "Cat         2022-02-18\n",
       "Dog         2022-02-14\n",
       "Livestock   2020-05-28\n",
       "Other       2022-02-11\n",
       "Name: Date of Birth, dtype: datetime64[ns]"
      ]
     },
     "execution_count": 62,
     "metadata": {},
     "output_type": "execute_result"
    }
   ],
   "source": [
    "# Your code here\n",
    "outcomes_df.groupby(['Animal Type'])['Date of Birth'].max()"
   ]
  },
  {
   "cell_type": "markdown",
   "metadata": {
    "heading_collapsed": true
   },
   "source": [
    "# Pivoting a DataFrame"
   ]
  },
  {
   "cell_type": "markdown",
   "metadata": {
    "heading_collapsed": true,
    "hidden": true
   },
   "source": [
    "## `.pivot_table()`"
   ]
  },
  {
   "cell_type": "markdown",
   "metadata": {
    "hidden": true
   },
   "source": [
    "Those of you familiar with Excel have probably used Pivot Tables. Pandas has a similar functionality.\n",
    "\n",
    "Grouping by two different columns can be very helpful."
   ]
  },
  {
   "cell_type": "code",
   "execution_count": 64,
   "metadata": {
    "ExecuteTime": {
     "end_time": "2022-03-01T20:12:10.793400Z",
     "start_time": "2022-03-01T20:12:10.545346Z"
    },
    "hidden": true
   },
   "outputs": [
    {
     "data": {
      "text/html": [
       "<div>\n",
       "<style scoped>\n",
       "    .dataframe tbody tr th:only-of-type {\n",
       "        vertical-align: middle;\n",
       "    }\n",
       "\n",
       "    .dataframe tbody tr th {\n",
       "        vertical-align: top;\n",
       "    }\n",
       "\n",
       "    .dataframe thead th {\n",
       "        text-align: right;\n",
       "    }\n",
       "</style>\n",
       "<table border=\"1\" class=\"dataframe\">\n",
       "  <thead>\n",
       "    <tr style=\"text-align: right;\">\n",
       "      <th></th>\n",
       "      <th></th>\n",
       "      <th>Age in Days</th>\n",
       "    </tr>\n",
       "    <tr>\n",
       "      <th>Outcome Type</th>\n",
       "      <th>Sex upon Outcome</th>\n",
       "      <th></th>\n",
       "    </tr>\n",
       "  </thead>\n",
       "  <tbody>\n",
       "    <tr>\n",
       "      <th rowspan=\"5\" valign=\"top\">Adoption</th>\n",
       "      <th>Intact Female</th>\n",
       "      <td>419.505568</td>\n",
       "    </tr>\n",
       "    <tr>\n",
       "      <th>Intact Male</th>\n",
       "      <td>476.596774</td>\n",
       "    </tr>\n",
       "    <tr>\n",
       "      <th>Neutered Male</th>\n",
       "      <td>651.126203</td>\n",
       "    </tr>\n",
       "    <tr>\n",
       "      <th>Spayed Female</th>\n",
       "      <td>648.050078</td>\n",
       "    </tr>\n",
       "    <tr>\n",
       "      <th>Unknown</th>\n",
       "      <td>389.964286</td>\n",
       "    </tr>\n",
       "    <tr>\n",
       "      <th rowspan=\"5\" valign=\"top\">Died</th>\n",
       "      <th>Intact Female</th>\n",
       "      <td>349.628049</td>\n",
       "    </tr>\n",
       "    <tr>\n",
       "      <th>Intact Male</th>\n",
       "      <td>304.392157</td>\n",
       "    </tr>\n",
       "    <tr>\n",
       "      <th>Neutered Male</th>\n",
       "      <td>1859.732673</td>\n",
       "    </tr>\n",
       "    <tr>\n",
       "      <th>Spayed Female</th>\n",
       "      <td>2099.905263</td>\n",
       "    </tr>\n",
       "    <tr>\n",
       "      <th>Unknown</th>\n",
       "      <td>311.192737</td>\n",
       "    </tr>\n",
       "    <tr>\n",
       "      <th rowspan=\"5\" valign=\"top\">Disposal</th>\n",
       "      <th>Intact Female</th>\n",
       "      <td>407.277778</td>\n",
       "    </tr>\n",
       "    <tr>\n",
       "      <th>Intact Male</th>\n",
       "      <td>735.935484</td>\n",
       "    </tr>\n",
       "    <tr>\n",
       "      <th>Neutered Male</th>\n",
       "      <td>1987.777778</td>\n",
       "    </tr>\n",
       "    <tr>\n",
       "      <th>Spayed Female</th>\n",
       "      <td>2470.166667</td>\n",
       "    </tr>\n",
       "    <tr>\n",
       "      <th>Unknown</th>\n",
       "      <td>447.166016</td>\n",
       "    </tr>\n",
       "    <tr>\n",
       "      <th rowspan=\"5\" valign=\"top\">Euthanasia</th>\n",
       "      <th>Intact Female</th>\n",
       "      <td>1133.424632</td>\n",
       "    </tr>\n",
       "    <tr>\n",
       "      <th>Intact Male</th>\n",
       "      <td>902.476300</td>\n",
       "    </tr>\n",
       "    <tr>\n",
       "      <th>Neutered Male</th>\n",
       "      <td>2226.837838</td>\n",
       "    </tr>\n",
       "    <tr>\n",
       "      <th>Spayed Female</th>\n",
       "      <td>2313.677966</td>\n",
       "    </tr>\n",
       "    <tr>\n",
       "      <th>Unknown</th>\n",
       "      <td>503.333588</td>\n",
       "    </tr>\n",
       "    <tr>\n",
       "      <th rowspan=\"5\" valign=\"top\">Missing</th>\n",
       "      <th>Intact Female</th>\n",
       "      <td>266.800000</td>\n",
       "    </tr>\n",
       "    <tr>\n",
       "      <th>Intact Male</th>\n",
       "      <td>340.846154</td>\n",
       "    </tr>\n",
       "    <tr>\n",
       "      <th>Neutered Male</th>\n",
       "      <td>1188.285714</td>\n",
       "    </tr>\n",
       "    <tr>\n",
       "      <th>Spayed Female</th>\n",
       "      <td>1262.733333</td>\n",
       "    </tr>\n",
       "    <tr>\n",
       "      <th>Unknown</th>\n",
       "      <td>169.250000</td>\n",
       "    </tr>\n",
       "    <tr>\n",
       "      <th rowspan=\"4\" valign=\"top\">Relocate</th>\n",
       "      <th>Intact Female</th>\n",
       "      <td>732.000000</td>\n",
       "    </tr>\n",
       "    <tr>\n",
       "      <th>Neutered Male</th>\n",
       "      <td>1105.000000</td>\n",
       "    </tr>\n",
       "    <tr>\n",
       "      <th>Spayed Female</th>\n",
       "      <td>495.000000</td>\n",
       "    </tr>\n",
       "    <tr>\n",
       "      <th>Unknown</th>\n",
       "      <td>612.200000</td>\n",
       "    </tr>\n",
       "    <tr>\n",
       "      <th rowspan=\"5\" valign=\"top\">Return to Owner</th>\n",
       "      <th>Intact Female</th>\n",
       "      <td>1067.053879</td>\n",
       "    </tr>\n",
       "    <tr>\n",
       "      <th>Intact Male</th>\n",
       "      <td>1110.232182</td>\n",
       "    </tr>\n",
       "    <tr>\n",
       "      <th>Neutered Male</th>\n",
       "      <td>1634.609964</td>\n",
       "    </tr>\n",
       "    <tr>\n",
       "      <th>Spayed Female</th>\n",
       "      <td>1751.059214</td>\n",
       "    </tr>\n",
       "    <tr>\n",
       "      <th>Unknown</th>\n",
       "      <td>764.225275</td>\n",
       "    </tr>\n",
       "    <tr>\n",
       "      <th rowspan=\"5\" valign=\"top\">Rto-Adopt</th>\n",
       "      <th>Intact Female</th>\n",
       "      <td>1481.142857</td>\n",
       "    </tr>\n",
       "    <tr>\n",
       "      <th>Intact Male</th>\n",
       "      <td>1503.175000</td>\n",
       "    </tr>\n",
       "    <tr>\n",
       "      <th>Neutered Male</th>\n",
       "      <td>1254.399577</td>\n",
       "    </tr>\n",
       "    <tr>\n",
       "      <th>Spayed Female</th>\n",
       "      <td>1252.076923</td>\n",
       "    </tr>\n",
       "    <tr>\n",
       "      <th>Unknown</th>\n",
       "      <td>1590.000000</td>\n",
       "    </tr>\n",
       "    <tr>\n",
       "      <th rowspan=\"5\" valign=\"top\">Transfer</th>\n",
       "      <th>Intact Female</th>\n",
       "      <td>409.499911</td>\n",
       "    </tr>\n",
       "    <tr>\n",
       "      <th>Intact Male</th>\n",
       "      <td>351.252856</td>\n",
       "    </tr>\n",
       "    <tr>\n",
       "      <th>Neutered Male</th>\n",
       "      <td>1126.408920</td>\n",
       "    </tr>\n",
       "    <tr>\n",
       "      <th>Spayed Female</th>\n",
       "      <td>1097.636076</td>\n",
       "    </tr>\n",
       "    <tr>\n",
       "      <th>Unknown</th>\n",
       "      <td>169.775301</td>\n",
       "    </tr>\n",
       "  </tbody>\n",
       "</table>\n",
       "</div>"
      ],
      "text/plain": [
       "                                  Age in Days\n",
       "Outcome Type    Sex upon Outcome             \n",
       "Adoption        Intact Female      419.505568\n",
       "                Intact Male        476.596774\n",
       "                Neutered Male      651.126203\n",
       "                Spayed Female      648.050078\n",
       "                Unknown            389.964286\n",
       "Died            Intact Female      349.628049\n",
       "                Intact Male        304.392157\n",
       "                Neutered Male     1859.732673\n",
       "                Spayed Female     2099.905263\n",
       "                Unknown            311.192737\n",
       "Disposal        Intact Female      407.277778\n",
       "                Intact Male        735.935484\n",
       "                Neutered Male     1987.777778\n",
       "                Spayed Female     2470.166667\n",
       "                Unknown            447.166016\n",
       "Euthanasia      Intact Female     1133.424632\n",
       "                Intact Male        902.476300\n",
       "                Neutered Male     2226.837838\n",
       "                Spayed Female     2313.677966\n",
       "                Unknown            503.333588\n",
       "Missing         Intact Female      266.800000\n",
       "                Intact Male        340.846154\n",
       "                Neutered Male     1188.285714\n",
       "                Spayed Female     1262.733333\n",
       "                Unknown            169.250000\n",
       "Relocate        Intact Female      732.000000\n",
       "                Neutered Male     1105.000000\n",
       "                Spayed Female      495.000000\n",
       "                Unknown            612.200000\n",
       "Return to Owner Intact Female     1067.053879\n",
       "                Intact Male       1110.232182\n",
       "                Neutered Male     1634.609964\n",
       "                Spayed Female     1751.059214\n",
       "                Unknown            764.225275\n",
       "Rto-Adopt       Intact Female     1481.142857\n",
       "                Intact Male       1503.175000\n",
       "                Neutered Male     1254.399577\n",
       "                Spayed Female     1252.076923\n",
       "                Unknown           1590.000000\n",
       "Transfer        Intact Female      409.499911\n",
       "                Intact Male        351.252856\n",
       "                Neutered Male     1126.408920\n",
       "                Spayed Female     1097.636076\n",
       "                Unknown            169.775301"
      ]
     },
     "execution_count": 64,
     "metadata": {},
     "output_type": "execute_result"
    }
   ],
   "source": [
    "# Groupby two columns\n",
    "outcomes_df.groupby(by=['Outcome Type', 'Sex upon Outcome']).agg('mean')"
   ]
  },
  {
   "cell_type": "markdown",
   "metadata": {
    "hidden": true
   },
   "source": [
    "But it has the unsavory side effect of creating a two-level index. This can be a good time to use `.pivot_table()`.\n",
    "\n",
    "(There is also a `.pivot()`. For the somewhat subtle differences, see [here](https://stackoverflow.com/questions/30960338/pandas-difference-between-pivot-and-pivot-table-why-is-only-pivot-table-workin).)"
   ]
  },
  {
   "cell_type": "code",
   "execution_count": 66,
   "metadata": {
    "ExecuteTime": {
     "end_time": "2022-03-01T20:12:58.951831Z",
     "start_time": "2022-03-01T20:12:58.652295Z"
    },
    "hidden": true
   },
   "outputs": [
    {
     "data": {
      "text/html": [
       "<div>\n",
       "<style scoped>\n",
       "    .dataframe tbody tr th:only-of-type {\n",
       "        vertical-align: middle;\n",
       "    }\n",
       "\n",
       "    .dataframe tbody tr th {\n",
       "        vertical-align: top;\n",
       "    }\n",
       "\n",
       "    .dataframe thead tr th {\n",
       "        text-align: left;\n",
       "    }\n",
       "\n",
       "    .dataframe thead tr:last-of-type th {\n",
       "        text-align: right;\n",
       "    }\n",
       "</style>\n",
       "<table border=\"1\" class=\"dataframe\">\n",
       "  <thead>\n",
       "    <tr>\n",
       "      <th></th>\n",
       "      <th colspan=\"5\" halign=\"left\">Age in Days</th>\n",
       "    </tr>\n",
       "    <tr>\n",
       "      <th>Sex upon Outcome</th>\n",
       "      <th>Intact Female</th>\n",
       "      <th>Intact Male</th>\n",
       "      <th>Neutered Male</th>\n",
       "      <th>Spayed Female</th>\n",
       "      <th>Unknown</th>\n",
       "    </tr>\n",
       "    <tr>\n",
       "      <th>Outcome Type</th>\n",
       "      <th></th>\n",
       "      <th></th>\n",
       "      <th></th>\n",
       "      <th></th>\n",
       "      <th></th>\n",
       "    </tr>\n",
       "  </thead>\n",
       "  <tbody>\n",
       "    <tr>\n",
       "      <th>Adoption</th>\n",
       "      <td>419.505568</td>\n",
       "      <td>476.596774</td>\n",
       "      <td>651.126203</td>\n",
       "      <td>648.050078</td>\n",
       "      <td>389.964286</td>\n",
       "    </tr>\n",
       "    <tr>\n",
       "      <th>Died</th>\n",
       "      <td>349.628049</td>\n",
       "      <td>304.392157</td>\n",
       "      <td>1859.732673</td>\n",
       "      <td>2099.905263</td>\n",
       "      <td>311.192737</td>\n",
       "    </tr>\n",
       "    <tr>\n",
       "      <th>Disposal</th>\n",
       "      <td>407.277778</td>\n",
       "      <td>735.935484</td>\n",
       "      <td>1987.777778</td>\n",
       "      <td>2470.166667</td>\n",
       "      <td>447.166016</td>\n",
       "    </tr>\n",
       "    <tr>\n",
       "      <th>Euthanasia</th>\n",
       "      <td>1133.424632</td>\n",
       "      <td>902.476300</td>\n",
       "      <td>2226.837838</td>\n",
       "      <td>2313.677966</td>\n",
       "      <td>503.333588</td>\n",
       "    </tr>\n",
       "    <tr>\n",
       "      <th>Missing</th>\n",
       "      <td>266.800000</td>\n",
       "      <td>340.846154</td>\n",
       "      <td>1188.285714</td>\n",
       "      <td>1262.733333</td>\n",
       "      <td>169.250000</td>\n",
       "    </tr>\n",
       "    <tr>\n",
       "      <th>Relocate</th>\n",
       "      <td>732.000000</td>\n",
       "      <td>NaN</td>\n",
       "      <td>1105.000000</td>\n",
       "      <td>495.000000</td>\n",
       "      <td>612.200000</td>\n",
       "    </tr>\n",
       "    <tr>\n",
       "      <th>Return to Owner</th>\n",
       "      <td>1067.053879</td>\n",
       "      <td>1110.232182</td>\n",
       "      <td>1634.609964</td>\n",
       "      <td>1751.059214</td>\n",
       "      <td>764.225275</td>\n",
       "    </tr>\n",
       "    <tr>\n",
       "      <th>Rto-Adopt</th>\n",
       "      <td>1481.142857</td>\n",
       "      <td>1503.175000</td>\n",
       "      <td>1254.399577</td>\n",
       "      <td>1252.076923</td>\n",
       "      <td>1590.000000</td>\n",
       "    </tr>\n",
       "    <tr>\n",
       "      <th>Transfer</th>\n",
       "      <td>409.499911</td>\n",
       "      <td>351.252856</td>\n",
       "      <td>1126.408920</td>\n",
       "      <td>1097.636076</td>\n",
       "      <td>169.775301</td>\n",
       "    </tr>\n",
       "  </tbody>\n",
       "</table>\n",
       "</div>"
      ],
      "text/plain": [
       "                   Age in Days                                           \\\n",
       "Sex upon Outcome Intact Female  Intact Male Neutered Male Spayed Female   \n",
       "Outcome Type                                                              \n",
       "Adoption            419.505568   476.596774    651.126203    648.050078   \n",
       "Died                349.628049   304.392157   1859.732673   2099.905263   \n",
       "Disposal            407.277778   735.935484   1987.777778   2470.166667   \n",
       "Euthanasia         1133.424632   902.476300   2226.837838   2313.677966   \n",
       "Missing             266.800000   340.846154   1188.285714   1262.733333   \n",
       "Relocate            732.000000          NaN   1105.000000    495.000000   \n",
       "Return to Owner    1067.053879  1110.232182   1634.609964   1751.059214   \n",
       "Rto-Adopt          1481.142857  1503.175000   1254.399577   1252.076923   \n",
       "Transfer            409.499911   351.252856   1126.408920   1097.636076   \n",
       "\n",
       "                               \n",
       "Sex upon Outcome      Unknown  \n",
       "Outcome Type                   \n",
       "Adoption           389.964286  \n",
       "Died               311.192737  \n",
       "Disposal           447.166016  \n",
       "Euthanasia         503.333588  \n",
       "Missing            169.250000  \n",
       "Relocate           612.200000  \n",
       "Return to Owner    764.225275  \n",
       "Rto-Adopt         1590.000000  \n",
       "Transfer           169.775301  "
      ]
     },
     "execution_count": 66,
     "metadata": {},
     "output_type": "execute_result"
    }
   ],
   "source": [
    "# Now try with a pivot table\n",
    "outcomes_df.pivot_table(index='Outcome Type', columns='Sex upon Outcome', aggfunc='mean')"
   ]
  },
  {
   "cell_type": "markdown",
   "metadata": {
    "heading_collapsed": true,
    "hidden": true
   },
   "source": [
    "## Exercise"
   ]
  },
  {
   "cell_type": "markdown",
   "metadata": {
    "hidden": true
   },
   "source": [
    "Use `.pivot_table()` to add up the number of my tasks by category. \n",
    "\n",
    ">  Hint: Use `sum()` as your aggregating function."
   ]
  },
  {
   "cell_type": "code",
   "execution_count": 71,
   "metadata": {
    "ExecuteTime": {
     "end_time": "2022-03-01T20:16:16.320817Z",
     "start_time": "2022-03-01T20:16:16.258150Z"
    },
    "hidden": true
   },
   "outputs": [
    {
     "data": {
      "text/html": [
       "<div>\n",
       "<style scoped>\n",
       "    .dataframe tbody tr th:only-of-type {\n",
       "        vertical-align: middle;\n",
       "    }\n",
       "\n",
       "    .dataframe tbody tr th {\n",
       "        vertical-align: top;\n",
       "    }\n",
       "\n",
       "    .dataframe thead th {\n",
       "        text-align: right;\n",
       "    }\n",
       "</style>\n",
       "<table border=\"1\" class=\"dataframe\">\n",
       "  <thead>\n",
       "    <tr style=\"text-align: right;\">\n",
       "      <th></th>\n",
       "      <th>category</th>\n",
       "      <th>descr</th>\n",
       "      <th>priority</th>\n",
       "      <th>num_tasks</th>\n",
       "    </tr>\n",
       "  </thead>\n",
       "  <tbody>\n",
       "    <tr>\n",
       "      <th>0</th>\n",
       "      <td>house</td>\n",
       "      <td>kitchen</td>\n",
       "      <td>2</td>\n",
       "      <td>2</td>\n",
       "    </tr>\n",
       "    <tr>\n",
       "      <th>1</th>\n",
       "      <td>house</td>\n",
       "      <td>laundry</td>\n",
       "      <td>3</td>\n",
       "      <td>1</td>\n",
       "    </tr>\n",
       "    <tr>\n",
       "      <th>2</th>\n",
       "      <td>school</td>\n",
       "      <td>git</td>\n",
       "      <td>4</td>\n",
       "      <td>2</td>\n",
       "    </tr>\n",
       "    <tr>\n",
       "      <th>3</th>\n",
       "      <td>school</td>\n",
       "      <td>Python</td>\n",
       "      <td>1</td>\n",
       "      <td>3</td>\n",
       "    </tr>\n",
       "  </tbody>\n",
       "</table>\n",
       "</div>"
      ],
      "text/plain": [
       "  category    descr  priority  num_tasks\n",
       "0    house  kitchen         2          2\n",
       "1    house  laundry         3          1\n",
       "2   school      git         4          2\n",
       "3   school   Python         1          3"
      ]
     },
     "execution_count": 71,
     "metadata": {},
     "output_type": "execute_result"
    }
   ],
   "source": [
    "tasks = pd.DataFrame({'category': ['house', 'house', 'school', 'school'],\n",
    "                      'descr': ['kitchen', 'laundry', 'git', 'Python'],\n",
    "                      'priority': [2, 3, 4, 1], 'num_tasks': [2, 1, 2, 3]})\n",
    "\n",
    "tasks"
   ]
  },
  {
   "cell_type": "code",
   "execution_count": 77,
   "metadata": {
    "ExecuteTime": {
     "end_time": "2022-03-01T20:17:31.119815Z",
     "start_time": "2022-03-01T20:17:31.065773Z"
    }
   },
   "outputs": [
    {
     "data": {
      "text/html": [
       "<div>\n",
       "<style scoped>\n",
       "    .dataframe tbody tr th:only-of-type {\n",
       "        vertical-align: middle;\n",
       "    }\n",
       "\n",
       "    .dataframe tbody tr th {\n",
       "        vertical-align: top;\n",
       "    }\n",
       "\n",
       "    .dataframe thead th {\n",
       "        text-align: right;\n",
       "    }\n",
       "</style>\n",
       "<table border=\"1\" class=\"dataframe\">\n",
       "  <thead>\n",
       "    <tr style=\"text-align: right;\">\n",
       "      <th></th>\n",
       "      <th>num_tasks</th>\n",
       "    </tr>\n",
       "    <tr>\n",
       "      <th>category</th>\n",
       "      <th></th>\n",
       "    </tr>\n",
       "  </thead>\n",
       "  <tbody>\n",
       "    <tr>\n",
       "      <th>house</th>\n",
       "      <td>3</td>\n",
       "    </tr>\n",
       "    <tr>\n",
       "      <th>school</th>\n",
       "      <td>5</td>\n",
       "    </tr>\n",
       "  </tbody>\n",
       "</table>\n",
       "</div>"
      ],
      "text/plain": [
       "          num_tasks\n",
       "category           \n",
       "house             3\n",
       "school            5"
      ]
     },
     "execution_count": 77,
     "metadata": {},
     "output_type": "execute_result"
    }
   ],
   "source": [
    "tasks.pivot_table(index='category',aggfunc = sum, values = 'num_tasks')"
   ]
  },
  {
   "cell_type": "markdown",
   "metadata": {
    "heading_collapsed": true
   },
   "source": [
    "# Methods for Combining DataFrames: `.join()`, `.merge()`, `.concat()`\n",
    "\n",
    "Many ways to combine dataframes! Luckily, pandas has great docs: https://pandas.pydata.org/pandas-docs/stable/user_guide/merging.html"
   ]
  },
  {
   "cell_type": "markdown",
   "metadata": {
    "heading_collapsed": true,
    "hidden": true
   },
   "source": [
    "## `.join()`"
   ]
  },
  {
   "cell_type": "code",
   "execution_count": 78,
   "metadata": {
    "ExecuteTime": {
     "end_time": "2022-03-01T20:22:05.135022Z",
     "start_time": "2022-03-01T20:22:05.115017Z"
    },
    "hidden": true
   },
   "outputs": [
    {
     "data": {
      "text/html": [
       "<div>\n",
       "<style scoped>\n",
       "    .dataframe tbody tr th:only-of-type {\n",
       "        vertical-align: middle;\n",
       "    }\n",
       "\n",
       "    .dataframe tbody tr th {\n",
       "        vertical-align: top;\n",
       "    }\n",
       "\n",
       "    .dataframe thead th {\n",
       "        text-align: right;\n",
       "    }\n",
       "</style>\n",
       "<table border=\"1\" class=\"dataframe\">\n",
       "  <thead>\n",
       "    <tr style=\"text-align: right;\">\n",
       "      <th></th>\n",
       "      <th>age</th>\n",
       "      <th>HP</th>\n",
       "    </tr>\n",
       "  </thead>\n",
       "  <tbody>\n",
       "    <tr>\n",
       "      <th>0</th>\n",
       "      <td>63</td>\n",
       "      <td>142</td>\n",
       "    </tr>\n",
       "    <tr>\n",
       "      <th>1</th>\n",
       "      <td>33</td>\n",
       "      <td>47</td>\n",
       "    </tr>\n",
       "  </tbody>\n",
       "</table>\n",
       "</div>"
      ],
      "text/plain": [
       "   age   HP\n",
       "0   63  142\n",
       "1   33   47"
      ]
     },
     "execution_count": 78,
     "metadata": {},
     "output_type": "execute_result"
    }
   ],
   "source": [
    "toy1 = pd.DataFrame([[63, 142], [33, 47]], columns=['age', 'HP'])\n",
    "toy2 = pd.DataFrame([[63, 100], [33, 200]], columns=['age', 'MP'])\n",
    "\n",
    "toy1"
   ]
  },
  {
   "cell_type": "code",
   "execution_count": 79,
   "metadata": {
    "ExecuteTime": {
     "end_time": "2022-03-01T20:22:05.878635Z",
     "start_time": "2022-03-01T20:22:05.868636Z"
    },
    "hidden": true
   },
   "outputs": [
    {
     "data": {
      "text/html": [
       "<div>\n",
       "<style scoped>\n",
       "    .dataframe tbody tr th:only-of-type {\n",
       "        vertical-align: middle;\n",
       "    }\n",
       "\n",
       "    .dataframe tbody tr th {\n",
       "        vertical-align: top;\n",
       "    }\n",
       "\n",
       "    .dataframe thead th {\n",
       "        text-align: right;\n",
       "    }\n",
       "</style>\n",
       "<table border=\"1\" class=\"dataframe\">\n",
       "  <thead>\n",
       "    <tr style=\"text-align: right;\">\n",
       "      <th></th>\n",
       "      <th>age</th>\n",
       "      <th>MP</th>\n",
       "    </tr>\n",
       "  </thead>\n",
       "  <tbody>\n",
       "    <tr>\n",
       "      <th>0</th>\n",
       "      <td>63</td>\n",
       "      <td>100</td>\n",
       "    </tr>\n",
       "    <tr>\n",
       "      <th>1</th>\n",
       "      <td>33</td>\n",
       "      <td>200</td>\n",
       "    </tr>\n",
       "  </tbody>\n",
       "</table>\n",
       "</div>"
      ],
      "text/plain": [
       "   age   MP\n",
       "0   63  100\n",
       "1   33  200"
      ]
     },
     "execution_count": 79,
     "metadata": {},
     "output_type": "execute_result"
    }
   ],
   "source": [
    "toy2"
   ]
  },
  {
   "cell_type": "code",
   "execution_count": 80,
   "metadata": {
    "ExecuteTime": {
     "end_time": "2022-03-01T20:22:06.485842Z",
     "start_time": "2022-03-01T20:22:06.468839Z"
    },
    "hidden": true
   },
   "outputs": [
    {
     "ename": "ValueError",
     "evalue": "columns overlap but no suffix specified: Index(['age'], dtype='object')",
     "output_type": "error",
     "traceback": [
      "\u001b[1;31m---------------------------------------------------------------------------\u001b[0m",
      "\u001b[1;31mValueError\u001b[0m                                Traceback (most recent call last)",
      "\u001b[1;32m<ipython-input-80-ab3e8f36fbb5>\u001b[0m in \u001b[0;36m<module>\u001b[1;34m\u001b[0m\n\u001b[0;32m      1\u001b[0m \u001b[1;31m# We can't just join these as they are, since we haven't specified our suffixes\u001b[0m\u001b[1;33m\u001b[0m\u001b[1;33m\u001b[0m\u001b[1;33m\u001b[0m\u001b[0m\n\u001b[0;32m      2\u001b[0m \u001b[1;33m\u001b[0m\u001b[0m\n\u001b[1;32m----> 3\u001b[1;33m \u001b[0mtoy1\u001b[0m\u001b[1;33m.\u001b[0m\u001b[0mjoin\u001b[0m\u001b[1;33m(\u001b[0m\u001b[0mtoy2\u001b[0m\u001b[1;33m)\u001b[0m\u001b[1;33m\u001b[0m\u001b[1;33m\u001b[0m\u001b[0m\n\u001b[0m",
      "\u001b[1;32m~\\anaconda3\\envs\\learn-env\\lib\\site-packages\\pandas\\core\\frame.py\u001b[0m in \u001b[0;36mjoin\u001b[1;34m(self, other, on, how, lsuffix, rsuffix, sort)\u001b[0m\n\u001b[0;32m   7868\u001b[0m         \u001b[1;36m5\u001b[0m  \u001b[0mK5\u001b[0m  \u001b[0mA5\u001b[0m  \u001b[0mNaN\u001b[0m\u001b[1;33m\u001b[0m\u001b[1;33m\u001b[0m\u001b[0m\n\u001b[0;32m   7869\u001b[0m         \"\"\"\n\u001b[1;32m-> 7870\u001b[1;33m         return self._join_compat(\n\u001b[0m\u001b[0;32m   7871\u001b[0m             \u001b[0mother\u001b[0m\u001b[1;33m,\u001b[0m \u001b[0mon\u001b[0m\u001b[1;33m=\u001b[0m\u001b[0mon\u001b[0m\u001b[1;33m,\u001b[0m \u001b[0mhow\u001b[0m\u001b[1;33m=\u001b[0m\u001b[0mhow\u001b[0m\u001b[1;33m,\u001b[0m \u001b[0mlsuffix\u001b[0m\u001b[1;33m=\u001b[0m\u001b[0mlsuffix\u001b[0m\u001b[1;33m,\u001b[0m \u001b[0mrsuffix\u001b[0m\u001b[1;33m=\u001b[0m\u001b[0mrsuffix\u001b[0m\u001b[1;33m,\u001b[0m \u001b[0msort\u001b[0m\u001b[1;33m=\u001b[0m\u001b[0msort\u001b[0m\u001b[1;33m\u001b[0m\u001b[1;33m\u001b[0m\u001b[0m\n\u001b[0;32m   7872\u001b[0m         )\n",
      "\u001b[1;32m~\\anaconda3\\envs\\learn-env\\lib\\site-packages\\pandas\\core\\frame.py\u001b[0m in \u001b[0;36m_join_compat\u001b[1;34m(self, other, on, how, lsuffix, rsuffix, sort)\u001b[0m\n\u001b[0;32m   7884\u001b[0m \u001b[1;33m\u001b[0m\u001b[0m\n\u001b[0;32m   7885\u001b[0m         \u001b[1;32mif\u001b[0m \u001b[0misinstance\u001b[0m\u001b[1;33m(\u001b[0m\u001b[0mother\u001b[0m\u001b[1;33m,\u001b[0m \u001b[0mDataFrame\u001b[0m\u001b[1;33m)\u001b[0m\u001b[1;33m:\u001b[0m\u001b[1;33m\u001b[0m\u001b[1;33m\u001b[0m\u001b[0m\n\u001b[1;32m-> 7886\u001b[1;33m             return merge(\n\u001b[0m\u001b[0;32m   7887\u001b[0m                 \u001b[0mself\u001b[0m\u001b[1;33m,\u001b[0m\u001b[1;33m\u001b[0m\u001b[1;33m\u001b[0m\u001b[0m\n\u001b[0;32m   7888\u001b[0m                 \u001b[0mother\u001b[0m\u001b[1;33m,\u001b[0m\u001b[1;33m\u001b[0m\u001b[1;33m\u001b[0m\u001b[0m\n",
      "\u001b[1;32m~\\anaconda3\\envs\\learn-env\\lib\\site-packages\\pandas\\core\\reshape\\merge.py\u001b[0m in \u001b[0;36mmerge\u001b[1;34m(left, right, how, on, left_on, right_on, left_index, right_index, sort, suffixes, copy, indicator, validate)\u001b[0m\n\u001b[0;32m     87\u001b[0m         \u001b[0mvalidate\u001b[0m\u001b[1;33m=\u001b[0m\u001b[0mvalidate\u001b[0m\u001b[1;33m,\u001b[0m\u001b[1;33m\u001b[0m\u001b[1;33m\u001b[0m\u001b[0m\n\u001b[0;32m     88\u001b[0m     )\n\u001b[1;32m---> 89\u001b[1;33m     \u001b[1;32mreturn\u001b[0m \u001b[0mop\u001b[0m\u001b[1;33m.\u001b[0m\u001b[0mget_result\u001b[0m\u001b[1;33m(\u001b[0m\u001b[1;33m)\u001b[0m\u001b[1;33m\u001b[0m\u001b[1;33m\u001b[0m\u001b[0m\n\u001b[0m\u001b[0;32m     90\u001b[0m \u001b[1;33m\u001b[0m\u001b[0m\n\u001b[0;32m     91\u001b[0m \u001b[1;33m\u001b[0m\u001b[0m\n",
      "\u001b[1;32m~\\anaconda3\\envs\\learn-env\\lib\\site-packages\\pandas\\core\\reshape\\merge.py\u001b[0m in \u001b[0;36mget_result\u001b[1;34m(self)\u001b[0m\n\u001b[0;32m    668\u001b[0m         \u001b[0mjoin_index\u001b[0m\u001b[1;33m,\u001b[0m \u001b[0mleft_indexer\u001b[0m\u001b[1;33m,\u001b[0m \u001b[0mright_indexer\u001b[0m \u001b[1;33m=\u001b[0m \u001b[0mself\u001b[0m\u001b[1;33m.\u001b[0m\u001b[0m_get_join_info\u001b[0m\u001b[1;33m(\u001b[0m\u001b[1;33m)\u001b[0m\u001b[1;33m\u001b[0m\u001b[1;33m\u001b[0m\u001b[0m\n\u001b[0;32m    669\u001b[0m \u001b[1;33m\u001b[0m\u001b[0m\n\u001b[1;32m--> 670\u001b[1;33m         llabels, rlabels = _items_overlap_with_suffix(\n\u001b[0m\u001b[0;32m    671\u001b[0m             \u001b[0mself\u001b[0m\u001b[1;33m.\u001b[0m\u001b[0mleft\u001b[0m\u001b[1;33m.\u001b[0m\u001b[0m_info_axis\u001b[0m\u001b[1;33m,\u001b[0m \u001b[0mself\u001b[0m\u001b[1;33m.\u001b[0m\u001b[0mright\u001b[0m\u001b[1;33m.\u001b[0m\u001b[0m_info_axis\u001b[0m\u001b[1;33m,\u001b[0m \u001b[0mself\u001b[0m\u001b[1;33m.\u001b[0m\u001b[0msuffixes\u001b[0m\u001b[1;33m\u001b[0m\u001b[1;33m\u001b[0m\u001b[0m\n\u001b[0;32m    672\u001b[0m         )\n",
      "\u001b[1;32m~\\anaconda3\\envs\\learn-env\\lib\\site-packages\\pandas\\core\\reshape\\merge.py\u001b[0m in \u001b[0;36m_items_overlap_with_suffix\u001b[1;34m(left, right, suffixes)\u001b[0m\n\u001b[0;32m   2089\u001b[0m \u001b[1;33m\u001b[0m\u001b[0m\n\u001b[0;32m   2090\u001b[0m     \u001b[1;32mif\u001b[0m \u001b[1;32mnot\u001b[0m \u001b[0mlsuffix\u001b[0m \u001b[1;32mand\u001b[0m \u001b[1;32mnot\u001b[0m \u001b[0mrsuffix\u001b[0m\u001b[1;33m:\u001b[0m\u001b[1;33m\u001b[0m\u001b[1;33m\u001b[0m\u001b[0m\n\u001b[1;32m-> 2091\u001b[1;33m         \u001b[1;32mraise\u001b[0m \u001b[0mValueError\u001b[0m\u001b[1;33m(\u001b[0m\u001b[1;34mf\"columns overlap but no suffix specified: {to_rename}\"\u001b[0m\u001b[1;33m)\u001b[0m\u001b[1;33m\u001b[0m\u001b[1;33m\u001b[0m\u001b[0m\n\u001b[0m\u001b[0;32m   2092\u001b[0m \u001b[1;33m\u001b[0m\u001b[0m\n\u001b[0;32m   2093\u001b[0m     \u001b[1;32mdef\u001b[0m \u001b[0mrenamer\u001b[0m\u001b[1;33m(\u001b[0m\u001b[0mx\u001b[0m\u001b[1;33m,\u001b[0m \u001b[0msuffix\u001b[0m\u001b[1;33m)\u001b[0m\u001b[1;33m:\u001b[0m\u001b[1;33m\u001b[0m\u001b[1;33m\u001b[0m\u001b[0m\n",
      "\u001b[1;31mValueError\u001b[0m: columns overlap but no suffix specified: Index(['age'], dtype='object')"
     ]
    }
   ],
   "source": [
    "# We can't just join these as they are, since we haven't specified our suffixes\n",
    "\n",
    "toy1.join(toy2)"
   ]
  },
  {
   "cell_type": "code",
   "execution_count": 83,
   "metadata": {
    "ExecuteTime": {
     "end_time": "2022-03-01T20:23:21.377149Z",
     "start_time": "2022-03-01T20:23:21.341122Z"
    },
    "hidden": true
   },
   "outputs": [
    {
     "data": {
      "text/html": [
       "<div>\n",
       "<style scoped>\n",
       "    .dataframe tbody tr th:only-of-type {\n",
       "        vertical-align: middle;\n",
       "    }\n",
       "\n",
       "    .dataframe tbody tr th {\n",
       "        vertical-align: top;\n",
       "    }\n",
       "\n",
       "    .dataframe thead th {\n",
       "        text-align: right;\n",
       "    }\n",
       "</style>\n",
       "<table border=\"1\" class=\"dataframe\">\n",
       "  <thead>\n",
       "    <tr style=\"text-align: right;\">\n",
       "      <th></th>\n",
       "      <th>age1</th>\n",
       "      <th>HP</th>\n",
       "      <th>age2</th>\n",
       "      <th>MP</th>\n",
       "    </tr>\n",
       "  </thead>\n",
       "  <tbody>\n",
       "    <tr>\n",
       "      <th>0</th>\n",
       "      <td>63</td>\n",
       "      <td>142</td>\n",
       "      <td>63</td>\n",
       "      <td>100</td>\n",
       "    </tr>\n",
       "    <tr>\n",
       "      <th>1</th>\n",
       "      <td>33</td>\n",
       "      <td>47</td>\n",
       "      <td>33</td>\n",
       "      <td>200</td>\n",
       "    </tr>\n",
       "  </tbody>\n",
       "</table>\n",
       "</div>"
      ],
      "text/plain": [
       "   age1   HP  age2   MP\n",
       "0    63  142    63  100\n",
       "1    33   47    33  200"
      ]
     },
     "execution_count": 83,
     "metadata": {},
     "output_type": "execute_result"
    }
   ],
   "source": [
    "toy1.join(toy2, lsuffix='1', rsuffix='2')"
   ]
  },
  {
   "cell_type": "markdown",
   "metadata": {
    "hidden": true
   },
   "source": [
    "If we don't want to keep both, we could set the overlapping column as the index in each DataFrame:"
   ]
  },
  {
   "cell_type": "code",
   "execution_count": 84,
   "metadata": {
    "ExecuteTime": {
     "end_time": "2022-03-01T20:23:26.647047Z",
     "start_time": "2022-03-01T20:23:26.637010Z"
    },
    "hidden": true
   },
   "outputs": [
    {
     "data": {
      "text/html": [
       "<div>\n",
       "<style scoped>\n",
       "    .dataframe tbody tr th:only-of-type {\n",
       "        vertical-align: middle;\n",
       "    }\n",
       "\n",
       "    .dataframe tbody tr th {\n",
       "        vertical-align: top;\n",
       "    }\n",
       "\n",
       "    .dataframe thead th {\n",
       "        text-align: right;\n",
       "    }\n",
       "</style>\n",
       "<table border=\"1\" class=\"dataframe\">\n",
       "  <thead>\n",
       "    <tr style=\"text-align: right;\">\n",
       "      <th></th>\n",
       "      <th>HP</th>\n",
       "      <th>MP</th>\n",
       "    </tr>\n",
       "    <tr>\n",
       "      <th>age</th>\n",
       "      <th></th>\n",
       "      <th></th>\n",
       "    </tr>\n",
       "  </thead>\n",
       "  <tbody>\n",
       "    <tr>\n",
       "      <th>63</th>\n",
       "      <td>142</td>\n",
       "      <td>100</td>\n",
       "    </tr>\n",
       "    <tr>\n",
       "      <th>33</th>\n",
       "      <td>47</td>\n",
       "      <td>200</td>\n",
       "    </tr>\n",
       "  </tbody>\n",
       "</table>\n",
       "</div>"
      ],
      "text/plain": [
       "      HP   MP\n",
       "age          \n",
       "63   142  100\n",
       "33    47  200"
      ]
     },
     "execution_count": 84,
     "metadata": {},
     "output_type": "execute_result"
    }
   ],
   "source": [
    "toy1.set_index('age').join(toy2.set_index('age'))"
   ]
  },
  {
   "cell_type": "code",
   "execution_count": 89,
   "metadata": {
    "ExecuteTime": {
     "end_time": "2022-03-01T20:26:28.946154Z",
     "start_time": "2022-03-01T20:26:28.937152Z"
    },
    "scrolled": false
   },
   "outputs": [
    {
     "data": {
      "text/html": [
       "<div>\n",
       "<style scoped>\n",
       "    .dataframe tbody tr th:only-of-type {\n",
       "        vertical-align: middle;\n",
       "    }\n",
       "\n",
       "    .dataframe tbody tr th {\n",
       "        vertical-align: top;\n",
       "    }\n",
       "\n",
       "    .dataframe thead th {\n",
       "        text-align: right;\n",
       "    }\n",
       "</style>\n",
       "<table border=\"1\" class=\"dataframe\">\n",
       "  <thead>\n",
       "    <tr style=\"text-align: right;\">\n",
       "      <th></th>\n",
       "      <th>HP</th>\n",
       "      <th>age</th>\n",
       "      <th>MP</th>\n",
       "    </tr>\n",
       "  </thead>\n",
       "  <tbody>\n",
       "    <tr>\n",
       "      <th>0</th>\n",
       "      <td>142</td>\n",
       "      <td>63</td>\n",
       "      <td>100</td>\n",
       "    </tr>\n",
       "    <tr>\n",
       "      <th>1</th>\n",
       "      <td>47</td>\n",
       "      <td>33</td>\n",
       "      <td>200</td>\n",
       "    </tr>\n",
       "  </tbody>\n",
       "</table>\n",
       "</div>"
      ],
      "text/plain": [
       "    HP  age   MP\n",
       "0  142   63  100\n",
       "1   47   33  200"
      ]
     },
     "execution_count": 89,
     "metadata": {},
     "output_type": "execute_result"
    }
   ],
   "source": [
    "toy1.drop('age', axis=1).join(toy2)"
   ]
  },
  {
   "cell_type": "code",
   "execution_count": 91,
   "metadata": {
    "ExecuteTime": {
     "end_time": "2022-03-01T20:26:42.399180Z",
     "start_time": "2022-03-01T20:26:42.379177Z"
    }
   },
   "outputs": [
    {
     "data": {
      "text/html": [
       "<div>\n",
       "<style scoped>\n",
       "    .dataframe tbody tr th:only-of-type {\n",
       "        vertical-align: middle;\n",
       "    }\n",
       "\n",
       "    .dataframe tbody tr th {\n",
       "        vertical-align: top;\n",
       "    }\n",
       "\n",
       "    .dataframe thead th {\n",
       "        text-align: right;\n",
       "    }\n",
       "</style>\n",
       "<table border=\"1\" class=\"dataframe\">\n",
       "  <thead>\n",
       "    <tr style=\"text-align: right;\">\n",
       "      <th></th>\n",
       "      <th>HP</th>\n",
       "    </tr>\n",
       "    <tr>\n",
       "      <th>age</th>\n",
       "      <th></th>\n",
       "    </tr>\n",
       "  </thead>\n",
       "  <tbody>\n",
       "    <tr>\n",
       "      <th>63</th>\n",
       "      <td>142</td>\n",
       "    </tr>\n",
       "    <tr>\n",
       "      <th>33</th>\n",
       "      <td>47</td>\n",
       "    </tr>\n",
       "  </tbody>\n",
       "</table>\n",
       "</div>"
      ],
      "text/plain": [
       "      HP\n",
       "age     \n",
       "63   142\n",
       "33    47"
      ]
     },
     "execution_count": 91,
     "metadata": {},
     "output_type": "execute_result"
    }
   ],
   "source": [
    "toy1.join()"
   ]
  },
  {
   "cell_type": "markdown",
   "metadata": {
    "heading_collapsed": true,
    "hidden": true
   },
   "source": [
    "## `.merge()`"
   ]
  },
  {
   "cell_type": "markdown",
   "metadata": {
    "hidden": true
   },
   "source": [
    "Or we could use `.merge()`:"
   ]
  },
  {
   "cell_type": "code",
   "execution_count": 92,
   "metadata": {
    "ExecuteTime": {
     "end_time": "2022-03-01T20:27:18.676857Z",
     "start_time": "2022-03-01T20:27:18.660853Z"
    },
    "hidden": true
   },
   "outputs": [
    {
     "data": {
      "text/html": [
       "<div>\n",
       "<style scoped>\n",
       "    .dataframe tbody tr th:only-of-type {\n",
       "        vertical-align: middle;\n",
       "    }\n",
       "\n",
       "    .dataframe tbody tr th {\n",
       "        vertical-align: top;\n",
       "    }\n",
       "\n",
       "    .dataframe thead th {\n",
       "        text-align: right;\n",
       "    }\n",
       "</style>\n",
       "<table border=\"1\" class=\"dataframe\">\n",
       "  <thead>\n",
       "    <tr style=\"text-align: right;\">\n",
       "      <th></th>\n",
       "      <th>age</th>\n",
       "      <th>HP</th>\n",
       "      <th>MP</th>\n",
       "    </tr>\n",
       "  </thead>\n",
       "  <tbody>\n",
       "    <tr>\n",
       "      <th>0</th>\n",
       "      <td>63</td>\n",
       "      <td>142</td>\n",
       "      <td>100</td>\n",
       "    </tr>\n",
       "    <tr>\n",
       "      <th>1</th>\n",
       "      <td>33</td>\n",
       "      <td>47</td>\n",
       "      <td>200</td>\n",
       "    </tr>\n",
       "  </tbody>\n",
       "</table>\n",
       "</div>"
      ],
      "text/plain": [
       "   age   HP   MP\n",
       "0   63  142  100\n",
       "1   33   47  200"
      ]
     },
     "execution_count": 92,
     "metadata": {},
     "output_type": "execute_result"
    }
   ],
   "source": [
    "toy1.merge(toy2)"
   ]
  },
  {
   "cell_type": "code",
   "execution_count": 93,
   "metadata": {
    "ExecuteTime": {
     "end_time": "2022-03-01T20:27:20.809117Z",
     "start_time": "2022-03-01T20:27:20.794115Z"
    },
    "hidden": true
   },
   "outputs": [
    {
     "data": {
      "text/html": [
       "<div>\n",
       "<style scoped>\n",
       "    .dataframe tbody tr th:only-of-type {\n",
       "        vertical-align: middle;\n",
       "    }\n",
       "\n",
       "    .dataframe tbody tr th {\n",
       "        vertical-align: top;\n",
       "    }\n",
       "\n",
       "    .dataframe thead th {\n",
       "        text-align: right;\n",
       "    }\n",
       "</style>\n",
       "<table border=\"1\" class=\"dataframe\">\n",
       "  <thead>\n",
       "    <tr style=\"text-align: right;\">\n",
       "      <th></th>\n",
       "      <th>name</th>\n",
       "      <th>HP</th>\n",
       "      <th>home_state</th>\n",
       "    </tr>\n",
       "  </thead>\n",
       "  <tbody>\n",
       "    <tr>\n",
       "      <th>0</th>\n",
       "      <td>greg</td>\n",
       "      <td>200</td>\n",
       "      <td>WA</td>\n",
       "    </tr>\n",
       "    <tr>\n",
       "      <th>1</th>\n",
       "      <td>miles</td>\n",
       "      <td>200</td>\n",
       "      <td>WA</td>\n",
       "    </tr>\n",
       "    <tr>\n",
       "      <th>2</th>\n",
       "      <td>alan</td>\n",
       "      <td>170</td>\n",
       "      <td>TX</td>\n",
       "    </tr>\n",
       "    <tr>\n",
       "      <th>3</th>\n",
       "      <td>alison</td>\n",
       "      <td>300</td>\n",
       "      <td>DC</td>\n",
       "    </tr>\n",
       "    <tr>\n",
       "      <th>4</th>\n",
       "      <td>rachel</td>\n",
       "      <td>200</td>\n",
       "      <td>TX</td>\n",
       "    </tr>\n",
       "  </tbody>\n",
       "</table>\n",
       "</div>"
      ],
      "text/plain": [
       "     name   HP home_state\n",
       "0    greg  200         WA\n",
       "1   miles  200         WA\n",
       "2    alan  170         TX\n",
       "3  alison  300         DC\n",
       "4  rachel  200         TX"
      ]
     },
     "execution_count": 93,
     "metadata": {},
     "output_type": "execute_result"
    }
   ],
   "source": [
    "# Let's try with a SLIGHTLY bigger toy dataset\n",
    "ds_chars = pd.read_csv('data/ds_chars.csv', index_col=0)\n",
    "ds_chars"
   ]
  },
  {
   "cell_type": "code",
   "execution_count": 94,
   "metadata": {
    "ExecuteTime": {
     "end_time": "2022-03-01T20:27:24.651109Z",
     "start_time": "2022-03-01T20:27:24.627105Z"
    },
    "hidden": true
   },
   "outputs": [
    {
     "data": {
      "text/html": [
       "<div>\n",
       "<style scoped>\n",
       "    .dataframe tbody tr th:only-of-type {\n",
       "        vertical-align: middle;\n",
       "    }\n",
       "\n",
       "    .dataframe tbody tr th {\n",
       "        vertical-align: top;\n",
       "    }\n",
       "\n",
       "    .dataframe thead th {\n",
       "        text-align: right;\n",
       "    }\n",
       "</style>\n",
       "<table border=\"1\" class=\"dataframe\">\n",
       "  <thead>\n",
       "    <tr style=\"text-align: right;\">\n",
       "      <th></th>\n",
       "      <th>state</th>\n",
       "      <th>nickname</th>\n",
       "      <th>capital</th>\n",
       "    </tr>\n",
       "  </thead>\n",
       "  <tbody>\n",
       "    <tr>\n",
       "      <th>0</th>\n",
       "      <td>WA</td>\n",
       "      <td>evergreen</td>\n",
       "      <td>Olympia</td>\n",
       "    </tr>\n",
       "    <tr>\n",
       "      <th>1</th>\n",
       "      <td>TX</td>\n",
       "      <td>alamo</td>\n",
       "      <td>Austin</td>\n",
       "    </tr>\n",
       "    <tr>\n",
       "      <th>2</th>\n",
       "      <td>DC</td>\n",
       "      <td>district</td>\n",
       "      <td>Washington</td>\n",
       "    </tr>\n",
       "    <tr>\n",
       "      <th>3</th>\n",
       "      <td>OH</td>\n",
       "      <td>buckeye</td>\n",
       "      <td>Columbus</td>\n",
       "    </tr>\n",
       "    <tr>\n",
       "      <th>4</th>\n",
       "      <td>OR</td>\n",
       "      <td>beaver</td>\n",
       "      <td>Salem</td>\n",
       "    </tr>\n",
       "  </tbody>\n",
       "</table>\n",
       "</div>"
      ],
      "text/plain": [
       "  state   nickname     capital\n",
       "0    WA  evergreen     Olympia\n",
       "1    TX      alamo      Austin\n",
       "2    DC   district  Washington\n",
       "3    OH    buckeye    Columbus\n",
       "4    OR     beaver       Salem"
      ]
     },
     "execution_count": 94,
     "metadata": {},
     "output_type": "execute_result"
    }
   ],
   "source": [
    "# And another to merge it with\n",
    "states = pd.read_csv('data/states.csv', index_col=0)\n",
    "states"
   ]
  },
  {
   "cell_type": "markdown",
   "metadata": {
    "heading_collapsed": true,
    "hidden": true
   },
   "source": [
    "## The `how` Parameter"
   ]
  },
  {
   "cell_type": "markdown",
   "metadata": {
    "hidden": true
   },
   "source": [
    "This parameter in both `.join()` and `.merge()` tells the compiler what sort of join to effect. We'll cover this in detail when we discuss SQL.\n",
    "\n",
    "![image showcasing how the how parameter in a join/merge would combine the two datasets, using venn-style diagrams](https://www.datasciencemadesimple.com/wp-content/uploads/2017/09/join-or-merge-in-python-pandas-1.png)\n",
    "[[Image Source]](https://www.datasciencemadesimple.com/join-merge-data-frames-pandas-python/)"
   ]
  },
  {
   "cell_type": "code",
   "execution_count": 100,
   "metadata": {
    "ExecuteTime": {
     "end_time": "2022-03-01T20:30:41.878716Z",
     "start_time": "2022-03-01T20:30:41.854710Z"
    },
    "hidden": true
   },
   "outputs": [
    {
     "data": {
      "text/html": [
       "<div>\n",
       "<style scoped>\n",
       "    .dataframe tbody tr th:only-of-type {\n",
       "        vertical-align: middle;\n",
       "    }\n",
       "\n",
       "    .dataframe tbody tr th {\n",
       "        vertical-align: top;\n",
       "    }\n",
       "\n",
       "    .dataframe thead th {\n",
       "        text-align: right;\n",
       "    }\n",
       "</style>\n",
       "<table border=\"1\" class=\"dataframe\">\n",
       "  <thead>\n",
       "    <tr style=\"text-align: right;\">\n",
       "      <th></th>\n",
       "      <th>name</th>\n",
       "      <th>HP</th>\n",
       "      <th>home_state</th>\n",
       "      <th>state</th>\n",
       "      <th>nickname</th>\n",
       "      <th>capital</th>\n",
       "    </tr>\n",
       "  </thead>\n",
       "  <tbody>\n",
       "    <tr>\n",
       "      <th>0</th>\n",
       "      <td>greg</td>\n",
       "      <td>200</td>\n",
       "      <td>WA</td>\n",
       "      <td>WA</td>\n",
       "      <td>evergreen</td>\n",
       "      <td>Olympia</td>\n",
       "    </tr>\n",
       "    <tr>\n",
       "      <th>1</th>\n",
       "      <td>miles</td>\n",
       "      <td>200</td>\n",
       "      <td>WA</td>\n",
       "      <td>WA</td>\n",
       "      <td>evergreen</td>\n",
       "      <td>Olympia</td>\n",
       "    </tr>\n",
       "    <tr>\n",
       "      <th>2</th>\n",
       "      <td>alan</td>\n",
       "      <td>170</td>\n",
       "      <td>TX</td>\n",
       "      <td>TX</td>\n",
       "      <td>alamo</td>\n",
       "      <td>Austin</td>\n",
       "    </tr>\n",
       "    <tr>\n",
       "      <th>3</th>\n",
       "      <td>rachel</td>\n",
       "      <td>200</td>\n",
       "      <td>TX</td>\n",
       "      <td>TX</td>\n",
       "      <td>alamo</td>\n",
       "      <td>Austin</td>\n",
       "    </tr>\n",
       "    <tr>\n",
       "      <th>4</th>\n",
       "      <td>alison</td>\n",
       "      <td>300</td>\n",
       "      <td>DC</td>\n",
       "      <td>DC</td>\n",
       "      <td>district</td>\n",
       "      <td>Washington</td>\n",
       "    </tr>\n",
       "  </tbody>\n",
       "</table>\n",
       "</div>"
      ],
      "text/plain": [
       "     name   HP home_state state   nickname     capital\n",
       "0    greg  200         WA    WA  evergreen     Olympia\n",
       "1   miles  200         WA    WA  evergreen     Olympia\n",
       "2    alan  170         TX    TX      alamo      Austin\n",
       "3  rachel  200         TX    TX      alamo      Austin\n",
       "4  alison  300         DC    DC   district  Washington"
      ]
     },
     "execution_count": 100,
     "metadata": {},
     "output_type": "execute_result"
    }
   ],
   "source": [
    "# Merge ds_chars and states - first an inner join\n",
    "ds_chars.merge(states, \n",
    "               how= 'inner', \n",
    "               left_on='home_state',\n",
    "               right_on = 'state')"
   ]
  },
  {
   "cell_type": "code",
   "execution_count": 101,
   "metadata": {
    "ExecuteTime": {
     "end_time": "2022-03-01T20:31:20.315049Z",
     "start_time": "2022-03-01T20:31:20.292044Z"
    },
    "hidden": true
   },
   "outputs": [
    {
     "data": {
      "text/html": [
       "<div>\n",
       "<style scoped>\n",
       "    .dataframe tbody tr th:only-of-type {\n",
       "        vertical-align: middle;\n",
       "    }\n",
       "\n",
       "    .dataframe tbody tr th {\n",
       "        vertical-align: top;\n",
       "    }\n",
       "\n",
       "    .dataframe thead th {\n",
       "        text-align: right;\n",
       "    }\n",
       "</style>\n",
       "<table border=\"1\" class=\"dataframe\">\n",
       "  <thead>\n",
       "    <tr style=\"text-align: right;\">\n",
       "      <th></th>\n",
       "      <th>name</th>\n",
       "      <th>HP</th>\n",
       "      <th>home_state</th>\n",
       "      <th>state</th>\n",
       "      <th>nickname</th>\n",
       "      <th>capital</th>\n",
       "    </tr>\n",
       "  </thead>\n",
       "  <tbody>\n",
       "    <tr>\n",
       "      <th>0</th>\n",
       "      <td>greg</td>\n",
       "      <td>200.0</td>\n",
       "      <td>WA</td>\n",
       "      <td>WA</td>\n",
       "      <td>evergreen</td>\n",
       "      <td>Olympia</td>\n",
       "    </tr>\n",
       "    <tr>\n",
       "      <th>1</th>\n",
       "      <td>miles</td>\n",
       "      <td>200.0</td>\n",
       "      <td>WA</td>\n",
       "      <td>WA</td>\n",
       "      <td>evergreen</td>\n",
       "      <td>Olympia</td>\n",
       "    </tr>\n",
       "    <tr>\n",
       "      <th>2</th>\n",
       "      <td>alan</td>\n",
       "      <td>170.0</td>\n",
       "      <td>TX</td>\n",
       "      <td>TX</td>\n",
       "      <td>alamo</td>\n",
       "      <td>Austin</td>\n",
       "    </tr>\n",
       "    <tr>\n",
       "      <th>3</th>\n",
       "      <td>rachel</td>\n",
       "      <td>200.0</td>\n",
       "      <td>TX</td>\n",
       "      <td>TX</td>\n",
       "      <td>alamo</td>\n",
       "      <td>Austin</td>\n",
       "    </tr>\n",
       "    <tr>\n",
       "      <th>4</th>\n",
       "      <td>alison</td>\n",
       "      <td>300.0</td>\n",
       "      <td>DC</td>\n",
       "      <td>DC</td>\n",
       "      <td>district</td>\n",
       "      <td>Washington</td>\n",
       "    </tr>\n",
       "    <tr>\n",
       "      <th>5</th>\n",
       "      <td>NaN</td>\n",
       "      <td>NaN</td>\n",
       "      <td>NaN</td>\n",
       "      <td>OH</td>\n",
       "      <td>buckeye</td>\n",
       "      <td>Columbus</td>\n",
       "    </tr>\n",
       "    <tr>\n",
       "      <th>6</th>\n",
       "      <td>NaN</td>\n",
       "      <td>NaN</td>\n",
       "      <td>NaN</td>\n",
       "      <td>OR</td>\n",
       "      <td>beaver</td>\n",
       "      <td>Salem</td>\n",
       "    </tr>\n",
       "  </tbody>\n",
       "</table>\n",
       "</div>"
      ],
      "text/plain": [
       "     name     HP home_state state   nickname     capital\n",
       "0    greg  200.0         WA    WA  evergreen     Olympia\n",
       "1   miles  200.0         WA    WA  evergreen     Olympia\n",
       "2    alan  170.0         TX    TX      alamo      Austin\n",
       "3  rachel  200.0         TX    TX      alamo      Austin\n",
       "4  alison  300.0         DC    DC   district  Washington\n",
       "5     NaN    NaN        NaN    OH    buckeye    Columbus\n",
       "6     NaN    NaN        NaN    OR     beaver       Salem"
      ]
     },
     "execution_count": 101,
     "metadata": {},
     "output_type": "execute_result"
    }
   ],
   "source": [
    "# Now an outer join\n",
    "ds_chars.merge(states, \n",
    "               how= 'outer', \n",
    "               left_on='home_state',\n",
    "               right_on = 'state')"
   ]
  },
  {
   "cell_type": "markdown",
   "metadata": {
    "heading_collapsed": true,
    "hidden": true
   },
   "source": [
    "## `pd.concat()`"
   ]
  },
  {
   "cell_type": "markdown",
   "metadata": {
    "hidden": true
   },
   "source": [
    "This method takes a *list* of pandas objects as arguments."
   ]
  },
  {
   "cell_type": "code",
   "execution_count": 103,
   "metadata": {
    "ExecuteTime": {
     "end_time": "2022-03-01T20:33:15.422628Z",
     "start_time": "2022-03-01T20:33:15.395622Z"
    }
   },
   "outputs": [
    {
     "data": {
      "text/html": [
       "<div>\n",
       "<style scoped>\n",
       "    .dataframe tbody tr th:only-of-type {\n",
       "        vertical-align: middle;\n",
       "    }\n",
       "\n",
       "    .dataframe tbody tr th {\n",
       "        vertical-align: top;\n",
       "    }\n",
       "\n",
       "    .dataframe thead th {\n",
       "        text-align: right;\n",
       "    }\n",
       "</style>\n",
       "<table border=\"1\" class=\"dataframe\">\n",
       "  <thead>\n",
       "    <tr style=\"text-align: right;\">\n",
       "      <th></th>\n",
       "      <th>cuisine</th>\n",
       "      <th>genre</th>\n",
       "    </tr>\n",
       "  </thead>\n",
       "  <tbody>\n",
       "    <tr>\n",
       "      <th>0</th>\n",
       "      <td>Greek</td>\n",
       "      <td>horror</td>\n",
       "    </tr>\n",
       "    <tr>\n",
       "      <th>1</th>\n",
       "      <td>Indian</td>\n",
       "      <td>scifi</td>\n",
       "    </tr>\n",
       "    <tr>\n",
       "      <th>2</th>\n",
       "      <td>American</td>\n",
       "      <td>fantasy</td>\n",
       "    </tr>\n",
       "    <tr>\n",
       "      <th>3</th>\n",
       "      <td>Thai</td>\n",
       "      <td>tech</td>\n",
       "    </tr>\n",
       "    <tr>\n",
       "      <th>4</th>\n",
       "      <td>Indian</td>\n",
       "      <td>documentary</td>\n",
       "    </tr>\n",
       "  </tbody>\n",
       "</table>\n",
       "</div>"
      ],
      "text/plain": [
       "    cuisine        genre\n",
       "0     Greek       horror\n",
       "1    Indian        scifi\n",
       "2  American      fantasy\n",
       "3      Thai         tech\n",
       "4    Indian  documentary"
      ]
     },
     "execution_count": 103,
     "metadata": {},
     "output_type": "execute_result"
    }
   ],
   "source": [
    "# Another mini dataset to play with\n",
    "prefs = pd.read_csv('data/preferences.csv', index_col=0)\n",
    "prefs"
   ]
  },
  {
   "cell_type": "code",
   "execution_count": 104,
   "metadata": {
    "ExecuteTime": {
     "end_time": "2022-03-01T20:33:18.174209Z",
     "start_time": "2022-03-01T20:33:18.153205Z"
    },
    "hidden": true
   },
   "outputs": [
    {
     "data": {
      "text/html": [
       "<div>\n",
       "<style scoped>\n",
       "    .dataframe tbody tr th:only-of-type {\n",
       "        vertical-align: middle;\n",
       "    }\n",
       "\n",
       "    .dataframe tbody tr th {\n",
       "        vertical-align: top;\n",
       "    }\n",
       "\n",
       "    .dataframe thead th {\n",
       "        text-align: right;\n",
       "    }\n",
       "</style>\n",
       "<table border=\"1\" class=\"dataframe\">\n",
       "  <thead>\n",
       "    <tr style=\"text-align: right;\">\n",
       "      <th></th>\n",
       "      <th>name</th>\n",
       "      <th>HP</th>\n",
       "      <th>home_state</th>\n",
       "      <th>state</th>\n",
       "      <th>nickname</th>\n",
       "      <th>capital</th>\n",
       "    </tr>\n",
       "  </thead>\n",
       "  <tbody>\n",
       "    <tr>\n",
       "      <th>0</th>\n",
       "      <td>greg</td>\n",
       "      <td>200</td>\n",
       "      <td>WA</td>\n",
       "      <td>WA</td>\n",
       "      <td>evergreen</td>\n",
       "      <td>Olympia</td>\n",
       "    </tr>\n",
       "    <tr>\n",
       "      <th>1</th>\n",
       "      <td>miles</td>\n",
       "      <td>200</td>\n",
       "      <td>WA</td>\n",
       "      <td>TX</td>\n",
       "      <td>alamo</td>\n",
       "      <td>Austin</td>\n",
       "    </tr>\n",
       "    <tr>\n",
       "      <th>2</th>\n",
       "      <td>alan</td>\n",
       "      <td>170</td>\n",
       "      <td>TX</td>\n",
       "      <td>DC</td>\n",
       "      <td>district</td>\n",
       "      <td>Washington</td>\n",
       "    </tr>\n",
       "    <tr>\n",
       "      <th>3</th>\n",
       "      <td>alison</td>\n",
       "      <td>300</td>\n",
       "      <td>DC</td>\n",
       "      <td>OH</td>\n",
       "      <td>buckeye</td>\n",
       "      <td>Columbus</td>\n",
       "    </tr>\n",
       "    <tr>\n",
       "      <th>4</th>\n",
       "      <td>rachel</td>\n",
       "      <td>200</td>\n",
       "      <td>TX</td>\n",
       "      <td>OR</td>\n",
       "      <td>beaver</td>\n",
       "      <td>Salem</td>\n",
       "    </tr>\n",
       "  </tbody>\n",
       "</table>\n",
       "</div>"
      ],
      "text/plain": [
       "     name   HP home_state state   nickname     capital\n",
       "0    greg  200         WA    WA  evergreen     Olympia\n",
       "1   miles  200         WA    TX      alamo      Austin\n",
       "2    alan  170         TX    DC   district  Washington\n",
       "3  alison  300         DC    OH    buckeye    Columbus\n",
       "4  rachel  200         TX    OR     beaver       Salem"
      ]
     },
     "execution_count": 104,
     "metadata": {},
     "output_type": "execute_result"
    }
   ],
   "source": [
    "# Concat prefs and ds_chars\n",
    "# same as join\n",
    "pd.concat([ds_chars,states], axis = 1)"
   ]
  },
  {
   "cell_type": "markdown",
   "metadata": {
    "hidden": true
   },
   "source": [
    "`pd.concat()`–– and many other pandas operations –– make use of an `axis` parameter. For this particular method I need to specify whether I want to concatenate the DataFrames *row-wise* (`axis=0`) or *column-wise* (`axis=1`). The default is `axis=0`, so let's override that!"
   ]
  },
  {
   "cell_type": "code",
   "execution_count": null,
   "metadata": {
    "hidden": true
   },
   "outputs": [],
   "source": [
    "# Adjust and try again\n"
   ]
  },
  {
   "cell_type": "markdown",
   "metadata": {},
   "source": [
    "## Back to the Center\n",
    "\n",
    "We have Intakes data and we have Outcomes data... time to merge!"
   ]
  },
  {
   "cell_type": "code",
   "execution_count": null,
   "metadata": {},
   "outputs": [],
   "source": [
    "# Peek at the outcomes data we already had in here\n"
   ]
  },
  {
   "cell_type": "code",
   "execution_count": 107,
   "metadata": {
    "ExecuteTime": {
     "end_time": "2022-03-01T20:34:40.929123Z",
     "start_time": "2022-03-01T20:34:40.547022Z"
    }
   },
   "outputs": [
    {
     "data": {
      "text/html": [
       "<div>\n",
       "<style scoped>\n",
       "    .dataframe tbody tr th:only-of-type {\n",
       "        vertical-align: middle;\n",
       "    }\n",
       "\n",
       "    .dataframe tbody tr th {\n",
       "        vertical-align: top;\n",
       "    }\n",
       "\n",
       "    .dataframe thead th {\n",
       "        text-align: right;\n",
       "    }\n",
       "</style>\n",
       "<table border=\"1\" class=\"dataframe\">\n",
       "  <thead>\n",
       "    <tr style=\"text-align: right;\">\n",
       "      <th></th>\n",
       "      <th>Animal ID</th>\n",
       "      <th>Name</th>\n",
       "      <th>DateTime</th>\n",
       "      <th>MonthYear</th>\n",
       "      <th>Found Location</th>\n",
       "      <th>Intake Type</th>\n",
       "      <th>Intake Condition</th>\n",
       "      <th>Animal Type</th>\n",
       "      <th>Sex upon Intake</th>\n",
       "      <th>Age upon Intake</th>\n",
       "      <th>Breed</th>\n",
       "      <th>Color</th>\n",
       "    </tr>\n",
       "  </thead>\n",
       "  <tbody>\n",
       "    <tr>\n",
       "      <th>0</th>\n",
       "      <td>A786884</td>\n",
       "      <td>*Brock</td>\n",
       "      <td>01/03/2019 04:19:00 PM</td>\n",
       "      <td>January 2019</td>\n",
       "      <td>2501 Magin Meadow Dr in Austin (TX)</td>\n",
       "      <td>Stray</td>\n",
       "      <td>Normal</td>\n",
       "      <td>Dog</td>\n",
       "      <td>Neutered Male</td>\n",
       "      <td>2 years</td>\n",
       "      <td>Beagle Mix</td>\n",
       "      <td>Tricolor</td>\n",
       "    </tr>\n",
       "    <tr>\n",
       "      <th>1</th>\n",
       "      <td>A706918</td>\n",
       "      <td>Belle</td>\n",
       "      <td>07/05/2015 12:59:00 PM</td>\n",
       "      <td>July 2015</td>\n",
       "      <td>9409 Bluegrass Dr in Austin (TX)</td>\n",
       "      <td>Stray</td>\n",
       "      <td>Normal</td>\n",
       "      <td>Dog</td>\n",
       "      <td>Spayed Female</td>\n",
       "      <td>8 years</td>\n",
       "      <td>English Springer Spaniel</td>\n",
       "      <td>White/Liver</td>\n",
       "    </tr>\n",
       "    <tr>\n",
       "      <th>2</th>\n",
       "      <td>A724273</td>\n",
       "      <td>Runster</td>\n",
       "      <td>04/14/2016 06:43:00 PM</td>\n",
       "      <td>April 2016</td>\n",
       "      <td>2818 Palomino Trail in Austin (TX)</td>\n",
       "      <td>Stray</td>\n",
       "      <td>Normal</td>\n",
       "      <td>Dog</td>\n",
       "      <td>Intact Male</td>\n",
       "      <td>11 months</td>\n",
       "      <td>Basenji Mix</td>\n",
       "      <td>Sable/White</td>\n",
       "    </tr>\n",
       "    <tr>\n",
       "      <th>3</th>\n",
       "      <td>A665644</td>\n",
       "      <td>NaN</td>\n",
       "      <td>10/21/2013 07:59:00 AM</td>\n",
       "      <td>October 2013</td>\n",
       "      <td>Austin (TX)</td>\n",
       "      <td>Stray</td>\n",
       "      <td>Sick</td>\n",
       "      <td>Cat</td>\n",
       "      <td>Intact Female</td>\n",
       "      <td>4 weeks</td>\n",
       "      <td>Domestic Shorthair Mix</td>\n",
       "      <td>Calico</td>\n",
       "    </tr>\n",
       "    <tr>\n",
       "      <th>4</th>\n",
       "      <td>A682524</td>\n",
       "      <td>Rio</td>\n",
       "      <td>06/29/2014 10:38:00 AM</td>\n",
       "      <td>June 2014</td>\n",
       "      <td>800 Grove Blvd in Austin (TX)</td>\n",
       "      <td>Stray</td>\n",
       "      <td>Normal</td>\n",
       "      <td>Dog</td>\n",
       "      <td>Neutered Male</td>\n",
       "      <td>4 years</td>\n",
       "      <td>Doberman Pinsch/Australian Cattle Dog</td>\n",
       "      <td>Tan/Gray</td>\n",
       "    </tr>\n",
       "  </tbody>\n",
       "</table>\n",
       "</div>"
      ],
      "text/plain": [
       "  Animal ID     Name                DateTime     MonthYear  \\\n",
       "0   A786884   *Brock  01/03/2019 04:19:00 PM  January 2019   \n",
       "1   A706918    Belle  07/05/2015 12:59:00 PM     July 2015   \n",
       "2   A724273  Runster  04/14/2016 06:43:00 PM    April 2016   \n",
       "3   A665644      NaN  10/21/2013 07:59:00 AM  October 2013   \n",
       "4   A682524      Rio  06/29/2014 10:38:00 AM     June 2014   \n",
       "\n",
       "                        Found Location Intake Type Intake Condition  \\\n",
       "0  2501 Magin Meadow Dr in Austin (TX)       Stray           Normal   \n",
       "1     9409 Bluegrass Dr in Austin (TX)       Stray           Normal   \n",
       "2   2818 Palomino Trail in Austin (TX)       Stray           Normal   \n",
       "3                          Austin (TX)       Stray             Sick   \n",
       "4        800 Grove Blvd in Austin (TX)       Stray           Normal   \n",
       "\n",
       "  Animal Type Sex upon Intake Age upon Intake  \\\n",
       "0         Dog   Neutered Male         2 years   \n",
       "1         Dog   Spayed Female         8 years   \n",
       "2         Dog     Intact Male       11 months   \n",
       "3         Cat   Intact Female         4 weeks   \n",
       "4         Dog   Neutered Male         4 years   \n",
       "\n",
       "                                   Breed        Color  \n",
       "0                             Beagle Mix     Tricolor  \n",
       "1               English Springer Spaniel  White/Liver  \n",
       "2                            Basenji Mix  Sable/White  \n",
       "3                 Domestic Shorthair Mix       Calico  \n",
       "4  Doberman Pinsch/Australian Cattle Dog     Tan/Gray  "
      ]
     },
     "execution_count": 107,
     "metadata": {},
     "output_type": "execute_result"
    }
   ],
   "source": [
    "# Read in the intakes data\n",
    "intakes_df = pd.read_csv('data/Austin_Animal_Center_Intakes_022822.csv')\n",
    "# Check it out\n",
    "intakes_df.head()"
   ]
  },
  {
   "cell_type": "code",
   "execution_count": 115,
   "metadata": {
    "ExecuteTime": {
     "end_time": "2022-03-01T20:37:25.834419Z",
     "start_time": "2022-03-01T20:37:25.530351Z"
    }
   },
   "outputs": [],
   "source": [
    "# Let's try merging on Animal ID\n",
    "combined_df = outcomes_df.merge(intakes_df, how='inner', on='Animal ID',\n",
    "              suffixes = ('_outcomes', '_intakes'))"
   ]
  },
  {
   "cell_type": "code",
   "execution_count": 112,
   "metadata": {
    "ExecuteTime": {
     "end_time": "2022-03-01T20:36:29.797448Z",
     "start_time": "2022-03-01T20:36:29.770451Z"
    }
   },
   "outputs": [
    {
     "data": {
      "text/html": [
       "<div>\n",
       "<style scoped>\n",
       "    .dataframe tbody tr th:only-of-type {\n",
       "        vertical-align: middle;\n",
       "    }\n",
       "\n",
       "    .dataframe tbody tr th {\n",
       "        vertical-align: top;\n",
       "    }\n",
       "\n",
       "    .dataframe thead th {\n",
       "        text-align: right;\n",
       "    }\n",
       "</style>\n",
       "<table border=\"1\" class=\"dataframe\">\n",
       "  <thead>\n",
       "    <tr style=\"text-align: right;\">\n",
       "      <th></th>\n",
       "      <th>Animal ID</th>\n",
       "      <th>Name_outcomes</th>\n",
       "      <th>DateTime_outcomes</th>\n",
       "      <th>MonthYear_outcomes</th>\n",
       "      <th>Date of Birth</th>\n",
       "      <th>Outcome Type</th>\n",
       "      <th>Outcome Subtype</th>\n",
       "      <th>Animal Type_outcomes</th>\n",
       "      <th>Sex upon Outcome</th>\n",
       "      <th>Age upon Outcome</th>\n",
       "      <th>...</th>\n",
       "      <th>DateTime_intakes</th>\n",
       "      <th>MonthYear_intakes</th>\n",
       "      <th>Found Location</th>\n",
       "      <th>Intake Type</th>\n",
       "      <th>Intake Condition</th>\n",
       "      <th>Animal Type_intakes</th>\n",
       "      <th>Sex upon Intake</th>\n",
       "      <th>Age upon Intake</th>\n",
       "      <th>Breed_intakes</th>\n",
       "      <th>Color_intakes</th>\n",
       "    </tr>\n",
       "  </thead>\n",
       "  <tbody>\n",
       "    <tr>\n",
       "      <th>0</th>\n",
       "      <td>A794011</td>\n",
       "      <td>Chunk</td>\n",
       "      <td>2019-05-08 18:20:00</td>\n",
       "      <td>May 2019</td>\n",
       "      <td>2017-05-02</td>\n",
       "      <td>Rto-Adopt</td>\n",
       "      <td>NaN</td>\n",
       "      <td>Cat</td>\n",
       "      <td>Neutered Male</td>\n",
       "      <td>2 years</td>\n",
       "      <td>...</td>\n",
       "      <td>05/02/2019 04:51:00 PM</td>\n",
       "      <td>May 2019</td>\n",
       "      <td>Austin (TX)</td>\n",
       "      <td>Owner Surrender</td>\n",
       "      <td>Normal</td>\n",
       "      <td>Cat</td>\n",
       "      <td>Neutered Male</td>\n",
       "      <td>2 years</td>\n",
       "      <td>Domestic Shorthair Mix</td>\n",
       "      <td>Brown Tabby/White</td>\n",
       "    </tr>\n",
       "    <tr>\n",
       "      <th>1</th>\n",
       "      <td>A776359</td>\n",
       "      <td>Gizmo</td>\n",
       "      <td>2018-07-18 16:02:00</td>\n",
       "      <td>Jul 2018</td>\n",
       "      <td>2017-07-12</td>\n",
       "      <td>Adoption</td>\n",
       "      <td>NaN</td>\n",
       "      <td>Dog</td>\n",
       "      <td>Neutered Male</td>\n",
       "      <td>1 year</td>\n",
       "      <td>...</td>\n",
       "      <td>07/12/2018 12:46:00 PM</td>\n",
       "      <td>July 2018</td>\n",
       "      <td>7201 Levander Loop in Austin (TX)</td>\n",
       "      <td>Stray</td>\n",
       "      <td>Normal</td>\n",
       "      <td>Dog</td>\n",
       "      <td>Intact Male</td>\n",
       "      <td>1 year</td>\n",
       "      <td>Chihuahua Shorthair Mix</td>\n",
       "      <td>White/Brown</td>\n",
       "    </tr>\n",
       "    <tr>\n",
       "      <th>2</th>\n",
       "      <td>A821648</td>\n",
       "      <td>NaN</td>\n",
       "      <td>2020-08-16 11:38:00</td>\n",
       "      <td>Aug 2020</td>\n",
       "      <td>2019-08-16</td>\n",
       "      <td>Euthanasia</td>\n",
       "      <td>NaN</td>\n",
       "      <td>Other</td>\n",
       "      <td>Unknown</td>\n",
       "      <td>1 year</td>\n",
       "      <td>...</td>\n",
       "      <td>08/16/2020 10:10:00 AM</td>\n",
       "      <td>August 2020</td>\n",
       "      <td>Armadillo Rd And Clubway Ln in Austin (TX)</td>\n",
       "      <td>Wildlife</td>\n",
       "      <td>Sick</td>\n",
       "      <td>Other</td>\n",
       "      <td>Unknown</td>\n",
       "      <td>1 year</td>\n",
       "      <td>Raccoon</td>\n",
       "      <td>Gray</td>\n",
       "    </tr>\n",
       "    <tr>\n",
       "      <th>3</th>\n",
       "      <td>A720371</td>\n",
       "      <td>Moose</td>\n",
       "      <td>2016-02-13 17:59:00</td>\n",
       "      <td>Feb 2016</td>\n",
       "      <td>2015-10-08</td>\n",
       "      <td>Adoption</td>\n",
       "      <td>NaN</td>\n",
       "      <td>Dog</td>\n",
       "      <td>Neutered Male</td>\n",
       "      <td>4 months</td>\n",
       "      <td>...</td>\n",
       "      <td>02/08/2016 11:05:00 AM</td>\n",
       "      <td>February 2016</td>\n",
       "      <td>Dove Dr And E Stassney in Austin (TX)</td>\n",
       "      <td>Stray</td>\n",
       "      <td>Normal</td>\n",
       "      <td>Dog</td>\n",
       "      <td>Intact Male</td>\n",
       "      <td>4 months</td>\n",
       "      <td>Anatol Shepherd/Labrador Retriever</td>\n",
       "      <td>Buff</td>\n",
       "    </tr>\n",
       "    <tr>\n",
       "      <th>4</th>\n",
       "      <td>A720371</td>\n",
       "      <td>Moose</td>\n",
       "      <td>2016-02-13 17:59:00</td>\n",
       "      <td>Feb 2016</td>\n",
       "      <td>2015-10-08</td>\n",
       "      <td>Adoption</td>\n",
       "      <td>NaN</td>\n",
       "      <td>Dog</td>\n",
       "      <td>Neutered Male</td>\n",
       "      <td>4 months</td>\n",
       "      <td>...</td>\n",
       "      <td>02/15/2016 10:37:00 AM</td>\n",
       "      <td>February 2016</td>\n",
       "      <td>Austin (TX)</td>\n",
       "      <td>Owner Surrender</td>\n",
       "      <td>Normal</td>\n",
       "      <td>Dog</td>\n",
       "      <td>Neutered Male</td>\n",
       "      <td>4 months</td>\n",
       "      <td>Anatol Shepherd/Labrador Retriever</td>\n",
       "      <td>Buff</td>\n",
       "    </tr>\n",
       "  </tbody>\n",
       "</table>\n",
       "<p>5 rows × 24 columns</p>\n",
       "</div>"
      ],
      "text/plain": [
       "  Animal ID Name_outcomes   DateTime_outcomes MonthYear_outcomes  \\\n",
       "0   A794011         Chunk 2019-05-08 18:20:00           May 2019   \n",
       "1   A776359         Gizmo 2018-07-18 16:02:00           Jul 2018   \n",
       "2   A821648           NaN 2020-08-16 11:38:00           Aug 2020   \n",
       "3   A720371         Moose 2016-02-13 17:59:00           Feb 2016   \n",
       "4   A720371         Moose 2016-02-13 17:59:00           Feb 2016   \n",
       "\n",
       "  Date of Birth Outcome Type Outcome Subtype Animal Type_outcomes  \\\n",
       "0    2017-05-02    Rto-Adopt             NaN                  Cat   \n",
       "1    2017-07-12     Adoption             NaN                  Dog   \n",
       "2    2019-08-16   Euthanasia             NaN                Other   \n",
       "3    2015-10-08     Adoption             NaN                  Dog   \n",
       "4    2015-10-08     Adoption             NaN                  Dog   \n",
       "\n",
       "  Sex upon Outcome Age upon Outcome  ...        DateTime_intakes  \\\n",
       "0    Neutered Male          2 years  ...  05/02/2019 04:51:00 PM   \n",
       "1    Neutered Male           1 year  ...  07/12/2018 12:46:00 PM   \n",
       "2          Unknown           1 year  ...  08/16/2020 10:10:00 AM   \n",
       "3    Neutered Male         4 months  ...  02/08/2016 11:05:00 AM   \n",
       "4    Neutered Male         4 months  ...  02/15/2016 10:37:00 AM   \n",
       "\n",
       "  MonthYear_intakes                              Found Location  \\\n",
       "0          May 2019                                 Austin (TX)   \n",
       "1         July 2018           7201 Levander Loop in Austin (TX)   \n",
       "2       August 2020  Armadillo Rd And Clubway Ln in Austin (TX)   \n",
       "3     February 2016       Dove Dr And E Stassney in Austin (TX)   \n",
       "4     February 2016                                 Austin (TX)   \n",
       "\n",
       "       Intake Type Intake Condition Animal Type_intakes Sex upon Intake  \\\n",
       "0  Owner Surrender           Normal                 Cat   Neutered Male   \n",
       "1            Stray           Normal                 Dog     Intact Male   \n",
       "2         Wildlife             Sick               Other         Unknown   \n",
       "3            Stray           Normal                 Dog     Intact Male   \n",
       "4  Owner Surrender           Normal                 Dog   Neutered Male   \n",
       "\n",
       "  Age upon Intake                       Breed_intakes      Color_intakes  \n",
       "0         2 years              Domestic Shorthair Mix  Brown Tabby/White  \n",
       "1          1 year             Chihuahua Shorthair Mix        White/Brown  \n",
       "2          1 year                             Raccoon               Gray  \n",
       "3        4 months  Anatol Shepherd/Labrador Retriever               Buff  \n",
       "4        4 months  Anatol Shepherd/Labrador Retriever               Buff  \n",
       "\n",
       "[5 rows x 24 columns]"
      ]
     },
     "execution_count": 112,
     "metadata": {},
     "output_type": "execute_result"
    }
   ],
   "source": [
    "# What was the result?\n",
    "combined_df.head()"
   ]
  },
  {
   "cell_type": "code",
   "execution_count": 117,
   "metadata": {
    "ExecuteTime": {
     "end_time": "2022-03-01T20:38:03.626217Z",
     "start_time": "2022-03-01T20:38:03.611200Z"
    }
   },
   "outputs": [
    {
     "data": {
      "text/plain": [
       "(176664, 24)"
      ]
     },
     "execution_count": 117,
     "metadata": {},
     "output_type": "execute_result"
    }
   ],
   "source": [
    "combined_df.shape"
   ]
  },
  {
   "cell_type": "code",
   "execution_count": 118,
   "metadata": {
    "ExecuteTime": {
     "end_time": "2022-03-01T20:38:14.688492Z",
     "start_time": "2022-03-01T20:38:14.670490Z"
    }
   },
   "outputs": [
    {
     "data": {
      "text/plain": [
       "(136763, 12)"
      ]
     },
     "execution_count": 118,
     "metadata": {},
     "output_type": "execute_result"
    }
   ],
   "source": [
    "intakes_df.shape"
   ]
  },
  {
   "cell_type": "code",
   "execution_count": 119,
   "metadata": {
    "ExecuteTime": {
     "end_time": "2022-03-01T20:38:14.844516Z",
     "start_time": "2022-03-01T20:38:14.837513Z"
    }
   },
   "outputs": [
    {
     "data": {
      "text/plain": [
       "(137097, 13)"
      ]
     },
     "execution_count": 119,
     "metadata": {},
     "output_type": "execute_result"
    }
   ],
   "source": [
    "outcomes_df.shape"
   ]
  },
  {
   "cell_type": "markdown",
   "metadata": {},
   "source": [
    "Let's discuss/explore: did that work the way we expected?\n",
    "\n",
    "- duplicates!!!!!\n"
   ]
  },
  {
   "cell_type": "code",
   "execution_count": null,
   "metadata": {},
   "outputs": [],
   "source": [
    "# We might want to try something different\n",
    "# Can we clean something to make a better merge?\n"
   ]
  },
  {
   "cell_type": "code",
   "execution_count": 121,
   "metadata": {
    "ExecuteTime": {
     "end_time": "2022-03-01T20:44:30.860362Z",
     "start_time": "2022-03-01T20:44:30.753749Z"
    }
   },
   "outputs": [],
   "source": [
    "# Clean what needs cleaning...\n",
    "intakes_clean = intakes_df.drop_duplicates(subset='Animal ID', keep ='last')\n",
    "outcomes_clean = outcomes_df.drop_duplicates(subset='Animal ID', keep ='last')"
   ]
  },
  {
   "cell_type": "code",
   "execution_count": 122,
   "metadata": {
    "ExecuteTime": {
     "end_time": "2022-03-01T20:44:31.698834Z",
     "start_time": "2022-03-01T20:44:31.290580Z"
    }
   },
   "outputs": [
    {
     "data": {
      "text/html": [
       "<div>\n",
       "<style scoped>\n",
       "    .dataframe tbody tr th:only-of-type {\n",
       "        vertical-align: middle;\n",
       "    }\n",
       "\n",
       "    .dataframe tbody tr th {\n",
       "        vertical-align: top;\n",
       "    }\n",
       "\n",
       "    .dataframe thead th {\n",
       "        text-align: right;\n",
       "    }\n",
       "</style>\n",
       "<table border=\"1\" class=\"dataframe\">\n",
       "  <thead>\n",
       "    <tr style=\"text-align: right;\">\n",
       "      <th></th>\n",
       "      <th>Animal ID</th>\n",
       "      <th>Name_outcomes</th>\n",
       "      <th>DateTime_outcomes</th>\n",
       "      <th>MonthYear_outcomes</th>\n",
       "      <th>Date of Birth</th>\n",
       "      <th>Outcome Type</th>\n",
       "      <th>Outcome Subtype</th>\n",
       "      <th>Animal Type_outcomes</th>\n",
       "      <th>Sex upon Outcome</th>\n",
       "      <th>Age upon Outcome</th>\n",
       "      <th>...</th>\n",
       "      <th>DateTime_intakes</th>\n",
       "      <th>MonthYear_intakes</th>\n",
       "      <th>Found Location</th>\n",
       "      <th>Intake Type</th>\n",
       "      <th>Intake Condition</th>\n",
       "      <th>Animal Type_intakes</th>\n",
       "      <th>Sex upon Intake</th>\n",
       "      <th>Age upon Intake</th>\n",
       "      <th>Breed_intakes</th>\n",
       "      <th>Color_intakes</th>\n",
       "    </tr>\n",
       "  </thead>\n",
       "  <tbody>\n",
       "    <tr>\n",
       "      <th>0</th>\n",
       "      <td>A794011</td>\n",
       "      <td>Chunk</td>\n",
       "      <td>2019-05-08 18:20:00</td>\n",
       "      <td>May 2019</td>\n",
       "      <td>2017-05-02</td>\n",
       "      <td>Rto-Adopt</td>\n",
       "      <td>NaN</td>\n",
       "      <td>Cat</td>\n",
       "      <td>Neutered Male</td>\n",
       "      <td>2 years</td>\n",
       "      <td>...</td>\n",
       "      <td>05/02/2019 04:51:00 PM</td>\n",
       "      <td>May 2019</td>\n",
       "      <td>Austin (TX)</td>\n",
       "      <td>Owner Surrender</td>\n",
       "      <td>Normal</td>\n",
       "      <td>Cat</td>\n",
       "      <td>Neutered Male</td>\n",
       "      <td>2 years</td>\n",
       "      <td>Domestic Shorthair Mix</td>\n",
       "      <td>Brown Tabby/White</td>\n",
       "    </tr>\n",
       "    <tr>\n",
       "      <th>1</th>\n",
       "      <td>A776359</td>\n",
       "      <td>Gizmo</td>\n",
       "      <td>2018-07-18 16:02:00</td>\n",
       "      <td>Jul 2018</td>\n",
       "      <td>2017-07-12</td>\n",
       "      <td>Adoption</td>\n",
       "      <td>NaN</td>\n",
       "      <td>Dog</td>\n",
       "      <td>Neutered Male</td>\n",
       "      <td>1 year</td>\n",
       "      <td>...</td>\n",
       "      <td>07/12/2018 12:46:00 PM</td>\n",
       "      <td>July 2018</td>\n",
       "      <td>7201 Levander Loop in Austin (TX)</td>\n",
       "      <td>Stray</td>\n",
       "      <td>Normal</td>\n",
       "      <td>Dog</td>\n",
       "      <td>Intact Male</td>\n",
       "      <td>1 year</td>\n",
       "      <td>Chihuahua Shorthair Mix</td>\n",
       "      <td>White/Brown</td>\n",
       "    </tr>\n",
       "    <tr>\n",
       "      <th>2</th>\n",
       "      <td>A821648</td>\n",
       "      <td>NaN</td>\n",
       "      <td>2020-08-16 11:38:00</td>\n",
       "      <td>Aug 2020</td>\n",
       "      <td>2019-08-16</td>\n",
       "      <td>Euthanasia</td>\n",
       "      <td>NaN</td>\n",
       "      <td>Other</td>\n",
       "      <td>Unknown</td>\n",
       "      <td>1 year</td>\n",
       "      <td>...</td>\n",
       "      <td>08/16/2020 10:10:00 AM</td>\n",
       "      <td>August 2020</td>\n",
       "      <td>Armadillo Rd And Clubway Ln in Austin (TX)</td>\n",
       "      <td>Wildlife</td>\n",
       "      <td>Sick</td>\n",
       "      <td>Other</td>\n",
       "      <td>Unknown</td>\n",
       "      <td>1 year</td>\n",
       "      <td>Raccoon</td>\n",
       "      <td>Gray</td>\n",
       "    </tr>\n",
       "    <tr>\n",
       "      <th>3</th>\n",
       "      <td>A674754</td>\n",
       "      <td>NaN</td>\n",
       "      <td>2014-03-18 11:47:00</td>\n",
       "      <td>Mar 2014</td>\n",
       "      <td>2014-03-12</td>\n",
       "      <td>Transfer</td>\n",
       "      <td>Partner</td>\n",
       "      <td>Cat</td>\n",
       "      <td>Intact Male</td>\n",
       "      <td>6 days</td>\n",
       "      <td>...</td>\n",
       "      <td>03/18/2014 07:11:00 AM</td>\n",
       "      <td>March 2014</td>\n",
       "      <td>12034 Research in Austin (TX)</td>\n",
       "      <td>Stray</td>\n",
       "      <td>Nursing</td>\n",
       "      <td>Cat</td>\n",
       "      <td>Intact Male</td>\n",
       "      <td>6 days</td>\n",
       "      <td>Domestic Shorthair Mix</td>\n",
       "      <td>Orange Tabby</td>\n",
       "    </tr>\n",
       "    <tr>\n",
       "      <th>4</th>\n",
       "      <td>A814515</td>\n",
       "      <td>Quentin</td>\n",
       "      <td>2020-05-06 07:59:00</td>\n",
       "      <td>May 2020</td>\n",
       "      <td>2018-03-01</td>\n",
       "      <td>Adoption</td>\n",
       "      <td>Foster</td>\n",
       "      <td>Dog</td>\n",
       "      <td>Neutered Male</td>\n",
       "      <td>2 years</td>\n",
       "      <td>...</td>\n",
       "      <td>03/01/2020 02:19:00 PM</td>\n",
       "      <td>March 2020</td>\n",
       "      <td>Austin (TX)</td>\n",
       "      <td>Owner Surrender</td>\n",
       "      <td>Normal</td>\n",
       "      <td>Dog</td>\n",
       "      <td>Neutered Male</td>\n",
       "      <td>2 years</td>\n",
       "      <td>American Foxhound/Labrador Retriever</td>\n",
       "      <td>White/Brown</td>\n",
       "    </tr>\n",
       "    <tr>\n",
       "      <th>...</th>\n",
       "      <td>...</td>\n",
       "      <td>...</td>\n",
       "      <td>...</td>\n",
       "      <td>...</td>\n",
       "      <td>...</td>\n",
       "      <td>...</td>\n",
       "      <td>...</td>\n",
       "      <td>...</td>\n",
       "      <td>...</td>\n",
       "      <td>...</td>\n",
       "      <td>...</td>\n",
       "      <td>...</td>\n",
       "      <td>...</td>\n",
       "      <td>...</td>\n",
       "      <td>...</td>\n",
       "      <td>...</td>\n",
       "      <td>...</td>\n",
       "      <td>...</td>\n",
       "      <td>...</td>\n",
       "      <td>...</td>\n",
       "      <td>...</td>\n",
       "    </tr>\n",
       "    <tr>\n",
       "      <th>121768</th>\n",
       "      <td>A850166</td>\n",
       "      <td>Rainey</td>\n",
       "      <td>2022-01-24 18:20:00</td>\n",
       "      <td>Jan 2022</td>\n",
       "      <td>2021-11-19</td>\n",
       "      <td>Adoption</td>\n",
       "      <td>NaN</td>\n",
       "      <td>Cat</td>\n",
       "      <td>Intact Male</td>\n",
       "      <td>2 months</td>\n",
       "      <td>...</td>\n",
       "      <td>01/19/2022 12:39:00 PM</td>\n",
       "      <td>January 2022</td>\n",
       "      <td>South First in Austin (TX)</td>\n",
       "      <td>Stray</td>\n",
       "      <td>Normal</td>\n",
       "      <td>Cat</td>\n",
       "      <td>Intact Male</td>\n",
       "      <td>1 month</td>\n",
       "      <td>Siamese</td>\n",
       "      <td>Seal Point</td>\n",
       "    </tr>\n",
       "    <tr>\n",
       "      <th>121769</th>\n",
       "      <td>A852031</td>\n",
       "      <td>Noodle</td>\n",
       "      <td>2022-02-28 12:50:00</td>\n",
       "      <td>Feb 2022</td>\n",
       "      <td>2020-02-23</td>\n",
       "      <td>Transfer</td>\n",
       "      <td>Partner</td>\n",
       "      <td>Dog</td>\n",
       "      <td>Neutered Male</td>\n",
       "      <td>2 years</td>\n",
       "      <td>...</td>\n",
       "      <td>02/23/2022 01:36:00 PM</td>\n",
       "      <td>February 2022</td>\n",
       "      <td>Austin (TX)</td>\n",
       "      <td>Owner Surrender</td>\n",
       "      <td>Injured</td>\n",
       "      <td>Dog</td>\n",
       "      <td>Neutered Male</td>\n",
       "      <td>2 years</td>\n",
       "      <td>Pomeranian/Chihuahua Longhair</td>\n",
       "      <td>Buff</td>\n",
       "    </tr>\n",
       "    <tr>\n",
       "      <th>121770</th>\n",
       "      <td>A845839</td>\n",
       "      <td>*Carmen</td>\n",
       "      <td>2022-02-28 13:49:00</td>\n",
       "      <td>Feb 2022</td>\n",
       "      <td>2020-05-05</td>\n",
       "      <td>Adoption</td>\n",
       "      <td>Foster</td>\n",
       "      <td>Dog</td>\n",
       "      <td>Spayed Female</td>\n",
       "      <td>1 year</td>\n",
       "      <td>...</td>\n",
       "      <td>11/05/2021 12:19:00 PM</td>\n",
       "      <td>November 2021</td>\n",
       "      <td>12202 Von Quintus Road in Austin (TX)</td>\n",
       "      <td>Stray</td>\n",
       "      <td>Normal</td>\n",
       "      <td>Dog</td>\n",
       "      <td>Intact Female</td>\n",
       "      <td>1 year</td>\n",
       "      <td>Pit Bull Mix</td>\n",
       "      <td>Brown</td>\n",
       "    </tr>\n",
       "    <tr>\n",
       "      <th>121771</th>\n",
       "      <td>A844321</td>\n",
       "      <td>Mia Marie</td>\n",
       "      <td>2022-02-28 13:04:00</td>\n",
       "      <td>Feb 2022</td>\n",
       "      <td>2013-10-15</td>\n",
       "      <td>Adoption</td>\n",
       "      <td>Foster</td>\n",
       "      <td>Dog</td>\n",
       "      <td>Spayed Female</td>\n",
       "      <td>8 years</td>\n",
       "      <td>...</td>\n",
       "      <td>10/15/2021 08:42:00 AM</td>\n",
       "      <td>October 2021</td>\n",
       "      <td>Manchaca And 1626 in Austin (TX)</td>\n",
       "      <td>Stray</td>\n",
       "      <td>Aged</td>\n",
       "      <td>Dog</td>\n",
       "      <td>Spayed Female</td>\n",
       "      <td>8 years</td>\n",
       "      <td>Pit Bull</td>\n",
       "      <td>Black/White</td>\n",
       "    </tr>\n",
       "    <tr>\n",
       "      <th>121772</th>\n",
       "      <td>A813933</td>\n",
       "      <td>Lucille</td>\n",
       "      <td>2022-02-28 14:19:00</td>\n",
       "      <td>Feb 2022</td>\n",
       "      <td>2018-12-21</td>\n",
       "      <td>Adoption</td>\n",
       "      <td>NaN</td>\n",
       "      <td>Dog</td>\n",
       "      <td>Spayed Female</td>\n",
       "      <td>3 years</td>\n",
       "      <td>...</td>\n",
       "      <td>02/09/2022 03:32:00 PM</td>\n",
       "      <td>February 2022</td>\n",
       "      <td>1201 Peyton Gin Road in Austin (TX)</td>\n",
       "      <td>Stray</td>\n",
       "      <td>Normal</td>\n",
       "      <td>Dog</td>\n",
       "      <td>Spayed Female</td>\n",
       "      <td>3 years</td>\n",
       "      <td>Belgian Malinois</td>\n",
       "      <td>Brown/Black</td>\n",
       "    </tr>\n",
       "  </tbody>\n",
       "</table>\n",
       "<p>121773 rows × 24 columns</p>\n",
       "</div>"
      ],
      "text/plain": [
       "       Animal ID Name_outcomes   DateTime_outcomes MonthYear_outcomes  \\\n",
       "0        A794011         Chunk 2019-05-08 18:20:00           May 2019   \n",
       "1        A776359         Gizmo 2018-07-18 16:02:00           Jul 2018   \n",
       "2        A821648           NaN 2020-08-16 11:38:00           Aug 2020   \n",
       "3        A674754           NaN 2014-03-18 11:47:00           Mar 2014   \n",
       "4        A814515       Quentin 2020-05-06 07:59:00           May 2020   \n",
       "...          ...           ...                 ...                ...   \n",
       "121768   A850166        Rainey 2022-01-24 18:20:00           Jan 2022   \n",
       "121769   A852031        Noodle 2022-02-28 12:50:00           Feb 2022   \n",
       "121770   A845839       *Carmen 2022-02-28 13:49:00           Feb 2022   \n",
       "121771   A844321     Mia Marie 2022-02-28 13:04:00           Feb 2022   \n",
       "121772   A813933       Lucille 2022-02-28 14:19:00           Feb 2022   \n",
       "\n",
       "       Date of Birth Outcome Type Outcome Subtype Animal Type_outcomes  \\\n",
       "0         2017-05-02    Rto-Adopt             NaN                  Cat   \n",
       "1         2017-07-12     Adoption             NaN                  Dog   \n",
       "2         2019-08-16   Euthanasia             NaN                Other   \n",
       "3         2014-03-12     Transfer         Partner                  Cat   \n",
       "4         2018-03-01     Adoption          Foster                  Dog   \n",
       "...              ...          ...             ...                  ...   \n",
       "121768    2021-11-19     Adoption             NaN                  Cat   \n",
       "121769    2020-02-23     Transfer         Partner                  Dog   \n",
       "121770    2020-05-05     Adoption          Foster                  Dog   \n",
       "121771    2013-10-15     Adoption          Foster                  Dog   \n",
       "121772    2018-12-21     Adoption             NaN                  Dog   \n",
       "\n",
       "       Sex upon Outcome Age upon Outcome  ...        DateTime_intakes  \\\n",
       "0         Neutered Male          2 years  ...  05/02/2019 04:51:00 PM   \n",
       "1         Neutered Male           1 year  ...  07/12/2018 12:46:00 PM   \n",
       "2               Unknown           1 year  ...  08/16/2020 10:10:00 AM   \n",
       "3           Intact Male           6 days  ...  03/18/2014 07:11:00 AM   \n",
       "4         Neutered Male          2 years  ...  03/01/2020 02:19:00 PM   \n",
       "...                 ...              ...  ...                     ...   \n",
       "121768      Intact Male         2 months  ...  01/19/2022 12:39:00 PM   \n",
       "121769    Neutered Male          2 years  ...  02/23/2022 01:36:00 PM   \n",
       "121770    Spayed Female           1 year  ...  11/05/2021 12:19:00 PM   \n",
       "121771    Spayed Female          8 years  ...  10/15/2021 08:42:00 AM   \n",
       "121772    Spayed Female          3 years  ...  02/09/2022 03:32:00 PM   \n",
       "\n",
       "       MonthYear_intakes                              Found Location  \\\n",
       "0               May 2019                                 Austin (TX)   \n",
       "1              July 2018           7201 Levander Loop in Austin (TX)   \n",
       "2            August 2020  Armadillo Rd And Clubway Ln in Austin (TX)   \n",
       "3             March 2014               12034 Research in Austin (TX)   \n",
       "4             March 2020                                 Austin (TX)   \n",
       "...                  ...                                         ...   \n",
       "121768      January 2022                  South First in Austin (TX)   \n",
       "121769     February 2022                                 Austin (TX)   \n",
       "121770     November 2021       12202 Von Quintus Road in Austin (TX)   \n",
       "121771      October 2021            Manchaca And 1626 in Austin (TX)   \n",
       "121772     February 2022         1201 Peyton Gin Road in Austin (TX)   \n",
       "\n",
       "            Intake Type Intake Condition Animal Type_intakes Sex upon Intake  \\\n",
       "0       Owner Surrender           Normal                 Cat   Neutered Male   \n",
       "1                 Stray           Normal                 Dog     Intact Male   \n",
       "2              Wildlife             Sick               Other         Unknown   \n",
       "3                 Stray          Nursing                 Cat     Intact Male   \n",
       "4       Owner Surrender           Normal                 Dog   Neutered Male   \n",
       "...                 ...              ...                 ...             ...   \n",
       "121768            Stray           Normal                 Cat     Intact Male   \n",
       "121769  Owner Surrender          Injured                 Dog   Neutered Male   \n",
       "121770            Stray           Normal                 Dog   Intact Female   \n",
       "121771            Stray             Aged                 Dog   Spayed Female   \n",
       "121772            Stray           Normal                 Dog   Spayed Female   \n",
       "\n",
       "       Age upon Intake                         Breed_intakes  \\\n",
       "0              2 years                Domestic Shorthair Mix   \n",
       "1               1 year               Chihuahua Shorthair Mix   \n",
       "2               1 year                               Raccoon   \n",
       "3               6 days                Domestic Shorthair Mix   \n",
       "4              2 years  American Foxhound/Labrador Retriever   \n",
       "...                ...                                   ...   \n",
       "121768         1 month                               Siamese   \n",
       "121769         2 years         Pomeranian/Chihuahua Longhair   \n",
       "121770          1 year                          Pit Bull Mix   \n",
       "121771         8 years                              Pit Bull   \n",
       "121772         3 years                      Belgian Malinois   \n",
       "\n",
       "            Color_intakes  \n",
       "0       Brown Tabby/White  \n",
       "1             White/Brown  \n",
       "2                    Gray  \n",
       "3            Orange Tabby  \n",
       "4             White/Brown  \n",
       "...                   ...  \n",
       "121768         Seal Point  \n",
       "121769               Buff  \n",
       "121770              Brown  \n",
       "121771        Black/White  \n",
       "121772        Brown/Black  \n",
       "\n",
       "[121773 rows x 24 columns]"
      ]
     },
     "execution_count": 122,
     "metadata": {},
     "output_type": "execute_result"
    }
   ],
   "source": [
    "# Try again\n",
    "outcomes_clean.merge(intakes_clean, how='inner', on='Animal ID',\n",
    "              suffixes = ('_outcomes', '_intakes'))"
   ]
  },
  {
   "cell_type": "markdown",
   "metadata": {},
   "source": [
    "# Level Up: Quick Column Name Clean Up Code\n",
    "\n",
    "Throwing a quick use of a lambda function your way:"
   ]
  },
  {
   "cell_type": "code",
   "execution_count": null,
   "metadata": {},
   "outputs": [],
   "source": [
    "outcomes_renamed = outcomes.rename(columns = lambda x: x.replace(\" \", \"_\").lower())\n",
    "outcomes_renamed.head()"
   ]
  },
  {
   "cell_type": "markdown",
   "metadata": {
    "heading_collapsed": true
   },
   "source": [
    "# Level Up: `pandas.set_option()`"
   ]
  },
  {
   "cell_type": "markdown",
   "metadata": {
    "hidden": true
   },
   "source": [
    "We can adjust how `pandas` works by setting options in advance."
   ]
  },
  {
   "cell_type": "markdown",
   "metadata": {
    "hidden": true
   },
   "source": [
    "For complete documentation, see [here](https://pandas.pydata.org/pandas-docs/stable/user_guide/options.html)."
   ]
  },
  {
   "cell_type": "markdown",
   "metadata": {
    "heading_collapsed": true,
    "hidden": true
   },
   "source": [
    "## Block Scientific Notation"
   ]
  },
  {
   "cell_type": "markdown",
   "metadata": {
    "hidden": true
   },
   "source": [
    "For example, suppose we want to prevent numbers from being displayed in scientific notation."
   ]
  },
  {
   "cell_type": "code",
   "execution_count": null,
   "metadata": {
    "hidden": true
   },
   "outputs": [],
   "source": [
    "df = pd.DataFrame([[1e9, 2e9], [3e9, 4e9]])\n",
    "df"
   ]
  },
  {
   "cell_type": "markdown",
   "metadata": {
    "hidden": true
   },
   "source": [
    "Then we can use:"
   ]
  },
  {
   "cell_type": "code",
   "execution_count": null,
   "metadata": {
    "hidden": true
   },
   "outputs": [],
   "source": [
    "pd.set_option('display.float_format', '{:.2f}'.format)\n",
    "\n",
    "df"
   ]
  },
  {
   "cell_type": "markdown",
   "metadata": {
    "heading_collapsed": true,
    "hidden": true
   },
   "source": [
    "## See More Rows"
   ]
  },
  {
   "cell_type": "markdown",
   "metadata": {
    "hidden": true
   },
   "source": [
    "Or suppose we want `pandas` to show more rows."
   ]
  },
  {
   "cell_type": "code",
   "execution_count": null,
   "metadata": {
    "hidden": true
   },
   "outputs": [],
   "source": [
    "df2 = pd.DataFrame(np.array(range(100)))\n",
    "df2"
   ]
  },
  {
   "cell_type": "markdown",
   "metadata": {
    "hidden": true
   },
   "source": [
    "In that case we can use:"
   ]
  },
  {
   "cell_type": "code",
   "execution_count": null,
   "metadata": {
    "hidden": true
   },
   "outputs": [],
   "source": [
    "pd.set_option('display.max_rows', 100)\n",
    "\n",
    "df2"
   ]
  }
 ],
 "metadata": {
  "kernelspec": {
   "display_name": "Python 3",
   "language": "python",
   "name": "python3"
  },
  "language_info": {
   "codemirror_mode": {
    "name": "ipython",
    "version": 3
   },
   "file_extension": ".py",
   "mimetype": "text/x-python",
   "name": "python",
   "nbconvert_exporter": "python",
   "pygments_lexer": "ipython3",
   "version": "3.8.5"
  },
  "toc": {
   "base_numbering": 1,
   "nav_menu": {},
   "number_sections": true,
   "sideBar": true,
   "skip_h1_title": false,
   "title_cell": "Table of Contents",
   "title_sidebar": "TOC",
   "toc_cell": true,
   "toc_position": {
    "height": "calc(100% - 180px)",
    "left": "10px",
    "top": "150px",
    "width": "288px"
   },
   "toc_section_display": true,
   "toc_window_display": true
  }
 },
 "nbformat": 4,
 "nbformat_minor": 2
}
