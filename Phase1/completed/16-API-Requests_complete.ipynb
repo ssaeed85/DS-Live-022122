{
 "cells": [
  {
   "cell_type": "markdown",
   "metadata": {
    "slideshow": {
     "slide_type": "slide"
    }
   },
   "source": [
    "# Application Programming Interfaces (APIs)- Gathering Data Using Requests"
   ]
  },
  {
   "cell_type": "markdown",
   "metadata": {},
   "source": [
    "## Objectives\n",
    "\n",
    "- Send requests and receive responses over the web\n",
    "- Retrieve data from APIs using the `requests` library\n",
    "- Parse API responses"
   ]
  },
  {
   "cell_type": "markdown",
   "metadata": {
    "slideshow": {
     "slide_type": "slide"
    }
   },
   "source": [
    "## The Many Use Cases For APIs\n",
    "\n",
    "APIs can be used for many things - much more than just retrieving information. Twilio has an API that allows you to write a script to send text messages to people. GitHub has an API for creating new repositories. Many services have APIs allowing computers to automate tasks that a person might otherwise have to do through a website - whether uploading a photo to Flickr, searching for a company name in a state database, or getting a list of garbage collection times for a municipality."
   ]
  },
  {
   "cell_type": "markdown",
   "metadata": {
    "slideshow": {
     "slide_type": "slide"
    }
   },
   "source": [
    "## Limitations of APIs\n",
    "\n",
    "When working with APIs, there are some limitations you have to be aware of - especially relating to scope and scale.\n",
    "\n",
    "* **Scope** - Just because a company has an API and has information, it doesn't mean you can get all of the information you might want through their API\n",
    "\n",
    "* **Scale** - Some APIs are provided for free as a public service. Others you have to pay for, or allow you to perform activities (like sending a text message) that you pay for. Make sure that you know what the rate limits are and that your use case isn't going to need more API calls than you will be able to make.\n",
    "\n",
    "What else is good to know? **Every API is different!** There are some standards out there in terms of documentation and usage... but it's like the wild west - rapid expansion with few rules.\n",
    "\n",
    "With all that out of the way - Let's take a look at the `requests` library and its uses."
   ]
  },
  {
   "cell_type": "markdown",
   "metadata": {
    "slideshow": {
     "slide_type": "slide"
    }
   },
   "source": [
    "### \"Requests is the only Non-GMO HTTP library for Python, safe for human consumption.\"\n",
    "\n",
    "> \"Requests allows you to send organic, grass-fed HTTP/1.1 requests, without the need for manual labor.\"\n",
    "\n",
    "Straight from the `requests` [documentation](https://pypi.org/project/requests/)"
   ]
  },
  {
   "cell_type": "markdown",
   "metadata": {},
   "source": [
    "### Types of Requests\n",
    "\n",
    "We will mostly use GET requests in order to get data, but there are other options.\n",
    "\n",
    "![CRUD image from IntelliPaat](https://intellipaat.com/mediaFiles/2015/08/MongoDB-CRUD-operations.jpg)\n",
    "\n",
    "That's right - CRUD summarizes the kinds of requests you can make with most APIs. \n",
    "\n",
    "Let's say you are looking at an API for a car rental company like Hertz or Zipcar - the following different requests could generate these different responses:\n",
    "\n",
    "| Request               | Result                               | In CRUD Terms |\n",
    "| --------------------- | ------------------------------------ | ------------- |\n",
    "| GET /stores/          | User sees the list of stores         | Read          |\n",
    "| GET /rentals/         | User sees the history of car rentals | Read          |\n",
    "| POST /rentals/        | User rents a car                     | Create        |\n",
    "| PUT /rentals/{id}/    | User changes destination store       | Update        |\n",
    "| DELETE /rentals/{id}/ | User cancels the active car rental   | Delete        |\n"
   ]
  },
  {
   "cell_type": "markdown",
   "metadata": {},
   "source": [
    "### Let's get started!"
   ]
  },
  {
   "cell_type": "code",
   "execution_count": 1,
   "metadata": {
    "slideshow": {
     "slide_type": "slide"
    }
   },
   "outputs": [],
   "source": [
    "import requests"
   ]
  },
  {
   "cell_type": "code",
   "execution_count": null,
   "metadata": {},
   "outputs": [],
   "source": [
    "# Don't already have the library? Uncomment the below code and install it locally\n",
    "#!pip install requests"
   ]
  },
  {
   "cell_type": "code",
   "execution_count": 2,
   "metadata": {},
   "outputs": [
    {
     "data": {
      "text/plain": [
       "requests.models.Response"
      ]
     },
     "execution_count": 2,
     "metadata": {},
     "output_type": "execute_result"
    }
   ],
   "source": [
    "# Create a GET request, then check the type of object\n",
    "\n",
    "r = requests.get('https://api.github.com/events') \n",
    "type(r)"
   ]
  },
  {
   "cell_type": "code",
   "execution_count": 3,
   "metadata": {
    "scrolled": true
   },
   "outputs": [
    {
     "data": {
      "text/plain": [
       "'[{\"id\":\"20622921191\",\"type\":\"PullRequestEvent\",\"actor\":{\"id\":30714020,\"login\":\"MitchelPaulin\",\"display_login\":\"MitchelPaulin\",\"gravatar_id\":\"\",\"url\":\"https://api.github.com/users/MitchelPaulin\",\"avatar_url\":\"https://avatars.githubusercontent.com/u/30714020?\"},\"repo\":{\"id\":113224027,\"name\":\"Brightspace/d2l-rubric\",\"url\":\"https://api.github.com/repos/Brightspace/d2l-rubric\"},\"payload\":{\"action\":\"closed\",\"number\":1721,\"pull_request\":{\"url\":\"https://api.github.com/repos/Brightspace/d2l-rubric/pulls/1721\",\"id\":873466449,\"node_id\":\"PR_kwDOBr-pW840EApR\",\"html_url\":\"https://github.com/Brightspace/d2l-rubric/pull/1721\",\"diff_url\":\"https://github.com/Brightspace/d2l-rubric/pull/1721.diff\",\"patch_url\":\"https://github.com/Brightspace/d2l-rubric/pull/1721.patch\",\"issue_url\":\"https://api.github.com/repos/Brightspace/d2l-rubric/issues/1721\",\"number\":1721,\"state\":\"closed\",\"locked\":false,\"title\":\"Updating Visual Diff Goldens for PR 1720\",\"user\":{\"login\":\"github-actions[bot]\",\"id\":41898282,\"node_id\":\"MDM6Qm90NDE4OTgyODI=\",\"avatar_url\":\"https://avatars.githubusercontent.com/in/15368?v=4\",\"gravatar_id\":\"\",\"url\":\"https://api.github.com/users/github-actions%5Bbot%5D\",\"html_url\":\"https://github.com/apps/github-actions\",\"followers_url\":\"https://api.github.com/users/github-actions%5Bbot%5D/followers\",\"following_url\":\"https://api.github.com/users/github-actions%5Bbot%5D/following{/other_user}\",\"gists_url\":\"https://api.github.com/users/github-actions%5Bbot%5D/gists{/gist_id}\",\"starred_url\":\"https://api.github.com/users/github-actions%5Bbot%5D/starred{/owner}{/repo}\",\"subscriptions_url\":\"https://api.github.com/users/github-actions%5Bbot%5D/subscriptions\",\"organizations_url\":\"https://api.github.com/users/github-actions%5Bbot%5D/orgs\",\"repos_url\":\"https://api.github.com/users/github-actions%5Bbot%5D/repos\",\"events_url\":\"https://api.github.com/users/github-actions%5Bbot%5D/events{/privacy}\",\"received_events_url\":\"https://api.github.com/users/github-actions%5Bbot%5D/received_events\",\"type\":\"Bot\",\"site_admin\":false},\"body\":\"This pull request updates the visual-diff golden images for the changes in pull request #1720.\\\\n\\\\nPlease review the following failed reports closely before merging to ensure the visual differences are expected.\\\\n\\\\nFailed Reports:\\\\n- [d2l-rubric-editor](https://visual-diff.d2l.dev/screenshots/Brightspace/d2l-rubric/d2l-rubric-editor/2022-03-07-19.04.57.339-489bc8da1d3d2b82922aa9f6d9ddf28c10e6465a-report.html)\",\"created_at\":\"2022-03-07T19:15:44Z\",\"updated_at\":\"2022-03-07T19:16:29Z\",\"closed_at\":\"2022-03-07T19:16:29Z\",\"merged_at\":\"2022-03-07T19:16:29Z\",\"merge_commit_sha\":\"6fb09420a5d031c21fd2192b1a2b1efbafb91008\",\"assignee\":null,\"assignees\":[],\"requested_reviewers\":[{\"login\":\"devpow112\",\"id\":9043211,\"node_id\":\"MDQ6VXNlcjkwNDMyMTE=\",\"avatar_url\":\"https://avatars.githubusercontent.com/u/9043211?v=4\",\"gravatar_id\":\"\",\"url\":\"https://api.github.com/users/devpow112\",\"html_url\":\"https://github.com/devpow112\",\"followers_url\":\"https://api.github.com/users/devpow112/followers\",\"following_url\":\"https://api.github.com/users/devpow112/following{/other_user}\",\"gists_url\":\"https://api.github.com/users/devpow112/gists{/gist_id}\",\"starred_url\":\"https://api.github.com/users/devpow112/starred{/owner}{/repo}\",\"subscriptions_url\":\"https://api.github.com/users/devpow112/subscriptions\",\"organizations_url\":\"https://api.github.com/users/devpow112/orgs\",\"repos_url\":\"https://api.github.com/users/devpow112/repos\",\"events_url\":\"https://api.github.com/users/devpow112/events{/privacy}\",\"received_events_url\":\"https://api.github.com/users/devpow112/received_events\",\"type\":\"User\",\"site_admin\":false}],\"requested_teams\":[],\"labels\":[{\"id\":3277680378,\"node_id\":\"MDU6TGFiZWwzMjc3NjgwMzc4\",\"url\":\"https://api.github.com/repos/Brightspace/d2l-rubric/labels/auto-visual-diff\",\"name\":\"auto-visual-diff\",\"color\":\"ededed\",\"default\":false,\"description\":null}],\"milestone\":null,\"draft\":false,\"commits_url\":\"https://api.github.com/repos/Brightspace/d2l-rubric/pulls/1721/commits\",\"review_comments_url\":\"https://api.github.com/repos/Brightspace/d2l-rubric/pulls/1721/comments\",\"review_comment_url\":\"https://api.github.com/repos/Brightspace/d2l-rubric/pulls/comments{/number}\",\"comments_url\":\"https://api.github.com/repos/Brightspace/d2l-rubric/issues/1721/comments\",\"statuses_url\":\"https://api.github.com/repos/Brightspace/d2l-rubric/statuses/4aa45f47664003e6ec208d616d835ac0a8508799\",\"head\":{\"label\":\"Brightspace:ghworkflow/visual-diff-pr-1720\",\"ref\":\"ghworkflow/visual-diff-pr-1720\",\"sha\":\"4aa45f47664003e6ec208d616d835ac0a8508799\",\"user\":{\"login\":\"Brightspace\",\"id\":5429170,\"node_id\":\"MDEyOk9yZ2FuaXphdGlvbjU0MjkxNzA=\",\"avatar_url\":\"https://avatars.githubusercontent.com/u/5429170?v=4\",\"gravatar_id\":\"\",\"url\":\"https://api.github.com/users/Brightspace\",\"html_url\":\"https://github.com/Brightspace\",\"followers_url\":\"https://api.github.com/users/Brightspace/followers\",\"following_url\":\"https://api.github.com/users/Brightspace/following{/other_user}\",\"gists_url\":\"https://api.github.com/users/Brightspace/gists{/gist_id}\",\"starred_url\":\"https://api.github.com/users/Brightspace/starred{/owner}{/repo}\",\"subscriptions_url\":\"https://api.github.com/users/Brightspace/subscriptions\",\"organizations_url\":\"https://api.github.com/users/Brightspace/orgs\",\"repos_url\":\"https://api.github.com/users/Brightspace/repos\",\"events_url\":\"https://api.github.com/users/Brightspace/events{/privacy}\",\"received_events_url\":\"https://api.github.com/users/Brightspace/received_events\",\"type\":\"Organization\",\"site_admin\":false},\"repo\":{\"id\":113224027,\"node_id\":\"MDEwOlJlcG9zaXRvcnkxMTMyMjQwMjc=\",\"name\":\"d2l-rubric\",\"full_name\":\"Brightspace/d2l-rubric\",\"private\":false,\"owner\":{\"login\":\"Brightspace\",\"id\":5429170,\"node_id\":\"MDEyOk9yZ2FuaXphdGlvbjU0MjkxNzA=\",\"avatar_url\":\"https://avatars.githubusercontent.com/u/5429170?v=4\",\"gravatar_id\":\"\",\"url\":\"https://api.github.com/users/Brightspace\",\"html_url\":\"https://github.com/Brightspace\",\"followers_url\":\"https://api.github.com/users/Brightspace/followers\",\"following_url\":\"https://api.github.com/users/Brightspace/following{/other_user}\",\"gists_url\":\"https://api.github.com/users/Brightspace/gists{/gist_id}\",\"starred_url\":\"https://api.github.com/users/Brightspace/starred{/owner}{/repo}\",\"subscriptions_url\":\"https://api.github.com/users/Brightspace/subscriptions\",\"organizations_url\":\"https://api.github.com/users/Brightspace/orgs\",\"repos_url\":\"https://api.github.com/users/Brightspace/repos\",\"events_url\":\"https://api.github.com/users/Brightspace/events{/privacy}\",\"received_events_url\":\"https://api.github.com/users/Brightspace/received_events\",\"type\":\"Organization\",\"site_admin\":false},\"html_url\":\"https://github.com/Brightspace/d2l-rubric\",\"description\":\"Lit based web-component to display a rubric\",\"fork\":false,\"url\":\"https://api.github.com/repos/Brightspace/d2l-rubric\",\"forks_url\":\"https://api.github.com/repos/Brightspace/d2l-rubric/forks\",\"keys_url\":\"https://api.github.com/repos/Brightspace/d2l-rubric/keys{/key_id}\",\"collaborators_url\":\"https://api.github.com/repos/Brightspace/d2l-rubric/collaborators{/collaborator}\",\"teams_url\":\"https://api.github.com/repos/Brightspace/d2l-rubric/teams\",\"hooks_url\":\"https://api.github.com/repos/Brightspace/d2l-rubric/hooks\",\"issue_events_url\":\"https://api.github.com/repos/Brightspace/d2l-rubric/issues/events{/number}\",\"events_url\":\"https://api.github.com/repos/Brightspace/d2l-rubric/events\",\"assignees_url\":\"https://api.github.com/repos/Brightspace/d2l-rubric/assignees{/user}\",\"branches_url\":\"https://api.github.com/repos/Brightspace/d2l-rubric/branches{/branch}\",\"tags_url\":\"https://api.github.com/repos/Brightspace/d2l-rubric/tags\",\"blobs_url\":\"https://api.github.com/repos/Brightspace/d2l-rubric/git/blobs{/sha}\",\"git_tags_url\":\"https://api.github.com/repos/Brightspace/d2l-rubric/git/tags{/sha}\",\"git_refs_url\":\"https://api.github.com/repos/Brightspace/d2l-rubric/git/refs{/sha}\",\"trees_url\":\"https://api.github.com/repos/Brightspace/d2l-rubric/git/trees{/sha}\",\"statuses_url\":\"https://api.github.com/repos/Brightspace/d2l-rubric/statuses/{sha}\",\"languages_url\":\"https://api.github.com/repos/Brightspace/d2l-rubric/languages\",\"stargazers_url\":\"https://api.github.com/repos/Brightspace/d2l-rubric/stargazers\",\"contributors_url\":\"https://api.github.com/repos/Brightspace/d2l-rubric/contributors\",\"subscribers_url\":\"https://api.github.com/repos/Brightspace/d2l-rubric/subscribers\",\"subscription_url\":\"https://api.github.com/repos/Brightspace/d2l-rubric/subscription\",\"commits_url\":\"https://api.github.com/repos/Brightspace/d2l-rubric/commits{/sha}\",\"git_commits_url\":\"https://api.github.com/repos/Brightspace/d2l-rubric/git/commits{/sha}\",\"comments_url\":\"https://api.github.com/repos/Brightspace/d2l-rubric/comments{/number}\",\"issue_comment_url\":\"https://api.github.com/repos/Brightspace/d2l-rubric/issues/comments{/number}\",\"contents_url\":\"https://api.github.com/repos/Brightspace/d2l-rubric/contents/{+path}\",\"compare_url\":\"https://api.github.com/repos/Brightspace/d2l-rubric/compare/{base}...{head}\",\"merges_url\":\"https://api.github.com/repos/Brightspace/d2l-rubric/merges\",\"archive_url\":\"https://api.github.com/repos/Brightspace/d2l-rubric/{archive_format}{/ref}\",\"downloads_url\":\"https://api.github.com/repos/Brightspace/d2l-rubric/downloads\",\"issues_url\":\"https://api.github.com/repos/Brightspace/d2l-rubric/issues{/number}\",\"pulls_url\":\"https://api.github.com/repos/Brightspace/d2l-rubric/pulls{/number}\",\"milestones_url\":\"https://api.github.com/repos/Brightspace/d2l-rubric/milestones{/number}\",\"notifications_url\":\"https://api.github.com/repos/Brightspace/d2l-rubric/notifications{?since,all,participating}\",\"labels_url\":\"https://api.github.com/repos/Brightspace/d2l-rubric/labels{/name}\",\"releases_url\":\"https://api.github.com/repos/Brightspace/d2l-rubric/releases{/id}\",\"deployments_url\":\"https://api.github.com/repos/Brightspace/d2l-rubric/deployments\",\"created_at\":\"2017-12-05T19:27:03Z\",\"updated_at\":\"2022-02-03T16:14:38Z\",\"pushed_at\":\"2022-03-07T19:16:29Z\",\"git_url\":\"git://github.com/Brightspace/d2l-rubric.git\",\"ssh_url\":\"git@github.com:Brightspace/d2l-rubric.git\",\"clone_url\":\"https://github.com/Brightspace/d2l-rubric.git\",\"svn_url\":\"https://github.com/Brightspace/d2l-rubric\",\"homepage\":\"\",\"size\":122846,\"stargazers_count\":3,\"watchers_count\":3,\"language\":\"JavaScript\",\"has_issues\":true,\"has_projects\":false,\"has_downloads\":true,\"has_wiki\":false,\"has_pages\":false,\"forks_count\":9,\"mirror_url\":null,\"archived\":false,\"disabled\":false,\"open_issues_count\":6,\"license\":{\"key\":\"apache-2.0\",\"name\":\"Apache License 2.0\",\"spdx_id\":\"Apache-2.0\",\"url\":\"https://api.github.com/licenses/apache-2.0\",\"node_id\":\"MDc6TGljZW5zZTI=\"},\"allow_forking\":true,\"is_template\":false,\"topics\":[\"dependabot-security\",\"dynamic-localization\",\"eslint\",\"eslint-json\",\"esmodule\",\"github-actions\",\"incremental-release\",\"license-checker\",\"lit\",\"lit-analyzer\",\"messageformat-validator\",\"package-lock-updater\",\"serge-js\",\"stylelint\",\"team-mango\",\"visual-diff\",\"web-dev-server\",\"web-test-runner\"],\"visibility\":\"public\",\"forks\":9,\"open_issues\":6,\"watchers\":3,\"default_branch\":\"master\"}},\"base\":{\"label\":\"Brightspace:Disable-reordering-actions-in-partial-edit\",\"ref\":\"Disable-reordering-actions-in-partial-edit\",\"sha\":\"27057fe5d7adf8a27a22bd952e34676c1a5f2bcd\",\"user\":{\"login\":\"Brightspace\",\"id\":5429170,\"node_id\":\"MDEyOk9yZ2FuaXphdGlvbjU0MjkxNzA=\",\"avatar_url\":\"https://avatars.githubusercontent.com/u/5429170?v=4\",\"gravatar_id\":\"\",\"url\":\"https://api.github.com/users/Brightspace\",\"html_url\":\"https://github.com/Brightspace\",\"followers_url\":\"https://api.github.com/users/Brightspace/followers\",\"following_url\":\"https://api.github.com/users/Brightspace/following{/other_user}\",\"gists_url\":\"https://api.github.com/users/Brightspace/gists{/gist_id}\",\"starred_url\":\"https://api.github.com/users/Brightspace/starred{/owner}{/repo}\",\"subscriptions_url\":\"https://api.github.com/users/Brightspace/subscriptions\",\"organizations_url\":\"https://api.github.com/users/Brightspace/orgs\",\"repos_url\":\"https://api.github.com/users/Brightspace/repos\",\"events_url\":\"https://api.github.com/users/Brightspace/events{/privacy}\",\"received_events_url\":\"https://api.github.com/users/Brightspace/received_events\",\"type\":\"Organization\",\"site_admin\":false},\"repo\":{\"id\":113224027,\"node_id\":\"MDEwOlJlcG9zaXRvcnkxMTMyMjQwMjc=\",\"name\":\"d2l-rubric\",\"full_name\":\"Brightspace/d2l-rubric\",\"private\":false,\"owner\":{\"login\":\"Brightspace\",\"id\":5429170,\"node_id\":\"MDEyOk9yZ2FuaXphdGlvbjU0MjkxNzA=\",\"avatar_url\":\"https://avatars.githubusercontent.com/u/5429170?v=4\",\"gravatar_id\":\"\",\"url\":\"https://api.github.com/users/Brightspace\",\"html_url\":\"https://github.com/Brightspace\",\"followers_url\":\"https://api.github.com/users/Brightspace/followers\",\"following_url\":\"https://api.github.com/users/Brightspace/following{/other_user}\",\"gists_url\":\"https://api.github.com/users/Brightspace/gists{/gist_id}\",\"starred_url\":\"https://api.github.com/users/Brightspace/starred{/owner}{/repo}\",\"subscriptions_url\":\"https://api.github.com/users/Brightspace/subscriptions\",\"organizations_url\":\"https://api.github.com/users/Brightspace/orgs\",\"repos_url\":\"https://api.github.com/users/Brightspace/repos\",\"events_url\":\"https://api.github.com/users/Brightspace/events{/privacy}\",\"received_events_url\":\"https://api.github.com/users/Brightspace/received_events\",\"type\":\"Organization\",\"site_admin\":false},\"html_url\":\"https://github.com/Brightspace/d2l-rubric\",\"description\":\"Lit based web-component to display a rubric\",\"fork\":false,\"url\":\"https://api.github.com/repos/Brightspace/d2l-rubric\",\"forks_url\":\"https://api.github.com/repos/Brightspace/d2l-rubric/forks\",\"keys_url\":\"https://api.github.com/repos/Brightspace/d2l-rubric/keys{/key_id}\",\"collaborators_url\":\"https://api.github.com/repos/Brightspace/d2l-rubric/collaborators{/collaborator}\",\"teams_url\":\"https://api.github.com/repos/Brightspace/d2l-rubric/teams\",\"hooks_url\":\"https://api.github.com/repos/Brightspace/d2l-rubric/hooks\",\"issue_events_url\":\"https://api.github.com/repos/Brightspace/d2l-rubric/issues/events{/number}\",\"events_url\":\"https://api.github.com/repos/Brightspace/d2l-rubric/events\",\"assignees_url\":\"https://api.github.com/repos/Brightspace/d2l-rubric/assignees{/user}\",\"branches_url\":\"https://api.github.com/repos/Brightspace/d2l-rubric/branches{/branch}\",\"tags_url\":\"https://api.github.com/repos/Brightspace/d2l-rubric/tags\",\"blobs_url\":\"https://api.github.com/repos/Brightspace/d2l-rubric/git/blobs{/sha}\",\"git_tags_url\":\"https://api.github.com/repos/Brightspace/d2l-rubric/git/tags{/sha}\",\"git_refs_url\":\"https://api.github.com/repos/Brightspace/d2l-rubric/git/refs{/sha}\",\"trees_url\":\"https://api.github.com/repos/Brightspace/d2l-rubric/git/trees{/sha}\",\"statuses_url\":\"https://api.github.com/repos/Brightspace/d2l-rubric/statuses/{sha}\",\"languages_url\":\"https://api.github.com/repos/Brightspace/d2l-rubric/languages\",\"stargazers_url\":\"https://api.github.com/repos/Brightspace/d2l-rubric/stargazers\",\"contributors_url\":\"https://api.github.com/repos/Brightspace/d2l-rubric/contributors\",\"subscribers_url\":\"https://api.github.com/repos/Brightspace/d2l-rubric/subscribers\",\"subscription_url\":\"https://api.github.com/repos/Brightspace/d2l-rubric/subscription\",\"commits_url\":\"https://api.github.com/repos/Brightspace/d2l-rubric/commits{/sha}\",\"git_commits_url\":\"https://api.github.com/repos/Brightspace/d2l-rubric/git/commits{/sha}\",\"comments_url\":\"https://api.github.com/repos/Brightspace/d2l-rubric/comments{/number}\",\"issue_comment_url\":\"https://api.github.com/repos/Brightspace/d2l-rubric/issues/comments{/number}\",\"contents_url\":\"https://api.github.com/repos/Brightspace/d2l-rubric/contents/{+path}\",\"compare_url\":\"https://api.github.com/repos/Brightspace/d2l-rubric/compare/{base}...{head}\",\"merges_url\":\"https://api.github.com/repos/Brightspace/d2l-rubric/merges\",\"archive_url\":\"https://api.github.com/repos/Brightspace/d2l-rubric/{archive_format}{/ref}\",\"downloads_url\":\"https://api.github.com/repos/Brightspace/d2l-rubric/downloads\",\"issues_url\":\"https://api.github.com/repos/Brightspace/d2l-rubric/issues{/number}\",\"pulls_url\":\"https://api.github.com/repos/Brightspace/d2l-rubric/pulls{/number}\",\"milestones_url\":\"https://api.github.com/repos/Brightspace/d2l-rubric/milestones{/number}\",\"notifications_url\":\"https://api.github.com/repos/Brightspace/d2l-rubric/notifications{?since,all,participating}\",\"labels_url\":\"https://api.github.com/repos/Brightspace/d2l-rubric/labels{/name}\",\"releases_url\":\"https://api.github.com/repos/Brightspace/d2l-rubric/releases{/id}\",\"deployments_url\":\"https://api.github.com/repos/Brightspace/d2l-rubric/deployments\",\"created_at\":\"2017-12-05T19:27:03Z\",\"updated_at\":\"2022-02-03T16:14:38Z\",\"pushed_at\":\"2022-03-07T19:16:29Z\",\"git_url\":\"git://github.com/Brightspace/d2l-rubric.git\",\"ssh_url\":\"git@github.com:Brightspace/d2l-rubric.git\",\"clone_url\":\"https://github.com/Brightspace/d2l-rubric.git\",\"svn_url\":\"https://github.com/Brightspace/d2l-rubric\",\"homepage\":\"\",\"size\":122846,\"stargazers_count\":3,\"watchers_count\":3,\"language\":\"JavaScript\",\"has_issues\":true,\"has_projects\":false,\"has_downloads\":true,\"has_wiki\":false,\"has_pages\":false,\"forks_count\":9,\"mirror_url\":null,\"archived\":false,\"disabled\":false,\"open_issues_count\":6,\"license\":{\"key\":\"apache-2.0\",\"name\":\"Apache License 2.0\",\"spdx_id\":\"Apache-2.0\",\"url\":\"https://api.github.com/licenses/apache-2.0\",\"node_id\":\"MDc6TGljZW5zZTI=\"},\"allow_forking\":true,\"is_template\":false,\"topics\":[\"dependabot-security\",\"dynamic-localization\",\"eslint\",\"eslint-json\",\"esmodule\",\"github-actions\",\"incremental-release\",\"license-checker\",\"lit\",\"lit-analyzer\",\"messageformat-validator\",\"package-lock-updater\",\"serge-js\",\"stylelint\",\"team-mango\",\"visual-diff\",\"web-dev-server\",\"web-test-runner\"],\"visibility\":\"public\",\"forks\":9,\"open_issues\":6,\"watchers\":3,\"default_branch\":\"master\"}},\"_links\":{\"self\":{\"href\":\"https://api.github.com/repos/Brightspace/d2l-rubric/pulls/1721\"},\"html\":{\"href\":\"https://github.com/Brightspace/d2l-rubric/pull/1721\"},\"issue\":{\"href\":\"https://api.github.com/repos/Brightspace/d2l-rubric/issues/1721\"},\"comments\":{\"href\":\"https://api.github.com/repos/Brightspace/d2l-rubric/issues/1721/comments\"},\"review_comments\":{\"href\":\"https://api.github.com/repos/Brightspace/d2l-rubric/pulls/1721/comments\"},\"review_comment\":{\"href\":\"https://api.github.com/repos/Brightspace/d2l-rubric/pulls/comments{/number}\"},\"commits\":{\"href\":\"https://api.github.com/repos/Brightspace/d2l-rubric/pulls/1721/commits\"},\"statuses\":{\"href\":\"https://api.github.com/repos/Brightspace/d2l-rubric/statuses/4aa45f47664003e6ec208d616d835ac0a8508799\"}},\"author_association\":\"CONTRIBUTOR\",\"auto_merge\":null,\"active_lock_reason\":null,\"merged\":true,\"mergeable\":null,\"rebaseable\":null,\"mergeable_state\":\"unknown\",\"merged_by\":{\"login\":\"MitchelPaulin\",\"id\":30714020,\"node_id\":\"MDQ6VXNlcjMwNzE0MDIw\",\"avatar_url\":\"https://avatars.githubusercontent.com/u/30714020?v=4\",\"gravatar_id\":\"\",\"url\":\"https://api.github.com/users/MitchelPaulin\",\"html_url\":\"https://github.com/MitchelPaulin\",\"followers_url\":\"https://api.github.com/users/MitchelPaulin/followers\",\"following_url\":\"https://api.github.com/users/MitchelPaulin/following{/other_user}\",\"gists_url\":\"https://api.github.com/users/MitchelPaulin/gists{/gist_id}\",\"starred_url\":\"https://api.github.com/users/MitchelPaulin/starred{/owner}{/repo}\",\"subscriptions_url\":\"https://api.github.com/users/MitchelPaulin/subscriptions\",\"organizations_url\":\"https://api.github.com/users/MitchelPaulin/orgs\",\"repos_url\":\"https://api.github.com/users/MitchelPaulin/repos\",\"events_url\":\"https://api.github.com/users/MitchelPaulin/events{/privacy}\",\"received_events_url\":\"https://api.github.com/users/MitchelPaulin/received_events\",\"type\":\"User\",\"site_admin\":false},\"comments\":0,\"review_comments\":0,\"maintainer_can_modify\":false,\"commits\":1,\"additions\":0,\"deletions\":0,\"changed_files\":2}},\"public\":true,\"created_at\":\"2022-03-07T19:16:29Z\",\"org\":{\"id\":5429170,\"login\":\"Brightspace\",\"gravatar_id\":\"\",\"url\":\"https://api.github.com/orgs/Brightspace\",\"avatar_url\":\"https://avatars.githubusercontent.com/u/5429170?\"}},{\"id\":\"20622921112\",\"type\":\"IssueCommentEvent\",\"actor\":{\"id\":48340428,\"login\":\"msftbot[bot]\",\"display_login\":\"msftbot\",\"gravatar_id\":\"\",\"url\":\"https://api.github.com/users/msftbot[bot]\",\"avatar_url\":\"https://avatars.githubusercontent.com/u/48340428?\"},\"repo\":{\"id\":197275551,\"name\":\"microsoft/winget-pkgs\",\"url\":\"https://api.github.com/repos/microsoft/winget-pkgs\"},\"payload\":{\"action\":\"created\",\"issue\":{\"url\":\"https://api.github.com/repos/microsoft/winget-pkgs/issues/50612\",\"repository_url\":\"https://api.github.com/repos/microsoft/winget-pkgs\",\"labels_url\":\"https://api.github.com/repos/microsoft/winget-pkgs/issues/50612/labels{/name}\",\"comments_url\":\"https://api.github.com/repos/microsoft/winget-pkgs/issues/50612/comments\",\"events_url\":\"https://api.github.com/repos/microsoft/winget-pkgs/issues/50612/events\",\"html_url\":\"https://github.com/microsoft/winget-pkgs/pull/50612\",\"id\":1161764417,\"node_id\":\"PR_kwDOC8Ivn840D0-V\",\"number\":50612,\"title\":\"Remove: Discord.Discord.Development version 1.0.624\",\"user\":{\"login\":\"vedantmgoyal2009\",\"id\":83997633,\"node_id\":\"MDQ6VXNlcjgzOTk3NjMz\",\"avatar_url\":\"https://avatars.githubusercontent.com/u/83997633?v=4\",\"gravatar_id\":\"\",\"url\":\"https://api.github.com/users/vedantmgoyal2009\",\"html_url\":\"https://github.com/vedantmgoyal2009\",\"followers_url\":\"https://api.github.com/users/vedantmgoyal2009/followers\",\"following_url\":\"https://api.github.com/users/vedantmgoyal2009/following{/other_user}\",\"gists_url\":\"https://api.github.com/users/vedantmgoyal2009/gists{/gist_id}\",\"starred_url\":\"https://api.github.com/users/vedantmgoyal2009/starred{/owner}{/repo}\",\"subscriptions_url\":\"https://api.github.com/users/vedantmgoyal2009/subscriptions\",\"organizations_url\":\"https://api.github.com/users/vedantmgoyal2009/orgs\",\"repos_url\":\"https://api.github.com/users/vedantmgoyal2009/repos\",\"events_url\":\"https://api.github.com/users/vedantmgoyal2009/events{/privacy}\",\"received_events_url\":\"https://api.github.com/users/vedantmgoyal2009/received_events\",\"type\":\"User\",\"site_admin\":false},\"labels\":[{\"id\":1960159397,\"node_id\":\"MDU6TGFiZWwxOTYwMTU5Mzk3\",\"url\":\"https://api.github.com/repos/microsoft/winget-pkgs/labels/Azure-Pipeline-Passed\",\"name\":\"Azure-Pipeline-Passed\",\"color\":\"0e8a16\",\"default\":false,\"description\":\"Validation pipeline passed.  There may still be manual validation requirements.\"},{\"id\":1960159833,\"node_id\":\"MDU6TGFiZWwxOTYwMTU5ODMz\",\"url\":\"https://api.github.com/repos/microsoft/winget-pkgs/labels/Validation-Completed\",\"name\":\"Validation-Completed\",\"color\":\"0e8a16\",\"default\":false,\"description\":\"Validation passed\"},{\"id\":3050683518,\"node_id\":\"MDU6TGFiZWwzMDUwNjgzNTE4\",\"url\":\"https://api.github.com/repos/microsoft/winget-pkgs/labels/Moderator-Approved\",\"name\":\"Moderator-Approved\",\"color\":\"5319E7\",\"default\":false,\"description\":\"One of the Moderators has reviewed and approved this PR\"}],\"state\":\"open\",\"locked\":false,\"assignee\":null,\"assignees\":[],\"milestone\":null,\"comments\":5,\"created_at\":\"2022-03-07T18:17:22Z\",\"updated_at\":\"2022-03-07T19:16:29Z\",\"closed_at\":null,\"author_association\":\"CONTRIBUTOR\",\"active_lock_reason\":null,\"draft\":false,\"pull_request\":{\"url\":\"https://api.github.com/repos/microsoft/winget-pkgs/pulls/50612\",\"html_url\":\"https://github.com/microsoft/winget-pkgs/pull/50612\",\"diff_url\":\"https://github.com/microsoft/winget-pkgs/pull/50612.diff\",\"patch_url\":\"https://github.com/microsoft/winget-pkgs/pull/50612.patch\",\"merged_at\":null},\"body\":\"## Removing old versions to reduce clutter\\\\n\\\\n###### Microsoft Reviewers: [Open in CodeFlow](https://portal.fabricbot.ms/api/codeflow?pullrequest=https://github.com/microsoft/winget-pkgs/pull/50612)\",\"reactions\":{\"url\":\"https://api.github.com/repos/microsoft/winget-pkgs/issues/50612/reactions\",\"total_count\":0,\"+1\":0,\"-1\":0,\"laugh\":0,\"hooray\":0,\"confused\":0,\"heart\":0,\"rocket\":0,\"eyes\":0},\"timeline_url\":\"https://api.github.com/repos/microsoft/winget-pkgs/issues/50612/timeline\",\"performed_via_github_app\":null},\"comment\":{\"url\":\"https://api.github.com/repos/microsoft/winget-pkgs/issues/comments/1061040661\",\"html_url\":\"https://github.com/microsoft/winget-pkgs/pull/50612#issuecomment-1061040661\",\"issue_url\":\"https://api.github.com/repos/microsoft/winget-pkgs/issues/50612\",\"id\":1061040661,\"node_id\":\"IC_kwDOC8Ivn84_PjIV\",\"user\":{\"login\":\"msftbot[bot]\",\"id\":48340428,\"node_id\":\"MDM6Qm90NDgzNDA0Mjg=\",\"avatar_url\":\"https://avatars.githubusercontent.com/in/26612?v=4\",\"gravatar_id\":\"\",\"url\":\"https://api.github.com/users/msftbot%5Bbot%5D\",\"html_url\":\"https://github.com/apps/msftbot\",\"followers_url\":\"https://api.github.com/users/msftbot%5Bbot%5D/followers\",\"following_url\":\"https://api.github.com/users/msftbot%5Bbot%5D/following{/other_user}\",\"gists_url\":\"https://api.github.com/users/msftbot%5Bbot%5D/gists{/gist_id}\",\"starred_url\":\"https://api.github.com/users/msftbot%5Bbot%5D/starred{/owner}{/repo}\",\"subscriptions_url\":\"https://api.github.com/users/msftbot%5Bbot%5D/subscriptions\",\"organizations_url\":\"https://api.github.com/users/msftbot%5Bbot%5D/orgs\",\"repos_url\":\"https://api.github.com/users/msftbot%5Bbot%5D/repos\",\"events_url\":\"https://api.github.com/users/msftbot%5Bbot%5D/events{/privacy}\",\"received_events_url\":\"https://api.github.com/users/msftbot%5Bbot%5D/received_events\",\"type\":\"Bot\",\"site_admin\":false},\"created_at\":\"2022-03-07T19:16:29Z\",\"updated_at\":\"2022-03-07T19:16:29Z\",\"author_association\":\"NONE\",\"body\":\"Hello @vedantmgoyal2009,\\\\nValidation has completed.\",\"reactions\":{\"url\":\"https://api.github.com/repos/microsoft/winget-pkgs/issues/comments/1061040661/reactions\",\"total_count\":0,\"+1\":0,\"-1\":0,\"laugh\":0,\"hooray\":0,\"confused\":0,\"heart\":0,\"rocket\":0,\"eyes\":0},\"performed_via_github_app\":null}},\"public\":true,\"created_at\":\"2022-03-07T19:16:29Z\",\"org\":{\"id\":6154722,\"login\":\"microsoft\",\"gravatar_id\":\"\",\"url\":\"https://api.github.com/orgs/microsoft\",\"avatar_url\":\"https://avatars.githubusercontent.com/u/6154722?\"}},{\"id\":\"20622921104\",\"type\":\"PushEvent\",\"actor\":{\"id\":98693412,\"login\":\"RobinZuber2004\",\"display_login\":\"RobinZuber2004\",\"gravatar_id\":\"\",\"url\":\"https://api.github.com/users/RobinZuber2004\",\"avatar_url\":\"https://avatars.githubusercontent.com/u/98693412?\"},\"repo\":{\"id\":453672931,\"name\":\"RobinZuber2004/Getraenkedienst\",\"url\":\"https://api.github.com/repos/RobinZuber2004/Getraenkedienst\"},\"payload\":{\"push_id\":9287791340,\"size\":1,\"distinct_size\":1,\"ref\":\"refs/heads/Getränkedienst-kaywaldschule\",\"head\":\"064725c4c0990eddc8a2af331647064560d1978f\",\"before\":\"12c85d0edf476b27b894cc35260c92afe7609d25\",\"commits\":[{\"sha\":\"064725c4c0990eddc8a2af331647064560d1978f\",\"author\":{\"email\":\"98693412+RobinZuber2004@users.noreply.github.com\",\"name\":\"RobinZuber2004\"},\"message\":\"Delete w.dotx\",\"distinct\":true,\"url\":\"https://api.github.com/repos/RobinZuber2004/Getraenkedienst/commits/064725c4c0990eddc8a2af331647064560d1978f\"}]},\"public\":true,\"created_at\":\"2022-03-07T19:16:29Z\"},{\"id\":\"20622921094\",\"type\":\"IssueCommentEvent\",\"actor\":{\"id\":68164,\"login\":\"FlipperPA\",\"display_login\":\"FlipperPA\",\"gravatar_id\":\"\",\"url\":\"https://api.github.com/users/FlipperPA\",\"avatar_url\":\"https://avatars.githubusercontent.com/u/68164?\"},\"repo\":{\"id\":105686080,\"name\":\"wharton/drf-excel\",\"url\":\"https://api.github.com/repos/wharton/drf-excel\"},\"payload\":{\"action\":\"created\",\"issue\":{\"url\":\"https://api.github.com/repos/wharton/drf-excel/issues/20\",\"repository_url\":\"https://api.github.com/repos/wharton/drf-excel\",\"labels_url\":\"https://api.github.com/repos/wharton/drf-excel/issues/20/labels{/name}\",\"comments_url\":\"https://api.github.com/repos/wharton/drf-excel/issues/20/comments\",\"events_url\":\"https://api.github.com/repos/wharton/drf-excel/issues/20/events\",\"html_url\":\"https://github.com/wharton/drf-excel/issues/20\",\"id\":556400979,\"node_id\":\"MDU6SXNzdWU1NTY0MDA5Nzk=\",\"number\":20,\"title\":\"Feature request: configurable excel engine\",\"user\":{\"login\":\"josh-marshall-jax\",\"id\":52457971,\"node_id\":\"MDQ6VXNlcjUyNDU3OTcx\",\"avatar_url\":\"https://avatars.githubusercontent.com/u/52457971?v=4\",\"gravatar_id\":\"\",\"url\":\"https://api.github.com/users/josh-marshall-jax\",\"html_url\":\"https://github.com/josh-marshall-jax\",\"followers_url\":\"https://api.github.com/users/josh-marshall-jax/followers\",\"following_url\":\"https://api.github.com/users/josh-marshall-jax/following{/other_user}\",\"gists_url\":\"https://api.github.com/users/josh-marshall-jax/gists{/gist_id}\",\"starred_url\":\"https://api.github.com/users/josh-marshall-jax/starred{/owner}{/repo}\",\"subscriptions_url\":\"https://api.github.com/users/josh-marshall-jax/subscriptions\",\"organizations_url\":\"https://api.github.com/users/josh-marshall-jax/orgs\",\"repos_url\":\"https://api.github.com/users/josh-marshall-jax/repos\",\"events_url\":\"https://api.github.com/users/josh-marshall-jax/events{/privacy}\",\"received_events_url\":\"https://api.github.com/users/josh-marshall-jax/received_events\",\"type\":\"User\",\"site_admin\":false},\"labels\":[],\"state\":\"closed\",\"locked\":false,\"assignee\":null,\"assignees\":[],\"milestone\":null,\"comments\":2,\"created_at\":\"2020-01-28T18:53:28Z\",\"updated_at\":\"2022-03-07T19:16:29Z\",\"closed_at\":\"2022-03-07T19:16:29Z\",\"author_association\":\"NONE\",\"active_lock_reason\":null,\"body\":\"I\\'m looking at the general use case I have with large files, and it seems as if using xlsxwriter would be faster than OpenPyXL.  Can this be an option?  I don\\'t see anything to this ends in the documentation.\",\"reactions\":{\"url\":\"https://api.github.com/repos/wharton/drf-excel/issues/20/reactions\",\"total_count\":0,\"+1\":0,\"-1\":0,\"laugh\":0,\"hooray\":0,\"confused\":0,\"heart\":0,\"rocket\":0,\"eyes\":0},\"timeline_url\":\"https://api.github.com/repos/wharton/drf-excel/issues/20/timeline\",\"performed_via_github_app\":null},\"comment\":{\"url\":\"https://api.github.com/repos/wharton/drf-excel/issues/comments/1061040658\",\"html_url\":\"https://github.com/wharton/drf-excel/issues/20#issuecomment-1061040658\",\"issue_url\":\"https://api.github.com/repos/wharton/drf-excel/issues/20\",\"id\":1061040658,\"node_id\":\"IC_kwDOBkykQM4_PjIS\",\"user\":{\"login\":\"FlipperPA\",\"id\":68164,\"node_id\":\"MDQ6VXNlcjY4MTY0\",\"avatar_url\":\"https://avatars.githubusercontent.com/u/68164?v=4\",\"gravatar_id\":\"\",\"url\":\"https://api.github.com/users/FlipperPA\",\"html_url\":\"https://github.com/FlipperPA\",\"followers_url\":\"https://api.github.com/users/FlipperPA/followers\",\"following_url\":\"https://api.github.com/users/FlipperPA/following{/other_user}\",\"gists_url\":\"https://api.github.com/users/FlipperPA/gists{/gist_id}\",\"starred_url\":\"https://api.github.com/users/FlipperPA/starred{/owner}{/repo}\",\"subscriptions_url\":\"https://api.github.com/users/FlipperPA/subscriptions\",\"organizations_url\":\"https://api.github.com/users/FlipperPA/orgs\",\"repos_url\":\"https://api.github.com/users/FlipperPA/repos\",\"events_url\":\"https://api.github.com/users/FlipperPA/events{/privacy}\",\"received_events_url\":\"https://api.github.com/users/FlipperPA/received_events\",\"type\":\"User\",\"site_admin\":false},\"created_at\":\"2022-03-07T19:16:29Z\",\"updated_at\":\"2022-03-07T19:16:29Z\",\"author_association\":\"MEMBER\",\"body\":\"@josh-marshall-jax We\\'re going to close this out, as the code base has become heavily reliant on OpenPyXL\\'s way of doing things. A lot of the settings we support are dictionaries we pass directly through to OpenPyXL. We\\'d like to keep this package to \\\\\"doing one thing and doing it well.\\\\\"\\\\r\\\\n\\\\r\\\\nIf someone wanted to fork this repository for another Excel writing engine (I forget the name of it, but there\\'s one that is *really* fast), we\\'d be happy to support them.\",\"reactions\":{\"url\":\"https://api.github.com/repos/wharton/drf-excel/issues/comments/1061040658/reactions\",\"total_count\":0,\"+1\":0,\"-1\":0,\"laugh\":0,\"hooray\":0,\"confused\":0,\"heart\":0,\"rocket\":0,\"eyes\":0},\"performed_via_github_app\":null}},\"public\":true,\"created_at\":\"2022-03-07T19:16:29Z\",\"org\":{\"id\":276754,\"login\":\"wharton\",\"gravatar_id\":\"\",\"url\":\"https://api.github.com/orgs/wharton\",\"avatar_url\":\"https://avatars.githubusercontent.com/u/276754?\"}},{\"id\":\"20622920809\",\"type\":\"PushEvent\",\"actor\":{\"id\":71274568,\"login\":\"rutaba1\",\"display_login\":\"rutaba1\",\"gravatar_id\":\"\",\"url\":\"https://api.github.com/users/rutaba1\",\"avatar_url\":\"https://avatars.githubusercontent.com/u/71274568?\"},\"repo\":{\"id\":340034705,\"name\":\"asomas/fielder-models\",\"url\":\"https://api.github.com/repos/asomas/fielder-models\"},\"payload\":{\"push_id\":9287791197,\"size\":1,\"distinct_size\":1,\"ref\":\"refs/heads/CU-21mcdzj-add-user-groups-in-org-setup\",\"head\":\"4dfda2d05689912db3fae0fa27553dd664fe38ae\",\"before\":\"5c007c941ab96b8b5c780f0434a96b3aae2137f1\",\"commits\":[{\"sha\":\"4dfda2d05689912db3fae0fa27553dd664fe38ae\",\"author\":{\"email\":\"71274568+rutaba1@users.noreply.github.com\",\"name\":\"rutaba1\"},\"message\":\"Update table_collection_schema.dart\",\"distinct\":true,\"url\":\"https://api.github.com/repos/asomas/fielder-models/commits/4dfda2d05689912db3fae0fa27553dd664fe38ae\"}]},\"public\":true,\"created_at\":\"2022-03-07T19:16:28Z\",\"org\":{\"id\":64087173,\"login\":\"asomas\",\"gravatar_id\":\"\",\"url\":\"https://api.github.com/orgs/asomas\",\"avatar_url\":\"https://avatars.githubusercontent.com/u/64087173?\"}},{\"id\":\"20622920822\",\"type\":\"PullRequestReviewEvent\",\"actor\":{\"id\":199238,\"login\":\"bbejeck\",\"display_login\":\"bbejeck\",\"gravatar_id\":\"\",\"url\":\"https://api.github.com/users/bbejeck\",\"avatar_url\":\"https://avatars.githubusercontent.com/u/199238?\"},\"repo\":{\"id\":178760528,\"name\":\"confluentinc/kafka-tutorials\",\"url\":\"https://api.github.com/repos/confluentinc/kafka-tutorials\"},\"payload\":{\"action\":\"created\",\"review\":{\"id\":902142097,\"node_id\":\"PRR_kwDOCqerUM41xZiR\",\"user\":{\"login\":\"bbejeck\",\"id\":199238,\"node_id\":\"MDQ6VXNlcjE5OTIzOA==\",\"avatar_url\":\"https://avatars.githubusercontent.com/u/199238?v=4\",\"gravatar_id\":\"\",\"url\":\"https://api.github.com/users/bbejeck\",\"html_url\":\"https://github.com/bbejeck\",\"followers_url\":\"https://api.github.com/users/bbejeck/followers\",\"following_url\":\"https://api.github.com/users/bbejeck/following{/other_user}\",\"gists_url\":\"https://api.github.com/users/bbejeck/gists{/gist_id}\",\"starred_url\":\"https://api.github.com/users/bbejeck/starred{/owner}{/repo}\",\"subscriptions_url\":\"https://api.github.com/users/bbejeck/subscriptions\",\"organizations_url\":\"https://api.github.com/users/bbejeck/orgs\",\"repos_url\":\"https://api.github.com/users/bbejeck/repos\",\"events_url\":\"https://api.github.com/users/bbejeck/events{/privacy}\",\"received_events_url\":\"https://api.github.com/users/bbejeck/received_events\",\"type\":\"User\",\"site_admin\":false},\"body\":\"\",\"commit_id\":\"9cd94220c54d12be8cfdce5cbbfae9eb916caefa\",\"submitted_at\":\"2022-03-07T19:16:28Z\",\"state\":\"approved\",\"html_url\":\"https://github.com/confluentinc/kafka-tutorials/pull/1115#pullrequestreview-902142097\",\"pull_request_url\":\"https://api.github.com/repos/confluentinc/kafka-tutorials/pulls/1115\",\"author_association\":\"COLLABORATOR\",\"_links\":{\"html\":{\"href\":\"https://github.com/confluentinc/kafka-tutorials/pull/1115#pullrequestreview-902142097\"},\"pull_request\":{\"href\":\"https://api.github.com/repos/confluentinc/kafka-tutorials/pulls/1115\"}}},\"pull_request\":{\"url\":\"https://api.github.com/repos/confluentinc/kafka-tutorials/pulls/1115\",\"id\":871979614,\"node_id\":\"PR_kwDOCqerUM4z-Vpe\",\"html_url\":\"https://github.com/confluentinc/kafka-tutorials/pull/1115\",\"diff_url\":\"https://github.com/confluentinc/kafka-tutorials/pull/1115.diff\",\"patch_url\":\"https://github.com/confluentinc/kafka-tutorials/pull/1115.patch\",\"issue_url\":\"https://api.github.com/repos/confluentinc/kafka-tutorials/issues/1115\",\"number\":1115,\"state\":\"open\",\"locked\":false,\"title\":\"GH #1114: Create test case for recipe: credit-card-activity\",\"user\":{\"login\":\"ybyzek\",\"id\":12448600,\"node_id\":\"MDQ6VXNlcjEyNDQ4NjAw\",\"avatar_url\":\"https://avatars.githubusercontent.com/u/12448600?v=4\",\"gravatar_id\":\"\",\"url\":\"https://api.github.com/users/ybyzek\",\"html_url\":\"https://github.com/ybyzek\",\"followers_url\":\"https://api.github.com/users/ybyzek/followers\",\"following_url\":\"https://api.github.com/users/ybyzek/following{/other_user}\",\"gists_url\":\"https://api.github.com/users/ybyzek/gists{/gist_id}\",\"starred_url\":\"https://api.github.com/users/ybyzek/starred{/owner}{/repo}\",\"subscriptions_url\":\"https://api.github.com/users/ybyzek/subscriptions\",\"organizations_url\":\"https://api.github.com/users/ybyzek/orgs\",\"repos_url\":\"https://api.github.com/users/ybyzek/repos\",\"events_url\":\"https://api.github.com/users/ybyzek/events{/privacy}\",\"received_events_url\":\"https://api.github.com/users/ybyzek/received_events\",\"type\":\"User\",\"site_admin\":false},\"body\":\"### Description\\\\r\\\\n\\\\r\\\\n#1114 \\\\r\\\\n\",\"created_at\":\"2022-03-04T20:09:31Z\",\"updated_at\":\"2022-03-07T19:16:28Z\",\"closed_at\":null,\"merged_at\":null,\"merge_commit_sha\":\"f042bc211f0dff049c17190de189a1d5d0f09c28\",\"assignee\":null,\"assignees\":[],\"requested_reviewers\":[],\"requested_teams\":[],\"labels\":[],\"milestone\":null,\"draft\":false,\"commits_url\":\"https://api.github.com/repos/confluentinc/kafka-tutorials/pulls/1115/commits\",\"review_comments_url\":\"https://api.github.com/repos/confluentinc/kafka-tutorials/pulls/1115/comments\",\"review_comment_url\":\"https://api.github.com/repos/confluentinc/kafka-tutorials/pulls/comments{/number}\",\"comments_url\":\"https://api.github.com/repos/confluentinc/kafka-tutorials/issues/1115/comments\",\"statuses_url\":\"https://api.github.com/repos/confluentinc/kafka-tutorials/statuses/9cd94220c54d12be8cfdce5cbbfae9eb916caefa\",\"head\":{\"label\":\"confluentinc:GH-1114\",\"ref\":\"GH-1114\",\"sha\":\"9cd94220c54d12be8cfdce5cbbfae9eb916caefa\",\"user\":{\"login\":\"confluentinc\",\"id\":9439498,\"node_id\":\"MDEyOk9yZ2FuaXphdGlvbjk0Mzk0OTg=\",\"avatar_url\":\"https://avatars.githubusercontent.com/u/9439498?v=4\",\"gravatar_id\":\"\",\"url\":\"https://api.github.com/users/confluentinc\",\"html_url\":\"https://github.com/confluentinc\",\"followers_url\":\"https://api.github.com/users/confluentinc/followers\",\"following_url\":\"https://api.github.com/users/confluentinc/following{/other_user}\",\"gists_url\":\"https://api.github.com/users/confluentinc/gists{/gist_id}\",\"starred_url\":\"https://api.github.com/users/confluentinc/starred{/owner}{/repo}\",\"subscriptions_url\":\"https://api.github.com/users/confluentinc/subscriptions\",\"organizations_url\":\"https://api.github.com/users/confluentinc/orgs\",\"repos_url\":\"https://api.github.com/users/confluentinc/repos\",\"events_url\":\"https://api.github.com/users/confluentinc/events{/privacy}\",\"received_events_url\":\"https://api.github.com/users/confluentinc/received_events\",\"type\":\"Organization\",\"site_admin\":false},\"repo\":{\"id\":178760528,\"node_id\":\"MDEwOlJlcG9zaXRvcnkxNzg3NjA1Mjg=\",\"name\":\"kafka-tutorials\",\"full_name\":\"confluentinc/kafka-tutorials\",\"private\":false,\"owner\":{\"login\":\"confluentinc\",\"id\":9439498,\"node_id\":\"MDEyOk9yZ2FuaXphdGlvbjk0Mzk0OTg=\",\"avatar_url\":\"https://avatars.githubusercontent.com/u/9439498?v=4\",\"gravatar_id\":\"\",\"url\":\"https://api.github.com/users/confluentinc\",\"html_url\":\"https://github.com/confluentinc\",\"followers_url\":\"https://api.github.com/users/confluentinc/followers\",\"following_url\":\"https://api.github.com/users/confluentinc/following{/other_user}\",\"gists_url\":\"https://api.github.com/users/confluentinc/gists{/gist_id}\",\"starred_url\":\"https://api.github.com/users/confluentinc/starred{/owner}{/repo}\",\"subscriptions_url\":\"https://api.github.com/users/confluentinc/subscriptions\",\"organizations_url\":\"https://api.github.com/users/confluentinc/orgs\",\"repos_url\":\"https://api.github.com/users/confluentinc/repos\",\"events_url\":\"https://api.github.com/users/confluentinc/events{/privacy}\",\"received_events_url\":\"https://api.github.com/users/confluentinc/received_events\",\"type\":\"Organization\",\"site_admin\":false},\"html_url\":\"https://github.com/confluentinc/kafka-tutorials\",\"description\":\"Tutorials and Recipes for Apache Kafka\",\"fork\":false,\"url\":\"https://api.github.com/repos/confluentinc/kafka-tutorials\",\"forks_url\":\"https://api.github.com/repos/confluentinc/kafka-tutorials/forks\",\"keys_url\":\"https://api.github.com/repos/confluentinc/kafka-tutorials/keys{/key_id}\",\"collaborators_url\":\"https://api.github.com/repos/confluentinc/kafka-tutorials/collaborators{/collaborator}\",\"teams_url\":\"https://api.github.com/repos/confluentinc/kafka-tutorials/teams\",\"hooks_url\":\"https://api.github.com/repos/confluentinc/kafka-tutorials/hooks\",\"issue_events_url\":\"https://api.github.com/repos/confluentinc/kafka-tutorials/issues/events{/number}\",\"events_url\":\"https://api.github.com/repos/confluentinc/kafka-tutorials/events\",\"assignees_url\":\"https://api.github.com/repos/confluentinc/kafka-tutorials/assignees{/user}\",\"branches_url\":\"https://api.github.com/repos/confluentinc/kafka-tutorials/branches{/branch}\",\"tags_url\":\"https://api.github.com/repos/confluentinc/kafka-tutorials/tags\",\"blobs_url\":\"https://api.github.com/repos/confluentinc/kafka-tutorials/git/blobs{/sha}\",\"git_tags_url\":\"https://api.github.com/repos/confluentinc/kafka-tutorials/git/tags{/sha}\",\"git_refs_url\":\"https://api.github.com/repos/confluentinc/kafka-tutorials/git/refs{/sha}\",\"trees_url\":\"https://api.github.com/repos/confluentinc/kafka-tutorials/git/trees{/sha}\",\"statuses_url\":\"https://api.github.com/repos/confluentinc/kafka-tutorials/statuses/{sha}\",\"languages_url\":\"https://api.github.com/repos/confluentinc/kafka-tutorials/languages\",\"stargazers_url\":\"https://api.github.com/repos/confluentinc/kafka-tutorials/stargazers\",\"contributors_url\":\"https://api.github.com/repos/confluentinc/kafka-tutorials/contributors\",\"subscribers_url\":\"https://api.github.com/repos/confluentinc/kafka-tutorials/subscribers\",\"subscription_url\":\"https://api.github.com/repos/confluentinc/kafka-tutorials/subscription\",\"commits_url\":\"https://api.github.com/repos/confluentinc/kafka-tutorials/commits{/sha}\",\"git_commits_url\":\"https://api.github.com/repos/confluentinc/kafka-tutorials/git/commits{/sha}\",\"comments_url\":\"https://api.github.com/repos/confluentinc/kafka-tutorials/comments{/number}\",\"issue_comment_url\":\"https://api.github.com/repos/confluentinc/kafka-tutorials/issues/comments{/number}\",\"contents_url\":\"https://api.github.com/repos/confluentinc/kafka-tutorials/contents/{+path}\",\"compare_url\":\"https://api.github.com/repos/confluentinc/kafka-tutorials/compare/{base}...{head}\",\"merges_url\":\"https://api.github.com/repos/confluentinc/kafka-tutorials/merges\",\"archive_url\":\"https://api.github.com/repos/confluentinc/kafka-tutorials/{archive_format}{/ref}\",\"downloads_url\":\"https://api.github.com/repos/confluentinc/kafka-tutorials/downloads\",\"issues_url\":\"https://api.github.com/repos/confluentinc/kafka-tutorials/issues{/number}\",\"pulls_url\":\"https://api.github.com/repos/confluentinc/kafka-tutorials/pulls{/number}\",\"milestones_url\":\"https://api.github.com/repos/confluentinc/kafka-tutorials/milestones{/number}\",\"notifications_url\":\"https://api.github.com/repos/confluentinc/kafka-tutorials/notifications{?since,all,participating}\",\"labels_url\":\"https://api.github.com/repos/confluentinc/kafka-tutorials/labels{/name}\",\"releases_url\":\"https://api.github.com/repos/confluentinc/kafka-tutorials/releases{/id}\",\"deployments_url\":\"https://api.github.com/repos/confluentinc/kafka-tutorials/deployments\",\"created_at\":\"2019-04-01T00:59:03Z\",\"updated_at\":\"2022-03-07T17:12:08Z\",\"pushed_at\":\"2022-03-07T19:14:09Z\",\"git_url\":\"git://github.com/confluentinc/kafka-tutorials.git\",\"ssh_url\":\"git@github.com:confluentinc/kafka-tutorials.git\",\"clone_url\":\"https://github.com/confluentinc/kafka-tutorials.git\",\"svn_url\":\"https://github.com/confluentinc/kafka-tutorials\",\"homepage\":\"https://developer.confluent.io/tutorials\",\"size\":31478,\"stargazers_count\":207,\"watchers_count\":207,\"language\":\"Java\",\"has_issues\":true,\"has_projects\":true,\"has_downloads\":true,\"has_wiki\":false,\"has_pages\":false,\"forks_count\":75,\"mirror_url\":null,\"archived\":false,\"disabled\":false,\"open_issues_count\":246,\"license\":{\"key\":\"apache-2.0\",\"name\":\"Apache License 2.0\",\"spdx_id\":\"Apache-2.0\",\"url\":\"https://api.github.com/licenses/apache-2.0\",\"node_id\":\"MDc6TGljZW5zZTI=\"},\"allow_forking\":true,\"is_template\":false,\"topics\":[\"apache-kafka\",\"kafka\",\"kafka-streams\",\"kafka-tutorials\",\"ksqldb\",\"stream-processing\"],\"visibility\":\"public\",\"forks\":75,\"open_issues\":246,\"watchers\":207,\"default_branch\":\"master\"}},\"base\":{\"label\":\"confluentinc:master\",\"ref\":\"master\",\"sha\":\"c5abd6b927a8400a7379c09f7c45ad2eee0539bd\",\"user\":{\"login\":\"confluentinc\",\"id\":9439498,\"node_id\":\"MDEyOk9yZ2FuaXphdGlvbjk0Mzk0OTg=\",\"avatar_url\":\"https://avatars.githubusercontent.com/u/9439498?v=4\",\"gravatar_id\":\"\",\"url\":\"https://api.github.com/users/confluentinc\",\"html_url\":\"https://github.com/confluentinc\",\"followers_url\":\"https://api.github.com/users/confluentinc/followers\",\"following_url\":\"https://api.github.com/users/confluentinc/following{/other_user}\",\"gists_url\":\"https://api.github.com/users/confluentinc/gists{/gist_id}\",\"starred_url\":\"https://api.github.com/users/confluentinc/starred{/owner}{/repo}\",\"subscriptions_url\":\"https://api.github.com/users/confluentinc/subscriptions\",\"organizations_url\":\"https://api.github.com/users/confluentinc/orgs\",\"repos_url\":\"https://api.github.com/users/confluentinc/repos\",\"events_url\":\"https://api.github.com/users/confluentinc/events{/privacy}\",\"received_events_url\":\"https://api.github.com/users/confluentinc/received_events\",\"type\":\"Organization\",\"site_admin\":false},\"repo\":{\"id\":178760528,\"node_id\":\"MDEwOlJlcG9zaXRvcnkxNzg3NjA1Mjg=\",\"name\":\"kafka-tutorials\",\"full_name\":\"confluentinc/kafka-tutorials\",\"private\":false,\"owner\":{\"login\":\"confluentinc\",\"id\":9439498,\"node_id\":\"MDEyOk9yZ2FuaXphdGlvbjk0Mzk0OTg=\",\"avatar_url\":\"https://avatars.githubusercontent.com/u/9439498?v=4\",\"gravatar_id\":\"\",\"url\":\"https://api.github.com/users/confluentinc\",\"html_url\":\"https://github.com/confluentinc\",\"followers_url\":\"https://api.github.com/users/confluentinc/followers\",\"following_url\":\"https://api.github.com/users/confluentinc/following{/other_user}\",\"gists_url\":\"https://api.github.com/users/confluentinc/gists{/gist_id}\",\"starred_url\":\"https://api.github.com/users/confluentinc/starred{/owner}{/repo}\",\"subscriptions_url\":\"https://api.github.com/users/confluentinc/subscriptions\",\"organizations_url\":\"https://api.github.com/users/confluentinc/orgs\",\"repos_url\":\"https://api.github.com/users/confluentinc/repos\",\"events_url\":\"https://api.github.com/users/confluentinc/events{/privacy}\",\"received_events_url\":\"https://api.github.com/users/confluentinc/received_events\",\"type\":\"Organization\",\"site_admin\":false},\"html_url\":\"https://github.com/confluentinc/kafka-tutorials\",\"description\":\"Tutorials and Recipes for Apache Kafka\",\"fork\":false,\"url\":\"https://api.github.com/repos/confluentinc/kafka-tutorials\",\"forks_url\":\"https://api.github.com/repos/confluentinc/kafka-tutorials/forks\",\"keys_url\":\"https://api.github.com/repos/confluentinc/kafka-tutorials/keys{/key_id}\",\"collaborators_url\":\"https://api.github.com/repos/confluentinc/kafka-tutorials/collaborators{/collaborator}\",\"teams_url\":\"https://api.github.com/repos/confluentinc/kafka-tutorials/teams\",\"hooks_url\":\"https://api.github.com/repos/confluentinc/kafka-tutorials/hooks\",\"issue_events_url\":\"https://api.github.com/repos/confluentinc/kafka-tutorials/issues/events{/number}\",\"events_url\":\"https://api.github.com/repos/confluentinc/kafka-tutorials/events\",\"assignees_url\":\"https://api.github.com/repos/confluentinc/kafka-tutorials/assignees{/user}\",\"branches_url\":\"https://api.github.com/repos/confluentinc/kafka-tutorials/branches{/branch}\",\"tags_url\":\"https://api.github.com/repos/confluentinc/kafka-tutorials/tags\",\"blobs_url\":\"https://api.github.com/repos/confluentinc/kafka-tutorials/git/blobs{/sha}\",\"git_tags_url\":\"https://api.github.com/repos/confluentinc/kafka-tutorials/git/tags{/sha}\",\"git_refs_url\":\"https://api.github.com/repos/confluentinc/kafka-tutorials/git/refs{/sha}\",\"trees_url\":\"https://api.github.com/repos/confluentinc/kafka-tutorials/git/trees{/sha}\",\"statuses_url\":\"https://api.github.com/repos/confluentinc/kafka-tutorials/statuses/{sha}\",\"languages_url\":\"https://api.github.com/repos/confluentinc/kafka-tutorials/languages\",\"stargazers_url\":\"https://api.github.com/repos/confluentinc/kafka-tutorials/stargazers\",\"contributors_url\":\"https://api.github.com/repos/confluentinc/kafka-tutorials/contributors\",\"subscribers_url\":\"https://api.github.com/repos/confluentinc/kafka-tutorials/subscribers\",\"subscription_url\":\"https://api.github.com/repos/confluentinc/kafka-tutorials/subscription\",\"commits_url\":\"https://api.github.com/repos/confluentinc/kafka-tutorials/commits{/sha}\",\"git_commits_url\":\"https://api.github.com/repos/confluentinc/kafka-tutorials/git/commits{/sha}\",\"comments_url\":\"https://api.github.com/repos/confluentinc/kafka-tutorials/comments{/number}\",\"issue_comment_url\":\"https://api.github.com/repos/confluentinc/kafka-tutorials/issues/comments{/number}\",\"contents_url\":\"https://api.github.com/repos/confluentinc/kafka-tutorials/contents/{+path}\",\"compare_url\":\"https://api.github.com/repos/confluentinc/kafka-tutorials/compare/{base}...{head}\",\"merges_url\":\"https://api.github.com/repos/confluentinc/kafka-tutorials/merges\",\"archive_url\":\"https://api.github.com/repos/confluentinc/kafka-tutorials/{archive_format}{/ref}\",\"downloads_url\":\"https://api.github.com/repos/confluentinc/kafka-tutorials/downloads\",\"issues_url\":\"https://api.github.com/repos/confluentinc/kafka-tutorials/issues{/number}\",\"pulls_url\":\"https://api.github.com/repos/confluentinc/kafka-tutorials/pulls{/number}\",\"milestones_url\":\"https://api.github.com/repos/confluentinc/kafka-tutorials/milestones{/number}\",\"notifications_url\":\"https://api.github.com/repos/confluentinc/kafka-tutorials/notifications{?since,all,participating}\",\"labels_url\":\"https://api.github.com/repos/confluentinc/kafka-tutorials/labels{/name}\",\"releases_url\":\"https://api.github.com/repos/confluentinc/kafka-tutorials/releases{/id}\",\"deployments_url\":\"https://api.github.com/repos/confluentinc/kafka-tutorials/deployments\",\"created_at\":\"2019-04-01T00:59:03Z\",\"updated_at\":\"2022-03-07T17:12:08Z\",\"pushed_at\":\"2022-03-07T19:14:09Z\",\"git_url\":\"git://github.com/confluentinc/kafka-tutorials.git\",\"ssh_url\":\"git@github.com:confluentinc/kafka-tutorials.git\",\"clone_url\":\"https://github.com/confluentinc/kafka-tutorials.git\",\"svn_url\":\"https://github.com/confluentinc/kafka-tutorials\",\"homepage\":\"https://developer.confluent.io/tutorials\",\"size\":31478,\"stargazers_count\":207,\"watchers_count\":207,\"language\":\"Java\",\"has_issues\":true,\"has_projects\":true,\"has_downloads\":true,\"has_wiki\":false,\"has_pages\":false,\"forks_count\":75,\"mirror_url\":null,\"archived\":false,\"disabled\":false,\"open_issues_count\":246,\"license\":{\"key\":\"apache-2.0\",\"name\":\"Apache License 2.0\",\"spdx_id\":\"Apache-2.0\",\"url\":\"https://api.github.com/licenses/apache-2.0\",\"node_id\":\"MDc6TGljZW5zZTI=\"},\"allow_forking\":true,\"is_template\":false,\"topics\":[\"apache-kafka\",\"kafka\",\"kafka-streams\",\"kafka-tutorials\",\"ksqldb\",\"stream-processing\"],\"visibility\":\"public\",\"forks\":75,\"open_issues\":246,\"watchers\":207,\"default_branch\":\"master\"}},\"_links\":{\"self\":{\"href\":\"https://api.github.com/repos/confluentinc/kafka-tutorials/pulls/1115\"},\"html\":{\"href\":\"https://github.com/confluentinc/kafka-tutorials/pull/1115\"},\"issue\":{\"href\":\"https://api.github.com/repos/confluentinc/kafka-tutorials/issues/1115\"},\"comments\":{\"href\":\"https://api.github.com/repos/confluentinc/kafka-tutorials/issues/1115/comments\"},\"review_comments\":{\"href\":\"https://api.github.com/repos/confluentinc/kafka-tutorials/pulls/1115/comments\"},\"review_comment\":{\"href\":\"https://api.github.com/repos/confluentinc/kafka-tutorials/pulls/comments{/number}\"},\"commits\":{\"href\":\"https://api.github.com/repos/confluentinc/kafka-tutorials/pulls/1115/commits\"},\"statuses\":{\"href\":\"https://api.github.com/repos/confluentinc/kafka-tutorials/statuses/9cd94220c54d12be8cfdce5cbbfae9eb916caefa\"}},\"author_association\":\"COLLABORATOR\",\"auto_merge\":null,\"active_lock_reason\":null}},\"public\":true,\"created_at\":\"2022-03-07T19:16:28Z\",\"org\":{\"id\":9439498,\"login\":\"confluentinc\",\"gravatar_id\":\"\",\"url\":\"https://api.github.com/orgs/confluentinc\",\"avatar_url\":\"https://avatars.githubusercontent.com/u/9439498?\"}},{\"id\":\"20622921125\",\"type\":\"CreateEvent\",\"actor\":{\"id\":12581,\"login\":\"pedro-gutierrez\",\"display_login\":\"pedro-gutierrez\",\"gravatar_id\":\"\",\"url\":\"https://api.github.com/users/pedro-gutierrez\",\"avatar_url\":\"https://avatars.githubusercontent.com/u/12581?\"},\"repo\":{\"id\":365994433,\"name\":\"Gravity-Core/graphism\",\"url\":\"https://api.github.com/repos/Gravity-Core/graphism\"},\"payload\":{\"ref\":\"v0.3.7\",\"ref_type\":\"tag\",\"master_branch\":\"main\",\"description\":null,\"pusher_type\":\"user\"},\"public\":true,\"created_at\":\"2022-03-07T19:16:29Z\",\"org\":{\"id\":79854860,\"login\":\"Gravity-Core\",\"gravatar_id\":\"\",\"url\":\"https://api.github.com/orgs/Gravity-Core\",\"avatar_url\":\"https://avatars.githubusercontent.com/u/79854860?\"}},{\"id\":\"20622921441\",\"type\":\"CreateEvent\",\"actor\":{\"id\":26075353,\"login\":\"giovannigando\",\"display_login\":\"giovannigando\",\"gravatar_id\":\"\",\"url\":\"https://api.github.com/users/giovannigando\",\"avatar_url\":\"https://avatars.githubusercontent.com/u/26075353?\"},\"repo\":{\"id\":467228072,\"name\":\"giovannigando/persistence-code\",\"url\":\"https://api.github.com/repos/giovannigando/persistence-code\"},\"payload\":{\"ref\":null,\"ref_type\":\"repository\",\"master_branch\":\"main\",\"description\":null,\"pusher_type\":\"user\"},\"public\":true,\"created_at\":\"2022-03-07T19:16:30Z\"},{\"id\":\"20622921424\",\"type\":\"PushEvent\",\"actor\":{\"id\":16485724,\"login\":\"iiievan\",\"display_login\":\"iiievan\",\"gravatar_id\":\"\",\"url\":\"https://api.github.com/users/iiievan\",\"avatar_url\":\"https://avatars.githubusercontent.com/u/16485724?\"},\"repo\":{\"id\":465719104,\"name\":\"iiievan/boost_ex\",\"url\":\"https://api.github.com/repos/iiievan/boost_ex\"},\"payload\":{\"push_id\":9287791484,\"size\":1,\"distinct_size\":1,\"ref\":\"refs/heads/main\",\"head\":\"b0d1a0c131945b24aa4eced308874c6e9d9b484d\",\"before\":\"40149ebbeaf85b15fb1b8b8c77ba99e86b5d9d7d\",\"commits\":[{\"sha\":\"b0d1a0c131945b24aa4eced308874c6e9d9b484d\",\"author\":{\"email\":\"mbo.kastnev@gmail.com\",\"name\":\"mbo\"},\"message\":\"/** на стороне сервера - это Raspberry pi\\\\nсборка: \\\\ng++ -pthread -lboost_system server.cpp -o server\\\\nиспользование: \\\\n./server 192.168.0.94 2001\\\\n**/\\\\n/** на стороне клиента\\\\nсборка: \\\\ng++ -pthread -lboost_system client.cpp -o client\\\\nиспользование: \\\\n./client 192.168.0.94 2001 hello\\\\n**/\",\"distinct\":true,\"url\":\"https://api.github.com/repos/iiievan/boost_ex/commits/b0d1a0c131945b24aa4eced308874c6e9d9b484d\"}]},\"public\":true,\"created_at\":\"2022-03-07T19:16:30Z\"},{\"id\":\"20622921394\",\"type\":\"PushEvent\",\"actor\":{\"id\":51093990,\"login\":\"sinice79\",\"display_login\":\"sinice79\",\"gravatar_id\":\"\",\"url\":\"https://api.github.com/users/sinice79\",\"avatar_url\":\"https://avatars.githubusercontent.com/u/51093990?\"},\"repo\":{\"id\":255126272,\"name\":\"sinice79/BossbotDB2\",\"url\":\"https://api.github.com/repos/sinice79/BossbotDB2\"},\"payload\":{\"push_id\":9287791482,\"size\":1,\"distinct_size\":1,\"ref\":\"refs/heads/master\",\"head\":\"51a7aa382e434fec3751eb15ade0dc04aff56493\",\"before\":\"536bac89c5d32038b51a825214bd1f916e3d2167\",\"commits\":[{\"sha\":\"51a7aa382e434fec3751eb15ade0dc04aff56493\",\"author\":{\"email\":\"51093990+sinice79@users.noreply.github.com\",\"name\":\"sinice79\"},\"message\":\"updated kill_list.ini\",\"distinct\":true,\"url\":\"https://api.github.com/repos/sinice79/BossbotDB2/commits/51a7aa382e434fec3751eb15ade0dc04aff56493\"}]},\"public\":true,\"created_at\":\"2022-03-07T19:16:30Z\"},{\"id\":\"20622921399\",\"type\":\"PushEvent\",\"actor\":{\"id\":97448841,\"login\":\"pera0043\",\"display_login\":\"pera0043\",\"gravatar_id\":\"\",\"url\":\"https://api.github.com/users/pera0043\",\"avatar_url\":\"https://avatars.githubusercontent.com/u/97448841?\"},\"repo\":{\"id\":452691248,\"name\":\"pera0043/pera0043.github.io\",\"url\":\"https://api.github.com/repos/pera0043/pera0043.github.io\"},\"payload\":{\"push_id\":9287791455,\"size\":1,\"distinct_size\":1,\"ref\":\"refs/heads/main\",\"head\":\"3bcbf541ade4352fb5411b24caebfde2a5f37295\",\"before\":\"ed71396b3067408b9f474de4157a90c131b2e063\",\"commits\":[{\"sha\":\"3bcbf541ade4352fb5411b24caebfde2a5f37295\",\"author\":{\"email\":\"pera0043@algonquinlive.com\",\"name\":\"Venushka Perampalam\"},\"message\":\"adds spacing and font sizing\",\"distinct\":true,\"url\":\"https://api.github.com/repos/pera0043/pera0043.github.io/commits/3bcbf541ade4352fb5411b24caebfde2a5f37295\"}]},\"public\":true,\"created_at\":\"2022-03-07T19:16:30Z\"},{\"id\":\"20622921401\",\"type\":\"DeleteEvent\",\"actor\":{\"id\":29139614,\"login\":\"renovate[bot]\",\"display_login\":\"renovate\",\"gravatar_id\":\"\",\"url\":\"https://api.github.com/users/renovate[bot]\",\"avatar_url\":\"https://avatars.githubusercontent.com/u/29139614?\"},\"repo\":{\"id\":33833259,\"name\":\"hazendaz/dependency-tracker\",\"url\":\"https://api.github.com/repos/hazendaz/dependency-tracker\"},\"payload\":{\"ref\":\"renovate/renovate-32.x\",\"ref_type\":\"branch\",\"pusher_type\":\"user\"},\"public\":true,\"created_at\":\"2022-03-07T19:16:30Z\"},{\"id\":\"20622921365\",\"type\":\"PushEvent\",\"actor\":{\"id\":54281882,\"login\":\"datarods-svc\",\"display_login\":\"datarods-svc\",\"gravatar_id\":\"\",\"url\":\"https://api.github.com/users/datarods-svc\",\"avatar_url\":\"https://avatars.githubusercontent.com/u/54281882?\"},\"repo\":{\"id\":273106075,\"name\":\"feedarchive/libera-newsbot-live\",\"url\":\"https://api.github.com/repos/feedarchive/libera-newsbot-live\"},\"payload\":{\"push_id\":9287791446,\"size\":1,\"distinct_size\":1,\"ref\":\"refs/heads/master\",\"head\":\"44fa9305be9397c5e4fe480d748abe189714c745\",\"before\":\"7eb82bf89d061270e39d4919472f7ff2efbc1d3f\",\"commits\":[{\"sha\":\"44fa9305be9397c5e4fe480d748abe189714c745\",\"author\":{\"email\":\"54281882+datarods-svc@users.noreply.github.com\",\"name\":\"datarods-svc\"},\"message\":\"Add 2 ETFdb entries of #us-market-news\",\"distinct\":true,\"url\":\"https://api.github.com/repos/feedarchive/libera-newsbot-live/commits/44fa9305be9397c5e4fe480d748abe189714c745\"}]},\"public\":true,\"created_at\":\"2022-03-07T19:16:30Z\",\"org\":{\"id\":57158033,\"login\":\"feedarchive\",\"gravatar_id\":\"\",\"url\":\"https://api.github.com/orgs/feedarchive\",\"avatar_url\":\"https://avatars.githubusercontent.com/u/57158033?\"}},{\"id\":\"20622921049\",\"type\":\"PushEvent\",\"actor\":{\"id\":87544905,\"login\":\"Pitsa84\",\"display_login\":\"Pitsa84\",\"gravatar_id\":\"\",\"url\":\"https://api.github.com/users/Pitsa84\",\"avatar_url\":\"https://avatars.githubusercontent.com/u/87544905?\"},\"repo\":{\"id\":464970297,\"name\":\"Pitsa84/Dollar\",\"url\":\"https://api.github.com/repos/Pitsa84/Dollar\"},\"payload\":{\"push_id\":9287791292,\"size\":1,\"distinct_size\":1,\"ref\":\"refs/heads/master\",\"head\":\"2abd872c683461e1af15009a8f7fd6e899e43412\",\"before\":\"c1eaedf0482f5a27afcd9884169b43bcf5d6021a\",\"commits\":[{\"sha\":\"2abd872c683461e1af15009a8f7fd6e899e43412\",\"author\":{\"email\":\"babakin800@gmail.com\",\"name\":\"Nikita Ivanov\"},\"message\":\"update v1.5 (recod)\",\"distinct\":true,\"url\":\"https://api.github.com/repos/Pitsa84/Dollar/commits/2abd872c683461e1af15009a8f7fd6e899e43412\"}]},\"public\":true,\"created_at\":\"2022-03-07T19:16:29Z\"},{\"id\":\"20622921380\",\"type\":\"PushEvent\",\"actor\":{\"id\":55639732,\"login\":\"cinc-bot\",\"display_login\":\"cinc-bot\",\"gravatar_id\":\"\",\"url\":\"https://api.github.com/users/cinc-bot\",\"avatar_url\":\"https://avatars.githubusercontent.com/u/55639732?\"},\"repo\":{\"id\":463303356,\"name\":\"cinc-project/chef-server\",\"url\":\"https://api.github.com/repos/cinc-project/chef-server\"},\"payload\":{\"push_id\":9287791442,\"size\":1,\"distinct_size\":1,\"ref\":\"refs/heads/stable/cinc-14.13.42\",\"head\":\"6ec536a00803aaa72fdbcab0b549b5ce39a66949\",\"before\":\"7ebc9c455cd88fce8bf5e8125964eb8e1b31486f\",\"commits\":[{\"sha\":\"6ec536a00803aaa72fdbcab0b549b5ce39a66949\",\"author\":{\"email\":\"lance@osuosl.org\",\"name\":\"Lance Albertson\"},\"message\":\"Additional temporary fixes\\\\n\\\\nSigned-off-by: Lance Albertson <lance@osuosl.org>\",\"distinct\":true,\"url\":\"https://api.github.com/repos/cinc-project/chef-server/commits/6ec536a00803aaa72fdbcab0b549b5ce39a66949\"}]},\"public\":true,\"created_at\":\"2022-03-07T19:16:30Z\",\"org\":{\"id\":49408247,\"login\":\"cinc-project\",\"gravatar_id\":\"\",\"url\":\"https://api.github.com/orgs/cinc-project\",\"avatar_url\":\"https://avatars.githubusercontent.com/u/49408247?\"}},{\"id\":\"20622921350\",\"type\":\"PullRequestEvent\",\"actor\":{\"id\":29139614,\"login\":\"renovate[bot]\",\"display_login\":\"renovate\",\"gravatar_id\":\"\",\"url\":\"https://api.github.com/users/renovate[bot]\",\"avatar_url\":\"https://avatars.githubusercontent.com/u/29139614?\"},\"repo\":{\"id\":362544053,\"name\":\"luismayta/learn-typescript\",\"url\":\"https://api.github.com/repos/luismayta/learn-typescript\"},\"payload\":{\"action\":\"opened\",\"number\":201,\"pull_request\":{\"url\":\"https://api.github.com/repos/luismayta/learn-typescript/pulls/201\",\"id\":873467157,\"node_id\":\"PR_kwDOFZv7tc40EA0V\",\"html_url\":\"https://github.com/luismayta/learn-typescript/pull/201\",\"diff_url\":\"https://github.com/luismayta/learn-typescript/pull/201.diff\",\"patch_url\":\"https://github.com/luismayta/learn-typescript/pull/201.patch\",\"issue_url\":\"https://api.github.com/repos/luismayta/learn-typescript/issues/201\",\"number\":201,\"state\":\"open\",\"locked\":false,\"title\":\"ci(deps): Update dependency lint-staged to ^12.3.5\",\"user\":{\"login\":\"renovate[bot]\",\"id\":29139614,\"node_id\":\"MDM6Qm90MjkxMzk2MTQ=\",\"avatar_url\":\"https://avatars.githubusercontent.com/in/2740?v=4\",\"gravatar_id\":\"\",\"url\":\"https://api.github.com/users/renovate%5Bbot%5D\",\"html_url\":\"https://github.com/apps/renovate\",\"followers_url\":\"https://api.github.com/users/renovate%5Bbot%5D/followers\",\"following_url\":\"https://api.github.com/users/renovate%5Bbot%5D/following{/other_user}\",\"gists_url\":\"https://api.github.com/users/renovate%5Bbot%5D/gists{/gist_id}\",\"starred_url\":\"https://api.github.com/users/renovate%5Bbot%5D/starred{/owner}{/repo}\",\"subscriptions_url\":\"https://api.github.com/users/renovate%5Bbot%5D/subscriptions\",\"organizations_url\":\"https://api.github.com/users/renovate%5Bbot%5D/orgs\",\"repos_url\":\"https://api.github.com/users/renovate%5Bbot%5D/repos\",\"events_url\":\"https://api.github.com/users/renovate%5Bbot%5D/events{/privacy}\",\"received_events_url\":\"https://api.github.com/users/renovate%5Bbot%5D/received_events\",\"type\":\"Bot\",\"site_admin\":false},\"body\":\"[![WhiteSource Renovate](https://app.renovatebot.com/images/banner.svg)](https://renovatebot.com)\\\\n\\\\nThis PR contains the following updates:\\\\n\\\\n| Package | Change | Age | Adoption | Passing | Confidence |\\\\n|---|---|---|---|---|---|\\\\n| [lint-staged](https://togithub.com/okonet/lint-staged) | [`^12.3.4` -> `^12.3.5`](https://renovatebot.com/diffs/npm/lint-staged/12.3.4/12.3.5) | [![age](https://badges.renovateapi.com/packages/npm/lint-staged/12.3.5/age-slim)](https://docs.renovatebot.com/merge-confidence/) | [![adoption](https://badges.renovateapi.com/packages/npm/lint-staged/12.3.5/adoption-slim)](https://docs.renovatebot.com/merge-confidence/) | [![passing](https://badges.renovateapi.com/packages/npm/lint-staged/12.3.5/compatibility-slim/12.3.4)](https://docs.renovatebot.com/merge-confidence/) | [![confidence](https://badges.renovateapi.com/packages/npm/lint-staged/12.3.5/confidence-slim/12.3.4)](https://docs.renovatebot.com/merge-confidence/) |\\\\n\\\\n---\\\\n\\\\n### Release Notes\\\\n\\\\n<details>\\\\n<summary>okonet/lint-staged</summary>\\\\n\\\\n### [`v12.3.5`](https://togithub.com/okonet/lint-staged/releases/v12.3.5)\\\\n\\\\n[Compare Source](https://togithub.com/okonet/lint-staged/compare/v12.3.4...v12.3.5)\\\\n\\\\n##### Bug Fixes\\\\n\\\\n-   search all configs regardless of staged files ([4b605cd](https://togithub.com/okonet/lint-staged/commit/4b605cd3694cc5bfcf6c5a1a2e75c80ef234ab1a))\\\\n\\\\n</details>\\\\n\\\\n---\\\\n\\\\n### Configuration\\\\n\\\\n📅 **Schedule**: \\\\\"after 10:30 before 18:00 every weekday except after 13:00 before 14:00\\\\\" in timezone America/Lima.\\\\n\\\\n🚦 **Automerge**: Enabled.\\\\n\\\\n♻ **Rebasing**: Whenever PR becomes conflicted, or you tick the rebase/retry checkbox.\\\\n\\\\n🔕 **Ignore**: Close this PR and you won\\'t be reminded about this update again.\\\\n\\\\n---\\\\n\\\\n - [ ] <!-- rebase-check -->If you want to rebase/retry this PR, click this checkbox.\\\\n\\\\n---\\\\n\\\\nThis PR has been generated by [WhiteSource Renovate](https://renovate.whitesourcesoftware.com). View repository job log [here](https://app.renovatebot.com/dashboard#github/luismayta/learn-typescript).\",\"created_at\":\"2022-03-07T19:16:29Z\",\"updated_at\":\"2022-03-07T19:16:29Z\",\"closed_at\":null,\"merged_at\":null,\"merge_commit_sha\":null,\"assignee\":null,\"assignees\":[],\"requested_reviewers\":[],\"requested_teams\":[],\"labels\":[],\"milestone\":null,\"draft\":false,\"commits_url\":\"https://api.github.com/repos/luismayta/learn-typescript/pulls/201/commits\",\"review_comments_url\":\"https://api.github.com/repos/luismayta/learn-typescript/pulls/201/comments\",\"review_comment_url\":\"https://api.github.com/repos/luismayta/learn-typescript/pulls/comments{/number}\",\"comments_url\":\"https://api.github.com/repos/luismayta/learn-typescript/issues/201/comments\",\"statuses_url\":\"https://api.github.com/repos/luismayta/learn-typescript/statuses/65a78f8868df0098d72597b59ea1d7b5f2737974\",\"head\":{\"label\":\"luismayta:renovate/lint-staged-12.x\",\"ref\":\"renovate/lint-staged-12.x\",\"sha\":\"65a78f8868df0098d72597b59ea1d7b5f2737974\",\"user\":{\"login\":\"luismayta\",\"id\":833664,\"node_id\":\"MDQ6VXNlcjgzMzY2NA==\",\"avatar_url\":\"https://avatars.githubusercontent.com/u/833664?v=4\",\"gravatar_id\":\"\",\"url\":\"https://api.github.com/users/luismayta\",\"html_url\":\"https://github.com/luismayta\",\"followers_url\":\"https://api.github.com/users/luismayta/followers\",\"following_url\":\"https://api.github.com/users/luismayta/following{/other_user}\",\"gists_url\":\"https://api.github.com/users/luismayta/gists{/gist_id}\",\"starred_url\":\"https://api.github.com/users/luismayta/starred{/owner}{/repo}\",\"subscriptions_url\":\"https://api.github.com/users/luismayta/subscriptions\",\"organizations_url\":\"https://api.github.com/users/luismayta/orgs\",\"repos_url\":\"https://api.github.com/users/luismayta/repos\",\"events_url\":\"https://api.github.com/users/luismayta/events{/privacy}\",\"received_events_url\":\"https://api.github.com/users/luismayta/received_events\",\"type\":\"User\",\"site_admin\":false},\"repo\":{\"id\":362544053,\"node_id\":\"MDEwOlJlcG9zaXRvcnkzNjI1NDQwNTM=\",\"name\":\"learn-typescript\",\"full_name\":\"luismayta/learn-typescript\",\"private\":false,\"owner\":{\"login\":\"luismayta\",\"id\":833664,\"node_id\":\"MDQ6VXNlcjgzMzY2NA==\",\"avatar_url\":\"https://avatars.githubusercontent.com/u/833664?v=4\",\"gravatar_id\":\"\",\"url\":\"https://api.github.com/users/luismayta\",\"html_url\":\"https://github.com/luismayta\",\"followers_url\":\"https://api.github.com/users/luismayta/followers\",\"following_url\":\"https://api.github.com/users/luismayta/following{/other_user}\",\"gists_url\":\"https://api.github.com/users/luismayta/gists{/gist_id}\",\"starred_url\":\"https://api.github.com/users/luismayta/starred{/owner}{/repo}\",\"subscriptions_url\":\"https://api.github.com/users/luismayta/subscriptions\",\"organizations_url\":\"https://api.github.com/users/luismayta/orgs\",\"repos_url\":\"https://api.github.com/users/luismayta/repos\",\"events_url\":\"https://api.github.com/users/luismayta/events{/privacy}\",\"received_events_url\":\"https://api.github.com/users/luismayta/received_events\",\"type\":\"User\",\"site_admin\":false},\"html_url\":\"https://github.com/luismayta/learn-typescript\",\"description\":\"Learn typescript\",\"fork\":false,\"url\":\"https://api.github.com/repos/luismayta/learn-typescript\",\"forks_url\":\"https://api.github.com/repos/luismayta/learn-typescript/forks\",\"keys_url\":\"https://api.github.com/repos/luismayta/learn-typescript/keys{/key_id}\",\"collaborators_url\":\"https://api.github.com/repos/luismayta/learn-typescript/collaborators{/collaborator}\",\"teams_url\":\"https://api.github.com/repos/luismayta/learn-typescript/teams\",\"hooks_url\":\"https://api.github.com/repos/luismayta/learn-typescript/hooks\",\"issue_events_url\":\"https://api.github.com/repos/luismayta/learn-typescript/issues/events{/number}\",\"events_url\":\"https://api.github.com/repos/luismayta/learn-typescript/events\",\"assignees_url\":\"https://api.github.com/repos/luismayta/learn-typescript/assignees{/user}\",\"branches_url\":\"https://api.github.com/repos/luismayta/learn-typescript/branches{/branch}\",\"tags_url\":\"https://api.github.com/repos/luismayta/learn-typescript/tags\",\"blobs_url\":\"https://api.github.com/repos/luismayta/learn-typescript/git/blobs{/sha}\",\"git_tags_url\":\"https://api.github.com/repos/luismayta/learn-typescript/git/tags{/sha}\",\"git_refs_url\":\"https://api.github.com/repos/luismayta/learn-typescript/git/refs{/sha}\",\"trees_url\":\"https://api.github.com/repos/luismayta/learn-typescript/git/trees{/sha}\",\"statuses_url\":\"https://api.github.com/repos/luismayta/learn-typescript/statuses/{sha}\",\"languages_url\":\"https://api.github.com/repos/luismayta/learn-typescript/languages\",\"stargazers_url\":\"https://api.github.com/repos/luismayta/learn-typescript/stargazers\",\"contributors_url\":\"https://api.github.com/repos/luismayta/learn-typescript/contributors\",\"subscribers_url\":\"https://api.github.com/repos/luismayta/learn-typescript/subscribers\",\"subscription_url\":\"https://api.github.com/repos/luismayta/learn-typescript/subscription\",\"commits_url\":\"https://api.github.com/repos/luismayta/learn-typescript/commits{/sha}\",\"git_commits_url\":\"https://api.github.com/repos/luismayta/learn-typescript/git/commits{/sha}\",\"comments_url\":\"https://api.github.com/repos/luismayta/learn-typescript/comments{/number}\",\"issue_comment_url\":\"https://api.github.com/repos/luismayta/learn-typescript/issues/comments{/number}\",\"contents_url\":\"https://api.github.com/repos/luismayta/learn-typescript/contents/{+path}\",\"compare_url\":\"https://api.github.com/repos/luismayta/learn-typescript/compare/{base}...{head}\",\"merges_url\":\"https://api.github.com/repos/luismayta/learn-typescript/merges\",\"archive_url\":\"https://api.github.com/repos/luismayta/learn-typescript/{archive_format}{/ref}\",\"downloads_url\":\"https://api.github.com/repos/luismayta/learn-typescript/downloads\",\"issues_url\":\"https://api.github.com/repos/luismayta/learn-typescript/issues{/number}\",\"pulls_url\":\"https://api.github.com/repos/luismayta/learn-typescript/pulls{/number}\",\"milestones_url\":\"https://api.github.com/repos/luismayta/learn-typescript/milestones{/number}\",\"notifications_url\":\"https://api.github.com/repos/luismayta/learn-typescript/notifications{?since,all,participating}\",\"labels_url\":\"https://api.github.com/repos/luismayta/learn-typescript/labels{/name}\",\"releases_url\":\"https://api.github.com/repos/luismayta/learn-typescript/releases{/id}\",\"deployments_url\":\"https://api.github.com/repos/luismayta/learn-typescript/deployments\",\"created_at\":\"2021-04-28T16:52:22Z\",\"updated_at\":\"2022-01-10T20:27:35Z\",\"pushed_at\":\"2022-03-07T19:16:30Z\",\"git_url\":\"git://github.com/luismayta/learn-typescript.git\",\"ssh_url\":\"git@github.com:luismayta/learn-typescript.git\",\"clone_url\":\"https://github.com/luismayta/learn-typescript.git\",\"svn_url\":\"https://github.com/luismayta/learn-typescript\",\"homepage\":\"\",\"size\":2788,\"stargazers_count\":0,\"watchers_count\":0,\"language\":\"Makefile\",\"has_issues\":true,\"has_projects\":true,\"has_downloads\":false,\"has_wiki\":true,\"has_pages\":false,\"forks_count\":0,\"mirror_url\":null,\"archived\":false,\"disabled\":false,\"open_issues_count\":4,\"license\":{\"key\":\"lgpl-3.0\",\"name\":\"GNU Lesser General Public License v3.0\",\"spdx_id\":\"LGPL-3.0\",\"url\":\"https://api.github.com/licenses/lgpl-3.0\",\"node_id\":\"MDc6TGljZW5zZTEy\"},\"allow_forking\":true,\"is_template\":false,\"topics\":[\"learn\",\"peru\",\"typescript\"],\"visibility\":\"public\",\"forks\":0,\"open_issues\":4,\"watchers\":0,\"default_branch\":\"develop\"}},\"base\":{\"label\":\"luismayta:develop\",\"ref\":\"develop\",\"sha\":\"1091ccaa52a861ba67301be84c1513ff4dc92778\",\"user\":{\"login\":\"luismayta\",\"id\":833664,\"node_id\":\"MDQ6VXNlcjgzMzY2NA==\",\"avatar_url\":\"https://avatars.githubusercontent.com/u/833664?v=4\",\"gravatar_id\":\"\",\"url\":\"https://api.github.com/users/luismayta\",\"html_url\":\"https://github.com/luismayta\",\"followers_url\":\"https://api.github.com/users/luismayta/followers\",\"following_url\":\"https://api.github.com/users/luismayta/following{/other_user}\",\"gists_url\":\"https://api.github.com/users/luismayta/gists{/gist_id}\",\"starred_url\":\"https://api.github.com/users/luismayta/starred{/owner}{/repo}\",\"subscriptions_url\":\"https://api.github.com/users/luismayta/subscriptions\",\"organizations_url\":\"https://api.github.com/users/luismayta/orgs\",\"repos_url\":\"https://api.github.com/users/luismayta/repos\",\"events_url\":\"https://api.github.com/users/luismayta/events{/privacy}\",\"received_events_url\":\"https://api.github.com/users/luismayta/received_events\",\"type\":\"User\",\"site_admin\":false},\"repo\":{\"id\":362544053,\"node_id\":\"MDEwOlJlcG9zaXRvcnkzNjI1NDQwNTM=\",\"name\":\"learn-typescript\",\"full_name\":\"luismayta/learn-typescript\",\"private\":false,\"owner\":{\"login\":\"luismayta\",\"id\":833664,\"node_id\":\"MDQ6VXNlcjgzMzY2NA==\",\"avatar_url\":\"https://avatars.githubusercontent.com/u/833664?v=4\",\"gravatar_id\":\"\",\"url\":\"https://api.github.com/users/luismayta\",\"html_url\":\"https://github.com/luismayta\",\"followers_url\":\"https://api.github.com/users/luismayta/followers\",\"following_url\":\"https://api.github.com/users/luismayta/following{/other_user}\",\"gists_url\":\"https://api.github.com/users/luismayta/gists{/gist_id}\",\"starred_url\":\"https://api.github.com/users/luismayta/starred{/owner}{/repo}\",\"subscriptions_url\":\"https://api.github.com/users/luismayta/subscriptions\",\"organizations_url\":\"https://api.github.com/users/luismayta/orgs\",\"repos_url\":\"https://api.github.com/users/luismayta/repos\",\"events_url\":\"https://api.github.com/users/luismayta/events{/privacy}\",\"received_events_url\":\"https://api.github.com/users/luismayta/received_events\",\"type\":\"User\",\"site_admin\":false},\"html_url\":\"https://github.com/luismayta/learn-typescript\",\"description\":\"Learn typescript\",\"fork\":false,\"url\":\"https://api.github.com/repos/luismayta/learn-typescript\",\"forks_url\":\"https://api.github.com/repos/luismayta/learn-typescript/forks\",\"keys_url\":\"https://api.github.com/repos/luismayta/learn-typescript/keys{/key_id}\",\"collaborators_url\":\"https://api.github.com/repos/luismayta/learn-typescript/collaborators{/collaborator}\",\"teams_url\":\"https://api.github.com/repos/luismayta/learn-typescript/teams\",\"hooks_url\":\"https://api.github.com/repos/luismayta/learn-typescript/hooks\",\"issue_events_url\":\"https://api.github.com/repos/luismayta/learn-typescript/issues/events{/number}\",\"events_url\":\"https://api.github.com/repos/luismayta/learn-typescript/events\",\"assignees_url\":\"https://api.github.com/repos/luismayta/learn-typescript/assignees{/user}\",\"branches_url\":\"https://api.github.com/repos/luismayta/learn-typescript/branches{/branch}\",\"tags_url\":\"https://api.github.com/repos/luismayta/learn-typescript/tags\",\"blobs_url\":\"https://api.github.com/repos/luismayta/learn-typescript/git/blobs{/sha}\",\"git_tags_url\":\"https://api.github.com/repos/luismayta/learn-typescript/git/tags{/sha}\",\"git_refs_url\":\"https://api.github.com/repos/luismayta/learn-typescript/git/refs{/sha}\",\"trees_url\":\"https://api.github.com/repos/luismayta/learn-typescript/git/trees{/sha}\",\"statuses_url\":\"https://api.github.com/repos/luismayta/learn-typescript/statuses/{sha}\",\"languages_url\":\"https://api.github.com/repos/luismayta/learn-typescript/languages\",\"stargazers_url\":\"https://api.github.com/repos/luismayta/learn-typescript/stargazers\",\"contributors_url\":\"https://api.github.com/repos/luismayta/learn-typescript/contributors\",\"subscribers_url\":\"https://api.github.com/repos/luismayta/learn-typescript/subscribers\",\"subscription_url\":\"https://api.github.com/repos/luismayta/learn-typescript/subscription\",\"commits_url\":\"https://api.github.com/repos/luismayta/learn-typescript/commits{/sha}\",\"git_commits_url\":\"https://api.github.com/repos/luismayta/learn-typescript/git/commits{/sha}\",\"comments_url\":\"https://api.github.com/repos/luismayta/learn-typescript/comments{/number}\",\"issue_comment_url\":\"https://api.github.com/repos/luismayta/learn-typescript/issues/comments{/number}\",\"contents_url\":\"https://api.github.com/repos/luismayta/learn-typescript/contents/{+path}\",\"compare_url\":\"https://api.github.com/repos/luismayta/learn-typescript/compare/{base}...{head}\",\"merges_url\":\"https://api.github.com/repos/luismayta/learn-typescript/merges\",\"archive_url\":\"https://api.github.com/repos/luismayta/learn-typescript/{archive_format}{/ref}\",\"downloads_url\":\"https://api.github.com/repos/luismayta/learn-typescript/downloads\",\"issues_url\":\"https://api.github.com/repos/luismayta/learn-typescript/issues{/number}\",\"pulls_url\":\"https://api.github.com/repos/luismayta/learn-typescript/pulls{/number}\",\"milestones_url\":\"https://api.github.com/repos/luismayta/learn-typescript/milestones{/number}\",\"notifications_url\":\"https://api.github.com/repos/luismayta/learn-typescript/notifications{?since,all,participating}\",\"labels_url\":\"https://api.github.com/repos/luismayta/learn-typescript/labels{/name}\",\"releases_url\":\"https://api.github.com/repos/luismayta/learn-typescript/releases{/id}\",\"deployments_url\":\"https://api.github.com/repos/luismayta/learn-typescript/deployments\",\"created_at\":\"2021-04-28T16:52:22Z\",\"updated_at\":\"2022-01-10T20:27:35Z\",\"pushed_at\":\"2022-03-07T19:16:30Z\",\"git_url\":\"git://github.com/luismayta/learn-typescript.git\",\"ssh_url\":\"git@github.com:luismayta/learn-typescript.git\",\"clone_url\":\"https://github.com/luismayta/learn-typescript.git\",\"svn_url\":\"https://github.com/luismayta/learn-typescript\",\"homepage\":\"\",\"size\":2788,\"stargazers_count\":0,\"watchers_count\":0,\"language\":\"Makefile\",\"has_issues\":true,\"has_projects\":true,\"has_downloads\":false,\"has_wiki\":true,\"has_pages\":false,\"forks_count\":0,\"mirror_url\":null,\"archived\":false,\"disabled\":false,\"open_issues_count\":4,\"license\":{\"key\":\"lgpl-3.0\",\"name\":\"GNU Lesser General Public License v3.0\",\"spdx_id\":\"LGPL-3.0\",\"url\":\"https://api.github.com/licenses/lgpl-3.0\",\"node_id\":\"MDc6TGljZW5zZTEy\"},\"allow_forking\":true,\"is_template\":false,\"topics\":[\"learn\",\"peru\",\"typescript\"],\"visibility\":\"public\",\"forks\":0,\"open_issues\":4,\"watchers\":0,\"default_branch\":\"develop\"}},\"_links\":{\"self\":{\"href\":\"https://api.github.com/repos/luismayta/learn-typescript/pulls/201\"},\"html\":{\"href\":\"https://github.com/luismayta/learn-typescript/pull/201\"},\"issue\":{\"href\":\"https://api.github.com/repos/luismayta/learn-typescript/issues/201\"},\"comments\":{\"href\":\"https://api.github.com/repos/luismayta/learn-typescript/issues/201/comments\"},\"review_comments\":{\"href\":\"https://api.github.com/repos/luismayta/learn-typescript/pulls/201/comments\"},\"review_comment\":{\"href\":\"https://api.github.com/repos/luismayta/learn-typescript/pulls/comments{/number}\"},\"commits\":{\"href\":\"https://api.github.com/repos/luismayta/learn-typescript/pulls/201/commits\"},\"statuses\":{\"href\":\"https://api.github.com/repos/luismayta/learn-typescript/statuses/65a78f8868df0098d72597b59ea1d7b5f2737974\"}},\"author_association\":\"NONE\",\"auto_merge\":null,\"active_lock_reason\":null,\"merged\":false,\"mergeable\":null,\"rebaseable\":null,\"mergeable_state\":\"unknown\",\"merged_by\":null,\"comments\":0,\"review_comments\":0,\"maintainer_can_modify\":false,\"commits\":1,\"additions\":5,\"deletions\":5,\"changed_files\":2}},\"public\":true,\"created_at\":\"2022-03-07T19:16:30Z\"},{\"id\":\"20622921009\",\"type\":\"ForkEvent\",\"actor\":{\"id\":98422597,\"login\":\"Dane5\",\"display_login\":\"Dane5\",\"gravatar_id\":\"\",\"url\":\"https://api.github.com/users/Dane5\",\"avatar_url\":\"https://avatars.githubusercontent.com/u/98422597?\"},\"repo\":{\"id\":328496324,\"name\":\"learn-co-curriculum/phase-0-html-document-structure-lab\",\"url\":\"https://api.github.com/repos/learn-co-curriculum/phase-0-html-document-structure-lab\"},\"payload\":{\"forkee\":{\"id\":467228065,\"node_id\":\"R_kgDOG9lVoQ\",\"name\":\"phase-0-html-document-structure-lab\",\"full_name\":\"Dane5/phase-0-html-document-structure-lab\",\"private\":false,\"owner\":{\"login\":\"Dane5\",\"id\":98422597,\"node_id\":\"U_kgDOBd3PRQ\",\"avatar_url\":\"https://avatars.githubusercontent.com/u/98422597?v=4\",\"gravatar_id\":\"\",\"url\":\"https://api.github.com/users/Dane5\",\"html_url\":\"https://github.com/Dane5\",\"followers_url\":\"https://api.github.com/users/Dane5/followers\",\"following_url\":\"https://api.github.com/users/Dane5/following{/other_user}\",\"gists_url\":\"https://api.github.com/users/Dane5/gists{/gist_id}\",\"starred_url\":\"https://api.github.com/users/Dane5/starred{/owner}{/repo}\",\"subscriptions_url\":\"https://api.github.com/users/Dane5/subscriptions\",\"organizations_url\":\"https://api.github.com/users/Dane5/orgs\",\"repos_url\":\"https://api.github.com/users/Dane5/repos\",\"events_url\":\"https://api.github.com/users/Dane5/events{/privacy}\",\"received_events_url\":\"https://api.github.com/users/Dane5/received_events\",\"type\":\"User\",\"site_admin\":false},\"html_url\":\"https://github.com/Dane5/phase-0-html-document-structure-lab\",\"description\":null,\"fork\":true,\"url\":\"https://api.github.com/repos/Dane5/phase-0-html-document-structure-lab\",\"forks_url\":\"https://api.github.com/repos/Dane5/phase-0-html-document-structure-lab/forks\",\"keys_url\":\"https://api.github.com/repos/Dane5/phase-0-html-document-structure-lab/keys{/key_id}\",\"collaborators_url\":\"https://api.github.com/repos/Dane5/phase-0-html-document-structure-lab/collaborators{/collaborator}\",\"teams_url\":\"https://api.github.com/repos/Dane5/phase-0-html-document-structure-lab/teams\",\"hooks_url\":\"https://api.github.com/repos/Dane5/phase-0-html-document-structure-lab/hooks\",\"issue_events_url\":\"https://api.github.com/repos/Dane5/phase-0-html-document-structure-lab/issues/events{/number}\",\"events_url\":\"https://api.github.com/repos/Dane5/phase-0-html-document-structure-lab/events\",\"assignees_url\":\"https://api.github.com/repos/Dane5/phase-0-html-document-structure-lab/assignees{/user}\",\"branches_url\":\"https://api.github.com/repos/Dane5/phase-0-html-document-structure-lab/branches{/branch}\",\"tags_url\":\"https://api.github.com/repos/Dane5/phase-0-html-document-structure-lab/tags\",\"blobs_url\":\"https://api.github.com/repos/Dane5/phase-0-html-document-structure-lab/git/blobs{/sha}\",\"git_tags_url\":\"https://api.github.com/repos/Dane5/phase-0-html-document-structure-lab/git/tags{/sha}\",\"git_refs_url\":\"https://api.github.com/repos/Dane5/phase-0-html-document-structure-lab/git/refs{/sha}\",\"trees_url\":\"https://api.github.com/repos/Dane5/phase-0-html-document-structure-lab/git/trees{/sha}\",\"statuses_url\":\"https://api.github.com/repos/Dane5/phase-0-html-document-structure-lab/statuses/{sha}\",\"languages_url\":\"https://api.github.com/repos/Dane5/phase-0-html-document-structure-lab/languages\",\"stargazers_url\":\"https://api.github.com/repos/Dane5/phase-0-html-document-structure-lab/stargazers\",\"contributors_url\":\"https://api.github.com/repos/Dane5/phase-0-html-document-structure-lab/contributors\",\"subscribers_url\":\"https://api.github.com/repos/Dane5/phase-0-html-document-structure-lab/subscribers\",\"subscription_url\":\"https://api.github.com/repos/Dane5/phase-0-html-document-structure-lab/subscription\",\"commits_url\":\"https://api.github.com/repos/Dane5/phase-0-html-document-structure-lab/commits{/sha}\",\"git_commits_url\":\"https://api.github.com/repos/Dane5/phase-0-html-document-structure-lab/git/commits{/sha}\",\"comments_url\":\"https://api.github.com/repos/Dane5/phase-0-html-document-structure-lab/comments{/number}\",\"issue_comment_url\":\"https://api.github.com/repos/Dane5/phase-0-html-document-structure-lab/issues/comments{/number}\",\"contents_url\":\"https://api.github.com/repos/Dane5/phase-0-html-document-structure-lab/contents/{+path}\",\"compare_url\":\"https://api.github.com/repos/Dane5/phase-0-html-document-structure-lab/compare/{base}...{head}\",\"merges_url\":\"https://api.github.com/repos/Dane5/phase-0-html-document-structure-lab/merges\",\"archive_url\":\"https://api.github.com/repos/Dane5/phase-0-html-document-structure-lab/{archive_format}{/ref}\",\"downloads_url\":\"https://api.github.com/repos/Dane5/phase-0-html-document-structure-lab/downloads\",\"issues_url\":\"https://api.github.com/repos/Dane5/phase-0-html-document-structure-lab/issues{/number}\",\"pulls_url\":\"https://api.github.com/repos/Dane5/phase-0-html-document-structure-lab/pulls{/number}\",\"milestones_url\":\"https://api.github.com/repos/Dane5/phase-0-html-document-structure-lab/milestones{/number}\",\"notifications_url\":\"https://api.github.com/repos/Dane5/phase-0-html-document-structure-lab/notifications{?since,all,participating}\",\"labels_url\":\"https://api.github.com/repos/Dane5/phase-0-html-document-structure-lab/labels{/name}\",\"releases_url\":\"https://api.github.com/repos/Dane5/phase-0-html-document-structure-lab/releases{/id}\",\"deployments_url\":\"https://api.github.com/repos/Dane5/phase-0-html-document-structure-lab/deployments\",\"created_at\":\"2022-03-07T19:16:28Z\",\"updated_at\":\"2022-01-06T17:29:19Z\",\"pushed_at\":\"2022-02-10T18:56:08Z\",\"git_url\":\"git://github.com/Dane5/phase-0-html-document-structure-lab.git\",\"ssh_url\":\"git@github.com:Dane5/phase-0-html-document-structure-lab.git\",\"clone_url\":\"https://github.com/Dane5/phase-0-html-document-structure-lab.git\",\"svn_url\":\"https://github.com/Dane5/phase-0-html-document-structure-lab\",\"homepage\":null,\"size\":186,\"stargazers_count\":0,\"watchers_count\":0,\"language\":null,\"has_issues\":false,\"has_projects\":true,\"has_downloads\":true,\"has_wiki\":true,\"has_pages\":false,\"forks_count\":0,\"mirror_url\":null,\"archived\":false,\"disabled\":false,\"open_issues_count\":0,\"license\":{\"key\":\"other\",\"name\":\"Other\",\"spdx_id\":\"NOASSERTION\",\"url\":null,\"node_id\":\"MDc6TGljZW5zZTA=\"},\"allow_forking\":true,\"is_template\":false,\"topics\":[],\"visibility\":\"public\",\"forks\":0,\"open_issues\":0,\"watchers\":0,\"default_branch\":\"main\",\"public\":true}},\"public\":true,\"created_at\":\"2022-03-07T19:16:29Z\",\"org\":{\"id\":6208017,\"login\":\"learn-co-curriculum\",\"gravatar_id\":\"\",\"url\":\"https://api.github.com/orgs/learn-co-curriculum\",\"avatar_url\":\"https://avatars.githubusercontent.com/u/6208017?\"}},{\"id\":\"20622920706\",\"type\":\"PushEvent\",\"actor\":{\"id\":989387,\"login\":\"ngriffin7a\",\"display_login\":\"ngriffin7a\",\"gravatar_id\":\"\",\"url\":\"https://api.github.com/users/ngriffin7a\",\"avatar_url\":\"https://avatars.githubusercontent.com/u/989387?\"},\"repo\":{\"id\":41882185,\"name\":\"liferay/liferay-faces-alloy\",\"url\":\"https://api.github.com/repos/liferay/liferay-faces-alloy\"},\"payload\":{\"push_id\":9287791138,\"size\":1,\"distinct_size\":1,\"ref\":\"refs/heads/master\",\"head\":\"6b0ed813b4b936d53c5ef949d32d665afde2144b\",\"before\":\"9f2a5d73f5e4dc2f335294fb0879ba11ef8a8e82\",\"commits\":[{\"sha\":\"6b0ed813b4b936d53c5ef949d32d665afde2144b\",\"author\":{\"email\":\"neil.griffin.scm@gmail.com\",\"name\":\"Neil Griffin\"},\"message\":\"FACES-3651 Upgrade to com.liferay.faces.util-3.4.1\",\"distinct\":true,\"url\":\"https://api.github.com/repos/liferay/liferay-faces-alloy/commits/6b0ed813b4b936d53c5ef949d32d665afde2144b\"}]},\"public\":true,\"created_at\":\"2022-03-07T19:16:28Z\",\"org\":{\"id\":131436,\"login\":\"liferay\",\"gravatar_id\":\"\",\"url\":\"https://api.github.com/orgs/liferay\",\"avatar_url\":\"https://avatars.githubusercontent.com/u/131436?\"}},{\"id\":\"20622920961\",\"type\":\"PushEvent\",\"actor\":{\"id\":11835852,\"login\":\"msconfig\",\"display_login\":\"msconfig\",\"gravatar_id\":\"\",\"url\":\"https://api.github.com/users/msconfig\",\"avatar_url\":\"https://avatars.githubusercontent.com/u/11835852?\"},\"repo\":{\"id\":252563659,\"name\":\"msconfig/msconfig.github.io\",\"url\":\"https://api.github.com/repos/msconfig/msconfig.github.io\"},\"payload\":{\"push_id\":9287791269,\"size\":1,\"distinct_size\":1,\"ref\":\"refs/heads/master\",\"head\":\"dfb171dc08f59ee19ee4361c68ffb3fc8b577020\",\"before\":\"5af0b9335325b9948315f160b1bb47558b0678f9\",\"commits\":[{\"sha\":\"dfb171dc08f59ee19ee4361c68ffb3fc8b577020\",\"author\":{\"email\":\"msconfig@users.noreply.github.com\",\"name\":\"msconfig\"},\"message\":\"lockfile\",\"distinct\":true,\"url\":\"https://api.github.com/repos/msconfig/msconfig.github.io/commits/dfb171dc08f59ee19ee4361c68ffb3fc8b577020\"}]},\"public\":true,\"created_at\":\"2022-03-07T19:16:29Z\"},{\"id\":\"20622920975\",\"type\":\"CreateEvent\",\"actor\":{\"id\":60526069,\"login\":\"AISK11\",\"display_login\":\"AISK11\",\"gravatar_id\":\"\",\"url\":\"https://api.github.com/users/AISK11\",\"avatar_url\":\"https://avatars.githubusercontent.com/u/60526069?\"},\"repo\":{\"id\":467228062,\"name\":\"AISK11/Gentoo\",\"url\":\"https://api.github.com/repos/AISK11/Gentoo\"},\"payload\":{\"ref\":null,\"ref_type\":\"repository\",\"master_branch\":\"main\",\"description\":null,\"pusher_type\":\"user\"},\"public\":true,\"created_at\":\"2022-03-07T19:16:29Z\"},{\"id\":\"20622921013\",\"type\":\"DeleteEvent\",\"actor\":{\"id\":59666792,\"login\":\"mohammadfawaz\",\"display_login\":\"mohammadfawaz\",\"gravatar_id\":\"\",\"url\":\"https://api.github.com/users/mohammadfawaz\",\"avatar_url\":\"https://avatars.githubusercontent.com/u/59666792?\"},\"repo\":{\"id\":442551426,\"name\":\"FuelLabs/sway-lib-std\",\"url\":\"https://api.github.com/repos/FuelLabs/sway-lib-std\"},\"payload\":{\"ref\":\"mohammadfawaz/avoid_implicit_cast_warning\",\"ref_type\":\"branch\",\"pusher_type\":\"user\"},\"public\":true,\"created_at\":\"2022-03-07T19:16:29Z\",\"org\":{\"id\":55993183,\"login\":\"FuelLabs\",\"gravatar_id\":\"\",\"url\":\"https://api.github.com/orgs/FuelLabs\",\"avatar_url\":\"https://avatars.githubusercontent.com/u/55993183?\"}},{\"id\":\"20622920721\",\"type\":\"PushEvent\",\"actor\":{\"id\":36032303,\"login\":\"SmartestKen\",\"display_login\":\"SmartestKen\",\"gravatar_id\":\"\",\"url\":\"https://api.github.com/users/SmartestKen\",\"avatar_url\":\"https://avatars.githubusercontent.com/u/36032303?\"},\"repo\":{\"id\":391730508,\"name\":\"SmartestKen/open\",\"url\":\"https://api.github.com/repos/SmartestKen/open\"},\"payload\":{\"push_id\":9287791150,\"size\":1,\"distinct_size\":1,\"ref\":\"refs/heads/master\",\"head\":\"541201c384a8796b3c24db35af7bd8e45062f4c4\",\"before\":\"e4223af127f52c9d9a7731e46a1e332773588c22\",\"commits\":[{\"sha\":\"541201c384a8796b3c24db35af7bd8e45062f4c4\",\"author\":{\"email\":\"no-reply@princeton.edu\",\"name\":\"ken\"},\"message\":\"laptop1\",\"distinct\":true,\"url\":\"https://api.github.com/repos/SmartestKen/open/commits/541201c384a8796b3c24db35af7bd8e45062f4c4\"}]},\"public\":true,\"created_at\":\"2022-03-07T19:16:28Z\"},{\"id\":\"20622920734\",\"type\":\"IssueCommentEvent\",\"actor\":{\"id\":71330581,\"login\":\"shiragoodman\",\"display_login\":\"shiragoodman\",\"gravatar_id\":\"\",\"url\":\"https://api.github.com/users/shiragoodman\",\"avatar_url\":\"https://avatars.githubusercontent.com/u/71330581?\"},\"repo\":{\"id\":133843125,\"name\":\"department-of-veterans-affairs/va.gov-team\",\"url\":\"https://api.github.com/repos/department-of-veterans-affairs/va.gov-team\"},\"payload\":{\"action\":\"created\",\"issue\":{\"url\":\"https://api.github.com/repos/department-of-veterans-affairs/va.gov-team/issues/35673\",\"repository_url\":\"https://api.github.com/repos/department-of-veterans-affairs/va.gov-team\",\"labels_url\":\"https://api.github.com/repos/department-of-veterans-affairs/va.gov-team/issues/35673/labels{/name}\",\"comments_url\":\"https://api.github.com/repos/department-of-veterans-affairs/va.gov-team/issues/35673/comments\",\"events_url\":\"https://api.github.com/repos/department-of-veterans-affairs/va.gov-team/issues/35673/events\",\"html_url\":\"https://github.com/department-of-veterans-affairs/va.gov-team/issues/35673\",\"id\":1109595626,\"node_id\":\"I_kwDOB_pItc5CIxXq\",\"number\":35673,\"title\":\"Integrate Sitewide Content into Collaboration Cycle\",\"user\":{\"login\":\"shiragoodman\",\"id\":71330581,\"node_id\":\"MDQ6VXNlcjcxMzMwNTgx\",\"avatar_url\":\"https://avatars.githubusercontent.com/u/71330581?v=4\",\"gravatar_id\":\"\",\"url\":\"https://api.github.com/users/shiragoodman\",\"html_url\":\"https://github.com/shiragoodman\",\"followers_url\":\"https://api.github.com/users/shiragoodman/followers\",\"following_url\":\"https://api.github.com/users/shiragoodman/following{/other_user}\",\"gists_url\":\"https://api.github.com/users/shiragoodman/gists{/gist_id}\",\"starred_url\":\"https://api.github.com/users/shiragoodman/starred{/owner}{/repo}\",\"subscriptions_url\":\"https://api.github.com/users/shiragoodman/subscriptions\",\"organizations_url\":\"https://api.github.com/users/shiragoodman/orgs\",\"repos_url\":\"https://api.github.com/users/shiragoodman/repos\",\"events_url\":\"https://api.github.com/users/shiragoodman/events{/privacy}\",\"received_events_url\":\"https://api.github.com/users/shiragoodman/received_events\",\"type\":\"User\",\"site_admin\":false},\"labels\":[{\"id\":1559800123,\"node_id\":\"MDU6TGFiZWwxNTU5ODAwMTIz\",\"url\":\"https://api.github.com/repos/department-of-veterans-affairs/va.gov-team/labels/tech-debt\",\"name\":\"tech-debt\",\"color\":\"f9610e\",\"default\":false,\"description\":\"\"},{\"id\":2423231518,\"node_id\":\"MDU6TGFiZWwyNDIzMjMxNTE4\",\"url\":\"https://api.github.com/repos/department-of-veterans-affairs/va.gov-team/labels/governance-team\",\"name\":\"governance-team\",\"color\":\"FCBD87\",\"default\":false,\"description\":\"Platform Governance Team (fka Product Support)\"},{\"id\":2676047503,\"node_id\":\"MDU6TGFiZWwyNjc2MDQ3NTAz\",\"url\":\"https://api.github.com/repos/department-of-veterans-affairs/va.gov-team/labels/sitewide%20content\",\"name\":\"sitewide content\",\"color\":\"0E711B\",\"default\":false,\"description\":\"\"},{\"id\":3792102247,\"node_id\":\"LA_kwDOB_pItc7iBuNn\",\"url\":\"https://api.github.com/repos/department-of-veterans-affairs/va.gov-team/labels/Sitewide%20IA\",\"name\":\"Sitewide IA\",\"color\":\"d4c5f9\",\"default\":false,\"description\":\"Requests and issues pertaining to Information Architecture for VA.gov\"}],\"state\":\"open\",\"locked\":false,\"assignee\":{\"login\":\"mnorthuis\",\"id\":20994159,\"node_id\":\"MDQ6VXNlcjIwOTk0MTU5\",\"avatar_url\":\"https://avatars.githubusercontent.com/u/20994159?v=4\",\"gravatar_id\":\"\",\"url\":\"https://api.github.com/users/mnorthuis\",\"html_url\":\"https://github.com/mnorthuis\",\"followers_url\":\"https://api.github.com/users/mnorthuis/followers\",\"following_url\":\"https://api.github.com/users/mnorthuis/following{/other_user}\",\"gists_url\":\"https://api.github.com/users/mnorthuis/gists{/gist_id}\",\"starred_url\":\"https://api.github.com/users/mnorthuis/starred{/owner}{/repo}\",\"subscriptions_url\":\"https://api.github.com/users/mnorthuis/subscriptions\",\"organizations_url\":\"https://api.github.com/users/mnorthuis/orgs\",\"repos_url\":\"https://api.github.com/users/mnorthuis/repos\",\"events_url\":\"https://api.github.com/users/mnorthuis/events{/privacy}\",\"received_events_url\":\"https://api.github.com/users/mnorthuis/received_events\",\"type\":\"User\",\"site_admin\":false},\"assignees\":[{\"login\":\"mnorthuis\",\"id\":20994159,\"node_id\":\"MDQ6VXNlcjIwOTk0MTU5\",\"avatar_url\":\"https://avatars.githubusercontent.com/u/20994159?v=4\",\"gravatar_id\":\"\",\"url\":\"https://api.github.com/users/mnorthuis\",\"html_url\":\"https://github.com/mnorthuis\",\"followers_url\":\"https://api.github.com/users/mnorthuis/followers\",\"following_url\":\"https://api.github.com/users/mnorthuis/following{/other_user}\",\"gists_url\":\"https://api.github.com/users/mnorthuis/gists{/gist_id}\",\"starred_url\":\"https://api.github.com/users/mnorthuis/starred{/owner}{/repo}\",\"subscriptions_url\":\"https://api.github.com/users/mnorthuis/subscriptions\",\"organizations_url\":\"https://api.github.com/users/mnorthuis/orgs\",\"repos_url\":\"https://api.github.com/users/mnorthuis/repos\",\"events_url\":\"https://api.github.com/users/mnorthuis/events{/privacy}\",\"received_events_url\":\"https://api.github.com/users/mnorthuis/received_events\",\"type\":\"User\",\"site_admin\":false},{\"login\":\"shiragoodman\",\"id\":71330581,\"node_id\":\"MDQ6VXNlcjcxMzMwNTgx\",\"avatar_url\":\"https://avatars.githubusercontent.com/u/71330581?v=4\",\"gravatar_id\":\"\",\"url\":\"https://api.github.com/users/shiragoodman\",\"html_url\":\"https://github.com/shiragoodman\",\"followers_url\":\"https://api.github.com/users/shiragoodman/followers\",\"following_url\":\"https://api.github.com/users/shiragoodman/following{/other_user}\",\"gists_url\":\"https://api.github.com/users/shiragoodman/gists{/gist_id}\",\"starred_url\":\"https://api.github.com/users/shiragoodman/starred{/owner}{/repo}\",\"subscriptions_url\":\"https://api.github.com/users/shiragoodman/subscriptions\",\"organizations_url\":\"https://api.github.com/users/shiragoodman/orgs\",\"repos_url\":\"https://api.github.com/users/shiragoodman/repos\",\"events_url\":\"https://api.github.com/users/shiragoodman/events{/privacy}\",\"received_events_url\":\"https://api.github.com/users/shiragoodman/received_events\",\"type\":\"User\",\"site_admin\":false}],\"milestone\":null,\"comments\":12,\"created_at\":\"2022-01-20T17:49:26Z\",\"updated_at\":\"2022-03-07T19:16:27Z\",\"closed_at\":null,\"author_association\":\"CONTRIBUTOR\",\"active_lock_reason\":null,\"body\":\"## Background\\\\nEarlier in 2021, the Sitewide Content team was introduced. Their mission was to help provide content guidance and support the VFS teams with during product development. At that time, the role of content on the Platform (specifically within the Collaboration Cycle) was limited to validating that products adhere to VA.gov content standards. Please refer to the Sitewide Content direction distinguished from Platform content standards review document for additional information regarding the differences between the 2 teams.\\\\n\\\\n## Problem Statement\\\\nAs the process matured, it has been challenging for the Collaboration Cycle to know which VFS teams are engaging with the Sitewide Content team. The guidance that VFS teams receive from Sitewide Content may be beneficial for Collaboration Cycle reviews, and the lack of visibility could lead to misaligned feedback. Additionally, Sitewide Content team may not be engaging with teams that could greatly benefit from their support. Since Collaboration Cycle doesn’t provide strategic content guidance to VFS teams and only validates for VA.gov content standards, it’s possible there are products live on VA.gov that don’t adhere to the overall content strategy of VA.gov.\\\\n\\\\nPlease see the [Integrate Sitewide Content intake request into Collaboration Cycle](https://vfs.atlassian.net/wiki/spaces/PPST/pages/2004025355/Integrate+Sitewide+Content+intake+request+into+Collaboration+Cycle) documentation for additional details. Beth and Danielle with Sitewide Content communicated on 1/18 that they\\'d like to move forward with Option 1.\\\\n\\\\n---\\\\n## Tasks\\\\n### Platform Website updates\\\\n- [x] Create the Sitewide Content and IA intake request touchpoint page in the [Documentation Drafts space](https://vfs.atlassian.net/wiki/spaces/PPST/pages/2064252940/Shira+-+Sitewide+Content+and+IA+intake+request)\\\\n   - [x] Ask for input from Sitewide Content team\\\\n   - [x] Make edits to the page per Sitewide Content team feedback\\\\n- [ ] Update[ Touchpoints page ](https://vfs.atlassian.net/wiki/spaces/CC/pages/1768423528/Touchpoints)to add Sitewide Content and IA intake request\\\\n- [ ] Update [Overview page](https://vfs.atlassian.net/wiki/spaces/CC/overview?homepageId=1524891996) to:\\\\n   - [ ] Add Sitewide Content and IA intake request to The \\\\\"Define\\\\\" Phase\\\\n   - [ ] Add Sitewide Content and IA intake request to image\\\\n- [ ] Update [Contact us page](https://vfs.atlassian.net/wiki/spaces/CC/pages/1764524036/Contact+us) to add Sitewide Content (Beth & Danielle?)\\\\n   - possibly update \\\\\"Content\\\\\" entry to \\\\\"Platform Content\\\\\"\\\\n- [ ] Draft Change History post announcing Sitewide Content and IA intake request being included in the Collaboration Cycle\\\\n   - [ ] Share post with Sitewide Content team for review/approval\\\\n\\\\n### Confluence updates (aka Operational docs)\\\\n- [ ] Modify response script in the [Collaboration Cycle kickoff moderator responsibilities guidance](https://vfs.atlassian.net/wiki/spaces/PPS/pages/1749286928/Collaboration+Cycle+Kickoff+-+Moderator+Responsibilities) to include Sitewide Content and IA intake request\\\\n- [ ] Update [Custom Tracks flow](https://vfs.atlassian.net/wiki/spaces/PPS/pages/1872822276/Custom+Tracks+Flow) to include Sitewide Content and IA intake request on tracks 1-4\\\\n\\\\n### Misc. updates\\\\n- [ ] Possibly add `collab-cycle-review` github label to [Sitewide Content & IA intake request ticket](https://github.com/department-of-veterans-affairs/va.gov-team/issues/new?assignees=Sitewide+Content%2C+RLHecht&labels=sitewide+content%2C+sitewide+content-product+support&template=sitewide-content-intake-form.md&title=%3CType+of+Request%3E+from+%3CTeam%3E) in github\\\\n\\\\n\\\\n## Acceptance Criteria\\\\n- [ ] VFS teams recognize that Sitewide Content and IA intake is part of the Collaboration Cycle\\\\n- [ ] Platform and/or others will no longer need to recommend to teams at Design Intent and/or Midpoint Review that they submit a Sitewide Content and IA intake request\\\\n- [ ] Sitewide Content team will engage with all teams/products coming through the Collaboration Cycle\\\\n\\\\n---\\\\n## How to configure this issue\\\\n- [ ] **Attached to a Milestone** (when will this be completed?)\\\\n- [ ] **Attached to an Epic** (what body of work is this a part of?)\\\\n- [ ] **Labeled with Team** (`product support`, `analytics-insights`, `operations`, `service-design`, `tools-be`, `tools-fe`)\\\\n- [ ] **Labeled with Practice Area** (`backend`, `frontend`, `devops`, `design`, `research`, `product`, `ia`, `qa`, `analytics`, `contact center`, `research`, `accessibility`, `content`)\\\\n- [ ] **Labeled with Type** (`bug`, `request`, `discovery`, `documentation`, etc.)\\\\n\",\"reactions\":{\"url\":\"https://api.github.com/repos/department-of-veterans-affairs/va.gov-team/issues/35673/reactions\",\"total_count\":0,\"+1\":0,\"-1\":0,\"laugh\":0,\"hooray\":0,\"confused\":0,\"heart\":0,\"rocket\":0,\"eyes\":0},\"timeline_url\":\"https://api.github.com/repos/department-of-veterans-affairs/va.gov-team/issues/35673/timeline\",\"performed_via_github_app\":null},\"comment\":{\"url\":\"https://api.github.com/repos/department-of-veterans-affairs/va.gov-team/issues/comments/1061040637\",\"html_url\":\"https://github.com/department-of-veterans-affairs/va.gov-team/issues/35673#issuecomment-1061040637\",\"issue_url\":\"https://api.github.com/repos/department-of-veterans-affairs/va.gov-team/issues/35673\",\"id\":1061040637,\"node_id\":\"IC_kwDOB_pItc4_PjH9\",\"user\":{\"login\":\"shiragoodman\",\"id\":71330581,\"node_id\":\"MDQ6VXNlcjcxMzMwNTgx\",\"avatar_url\":\"https://avatars.githubusercontent.com/u/71330581?v=4\",\"gravatar_id\":\"\",\"url\":\"https://api.github.com/users/shiragoodman\",\"html_url\":\"https://github.com/shiragoodman\",\"followers_url\":\"https://api.github.com/users/shiragoodman/followers\",\"following_url\":\"https://api.github.com/users/shiragoodman/following{/other_user}\",\"gists_url\":\"https://api.github.com/users/shiragoodman/gists{/gist_id}\",\"starred_url\":\"https://api.github.com/users/shiragoodman/starred{/owner}{/repo}\",\"subscriptions_url\":\"https://api.github.com/users/shiragoodman/subscriptions\",\"organizations_url\":\"https://api.github.com/users/shiragoodman/orgs\",\"repos_url\":\"https://api.github.com/users/shiragoodman/repos\",\"events_url\":\"https://api.github.com/users/shiragoodman/events{/privacy}\",\"received_events_url\":\"https://api.github.com/users/shiragoodman/received_events\",\"type\":\"User\",\"site_admin\":false},\"created_at\":\"2022-03-07T19:16:27Z\",\"updated_at\":\"2022-03-07T19:16:27Z\",\"author_association\":\"CONTRIBUTOR\",\"body\":\"@mnorthuis @bethpotts @DanielleThierryUSDSVA Please review the draft I created of the [Platform Website Contact Us page](https://vfs.atlassian.net/wiki/spaces/PPST/pages/2112848108/Shira+-+Contact+us) and let me know how you\\'d like me to communicate your names and titles. \",\"reactions\":{\"url\":\"https://api.github.com/repos/department-of-veterans-affairs/va.gov-team/issues/comments/1061040637/reactions\",\"total_count\":0,\"+1\":0,\"-1\":0,\"laugh\":0,\"hooray\":0,\"confused\":0,\"heart\":0,\"rocket\":0,\"eyes\":0},\"performed_via_github_app\":null}},\"public\":true,\"created_at\":\"2022-03-07T19:16:28Z\",\"org\":{\"id\":5421563,\"login\":\"department-of-veterans-affairs\",\"gravatar_id\":\"\",\"url\":\"https://api.github.com/orgs/department-of-veterans-affairs\",\"avatar_url\":\"https://avatars.githubusercontent.com/u/5421563?\"}},{\"id\":\"20622920693\",\"type\":\"PullRequestEvent\",\"actor\":{\"id\":20338840,\"login\":\"Seidel-Michael\",\"display_login\":\"Seidel-Michael\",\"gravatar_id\":\"\",\"url\":\"https://api.github.com/users/Seidel-Michael\",\"avatar_url\":\"https://avatars.githubusercontent.com/u/20338840?\"},\"repo\":{\"id\":336993118,\"name\":\"Seidel-Michael/meta-embedded-containers\",\"url\":\"https://api.github.com/repos/Seidel-Michael/meta-embedded-containers\"},\"payload\":{\"action\":\"closed\",\"number\":4,\"pull_request\":{\"url\":\"https://api.github.com/repos/Seidel-Michael/meta-embedded-containers/pulls/4\",\"id\":873467005,\"node_id\":\"PR_kwDOFBYbXs40EAx9\",\"html_url\":\"https://github.com/Seidel-Michael/meta-embedded-containers/pull/4\",\"diff_url\":\"https://github.com/Seidel-Michael/meta-embedded-containers/pull/4.diff\",\"patch_url\":\"https://github.com/Seidel-Michael/meta-embedded-containers/pull/4.patch\",\"issue_url\":\"https://api.github.com/repos/Seidel-Michael/meta-embedded-containers/issues/4\",\"number\":4,\"state\":\"closed\",\"locked\":false,\"title\":\"Feat/custom image name\",\"user\":{\"login\":\"Seidel-Michael\",\"id\":20338840,\"node_id\":\"MDQ6VXNlcjIwMzM4ODQw\",\"avatar_url\":\"https://avatars.githubusercontent.com/u/20338840?v=4\",\"gravatar_id\":\"\",\"url\":\"https://api.github.com/users/Seidel-Michael\",\"html_url\":\"https://github.com/Seidel-Michael\",\"followers_url\":\"https://api.github.com/users/Seidel-Michael/followers\",\"following_url\":\"https://api.github.com/users/Seidel-Michael/following{/other_user}\",\"gists_url\":\"https://api.github.com/users/Seidel-Michael/gists{/gist_id}\",\"starred_url\":\"https://api.github.com/users/Seidel-Michael/starred{/owner}{/repo}\",\"subscriptions_url\":\"https://api.github.com/users/Seidel-Michael/subscriptions\",\"organizations_url\":\"https://api.github.com/users/Seidel-Michael/orgs\",\"repos_url\":\"https://api.github.com/users/Seidel-Michael/repos\",\"events_url\":\"https://api.github.com/users/Seidel-Michael/events{/privacy}\",\"received_events_url\":\"https://api.github.com/users/Seidel-Michael/received_events\",\"type\":\"User\",\"site_admin\":false},\"body\":null,\"created_at\":\"2022-03-07T19:16:19Z\",\"updated_at\":\"2022-03-07T19:16:27Z\",\"closed_at\":\"2022-03-07T19:16:27Z\",\"merged_at\":\"2022-03-07T19:16:27Z\",\"merge_commit_sha\":\"bcdd327dfa92567ba3db34f53dd8ce3955228aeb\",\"assignee\":null,\"assignees\":[],\"requested_reviewers\":[],\"requested_teams\":[],\"labels\":[],\"milestone\":null,\"draft\":false,\"commits_url\":\"https://api.github.com/repos/Seidel-Michael/meta-embedded-containers/pulls/4/commits\",\"review_comments_url\":\"https://api.github.com/repos/Seidel-Michael/meta-embedded-containers/pulls/4/comments\",\"review_comment_url\":\"https://api.github.com/repos/Seidel-Michael/meta-embedded-containers/pulls/comments{/number}\",\"comments_url\":\"https://api.github.com/repos/Seidel-Michael/meta-embedded-containers/issues/4/comments\",\"statuses_url\":\"https://api.github.com/repos/Seidel-Michael/meta-embedded-containers/statuses/88122cd99959cb4cab903ccc419efe35f0b9c16f\",\"head\":{\"label\":\"Seidel-Michael:feat/custom-image-name\",\"ref\":\"feat/custom-image-name\",\"sha\":\"88122cd99959cb4cab903ccc419efe35f0b9c16f\",\"user\":{\"login\":\"Seidel-Michael\",\"id\":20338840,\"node_id\":\"MDQ6VXNlcjIwMzM4ODQw\",\"avatar_url\":\"https://avatars.githubusercontent.com/u/20338840?v=4\",\"gravatar_id\":\"\",\"url\":\"https://api.github.com/users/Seidel-Michael\",\"html_url\":\"https://github.com/Seidel-Michael\",\"followers_url\":\"https://api.github.com/users/Seidel-Michael/followers\",\"following_url\":\"https://api.github.com/users/Seidel-Michael/following{/other_user}\",\"gists_url\":\"https://api.github.com/users/Seidel-Michael/gists{/gist_id}\",\"starred_url\":\"https://api.github.com/users/Seidel-Michael/starred{/owner}{/repo}\",\"subscriptions_url\":\"https://api.github.com/users/Seidel-Michael/subscriptions\",\"organizations_url\":\"https://api.github.com/users/Seidel-Michael/orgs\",\"repos_url\":\"https://api.github.com/users/Seidel-Michael/repos\",\"events_url\":\"https://api.github.com/users/Seidel-Michael/events{/privacy}\",\"received_events_url\":\"https://api.github.com/users/Seidel-Michael/received_events\",\"type\":\"User\",\"site_admin\":false},\"repo\":{\"id\":336993118,\"node_id\":\"MDEwOlJlcG9zaXRvcnkzMzY5OTMxMTg=\",\"name\":\"meta-embedded-containers\",\"full_name\":\"Seidel-Michael/meta-embedded-containers\",\"private\":false,\"owner\":{\"login\":\"Seidel-Michael\",\"id\":20338840,\"node_id\":\"MDQ6VXNlcjIwMzM4ODQw\",\"avatar_url\":\"https://avatars.githubusercontent.com/u/20338840?v=4\",\"gravatar_id\":\"\",\"url\":\"https://api.github.com/users/Seidel-Michael\",\"html_url\":\"https://github.com/Seidel-Michael\",\"followers_url\":\"https://api.github.com/users/Seidel-Michael/followers\",\"following_url\":\"https://api.github.com/users/Seidel-Michael/following{/other_user}\",\"gists_url\":\"https://api.github.com/users/Seidel-Michael/gists{/gist_id}\",\"starred_url\":\"https://api.github.com/users/Seidel-Michael/starred{/owner}{/repo}\",\"subscriptions_url\":\"https://api.github.com/users/Seidel-Michael/subscriptions\",\"organizations_url\":\"https://api.github.com/users/Seidel-Michael/orgs\",\"repos_url\":\"https://api.github.com/users/Seidel-Michael/repos\",\"events_url\":\"https://api.github.com/users/Seidel-Michael/events{/privacy}\",\"received_events_url\":\"https://api.github.com/users/Seidel-Michael/received_events\",\"type\":\"User\",\"site_admin\":false},\"html_url\":\"https://github.com/Seidel-Michael/meta-embedded-containers\",\"description\":\"Provide two approaches to embed Docker container(s) into a target root filesystem with Yocto. The Docker images will be pulled from an external Docker registry.\",\"fork\":true,\"url\":\"https://api.github.com/repos/Seidel-Michael/meta-embedded-containers\",\"forks_url\":\"https://api.github.com/repos/Seidel-Michael/meta-embedded-containers/forks\",\"keys_url\":\"https://api.github.com/repos/Seidel-Michael/meta-embedded-containers/keys{/key_id}\",\"collaborators_url\":\"https://api.github.com/repos/Seidel-Michael/meta-embedded-containers/collaborators{/collaborator}\",\"teams_url\":\"https://api.github.com/repos/Seidel-Michael/meta-embedded-containers/teams\",\"hooks_url\":\"https://api.github.com/repos/Seidel-Michael/meta-embedded-containers/hooks\",\"issue_events_url\":\"https://api.github.com/repos/Seidel-Michael/meta-embedded-containers/issues/events{/number}\",\"events_url\":\"https://api.github.com/repos/Seidel-Michael/meta-embedded-containers/events\",\"assignees_url\":\"https://api.github.com/repos/Seidel-Michael/meta-embedded-containers/assignees{/user}\",\"branches_url\":\"https://api.github.com/repos/Seidel-Michael/meta-embedded-containers/branches{/branch}\",\"tags_url\":\"https://api.github.com/repos/Seidel-Michael/meta-embedded-containers/tags\",\"blobs_url\":\"https://api.github.com/repos/Seidel-Michael/meta-embedded-containers/git/blobs{/sha}\",\"git_tags_url\":\"https://api.github.com/repos/Seidel-Michael/meta-embedded-containers/git/tags{/sha}\",\"git_refs_url\":\"https://api.github.com/repos/Seidel-Michael/meta-embedded-containers/git/refs{/sha}\",\"trees_url\":\"https://api.github.com/repos/Seidel-Michael/meta-embedded-containers/git/trees{/sha}\",\"statuses_url\":\"https://api.github.com/repos/Seidel-Michael/meta-embedded-containers/statuses/{sha}\",\"languages_url\":\"https://api.github.com/repos/Seidel-Michael/meta-embedded-containers/languages\",\"stargazers_url\":\"https://api.github.com/repos/Seidel-Michael/meta-embedded-containers/stargazers\",\"contributors_url\":\"https://api.github.com/repos/Seidel-Michael/meta-embedded-containers/contributors\",\"subscribers_url\":\"https://api.github.com/repos/Seidel-Michael/meta-embedded-containers/subscribers\",\"subscription_url\":\"https://api.github.com/repos/Seidel-Michael/meta-embedded-containers/subscription\",\"commits_url\":\"https://api.github.com/repos/Seidel-Michael/meta-embedded-containers/commits{/sha}\",\"git_commits_url\":\"https://api.github.com/repos/Seidel-Michael/meta-embedded-containers/git/commits{/sha}\",\"comments_url\":\"https://api.github.com/repos/Seidel-Michael/meta-embedded-containers/comments{/number}\",\"issue_comment_url\":\"https://api.github.com/repos/Seidel-Michael/meta-embedded-containers/issues/comments{/number}\",\"contents_url\":\"https://api.github.com/repos/Seidel-Michael/meta-embedded-containers/contents/{+path}\",\"compare_url\":\"https://api.github.com/repos/Seidel-Michael/meta-embedded-containers/compare/{base}...{head}\",\"merges_url\":\"https://api.github.com/repos/Seidel-Michael/meta-embedded-containers/merges\",\"archive_url\":\"https://api.github.com/repos/Seidel-Michael/meta-embedded-containers/{archive_format}{/ref}\",\"downloads_url\":\"https://api.github.com/repos/Seidel-Michael/meta-embedded-containers/downloads\",\"issues_url\":\"https://api.github.com/repos/Seidel-Michael/meta-embedded-containers/issues{/number}\",\"pulls_url\":\"https://api.github.com/repos/Seidel-Michael/meta-embedded-containers/pulls{/number}\",\"milestones_url\":\"https://api.github.com/repos/Seidel-Michael/meta-embedded-containers/milestones{/number}\",\"notifications_url\":\"https://api.github.com/repos/Seidel-Michael/meta-embedded-containers/notifications{?since,all,participating}\",\"labels_url\":\"https://api.github.com/repos/Seidel-Michael/meta-embedded-containers/labels{/name}\",\"releases_url\":\"https://api.github.com/repos/Seidel-Michael/meta-embedded-containers/releases{/id}\",\"deployments_url\":\"https://api.github.com/repos/Seidel-Michael/meta-embedded-containers/deployments\",\"created_at\":\"2021-02-08T07:27:03Z\",\"updated_at\":\"2021-02-08T07:27:05Z\",\"pushed_at\":\"2022-03-07T19:16:27Z\",\"git_url\":\"git://github.com/Seidel-Michael/meta-embedded-containers.git\",\"ssh_url\":\"git@github.com:Seidel-Michael/meta-embedded-containers.git\",\"clone_url\":\"https://github.com/Seidel-Michael/meta-embedded-containers.git\",\"svn_url\":\"https://github.com/Seidel-Michael/meta-embedded-containers\",\"homepage\":\"\",\"size\":71,\"stargazers_count\":0,\"watchers_count\":0,\"language\":null,\"has_issues\":false,\"has_projects\":true,\"has_downloads\":true,\"has_wiki\":true,\"has_pages\":false,\"forks_count\":0,\"mirror_url\":null,\"archived\":false,\"disabled\":false,\"open_issues_count\":0,\"license\":{\"key\":\"mit\",\"name\":\"MIT License\",\"spdx_id\":\"MIT\",\"url\":\"https://api.github.com/licenses/mit\",\"node_id\":\"MDc6TGljZW5zZTEz\"},\"allow_forking\":true,\"is_template\":false,\"topics\":[],\"visibility\":\"public\",\"forks\":0,\"open_issues\":0,\"watchers\":0,\"default_branch\":\"main\"}},\"base\":{\"label\":\"Seidel-Michael:zeus-next\",\"ref\":\"zeus-next\",\"sha\":\"2540682837f7fe0eec9e6f1b35d6d16bdaf3ac7f\",\"user\":{\"login\":\"Seidel-Michael\",\"id\":20338840,\"node_id\":\"MDQ6VXNlcjIwMzM4ODQw\",\"avatar_url\":\"https://avatars.githubusercontent.com/u/20338840?v=4\",\"gravatar_id\":\"\",\"url\":\"https://api.github.com/users/Seidel-Michael\",\"html_url\":\"https://github.com/Seidel-Michael\",\"followers_url\":\"https://api.github.com/users/Seidel-Michael/followers\",\"following_url\":\"https://api.github.com/users/Seidel-Michael/following{/other_user}\",\"gists_url\":\"https://api.github.com/users/Seidel-Michael/gists{/gist_id}\",\"starred_url\":\"https://api.github.com/users/Seidel-Michael/starred{/owner}{/repo}\",\"subscriptions_url\":\"https://api.github.com/users/Seidel-Michael/subscriptions\",\"organizations_url\":\"https://api.github.com/users/Seidel-Michael/orgs\",\"repos_url\":\"https://api.github.com/users/Seidel-Michael/repos\",\"events_url\":\"https://api.github.com/users/Seidel-Michael/events{/privacy}\",\"received_events_url\":\"https://api.github.com/users/Seidel-Michael/received_events\",\"type\":\"User\",\"site_admin\":false},\"repo\":{\"id\":336993118,\"node_id\":\"MDEwOlJlcG9zaXRvcnkzMzY5OTMxMTg=\",\"name\":\"meta-embedded-containers\",\"full_name\":\"Seidel-Michael/meta-embedded-containers\",\"private\":false,\"owner\":{\"login\":\"Seidel-Michael\",\"id\":20338840,\"node_id\":\"MDQ6VXNlcjIwMzM4ODQw\",\"avatar_url\":\"https://avatars.githubusercontent.com/u/20338840?v=4\",\"gravatar_id\":\"\",\"url\":\"https://api.github.com/users/Seidel-Michael\",\"html_url\":\"https://github.com/Seidel-Michael\",\"followers_url\":\"https://api.github.com/users/Seidel-Michael/followers\",\"following_url\":\"https://api.github.com/users/Seidel-Michael/following{/other_user}\",\"gists_url\":\"https://api.github.com/users/Seidel-Michael/gists{/gist_id}\",\"starred_url\":\"https://api.github.com/users/Seidel-Michael/starred{/owner}{/repo}\",\"subscriptions_url\":\"https://api.github.com/users/Seidel-Michael/subscriptions\",\"organizations_url\":\"https://api.github.com/users/Seidel-Michael/orgs\",\"repos_url\":\"https://api.github.com/users/Seidel-Michael/repos\",\"events_url\":\"https://api.github.com/users/Seidel-Michael/events{/privacy}\",\"received_events_url\":\"https://api.github.com/users/Seidel-Michael/received_events\",\"type\":\"User\",\"site_admin\":false},\"html_url\":\"https://github.com/Seidel-Michael/meta-embedded-containers\",\"description\":\"Provide two approaches to embed Docker container(s) into a target root filesystem with Yocto. The Docker images will be pulled from an external Docker registry.\",\"fork\":true,\"url\":\"https://api.github.com/repos/Seidel-Michael/meta-embedded-containers\",\"forks_url\":\"https://api.github.com/repos/Seidel-Michael/meta-embedded-containers/forks\",\"keys_url\":\"https://api.github.com/repos/Seidel-Michael/meta-embedded-containers/keys{/key_id}\",\"collaborators_url\":\"https://api.github.com/repos/Seidel-Michael/meta-embedded-containers/collaborators{/collaborator}\",\"teams_url\":\"https://api.github.com/repos/Seidel-Michael/meta-embedded-containers/teams\",\"hooks_url\":\"https://api.github.com/repos/Seidel-Michael/meta-embedded-containers/hooks\",\"issue_events_url\":\"https://api.github.com/repos/Seidel-Michael/meta-embedded-containers/issues/events{/number}\",\"events_url\":\"https://api.github.com/repos/Seidel-Michael/meta-embedded-containers/events\",\"assignees_url\":\"https://api.github.com/repos/Seidel-Michael/meta-embedded-containers/assignees{/user}\",\"branches_url\":\"https://api.github.com/repos/Seidel-Michael/meta-embedded-containers/branches{/branch}\",\"tags_url\":\"https://api.github.com/repos/Seidel-Michael/meta-embedded-containers/tags\",\"blobs_url\":\"https://api.github.com/repos/Seidel-Michael/meta-embedded-containers/git/blobs{/sha}\",\"git_tags_url\":\"https://api.github.com/repos/Seidel-Michael/meta-embedded-containers/git/tags{/sha}\",\"git_refs_url\":\"https://api.github.com/repos/Seidel-Michael/meta-embedded-containers/git/refs{/sha}\",\"trees_url\":\"https://api.github.com/repos/Seidel-Michael/meta-embedded-containers/git/trees{/sha}\",\"statuses_url\":\"https://api.github.com/repos/Seidel-Michael/meta-embedded-containers/statuses/{sha}\",\"languages_url\":\"https://api.github.com/repos/Seidel-Michael/meta-embedded-containers/languages\",\"stargazers_url\":\"https://api.github.com/repos/Seidel-Michael/meta-embedded-containers/stargazers\",\"contributors_url\":\"https://api.github.com/repos/Seidel-Michael/meta-embedded-containers/contributors\",\"subscribers_url\":\"https://api.github.com/repos/Seidel-Michael/meta-embedded-containers/subscribers\",\"subscription_url\":\"https://api.github.com/repos/Seidel-Michael/meta-embedded-containers/subscription\",\"commits_url\":\"https://api.github.com/repos/Seidel-Michael/meta-embedded-containers/commits{/sha}\",\"git_commits_url\":\"https://api.github.com/repos/Seidel-Michael/meta-embedded-containers/git/commits{/sha}\",\"comments_url\":\"https://api.github.com/repos/Seidel-Michael/meta-embedded-containers/comments{/number}\",\"issue_comment_url\":\"https://api.github.com/repos/Seidel-Michael/meta-embedded-containers/issues/comments{/number}\",\"contents_url\":\"https://api.github.com/repos/Seidel-Michael/meta-embedded-containers/contents/{+path}\",\"compare_url\":\"https://api.github.com/repos/Seidel-Michael/meta-embedded-containers/compare/{base}...{head}\",\"merges_url\":\"https://api.github.com/repos/Seidel-Michael/meta-embedded-containers/merges\",\"archive_url\":\"https://api.github.com/repos/Seidel-Michael/meta-embedded-containers/{archive_format}{/ref}\",\"downloads_url\":\"https://api.github.com/repos/Seidel-Michael/meta-embedded-containers/downloads\",\"issues_url\":\"https://api.github.com/repos/Seidel-Michael/meta-embedded-containers/issues{/number}\",\"pulls_url\":\"https://api.github.com/repos/Seidel-Michael/meta-embedded-containers/pulls{/number}\",\"milestones_url\":\"https://api.github.com/repos/Seidel-Michael/meta-embedded-containers/milestones{/number}\",\"notifications_url\":\"https://api.github.com/repos/Seidel-Michael/meta-embedded-containers/notifications{?since,all,participating}\",\"labels_url\":\"https://api.github.com/repos/Seidel-Michael/meta-embedded-containers/labels{/name}\",\"releases_url\":\"https://api.github.com/repos/Seidel-Michael/meta-embedded-containers/releases{/id}\",\"deployments_url\":\"https://api.github.com/repos/Seidel-Michael/meta-embedded-containers/deployments\",\"created_at\":\"2021-02-08T07:27:03Z\",\"updated_at\":\"2021-02-08T07:27:05Z\",\"pushed_at\":\"2022-03-07T19:16:27Z\",\"git_url\":\"git://github.com/Seidel-Michael/meta-embedded-containers.git\",\"ssh_url\":\"git@github.com:Seidel-Michael/meta-embedded-containers.git\",\"clone_url\":\"https://github.com/Seidel-Michael/meta-embedded-containers.git\",\"svn_url\":\"https://github.com/Seidel-Michael/meta-embedded-containers\",\"homepage\":\"\",\"size\":71,\"stargazers_count\":0,\"watchers_count\":0,\"language\":null,\"has_issues\":false,\"has_projects\":true,\"has_downloads\":true,\"has_wiki\":true,\"has_pages\":false,\"forks_count\":0,\"mirror_url\":null,\"archived\":false,\"disabled\":false,\"open_issues_count\":0,\"license\":{\"key\":\"mit\",\"name\":\"MIT License\",\"spdx_id\":\"MIT\",\"url\":\"https://api.github.com/licenses/mit\",\"node_id\":\"MDc6TGljZW5zZTEz\"},\"allow_forking\":true,\"is_template\":false,\"topics\":[],\"visibility\":\"public\",\"forks\":0,\"open_issues\":0,\"watchers\":0,\"default_branch\":\"main\"}},\"_links\":{\"self\":{\"href\":\"https://api.github.com/repos/Seidel-Michael/meta-embedded-containers/pulls/4\"},\"html\":{\"href\":\"https://github.com/Seidel-Michael/meta-embedded-containers/pull/4\"},\"issue\":{\"href\":\"https://api.github.com/repos/Seidel-Michael/meta-embedded-containers/issues/4\"},\"comments\":{\"href\":\"https://api.github.com/repos/Seidel-Michael/meta-embedded-containers/issues/4/comments\"},\"review_comments\":{\"href\":\"https://api.github.com/repos/Seidel-Michael/meta-embedded-containers/pulls/4/comments\"},\"review_comment\":{\"href\":\"https://api.github.com/repos/Seidel-Michael/meta-embedded-containers/pulls/comments{/number}\"},\"commits\":{\"href\":\"https://api.github.com/repos/Seidel-Michael/meta-embedded-containers/pulls/4/commits\"},\"statuses\":{\"href\":\"https://api.github.com/repos/Seidel-Michael/meta-embedded-containers/statuses/88122cd99959cb4cab903ccc419efe35f0b9c16f\"}},\"author_association\":\"OWNER\",\"auto_merge\":null,\"active_lock_reason\":null,\"merged\":true,\"mergeable\":null,\"rebaseable\":null,\"mergeable_state\":\"unknown\",\"merged_by\":{\"login\":\"Seidel-Michael\",\"id\":20338840,\"node_id\":\"MDQ6VXNlcjIwMzM4ODQw\",\"avatar_url\":\"https://avatars.githubusercontent.com/u/20338840?v=4\",\"gravatar_id\":\"\",\"url\":\"https://api.github.com/users/Seidel-Michael\",\"html_url\":\"https://github.com/Seidel-Michael\",\"followers_url\":\"https://api.github.com/users/Seidel-Michael/followers\",\"following_url\":\"https://api.github.com/users/Seidel-Michael/following{/other_user}\",\"gists_url\":\"https://api.github.com/users/Seidel-Michael/gists{/gist_id}\",\"starred_url\":\"https://api.github.com/users/Seidel-Michael/starred{/owner}{/repo}\",\"subscriptions_url\":\"https://api.github.com/users/Seidel-Michael/subscriptions\",\"organizations_url\":\"https://api.github.com/users/Seidel-Michael/orgs\",\"repos_url\":\"https://api.github.com/users/Seidel-Michael/repos\",\"events_url\":\"https://api.github.com/users/Seidel-Michael/events{/privacy}\",\"received_events_url\":\"https://api.github.com/users/Seidel-Michael/received_events\",\"type\":\"User\",\"site_admin\":false},\"comments\":0,\"review_comments\":0,\"maintainer_can_modify\":false,\"commits\":18,\"additions\":106,\"deletions\":156,\"changed_files\":6}},\"public\":true,\"created_at\":\"2022-03-07T19:16:28Z\"},{\"id\":\"20622920735\",\"type\":\"PullRequestEvent\",\"actor\":{\"id\":49699333,\"login\":\"dependabot[bot]\",\"display_login\":\"dependabot\",\"gravatar_id\":\"\",\"url\":\"https://api.github.com/users/dependabot[bot]\",\"avatar_url\":\"https://avatars.githubusercontent.com/u/49699333?\"},\"repo\":{\"id\":165747371,\"name\":\"openshift/ocp-release-operator-sdk\",\"url\":\"https://api.github.com/repos/openshift/ocp-release-operator-sdk\"},\"payload\":{\"action\":\"closed\",\"number\":213,\"pull_request\":{\"url\":\"https://api.github.com/repos/openshift/ocp-release-operator-sdk/pulls/213\",\"id\":861740250,\"node_id\":\"PR_kwDOCeEaq84zXRza\",\"html_url\":\"https://github.com/openshift/ocp-release-operator-sdk/pull/213\",\"diff_url\":\"https://github.com/openshift/ocp-release-operator-sdk/pull/213.diff\",\"patch_url\":\"https://github.com/openshift/ocp-release-operator-sdk/pull/213.patch\",\"issue_url\":\"https://api.github.com/repos/openshift/ocp-release-operator-sdk/issues/213\",\"number\":213,\"state\":\"closed\",\"locked\":false,\"title\":\"Bump golang from 1.16 to 1.17.7 in /images/custom-scorecard-tests\",\"user\":{\"login\":\"dependabot[bot]\",\"id\":49699333,\"node_id\":\"MDM6Qm90NDk2OTkzMzM=\",\"avatar_url\":\"https://avatars.githubusercontent.com/in/29110?v=4\",\"gravatar_id\":\"\",\"url\":\"https://api.github.com/users/dependabot%5Bbot%5D\",\"html_url\":\"https://github.com/apps/dependabot\",\"followers_url\":\"https://api.github.com/users/dependabot%5Bbot%5D/followers\",\"following_url\":\"https://api.github.com/users/dependabot%5Bbot%5D/following{/other_user}\",\"gists_url\":\"https://api.github.com/users/dependabot%5Bbot%5D/gists{/gist_id}\",\"starred_url\":\"https://api.github.com/users/dependabot%5Bbot%5D/starred{/owner}{/repo}\",\"subscriptions_url\":\"https://api.github.com/users/dependabot%5Bbot%5D/subscriptions\",\"organizations_url\":\"https://api.github.com/users/dependabot%5Bbot%5D/orgs\",\"repos_url\":\"https://api.github.com/users/dependabot%5Bbot%5D/repos\",\"events_url\":\"https://api.github.com/users/dependabot%5Bbot%5D/events{/privacy}\",\"received_events_url\":\"https://api.github.com/users/dependabot%5Bbot%5D/received_events\",\"type\":\"Bot\",\"site_admin\":false},\"body\":\"Bumps golang from 1.16 to 1.17.7.\\\\n\\\\n\\\\n[![Dependabot compatibility score](https://dependabot-badges.githubapp.com/badges/compatibility_score?dependency-name=golang&package-manager=docker&previous-version=1.16&new-version=1.17.7)](https://docs.github.com/en/github/managing-security-vulnerabilities/about-dependabot-security-updates#about-compatibility-scores)\\\\n\\\\nDependabot will resolve any conflicts with this PR as long as you don\\'t alter it yourself. You can also trigger a rebase manually by commenting `@dependabot rebase`.\\\\n\\\\n[//]: # (dependabot-automerge-start)\\\\n[//]: # (dependabot-automerge-end)\\\\n\\\\n---\\\\n\\\\n<details>\\\\n<summary>Dependabot commands and options</summary>\\\\n<br />\\\\n\\\\nYou can trigger Dependabot actions by commenting on this PR:\\\\n- `@dependabot rebase` will rebase this PR\\\\n- `@dependabot recreate` will recreate this PR, overwriting any edits that have been made to it\\\\n- `@dependabot merge` will merge this PR after your CI passes on it\\\\n- `@dependabot squash and merge` will squash and merge this PR after your CI passes on it\\\\n- `@dependabot cancel merge` will cancel a previously requested merge and block automerging\\\\n- `@dependabot reopen` will reopen this PR if it is closed\\\\n- `@dependabot close` will close this PR and stop Dependabot recreating it. You can achieve the same result by closing it manually\\\\n- `@dependabot ignore this major version` will close this PR and stop Dependabot creating any more for this major version (unless you reopen the PR or upgrade to it yourself)\\\\n- `@dependabot ignore this minor version` will close this PR and stop Dependabot creating any more for this minor version (unless you reopen the PR or upgrade to it yourself)\\\\n- `@dependabot ignore this dependency` will close this PR and stop Dependabot creating any more for this dependency (unless you reopen the PR or upgrade to it yourself)\\\\n\\\\n\\\\n</details>\",\"created_at\":\"2022-02-23T19:11:21Z\",\"updated_at\":\"2022-03-07T19:16:27Z\",\"closed_at\":\"2022-03-07T19:16:27Z\",\"merged_at\":null,\"merge_commit_sha\":\"30c8c8278f7e3b05561ff48ed59fb16319e6e160\",\"assignee\":null,\"assignees\":[],\"requested_reviewers\":[{\"login\":\"fabianvf\",\"id\":2431974,\"node_id\":\"MDQ6VXNlcjI0MzE5NzQ=\",\"avatar_url\":\"https://avatars.githubusercontent.com/u/2431974?v=4\",\"gravatar_id\":\"\",\"url\":\"https://api.github.com/users/fabianvf\",\"html_url\":\"https://github.com/fabianvf\",\"followers_url\":\"https://api.github.com/users/fabianvf/followers\",\"following_url\":\"https://api.github.com/users/fabianvf/following{/other_user}\",\"gists_url\":\"https://api.github.com/users/fabianvf/gists{/gist_id}\",\"starred_url\":\"https://api.github.com/users/fabianvf/starred{/owner}{/repo}\",\"subscriptions_url\":\"https://api.github.com/users/fabianvf/subscriptions\",\"organizations_url\":\"https://api.github.com/users/fabianvf/orgs\",\"repos_url\":\"https://api.github.com/users/fabianvf/repos\",\"events_url\":\"https://api.github.com/users/fabianvf/events{/privacy}\",\"received_events_url\":\"https://api.github.com/users/fabianvf/received_events\",\"type\":\"User\",\"site_admin\":false},{\"login\":\"theishshah\",\"id\":6820886,\"node_id\":\"MDQ6VXNlcjY4MjA4ODY=\",\"avatar_url\":\"https://avatars.githubusercontent.com/u/6820886?v=4\",\"gravatar_id\":\"\",\"url\":\"https://api.github.com/users/theishshah\",\"html_url\":\"https://github.com/theishshah\",\"followers_url\":\"https://api.github.com/users/theishshah/followers\",\"following_url\":\"https://api.github.com/users/theishshah/following{/other_user}\",\"gists_url\":\"https://api.github.com/users/theishshah/gists{/gist_id}\",\"starred_url\":\"https://api.github.com/users/theishshah/starred{/owner}{/repo}\",\"subscriptions_url\":\"https://api.github.com/users/theishshah/subscriptions\",\"organizations_url\":\"https://api.github.com/users/theishshah/orgs\",\"repos_url\":\"https://api.github.com/users/theishshah/repos\",\"events_url\":\"https://api.github.com/users/theishshah/events{/privacy}\",\"received_events_url\":\"https://api.github.com/users/theishshah/received_events\",\"type\":\"User\",\"site_admin\":false}],\"requested_teams\":[],\"labels\":[{\"id\":1194836485,\"node_id\":\"MDU6TGFiZWwxMTk0ODM2NDg1\",\"url\":\"https://api.github.com/repos/openshift/ocp-release-operator-sdk/labels/needs-ok-to-test\",\"name\":\"needs-ok-to-test\",\"color\":\"b60205\",\"default\":false,\"description\":\"Indicates a PR that requires an org member to verify it is safe to test.\"},{\"id\":3033804363,\"node_id\":\"MDU6TGFiZWwzMDMzODA0MzYz\",\"url\":\"https://api.github.com/repos/openshift/ocp-release-operator-sdk/labels/dependencies\",\"name\":\"dependencies\",\"color\":\"0366d6\",\"default\":false,\"description\":\"Pull requests that update a dependency file\"}],\"milestone\":null,\"draft\":false,\"commits_url\":\"https://api.github.com/repos/openshift/ocp-release-operator-sdk/pulls/213/commits\",\"review_comments_url\":\"https://api.github.com/repos/openshift/ocp-release-operator-sdk/pulls/213/comments\",\"review_comment_url\":\"https://api.github.com/repos/openshift/ocp-release-operator-sdk/pulls/comments{/number}\",\"comments_url\":\"https://api.github.com/repos/openshift/ocp-release-operator-sdk/issues/213/comments\",\"statuses_url\":\"https://api.github.com/repos/openshift/ocp-release-operator-sdk/statuses/1975e925ece30da28e91135af8ad68fd53e465e2\",\"head\":{\"label\":\"openshift:dependabot/docker/images/custom-scorecard-tests/golang-1.17.7\",\"ref\":\"dependabot/docker/images/custom-scorecard-tests/golang-1.17.7\",\"sha\":\"1975e925ece30da28e91135af8ad68fd53e465e2\",\"user\":{\"login\":\"openshift\",\"id\":792337,\"node_id\":\"MDEyOk9yZ2FuaXphdGlvbjc5MjMzNw==\",\"avatar_url\":\"https://avatars.githubusercontent.com/u/792337?v=4\",\"gravatar_id\":\"\",\"url\":\"https://api.github.com/users/openshift\",\"html_url\":\"https://github.com/openshift\",\"followers_url\":\"https://api.github.com/users/openshift/followers\",\"following_url\":\"https://api.github.com/users/openshift/following{/other_user}\",\"gists_url\":\"https://api.github.com/users/openshift/gists{/gist_id}\",\"starred_url\":\"https://api.github.com/users/openshift/starred{/owner}{/repo}\",\"subscriptions_url\":\"https://api.github.com/users/openshift/subscriptions\",\"organizations_url\":\"https://api.github.com/users/openshift/orgs\",\"repos_url\":\"https://api.github.com/users/openshift/repos\",\"events_url\":\"https://api.github.com/users/openshift/events{/privacy}\",\"received_events_url\":\"https://api.github.com/users/openshift/received_events\",\"type\":\"Organization\",\"site_admin\":false},\"repo\":{\"id\":165747371,\"node_id\":\"MDEwOlJlcG9zaXRvcnkxNjU3NDczNzE=\",\"name\":\"ocp-release-operator-sdk\",\"full_name\":\"openshift/ocp-release-operator-sdk\",\"private\":false,\"owner\":{\"login\":\"openshift\",\"id\":792337,\"node_id\":\"MDEyOk9yZ2FuaXphdGlvbjc5MjMzNw==\",\"avatar_url\":\"https://avatars.githubusercontent.com/u/792337?v=4\",\"gravatar_id\":\"\",\"url\":\"https://api.github.com/users/openshift\",\"html_url\":\"https://github.com/openshift\",\"followers_url\":\"https://api.github.com/users/openshift/followers\",\"following_url\":\"https://api.github.com/users/openshift/following{/other_user}\",\"gists_url\":\"https://api.github.com/users/openshift/gists{/gist_id}\",\"starred_url\":\"https://api.github.com/users/openshift/starred{/owner}{/repo}\",\"subscriptions_url\":\"https://api.github.com/users/openshift/subscriptions\",\"organizations_url\":\"https://api.github.com/users/openshift/orgs\",\"repos_url\":\"https://api.github.com/users/openshift/repos\",\"events_url\":\"https://api.github.com/users/openshift/events{/privacy}\",\"received_events_url\":\"https://api.github.com/users/openshift/received_events\",\"type\":\"Organization\",\"site_admin\":false},\"html_url\":\"https://github.com/openshift/ocp-release-operator-sdk\",\"description\":null,\"fork\":false,\"url\":\"https://api.github.com/repos/openshift/ocp-release-operator-sdk\",\"forks_url\":\"https://api.github.com/repos/openshift/ocp-release-operator-sdk/forks\",\"keys_url\":\"https://api.github.com/repos/openshift/ocp-release-operator-sdk/keys{/key_id}\",\"collaborators_url\":\"https://api.github.com/repos/openshift/ocp-release-operator-sdk/collaborators{/collaborator}\",\"teams_url\":\"https://api.github.com/repos/openshift/ocp-release-operator-sdk/teams\",\"hooks_url\":\"https://api.github.com/repos/openshift/ocp-release-operator-sdk/hooks\",\"issue_events_url\":\"https://api.github.com/repos/openshift/ocp-release-operator-sdk/issues/events{/number}\",\"events_url\":\"https://api.github.com/repos/openshift/ocp-release-operator-sdk/events\",\"assignees_url\":\"https://api.github.com/repos/openshift/ocp-release-operator-sdk/assignees{/user}\",\"branches_url\":\"https://api.github.com/repos/openshift/ocp-release-operator-sdk/branches{/branch}\",\"tags_url\":\"https://api.github.com/repos/openshift/ocp-release-operator-sdk/tags\",\"blobs_url\":\"https://api.github.com/repos/openshift/ocp-release-operator-sdk/git/blobs{/sha}\",\"git_tags_url\":\"https://api.github.com/repos/openshift/ocp-release-operator-sdk/git/tags{/sha}\",\"git_refs_url\":\"https://api.github.com/repos/openshift/ocp-release-operator-sdk/git/refs{/sha}\",\"trees_url\":\"https://api.github.com/repos/openshift/ocp-release-operator-sdk/git/trees{/sha}\",\"statuses_url\":\"https://api.github.com/repos/openshift/ocp-release-operator-sdk/statuses/{sha}\",\"languages_url\":\"https://api.github.com/repos/openshift/ocp-release-operator-sdk/languages\",\"stargazers_url\":\"https://api.github.com/repos/openshift/ocp-release-operator-sdk/stargazers\",\"contributors_url\":\"https://api.github.com/repos/openshift/ocp-release-operator-sdk/contributors\",\"subscribers_url\":\"https://api.github.com/repos/openshift/ocp-release-operator-sdk/subscribers\",\"subscription_url\":\"https://api.github.com/repos/openshift/ocp-release-operator-sdk/subscription\",\"commits_url\":\"https://api.github.com/repos/openshift/ocp-release-operator-sdk/commits{/sha}\",\"git_commits_url\":\"https://api.github.com/repos/openshift/ocp-release-operator-sdk/git/commits{/sha}\",\"comments_url\":\"https://api.github.com/repos/openshift/ocp-release-operator-sdk/comments{/number}\",\"issue_comment_url\":\"https://api.github.com/repos/openshift/ocp-release-operator-sdk/issues/comments{/number}\",\"contents_url\":\"https://api.github.com/repos/openshift/ocp-release-operator-sdk/contents/{+path}\",\"compare_url\":\"https://api.github.com/repos/openshift/ocp-release-operator-sdk/compare/{base}...{head}\",\"merges_url\":\"https://api.github.com/repos/openshift/ocp-release-operator-sdk/merges\",\"archive_url\":\"https://api.github.com/repos/openshift/ocp-release-operator-sdk/{archive_format}{/ref}\",\"downloads_url\":\"https://api.github.com/repos/openshift/ocp-release-operator-sdk/downloads\",\"issues_url\":\"https://api.github.com/repos/openshift/ocp-release-operator-sdk/issues{/number}\",\"pulls_url\":\"https://api.github.com/repos/openshift/ocp-release-operator-sdk/pulls{/number}\",\"milestones_url\":\"https://api.github.com/repos/openshift/ocp-release-operator-sdk/milestones{/number}\",\"notifications_url\":\"https://api.github.com/repos/openshift/ocp-release-operator-sdk/notifications{?since,all,participating}\",\"labels_url\":\"https://api.github.com/repos/openshift/ocp-release-operator-sdk/labels{/name}\",\"releases_url\":\"https://api.github.com/repos/openshift/ocp-release-operator-sdk/releases{/id}\",\"deployments_url\":\"https://api.github.com/repos/openshift/ocp-release-operator-sdk/deployments\",\"created_at\":\"2019-01-14T22:46:46Z\",\"updated_at\":\"2022-03-03T07:43:58Z\",\"pushed_at\":\"2022-03-07T19:16:26Z\",\"git_url\":\"git://github.com/openshift/ocp-release-operator-sdk.git\",\"ssh_url\":\"git@github.com:openshift/ocp-release-operator-sdk.git\",\"clone_url\":\"https://github.com/openshift/ocp-release-operator-sdk.git\",\"svn_url\":\"https://github.com/openshift/ocp-release-operator-sdk\",\"homepage\":null,\"size\":89526,\"stargazers_count\":7,\"watchers_count\":7,\"language\":\"Go\",\"has_issues\":true,\"has_projects\":true,\"has_downloads\":true,\"has_wiki\":false,\"has_pages\":false,\"forks_count\":24,\"mirror_url\":null,\"archived\":false,\"disabled\":false,\"open_issues_count\":14,\"license\":{\"key\":\"apache-2.0\",\"name\":\"Apache License 2.0\",\"spdx_id\":\"Apache-2.0\",\"url\":\"https://api.github.com/licenses/apache-2.0\",\"node_id\":\"MDc6TGljZW5zZTI=\"},\"allow_forking\":true,\"is_template\":false,\"topics\":[],\"visibility\":\"public\",\"forks\":24,\"open_issues\":14,\"watchers\":7,\"default_branch\":\"master\"}},\"base\":{\"label\":\"openshift:master\",\"ref\":\"master\",\"sha\":\"118b8cea53638d2d8f096c72b64e5b7fdabefd9f\",\"user\":{\"login\":\"openshift\",\"id\":792337,\"node_id\":\"MDEyOk9yZ2FuaXphdGlvbjc5MjMzNw==\",\"avatar_url\":\"https://avatars.githubusercontent.com/u/792337?v=4\",\"gravatar_id\":\"\",\"url\":\"https://api.github.com/users/openshift\",\"html_url\":\"https://github.com/openshift\",\"followers_url\":\"https://api.github.com/users/openshift/followers\",\"following_url\":\"https://api.github.com/users/openshift/following{/other_user}\",\"gists_url\":\"https://api.github.com/users/openshift/gists{/gist_id}\",\"starred_url\":\"https://api.github.com/users/openshift/starred{/owner}{/repo}\",\"subscriptions_url\":\"https://api.github.com/users/openshift/subscriptions\",\"organizations_url\":\"https://api.github.com/users/openshift/orgs\",\"repos_url\":\"https://api.github.com/users/openshift/repos\",\"events_url\":\"https://api.github.com/users/openshift/events{/privacy}\",\"received_events_url\":\"https://api.github.com/users/openshift/received_events\",\"type\":\"Organization\",\"site_admin\":false},\"repo\":{\"id\":165747371,\"node_id\":\"MDEwOlJlcG9zaXRvcnkxNjU3NDczNzE=\",\"name\":\"ocp-release-operator-sdk\",\"full_name\":\"openshift/ocp-release-operator-sdk\",\"private\":false,\"owner\":{\"login\":\"openshift\",\"id\":792337,\"node_id\":\"MDEyOk9yZ2FuaXphdGlvbjc5MjMzNw==\",\"avatar_url\":\"https://avatars.githubusercontent.com/u/792337?v=4\",\"gravatar_id\":\"\",\"url\":\"https://api.github.com/users/openshift\",\"html_url\":\"https://github.com/openshift\",\"followers_url\":\"https://api.github.com/users/openshift/followers\",\"following_url\":\"https://api.github.com/users/openshift/following{/other_user}\",\"gists_url\":\"https://api.github.com/users/openshift/gists{/gist_id}\",\"starred_url\":\"https://api.github.com/users/openshift/starred{/owner}{/repo}\",\"subscriptions_url\":\"https://api.github.com/users/openshift/subscriptions\",\"organizations_url\":\"https://api.github.com/users/openshift/orgs\",\"repos_url\":\"https://api.github.com/users/openshift/repos\",\"events_url\":\"https://api.github.com/users/openshift/events{/privacy}\",\"received_events_url\":\"https://api.github.com/users/openshift/received_events\",\"type\":\"Organization\",\"site_admin\":false},\"html_url\":\"https://github.com/openshift/ocp-release-operator-sdk\",\"description\":null,\"fork\":false,\"url\":\"https://api.github.com/repos/openshift/ocp-release-operator-sdk\",\"forks_url\":\"https://api.github.com/repos/openshift/ocp-release-operator-sdk/forks\",\"keys_url\":\"https://api.github.com/repos/openshift/ocp-release-operator-sdk/keys{/key_id}\",\"collaborators_url\":\"https://api.github.com/repos/openshift/ocp-release-operator-sdk/collaborators{/collaborator}\",\"teams_url\":\"https://api.github.com/repos/openshift/ocp-release-operator-sdk/teams\",\"hooks_url\":\"https://api.github.com/repos/openshift/ocp-release-operator-sdk/hooks\",\"issue_events_url\":\"https://api.github.com/repos/openshift/ocp-release-operator-sdk/issues/events{/number}\",\"events_url\":\"https://api.github.com/repos/openshift/ocp-release-operator-sdk/events\",\"assignees_url\":\"https://api.github.com/repos/openshift/ocp-release-operator-sdk/assignees{/user}\",\"branches_url\":\"https://api.github.com/repos/openshift/ocp-release-operator-sdk/branches{/branch}\",\"tags_url\":\"https://api.github.com/repos/openshift/ocp-release-operator-sdk/tags\",\"blobs_url\":\"https://api.github.com/repos/openshift/ocp-release-operator-sdk/git/blobs{/sha}\",\"git_tags_url\":\"https://api.github.com/repos/openshift/ocp-release-operator-sdk/git/tags{/sha}\",\"git_refs_url\":\"https://api.github.com/repos/openshift/ocp-release-operator-sdk/git/refs{/sha}\",\"trees_url\":\"https://api.github.com/repos/openshift/ocp-release-operator-sdk/git/trees{/sha}\",\"statuses_url\":\"https://api.github.com/repos/openshift/ocp-release-operator-sdk/statuses/{sha}\",\"languages_url\":\"https://api.github.com/repos/openshift/ocp-release-operator-sdk/languages\",\"stargazers_url\":\"https://api.github.com/repos/openshift/ocp-release-operator-sdk/stargazers\",\"contributors_url\":\"https://api.github.com/repos/openshift/ocp-release-operator-sdk/contributors\",\"subscribers_url\":\"https://api.github.com/repos/openshift/ocp-release-operator-sdk/subscribers\",\"subscription_url\":\"https://api.github.com/repos/openshift/ocp-release-operator-sdk/subscription\",\"commits_url\":\"https://api.github.com/repos/openshift/ocp-release-operator-sdk/commits{/sha}\",\"git_commits_url\":\"https://api.github.com/repos/openshift/ocp-release-operator-sdk/git/commits{/sha}\",\"comments_url\":\"https://api.github.com/repos/openshift/ocp-release-operator-sdk/comments{/number}\",\"issue_comment_url\":\"https://api.github.com/repos/openshift/ocp-release-operator-sdk/issues/comments{/number}\",\"contents_url\":\"https://api.github.com/repos/openshift/ocp-release-operator-sdk/contents/{+path}\",\"compare_url\":\"https://api.github.com/repos/openshift/ocp-release-operator-sdk/compare/{base}...{head}\",\"merges_url\":\"https://api.github.com/repos/openshift/ocp-release-operator-sdk/merges\",\"archive_url\":\"https://api.github.com/repos/openshift/ocp-release-operator-sdk/{archive_format}{/ref}\",\"downloads_url\":\"https://api.github.com/repos/openshift/ocp-release-operator-sdk/downloads\",\"issues_url\":\"https://api.github.com/repos/openshift/ocp-release-operator-sdk/issues{/number}\",\"pulls_url\":\"https://api.github.com/repos/openshift/ocp-release-operator-sdk/pulls{/number}\",\"milestones_url\":\"https://api.github.com/repos/openshift/ocp-release-operator-sdk/milestones{/number}\",\"notifications_url\":\"https://api.github.com/repos/openshift/ocp-release-operator-sdk/notifications{?since,all,participating}\",\"labels_url\":\"https://api.github.com/repos/openshift/ocp-release-operator-sdk/labels{/name}\",\"releases_url\":\"https://api.github.com/repos/openshift/ocp-release-operator-sdk/releases{/id}\",\"deployments_url\":\"https://api.github.com/repos/openshift/ocp-release-operator-sdk/deployments\",\"created_at\":\"2019-01-14T22:46:46Z\",\"updated_at\":\"2022-03-03T07:43:58Z\",\"pushed_at\":\"2022-03-07T19:16:26Z\",\"git_url\":\"git://github.com/openshift/ocp-release-operator-sdk.git\",\"ssh_url\":\"git@github.com:openshift/ocp-release-operator-sdk.git\",\"clone_url\":\"https://github.com/openshift/ocp-release-operator-sdk.git\",\"svn_url\":\"https://github.com/openshift/ocp-release-operator-sdk\",\"homepage\":null,\"size\":89526,\"stargazers_count\":7,\"watchers_count\":7,\"language\":\"Go\",\"has_issues\":true,\"has_projects\":true,\"has_downloads\":true,\"has_wiki\":false,\"has_pages\":false,\"forks_count\":24,\"mirror_url\":null,\"archived\":false,\"disabled\":false,\"open_issues_count\":14,\"license\":{\"key\":\"apache-2.0\",\"name\":\"Apache License 2.0\",\"spdx_id\":\"Apache-2.0\",\"url\":\"https://api.github.com/licenses/apache-2.0\",\"node_id\":\"MDc6TGljZW5zZTI=\"},\"allow_forking\":true,\"is_template\":false,\"topics\":[],\"visibility\":\"public\",\"forks\":24,\"open_issues\":14,\"watchers\":7,\"default_branch\":\"master\"}},\"_links\":{\"self\":{\"href\":\"https://api.github.com/repos/openshift/ocp-release-operator-sdk/pulls/213\"},\"html\":{\"href\":\"https://github.com/openshift/ocp-release-operator-sdk/pull/213\"},\"issue\":{\"href\":\"https://api.github.com/repos/openshift/ocp-release-operator-sdk/issues/213\"},\"comments\":{\"href\":\"https://api.github.com/repos/openshift/ocp-release-operator-sdk/issues/213/comments\"},\"review_comments\":{\"href\":\"https://api.github.com/repos/openshift/ocp-release-operator-sdk/pulls/213/comments\"},\"review_comment\":{\"href\":\"https://api.github.com/repos/openshift/ocp-release-operator-sdk/pulls/comments{/number}\"},\"commits\":{\"href\":\"https://api.github.com/repos/openshift/ocp-release-operator-sdk/pulls/213/commits\"},\"statuses\":{\"href\":\"https://api.github.com/repos/openshift/ocp-release-operator-sdk/statuses/1975e925ece30da28e91135af8ad68fd53e465e2\"}},\"author_association\":\"CONTRIBUTOR\",\"auto_merge\":null,\"active_lock_reason\":null,\"merged\":false,\"mergeable\":true,\"rebaseable\":true,\"mergeable_state\":\"unstable\",\"merged_by\":null,\"comments\":3,\"review_comments\":0,\"maintainer_can_modify\":false,\"commits\":1,\"additions\":1,\"deletions\":1,\"changed_files\":1}},\"public\":true,\"created_at\":\"2022-03-07T19:16:28Z\",\"org\":{\"id\":792337,\"login\":\"openshift\",\"gravatar_id\":\"\",\"url\":\"https://api.github.com/orgs/openshift\",\"avatar_url\":\"https://avatars.githubusercontent.com/u/792337?\"}},{\"id\":\"20622920958\",\"type\":\"DeleteEvent\",\"actor\":{\"id\":49699333,\"login\":\"dependabot[bot]\",\"display_login\":\"dependabot\",\"gravatar_id\":\"\",\"url\":\"https://api.github.com/users/dependabot[bot]\",\"avatar_url\":\"https://avatars.githubusercontent.com/u/49699333?\"},\"repo\":{\"id\":165747371,\"name\":\"openshift/ocp-release-operator-sdk\",\"url\":\"https://api.github.com/repos/openshift/ocp-release-operator-sdk\"},\"payload\":{\"ref\":\"dependabot/docker/images/scorecard-test-kuttl/golang-1.17.7\",\"ref_type\":\"branch\",\"pusher_type\":\"user\"},\"public\":true,\"created_at\":\"2022-03-07T19:16:29Z\",\"org\":{\"id\":792337,\"login\":\"openshift\",\"gravatar_id\":\"\",\"url\":\"https://api.github.com/orgs/openshift\",\"avatar_url\":\"https://avatars.githubusercontent.com/u/792337?\"}},{\"id\":\"20622921283\",\"type\":\"PushEvent\",\"actor\":{\"id\":20404730,\"login\":\"clrpackages\",\"display_login\":\"clrpackages\",\"gravatar_id\":\"\",\"url\":\"https://api.github.com/users/clrpackages\",\"avatar_url\":\"https://avatars.githubusercontent.com/u/20404730?\"},\"repo\":{\"id\":449008053,\"name\":\"clearlinux-pkgs/pypi-mkdocs_material\",\"url\":\"https://api.github.com/repos/clearlinux-pkgs/pypi-mkdocs_material\"},\"payload\":{\"push_id\":9287791412,\"size\":1,\"distinct_size\":1,\"ref\":\"refs/heads/master\",\"head\":\"2c5cd594b3923da34673928758e5c3543b98505c\",\"before\":\"566eba49649d0622766e53388f64c22c55236af5\",\"commits\":[{\"sha\":\"2c5cd594b3923da34673928758e5c3543b98505c\",\"author\":{\"email\":\"arjan.van.de.ven@intel.com\",\"name\":\"Arjan van de Ven\"},\"message\":\"pypi-mkdocs_material: Autospec creation for update from version 8.2.4 to version 8.2.5\",\"distinct\":true,\"url\":\"https://api.github.com/repos/clearlinux-pkgs/pypi-mkdocs_material/commits/2c5cd594b3923da34673928758e5c3543b98505c\"}]},\"public\":true,\"created_at\":\"2022-03-07T19:16:30Z\",\"org\":{\"id\":14979720,\"login\":\"clearlinux-pkgs\",\"gravatar_id\":\"\",\"url\":\"https://api.github.com/orgs/clearlinux-pkgs\",\"avatar_url\":\"https://avatars.githubusercontent.com/u/14979720?\"}},{\"id\":\"20622921276\",\"type\":\"CreateEvent\",\"actor\":{\"id\":20404730,\"login\":\"clrpackages\",\"display_login\":\"clrpackages\",\"gravatar_id\":\"\",\"url\":\"https://api.github.com/users/clrpackages\",\"avatar_url\":\"https://avatars.githubusercontent.com/u/20404730?\"},\"repo\":{\"id\":449008053,\"name\":\"clearlinux-pkgs/pypi-mkdocs_material\",\"url\":\"https://api.github.com/repos/clearlinux-pkgs/pypi-mkdocs_material\"},\"payload\":{\"ref\":\"8.2.5-12\",\"ref_type\":\"tag\",\"master_branch\":\"master\",\"description\":null,\"pusher_type\":\"user\"},\"public\":true,\"created_at\":\"2022-03-07T19:16:30Z\",\"org\":{\"id\":14979720,\"login\":\"clearlinux-pkgs\",\"gravatar_id\":\"\",\"url\":\"https://api.github.com/orgs/clearlinux-pkgs\",\"avatar_url\":\"https://avatars.githubusercontent.com/u/14979720?\"}},{\"id\":\"20622921274\",\"type\":\"CreateEvent\",\"actor\":{\"id\":100833616,\"login\":\"lindamthomas\",\"display_login\":\"lindamthomas\",\"gravatar_id\":\"\",\"url\":\"https://api.github.com/users/lindamthomas\",\"avatar_url\":\"https://avatars.githubusercontent.com/u/100833616?\"},\"repo\":{\"id\":467227976,\"name\":\"lindamthomas/lmt-mlops\",\"url\":\"https://api.github.com/repos/lindamthomas/lmt-mlops\"},\"payload\":{\"ref\":\"j-so-docspatch-1\",\"ref_type\":\"branch\",\"master_branch\":\"master\",\"description\":null,\"pusher_type\":\"user\"},\"public\":true,\"created_at\":\"2022-03-07T19:16:30Z\"},{\"id\":\"20622921305\",\"type\":\"PullRequestEvent\",\"actor\":{\"id\":84349268,\"login\":\"Juicetin22\",\"display_login\":\"Juicetin22\",\"gravatar_id\":\"\",\"url\":\"https://api.github.com/users/Juicetin22\",\"avatar_url\":\"https://avatars.githubusercontent.com/u/84349268?\"},\"repo\":{\"id\":463680235,\"name\":\"Juicetin22/memory-game\",\"url\":\"https://api.github.com/repos/Juicetin22/memory-game\"},\"payload\":{\"action\":\"opened\",\"number\":12,\"pull_request\":{\"url\":\"https://api.github.com/repos/Juicetin22/memory-game/pulls/12\",\"id\":873467156,\"node_id\":\"PR_kwDOG6My6840EA0U\",\"html_url\":\"https://github.com/Juicetin22/memory-game/pull/12\",\"diff_url\":\"https://github.com/Juicetin22/memory-game/pull/12.diff\",\"patch_url\":\"https://github.com/Juicetin22/memory-game/pull/12.patch\",\"issue_url\":\"https://api.github.com/repos/Juicetin22/memory-game/issues/12\",\"number\":12,\"state\":\"open\",\"locked\":false,\"title\":\"Games/tweaks bugs\",\"user\":{\"login\":\"Juicetin22\",\"id\":84349268,\"node_id\":\"MDQ6VXNlcjg0MzQ5MjY4\",\"avatar_url\":\"https://avatars.githubusercontent.com/u/84349268?v=4\",\"gravatar_id\":\"\",\"url\":\"https://api.github.com/users/Juicetin22\",\"html_url\":\"https://github.com/Juicetin22\",\"followers_url\":\"https://api.github.com/users/Juicetin22/followers\",\"following_url\":\"https://api.github.com/users/Juicetin22/following{/other_user}\",\"gists_url\":\"https://api.github.com/users/Juicetin22/gists{/gist_id}\",\"starred_url\":\"https://api.github.com/users/Juicetin22/starred{/owner}{/repo}\",\"subscriptions_url\":\"https://api.github.com/users/Juicetin22/subscriptions\",\"organizations_url\":\"https://api.github.com/users/Juicetin22/orgs\",\"repos_url\":\"https://api.github.com/users/Juicetin22/repos\",\"events_url\":\"https://api.github.com/users/Juicetin22/events{/privacy}\",\"received_events_url\":\"https://api.github.com/users/Juicetin22/received_events\",\"type\":\"User\",\"site_admin\":false},\"body\":\"Notes:\\\\r\\\\n- fixed bug in number-memory where selecting wrong the whole time did not lead to all the cards being flipped when game was over\\\\r\\\\n- flipping over the 0 number card in memoradd at any point gives a game over\\\\r\\\\n- implemented bonus points for flipped all three of the same numbers\\\\r\\\\n- general styling\",\"created_at\":\"2022-03-07T19:16:29Z\",\"updated_at\":\"2022-03-07T19:16:29Z\",\"closed_at\":null,\"merged_at\":null,\"merge_commit_sha\":null,\"assignee\":null,\"assignees\":[],\"requested_reviewers\":[],\"requested_teams\":[],\"labels\":[],\"milestone\":null,\"draft\":false,\"commits_url\":\"https://api.github.com/repos/Juicetin22/memory-game/pulls/12/commits\",\"review_comments_url\":\"https://api.github.com/repos/Juicetin22/memory-game/pulls/12/comments\",\"review_comment_url\":\"https://api.github.com/repos/Juicetin22/memory-game/pulls/comments{/number}\",\"comments_url\":\"https://api.github.com/repos/Juicetin22/memory-game/issues/12/comments\",\"statuses_url\":\"https://api.github.com/repos/Juicetin22/memory-game/statuses/1c9e151117ffe7a79211ce0c880cd6cc5001faad\",\"head\":{\"label\":\"Juicetin22:games/tweaks-bugs\",\"ref\":\"games/tweaks-bugs\",\"sha\":\"1c9e151117ffe7a79211ce0c880cd6cc5001faad\",\"user\":{\"login\":\"Juicetin22\",\"id\":84349268,\"node_id\":\"MDQ6VXNlcjg0MzQ5MjY4\",\"avatar_url\":\"https://avatars.githubusercontent.com/u/84349268?v=4\",\"gravatar_id\":\"\",\"url\":\"https://api.github.com/users/Juicetin22\",\"html_url\":\"https://github.com/Juicetin22\",\"followers_url\":\"https://api.github.com/users/Juicetin22/followers\",\"following_url\":\"https://api.github.com/users/Juicetin22/following{/other_user}\",\"gists_url\":\"https://api.github.com/users/Juicetin22/gists{/gist_id}\",\"starred_url\":\"https://api.github.com/users/Juicetin22/starred{/owner}{/repo}\",\"subscriptions_url\":\"https://api.github.com/users/Juicetin22/subscriptions\",\"organizations_url\":\"https://api.github.com/users/Juicetin22/orgs\",\"repos_url\":\"https://api.github.com/users/Juicetin22/repos\",\"events_url\":\"https://api.github.com/users/Juicetin22/events{/privacy}\",\"received_events_url\":\"https://api.github.com/users/Juicetin22/received_events\",\"type\":\"User\",\"site_admin\":false},\"repo\":{\"id\":463680235,\"node_id\":\"R_kgDOG6My6w\",\"name\":\"memory-game\",\"full_name\":\"Juicetin22/memory-game\",\"private\":false,\"owner\":{\"login\":\"Juicetin22\",\"id\":84349268,\"node_id\":\"MDQ6VXNlcjg0MzQ5MjY4\",\"avatar_url\":\"https://avatars.githubusercontent.com/u/84349268?v=4\",\"gravatar_id\":\"\",\"url\":\"https://api.github.com/users/Juicetin22\",\"html_url\":\"https://github.com/Juicetin22\",\"followers_url\":\"https://api.github.com/users/Juicetin22/followers\",\"following_url\":\"https://api.github.com/users/Juicetin22/following{/other_user}\",\"gists_url\":\"https://api.github.com/users/Juicetin22/gists{/gist_id}\",\"starred_url\":\"https://api.github.com/users/Juicetin22/starred{/owner}{/repo}\",\"subscriptions_url\":\"https://api.github.com/users/Juicetin22/subscriptions\",\"organizations_url\":\"https://api.github.com/users/Juicetin22/orgs\",\"repos_url\":\"https://api.github.com/users/Juicetin22/repos\",\"events_url\":\"https://api.github.com/users/Juicetin22/events{/privacy}\",\"received_events_url\":\"https://api.github.com/users/Juicetin22/received_events\",\"type\":\"User\",\"site_admin\":false},\"html_url\":\"https://github.com/Juicetin22/memory-game\",\"description\":null,\"fork\":false,\"url\":\"https://api.github.com/repos/Juicetin22/memory-game\",\"forks_url\":\"https://api.github.com/repos/Juicetin22/memory-game/forks\",\"keys_url\":\"https://api.github.com/repos/Juicetin22/memory-game/keys{/key_id}\",\"collaborators_url\":\"https://api.github.com/repos/Juicetin22/memory-game/collaborators{/collaborator}\",\"teams_url\":\"https://api.github.com/repos/Juicetin22/memory-game/teams\",\"hooks_url\":\"https://api.github.com/repos/Juicetin22/memory-game/hooks\",\"issue_events_url\":\"https://api.github.com/repos/Juicetin22/memory-game/issues/events{/number}\",\"events_url\":\"https://api.github.com/repos/Juicetin22/memory-game/events\",\"assignees_url\":\"https://api.github.com/repos/Juicetin22/memory-game/assignees{/user}\",\"branches_url\":\"https://api.github.com/repos/Juicetin22/memory-game/branches{/branch}\",\"tags_url\":\"https://api.github.com/repos/Juicetin22/memory-game/tags\",\"blobs_url\":\"https://api.github.com/repos/Juicetin22/memory-game/git/blobs{/sha}\",\"git_tags_url\":\"https://api.github.com/repos/Juicetin22/memory-game/git/tags{/sha}\",\"git_refs_url\":\"https://api.github.com/repos/Juicetin22/memory-game/git/refs{/sha}\",\"trees_url\":\"https://api.github.com/repos/Juicetin22/memory-game/git/trees{/sha}\",\"statuses_url\":\"https://api.github.com/repos/Juicetin22/memory-game/statuses/{sha}\",\"languages_url\":\"https://api.github.com/repos/Juicetin22/memory-game/languages\",\"stargazers_url\":\"https://api.github.com/repos/Juicetin22/memory-game/stargazers\",\"contributors_url\":\"https://api.github.com/repos/Juicetin22/memory-game/contributors\",\"subscribers_url\":\"https://api.github.com/repos/Juicetin22/memory-game/subscribers\",\"subscription_url\":\"https://api.github.com/repos/Juicetin22/memory-game/subscription\",\"commits_url\":\"https://api.github.com/repos/Juicetin22/memory-game/commits{/sha}\",\"git_commits_url\":\"https://api.github.com/repos/Juicetin22/memory-game/git/commits{/sha}\",\"comments_url\":\"https://api.github.com/repos/Juicetin22/memory-game/comments{/number}\",\"issue_comment_url\":\"https://api.github.com/repos/Juicetin22/memory-game/issues/comments{/number}\",\"contents_url\":\"https://api.github.com/repos/Juicetin22/memory-game/contents/{+path}\",\"compare_url\":\"https://api.github.com/repos/Juicetin22/memory-game/compare/{base}...{head}\",\"merges_url\":\"https://api.github.com/repos/Juicetin22/memory-game/merges\",\"archive_url\":\"https://api.github.com/repos/Juicetin22/memory-game/{archive_format}{/ref}\",\"downloads_url\":\"https://api.github.com/repos/Juicetin22/memory-game/downloads\",\"issues_url\":\"https://api.github.com/repos/Juicetin22/memory-game/issues{/number}\",\"pulls_url\":\"https://api.github.com/repos/Juicetin22/memory-game/pulls{/number}\",\"milestones_url\":\"https://api.github.com/repos/Juicetin22/memory-game/milestones{/number}\",\"notifications_url\":\"https://api.github.com/repos/Juicetin22/memory-game/notifications{?since,all,participating}\",\"labels_url\":\"https://api.github.com/repos/Juicetin22/memory-game/labels{/name}\",\"releases_url\":\"https://api.github.com/repos/Juicetin22/memory-game/releases{/id}\",\"deployments_url\":\"https://api.github.com/repos/Juicetin22/memory-game/deployments\",\"created_at\":\"2022-02-25T21:27:51Z\",\"updated_at\":\"2022-02-25T21:32:13Z\",\"pushed_at\":\"2022-03-07T19:16:29Z\",\"git_url\":\"git://github.com/Juicetin22/memory-game.git\",\"ssh_url\":\"git@github.com:Juicetin22/memory-game.git\",\"clone_url\":\"https://github.com/Juicetin22/memory-game.git\",\"svn_url\":\"https://github.com/Juicetin22/memory-game\",\"homepage\":null,\"size\":361,\"stargazers_count\":0,\"watchers_count\":0,\"language\":\"JavaScript\",\"has_issues\":true,\"has_projects\":true,\"has_downloads\":true,\"has_wiki\":true,\"has_pages\":false,\"forks_count\":0,\"mirror_url\":null,\"archived\":false,\"disabled\":false,\"open_issues_count\":1,\"license\":null,\"allow_forking\":true,\"is_template\":false,\"topics\":[],\"visibility\":\"public\",\"forks\":0,\"open_issues\":1,\"watchers\":0,\"default_branch\":\"main\"}},\"base\":{\"label\":\"Juicetin22:main\",\"ref\":\"main\",\"sha\":\"3c8a603d03d599069d6f5f1c4ec8fc873b4519ee\",\"user\":{\"login\":\"Juicetin22\",\"id\":84349268,\"node_id\":\"MDQ6VXNlcjg0MzQ5MjY4\",\"avatar_url\":\"https://avatars.githubusercontent.com/u/84349268?v=4\",\"gravatar_id\":\"\",\"url\":\"https://api.github.com/users/Juicetin22\",\"html_url\":\"https://github.com/Juicetin22\",\"followers_url\":\"https://api.github.com/users/Juicetin22/followers\",\"following_url\":\"https://api.github.com/users/Juicetin22/following{/other_user}\",\"gists_url\":\"https://api.github.com/users/Juicetin22/gists{/gist_id}\",\"starred_url\":\"https://api.github.com/users/Juicetin22/starred{/owner}{/repo}\",\"subscriptions_url\":\"https://api.github.com/users/Juicetin22/subscriptions\",\"organizations_url\":\"https://api.github.com/users/Juicetin22/orgs\",\"repos_url\":\"https://api.github.com/users/Juicetin22/repos\",\"events_url\":\"https://api.github.com/users/Juicetin22/events{/privacy}\",\"received_events_url\":\"https://api.github.com/users/Juicetin22/received_events\",\"type\":\"User\",\"site_admin\":false},\"repo\":{\"id\":463680235,\"node_id\":\"R_kgDOG6My6w\",\"name\":\"memory-game\",\"full_name\":\"Juicetin22/memory-game\",\"private\":false,\"owner\":{\"login\":\"Juicetin22\",\"id\":84349268,\"node_id\":\"MDQ6VXNlcjg0MzQ5MjY4\",\"avatar_url\":\"https://avatars.githubusercontent.com/u/84349268?v=4\",\"gravatar_id\":\"\",\"url\":\"https://api.github.com/users/Juicetin22\",\"html_url\":\"https://github.com/Juicetin22\",\"followers_url\":\"https://api.github.com/users/Juicetin22/followers\",\"following_url\":\"https://api.github.com/users/Juicetin22/following{/other_user}\",\"gists_url\":\"https://api.github.com/users/Juicetin22/gists{/gist_id}\",\"starred_url\":\"https://api.github.com/users/Juicetin22/starred{/owner}{/repo}\",\"subscriptions_url\":\"https://api.github.com/users/Juicetin22/subscriptions\",\"organizations_url\":\"https://api.github.com/users/Juicetin22/orgs\",\"repos_url\":\"https://api.github.com/users/Juicetin22/repos\",\"events_url\":\"https://api.github.com/users/Juicetin22/events{/privacy}\",\"received_events_url\":\"https://api.github.com/users/Juicetin22/received_events\",\"type\":\"User\",\"site_admin\":false},\"html_url\":\"https://github.com/Juicetin22/memory-game\",\"description\":null,\"fork\":false,\"url\":\"https://api.github.com/repos/Juicetin22/memory-game\",\"forks_url\":\"https://api.github.com/repos/Juicetin22/memory-game/forks\",\"keys_url\":\"https://api.github.com/repos/Juicetin22/memory-game/keys{/key_id}\",\"collaborators_url\":\"https://api.github.com/repos/Juicetin22/memory-game/collaborators{/collaborator}\",\"teams_url\":\"https://api.github.com/repos/Juicetin22/memory-game/teams\",\"hooks_url\":\"https://api.github.com/repos/Juicetin22/memory-game/hooks\",\"issue_events_url\":\"https://api.github.com/repos/Juicetin22/memory-game/issues/events{/number}\",\"events_url\":\"https://api.github.com/repos/Juicetin22/memory-game/events\",\"assignees_url\":\"https://api.github.com/repos/Juicetin22/memory-game/assignees{/user}\",\"branches_url\":\"https://api.github.com/repos/Juicetin22/memory-game/branches{/branch}\",\"tags_url\":\"https://api.github.com/repos/Juicetin22/memory-game/tags\",\"blobs_url\":\"https://api.github.com/repos/Juicetin22/memory-game/git/blobs{/sha}\",\"git_tags_url\":\"https://api.github.com/repos/Juicetin22/memory-game/git/tags{/sha}\",\"git_refs_url\":\"https://api.github.com/repos/Juicetin22/memory-game/git/refs{/sha}\",\"trees_url\":\"https://api.github.com/repos/Juicetin22/memory-game/git/trees{/sha}\",\"statuses_url\":\"https://api.github.com/repos/Juicetin22/memory-game/statuses/{sha}\",\"languages_url\":\"https://api.github.com/repos/Juicetin22/memory-game/languages\",\"stargazers_url\":\"https://api.github.com/repos/Juicetin22/memory-game/stargazers\",\"contributors_url\":\"https://api.github.com/repos/Juicetin22/memory-game/contributors\",\"subscribers_url\":\"https://api.github.com/repos/Juicetin22/memory-game/subscribers\",\"subscription_url\":\"https://api.github.com/repos/Juicetin22/memory-game/subscription\",\"commits_url\":\"https://api.github.com/repos/Juicetin22/memory-game/commits{/sha}\",\"git_commits_url\":\"https://api.github.com/repos/Juicetin22/memory-game/git/commits{/sha}\",\"comments_url\":\"https://api.github.com/repos/Juicetin22/memory-game/comments{/number}\",\"issue_comment_url\":\"https://api.github.com/repos/Juicetin22/memory-game/issues/comments{/number}\",\"contents_url\":\"https://api.github.com/repos/Juicetin22/memory-game/contents/{+path}\",\"compare_url\":\"https://api.github.com/repos/Juicetin22/memory-game/compare/{base}...{head}\",\"merges_url\":\"https://api.github.com/repos/Juicetin22/memory-game/merges\",\"archive_url\":\"https://api.github.com/repos/Juicetin22/memory-game/{archive_format}{/ref}\",\"downloads_url\":\"https://api.github.com/repos/Juicetin22/memory-game/downloads\",\"issues_url\":\"https://api.github.com/repos/Juicetin22/memory-game/issues{/number}\",\"pulls_url\":\"https://api.github.com/repos/Juicetin22/memory-game/pulls{/number}\",\"milestones_url\":\"https://api.github.com/repos/Juicetin22/memory-game/milestones{/number}\",\"notifications_url\":\"https://api.github.com/repos/Juicetin22/memory-game/notifications{?since,all,participating}\",\"labels_url\":\"https://api.github.com/repos/Juicetin22/memory-game/labels{/name}\",\"releases_url\":\"https://api.github.com/repos/Juicetin22/memory-game/releases{/id}\",\"deployments_url\":\"https://api.github.com/repos/Juicetin22/memory-game/deployments\",\"created_at\":\"2022-02-25T21:27:51Z\",\"updated_at\":\"2022-02-25T21:32:13Z\",\"pushed_at\":\"2022-03-07T19:16:29Z\",\"git_url\":\"git://github.com/Juicetin22/memory-game.git\",\"ssh_url\":\"git@github.com:Juicetin22/memory-game.git\",\"clone_url\":\"https://github.com/Juicetin22/memory-game.git\",\"svn_url\":\"https://github.com/Juicetin22/memory-game\",\"homepage\":null,\"size\":361,\"stargazers_count\":0,\"watchers_count\":0,\"language\":\"JavaScript\",\"has_issues\":true,\"has_projects\":true,\"has_downloads\":true,\"has_wiki\":true,\"has_pages\":false,\"forks_count\":0,\"mirror_url\":null,\"archived\":false,\"disabled\":false,\"open_issues_count\":1,\"license\":null,\"allow_forking\":true,\"is_template\":false,\"topics\":[],\"visibility\":\"public\",\"forks\":0,\"open_issues\":1,\"watchers\":0,\"default_branch\":\"main\"}},\"_links\":{\"self\":{\"href\":\"https://api.github.com/repos/Juicetin22/memory-game/pulls/12\"},\"html\":{\"href\":\"https://github.com/Juicetin22/memory-game/pull/12\"},\"issue\":{\"href\":\"https://api.github.com/repos/Juicetin22/memory-game/issues/12\"},\"comments\":{\"href\":\"https://api.github.com/repos/Juicetin22/memory-game/issues/12/comments\"},\"review_comments\":{\"href\":\"https://api.github.com/repos/Juicetin22/memory-game/pulls/12/comments\"},\"review_comment\":{\"href\":\"https://api.github.com/repos/Juicetin22/memory-game/pulls/comments{/number}\"},\"commits\":{\"href\":\"https://api.github.com/repos/Juicetin22/memory-game/pulls/12/commits\"},\"statuses\":{\"href\":\"https://api.github.com/repos/Juicetin22/memory-game/statuses/1c9e151117ffe7a79211ce0c880cd6cc5001faad\"}},\"author_association\":\"OWNER\",\"auto_merge\":null,\"active_lock_reason\":null,\"merged\":false,\"mergeable\":null,\"rebaseable\":null,\"mergeable_state\":\"unknown\",\"merged_by\":null,\"comments\":0,\"review_comments\":0,\"maintainer_can_modify\":false,\"commits\":9,\"additions\":50,\"deletions\":14,\"changed_files\":8}},\"public\":true,\"created_at\":\"2022-03-07T19:16:30Z\"}]'"
      ]
     },
     "execution_count": 3,
     "metadata": {},
     "output_type": "execute_result"
    }
   ],
   "source": [
    "# So what does this look like?\n",
    "r.text"
   ]
  },
  {
   "cell_type": "markdown",
   "metadata": {},
   "source": [
    "![Oh good heavens gif, from gfycat](https://thumbs.gfycat.com/ColdAmbitiousDogwoodtwigborer-size_restricted.gif)"
   ]
  },
  {
   "cell_type": "markdown",
   "metadata": {
    "slideshow": {
     "slide_type": "slide"
    }
   },
   "source": [
    "Obviously you're never going to just scan that quickly for any data you need, we need to wrangle that response to make it usable.\n",
    "\n",
    "But first, let's look at some of the other attributes of `requests.models.Response` objects.\n",
    "\n",
    "We can check out all of the attributes [here](https://2.python-requests.org//en/v0.10.6/api/) in the documentation."
   ]
  },
  {
   "cell_type": "code",
   "execution_count": 4,
   "metadata": {},
   "outputs": [
    {
     "data": {
      "text/plain": [
       "{'Server': 'GitHub.com', 'Date': 'Mon, 07 Mar 2022 19:21:30 GMT', 'Content-Type': 'application/json; charset=utf-8', 'Cache-Control': 'public, max-age=60, s-maxage=60', 'Vary': 'Accept, Accept-Encoding, Accept, X-Requested-With', 'ETag': 'W/\"17303daaeeb02e28c0e25579fc95b86ec568fac68059b21fda2c7354cef80c13\"', 'Last-Modified': 'Mon, 07 Mar 2022 19:16:30 GMT', 'X-Poll-Interval': '60', 'X-GitHub-Media-Type': 'github.v3; format=json', 'Link': '<https://api.github.com/events?page=2>; rel=\"next\", <https://api.github.com/events?page=10>; rel=\"last\"', 'Access-Control-Expose-Headers': 'ETag, Link, Location, Retry-After, X-GitHub-OTP, X-RateLimit-Limit, X-RateLimit-Remaining, X-RateLimit-Used, X-RateLimit-Resource, X-RateLimit-Reset, X-OAuth-Scopes, X-Accepted-OAuth-Scopes, X-Poll-Interval, X-GitHub-Media-Type, X-GitHub-SSO, X-GitHub-Request-Id, Deprecation, Sunset', 'Access-Control-Allow-Origin': '*', 'Strict-Transport-Security': 'max-age=31536000; includeSubdomains; preload', 'X-Frame-Options': 'deny', 'X-Content-Type-Options': 'nosniff', 'X-XSS-Protection': '0', 'Referrer-Policy': 'origin-when-cross-origin, strict-origin-when-cross-origin', 'Content-Security-Policy': \"default-src 'none'\", 'Content-Encoding': 'gzip', 'X-RateLimit-Limit': '60', 'X-RateLimit-Remaining': '59', 'X-RateLimit-Reset': '1646684500', 'X-RateLimit-Resource': 'core', 'X-RateLimit-Used': '1', 'Accept-Ranges': 'bytes', 'Content-Length': '24511', 'X-GitHub-Request-Id': 'F7EE:7A61:7246CE5:DD5DA53:62265B44'}"
      ]
     },
     "execution_count": 4,
     "metadata": {},
     "output_type": "execute_result"
    }
   ],
   "source": [
    "# Another attribute, what does this show us?\n",
    "r.headers"
   ]
  },
  {
   "cell_type": "markdown",
   "metadata": {
    "slideshow": {
     "slide_type": "slide"
    }
   },
   "source": [
    "### Checking out the status of your request"
   ]
  },
  {
   "cell_type": "code",
   "execution_count": 5,
   "metadata": {},
   "outputs": [
    {
     "data": {
      "text/plain": [
       "200"
      ]
     },
     "execution_count": 5,
     "metadata": {},
     "output_type": "execute_result"
    }
   ],
   "source": [
    "# Another attribute\n",
    "r.status_code"
   ]
  },
  {
   "cell_type": "markdown",
   "metadata": {
    "slideshow": {
     "slide_type": "slide"
    }
   },
   "source": [
    "### [Types of status codes](https://http.cat/)\n",
    "\n",
    "1xx - Informational responses\n",
    "\n",
    "2xx - Success\n",
    "- 200 OK\n",
    "- 201 Created\n",
    "- 204 No Content\n",
    "\n",
    "3xx - Redirection\n",
    "\n",
    "- 301 Moved Permanently (permanent URL redirection)\n",
    "- 304 Not Modified (A conditional GET or HEAD request has been received and would have resulted in a 200 OK response if it were not for the fact that the condition evaluated to false.)\n",
    "\n",
    "4xx - Client errors\n",
    "\n",
    "- 400 Bad Request\n",
    "- 401 Unauthorized\n",
    "- 403 Forbidden\n",
    "- 404 Not Found\n",
    "\n",
    "5xx - Server errors\n",
    "\n",
    "- 500 Internal Server Error"
   ]
  },
  {
   "cell_type": "code",
   "execution_count": 6,
   "metadata": {
    "slideshow": {
     "slide_type": "slide"
    }
   },
   "outputs": [
    {
     "data": {
      "text/plain": [
       "404"
      ]
     },
     "execution_count": 6,
     "metadata": {},
     "output_type": "execute_result"
    }
   ],
   "source": [
    "# Get status code for a \"broken\" link\n",
    "\n",
    "r_broken = requests.get('https://api.github.com/fake-ending')\n",
    "r_broken.status_code"
   ]
  },
  {
   "cell_type": "markdown",
   "metadata": {
    "slideshow": {
     "slide_type": "slide"
    }
   },
   "source": [
    "#### A note on errors and exceptions with the Requests library\n",
    "\n",
    "There are a number of exceptions and error codes you need to be familiar with when using the Requests library in Python.\n",
    "\n",
    "- The Requests library will raise a ConnectionError exception if there is a network problem like a DNS failure, or refused connection\n",
    "- These are rare, but with invalid HTTP responses, Requests will also raise an HTTPError exception\n",
    "- A Timeout exception will be raised if a request times out\n",
    "- If and when a request exceeds the preconfigured number of maximum redirections, then a TooManyRedirects exception will be raised"
   ]
  },
  {
   "cell_type": "markdown",
   "metadata": {
    "slideshow": {
     "slide_type": "slide"
    }
   },
   "source": [
    "Can also explictly ask for the returned format to be json as a method."
   ]
  },
  {
   "cell_type": "code",
   "execution_count": 9,
   "metadata": {},
   "outputs": [
    {
     "data": {
      "text/plain": [
       "dict_keys(['id', 'type', 'actor', 'repo', 'payload', 'public', 'created_at', 'org'])"
      ]
     },
     "execution_count": 9,
     "metadata": {},
     "output_type": "execute_result"
    }
   ],
   "source": [
    "# Going back to our working request - how does this look, compared to text?\n",
    "r.json()[0].keys()"
   ]
  },
  {
   "cell_type": "markdown",
   "metadata": {},
   "source": [
    "# Gotta Catch 'Em All! Using the Pokemon API\n",
    "\n",
    "https://pokeapi.co/\n",
    "\n",
    "Nice place to start because there's no login details or credentials to fuss with\n",
    "\n",
    "For now, just want to explore grabbing the Types of different Pokemon.\n",
    "\n",
    "Useful documentation links:\n",
    "- Pokemon endpoint: https://pokeapi.co/docs/v2#pokemon \n",
    "    - `https://pokeapi.co/api/v2/pokemon/{id or name}/`\n",
    "- Type endpoint: https://pokeapi.co/docs/v2#types\n",
    "    - `https://pokeapi.co/api/v2/type/{id or name}/`"
   ]
  },
  {
   "cell_type": "markdown",
   "metadata": {},
   "source": [
    "### Start by exploring the response from the Pokemon endpoint\n",
    "\n",
    "Going to start with Charmander, pokemon #4, cause he's one of my favorites\n",
    "\n",
    "<img src=\"https://i.pinimg.com/originals/e7/0e/d0/e70ed0b54f9230c56c2e3bd2958d68a4.jpg\" alt=\"adorable charmander found via pinterest\" width=150>\n",
    "\n",
    "[Image Source](https://www.pinterest.com/pin/419045940312305352/)"
   ]
  },
  {
   "cell_type": "code",
   "execution_count": 10,
   "metadata": {},
   "outputs": [],
   "source": [
    "# First, what endpoint url are we using?\n",
    "base_poke_url = 'https://pokeapi.co/api/v2/pokemon/'"
   ]
  },
  {
   "cell_type": "code",
   "execution_count": 15,
   "metadata": {},
   "outputs": [
    {
     "data": {
      "text/plain": [
       "'https://pokeapi.co/api/v2/pokemon/4/'"
      ]
     },
     "execution_count": 15,
     "metadata": {},
     "output_type": "execute_result"
    }
   ],
   "source": [
    "# How does that need to adapt for charmander?\n",
    "charmander_url = f'{base_poke_url}4/'\n",
    "charmander_url"
   ]
  },
  {
   "cell_type": "code",
   "execution_count": 18,
   "metadata": {},
   "outputs": [
    {
     "data": {
      "text/plain": [
       "200"
      ]
     },
     "execution_count": 18,
     "metadata": {},
     "output_type": "execute_result"
    }
   ],
   "source": [
    "# Check the status code, will this work?\n",
    "resp = requests.get(charmander_url)\n",
    "resp.status_code"
   ]
  },
  {
   "cell_type": "code",
   "execution_count": 23,
   "metadata": {},
   "outputs": [],
   "source": [
    "# Now let's actually get the response (as a json)\n",
    "char_json = resp.json()"
   ]
  },
  {
   "cell_type": "code",
   "execution_count": 25,
   "metadata": {},
   "outputs": [
    {
     "data": {
      "text/plain": [
       "dict_keys(['abilities', 'base_experience', 'forms', 'game_indices', 'height', 'held_items', 'id', 'is_default', 'location_area_encounters', 'moves', 'name', 'order', 'past_types', 'species', 'sprites', 'stats', 'types', 'weight'])"
      ]
     },
     "execution_count": 25,
     "metadata": {},
     "output_type": "execute_result"
    }
   ],
   "source": [
    "# Let's check out some details about the response\n",
    "char_json.keys()"
   ]
  },
  {
   "cell_type": "code",
   "execution_count": 26,
   "metadata": {},
   "outputs": [
    {
     "data": {
      "text/plain": [
       "4"
      ]
     },
     "execution_count": 26,
     "metadata": {},
     "output_type": "execute_result"
    }
   ],
   "source": [
    "# Check the id\n",
    "char_json['id']"
   ]
  },
  {
   "cell_type": "code",
   "execution_count": 27,
   "metadata": {},
   "outputs": [
    {
     "data": {
      "text/plain": [
       "'charmander'"
      ]
     },
     "execution_count": 27,
     "metadata": {},
     "output_type": "execute_result"
    }
   ],
   "source": [
    "# Check the name\n",
    "char_json['name']"
   ]
  },
  {
   "cell_type": "code",
   "execution_count": 37,
   "metadata": {
    "scrolled": true
   },
   "outputs": [
    {
     "data": {
      "text/plain": [
       "1"
      ]
     },
     "execution_count": 37,
     "metadata": {},
     "output_type": "execute_result"
    }
   ],
   "source": [
    "# Check the types\n",
    "len(char_json['types'])"
   ]
  },
  {
   "cell_type": "markdown",
   "metadata": {},
   "source": [
    "#### Helper Function!\n",
    "\n",
    "Let's write a function that, given a response from this API's pokemon endpoint, returns a list of the ID, name, primary type _and secondary type_ for that pokemon.\n",
    "\n",
    "Note that Charmander here just has one type - what would a pokemon with two types look like? Note that Bulbasaur is both grass and poison types."
   ]
  },
  {
   "cell_type": "code",
   "execution_count": 32,
   "metadata": {},
   "outputs": [
    {
     "data": {
      "text/plain": [
       "'https://pokeapi.co/api/v2/pokemon/1/'"
      ]
     },
     "execution_count": 32,
     "metadata": {},
     "output_type": "execute_result"
    }
   ],
   "source": [
    "f'{base_poke_url}1/'"
   ]
  },
  {
   "cell_type": "code",
   "execution_count": 33,
   "metadata": {},
   "outputs": [
    {
     "data": {
      "text/plain": [
       "[{'slot': 1,\n",
       "  'type': {'name': 'grass', 'url': 'https://pokeapi.co/api/v2/type/12/'}},\n",
       " {'slot': 2,\n",
       "  'type': {'name': 'poison', 'url': 'https://pokeapi.co/api/v2/type/4/'}}]"
      ]
     },
     "execution_count": 33,
     "metadata": {},
     "output_type": "execute_result"
    }
   ],
   "source": [
    "# Code here to explore\n",
    "# bulba_url = base_poke_url + '1/'\n",
    "bulba = requests.get(f'{base_poke_url}1/').json()\n",
    "bulba['types']"
   ]
  },
  {
   "cell_type": "code",
   "execution_count": 38,
   "metadata": {},
   "outputs": [
    {
     "data": {
      "text/plain": [
       "2"
      ]
     },
     "execution_count": 38,
     "metadata": {},
     "output_type": "execute_result"
    }
   ],
   "source": [
    "len(bulba['types'])"
   ]
  },
  {
   "cell_type": "code",
   "execution_count": 45,
   "metadata": {},
   "outputs": [
    {
     "data": {
      "text/plain": [
       "'grass'"
      ]
     },
     "execution_count": 45,
     "metadata": {},
     "output_type": "execute_result"
    }
   ],
   "source": [
    "bulba['types'][0]['type']['name']"
   ]
  },
  {
   "cell_type": "code",
   "execution_count": 46,
   "metadata": {},
   "outputs": [],
   "source": [
    "# Now - write the function!\n",
    "def get_pokemon_details(poke_resp):\n",
    "    '''\n",
    "    inputs:\n",
    "    poke_resp - expects json/dict\n",
    "    \n",
    "    outputs: \n",
    "    list of id, pokemon name, primary type and secondary type \n",
    "    \n",
    "    if secondary type is not applicable, secondary type will be 'None'\n",
    "    '''\n",
    "    poke_id = poke_resp['id']\n",
    "    \n",
    "    poke_name = poke_resp['name']\n",
    "    \n",
    "    primary_type = poke_resp['types'][0]['type']['name']\n",
    "    \n",
    "    if len(poke_resp['types']) == 1:\n",
    "        secondary_type = 'None'\n",
    "    else: \n",
    "        secondary_type = poke_resp['types'][1]['type']['name']\n",
    "        \n",
    "    poke_details_list = [poke_id, poke_name, primary_type, secondary_type]\n",
    "        \n",
    "    return poke_details_list"
   ]
  },
  {
   "cell_type": "code",
   "execution_count": 47,
   "metadata": {},
   "outputs": [
    {
     "name": "stdout",
     "output_type": "stream",
     "text": [
      "[1, 4, 7]\n"
     ]
    }
   ],
   "source": [
    "# Let's test our function on the 3 original starter pokemon\n",
    "original_starter_ids = list(range(1,10, 3))\n",
    "print(original_starter_ids)"
   ]
  },
  {
   "cell_type": "code",
   "execution_count": 48,
   "metadata": {},
   "outputs": [
    {
     "name": "stdout",
     "output_type": "stream",
     "text": [
      "[1, 'bulbasaur', 'grass', 'poison']\n",
      "[4, 'charmander', 'fire', 'None']\n",
      "[7, 'squirtle', 'water', 'None']\n"
     ]
    }
   ],
   "source": [
    "# Run this code to check our work\n",
    "for poke_id in original_starter_ids:\n",
    "    url = f\"{base_poke_url}{poke_id}/\"\n",
    "    resp = requests.get(url).json()\n",
    "    details = get_pokemon_details(resp)\n",
    "    print(details)"
   ]
  },
  {
   "cell_type": "markdown",
   "metadata": {},
   "source": [
    "### Moving to Pandas\n",
    "\n",
    "Let's get all of these details for all of the original 151 pokemon! And save them to a Pandas dataframe."
   ]
  },
  {
   "cell_type": "code",
   "execution_count": 49,
   "metadata": {},
   "outputs": [],
   "source": [
    "# Need to import panda\n",
    "import pandas as pd"
   ]
  },
  {
   "cell_type": "code",
   "execution_count": 50,
   "metadata": {},
   "outputs": [],
   "source": [
    "# Let's go ahead and define what our columns will be\n",
    "col_names = ['id', 'name', 'primary_type', 'secondary_type']"
   ]
  },
  {
   "cell_type": "code",
   "execution_count": 51,
   "metadata": {},
   "outputs": [],
   "source": [
    "# Define a list of our 151 pokemon ids\n",
    "original_151 = list(range(1,152))"
   ]
  },
  {
   "cell_type": "markdown",
   "metadata": {},
   "source": [
    "So we're going to make 151 requests... don't want to overload the API endpoint! So let's use the `time` library to space out our requests."
   ]
  },
  {
   "cell_type": "code",
   "execution_count": 53,
   "metadata": {},
   "outputs": [],
   "source": [
    "import time"
   ]
  },
  {
   "cell_type": "code",
   "execution_count": 54,
   "metadata": {},
   "outputs": [],
   "source": [
    "# Easiest way to do this will be to have a list of lists, then concat them all\n",
    "\n",
    "# Define a blank list to capture all the pokemon details\n",
    "row_list = []\n",
    "\n",
    "# And then loop over our pokemon ids!\n",
    "# Let's write this together!\n",
    "for poke_id in original_151:\n",
    "    url = f\"{base_poke_url}{poke_id}/\"\n",
    "    resp = requests.get(url).json()\n",
    "    details = get_pokemon_details(resp)\n",
    "    row_list.append(details)\n",
    "    time.sleep(.5)\n",
    "    \n",
    "# Then, concat everything into one df\n",
    "poke_df = pd.concat([pd.DataFrame([i], columns = col_names) for i in row_list], ignore_index=True)"
   ]
  },
  {
   "cell_type": "code",
   "execution_count": 55,
   "metadata": {},
   "outputs": [
    {
     "data": {
      "text/html": [
       "<div>\n",
       "<style scoped>\n",
       "    .dataframe tbody tr th:only-of-type {\n",
       "        vertical-align: middle;\n",
       "    }\n",
       "\n",
       "    .dataframe tbody tr th {\n",
       "        vertical-align: top;\n",
       "    }\n",
       "\n",
       "    .dataframe thead th {\n",
       "        text-align: right;\n",
       "    }\n",
       "</style>\n",
       "<table border=\"1\" class=\"dataframe\">\n",
       "  <thead>\n",
       "    <tr style=\"text-align: right;\">\n",
       "      <th></th>\n",
       "      <th>id</th>\n",
       "      <th>name</th>\n",
       "      <th>primary_type</th>\n",
       "      <th>secondary_type</th>\n",
       "    </tr>\n",
       "  </thead>\n",
       "  <tbody>\n",
       "    <tr>\n",
       "      <th>146</th>\n",
       "      <td>147</td>\n",
       "      <td>dratini</td>\n",
       "      <td>dragon</td>\n",
       "      <td>None</td>\n",
       "    </tr>\n",
       "    <tr>\n",
       "      <th>147</th>\n",
       "      <td>148</td>\n",
       "      <td>dragonair</td>\n",
       "      <td>dragon</td>\n",
       "      <td>None</td>\n",
       "    </tr>\n",
       "    <tr>\n",
       "      <th>148</th>\n",
       "      <td>149</td>\n",
       "      <td>dragonite</td>\n",
       "      <td>dragon</td>\n",
       "      <td>flying</td>\n",
       "    </tr>\n",
       "    <tr>\n",
       "      <th>149</th>\n",
       "      <td>150</td>\n",
       "      <td>mewtwo</td>\n",
       "      <td>psychic</td>\n",
       "      <td>None</td>\n",
       "    </tr>\n",
       "    <tr>\n",
       "      <th>150</th>\n",
       "      <td>151</td>\n",
       "      <td>mew</td>\n",
       "      <td>psychic</td>\n",
       "      <td>None</td>\n",
       "    </tr>\n",
       "  </tbody>\n",
       "</table>\n",
       "</div>"
      ],
      "text/plain": [
       "      id       name primary_type secondary_type\n",
       "146  147    dratini       dragon           None\n",
       "147  148  dragonair       dragon           None\n",
       "148  149  dragonite       dragon         flying\n",
       "149  150     mewtwo      psychic           None\n",
       "150  151        mew      psychic           None"
      ]
     },
     "execution_count": 55,
     "metadata": {},
     "output_type": "execute_result"
    }
   ],
   "source": [
    "poke_df.tail()"
   ]
  },
  {
   "cell_type": "code",
   "execution_count": 56,
   "metadata": {},
   "outputs": [
    {
     "data": {
      "image/png": "[encoded data removed]",
      "text/plain": [
       "<Figure size 720x576 with 1 Axes>"
      ]
     },
     "metadata": {
      "needs_background": "light"
     },
     "output_type": "display_data"
    }
   ],
   "source": [
    "# visualize it!\n",
    "import matplotlib.pyplot as plt\n",
    "\n",
    "primary_type_count = poke_df.groupby('primary_type').count()['id'].sort_values(ascending=False)\n",
    "\n",
    "plt.figure(figsize=(10,8))\n",
    "plt.bar(primary_type_count.index, primary_type_count)\n",
    "\n",
    "plt.title(\"Counts of Pokemon Primary Types\")\n",
    "plt.ylabel(\"Number of Pokemon\")\n",
    "plt.xlabel(\"Primary Type\")\n",
    "plt.xticks(rotation=45)\n",
    "\n",
    "plt.show()"
   ]
  },
  {
   "cell_type": "markdown",
   "metadata": {},
   "source": [
    "![monty python gif - and now for something completely different, from giphy](https://media.giphy.com/media/xznyPebL28X5u/giphy.gif)"
   ]
  },
  {
   "cell_type": "markdown",
   "metadata": {},
   "source": [
    "# Movie Time!\n",
    "\n",
    "Let's practice with an API that actually requires some authorization, in the form of an API Key!\n",
    "\n",
    "https://www.themoviedb.org/settings/api"
   ]
  },
  {
   "cell_type": "markdown",
   "metadata": {},
   "source": [
    "# **NEVER EVER PUT YOUR API KEY ON GITHUB**\n",
    "\n",
    "Either create a json file with API keys in a different directory, or create a python file with the key saved as a variable that you can call. (There are even more options than that, but these are two easily-accessible ones)"
   ]
  },
  {
   "cell_type": "code",
   "execution_count": 64,
   "metadata": {},
   "outputs": [],
   "source": [
    "# Option 1: use a json file saved to some other folder outside your Git repo\n",
    "# In a new terminal window, create a file called api.json and save the path to that file\n",
    "\n",
    "# Need to import json to do this\n",
    "import json\n",
    "\n",
    "# Define a function to open the json\n",
    "def get_keys(path):\n",
    "    with open(path) as f:\n",
    "        return json.load(f)\n",
    "\n",
    "# Using the function to open and load all keys in that file \n",
    "api_keys = get_keys(\"/Users/lberlin/secrets/tmdb.json\")\n",
    "\n",
    "# Setting the first (and only) value as a variable\n",
    "tmdb_1 = api_keys['tmbd_key']\n"
   ]
  },
  {
   "cell_type": "code",
   "execution_count": 69,
   "metadata": {},
   "outputs": [],
   "source": [
    "# Option 2: use a python file that's been added to your .gitignore\n",
    "\n",
    "# In a new terminal window, create a file called keys.py in this repo\n",
    "# Save the api key as tmdb_api_key = \"[key]\"\n",
    "\n",
    "from keys import tmdb_key\n",
    "\n",
    "tmdb_2 = tmdb_key\n",
    "\n",
    "# Then let's edit our .gitignore file together"
   ]
  },
  {
   "cell_type": "markdown",
   "metadata": {},
   "source": [
    "Just as important! You may want to call the variable you've set to check that the API key is rendering correctly - but **be sure to clear the output of that cell** or else the output will show your key! And then if you push to GitHub it'll push that output to the internet which defeats the whole point of saving your key elsewhere!"
   ]
  },
  {
   "cell_type": "markdown",
   "metadata": {},
   "source": [
    "### And now, accessing movie data\n",
    "\n",
    "Documentation: https://developers.themoviedb.org/3"
   ]
  },
  {
   "cell_type": "code",
   "execution_count": 70,
   "metadata": {},
   "outputs": [],
   "source": [
    "# Default URL given as an example... let's see what it is!\n",
    "\n",
    "example_url = f'https://api.themoviedb.org/3/movie/550?api_key={tmdb_1}'"
   ]
  },
  {
   "cell_type": "code",
   "execution_count": 73,
   "metadata": {},
   "outputs": [],
   "source": [
    "# Get the response\n",
    "\n",
    "r = requests.get(example_url).json()"
   ]
  },
  {
   "cell_type": "code",
   "execution_count": 74,
   "metadata": {},
   "outputs": [
    {
     "data": {
      "text/plain": [
       "{'adult': False,\n",
       " 'backdrop_path': '/rr7E0NoGKxvbkb89eR1GwfoYjpA.jpg',\n",
       " 'belongs_to_collection': None,\n",
       " 'budget': 63000000,\n",
       " 'genres': [{'id': 18, 'name': 'Drama'}],\n",
       " 'homepage': 'http://www.foxmovies.com/movies/fight-club',\n",
       " 'id': 550,\n",
       " 'imdb_id': 'tt0137523',\n",
       " 'original_language': 'en',\n",
       " 'original_title': 'Fight Club',\n",
       " 'overview': 'A ticking-time-bomb insomniac and a slippery soap salesman channel primal male aggression into a shocking new form of therapy. Their concept catches on, with underground \"fight clubs\" forming in every town, until an eccentric gets in the way and ignites an out-of-control spiral toward oblivion.',\n",
       " 'popularity': 66.627,\n",
       " 'poster_path': '/pB8BM7pdSp6B6Ih7QZ4DrQ3PmJK.jpg',\n",
       " 'production_companies': [{'id': 508,\n",
       "   'logo_path': '/7PzJdsLGlR7oW4J0J5Xcd0pHGRg.png',\n",
       "   'name': 'Regency Enterprises',\n",
       "   'origin_country': 'US'},\n",
       "  {'id': 711,\n",
       "   'logo_path': '/tEiIH5QesdheJmDAqQwvtN60727.png',\n",
       "   'name': 'Fox 2000 Pictures',\n",
       "   'origin_country': 'US'},\n",
       "  {'id': 20555,\n",
       "   'logo_path': '/hD8yEGUBlHOcfHYbujp71vD8gZp.png',\n",
       "   'name': 'Taurus Film',\n",
       "   'origin_country': 'DE'},\n",
       "  {'id': 54051,\n",
       "   'logo_path': None,\n",
       "   'name': 'Atman Entertainment',\n",
       "   'origin_country': ''},\n",
       "  {'id': 54052,\n",
       "   'logo_path': None,\n",
       "   'name': 'Knickerbocker Films',\n",
       "   'origin_country': 'US'},\n",
       "  {'id': 4700,\n",
       "   'logo_path': '/A32wmjrs9Psf4zw0uaixF0GXfxq.png',\n",
       "   'name': 'The Linson Company',\n",
       "   'origin_country': 'US'}],\n",
       " 'production_countries': [{'iso_3166_1': 'DE', 'name': 'Germany'},\n",
       "  {'iso_3166_1': 'US', 'name': 'United States of America'}],\n",
       " 'release_date': '1999-10-15',\n",
       " 'revenue': 100853753,\n",
       " 'runtime': 139,\n",
       " 'spoken_languages': [{'english_name': 'English',\n",
       "   'iso_639_1': 'en',\n",
       "   'name': 'English'}],\n",
       " 'status': 'Released',\n",
       " 'tagline': 'Mischief. Mayhem. Soap.',\n",
       " 'title': 'Fight Club',\n",
       " 'video': False,\n",
       " 'vote_average': 8.4,\n",
       " 'vote_count': 23606}"
      ]
     },
     "execution_count": 74,
     "metadata": {},
     "output_type": "execute_result"
    }
   ],
   "source": [
    "r"
   ]
  },
  {
   "cell_type": "code",
   "execution_count": 75,
   "metadata": {},
   "outputs": [
    {
     "data": {
      "text/plain": [
       "dict_keys(['adult', 'backdrop_path', 'belongs_to_collection', 'budget', 'genres', 'homepage', 'id', 'imdb_id', 'original_language', 'original_title', 'overview', 'popularity', 'poster_path', 'production_companies', 'production_countries', 'release_date', 'revenue', 'runtime', 'spoken_languages', 'status', 'tagline', 'title', 'video', 'vote_average', 'vote_count'])"
      ]
     },
     "execution_count": 75,
     "metadata": {},
     "output_type": "execute_result"
    }
   ],
   "source": [
    "# Check the keys\n",
    "r.keys()"
   ]
  },
  {
   "cell_type": "code",
   "execution_count": 76,
   "metadata": {},
   "outputs": [
    {
     "data": {
      "text/plain": [
       "550"
      ]
     },
     "execution_count": 76,
     "metadata": {},
     "output_type": "execute_result"
    }
   ],
   "source": [
    "example_id = r['id']\n",
    "example_id"
   ]
  },
  {
   "cell_type": "code",
   "execution_count": 77,
   "metadata": {},
   "outputs": [],
   "source": [
    "# Find similar movies to the previous id\n",
    "base_url = 'https://api.themoviedb.org/3/'\n",
    "\n",
    "similar_movie_url = f'{base_url}/movie/{example_id}/similar?api_key={tmdb_1}'"
   ]
  },
  {
   "cell_type": "code",
   "execution_count": 78,
   "metadata": {
    "scrolled": true
   },
   "outputs": [],
   "source": [
    "# Check out that response\n",
    "\n",
    "r = requests.get(similar_movie_url).json()"
   ]
  },
  {
   "cell_type": "code",
   "execution_count": 84,
   "metadata": {},
   "outputs": [
    {
     "data": {
      "text/plain": [
       "dict_keys(['page', 'results', 'total_pages', 'total_results'])"
      ]
     },
     "execution_count": 84,
     "metadata": {},
     "output_type": "execute_result"
    }
   ],
   "source": [
    "r.keys()"
   ]
  },
  {
   "cell_type": "code",
   "execution_count": 85,
   "metadata": {},
   "outputs": [
    {
     "data": {
      "text/plain": [
       "10000"
      ]
     },
     "execution_count": 85,
     "metadata": {},
     "output_type": "execute_result"
    }
   ],
   "source": [
    "# How many similar movies did it find?\n",
    "r['total_results']\n"
   ]
  },
  {
   "cell_type": "code",
   "execution_count": 86,
   "metadata": {},
   "outputs": [
    {
     "data": {
      "text/plain": [
       "20"
      ]
     },
     "execution_count": 86,
     "metadata": {},
     "output_type": "execute_result"
    }
   ],
   "source": [
    "# but is that the length of these results?\n",
    "len(r['results'])\n"
   ]
  },
  {
   "cell_type": "code",
   "execution_count": 87,
   "metadata": {
    "scrolled": true
   },
   "outputs": [
    {
     "data": {
      "text/plain": [
       "{'adult': False,\n",
       " 'backdrop_path': '/duC9QWccFMy8HNjDWgYeWcKoiw.jpg',\n",
       " 'genre_ids': [18, 10749, 10752],\n",
       " 'id': 22971,\n",
       " 'title': 'Dear John',\n",
       " 'original_language': 'en',\n",
       " 'original_title': 'Dear John',\n",
       " 'overview': \"While Sergeant John Tyree is home on two weeks leave from Germany, he meets Savannah after he dives into the ocean to retrieve Savannah's purse that had fallen off a pier. John eventually falls in love with Savannah, who promises to write to him until he returns from overseas.\",\n",
       " 'popularity': 23.897,\n",
       " 'poster_path': '/2lAPv2jQ5eh54l4EttA9wjDljED.jpg',\n",
       " 'release_date': '2010-02-04',\n",
       " 'video': False,\n",
       " 'vote_average': 6.852,\n",
       " 'vote_count': 3650}"
      ]
     },
     "execution_count": 87,
     "metadata": {},
     "output_type": "execute_result"
    }
   ],
   "source": [
    "# what's in here?\n",
    "\n",
    "r['results'][0]"
   ]
  },
  {
   "cell_type": "markdown",
   "metadata": {},
   "source": [
    "## Level Up - Another Way to Deal with APIs\n",
    "\n",
    "Check out [Postman](https://www.getpostman.com/)."
   ]
  },
  {
   "cell_type": "markdown",
   "metadata": {
    "slideshow": {
     "slide_type": "slide"
    }
   },
   "source": [
    "## Extra Credit - Further Practice\n",
    "\n",
    "There are many ways to access data through APIs! [Sodapy](https://github.com/xmunoz/sodapy) is the Python client for the Socrata Open Data API."
   ]
  },
  {
   "cell_type": "code",
   "execution_count": null,
   "metadata": {},
   "outputs": [],
   "source": [
    "# Install before running \n",
    "# !pip install sodapy"
   ]
  },
  {
   "cell_type": "markdown",
   "metadata": {
    "slideshow": {
     "slide_type": "-"
    }
   },
   "source": [
    "#### Tokenize yourself!\n",
    "\n",
    "https://dev.socrata.com/foundry/data.cityofnewyork.us/fhrw-4uyv\n",
    "\n",
    "Scroll down and click to sign up for an app token! No credit cards required!"
   ]
  },
  {
   "cell_type": "code",
   "execution_count": null,
   "metadata": {},
   "outputs": [],
   "source": [
    "token = '' # paste your token here \n",
    "\n",
    "from sodapy import Socrata\n",
    "\n",
    "# Unauthenticated client only works with public data sets. Note 'None'\n",
    "# in place of application token, and no username or password:\n",
    "client = Socrata(\"data.cityofnewyork.us\", token)\n",
    "\n",
    "# Example authenticated client (needed for non-public datasets):\n",
    "# client = Socrata(data.cityofnewyork.us,\n",
    "#                  MyAppToken,\n",
    "#                  userame=\"user@example.com\",\n",
    "#                  password=\"AFakePassword\")\n",
    "\n",
    "# First 2000 results, returned as JSON from API / converted to Python list of\n",
    "# dictionaries by sodapy.\n",
    "results = client.get(\"fhrw-4uyv\", incident_zip = '11004', limit=1000)"
   ]
  },
  {
   "cell_type": "code",
   "execution_count": null,
   "metadata": {
    "slideshow": {
     "slide_type": "-"
    }
   },
   "outputs": [],
   "source": [
    "type(results)"
   ]
  },
  {
   "cell_type": "code",
   "execution_count": null,
   "metadata": {
    "slideshow": {
     "slide_type": "-"
    }
   },
   "outputs": [],
   "source": [
    "len(results)"
   ]
  },
  {
   "cell_type": "code",
   "execution_count": null,
   "metadata": {
    "slideshow": {
     "slide_type": "-"
    }
   },
   "outputs": [],
   "source": [
    "results[0]"
   ]
  },
  {
   "cell_type": "code",
   "execution_count": null,
   "metadata": {
    "slideshow": {
     "slide_type": "-"
    }
   },
   "outputs": [],
   "source": [
    "df_soda = pd.DataFrame(results)\n",
    "\n",
    "print(len(df_soda))\n",
    "print(df_soda.columns)\n",
    "df_soda.head()"
   ]
  },
  {
   "cell_type": "markdown",
   "metadata": {
    "slideshow": {
     "slide_type": "slide"
    }
   },
   "source": [
    "## Even Further Practice\n",
    "\n",
    "https://github.com/toddmotto/public-apis\n",
    "\n",
    "Find a buddy, find a free api, get a key, and do a GET. Try to transform the response into a dataframe."
   ]
  },
  {
   "cell_type": "code",
   "execution_count": null,
   "metadata": {},
   "outputs": [],
   "source": []
  }
 ],
 "metadata": {
  "kernelspec": {
   "display_name": "Python 3",
   "language": "python",
   "name": "python3"
  },
  "language_info": {
   "codemirror_mode": {
    "name": "ipython",
    "version": 3
   },
   "file_extension": ".py",
   "mimetype": "text/x-python",
   "name": "python",
   "nbconvert_exporter": "python",
   "pygments_lexer": "ipython3",
   "version": "3.8.5"
  }
 },
 "nbformat": 4,
 "nbformat_minor": 2
}
